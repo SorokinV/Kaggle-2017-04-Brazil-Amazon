{
 "cells": [
  {
   "cell_type": "code",
   "execution_count": 1,
   "metadata": {
    "collapsed": true,
    "deletable": true,
    "editable": true
   },
   "outputs": [],
   "source": [
    "# Объединение данных JPG & TIF (2017-07-03)"
   ]
  },
  {
   "cell_type": "code",
   "execution_count": 2,
   "metadata": {
    "collapsed": false,
    "deletable": true,
    "editable": true
   },
   "outputs": [],
   "source": [
    "import sys,os,datetime\n",
    "import numpy as np\n",
    "import pandas as pd\n",
    "import matplotlib.pyplot as plt\n",
    "import sklearn.metrics as skm\n",
    "from __future__ import print_function"
   ]
  },
  {
   "cell_type": "code",
   "execution_count": 3,
   "metadata": {
    "collapsed": false,
    "deletable": true,
    "editable": true
   },
   "outputs": [
    {
     "name": "stdout",
     "output_type": "stream",
     "text": [
      "1.12.1\n",
      "0.19.2\n"
     ]
    }
   ],
   "source": [
    "print(np.__version__);\n",
    "print(pd.__version__);"
   ]
  },
  {
   "cell_type": "code",
   "execution_count": 4,
   "metadata": {
    "collapsed": false,
    "deletable": true,
    "editable": true
   },
   "outputs": [
    {
     "data": {
      "text/plain": [
       "'3.2.0'"
      ]
     },
     "execution_count": 4,
     "metadata": {},
     "output_type": "execute_result"
    }
   ],
   "source": [
    "import  cv2 as cv\n",
    "cv.__version__"
   ]
  },
  {
   "cell_type": "code",
   "execution_count": 5,
   "metadata": {
    "collapsed": false,
    "deletable": true,
    "editable": true
   },
   "outputs": [
    {
     "name": "stderr",
     "output_type": "stream",
     "text": [
      "/home/boba/anaconda2/envs/tensorflow-gpu/lib/python2.7/site-packages/sklearn/cross_validation.py:44: DeprecationWarning: This module was deprecated in version 0.18 in favor of the model_selection module into which all the refactored classes and functions are moved. Also note that the interface of the new CV iterators are different from that of this module. This module will be removed in 0.20.\n",
      "  \"This module will be removed in 0.20.\", DeprecationWarning)\n"
     ]
    }
   ],
   "source": [
    "import xgboost as xgb"
   ]
  },
  {
   "cell_type": "code",
   "execution_count": 6,
   "metadata": {
    "collapsed": false,
    "deletable": true,
    "editable": true
   },
   "outputs": [],
   "source": [
    "sys.path.append('../Python')\n",
    "from helper import paths_input, formImExt, formImHist\n",
    "from estimate import confusion_matrix, getConfusion, getRocAUC, getProb01, getProbX01, getTh, estimateResult"
   ]
  },
  {
   "cell_type": "code",
   "execution_count": null,
   "metadata": {
    "collapsed": false,
    "deletable": true,
    "editable": true
   },
   "outputs": [],
   "source": []
  },
  {
   "cell_type": "code",
   "execution_count": 7,
   "metadata": {
    "collapsed": false,
    "deletable": true,
    "editable": true
   },
   "outputs": [
    {
     "name": "stdout",
     "output_type": "stream",
     "text": [
      "../Work/Train ../Work/Test\n",
      "../Data/train_v2.csv ../Data/train-tif-v2 ../Data/train-jpg ../Data/test-tif-v2 ../Data/test-jpg-v2\n"
     ]
    }
   ],
   "source": [
    "binsData = 64\n",
    "\n",
    "trLabels,trDirTIF,trDirJPG,teDirTIF,teDirJPG = paths_input()\n",
    "trWork, teWork = '../Work/Train', '../Work/Test'\n",
    "print (trWork, teWork)\n",
    "print (trLabels,trDirTIF,trDirJPG,teDirTIF,teDirJPG)"
   ]
  },
  {
   "cell_type": "code",
   "execution_count": 9,
   "metadata": {
    "collapsed": true,
    "deletable": true,
    "editable": true
   },
   "outputs": [],
   "source": [
    "binsDataTIF = 64\n",
    "binsDataJPG = 64"
   ]
  },
  {
   "cell_type": "code",
   "execution_count": null,
   "metadata": {
    "collapsed": false,
    "deletable": true,
    "editable": true
   },
   "outputs": [],
   "source": []
  },
  {
   "cell_type": "code",
   "execution_count": 10,
   "metadata": {
    "collapsed": false,
    "deletable": true,
    "editable": true
   },
   "outputs": [
    {
     "data": {
      "text/html": [
       "<div>\n",
       "<table border=\"1\" class=\"dataframe\">\n",
       "  <thead>\n",
       "    <tr style=\"text-align: right;\">\n",
       "      <th></th>\n",
       "      <th>image_name</th>\n",
       "      <th>tags</th>\n",
       "    </tr>\n",
       "  </thead>\n",
       "  <tbody>\n",
       "    <tr>\n",
       "      <th>0</th>\n",
       "      <td>train_0</td>\n",
       "      <td>haze primary</td>\n",
       "    </tr>\n",
       "    <tr>\n",
       "      <th>1</th>\n",
       "      <td>train_1</td>\n",
       "      <td>agriculture clear primary water</td>\n",
       "    </tr>\n",
       "    <tr>\n",
       "      <th>2</th>\n",
       "      <td>train_2</td>\n",
       "      <td>clear primary</td>\n",
       "    </tr>\n",
       "    <tr>\n",
       "      <th>3</th>\n",
       "      <td>train_3</td>\n",
       "      <td>clear primary</td>\n",
       "    </tr>\n",
       "    <tr>\n",
       "      <th>4</th>\n",
       "      <td>train_4</td>\n",
       "      <td>agriculture clear habitation primary road</td>\n",
       "    </tr>\n",
       "  </tbody>\n",
       "</table>\n",
       "</div>"
      ],
      "text/plain": [
       "  image_name                                       tags\n",
       "0    train_0                               haze primary\n",
       "1    train_1            agriculture clear primary water\n",
       "2    train_2                              clear primary\n",
       "3    train_3                              clear primary\n",
       "4    train_4  agriculture clear habitation primary road"
      ]
     },
     "execution_count": 10,
     "metadata": {},
     "output_type": "execute_result"
    }
   ],
   "source": [
    "labels_df = pd.read_csv(trLabels)\n",
    "labels_df.head()"
   ]
  },
  {
   "cell_type": "code",
   "execution_count": 11,
   "metadata": {
    "collapsed": true,
    "deletable": true,
    "editable": true
   },
   "outputs": [],
   "source": [
    "# Build list with unique labels\n",
    "label_list = []\n",
    "for tag_str in labels_df.tags.values:\n",
    "    labels = tag_str.split(' ')\n",
    "    for label in labels:\n",
    "        if label not in label_list:\n",
    "            label_list.append(label)"
   ]
  },
  {
   "cell_type": "code",
   "execution_count": 12,
   "metadata": {
    "collapsed": false,
    "deletable": true,
    "editable": true
   },
   "outputs": [],
   "source": [
    "# Add features (0 or 1) for every label as dataframe field \n",
    "for label in label_list:\n",
    "    labels_df[label] = labels_df['tags'].apply(lambda x: 1 if label in x.split(' ') else 0)\n",
    "#labels_df.head()"
   ]
  },
  {
   "cell_type": "code",
   "execution_count": 13,
   "metadata": {
    "collapsed": false,
    "deletable": true,
    "editable": true
   },
   "outputs": [],
   "source": [
    "weather_labels = ['clear', 'partly_cloudy', 'haze', 'cloudy']\n",
    "land_labels = ['primary', 'agriculture', 'water', 'cultivation', 'habitation' ]\n",
    "rare_labels = [l for l in label_list if labels_df[label_list].sum()[l] < 2000]\n",
    "#rare_labels              "
   ]
  },
  {
   "cell_type": "code",
   "execution_count": null,
   "metadata": {
    "collapsed": false,
    "deletable": true,
    "editable": true
   },
   "outputs": [],
   "source": []
  },
  {
   "cell_type": "code",
   "execution_count": 15,
   "metadata": {
    "collapsed": false,
    "deletable": true,
    "editable": true
   },
   "outputs": [],
   "source": [
    "labels = label_list; #weather_labels;\n",
    "nameList =labels_df[labels_df[labels].sum(axis=1)>0].image_name.tolist(); len(nameList)\n",
    "labelList=labels_df[labels_df[labels].sum(axis=1)>0][labels].as_matrix();\n",
    "#labelList[:6,:]\n",
    "#labels_df.head()"
   ]
  },
  {
   "cell_type": "code",
   "execution_count": null,
   "metadata": {
    "collapsed": true,
    "deletable": true,
    "editable": true
   },
   "outputs": [],
   "source": []
  },
  {
   "cell_type": "code",
   "execution_count": 17,
   "metadata": {
    "collapsed": false,
    "deletable": true,
    "editable": true
   },
   "outputs": [
    {
     "data": {
      "text/plain": [
       "((40479, 384), (40479, 192))"
      ]
     },
     "execution_count": 17,
     "metadata": {},
     "output_type": "execute_result"
    }
   ],
   "source": [
    "# Данные для объединения от jpg\n",
    "##binsDataJPG2 = 64\n",
    "trX_TIF  = np.load('../Data-XGB/Datas/train-'+str(10000+binsDataTIF)+'.tif'+'-XX.npy')\n",
    "trX_JPG  = np.load('../Data-XGB/Datas/train-'+str(10000+binsDataJPG)+'.jpg'+'-XX.npy')\n",
    "##trX_JPG2 = np.load('../Work/train-data-XX'+str(binsDataJPG2)+'.jpg'+'.npy')\n",
    "trY      = np.load('../Data-XGB/Datas/train-'+str(10000+binsDataJPG)+'.jpg'+'-YY.npy')\n",
    "trX_TIF.shape, trX_JPG.shape"
   ]
  },
  {
   "cell_type": "code",
   "execution_count": null,
   "metadata": {
    "collapsed": false,
    "deletable": true,
    "editable": true
   },
   "outputs": [],
   "source": []
  },
  {
   "cell_type": "code",
   "execution_count": 18,
   "metadata": {
    "collapsed": false,
    "deletable": true,
    "editable": true
   },
   "outputs": [],
   "source": [
    "## Обрезка видимой части и использование только n, ndvi, ndwi\n",
    "##trX_TIF = trX_TIF[:,288:]"
   ]
  },
  {
   "cell_type": "code",
   "execution_count": 19,
   "metadata": {
    "collapsed": false,
    "deletable": true,
    "editable": true
   },
   "outputs": [],
   "source": [
    "##trX_TIF.shape, 290/3"
   ]
  },
  {
   "cell_type": "code",
   "execution_count": 20,
   "metadata": {
    "collapsed": false,
    "deletable": true,
    "editable": true
   },
   "outputs": [
    {
     "name": "stdout",
     "output_type": "stream",
     "text": [
      "(40479, 576) (40479, 384) (40479, 192) (40479, 17)\n"
     ]
    }
   ],
   "source": [
    "##trXX = np.hstack([trX_JPG,trX_JPG2,trX_TIF])\n",
    "trXX = np.hstack([trX_JPG,trX_TIF])\n",
    "trX  = trXX\n",
    "print (trX.shape,trX_TIF.shape,trX_JPG.shape,trY.shape)\n",
    "##del trXX,trX_JPG,trX_TIF,trX_JPG2\n",
    "del trXX,trX_JPG,trX_TIF"
   ]
  },
  {
   "cell_type": "code",
   "execution_count": null,
   "metadata": {
    "collapsed": false,
    "deletable": true,
    "editable": true
   },
   "outputs": [],
   "source": []
  },
  {
   "cell_type": "code",
   "execution_count": 22,
   "metadata": {
    "collapsed": false,
    "deletable": true,
    "editable": true
   },
   "outputs": [],
   "source": [
    "# Строим основные массивы\n",
    "dtrain = xgb.DMatrix(trX,label=trY[:,0])"
   ]
  },
  {
   "cell_type": "code",
   "execution_count": null,
   "metadata": {
    "collapsed": false,
    "deletable": true,
    "editable": true
   },
   "outputs": [],
   "source": []
  },
  {
   "cell_type": "code",
   "execution_count": 24,
   "metadata": {
    "collapsed": true,
    "deletable": true,
    "editable": true
   },
   "outputs": [],
   "source": [
    "# Построение списка bst - моделей\n",
    "def getListBST (param, trX, trY, nfold=3, early_stop=20) :\n",
    "    dtrain = xgb.DMatrix(trX,label=trY[:,0])\n",
    "    results, bstList = [], []\n",
    "    for i in range(trY.shape[1]) :\n",
    "        print ('Working: {}'.format(i))\n",
    "        dtrain.set_label(trY[:,i])\n",
    "        history = xgb.cv(param, dtrain, metrics=['auc'], \n",
    "                         verbose_eval=30, num_boost_round=5000, nfold=nfold, \n",
    "                         early_stopping_rounds=early_stop)\n",
    "        results.append(history)\n",
    "        rvalidCV, watchlistCV = {}, [(dtrain,'train')]\n",
    "        bst = xgb.train(param, dtrain, history['test-auc-mean'].argmax()+1, watchlistCV) \n",
    "        bstList.append(bst)\n",
    "    return(bstList)\n",
    "\n",
    "# Построение решения по dmatrix и bst списку\n",
    "def buildPredict (dData, bstList) :\n",
    "    trYP = []\n",
    "    for bstI in bstList :\n",
    "        trYP1 = bstI.predict(dData); trYP.append(trYP1)\n",
    "    trYP = np.array(trYP).T\n",
    "    #type(trYP),trYP.shape\n",
    "    return(trYP)\n",
    "\n",
    "# Построение решения по np.array (DataFrame?) и bst списку\n",
    "def buildPredictX (Data, bstList) :\n",
    "    dData = xgb.DMatrix(Data);\n",
    "    return (buildPredict(dData,bstList))"
   ]
  },
  {
   "cell_type": "code",
   "execution_count": 25,
   "metadata": {
    "collapsed": true,
    "deletable": true,
    "editable": true
   },
   "outputs": [],
   "source": [
    "param = {\n",
    "         'objective':'reg:logistic', \n",
    "         #'num_class':17,\n",
    "         #'eta':0.05, \n",
    "         #'max_depth':9, 'subsample':0.8, 'colsample_bytree':0.8, \n",
    "         #'metrics':'rmse'\n",
    "         'eval_metric':['auc','rmse']\n",
    "        }\n",
    "param['silent']=True"
   ]
  },
  {
   "cell_type": "code",
   "execution_count": null,
   "metadata": {
    "collapsed": true,
    "deletable": true,
    "editable": true
   },
   "outputs": [],
   "source": []
  },
  {
   "cell_type": "code",
   "execution_count": 26,
   "metadata": {
    "collapsed": false,
    "deletable": true,
    "editable": true
   },
   "outputs": [
    {
     "name": "stdout",
     "output_type": "stream",
     "text": [
      "2017-07-08 23:31:50.926085 Begin\n",
      "Working: 0\n",
      "[0]\ttrain-auc:0.941649+0.0006796\ttest-auc:0.927284+0.00841464\n",
      "[30]\ttrain-auc:0.99201+0.000404563\ttest-auc:0.963341+0.0016964\n",
      "[0]\ttrain-auc:0.939583\ttrain-rmse:0.378013\n",
      "[1]\ttrain-auc:0.957917\ttrain-rmse:0.299195\n",
      "[2]\ttrain-auc:0.963709\ttrain-rmse:0.248476\n",
      "[3]\ttrain-auc:0.965212\ttrain-rmse:0.216711\n",
      "[4]\ttrain-auc:0.968684\ttrain-rmse:0.19629\n",
      "[5]\ttrain-auc:0.970838\ttrain-rmse:0.18398\n",
      "[6]\ttrain-auc:0.971658\ttrain-rmse:0.176601\n",
      "[7]\ttrain-auc:0.97337\ttrain-rmse:0.171262\n",
      "[8]\ttrain-auc:0.975111\ttrain-rmse:0.167614\n",
      "[9]\ttrain-auc:0.975864\ttrain-rmse:0.165671\n",
      "[10]\ttrain-auc:0.977279\ttrain-rmse:0.164033\n",
      "[11]\ttrain-auc:0.97922\ttrain-rmse:0.161182\n",
      "[12]\ttrain-auc:0.980099\ttrain-rmse:0.1601\n",
      "[13]\ttrain-auc:0.981391\ttrain-rmse:0.158588\n",
      "[14]\ttrain-auc:0.982296\ttrain-rmse:0.157179\n",
      "[15]\ttrain-auc:0.983358\ttrain-rmse:0.155577\n",
      "[16]\ttrain-auc:0.983638\ttrain-rmse:0.154972\n",
      "[17]\ttrain-auc:0.984219\ttrain-rmse:0.154279\n",
      "[18]\ttrain-auc:0.984474\ttrain-rmse:0.153563\n",
      "[19]\ttrain-auc:0.984758\ttrain-rmse:0.153198\n",
      "[20]\ttrain-auc:0.985134\ttrain-rmse:0.152454\n",
      "[21]\ttrain-auc:0.985336\ttrain-rmse:0.151989\n",
      "[22]\ttrain-auc:0.985581\ttrain-rmse:0.15142\n",
      "[23]\ttrain-auc:0.985934\ttrain-rmse:0.150526\n",
      "[24]\ttrain-auc:0.986427\ttrain-rmse:0.149584\n",
      "[25]\ttrain-auc:0.987145\ttrain-rmse:0.147553\n",
      "[26]\ttrain-auc:0.987606\ttrain-rmse:0.145744\n",
      "[27]\ttrain-auc:0.987964\ttrain-rmse:0.144545\n",
      "Working: 1\n",
      "[0]\ttrain-auc:0.941527+0.00206656\ttest-auc:0.928209+0.00268933\n",
      "[30]\ttrain-auc:0.996345+0.000290273\ttest-auc:0.976029+0.00147546\n",
      "[60]\ttrain-auc:0.999282+0.00012151\ttest-auc:0.976616+0.00127917\n",
      "[0]\ttrain-auc:0.939896\ttrain-rmse:0.374393\n",
      "[1]\ttrain-auc:0.957902\ttrain-rmse:0.293274\n",
      "[2]\ttrain-auc:0.969126\ttrain-rmse:0.240099\n",
      "[3]\ttrain-auc:0.972015\ttrain-rmse:0.20556\n",
      "[4]\ttrain-auc:0.974868\ttrain-rmse:0.183306\n",
      "[5]\ttrain-auc:0.976987\ttrain-rmse:0.169212\n",
      "[6]\ttrain-auc:0.981929\ttrain-rmse:0.16004\n",
      "[7]\ttrain-auc:0.983151\ttrain-rmse:0.154042\n",
      "[8]\ttrain-auc:0.984612\ttrain-rmse:0.150202\n",
      "[9]\ttrain-auc:0.986159\ttrain-rmse:0.146851\n",
      "[10]\ttrain-auc:0.987445\ttrain-rmse:0.144662\n",
      "[11]\ttrain-auc:0.988538\ttrain-rmse:0.142318\n",
      "[12]\ttrain-auc:0.989427\ttrain-rmse:0.140487\n",
      "[13]\ttrain-auc:0.99005\ttrain-rmse:0.139287\n",
      "[14]\ttrain-auc:0.99054\ttrain-rmse:0.138146\n",
      "[15]\ttrain-auc:0.99082\ttrain-rmse:0.137205\n",
      "[16]\ttrain-auc:0.991244\ttrain-rmse:0.136238\n",
      "[17]\ttrain-auc:0.991573\ttrain-rmse:0.135207\n",
      "[18]\ttrain-auc:0.991926\ttrain-rmse:0.134264\n",
      "[19]\ttrain-auc:0.992221\ttrain-rmse:0.133334\n",
      "[20]\ttrain-auc:0.992336\ttrain-rmse:0.132896\n",
      "[21]\ttrain-auc:0.992411\ttrain-rmse:0.132615\n",
      "[22]\ttrain-auc:0.992653\ttrain-rmse:0.131353\n",
      "[23]\ttrain-auc:0.992895\ttrain-rmse:0.130298\n",
      "[24]\ttrain-auc:0.993166\ttrain-rmse:0.128951\n",
      "[25]\ttrain-auc:0.993473\ttrain-rmse:0.127401\n",
      "[26]\ttrain-auc:0.993875\ttrain-rmse:0.125653\n",
      "[27]\ttrain-auc:0.994137\ttrain-rmse:0.12424\n",
      "[28]\ttrain-auc:0.994217\ttrain-rmse:0.12377\n",
      "[29]\ttrain-auc:0.99482\ttrain-rmse:0.121359\n",
      "[30]\ttrain-auc:0.994973\ttrain-rmse:0.120582\n",
      "[31]\ttrain-auc:0.995062\ttrain-rmse:0.120191\n",
      "[32]\ttrain-auc:0.995157\ttrain-rmse:0.119644\n",
      "[33]\ttrain-auc:0.99531\ttrain-rmse:0.1189\n",
      "[34]\ttrain-auc:0.995366\ttrain-rmse:0.118558\n",
      "[35]\ttrain-auc:0.99566\ttrain-rmse:0.117151\n",
      "[36]\ttrain-auc:0.99582\ttrain-rmse:0.116083\n",
      "[37]\ttrain-auc:0.995904\ttrain-rmse:0.115478\n",
      "[38]\ttrain-auc:0.99599\ttrain-rmse:0.114866\n",
      "[39]\ttrain-auc:0.996092\ttrain-rmse:0.114307\n",
      "[40]\ttrain-auc:0.996179\ttrain-rmse:0.113858\n",
      "[41]\ttrain-auc:0.996293\ttrain-rmse:0.113229\n",
      "[42]\ttrain-auc:0.996493\ttrain-rmse:0.112079\n",
      "[43]\ttrain-auc:0.996582\ttrain-rmse:0.11171\n",
      "[44]\ttrain-auc:0.996741\ttrain-rmse:0.110541\n",
      "[45]\ttrain-auc:0.996792\ttrain-rmse:0.110077\n",
      "[46]\ttrain-auc:0.996864\ttrain-rmse:0.109558\n",
      "[47]\ttrain-auc:0.996977\ttrain-rmse:0.108578\n",
      "[48]\ttrain-auc:0.997045\ttrain-rmse:0.108027\n",
      "[49]\ttrain-auc:0.997126\ttrain-rmse:0.107321\n",
      "[50]\ttrain-auc:0.997194\ttrain-rmse:0.106992\n",
      "[51]\ttrain-auc:0.997257\ttrain-rmse:0.106454\n",
      "Working: 2\n",
      "[0]\ttrain-auc:0.905218+0.00190297\ttest-auc:0.88984+0.00177084\n",
      "[30]\ttrain-auc:0.974565+0.00108259\ttest-auc:0.931796+0.0019849\n",
      "[60]\ttrain-auc:0.987617+0.000863236\ttest-auc:0.933772+0.002857\n",
      "[90]\ttrain-auc:0.994228+0.000642836\ttest-auc:0.933913+0.0028596\n",
      "[120]\ttrain-auc:0.997808+0.000488349\ttest-auc:0.934459+0.00248441\n",
      "[150]\ttrain-auc:0.999128+0.000163696\ttest-auc:0.934462+0.00236215\n",
      "[0]\ttrain-auc:0.904738\ttrain-rmse:0.424326\n",
      "[1]\ttrain-auc:0.917704\ttrain-rmse:0.378616\n",
      "[2]\ttrain-auc:0.924354\ttrain-rmse:0.349832\n",
      "[3]\ttrain-auc:0.929596\ttrain-rmse:0.331296\n",
      "[4]\ttrain-auc:0.932713\ttrain-rmse:0.318868\n",
      "[5]\ttrain-auc:0.936409\ttrain-rmse:0.309766\n",
      "[6]\ttrain-auc:0.938394\ttrain-rmse:0.304126\n",
      "[7]\ttrain-auc:0.941175\ttrain-rmse:0.299062\n",
      "[8]\ttrain-auc:0.943921\ttrain-rmse:0.294416\n",
      "[9]\ttrain-auc:0.945422\ttrain-rmse:0.291531\n",
      "[10]\ttrain-auc:0.947238\ttrain-rmse:0.288488\n",
      "[11]\ttrain-auc:0.949264\ttrain-rmse:0.285385\n",
      "[12]\ttrain-auc:0.950887\ttrain-rmse:0.282665\n",
      "[13]\ttrain-auc:0.952421\ttrain-rmse:0.279943\n",
      "[14]\ttrain-auc:0.953531\ttrain-rmse:0.278196\n",
      "[15]\ttrain-auc:0.954247\ttrain-rmse:0.277223\n",
      "[16]\ttrain-auc:0.955526\ttrain-rmse:0.275197\n",
      "[17]\ttrain-auc:0.957294\ttrain-rmse:0.273061\n",
      "[18]\ttrain-auc:0.958376\ttrain-rmse:0.271245\n",
      "[19]\ttrain-auc:0.959459\ttrain-rmse:0.269389\n",
      "[20]\ttrain-auc:0.960461\ttrain-rmse:0.267464\n",
      "[21]\ttrain-auc:0.961595\ttrain-rmse:0.265347\n",
      "[22]\ttrain-auc:0.962366\ttrain-rmse:0.264087\n",
      "[23]\ttrain-auc:0.963152\ttrain-rmse:0.262843\n",
      "[24]\ttrain-auc:0.963517\ttrain-rmse:0.26233\n",
      "[25]\ttrain-auc:0.964272\ttrain-rmse:0.26103\n",
      "[26]\ttrain-auc:0.964856\ttrain-rmse:0.259958\n",
      "[27]\ttrain-auc:0.965702\ttrain-rmse:0.258494\n",
      "[28]\ttrain-auc:0.966225\ttrain-rmse:0.25764\n",
      "[29]\ttrain-auc:0.967099\ttrain-rmse:0.256094\n",
      "[30]\ttrain-auc:0.967673\ttrain-rmse:0.254871\n",
      "[31]\ttrain-auc:0.968147\ttrain-rmse:0.254281\n",
      "[32]\ttrain-auc:0.969129\ttrain-rmse:0.252457\n",
      "[33]\ttrain-auc:0.969403\ttrain-rmse:0.251911\n",
      "[34]\ttrain-auc:0.969992\ttrain-rmse:0.250658\n",
      "[35]\ttrain-auc:0.970291\ttrain-rmse:0.250013\n",
      "[36]\ttrain-auc:0.970643\ttrain-rmse:0.249313\n",
      "[37]\ttrain-auc:0.971394\ttrain-rmse:0.24774\n",
      "[38]\ttrain-auc:0.971979\ttrain-rmse:0.246539\n",
      "[39]\ttrain-auc:0.972877\ttrain-rmse:0.244421\n",
      "[40]\ttrain-auc:0.973364\ttrain-rmse:0.243404\n",
      "[41]\ttrain-auc:0.973571\ttrain-rmse:0.242947\n",
      "[42]\ttrain-auc:0.973965\ttrain-rmse:0.242061\n",
      "[43]\ttrain-auc:0.974404\ttrain-rmse:0.241091\n",
      "[44]\ttrain-auc:0.97476\ttrain-rmse:0.240545\n",
      "[45]\ttrain-auc:0.975431\ttrain-rmse:0.239134\n",
      "[46]\ttrain-auc:0.975629\ttrain-rmse:0.238679\n",
      "[47]\ttrain-auc:0.975808\ttrain-rmse:0.238277\n",
      "[48]\ttrain-auc:0.976238\ttrain-rmse:0.237318\n",
      "[49]\ttrain-auc:0.976539\ttrain-rmse:0.236557\n",
      "[50]\ttrain-auc:0.977099\ttrain-rmse:0.235321\n",
      "[51]\ttrain-auc:0.977608\ttrain-rmse:0.234329\n",
      "[52]\ttrain-auc:0.977773\ttrain-rmse:0.233898\n",
      "[53]\ttrain-auc:0.978164\ttrain-rmse:0.233225\n",
      "[54]\ttrain-auc:0.979012\ttrain-rmse:0.231462\n",
      "[55]\ttrain-auc:0.979657\ttrain-rmse:0.229686\n",
      "[56]\ttrain-auc:0.979969\ttrain-rmse:0.228799\n",
      "[57]\ttrain-auc:0.980228\ttrain-rmse:0.228292\n",
      "[58]\ttrain-auc:0.980414\ttrain-rmse:0.227837\n",
      "[59]\ttrain-auc:0.980668\ttrain-rmse:0.227166\n",
      "[60]\ttrain-auc:0.980812\ttrain-rmse:0.226727\n",
      "[61]\ttrain-auc:0.981159\ttrain-rmse:0.225727\n",
      "[62]\ttrain-auc:0.981356\ttrain-rmse:0.225181\n",
      "[63]\ttrain-auc:0.9818\ttrain-rmse:0.224275\n",
      "[64]\ttrain-auc:0.982049\ttrain-rmse:0.223485\n",
      "[65]\ttrain-auc:0.982157\ttrain-rmse:0.223158\n",
      "[66]\ttrain-auc:0.982339\ttrain-rmse:0.222678\n",
      "[67]\ttrain-auc:0.982516\ttrain-rmse:0.22222\n",
      "[68]\ttrain-auc:0.983028\ttrain-rmse:0.22094\n",
      "[69]\ttrain-auc:0.983227\ttrain-rmse:0.220297\n",
      "[70]\ttrain-auc:0.983552\ttrain-rmse:0.219751\n",
      "[71]\ttrain-auc:0.984039\ttrain-rmse:0.218273\n",
      "[72]\ttrain-auc:0.984473\ttrain-rmse:0.216799\n",
      "[73]\ttrain-auc:0.984962\ttrain-rmse:0.215417\n",
      "[74]\ttrain-auc:0.985471\ttrain-rmse:0.214051\n",
      "[75]\ttrain-auc:0.985586\ttrain-rmse:0.213728\n",
      "[76]\ttrain-auc:0.985925\ttrain-rmse:0.212547\n",
      "[77]\ttrain-auc:0.986058\ttrain-rmse:0.212086\n",
      "[78]\ttrain-auc:0.9865\ttrain-rmse:0.210757\n",
      "[79]\ttrain-auc:0.987002\ttrain-rmse:0.20905\n",
      "[80]\ttrain-auc:0.98735\ttrain-rmse:0.207671\n",
      "[81]\ttrain-auc:0.987439\ttrain-rmse:0.207354\n",
      "[82]\ttrain-auc:0.987495\ttrain-rmse:0.207158\n",
      "[83]\ttrain-auc:0.987569\ttrain-rmse:0.206891\n",
      "[84]\ttrain-auc:0.987638\ttrain-rmse:0.20666\n",
      "[85]\ttrain-auc:0.987852\ttrain-rmse:0.205829\n",
      "[86]\ttrain-auc:0.988109\ttrain-rmse:0.204725\n",
      "[87]\ttrain-auc:0.988422\ttrain-rmse:0.203534\n",
      "[88]\ttrain-auc:0.988723\ttrain-rmse:0.20231\n",
      "[89]\ttrain-auc:0.988797\ttrain-rmse:0.202017\n",
      "[90]\ttrain-auc:0.988886\ttrain-rmse:0.201637\n",
      "[91]\ttrain-auc:0.988991\ttrain-rmse:0.201351\n",
      "[92]\ttrain-auc:0.98915\ttrain-rmse:0.200694\n",
      "[93]\ttrain-auc:0.989595\ttrain-rmse:0.198932\n",
      "[94]\ttrain-auc:0.989726\ttrain-rmse:0.198508\n",
      "[95]\ttrain-auc:0.989774\ttrain-rmse:0.198351\n",
      "[96]\ttrain-auc:0.990105\ttrain-rmse:0.197024\n",
      "[97]\ttrain-auc:0.990195\ttrain-rmse:0.196476\n",
      "[98]\ttrain-auc:0.990466\ttrain-rmse:0.195205\n",
      "[99]\ttrain-auc:0.990657\ttrain-rmse:0.194457\n",
      "[100]\ttrain-auc:0.990844\ttrain-rmse:0.193514\n",
      "[101]\ttrain-auc:0.9909\ttrain-rmse:0.193251\n",
      "[102]\ttrain-auc:0.990957\ttrain-rmse:0.193008\n",
      "[103]\ttrain-auc:0.991102\ttrain-rmse:0.192519\n",
      "[104]\ttrain-auc:0.991201\ttrain-rmse:0.192048\n",
      "[105]\ttrain-auc:0.991368\ttrain-rmse:0.191449\n",
      "[106]\ttrain-auc:0.991424\ttrain-rmse:0.191154\n",
      "[107]\ttrain-auc:0.99153\ttrain-rmse:0.190705\n",
      "[108]\ttrain-auc:0.991593\ttrain-rmse:0.190424\n",
      "[109]\ttrain-auc:0.991745\ttrain-rmse:0.189753\n",
      "[110]\ttrain-auc:0.991838\ttrain-rmse:0.18931\n",
      "[111]\ttrain-auc:0.992044\ttrain-rmse:0.188368\n",
      "[112]\ttrain-auc:0.992167\ttrain-rmse:0.18764\n",
      "[113]\ttrain-auc:0.992218\ttrain-rmse:0.187358\n",
      "[114]\ttrain-auc:0.992292\ttrain-rmse:0.187055\n",
      "[115]\ttrain-auc:0.992422\ttrain-rmse:0.186604\n",
      "[116]\ttrain-auc:0.992453\ttrain-rmse:0.186356\n",
      "[117]\ttrain-auc:0.99248\ttrain-rmse:0.186181\n",
      "[118]\ttrain-auc:0.99255\ttrain-rmse:0.185761\n",
      "[119]\ttrain-auc:0.992612\ttrain-rmse:0.185435\n",
      "[120]\ttrain-auc:0.992656\ttrain-rmse:0.185191\n",
      "[121]\ttrain-auc:0.992772\ttrain-rmse:0.184747\n",
      "[122]\ttrain-auc:0.992974\ttrain-rmse:0.18363\n",
      "[123]\ttrain-auc:0.993092\ttrain-rmse:0.182979\n",
      "[124]\ttrain-auc:0.993425\ttrain-rmse:0.181357\n",
      "[125]\ttrain-auc:0.993564\ttrain-rmse:0.180604\n",
      "[126]\ttrain-auc:0.993621\ttrain-rmse:0.180263\n",
      "[127]\ttrain-auc:0.993826\ttrain-rmse:0.179439\n",
      "[128]\ttrain-auc:0.993925\ttrain-rmse:0.178998\n",
      "[129]\ttrain-auc:0.994168\ttrain-rmse:0.1777\n",
      "[130]\ttrain-auc:0.994345\ttrain-rmse:0.176526\n",
      "[131]\ttrain-auc:0.994436\ttrain-rmse:0.175912\n",
      "[132]\ttrain-auc:0.994603\ttrain-rmse:0.174863\n",
      "Working: 3\n",
      "[0]\ttrain-auc:0.955943+0.000799629\ttest-auc:0.948713+0.00237448\n",
      "[30]\ttrain-auc:0.993278+0.000367735\ttest-auc:0.976096+0.0010178\n",
      "[60]\ttrain-auc:0.997915+0.000151064\ttest-auc:0.977381+0.000993674\n",
      "[90]\ttrain-auc:0.999499+4.72605e-05\ttest-auc:0.97744+0.00106406\n",
      "[0]\ttrain-auc:0.955713\ttrain-rmse:0.399084\n",
      "[1]\ttrain-auc:0.962426\ttrain-rmse:0.336986\n",
      "[2]\ttrain-auc:0.966463\ttrain-rmse:0.298381\n",
      "[3]\ttrain-auc:0.971185\ttrain-rmse:0.27085\n",
      "[4]\ttrain-auc:0.97332\ttrain-rmse:0.252968\n",
      "[5]\ttrain-auc:0.975144\ttrain-rmse:0.241647\n",
      "[6]\ttrain-auc:0.976506\ttrain-rmse:0.233034\n",
      "[7]\ttrain-auc:0.977985\ttrain-rmse:0.225753\n",
      "[8]\ttrain-auc:0.979548\ttrain-rmse:0.220167\n",
      "[9]\ttrain-auc:0.980823\ttrain-rmse:0.215536\n",
      "[10]\ttrain-auc:0.982196\ttrain-rmse:0.210826\n",
      "[11]\ttrain-auc:0.982836\ttrain-rmse:0.208346\n",
      "[12]\ttrain-auc:0.983868\ttrain-rmse:0.205372\n",
      "[13]\ttrain-auc:0.984529\ttrain-rmse:0.202486\n",
      "[14]\ttrain-auc:0.985327\ttrain-rmse:0.19954\n",
      "[15]\ttrain-auc:0.985658\ttrain-rmse:0.198263\n",
      "[16]\ttrain-auc:0.986185\ttrain-rmse:0.196157\n",
      "[17]\ttrain-auc:0.98657\ttrain-rmse:0.194483\n",
      "[18]\ttrain-auc:0.98684\ttrain-rmse:0.193491\n",
      "[19]\ttrain-auc:0.987274\ttrain-rmse:0.191917\n",
      "[20]\ttrain-auc:0.987458\ttrain-rmse:0.191031\n",
      "[21]\ttrain-auc:0.988026\ttrain-rmse:0.189561\n",
      "[22]\ttrain-auc:0.988668\ttrain-rmse:0.187791\n",
      "[23]\ttrain-auc:0.988776\ttrain-rmse:0.18735\n",
      "[24]\ttrain-auc:0.989169\ttrain-rmse:0.185794\n",
      "[25]\ttrain-auc:0.989279\ttrain-rmse:0.185346\n",
      "[26]\ttrain-auc:0.989376\ttrain-rmse:0.184869\n",
      "[27]\ttrain-auc:0.990027\ttrain-rmse:0.182531\n",
      "[28]\ttrain-auc:0.990408\ttrain-rmse:0.180885\n",
      "[29]\ttrain-auc:0.990623\ttrain-rmse:0.17979\n",
      "[30]\ttrain-auc:0.990732\ttrain-rmse:0.179071\n",
      "[31]\ttrain-auc:0.990935\ttrain-rmse:0.178155\n",
      "[32]\ttrain-auc:0.991213\ttrain-rmse:0.176749\n",
      "[33]\ttrain-auc:0.991695\ttrain-rmse:0.174163\n",
      "[34]\ttrain-auc:0.991902\ttrain-rmse:0.173128\n",
      "[35]\ttrain-auc:0.992091\ttrain-rmse:0.172443\n",
      "[36]\ttrain-auc:0.99223\ttrain-rmse:0.171559\n",
      "[37]\ttrain-auc:0.992322\ttrain-rmse:0.171023\n",
      "[38]\ttrain-auc:0.992725\ttrain-rmse:0.169168\n",
      "[39]\ttrain-auc:0.99282\ttrain-rmse:0.168892\n",
      "[40]\ttrain-auc:0.992938\ttrain-rmse:0.168229\n",
      "[41]\ttrain-auc:0.993315\ttrain-rmse:0.16659\n",
      "[42]\ttrain-auc:0.99337\ttrain-rmse:0.166187\n",
      "[43]\ttrain-auc:0.993535\ttrain-rmse:0.164949\n",
      "[44]\ttrain-auc:0.993685\ttrain-rmse:0.164395\n",
      "[45]\ttrain-auc:0.993797\ttrain-rmse:0.163956\n",
      "[46]\ttrain-auc:0.994096\ttrain-rmse:0.162201\n",
      "[47]\ttrain-auc:0.994474\ttrain-rmse:0.160443\n",
      "[48]\ttrain-auc:0.994624\ttrain-rmse:0.159248\n",
      "[49]\ttrain-auc:0.994775\ttrain-rmse:0.15815\n",
      "[50]\ttrain-auc:0.99485\ttrain-rmse:0.157532\n",
      "[51]\ttrain-auc:0.995046\ttrain-rmse:0.155926\n",
      "[52]\ttrain-auc:0.995153\ttrain-rmse:0.155222\n",
      "[53]\ttrain-auc:0.995249\ttrain-rmse:0.154407\n",
      "[54]\ttrain-auc:0.995348\ttrain-rmse:0.153516\n",
      "[55]\ttrain-auc:0.995421\ttrain-rmse:0.152756\n",
      "[56]\ttrain-auc:0.995474\ttrain-rmse:0.152303\n",
      "[57]\ttrain-auc:0.995743\ttrain-rmse:0.150795\n",
      "[58]\ttrain-auc:0.995951\ttrain-rmse:0.14945\n",
      "[59]\ttrain-auc:0.996089\ttrain-rmse:0.148731\n",
      "[60]\ttrain-auc:0.996136\ttrain-rmse:0.148303\n",
      "[61]\ttrain-auc:0.996291\ttrain-rmse:0.147298\n",
      "[62]\ttrain-auc:0.996356\ttrain-rmse:0.146637\n",
      "[63]\ttrain-auc:0.996386\ttrain-rmse:0.146317\n",
      "[64]\ttrain-auc:0.996421\ttrain-rmse:0.145945\n",
      "[65]\ttrain-auc:0.996659\ttrain-rmse:0.14398\n",
      "[66]\ttrain-auc:0.996822\ttrain-rmse:0.142507\n",
      "[67]\ttrain-auc:0.996869\ttrain-rmse:0.141869\n",
      "[68]\ttrain-auc:0.996921\ttrain-rmse:0.141228\n",
      "[69]\ttrain-auc:0.996957\ttrain-rmse:0.140767\n",
      "[70]\ttrain-auc:0.997048\ttrain-rmse:0.140083\n",
      "[71]\ttrain-auc:0.997213\ttrain-rmse:0.138926\n",
      "[72]\ttrain-auc:0.997291\ttrain-rmse:0.138299\n",
      "[73]\ttrain-auc:0.997391\ttrain-rmse:0.137573\n",
      "[74]\ttrain-auc:0.997451\ttrain-rmse:0.137003\n",
      "[75]\ttrain-auc:0.997594\ttrain-rmse:0.13518\n",
      "[76]\ttrain-auc:0.997607\ttrain-rmse:0.135017\n",
      "[77]\ttrain-auc:0.997624\ttrain-rmse:0.134813\n",
      "[78]\ttrain-auc:0.997712\ttrain-rmse:0.133784\n",
      "[79]\ttrain-auc:0.997769\ttrain-rmse:0.133097\n",
      "[80]\ttrain-auc:0.997847\ttrain-rmse:0.132047\n",
      "[81]\ttrain-auc:0.997904\ttrain-rmse:0.131208\n",
      "[82]\ttrain-auc:0.997959\ttrain-rmse:0.130515\n",
      "[83]\ttrain-auc:0.997976\ttrain-rmse:0.130262\n",
      "[84]\ttrain-auc:0.998002\ttrain-rmse:0.129896\n",
      "[85]\ttrain-auc:0.99807\ttrain-rmse:0.129144\n",
      "[86]\ttrain-auc:0.998198\ttrain-rmse:0.127669\n",
      "[87]\ttrain-auc:0.998244\ttrain-rmse:0.126905\n",
      "[88]\ttrain-auc:0.998295\ttrain-rmse:0.126268\n",
      "[89]\ttrain-auc:0.998371\ttrain-rmse:0.125364\n",
      "[90]\ttrain-auc:0.998383\ttrain-rmse:0.125101\n",
      "[91]\ttrain-auc:0.998398\ttrain-rmse:0.124859\n",
      "[92]\ttrain-auc:0.998448\ttrain-rmse:0.124065\n",
      "[93]\ttrain-auc:0.998477\ttrain-rmse:0.123512\n",
      "[94]\ttrain-auc:0.998493\ttrain-rmse:0.123264\n",
      "[95]\ttrain-auc:0.998543\ttrain-rmse:0.122446\n",
      "Working: 4\n",
      "[0]\ttrain-auc:0.883518+0.004518\ttest-auc:0.871468+0.00276014\n",
      "[30]\ttrain-auc:0.970342+0.000920739\ttest-auc:0.912867+0.0030223\n",
      "[60]\ttrain-auc:0.986684+0.000818113\ttest-auc:0.912987+0.00279778\n",
      "[0]\ttrain-auc:0.887095\ttrain-rmse:0.407949\n",
      "[1]\ttrain-auc:0.898202\ttrain-rmse:0.352394\n",
      "[2]\ttrain-auc:0.905749\ttrain-rmse:0.318509\n",
      "[3]\ttrain-auc:0.909858\ttrain-rmse:0.297952\n",
      "[4]\ttrain-auc:0.915285\ttrain-rmse:0.284939\n",
      "[5]\ttrain-auc:0.918904\ttrain-rmse:0.27682\n",
      "[6]\ttrain-auc:0.922859\ttrain-rmse:0.270908\n",
      "[7]\ttrain-auc:0.926138\ttrain-rmse:0.266719\n",
      "[8]\ttrain-auc:0.929015\ttrain-rmse:0.263481\n",
      "[9]\ttrain-auc:0.931612\ttrain-rmse:0.260777\n",
      "[10]\ttrain-auc:0.935136\ttrain-rmse:0.257483\n",
      "[11]\ttrain-auc:0.938231\ttrain-rmse:0.254699\n",
      "[12]\ttrain-auc:0.940241\ttrain-rmse:0.252531\n",
      "[13]\ttrain-auc:0.94244\ttrain-rmse:0.250143\n",
      "[14]\ttrain-auc:0.944682\ttrain-rmse:0.248006\n",
      "[15]\ttrain-auc:0.945875\ttrain-rmse:0.246684\n",
      "[16]\ttrain-auc:0.947773\ttrain-rmse:0.244908\n",
      "[17]\ttrain-auc:0.94919\ttrain-rmse:0.243544\n",
      "[18]\ttrain-auc:0.950361\ttrain-rmse:0.242435\n",
      "[19]\ttrain-auc:0.952012\ttrain-rmse:0.240868\n",
      "[20]\ttrain-auc:0.953722\ttrain-rmse:0.239105\n",
      "[21]\ttrain-auc:0.95503\ttrain-rmse:0.23751\n",
      "[22]\ttrain-auc:0.955848\ttrain-rmse:0.236626\n",
      "[23]\ttrain-auc:0.956178\ttrain-rmse:0.236237\n",
      "[24]\ttrain-auc:0.956592\ttrain-rmse:0.235745\n",
      "[25]\ttrain-auc:0.957851\ttrain-rmse:0.234449\n",
      "[26]\ttrain-auc:0.959473\ttrain-rmse:0.232608\n",
      "[27]\ttrain-auc:0.960174\ttrain-rmse:0.231749\n",
      "[28]\ttrain-auc:0.961473\ttrain-rmse:0.230229\n",
      "[29]\ttrain-auc:0.962096\ttrain-rmse:0.229535\n",
      "[30]\ttrain-auc:0.96229\ttrain-rmse:0.229242\n",
      "[31]\ttrain-auc:0.963178\ttrain-rmse:0.228121\n",
      "[32]\ttrain-auc:0.963869\ttrain-rmse:0.227227\n",
      "[33]\ttrain-auc:0.964346\ttrain-rmse:0.226441\n",
      "[34]\ttrain-auc:0.965048\ttrain-rmse:0.225666\n",
      "[35]\ttrain-auc:0.96528\ttrain-rmse:0.225257\n",
      "[36]\ttrain-auc:0.966292\ttrain-rmse:0.223832\n",
      "[37]\ttrain-auc:0.967303\ttrain-rmse:0.222636\n",
      "[38]\ttrain-auc:0.967712\ttrain-rmse:0.221932\n",
      "[39]\ttrain-auc:0.968284\ttrain-rmse:0.220981\n",
      "[40]\ttrain-auc:0.968673\ttrain-rmse:0.220319\n",
      "[41]\ttrain-auc:0.968962\ttrain-rmse:0.220075\n",
      "[42]\ttrain-auc:0.969631\ttrain-rmse:0.219073\n",
      "[43]\ttrain-auc:0.970097\ttrain-rmse:0.218447\n",
      "[44]\ttrain-auc:0.970244\ttrain-rmse:0.218011\n",
      "[45]\ttrain-auc:0.97038\ttrain-rmse:0.217722\n",
      "[46]\ttrain-auc:0.970933\ttrain-rmse:0.216453\n",
      "[47]\ttrain-auc:0.971863\ttrain-rmse:0.215123\n",
      "[48]\ttrain-auc:0.972327\ttrain-rmse:0.21439\n",
      "[49]\ttrain-auc:0.972921\ttrain-rmse:0.213604\n",
      "Working: 5\n",
      "[0]\ttrain-auc:0.90562+0.000586925\ttest-auc:0.885687+0.00436106\n",
      "[30]\ttrain-auc:0.987461+0.000317872\ttest-auc:0.937159+0.00317624\n",
      "[60]\ttrain-auc:0.997579+0.000214682\ttest-auc:0.937338+0.0022301\n",
      "[0]\ttrain-auc:0.905068\ttrain-rmse:0.390513\n",
      "[1]\ttrain-auc:0.922413\ttrain-rmse:0.322238\n",
      "[2]\ttrain-auc:0.93359\ttrain-rmse:0.279368\n",
      "[3]\ttrain-auc:0.939124\ttrain-rmse:0.25187\n",
      "[4]\ttrain-auc:0.942643\ttrain-rmse:0.235173\n",
      "[5]\ttrain-auc:0.946606\ttrain-rmse:0.224111\n",
      "[6]\ttrain-auc:0.949113\ttrain-rmse:0.217753\n",
      "[7]\ttrain-auc:0.95212\ttrain-rmse:0.212575\n",
      "[8]\ttrain-auc:0.954529\ttrain-rmse:0.209456\n",
      "[9]\ttrain-auc:0.95755\ttrain-rmse:0.206341\n",
      "[10]\ttrain-auc:0.959036\ttrain-rmse:0.204311\n",
      "[11]\ttrain-auc:0.961262\ttrain-rmse:0.202391\n",
      "[12]\ttrain-auc:0.962807\ttrain-rmse:0.200226\n",
      "[13]\ttrain-auc:0.963996\ttrain-rmse:0.198952\n",
      "[14]\ttrain-auc:0.965413\ttrain-rmse:0.197194\n",
      "[15]\ttrain-auc:0.967037\ttrain-rmse:0.195797\n",
      "[16]\ttrain-auc:0.968773\ttrain-rmse:0.193455\n",
      "[17]\ttrain-auc:0.969637\ttrain-rmse:0.192374\n",
      "[18]\ttrain-auc:0.970773\ttrain-rmse:0.190537\n",
      "[19]\ttrain-auc:0.971975\ttrain-rmse:0.188691\n",
      "[20]\ttrain-auc:0.973553\ttrain-rmse:0.186675\n",
      "[21]\ttrain-auc:0.974462\ttrain-rmse:0.185413\n",
      "[22]\ttrain-auc:0.975058\ttrain-rmse:0.184671\n",
      "[23]\ttrain-auc:0.976597\ttrain-rmse:0.182246\n",
      "[24]\ttrain-auc:0.976942\ttrain-rmse:0.181714\n",
      "[25]\ttrain-auc:0.978102\ttrain-rmse:0.179596\n",
      "[26]\ttrain-auc:0.978889\ttrain-rmse:0.178161\n",
      "[27]\ttrain-auc:0.979568\ttrain-rmse:0.177016\n",
      "[28]\ttrain-auc:0.98033\ttrain-rmse:0.175577\n",
      "[29]\ttrain-auc:0.980986\ttrain-rmse:0.174321\n",
      "[30]\ttrain-auc:0.981395\ttrain-rmse:0.173406\n",
      "[31]\ttrain-auc:0.98184\ttrain-rmse:0.172628\n",
      "[32]\ttrain-auc:0.982286\ttrain-rmse:0.17185\n",
      "[33]\ttrain-auc:0.983128\ttrain-rmse:0.169793\n",
      "[34]\ttrain-auc:0.983863\ttrain-rmse:0.168354\n",
      "[35]\ttrain-auc:0.984718\ttrain-rmse:0.166361\n",
      "[36]\ttrain-auc:0.985105\ttrain-rmse:0.165588\n",
      "[37]\ttrain-auc:0.985586\ttrain-rmse:0.16442\n",
      "[38]\ttrain-auc:0.98638\ttrain-rmse:0.162714\n",
      "[39]\ttrain-auc:0.986656\ttrain-rmse:0.162122\n",
      "[40]\ttrain-auc:0.987666\ttrain-rmse:0.159859\n",
      "[41]\ttrain-auc:0.988502\ttrain-rmse:0.157606\n",
      "Working: 6\n",
      "[0]\ttrain-auc:0.895844+0.00128251\ttest-auc:0.877935+0.00257669\n",
      "[30]\ttrain-auc:0.968708+0.00194288\ttest-auc:0.915806+0.00159048\n",
      "[60]\ttrain-auc:0.986212+0.000737281\ttest-auc:0.91653+0.00150711\n",
      "[0]\ttrain-auc:0.892638\ttrain-rmse:0.417473\n",
      "[1]\ttrain-auc:0.905978\ttrain-rmse:0.368609\n",
      "[2]\ttrain-auc:0.913671\ttrain-rmse:0.33903\n",
      "[3]\ttrain-auc:0.917805\ttrain-rmse:0.320727\n",
      "[4]\ttrain-auc:0.922412\ttrain-rmse:0.308763\n",
      "[5]\ttrain-auc:0.925618\ttrain-rmse:0.300558\n",
      "[6]\ttrain-auc:0.92784\ttrain-rmse:0.295831\n",
      "[7]\ttrain-auc:0.930789\ttrain-rmse:0.290574\n",
      "[8]\ttrain-auc:0.933422\ttrain-rmse:0.286752\n",
      "[9]\ttrain-auc:0.935507\ttrain-rmse:0.283737\n",
      "[10]\ttrain-auc:0.937474\ttrain-rmse:0.281087\n",
      "[11]\ttrain-auc:0.939458\ttrain-rmse:0.278748\n",
      "[12]\ttrain-auc:0.940846\ttrain-rmse:0.277085\n",
      "[13]\ttrain-auc:0.942892\ttrain-rmse:0.27508\n",
      "[14]\ttrain-auc:0.945192\ttrain-rmse:0.272406\n",
      "[15]\ttrain-auc:0.946787\ttrain-rmse:0.270565\n",
      "[16]\ttrain-auc:0.948407\ttrain-rmse:0.268899\n",
      "[17]\ttrain-auc:0.949308\ttrain-rmse:0.267888\n",
      "[18]\ttrain-auc:0.950738\ttrain-rmse:0.266032\n",
      "[19]\ttrain-auc:0.951906\ttrain-rmse:0.264405\n",
      "[20]\ttrain-auc:0.953761\ttrain-rmse:0.261783\n",
      "[21]\ttrain-auc:0.954723\ttrain-rmse:0.26045\n",
      "[22]\ttrain-auc:0.95528\ttrain-rmse:0.259798\n",
      "[23]\ttrain-auc:0.956547\ttrain-rmse:0.258227\n",
      "[24]\ttrain-auc:0.957155\ttrain-rmse:0.257088\n",
      "[25]\ttrain-auc:0.957646\ttrain-rmse:0.256484\n",
      "[26]\ttrain-auc:0.958571\ttrain-rmse:0.255024\n",
      "[27]\ttrain-auc:0.959719\ttrain-rmse:0.253292\n",
      "[28]\ttrain-auc:0.960057\ttrain-rmse:0.252895\n",
      "[29]\ttrain-auc:0.96085\ttrain-rmse:0.251919\n",
      "[30]\ttrain-auc:0.961882\ttrain-rmse:0.250297\n",
      "[31]\ttrain-auc:0.96235\ttrain-rmse:0.249508\n",
      "[32]\ttrain-auc:0.963432\ttrain-rmse:0.247712\n",
      "[33]\ttrain-auc:0.964171\ttrain-rmse:0.246739\n",
      "[34]\ttrain-auc:0.964946\ttrain-rmse:0.245268\n",
      "[35]\ttrain-auc:0.966169\ttrain-rmse:0.243227\n",
      "[36]\ttrain-auc:0.966496\ttrain-rmse:0.242788\n",
      "[37]\ttrain-auc:0.966677\ttrain-rmse:0.24253\n",
      "[38]\ttrain-auc:0.967046\ttrain-rmse:0.241912\n",
      "[39]\ttrain-auc:0.967392\ttrain-rmse:0.241288\n",
      "[40]\ttrain-auc:0.967667\ttrain-rmse:0.240916\n",
      "[41]\ttrain-auc:0.968155\ttrain-rmse:0.240179\n",
      "[42]\ttrain-auc:0.96873\ttrain-rmse:0.239007\n",
      "[43]\ttrain-auc:0.969673\ttrain-rmse:0.237216\n",
      "[44]\ttrain-auc:0.970583\ttrain-rmse:0.235628\n",
      "[45]\ttrain-auc:0.971077\ttrain-rmse:0.234814\n",
      "[46]\ttrain-auc:0.971575\ttrain-rmse:0.233822\n",
      "[47]\ttrain-auc:0.972602\ttrain-rmse:0.23207\n",
      "[48]\ttrain-auc:0.973523\ttrain-rmse:0.230433\n",
      "[49]\ttrain-auc:0.97397\ttrain-rmse:0.229543\n",
      "Working: 7\n",
      "[0]\ttrain-auc:0.836345+0.0025647\ttest-auc:0.805407+0.00135395\n",
      "[30]\ttrain-auc:0.961509+0.00256726\ttest-auc:0.855223+0.00263786\n",
      "[60]\ttrain-auc:0.986581+0.00106331\ttest-auc:0.857599+0.00260958\n",
      "[90]\ttrain-auc:0.9962+0.000634233\ttest-auc:0.857319+0.00359451\n",
      "[0]\ttrain-auc:0.835123\ttrain-rmse:0.406088\n",
      "[1]\ttrain-auc:0.8524\ttrain-rmse:0.350526\n",
      "[2]\ttrain-auc:0.861108\ttrain-rmse:0.317741\n",
      "[3]\ttrain-auc:0.869166\ttrain-rmse:0.297889\n",
      "[4]\ttrain-auc:0.876154\ttrain-rmse:0.286489\n",
      "[5]\ttrain-auc:0.881639\ttrain-rmse:0.279278\n",
      "[6]\ttrain-auc:0.886468\ttrain-rmse:0.274433\n",
      "[7]\ttrain-auc:0.89199\ttrain-rmse:0.270742\n",
      "[8]\ttrain-auc:0.896444\ttrain-rmse:0.267354\n",
      "[9]\ttrain-auc:0.90033\ttrain-rmse:0.265013\n",
      "[10]\ttrain-auc:0.903501\ttrain-rmse:0.262926\n",
      "[11]\ttrain-auc:0.906199\ttrain-rmse:0.261142\n",
      "[12]\ttrain-auc:0.910339\ttrain-rmse:0.258974\n",
      "[13]\ttrain-auc:0.9133\ttrain-rmse:0.25721\n",
      "[14]\ttrain-auc:0.916339\ttrain-rmse:0.255329\n",
      "[15]\ttrain-auc:0.91915\ttrain-rmse:0.254092\n",
      "[16]\ttrain-auc:0.922415\ttrain-rmse:0.252018\n",
      "[17]\ttrain-auc:0.926257\ttrain-rmse:0.249706\n",
      "[18]\ttrain-auc:0.927947\ttrain-rmse:0.248486\n",
      "[19]\ttrain-auc:0.929932\ttrain-rmse:0.247341\n",
      "[20]\ttrain-auc:0.932373\ttrain-rmse:0.245915\n",
      "[21]\ttrain-auc:0.933609\ttrain-rmse:0.244786\n",
      "[22]\ttrain-auc:0.936948\ttrain-rmse:0.242537\n",
      "[23]\ttrain-auc:0.937986\ttrain-rmse:0.241809\n",
      "[24]\ttrain-auc:0.939224\ttrain-rmse:0.241089\n",
      "[25]\ttrain-auc:0.940938\ttrain-rmse:0.240053\n",
      "[26]\ttrain-auc:0.942598\ttrain-rmse:0.238778\n",
      "[27]\ttrain-auc:0.943091\ttrain-rmse:0.238323\n",
      "[28]\ttrain-auc:0.94458\ttrain-rmse:0.237525\n",
      "[29]\ttrain-auc:0.94588\ttrain-rmse:0.236833\n",
      "[30]\ttrain-auc:0.946969\ttrain-rmse:0.236029\n",
      "[31]\ttrain-auc:0.948349\ttrain-rmse:0.235134\n",
      "[32]\ttrain-auc:0.949537\ttrain-rmse:0.234075\n",
      "[33]\ttrain-auc:0.950297\ttrain-rmse:0.233472\n",
      "[34]\ttrain-auc:0.951888\ttrain-rmse:0.232042\n",
      "[35]\ttrain-auc:0.953425\ttrain-rmse:0.230126\n",
      "[36]\ttrain-auc:0.954612\ttrain-rmse:0.229007\n",
      "[37]\ttrain-auc:0.956005\ttrain-rmse:0.227687\n",
      "[38]\ttrain-auc:0.956295\ttrain-rmse:0.227408\n",
      "[39]\ttrain-auc:0.956903\ttrain-rmse:0.226534\n",
      "[40]\ttrain-auc:0.957743\ttrain-rmse:0.226103\n",
      "[41]\ttrain-auc:0.958217\ttrain-rmse:0.225726\n",
      "[42]\ttrain-auc:0.958746\ttrain-rmse:0.225242\n",
      "[43]\ttrain-auc:0.959148\ttrain-rmse:0.224976\n",
      "[44]\ttrain-auc:0.960019\ttrain-rmse:0.224418\n",
      "[45]\ttrain-auc:0.96154\ttrain-rmse:0.223159\n",
      "[46]\ttrain-auc:0.962502\ttrain-rmse:0.222037\n",
      "[47]\ttrain-auc:0.963792\ttrain-rmse:0.220907\n",
      "[48]\ttrain-auc:0.964117\ttrain-rmse:0.220558\n",
      "[49]\ttrain-auc:0.964536\ttrain-rmse:0.219894\n",
      "[50]\ttrain-auc:0.965299\ttrain-rmse:0.219077\n",
      "[51]\ttrain-auc:0.966393\ttrain-rmse:0.217554\n",
      "[52]\ttrain-auc:0.967516\ttrain-rmse:0.21647\n",
      "[53]\ttrain-auc:0.968214\ttrain-rmse:0.215714\n",
      "[54]\ttrain-auc:0.968574\ttrain-rmse:0.215327\n",
      "[55]\ttrain-auc:0.968983\ttrain-rmse:0.214756\n",
      "[56]\ttrain-auc:0.969308\ttrain-rmse:0.214272\n",
      "[57]\ttrain-auc:0.969534\ttrain-rmse:0.213991\n",
      "[58]\ttrain-auc:0.970197\ttrain-rmse:0.213269\n",
      "[59]\ttrain-auc:0.971382\ttrain-rmse:0.211673\n",
      "[60]\ttrain-auc:0.972474\ttrain-rmse:0.210292\n",
      "[61]\ttrain-auc:0.973364\ttrain-rmse:0.208912\n",
      "[62]\ttrain-auc:0.974415\ttrain-rmse:0.207728\n",
      "[63]\ttrain-auc:0.974994\ttrain-rmse:0.20696\n",
      "[64]\ttrain-auc:0.975183\ttrain-rmse:0.206656\n",
      "[65]\ttrain-auc:0.975317\ttrain-rmse:0.206459\n",
      "[66]\ttrain-auc:0.97608\ttrain-rmse:0.20497\n",
      "[67]\ttrain-auc:0.977044\ttrain-rmse:0.203562\n",
      "[68]\ttrain-auc:0.977775\ttrain-rmse:0.202119\n",
      "[69]\ttrain-auc:0.978847\ttrain-rmse:0.200711\n",
      "[70]\ttrain-auc:0.979626\ttrain-rmse:0.199554\n",
      "[71]\ttrain-auc:0.980493\ttrain-rmse:0.198152\n",
      "[72]\ttrain-auc:0.98133\ttrain-rmse:0.196655\n",
      "[73]\ttrain-auc:0.981934\ttrain-rmse:0.195549\n",
      "[74]\ttrain-auc:0.982041\ttrain-rmse:0.195292\n",
      "[75]\ttrain-auc:0.982222\ttrain-rmse:0.194885\n",
      "[76]\ttrain-auc:0.982422\ttrain-rmse:0.194557\n",
      "Working: 8\n",
      "[0]\ttrain-auc:0.5+0\ttest-auc:0.5+0\n",
      "[30]\ttrain-auc:0.9998+0.000163995\ttest-auc:0.89604+0.00403564\n",
      "[60]\ttrain-auc:1+0\ttest-auc:0.894952+0.00697942\n",
      "[0]\ttrain-auc:0.5\ttrain-rmse:0.357863\n",
      "[1]\ttrain-auc:0.805099\ttrain-rmse:0.263422\n",
      "[2]\ttrain-auc:0.867715\ttrain-rmse:0.197974\n",
      "[3]\ttrain-auc:0.889962\ttrain-rmse:0.152506\n",
      "[4]\ttrain-auc:0.907024\ttrain-rmse:0.121324\n",
      "[5]\ttrain-auc:0.924509\ttrain-rmse:0.10037\n",
      "[6]\ttrain-auc:0.923823\ttrain-rmse:0.086939\n",
      "[7]\ttrain-auc:0.931391\ttrain-rmse:0.078486\n",
      "[8]\ttrain-auc:0.934927\ttrain-rmse:0.073046\n",
      "[9]\ttrain-auc:0.94288\ttrain-rmse:0.069916\n",
      "[10]\ttrain-auc:0.960291\ttrain-rmse:0.067311\n",
      "[11]\ttrain-auc:0.971071\ttrain-rmse:0.066159\n",
      "[12]\ttrain-auc:0.975772\ttrain-rmse:0.065309\n",
      "[13]\ttrain-auc:0.976593\ttrain-rmse:0.064194\n",
      "[14]\ttrain-auc:0.983952\ttrain-rmse:0.062599\n",
      "[15]\ttrain-auc:0.986484\ttrain-rmse:0.061935\n",
      "[16]\ttrain-auc:0.989122\ttrain-rmse:0.061019\n",
      "[17]\ttrain-auc:0.989756\ttrain-rmse:0.060376\n",
      "[18]\ttrain-auc:0.990846\ttrain-rmse:0.059676\n",
      "[19]\ttrain-auc:0.993182\ttrain-rmse:0.057905\n",
      "[20]\ttrain-auc:0.993684\ttrain-rmse:0.057374\n",
      "[21]\ttrain-auc:0.994117\ttrain-rmse:0.056693\n",
      "[22]\ttrain-auc:0.995798\ttrain-rmse:0.055406\n",
      "[23]\ttrain-auc:0.996519\ttrain-rmse:0.054206\n",
      "[24]\ttrain-auc:0.997032\ttrain-rmse:0.053371\n",
      "[25]\ttrain-auc:0.997627\ttrain-rmse:0.051629\n",
      "[26]\ttrain-auc:0.998109\ttrain-rmse:0.050819\n",
      "[27]\ttrain-auc:0.998765\ttrain-rmse:0.048456\n",
      "[28]\ttrain-auc:0.99929\ttrain-rmse:0.046137\n",
      "[29]\ttrain-auc:0.999477\ttrain-rmse:0.044913\n",
      "[30]\ttrain-auc:0.999583\ttrain-rmse:0.043354\n",
      "[31]\ttrain-auc:0.999681\ttrain-rmse:0.042109\n",
      "[32]\ttrain-auc:0.999746\ttrain-rmse:0.041584\n",
      "[33]\ttrain-auc:0.999868\ttrain-rmse:0.039069\n",
      "[34]\ttrain-auc:0.999923\ttrain-rmse:0.03718\n",
      "[35]\ttrain-auc:0.999941\ttrain-rmse:0.036415\n",
      "[36]\ttrain-auc:0.999959\ttrain-rmse:0.035553\n",
      "[37]\ttrain-auc:0.99997\ttrain-rmse:0.034121\n",
      "[38]\ttrain-auc:0.999981\ttrain-rmse:0.03297\n",
      "[39]\ttrain-auc:0.999984\ttrain-rmse:0.032304\n",
      "[40]\ttrain-auc:0.999987\ttrain-rmse:0.031697\n",
      "[41]\ttrain-auc:0.999993\ttrain-rmse:0.0298\n",
      "[42]\ttrain-auc:0.999995\ttrain-rmse:0.028736\n",
      "Working: 9\n",
      "[0]\ttrain-auc:0.953742+0.00453226\ttest-auc:0.94049+0.00242312\n",
      "[30]\ttrain-auc:0.999004+0.000150294\ttest-auc:0.989246+0.00127609\n",
      "[60]\ttrain-auc:0.999912+3.07354e-05\ttest-auc:0.989908+0.00116608\n",
      "[90]\ttrain-auc:0.999998+1.63299e-06\ttest-auc:0.990238+0.00123734\n",
      "[120]\ttrain-auc:1+0\ttest-auc:0.990353+0.000983322\n",
      "[0]\ttrain-auc:0.956613\ttrain-rmse:0.367397\n",
      "[1]\ttrain-auc:0.973867\ttrain-rmse:0.281437\n",
      "[2]\ttrain-auc:0.979619\ttrain-rmse:0.223619\n",
      "[3]\ttrain-auc:0.982431\ttrain-rmse:0.183851\n",
      "[4]\ttrain-auc:0.983978\ttrain-rmse:0.157418\n",
      "[5]\ttrain-auc:0.988636\ttrain-rmse:0.139813\n",
      "[6]\ttrain-auc:0.9894\ttrain-rmse:0.128878\n",
      "[7]\ttrain-auc:0.992334\ttrain-rmse:0.12153\n",
      "[8]\ttrain-auc:0.992671\ttrain-rmse:0.116444\n",
      "[9]\ttrain-auc:0.993118\ttrain-rmse:0.113059\n",
      "[10]\ttrain-auc:0.99372\ttrain-rmse:0.110159\n",
      "[11]\ttrain-auc:0.994627\ttrain-rmse:0.108364\n",
      "[12]\ttrain-auc:0.995199\ttrain-rmse:0.107105\n",
      "[13]\ttrain-auc:0.99564\ttrain-rmse:0.105726\n",
      "[14]\ttrain-auc:0.995872\ttrain-rmse:0.104586\n",
      "[15]\ttrain-auc:0.996189\ttrain-rmse:0.103299\n",
      "[16]\ttrain-auc:0.996462\ttrain-rmse:0.102289\n",
      "[17]\ttrain-auc:0.996584\ttrain-rmse:0.101439\n",
      "[18]\ttrain-auc:0.996761\ttrain-rmse:0.100386\n",
      "[19]\ttrain-auc:0.996885\ttrain-rmse:0.099553\n",
      "[20]\ttrain-auc:0.996962\ttrain-rmse:0.099023\n",
      "[21]\ttrain-auc:0.997018\ttrain-rmse:0.098674\n",
      "[22]\ttrain-auc:0.997088\ttrain-rmse:0.098175\n",
      "[23]\ttrain-auc:0.997269\ttrain-rmse:0.096944\n",
      "[24]\ttrain-auc:0.997368\ttrain-rmse:0.096104\n",
      "[25]\ttrain-auc:0.997542\ttrain-rmse:0.094413\n",
      "[26]\ttrain-auc:0.997781\ttrain-rmse:0.092168\n",
      "[27]\ttrain-auc:0.997874\ttrain-rmse:0.091291\n",
      "[28]\ttrain-auc:0.997982\ttrain-rmse:0.090265\n",
      "[29]\ttrain-auc:0.998105\ttrain-rmse:0.089008\n",
      "[30]\ttrain-auc:0.998195\ttrain-rmse:0.08796\n",
      "[31]\ttrain-auc:0.998308\ttrain-rmse:0.086945\n",
      "[32]\ttrain-auc:0.998388\ttrain-rmse:0.086117\n",
      "[33]\ttrain-auc:0.998513\ttrain-rmse:0.084837\n",
      "[34]\ttrain-auc:0.998566\ttrain-rmse:0.084296\n",
      "[35]\ttrain-auc:0.998627\ttrain-rmse:0.083442\n",
      "[36]\ttrain-auc:0.998714\ttrain-rmse:0.082301\n",
      "[37]\ttrain-auc:0.998795\ttrain-rmse:0.081182\n",
      "[38]\ttrain-auc:0.99884\ttrain-rmse:0.080558\n",
      "[39]\ttrain-auc:0.998896\ttrain-rmse:0.0797\n",
      "[40]\ttrain-auc:0.998962\ttrain-rmse:0.078728\n",
      "[41]\ttrain-auc:0.998986\ttrain-rmse:0.07835\n",
      "[42]\ttrain-auc:0.999042\ttrain-rmse:0.077412\n",
      "[43]\ttrain-auc:0.999096\ttrain-rmse:0.076552\n",
      "[44]\ttrain-auc:0.999132\ttrain-rmse:0.0761\n",
      "[45]\ttrain-auc:0.999151\ttrain-rmse:0.07575\n",
      "[46]\ttrain-auc:0.999214\ttrain-rmse:0.074544\n",
      "[47]\ttrain-auc:0.999242\ttrain-rmse:0.073894\n",
      "[48]\ttrain-auc:0.999298\ttrain-rmse:0.072819\n",
      "[49]\ttrain-auc:0.999305\ttrain-rmse:0.0726\n",
      "[50]\ttrain-auc:0.99933\ttrain-rmse:0.072251\n",
      "[51]\ttrain-auc:0.999346\ttrain-rmse:0.071963\n",
      "[52]\ttrain-auc:0.99936\ttrain-rmse:0.071781\n",
      "[53]\ttrain-auc:0.999405\ttrain-rmse:0.070773\n",
      "[54]\ttrain-auc:0.999473\ttrain-rmse:0.06883\n",
      "[55]\ttrain-auc:0.999526\ttrain-rmse:0.067718\n",
      "[56]\ttrain-auc:0.999555\ttrain-rmse:0.06672\n",
      "[57]\ttrain-auc:0.999569\ttrain-rmse:0.066493\n",
      "[58]\ttrain-auc:0.999588\ttrain-rmse:0.066043\n",
      "[59]\ttrain-auc:0.999596\ttrain-rmse:0.065806\n",
      "[60]\ttrain-auc:0.999638\ttrain-rmse:0.064724\n",
      "[61]\ttrain-auc:0.999653\ttrain-rmse:0.06416\n",
      "[62]\ttrain-auc:0.999676\ttrain-rmse:0.063265\n",
      "[63]\ttrain-auc:0.999692\ttrain-rmse:0.062917\n",
      "[64]\ttrain-auc:0.999715\ttrain-rmse:0.062078\n",
      "[65]\ttrain-auc:0.999734\ttrain-rmse:0.061393\n",
      "[66]\ttrain-auc:0.999746\ttrain-rmse:0.061039\n",
      "[67]\ttrain-auc:0.999765\ttrain-rmse:0.060136\n",
      "[68]\ttrain-auc:0.999786\ttrain-rmse:0.059315\n",
      "[69]\ttrain-auc:0.999798\ttrain-rmse:0.058698\n",
      "[70]\ttrain-auc:0.999802\ttrain-rmse:0.058575\n",
      "[71]\ttrain-auc:0.999807\ttrain-rmse:0.058418\n",
      "[72]\ttrain-auc:0.999822\ttrain-rmse:0.057789\n",
      "[73]\ttrain-auc:0.999829\ttrain-rmse:0.057358\n",
      "[74]\ttrain-auc:0.999844\ttrain-rmse:0.056726\n",
      "[75]\ttrain-auc:0.999848\ttrain-rmse:0.056485\n",
      "[76]\ttrain-auc:0.999868\ttrain-rmse:0.055295\n",
      "[77]\ttrain-auc:0.999871\ttrain-rmse:0.055071\n",
      "[78]\ttrain-auc:0.999884\ttrain-rmse:0.054272\n",
      "[79]\ttrain-auc:0.999888\ttrain-rmse:0.053987\n",
      "[80]\ttrain-auc:0.999897\ttrain-rmse:0.053309\n",
      "[81]\ttrain-auc:0.999907\ttrain-rmse:0.052564\n",
      "[82]\ttrain-auc:0.999916\ttrain-rmse:0.051574\n",
      "[83]\ttrain-auc:0.999919\ttrain-rmse:0.05138\n",
      "[84]\ttrain-auc:0.999921\ttrain-rmse:0.051169\n",
      "[85]\ttrain-auc:0.999922\ttrain-rmse:0.05098\n",
      "[86]\ttrain-auc:0.999933\ttrain-rmse:0.050148\n",
      "[87]\ttrain-auc:0.999935\ttrain-rmse:0.049929\n",
      "[88]\ttrain-auc:0.99994\ttrain-rmse:0.049686\n",
      "[89]\ttrain-auc:0.99995\ttrain-rmse:0.048689\n",
      "[90]\ttrain-auc:0.999955\ttrain-rmse:0.048198\n",
      "[91]\ttrain-auc:0.999957\ttrain-rmse:0.048007\n",
      "[92]\ttrain-auc:0.999959\ttrain-rmse:0.047541\n",
      "[93]\ttrain-auc:0.999966\ttrain-rmse:0.046636\n",
      "[94]\ttrain-auc:0.99997\ttrain-rmse:0.046084\n",
      "[95]\ttrain-auc:0.999971\ttrain-rmse:0.045806\n",
      "[96]\ttrain-auc:0.999972\ttrain-rmse:0.045475\n",
      "[97]\ttrain-auc:0.999975\ttrain-rmse:0.045199\n",
      "[98]\ttrain-auc:0.999976\ttrain-rmse:0.044922\n",
      "[99]\ttrain-auc:0.999979\ttrain-rmse:0.044341\n",
      "[100]\ttrain-auc:0.999981\ttrain-rmse:0.043934\n",
      "[101]\ttrain-auc:0.999983\ttrain-rmse:0.043507\n",
      "[102]\ttrain-auc:0.999984\ttrain-rmse:0.043152\n",
      "[103]\ttrain-auc:0.999986\ttrain-rmse:0.042771\n",
      "[104]\ttrain-auc:0.999987\ttrain-rmse:0.042311\n",
      "[105]\ttrain-auc:0.999989\ttrain-rmse:0.041721\n",
      "[106]\ttrain-auc:0.99999\ttrain-rmse:0.041212\n",
      "[107]\ttrain-auc:0.999991\ttrain-rmse:0.040542\n",
      "[108]\ttrain-auc:0.999992\ttrain-rmse:0.040137\n",
      "[109]\ttrain-auc:0.999992\ttrain-rmse:0.039982\n",
      "[110]\ttrain-auc:0.999992\ttrain-rmse:0.039566\n",
      "[111]\ttrain-auc:0.999994\ttrain-rmse:0.038755\n",
      "[112]\ttrain-auc:0.999994\ttrain-rmse:0.038577\n",
      "[113]\ttrain-auc:0.999994\ttrain-rmse:0.038094\n",
      "[114]\ttrain-auc:0.999996\ttrain-rmse:0.037241\n",
      "[115]\ttrain-auc:0.999997\ttrain-rmse:0.036684\n",
      "[116]\ttrain-auc:0.999997\ttrain-rmse:0.036447\n",
      "[117]\ttrain-auc:0.999997\ttrain-rmse:0.036343\n",
      "[118]\ttrain-auc:0.999998\ttrain-rmse:0.0361\n",
      "Working: 10\n",
      "[0]\ttrain-auc:0.953542+0.00278796\ttest-auc:0.941919+0.00244712\n",
      "[30]\ttrain-auc:0.996944+0.000251979\ttest-auc:0.977912+0.000760522\n",
      "[60]\ttrain-auc:0.999625+0.000127317\ttest-auc:0.979304+0.000802694\n",
      "[90]\ttrain-auc:0.999973+1.37194e-05\ttest-auc:0.98007+0.000867144\n",
      "[120]\ttrain-auc:1+0\ttest-auc:0.980488+0.00113372\n",
      "[0]\ttrain-auc:0.954282\ttrain-rmse:0.390196\n",
      "[1]\ttrain-auc:0.965924\ttrain-rmse:0.321536\n",
      "[2]\ttrain-auc:0.971233\ttrain-rmse:0.275734\n",
      "[3]\ttrain-auc:0.974437\ttrain-rmse:0.245572\n",
      "[4]\ttrain-auc:0.977868\ttrain-rmse:0.224599\n",
      "[5]\ttrain-auc:0.980387\ttrain-rmse:0.211026\n",
      "[6]\ttrain-auc:0.981605\ttrain-rmse:0.201127\n",
      "[7]\ttrain-auc:0.98244\ttrain-rmse:0.195057\n",
      "[8]\ttrain-auc:0.983664\ttrain-rmse:0.189475\n",
      "[9]\ttrain-auc:0.984446\ttrain-rmse:0.185451\n",
      "[10]\ttrain-auc:0.985615\ttrain-rmse:0.180737\n",
      "[11]\ttrain-auc:0.986376\ttrain-rmse:0.178195\n",
      "[12]\ttrain-auc:0.987112\ttrain-rmse:0.174888\n",
      "[13]\ttrain-auc:0.98819\ttrain-rmse:0.172157\n",
      "[14]\ttrain-auc:0.988975\ttrain-rmse:0.169477\n",
      "[15]\ttrain-auc:0.989658\ttrain-rmse:0.16721\n",
      "[16]\ttrain-auc:0.990176\ttrain-rmse:0.164357\n",
      "[17]\ttrain-auc:0.990685\ttrain-rmse:0.162332\n",
      "[18]\ttrain-auc:0.991019\ttrain-rmse:0.161084\n",
      "[19]\ttrain-auc:0.99173\ttrain-rmse:0.158593\n",
      "[20]\ttrain-auc:0.991906\ttrain-rmse:0.157455\n",
      "[21]\ttrain-auc:0.992103\ttrain-rmse:0.156468\n",
      "[22]\ttrain-auc:0.992481\ttrain-rmse:0.154783\n",
      "[23]\ttrain-auc:0.992751\ttrain-rmse:0.153526\n",
      "[24]\ttrain-auc:0.993164\ttrain-rmse:0.151692\n",
      "[25]\ttrain-auc:0.993525\ttrain-rmse:0.150082\n",
      "[26]\ttrain-auc:0.993843\ttrain-rmse:0.148567\n",
      "[27]\ttrain-auc:0.993933\ttrain-rmse:0.148026\n",
      "[28]\ttrain-auc:0.994335\ttrain-rmse:0.145979\n",
      "[29]\ttrain-auc:0.994745\ttrain-rmse:0.143991\n",
      "[30]\ttrain-auc:0.994868\ttrain-rmse:0.143135\n",
      "[31]\ttrain-auc:0.995109\ttrain-rmse:0.141811\n",
      "[32]\ttrain-auc:0.995493\ttrain-rmse:0.139501\n",
      "[33]\ttrain-auc:0.995637\ttrain-rmse:0.138791\n",
      "[34]\ttrain-auc:0.995901\ttrain-rmse:0.137043\n",
      "[35]\ttrain-auc:0.995964\ttrain-rmse:0.136389\n",
      "[36]\ttrain-auc:0.99608\ttrain-rmse:0.135347\n",
      "[37]\ttrain-auc:0.996177\ttrain-rmse:0.134796\n",
      "[38]\ttrain-auc:0.996331\ttrain-rmse:0.133566\n",
      "[39]\ttrain-auc:0.996407\ttrain-rmse:0.133131\n",
      "[40]\ttrain-auc:0.996538\ttrain-rmse:0.131832\n",
      "[41]\ttrain-auc:0.996677\ttrain-rmse:0.13068\n",
      "[42]\ttrain-auc:0.996839\ttrain-rmse:0.129319\n",
      "[43]\ttrain-auc:0.996986\ttrain-rmse:0.128268\n",
      "[44]\ttrain-auc:0.997102\ttrain-rmse:0.127204\n",
      "[45]\ttrain-auc:0.997236\ttrain-rmse:0.125803\n",
      "[46]\ttrain-auc:0.997352\ttrain-rmse:0.124754\n",
      "[47]\ttrain-auc:0.997401\ttrain-rmse:0.124265\n",
      "[48]\ttrain-auc:0.997477\ttrain-rmse:0.123621\n",
      "[49]\ttrain-auc:0.997629\ttrain-rmse:0.122032\n",
      "[50]\ttrain-auc:0.997813\ttrain-rmse:0.120271\n",
      "[51]\ttrain-auc:0.997855\ttrain-rmse:0.11983\n",
      "[52]\ttrain-auc:0.997923\ttrain-rmse:0.118815\n",
      "[53]\ttrain-auc:0.998049\ttrain-rmse:0.117409\n",
      "[54]\ttrain-auc:0.998067\ttrain-rmse:0.11713\n",
      "[55]\ttrain-auc:0.998234\ttrain-rmse:0.115347\n",
      "[56]\ttrain-auc:0.998313\ttrain-rmse:0.114495\n",
      "[57]\ttrain-auc:0.998352\ttrain-rmse:0.114067\n",
      "[58]\ttrain-auc:0.998389\ttrain-rmse:0.113611\n",
      "[59]\ttrain-auc:0.998435\ttrain-rmse:0.11258\n",
      "[60]\ttrain-auc:0.998459\ttrain-rmse:0.112188\n",
      "[61]\ttrain-auc:0.998487\ttrain-rmse:0.11179\n",
      "[62]\ttrain-auc:0.998581\ttrain-rmse:0.11052\n",
      "[63]\ttrain-auc:0.998626\ttrain-rmse:0.109787\n",
      "[64]\ttrain-auc:0.998656\ttrain-rmse:0.109352\n",
      "[65]\ttrain-auc:0.99872\ttrain-rmse:0.108451\n",
      "[66]\ttrain-auc:0.998779\ttrain-rmse:0.107656\n",
      "[67]\ttrain-auc:0.998849\ttrain-rmse:0.106468\n",
      "[68]\ttrain-auc:0.998888\ttrain-rmse:0.105732\n",
      "[69]\ttrain-auc:0.998958\ttrain-rmse:0.104432\n",
      "[70]\ttrain-auc:0.998988\ttrain-rmse:0.103836\n",
      "[71]\ttrain-auc:0.998998\ttrain-rmse:0.103543\n",
      "[72]\ttrain-auc:0.999063\ttrain-rmse:0.102302\n",
      "[73]\ttrain-auc:0.999109\ttrain-rmse:0.101373\n",
      "[74]\ttrain-auc:0.999138\ttrain-rmse:0.100701\n",
      "[75]\ttrain-auc:0.999206\ttrain-rmse:0.099461\n",
      "[76]\ttrain-auc:0.999252\ttrain-rmse:0.09839\n",
      "[77]\ttrain-auc:0.999278\ttrain-rmse:0.097614\n",
      "[78]\ttrain-auc:0.999296\ttrain-rmse:0.097191\n",
      "[79]\ttrain-auc:0.99935\ttrain-rmse:0.095728\n",
      "[80]\ttrain-auc:0.999377\ttrain-rmse:0.094931\n",
      "[81]\ttrain-auc:0.999403\ttrain-rmse:0.09404\n",
      "[82]\ttrain-auc:0.99943\ttrain-rmse:0.093352\n",
      "[83]\ttrain-auc:0.999483\ttrain-rmse:0.091798\n",
      "[84]\ttrain-auc:0.999502\ttrain-rmse:0.09097\n",
      "[85]\ttrain-auc:0.999518\ttrain-rmse:0.09027\n",
      "[86]\ttrain-auc:0.999538\ttrain-rmse:0.089595\n",
      "[87]\ttrain-auc:0.999567\ttrain-rmse:0.088212\n",
      "[88]\ttrain-auc:0.999615\ttrain-rmse:0.086864\n",
      "[89]\ttrain-auc:0.999645\ttrain-rmse:0.085792\n",
      "[90]\ttrain-auc:0.999668\ttrain-rmse:0.084997\n",
      "[91]\ttrain-auc:0.999686\ttrain-rmse:0.084348\n",
      "[92]\ttrain-auc:0.999693\ttrain-rmse:0.084041\n",
      "[93]\ttrain-auc:0.999734\ttrain-rmse:0.082552\n",
      "[94]\ttrain-auc:0.999736\ttrain-rmse:0.082151\n",
      "[95]\ttrain-auc:0.999742\ttrain-rmse:0.081679\n",
      "[96]\ttrain-auc:0.999751\ttrain-rmse:0.081173\n",
      "[97]\ttrain-auc:0.999773\ttrain-rmse:0.079986\n",
      "[98]\ttrain-auc:0.999779\ttrain-rmse:0.079617\n",
      "[99]\ttrain-auc:0.999786\ttrain-rmse:0.07919\n",
      "[100]\ttrain-auc:0.999801\ttrain-rmse:0.078237\n",
      "[101]\ttrain-auc:0.999824\ttrain-rmse:0.07698\n",
      "[102]\ttrain-auc:0.999846\ttrain-rmse:0.075806\n",
      "[103]\ttrain-auc:0.999848\ttrain-rmse:0.075471\n",
      "[104]\ttrain-auc:0.999849\ttrain-rmse:0.075322\n",
      "[105]\ttrain-auc:0.999851\ttrain-rmse:0.075075\n",
      "[106]\ttrain-auc:0.999853\ttrain-rmse:0.074886\n",
      "[107]\ttrain-auc:0.99987\ttrain-rmse:0.073712\n",
      "[108]\ttrain-auc:0.999882\ttrain-rmse:0.072613\n",
      "[109]\ttrain-auc:0.999899\ttrain-rmse:0.07104\n",
      "[110]\ttrain-auc:0.999903\ttrain-rmse:0.07066\n",
      "[111]\ttrain-auc:0.999916\ttrain-rmse:0.069336\n",
      "[112]\ttrain-auc:0.999921\ttrain-rmse:0.068799\n",
      "[113]\ttrain-auc:0.999925\ttrain-rmse:0.068187\n",
      "[114]\ttrain-auc:0.999934\ttrain-rmse:0.066982\n",
      "[115]\ttrain-auc:0.999934\ttrain-rmse:0.066839\n",
      "[116]\ttrain-auc:0.999945\ttrain-rmse:0.065848\n",
      "[117]\ttrain-auc:0.999952\ttrain-rmse:0.064998\n",
      "[118]\ttrain-auc:0.999953\ttrain-rmse:0.064587\n",
      "[119]\ttrain-auc:0.999955\ttrain-rmse:0.064257\n",
      "[120]\ttrain-auc:0.999957\ttrain-rmse:0.063902\n",
      "[121]\ttrain-auc:0.999958\ttrain-rmse:0.063559\n",
      "[122]\ttrain-auc:0.99996\ttrain-rmse:0.063094\n",
      "Working: 11\n",
      "[0]\ttrain-auc:0.5+0\ttest-auc:0.5+0\n",
      "[30]\ttrain-auc:1+0\ttest-auc:0.965286+0.00615653\n",
      "[60]\ttrain-auc:1+0\ttest-auc:0.970481+0.00509379\n",
      "[0]\ttrain-auc:0.5\ttrain-rmse:0.356043\n",
      "[1]\ttrain-auc:0.841452\ttrain-rmse:0.259399\n",
      "[2]\ttrain-auc:0.882942\ttrain-rmse:0.191795\n",
      "[3]\ttrain-auc:0.893884\ttrain-rmse:0.143566\n",
      "[4]\ttrain-auc:0.897039\ttrain-rmse:0.108895\n",
      "[5]\ttrain-auc:0.899008\ttrain-rmse:0.084748\n",
      "[6]\ttrain-auc:0.905335\ttrain-rmse:0.067183\n",
      "[7]\ttrain-auc:0.905263\ttrain-rmse:0.055701\n",
      "[8]\ttrain-auc:0.906372\ttrain-rmse:0.04745\n",
      "[9]\ttrain-auc:0.968335\ttrain-rmse:0.042092\n",
      "[10]\ttrain-auc:0.974346\ttrain-rmse:0.038312\n",
      "[11]\ttrain-auc:0.982182\ttrain-rmse:0.035665\n",
      "[12]\ttrain-auc:0.984645\ttrain-rmse:0.033759\n",
      "[13]\ttrain-auc:0.998441\ttrain-rmse:0.032079\n",
      "[14]\ttrain-auc:0.999364\ttrain-rmse:0.03061\n",
      "[15]\ttrain-auc:0.99967\ttrain-rmse:0.029495\n",
      "[16]\ttrain-auc:0.999799\ttrain-rmse:0.028597\n",
      "[17]\ttrain-auc:0.999863\ttrain-rmse:0.027282\n",
      "[18]\ttrain-auc:0.999923\ttrain-rmse:0.026176\n",
      "[19]\ttrain-auc:0.999953\ttrain-rmse:0.024917\n",
      "[20]\ttrain-auc:0.999971\ttrain-rmse:0.023672\n",
      "[21]\ttrain-auc:0.999984\ttrain-rmse:0.022456\n",
      "[22]\ttrain-auc:0.999992\ttrain-rmse:0.021416\n",
      "[23]\ttrain-auc:0.999996\ttrain-rmse:0.019926\n",
      "[24]\ttrain-auc:0.999998\ttrain-rmse:0.018564\n",
      "[25]\ttrain-auc:0.999999\ttrain-rmse:0.017343\n",
      "[26]\ttrain-auc:1\ttrain-rmse:0.01618\n",
      "[27]\ttrain-auc:1\ttrain-rmse:0.015445\n",
      "[28]\ttrain-auc:1\ttrain-rmse:0.014287\n",
      "[29]\ttrain-auc:1\ttrain-rmse:0.013762\n",
      "[30]\ttrain-auc:1\ttrain-rmse:0.013067\n",
      "[31]\ttrain-auc:1\ttrain-rmse:0.011991\n",
      "[32]\ttrain-auc:1\ttrain-rmse:0.011289\n",
      "[33]\ttrain-auc:1\ttrain-rmse:0.010629\n",
      "[34]\ttrain-auc:1\ttrain-rmse:0.010014\n",
      "[35]\ttrain-auc:1\ttrain-rmse:0.009299\n",
      "[36]\ttrain-auc:1\ttrain-rmse:0.008647\n",
      "[37]\ttrain-auc:1\ttrain-rmse:0.00811\n",
      "[38]\ttrain-auc:1\ttrain-rmse:0.00765\n",
      "[39]\ttrain-auc:1\ttrain-rmse:0.007183\n",
      "[40]\ttrain-auc:1\ttrain-rmse:0.006867\n",
      "[41]\ttrain-auc:1\ttrain-rmse:0.006509\n",
      "[42]\ttrain-auc:1\ttrain-rmse:0.006175\n",
      "[43]\ttrain-auc:1\ttrain-rmse:0.005925\n",
      "[44]\ttrain-auc:1\ttrain-rmse:0.005609\n",
      "[45]\ttrain-auc:1\ttrain-rmse:0.005418\n",
      "[46]\ttrain-auc:1\ttrain-rmse:0.00528\n",
      "[47]\ttrain-auc:1\ttrain-rmse:0.005086\n",
      "[48]\ttrain-auc:1\ttrain-rmse:0.004907\n",
      "[49]\ttrain-auc:1\ttrain-rmse:0.004726\n",
      "[50]\ttrain-auc:1\ttrain-rmse:0.004513\n",
      "[51]\ttrain-auc:1\ttrain-rmse:0.004351\n",
      "[52]\ttrain-auc:1\ttrain-rmse:0.004155\n",
      "[53]\ttrain-auc:1\ttrain-rmse:0.004022\n",
      "[54]\ttrain-auc:1\ttrain-rmse:0.003891\n",
      "[55]\ttrain-auc:1\ttrain-rmse:0.003744\n",
      "[56]\ttrain-auc:1\ttrain-rmse:0.003623\n",
      "[57]\ttrain-auc:1\ttrain-rmse:0.003512\n",
      "[58]\ttrain-auc:1\ttrain-rmse:0.003416\n",
      "[59]\ttrain-auc:1\ttrain-rmse:0.003329\n",
      "[60]\ttrain-auc:1\ttrain-rmse:0.003238\n",
      "[61]\ttrain-auc:1\ttrain-rmse:0.003175\n",
      "[62]\ttrain-auc:1\ttrain-rmse:0.0031\n",
      "[63]\ttrain-auc:1\ttrain-rmse:0.003045\n",
      "[64]\ttrain-auc:1\ttrain-rmse:0.002977\n",
      "[65]\ttrain-auc:1\ttrain-rmse:0.002937\n",
      "[66]\ttrain-auc:1\ttrain-rmse:0.002893\n",
      "Working: 12\n",
      "[0]\ttrain-auc:0.779785+0.00601812\ttest-auc:0.743275+0.00648986\n",
      "[30]\ttrain-auc:0.996119+0.00100271\ttest-auc:0.877056+0.00170256\n",
      "[0]\ttrain-auc:0.838199\ttrain-rmse:0.366228\n",
      "[1]\ttrain-auc:0.848944\ttrain-rmse:0.279663\n",
      "[2]\ttrain-auc:0.865975\ttrain-rmse:0.221833\n",
      "[3]\ttrain-auc:0.881349\ttrain-rmse:0.183719\n",
      "[4]\ttrain-auc:0.884349\ttrain-rmse:0.1592\n",
      "[5]\ttrain-auc:0.90016\ttrain-rmse:0.143509\n",
      "[6]\ttrain-auc:0.913449\ttrain-rmse:0.133906\n",
      "[7]\ttrain-auc:0.922967\ttrain-rmse:0.12797\n",
      "[8]\ttrain-auc:0.931442\ttrain-rmse:0.124645\n",
      "[9]\ttrain-auc:0.93955\ttrain-rmse:0.121899\n",
      "[10]\ttrain-auc:0.943397\ttrain-rmse:0.120022\n",
      "[11]\ttrain-auc:0.948436\ttrain-rmse:0.119037\n",
      "[12]\ttrain-auc:0.951832\ttrain-rmse:0.118021\n",
      "[13]\ttrain-auc:0.955399\ttrain-rmse:0.116988\n",
      "[14]\ttrain-auc:0.95782\ttrain-rmse:0.115674\n",
      "[15]\ttrain-auc:0.960242\ttrain-rmse:0.115318\n",
      "[16]\ttrain-auc:0.963253\ttrain-rmse:0.113721\n",
      "[17]\ttrain-auc:0.964493\ttrain-rmse:0.113074\n",
      "[18]\ttrain-auc:0.968273\ttrain-rmse:0.111888\n",
      "[19]\ttrain-auc:0.973274\ttrain-rmse:0.110159\n",
      "[20]\ttrain-auc:0.975037\ttrain-rmse:0.10867\n",
      "[21]\ttrain-auc:0.977069\ttrain-rmse:0.107633\n",
      "[22]\ttrain-auc:0.977575\ttrain-rmse:0.107138\n",
      "[23]\ttrain-auc:0.980525\ttrain-rmse:0.106195\n",
      "[24]\ttrain-auc:0.983178\ttrain-rmse:0.104089\n",
      "[25]\ttrain-auc:0.983511\ttrain-rmse:0.103323\n",
      "[26]\ttrain-auc:0.985174\ttrain-rmse:0.102692\n",
      "[27]\ttrain-auc:0.985802\ttrain-rmse:0.10217\n",
      "[28]\ttrain-auc:0.987895\ttrain-rmse:0.10027\n",
      "[29]\ttrain-auc:0.988706\ttrain-rmse:0.099641\n",
      "[30]\ttrain-auc:0.989706\ttrain-rmse:0.098564\n",
      "[31]\ttrain-auc:0.990733\ttrain-rmse:0.097226\n",
      "[32]\ttrain-auc:0.990955\ttrain-rmse:0.097055\n",
      "[33]\ttrain-auc:0.992491\ttrain-rmse:0.095564\n",
      "[34]\ttrain-auc:0.99328\ttrain-rmse:0.094252\n",
      "[35]\ttrain-auc:0.994133\ttrain-rmse:0.092306\n",
      "[36]\ttrain-auc:0.994537\ttrain-rmse:0.091349\n",
      "[37]\ttrain-auc:0.994778\ttrain-rmse:0.090312\n",
      "[38]\ttrain-auc:0.994948\ttrain-rmse:0.089104\n",
      "[39]\ttrain-auc:0.995218\ttrain-rmse:0.088538\n",
      "[40]\ttrain-auc:0.995766\ttrain-rmse:0.086636\n",
      "Working: 13\n",
      "[0]\ttrain-auc:0.892148+0.00257162\ttest-auc:0.851558+0.0363002\n",
      "[30]\ttrain-auc:0.999997+3.09121e-06\ttest-auc:0.988324+0.00232567\n",
      "[60]\ttrain-auc:1+0\ttest-auc:0.989552+0.00268203\n",
      "[0]\ttrain-auc:0.892251\ttrain-rmse:0.357307\n",
      "[1]\ttrain-auc:0.967893\ttrain-rmse:0.261549\n",
      "[2]\ttrain-auc:0.969046\ttrain-rmse:0.194421\n",
      "[3]\ttrain-auc:0.975207\ttrain-rmse:0.14655\n",
      "[4]\ttrain-auc:0.978429\ttrain-rmse:0.112567\n",
      "[5]\ttrain-auc:0.991478\ttrain-rmse:0.088343\n",
      "[6]\ttrain-auc:0.992015\ttrain-rmse:0.071333\n",
      "[7]\ttrain-auc:0.993257\ttrain-rmse:0.059517\n",
      "[8]\ttrain-auc:0.993844\ttrain-rmse:0.051746\n",
      "[9]\ttrain-auc:0.994016\ttrain-rmse:0.045926\n",
      "[10]\ttrain-auc:0.994086\ttrain-rmse:0.041853\n",
      "[11]\ttrain-auc:0.995916\ttrain-rmse:0.038481\n",
      "[12]\ttrain-auc:0.996448\ttrain-rmse:0.036299\n",
      "[13]\ttrain-auc:0.997463\ttrain-rmse:0.033979\n",
      "[14]\ttrain-auc:0.997699\ttrain-rmse:0.03259\n",
      "[15]\ttrain-auc:0.997791\ttrain-rmse:0.03148\n",
      "[16]\ttrain-auc:0.997763\ttrain-rmse:0.030299\n",
      "[17]\ttrain-auc:0.997778\ttrain-rmse:0.028468\n",
      "[18]\ttrain-auc:0.997766\ttrain-rmse:0.027521\n",
      "[19]\ttrain-auc:0.999329\ttrain-rmse:0.02616\n",
      "[20]\ttrain-auc:0.999436\ttrain-rmse:0.025104\n",
      "[21]\ttrain-auc:0.999696\ttrain-rmse:0.024278\n",
      "[22]\ttrain-auc:0.999743\ttrain-rmse:0.023457\n",
      "[23]\ttrain-auc:0.999842\ttrain-rmse:0.022791\n",
      "[24]\ttrain-auc:0.999899\ttrain-rmse:0.021782\n",
      "[25]\ttrain-auc:0.999915\ttrain-rmse:0.020736\n",
      "[26]\ttrain-auc:0.999946\ttrain-rmse:0.020233\n",
      "[27]\ttrain-auc:0.999959\ttrain-rmse:0.019195\n",
      "[28]\ttrain-auc:0.999972\ttrain-rmse:0.018451\n",
      "[29]\ttrain-auc:0.999981\ttrain-rmse:0.017317\n",
      "[30]\ttrain-auc:0.999986\ttrain-rmse:0.016382\n",
      "[31]\ttrain-auc:0.99999\ttrain-rmse:0.015345\n",
      "[32]\ttrain-auc:0.999992\ttrain-rmse:0.01488\n",
      "[33]\ttrain-auc:0.999995\ttrain-rmse:0.013896\n",
      "[34]\ttrain-auc:0.999996\ttrain-rmse:0.013044\n",
      "[35]\ttrain-auc:0.999997\ttrain-rmse:0.012321\n",
      "[36]\ttrain-auc:0.999998\ttrain-rmse:0.011775\n",
      "[37]\ttrain-auc:0.999999\ttrain-rmse:0.011\n",
      "[38]\ttrain-auc:0.999999\ttrain-rmse:0.010689\n",
      "[39]\ttrain-auc:1\ttrain-rmse:0.009994\n",
      "[40]\ttrain-auc:1\ttrain-rmse:0.009505\n",
      "[41]\ttrain-auc:1\ttrain-rmse:0.008965\n",
      "[42]\ttrain-auc:1\ttrain-rmse:0.008472\n",
      "[43]\ttrain-auc:1\ttrain-rmse:0.008202\n",
      "Working: 14\n",
      "[0]\ttrain-auc:0.674989+0.0761965\ttest-auc:0.62337+0.069278\n",
      "[30]\ttrain-auc:0.998555+0.000469692\ttest-auc:0.887002+0.0168921\n",
      "[60]\ttrain-auc:1+4.71405e-07\ttest-auc:0.890159+0.0161051\n",
      "[0]\ttrain-auc:0.711754\ttrain-rmse:0.359489\n",
      "[1]\ttrain-auc:0.856241\ttrain-rmse:0.266598\n",
      "[2]\ttrain-auc:0.867631\ttrain-rmse:0.202894\n",
      "[3]\ttrain-auc:0.885153\ttrain-rmse:0.159333\n",
      "[4]\ttrain-auc:0.89386\ttrain-rmse:0.130045\n",
      "[5]\ttrain-auc:0.896114\ttrain-rmse:0.111023\n",
      "[6]\ttrain-auc:0.90681\ttrain-rmse:0.098751\n",
      "[7]\ttrain-auc:0.917361\ttrain-rmse:0.091364\n",
      "[8]\ttrain-auc:0.928563\ttrain-rmse:0.086949\n",
      "[9]\ttrain-auc:0.933164\ttrain-rmse:0.084201\n",
      "[10]\ttrain-auc:0.936784\ttrain-rmse:0.082248\n",
      "[11]\ttrain-auc:0.950849\ttrain-rmse:0.080638\n",
      "[12]\ttrain-auc:0.958635\ttrain-rmse:0.079806\n",
      "[13]\ttrain-auc:0.964916\ttrain-rmse:0.078676\n",
      "[14]\ttrain-auc:0.968694\ttrain-rmse:0.077925\n",
      "[15]\ttrain-auc:0.971686\ttrain-rmse:0.077417\n",
      "[16]\ttrain-auc:0.976981\ttrain-rmse:0.076417\n",
      "[17]\ttrain-auc:0.978173\ttrain-rmse:0.076111\n",
      "[18]\ttrain-auc:0.978991\ttrain-rmse:0.075431\n",
      "[19]\ttrain-auc:0.981065\ttrain-rmse:0.074577\n",
      "[20]\ttrain-auc:0.983081\ttrain-rmse:0.073854\n",
      "[21]\ttrain-auc:0.984731\ttrain-rmse:0.073173\n",
      "[22]\ttrain-auc:0.985269\ttrain-rmse:0.072992\n",
      "[23]\ttrain-auc:0.986512\ttrain-rmse:0.072186\n",
      "[24]\ttrain-auc:0.988625\ttrain-rmse:0.071104\n",
      "[25]\ttrain-auc:0.989715\ttrain-rmse:0.070159\n",
      "[26]\ttrain-auc:0.990211\ttrain-rmse:0.069718\n",
      "[27]\ttrain-auc:0.992256\ttrain-rmse:0.068202\n",
      "[28]\ttrain-auc:0.993653\ttrain-rmse:0.066854\n",
      "[29]\ttrain-auc:0.994426\ttrain-rmse:0.065846\n",
      "[30]\ttrain-auc:0.994879\ttrain-rmse:0.06528\n",
      "[31]\ttrain-auc:0.995265\ttrain-rmse:0.064288\n",
      "[32]\ttrain-auc:0.996737\ttrain-rmse:0.062643\n",
      "[33]\ttrain-auc:0.997538\ttrain-rmse:0.061275\n",
      "[34]\ttrain-auc:0.997761\ttrain-rmse:0.060685\n",
      "[35]\ttrain-auc:0.997942\ttrain-rmse:0.060243\n",
      "[36]\ttrain-auc:0.998265\ttrain-rmse:0.05912\n",
      "[37]\ttrain-auc:0.998655\ttrain-rmse:0.057325\n",
      "[38]\ttrain-auc:0.998807\ttrain-rmse:0.056393\n",
      "[39]\ttrain-auc:0.998892\ttrain-rmse:0.056026\n",
      "[40]\ttrain-auc:0.998906\ttrain-rmse:0.055817\n",
      "[41]\ttrain-auc:0.999036\ttrain-rmse:0.054986\n",
      "[42]\ttrain-auc:0.999353\ttrain-rmse:0.052702\n",
      "[43]\ttrain-auc:0.999386\ttrain-rmse:0.052259\n",
      "[44]\ttrain-auc:0.999442\ttrain-rmse:0.05167\n",
      "[45]\ttrain-auc:0.999482\ttrain-rmse:0.050969\n",
      "[46]\ttrain-auc:0.999553\ttrain-rmse:0.050136\n",
      "[47]\ttrain-auc:0.999605\ttrain-rmse:0.049496\n",
      "Working: 15\n",
      "[0]\ttrain-auc:0.640425+0.107381\ttest-auc:0.610392+0.0861648\n",
      "[30]\ttrain-auc:0.999201+0.000286808\ttest-auc:0.881852+0.0138722\n",
      "[0]\ttrain-auc:0.675214\ttrain-rmse:0.359844\n",
      "[1]\ttrain-auc:0.822833\ttrain-rmse:0.266934\n",
      "[2]\ttrain-auc:0.87177\ttrain-rmse:0.203052\n",
      "[3]\ttrain-auc:0.893356\ttrain-rmse:0.159535\n",
      "[4]\ttrain-auc:0.900914\ttrain-rmse:0.130059\n",
      "[5]\ttrain-auc:0.915203\ttrain-rmse:0.110953\n",
      "[6]\ttrain-auc:0.919533\ttrain-rmse:0.098983\n",
      "[7]\ttrain-auc:0.926971\ttrain-rmse:0.091741\n",
      "[8]\ttrain-auc:0.938234\ttrain-rmse:0.08748\n",
      "[9]\ttrain-auc:0.948168\ttrain-rmse:0.084724\n",
      "[10]\ttrain-auc:0.954791\ttrain-rmse:0.082955\n",
      "[11]\ttrain-auc:0.962842\ttrain-rmse:0.081613\n",
      "[12]\ttrain-auc:0.970086\ttrain-rmse:0.080805\n",
      "[13]\ttrain-auc:0.972843\ttrain-rmse:0.080026\n",
      "[14]\ttrain-auc:0.975245\ttrain-rmse:0.07908\n",
      "[15]\ttrain-auc:0.979726\ttrain-rmse:0.078105\n",
      "[16]\ttrain-auc:0.982763\ttrain-rmse:0.077175\n",
      "[17]\ttrain-auc:0.984126\ttrain-rmse:0.077017\n",
      "[18]\ttrain-auc:0.985818\ttrain-rmse:0.076433\n",
      "[19]\ttrain-auc:0.98708\ttrain-rmse:0.075584\n",
      "[20]\ttrain-auc:0.987831\ttrain-rmse:0.074877\n",
      "[21]\ttrain-auc:0.989315\ttrain-rmse:0.073841\n",
      "[22]\ttrain-auc:0.989799\ttrain-rmse:0.073504\n",
      "[23]\ttrain-auc:0.991007\ttrain-rmse:0.072434\n",
      "[24]\ttrain-auc:0.991606\ttrain-rmse:0.072007\n",
      "[25]\ttrain-auc:0.992419\ttrain-rmse:0.071292\n",
      "[26]\ttrain-auc:0.992976\ttrain-rmse:0.070368\n",
      "[27]\ttrain-auc:0.993522\ttrain-rmse:0.069962\n",
      "[28]\ttrain-auc:0.99555\ttrain-rmse:0.06824\n",
      "[29]\ttrain-auc:0.995709\ttrain-rmse:0.067912\n",
      "[30]\ttrain-auc:0.996129\ttrain-rmse:0.066647\n",
      "Working: 16\n",
      "[0]\ttrain-auc:0.5+0\ttest-auc:0.5+0\n",
      "[30]\ttrain-auc:0.999988+6.94422e-06\ttest-auc:0.813652+0.0427864\n",
      "[60]\ttrain-auc:1+0\ttest-auc:0.827472+0.0351206\n",
      "[0]\ttrain-auc:0.5\ttrain-rmse:0.356009\n",
      "[1]\ttrain-auc:0.5\ttrain-rmse:0.259781\n",
      "[2]\ttrain-auc:0.5\ttrain-rmse:0.192554\n",
      "[3]\ttrain-auc:0.5\ttrain-rmse:0.145101\n",
      "[4]\ttrain-auc:0.714827\ttrain-rmse:0.111306\n",
      "[5]\ttrain-auc:0.723851\ttrain-rmse:0.087675\n",
      "[6]\ttrain-auc:0.77768\ttrain-rmse:0.071397\n",
      "[7]\ttrain-auc:0.778724\ttrain-rmse:0.060584\n",
      "[8]\ttrain-auc:0.887842\ttrain-rmse:0.053512\n",
      "[9]\ttrain-auc:0.914653\ttrain-rmse:0.048769\n",
      "[10]\ttrain-auc:0.927635\ttrain-rmse:0.045587\n",
      "[11]\ttrain-auc:0.944553\ttrain-rmse:0.043925\n",
      "[12]\ttrain-auc:0.96069\ttrain-rmse:0.042678\n",
      "[13]\ttrain-auc:0.978404\ttrain-rmse:0.041684\n",
      "[14]\ttrain-auc:0.978405\ttrain-rmse:0.040513\n",
      "[15]\ttrain-auc:0.986504\ttrain-rmse:0.039629\n",
      "[16]\ttrain-auc:0.988645\ttrain-rmse:0.038546\n",
      "[17]\ttrain-auc:0.988916\ttrain-rmse:0.037352\n",
      "[18]\ttrain-auc:0.99372\ttrain-rmse:0.03667\n",
      "[19]\ttrain-auc:0.996642\ttrain-rmse:0.035795\n",
      "[20]\ttrain-auc:0.99768\ttrain-rmse:0.034112\n",
      "[21]\ttrain-auc:0.998025\ttrain-rmse:0.033807\n",
      "[22]\ttrain-auc:0.99853\ttrain-rmse:0.033287\n",
      "[23]\ttrain-auc:0.999008\ttrain-rmse:0.0325\n",
      "[24]\ttrain-auc:0.999357\ttrain-rmse:0.031945\n",
      "[25]\ttrain-auc:0.999649\ttrain-rmse:0.031091\n",
      "[26]\ttrain-auc:0.999671\ttrain-rmse:0.030286\n",
      "[27]\ttrain-auc:0.999788\ttrain-rmse:0.029378\n",
      "[28]\ttrain-auc:0.999892\ttrain-rmse:0.027955\n",
      "[29]\ttrain-auc:0.999927\ttrain-rmse:0.026709\n",
      "[30]\ttrain-auc:0.999961\ttrain-rmse:0.025103\n",
      "[31]\ttrain-auc:0.999973\ttrain-rmse:0.024332\n",
      "[32]\ttrain-auc:0.999981\ttrain-rmse:0.023205\n",
      "[33]\ttrain-auc:0.999991\ttrain-rmse:0.02225\n",
      "[34]\ttrain-auc:0.999995\ttrain-rmse:0.020892\n",
      "[35]\ttrain-auc:0.999994\ttrain-rmse:0.020041\n",
      "[36]\ttrain-auc:0.999997\ttrain-rmse:0.019058\n",
      "[37]\ttrain-auc:0.999998\ttrain-rmse:0.018438\n",
      "[38]\ttrain-auc:0.999999\ttrain-rmse:0.017327\n",
      "[39]\ttrain-auc:1\ttrain-rmse:0.016584\n",
      "[40]\ttrain-auc:1\ttrain-rmse:0.016005\n",
      "[41]\ttrain-auc:1\ttrain-rmse:0.015414\n",
      "[42]\ttrain-auc:1\ttrain-rmse:0.0148\n",
      "[43]\ttrain-auc:1\ttrain-rmse:0.014037\n",
      "[44]\ttrain-auc:1\ttrain-rmse:0.013409\n",
      "[45]\ttrain-auc:1\ttrain-rmse:0.013016\n",
      "[46]\ttrain-auc:1\ttrain-rmse:0.01267\n",
      "[47]\ttrain-auc:1\ttrain-rmse:0.011993\n",
      "[48]\ttrain-auc:1\ttrain-rmse:0.01125\n",
      "[49]\ttrain-auc:1\ttrain-rmse:0.01076\n",
      "[50]\ttrain-auc:1\ttrain-rmse:0.010259\n",
      "[51]\ttrain-auc:1\ttrain-rmse:0.009938\n",
      "[52]\ttrain-auc:1\ttrain-rmse:0.009523\n",
      "2017-07-08 23:45:29.998172 End\n"
     ]
    }
   ],
   "source": [
    "# Считаем\n",
    "print(datetime.datetime.now(),'Begin')\n",
    "bstList = getListBST(param,trX,trY)\n",
    "print(datetime.datetime.now(),'End')"
   ]
  },
  {
   "cell_type": "code",
   "execution_count": null,
   "metadata": {
    "collapsed": false,
    "deletable": true,
    "editable": true
   },
   "outputs": [],
   "source": []
  },
  {
   "cell_type": "code",
   "execution_count": 27,
   "metadata": {
    "collapsed": true,
    "deletable": true,
    "editable": true
   },
   "outputs": [],
   "source": [
    "# Шаблоны имен файллов для сохранения моделей xgb\n",
    "fModel1 = '../Data-XGB/Models/model-'\n",
    "fModel2 = '-jpg'+str(binsDataJPG)+'-tif'+str(binsDataTIF)+'.xgb'"
   ]
  },
  {
   "cell_type": "code",
   "execution_count": 28,
   "metadata": {
    "collapsed": true,
    "deletable": true,
    "editable": true
   },
   "outputs": [],
   "source": [
    "# save xgb models into files\n",
    "for i in range(len(bstList)) :\n",
    "    ##bstList[i].save_model(fModel1+str(100+i)+'-JPG2'+fModel2)\n",
    "    bstList[i].save_model(fModel1+str(100+i)+fModel2)"
   ]
  },
  {
   "cell_type": "code",
   "execution_count": null,
   "metadata": {
    "collapsed": true,
    "deletable": true,
    "editable": true
   },
   "outputs": [],
   "source": []
  },
  {
   "cell_type": "code",
   "execution_count": 615,
   "metadata": {
    "collapsed": false,
    "deletable": true,
    "editable": true
   },
   "outputs": [
    {
     "data": {
      "text/plain": [
       "17"
      ]
     },
     "execution_count": 615,
     "metadata": {},
     "output_type": "execute_result"
    }
   ],
   "source": [
    "# load xgb models into files\n",
    "bstNull = xgb.train(param,dtrain,0)\n",
    "bstList0= []\n",
    "for i in range(trY.shape[1]) :\n",
    "    bstList0.append(bstNull.copy())\n",
    "    bstList0[-1].load_model(fModel1+str(100+i)+fModel2)\n",
    "bstList = bstList0\n",
    "del bstList0\n",
    "len(bstList)"
   ]
  },
  {
   "cell_type": "code",
   "execution_count": null,
   "metadata": {
    "collapsed": false,
    "deletable": true,
    "editable": true
   },
   "outputs": [],
   "source": []
  },
  {
   "cell_type": "code",
   "execution_count": 29,
   "metadata": {
    "collapsed": false,
    "deletable": true,
    "editable": true
   },
   "outputs": [
    {
     "data": {
      "text/plain": [
       "(array([  8.48202884e-01,   9.95604157e-01,   9.89527907e-04,\n",
       "          1.25514001e-01,   1.36787174e-02,   1.49429997e-03,\n",
       "          3.06626828e-03,   3.03917006e-03,   1.07324086e-04,\n",
       "          4.18333220e-04,   1.52702758e-03,   5.15055899e-06,\n",
       "          8.61433567e-04,   1.59338233e-05,   2.59351538e-04,\n",
       "          1.41218293e-03,   9.34238269e-05], dtype=float32),\n",
       " array([[1, 1, 0, ..., 0, 0, 0],\n",
       "        [0, 1, 1, ..., 0, 0, 0],\n",
       "        [0, 1, 0, ..., 0, 0, 0],\n",
       "        ..., \n",
       "        [0, 1, 1, ..., 0, 0, 0],\n",
       "        [0, 1, 1, ..., 0, 0, 0],\n",
       "        [0, 1, 1, ..., 0, 0, 0]], dtype=uint8),\n",
       " [0.42,\n",
       "  0.6,\n",
       "  0.43,\n",
       "  0.55,\n",
       "  0.4,\n",
       "  0.37,\n",
       "  0.46,\n",
       "  0.34,\n",
       "  0.24,\n",
       "  0.48,\n",
       "  0.43,\n",
       "  0.05,\n",
       "  0.29,\n",
       "  0.22,\n",
       "  0.23,\n",
       "  0.18,\n",
       "  0.12])"
      ]
     },
     "execution_count": 29,
     "metadata": {},
     "output_type": "execute_result"
    }
   ],
   "source": [
    "#\n",
    "#  Построение решения для train массива на основе уровней прохождения (эффект почему-то дают)\n",
    "#    Построенное решение 01 полное с учетом погодных критериев [0,3,9,10]\n",
    "#        и особенности критерия cloudy (посмотреть и сменить можно в getProbX01)\n",
    "#        Построение критериев прохождения в getTh\n",
    "#\n",
    "\n",
    "# train\n",
    "trYP    = buildPredict(dtrain,bstList)\n",
    "\n",
    "# Уровни прохождения & решение\n",
    "trPPP,_ = getTh (trY,trYP)\n",
    "trY01    = getProbX01(trYP,trPPP)\n",
    "#trYP[0],trY01,trPPP"
   ]
  },
  {
   "cell_type": "code",
   "execution_count": 32,
   "metadata": {
    "collapsed": false
   },
   "outputs": [
    {
     "data": {
      "text/plain": [
       "(array([  8.48202884e-01,   9.95604157e-01,   9.89527907e-04,\n",
       "          1.25514001e-01,   1.36787174e-02,   1.49429997e-03,\n",
       "          3.06626828e-03,   3.03917006e-03,   1.07324086e-04,\n",
       "          4.18333220e-04,   1.52702758e-03,   5.15055899e-06,\n",
       "          8.61433567e-04,   1.59338233e-05,   2.59351538e-04,\n",
       "          1.41218293e-03,   9.34238269e-05], dtype=float32),\n",
       " array([1, 1, 0, 0, 0, 0, 0, 0, 0, 0, 0, 0, 0, 0, 0, 0, 0], dtype=uint8),\n",
       " array([1, 1, 0, 0, 0, 0, 0, 0, 0, 0, 0, 0, 0, 0, 0, 0, 0]))"
      ]
     },
     "execution_count": 32,
     "metadata": {},
     "output_type": "execute_result"
    }
   ],
   "source": [
    "trYP[0],trY01[0],trY[0] #trPPP"
   ]
  },
  {
   "cell_type": "code",
   "execution_count": 34,
   "metadata": {
    "collapsed": false,
    "deletable": true,
    "editable": true
   },
   "outputs": [
    {
     "name": "stdout",
     "output_type": "stream",
     "text": [
      "0 acc=0.985078682774 roc=0.914535963562 not=604 yes=2247 no=37628 true=39875 all-1-0=(0.8331-0.9959)\n",
      "1 acc=0.98861137874 roc=0.965755485727 not=461 yes=37233 no=2785 true=40018 all-1-0=(0.9925-0.9390)\n",
      "2 acc=0.968724523827 roc=0.964615530127 not=1266 yes=11750 no=27463 true=39213 all-1-0=(0.9541-0.9751)\n",
      "3 acc=0.983497616048 roc=0.976247318068 not=668 yes=28265 no=11546 true=39811 all-1-0=(0.9942-0.9583)\n",
      "4 acc=0.945280268781 roc=0.884376088937 not=2215 yes=5842 no=32422 true=38264 all-1-0=(0.7883-0.9805)\n",
      "5 acc=0.970429111391 roc=0.898729640657 not=1197 yes=2969 no=36313 true=39282 all-1-0=(0.8112-0.9863)\n",
      "6 acc=0.932508214136 roc=0.882996172102 not=2732 yes=6462 no=31285 true=37747 all-1-0=(0.8006-0.9653)\n",
      "7 acc=0.958496998444 roc=0.888653531608 not=1680 yes=3577 no=35222 true=38799 all-1-0=(0.7990-0.9783)\n",
      "8 acc=0.999925887497 roc=0.992822966507 not=3 yes=206 no=40270 true=40476 all-1-0=(0.9856-1.0000)\n",
      "9 acc=0.997875441587 roc=0.992542823764 not=86 yes=2061 no=38332 true=40393 all-1-0=(0.9866-0.9985)\n",
      "10 acc=0.995133278984 roc=0.989878148757 not=197 yes=7128 no=33154 true=40282 all-1-0=(0.9817-0.9981)\n",
      "11 acc=1.0 roc=1.0 not=0 yes=100 no=40379 true=40479 all-1-0=(1.0000-1.0000)\n",
      "12 acc=0.993478099755 roc=0.879778431849 not=264 yes=656 no=39559 true=40215 all-1-0=(0.7610-0.9985)\n",
      "13 acc=1.0 roc=1.0 not=0 yes=339 no=40140 true=40479 all-1-0=(1.0000-1.0000)\n",
      "14 acc=0.998838904123 roc=0.951620415455 not=47 yes=300 no=40132 true=40432 all-1-0=(0.9036-0.9996)\n",
      "15 acc=0.996195558191 roc=0.863933566152 not=154 yes=248 no=40077 true=40325 all-1-0=(0.7294-0.9985)\n",
      "16 acc=1.0 roc=1.0 not=0 yes=98 no=40381 true=40479 all-1-0=(1.0000-1.0000)\n"
     ]
    }
   ],
   "source": [
    "temp = estimateResult(trY,trY01,printOK=True)"
   ]
  },
  {
   "cell_type": "code",
   "execution_count": null,
   "metadata": {
    "collapsed": false,
    "deletable": true,
    "editable": true
   },
   "outputs": [],
   "source": []
  },
  {
   "cell_type": "code",
   "execution_count": 35,
   "metadata": {
    "collapsed": false,
    "deletable": true,
    "editable": true
   },
   "outputs": [],
   "source": [
    "# Построение значимости полей для разных признаков (importance)\n",
    "bstga   = np.zeros((trX.shape[1],trY.shape[1]))\n",
    "for i in range(len(bstList)) :\n",
    "    bstgfs = bstList[i].get_fscore()\n",
    "    bstgfs = [(int(n.split('f')[1]),bstgfs[n]) for n in bstgfs.keys()]\n",
    "    bstga1 = np.array(bstgfs)\n",
    "    bstga[bstga1[:,0],i] = bstga1[:,1]\n",
    "\n",
    "\n",
    "if False :\n",
    "    #bstgfs.sort(key=lambda x: -x[1])\n",
    "    #bstgfs[:20]\n",
    "    plt.hist([nn for n,nn in bstgfs],bins=11); plt.show()\n",
    "    bst_gfs_main = [(n,nn) for n,nn in bstgfs if nn>=20]\n",
    "    bst_gfs_main.sort(key=lambda x: x[0])\n",
    "    bst_gfs_main\n",
    "    bstga[:,6]"
   ]
  },
  {
   "cell_type": "code",
   "execution_count": 38,
   "metadata": {
    "collapsed": false
   },
   "outputs": [
    {
     "data": {
      "text/plain": [
       "array([  0.00000000e+00,   4.04790000e+04,   9.85078683e-01,\n",
       "         9.14535964e-01,   2.69700000e+03,   3.77820000e+04,\n",
       "         2.24700000e+03,   3.76280000e+04,   6.04000000e+02])"
      ]
     },
     "execution_count": 38,
     "metadata": {},
     "output_type": "execute_result"
    }
   ],
   "source": [
    "temp[0]"
   ]
  },
  {
   "cell_type": "code",
   "execution_count": 42,
   "metadata": {
    "collapsed": false,
    "deletable": true,
    "editable": true
   },
   "outputs": [
    {
     "name": "stdout",
     "output_type": "stream",
     "text": [
      "[2, 4, 5, 6, 7]\n"
     ]
    },
    {
     "data": {
      "image/png": "[encoded data removed]",
      "text/plain": [
       "<matplotlib.figure.Figure at 0x7f3d735c39d0>"
      ]
     },
     "metadata": {},
     "output_type": "display_data"
    },
    {
     "data": {
      "text/plain": [
       "['agriculture', 'water', 'habitation', 'road', 'cultivation']"
      ]
     },
     "execution_count": 42,
     "metadata": {},
     "output_type": "execute_result"
    }
   ],
   "source": [
    "xx = [int(x[0]) for x in temp if x[8]>=1000] # плохие lost >=1000\n",
    "print(xx)\n",
    "plt.plot(bstga[:,xx]); \n",
    "#plt.legenda([labels[x] for x in xx])\n",
    "plt.show();\n",
    "[labels[x] for x in xx]\n"
   ]
  },
  {
   "cell_type": "code",
   "execution_count": 43,
   "metadata": {
    "collapsed": false,
    "deletable": true,
    "editable": true
   },
   "outputs": [
    {
     "name": "stdout",
     "output_type": "stream",
     "text": [
      "[0, 1, 3, 10, 12, 15]\n"
     ]
    },
    {
     "data": {
      "image/png": "[encoded data removed]",
      "text/plain": [
       "<matplotlib.figure.Figure at 0x7f3d71735990>"
      ]
     },
     "metadata": {},
     "output_type": "display_data"
    },
    {
     "data": {
      "text/plain": [
       "['haze',\n",
       " 'primary',\n",
       " 'clear',\n",
       " 'partly_cloudy',\n",
       " 'bare_ground',\n",
       " 'selective_logging']"
      ]
     },
     "execution_count": 43,
     "metadata": {},
     "output_type": "execute_result"
    }
   ],
   "source": [
    "xx = [int(x[0]) for x in temp if x[8]<1000 and x[8]>100] # плохие lost >=1000\n",
    "print(xx)\n",
    "\n",
    "plt.plot(bstga[:,xx]); \n",
    "#plt.legenda([labels[x] for x in xx])\n",
    "plt.show();\n",
    "[labels[x] for x in xx]\n"
   ]
  },
  {
   "cell_type": "code",
   "execution_count": 44,
   "metadata": {
    "collapsed": false,
    "deletable": true,
    "editable": true
   },
   "outputs": [
    {
     "name": "stdout",
     "output_type": "stream",
     "text": [
      "[8, 9, 11, 13, 14, 16]\n"
     ]
    },
    {
     "data": {
      "image/png": "[encoded data removed]",
      "text/plain": [
       "<matplotlib.figure.Figure at 0x7f3d7160c5d0>"
      ]
     },
     "metadata": {},
     "output_type": "display_data"
    },
    {
     "data": {
      "text/plain": [
       "['slash_burn',\n",
       " 'cloudy',\n",
       " 'conventional_mine',\n",
       " 'artisinal_mine',\n",
       " 'blooming',\n",
       " 'blow_down']"
      ]
     },
     "execution_count": 44,
     "metadata": {},
     "output_type": "execute_result"
    }
   ],
   "source": [
    "xx = [int(x[0]) for x in temp if x[8]<=100] # плохие lost >=1000\n",
    "print(xx)\n",
    "plt.plot(bstga[:,xx]); plt.show();\n",
    "[labels[x] for x in xx]"
   ]
  },
  {
   "cell_type": "code",
   "execution_count": null,
   "metadata": {
    "collapsed": true,
    "deletable": true,
    "editable": true
   },
   "outputs": [],
   "source": []
  },
  {
   "cell_type": "code",
   "execution_count": 45,
   "metadata": {
    "collapsed": true
   },
   "outputs": [],
   "source": [
    "del trX"
   ]
  },
  {
   "cell_type": "code",
   "execution_count": 48,
   "metadata": {
    "collapsed": false,
    "deletable": true,
    "editable": true
   },
   "outputs": [],
   "source": [
    "# Данные для объединения от jpg\n",
    "##trOX_JPG1 = np.load('../Work/test-data-XX'+str(binsDataJPG)+'.jpg'+'.npy')\n",
    "##trOX_JPG2 = np.load('../Work/test-data-XX'+str(binsDataJPG2)+'.jpg'+'.npy')\n",
    "#trOY_JPG1 = np.load('../Work/test-data-YY'+str(binsDataJPG)+'.jpg'+'.npy')\n",
    "#trOY_JPG2 = np.load('../Work/test-data-YY'+str(binsDataJPG2)+'.jpg'+'.npy')\n",
    "trOX_JPG  = np.load('../Data-XGB/Datas/test-'+str(10000+binsDataJPG)+'.jpg'+'-XX.npy')\n",
    "trOX_TIF  = np.load('../Data-XGB/Datas/test-'+str(10000+binsDataTIF)+'.tif'+'-XX.npy')\n",
    "trOY_TIF  = np.load('../Data-XGB/Datas/test-'+str(10000+binsDataTIF)+'.tif'+'-YY.npy')\n",
    "trOY_JPG  = np.load('../Data-XGB/Datas/test-'+str(10000+binsDataJPG)+'.jpg'+'-YY.npy')"
   ]
  },
  {
   "cell_type": "code",
   "execution_count": 49,
   "metadata": {
    "collapsed": false,
    "deletable": true,
    "editable": true
   },
   "outputs": [
    {
     "data": {
      "text/plain": [
       "((61191, 384), (61191, 192))"
      ]
     },
     "execution_count": 49,
     "metadata": {},
     "output_type": "execute_result"
    }
   ],
   "source": [
    "#trOX_TIF.shape, trOX_JPG.shape, trOX_JPG2.shape , 578+255+192\n",
    "trOX_TIF.shape, trOX_JPG.shape"
   ]
  },
  {
   "cell_type": "code",
   "execution_count": 50,
   "metadata": {
    "collapsed": false,
    "deletable": true,
    "editable": true
   },
   "outputs": [],
   "source": [
    "# Обрезка видимой части и использование только n, nvi, dwi\n",
    "##trOX_TIF = trOX_TIF[:,288:]\n",
    "##trOX_TIF.shape"
   ]
  },
  {
   "cell_type": "code",
   "execution_count": 51,
   "metadata": {
    "collapsed": false,
    "deletable": true,
    "editable": true
   },
   "outputs": [
    {
     "data": {
      "text/plain": [
       "(61191, 576)"
      ]
     },
     "execution_count": 51,
     "metadata": {},
     "output_type": "execute_result"
    }
   ],
   "source": [
    "# Аккуратно объединяем через индексы = имена файлов\n",
    "##dfOX_JPG1 = pd.DataFrame(trOX_JPG,index=trOY_JPG1)\n",
    "##dfOX_JPG2 = pd.DataFrame(trOX_JPG2,index=trOY_JPG2)\n",
    "##dfOX_JPG  = dfOX_JPG1.join(dfOX_JPG2,lsuffix='_l',rsuffix='_r')\n",
    "\n",
    "dfOX_TIF  = pd.DataFrame(trOX_TIF,index=trOY_TIF)\n",
    "dfOX_JPG  = pd.DataFrame(trOX_JPG,index=trOY_JPG)\n",
    "dfOX      = dfOX_JPG.join(dfOX_TIF,lsuffix='_l',rsuffix='_r')\n",
    "\n",
    "dfOX.shape #, dfOX.columns,dfOX.head()"
   ]
  },
  {
   "cell_type": "code",
   "execution_count": 52,
   "metadata": {
    "collapsed": false,
    "deletable": true,
    "editable": true
   },
   "outputs": [
    {
     "data": {
      "text/plain": [
       "((61191, 576),\n",
       " (61191,),\n",
       " array(['test_10002', 'test_10003', 'test_10004', 'test_10005',\n",
       "        'test_10006', 'test_10007', 'test_10008', 'test_10009', 'test_1001',\n",
       "        'test_10010'], dtype=object))"
      ]
     },
     "execution_count": 52,
     "metadata": {},
     "output_type": "execute_result"
    }
   ],
   "source": [
    "trOX = dfOX.values\n",
    "trOY = dfOX.index.values\n",
    "trOX.shape,trOY.shape,trOY[0:10]"
   ]
  },
  {
   "cell_type": "code",
   "execution_count": 53,
   "metadata": {
    "collapsed": true
   },
   "outputs": [],
   "source": [
    "#\n",
    "#  Построение решения для test массива на основе уровней прохождения (эффект почему-то дают)\n",
    "#    Построенное решение 01 полное с учетом погодных критериев [0,3,9,10]\n",
    "#        и особенности критерия cloudy (посмотреть и сменить можно в getProbX01)\n",
    "#        Построение критериев прохождения в getTh\n",
    "#\n",
    "\n",
    "# test\n",
    "trOP    = buildPredictX(trOX,bstList)\n",
    "\n",
    "# Уровни прохождения & решение\n",
    "trO01   = getProbX01(trOP,trPPP)\n"
   ]
  },
  {
   "cell_type": "code",
   "execution_count": null,
   "metadata": {
    "collapsed": true
   },
   "outputs": [],
   "source": []
  },
  {
   "cell_type": "code",
   "execution_count": 55,
   "metadata": {
    "collapsed": true
   },
   "outputs": [],
   "source": [
    "# Строим результат"
   ]
  },
  {
   "cell_type": "code",
   "execution_count": 56,
   "metadata": {
    "collapsed": true
   },
   "outputs": [],
   "source": [
    "trZ = trO01"
   ]
  },
  {
   "cell_type": "code",
   "execution_count": 57,
   "metadata": {
    "collapsed": true
   },
   "outputs": [],
   "source": [
    "temp_list = []\n",
    "for i in range(trZ.shape[0]) :\n",
    "    temp = [labels[ii] for ii in range(trZ.shape[1]) if trZ[i,ii]==1];\n",
    "    temp = ' '.join(temp)\n",
    "    temp_list.append([trOY[i],temp])\n",
    "temp_list.sort(cmp=lambda x,y: cmp(int(x[0].partition('_')[2]),int(y[0].partition('_')[2])) if (x[0].partition('_')[0]==y[0].partition('_')[0]) else cmp(y[0].partition('_')[0],x[0].partition('_')[0]))\n"
   ]
  },
  {
   "cell_type": "code",
   "execution_count": 58,
   "metadata": {
    "collapsed": false
   },
   "outputs": [
    {
     "data": {
      "text/plain": [
       "[['test_0', 'primary clear'],\n",
       " ['test_1', 'primary clear'],\n",
       " ['test_2', 'primary partly_cloudy'],\n",
       " ['test_3', 'primary clear'],\n",
       " ['test_4', 'primary partly_cloudy']]"
      ]
     },
     "execution_count": 58,
     "metadata": {},
     "output_type": "execute_result"
    }
   ],
   "source": [
    "temp_list[0:5]"
   ]
  },
  {
   "cell_type": "code",
   "execution_count": null,
   "metadata": {
    "collapsed": true
   },
   "outputs": [],
   "source": []
  },
  {
   "cell_type": "code",
   "execution_count": 59,
   "metadata": {
    "collapsed": false
   },
   "outputs": [
    {
     "name": "stdout",
     "output_type": "stream",
     "text": [
      "2017-07-09-00-08-21\n"
     ]
    }
   ],
   "source": [
    "rrr=pd.DataFrame(temp_list,columns=['image_name','tags']); rrr.head(); \n",
    "suffixDT = (datetime.datetime.now()).strftime('%Y-%m-%d-%H-%M-%S'); print(suffixDT)\n",
    "rrr.to_csv('../Result/vss'+suffixDT+'.csv',index=False);"
   ]
  },
  {
   "cell_type": "code",
   "execution_count": 60,
   "metadata": {
    "collapsed": false
   },
   "outputs": [
    {
     "data": {
      "text/html": [
       "<div>\n",
       "<table border=\"1\" class=\"dataframe\">\n",
       "  <thead>\n",
       "    <tr style=\"text-align: right;\">\n",
       "      <th></th>\n",
       "      <th>image_name</th>\n",
       "      <th>tags</th>\n",
       "    </tr>\n",
       "  </thead>\n",
       "  <tbody>\n",
       "    <tr>\n",
       "      <th>0</th>\n",
       "      <td>test_0</td>\n",
       "      <td>primary clear</td>\n",
       "    </tr>\n",
       "    <tr>\n",
       "      <th>1</th>\n",
       "      <td>test_1</td>\n",
       "      <td>primary clear</td>\n",
       "    </tr>\n",
       "    <tr>\n",
       "      <th>2</th>\n",
       "      <td>test_2</td>\n",
       "      <td>primary partly_cloudy</td>\n",
       "    </tr>\n",
       "    <tr>\n",
       "      <th>3</th>\n",
       "      <td>test_3</td>\n",
       "      <td>primary clear</td>\n",
       "    </tr>\n",
       "    <tr>\n",
       "      <th>4</th>\n",
       "      <td>test_4</td>\n",
       "      <td>primary partly_cloudy</td>\n",
       "    </tr>\n",
       "  </tbody>\n",
       "</table>\n",
       "</div>"
      ],
      "text/plain": [
       "  image_name                   tags\n",
       "0     test_0          primary clear\n",
       "1     test_1          primary clear\n",
       "2     test_2  primary partly_cloudy\n",
       "3     test_3          primary clear\n",
       "4     test_4  primary partly_cloudy"
      ]
     },
     "execution_count": 60,
     "metadata": {},
     "output_type": "execute_result"
    }
   ],
   "source": [
    "rrr.head()"
   ]
  },
  {
   "cell_type": "code",
   "execution_count": null,
   "metadata": {
    "collapsed": true
   },
   "outputs": [],
   "source": []
  },
  {
   "cell_type": "code",
   "execution_count": null,
   "metadata": {
    "collapsed": true
   },
   "outputs": [],
   "source": []
  }
 ],
 "metadata": {
  "kernelspec": {
   "display_name": "Python 2",
   "language": "python",
   "name": "python2"
  },
  "language_info": {
   "codemirror_mode": {
    "name": "ipython",
    "version": 2
   },
   "file_extension": ".py",
   "mimetype": "text/x-python",
   "name": "python",
   "nbconvert_exporter": "python",
   "pygments_lexer": "ipython2",
   "version": "2.7.13"
  }
 },
 "nbformat": 4,
 "nbformat_minor": 2
}
