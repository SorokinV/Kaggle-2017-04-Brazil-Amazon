{
 "cells": [
  {
   "cell_type": "code",
   "execution_count": 1,
   "metadata": {
    "collapsed": true,
    "deletable": true,
    "editable": true
   },
   "outputs": [],
   "source": [
    "# Отдельная генерация и сохранение train/text массивов для xgbooster  (2017-07-02)"
   ]
  },
  {
   "cell_type": "code",
   "execution_count": 2,
   "metadata": {
    "collapsed": false,
    "deletable": true,
    "editable": true
   },
   "outputs": [],
   "source": [
    "import sys,os,datetime\n",
    "import numpy as np\n",
    "import pandas as pd\n",
    "import matplotlib.pyplot as plt\n",
    "import sklearn.metrics as skm\n",
    "from __future__ import print_function"
   ]
  },
  {
   "cell_type": "code",
   "execution_count": 3,
   "metadata": {
    "collapsed": false,
    "deletable": true,
    "editable": true
   },
   "outputs": [
    {
     "name": "stdout",
     "output_type": "stream",
     "text": [
      "1.12.1\n",
      "0.19.2\n"
     ]
    }
   ],
   "source": [
    "print(np.__version__);\n",
    "print(pd.__version__);"
   ]
  },
  {
   "cell_type": "code",
   "execution_count": 4,
   "metadata": {
    "collapsed": false,
    "deletable": true,
    "editable": true
   },
   "outputs": [
    {
     "data": {
      "text/plain": [
       "'3.2.0'"
      ]
     },
     "execution_count": 4,
     "metadata": {},
     "output_type": "execute_result"
    }
   ],
   "source": [
    "import  cv2 as cv\n",
    "cv.__version__"
   ]
  },
  {
   "cell_type": "code",
   "execution_count": 5,
   "metadata": {
    "collapsed": false,
    "deletable": true,
    "editable": true
   },
   "outputs": [],
   "source": [
    "sys.path.append('../Python')\n",
    "from helper import paths_input, formImExt, formImHist\n",
    "from estimate import confusion_matrix, getConfusion, getRocAUC, getProb01, estimateResult"
   ]
  },
  {
   "cell_type": "code",
   "execution_count": null,
   "metadata": {
    "collapsed": false,
    "deletable": true,
    "editable": true
   },
   "outputs": [],
   "source": []
  },
  {
   "cell_type": "code",
   "execution_count": 6,
   "metadata": {
    "collapsed": false,
    "deletable": true,
    "editable": true
   },
   "outputs": [
    {
     "name": "stdout",
     "output_type": "stream",
     "text": [
      "../Work/Train ../Work/Test\n",
      "../Data/train_v2.csv ../Data/train-tif-v2 ../Data/train-jpg ../Data/test-tif-v2 ../Data/test-jpg-v2\n"
     ]
    }
   ],
   "source": [
    "binsData = 96\n",
    "\n",
    "trLabels,trDirTIF,trDirJPG,teDirTIF,teDirJPG = paths_input()\n",
    "trWork, teWork = '../Work/Train', '../Work/Test'\n",
    "print (trWork, teWork)\n",
    "print (trLabels,trDirTIF,trDirJPG,teDirTIF,teDirJPG)"
   ]
  },
  {
   "cell_type": "code",
   "execution_count": null,
   "metadata": {
    "collapsed": false,
    "deletable": true,
    "editable": true
   },
   "outputs": [],
   "source": []
  },
  {
   "cell_type": "code",
   "execution_count": 7,
   "metadata": {
    "collapsed": false,
    "deletable": true,
    "editable": true
   },
   "outputs": [
    {
     "data": {
      "text/html": [
       "<div>\n",
       "<table border=\"1\" class=\"dataframe\">\n",
       "  <thead>\n",
       "    <tr style=\"text-align: right;\">\n",
       "      <th></th>\n",
       "      <th>image_name</th>\n",
       "      <th>tags</th>\n",
       "    </tr>\n",
       "  </thead>\n",
       "  <tbody>\n",
       "    <tr>\n",
       "      <th>0</th>\n",
       "      <td>train_0</td>\n",
       "      <td>haze primary</td>\n",
       "    </tr>\n",
       "    <tr>\n",
       "      <th>1</th>\n",
       "      <td>train_1</td>\n",
       "      <td>agriculture clear primary water</td>\n",
       "    </tr>\n",
       "    <tr>\n",
       "      <th>2</th>\n",
       "      <td>train_2</td>\n",
       "      <td>clear primary</td>\n",
       "    </tr>\n",
       "    <tr>\n",
       "      <th>3</th>\n",
       "      <td>train_3</td>\n",
       "      <td>clear primary</td>\n",
       "    </tr>\n",
       "    <tr>\n",
       "      <th>4</th>\n",
       "      <td>train_4</td>\n",
       "      <td>agriculture clear habitation primary road</td>\n",
       "    </tr>\n",
       "  </tbody>\n",
       "</table>\n",
       "</div>"
      ],
      "text/plain": [
       "  image_name                                       tags\n",
       "0    train_0                               haze primary\n",
       "1    train_1            agriculture clear primary water\n",
       "2    train_2                              clear primary\n",
       "3    train_3                              clear primary\n",
       "4    train_4  agriculture clear habitation primary road"
      ]
     },
     "execution_count": 7,
     "metadata": {},
     "output_type": "execute_result"
    }
   ],
   "source": [
    "labels_df = pd.read_csv(trLabels)\n",
    "labels_df.head()"
   ]
  },
  {
   "cell_type": "code",
   "execution_count": 8,
   "metadata": {
    "collapsed": true,
    "deletable": true,
    "editable": true
   },
   "outputs": [],
   "source": [
    "# Build list with unique labels\n",
    "label_list = []\n",
    "for tag_str in labels_df.tags.values:\n",
    "    labels = tag_str.split(' ')\n",
    "    for label in labels:\n",
    "        if label not in label_list:\n",
    "            label_list.append(label)"
   ]
  },
  {
   "cell_type": "code",
   "execution_count": 9,
   "metadata": {
    "collapsed": false,
    "deletable": true,
    "editable": true
   },
   "outputs": [],
   "source": [
    "# Add features (0 or 1) for every label as dataframe field \n",
    "for label in label_list:\n",
    "    labels_df[label] = labels_df['tags'].apply(lambda x: 1 if label in x.split(' ') else 0)\n",
    "#labels_df.head()"
   ]
  },
  {
   "cell_type": "code",
   "execution_count": 10,
   "metadata": {
    "collapsed": false,
    "deletable": true,
    "editable": true
   },
   "outputs": [],
   "source": [
    "weather_labels = ['clear', 'partly_cloudy', 'haze', 'cloudy']\n",
    "land_labels = ['primary', 'agriculture', 'water', 'cultivation', 'habitation' ]\n",
    "rare_labels = [l for l in label_list if labels_df[label_list].sum()[l] < 2000]\n",
    "#rare_labels              "
   ]
  },
  {
   "cell_type": "code",
   "execution_count": null,
   "metadata": {
    "collapsed": false,
    "deletable": true,
    "editable": true
   },
   "outputs": [],
   "source": []
  },
  {
   "cell_type": "code",
   "execution_count": 11,
   "metadata": {
    "collapsed": false,
    "deletable": true,
    "editable": true
   },
   "outputs": [],
   "source": [
    "labels = label_list; #weather_labels;\n",
    "nameList =labels_df[labels_df[labels].sum(axis=1)>0].image_name.tolist(); len(nameList)\n",
    "labelList=labels_df[labels_df[labels].sum(axis=1)>0][labels].as_matrix();\n",
    "#labelList[:6,:]\n",
    "#labels_df.head()"
   ]
  },
  {
   "cell_type": "code",
   "execution_count": null,
   "metadata": {
    "collapsed": false,
    "deletable": true,
    "editable": true
   },
   "outputs": [],
   "source": []
  },
  {
   "cell_type": "code",
   "execution_count": 12,
   "metadata": {
    "collapsed": false,
    "deletable": true,
    "editable": true
   },
   "outputs": [],
   "source": [
    "def generateArrays( dirIn, nameAsk, binsData, debugOK=False) :\n",
    "    #nameAsk = os.listdir(dirIn); print(len(nameAsk))\n",
    "    trOX, trOY, i, size = [], [], 0, len(nameAsk)\n",
    "    if debugOK : size = 3\n",
    "    print(datetime.datetime.now(),len(nameAsk),size)\n",
    "    for nn in nameAsk[0:size] :\n",
    "        nf = os.path.join(dirIn,nn);\n",
    "        nx = formImHist(nf,binsData,printOK=debugOK)\n",
    "        ##nx = formImHist(nf,binsData,printOK=debugOK,EqualizeOK=True,GaussianOK=True)\n",
    "        if (i==0) : trOX = np.zeros((size,nx.shape[0]),dtype=np.uint16) ## расчет на максимальный массив 256x256=65536=np.uint16\n",
    "        if (nx is not None) :\n",
    "            trOX[i] = nx\n",
    "            trOY.append(nn)\n",
    "        i += 1\n",
    "        if (i%5000==0) : print(datetime.datetime.now(),\"\\t\",i,\"\\t\",nn)\n",
    "            \n",
    "    ##trOX = np.array(trOX);\n",
    "    trOY = np.array([os.path.splitext(x)[0] for x in trOY]);\n",
    "\n",
    "    print(datetime.datetime.now())\n",
    "    return (trOX, trOY)\n",
    "\n",
    "def generateTest ( dirIn, binsData, debugOK=False) :\n",
    "    nameAsk = os.listdir(dirIn); #print(len(nameAsk))\n",
    "    return(generateArrays(dirIn,nameAsk,binsData,debugOK=debugOK))\n",
    "\n",
    "def generateTrain( dirIn, binsData, nameList, debugOK=False) :\n",
    "    ##nameAsk = os.listdir(dirIn); #print(len(nameAsk))\n",
    "    return(generateArrays(dirIn,nameList,binsData,debugOK=debugOK))\n"
   ]
  },
  {
   "cell_type": "code",
   "execution_count": null,
   "metadata": {
    "collapsed": false,
    "deletable": true,
    "editable": true
   },
   "outputs": [],
   "source": []
  },
  {
   "cell_type": "code",
   "execution_count": 51,
   "metadata": {
    "collapsed": false,
    "deletable": true,
    "editable": true
   },
   "outputs": [],
   "source": [
    "# Генерация для JPG\n",
    "#binsList = [256,96,128] \n",
    "#binsList = [32,64,80]\n",
    "ttExt    = '.jpg'\n",
    "debug = False\n",
    "tDirs = (trDirJPG,teDirJPG)"
   ]
  },
  {
   "cell_type": "code",
   "execution_count": 14,
   "metadata": {
    "collapsed": true,
    "deletable": true,
    "editable": true
   },
   "outputs": [],
   "source": [
    "# Генерация для TIF\n",
    "binsList = [64,128,256]\n",
    "#binsList = [256,96,128] \n",
    "#binsList = [32,64,80]\n",
    "ttExt    = '.tif'\n",
    "debug = False\n",
    "tDirs = (trDirTIF,teDirTIF)"
   ]
  },
  {
   "cell_type": "code",
   "execution_count": 53,
   "metadata": {
    "collapsed": true,
    "deletable": true,
    "editable": true
   },
   "outputs": [],
   "source": [
    "binsList = [128,256]\n",
    "debug = False"
   ]
  },
  {
   "cell_type": "code",
   "execution_count": 54,
   "metadata": {
    "collapsed": false,
    "deletable": true,
    "editable": true
   },
   "outputs": [
    {
     "name": "stdout",
     "output_type": "stream",
     "text": [
      "-------->: bins=128 Ext=.jpg input-dir=../Data/train-jpg\n",
      "2017-07-08 16:53:52.871990 40479 40479\n",
      "2017-07-08 16:55:29.214502 \t 5000 \t train_4999.jpg\n",
      "2017-07-08 16:57:02.966772 \t 10000 \t train_9999.jpg\n",
      "2017-07-08 16:58:33.759720 \t 15000 \t train_14999.jpg\n",
      "2017-07-08 17:00:01.230119 \t 20000 \t train_19999.jpg\n",
      "2017-07-08 17:01:26.478080 \t 25000 \t train_24999.jpg\n",
      "2017-07-08 17:02:45.166772 \t 30000 \t train_29999.jpg\n",
      "2017-07-08 17:04:01.409781 \t 35000 \t train_34999.jpg\n",
      "2017-07-08 17:05:13.979974 \t 40000 \t train_39999.jpg\n",
      "2017-07-08 17:05:21.050645\n",
      "-------->: bins=256 Ext=.jpg input-dir=../Data/train-jpg\n",
      "2017-07-08 17:05:21.207303 40479 40479\n",
      "2017-07-08 17:05:55.704306 \t 5000 \t train_4999.jpg\n",
      "2017-07-08 17:06:29.863514 \t 10000 \t train_9999.jpg\n",
      "2017-07-08 17:07:03.889412 \t 15000 \t train_14999.jpg\n",
      "2017-07-08 17:07:37.505170 \t 20000 \t train_19999.jpg\n",
      "2017-07-08 17:08:10.630859 \t 25000 \t train_24999.jpg\n",
      "2017-07-08 17:08:45.071463 \t 30000 \t train_29999.jpg\n",
      "2017-07-08 17:09:19.647541 \t 35000 \t train_34999.jpg\n",
      "2017-07-08 17:09:53.820199 \t 40000 \t train_39999.jpg\n",
      "2017-07-08 17:09:57.098150\n"
     ]
    }
   ],
   "source": [
    "dirIn    = tDirs[0]\n",
    "trOY = labelList;\n",
    "for bds in binsList :\n",
    "    print ('-------->: bins={} Ext={} input-dir={}'.format(bds,ttExt,dirIn))\n",
    "    nameListExt = [x+ttExt for x in nameList]\n",
    "    trOX, _     = generateTrain(dirIn,bds,nameListExt,debugOK=debug)\n",
    "    np.save('../Data-XGB/Datas/train-'+str(10000+bds)+ttExt+'-XX.npy',trOX)\n",
    "    np.save('../Data-XGB/Datas/train-'+str(10000+bds)+ttExt+'-YY.npy',trOY)\n",
    "    #print (bds,trOX.shape,trOY.shape, (trOX.shape[1]/bds)*bds, trOX.shape[1]/3)dirIn    = teDirJPG"
   ]
  },
  {
   "cell_type": "code",
   "execution_count": null,
   "metadata": {
    "collapsed": true,
    "deletable": true,
    "editable": true
   },
   "outputs": [],
   "source": []
  },
  {
   "cell_type": "code",
   "execution_count": 55,
   "metadata": {
    "collapsed": false,
    "deletable": true,
    "editable": true
   },
   "outputs": [
    {
     "name": "stdout",
     "output_type": "stream",
     "text": [
      "-------->: bins=128 Ext=.jpg input-dir=../Data/test-jpg-v2\n",
      "2017-07-08 17:09:57.394177 61191 61191\n",
      "2017-07-08 17:10:32.573748 \t 5000 \t test_14523.jpg\n",
      "2017-07-08 17:11:07.032323 \t 10000 \t test_19029.jpg\n",
      "2017-07-08 17:11:39.950659 \t 15000 \t test_23524.jpg\n",
      "2017-07-08 17:12:13.175858 \t 20000 \t test_28015.jpg\n",
      "2017-07-08 17:12:46.868780 \t 25000 \t test_32520.jpg\n",
      "2017-07-08 17:13:20.093157 \t 30000 \t test_37026.jpg\n",
      "2017-07-08 17:13:52.768331 \t 35000 \t test_4908.jpg\n",
      "2017-07-08 17:14:25.633735 \t 40000 \t test_9402.jpg\n",
      "2017-07-08 17:14:58.145944 \t 45000 \t file_13913.jpg\n",
      "2017-07-08 17:15:31.650706 \t 50000 \t file_18419.jpg\n",
      "2017-07-08 17:16:16.052760 \t 55000 \t file_4564.jpg\n",
      "2017-07-08 17:16:53.972847 \t 60000 \t file_892.jpg\n",
      "2017-07-08 17:17:02.462207\n",
      "-------->: bins=256 Ext=.jpg input-dir=../Data/test-jpg-v2\n",
      "2017-07-08 17:17:02.674398 61191 61191\n",
      "2017-07-08 17:17:36.695654 \t 5000 \t test_14523.jpg\n",
      "2017-07-08 17:18:09.036967 \t 10000 \t test_19029.jpg\n",
      "2017-07-08 17:18:43.200945 \t 15000 \t test_23524.jpg\n",
      "2017-07-08 17:19:16.905030 \t 20000 \t test_28015.jpg\n",
      "2017-07-08 17:19:50.277082 \t 25000 \t test_32520.jpg\n",
      "2017-07-08 17:20:24.591359 \t 30000 \t test_37026.jpg\n",
      "2017-07-08 17:20:58.795288 \t 35000 \t test_4908.jpg\n",
      "2017-07-08 17:21:32.891412 \t 40000 \t test_9402.jpg\n",
      "2017-07-08 17:22:06.959765 \t 45000 \t file_13913.jpg\n",
      "2017-07-08 17:22:39.433081 \t 50000 \t file_18419.jpg\n",
      "2017-07-08 17:23:12.660088 \t 55000 \t file_4564.jpg\n",
      "2017-07-08 17:23:46.557720 \t 60000 \t file_892.jpg\n",
      "2017-07-08 17:23:54.773792\n"
     ]
    }
   ],
   "source": [
    "dirIn    = tDirs[1]\n",
    "for bds in binsList :\n",
    "    print ('-------->: bins={} Ext={} input-dir={}'.format(bds,ttExt,dirIn))\n",
    "    trOX, trOY = generateTest(dirIn,bds,debugOK=debug)\n",
    "    np.save('../Data-XGB/Datas/test-'+str(10000+bds)+ttExt+'-XX.npy',trOX)\n",
    "    np.save('../Data-XGB/Datas/test-'+str(10000+bds)+ttExt+'-YY.npy',trOY)\n",
    "    #print (bds,trOX.shape,trOY.shape, (trOX.shape[1]/bds)*bds, trOX.shape[1]/3)"
   ]
  },
  {
   "cell_type": "code",
   "execution_count": 50,
   "metadata": {
    "collapsed": false,
    "deletable": true,
    "editable": true
   },
   "outputs": [
    {
     "name": "stdout",
     "output_type": "stream",
     "text": [
      "65535 0 255.961650134\n",
      "[58861 36757 54014 ...,  6523 30377 38568] 0 255.961650134\n"
     ]
    },
    {
     "data": {
      "image/png": "[encoded data removed]",
      "text/plain": [
       "<matplotlib.figure.Figure at 0x7f2373a1e610>"
      ]
     },
     "metadata": {},
     "output_type": "display_data"
    }
   ],
   "source": [
    "print (trOX.max(), trOX.min(), trOX.mean())\n",
    "print (trOX.max(axis=1), trOX.min(), trOX[:].mean())\n",
    "\n",
    "plt.plot(trOX[0:10000].max(axis=0)); plt.show()"
   ]
  },
  {
   "cell_type": "code",
   "execution_count": 57,
   "metadata": {
    "collapsed": false
   },
   "outputs": [
    {
     "data": {
      "image/png": "[encoded data removed]",
      "text/plain": [
       "<matplotlib.figure.Figure at 0x7f23786ea290>"
      ]
     },
     "metadata": {},
     "output_type": "display_data"
    }
   ],
   "source": [
    "plt.plot(trOX[0:10000].max(axis=0)); plt.show()"
   ]
  },
  {
   "cell_type": "code",
   "execution_count": 25,
   "metadata": {
    "collapsed": false,
    "deletable": true,
    "editable": true
   },
   "outputs": [
    {
     "data": {
      "text/plain": [
       "((61191, 384), (61191, 192))"
      ]
     },
     "execution_count": 25,
     "metadata": {},
     "output_type": "execute_result"
    }
   ],
   "source": [
    "ax  = trOX\n",
    "ax2 = np.zeros((ax.shape[0],(ax.shape[1]/2)))\n",
    "for i in range(ax2.shape[1]) :\n",
    "    ax2[:,i] = ax[:,2*i]+ax[:,2*i+1]\n",
    "trOX.shape, ax2.shape"
   ]
  },
  {
   "cell_type": "code",
   "execution_count": null,
   "metadata": {
    "collapsed": true,
    "deletable": true,
    "editable": true
   },
   "outputs": [],
   "source": []
  },
  {
   "cell_type": "code",
   "execution_count": 153,
   "metadata": {
    "collapsed": true,
    "deletable": true,
    "editable": true
   },
   "outputs": [],
   "source": [
    "##--------------------- Examples save/load procedure"
   ]
  },
  {
   "cell_type": "code",
   "execution_count": 154,
   "metadata": {
    "collapsed": false,
    "deletable": true,
    "editable": true
   },
   "outputs": [],
   "source": [
    "if False :\n",
    "    trX = np.load('../Work/train-data-XX'+str(binsData)+ttExt+'.npy')\n",
    "    trY = np.load('../Work/train-data-YY'+str(binsData)+ttExt+'.npy')\n",
    "    print(trX.shape,trY.shape)"
   ]
  },
  {
   "cell_type": "code",
   "execution_count": 155,
   "metadata": {
    "collapsed": false,
    "deletable": true,
    "editable": true
   },
   "outputs": [],
   "source": [
    "if False :\n",
    "    np.save('../Work/test-data-XX'+str(binsData)+ttExt+'.npy',trOX)\n",
    "    np.save('../Work/test-data-YY'+str(binsData)+ttExt+'.npy',trOY)"
   ]
  },
  {
   "cell_type": "code",
   "execution_count": null,
   "metadata": {
    "collapsed": false,
    "deletable": true,
    "editable": true
   },
   "outputs": [],
   "source": []
  },
  {
   "cell_type": "code",
   "execution_count": null,
   "metadata": {
    "collapsed": true,
    "deletable": true,
    "editable": true
   },
   "outputs": [],
   "source": []
  }
 ],
 "metadata": {
  "kernelspec": {
   "display_name": "Python 2",
   "language": "python",
   "name": "python2"
  },
  "language_info": {
   "codemirror_mode": {
    "name": "ipython",
    "version": 2
   },
   "file_extension": ".py",
   "mimetype": "text/x-python",
   "name": "python",
   "nbconvert_exporter": "python",
   "pygments_lexer": "ipython2",
   "version": "2.7.13"
  }
 },
 "nbformat": 4,
 "nbformat_minor": 2
}
