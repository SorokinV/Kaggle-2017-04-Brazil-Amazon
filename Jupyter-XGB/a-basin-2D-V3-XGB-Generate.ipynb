{
 "cells": [
  {
   "cell_type": "code",
   "execution_count": 1,
   "metadata": {
    "collapsed": true,
    "deletable": true,
    "editable": true
   },
   "outputs": [],
   "source": [
    "# Отдельная генерация и сохранение train/text массивов для xgbooster  (2017-07-02)"
   ]
  },
  {
   "cell_type": "code",
   "execution_count": 2,
   "metadata": {
    "collapsed": false,
    "deletable": true,
    "editable": true
   },
   "outputs": [],
   "source": [
    "import sys,os,datetime\n",
    "import numpy as np\n",
    "import pandas as pd\n",
    "import matplotlib.pyplot as plt\n",
    "import sklearn.metrics as skm\n",
    "from __future__ import print_function"
   ]
  },
  {
   "cell_type": "code",
   "execution_count": 3,
   "metadata": {
    "collapsed": false,
    "deletable": true,
    "editable": true
   },
   "outputs": [
    {
     "name": "stdout",
     "output_type": "stream",
     "text": [
      "1.12.1\n",
      "0.19.2\n"
     ]
    }
   ],
   "source": [
    "print(np.__version__);\n",
    "print(pd.__version__);"
   ]
  },
  {
   "cell_type": "code",
   "execution_count": 4,
   "metadata": {
    "collapsed": false,
    "deletable": true,
    "editable": true
   },
   "outputs": [
    {
     "data": {
      "text/plain": [
       "'3.2.0'"
      ]
     },
     "execution_count": 4,
     "metadata": {},
     "output_type": "execute_result"
    }
   ],
   "source": [
    "import  cv2 as cv\n",
    "cv.__version__"
   ]
  },
  {
   "cell_type": "code",
   "execution_count": 5,
   "metadata": {
    "collapsed": false,
    "deletable": true,
    "editable": true
   },
   "outputs": [],
   "source": [
    "sys.path.append('../Python')\n",
    "from helper import paths_input, formImExt, formImHist\n",
    "from estimate import confusion_matrix, getConfusion, getRocAUC, getProb01, estimateResult"
   ]
  },
  {
   "cell_type": "code",
   "execution_count": null,
   "metadata": {
    "collapsed": false,
    "deletable": true,
    "editable": true
   },
   "outputs": [],
   "source": []
  },
  {
   "cell_type": "code",
   "execution_count": 6,
   "metadata": {
    "collapsed": false,
    "deletable": true,
    "editable": true
   },
   "outputs": [
    {
     "name": "stdout",
     "output_type": "stream",
     "text": [
      "../Work/Train ../Work/Test\n",
      "../Data/train_v2.csv ../Data/train-tif-v2 ../Data/train-jpg ../Data/test-tif-v2 ../Data/test-jpg-v2\n"
     ]
    }
   ],
   "source": [
    "binsData = 96\n",
    "\n",
    "trLabels,trDirTIF,trDirJPG,teDirTIF,teDirJPG = paths_input()\n",
    "trWork, teWork = '../Work/Train', '../Work/Test'\n",
    "print (trWork, teWork)\n",
    "print (trLabels,trDirTIF,trDirJPG,teDirTIF,teDirJPG)"
   ]
  },
  {
   "cell_type": "code",
   "execution_count": null,
   "metadata": {
    "collapsed": false,
    "deletable": true,
    "editable": true
   },
   "outputs": [],
   "source": []
  },
  {
   "cell_type": "code",
   "execution_count": 7,
   "metadata": {
    "collapsed": false,
    "deletable": true,
    "editable": true
   },
   "outputs": [
    {
     "data": {
      "text/html": [
       "<div>\n",
       "<table border=\"1\" class=\"dataframe\">\n",
       "  <thead>\n",
       "    <tr style=\"text-align: right;\">\n",
       "      <th></th>\n",
       "      <th>image_name</th>\n",
       "      <th>tags</th>\n",
       "    </tr>\n",
       "  </thead>\n",
       "  <tbody>\n",
       "    <tr>\n",
       "      <th>0</th>\n",
       "      <td>train_0</td>\n",
       "      <td>haze primary</td>\n",
       "    </tr>\n",
       "    <tr>\n",
       "      <th>1</th>\n",
       "      <td>train_1</td>\n",
       "      <td>agriculture clear primary water</td>\n",
       "    </tr>\n",
       "    <tr>\n",
       "      <th>2</th>\n",
       "      <td>train_2</td>\n",
       "      <td>clear primary</td>\n",
       "    </tr>\n",
       "    <tr>\n",
       "      <th>3</th>\n",
       "      <td>train_3</td>\n",
       "      <td>clear primary</td>\n",
       "    </tr>\n",
       "    <tr>\n",
       "      <th>4</th>\n",
       "      <td>train_4</td>\n",
       "      <td>agriculture clear habitation primary road</td>\n",
       "    </tr>\n",
       "  </tbody>\n",
       "</table>\n",
       "</div>"
      ],
      "text/plain": [
       "  image_name                                       tags\n",
       "0    train_0                               haze primary\n",
       "1    train_1            agriculture clear primary water\n",
       "2    train_2                              clear primary\n",
       "3    train_3                              clear primary\n",
       "4    train_4  agriculture clear habitation primary road"
      ]
     },
     "execution_count": 7,
     "metadata": {},
     "output_type": "execute_result"
    }
   ],
   "source": [
    "labels_df = pd.read_csv(trLabels)\n",
    "labels_df.head()"
   ]
  },
  {
   "cell_type": "code",
   "execution_count": 8,
   "metadata": {
    "collapsed": true,
    "deletable": true,
    "editable": true
   },
   "outputs": [],
   "source": [
    "# Build list with unique labels\n",
    "label_list = []\n",
    "for tag_str in labels_df.tags.values:\n",
    "    labels = tag_str.split(' ')\n",
    "    for label in labels:\n",
    "        if label not in label_list:\n",
    "            label_list.append(label)"
   ]
  },
  {
   "cell_type": "code",
   "execution_count": 9,
   "metadata": {
    "collapsed": false,
    "deletable": true,
    "editable": true
   },
   "outputs": [],
   "source": [
    "# Add features (0 or 1) for every label as dataframe field \n",
    "for label in label_list:\n",
    "    labels_df[label] = labels_df['tags'].apply(lambda x: 1 if label in x.split(' ') else 0)\n",
    "#labels_df.head()"
   ]
  },
  {
   "cell_type": "code",
   "execution_count": 10,
   "metadata": {
    "collapsed": false,
    "deletable": true,
    "editable": true
   },
   "outputs": [],
   "source": [
    "weather_labels = ['clear', 'partly_cloudy', 'haze', 'cloudy']\n",
    "land_labels = ['primary', 'agriculture', 'water', 'cultivation', 'habitation' ]\n",
    "rare_labels = [l for l in label_list if labels_df[label_list].sum()[l] < 2000]\n",
    "#rare_labels              "
   ]
  },
  {
   "cell_type": "code",
   "execution_count": null,
   "metadata": {
    "collapsed": false,
    "deletable": true,
    "editable": true
   },
   "outputs": [],
   "source": []
  },
  {
   "cell_type": "code",
   "execution_count": 11,
   "metadata": {
    "collapsed": false,
    "deletable": true,
    "editable": true
   },
   "outputs": [],
   "source": [
    "labels = label_list; #weather_labels;\n",
    "nameList =labels_df[labels_df[labels].sum(axis=1)>0].image_name.tolist(); len(nameList)\n",
    "labelList=labels_df[labels_df[labels].sum(axis=1)>0][labels].as_matrix();\n",
    "#labelList[:6,:]\n",
    "#labels_df.head()"
   ]
  },
  {
   "cell_type": "code",
   "execution_count": null,
   "metadata": {
    "collapsed": false,
    "deletable": true,
    "editable": true
   },
   "outputs": [],
   "source": []
  },
  {
   "cell_type": "code",
   "execution_count": 12,
   "metadata": {
    "collapsed": true,
    "deletable": true,
    "editable": true
   },
   "outputs": [],
   "source": [
    "#\n",
    "# Построение по входным наборам гистограмм и переработанных изображений (изменение размеров, улучшение, сглаживание\n",
    "#\n",
    "\n",
    "def formX3 (ni, resize=(32,32), printOK=False, GaussianOK=True, EqualizeOK=False) :\n",
    "        if GaussianOK : ni = np.array([cv.GaussianBlur(ni[:,:,i],(3,3),0) for i in range(ni.shape[2])]).T;\n",
    "        if EqualizeOK : ni = np.array([cv.equalizeHist(ni[:,:,i]) for i in range(ni.shape[2])]).T;\n",
    "        if resize and ((ni.shape[0],ni.shape[1])<>resize) : ni = cv.resize(ni,resize)\n",
    "        return(ni)\n",
    "    \n",
    "def formX4 (ni, resize=(32,32), printOK=False, GaussianOK=True, EqualizeOK=False, OnlyNI=False, ExtIndex=True) :\n",
    "    \n",
    "        #before or after???? \n",
    "        #Equalize only 256 color!  ni = np.array([cv.equalizeHist(ni[:,:,i]) for i in range(ni.shape[2]-1)]).T;\n",
    "        \n",
    "        if GaussianOK : ni = np.array([cv.GaussianBlur(ni[:,:,i],(3,3),0) for i in range(ni.shape[2])]).T;\n",
    "        r,g,b,n = ni[:,:,2],ni[:,:,1],ni[:,:,0],ni[:,:,3]\n",
    "        if resize and ((ni.shape[0],ni.shape[1])<>resize) : \n",
    "            r,g,b,n = cv.resize(r,resize),cv.resize(g,resize),cv.resize(b,resize),cv.resize(n,resize)\n",
    "        r,g,b,n = np.array(r,np.float32),np.array(g,np.float32),np.array(b,np.float32),np.array(n,np.float32)\n",
    "        rn,gn,bn,nn = r-r.mean(), g-g.mean(), b-b.mean(), n-n.mean() # ??? на пробу\n",
    "        \n",
    "        # навал индексной массы\n",
    "        ndvi,ndwi  = np.divide((rn-nn),(rn+nn+0.0001)), np.divide((gn-nn),(gn+nn+0.0001))\n",
    "        ## ? unknown range evi        = 2.5*np.divide((n-r),(n+6*r-7.5*b+1.0))\n",
    "        evi2       = 2.5*np.divide((nn-rn),(nn+2.4*rn+1.0))\n",
    "        savi       = 1.5*np.divide((nn-rn),(nn+rn+1.0))\n",
    "        \n",
    "        # аккуратно переводим r,g,b,n из 0..65536 в 0..256 = uint8\n",
    "        r,g,b,n = np.array(r/256.0,np.uint8), np.array(g/256.0,np.uint8), np.array(b/256.0,np.uint8), np.array(n/256.0,np.uint8)\n",
    "        if (not OnlyNI) and EqualizeOK : r,g,b   = cv.equalizeHist(r), cv.equalizeHist(g),  cv.equalizeHist(b)\n",
    "\n",
    "        # аккуратно переводим индекснуюю массу из [-1..1] в 0..256 = uint8\n",
    "        ndvi,ndwi   = np.array((ndvi+1.0)/2.0*256.0,np.uint8), np.array((ndwi+1.0)/2.0*256.0,np.uint8)\n",
    "        if ExtIndex :\n",
    "            ## unknown range ? evi     = np.array((evi+1.0)/2.0*256.0,np.uint8)\n",
    "            evi2    = np.array((evi2+1.041660)/3.541622*256.0,np.uint8)\n",
    "            savi    = np.array((savi+1.499977)/3.0*256.0,np.uint8)\n",
    "            ni      = np.array([r,g,b,n,ndvi,ndwi,evi2,savi]).T if not OnlyNI else np.array([n,ndvi,ndwi,evi2,savi]).T;\n",
    "        else : ni   = np.array([r,g,b,n,ndvi,ndwi]).T if not OnlyNI else np.array([n,ndvi,ndwi]).T;\n",
    "\n",
    "        #print('----',r[0,0],g[0,0],b[0,0],n[0,0],dv[0,0],dw[0,0],nx[0,0,5])\n",
    "        del r,g,b,n,ndvi,ndwi,evi2,savi\n",
    "        return (ni)\n",
    "\n",
    "def formImExt (nf, resize=(32,32), printOK=False, OnlyNI=False, GaussianOK=True, EqualizeOK=False, ExtIndex=True) :\n",
    "    nx = None\n",
    "    try : \n",
    "        ni = cv.imread(nf,-1); \n",
    "        if (ni is not None) :\n",
    "            \n",
    "            if not ((ni.shape[2]==3) or (ni.shape[2]==4)) and printOK : print('----- error ---- shape:',ni.shape,nf)\n",
    "                \n",
    "            if (ni.shape[2]==3) :   nx = formX3 (ni, resize=resize, GaussianOK=GaussianOK, EqualizeOK=EqualizeOK)\n",
    "                \n",
    "            if (ni.shape[2]==4) :   nx = formX4 (ni, resize=resize, GaussianOK=GaussianOK, EqualizeOK=EqualizeOK, OnlyNI=OnlyNI, ExtIndex=ExtIndex)\n",
    "\n",
    "    except BaseException as e : \n",
    "        print(nf,e); nx = None;\n",
    "    \n",
    "    if nx is None and printOK : \n",
    "        print('------ None:',nf); nx = None\n",
    "        \n",
    "    return(nx)\n",
    "\n",
    "def formImHist (nf, count, printOK=False, OnlyNI=False, GaussianOK=True, EqualizeOK=False, ExtIndex=True) :\n",
    "    \n",
    "    def histN (nf,bins) :\n",
    "        h = []\n",
    "        for i in range(nf.shape[2]) : \n",
    "            hh,_ = np.histogram(nf[:,:,i].ravel(),bins=bins)\n",
    "            h = h + hh.tolist()\n",
    "        return (np.array(h,dtype=np.uint16))\n",
    "             \n",
    "    def calculateBins (low,high,count) :\n",
    "        size    = float(high-low)/float(count)\n",
    "        bins = [low+x*size for x in range(count+1)]; #print(count,size,len(bins),bins[:3],bins[-3:])\n",
    "        return (bins)\n",
    "             \n",
    "    nx = None\n",
    "    try : \n",
    "        ni = formImExt (nf, resize=False, printOK=printOK, OnlyNI=OnlyNI, GaussianOK=GaussianOK, EqualizeOK=EqualizeOK, ExtIndex=ExtIndex)\n",
    "        if (ni is not None) :\n",
    "            \n",
    "            if printOK : print('formExtHist 1.1:',nf,ni.shape, ni.min(), ni.max())\n",
    "            bins = calculateBins(0,255,count)\n",
    "            if printOK : print('formExtHist 1.2:',count,bins[:4],bins[-4:])\n",
    "            nx = histN(ni,bins)\n",
    "            if printOK : print('formExtHist 1.3:',nf,nx.shape)\n",
    "            \n",
    "    except BaseException as e :\n",
    "        print(nf,e); nx = None;\n",
    "    \n",
    "    if nx is None and printOK : \n",
    "        print('------ None:',nf); nx = None\n",
    "        \n",
    "    return(nx)"
   ]
  },
  {
   "cell_type": "code",
   "execution_count": null,
   "metadata": {
    "collapsed": true,
    "deletable": true,
    "editable": true
   },
   "outputs": [],
   "source": []
  },
  {
   "cell_type": "code",
   "execution_count": 13,
   "metadata": {
    "collapsed": false,
    "deletable": true,
    "editable": true
   },
   "outputs": [],
   "source": [
    "def generateArrays( dirIn, nameAsk, binsData, debugOK=False) :\n",
    "    #nameAsk = os.listdir(dirIn); print(len(nameAsk))\n",
    "    trOX, trOY, i, size = [], [], 0, len(nameAsk)\n",
    "    if debugOK : size = 10\n",
    "    print(datetime.datetime.now(),len(nameAsk),size)\n",
    "    for nn in nameAsk[0:size] :\n",
    "        nf = os.path.join(dirIn,nn);\n",
    "        nx = formImHist(nf, binsData, printOK=debugOK, ExtIndex=True)\n",
    "        ##nx = formImHist(nf,binsData,printOK=debugOK,EqualizeOK=False,GaussianOK=True)\n",
    "        if (i==0) : trOX = np.zeros((size,nx.shape[0]),dtype=np.uint16) ## расчет на максимальный массив 256x256=65536=np.uint16\n",
    "        if (nx is not None) :\n",
    "            trOX[i] = nx\n",
    "            trOY.append(nn)\n",
    "        i += 1\n",
    "        if (i%5000==0) : print(datetime.datetime.now(),\"\\t\",i,\"\\t\",nn)\n",
    "            \n",
    "    ##trOX = np.array(trOX);\n",
    "    trOY = np.array([os.path.splitext(x)[0] for x in trOY]);\n",
    "\n",
    "    print(datetime.datetime.now())\n",
    "    return (trOX, trOY)\n",
    "\n",
    "def generateTest ( dirIn, binsData, debugOK=False) :\n",
    "    nameAsk = os.listdir(dirIn); #print(len(nameAsk))\n",
    "    return(generateArrays(dirIn,nameAsk,binsData,debugOK=debugOK))\n",
    "\n",
    "def generateTrain( dirIn, binsData, nameList, debugOK=False) :\n",
    "    ##nameAsk = os.listdir(dirIn); #print(len(nameAsk))\n",
    "    return(generateArrays(dirIn,nameList,binsData,debugOK=debugOK))\n"
   ]
  },
  {
   "cell_type": "code",
   "execution_count": null,
   "metadata": {
    "collapsed": false,
    "deletable": true,
    "editable": true
   },
   "outputs": [],
   "source": []
  },
  {
   "cell_type": "code",
   "execution_count": null,
   "metadata": {
    "collapsed": true,
    "deletable": true,
    "editable": true
   },
   "outputs": [],
   "source": []
  },
  {
   "cell_type": "code",
   "execution_count": 14,
   "metadata": {
    "collapsed": false,
    "deletable": true,
    "editable": true
   },
   "outputs": [],
   "source": [
    "param = {}\n",
    "param['.jpg'] = (trDirJPG,teDirJPG)\n",
    "param['.tif'] = (trDirTIF,teDirTIF)"
   ]
  },
  {
   "cell_type": "code",
   "execution_count": null,
   "metadata": {
    "collapsed": true,
    "deletable": true,
    "editable": true
   },
   "outputs": [],
   "source": []
  },
  {
   "cell_type": "code",
   "execution_count": 15,
   "metadata": {
    "collapsed": false,
    "deletable": true,
    "editable": true
   },
   "outputs": [],
   "source": [
    "binsList  = [32,64,128,256]\n",
    "debug     = False\n",
    "work_list = [(i,'.jpg') for i in binsList] + [(i,'.tif') for i in binsList]\n",
    "#work_list, param, param[work_list[0][1]][1]"
   ]
  },
  {
   "cell_type": "code",
   "execution_count": null,
   "metadata": {
    "collapsed": false,
    "deletable": true,
    "editable": true
   },
   "outputs": [],
   "source": []
  },
  {
   "cell_type": "code",
   "execution_count": null,
   "metadata": {
    "collapsed": false,
    "deletable": true,
    "editable": true
   },
   "outputs": [
    {
     "name": "stdout",
     "output_type": "stream",
     "text": [
      "-------->: bins=32 Ext=.jpg input-dir=../Data/train-jpg\n",
      "2017-07-14 04:16:54.307684 40479 40479\n",
      "2017-07-14 04:19:25.677733 \t 5000 \t train_4999.jpg\n",
      "2017-07-14 04:21:52.626138 \t 10000 \t train_9999.jpg\n",
      "2017-07-14 04:23:54.043736 \t 15000 \t train_14999.jpg\n",
      "2017-07-14 04:25:40.811732 \t 20000 \t train_19999.jpg\n",
      "2017-07-14 04:27:10.373946 \t 25000 \t train_24999.jpg\n",
      "2017-07-14 04:28:29.820227 \t 30000 \t train_29999.jpg\n",
      "2017-07-14 04:29:45.317296 \t 35000 \t train_34999.jpg\n",
      "2017-07-14 04:31:01.783020 \t 40000 \t train_39999.jpg\n",
      "2017-07-14 04:31:08.656032\n",
      "XX (32-.jpg) -> ../Data-XGB/Datas/train-10032.jpg-XX.npy\n",
      "YY (32-.jpg) -> ../Data-XGB/Datas/train-10032.jpg-YY.npy\n",
      "-------->: bins=64 Ext=.jpg input-dir=../Data/train-jpg\n",
      "2017-07-14 04:31:08.723473 40479 40479\n",
      "2017-07-14 04:31:44.744280 \t 5000 \t train_4999.jpg\n",
      "2017-07-14 04:32:21.045302 \t 10000 \t train_9999.jpg\n",
      "2017-07-14 04:32:56.880294 \t 15000 \t train_14999.jpg\n",
      "2017-07-14 04:33:32.840703 \t 20000 \t train_19999.jpg\n",
      "2017-07-14 04:34:08.969464 \t 25000 \t train_24999.jpg\n",
      "2017-07-14 04:34:44.636155 \t 30000 \t train_29999.jpg\n",
      "2017-07-14 04:35:20.411528 \t 35000 \t train_34999.jpg\n",
      "2017-07-14 04:35:56.084490 \t 40000 \t train_39999.jpg\n",
      "2017-07-14 04:35:59.470052\n",
      "XX (64-.jpg) -> ../Data-XGB/Datas/train-10064.jpg-XX.npy\n",
      "YY (64-.jpg) -> ../Data-XGB/Datas/train-10064.jpg-YY.npy\n",
      "-------->: bins=128 Ext=.jpg input-dir=../Data/train-jpg\n",
      "2017-07-14 04:35:59.593098 40479 40479\n",
      "2017-07-14 04:36:35.859702 \t 5000 \t train_4999.jpg\n",
      "2017-07-14 04:37:11.697122 \t 10000 \t train_9999.jpg\n",
      "2017-07-14 04:37:47.643135 \t 15000 \t train_14999.jpg\n",
      "2017-07-14 04:38:24.354157 \t 20000 \t train_19999.jpg\n",
      "2017-07-14 04:39:00.689476 \t 25000 \t train_24999.jpg\n",
      "2017-07-14 04:39:36.776796 \t 30000 \t train_29999.jpg\n",
      "2017-07-14 04:40:12.602267 \t 35000 \t train_34999.jpg\n",
      "2017-07-14 04:40:51.065034 \t 40000 \t train_39999.jpg\n",
      "2017-07-14 04:40:54.830649\n",
      "XX (128-.jpg) -> ../Data-XGB/Datas/train-10128.jpg-XX.npy\n",
      "YY (128-.jpg) -> ../Data-XGB/Datas/train-10128.jpg-YY.npy\n",
      "-------->: bins=256 Ext=.jpg input-dir=../Data/train-jpg\n",
      "2017-07-14 04:40:55.066565 40479 40479\n",
      "2017-07-14 04:41:31.796840 \t 5000 \t train_4999.jpg\n",
      "2017-07-14 04:42:08.234255 \t 10000 \t train_9999.jpg\n",
      "2017-07-14 04:42:44.518784 \t 15000 \t train_14999.jpg\n",
      "2017-07-14 04:43:20.451198 \t 20000 \t train_19999.jpg\n",
      "2017-07-14 04:43:56.448768 \t 25000 \t train_24999.jpg\n",
      "2017-07-14 04:44:32.797735 \t 30000 \t train_29999.jpg\n",
      "2017-07-14 04:45:08.878271 \t 35000 \t train_34999.jpg\n",
      "2017-07-14 04:45:44.876980 \t 40000 \t train_39999.jpg\n",
      "2017-07-14 04:45:48.335071\n",
      "XX (256-.jpg) -> ../Data-XGB/Datas/train-10256.jpg-XX.npy\n",
      "YY (256-.jpg) -> ../Data-XGB/Datas/train-10256.jpg-YY.npy\n",
      "-------->: bins=32 Ext=.tif input-dir=../Data/train-tif-v2\n",
      "2017-07-14 04:45:48.748089 40479 40479\n"
     ]
    },
    {
     "name": "stderr",
     "output_type": "stream",
     "text": [
      "/home/boba/anaconda2/envs/tensorflow-gpu/lib/python2.7/site-packages/ipykernel/__main__.py:26: RuntimeWarning: divide by zero encountered in divide\n",
      "/home/boba/anaconda2/envs/tensorflow-gpu/lib/python2.7/site-packages/ipykernel/__main__.py:27: RuntimeWarning: divide by zero encountered in divide\n"
     ]
    },
    {
     "name": "stdout",
     "output_type": "stream",
     "text": [
      "2017-07-14 04:51:03.816482 \t 5000 \t train_4999.tif\n",
      "2017-07-14 04:55:50.861837 \t 10000 \t train_9999.tif\n",
      "2017-07-14 05:00:28.610131 \t 15000 \t train_14999.tif\n",
      "2017-07-14 05:05:06.106441 \t 20000 \t train_19999.tif\n",
      "2017-07-14 05:09:33.642855 \t 25000 \t train_24999.tif\n",
      "2017-07-14 05:14:06.484157 \t 30000 \t train_29999.tif\n",
      "2017-07-14 05:18:26.616294 \t 35000 \t train_34999.tif\n",
      "2017-07-14 05:22:48.692247 \t 40000 \t train_39999.tif\n",
      "2017-07-14 05:23:12.234900\n",
      "XX (32-.tif) -> ../Data-XGB/Datas/train-10032.tif-XX.npy\n",
      "YY (32-.tif) -> ../Data-XGB/Datas/train-10032.tif-YY.npy\n",
      "-------->: bins=64 Ext=.tif input-dir=../Data/train-tif-v2\n",
      "2017-07-14 05:23:12.356978 40479 40479\n",
      "2017-07-14 05:27:18.486716 \t 5000 \t train_4999.tif\n",
      "2017-07-14 05:31:20.645932 \t 10000 \t train_9999.tif\n",
      "2017-07-14 05:35:24.286079 \t 15000 \t train_14999.tif\n",
      "2017-07-14 05:39:25.720438 \t 20000 \t train_19999.tif\n",
      "2017-07-14 05:43:25.739557 \t 25000 \t train_24999.tif\n",
      "2017-07-14 05:47:28.999594 \t 30000 \t train_29999.tif\n",
      "2017-07-14 05:51:29.357826 \t 35000 \t train_34999.tif\n",
      "2017-07-14 05:55:39.450488 \t 40000 \t train_39999.tif\n",
      "2017-07-14 05:56:01.666266\n",
      "XX (64-.tif) -> ../Data-XGB/Datas/train-10064.tif-XX.npy\n",
      "YY (64-.tif) -> ../Data-XGB/Datas/train-10064.tif-YY.npy\n",
      "-------->: bins=128 Ext=.tif input-dir=../Data/train-tif-v2\n",
      "2017-07-14 05:56:01.898375 40479 40479\n",
      "2017-07-14 06:00:03.095797 \t 5000 \t train_4999.tif\n",
      "2017-07-14 06:04:05.249119 \t 10000 \t train_9999.tif\n",
      "2017-07-14 06:08:03.888893 \t 15000 \t train_14999.tif\n",
      "2017-07-14 06:12:04.862164 \t 20000 \t train_19999.tif\n",
      "2017-07-14 06:16:04.216781 \t 25000 \t train_24999.tif\n",
      "2017-07-14 06:20:05.965930 \t 30000 \t train_29999.tif\n",
      "2017-07-14 06:24:06.655014 \t 35000 \t train_34999.tif\n",
      "2017-07-14 06:28:14.237318 \t 40000 \t train_39999.tif\n",
      "2017-07-14 06:28:36.397015\n",
      "XX (128-.tif) -> ../Data-XGB/Datas/train-10128.tif-XX.npy\n",
      "YY (128-.tif) -> ../Data-XGB/Datas/train-10128.tif-YY.npy\n",
      "-------->: bins=256 Ext=.tif input-dir=../Data/train-tif-v2\n",
      "2017-07-14 06:28:36.821045 40479 40479\n",
      "2017-07-14 06:32:38.581939 \t 5000 \t train_4999.tif\n",
      "2017-07-14 06:36:44.005802 \t 10000 \t train_9999.tif\n",
      "2017-07-14 06:40:42.371754 \t 15000 \t train_14999.tif\n",
      "2017-07-14 06:44:42.675471 \t 20000 \t train_19999.tif\n",
      "2017-07-14 06:48:41.151708 \t 25000 \t train_24999.tif\n",
      "2017-07-14 06:52:40.492811 \t 30000 \t train_29999.tif\n",
      "2017-07-14 06:57:01.981811 \t 35000 \t train_34999.tif\n",
      "2017-07-14 07:01:11.601689 \t 40000 \t train_39999.tif\n",
      "2017-07-14 07:01:33.801887\n",
      "XX (256-.tif) -> ../Data-XGB/Datas/train-10256.tif-XX.npy\n",
      "YY (256-.tif) -> ../Data-XGB/Datas/train-10256.tif-YY.npy\n"
     ]
    }
   ],
   "source": [
    "trOY = labelList;\n",
    "for bds, ttExt in work_list :\n",
    "    dirIn = param[ttExt][0]\n",
    "    print ('-------->: bins={} Ext={} input-dir={}'.format(bds,ttExt,dirIn))\n",
    "    nameListExt = [x+ttExt for x in nameList]\n",
    "    trOX, _     = generateTrain(dirIn,bds,nameListExt,debugOK=debug)\n",
    "    fnameXX = '../Data-XGB/Datas/train-'+str(10000+bds)+ttExt+'-XX.npy'; \n",
    "    fnameYY = '../Data-XGB/Datas/train-'+str(10000+bds)+ttExt+'-YY.npy';\n",
    "    np.save(fnameXX,trOX)\n",
    "    np.save(fnameYY,trOY)\n",
    "    print ('XX ({}-{}) -> {}'.format(bds,ttExt,fnameXX))\n",
    "    print ('YY ({}-{}) -> {}'.format(bds,ttExt,fnameYY))\n",
    "    #print (bds,trOX.shape,trOY.shape, (trOX.shape[1]/bds)*bds, trOX.shape[1]/3)dirIn    = teDirJPG"
   ]
  },
  {
   "cell_type": "code",
   "execution_count": 42,
   "metadata": {
    "collapsed": false,
    "deletable": true,
    "editable": true
   },
   "outputs": [
    {
     "name": "stdout",
     "output_type": "stream",
     "text": [
      "65535 0 255.969959732\n"
     ]
    },
    {
     "data": {
      "image/png": "[encoded data removed]",
      "text/plain": [
       "<matplotlib.figure.Figure at 0x7f966b47dc10>"
      ]
     },
     "metadata": {},
     "output_type": "display_data"
    },
    {
     "data": {
      "image/png": "[encoded data removed]",
      "text/plain": [
       "<matplotlib.figure.Figure at 0x7f966923ef10>"
      ]
     },
     "metadata": {},
     "output_type": "display_data"
    }
   ],
   "source": [
    "print (trOX.max(), trOX.min(), trOX.mean())\n",
    "#print (trOX.max(axis=0), trOX.min(axis=0), trOX[:].mean(axis=0))\n",
    "\n",
    "trOX.shape, 512/64\n",
    "plt.plot(trOX.mean(axis=0)); plt.show()\n",
    "plt.plot(trOX.max(axis=0)); plt.show()\n",
    "#plt.plot(trOX[0:10000].min(axis=0)); plt.show()"
   ]
  },
  {
   "cell_type": "code",
   "execution_count": 16,
   "metadata": {
    "collapsed": false,
    "deletable": true,
    "editable": true
   },
   "outputs": [
    {
     "name": "stdout",
     "output_type": "stream",
     "text": [
      "-------->: bins=32 Ext=.jpg input-dir=../Data/test-jpg-v2\n",
      "2017-07-14 08:28:34.480080 61191 61191\n",
      "2017-07-14 08:29:12.198564 \t 5000 \t test_14523.jpg\n",
      "2017-07-14 08:29:49.391236 \t 10000 \t test_19029.jpg\n",
      "2017-07-14 08:30:28.159189 \t 15000 \t test_23524.jpg\n",
      "2017-07-14 08:31:05.324068 \t 20000 \t test_28015.jpg\n",
      "2017-07-14 08:31:41.610784 \t 25000 \t test_32520.jpg\n",
      "2017-07-14 08:32:17.669860 \t 30000 \t test_37026.jpg\n",
      "2017-07-14 08:32:54.043556 \t 35000 \t test_4908.jpg\n",
      "2017-07-14 08:33:30.282428 \t 40000 \t test_9402.jpg\n",
      "2017-07-14 08:34:06.796065 \t 45000 \t file_13913.jpg\n",
      "2017-07-14 08:34:42.870197 \t 50000 \t file_18419.jpg\n",
      "2017-07-14 08:35:30.712823 \t 55000 \t file_4564.jpg\n",
      "2017-07-14 08:36:12.631943 \t 60000 \t file_892.jpg\n",
      "2017-07-14 08:36:22.015549\n",
      "OX (32-.jpg) -> ../Data-XGB/Datas/test-10032.jpg-XX.npy\n",
      "OY (32-.jpg) -> ../Data-XGB/Datas/test-10032.jpg-YY.npy\n",
      "-------->: bins=64 Ext=.jpg input-dir=../Data/test-jpg-v2\n",
      "2017-07-14 08:36:23.187403 61191 61191\n",
      "2017-07-14 08:37:00.482502 \t 5000 \t test_14523.jpg\n",
      "2017-07-14 08:37:38.152936 \t 10000 \t test_19029.jpg\n",
      "2017-07-14 08:38:15.351637 \t 15000 \t test_23524.jpg\n",
      "2017-07-14 08:38:52.400381 \t 20000 \t test_28015.jpg\n",
      "2017-07-14 08:39:29.022884 \t 25000 \t test_32520.jpg\n",
      "2017-07-14 08:40:05.727346 \t 30000 \t test_37026.jpg\n",
      "2017-07-14 08:40:44.682334 \t 35000 \t test_4908.jpg\n",
      "2017-07-14 08:41:22.864980 \t 40000 \t test_9402.jpg\n",
      "2017-07-14 08:42:02.436088 \t 45000 \t file_13913.jpg\n",
      "2017-07-14 08:42:39.440081 \t 50000 \t file_18419.jpg\n",
      "2017-07-14 08:43:26.780271 \t 55000 \t file_4564.jpg\n",
      "2017-07-14 08:44:07.855927 \t 60000 \t file_892.jpg\n",
      "2017-07-14 08:44:17.058217\n",
      "OX (64-.jpg) -> ../Data-XGB/Datas/test-10064.jpg-XX.npy\n",
      "OY (64-.jpg) -> ../Data-XGB/Datas/test-10064.jpg-YY.npy\n",
      "-------->: bins=128 Ext=.jpg input-dir=../Data/test-jpg-v2\n",
      "2017-07-14 08:44:17.243580 61191 61191\n",
      "2017-07-14 08:44:54.622353 \t 5000 \t test_14523.jpg\n",
      "2017-07-14 08:45:30.896107 \t 10000 \t test_19029.jpg\n",
      "2017-07-14 08:46:08.012634 \t 15000 \t test_23524.jpg\n",
      "2017-07-14 08:46:44.948375 \t 20000 \t test_28015.jpg\n",
      "2017-07-14 08:47:21.354342 \t 25000 \t test_32520.jpg\n",
      "2017-07-14 08:47:57.558418 \t 30000 \t test_37026.jpg\n",
      "2017-07-14 08:48:33.685454 \t 35000 \t test_4908.jpg\n",
      "2017-07-14 08:49:09.634520 \t 40000 \t test_9402.jpg\n",
      "2017-07-14 08:49:45.573228 \t 45000 \t file_13913.jpg\n",
      "2017-07-14 08:50:21.875413 \t 50000 \t file_18419.jpg\n",
      "2017-07-14 08:50:59.685305 \t 55000 \t file_4564.jpg\n",
      "2017-07-14 08:51:37.606716 \t 60000 \t file_892.jpg\n",
      "2017-07-14 08:51:46.235931\n",
      "OX (128-.jpg) -> ../Data-XGB/Datas/test-10128.jpg-XX.npy\n",
      "OY (128-.jpg) -> ../Data-XGB/Datas/test-10128.jpg-YY.npy\n",
      "-------->: bins=256 Ext=.jpg input-dir=../Data/test-jpg-v2\n",
      "2017-07-14 08:51:46.491541 61191 61191\n",
      "2017-07-14 08:52:23.277461 \t 5000 \t test_14523.jpg\n",
      "2017-07-14 08:52:59.899682 \t 10000 \t test_19029.jpg\n",
      "2017-07-14 08:53:36.218854 \t 15000 \t test_23524.jpg\n",
      "2017-07-14 08:54:12.527348 \t 20000 \t test_28015.jpg\n",
      "2017-07-14 08:54:49.021591 \t 25000 \t test_32520.jpg\n",
      "2017-07-14 08:55:25.392360 \t 30000 \t test_37026.jpg\n",
      "2017-07-14 08:56:02.023070 \t 35000 \t test_4908.jpg\n",
      "2017-07-14 08:56:38.528668 \t 40000 \t test_9402.jpg\n",
      "2017-07-14 08:57:15.007577 \t 45000 \t file_13913.jpg\n",
      "2017-07-14 08:57:52.100803 \t 50000 \t file_18419.jpg\n",
      "2017-07-14 08:58:28.616737 \t 55000 \t file_4564.jpg\n",
      "2017-07-14 08:59:04.784754 \t 60000 \t file_892.jpg\n",
      "2017-07-14 08:59:13.525035\n",
      "OX (256-.jpg) -> ../Data-XGB/Datas/test-10256.jpg-XX.npy\n",
      "OY (256-.jpg) -> ../Data-XGB/Datas/test-10256.jpg-YY.npy\n",
      "-------->: bins=32 Ext=.tif input-dir=../Data/test-tif-v2\n",
      "2017-07-14 08:59:15.258491 61191 61191\n"
     ]
    },
    {
     "name": "stderr",
     "output_type": "stream",
     "text": [
      "/home/boba/anaconda2/envs/tensorflow-gpu/lib/python2.7/site-packages/ipykernel/__main__.py:27: RuntimeWarning: divide by zero encountered in divide\n",
      "/home/boba/anaconda2/envs/tensorflow-gpu/lib/python2.7/site-packages/ipykernel/__main__.py:26: RuntimeWarning: divide by zero encountered in divide\n"
     ]
    },
    {
     "name": "stdout",
     "output_type": "stream",
     "text": [
      "2017-07-14 09:04:32.040752 \t 5000 \t test_15645.tif\n",
      "2017-07-14 09:10:14.985079 \t 10000 \t test_2615.tif\n",
      "2017-07-14 09:16:05.902675 \t 15000 \t test_6054.tif\n",
      "2017-07-14 09:21:32.605521 \t 20000 \t test_22406.tif\n",
      "2017-07-14 09:26:57.799346 \t 25000 \t test_37025.tif\n",
      "2017-07-14 09:32:00.625405 \t 30000 \t test_8910.tif\n",
      "2017-07-14 09:37:17.822750 \t 35000 \t test_39596.tif\n",
      "2017-07-14 09:42:20.059738 \t 40000 \t test_7740.tif\n",
      "2017-07-14 09:47:38.504782 \t 45000 \t test_35456.tif\n",
      "2017-07-14 09:52:36.506684 \t 50000 \t file_17548.tif\n",
      "2017-07-14 09:57:52.281218 \t 55000 \t test_19494.tif\n",
      "2017-07-14 10:02:42.672598 \t 60000 \t test_2939.tif\n",
      "2017-07-14 10:04:00.209853\n",
      "OX (32-.tif) -> ../Data-XGB/Datas/test-10032.tif-XX.npy\n",
      "OY (32-.tif) -> ../Data-XGB/Datas/test-10032.tif-YY.npy\n",
      "-------->: bins=64 Ext=.tif input-dir=../Data/test-tif-v2\n",
      "2017-07-14 10:04:01.415375 61191 61191\n",
      "2017-07-14 10:08:38.509657 \t 5000 \t test_15645.tif\n",
      "2017-07-14 10:13:01.075404 \t 10000 \t test_2615.tif\n",
      "2017-07-14 10:17:28.322015 \t 15000 \t test_6054.tif\n",
      "2017-07-14 10:21:59.598286 \t 20000 \t test_22406.tif\n",
      "2017-07-14 10:26:49.778932 \t 25000 \t test_37025.tif\n",
      "2017-07-14 10:31:42.888739 \t 30000 \t test_8910.tif\n",
      "2017-07-14 10:36:17.469042 \t 35000 \t test_39596.tif\n",
      "2017-07-14 10:40:45.114539 \t 40000 \t test_7740.tif\n",
      "2017-07-14 10:45:10.735130 \t 45000 \t test_35456.tif\n",
      "2017-07-14 10:49:38.997662 \t 50000 \t file_17548.tif\n",
      "2017-07-14 10:54:14.534433 \t 55000 \t test_19494.tif\n",
      "2017-07-14 10:58:27.169285 \t 60000 \t test_2939.tif\n",
      "2017-07-14 10:59:24.897216\n",
      "OX (64-.tif) -> ../Data-XGB/Datas/test-10064.tif-XX.npy\n",
      "OY (64-.tif) -> ../Data-XGB/Datas/test-10064.tif-YY.npy\n",
      "-------->: bins=128 Ext=.tif input-dir=../Data/test-tif-v2\n",
      "2017-07-14 10:59:26.190966 61191 61191\n",
      "2017-07-14 11:03:32.706256 \t 5000 \t test_15645.tif\n",
      "2017-07-14 11:07:45.024952 \t 10000 \t test_2615.tif\n",
      "2017-07-14 11:11:46.013243 \t 15000 \t test_6054.tif\n",
      "2017-07-14 11:15:48.213505 \t 20000 \t test_22406.tif\n",
      "2017-07-14 11:19:57.172015 \t 25000 \t test_37025.tif\n",
      "2017-07-14 11:23:57.149937 \t 30000 \t test_8910.tif\n",
      "2017-07-14 11:27:58.684116 \t 35000 \t test_39596.tif\n",
      "2017-07-14 11:31:56.642542 \t 40000 \t test_7740.tif\n",
      "2017-07-14 11:35:54.499058 \t 45000 \t test_35456.tif\n",
      "2017-07-14 11:39:54.445047 \t 50000 \t file_17548.tif\n",
      "2017-07-14 11:43:53.518872 \t 55000 \t test_19494.tif\n",
      "2017-07-14 11:47:46.565264 \t 60000 \t test_2939.tif\n",
      "2017-07-14 11:48:44.607676\n",
      "OX (128-.tif) -> ../Data-XGB/Datas/test-10128.tif-XX.npy\n",
      "OY (128-.tif) -> ../Data-XGB/Datas/test-10128.tif-YY.npy\n",
      "-------->: bins=256 Ext=.tif input-dir=../Data/test-tif-v2\n",
      "2017-07-14 11:48:46.263626 61191 61191\n",
      "2017-07-14 11:52:39.388623 \t 5000 \t test_15645.tif\n",
      "2017-07-14 11:56:30.619910 \t 10000 \t test_2615.tif\n",
      "2017-07-14 12:00:26.069837 \t 15000 \t test_6054.tif\n",
      "2017-07-14 12:04:16.320340 \t 20000 \t test_22406.tif\n",
      "2017-07-14 12:08:09.561195 \t 25000 \t test_37025.tif\n",
      "2017-07-14 12:12:00.943712 \t 30000 \t test_8910.tif\n",
      "2017-07-14 12:15:47.116126 \t 35000 \t test_39596.tif\n",
      "2017-07-14 12:19:36.357341 \t 40000 \t test_7740.tif\n",
      "2017-07-14 12:23:30.769513 \t 45000 \t test_35456.tif\n",
      "2017-07-14 12:27:16.413424 \t 50000 \t file_17548.tif\n",
      "2017-07-14 12:31:14.649092 \t 55000 \t test_19494.tif\n",
      "2017-07-14 12:35:00.216031 \t 60000 \t test_2939.tif\n",
      "2017-07-14 12:35:52.395787\n",
      "OX (256-.tif) -> ../Data-XGB/Datas/test-10256.tif-XX.npy\n",
      "OY (256-.tif) -> ../Data-XGB/Datas/test-10256.tif-YY.npy\n"
     ]
    }
   ],
   "source": [
    "for bds, ttExt in work_list :\n",
    "    dirIn = param[ttExt][1]\n",
    "    print ('-------->: bins={} Ext={} input-dir={}'.format(bds,ttExt,dirIn))\n",
    "    trOX, trOY = generateTest(dirIn,bds,debugOK=debug)\n",
    "    fnameXX = '../Data-XGB/Datas/test-'+str(10000+bds)+ttExt+'-XX.npy'; \n",
    "    fnameYY = '../Data-XGB/Datas/test-'+str(10000+bds)+ttExt+'-YY.npy'; \n",
    "    np.save(fnameXX,trOX)\n",
    "    np.save(fnameYY,trOY)\n",
    "    print ('OX ({}-{}) -> {}'.format(bds,ttExt,fnameXX))\n",
    "    print ('OY ({}-{}) -> {}'.format(bds,ttExt,fnameYY))"
   ]
  },
  {
   "cell_type": "code",
   "execution_count": null,
   "metadata": {
    "collapsed": false,
    "deletable": true,
    "editable": true
   },
   "outputs": [],
   "source": [
    "print (trOX.max(), trOX.min(), trOX.mean())\n",
    "#print (trOX.max(axis=1), trOX.min(), trOX[:].mean())\n",
    "\n",
    "trOX.shape, 512/64\n",
    "plt.plot(trOX[0:10000].mean(axis=0)); plt.show()\n",
    "plt.plot(trOX[0:10000].max(axis=0)); plt.show()\n",
    "#plt.plot(trOX[0:10000].min(axis=0)); plt.show()"
   ]
  },
  {
   "cell_type": "code",
   "execution_count": 32,
   "metadata": {
    "collapsed": false,
    "deletable": true,
    "editable": true
   },
   "outputs": [
    {
     "data": {
      "image/png": "[encoded data removed]",
      "text/plain": [
       "<matplotlib.figure.Figure at 0x7fc514645a10>"
      ]
     },
     "metadata": {},
     "output_type": "display_data"
    },
    {
     "data": {
      "image/png": "[encoded data removed]",
      "text/plain": [
       "<matplotlib.figure.Figure at 0x7fc514150990>"
      ]
     },
     "metadata": {},
     "output_type": "display_data"
    }
   ],
   "source": [
    "plt.plot(trOX[0:10000].mean(axis=0)); plt.show()\n",
    "plt.plot(trOX[0:10000].max(axis=0)); plt.show()"
   ]
  },
  {
   "cell_type": "code",
   "execution_count": 25,
   "metadata": {
    "collapsed": false,
    "deletable": true,
    "editable": true
   },
   "outputs": [
    {
     "data": {
      "text/plain": [
       "((61191, 384), (61191, 192))"
      ]
     },
     "execution_count": 25,
     "metadata": {},
     "output_type": "execute_result"
    }
   ],
   "source": [
    "ax  = trOX\n",
    "ax2 = np.zeros((ax.shape[0],(ax.shape[1]/2)))\n",
    "for i in range(ax2.shape[1]) :\n",
    "    ax2[:,i] = ax[:,2*i]+ax[:,2*i+1]\n",
    "trOX.shape, ax2.shape"
   ]
  },
  {
   "cell_type": "code",
   "execution_count": null,
   "metadata": {
    "collapsed": true,
    "deletable": true,
    "editable": true
   },
   "outputs": [],
   "source": []
  },
  {
   "cell_type": "code",
   "execution_count": 153,
   "metadata": {
    "collapsed": true,
    "deletable": true,
    "editable": true
   },
   "outputs": [],
   "source": [
    "##--------------------- Examples save/load procedure"
   ]
  },
  {
   "cell_type": "code",
   "execution_count": 154,
   "metadata": {
    "collapsed": false,
    "deletable": true,
    "editable": true
   },
   "outputs": [],
   "source": [
    "if False :\n",
    "    trX = np.load('../Work/train-data-XX'+str(binsData)+ttExt+'.npy')\n",
    "    trY = np.load('../Work/train-data-YY'+str(binsData)+ttExt+'.npy')\n",
    "    print(trX.shape,trY.shape)"
   ]
  },
  {
   "cell_type": "code",
   "execution_count": 155,
   "metadata": {
    "collapsed": false,
    "deletable": true,
    "editable": true
   },
   "outputs": [],
   "source": [
    "if False :\n",
    "    np.save('../Work/test-data-XX'+str(binsData)+ttExt+'.npy',trOX)\n",
    "    np.save('../Work/test-data-YY'+str(binsData)+ttExt+'.npy',trOY)"
   ]
  },
  {
   "cell_type": "code",
   "execution_count": null,
   "metadata": {
    "collapsed": false,
    "deletable": true,
    "editable": true
   },
   "outputs": [],
   "source": []
  },
  {
   "cell_type": "code",
   "execution_count": null,
   "metadata": {
    "collapsed": true,
    "deletable": true,
    "editable": true
   },
   "outputs": [],
   "source": []
  }
 ],
 "metadata": {
  "kernelspec": {
   "display_name": "Python 2",
   "language": "python",
   "name": "python2"
  },
  "language_info": {
   "codemirror_mode": {
    "name": "ipython",
    "version": 2
   },
   "file_extension": ".py",
   "mimetype": "text/x-python",
   "name": "python",
   "nbconvert_exporter": "python",
   "pygments_lexer": "ipython2",
   "version": "2.7.13"
  }
 },
 "nbformat": 4,
 "nbformat_minor": 2
}
