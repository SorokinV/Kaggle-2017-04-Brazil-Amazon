{
 "cells": [
  {
   "cell_type": "code",
   "execution_count": 1,
   "metadata": {
    "collapsed": true,
    "deletable": true,
    "editable": true
   },
   "outputs": [],
   "source": [
    "# Отдельная генерация и сохранение train/text массивов для xgbooster  (2017-07-02)"
   ]
  },
  {
   "cell_type": "code",
   "execution_count": 2,
   "metadata": {
    "collapsed": false,
    "deletable": true,
    "editable": true
   },
   "outputs": [],
   "source": [
    "import sys,os,datetime\n",
    "import numpy as np\n",
    "import pandas as pd\n",
    "import matplotlib.pyplot as plt\n",
    "import sklearn.metrics as skm\n",
    "from __future__ import print_function"
   ]
  },
  {
   "cell_type": "code",
   "execution_count": 3,
   "metadata": {
    "collapsed": false,
    "deletable": true,
    "editable": true
   },
   "outputs": [
    {
     "name": "stdout",
     "output_type": "stream",
     "text": [
      "1.12.1\n",
      "0.19.2\n"
     ]
    }
   ],
   "source": [
    "print(np.__version__);\n",
    "print(pd.__version__);"
   ]
  },
  {
   "cell_type": "code",
   "execution_count": 4,
   "metadata": {
    "collapsed": false,
    "deletable": true,
    "editable": true
   },
   "outputs": [
    {
     "data": {
      "text/plain": [
       "'3.2.0'"
      ]
     },
     "execution_count": 4,
     "metadata": {},
     "output_type": "execute_result"
    }
   ],
   "source": [
    "import  cv2 as cv\n",
    "cv.__version__"
   ]
  },
  {
   "cell_type": "code",
   "execution_count": 5,
   "metadata": {
    "collapsed": false,
    "deletable": true,
    "editable": true
   },
   "outputs": [],
   "source": [
    "sys.path.append('../Python')\n",
    "from helper import paths_input, formImExt, formImHist\n",
    "from estimate import confusion_matrix, getConfusion, getRocAUC, getProb01, estimateResult"
   ]
  },
  {
   "cell_type": "code",
   "execution_count": null,
   "metadata": {
    "collapsed": false,
    "deletable": true,
    "editable": true
   },
   "outputs": [],
   "source": []
  },
  {
   "cell_type": "code",
   "execution_count": 6,
   "metadata": {
    "collapsed": false,
    "deletable": true,
    "editable": true
   },
   "outputs": [
    {
     "name": "stdout",
     "output_type": "stream",
     "text": [
      "../Work/Train ../Work/Test\n",
      "../Data/train_v2.csv ../Data/train-tif-v2 ../Data/train-jpg ../Data/test-tif-v2 ../Data/test-jpg-v2\n"
     ]
    }
   ],
   "source": [
    "binsData = 96\n",
    "\n",
    "trLabels,trDirTIF,trDirJPG,teDirTIF,teDirJPG = paths_input()\n",
    "trWork, teWork = '../Work/Train', '../Work/Test'\n",
    "print (trWork, teWork)\n",
    "print (trLabels,trDirTIF,trDirJPG,teDirTIF,teDirJPG)"
   ]
  },
  {
   "cell_type": "code",
   "execution_count": null,
   "metadata": {
    "collapsed": false,
    "deletable": true,
    "editable": true
   },
   "outputs": [],
   "source": []
  },
  {
   "cell_type": "code",
   "execution_count": 7,
   "metadata": {
    "collapsed": false,
    "deletable": true,
    "editable": true
   },
   "outputs": [
    {
     "data": {
      "text/html": [
       "<div>\n",
       "<table border=\"1\" class=\"dataframe\">\n",
       "  <thead>\n",
       "    <tr style=\"text-align: right;\">\n",
       "      <th></th>\n",
       "      <th>image_name</th>\n",
       "      <th>tags</th>\n",
       "    </tr>\n",
       "  </thead>\n",
       "  <tbody>\n",
       "    <tr>\n",
       "      <th>0</th>\n",
       "      <td>train_0</td>\n",
       "      <td>haze primary</td>\n",
       "    </tr>\n",
       "    <tr>\n",
       "      <th>1</th>\n",
       "      <td>train_1</td>\n",
       "      <td>agriculture clear primary water</td>\n",
       "    </tr>\n",
       "    <tr>\n",
       "      <th>2</th>\n",
       "      <td>train_2</td>\n",
       "      <td>clear primary</td>\n",
       "    </tr>\n",
       "    <tr>\n",
       "      <th>3</th>\n",
       "      <td>train_3</td>\n",
       "      <td>clear primary</td>\n",
       "    </tr>\n",
       "    <tr>\n",
       "      <th>4</th>\n",
       "      <td>train_4</td>\n",
       "      <td>agriculture clear habitation primary road</td>\n",
       "    </tr>\n",
       "  </tbody>\n",
       "</table>\n",
       "</div>"
      ],
      "text/plain": [
       "  image_name                                       tags\n",
       "0    train_0                               haze primary\n",
       "1    train_1            agriculture clear primary water\n",
       "2    train_2                              clear primary\n",
       "3    train_3                              clear primary\n",
       "4    train_4  agriculture clear habitation primary road"
      ]
     },
     "execution_count": 7,
     "metadata": {},
     "output_type": "execute_result"
    }
   ],
   "source": [
    "labels_df = pd.read_csv(trLabels)\n",
    "labels_df.head()"
   ]
  },
  {
   "cell_type": "code",
   "execution_count": 8,
   "metadata": {
    "collapsed": true,
    "deletable": true,
    "editable": true
   },
   "outputs": [],
   "source": [
    "# Build list with unique labels\n",
    "label_list = []\n",
    "for tag_str in labels_df.tags.values:\n",
    "    labels = tag_str.split(' ')\n",
    "    for label in labels:\n",
    "        if label not in label_list:\n",
    "            label_list.append(label)"
   ]
  },
  {
   "cell_type": "code",
   "execution_count": 9,
   "metadata": {
    "collapsed": false,
    "deletable": true,
    "editable": true
   },
   "outputs": [],
   "source": [
    "# Add features (0 or 1) for every label as dataframe field \n",
    "for label in label_list:\n",
    "    labels_df[label] = labels_df['tags'].apply(lambda x: 1 if label in x.split(' ') else 0)\n",
    "#labels_df.head()"
   ]
  },
  {
   "cell_type": "code",
   "execution_count": 10,
   "metadata": {
    "collapsed": false,
    "deletable": true,
    "editable": true
   },
   "outputs": [],
   "source": [
    "weather_labels = ['clear', 'partly_cloudy', 'haze', 'cloudy']\n",
    "land_labels = ['primary', 'agriculture', 'water', 'cultivation', 'habitation' ]\n",
    "rare_labels = [l for l in label_list if labels_df[label_list].sum()[l] < 2000]\n",
    "#rare_labels              "
   ]
  },
  {
   "cell_type": "code",
   "execution_count": null,
   "metadata": {
    "collapsed": false,
    "deletable": true,
    "editable": true
   },
   "outputs": [],
   "source": []
  },
  {
   "cell_type": "code",
   "execution_count": 11,
   "metadata": {
    "collapsed": false,
    "deletable": true,
    "editable": true
   },
   "outputs": [],
   "source": [
    "labels = label_list; #weather_labels;\n",
    "nameList =labels_df[labels_df[labels].sum(axis=1)>0].image_name.tolist(); len(nameList)\n",
    "labelList=labels_df[labels_df[labels].sum(axis=1)>0][labels].as_matrix();\n",
    "#labelList[:6,:]\n",
    "#labels_df.head()"
   ]
  },
  {
   "cell_type": "code",
   "execution_count": null,
   "metadata": {
    "collapsed": false,
    "deletable": true,
    "editable": true
   },
   "outputs": [],
   "source": []
  },
  {
   "cell_type": "code",
   "execution_count": 17,
   "metadata": {
    "collapsed": true,
    "deletable": true,
    "editable": true
   },
   "outputs": [],
   "source": [
    "#\n",
    "# Построение по входным наборам гистограмм и переработанных изображений (изменение размеров, улучшение, сглаживание\n",
    "#\n",
    "\n",
    "def formX3 (ni, resize=(32,32), printOK=False, GaussianOK=True, EqualizeOK=False) :\n",
    "        if GaussianOK : ni = np.array([cv.GaussianBlur(ni[:,:,i],(3,3),0) for i in range(ni.shape[2])]).T;\n",
    "        if EqualizeOK : ni = np.array([cv.equalizeHist(ni[:,:,i]) for i in range(ni.shape[2])]).T;\n",
    "        if resize and ((ni.shape[0],ni.shape[1])<>resize) : ni = cv.resize(ni,resize)\n",
    "        return(ni)\n",
    "    \n",
    "def formX4 (ni, resize=(32,32), printOK=False, GaussianOK=True, EqualizeOK=False, OnlyNI=False, ExtIndex=True) :\n",
    "    \n",
    "        #before or after???? \n",
    "        #Equalize only 256 color!  ni = np.array([cv.equalizeHist(ni[:,:,i]) for i in range(ni.shape[2]-1)]).T;\n",
    "        \n",
    "        if GaussianOK : ni = np.array([cv.GaussianBlur(ni[:,:,i],(3,3),0) for i in range(ni.shape[2])]).T;\n",
    "        r,g,b,n = ni[:,:,2],ni[:,:,1],ni[:,:,0],ni[:,:,3]\n",
    "        if resize and ((ni.shape[0],ni.shape[1])<>resize) : \n",
    "            r,g,b,n = cv.resize(r,resize),cv.resize(g,resize),cv.resize(b,resize),cv.resize(n,resize)\n",
    "        r,g,b,n = np.array(r,np.float32),np.array(g,np.float32),np.array(b,np.float32),np.array(n,np.float32)\n",
    "        \n",
    "        \n",
    "        # навал индексной массы\n",
    "        ndvi,ndwi  = np.divide((r-n),(r+n+0.0001)), np.divide((g-n),(g+n+0.0001))\n",
    "        ## ? unknown range evi        = 2.5*np.divide((n-r),(n+6*r-7.5*b+1.0))\n",
    "        evi2       = 2.5*np.divide((n-r),(n+2.4*r+1.0))\n",
    "        savi       = 1.5*np.divide((n-r),(n+r+1.0))\n",
    "        \n",
    "        # аккуратно переводим r,g,b,n из 0..65536 в 0..256 = uint8\n",
    "        r,g,b,n = np.array(r/256.0,np.uint8), np.array(g/256.0,np.uint8), np.array(b/256.0,np.uint8), np.array(n/256.0,np.uint8)\n",
    "        if (not OnlyNI) and EqualizeOK : r,g,b   = cv.equalizeHist(r), cv.equalizeHist(g),  cv.equalizeHist(b)\n",
    "\n",
    "        # аккуратно переводим индекснуюю массу из [-1..1] в 0..256 = uint8\n",
    "        ndvi,ndwi   = np.array((ndvi+1.0)/2.0*256.0,np.uint8), np.array((ndwi+1.0)/2.0*256.0,np.uint8)\n",
    "        if ExtIndex :\n",
    "            ## unknown range ? evi     = np.array((evi+1.0)/2.0*256.0,np.uint8)\n",
    "            evi2    = np.array((evi2+1.041660)/3.541622*256.0,np.uint8)\n",
    "            savi    = np.array((savi+1.499977)/3.0*256.0,np.uint8)\n",
    "            ni      = np.array([r,g,b,n,ndvi,ndwi,evi2,savi]).T if not OnlyNI else np.array([n,ndvi,ndwi,evi2,savi]).T;\n",
    "        else : ni   = np.array([r,g,b,n,ndvi,ndwi]).T if not OnlyNI else np.array([n,ndvi,ndwi]).T;\n",
    "\n",
    "        #print('----',r[0,0],g[0,0],b[0,0],n[0,0],dv[0,0],dw[0,0],nx[0,0,5])\n",
    "        del r,g,b,n,ndvi,ndwi,evi2,savi\n",
    "        return (ni)\n",
    "\n",
    "def formImExt (nf, resize=(32,32), printOK=False, OnlyNI=False, GaussianOK=True, EqualizeOK=False, ExtIndex=True) :\n",
    "    nx = None\n",
    "    try : \n",
    "        ni = cv.imread(nf,-1); \n",
    "        if (ni is not None) :\n",
    "            \n",
    "            if not ((ni.shape[2]==3) or (ni.shape[2]==4)) and printOK : print('----- error ---- shape:',ni.shape,nf)\n",
    "                \n",
    "            if (ni.shape[2]==3) :   nx = formX3 (ni, resize=resize, GaussianOK=GaussianOK, EqualizeOK=EqualizeOK)\n",
    "                \n",
    "            if (ni.shape[2]==4) :   nx = formX4 (ni, resize=resize, GaussianOK=GaussianOK, EqualizeOK=EqualizeOK, OnlyNI=OnlyNI, ExtIndex=ExtIndex)\n",
    "\n",
    "    except BaseException as e : \n",
    "        print(nf,e); nx = None;\n",
    "    \n",
    "    if nx is None and printOK : \n",
    "        print('------ None:',nf); nx = None\n",
    "        \n",
    "    return(nx)\n",
    "\n",
    "def formImHist (nf, count, printOK=False, OnlyNI=False, GaussianOK=True, EqualizeOK=False, ExtIndex=True) :\n",
    "    \n",
    "    def histN (nf,bins) :\n",
    "        h = []\n",
    "        for i in range(nf.shape[2]) : \n",
    "            hh,_ = np.histogram(nf[:,:,i].ravel(),bins=bins)\n",
    "            h = h + hh.tolist()\n",
    "        return (np.array(h,dtype=np.uint16))\n",
    "             \n",
    "    def calculateBins (low,high,count) :\n",
    "        size    = float(high-low)/float(count)\n",
    "        bins = [low+x*size for x in range(count+1)]; #print(count,size,len(bins),bins[:3],bins[-3:])\n",
    "        return (bins)\n",
    "             \n",
    "    nx = None\n",
    "    try : \n",
    "        ni = formImExt (nf, resize=False, printOK=printOK, OnlyNI=OnlyNI, GaussianOK=GaussianOK, EqualizeOK=EqualizeOK, ExtIndex=ExtIndex)\n",
    "        if (ni is not None) :\n",
    "            \n",
    "            if printOK : print('formExtHist 1.1:',nf,ni.shape, ni.min(), ni.max())\n",
    "            bins = calculateBins(0,255,count)\n",
    "            if printOK : print('formExtHist 1.2:',count,bins[:4],bins[-4:])\n",
    "            nx = histN(ni,bins)\n",
    "            if printOK : print('formExtHist 1.3:',nf,nx.shape)\n",
    "            \n",
    "    except BaseException as e :\n",
    "        print(nf,e); nx = None;\n",
    "    \n",
    "    if nx is None and printOK : \n",
    "        print('------ None:',nf); nx = None\n",
    "        \n",
    "    return(nx)"
   ]
  },
  {
   "cell_type": "code",
   "execution_count": null,
   "metadata": {
    "collapsed": true,
    "deletable": true,
    "editable": true
   },
   "outputs": [],
   "source": []
  },
  {
   "cell_type": "code",
   "execution_count": 18,
   "metadata": {
    "collapsed": false,
    "deletable": true,
    "editable": true
   },
   "outputs": [],
   "source": [
    "def generateArrays( dirIn, nameAsk, binsData, debugOK=False) :\n",
    "    #nameAsk = os.listdir(dirIn); print(len(nameAsk))\n",
    "    trOX, trOY, i, size = [], [], 0, len(nameAsk)\n",
    "    if debugOK : size = 3\n",
    "    print(datetime.datetime.now(),len(nameAsk),size)\n",
    "    for nn in nameAsk[0:size] :\n",
    "        nf = os.path.join(dirIn,nn);\n",
    "        nx = formImHist(nf, binsData, printOK=debugOK, ExtIndex=True)\n",
    "        ##nx = formImHist(nf,binsData,printOK=debugOK,EqualizeOK=False,GaussianOK=True)\n",
    "        if (i==0) : trOX = np.zeros((size,nx.shape[0]),dtype=np.uint16) ## расчет на максимальный массив 256x256=65536=np.uint16\n",
    "        if (nx is not None) :\n",
    "            trOX[i] = nx\n",
    "            trOY.append(nn)\n",
    "        i += 1\n",
    "        if (i%5000==0) : print(datetime.datetime.now(),\"\\t\",i,\"\\t\",nn)\n",
    "            \n",
    "    ##trOX = np.array(trOX);\n",
    "    trOY = np.array([os.path.splitext(x)[0] for x in trOY]);\n",
    "\n",
    "    print(datetime.datetime.now())\n",
    "    return (trOX, trOY)\n",
    "\n",
    "def generateTest ( dirIn, binsData, debugOK=False) :\n",
    "    nameAsk = os.listdir(dirIn); #print(len(nameAsk))\n",
    "    return(generateArrays(dirIn,nameAsk,binsData,debugOK=debugOK))\n",
    "\n",
    "def generateTrain( dirIn, binsData, nameList, debugOK=False) :\n",
    "    ##nameAsk = os.listdir(dirIn); #print(len(nameAsk))\n",
    "    return(generateArrays(dirIn,nameList,binsData,debugOK=debugOK))\n"
   ]
  },
  {
   "cell_type": "code",
   "execution_count": null,
   "metadata": {
    "collapsed": false,
    "deletable": true,
    "editable": true
   },
   "outputs": [],
   "source": []
  },
  {
   "cell_type": "code",
   "execution_count": 19,
   "metadata": {
    "collapsed": false,
    "deletable": true,
    "editable": true
   },
   "outputs": [],
   "source": [
    "# Генерация для JPG\n",
    "#binsList = [256,96,128] \n",
    "#binsList = [32,64,80]\n",
    "ttExt    = '.jpg'\n",
    "debug = False\n",
    "tDirs = (trDirJPG,teDirJPG)"
   ]
  },
  {
   "cell_type": "code",
   "execution_count": 20,
   "metadata": {
    "collapsed": true,
    "deletable": true,
    "editable": true
   },
   "outputs": [],
   "source": [
    "# Генерация для TIF\n",
    "binsList = [64,128,256]\n",
    "#binsList = [256,96,128] \n",
    "#binsList = [32,64,80]\n",
    "ttExt    = '.tif'\n",
    "debug = False\n",
    "tDirs = (trDirTIF,teDirTIF)"
   ]
  },
  {
   "cell_type": "code",
   "execution_count": 21,
   "metadata": {
    "collapsed": true,
    "deletable": true,
    "editable": true
   },
   "outputs": [],
   "source": [
    "binsList = [64]\n",
    "debug = False"
   ]
  },
  {
   "cell_type": "code",
   "execution_count": 22,
   "metadata": {
    "collapsed": false,
    "deletable": true,
    "editable": true
   },
   "outputs": [
    {
     "name": "stdout",
     "output_type": "stream",
     "text": [
      "-------->: bins=64 Ext=.tif input-dir=../Data/train-tif-v2\n",
      "2017-07-09 01:05:19.359183 40479 40479\n"
     ]
    },
    {
     "name": "stderr",
     "output_type": "stream",
     "text": [
      "/home/boba/anaconda2/envs/tensorflow-gpu/lib/python2.7/site-packages/ipykernel/__main__.py:26: RuntimeWarning: overflow encountered in add\n",
      "/home/boba/anaconda2/envs/tensorflow-gpu/lib/python2.7/site-packages/ipykernel/__main__.py:26: RuntimeWarning: overflow encountered in multiply\n"
     ]
    },
    {
     "name": "stdout",
     "output_type": "stream",
     "text": [
      "2017-07-09 01:11:19.048140 \t 5000 \t train_4999.tif\n",
      "2017-07-09 01:17:15.688544 \t 10000 \t train_9999.tif\n",
      "2017-07-09 01:23:10.000806 \t 15000 \t train_14999.tif\n",
      "2017-07-09 01:29:01.356200 \t 20000 \t train_19999.tif\n",
      "2017-07-09 01:34:52.238981 \t 25000 \t train_24999.tif\n",
      "2017-07-09 01:40:47.351706 \t 30000 \t train_29999.tif\n",
      "2017-07-09 01:46:41.986281 \t 35000 \t train_34999.tif\n",
      "2017-07-09 01:52:39.650874 \t 40000 \t train_39999.tif\n",
      "2017-07-09 01:53:12.652850\n"
     ]
    }
   ],
   "source": [
    "dirIn    = tDirs[0]\n",
    "trOY = labelList;\n",
    "for bds in binsList :\n",
    "    print ('-------->: bins={} Ext={} input-dir={}'.format(bds,ttExt,dirIn))\n",
    "    nameListExt = [x+ttExt for x in nameList]\n",
    "    trOX, _     = generateTrain(dirIn,bds,nameListExt,debugOK=debug)\n",
    "    np.save('../Data-XGB/Datas/train-'+str(10000+bds)+ttExt+'-XX.npy',trOX)\n",
    "    np.save('../Data-XGB/Datas/train-'+str(10000+bds)+ttExt+'-YY.npy',trOY)\n",
    "    #print (bds,trOX.shape,trOY.shape, (trOX.shape[1]/bds)*bds, trOX.shape[1]/3)dirIn    = teDirJPG"
   ]
  },
  {
   "cell_type": "code",
   "execution_count": 33,
   "metadata": {
    "collapsed": false,
    "deletable": true,
    "editable": true
   },
   "outputs": [
    {
     "name": "stdout",
     "output_type": "stream",
     "text": [
      "65535 0 1001.39707009\n"
     ]
    },
    {
     "data": {
      "image/png": "[encoded data removed]",
      "text/plain": [
       "<matplotlib.figure.Figure at 0x7f8c0996a650>"
      ]
     },
     "metadata": {},
     "output_type": "display_data"
    },
    {
     "data": {
      "image/png": "[encoded data removed]",
      "text/plain": [
       "<matplotlib.figure.Figure at 0x7f8bfcf49ed0>"
      ]
     },
     "metadata": {},
     "output_type": "display_data"
    }
   ],
   "source": [
    "print (trOX.max(), trOX.min(), trOX.mean())\n",
    "#print (trOX.max(axis=0), trOX.min(axis=0), trOX[:].mean(axis=0))\n",
    "\n",
    "trOX.shape, 512/64\n",
    "plt.plot(trOX.mean(axis=0)); plt.show()\n",
    "plt.plot(trOX.max(axis=0)); plt.show()\n",
    "#plt.plot(trOX[0:10000].min(axis=0)); plt.show()"
   ]
  },
  {
   "cell_type": "code",
   "execution_count": 34,
   "metadata": {
    "collapsed": false,
    "deletable": true,
    "editable": true
   },
   "outputs": [
    {
     "name": "stdout",
     "output_type": "stream",
     "text": [
      "-------->: bins=64 Ext=.tif input-dir=../Data/test-tif-v2\n",
      "2017-07-09 01:59:30.591349 61191 61191\n"
     ]
    },
    {
     "name": "stderr",
     "output_type": "stream",
     "text": [
      "/home/boba/anaconda2/envs/tensorflow-gpu/lib/python2.7/site-packages/ipykernel/__main__.py:26: RuntimeWarning: overflow encountered in add\n",
      "/home/boba/anaconda2/envs/tensorflow-gpu/lib/python2.7/site-packages/ipykernel/__main__.py:26: RuntimeWarning: overflow encountered in multiply\n"
     ]
    },
    {
     "name": "stdout",
     "output_type": "stream",
     "text": [
      "2017-07-09 02:04:55.346049 \t 5000 \t test_15645.tif\n",
      "2017-07-09 02:10:16.646747 \t 10000 \t test_2615.tif\n",
      "2017-07-09 02:15:39.693033 \t 15000 \t test_6054.tif\n",
      "2017-07-09 02:21:01.011824 \t 20000 \t test_22406.tif\n",
      "2017-07-09 02:26:25.380501 \t 25000 \t test_37025.tif\n",
      "2017-07-09 02:31:45.265077 \t 30000 \t test_8910.tif\n",
      "2017-07-09 02:37:02.363984 \t 35000 \t test_39596.tif\n",
      "2017-07-09 02:42:20.452979 \t 40000 \t test_7740.tif\n",
      "2017-07-09 02:47:40.167473 \t 45000 \t test_35456.tif\n",
      "2017-07-09 02:52:58.986911 \t 50000 \t file_17548.tif\n",
      "2017-07-09 02:58:24.767430 \t 55000 \t test_19494.tif\n",
      "2017-07-09 03:03:45.037971 \t 60000 \t test_2939.tif\n",
      "2017-07-09 03:05:00.011280\n"
     ]
    }
   ],
   "source": [
    "dirIn    = tDirs[1]\n",
    "for bds in binsList :\n",
    "    print ('-------->: bins={} Ext={} input-dir={}'.format(bds,ttExt,dirIn))\n",
    "    trOX, trOY = generateTest(dirIn,bds,debugOK=debug)\n",
    "    np.save('../Data-XGB/Datas/test-'+str(10000+bds)+ttExt+'-XX.npy',trOX)\n",
    "    np.save('../Data-XGB/Datas/test-'+str(10000+bds)+ttExt+'-YY.npy',trOY)\n",
    "    #print (bds,trOX.shape,trOY.shape, (trOX.shape[1]/bds)*bds, trOX.shape[1]/3)"
   ]
  },
  {
   "cell_type": "code",
   "execution_count": 35,
   "metadata": {
    "collapsed": false,
    "deletable": true,
    "editable": true
   },
   "outputs": [
    {
     "name": "stdout",
     "output_type": "stream",
     "text": [
      "65535 0 1001.67619421\n"
     ]
    },
    {
     "data": {
      "image/png": "[encoded data removed]",
      "text/plain": [
       "<matplotlib.figure.Figure at 0x7f8bfcc8ff90>"
      ]
     },
     "metadata": {},
     "output_type": "display_data"
    },
    {
     "data": {
      "image/png": "[encoded data removed]",
      "text/plain": [
       "<matplotlib.figure.Figure at 0x7f8bfcc3f4d0>"
      ]
     },
     "metadata": {},
     "output_type": "display_data"
    }
   ],
   "source": [
    "print (trOX.max(), trOX.min(), trOX.mean())\n",
    "#print (trOX.max(axis=1), trOX.min(), trOX[:].mean())\n",
    "\n",
    "trOX.shape, 512/64\n",
    "plt.plot(trOX[0:10000].mean(axis=0)); plt.show()\n",
    "plt.plot(trOX[0:10000].max(axis=0)); plt.show()\n",
    "#plt.plot(trOX[0:10000].min(axis=0)); plt.show()"
   ]
  },
  {
   "cell_type": "code",
   "execution_count": 32,
   "metadata": {
    "collapsed": false,
    "deletable": true,
    "editable": true
   },
   "outputs": [
    {
     "data": {
      "image/png": "[encoded data removed]",
      "text/plain": [
       "<matplotlib.figure.Figure at 0x7fc514645a10>"
      ]
     },
     "metadata": {},
     "output_type": "display_data"
    },
    {
     "data": {
      "image/png": "[encoded data removed]",
      "text/plain": [
       "<matplotlib.figure.Figure at 0x7fc514150990>"
      ]
     },
     "metadata": {},
     "output_type": "display_data"
    }
   ],
   "source": [
    "plt.plot(trOX[0:10000].mean(axis=0)); plt.show()\n",
    "plt.plot(trOX[0:10000].max(axis=0)); plt.show()"
   ]
  },
  {
   "cell_type": "code",
   "execution_count": 25,
   "metadata": {
    "collapsed": false,
    "deletable": true,
    "editable": true
   },
   "outputs": [
    {
     "data": {
      "text/plain": [
       "((61191, 384), (61191, 192))"
      ]
     },
     "execution_count": 25,
     "metadata": {},
     "output_type": "execute_result"
    }
   ],
   "source": [
    "ax  = trOX\n",
    "ax2 = np.zeros((ax.shape[0],(ax.shape[1]/2)))\n",
    "for i in range(ax2.shape[1]) :\n",
    "    ax2[:,i] = ax[:,2*i]+ax[:,2*i+1]\n",
    "trOX.shape, ax2.shape"
   ]
  },
  {
   "cell_type": "code",
   "execution_count": null,
   "metadata": {
    "collapsed": true,
    "deletable": true,
    "editable": true
   },
   "outputs": [],
   "source": []
  },
  {
   "cell_type": "code",
   "execution_count": 153,
   "metadata": {
    "collapsed": true,
    "deletable": true,
    "editable": true
   },
   "outputs": [],
   "source": [
    "##--------------------- Examples save/load procedure"
   ]
  },
  {
   "cell_type": "code",
   "execution_count": 154,
   "metadata": {
    "collapsed": false,
    "deletable": true,
    "editable": true
   },
   "outputs": [],
   "source": [
    "if False :\n",
    "    trX = np.load('../Work/train-data-XX'+str(binsData)+ttExt+'.npy')\n",
    "    trY = np.load('../Work/train-data-YY'+str(binsData)+ttExt+'.npy')\n",
    "    print(trX.shape,trY.shape)"
   ]
  },
  {
   "cell_type": "code",
   "execution_count": 155,
   "metadata": {
    "collapsed": false,
    "deletable": true,
    "editable": true
   },
   "outputs": [],
   "source": [
    "if False :\n",
    "    np.save('../Work/test-data-XX'+str(binsData)+ttExt+'.npy',trOX)\n",
    "    np.save('../Work/test-data-YY'+str(binsData)+ttExt+'.npy',trOY)"
   ]
  },
  {
   "cell_type": "code",
   "execution_count": null,
   "metadata": {
    "collapsed": false,
    "deletable": true,
    "editable": true
   },
   "outputs": [],
   "source": []
  },
  {
   "cell_type": "code",
   "execution_count": null,
   "metadata": {
    "collapsed": true,
    "deletable": true,
    "editable": true
   },
   "outputs": [],
   "source": []
  }
 ],
 "metadata": {
  "kernelspec": {
   "display_name": "Python 2",
   "language": "python",
   "name": "python2"
  },
  "language_info": {
   "codemirror_mode": {
    "name": "ipython",
    "version": 2
   },
   "file_extension": ".py",
   "mimetype": "text/x-python",
   "name": "python",
   "nbconvert_exporter": "python",
   "pygments_lexer": "ipython2",
   "version": "2.7.13"
  }
 },
 "nbformat": 4,
 "nbformat_minor": 2
}
