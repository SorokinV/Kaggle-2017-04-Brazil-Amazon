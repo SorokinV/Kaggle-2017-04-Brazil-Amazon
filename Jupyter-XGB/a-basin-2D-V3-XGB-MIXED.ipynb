{
 "cells": [
  {
   "cell_type": "code",
   "execution_count": 1,
   "metadata": {
    "collapsed": true,
    "deletable": true,
    "editable": true
   },
   "outputs": [],
   "source": [
    "# Выполнение одного набора xgbooster (JPG, либо TIF) (2017-07-03)"
   ]
  },
  {
   "cell_type": "code",
   "execution_count": 2,
   "metadata": {
    "collapsed": false,
    "deletable": true,
    "editable": true
   },
   "outputs": [],
   "source": [
    "import sys,os,datetime\n",
    "import numpy as np\n",
    "import pandas as pd\n",
    "import matplotlib.pyplot as plt\n",
    "import sklearn.metrics as skm\n",
    "from __future__ import print_function"
   ]
  },
  {
   "cell_type": "code",
   "execution_count": 3,
   "metadata": {
    "collapsed": false,
    "deletable": true,
    "editable": true
   },
   "outputs": [
    {
     "name": "stdout",
     "output_type": "stream",
     "text": [
      "1.12.1\n",
      "0.19.2\n"
     ]
    }
   ],
   "source": [
    "print(np.__version__);\n",
    "print(pd.__version__);"
   ]
  },
  {
   "cell_type": "code",
   "execution_count": 4,
   "metadata": {
    "collapsed": false,
    "deletable": true,
    "editable": true
   },
   "outputs": [
    {
     "data": {
      "text/plain": [
       "'3.2.0'"
      ]
     },
     "execution_count": 4,
     "metadata": {},
     "output_type": "execute_result"
    }
   ],
   "source": [
    "import  cv2 as cv\n",
    "cv.__version__"
   ]
  },
  {
   "cell_type": "code",
   "execution_count": 5,
   "metadata": {
    "collapsed": false,
    "deletable": true,
    "editable": true
   },
   "outputs": [
    {
     "name": "stderr",
     "output_type": "stream",
     "text": [
      "/home/boba/anaconda2/envs/tensorflow-gpu/lib/python2.7/site-packages/sklearn/cross_validation.py:44: DeprecationWarning: This module was deprecated in version 0.18 in favor of the model_selection module into which all the refactored classes and functions are moved. Also note that the interface of the new CV iterators are different from that of this module. This module will be removed in 0.20.\n",
      "  \"This module will be removed in 0.20.\", DeprecationWarning)\n"
     ]
    }
   ],
   "source": [
    "import xgboost as xgb"
   ]
  },
  {
   "cell_type": "code",
   "execution_count": 6,
   "metadata": {
    "collapsed": false,
    "deletable": true,
    "editable": true
   },
   "outputs": [],
   "source": [
    "sys.path.append('../Python')\n",
    "from helper import paths_input, formImExt, formImHist\n",
    "from estimate import confusion_matrix, getConfusion, getRocAUC, getProb01, getProbX01, getTh, estimateResult"
   ]
  },
  {
   "cell_type": "code",
   "execution_count": null,
   "metadata": {
    "collapsed": false,
    "deletable": true,
    "editable": true
   },
   "outputs": [],
   "source": []
  },
  {
   "cell_type": "code",
   "execution_count": 7,
   "metadata": {
    "collapsed": false,
    "deletable": true,
    "editable": true
   },
   "outputs": [
    {
     "name": "stdout",
     "output_type": "stream",
     "text": [
      "../Work/Train ../Work/Test\n",
      "../Data/train_v2.csv ../Data/train-tif-v2 ../Data/train-jpg ../Data/test-tif-v2 ../Data/test-jpg-v2\n"
     ]
    }
   ],
   "source": [
    "trLabels,trDirTIF,trDirJPG,teDirTIF,teDirJPG = paths_input()\n",
    "trWork, teWork = '../Work/Train', '../Work/Test'\n",
    "print (trWork, teWork)\n",
    "print (trLabels,trDirTIF,trDirJPG,teDirTIF,teDirJPG)"
   ]
  },
  {
   "cell_type": "code",
   "execution_count": null,
   "metadata": {
    "collapsed": false,
    "deletable": true,
    "editable": true
   },
   "outputs": [],
   "source": []
  },
  {
   "cell_type": "code",
   "execution_count": 8,
   "metadata": {
    "collapsed": false,
    "deletable": true,
    "editable": true
   },
   "outputs": [
    {
     "data": {
      "text/html": [
       "<div>\n",
       "<table border=\"1\" class=\"dataframe\">\n",
       "  <thead>\n",
       "    <tr style=\"text-align: right;\">\n",
       "      <th></th>\n",
       "      <th>image_name</th>\n",
       "      <th>tags</th>\n",
       "    </tr>\n",
       "  </thead>\n",
       "  <tbody>\n",
       "    <tr>\n",
       "      <th>0</th>\n",
       "      <td>train_0</td>\n",
       "      <td>haze primary</td>\n",
       "    </tr>\n",
       "    <tr>\n",
       "      <th>1</th>\n",
       "      <td>train_1</td>\n",
       "      <td>agriculture clear primary water</td>\n",
       "    </tr>\n",
       "  </tbody>\n",
       "</table>\n",
       "</div>"
      ],
      "text/plain": [
       "  image_name                             tags\n",
       "0    train_0                     haze primary\n",
       "1    train_1  agriculture clear primary water"
      ]
     },
     "execution_count": 8,
     "metadata": {},
     "output_type": "execute_result"
    }
   ],
   "source": [
    "labels_df = pd.read_csv(trLabels)\n",
    "labels_df.head(2)"
   ]
  },
  {
   "cell_type": "code",
   "execution_count": 9,
   "metadata": {
    "collapsed": true,
    "deletable": true,
    "editable": true
   },
   "outputs": [],
   "source": [
    "# Build list with unique labels\n",
    "label_list = []\n",
    "for tag_str in labels_df.tags.values:\n",
    "    labels = tag_str.split(' ')\n",
    "    for label in labels:\n",
    "        if label not in label_list:\n",
    "            label_list.append(label)"
   ]
  },
  {
   "cell_type": "code",
   "execution_count": 10,
   "metadata": {
    "collapsed": false,
    "deletable": true,
    "editable": true
   },
   "outputs": [],
   "source": [
    "# Add features (0 or 1) for every label as dataframe field \n",
    "for label in label_list:\n",
    "    labels_df[label] = labels_df['tags'].apply(lambda x: 1 if label in x.split(' ') else 0)\n",
    "#labels_df.head()"
   ]
  },
  {
   "cell_type": "code",
   "execution_count": 11,
   "metadata": {
    "collapsed": false,
    "deletable": true,
    "editable": true
   },
   "outputs": [],
   "source": [
    "weather_labels = ['clear', 'partly_cloudy', 'haze', 'cloudy']\n",
    "land_labels = ['primary', 'agriculture', 'water', 'cultivation', 'habitation' ]\n",
    "rare_labels = [l for l in label_list if labels_df[label_list].sum()[l] < 2000]\n",
    "#rare_labels              "
   ]
  },
  {
   "cell_type": "code",
   "execution_count": null,
   "metadata": {
    "collapsed": false,
    "deletable": true,
    "editable": true
   },
   "outputs": [],
   "source": []
  },
  {
   "cell_type": "code",
   "execution_count": 12,
   "metadata": {
    "collapsed": false,
    "deletable": true,
    "editable": true
   },
   "outputs": [
    {
     "data": {
      "text/html": [
       "<div>\n",
       "<table border=\"1\" class=\"dataframe\">\n",
       "  <thead>\n",
       "    <tr style=\"text-align: right;\">\n",
       "      <th></th>\n",
       "      <th>image_name</th>\n",
       "      <th>tags</th>\n",
       "      <th>haze</th>\n",
       "      <th>primary</th>\n",
       "      <th>agriculture</th>\n",
       "      <th>clear</th>\n",
       "      <th>water</th>\n",
       "      <th>habitation</th>\n",
       "      <th>road</th>\n",
       "      <th>cultivation</th>\n",
       "      <th>slash_burn</th>\n",
       "      <th>cloudy</th>\n",
       "      <th>partly_cloudy</th>\n",
       "      <th>conventional_mine</th>\n",
       "      <th>bare_ground</th>\n",
       "      <th>artisinal_mine</th>\n",
       "      <th>blooming</th>\n",
       "      <th>selective_logging</th>\n",
       "      <th>blow_down</th>\n",
       "    </tr>\n",
       "  </thead>\n",
       "  <tbody>\n",
       "    <tr>\n",
       "      <th>0</th>\n",
       "      <td>train_0</td>\n",
       "      <td>haze primary</td>\n",
       "      <td>1</td>\n",
       "      <td>1</td>\n",
       "      <td>0</td>\n",
       "      <td>0</td>\n",
       "      <td>0</td>\n",
       "      <td>0</td>\n",
       "      <td>0</td>\n",
       "      <td>0</td>\n",
       "      <td>0</td>\n",
       "      <td>0</td>\n",
       "      <td>0</td>\n",
       "      <td>0</td>\n",
       "      <td>0</td>\n",
       "      <td>0</td>\n",
       "      <td>0</td>\n",
       "      <td>0</td>\n",
       "      <td>0</td>\n",
       "    </tr>\n",
       "    <tr>\n",
       "      <th>1</th>\n",
       "      <td>train_1</td>\n",
       "      <td>agriculture clear primary water</td>\n",
       "      <td>0</td>\n",
       "      <td>1</td>\n",
       "      <td>1</td>\n",
       "      <td>1</td>\n",
       "      <td>1</td>\n",
       "      <td>0</td>\n",
       "      <td>0</td>\n",
       "      <td>0</td>\n",
       "      <td>0</td>\n",
       "      <td>0</td>\n",
       "      <td>0</td>\n",
       "      <td>0</td>\n",
       "      <td>0</td>\n",
       "      <td>0</td>\n",
       "      <td>0</td>\n",
       "      <td>0</td>\n",
       "      <td>0</td>\n",
       "    </tr>\n",
       "  </tbody>\n",
       "</table>\n",
       "</div>"
      ],
      "text/plain": [
       "  image_name                             tags  haze  primary  agriculture  \\\n",
       "0    train_0                     haze primary     1        1            0   \n",
       "1    train_1  agriculture clear primary water     0        1            1   \n",
       "\n",
       "   clear  water  habitation  road  cultivation  slash_burn  cloudy  \\\n",
       "0      0      0           0     0            0           0       0   \n",
       "1      1      1           0     0            0           0       0   \n",
       "\n",
       "   partly_cloudy  conventional_mine  bare_ground  artisinal_mine  blooming  \\\n",
       "0              0                  0            0               0         0   \n",
       "1              0                  0            0               0         0   \n",
       "\n",
       "   selective_logging  blow_down  \n",
       "0                  0          0  \n",
       "1                  0          0  "
      ]
     },
     "execution_count": 12,
     "metadata": {},
     "output_type": "execute_result"
    }
   ],
   "source": [
    "labels = label_list; #weather_labels;\n",
    "nameList =labels_df[labels_df[labels].sum(axis=1)>0].image_name.tolist(); len(nameList)\n",
    "labelList=labels_df[labels_df[labels].sum(axis=1)>0][labels].as_matrix();\n",
    "#labelList[:6,:]\n",
    "labels_df.head(2)"
   ]
  },
  {
   "cell_type": "code",
   "execution_count": null,
   "metadata": {
    "collapsed": false,
    "deletable": true,
    "editable": true
   },
   "outputs": [],
   "source": []
  },
  {
   "cell_type": "code",
   "execution_count": null,
   "metadata": {
    "collapsed": true,
    "deletable": true,
    "editable": true
   },
   "outputs": [],
   "source": [
    "# Расчет решений, оценка результативности и генерация смеси квадратно-картофелным методом\n",
    "#  Выбираются решения для лучшего по train и объединяются в окончательное решение\n",
    "#\n",
    "#  2017-07-08\n",
    "#\n",
    "#  Результативность странная:\n",
    "#    1. Лучшую результативность по train дают equalizeHist - решения. Но на реальных данных они дают серьезный регресс\n",
    "#    2. Лучшую результативность на test дает обычная схема без улучшений, следующая gauss схема. На train немного наоборот.\n",
    "#    3. Например jpg256 norma=0.85949, gauss=0.85670, equalizeHist=0.79159, E+G=0.78989\n",
    "#    4. Смесь лучших из n,g,e,g+e = 0.81241\n",
    "#    5. Смесь gauss и norma = 0.85767.Эффект незначительный, небольшое снижение от norma, хотя по train значительный на 2000 \n",
    "#\n",
    "#  Вывод: Методика не перспективна. Прекращено. В архиве оставлено на случай возникновения новых идей.\n",
    "#\n",
    "#"
   ]
  },
  {
   "cell_type": "code",
   "execution_count": 18,
   "metadata": {
    "collapsed": true,
    "deletable": true,
    "editable": true
   },
   "outputs": [],
   "source": [
    "param = {\n",
    "         'objective':'reg:logistic', \n",
    "         #'num_class':17,\n",
    "         #'eta':0.05, \n",
    "         #'max_depth':9, 'subsample':0.8, 'colsample_bytree':0.8, \n",
    "         #'metrics':'rmse'\n",
    "         'eval_metric':['auc','rmse']\n",
    "        }\n",
    "param['silent']=True"
   ]
  },
  {
   "cell_type": "code",
   "execution_count": null,
   "metadata": {
    "collapsed": false,
    "deletable": true,
    "editable": true
   },
   "outputs": [],
   "source": []
  },
  {
   "cell_type": "code",
   "execution_count": 20,
   "metadata": {
    "collapsed": false,
    "deletable": true,
    "editable": true
   },
   "outputs": [],
   "source": [
    "# Шаблоны имен файлов для сохранения моделей xgb\n",
    "fModel1 = '../Data-XGB/Models/model-'\n",
    "fModel2 = str(binsData)+'-'+jpgtif+'.xgb'"
   ]
  },
  {
   "cell_type": "code",
   "execution_count": null,
   "metadata": {
    "collapsed": true,
    "deletable": true,
    "editable": true
   },
   "outputs": [],
   "source": []
  },
  {
   "cell_type": "code",
   "execution_count": 21,
   "metadata": {
    "collapsed": false,
    "deletable": true,
    "editable": true
   },
   "outputs": [],
   "source": [
    "#\n",
    "# Построение списка решений из набора train, test, models (сейчас расчитано на jpg только)\n",
    "#\n",
    "\n",
    "binsData = 64\n",
    "jpgtif   = '.jpg'\n",
    "\n",
    "res      = []\n",
    "\n",
    "for xx in ['','-G'] : #,'-E','-GE'] :\n",
    "\n",
    "    trX      = np.load('../Data-XGB/Datas/train-'+str(10000+binsData)+jpgtif+'-XX'+xx+'.npy')\n",
    "    trY      = np.load('../Data-XGB/Datas/train-'+str(10000+binsData)+jpgtif+'-YY'+xx+'.npy')\n",
    "\n",
    "    fModel2 = str(binsData)+'-'+jpgtif+xx+'.xgb'\n",
    "    \n",
    "    # load xgb models into files\n",
    "    bstNull = xgb.train(param,dtrain,0)\n",
    "    bstList0= []\n",
    "    for i in range(trY.shape[1]) :\n",
    "        bstList0.append(bstNull.copy())\n",
    "        bstList0[-1].load_model(fModel1+str(100+i)+fModel2)\n",
    "    bstList = bstList0\n",
    "    del bstList0\n",
    "    \n",
    "    # Построение решения\n",
    "    trYP  = buildPredictX(trX,bstList)\n",
    "    trYPP = trYP.copy() # вероятностный массив\n",
    "    trYP  = getProb01(trYP)\n",
    "    \n",
    "    # Уровни прохождения\n",
    "    trPPP,_ = getTh (trY,trYPP)\n",
    "    trYP  = getProbX01(trYPP,trPPP)\n",
    "    \n",
    "    del trX\n",
    "    \n",
    "    trOX     = np.load('../Data-XGB/Datas/test-'+str(10000+binsData)+jpgtif+'-XX'+xx+'.npy')\n",
    "    trOY     = np.load('../Data-XGB/Datas/test-'+str(10000+binsData)+jpgtif+'-YY'+xx+'.npy')\n",
    "    \n",
    "    trOP  = buildPredictX(trOX,bstList)\n",
    "    trOPP = trOP.copy() # вероятностный массив\n",
    "    trOP  = getProbX01(trOP,trPPP)\n",
    "    \n",
    "    del trOX\n",
    "\n",
    "    res.append((xx,trYP,trOP,trOY))"
   ]
  },
  {
   "cell_type": "code",
   "execution_count": 22,
   "metadata": {
    "collapsed": false,
    "deletable": true,
    "editable": true
   },
   "outputs": [
    {
     "data": {
      "text/plain": [
       "2"
      ]
     },
     "execution_count": 22,
     "metadata": {},
     "output_type": "execute_result"
    }
   ],
   "source": [
    "#\n",
    "# Техническая загрузка для автоматического расчета размеров\n",
    "#\n",
    "trOX     = np.load('../Data-XGB/Datas/test-'+str(10000+binsData)+jpgtif+'-XX.npy')\n",
    "len(res)"
   ]
  },
  {
   "cell_type": "code",
   "execution_count": 23,
   "metadata": {
    "collapsed": false,
    "deletable": true,
    "editable": true
   },
   "outputs": [],
   "source": [
    "# Расчет результативности моделей и выемка потерь по признакам на основе статистики train и полученного решения для train \n",
    "temp_train = [estimateResult(trY,trYP)[:,8] for _,trYP,_,_ in res]"
   ]
  },
  {
   "cell_type": "code",
   "execution_count": 24,
   "metadata": {
    "collapsed": false,
    "deletable": true,
    "editable": true
   },
   "outputs": [
    {
     "data": {
      "text/plain": [
       "array([[ 820,  451, 3565, 1014, 1981, 1499, 3378, 2301,  107,  140,  393,\n",
       "           0,  498,    0,  191,  207,   44],\n",
       "       [ 707,  288, 3157,  668, 2565, 1511, 3374, 2845,   41,  129,   77,\n",
       "           9,  282,    0,  189,   81,   27]], dtype=uint16)"
      ]
     },
     "execution_count": 24,
     "metadata": {},
     "output_type": "execute_result"
    }
   ],
   "source": [
    "temp_loss_train = np.array(temp_train,dtype=np.uint16); temp_loss_train\n",
    "#temp_loss_train.sum(axis=0)"
   ]
  },
  {
   "cell_type": "code",
   "execution_count": 25,
   "metadata": {
    "collapsed": false,
    "deletable": true,
    "editable": true
   },
   "outputs": [
    {
     "data": {
      "text/plain": [
       "[1, 1, 1, 1, 0, 0, 1, 0, 1, 1, 1, 0, 1, 0, 1, 1, 1]"
      ]
     },
     "execution_count": 25,
     "metadata": {},
     "output_type": "execute_result"
    }
   ],
   "source": [
    "# Расчет таблицы перестановок из полученной статистики потерь для признаков\n",
    "permute = [temp_loss_train[:,i].argmin() for i in range(17)]; permute"
   ]
  },
  {
   "cell_type": "code",
   "execution_count": 26,
   "metadata": {
    "collapsed": false,
    "deletable": true,
    "editable": true
   },
   "outputs": [
    {
     "data": {
      "text/plain": [
       "array([16589, 15950], dtype=uint64)"
      ]
     },
     "execution_count": 26,
     "metadata": {},
     "output_type": "execute_result"
    }
   ],
   "source": [
    "# Общие потери по каждому наборуу по все признакам (простая сумма)\n",
    "temp_loss_train.sum(axis=1)"
   ]
  },
  {
   "cell_type": "code",
   "execution_count": 27,
   "metadata": {
    "collapsed": false,
    "deletable": true,
    "editable": true
   },
   "outputs": [
    {
     "name": "stdout",
     "output_type": "stream",
     "text": [
      "0 acc=0.982534153512 roc=0.896990088741 not=707 yes=2153 no=37619 true=39772 all-1-0=(0.7983-0.9957)\n",
      "1 acc=0.992885199733 roc=0.97504753533 not=288 yes=37361 no=2830 true=40191 all-1-0=(0.9959-0.9541)\n",
      "2 acc=0.922008942909 roc=0.907442596098 not=3157 yes=10717 no=26605 true=37322 all-1-0=(0.8702-0.9446)\n",
      "3 acc=0.983497616048 roc=0.975816861988 not=668 yes=28283 no=11528 true=39811 all-1-0=(0.9948-0.9568)\n",
      "4 acc=0.951061043998 roc=0.897284351458 not=1981 yes=6021 no=32477 true=38498 all-1-0=(0.8124-0.9821)\n",
      "5 acc=0.962968452778 roc=0.866208087503 not=1499 yes=2738 no=36242 true=38980 all-1-0=(0.7481-0.9843)\n",
      "6 acc=0.916648138541 roc=0.859739424279 not=3374 yes=6175 no=30930 true=37105 all-1-0=(0.7651-0.9544)\n",
      "7 acc=0.943155710368 roc=0.816463032599 not=2301 yes=2927 no=35251 true=38178 all-1-0=(0.6538-0.9791)\n",
      "8 acc=0.998987129129 roc=0.920953302053 not=41 yes=176 no=40262 true=40438 all-1-0=(0.8421-0.9998)\n",
      "9 acc=0.99681316238 roc=0.987229962426 not=129 yes=2040 no=38310 true=40350 all-1-0=(0.9765-0.9979)\n",
      "10 acc=0.998097779095 roc=0.996204350872 not=77 yes=7212 no=33190 true=40402 all-1-0=(0.9933-0.9992)\n",
      "11 acc=1.0 roc=1.0 not=0 yes=100 no=40379 true=40479 all-1-0=(1.0000-1.0000)\n",
      "12 acc=0.993033424739 roc=0.898843725657 not=282 yes=690 no=39507 true=40197 all-1-0=(0.8005-0.9972)\n",
      "13 acc=1.0 roc=1.0 not=0 yes=339 no=40140 true=40479 all-1-0=(1.0000-1.0000)\n",
      "14 acc=0.995330912325 roc=0.766142821216 not=189 yes=177 no=40113 true=40290 all-1-0=(0.5331-0.9992)\n",
      "15 acc=0.997998962425 roc=0.915877509478 not=81 yes=283 no=40115 true=40398 all-1-0=(0.8324-0.9994)\n",
      "16 acc=0.999332987475 roc=0.897872509247 not=27 yes=78 no=40374 true=40452 all-1-0=(0.7959-0.9998)\n"
     ]
    }
   ],
   "source": [
    "#\n",
    "# Построение перемешенного решения и оценка его результативности\n",
    "#\n",
    "\n",
    "trYNew, trONew = np.zeros(trY.shape,dtype=np.uint8), np.zeros((trOX.shape[0],trY.shape[1]),dtype=np.uint8)\n",
    "##print(res[1].shape)\n",
    "for ii in range(trY.shape[1]) :\n",
    "    xx = permute[ii]\n",
    "    trYNew[:,ii] = res[xx][1][:,ii]\n",
    "    trONew[:,ii] = res[xx][2][:,ii]\n",
    "    \n",
    "temp_new = estimateResult(trY,trYNew,printOK=True)    "
   ]
  },
  {
   "cell_type": "code",
   "execution_count": 29,
   "metadata": {
    "collapsed": false,
    "deletable": true,
    "editable": true
   },
   "outputs": [
    {
     "data": {
      "text/plain": [
       "14801.0"
      ]
     },
     "execution_count": 29,
     "metadata": {},
     "output_type": "execute_result"
    }
   ],
   "source": [
    "# Полученная результатвность смешенного решения\n",
    "temp_new[:,-1].sum()"
   ]
  },
  {
   "cell_type": "code",
   "execution_count": null,
   "metadata": {
    "collapsed": true,
    "deletable": true,
    "editable": true
   },
   "outputs": [],
   "source": []
  },
  {
   "cell_type": "code",
   "execution_count": 30,
   "metadata": {
    "collapsed": true,
    "deletable": true,
    "editable": true
   },
   "outputs": [],
   "source": [
    "# Построение результата для нового решения\n",
    "# !!!  Возможно не решен вопрос о разных порядках файлов, это мб актуально для разных типов jpg-tif\n",
    "# !!!  Данная проблема решена в модуле JPG_TIF в конце"
   ]
  },
  {
   "cell_type": "code",
   "execution_count": 32,
   "metadata": {
    "collapsed": false,
    "deletable": true,
    "editable": true
   },
   "outputs": [],
   "source": [
    "#trZ = res[3][2] # -- equalizeHist lost=19090 #trONew\n",
    "trZ = trONew"
   ]
  },
  {
   "cell_type": "code",
   "execution_count": 33,
   "metadata": {
    "collapsed": false,
    "deletable": true,
    "editable": true
   },
   "outputs": [],
   "source": [
    "temp_list = []\n",
    "for i in range(trZ.shape[0]) :\n",
    "    temp = [labels[ii] for ii in range(trZ.shape[1]) if trZ[i,ii]==1];\n",
    "    temp = ' '.join(temp)\n",
    "    temp_list.append([trOY[i],temp])\n",
    "temp_list.sort(cmp=lambda x,y: cmp(int(x[0].partition('_')[2]),int(y[0].partition('_')[2])) if (x[0].partition('_')[0]==y[0].partition('_')[0]) else cmp(y[0].partition('_')[0],x[0].partition('_')[0]))\n"
   ]
  },
  {
   "cell_type": "code",
   "execution_count": 35,
   "metadata": {
    "collapsed": false,
    "deletable": true,
    "editable": true
   },
   "outputs": [
    {
     "data": {
      "text/plain": [
       "[['test_0', 'primary clear'],\n",
       " ['test_1', 'primary clear'],\n",
       " ['test_2', 'primary partly_cloudy'],\n",
       " ['test_3', 'primary clear cultivation'],\n",
       " ['test_4', 'cloudy']]"
      ]
     },
     "execution_count": 35,
     "metadata": {},
     "output_type": "execute_result"
    }
   ],
   "source": [
    "temp_list[0:5]"
   ]
  },
  {
   "cell_type": "code",
   "execution_count": 36,
   "metadata": {
    "collapsed": false,
    "deletable": true,
    "editable": true
   },
   "outputs": [
    {
     "name": "stdout",
     "output_type": "stream",
     "text": [
      "2017-07-08-21-32-26\n"
     ]
    }
   ],
   "source": [
    "rrr=pd.DataFrame(temp_list,columns=['image_name','tags']); rrr.head(); \n",
    "suffixDT = (datetime.datetime.now()).strftime('%Y-%m-%d-%H-%M-%S'); print(suffixDT)\n",
    "rrr.to_csv('../Result/vss'+suffixDT+'.csv',index=False);"
   ]
  },
  {
   "cell_type": "code",
   "execution_count": 276,
   "metadata": {
    "collapsed": false,
    "deletable": true,
    "editable": true
   },
   "outputs": [
    {
     "data": {
      "text/html": [
       "<div>\n",
       "<table border=\"1\" class=\"dataframe\">\n",
       "  <thead>\n",
       "    <tr style=\"text-align: right;\">\n",
       "      <th></th>\n",
       "      <th>image_name</th>\n",
       "      <th>tags</th>\n",
       "    </tr>\n",
       "  </thead>\n",
       "  <tbody>\n",
       "    <tr>\n",
       "      <th>0</th>\n",
       "      <td>test_0</td>\n",
       "      <td>primary clear</td>\n",
       "    </tr>\n",
       "    <tr>\n",
       "      <th>1</th>\n",
       "      <td>test_1</td>\n",
       "      <td>primary clear</td>\n",
       "    </tr>\n",
       "    <tr>\n",
       "      <th>2</th>\n",
       "      <td>test_2</td>\n",
       "      <td>primary partly_cloudy</td>\n",
       "    </tr>\n",
       "    <tr>\n",
       "      <th>3</th>\n",
       "      <td>test_3</td>\n",
       "      <td>primary clear</td>\n",
       "    </tr>\n",
       "    <tr>\n",
       "      <th>4</th>\n",
       "      <td>test_4</td>\n",
       "      <td>primary partly_cloudy</td>\n",
       "    </tr>\n",
       "  </tbody>\n",
       "</table>\n",
       "</div>"
      ],
      "text/plain": [
       "  image_name                   tags\n",
       "0     test_0          primary clear\n",
       "1     test_1          primary clear\n",
       "2     test_2  primary partly_cloudy\n",
       "3     test_3          primary clear\n",
       "4     test_4  primary partly_cloudy"
      ]
     },
     "execution_count": 276,
     "metadata": {},
     "output_type": "execute_result"
    }
   ],
   "source": [
    "rrr.head()"
   ]
  },
  {
   "cell_type": "code",
   "execution_count": null,
   "metadata": {
    "collapsed": true,
    "deletable": true,
    "editable": true
   },
   "outputs": [],
   "source": []
  },
  {
   "cell_type": "code",
   "execution_count": null,
   "metadata": {
    "collapsed": true,
    "deletable": true,
    "editable": true
   },
   "outputs": [],
   "source": [
    "# The End"
   ]
  },
  {
   "cell_type": "code",
   "execution_count": null,
   "metadata": {
    "collapsed": true,
    "deletable": true,
    "editable": true
   },
   "outputs": [],
   "source": []
  }
 ],
 "metadata": {
  "kernelspec": {
   "display_name": "Python 2",
   "language": "python",
   "name": "python2"
  },
  "language_info": {
   "codemirror_mode": {
    "name": "ipython",
    "version": 2
   },
   "file_extension": ".py",
   "mimetype": "text/x-python",
   "name": "python",
   "nbconvert_exporter": "python",
   "pygments_lexer": "ipython2",
   "version": "2.7.13"
  }
 },
 "nbformat": 4,
 "nbformat_minor": 2
}
