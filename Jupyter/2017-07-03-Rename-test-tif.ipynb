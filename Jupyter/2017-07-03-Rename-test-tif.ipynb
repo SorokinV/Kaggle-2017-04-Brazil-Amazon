{
 "cells": [
  {
   "cell_type": "code",
   "execution_count": 2,
   "metadata": {
    "collapsed": false
   },
   "outputs": [
    {
     "name": "stdout",
     "output_type": "stream",
     "text": [
      "test_v2_file_mapping.csv  test_v2_file_mapping.csv.zip\r\n"
     ]
    }
   ],
   "source": [
    "!ls ../input"
   ]
  },
  {
   "cell_type": "code",
   "execution_count": 3,
   "metadata": {
    "collapsed": false
   },
   "outputs": [
    {
     "name": "stdout",
     "output_type": "stream",
     "text": [
      "old,new\r",
      "\r\n",
      "file_4158.tif,file_18830.tif\r",
      "\r\n",
      "file_1668.tif,file_19164.tif\r",
      "\r\n",
      "file_2411.tif,file_15749.tif\r",
      "\r\n",
      "file_16047.tif,file_7531.tif\r",
      "\r\n",
      "file_1271.tif,file_18347.tif\r",
      "\r\n",
      "file_5652.tif,file_11838.tif\r",
      "\r\n",
      "file_15144.tif,file_2349.tif\r",
      "\r\n",
      "file_4714.tif,file_7479.tif\r",
      "\r\n",
      "file_16364.tif,file_6613.tif\r",
      "\r\n"
     ]
    }
   ],
   "source": [
    "!head ../input/test_v2_file_mapping.csv"
   ]
  },
  {
   "cell_type": "code",
   "execution_count": 6,
   "metadata": {
    "collapsed": false
   },
   "outputs": [],
   "source": [
    "import os\n",
    "import shutil\n",
    "import random\n",
    "\n",
    "import pandas as pd\n",
    "import matplotlib.pyplot as plt\n",
    "#from skimage import io\n",
    "#from spectral import imshow\n",
    "\n",
    "%matplotlib inline"
   ]
  },
  {
   "cell_type": "code",
   "execution_count": 8,
   "metadata": {
    "collapsed": true
   },
   "outputs": [],
   "source": [
    "BASEPATH = '../input'\n",
    "WORKING = '../Temp'\n",
    "DATA    = '../Data'\n",
    "\n",
    "CSVPATH = os.path.join(BASEPATH, 'test_v2_file_mapping.csv')\n",
    "JPGPATH = os.path.join(DATA,     'test-jpg-v2')\n",
    "TIFPATH = os.path.join(DATA,     'test-tif-v2')\n",
    "\n",
    "FIXEDPATH = os.path.join(WORKING, 'fixed')"
   ]
  },
  {
   "cell_type": "code",
   "execution_count": 12,
   "metadata": {
    "collapsed": true
   },
   "outputs": [],
   "source": [
    "def copy_and_rename(num_files=500):\n",
    "    '''Copy up to `num_files` images to the scratch directory.\n",
    "    `num_files` is needed because you can only write a few hundred\n",
    "    megabytes in this kernel environment. Use the `df -h` command\n",
    "    to check.\n",
    "    \n",
    "    This is a purposely non-destructive operation. You'll need to\n",
    "    move the renamed files back to the test-tif-v2 directory so\n",
    "    that your existing scripts will continue to work.\n",
    "    '''\n",
    "    n = 0\n",
    "\n",
    "    if not os.path.exists(FIXEDPATH):\n",
    "        os.mkdir(FIXEDPATH)\n",
    "\n",
    "    for index, row in df.iterrows():\n",
    "        old = os.path.join(TIFPATH, row['old'])\n",
    "        new = os.path.join(FIXEDPATH, row['new'])\n",
    "        shutil.copy(old, new)\n",
    "        n += 1\n",
    "        if n % 500 == 0:\n",
    "            print('Copied {}'.format(n))\n",
    "        # Remove the following lines to unleash the full power of\n",
    "        # this kernel and copy & rename all the misnamed tif files!\n",
    "        '''\n",
    "        if n == num_files:\n",
    "            print('Copied {} files as requested'.format(n))\n",
    "            break\n",
    "        '''"
   ]
  },
  {
   "cell_type": "code",
   "execution_count": 10,
   "metadata": {
    "collapsed": true
   },
   "outputs": [],
   "source": [
    "df = pd.read_csv(CSVPATH)"
   ]
  },
  {
   "cell_type": "code",
   "execution_count": 16,
   "metadata": {
    "collapsed": false
   },
   "outputs": [
    {
     "data": {
      "text/plain": [
       "(20522, 2)"
      ]
     },
     "execution_count": 16,
     "metadata": {},
     "output_type": "execute_result"
    }
   ],
   "source": [
    "df.shape"
   ]
  },
  {
   "cell_type": "code",
   "execution_count": 13,
   "metadata": {
    "collapsed": false
   },
   "outputs": [],
   "source": [
    "def load_img(fname, tifpath, jpgpath):\n",
    "    # Load the tif and extract the blue, green and red bands\n",
    "    # (the bands are ordered by wavelength, the way Landsat\n",
    "    # bands are). Then re-order the arrays so that we can\n",
    "    # view them in the standard RGB band combination.\n",
    "    if 'tif' in fname:\n",
    "        path = os.path.join(tifpath, fname)\n",
    "        img = io.imread(path)\n",
    "        bgr = img[:,:,:3]\n",
    "        rgb = bgr[:, :, [2,1,0]]\n",
    "        return rgb\n",
    "    else:\n",
    "        path = os.path.join(jpgpath, fname)\n",
    "        img = io.imread(path)\n",
    "        return img\n",
    "\n",
    "\n",
    "def show_img(fname, tifpath=TIFPATH, jpgpath=JPGPATH):\n",
    "    img = load_img(fname, tifpath, jpgpath)\n",
    "\n",
    "    # use spectral to view tif files\n",
    "    if 'tif' in fname:\n",
    "        imshow(img)\n",
    "    # otherwise use standard matplotlib to view jpgs\n",
    "    else:\n",
    "        plt.figure()\n",
    "        plt.imshow(img)"
   ]
  },
  {
   "cell_type": "code",
   "execution_count": 14,
   "metadata": {
    "collapsed": false
   },
   "outputs": [
    {
     "ename": "NameError",
     "evalue": "global name 'io' is not defined",
     "output_type": "error",
     "traceback": [
      "\u001b[0;31m---------------------------------------------------------------------------\u001b[0m",
      "\u001b[0;31mNameError\u001b[0m                                 Traceback (most recent call last)",
      "\u001b[0;32m<ipython-input-14-c543e5ac04a8>\u001b[0m in \u001b[0;36m<module>\u001b[0;34m()\u001b[0m\n\u001b[0;32m----> 1\u001b[0;31m \u001b[0mshow_img\u001b[0m\u001b[0;34m(\u001b[0m\u001b[0;34m'test_10.jpg'\u001b[0m\u001b[0;34m)\u001b[0m\u001b[0;34m\u001b[0m\u001b[0m\n\u001b[0m\u001b[1;32m      2\u001b[0m \u001b[0mshow_img\u001b[0m\u001b[0;34m(\u001b[0m\u001b[0;34m'test_10.tif'\u001b[0m\u001b[0;34m)\u001b[0m\u001b[0;34m\u001b[0m\u001b[0m\n",
      "\u001b[0;32m<ipython-input-13-5da0bb56e9ad>\u001b[0m in \u001b[0;36mshow_img\u001b[0;34m(fname, tifpath, jpgpath)\u001b[0m\n\u001b[1;32m     17\u001b[0m \u001b[0;34m\u001b[0m\u001b[0m\n\u001b[1;32m     18\u001b[0m \u001b[0;32mdef\u001b[0m \u001b[0mshow_img\u001b[0m\u001b[0;34m(\u001b[0m\u001b[0mfname\u001b[0m\u001b[0;34m,\u001b[0m \u001b[0mtifpath\u001b[0m\u001b[0;34m=\u001b[0m\u001b[0mTIFPATH\u001b[0m\u001b[0;34m,\u001b[0m \u001b[0mjpgpath\u001b[0m\u001b[0;34m=\u001b[0m\u001b[0mJPGPATH\u001b[0m\u001b[0;34m)\u001b[0m\u001b[0;34m:\u001b[0m\u001b[0;34m\u001b[0m\u001b[0m\n\u001b[0;32m---> 19\u001b[0;31m     \u001b[0mimg\u001b[0m \u001b[0;34m=\u001b[0m \u001b[0mload_img\u001b[0m\u001b[0;34m(\u001b[0m\u001b[0mfname\u001b[0m\u001b[0;34m,\u001b[0m \u001b[0mtifpath\u001b[0m\u001b[0;34m,\u001b[0m \u001b[0mjpgpath\u001b[0m\u001b[0;34m)\u001b[0m\u001b[0;34m\u001b[0m\u001b[0m\n\u001b[0m\u001b[1;32m     20\u001b[0m \u001b[0;34m\u001b[0m\u001b[0m\n\u001b[1;32m     21\u001b[0m     \u001b[0;31m# use spectral to view tif files\u001b[0m\u001b[0;34m\u001b[0m\u001b[0;34m\u001b[0m\u001b[0m\n",
      "\u001b[0;32m<ipython-input-13-5da0bb56e9ad>\u001b[0m in \u001b[0;36mload_img\u001b[0;34m(fname, tifpath, jpgpath)\u001b[0m\n\u001b[1;32m     12\u001b[0m     \u001b[0;32melse\u001b[0m\u001b[0;34m:\u001b[0m\u001b[0;34m\u001b[0m\u001b[0m\n\u001b[1;32m     13\u001b[0m         \u001b[0mpath\u001b[0m \u001b[0;34m=\u001b[0m \u001b[0mos\u001b[0m\u001b[0;34m.\u001b[0m\u001b[0mpath\u001b[0m\u001b[0;34m.\u001b[0m\u001b[0mjoin\u001b[0m\u001b[0;34m(\u001b[0m\u001b[0mjpgpath\u001b[0m\u001b[0;34m,\u001b[0m \u001b[0mfname\u001b[0m\u001b[0;34m)\u001b[0m\u001b[0;34m\u001b[0m\u001b[0m\n\u001b[0;32m---> 14\u001b[0;31m         \u001b[0mimg\u001b[0m \u001b[0;34m=\u001b[0m \u001b[0mio\u001b[0m\u001b[0;34m.\u001b[0m\u001b[0mimread\u001b[0m\u001b[0;34m(\u001b[0m\u001b[0mpath\u001b[0m\u001b[0;34m)\u001b[0m\u001b[0;34m\u001b[0m\u001b[0m\n\u001b[0m\u001b[1;32m     15\u001b[0m         \u001b[0;32mreturn\u001b[0m \u001b[0mimg\u001b[0m\u001b[0;34m\u001b[0m\u001b[0m\n\u001b[1;32m     16\u001b[0m \u001b[0;34m\u001b[0m\u001b[0m\n",
      "\u001b[0;31mNameError\u001b[0m: global name 'io' is not defined"
     ]
    }
   ],
   "source": [
    "show_img('test_10.jpg')\n",
    "show_img('test_10.tif')"
   ]
  },
  {
   "cell_type": "code",
   "execution_count": null,
   "metadata": {
    "collapsed": true
   },
   "outputs": [],
   "source": [
    "show_img('file_10.jpg')\n",
    "show_img('file_10.tif')"
   ]
  },
  {
   "cell_type": "code",
   "execution_count": 15,
   "metadata": {
    "collapsed": false
   },
   "outputs": [
    {
     "name": "stdout",
     "output_type": "stream",
     "text": [
      "Copied 500\n",
      "Copied 1000\n",
      "Copied 1500\n",
      "Copied 2000\n",
      "Copied 2500\n",
      "Copied 3000\n",
      "Copied 3500\n",
      "Copied 4000\n",
      "Copied 4500\n",
      "Copied 5000\n",
      "Copied 5500\n",
      "Copied 6000\n",
      "Copied 6500\n",
      "Copied 7000\n",
      "Copied 7500\n",
      "Copied 8000\n",
      "Copied 8500\n",
      "Copied 9000\n",
      "Copied 9500\n",
      "Copied 10000\n",
      "Copied 10500\n",
      "Copied 11000\n",
      "Copied 11500\n",
      "Copied 12000\n",
      "Copied 12500\n",
      "Copied 13000\n",
      "Copied 13500\n",
      "Copied 14000\n",
      "Copied 14500\n",
      "Copied 15000\n",
      "Copied 15500\n",
      "Copied 16000\n",
      "Copied 16500\n",
      "Copied 17000\n",
      "Copied 17500\n",
      "Copied 18000\n",
      "Copied 18500\n",
      "Copied 19000\n",
      "Copied 19500\n",
      "Copied 20000\n",
      "Copied 20500\n"
     ]
    }
   ],
   "source": [
    "copy_and_rename(100)"
   ]
  },
  {
   "cell_type": "code",
   "execution_count": null,
   "metadata": {
    "collapsed": true
   },
   "outputs": [],
   "source": [
    "show_img('file_18830.jpg')\n",
    "show_img('file_18830.tif', tifpath=FIXEDPATH)"
   ]
  },
  {
   "cell_type": "code",
   "execution_count": null,
   "metadata": {
    "collapsed": true
   },
   "outputs": [],
   "source": [
    "show_img('file_18347.jpg')\n",
    "show_img('file_18347.tif', tifpath=FIXEDPATH)"
   ]
  },
  {
   "cell_type": "code",
   "execution_count": null,
   "metadata": {
    "collapsed": true
   },
   "outputs": [],
   "source": [
    "show_img('file_11906.jpg')\n",
    "show_img('file_11906.tif', tifpath=FIXEDPATH)"
   ]
  },
  {
   "cell_type": "code",
   "execution_count": null,
   "metadata": {
    "collapsed": true
   },
   "outputs": [],
   "source": [
    "show_img('file_4261.jpg')\n",
    "show_img('file_4261.tif', tifpath=FIXEDPATH)"
   ]
  },
  {
   "cell_type": "code",
   "execution_count": null,
   "metadata": {
    "collapsed": true
   },
   "outputs": [],
   "source": []
  },
  {
   "cell_type": "code",
   "execution_count": null,
   "metadata": {
    "collapsed": true
   },
   "outputs": [],
   "source": []
  }
 ],
 "metadata": {
  "kernelspec": {
   "display_name": "Python 2",
   "language": "python",
   "name": "python2"
  },
  "language_info": {
   "codemirror_mode": {
    "name": "ipython",
    "version": 2
   },
   "file_extension": ".py",
   "mimetype": "text/x-python",
   "name": "python",
   "nbconvert_exporter": "python",
   "pygments_lexer": "ipython2",
   "version": "2.7.13"
  }
 },
 "nbformat": 4,
 "nbformat_minor": 2
}
