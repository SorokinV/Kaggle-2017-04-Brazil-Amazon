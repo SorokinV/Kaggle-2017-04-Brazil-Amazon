{
 "cells": [
  {
   "cell_type": "code",
   "execution_count": 1,
   "metadata": {
    "collapsed": true,
    "deletable": true,
    "editable": true
   },
   "outputs": [],
   "source": [
    "# Проверка возможности использования xgbooster в основном, либо предварительно (2017-06-30)"
   ]
  },
  {
   "cell_type": "code",
   "execution_count": 2,
   "metadata": {
    "collapsed": false,
    "deletable": true,
    "editable": true
   },
   "outputs": [],
   "source": [
    "import sys,os,datetime\n",
    "import numpy as np\n",
    "import pandas as pd\n",
    "import matplotlib.pyplot as plt\n",
    "import sklearn.metrics as skm\n",
    "from __future__ import print_function"
   ]
  },
  {
   "cell_type": "code",
   "execution_count": 3,
   "metadata": {
    "collapsed": false,
    "deletable": true,
    "editable": true
   },
   "outputs": [
    {
     "name": "stdout",
     "output_type": "stream",
     "text": [
      "1.12.1\n",
      "0.19.2\n"
     ]
    }
   ],
   "source": [
    "print(np.__version__);\n",
    "print(pd.__version__);"
   ]
  },
  {
   "cell_type": "code",
   "execution_count": 4,
   "metadata": {
    "collapsed": false,
    "deletable": true,
    "editable": true
   },
   "outputs": [
    {
     "data": {
      "text/plain": [
       "'3.2.0'"
      ]
     },
     "execution_count": 4,
     "metadata": {},
     "output_type": "execute_result"
    }
   ],
   "source": [
    "import  cv2 as cv\n",
    "cv.__version__"
   ]
  },
  {
   "cell_type": "code",
   "execution_count": 5,
   "metadata": {
    "collapsed": false,
    "deletable": true,
    "editable": true
   },
   "outputs": [],
   "source": [
    "sys.path.append('../Python')\n",
    "from helper import formFH, paths_input"
   ]
  },
  {
   "cell_type": "code",
   "execution_count": null,
   "metadata": {
    "collapsed": false,
    "deletable": true,
    "editable": true
   },
   "outputs": [],
   "source": []
  },
  {
   "cell_type": "code",
   "execution_count": null,
   "metadata": {
    "collapsed": false,
    "deletable": true,
    "editable": true
   },
   "outputs": [],
   "source": []
  },
  {
   "cell_type": "code",
   "execution_count": 44,
   "metadata": {
    "collapsed": false,
    "deletable": true,
    "editable": true
   },
   "outputs": [
    {
     "name": "stdout",
     "output_type": "stream",
     "text": [
      "../Data/train-tif-v2 ../Data/test-tif-v2 ../Work/Train ../Work/Test\n",
      "../Data/train_v2.csv ../Data/train-tif-v2 ../Data/train-jpg ../Data/test-tif-v2 ../Data/test-jpg-v2\n"
     ]
    }
   ],
   "source": [
    "binsData = 32\n",
    "\n",
    "trLabels,trDirTIF,trDirJPG,teDirTIF,teDirJPG = paths_input()\n",
    "if False : # True :\n",
    "    trDirI = trDirJPG\n",
    "    teDirI = teDirJPG\n",
    "    ttExt  = '.jpg'\n",
    "else :\n",
    "    trDirI = trDirTIF\n",
    "    teDirI = teDirTIF\n",
    "    ttExt  = '.tif'\n",
    "trWork, teWork = '../Work/Train', '../Work/Test'\n",
    "print (trDirI,teDirI, trWork, teWork)\n",
    "print (trLabels,trDirTIF,trDirJPG,teDirTIF,teDirJPG)"
   ]
  },
  {
   "cell_type": "code",
   "execution_count": 45,
   "metadata": {
    "collapsed": false,
    "deletable": true,
    "editable": true
   },
   "outputs": [
    {
     "data": {
      "text/plain": [
       "['train_0.tif',\n",
       " 'train_1.tif',\n",
       " 'train_10.tif',\n",
       " 'train_100.tif',\n",
       " 'train_1000.tif',\n",
       " 'train_10000.tif']"
      ]
     },
     "execution_count": 45,
     "metadata": {},
     "output_type": "execute_result"
    }
   ],
   "source": [
    "xx=os.listdir(trDirI); xx.sort(); xx[:6]"
   ]
  },
  {
   "cell_type": "code",
   "execution_count": 11,
   "metadata": {
    "collapsed": false,
    "deletable": true,
    "editable": true
   },
   "outputs": [
    {
     "data": {
      "text/html": [
       "<div>\n",
       "<table border=\"1\" class=\"dataframe\">\n",
       "  <thead>\n",
       "    <tr style=\"text-align: right;\">\n",
       "      <th></th>\n",
       "      <th>image_name</th>\n",
       "      <th>tags</th>\n",
       "    </tr>\n",
       "  </thead>\n",
       "  <tbody>\n",
       "    <tr>\n",
       "      <th>0</th>\n",
       "      <td>train_0</td>\n",
       "      <td>haze primary</td>\n",
       "    </tr>\n",
       "    <tr>\n",
       "      <th>1</th>\n",
       "      <td>train_1</td>\n",
       "      <td>agriculture clear primary water</td>\n",
       "    </tr>\n",
       "    <tr>\n",
       "      <th>2</th>\n",
       "      <td>train_2</td>\n",
       "      <td>clear primary</td>\n",
       "    </tr>\n",
       "    <tr>\n",
       "      <th>3</th>\n",
       "      <td>train_3</td>\n",
       "      <td>clear primary</td>\n",
       "    </tr>\n",
       "    <tr>\n",
       "      <th>4</th>\n",
       "      <td>train_4</td>\n",
       "      <td>agriculture clear habitation primary road</td>\n",
       "    </tr>\n",
       "  </tbody>\n",
       "</table>\n",
       "</div>"
      ],
      "text/plain": [
       "  image_name                                       tags\n",
       "0    train_0                               haze primary\n",
       "1    train_1            agriculture clear primary water\n",
       "2    train_2                              clear primary\n",
       "3    train_3                              clear primary\n",
       "4    train_4  agriculture clear habitation primary road"
      ]
     },
     "execution_count": 11,
     "metadata": {},
     "output_type": "execute_result"
    }
   ],
   "source": [
    "labels_df = pd.read_csv(trLabels)\n",
    "labels_df.head()"
   ]
  },
  {
   "cell_type": "code",
   "execution_count": 12,
   "metadata": {
    "collapsed": true,
    "deletable": true,
    "editable": true
   },
   "outputs": [],
   "source": [
    "# Build list with unique labels\n",
    "label_list = []\n",
    "for tag_str in labels_df.tags.values:\n",
    "    labels = tag_str.split(' ')\n",
    "    for label in labels:\n",
    "        if label not in label_list:\n",
    "            label_list.append(label)"
   ]
  },
  {
   "cell_type": "code",
   "execution_count": 13,
   "metadata": {
    "collapsed": false,
    "deletable": true,
    "editable": true
   },
   "outputs": [],
   "source": [
    "# Add features (0 or 1) for every label as dataframe field \n",
    "for label in label_list:\n",
    "    labels_df[label] = labels_df['tags'].apply(lambda x: 1 if label in x.split(' ') else 0)\n",
    "#labels_df.head()"
   ]
  },
  {
   "cell_type": "code",
   "execution_count": 14,
   "metadata": {
    "collapsed": false,
    "deletable": true,
    "editable": true
   },
   "outputs": [],
   "source": [
    "weather_labels = ['clear', 'partly_cloudy', 'haze', 'cloudy']\n",
    "land_labels = ['primary', 'agriculture', 'water', 'cultivation', 'habitation' ]\n",
    "rare_labels = [l for l in label_list if labels_df[label_list].sum()[l] < 2000]\n",
    "#rare_labels              "
   ]
  },
  {
   "cell_type": "code",
   "execution_count": null,
   "metadata": {
    "collapsed": false,
    "deletable": true,
    "editable": true
   },
   "outputs": [],
   "source": []
  },
  {
   "cell_type": "code",
   "execution_count": 15,
   "metadata": {
    "collapsed": false,
    "deletable": true,
    "editable": true
   },
   "outputs": [],
   "source": [
    "labels = label_list; #weather_labels;\n",
    "nameList =labels_df[labels_df[labels].sum(axis=1)>0].image_name.tolist(); len(nameList)\n",
    "labelList=labels_df[labels_df[labels].sum(axis=1)>0][labels].as_matrix();\n",
    "#labelList[:6,:]\n",
    "#labels_df.head()"
   ]
  },
  {
   "cell_type": "code",
   "execution_count": null,
   "metadata": {
    "collapsed": true,
    "deletable": true,
    "editable": true
   },
   "outputs": [],
   "source": []
  },
  {
   "cell_type": "code",
   "execution_count": 16,
   "metadata": {
    "collapsed": false,
    "deletable": true,
    "editable": true
   },
   "outputs": [],
   "source": [
    "def formImExt (nf, resize=(32,32), printOK=False) :\n",
    "    nx = None\n",
    "    try : \n",
    "        ni = cv.imread(nf,-1); \n",
    "        if (ni is not None) :\n",
    "            if not ((ni.shape[2]==3) or (ni.shape[2]==4)) and printOK : print('----- error ---- shape:',ni.shape,nf)\n",
    "            if (ni.shape[2]==3) :\n",
    "                nx = cv.resize(ni,resize)\n",
    "            if (ni.shape[2]==4) :\n",
    "                #r,g,b,n = ni[:,:,2],ni[:,:,1],ni[:,:,0],ni[:,:,3]\n",
    "                r,g,b,n = cv.resize(ni[:,:,2],resize),cv.resize(ni[:,:,1],resize),cv.resize(ni[:,:,0],resize),cv.resize(ni[:,:,3],resize)\n",
    "                dv,dw   = np.divide((r-n),(r+n+0.01)), np.divide((g-n),(g+n+0.01))\n",
    "                nx      = np.array([r,g,b,n,dv,dw]).T; \n",
    "    except BaseException as e :\n",
    "        print(nf,e); nx = None;\n",
    "    \n",
    "    if nx is None and printOK : \n",
    "        print('------ None:',nf); nx = None\n",
    "        \n",
    "    return(nx)\n",
    "\n",
    "def formImHist (nf, size, printOK=False) :\n",
    "    \n",
    "    def hist1 (nf1,bins) :\n",
    "        h,_ = np.histogram(nf1.ravel(),bins=bins)\n",
    "        return h.tolist()\n",
    "    \n",
    "    def histN (nf,bins) :\n",
    "        h = []\n",
    "        for i in range(0,nf.shape[2]) :\n",
    "            h = h + hist1(nf[:,:,i],bins=bins);\n",
    "        return h\n",
    "             \n",
    "    def histNX (nf,bins) :\n",
    "        h = []\n",
    "        for i in range(0,nf.shape[2]) :\n",
    "            h = h + hist1(nf[:,:,i],bins=bins[i]);\n",
    "        return h\n",
    "             \n",
    "    nx = None\n",
    "    try : \n",
    "        ni = cv.imread(nf,-1); #print(ni.shape)\n",
    "        if (ni is not None) :\n",
    "            \n",
    "            if printOK : print(nf,ni.shape)\n",
    "\n",
    "            if not ((ni.shape[2]==3) or (ni.shape[2]==4)) and printOK : \n",
    "                print('----- error ---- shape:',ni.shape,nf);\n",
    "            if  ni.shape[2]==3 :\n",
    "                bins = [x for x in range(0,255+int(round(256.0/size)),int(round(256.0/size)))]\n",
    "                nx = histN(ni,bins)\n",
    "            if  ni.shape[2]==4 : \n",
    "                bins0 = [x      for x in range(0,65535+int(round(65535.0/size)),int(round(65535.0/size)))]\n",
    "                l,h,d = -16000.0,16000.0,1000.0\n",
    "                bins1 = [float(x/d) for x in range(int(l),int(h+int(round((h-l)/size))), int(round((h-l)/size)))] \n",
    "                bins  = [bins0,bins0,bins0,bins0,bins1,bins1]\n",
    "                r,g,b,n = ni[:,:,2], ni[:,:,1], ni[:,:,0], ni[:,:,3]\n",
    "                dv,dw   = np.divide((r-n),(r+n+0.01)), np.divide((g-n),(g+n+0.01))\n",
    "                ni      = np.array([r,g,b,n,dv,dw]).T; \n",
    "                nx = histNX(ni,bins)\n",
    "            \n",
    "    except BaseException as e :\n",
    "        print(nf,e); nx = None;\n",
    "    \n",
    "    if nx is None and printOK : \n",
    "        print('------ None:',nf); nx = None\n",
    "        \n",
    "    return(nx)"
   ]
  },
  {
   "cell_type": "code",
   "execution_count": 17,
   "metadata": {
    "collapsed": false,
    "deletable": true,
    "editable": true
   },
   "outputs": [],
   "source": [
    "#size= 75\n",
    "#bins1 =[float(x/1000.0) for x in range(-1*1000,1*1000+int(round(2000.0/size)), int(round(2000.0/size)))] \n",
    "#bins1\n",
    "#75*4,trX.shape,trX[1,75*0:75*6]"
   ]
  },
  {
   "cell_type": "code",
   "execution_count": 46,
   "metadata": {
    "collapsed": false,
    "deletable": true,
    "editable": true
   },
   "outputs": [
    {
     "name": "stdout",
     "output_type": "stream",
     "text": [
      "2017-07-02 09:17:55.551197 40479 40479\n",
      "2017-07-02 09:22:15.023269 \t 5000 \t train_4999\n",
      "2017-07-02 09:26:33.755457 \t 10000 \t train_9999\n",
      "2017-07-02 09:30:48.234418 \t 15000 \t train_14999\n",
      "2017-07-02 09:34:59.477844 \t 20000 \t train_19999\n",
      "2017-07-02 09:39:04.663523 \t 25000 \t train_24999\n",
      "2017-07-02 09:43:27.864650 \t 30000 \t train_29999\n",
      "2017-07-02 09:47:51.811525 \t 35000 \t train_34999\n",
      "2017-07-02 09:52:15.504120 \t 40000 \t train_39999\n",
      "2017-07-02 09:52:39.708127\n",
      "40479 (40479, 192) (40479, 17)\n"
     ]
    }
   ],
   "source": [
    "trX, trY, i, size = [],[], 0, len(nameList)\n",
    "print(datetime.datetime.now(),len(nameList),size)\n",
    "for nn in nameList[0:size] :\n",
    "    nf = os.path.join(trDirI,nn+ttExt);\n",
    "    nx = formImHist(nf,binsData,printOK=False)\n",
    "    if (nx is not None) :\n",
    "        #rr=np.save(os.path.join(trWork,nn+\".npy\"),nx);\n",
    "        #trX.append(nn+\".npy\")\n",
    "        trX.append(nx)\n",
    "        trY.append(True)\n",
    "    else : \n",
    "        trY.append(False)\n",
    "    i += 1\n",
    "    if (i%5000==0) : print(datetime.datetime.now(),\"\\t\",i,\"\\t\",nn)\n",
    "    #print(nn.shape)\n",
    "\n",
    "print(datetime.datetime.now())\n",
    "trX = np.array(trX);\n",
    "trY = labelList[trY];\n",
    "print(len(nameList),trX.shape,trY.shape)\n",
    "#trXY=pd.DataFrame(trY); trXY['name']=trX; trXY.head()\n",
    "#trXY.to_pickle(os.path.join(trWork,\"listFiles.pkl\"))"
   ]
  },
  {
   "cell_type": "code",
   "execution_count": 47,
   "metadata": {
    "collapsed": false,
    "deletable": true,
    "editable": true
   },
   "outputs": [
    {
     "data": {
      "text/plain": [
       "((40479, 192), (40479, 17))"
      ]
     },
     "execution_count": 47,
     "metadata": {},
     "output_type": "execute_result"
    }
   ],
   "source": [
    "trX.shape,trY.shape"
   ]
  },
  {
   "cell_type": "code",
   "execution_count": 48,
   "metadata": {
    "collapsed": false,
    "deletable": true,
    "editable": true
   },
   "outputs": [],
   "source": [
    "np.save('../Work/train-data-XX'+str(binsData)+ttExt+'.npy',trX)\n",
    "np.save('../Work/train-data-YY'+str(binsData)+ttExt+'.npy',trY)"
   ]
  },
  {
   "cell_type": "code",
   "execution_count": 49,
   "metadata": {
    "collapsed": false,
    "deletable": true,
    "editable": true
   },
   "outputs": [],
   "source": [
    "del(trX); del(trY);"
   ]
  },
  {
   "cell_type": "code",
   "execution_count": 50,
   "metadata": {
    "collapsed": false,
    "deletable": true,
    "editable": true
   },
   "outputs": [
    {
     "name": "stdout",
     "output_type": "stream",
     "text": [
      "(40479, 192) (40479, 17)\n"
     ]
    }
   ],
   "source": [
    "trX = np.load('../Work/train-data-XX'+str(binsData)+ttExt+'.npy')\n",
    "trY = np.load('../Work/train-data-YY'+str(binsData)+ttExt+'.npy')\n",
    "print(trX.shape,trY.shape)"
   ]
  },
  {
   "cell_type": "code",
   "execution_count": null,
   "metadata": {
    "collapsed": true,
    "deletable": true,
    "editable": true
   },
   "outputs": [],
   "source": []
  },
  {
   "cell_type": "code",
   "execution_count": null,
   "metadata": {
    "collapsed": false,
    "deletable": true,
    "editable": true
   },
   "outputs": [],
   "source": [
    "# Forming output dataset for predicting --> trOX, trOY\n",
    "del(trX)\n",
    "del(trY)"
   ]
  },
  {
   "cell_type": "code",
   "execution_count": null,
   "metadata": {
    "collapsed": false,
    "deletable": true,
    "editable": true
   },
   "outputs": [
    {
     "name": "stdout",
     "output_type": "stream",
     "text": [
      "61191\n",
      "2017-07-02 09:52:42.014824 61191 61191\n",
      "2017-07-02 09:56:47.538964 \t 5000 \t test_15649.tif\n",
      "2017-07-02 10:00:45.806645 \t 10000 \t test_32423.tif\n",
      "2017-07-02 10:04:42.808560 \t 15000 \t test_36264.tif\n",
      "2017-07-02 10:08:42.314236 \t 20000 \t test_10894.tif\n",
      "2017-07-02 10:12:41.354721 \t 25000 \t file_9502.tif\n",
      "2017-07-02 10:16:33.920637 \t 30000 \t file_14128.tif\n"
     ]
    }
   ],
   "source": [
    "nameAsk = os.listdir(teDirI); print(len(nameAsk))\n",
    "trOX, trOY, i, size = [], [], 0, len(nameAsk)\n",
    "print(datetime.datetime.now(),len(nameAsk),size)\n",
    "for nn in nameAsk[0:size] :\n",
    "    nf = os.path.join(teDirI,nn);\n",
    "    nx = formImHist(nf,binsData) #,printOK=True)\n",
    "    if (nx is not None) :\n",
    "        trOX.append(nx)\n",
    "        trOY.append(nn)\n",
    "    i += 1\n",
    "    if (i%5000==0) : print(datetime.datetime.now(),\"\\t\",i,\"\\t\",nn)\n",
    "\n",
    "print(datetime.datetime.now())\n",
    "\n",
    "#assert (size!=len(trOY)), \"Wrong files {} != {}\".format(size,len(trOY))"
   ]
  },
  {
   "cell_type": "code",
   "execution_count": null,
   "metadata": {
    "collapsed": false,
    "deletable": true,
    "editable": true
   },
   "outputs": [],
   "source": [
    "trOX = np.array(trOX);\n",
    "trOY = np.array([os.path.splitext(x)[0] for x in trOY]);\n",
    "print(len(nameAsk),trOX.shape,trOY.shape)"
   ]
  },
  {
   "cell_type": "code",
   "execution_count": null,
   "metadata": {
    "collapsed": false,
    "deletable": true,
    "editable": true
   },
   "outputs": [],
   "source": [
    "#trOX[20],trOY[20]"
   ]
  },
  {
   "cell_type": "code",
   "execution_count": null,
   "metadata": {
    "collapsed": true,
    "deletable": true,
    "editable": true
   },
   "outputs": [],
   "source": [
    "# Saving & Loading"
   ]
  },
  {
   "cell_type": "code",
   "execution_count": null,
   "metadata": {
    "collapsed": false,
    "deletable": true,
    "editable": true
   },
   "outputs": [],
   "source": [
    "np.save('../Work/test-data-XX'+str(binsData)+ttExt+'.npy',trOX)\n",
    "np.save('../Work/test-data-YY'+str(binsData)+ttExt+'.npy',trOY)"
   ]
  },
  {
   "cell_type": "code",
   "execution_count": null,
   "metadata": {
    "collapsed": false,
    "deletable": true,
    "editable": true
   },
   "outputs": [],
   "source": [
    "trOX = np.load('../Work/test-data-XX'+str(binsData)+ttExt+'.npy')\n",
    "trOY = np.load('../Work/test-data-YY'+str(binsData)+ttExt+'.npy')\n",
    "print(trOX.shape,trOY.shape)"
   ]
  },
  {
   "cell_type": "code",
   "execution_count": null,
   "metadata": {
    "collapsed": false,
    "deletable": true,
    "editable": true
   },
   "outputs": [],
   "source": []
  },
  {
   "cell_type": "code",
   "execution_count": null,
   "metadata": {
    "collapsed": true,
    "deletable": true,
    "editable": true
   },
   "outputs": [],
   "source": []
  }
 ],
 "metadata": {
  "kernelspec": {
   "display_name": "Python 2",
   "language": "python",
   "name": "python2"
  },
  "language_info": {
   "codemirror_mode": {
    "name": "ipython",
    "version": 2
   },
   "file_extension": ".py",
   "mimetype": "text/x-python",
   "name": "python",
   "nbconvert_exporter": "python",
   "pygments_lexer": "ipython2",
   "version": "2.7.13"
  }
 },
 "nbformat": 4,
 "nbformat_minor": 2
}
