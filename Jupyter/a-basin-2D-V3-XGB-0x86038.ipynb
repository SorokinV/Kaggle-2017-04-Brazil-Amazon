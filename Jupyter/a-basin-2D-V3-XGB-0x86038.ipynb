{
 "cells": [
  {
   "cell_type": "code",
   "execution_count": 3,
   "metadata": {
    "collapsed": true,
    "deletable": true,
    "editable": true
   },
   "outputs": [],
   "source": [
    "# Проверка возможности использования xgbooster в основном, либо предварительно (2017-06-30)"
   ]
  },
  {
   "cell_type": "code",
   "execution_count": 4,
   "metadata": {
    "collapsed": false,
    "deletable": true,
    "editable": true
   },
   "outputs": [],
   "source": [
    "import sys,os,datetime\n",
    "import numpy as np\n",
    "import pandas as pd\n",
    "import matplotlib.pyplot as plt\n",
    "import sklearn.metrics as skm\n",
    "from __future__ import print_function"
   ]
  },
  {
   "cell_type": "code",
   "execution_count": 5,
   "metadata": {
    "collapsed": false,
    "deletable": true,
    "editable": true
   },
   "outputs": [
    {
     "name": "stdout",
     "output_type": "stream",
     "text": [
      "1.12.1\n",
      "0.19.2\n"
     ]
    }
   ],
   "source": [
    "print(np.__version__);\n",
    "print(pd.__version__);"
   ]
  },
  {
   "cell_type": "code",
   "execution_count": 6,
   "metadata": {
    "collapsed": false,
    "deletable": true,
    "editable": true
   },
   "outputs": [
    {
     "data": {
      "text/plain": [
       "'3.2.0'"
      ]
     },
     "execution_count": 6,
     "metadata": {},
     "output_type": "execute_result"
    }
   ],
   "source": [
    "import  cv2 as cv\n",
    "cv.__version__"
   ]
  },
  {
   "cell_type": "code",
   "execution_count": 7,
   "metadata": {
    "collapsed": false,
    "deletable": true,
    "editable": true
   },
   "outputs": [],
   "source": [
    "sys.path.append('../Python')\n",
    "from helper import formFH, paths_input"
   ]
  },
  {
   "cell_type": "code",
   "execution_count": null,
   "metadata": {
    "collapsed": false,
    "deletable": true,
    "editable": true
   },
   "outputs": [],
   "source": []
  },
  {
   "cell_type": "code",
   "execution_count": null,
   "metadata": {
    "collapsed": false,
    "deletable": true,
    "editable": true
   },
   "outputs": [],
   "source": []
  },
  {
   "cell_type": "code",
   "execution_count": 89,
   "metadata": {
    "collapsed": false,
    "deletable": true,
    "editable": true
   },
   "outputs": [
    {
     "name": "stdout",
     "output_type": "stream",
     "text": [
      "../Data/train-jpg ../Data/test-jpg-v2 ../Work/Train ../Work/Test\n",
      "../Data/train_v2.csv ../Data/train-tif-v2 ../Data/train-jpg ../Data/test-tif-v2 ../Data/test-jpg-v2\n"
     ]
    }
   ],
   "source": [
    "binsData = 64\n",
    "\n",
    "trLabels,trDirTIF,trDirJPG,teDirTIF,teDirJPG = paths_input()\n",
    "if True :\n",
    "    trDirI = trDirJPG\n",
    "    teDirI = teDirJPG\n",
    "    ttExt  = '.jpg'\n",
    "else :\n",
    "    trDirI = trDirTIF\n",
    "    teDirI = teDirTIF\n",
    "    ttExt  = '.tif'\n",
    "trWork, teWork = '../Work/Train', '../Work/Test'\n",
    "print (trDirI,teDirI, trWork, teWork)\n",
    "print (trLabels,trDirTIF,trDirJPG,teDirTIF,teDirJPG)"
   ]
  },
  {
   "cell_type": "code",
   "execution_count": 90,
   "metadata": {
    "collapsed": false,
    "deletable": true,
    "editable": true
   },
   "outputs": [
    {
     "data": {
      "text/plain": [
       "['train_0.jpg',\n",
       " 'train_1.jpg',\n",
       " 'train_10.jpg',\n",
       " 'train_100.jpg',\n",
       " 'train_1000.jpg',\n",
       " 'train_10000.jpg']"
      ]
     },
     "execution_count": 90,
     "metadata": {},
     "output_type": "execute_result"
    }
   ],
   "source": [
    "xx=os.listdir(trDirI); xx.sort(); xx[:6]"
   ]
  },
  {
   "cell_type": "code",
   "execution_count": 91,
   "metadata": {
    "collapsed": false,
    "deletable": true,
    "editable": true
   },
   "outputs": [
    {
     "data": {
      "text/html": [
       "<div>\n",
       "<table border=\"1\" class=\"dataframe\">\n",
       "  <thead>\n",
       "    <tr style=\"text-align: right;\">\n",
       "      <th></th>\n",
       "      <th>image_name</th>\n",
       "      <th>tags</th>\n",
       "    </tr>\n",
       "  </thead>\n",
       "  <tbody>\n",
       "    <tr>\n",
       "      <th>0</th>\n",
       "      <td>train_0</td>\n",
       "      <td>haze primary</td>\n",
       "    </tr>\n",
       "    <tr>\n",
       "      <th>1</th>\n",
       "      <td>train_1</td>\n",
       "      <td>agriculture clear primary water</td>\n",
       "    </tr>\n",
       "    <tr>\n",
       "      <th>2</th>\n",
       "      <td>train_2</td>\n",
       "      <td>clear primary</td>\n",
       "    </tr>\n",
       "    <tr>\n",
       "      <th>3</th>\n",
       "      <td>train_3</td>\n",
       "      <td>clear primary</td>\n",
       "    </tr>\n",
       "    <tr>\n",
       "      <th>4</th>\n",
       "      <td>train_4</td>\n",
       "      <td>agriculture clear habitation primary road</td>\n",
       "    </tr>\n",
       "  </tbody>\n",
       "</table>\n",
       "</div>"
      ],
      "text/plain": [
       "  image_name                                       tags\n",
       "0    train_0                               haze primary\n",
       "1    train_1            agriculture clear primary water\n",
       "2    train_2                              clear primary\n",
       "3    train_3                              clear primary\n",
       "4    train_4  agriculture clear habitation primary road"
      ]
     },
     "execution_count": 91,
     "metadata": {},
     "output_type": "execute_result"
    }
   ],
   "source": [
    "labels_df = pd.read_csv(trLabels)\n",
    "labels_df.head()"
   ]
  },
  {
   "cell_type": "code",
   "execution_count": 92,
   "metadata": {
    "collapsed": true,
    "deletable": true,
    "editable": true
   },
   "outputs": [],
   "source": [
    "# Build list with unique labels\n",
    "label_list = []\n",
    "for tag_str in labels_df.tags.values:\n",
    "    labels = tag_str.split(' ')\n",
    "    for label in labels:\n",
    "        if label not in label_list:\n",
    "            label_list.append(label)"
   ]
  },
  {
   "cell_type": "code",
   "execution_count": 93,
   "metadata": {
    "collapsed": false,
    "deletable": true,
    "editable": true
   },
   "outputs": [],
   "source": [
    "# Add features (0 or 1) for every label as dataframe field \n",
    "for label in label_list:\n",
    "    labels_df[label] = labels_df['tags'].apply(lambda x: 1 if label in x.split(' ') else 0)\n",
    "#labels_df.head()"
   ]
  },
  {
   "cell_type": "code",
   "execution_count": 94,
   "metadata": {
    "collapsed": false,
    "deletable": true,
    "editable": true
   },
   "outputs": [],
   "source": [
    "weather_labels = ['clear', 'partly_cloudy', 'haze', 'cloudy']\n",
    "land_labels = ['primary', 'agriculture', 'water', 'cultivation', 'habitation' ]\n",
    "rare_labels = [l for l in label_list if labels_df[label_list].sum()[l] < 2000]\n",
    "#rare_labels              "
   ]
  },
  {
   "cell_type": "code",
   "execution_count": null,
   "metadata": {
    "collapsed": false,
    "deletable": true,
    "editable": true
   },
   "outputs": [],
   "source": []
  },
  {
   "cell_type": "code",
   "execution_count": 95,
   "metadata": {
    "collapsed": false,
    "deletable": true,
    "editable": true
   },
   "outputs": [
    {
     "data": {
      "text/plain": [
       "array([[1, 1, 0, 0, 0, 0, 0, 0, 0, 0, 0, 0, 0, 0, 0, 0, 0],\n",
       "       [0, 1, 1, 1, 1, 0, 0, 0, 0, 0, 0, 0, 0, 0, 0, 0, 0],\n",
       "       [0, 1, 0, 1, 0, 0, 0, 0, 0, 0, 0, 0, 0, 0, 0, 0, 0],\n",
       "       [0, 1, 0, 1, 0, 0, 0, 0, 0, 0, 0, 0, 0, 0, 0, 0, 0],\n",
       "       [0, 1, 1, 1, 0, 1, 1, 0, 0, 0, 0, 0, 0, 0, 0, 0, 0],\n",
       "       [1, 1, 0, 0, 1, 0, 0, 0, 0, 0, 0, 0, 0, 0, 0, 0, 0]])"
      ]
     },
     "execution_count": 95,
     "metadata": {},
     "output_type": "execute_result"
    }
   ],
   "source": [
    "labels = label_list; #weather_labels;\n",
    "nameList =labels_df[labels_df[labels].sum(axis=1)>0].image_name.tolist(); len(nameList)\n",
    "labelList=labels_df[labels_df[labels].sum(axis=1)>0][labels].as_matrix();\n",
    "labelList[:6,:]\n",
    "#labels_df.head()"
   ]
  },
  {
   "cell_type": "code",
   "execution_count": null,
   "metadata": {
    "collapsed": true,
    "deletable": true,
    "editable": true
   },
   "outputs": [],
   "source": []
  },
  {
   "cell_type": "code",
   "execution_count": 96,
   "metadata": {
    "collapsed": false,
    "deletable": true,
    "editable": true
   },
   "outputs": [],
   "source": [
    "def formImExt (nf, resize=(32,32), printOK=False) :\n",
    "    nx = None\n",
    "    try : \n",
    "        ni = cv.imread(nf,-1); \n",
    "        if (ni is not None) :\n",
    "            if not ((ni.shape[2]==3) or (ni.shape[2]==4)) and printOK : print('----- error ---- shape:',ni.shape,nf)\n",
    "            if (ni.shape[2]==3) :\n",
    "                nx = cv.resize(ni,resize)\n",
    "            if (ni.shape[2]==4) :\n",
    "                #r,g,b,n = ni[:,:,2],ni[:,:,1],ni[:,:,0],ni[:,:,3]\n",
    "                r,g,b,n = cv.resize(ni[:,:,2],resize),cv.resize(ni[:,:,1],resize),cv.resize(ni[:,:,0],resize),cv.resize(ni[:,:,3],resize)\n",
    "                dv,dw   = np.divide((r-n),(r+n+0.01)), np.divide((g-n),(g+n+0.01))\n",
    "                nx      = np.array([r,g,b,n,dv,dw]).T; \n",
    "    except BaseException as e :\n",
    "        print(nf,e); nx = None;\n",
    "    \n",
    "    if nx is None and printOK : \n",
    "        print('------ None:',nf); nx = None\n",
    "        \n",
    "    return(nx)\n",
    "\n",
    "def formImHist (nf, size, printOK=False) :\n",
    "    \n",
    "    def hist1 (nf1,bins) :\n",
    "        h,_ = np.histogram(nf1.ravel(),bins=bins)\n",
    "        return h.tolist()\n",
    "    \n",
    "    def histN (nf,bins) :\n",
    "        h = []\n",
    "        for i in range(0,nf.shape[2]) :\n",
    "            h = h + hist1(nf[:,:,i],bins=bins);\n",
    "        return h\n",
    "             \n",
    "    nx = None\n",
    "    try : \n",
    "        ni = cv.imread(nf,-1);\n",
    "        if (ni is not None) :\n",
    "            \n",
    "            if printOK : print(nf,ni.shape)\n",
    "\n",
    "            if not ((ni.shape[2]==3) or (ni.shape[2]==4)) and printOK : \n",
    "                print('----- error ---- shape:',ni.shape,nf);\n",
    "            if  ni.shape[2]==3 :\n",
    "                bins = [x for x in range(0,255+int(round(256.0/size)),int(round(256.0/size)))]\n",
    "                nx = histN(ni,bins)\n",
    "            if  ni.shape[2]==4 : \n",
    "                bins = [x for x in range(0,65535+int(round(65535.0/size)),int(round(65535.0/size)))]\n",
    "                nx = histN(ni,bins)\n",
    "            \n",
    "    except BaseException as e :\n",
    "        print(nf,e); nx = None;\n",
    "    \n",
    "    if nx is None and printOK : \n",
    "        print('------ None:',nf); nx = None\n",
    "        \n",
    "    return(nx)"
   ]
  },
  {
   "cell_type": "code",
   "execution_count": null,
   "metadata": {
    "collapsed": false,
    "deletable": true,
    "editable": true
   },
   "outputs": [],
   "source": []
  },
  {
   "cell_type": "code",
   "execution_count": 305,
   "metadata": {
    "collapsed": false,
    "deletable": true,
    "editable": true
   },
   "outputs": [
    {
     "name": "stdout",
     "output_type": "stream",
     "text": [
      "2017-07-01 22:27:38.425390 40479 40479\n",
      "2017-07-01 22:28:10.542868 \t 5000 \t train_4999\n",
      "2017-07-01 22:28:42.933172 \t 10000 \t train_9999\n",
      "2017-07-01 22:29:15.265437 \t 15000 \t train_14999\n",
      "2017-07-01 22:29:47.640331 \t 20000 \t train_19999\n",
      "2017-07-01 22:30:19.933878 \t 25000 \t train_24999\n",
      "2017-07-01 22:30:52.222184 \t 30000 \t train_29999\n",
      "2017-07-01 22:31:24.515618 \t 35000 \t train_34999\n",
      "2017-07-01 22:31:56.785346 \t 40000 \t train_39999\n",
      "2017-07-01 22:31:59.865319\n",
      "40479 (40479, 192) (40479, 17)\n"
     ]
    }
   ],
   "source": [
    "trX, trY, i, size = [],[], 0, len(nameList)\n",
    "print(datetime.datetime.now(),len(nameList),size)\n",
    "for nn in nameList[0:size] :\n",
    "    nf = os.path.join(trDirI,nn+ttExt);\n",
    "    nx = formImHist(nf,binsData,printOK=False)\n",
    "    if (nx is not None) :\n",
    "        #rr=np.save(os.path.join(trWork,nn+\".npy\"),nx);\n",
    "        #trX.append(nn+\".npy\")\n",
    "        trX.append(nx)\n",
    "        trY.append(True)\n",
    "    else : \n",
    "        trY.append(False)\n",
    "    i += 1\n",
    "    if (i%5000==0) : print(datetime.datetime.now(),\"\\t\",i,\"\\t\",nn)\n",
    "    #print(nn.shape)\n",
    "\n",
    "print(datetime.datetime.now())\n",
    "trX = np.array(trX);\n",
    "trY = labelList[trY];\n",
    "print(len(nameList),trX.shape,trY.shape)\n",
    "#trXY=pd.DataFrame(trY); trXY['name']=trX; trXY.head()\n",
    "#trXY.to_pickle(os.path.join(trWork,\"listFiles.pkl\"))"
   ]
  },
  {
   "cell_type": "code",
   "execution_count": 306,
   "metadata": {
    "collapsed": false,
    "deletable": true,
    "editable": true
   },
   "outputs": [
    {
     "data": {
      "text/plain": [
       "((40479, 192), (40479, 17))"
      ]
     },
     "execution_count": 306,
     "metadata": {},
     "output_type": "execute_result"
    }
   ],
   "source": [
    "trX.shape,trY.shape"
   ]
  },
  {
   "cell_type": "code",
   "execution_count": 307,
   "metadata": {
    "collapsed": false,
    "deletable": true,
    "editable": true
   },
   "outputs": [],
   "source": [
    "np.save('../Work/train-data-XX'+str(binsData)+ttExt+'.npy',trX)\n",
    "np.save('../Work/train-data-YY'+str(binsData)+ttExt+'.npy',trY)"
   ]
  },
  {
   "cell_type": "code",
   "execution_count": 308,
   "metadata": {
    "collapsed": false,
    "deletable": true,
    "editable": true
   },
   "outputs": [],
   "source": [
    "del(trX); del(trY);"
   ]
  },
  {
   "cell_type": "code",
   "execution_count": 310,
   "metadata": {
    "collapsed": false,
    "deletable": true,
    "editable": true
   },
   "outputs": [
    {
     "name": "stdout",
     "output_type": "stream",
     "text": [
      "(40479, 192) (40479, 17)\n"
     ]
    }
   ],
   "source": [
    "trX = np.load('../Work/train-data-XX'+str(binsData)+ttExt+'.npy')\n",
    "trY = np.load('../Work/train-data-YY'+str(binsData)+ttExt+'.npy')\n",
    "print(trX.shape,trY.shape)"
   ]
  },
  {
   "cell_type": "code",
   "execution_count": 102,
   "metadata": {
    "collapsed": false,
    "deletable": true,
    "editable": true
   },
   "outputs": [],
   "source": [
    "import xgboost as xgb"
   ]
  },
  {
   "cell_type": "code",
   "execution_count": 103,
   "metadata": {
    "collapsed": false,
    "deletable": true,
    "editable": true
   },
   "outputs": [],
   "source": [
    "# Строим основные массивы\n",
    "dtrain = xgb.DMatrix(trX,label=trY[:,1])"
   ]
  },
  {
   "cell_type": "code",
   "execution_count": null,
   "metadata": {
    "collapsed": false,
    "deletable": true,
    "editable": true
   },
   "outputs": [],
   "source": []
  },
  {
   "cell_type": "code",
   "execution_count": 105,
   "metadata": {
    "collapsed": false,
    "deletable": true,
    "editable": true
   },
   "outputs": [
    {
     "name": "stdout",
     "output_type": "stream",
     "text": [
      "Working: 0\n",
      "[0]\ttrain-auc:0.946348+0.00246812\ttest-auc:0.93511+0.00585985\n",
      "[30]\ttrain-auc:0.987194+0.0011631\ttest-auc:0.95947+0.00213376\n",
      "[0]\ttrain-auc:0.943616\ttrain-rmse:0.377721\n",
      "[1]\ttrain-auc:0.955926\ttrain-rmse:0.30033\n",
      "[2]\ttrain-auc:0.957851\ttrain-rmse:0.251846\n",
      "[3]\ttrain-auc:0.962105\ttrain-rmse:0.221258\n",
      "[4]\ttrain-auc:0.96513\ttrain-rmse:0.20106\n",
      "[5]\ttrain-auc:0.966789\ttrain-rmse:0.189083\n",
      "[6]\ttrain-auc:0.967855\ttrain-rmse:0.182441\n",
      "[7]\ttrain-auc:0.969429\ttrain-rmse:0.17805\n",
      "[8]\ttrain-auc:0.970383\ttrain-rmse:0.175348\n",
      "[9]\ttrain-auc:0.971163\ttrain-rmse:0.173594\n",
      "[10]\ttrain-auc:0.973467\ttrain-rmse:0.172019\n",
      "[11]\ttrain-auc:0.974042\ttrain-rmse:0.171132\n",
      "[12]\ttrain-auc:0.974452\ttrain-rmse:0.170161\n",
      "[13]\ttrain-auc:0.975646\ttrain-rmse:0.168797\n",
      "[14]\ttrain-auc:0.976244\ttrain-rmse:0.168233\n",
      "[15]\ttrain-auc:0.977153\ttrain-rmse:0.167515\n",
      "[16]\ttrain-auc:0.978194\ttrain-rmse:0.165903\n",
      "[17]\ttrain-auc:0.979164\ttrain-rmse:0.164398\n",
      "[18]\ttrain-auc:0.97977\ttrain-rmse:0.163777\n",
      "[19]\ttrain-auc:0.980269\ttrain-rmse:0.162778\n",
      "[20]\ttrain-auc:0.980419\ttrain-rmse:0.162421\n",
      "[21]\ttrain-auc:0.980975\ttrain-rmse:0.161538\n",
      "[22]\ttrain-auc:0.981274\ttrain-rmse:0.161156\n",
      "[23]\ttrain-auc:0.981544\ttrain-rmse:0.160767\n",
      "[24]\ttrain-auc:0.982289\ttrain-rmse:0.160112\n",
      "[25]\ttrain-auc:0.982767\ttrain-rmse:0.159552\n",
      "[26]\ttrain-auc:0.982996\ttrain-rmse:0.159115\n",
      "[27]\ttrain-auc:0.983717\ttrain-rmse:0.157178\n",
      "[28]\ttrain-auc:0.984393\ttrain-rmse:0.155621\n",
      "[29]\ttrain-auc:0.984595\ttrain-rmse:0.154975\n",
      "[30]\ttrain-auc:0.984688\ttrain-rmse:0.154792\n",
      "[31]\ttrain-auc:0.985072\ttrain-rmse:0.153994\n",
      "[32]\ttrain-auc:0.985534\ttrain-rmse:0.152502\n",
      "Working: 1\n",
      "[0]\ttrain-auc:0.940189+0.00403383\ttest-auc:0.928575+0.00423896\n",
      "[30]\ttrain-auc:0.992541+0.000569904\ttest-auc:0.970428+0.0016484\n",
      "[60]\ttrain-auc:0.998037+0.000448265\ttest-auc:0.971415+0.00144024\n",
      "[90]\ttrain-auc:0.99954+0.000166351\ttest-auc:0.971836+0.00141702\n",
      "[120]\ttrain-auc:0.999907+5.00156e-05\ttest-auc:0.972094+0.00172906\n",
      "[150]\ttrain-auc:0.999987+8.60233e-06\ttest-auc:0.972337+0.00165268\n",
      "[180]\ttrain-auc:0.999999+1.88562e-06\ttest-auc:0.972465+0.00171352\n",
      "[0]\ttrain-auc:0.941732\ttrain-rmse:0.376308\n",
      "[1]\ttrain-auc:0.954404\ttrain-rmse:0.297856\n",
      "[2]\ttrain-auc:0.959157\ttrain-rmse:0.246874\n",
      "[3]\ttrain-auc:0.962616\ttrain-rmse:0.214614\n",
      "[4]\ttrain-auc:0.966037\ttrain-rmse:0.194092\n",
      "[5]\ttrain-auc:0.969349\ttrain-rmse:0.180911\n",
      "[6]\ttrain-auc:0.976399\ttrain-rmse:0.171618\n",
      "[7]\ttrain-auc:0.978751\ttrain-rmse:0.166139\n",
      "[8]\ttrain-auc:0.980164\ttrain-rmse:0.162706\n",
      "[9]\ttrain-auc:0.98147\ttrain-rmse:0.160112\n",
      "[10]\ttrain-auc:0.982219\ttrain-rmse:0.158188\n",
      "[11]\ttrain-auc:0.982832\ttrain-rmse:0.157096\n",
      "[12]\ttrain-auc:0.983367\ttrain-rmse:0.15592\n",
      "[13]\ttrain-auc:0.98414\ttrain-rmse:0.154805\n",
      "[14]\ttrain-auc:0.985012\ttrain-rmse:0.153945\n",
      "[15]\ttrain-auc:0.985539\ttrain-rmse:0.153297\n",
      "[16]\ttrain-auc:0.985861\ttrain-rmse:0.15238\n",
      "[17]\ttrain-auc:0.986077\ttrain-rmse:0.151778\n",
      "[18]\ttrain-auc:0.986467\ttrain-rmse:0.151098\n",
      "[19]\ttrain-auc:0.986602\ttrain-rmse:0.150764\n",
      "[20]\ttrain-auc:0.986769\ttrain-rmse:0.150187\n",
      "[21]\ttrain-auc:0.987045\ttrain-rmse:0.14936\n",
      "[22]\ttrain-auc:0.987388\ttrain-rmse:0.148603\n",
      "[23]\ttrain-auc:0.987768\ttrain-rmse:0.147075\n",
      "[24]\ttrain-auc:0.987965\ttrain-rmse:0.146205\n",
      "[25]\ttrain-auc:0.988574\ttrain-rmse:0.14517\n",
      "[26]\ttrain-auc:0.98893\ttrain-rmse:0.144071\n",
      "[27]\ttrain-auc:0.989292\ttrain-rmse:0.143151\n",
      "[28]\ttrain-auc:0.989958\ttrain-rmse:0.141185\n",
      "[29]\ttrain-auc:0.990009\ttrain-rmse:0.140997\n",
      "[30]\ttrain-auc:0.99015\ttrain-rmse:0.140584\n",
      "[31]\ttrain-auc:0.990285\ttrain-rmse:0.139994\n",
      "[32]\ttrain-auc:0.990478\ttrain-rmse:0.139041\n",
      "[33]\ttrain-auc:0.990801\ttrain-rmse:0.138118\n",
      "[34]\ttrain-auc:0.991411\ttrain-rmse:0.13613\n",
      "[35]\ttrain-auc:0.991565\ttrain-rmse:0.13537\n",
      "[36]\ttrain-auc:0.991653\ttrain-rmse:0.13494\n",
      "[37]\ttrain-auc:0.991986\ttrain-rmse:0.134445\n",
      "[38]\ttrain-auc:0.992201\ttrain-rmse:0.133702\n",
      "[39]\ttrain-auc:0.992275\ttrain-rmse:0.133401\n",
      "[40]\ttrain-auc:0.992522\ttrain-rmse:0.132734\n",
      "[41]\ttrain-auc:0.992737\ttrain-rmse:0.132064\n",
      "[42]\ttrain-auc:0.992869\ttrain-rmse:0.131413\n",
      "[43]\ttrain-auc:0.993011\ttrain-rmse:0.13073\n",
      "[44]\ttrain-auc:0.993192\ttrain-rmse:0.130144\n",
      "[45]\ttrain-auc:0.993292\ttrain-rmse:0.129695\n",
      "[46]\ttrain-auc:0.993392\ttrain-rmse:0.129149\n",
      "[47]\ttrain-auc:0.993458\ttrain-rmse:0.12879\n",
      "[48]\ttrain-auc:0.993583\ttrain-rmse:0.128429\n",
      "[49]\ttrain-auc:0.993617\ttrain-rmse:0.128275\n",
      "[50]\ttrain-auc:0.993797\ttrain-rmse:0.127532\n",
      "[51]\ttrain-auc:0.993995\ttrain-rmse:0.126661\n",
      "[52]\ttrain-auc:0.994419\ttrain-rmse:0.124448\n",
      "[53]\ttrain-auc:0.994549\ttrain-rmse:0.123905\n",
      "[54]\ttrain-auc:0.994826\ttrain-rmse:0.122533\n",
      "[55]\ttrain-auc:0.994888\ttrain-rmse:0.122152\n",
      "[56]\ttrain-auc:0.994993\ttrain-rmse:0.121552\n",
      "[57]\ttrain-auc:0.995358\ttrain-rmse:0.119577\n",
      "[58]\ttrain-auc:0.995374\ttrain-rmse:0.119451\n",
      "[59]\ttrain-auc:0.995703\ttrain-rmse:0.117802\n",
      "[60]\ttrain-auc:0.995916\ttrain-rmse:0.116439\n",
      "[61]\ttrain-auc:0.99609\ttrain-rmse:0.115443\n",
      "[62]\ttrain-auc:0.996167\ttrain-rmse:0.115064\n",
      "[63]\ttrain-auc:0.996321\ttrain-rmse:0.114063\n",
      "[64]\ttrain-auc:0.9965\ttrain-rmse:0.113017\n",
      "[65]\ttrain-auc:0.996702\ttrain-rmse:0.11192\n",
      "[66]\ttrain-auc:0.996749\ttrain-rmse:0.111692\n",
      "[67]\ttrain-auc:0.996843\ttrain-rmse:0.110942\n",
      "[68]\ttrain-auc:0.996994\ttrain-rmse:0.109809\n",
      "[69]\ttrain-auc:0.997083\ttrain-rmse:0.109078\n",
      "[70]\ttrain-auc:0.997143\ttrain-rmse:0.108528\n",
      "[71]\ttrain-auc:0.997178\ttrain-rmse:0.108233\n",
      "[72]\ttrain-auc:0.997277\ttrain-rmse:0.10744\n",
      "[73]\ttrain-auc:0.997364\ttrain-rmse:0.106532\n",
      "[74]\ttrain-auc:0.997527\ttrain-rmse:0.105472\n",
      "[75]\ttrain-auc:0.997641\ttrain-rmse:0.104466\n",
      "[76]\ttrain-auc:0.997663\ttrain-rmse:0.10425\n",
      "[77]\ttrain-auc:0.997758\ttrain-rmse:0.10349\n",
      "[78]\ttrain-auc:0.997784\ttrain-rmse:0.103366\n",
      "[79]\ttrain-auc:0.997938\ttrain-rmse:0.102118\n",
      "[80]\ttrain-auc:0.998039\ttrain-rmse:0.101354\n",
      "[81]\ttrain-auc:0.998114\ttrain-rmse:0.100705\n",
      "[82]\ttrain-auc:0.998142\ttrain-rmse:0.100321\n",
      "[83]\ttrain-auc:0.998202\ttrain-rmse:0.099819\n",
      "[84]\ttrain-auc:0.998236\ttrain-rmse:0.099498\n",
      "[85]\ttrain-auc:0.998272\ttrain-rmse:0.099042\n",
      "[86]\ttrain-auc:0.998314\ttrain-rmse:0.098852\n",
      "[87]\ttrain-auc:0.998363\ttrain-rmse:0.098236\n",
      "[88]\ttrain-auc:0.998409\ttrain-rmse:0.097525\n",
      "[89]\ttrain-auc:0.998464\ttrain-rmse:0.096948\n",
      "[90]\ttrain-auc:0.998503\ttrain-rmse:0.096445\n",
      "[91]\ttrain-auc:0.998612\ttrain-rmse:0.095353\n",
      "[92]\ttrain-auc:0.998668\ttrain-rmse:0.094628\n",
      "[93]\ttrain-auc:0.998698\ttrain-rmse:0.094173\n",
      "[94]\ttrain-auc:0.998709\ttrain-rmse:0.094092\n",
      "[95]\ttrain-auc:0.998743\ttrain-rmse:0.093676\n",
      "[96]\ttrain-auc:0.998829\ttrain-rmse:0.092434\n",
      "[97]\ttrain-auc:0.998889\ttrain-rmse:0.091441\n",
      "[98]\ttrain-auc:0.99895\ttrain-rmse:0.09072\n",
      "[99]\ttrain-auc:0.998966\ttrain-rmse:0.090527\n",
      "[100]\ttrain-auc:0.999028\ttrain-rmse:0.089616\n",
      "[101]\ttrain-auc:0.999029\ttrain-rmse:0.089522\n",
      "[102]\ttrain-auc:0.999048\ttrain-rmse:0.089331\n",
      "[103]\ttrain-auc:0.999059\ttrain-rmse:0.089141\n",
      "[104]\ttrain-auc:0.999074\ttrain-rmse:0.088888\n",
      "[105]\ttrain-auc:0.999084\ttrain-rmse:0.088705\n",
      "[106]\ttrain-auc:0.999111\ttrain-rmse:0.08812\n",
      "[107]\ttrain-auc:0.99913\ttrain-rmse:0.087875\n",
      "[108]\ttrain-auc:0.999153\ttrain-rmse:0.087758\n",
      "[109]\ttrain-auc:0.999172\ttrain-rmse:0.087578\n",
      "[110]\ttrain-auc:0.999184\ttrain-rmse:0.087422\n",
      "[111]\ttrain-auc:0.999206\ttrain-rmse:0.086842\n",
      "[112]\ttrain-auc:0.999221\ttrain-rmse:0.086483\n",
      "[113]\ttrain-auc:0.999241\ttrain-rmse:0.086173\n",
      "[114]\ttrain-auc:0.999277\ttrain-rmse:0.085439\n",
      "[115]\ttrain-auc:0.999313\ttrain-rmse:0.084525\n",
      "[116]\ttrain-auc:0.999327\ttrain-rmse:0.084046\n",
      "[117]\ttrain-auc:0.99935\ttrain-rmse:0.083451\n",
      "[118]\ttrain-auc:0.999366\ttrain-rmse:0.083171\n",
      "[119]\ttrain-auc:0.999418\ttrain-rmse:0.082479\n",
      "[120]\ttrain-auc:0.999435\ttrain-rmse:0.082176\n",
      "[121]\ttrain-auc:0.999481\ttrain-rmse:0.081062\n",
      "[122]\ttrain-auc:0.999523\ttrain-rmse:0.080451\n",
      "[123]\ttrain-auc:0.99956\ttrain-rmse:0.079922\n",
      "[124]\ttrain-auc:0.999581\ttrain-rmse:0.079414\n",
      "[125]\ttrain-auc:0.999588\ttrain-rmse:0.07919\n",
      "[126]\ttrain-auc:0.999599\ttrain-rmse:0.078822\n",
      "[127]\ttrain-auc:0.999605\ttrain-rmse:0.078674\n",
      "[128]\ttrain-auc:0.999619\ttrain-rmse:0.078257\n",
      "[129]\ttrain-auc:0.99963\ttrain-rmse:0.078007\n",
      "[130]\ttrain-auc:0.999639\ttrain-rmse:0.07771\n",
      "[131]\ttrain-auc:0.999654\ttrain-rmse:0.076946\n",
      "[132]\ttrain-auc:0.99966\ttrain-rmse:0.076768\n",
      "[133]\ttrain-auc:0.999682\ttrain-rmse:0.075856\n",
      "[134]\ttrain-auc:0.999701\ttrain-rmse:0.074968\n",
      "[135]\ttrain-auc:0.999707\ttrain-rmse:0.074596\n",
      "[136]\ttrain-auc:0.999716\ttrain-rmse:0.074342\n",
      "[137]\ttrain-auc:0.999721\ttrain-rmse:0.074173\n",
      "[138]\ttrain-auc:0.99973\ttrain-rmse:0.073926\n",
      "[139]\ttrain-auc:0.999748\ttrain-rmse:0.073287\n",
      "[140]\ttrain-auc:0.999754\ttrain-rmse:0.073037\n",
      "[141]\ttrain-auc:0.999757\ttrain-rmse:0.072843\n",
      "[142]\ttrain-auc:0.999777\ttrain-rmse:0.071897\n",
      "[143]\ttrain-auc:0.99978\ttrain-rmse:0.071661\n",
      "[144]\ttrain-auc:0.999785\ttrain-rmse:0.071261\n",
      "[145]\ttrain-auc:0.999795\ttrain-rmse:0.070765\n",
      "[146]\ttrain-auc:0.999801\ttrain-rmse:0.070343\n",
      "[147]\ttrain-auc:0.999809\ttrain-rmse:0.070097\n",
      "[148]\ttrain-auc:0.99982\ttrain-rmse:0.069802\n",
      "[149]\ttrain-auc:0.999822\ttrain-rmse:0.069664\n",
      "[150]\ttrain-auc:0.999837\ttrain-rmse:0.068744\n",
      "[151]\ttrain-auc:0.999847\ttrain-rmse:0.068242\n",
      "[152]\ttrain-auc:0.999852\ttrain-rmse:0.067974\n",
      "[153]\ttrain-auc:0.999858\ttrain-rmse:0.067398\n",
      "[154]\ttrain-auc:0.999859\ttrain-rmse:0.067277\n",
      "[155]\ttrain-auc:0.999862\ttrain-rmse:0.067218\n",
      "[156]\ttrain-auc:0.999869\ttrain-rmse:0.06668\n",
      "[157]\ttrain-auc:0.999874\ttrain-rmse:0.066467\n",
      "[158]\ttrain-auc:0.999889\ttrain-rmse:0.065527\n",
      "[159]\ttrain-auc:0.999898\ttrain-rmse:0.064706\n",
      "[160]\ttrain-auc:0.999903\ttrain-rmse:0.064297\n",
      "[161]\ttrain-auc:0.999906\ttrain-rmse:0.063989\n",
      "[162]\ttrain-auc:0.99991\ttrain-rmse:0.063498\n",
      "[163]\ttrain-auc:0.999912\ttrain-rmse:0.063392\n",
      "[164]\ttrain-auc:0.999915\ttrain-rmse:0.062996\n",
      "Working: 2\n",
      "[0]\ttrain-auc:0.90244+0.00230804\ttest-auc:0.886956+0.00257287\n",
      "[30]\ttrain-auc:0.964463+0.0012467\ttest-auc:0.924959+0.00266795\n",
      "[60]\ttrain-auc:0.97924+0.00127456\ttest-auc:0.925197+0.00230722\n",
      "[0]\ttrain-auc:0.901663\ttrain-rmse:0.425154\n",
      "[1]\ttrain-auc:0.914023\ttrain-rmse:0.380233\n",
      "[2]\ttrain-auc:0.918954\ttrain-rmse:0.353711\n",
      "[3]\ttrain-auc:0.924298\ttrain-rmse:0.335548\n",
      "[4]\ttrain-auc:0.927309\ttrain-rmse:0.324137\n",
      "[5]\ttrain-auc:0.930313\ttrain-rmse:0.31593\n",
      "[6]\ttrain-auc:0.932571\ttrain-rmse:0.310456\n",
      "[7]\ttrain-auc:0.934535\ttrain-rmse:0.306229\n",
      "[8]\ttrain-auc:0.936603\ttrain-rmse:0.302594\n",
      "[9]\ttrain-auc:0.938474\ttrain-rmse:0.300113\n",
      "[10]\ttrain-auc:0.940722\ttrain-rmse:0.296982\n",
      "[11]\ttrain-auc:0.942274\ttrain-rmse:0.294639\n",
      "[12]\ttrain-auc:0.943814\ttrain-rmse:0.292379\n",
      "[13]\ttrain-auc:0.945274\ttrain-rmse:0.290162\n",
      "[14]\ttrain-auc:0.946018\ttrain-rmse:0.28909\n",
      "[15]\ttrain-auc:0.947448\ttrain-rmse:0.286957\n",
      "[16]\ttrain-auc:0.947865\ttrain-rmse:0.286385\n",
      "[17]\ttrain-auc:0.948345\ttrain-rmse:0.285663\n",
      "[18]\ttrain-auc:0.949015\ttrain-rmse:0.284708\n",
      "[19]\ttrain-auc:0.949385\ttrain-rmse:0.28412\n",
      "[20]\ttrain-auc:0.949996\ttrain-rmse:0.283253\n",
      "[21]\ttrain-auc:0.950903\ttrain-rmse:0.282296\n",
      "[22]\ttrain-auc:0.9513\ttrain-rmse:0.281703\n",
      "[23]\ttrain-auc:0.952852\ttrain-rmse:0.27961\n",
      "[24]\ttrain-auc:0.954162\ttrain-rmse:0.277659\n",
      "[25]\ttrain-auc:0.954854\ttrain-rmse:0.27664\n",
      "[26]\ttrain-auc:0.955261\ttrain-rmse:0.276113\n",
      "[27]\ttrain-auc:0.955599\ttrain-rmse:0.275621\n",
      "[28]\ttrain-auc:0.956143\ttrain-rmse:0.274931\n",
      "[29]\ttrain-auc:0.957327\ttrain-rmse:0.272736\n",
      "[30]\ttrain-auc:0.958366\ttrain-rmse:0.270963\n",
      "[31]\ttrain-auc:0.959026\ttrain-rmse:0.269716\n",
      "[32]\ttrain-auc:0.959282\ttrain-rmse:0.269299\n",
      "[33]\ttrain-auc:0.959629\ttrain-rmse:0.26876\n",
      "[34]\ttrain-auc:0.959953\ttrain-rmse:0.268198\n",
      "[35]\ttrain-auc:0.96016\ttrain-rmse:0.267908\n",
      "[36]\ttrain-auc:0.960818\ttrain-rmse:0.266997\n",
      "[37]\ttrain-auc:0.961521\ttrain-rmse:0.266152\n",
      "[38]\ttrain-auc:0.961835\ttrain-rmse:0.26554\n",
      "[39]\ttrain-auc:0.962424\ttrain-rmse:0.264447\n",
      "[40]\ttrain-auc:0.963311\ttrain-rmse:0.263144\n",
      "[41]\ttrain-auc:0.96413\ttrain-rmse:0.261531\n",
      "[42]\ttrain-auc:0.964497\ttrain-rmse:0.260883\n",
      "[43]\ttrain-auc:0.965325\ttrain-rmse:0.259789\n",
      "[44]\ttrain-auc:0.965527\ttrain-rmse:0.259458\n",
      "[45]\ttrain-auc:0.965757\ttrain-rmse:0.259021\n",
      "[46]\ttrain-auc:0.966125\ttrain-rmse:0.258393\n",
      "[47]\ttrain-auc:0.966595\ttrain-rmse:0.257393\n",
      "Working: 3\n",
      "[0]\ttrain-auc:0.956443+0.00126049\ttest-auc:0.948204+0.00292183\n",
      "[30]\ttrain-auc:0.991394+0.00033753\ttest-auc:0.974242+0.00092181\n",
      "[60]\ttrain-auc:0.996754+0.0001437\ttest-auc:0.975325+0.000872686\n",
      "[90]\ttrain-auc:0.998904+9.80623e-05\ttest-auc:0.975431+0.00102412\n",
      "[0]\ttrain-auc:0.957039\ttrain-rmse:0.398264\n",
      "[1]\ttrain-auc:0.965103\ttrain-rmse:0.335824\n",
      "[2]\ttrain-auc:0.968176\ttrain-rmse:0.295439\n",
      "[3]\ttrain-auc:0.970575\ttrain-rmse:0.268744\n",
      "[4]\ttrain-auc:0.971846\ttrain-rmse:0.252846\n",
      "[5]\ttrain-auc:0.973217\ttrain-rmse:0.242132\n",
      "[6]\ttrain-auc:0.97517\ttrain-rmse:0.23463\n",
      "[7]\ttrain-auc:0.976907\ttrain-rmse:0.229079\n",
      "[8]\ttrain-auc:0.978016\ttrain-rmse:0.225043\n",
      "[9]\ttrain-auc:0.978996\ttrain-rmse:0.221218\n",
      "[10]\ttrain-auc:0.979695\ttrain-rmse:0.218948\n",
      "[11]\ttrain-auc:0.980396\ttrain-rmse:0.216336\n",
      "[12]\ttrain-auc:0.981139\ttrain-rmse:0.213765\n",
      "[13]\ttrain-auc:0.981998\ttrain-rmse:0.211104\n",
      "[14]\ttrain-auc:0.982465\ttrain-rmse:0.209647\n",
      "[15]\ttrain-auc:0.983194\ttrain-rmse:0.207484\n",
      "[16]\ttrain-auc:0.983576\ttrain-rmse:0.206321\n",
      "[17]\ttrain-auc:0.984258\ttrain-rmse:0.203792\n",
      "[18]\ttrain-auc:0.985099\ttrain-rmse:0.201731\n",
      "[19]\ttrain-auc:0.985257\ttrain-rmse:0.201081\n",
      "[20]\ttrain-auc:0.985697\ttrain-rmse:0.199935\n",
      "[21]\ttrain-auc:0.986146\ttrain-rmse:0.198356\n",
      "[22]\ttrain-auc:0.986253\ttrain-rmse:0.197988\n",
      "[23]\ttrain-auc:0.986795\ttrain-rmse:0.196181\n",
      "[24]\ttrain-auc:0.986946\ttrain-rmse:0.195453\n",
      "[25]\ttrain-auc:0.987205\ttrain-rmse:0.194682\n",
      "[26]\ttrain-auc:0.987691\ttrain-rmse:0.192716\n",
      "[27]\ttrain-auc:0.987849\ttrain-rmse:0.192156\n",
      "[28]\ttrain-auc:0.988306\ttrain-rmse:0.190354\n",
      "[29]\ttrain-auc:0.988682\ttrain-rmse:0.189066\n",
      "[30]\ttrain-auc:0.988791\ttrain-rmse:0.188461\n",
      "[31]\ttrain-auc:0.988962\ttrain-rmse:0.187562\n",
      "[32]\ttrain-auc:0.989317\ttrain-rmse:0.186608\n",
      "[33]\ttrain-auc:0.98944\ttrain-rmse:0.18616\n",
      "[34]\ttrain-auc:0.989633\ttrain-rmse:0.185142\n",
      "[35]\ttrain-auc:0.989843\ttrain-rmse:0.184443\n",
      "[36]\ttrain-auc:0.989991\ttrain-rmse:0.183616\n",
      "[37]\ttrain-auc:0.990343\ttrain-rmse:0.182192\n",
      "[38]\ttrain-auc:0.990431\ttrain-rmse:0.181774\n",
      "[39]\ttrain-auc:0.990474\ttrain-rmse:0.181553\n",
      "[40]\ttrain-auc:0.990807\ttrain-rmse:0.17995\n",
      "[41]\ttrain-auc:0.991229\ttrain-rmse:0.178607\n",
      "[42]\ttrain-auc:0.991538\ttrain-rmse:0.177317\n",
      "[43]\ttrain-auc:0.991603\ttrain-rmse:0.177013\n",
      "[44]\ttrain-auc:0.991882\ttrain-rmse:0.175501\n",
      "[45]\ttrain-auc:0.992001\ttrain-rmse:0.174648\n",
      "[46]\ttrain-auc:0.992265\ttrain-rmse:0.173611\n",
      "[47]\ttrain-auc:0.99234\ttrain-rmse:0.173185\n",
      "[48]\ttrain-auc:0.992458\ttrain-rmse:0.172665\n",
      "[49]\ttrain-auc:0.992526\ttrain-rmse:0.172118\n",
      "[50]\ttrain-auc:0.992788\ttrain-rmse:0.170836\n",
      "[51]\ttrain-auc:0.992905\ttrain-rmse:0.170186\n",
      "[52]\ttrain-auc:0.992949\ttrain-rmse:0.169799\n",
      "[53]\ttrain-auc:0.993042\ttrain-rmse:0.169371\n",
      "[54]\ttrain-auc:0.993123\ttrain-rmse:0.16892\n",
      "[55]\ttrain-auc:0.993483\ttrain-rmse:0.167266\n",
      "[56]\ttrain-auc:0.993826\ttrain-rmse:0.165878\n",
      "[57]\ttrain-auc:0.994013\ttrain-rmse:0.164607\n",
      "[58]\ttrain-auc:0.994143\ttrain-rmse:0.163732\n",
      "[59]\ttrain-auc:0.994257\ttrain-rmse:0.162775\n",
      "[60]\ttrain-auc:0.994394\ttrain-rmse:0.162029\n",
      "[61]\ttrain-auc:0.994545\ttrain-rmse:0.161006\n",
      "[62]\ttrain-auc:0.994719\ttrain-rmse:0.159938\n",
      "[63]\ttrain-auc:0.994899\ttrain-rmse:0.159018\n",
      "[64]\ttrain-auc:0.995013\ttrain-rmse:0.158451\n",
      "[65]\ttrain-auc:0.995049\ttrain-rmse:0.158111\n",
      "[66]\ttrain-auc:0.995086\ttrain-rmse:0.15783\n",
      "[67]\ttrain-auc:0.995177\ttrain-rmse:0.157178\n",
      "[68]\ttrain-auc:0.995249\ttrain-rmse:0.156817\n",
      "[69]\ttrain-auc:0.995303\ttrain-rmse:0.156412\n",
      "[70]\ttrain-auc:0.995322\ttrain-rmse:0.156322\n",
      "[71]\ttrain-auc:0.99537\ttrain-rmse:0.155921\n",
      "[72]\ttrain-auc:0.99547\ttrain-rmse:0.155217\n",
      "[73]\ttrain-auc:0.995636\ttrain-rmse:0.153803\n",
      "[74]\ttrain-auc:0.995812\ttrain-rmse:0.152659\n",
      "[75]\ttrain-auc:0.996008\ttrain-rmse:0.151407\n",
      "Working: 4\n",
      "[0]\ttrain-auc:0.76561+0.00170884\ttest-auc:0.740761+0.00639522\n",
      "[30]\ttrain-auc:0.900558+0.00350258\ttest-auc:0.812159+0.00484179\n",
      "[60]\ttrain-auc:0.943708+0.00201107\ttest-auc:0.818885+0.00346316\n",
      "[90]\ttrain-auc:0.968099+0.00114745\ttest-auc:0.823441+0.00342439\n",
      "[120]\ttrain-auc:0.982543+0.000797232\ttest-auc:0.824588+0.00271579\n",
      "[150]\ttrain-auc:0.991401+0.000515122\ttest-auc:0.825001+0.0024105\n",
      "[0]\ttrain-auc:0.757012\ttrain-rmse:0.433897\n",
      "[1]\ttrain-auc:0.780776\ttrain-rmse:0.395717\n",
      "[2]\ttrain-auc:0.79089\ttrain-rmse:0.373238\n",
      "[3]\ttrain-auc:0.802774\ttrain-rmse:0.358821\n",
      "[4]\ttrain-auc:0.81101\ttrain-rmse:0.350243\n",
      "[5]\ttrain-auc:0.817156\ttrain-rmse:0.343293\n",
      "[6]\ttrain-auc:0.820555\ttrain-rmse:0.340192\n",
      "[7]\ttrain-auc:0.825742\ttrain-rmse:0.336172\n",
      "[8]\ttrain-auc:0.834395\ttrain-rmse:0.332629\n",
      "[9]\ttrain-auc:0.838168\ttrain-rmse:0.330665\n",
      "[10]\ttrain-auc:0.843488\ttrain-rmse:0.327\n",
      "[11]\ttrain-auc:0.845442\ttrain-rmse:0.32605\n",
      "[12]\ttrain-auc:0.848736\ttrain-rmse:0.323441\n",
      "[13]\ttrain-auc:0.849762\ttrain-rmse:0.322929\n",
      "[14]\ttrain-auc:0.851979\ttrain-rmse:0.321636\n",
      "[15]\ttrain-auc:0.854236\ttrain-rmse:0.320847\n",
      "[16]\ttrain-auc:0.857303\ttrain-rmse:0.319812\n",
      "[17]\ttrain-auc:0.860121\ttrain-rmse:0.318778\n",
      "[18]\ttrain-auc:0.862011\ttrain-rmse:0.317832\n",
      "[19]\ttrain-auc:0.863149\ttrain-rmse:0.31681\n",
      "[20]\ttrain-auc:0.865837\ttrain-rmse:0.315899\n",
      "[21]\ttrain-auc:0.867905\ttrain-rmse:0.314412\n",
      "[22]\ttrain-auc:0.869617\ttrain-rmse:0.313388\n",
      "[23]\ttrain-auc:0.87322\ttrain-rmse:0.311793\n",
      "[24]\ttrain-auc:0.873958\ttrain-rmse:0.311356\n",
      "[25]\ttrain-auc:0.876029\ttrain-rmse:0.310443\n",
      "[26]\ttrain-auc:0.877744\ttrain-rmse:0.309593\n",
      "[27]\ttrain-auc:0.879046\ttrain-rmse:0.309039\n",
      "[28]\ttrain-auc:0.879422\ttrain-rmse:0.308837\n",
      "[29]\ttrain-auc:0.881293\ttrain-rmse:0.307381\n",
      "[30]\ttrain-auc:0.883892\ttrain-rmse:0.30625\n",
      "[31]\ttrain-auc:0.887465\ttrain-rmse:0.304218\n",
      "[32]\ttrain-auc:0.889802\ttrain-rmse:0.302824\n",
      "[33]\ttrain-auc:0.892943\ttrain-rmse:0.301185\n",
      "[34]\ttrain-auc:0.894839\ttrain-rmse:0.300344\n",
      "[35]\ttrain-auc:0.896106\ttrain-rmse:0.299636\n",
      "[36]\ttrain-auc:0.89714\ttrain-rmse:0.299054\n",
      "[37]\ttrain-auc:0.898744\ttrain-rmse:0.298251\n",
      "[38]\ttrain-auc:0.899526\ttrain-rmse:0.29758\n",
      "[39]\ttrain-auc:0.901663\ttrain-rmse:0.295726\n",
      "[40]\ttrain-auc:0.903641\ttrain-rmse:0.294673\n",
      "[41]\ttrain-auc:0.905612\ttrain-rmse:0.293791\n",
      "[42]\ttrain-auc:0.90758\ttrain-rmse:0.292973\n",
      "[43]\ttrain-auc:0.908037\ttrain-rmse:0.292581\n",
      "[44]\ttrain-auc:0.908961\ttrain-rmse:0.292016\n",
      "[45]\ttrain-auc:0.909422\ttrain-rmse:0.291693\n",
      "[46]\ttrain-auc:0.910949\ttrain-rmse:0.290551\n",
      "[47]\ttrain-auc:0.912843\ttrain-rmse:0.289783\n",
      "[48]\ttrain-auc:0.914328\ttrain-rmse:0.288938\n",
      "[49]\ttrain-auc:0.916227\ttrain-rmse:0.287742\n",
      "[50]\ttrain-auc:0.917638\ttrain-rmse:0.286676\n",
      "[51]\ttrain-auc:0.919282\ttrain-rmse:0.285591\n",
      "[52]\ttrain-auc:0.920838\ttrain-rmse:0.284365\n",
      "[53]\ttrain-auc:0.921918\ttrain-rmse:0.283743\n",
      "[54]\ttrain-auc:0.922136\ttrain-rmse:0.283545\n",
      "[55]\ttrain-auc:0.922585\ttrain-rmse:0.283278\n",
      "[56]\ttrain-auc:0.923185\ttrain-rmse:0.282851\n",
      "[57]\ttrain-auc:0.925027\ttrain-rmse:0.281661\n",
      "[58]\ttrain-auc:0.925431\ttrain-rmse:0.281249\n",
      "[59]\ttrain-auc:0.927403\ttrain-rmse:0.279603\n",
      "[60]\ttrain-auc:0.927952\ttrain-rmse:0.279121\n",
      "[61]\ttrain-auc:0.928282\ttrain-rmse:0.278803\n",
      "[62]\ttrain-auc:0.929865\ttrain-rmse:0.278056\n",
      "[63]\ttrain-auc:0.930518\ttrain-rmse:0.27759\n",
      "[64]\ttrain-auc:0.932159\ttrain-rmse:0.276538\n",
      "[65]\ttrain-auc:0.932614\ttrain-rmse:0.276042\n",
      "[66]\ttrain-auc:0.933381\ttrain-rmse:0.275342\n",
      "[67]\ttrain-auc:0.935088\ttrain-rmse:0.274396\n",
      "[68]\ttrain-auc:0.935578\ttrain-rmse:0.274103\n",
      "[69]\ttrain-auc:0.936729\ttrain-rmse:0.273343\n",
      "[70]\ttrain-auc:0.937634\ttrain-rmse:0.272802\n",
      "[71]\ttrain-auc:0.938722\ttrain-rmse:0.271916\n",
      "[72]\ttrain-auc:0.940228\ttrain-rmse:0.270937\n",
      "[73]\ttrain-auc:0.940684\ttrain-rmse:0.27044\n",
      "[74]\ttrain-auc:0.941903\ttrain-rmse:0.269468\n",
      "[75]\ttrain-auc:0.942214\ttrain-rmse:0.269217\n",
      "[76]\ttrain-auc:0.942622\ttrain-rmse:0.268875\n",
      "[77]\ttrain-auc:0.942956\ttrain-rmse:0.268558\n",
      "[78]\ttrain-auc:0.943217\ttrain-rmse:0.268262\n",
      "[79]\ttrain-auc:0.943508\ttrain-rmse:0.268083\n",
      "[80]\ttrain-auc:0.944097\ttrain-rmse:0.267499\n",
      "[81]\ttrain-auc:0.944996\ttrain-rmse:0.266559\n",
      "[82]\ttrain-auc:0.945343\ttrain-rmse:0.266303\n",
      "[83]\ttrain-auc:0.946116\ttrain-rmse:0.265719\n",
      "[84]\ttrain-auc:0.94687\ttrain-rmse:0.265084\n",
      "[85]\ttrain-auc:0.94774\ttrain-rmse:0.264197\n",
      "[86]\ttrain-auc:0.948223\ttrain-rmse:0.263812\n",
      "[87]\ttrain-auc:0.948774\ttrain-rmse:0.263154\n",
      "[88]\ttrain-auc:0.949061\ttrain-rmse:0.262881\n",
      "[89]\ttrain-auc:0.949287\ttrain-rmse:0.262593\n",
      "[90]\ttrain-auc:0.949701\ttrain-rmse:0.261986\n",
      "[91]\ttrain-auc:0.950682\ttrain-rmse:0.260968\n",
      "[92]\ttrain-auc:0.951162\ttrain-rmse:0.260565\n",
      "[93]\ttrain-auc:0.952028\ttrain-rmse:0.259588\n",
      "[94]\ttrain-auc:0.952843\ttrain-rmse:0.258874\n",
      "[95]\ttrain-auc:0.953539\ttrain-rmse:0.258363\n",
      "[96]\ttrain-auc:0.954536\ttrain-rmse:0.257448\n",
      "[97]\ttrain-auc:0.955752\ttrain-rmse:0.256252\n",
      "[98]\ttrain-auc:0.956735\ttrain-rmse:0.255252\n",
      "[99]\ttrain-auc:0.957426\ttrain-rmse:0.254371\n",
      "[100]\ttrain-auc:0.958457\ttrain-rmse:0.253023\n",
      "[101]\ttrain-auc:0.95897\ttrain-rmse:0.252439\n",
      "[102]\ttrain-auc:0.960165\ttrain-rmse:0.251539\n",
      "[103]\ttrain-auc:0.961254\ttrain-rmse:0.250461\n",
      "[104]\ttrain-auc:0.962502\ttrain-rmse:0.249342\n",
      "[105]\ttrain-auc:0.963476\ttrain-rmse:0.248079\n",
      "[106]\ttrain-auc:0.963676\ttrain-rmse:0.247866\n",
      "[107]\ttrain-auc:0.963944\ttrain-rmse:0.247492\n",
      "[108]\ttrain-auc:0.964186\ttrain-rmse:0.247267\n",
      "[109]\ttrain-auc:0.964761\ttrain-rmse:0.24656\n",
      "[110]\ttrain-auc:0.96532\ttrain-rmse:0.245688\n",
      "[111]\ttrain-auc:0.965544\ttrain-rmse:0.245275\n",
      "[112]\ttrain-auc:0.96577\ttrain-rmse:0.244923\n",
      "[113]\ttrain-auc:0.966082\ttrain-rmse:0.244501\n",
      "[114]\ttrain-auc:0.967051\ttrain-rmse:0.24354\n",
      "[115]\ttrain-auc:0.967932\ttrain-rmse:0.242493\n",
      "[116]\ttrain-auc:0.968084\ttrain-rmse:0.242249\n",
      "[117]\ttrain-auc:0.968184\ttrain-rmse:0.242112\n",
      "[118]\ttrain-auc:0.968259\ttrain-rmse:0.242009\n",
      "[119]\ttrain-auc:0.968773\ttrain-rmse:0.241265\n",
      "[120]\ttrain-auc:0.968935\ttrain-rmse:0.24099\n",
      "[121]\ttrain-auc:0.969096\ttrain-rmse:0.24073\n",
      "[122]\ttrain-auc:0.969439\ttrain-rmse:0.240291\n",
      "[123]\ttrain-auc:0.970066\ttrain-rmse:0.239245\n",
      "[124]\ttrain-auc:0.971033\ttrain-rmse:0.237961\n",
      "[125]\ttrain-auc:0.971912\ttrain-rmse:0.236779\n",
      "[126]\ttrain-auc:0.972333\ttrain-rmse:0.236264\n",
      "[127]\ttrain-auc:0.972646\ttrain-rmse:0.235596\n",
      "[128]\ttrain-auc:0.972686\ttrain-rmse:0.235278\n",
      "[129]\ttrain-auc:0.972896\ttrain-rmse:0.235057\n",
      "[130]\ttrain-auc:0.973424\ttrain-rmse:0.234369\n",
      "[131]\ttrain-auc:0.973643\ttrain-rmse:0.234162\n",
      "[132]\ttrain-auc:0.973754\ttrain-rmse:0.234074\n",
      "[133]\ttrain-auc:0.973918\ttrain-rmse:0.233837\n",
      "Working: 5\n",
      "[0]\ttrain-auc:0.905089+0.00135029\ttest-auc:0.887769+0.00507535\n",
      "[30]\ttrain-auc:0.982716+0.000877428\ttest-auc:0.935142+0.00295251\n",
      "[0]\ttrain-auc:0.903331\ttrain-rmse:0.39058\n",
      "[1]\ttrain-auc:0.920637\ttrain-rmse:0.323005\n",
      "[2]\ttrain-auc:0.930781\ttrain-rmse:0.280073\n",
      "[3]\ttrain-auc:0.936853\ttrain-rmse:0.252679\n",
      "[4]\ttrain-auc:0.940731\ttrain-rmse:0.236633\n",
      "[5]\ttrain-auc:0.943946\ttrain-rmse:0.225962\n",
      "[6]\ttrain-auc:0.947303\ttrain-rmse:0.218952\n",
      "[7]\ttrain-auc:0.949658\ttrain-rmse:0.213705\n",
      "[8]\ttrain-auc:0.952681\ttrain-rmse:0.210359\n",
      "[9]\ttrain-auc:0.955116\ttrain-rmse:0.207329\n",
      "[10]\ttrain-auc:0.956717\ttrain-rmse:0.205058\n",
      "[11]\ttrain-auc:0.958014\ttrain-rmse:0.203156\n",
      "[12]\ttrain-auc:0.959361\ttrain-rmse:0.200941\n",
      "[13]\ttrain-auc:0.96025\ttrain-rmse:0.199263\n",
      "[14]\ttrain-auc:0.961937\ttrain-rmse:0.197764\n",
      "[15]\ttrain-auc:0.962914\ttrain-rmse:0.196745\n",
      "[16]\ttrain-auc:0.964423\ttrain-rmse:0.194986\n",
      "[17]\ttrain-auc:0.965574\ttrain-rmse:0.193563\n",
      "[18]\ttrain-auc:0.966434\ttrain-rmse:0.192798\n",
      "[19]\ttrain-auc:0.967445\ttrain-rmse:0.19163\n",
      "[20]\ttrain-auc:0.968134\ttrain-rmse:0.190361\n",
      "[21]\ttrain-auc:0.969309\ttrain-rmse:0.189161\n",
      "[22]\ttrain-auc:0.9699\ttrain-rmse:0.188575\n",
      "[23]\ttrain-auc:0.971469\ttrain-rmse:0.186352\n",
      "[24]\ttrain-auc:0.972365\ttrain-rmse:0.18518\n",
      "[25]\ttrain-auc:0.972836\ttrain-rmse:0.184459\n",
      "[26]\ttrain-auc:0.973708\ttrain-rmse:0.183446\n",
      "[27]\ttrain-auc:0.974273\ttrain-rmse:0.182669\n",
      "[28]\ttrain-auc:0.975357\ttrain-rmse:0.180751\n",
      "[29]\ttrain-auc:0.97595\ttrain-rmse:0.180142\n",
      "[30]\ttrain-auc:0.976994\ttrain-rmse:0.17862\n",
      "[31]\ttrain-auc:0.977214\ttrain-rmse:0.178222\n",
      "[32]\ttrain-auc:0.977932\ttrain-rmse:0.177032\n",
      "[33]\ttrain-auc:0.97869\ttrain-rmse:0.176147\n",
      "[34]\ttrain-auc:0.979597\ttrain-rmse:0.174916\n",
      "[35]\ttrain-auc:0.979786\ttrain-rmse:0.174666\n",
      "[36]\ttrain-auc:0.980389\ttrain-rmse:0.173711\n",
      "[37]\ttrain-auc:0.980714\ttrain-rmse:0.173091\n",
      "[38]\ttrain-auc:0.981044\ttrain-rmse:0.172689\n",
      "[39]\ttrain-auc:0.981208\ttrain-rmse:0.172476\n",
      "[40]\ttrain-auc:0.981665\ttrain-rmse:0.171535\n",
      "Working: 6\n",
      "[0]\ttrain-auc:0.89259+0.00185608\ttest-auc:0.875214+0.00297779\n",
      "[30]\ttrain-auc:0.958975+0.00151568\ttest-auc:0.909377+0.00245197\n",
      "[60]\ttrain-auc:0.978084+0.00237244\ttest-auc:0.910041+0.0025721\n",
      "[0]\ttrain-auc:0.890323\ttrain-rmse:0.418272\n",
      "[1]\ttrain-auc:0.902112\ttrain-rmse:0.369592\n",
      "[2]\ttrain-auc:0.90931\ttrain-rmse:0.340516\n",
      "[3]\ttrain-auc:0.912652\ttrain-rmse:0.322842\n",
      "[4]\ttrain-auc:0.916065\ttrain-rmse:0.311285\n",
      "[5]\ttrain-auc:0.918461\ttrain-rmse:0.304114\n",
      "[6]\ttrain-auc:0.920833\ttrain-rmse:0.299112\n",
      "[7]\ttrain-auc:0.92293\ttrain-rmse:0.294964\n",
      "[8]\ttrain-auc:0.924846\ttrain-rmse:0.291987\n",
      "[9]\ttrain-auc:0.926929\ttrain-rmse:0.289113\n",
      "[10]\ttrain-auc:0.928737\ttrain-rmse:0.286995\n",
      "[11]\ttrain-auc:0.930653\ttrain-rmse:0.2853\n",
      "[12]\ttrain-auc:0.932901\ttrain-rmse:0.283305\n",
      "[13]\ttrain-auc:0.933831\ttrain-rmse:0.282192\n",
      "[14]\ttrain-auc:0.935442\ttrain-rmse:0.280464\n",
      "[15]\ttrain-auc:0.93695\ttrain-rmse:0.278993\n",
      "[16]\ttrain-auc:0.9387\ttrain-rmse:0.276834\n",
      "[17]\ttrain-auc:0.940371\ttrain-rmse:0.274568\n",
      "[18]\ttrain-auc:0.941848\ttrain-rmse:0.272659\n",
      "[19]\ttrain-auc:0.942439\ttrain-rmse:0.272038\n",
      "[20]\ttrain-auc:0.943004\ttrain-rmse:0.271375\n",
      "[21]\ttrain-auc:0.94469\ttrain-rmse:0.269705\n",
      "[22]\ttrain-auc:0.945808\ttrain-rmse:0.268521\n",
      "[23]\ttrain-auc:0.947023\ttrain-rmse:0.266853\n",
      "[24]\ttrain-auc:0.947458\ttrain-rmse:0.266465\n",
      "[25]\ttrain-auc:0.94779\ttrain-rmse:0.26607\n",
      "[26]\ttrain-auc:0.948323\ttrain-rmse:0.2656\n",
      "[27]\ttrain-auc:0.948584\ttrain-rmse:0.265297\n",
      "[28]\ttrain-auc:0.949998\ttrain-rmse:0.263511\n",
      "[29]\ttrain-auc:0.950417\ttrain-rmse:0.263006\n",
      "[30]\ttrain-auc:0.951274\ttrain-rmse:0.261699\n",
      "[31]\ttrain-auc:0.952722\ttrain-rmse:0.260007\n",
      "[32]\ttrain-auc:0.953369\ttrain-rmse:0.259166\n",
      "[33]\ttrain-auc:0.953688\ttrain-rmse:0.258793\n",
      "[34]\ttrain-auc:0.954013\ttrain-rmse:0.258394\n",
      "[35]\ttrain-auc:0.954197\ttrain-rmse:0.258224\n",
      "[36]\ttrain-auc:0.954528\ttrain-rmse:0.257948\n",
      "[37]\ttrain-auc:0.954956\ttrain-rmse:0.257618\n",
      "[38]\ttrain-auc:0.955681\ttrain-rmse:0.256944\n",
      "[39]\ttrain-auc:0.956761\ttrain-rmse:0.255337\n",
      "[40]\ttrain-auc:0.957573\ttrain-rmse:0.254423\n",
      "[41]\ttrain-auc:0.957803\ttrain-rmse:0.254156\n",
      "[42]\ttrain-auc:0.958923\ttrain-rmse:0.252561\n",
      "[43]\ttrain-auc:0.959237\ttrain-rmse:0.252184\n",
      "[44]\ttrain-auc:0.959543\ttrain-rmse:0.251767\n",
      "Working: 7\n",
      "[0]\ttrain-auc:0.832678+0.00342184\ttest-auc:0.804382+0.00660679\n",
      "[30]\ttrain-auc:0.947068+0.000750296\ttest-auc:0.84749+0.00266115\n",
      "[60]\ttrain-auc:0.97544+0.000857993\ttest-auc:0.84829+0.00220529\n",
      "[90]\ttrain-auc:0.987956+0.000711244\ttest-auc:0.848113+0.00332444\n",
      "[0]\ttrain-auc:0.830999\ttrain-rmse:0.406919\n",
      "[1]\ttrain-auc:0.846012\ttrain-rmse:0.352111\n",
      "[2]\ttrain-auc:0.858225\ttrain-rmse:0.319382\n",
      "[3]\ttrain-auc:0.865069\ttrain-rmse:0.300267\n",
      "[4]\ttrain-auc:0.8695\ttrain-rmse:0.289068\n",
      "[5]\ttrain-auc:0.873866\ttrain-rmse:0.282129\n",
      "[6]\ttrain-auc:0.877609\ttrain-rmse:0.277191\n",
      "[7]\ttrain-auc:0.88106\ttrain-rmse:0.274264\n",
      "[8]\ttrain-auc:0.885277\ttrain-rmse:0.271707\n",
      "[9]\ttrain-auc:0.888061\ttrain-rmse:0.270038\n",
      "[10]\ttrain-auc:0.892369\ttrain-rmse:0.267918\n",
      "[11]\ttrain-auc:0.895673\ttrain-rmse:0.266009\n",
      "[12]\ttrain-auc:0.89868\ttrain-rmse:0.264943\n",
      "[13]\ttrain-auc:0.901718\ttrain-rmse:0.263732\n",
      "[14]\ttrain-auc:0.903685\ttrain-rmse:0.262406\n",
      "[15]\ttrain-auc:0.907264\ttrain-rmse:0.260994\n",
      "[16]\ttrain-auc:0.909462\ttrain-rmse:0.259815\n",
      "[17]\ttrain-auc:0.91191\ttrain-rmse:0.258056\n",
      "[18]\ttrain-auc:0.913892\ttrain-rmse:0.257118\n",
      "[19]\ttrain-auc:0.914528\ttrain-rmse:0.256838\n",
      "[20]\ttrain-auc:0.915762\ttrain-rmse:0.256067\n",
      "[21]\ttrain-auc:0.917435\ttrain-rmse:0.254972\n",
      "[22]\ttrain-auc:0.917857\ttrain-rmse:0.254657\n",
      "[23]\ttrain-auc:0.918865\ttrain-rmse:0.254189\n",
      "[24]\ttrain-auc:0.922857\ttrain-rmse:0.252769\n",
      "[25]\ttrain-auc:0.924113\ttrain-rmse:0.251899\n",
      "[26]\ttrain-auc:0.925544\ttrain-rmse:0.250663\n",
      "[27]\ttrain-auc:0.926875\ttrain-rmse:0.250165\n",
      "[28]\ttrain-auc:0.928468\ttrain-rmse:0.249157\n",
      "[29]\ttrain-auc:0.931403\ttrain-rmse:0.24732\n",
      "[30]\ttrain-auc:0.933197\ttrain-rmse:0.246003\n",
      "[31]\ttrain-auc:0.934061\ttrain-rmse:0.245402\n",
      "[32]\ttrain-auc:0.934559\ttrain-rmse:0.245252\n",
      "[33]\ttrain-auc:0.936582\ttrain-rmse:0.244185\n",
      "[34]\ttrain-auc:0.937729\ttrain-rmse:0.243514\n",
      "[35]\ttrain-auc:0.938684\ttrain-rmse:0.242944\n",
      "[36]\ttrain-auc:0.93912\ttrain-rmse:0.242554\n",
      "[37]\ttrain-auc:0.940479\ttrain-rmse:0.241791\n",
      "[38]\ttrain-auc:0.941793\ttrain-rmse:0.240994\n",
      "[39]\ttrain-auc:0.942711\ttrain-rmse:0.240053\n",
      "[40]\ttrain-auc:0.94302\ttrain-rmse:0.239861\n",
      "[41]\ttrain-auc:0.944345\ttrain-rmse:0.238754\n",
      "[42]\ttrain-auc:0.945826\ttrain-rmse:0.237218\n",
      "[43]\ttrain-auc:0.946154\ttrain-rmse:0.237033\n",
      "[44]\ttrain-auc:0.948001\ttrain-rmse:0.235814\n",
      "[45]\ttrain-auc:0.948377\ttrain-rmse:0.235596\n",
      "[46]\ttrain-auc:0.949538\ttrain-rmse:0.234484\n",
      "[47]\ttrain-auc:0.950252\ttrain-rmse:0.233742\n",
      "[48]\ttrain-auc:0.950681\ttrain-rmse:0.23352\n",
      "[49]\ttrain-auc:0.950944\ttrain-rmse:0.233334\n",
      "[50]\ttrain-auc:0.951364\ttrain-rmse:0.232783\n",
      "[51]\ttrain-auc:0.95174\ttrain-rmse:0.232499\n",
      "[52]\ttrain-auc:0.953046\ttrain-rmse:0.231544\n",
      "[53]\ttrain-auc:0.953255\ttrain-rmse:0.231402\n",
      "[54]\ttrain-auc:0.953606\ttrain-rmse:0.231204\n",
      "[55]\ttrain-auc:0.953991\ttrain-rmse:0.230841\n",
      "[56]\ttrain-auc:0.954683\ttrain-rmse:0.230405\n",
      "[57]\ttrain-auc:0.95529\ttrain-rmse:0.229819\n",
      "[58]\ttrain-auc:0.957221\ttrain-rmse:0.227765\n",
      "[59]\ttrain-auc:0.957523\ttrain-rmse:0.22758\n",
      "[60]\ttrain-auc:0.958325\ttrain-rmse:0.226768\n",
      "[61]\ttrain-auc:0.958771\ttrain-rmse:0.226254\n",
      "[62]\ttrain-auc:0.959186\ttrain-rmse:0.22588\n",
      "[63]\ttrain-auc:0.959651\ttrain-rmse:0.225399\n",
      "[64]\ttrain-auc:0.960788\ttrain-rmse:0.224086\n",
      "[65]\ttrain-auc:0.961979\ttrain-rmse:0.222647\n",
      "[66]\ttrain-auc:0.963071\ttrain-rmse:0.221597\n",
      "[67]\ttrain-auc:0.963726\ttrain-rmse:0.220937\n",
      "[68]\ttrain-auc:0.964412\ttrain-rmse:0.220246\n",
      "[69]\ttrain-auc:0.964669\ttrain-rmse:0.219911\n",
      "[70]\ttrain-auc:0.964818\ttrain-rmse:0.219776\n",
      "[71]\ttrain-auc:0.964946\ttrain-rmse:0.219645\n",
      "[72]\ttrain-auc:0.965597\ttrain-rmse:0.218871\n",
      "[73]\ttrain-auc:0.965806\ttrain-rmse:0.218475\n",
      "[74]\ttrain-auc:0.966374\ttrain-rmse:0.217805\n",
      "[75]\ttrain-auc:0.966581\ttrain-rmse:0.217629\n",
      "Working: 8\n",
      "[0]\ttrain-auc:0.5+0\ttest-auc:0.5+0\n",
      "[30]\ttrain-auc:0.999518+0.000291137\ttest-auc:0.849767+0.018356\n",
      "[0]\ttrain-auc:0.5\ttrain-rmse:0.357863\n",
      "[1]\ttrain-auc:0.73404\ttrain-rmse:0.263477\n",
      "[2]\ttrain-auc:0.766301\ttrain-rmse:0.198251\n",
      "[3]\ttrain-auc:0.846128\ttrain-rmse:0.15292\n",
      "[4]\ttrain-auc:0.874455\ttrain-rmse:0.12188\n",
      "[5]\ttrain-auc:0.894283\ttrain-rmse:0.101174\n",
      "[6]\ttrain-auc:0.896316\ttrain-rmse:0.087795\n",
      "[7]\ttrain-auc:0.909115\ttrain-rmse:0.079463\n",
      "[8]\ttrain-auc:0.911488\ttrain-rmse:0.074266\n",
      "[9]\ttrain-auc:0.927011\ttrain-rmse:0.071125\n",
      "[10]\ttrain-auc:0.933252\ttrain-rmse:0.069124\n",
      "[11]\ttrain-auc:0.947655\ttrain-rmse:0.067823\n",
      "[12]\ttrain-auc:0.953641\ttrain-rmse:0.066873\n",
      "[13]\ttrain-auc:0.966495\ttrain-rmse:0.066399\n",
      "[14]\ttrain-auc:0.975453\ttrain-rmse:0.066\n",
      "[15]\ttrain-auc:0.978\ttrain-rmse:0.065035\n",
      "[16]\ttrain-auc:0.980779\ttrain-rmse:0.064461\n",
      "[17]\ttrain-auc:0.982898\ttrain-rmse:0.064067\n",
      "[18]\ttrain-auc:0.984286\ttrain-rmse:0.063368\n",
      "[19]\ttrain-auc:0.985181\ttrain-rmse:0.062609\n",
      "[20]\ttrain-auc:0.988002\ttrain-rmse:0.061604\n",
      "[21]\ttrain-auc:0.989789\ttrain-rmse:0.060487\n",
      "[22]\ttrain-auc:0.990726\ttrain-rmse:0.059475\n",
      "[23]\ttrain-auc:0.993129\ttrain-rmse:0.058829\n",
      "Working: 9\n",
      "[0]\ttrain-auc:0.926197+0.0620723\ttest-auc:0.917683+0.0589601\n",
      "[30]\ttrain-auc:0.997345+0.000300507\ttest-auc:0.985502+0.00177998\n",
      "[60]\ttrain-auc:0.999554+1.81904e-05\ttest-auc:0.986743+0.00171293\n",
      "[90]\ttrain-auc:0.999957+1.63299e-06\ttest-auc:0.987161+0.00202853\n",
      "[120]\ttrain-auc:0.999997+1.24722e-06\ttest-auc:0.987393+0.00204661\n",
      "[0]\ttrain-auc:0.845676\ttrain-rmse:0.371315\n",
      "[1]\ttrain-auc:0.973\ttrain-rmse:0.284603\n",
      "[2]\ttrain-auc:0.975963\ttrain-rmse:0.226859\n",
      "[3]\ttrain-auc:0.978943\ttrain-rmse:0.188406\n",
      "[4]\ttrain-auc:0.980939\ttrain-rmse:0.163936\n",
      "[5]\ttrain-auc:0.98429\ttrain-rmse:0.147693\n",
      "[6]\ttrain-auc:0.98614\ttrain-rmse:0.138026\n",
      "[7]\ttrain-auc:0.986986\ttrain-rmse:0.131569\n",
      "[8]\ttrain-auc:0.98827\ttrain-rmse:0.127681\n",
      "[9]\ttrain-auc:0.989325\ttrain-rmse:0.124247\n",
      "[10]\ttrain-auc:0.989758\ttrain-rmse:0.1225\n",
      "[11]\ttrain-auc:0.99039\ttrain-rmse:0.120855\n",
      "[12]\ttrain-auc:0.991038\ttrain-rmse:0.11995\n",
      "[13]\ttrain-auc:0.992141\ttrain-rmse:0.118746\n",
      "[14]\ttrain-auc:0.992755\ttrain-rmse:0.117607\n",
      "[15]\ttrain-auc:0.993018\ttrain-rmse:0.116719\n",
      "[16]\ttrain-auc:0.993555\ttrain-rmse:0.115982\n",
      "[17]\ttrain-auc:0.993719\ttrain-rmse:0.115437\n",
      "[18]\ttrain-auc:0.994054\ttrain-rmse:0.114574\n",
      "[19]\ttrain-auc:0.994209\ttrain-rmse:0.114279\n",
      "[20]\ttrain-auc:0.994466\ttrain-rmse:0.113275\n",
      "[21]\ttrain-auc:0.994673\ttrain-rmse:0.11216\n",
      "[22]\ttrain-auc:0.994799\ttrain-rmse:0.111406\n",
      "[23]\ttrain-auc:0.994888\ttrain-rmse:0.110969\n",
      "[24]\ttrain-auc:0.995121\ttrain-rmse:0.110359\n",
      "[25]\ttrain-auc:0.995366\ttrain-rmse:0.108829\n",
      "[26]\ttrain-auc:0.995573\ttrain-rmse:0.107878\n",
      "[27]\ttrain-auc:0.995809\ttrain-rmse:0.106602\n",
      "[28]\ttrain-auc:0.996049\ttrain-rmse:0.105081\n",
      "[29]\ttrain-auc:0.996192\ttrain-rmse:0.104193\n",
      "[30]\ttrain-auc:0.996338\ttrain-rmse:0.103226\n",
      "[31]\ttrain-auc:0.996426\ttrain-rmse:0.102723\n",
      "[32]\ttrain-auc:0.996515\ttrain-rmse:0.102051\n",
      "[33]\ttrain-auc:0.996559\ttrain-rmse:0.101701\n",
      "[34]\ttrain-auc:0.996627\ttrain-rmse:0.101138\n",
      "[35]\ttrain-auc:0.996752\ttrain-rmse:0.100206\n",
      "[36]\ttrain-auc:0.996936\ttrain-rmse:0.098702\n",
      "[37]\ttrain-auc:0.996972\ttrain-rmse:0.098419\n",
      "[38]\ttrain-auc:0.997061\ttrain-rmse:0.097586\n",
      "[39]\ttrain-auc:0.997289\ttrain-rmse:0.09597\n",
      "[40]\ttrain-auc:0.997492\ttrain-rmse:0.094918\n",
      "[41]\ttrain-auc:0.997589\ttrain-rmse:0.094532\n",
      "[42]\ttrain-auc:0.997756\ttrain-rmse:0.092938\n",
      "[43]\ttrain-auc:0.998019\ttrain-rmse:0.090915\n",
      "[44]\ttrain-auc:0.998051\ttrain-rmse:0.090815\n",
      "[45]\ttrain-auc:0.998142\ttrain-rmse:0.089726\n",
      "[46]\ttrain-auc:0.998206\ttrain-rmse:0.088965\n",
      "[47]\ttrain-auc:0.998247\ttrain-rmse:0.088505\n",
      "[48]\ttrain-auc:0.99834\ttrain-rmse:0.087724\n",
      "[49]\ttrain-auc:0.9985\ttrain-rmse:0.086034\n",
      "[50]\ttrain-auc:0.998556\ttrain-rmse:0.085566\n",
      "[51]\ttrain-auc:0.998642\ttrain-rmse:0.084624\n",
      "[52]\ttrain-auc:0.998663\ttrain-rmse:0.084338\n",
      "[53]\ttrain-auc:0.99869\ttrain-rmse:0.083988\n",
      "[54]\ttrain-auc:0.998722\ttrain-rmse:0.08348\n",
      "[55]\ttrain-auc:0.998783\ttrain-rmse:0.082599\n",
      "[56]\ttrain-auc:0.998813\ttrain-rmse:0.082382\n",
      "[57]\ttrain-auc:0.998849\ttrain-rmse:0.082025\n",
      "[58]\ttrain-auc:0.99893\ttrain-rmse:0.080792\n",
      "[59]\ttrain-auc:0.998985\ttrain-rmse:0.079987\n",
      "[60]\ttrain-auc:0.999035\ttrain-rmse:0.079307\n",
      "[61]\ttrain-auc:0.999069\ttrain-rmse:0.078906\n",
      "[62]\ttrain-auc:0.999085\ttrain-rmse:0.078763\n",
      "[63]\ttrain-auc:0.999105\ttrain-rmse:0.078458\n",
      "[64]\ttrain-auc:0.999141\ttrain-rmse:0.078077\n",
      "[65]\ttrain-auc:0.999158\ttrain-rmse:0.077765\n",
      "[66]\ttrain-auc:0.999209\ttrain-rmse:0.076915\n",
      "[67]\ttrain-auc:0.999254\ttrain-rmse:0.076262\n",
      "[68]\ttrain-auc:0.999292\ttrain-rmse:0.075588\n",
      "[69]\ttrain-auc:0.999314\ttrain-rmse:0.075162\n",
      "[70]\ttrain-auc:0.999373\ttrain-rmse:0.073952\n",
      "[71]\ttrain-auc:0.999394\ttrain-rmse:0.073445\n",
      "[72]\ttrain-auc:0.999447\ttrain-rmse:0.072221\n",
      "[73]\ttrain-auc:0.999498\ttrain-rmse:0.071309\n",
      "[74]\ttrain-auc:0.999541\ttrain-rmse:0.070423\n",
      "[75]\ttrain-auc:0.999561\ttrain-rmse:0.070002\n",
      "[76]\ttrain-auc:0.999596\ttrain-rmse:0.069187\n",
      "[77]\ttrain-auc:0.999618\ttrain-rmse:0.068476\n",
      "[78]\ttrain-auc:0.999623\ttrain-rmse:0.0683\n",
      "[79]\ttrain-auc:0.99964\ttrain-rmse:0.067745\n",
      "[80]\ttrain-auc:0.999657\ttrain-rmse:0.067088\n",
      "[81]\ttrain-auc:0.999672\ttrain-rmse:0.066483\n",
      "[82]\ttrain-auc:0.999674\ttrain-rmse:0.066437\n",
      "[83]\ttrain-auc:0.99969\ttrain-rmse:0.066143\n",
      "[84]\ttrain-auc:0.999695\ttrain-rmse:0.066039\n",
      "[85]\ttrain-auc:0.999703\ttrain-rmse:0.065683\n",
      "[86]\ttrain-auc:0.999709\ttrain-rmse:0.065442\n",
      "[87]\ttrain-auc:0.999732\ttrain-rmse:0.064654\n",
      "[88]\ttrain-auc:0.999742\ttrain-rmse:0.064334\n",
      "[89]\ttrain-auc:0.99975\ttrain-rmse:0.064083\n",
      "[90]\ttrain-auc:0.999758\ttrain-rmse:0.063791\n",
      "[91]\ttrain-auc:0.999776\ttrain-rmse:0.062852\n",
      "[92]\ttrain-auc:0.999793\ttrain-rmse:0.062076\n",
      "[93]\ttrain-auc:0.999798\ttrain-rmse:0.061795\n",
      "[94]\ttrain-auc:0.999804\ttrain-rmse:0.061656\n",
      "[95]\ttrain-auc:0.999818\ttrain-rmse:0.060761\n",
      "[96]\ttrain-auc:0.999836\ttrain-rmse:0.059867\n",
      "[97]\ttrain-auc:0.999845\ttrain-rmse:0.059404\n",
      "[98]\ttrain-auc:0.999854\ttrain-rmse:0.05877\n",
      "[99]\ttrain-auc:0.999869\ttrain-rmse:0.057988\n",
      "[100]\ttrain-auc:0.999875\ttrain-rmse:0.057647\n",
      "[101]\ttrain-auc:0.999877\ttrain-rmse:0.057489\n",
      "[102]\ttrain-auc:0.999887\ttrain-rmse:0.056722\n",
      "[103]\ttrain-auc:0.999903\ttrain-rmse:0.055791\n",
      "[104]\ttrain-auc:0.999906\ttrain-rmse:0.055579\n",
      "[105]\ttrain-auc:0.999914\ttrain-rmse:0.055034\n",
      "[106]\ttrain-auc:0.999919\ttrain-rmse:0.054474\n",
      "[107]\ttrain-auc:0.999928\ttrain-rmse:0.053767\n",
      "[108]\ttrain-auc:0.999929\ttrain-rmse:0.053575\n",
      "[109]\ttrain-auc:0.999931\ttrain-rmse:0.053303\n",
      "[110]\ttrain-auc:0.999933\ttrain-rmse:0.053195\n",
      "[111]\ttrain-auc:0.999938\ttrain-rmse:0.052713\n",
      "[112]\ttrain-auc:0.999942\ttrain-rmse:0.0524\n",
      "[113]\ttrain-auc:0.999945\ttrain-rmse:0.052121\n",
      "[114]\ttrain-auc:0.99995\ttrain-rmse:0.051622\n",
      "[115]\ttrain-auc:0.999955\ttrain-rmse:0.051015\n",
      "[116]\ttrain-auc:0.999959\ttrain-rmse:0.050534\n",
      "[117]\ttrain-auc:0.99996\ttrain-rmse:0.050266\n",
      "[118]\ttrain-auc:0.999962\ttrain-rmse:0.049938\n",
      "[119]\ttrain-auc:0.999963\ttrain-rmse:0.049689\n",
      "[120]\ttrain-auc:0.999967\ttrain-rmse:0.04884\n",
      "[121]\ttrain-auc:0.999968\ttrain-rmse:0.048454\n",
      "[122]\ttrain-auc:0.999971\ttrain-rmse:0.048131\n",
      "[123]\ttrain-auc:0.999973\ttrain-rmse:0.048009\n",
      "[124]\ttrain-auc:0.999976\ttrain-rmse:0.047604\n",
      "[125]\ttrain-auc:0.999978\ttrain-rmse:0.047305\n",
      "Working: 10\n",
      "[0]\ttrain-auc:0.952984+0.00201441\ttest-auc:0.94186+0.00157132\n",
      "[30]\ttrain-auc:0.995186+0.000489335\ttest-auc:0.975817+0.00179932\n",
      "[60]\ttrain-auc:0.998805+0.000180535\ttest-auc:0.976864+0.00183023\n",
      "[90]\ttrain-auc:0.999768+2.9044e-05\ttest-auc:0.977444+0.00172485\n",
      "[120]\ttrain-auc:0.999978+1.63299e-06\ttest-auc:0.977733+0.00178602\n",
      "[0]\ttrain-auc:0.952662\ttrain-rmse:0.391174\n",
      "[1]\ttrain-auc:0.964924\ttrain-rmse:0.321545\n",
      "[2]\ttrain-auc:0.969848\ttrain-rmse:0.277648\n",
      "[3]\ttrain-auc:0.972733\ttrain-rmse:0.249725\n",
      "[4]\ttrain-auc:0.975372\ttrain-rmse:0.229516\n",
      "[5]\ttrain-auc:0.977365\ttrain-rmse:0.215902\n",
      "[6]\ttrain-auc:0.978881\ttrain-rmse:0.206228\n",
      "[7]\ttrain-auc:0.979967\ttrain-rmse:0.200101\n",
      "[8]\ttrain-auc:0.980676\ttrain-rmse:0.195815\n",
      "[9]\ttrain-auc:0.981479\ttrain-rmse:0.19229\n",
      "[10]\ttrain-auc:0.982446\ttrain-rmse:0.189259\n",
      "[11]\ttrain-auc:0.983697\ttrain-rmse:0.185864\n",
      "[12]\ttrain-auc:0.984279\ttrain-rmse:0.183643\n",
      "[13]\ttrain-auc:0.985155\ttrain-rmse:0.181264\n",
      "[14]\ttrain-auc:0.986317\ttrain-rmse:0.17904\n",
      "[15]\ttrain-auc:0.987056\ttrain-rmse:0.176417\n",
      "[16]\ttrain-auc:0.987481\ttrain-rmse:0.174618\n",
      "[17]\ttrain-auc:0.988073\ttrain-rmse:0.172774\n",
      "[18]\ttrain-auc:0.988528\ttrain-rmse:0.170956\n",
      "[19]\ttrain-auc:0.989247\ttrain-rmse:0.168342\n",
      "[20]\ttrain-auc:0.989601\ttrain-rmse:0.166764\n",
      "[21]\ttrain-auc:0.989982\ttrain-rmse:0.164741\n",
      "[22]\ttrain-auc:0.990663\ttrain-rmse:0.162765\n",
      "[23]\ttrain-auc:0.991114\ttrain-rmse:0.160926\n",
      "[24]\ttrain-auc:0.991599\ttrain-rmse:0.159147\n",
      "[25]\ttrain-auc:0.992027\ttrain-rmse:0.157758\n",
      "[26]\ttrain-auc:0.992384\ttrain-rmse:0.156315\n",
      "[27]\ttrain-auc:0.992516\ttrain-rmse:0.155606\n",
      "[28]\ttrain-auc:0.992831\ttrain-rmse:0.15437\n",
      "[29]\ttrain-auc:0.993198\ttrain-rmse:0.152362\n",
      "[30]\ttrain-auc:0.993456\ttrain-rmse:0.15091\n",
      "[31]\ttrain-auc:0.993665\ttrain-rmse:0.149907\n",
      "[32]\ttrain-auc:0.993805\ttrain-rmse:0.148824\n",
      "[33]\ttrain-auc:0.993968\ttrain-rmse:0.147598\n",
      "[34]\ttrain-auc:0.99436\ttrain-rmse:0.145586\n",
      "[35]\ttrain-auc:0.994409\ttrain-rmse:0.145244\n",
      "[36]\ttrain-auc:0.994663\ttrain-rmse:0.144023\n",
      "[37]\ttrain-auc:0.994835\ttrain-rmse:0.14298\n",
      "[38]\ttrain-auc:0.995105\ttrain-rmse:0.141382\n",
      "[39]\ttrain-auc:0.995233\ttrain-rmse:0.140556\n",
      "[40]\ttrain-auc:0.995293\ttrain-rmse:0.140132\n",
      "[41]\ttrain-auc:0.995381\ttrain-rmse:0.13942\n",
      "[42]\ttrain-auc:0.995458\ttrain-rmse:0.1388\n",
      "[43]\ttrain-auc:0.995519\ttrain-rmse:0.138378\n",
      "[44]\ttrain-auc:0.99579\ttrain-rmse:0.136882\n",
      "[45]\ttrain-auc:0.9959\ttrain-rmse:0.136302\n",
      "[46]\ttrain-auc:0.996088\ttrain-rmse:0.135111\n",
      "[47]\ttrain-auc:0.996132\ttrain-rmse:0.134827\n",
      "[48]\ttrain-auc:0.996389\ttrain-rmse:0.133415\n",
      "[49]\ttrain-auc:0.996515\ttrain-rmse:0.132429\n",
      "[50]\ttrain-auc:0.996583\ttrain-rmse:0.131863\n",
      "[51]\ttrain-auc:0.996636\ttrain-rmse:0.13139\n",
      "[52]\ttrain-auc:0.996687\ttrain-rmse:0.13089\n",
      "[53]\ttrain-auc:0.996723\ttrain-rmse:0.130403\n",
      "[54]\ttrain-auc:0.996747\ttrain-rmse:0.130163\n",
      "[55]\ttrain-auc:0.996904\ttrain-rmse:0.129125\n",
      "[56]\ttrain-auc:0.996994\ttrain-rmse:0.128381\n",
      "[57]\ttrain-auc:0.997141\ttrain-rmse:0.127073\n",
      "[58]\ttrain-auc:0.997216\ttrain-rmse:0.126355\n",
      "[59]\ttrain-auc:0.99725\ttrain-rmse:0.125926\n",
      "[60]\ttrain-auc:0.997264\ttrain-rmse:0.125744\n",
      "[61]\ttrain-auc:0.997329\ttrain-rmse:0.125116\n",
      "[62]\ttrain-auc:0.997407\ttrain-rmse:0.12439\n",
      "[63]\ttrain-auc:0.997474\ttrain-rmse:0.123659\n",
      "[64]\ttrain-auc:0.997516\ttrain-rmse:0.123302\n",
      "[65]\ttrain-auc:0.997586\ttrain-rmse:0.122709\n",
      "[66]\ttrain-auc:0.99776\ttrain-rmse:0.120941\n",
      "[67]\ttrain-auc:0.997829\ttrain-rmse:0.120113\n",
      "[68]\ttrain-auc:0.997856\ttrain-rmse:0.119779\n",
      "[69]\ttrain-auc:0.997882\ttrain-rmse:0.119454\n",
      "[70]\ttrain-auc:0.997933\ttrain-rmse:0.118988\n",
      "[71]\ttrain-auc:0.998016\ttrain-rmse:0.118143\n",
      "[72]\ttrain-auc:0.998116\ttrain-rmse:0.116811\n",
      "[73]\ttrain-auc:0.998173\ttrain-rmse:0.115904\n",
      "[74]\ttrain-auc:0.998196\ttrain-rmse:0.115458\n",
      "[75]\ttrain-auc:0.998298\ttrain-rmse:0.114294\n",
      "[76]\ttrain-auc:0.998413\ttrain-rmse:0.112906\n",
      "[77]\ttrain-auc:0.998436\ttrain-rmse:0.112596\n",
      "[78]\ttrain-auc:0.998453\ttrain-rmse:0.112299\n",
      "[79]\ttrain-auc:0.998478\ttrain-rmse:0.112001\n",
      "[80]\ttrain-auc:0.998487\ttrain-rmse:0.111771\n",
      "[81]\ttrain-auc:0.998559\ttrain-rmse:0.11067\n",
      "[82]\ttrain-auc:0.998661\ttrain-rmse:0.109368\n",
      "[83]\ttrain-auc:0.998672\ttrain-rmse:0.109032\n",
      "[84]\ttrain-auc:0.9987\ttrain-rmse:0.108381\n",
      "[85]\ttrain-auc:0.998773\ttrain-rmse:0.107134\n",
      "[86]\ttrain-auc:0.99886\ttrain-rmse:0.105899\n",
      "[87]\ttrain-auc:0.998887\ttrain-rmse:0.105322\n",
      "[88]\ttrain-auc:0.998962\ttrain-rmse:0.104393\n",
      "[89]\ttrain-auc:0.999028\ttrain-rmse:0.103077\n",
      "[90]\ttrain-auc:0.999045\ttrain-rmse:0.102794\n",
      "[91]\ttrain-auc:0.999103\ttrain-rmse:0.10175\n",
      "[92]\ttrain-auc:0.999154\ttrain-rmse:0.100602\n",
      "[93]\ttrain-auc:0.999187\ttrain-rmse:0.099814\n",
      "[94]\ttrain-auc:0.999203\ttrain-rmse:0.099387\n",
      "[95]\ttrain-auc:0.999261\ttrain-rmse:0.098351\n",
      "[96]\ttrain-auc:0.999278\ttrain-rmse:0.097999\n",
      "[97]\ttrain-auc:0.999284\ttrain-rmse:0.097711\n",
      "[98]\ttrain-auc:0.999316\ttrain-rmse:0.097065\n",
      "[99]\ttrain-auc:0.999331\ttrain-rmse:0.096674\n",
      "[100]\ttrain-auc:0.999345\ttrain-rmse:0.096238\n",
      "[101]\ttrain-auc:0.999366\ttrain-rmse:0.095686\n",
      "[102]\ttrain-auc:0.999397\ttrain-rmse:0.09481\n",
      "[103]\ttrain-auc:0.999438\ttrain-rmse:0.093796\n",
      "[104]\ttrain-auc:0.999458\ttrain-rmse:0.093011\n",
      "[105]\ttrain-auc:0.999498\ttrain-rmse:0.091958\n",
      "[106]\ttrain-auc:0.999507\ttrain-rmse:0.09162\n",
      "[107]\ttrain-auc:0.99952\ttrain-rmse:0.091203\n",
      "[108]\ttrain-auc:0.999533\ttrain-rmse:0.090841\n",
      "[109]\ttrain-auc:0.999551\ttrain-rmse:0.090256\n",
      "[110]\ttrain-auc:0.99957\ttrain-rmse:0.089606\n",
      "[111]\ttrain-auc:0.999592\ttrain-rmse:0.088615\n",
      "[112]\ttrain-auc:0.999605\ttrain-rmse:0.088247\n",
      "[113]\ttrain-auc:0.999635\ttrain-rmse:0.087393\n",
      "[114]\ttrain-auc:0.99965\ttrain-rmse:0.086956\n",
      "[115]\ttrain-auc:0.999653\ttrain-rmse:0.086747\n",
      "[116]\ttrain-auc:0.999691\ttrain-rmse:0.085692\n",
      "[117]\ttrain-auc:0.999726\ttrain-rmse:0.084623\n",
      "[118]\ttrain-auc:0.999729\ttrain-rmse:0.084454\n",
      "[119]\ttrain-auc:0.999732\ttrain-rmse:0.084189\n",
      "[120]\ttrain-auc:0.999735\ttrain-rmse:0.083989\n",
      "[121]\ttrain-auc:0.999743\ttrain-rmse:0.083538\n",
      "[122]\ttrain-auc:0.999753\ttrain-rmse:0.08312\n",
      "[123]\ttrain-auc:0.999764\ttrain-rmse:0.082628\n",
      "Working: 11\n",
      "[0]\ttrain-auc:0.5+0\ttest-auc:0.5+0\n",
      "[30]\ttrain-auc:0.999999+4.71405e-07\ttest-auc:0.952093+0.0130324\n",
      "[60]\ttrain-auc:1+0\ttest-auc:0.955494+0.00699004\n",
      "[0]\ttrain-auc:0.5\ttrain-rmse:0.356043\n",
      "[1]\ttrain-auc:0.84174\ttrain-rmse:0.259748\n",
      "[2]\ttrain-auc:0.868275\ttrain-rmse:0.192013\n",
      "[3]\ttrain-auc:0.89341\ttrain-rmse:0.143648\n",
      "[4]\ttrain-auc:0.896592\ttrain-rmse:0.109519\n",
      "[5]\ttrain-auc:0.899331\ttrain-rmse:0.08536\n",
      "[6]\ttrain-auc:0.903743\ttrain-rmse:0.068445\n",
      "[7]\ttrain-auc:0.932417\ttrain-rmse:0.056215\n",
      "[8]\ttrain-auc:0.932603\ttrain-rmse:0.048186\n",
      "[9]\ttrain-auc:0.934283\ttrain-rmse:0.042879\n",
      "[10]\ttrain-auc:0.938234\ttrain-rmse:0.039108\n",
      "[11]\ttrain-auc:0.980196\ttrain-rmse:0.036449\n",
      "[12]\ttrain-auc:0.980167\ttrain-rmse:0.035256\n",
      "[13]\ttrain-auc:0.995846\ttrain-rmse:0.033678\n",
      "[14]\ttrain-auc:0.998244\ttrain-rmse:0.032269\n",
      "[15]\ttrain-auc:0.998854\ttrain-rmse:0.031156\n",
      "[16]\ttrain-auc:0.999122\ttrain-rmse:0.03027\n",
      "[17]\ttrain-auc:0.999606\ttrain-rmse:0.028847\n",
      "[18]\ttrain-auc:0.999707\ttrain-rmse:0.027333\n",
      "[19]\ttrain-auc:0.99985\ttrain-rmse:0.026277\n",
      "[20]\ttrain-auc:0.999883\ttrain-rmse:0.02542\n",
      "[21]\ttrain-auc:0.999907\ttrain-rmse:0.024742\n",
      "[22]\ttrain-auc:0.999929\ttrain-rmse:0.023343\n",
      "[23]\ttrain-auc:0.999923\ttrain-rmse:0.022781\n",
      "[24]\ttrain-auc:0.999946\ttrain-rmse:0.021255\n",
      "[25]\ttrain-auc:0.999959\ttrain-rmse:0.020666\n",
      "[26]\ttrain-auc:0.999965\ttrain-rmse:0.019935\n",
      "[27]\ttrain-auc:0.999975\ttrain-rmse:0.019559\n",
      "[28]\ttrain-auc:0.999981\ttrain-rmse:0.018666\n",
      "[29]\ttrain-auc:0.99999\ttrain-rmse:0.018067\n",
      "[30]\ttrain-auc:0.999993\ttrain-rmse:0.017032\n",
      "[31]\ttrain-auc:0.999998\ttrain-rmse:0.015762\n",
      "[32]\ttrain-auc:0.999999\ttrain-rmse:0.014789\n",
      "[33]\ttrain-auc:1\ttrain-rmse:0.01448\n",
      "[34]\ttrain-auc:1\ttrain-rmse:0.013655\n",
      "[35]\ttrain-auc:1\ttrain-rmse:0.01294\n",
      "[36]\ttrain-auc:1\ttrain-rmse:0.012216\n",
      "[37]\ttrain-auc:1\ttrain-rmse:0.01151\n",
      "[38]\ttrain-auc:1\ttrain-rmse:0.011064\n",
      "[39]\ttrain-auc:1\ttrain-rmse:0.010638\n",
      "[40]\ttrain-auc:1\ttrain-rmse:0.010012\n",
      "[41]\ttrain-auc:1\ttrain-rmse:0.009596\n",
      "[42]\ttrain-auc:1\ttrain-rmse:0.00918\n",
      "[43]\ttrain-auc:1\ttrain-rmse:0.008704\n",
      "[44]\ttrain-auc:1\ttrain-rmse:0.008229\n",
      "[45]\ttrain-auc:1\ttrain-rmse:0.00784\n",
      "[46]\ttrain-auc:1\ttrain-rmse:0.007408\n",
      "[47]\ttrain-auc:1\ttrain-rmse:0.007077\n",
      "[48]\ttrain-auc:1\ttrain-rmse:0.006839\n",
      "[49]\ttrain-auc:1\ttrain-rmse:0.006569\n",
      "[50]\ttrain-auc:1\ttrain-rmse:0.006267\n",
      "[51]\ttrain-auc:1\ttrain-rmse:0.006028\n",
      "[52]\ttrain-auc:1\ttrain-rmse:0.005823\n",
      "[53]\ttrain-auc:1\ttrain-rmse:0.005613\n",
      "[54]\ttrain-auc:1\ttrain-rmse:0.005437\n",
      "[55]\ttrain-auc:1\ttrain-rmse:0.005245\n",
      "[56]\ttrain-auc:1\ttrain-rmse:0.005134\n",
      "[57]\ttrain-auc:1\ttrain-rmse:0.004927\n",
      "[58]\ttrain-auc:1\ttrain-rmse:0.00479\n",
      "[59]\ttrain-auc:1\ttrain-rmse:0.004643\n",
      "[60]\ttrain-auc:1\ttrain-rmse:0.004498\n",
      "[61]\ttrain-auc:1\ttrain-rmse:0.004366\n",
      "[62]\ttrain-auc:1\ttrain-rmse:0.004266\n",
      "[63]\ttrain-auc:1\ttrain-rmse:0.004171\n",
      "[64]\ttrain-auc:1\ttrain-rmse:0.004027\n",
      "Working: 12\n",
      "[0]\ttrain-auc:0.788591+0.0202222\ttest-auc:0.755029+0.0180661\n",
      "[30]\ttrain-auc:0.992752+0.00149085\ttest-auc:0.859614+0.00372081\n",
      "[0]\ttrain-auc:0.811902\ttrain-rmse:0.366766\n",
      "[1]\ttrain-auc:0.834138\ttrain-rmse:0.280556\n",
      "[2]\ttrain-auc:0.843881\ttrain-rmse:0.223345\n",
      "[3]\ttrain-auc:0.859196\ttrain-rmse:0.185791\n",
      "[4]\ttrain-auc:0.870709\ttrain-rmse:0.161572\n",
      "[5]\ttrain-auc:0.883161\ttrain-rmse:0.146548\n",
      "[6]\ttrain-auc:0.900368\ttrain-rmse:0.137438\n",
      "[7]\ttrain-auc:0.911171\ttrain-rmse:0.131433\n",
      "[8]\ttrain-auc:0.91682\ttrain-rmse:0.128353\n",
      "[9]\ttrain-auc:0.924436\ttrain-rmse:0.125731\n",
      "[10]\ttrain-auc:0.933274\ttrain-rmse:0.124219\n",
      "[11]\ttrain-auc:0.940415\ttrain-rmse:0.12247\n",
      "[12]\ttrain-auc:0.943702\ttrain-rmse:0.121135\n",
      "[13]\ttrain-auc:0.949015\ttrain-rmse:0.120208\n",
      "[14]\ttrain-auc:0.951383\ttrain-rmse:0.119478\n",
      "[15]\ttrain-auc:0.953923\ttrain-rmse:0.118535\n",
      "[16]\ttrain-auc:0.955441\ttrain-rmse:0.117855\n",
      "[17]\ttrain-auc:0.957481\ttrain-rmse:0.117507\n",
      "[18]\ttrain-auc:0.960616\ttrain-rmse:0.116817\n",
      "[19]\ttrain-auc:0.963403\ttrain-rmse:0.115762\n",
      "[20]\ttrain-auc:0.966766\ttrain-rmse:0.114837\n",
      "[21]\ttrain-auc:0.97059\ttrain-rmse:0.11358\n",
      "[22]\ttrain-auc:0.972151\ttrain-rmse:0.112888\n",
      "[23]\ttrain-auc:0.974123\ttrain-rmse:0.111786\n",
      "[24]\ttrain-auc:0.975378\ttrain-rmse:0.110816\n",
      "[25]\ttrain-auc:0.978391\ttrain-rmse:0.10949\n",
      "Working: 13\n",
      "[0]\ttrain-auc:0.891754+0.0201135\ttest-auc:0.861096+0.0466697\n",
      "[30]\ttrain-auc:0.999977+1.49666e-05\ttest-auc:0.982609+0.00264665\n",
      "[60]\ttrain-auc:1+0\ttest-auc:0.984467+0.00268579\n",
      "[90]\ttrain-auc:1+0\ttest-auc:0.984949+0.00190181\n",
      "[0]\ttrain-auc:0.866259\ttrain-rmse:0.35739\n",
      "[1]\ttrain-auc:0.940677\ttrain-rmse:0.261872\n",
      "[2]\ttrain-auc:0.956576\ttrain-rmse:0.194874\n",
      "[3]\ttrain-auc:0.961171\ttrain-rmse:0.147499\n",
      "[4]\ttrain-auc:0.983925\ttrain-rmse:0.113712\n",
      "[5]\ttrain-auc:0.984658\ttrain-rmse:0.09003\n",
      "[6]\ttrain-auc:0.987114\ttrain-rmse:0.073742\n",
      "[7]\ttrain-auc:0.988578\ttrain-rmse:0.062158\n",
      "[8]\ttrain-auc:0.988814\ttrain-rmse:0.054923\n",
      "[9]\ttrain-auc:0.991268\ttrain-rmse:0.04986\n",
      "[10]\ttrain-auc:0.991343\ttrain-rmse:0.046658\n",
      "[11]\ttrain-auc:0.994409\ttrain-rmse:0.044322\n",
      "[12]\ttrain-auc:0.994963\ttrain-rmse:0.042073\n",
      "[13]\ttrain-auc:0.995379\ttrain-rmse:0.040002\n",
      "[14]\ttrain-auc:0.995612\ttrain-rmse:0.038846\n",
      "[15]\ttrain-auc:0.997213\ttrain-rmse:0.036788\n",
      "[16]\ttrain-auc:0.997397\ttrain-rmse:0.035641\n",
      "[17]\ttrain-auc:0.997457\ttrain-rmse:0.034812\n",
      "[18]\ttrain-auc:0.997601\ttrain-rmse:0.033788\n",
      "[19]\ttrain-auc:0.997736\ttrain-rmse:0.032415\n",
      "[20]\ttrain-auc:0.999024\ttrain-rmse:0.031539\n",
      "[21]\ttrain-auc:0.999234\ttrain-rmse:0.030409\n",
      "[22]\ttrain-auc:0.999371\ttrain-rmse:0.02961\n",
      "[23]\ttrain-auc:0.999636\ttrain-rmse:0.028277\n",
      "[24]\ttrain-auc:0.999677\ttrain-rmse:0.027495\n",
      "[25]\ttrain-auc:0.999712\ttrain-rmse:0.026253\n",
      "[26]\ttrain-auc:0.999829\ttrain-rmse:0.025223\n",
      "[27]\ttrain-auc:0.99987\ttrain-rmse:0.024924\n",
      "[28]\ttrain-auc:0.999916\ttrain-rmse:0.02402\n",
      "[29]\ttrain-auc:0.999937\ttrain-rmse:0.023546\n",
      "[30]\ttrain-auc:0.999947\ttrain-rmse:0.022642\n",
      "[31]\ttrain-auc:0.999965\ttrain-rmse:0.021478\n",
      "[32]\ttrain-auc:0.999974\ttrain-rmse:0.021001\n",
      "[33]\ttrain-auc:0.999981\ttrain-rmse:0.019645\n",
      "[34]\ttrain-auc:0.999986\ttrain-rmse:0.018919\n",
      "[35]\ttrain-auc:0.999989\ttrain-rmse:0.018202\n",
      "[36]\ttrain-auc:0.999992\ttrain-rmse:0.017656\n",
      "[37]\ttrain-auc:0.999993\ttrain-rmse:0.017187\n",
      "[38]\ttrain-auc:0.999995\ttrain-rmse:0.016451\n",
      "[39]\ttrain-auc:0.999996\ttrain-rmse:0.015541\n",
      "[40]\ttrain-auc:0.999997\ttrain-rmse:0.015101\n",
      "[41]\ttrain-auc:0.999998\ttrain-rmse:0.014332\n",
      "[42]\ttrain-auc:0.999999\ttrain-rmse:0.014016\n",
      "[43]\ttrain-auc:0.999999\ttrain-rmse:0.013448\n",
      "[44]\ttrain-auc:1\ttrain-rmse:0.012896\n",
      "[45]\ttrain-auc:1\ttrain-rmse:0.01235\n",
      "[46]\ttrain-auc:1\ttrain-rmse:0.011761\n",
      "[47]\ttrain-auc:1\ttrain-rmse:0.011303\n",
      "[48]\ttrain-auc:1\ttrain-rmse:0.010964\n",
      "[49]\ttrain-auc:1\ttrain-rmse:0.010711\n",
      "[50]\ttrain-auc:1\ttrain-rmse:0.010362\n",
      "[51]\ttrain-auc:1\ttrain-rmse:0.010146\n",
      "[52]\ttrain-auc:1\ttrain-rmse:0.009919\n",
      "[53]\ttrain-auc:1\ttrain-rmse:0.009615\n",
      "[54]\ttrain-auc:1\ttrain-rmse:0.009157\n",
      "[55]\ttrain-auc:1\ttrain-rmse:0.00871\n",
      "[56]\ttrain-auc:1\ttrain-rmse:0.008444\n",
      "[57]\ttrain-auc:1\ttrain-rmse:0.008122\n",
      "[58]\ttrain-auc:1\ttrain-rmse:0.007765\n",
      "[59]\ttrain-auc:1\ttrain-rmse:0.007557\n",
      "[60]\ttrain-auc:1\ttrain-rmse:0.007426\n",
      "[61]\ttrain-auc:1\ttrain-rmse:0.007112\n",
      "[62]\ttrain-auc:1\ttrain-rmse:0.007038\n",
      "[63]\ttrain-auc:1\ttrain-rmse:0.00674\n",
      "[64]\ttrain-auc:1\ttrain-rmse:0.006662\n",
      "[65]\ttrain-auc:1\ttrain-rmse:0.006565\n",
      "[66]\ttrain-auc:1\ttrain-rmse:0.006414\n",
      "[67]\ttrain-auc:1\ttrain-rmse:0.006188\n",
      "[68]\ttrain-auc:1\ttrain-rmse:0.00606\n",
      "[69]\ttrain-auc:1\ttrain-rmse:0.005813\n",
      "[70]\ttrain-auc:1\ttrain-rmse:0.005736\n",
      "[71]\ttrain-auc:1\ttrain-rmse:0.005606\n",
      "[72]\ttrain-auc:1\ttrain-rmse:0.005452\n",
      "[73]\ttrain-auc:1\ttrain-rmse:0.005314\n",
      "[74]\ttrain-auc:1\ttrain-rmse:0.005197\n",
      "[75]\ttrain-auc:1\ttrain-rmse:0.00502\n",
      "[76]\ttrain-auc:1\ttrain-rmse:0.004906\n",
      "[77]\ttrain-auc:1\ttrain-rmse:0.004788\n",
      "Working: 14\n",
      "[0]\ttrain-auc:0.560678+0.00901253\ttest-auc:0.545873+0.0163017\n",
      "[30]\ttrain-auc:0.99635+0.000386746\ttest-auc:0.882601+0.0180246\n",
      "[0]\ttrain-auc:0.823958\ttrain-rmse:0.359548\n",
      "[1]\ttrain-auc:0.852579\ttrain-rmse:0.26668\n",
      "[2]\ttrain-auc:0.863339\ttrain-rmse:0.203164\n",
      "[3]\ttrain-auc:0.899475\ttrain-rmse:0.159592\n",
      "[4]\ttrain-auc:0.906098\ttrain-rmse:0.130215\n",
      "[5]\ttrain-auc:0.90802\ttrain-rmse:0.111074\n",
      "[6]\ttrain-auc:0.916226\ttrain-rmse:0.099178\n",
      "[7]\ttrain-auc:0.918278\ttrain-rmse:0.09184\n",
      "[8]\ttrain-auc:0.921547\ttrain-rmse:0.087342\n",
      "[9]\ttrain-auc:0.930439\ttrain-rmse:0.084712\n",
      "[10]\ttrain-auc:0.930867\ttrain-rmse:0.082955\n",
      "[11]\ttrain-auc:0.940679\ttrain-rmse:0.081476\n",
      "[12]\ttrain-auc:0.948766\ttrain-rmse:0.080701\n",
      "[13]\ttrain-auc:0.955632\ttrain-rmse:0.07998\n",
      "[14]\ttrain-auc:0.962325\ttrain-rmse:0.079218\n",
      "[15]\ttrain-auc:0.965404\ttrain-rmse:0.078737\n",
      "[16]\ttrain-auc:0.97259\ttrain-rmse:0.077898\n",
      "[17]\ttrain-auc:0.97366\ttrain-rmse:0.077711\n",
      "[18]\ttrain-auc:0.975249\ttrain-rmse:0.0772\n",
      "[19]\ttrain-auc:0.978624\ttrain-rmse:0.076385\n",
      "[20]\ttrain-auc:0.980785\ttrain-rmse:0.075468\n",
      "[21]\ttrain-auc:0.981399\ttrain-rmse:0.075238\n",
      "[22]\ttrain-auc:0.982059\ttrain-rmse:0.074947\n",
      "[23]\ttrain-auc:0.982575\ttrain-rmse:0.074886\n",
      "[24]\ttrain-auc:0.985046\ttrain-rmse:0.073832\n",
      "[25]\ttrain-auc:0.985263\ttrain-rmse:0.073688\n",
      "[26]\ttrain-auc:0.986155\ttrain-rmse:0.073376\n",
      "[27]\ttrain-auc:0.988472\ttrain-rmse:0.07236\n",
      "[28]\ttrain-auc:0.990373\ttrain-rmse:0.071574\n",
      "[29]\ttrain-auc:0.991628\ttrain-rmse:0.070801\n",
      "[30]\ttrain-auc:0.991941\ttrain-rmse:0.070427\n",
      "[31]\ttrain-auc:0.992608\ttrain-rmse:0.069862\n",
      "[32]\ttrain-auc:0.993605\ttrain-rmse:0.068828\n",
      "Working: 15\n",
      "[0]\ttrain-auc:0.5043+0.00172272\ttest-auc:0.501262+0.00202447\n",
      "[30]\ttrain-auc:0.997035+0.000188625\ttest-auc:0.874733+0.0147029\n",
      "[0]\ttrain-auc:0.77776\ttrain-rmse:0.359906\n",
      "[1]\ttrain-auc:0.864932\ttrain-rmse:0.267422\n",
      "[2]\ttrain-auc:0.878522\ttrain-rmse:0.204252\n",
      "[3]\ttrain-auc:0.882444\ttrain-rmse:0.161153\n",
      "[4]\ttrain-auc:0.888694\ttrain-rmse:0.132408\n",
      "[5]\ttrain-auc:0.901912\ttrain-rmse:0.113943\n",
      "[6]\ttrain-auc:0.909558\ttrain-rmse:0.102284\n",
      "[7]\ttrain-auc:0.91488\ttrain-rmse:0.095332\n",
      "[8]\ttrain-auc:0.919398\ttrain-rmse:0.091405\n",
      "[9]\ttrain-auc:0.932045\ttrain-rmse:0.088737\n",
      "[10]\ttrain-auc:0.942398\ttrain-rmse:0.087197\n",
      "[11]\ttrain-auc:0.947721\ttrain-rmse:0.085999\n",
      "[12]\ttrain-auc:0.956461\ttrain-rmse:0.084908\n",
      "[13]\ttrain-auc:0.958622\ttrain-rmse:0.08434\n",
      "[14]\ttrain-auc:0.964026\ttrain-rmse:0.083797\n",
      "[15]\ttrain-auc:0.967355\ttrain-rmse:0.082999\n",
      "[16]\ttrain-auc:0.970285\ttrain-rmse:0.082497\n",
      "[17]\ttrain-auc:0.972224\ttrain-rmse:0.082019\n",
      "[18]\ttrain-auc:0.975654\ttrain-rmse:0.081679\n",
      "[19]\ttrain-auc:0.977861\ttrain-rmse:0.081526\n",
      "[20]\ttrain-auc:0.979329\ttrain-rmse:0.0812\n",
      "[21]\ttrain-auc:0.982813\ttrain-rmse:0.079603\n",
      "[22]\ttrain-auc:0.985174\ttrain-rmse:0.078537\n",
      "[23]\ttrain-auc:0.9865\ttrain-rmse:0.078074\n",
      "[24]\ttrain-auc:0.98736\ttrain-rmse:0.077643\n",
      "[25]\ttrain-auc:0.988468\ttrain-rmse:0.076327\n",
      "[26]\ttrain-auc:0.988933\ttrain-rmse:0.07602\n",
      "[27]\ttrain-auc:0.989546\ttrain-rmse:0.075086\n",
      "[28]\ttrain-auc:0.990826\ttrain-rmse:0.07329\n",
      "Working: 16\n",
      "[0]\ttrain-auc:0.5+0\ttest-auc:0.5+0\n",
      "[30]\ttrain-auc:0.999601+0.000440969\ttest-auc:0.806962+0.0261227\n",
      "[0]\ttrain-auc:0.5\ttrain-rmse:0.356009\n",
      "[1]\ttrain-auc:0.5\ttrain-rmse:0.259781\n",
      "[2]\ttrain-auc:0.5\ttrain-rmse:0.192554\n",
      "[3]\ttrain-auc:0.5\ttrain-rmse:0.145101\n",
      "[4]\ttrain-auc:0.714371\ttrain-rmse:0.111356\n",
      "[5]\ttrain-auc:0.714665\ttrain-rmse:0.087795\n",
      "[6]\ttrain-auc:0.776578\ttrain-rmse:0.071816\n",
      "[7]\ttrain-auc:0.77448\ttrain-rmse:0.061167\n",
      "[8]\ttrain-auc:0.879006\ttrain-rmse:0.054155\n",
      "[9]\ttrain-auc:0.926129\ttrain-rmse:0.049804\n",
      "[10]\ttrain-auc:0.937605\ttrain-rmse:0.046772\n",
      "[11]\ttrain-auc:0.954027\ttrain-rmse:0.045257\n",
      "[12]\ttrain-auc:0.957231\ttrain-rmse:0.043741\n",
      "[13]\ttrain-auc:0.971822\ttrain-rmse:0.042755\n",
      "[14]\ttrain-auc:0.974143\ttrain-rmse:0.042035\n",
      "[15]\ttrain-auc:0.974629\ttrain-rmse:0.041039\n",
      "[16]\ttrain-auc:0.97536\ttrain-rmse:0.040189\n",
      "[17]\ttrain-auc:0.980344\ttrain-rmse:0.039793\n",
      "[18]\ttrain-auc:0.986365\ttrain-rmse:0.039468\n",
      "[19]\ttrain-auc:0.989425\ttrain-rmse:0.039124\n",
      "[20]\ttrain-auc:0.990075\ttrain-rmse:0.038299\n",
      "[21]\ttrain-auc:0.992588\ttrain-rmse:0.037956\n"
     ]
    }
   ],
   "source": [
    "param = {\n",
    "         'objective':'reg:logistic', \n",
    "         #'num_class':17,\n",
    "         #'eta':0.05, \n",
    "         #'max_depth':9, 'subsample':0.8, 'colsample_bytree':0.8, \n",
    "         #'metrics':'rmse'\n",
    "         'eval_metric':['auc','rmse']\n",
    "        }\n",
    "param['silent']=True\n",
    "\n",
    "results, bstList = [], []\n",
    "for i in range(trY.shape[1]) :\n",
    "    print ('Working: {}'.format(i))\n",
    "    dtrain.set_label(trY[:,i])\n",
    "    history = xgb.cv(param, dtrain, metrics=['auc'], verbose_eval=30, num_boost_round=1000, nfold=3, early_stopping_rounds=20) #,stratified=True,maximize=True)\n",
    "    results.append(history)\n",
    "    rvalidCV = {}\n",
    "    watchlistCV  = [(dtrain,'train')]\n",
    "    bst = xgb.train(param, dtrain, history['test-auc-mean'].argmax()+1, watchlistCV) \n",
    "    bstList.append(bst)\n",
    "    "
   ]
  },
  {
   "cell_type": "code",
   "execution_count": 106,
   "metadata": {
    "collapsed": false,
    "deletable": true,
    "editable": true
   },
   "outputs": [],
   "source": []
  },
  {
   "cell_type": "code",
   "execution_count": 317,
   "metadata": {
    "collapsed": true,
    "deletable": true,
    "editable": true
   },
   "outputs": [],
   "source": [
    "# save xgb models into files\n",
    "for i in range(len(bstList)) :\n",
    "    bstList[i].save_model('../Work/Models/model-'+str(100+i)+'-'+str(binsData)+ttExt+'.xgb')"
   ]
  },
  {
   "cell_type": "code",
   "execution_count": null,
   "metadata": {
    "collapsed": true,
    "deletable": true,
    "editable": true
   },
   "outputs": [],
   "source": []
  },
  {
   "cell_type": "code",
   "execution_count": 318,
   "metadata": {
    "collapsed": false,
    "deletable": true,
    "editable": true
   },
   "outputs": [
    {
     "data": {
      "text/plain": [
       "17"
      ]
     },
     "execution_count": 318,
     "metadata": {},
     "output_type": "execute_result"
    }
   ],
   "source": [
    "# load xgb models into files\n",
    "bstNull = xgb.train(param,dtrain,0)\n",
    "bstList0= []\n",
    "for i in range(trY.shape[1]) :\n",
    "    bstList0.append(bstNull.copy())\n",
    "    bstList0[-1].load_model('../Work/Models/model-'+str(100+i)+'-'+str(binsData)+ttExt+'.xgb')\n",
    "bstList = bstList0\n",
    "del bstList0\n",
    "len(bstList)"
   ]
  },
  {
   "cell_type": "code",
   "execution_count": null,
   "metadata": {
    "collapsed": false,
    "deletable": true,
    "editable": true
   },
   "outputs": [],
   "source": []
  },
  {
   "cell_type": "code",
   "execution_count": 319,
   "metadata": {
    "collapsed": false,
    "deletable": true,
    "editable": true
   },
   "outputs": [],
   "source": [
    "#[(x['test-rmse-mean'].min(),x['test-rmse-mean'].argmin()) for x in results]"
   ]
  },
  {
   "cell_type": "code",
   "execution_count": 320,
   "metadata": {
    "collapsed": false,
    "deletable": true,
    "editable": true
   },
   "outputs": [],
   "source": [
    "#[(x['test-rmse-mean'].min(),x['test-rmse-mean'].argmin()) for x in results]"
   ]
  },
  {
   "cell_type": "code",
   "execution_count": 161,
   "metadata": {
    "collapsed": false,
    "deletable": true,
    "editable": true
   },
   "outputs": [
    {
     "data": {
      "text/plain": [
       "[(0.95933766666666676, 51),\n",
       " (0.97132033333333334, 70),\n",
       " (0.92636800000000008, 84),\n",
       " (0.97527066666666673, 52),\n",
       " (0.82370966666666667, 91),\n",
       " (0.93564866666666668, 41),\n",
       " (0.91020533333333331, 58),\n",
       " (0.84959400000000007, 84),\n",
       " (0.84758433333333338, 38),\n",
       " (0.98782933333333334, 197),\n",
       " (0.9787530000000001, 214),\n",
       " (0.95955733333333326, 49),\n",
       " (0.86465266666666662, 54),\n",
       " (0.98490033333333338, 55),\n",
       " (0.88952866666666663, 32),\n",
       " (0.87565166666666672, 27),\n",
       " (0.81941499999999989, 40)]"
      ]
     },
     "execution_count": 161,
     "metadata": {},
     "output_type": "execute_result"
    }
   ],
   "source": [
    "[(x['test-auc-mean'].max(),x['test-auc-mean'].argmax()) for x in results] # 50"
   ]
  },
  {
   "cell_type": "code",
   "execution_count": 208,
   "metadata": {
    "collapsed": false,
    "deletable": true,
    "editable": true
   },
   "outputs": [
    {
     "data": {
      "text/plain": [
       "[(0.95963833333333337, 30),\n",
       " (0.97144833333333336, 73),\n",
       " (0.92635233333333333, 109),\n",
       " (0.97506933333333334, 130),\n",
       " (0.82618333333333327, 151),\n",
       " (0.93428500000000003, 56),\n",
       " (0.91021033333333345, 56),\n",
       " (0.84739166666666665, 74),\n",
       " (0.84609366666666663, 31),\n",
       " (0.98742033333333323, 82),\n",
       " (0.97728066666666669, 190),\n",
       " (0.957928, 27),\n",
       " (0.86184966666666674, 40),\n",
       " (0.98402533333333331, 56),\n",
       " (0.88504333333333329, 28),\n",
       " (0.87253733333333328, 39),\n",
       " (0.83189766666666676, 36)]"
      ]
     },
     "execution_count": 208,
     "metadata": {},
     "output_type": "execute_result"
    }
   ],
   "source": [
    "[(x['test-auc-mean'].max(),x['test-auc-mean'].argmax()) for x in results] # 75"
   ]
  },
  {
   "cell_type": "code",
   "execution_count": 233,
   "metadata": {
    "collapsed": false,
    "deletable": true,
    "editable": true
   },
   "outputs": [
    {
     "data": {
      "text/plain": [
       "[(0.95898666666666665, 42),\n",
       " (0.97181966666666675, 152),\n",
       " (0.9253096666666667, 73),\n",
       " (0.97478400000000009, 114),\n",
       " (0.82098633333333326, 109),\n",
       " (0.92782300000000006, 36),\n",
       " (0.9083026666666667, 54),\n",
       " (0.8458106666666666, 37),\n",
       " (0.85382900000000006, 57),\n",
       " (0.98749666666666658, 226),\n",
       " (0.97769933333333336, 158),\n",
       " (0.95703633333333338, 26),\n",
       " (0.86158199999999996, 33),\n",
       " (0.98312966666666668, 57),\n",
       " (0.88108266666666657, 39),\n",
       " (0.87651833333333329, 58),\n",
       " (0.8118953333333333, 43)]"
      ]
     },
     "execution_count": 233,
     "metadata": {},
     "output_type": "execute_result"
    }
   ],
   "source": [
    "[(x['test-auc-mean'].max(),x['test-auc-mean'].argmax()) for x in results] # 255"
   ]
  },
  {
   "cell_type": "code",
   "execution_count": 107,
   "metadata": {
    "collapsed": false,
    "deletable": true,
    "editable": true
   },
   "outputs": [
    {
     "data": {
      "text/plain": [
       "[(0.95948733333333325, 32),\n",
       " (0.97256966666666667, 164),\n",
       " (0.92552966666666669, 47),\n",
       " (0.97550900000000007, 75),\n",
       " (0.82574866666666669, 133),\n",
       " (0.93550366666666684, 40),\n",
       " (0.91033400000000009, 44),\n",
       " (0.84866999999999992, 75),\n",
       " (0.85204333333333337, 23),\n",
       " (0.98744266666666658, 125),\n",
       " (0.97777599999999998, 123),\n",
       " (0.9568983333333333, 64),\n",
       " (0.86091600000000001, 25),\n",
       " (0.98515599999999992, 77),\n",
       " (0.88546999999999987, 32),\n",
       " (0.87672866666666671, 28),\n",
       " (0.82038299999999997, 21)]"
      ]
     },
     "execution_count": 107,
     "metadata": {},
     "output_type": "execute_result"
    }
   ],
   "source": [
    "[(x['test-auc-mean'].max(),x['test-auc-mean'].argmax()) for x in results] # 64"
   ]
  },
  {
   "cell_type": "code",
   "execution_count": null,
   "metadata": {
    "collapsed": true,
    "deletable": true,
    "editable": true
   },
   "outputs": [],
   "source": []
  },
  {
   "cell_type": "code",
   "execution_count": 321,
   "metadata": {
    "collapsed": false,
    "deletable": true,
    "editable": true
   },
   "outputs": [
    {
     "data": {
      "text/plain": [
       "(numpy.ndarray, (40479, 17))"
      ]
     },
     "execution_count": 321,
     "metadata": {},
     "output_type": "execute_result"
    }
   ],
   "source": [
    "trYP = []\n",
    "for bstI in bstList :\n",
    "    trYP1 = bstI.predict(dtrain);\n",
    "    trYP.append(trYP1)\n",
    "trYP = np.array(trYP).T\n",
    "type(trYP),trYP.shape"
   ]
  },
  {
   "cell_type": "code",
   "execution_count": 322,
   "metadata": {
    "collapsed": true,
    "deletable": true,
    "editable": true
   },
   "outputs": [],
   "source": [
    "trYPP= trYP.copy() # вероятностный массив\n",
    "trYP[trYP<0.5] = 0\n",
    "trYP[trYP!=0]  = 1"
   ]
  },
  {
   "cell_type": "code",
   "execution_count": 323,
   "metadata": {
    "collapsed": false,
    "deletable": true,
    "editable": true
   },
   "outputs": [
    {
     "name": "stdout",
     "output_type": "stream",
     "text": [
      "#0 accuracy=0.969169198844 precision=0.839344262295 recall=0.664441972562 ros_auc=0.827681787721 fbeta2=0.693337460342 not=1248\n",
      "#1 accuracy=0.997776624917 precision=0.9985877588 recall=0.999013675259 ros_auc=0.990572245586 fbeta2=0.998928462904 not=90\n",
      "#2 accuracy=0.910447392475 precision=0.877432244614 recall=0.820219244823 ros_auc=0.885059913564 fbeta2=0.831057065754 not=3625\n",
      "#3 accuracy=0.972677190642 precision=0.974507692842 recall=0.986915690619 ros_auc=0.962996357926 fbeta2=0.984408877537 not=1106\n",
      "#4 accuracy=0.927690901455 precision=0.972397808681 recall=0.622722979355 ros_auc=0.809380722773 fbeta2=0.670979936028 not=2927\n",
      "#5 accuracy=0.960399219348 precision=0.889141127507 recall=0.642076502732 ros_auc=0.817059327441 fbeta2=0.679858820807 not=1603\n",
      "#6 accuracy=0.913090738408 precision=0.834042553191 recall=0.704249783174 ros_auc=0.834675496376 fbeta2=0.726872810046 not=3518\n",
      "#7 accuracy=0.93441043504 precision=0.910730387737 recall=0.45119499665 ros_auc=0.722847651094 fbeta2=0.501838417967 not=2655\n",
      "#8 accuracy=0.995207391487 precision=1.0 recall=0.0717703349282 ros_auc=0.535885167464 fbeta2=0.0881316098707 not=194\n",
      "#9 accuracy=0.999061241631 precision=0.99043519847 recall=0.991383437051 ros_auc=0.995431234024 fbeta2=0.991193644108 not=38\n",
      "#10 accuracy=0.994243928951 precision=0.989824365765 recall=0.977964467704 ros_auc=0.987883431998 fbeta2=0.980313656193 not=233\n",
      "#11 accuracy=1.0 precision=1.0 recall=1.0 ros_auc=1.0 fbeta2=1.0 not=0\n",
      "#12 accuracy=0.983744657724 precision=0.981132075472 recall=0.241299303944 ros_auc=0.620599168594 fbeta2=0.284153005464 not=658\n",
      "#13 accuracy=1.0 precision=1.0 recall=1.0 ros_auc=1.0 fbeta2=1.0 not=0\n",
      "#14 accuracy=0.993478099755 precision=1.0 recall=0.204819277108 ros_auc=0.602409638554 fbeta2=0.243553008596 not=264\n",
      "#15 accuracy=0.992514637219 precision=0.974358974359 recall=0.111764705882 ros_auc=0.555869896228 fbeta2=0.135811293781 not=303\n",
      "#16 accuracy=0.998122483263 precision=1.0 recall=0.224489795918 ros_auc=0.612244897959 fbeta2=0.265700483092 not=76\n"
     ]
    }
   ],
   "source": [
    "for i in range(trYP.shape[1]) :\n",
    "    print ('#{} accuracy={} precision={} recall={} ros_auc={} fbeta2={} not={}'.format(i, \n",
    "                                           skm.accuracy_score(trY[:,i],trYP[:,i]), \n",
    "                                           skm.precision_score(trY[:,i],trYP[:,i]), \n",
    "                                           skm.recall_score(trY[:,i],trYP[:,i]), \n",
    "                                           skm.roc_auc_score(trY[:,i],trYP[:,i]), \n",
    "                                           skm.fbeta_score(trY[:,i],trYP[:,i],beta=2),\n",
    "                                           len(trYP[trYP[:,i]<>trY[:,i],i])))\n",
    "    #print (skm.confusion_matrix(trY[:,i],trYP[:,i]))\n",
    "    #fpr,tpr,thr = skm.roc_curve(trY[:,i],trYP[:,i]); print (len(thr),len(fpr),len(trYP[:,i]))\n",
    "    #plt.plot(fpr,tpr); plt.show()"
   ]
  },
  {
   "cell_type": "code",
   "execution_count": 324,
   "metadata": {
    "collapsed": false,
    "deletable": true,
    "editable": true
   },
   "outputs": [
    {
     "name": "stdout",
     "output_type": "stream",
     "text": [
      "['haze', 'primary', 'agriculture', 'clear', 'water', 'habitation', 'road', 'cultivation', 'slash_burn', 'cloudy', 'partly_cloudy', 'conventional_mine', 'bare_ground', 'artisinal_mine', 'blooming', 'selective_logging', 'blow_down']\n"
     ]
    },
    {
     "data": {
      "text/plain": [
       "((1172, 17), [3, 10, 0, 9], 0.9691829024372176, 0.9710595846605922)"
      ]
     },
     "execution_count": 324,
     "metadata": {},
     "output_type": "execute_result"
    }
   ],
   "source": [
    "wr = [labels.index(i) for i in weather_labels]; wr\n",
    "print(labels)\n",
    "trYPP[trYPP[:,wr].argmax(axis=1)<>trY[:,wr].argmax(axis=1)].shape, wr, (40497.0-1248)/40497.0, (40497.0-1172)/40497.0"
   ]
  },
  {
   "cell_type": "code",
   "execution_count": 342,
   "metadata": {
    "collapsed": false,
    "deletable": true,
    "editable": true
   },
   "outputs": [
    {
     "name": "stderr",
     "output_type": "stream",
     "text": [
      "/home/boba/anaconda2/envs/tensorflow-gpu/lib/python2.7/site-packages/ipykernel/__main__.py:1: VisibleDeprecationWarning: boolean index did not match indexed array along dimension 0; dimension is 40479 but corresponding boolean dimension is 17\n",
      "  if __name__ == '__main__':\n"
     ]
    },
    {
     "data": {
      "text/plain": [
       "(3, 17)"
      ]
     },
     "execution_count": 342,
     "metadata": {},
     "output_type": "execute_result"
    }
   ],
   "source": [
    "trY[trYP[10]==1].shape"
   ]
  },
  {
   "cell_type": "code",
   "execution_count": 325,
   "metadata": {
    "collapsed": false,
    "deletable": true,
    "editable": true
   },
   "outputs": [],
   "source": [
    "# Построение важности полей для разных признаков (importance)\n",
    "bstga   = np.zeros((trX.shape[1],trY.shape[1]))\n",
    "for i in range(len(bstList)) :\n",
    "    bstgfs = bstList[i].get_fscore()\n",
    "    bstgfs = [(int(n.split('f')[1]),bstgfs[n]) for n in bstgfs.keys()]\n",
    "    bstga1 = np.array(bstgfs)\n",
    "    bstga[bstga1[:,0],i] = bstga1[:,1]\n",
    "\n",
    "\n",
    "if False :\n",
    "    #bstgfs.sort(key=lambda x: -x[1])\n",
    "    #bstgfs[:20]\n",
    "    plt.hist([nn for n,nn in bstgfs],bins=11); plt.show()\n",
    "    bst_gfs_main = [(n,nn) for n,nn in bstgfs if nn>=20]\n",
    "    bst_gfs_main.sort(key=lambda x: x[0])\n",
    "    bst_gfs_main\n",
    "    bstga[:,6]"
   ]
  },
  {
   "cell_type": "code",
   "execution_count": 326,
   "metadata": {
    "collapsed": false,
    "deletable": true,
    "editable": true
   },
   "outputs": [
    {
     "data": {
      "image/png": "[encoded data removed]",
      "text/plain": [
       "<matplotlib.figure.Figure at 0x7fcc6c7a2650>"
      ]
     },
     "metadata": {},
     "output_type": "display_data"
    },
    {
     "data": {
      "text/plain": [
       "['haze',\n",
       " 'agriculture',\n",
       " 'clear',\n",
       " 'water',\n",
       " 'habitation',\n",
       " 'road',\n",
       " 'cultivation',\n",
       " 'bare_ground']"
      ]
     },
     "execution_count": 326,
     "metadata": {},
     "output_type": "execute_result"
    }
   ],
   "source": [
    "xx = [0]+range(2,8)+[12] # плохие 600-4000\n",
    "plt.plot(bstga[:,xx]); \n",
    "#plt.legenda([labels[x] for x in xx])\n",
    "plt.show();\n",
    "[labels[x] for x in xx]\n"
   ]
  },
  {
   "cell_type": "code",
   "execution_count": 327,
   "metadata": {
    "collapsed": false,
    "deletable": true,
    "editable": true
   },
   "outputs": [
    {
     "data": {
      "image/png": "[encoded data removed]",
      "text/plain": [
       "<matplotlib.figure.Figure at 0x7fcc6c7a2690>"
      ]
     },
     "metadata": {},
     "output_type": "display_data"
    },
    {
     "data": {
      "text/plain": [
       "['slash_burn', 'partly_cloudy', 'blooming', 'selective_logging']"
      ]
     },
     "execution_count": 327,
     "metadata": {},
     "output_type": "execute_result"
    }
   ],
   "source": [
    "xx = [8,10,14,15] # среднии 100-400\n",
    "plt.plot(bstga[:,xx]); \n",
    "#plt.legenda([labels[x] for x in xx])\n",
    "plt.show();\n",
    "[labels[x] for x in xx]\n"
   ]
  },
  {
   "cell_type": "code",
   "execution_count": 328,
   "metadata": {
    "collapsed": false,
    "deletable": true,
    "editable": true
   },
   "outputs": [
    {
     "data": {
      "image/png": "[encoded data removed]",
      "text/plain": [
       "<matplotlib.figure.Figure at 0x7fcc6c6cbb90>"
      ]
     },
     "metadata": {},
     "output_type": "display_data"
    },
    {
     "data": {
      "text/plain": [
       "['primary', 'cloudy', 'conventional_mine', 'artisinal_mine', 'blow_down']"
      ]
     },
     "execution_count": 328,
     "metadata": {},
     "output_type": "execute_result"
    }
   ],
   "source": [
    "xx = [1,9,11,13,16] # отличные 0-100\n",
    "plt.plot(bstga[:,xx]); plt.show();\n",
    "[labels[x] for x in xx]"
   ]
  },
  {
   "cell_type": "code",
   "execution_count": null,
   "metadata": {
    "collapsed": true,
    "deletable": true,
    "editable": true
   },
   "outputs": [],
   "source": []
  },
  {
   "cell_type": "code",
   "execution_count": null,
   "metadata": {
    "collapsed": false,
    "deletable": true,
    "editable": true
   },
   "outputs": [],
   "source": []
  },
  {
   "cell_type": "code",
   "execution_count": null,
   "metadata": {
    "collapsed": true,
    "deletable": true,
    "editable": true
   },
   "outputs": [],
   "source": []
  },
  {
   "cell_type": "code",
   "execution_count": 329,
   "metadata": {
    "collapsed": false,
    "deletable": true,
    "editable": true
   },
   "outputs": [],
   "source": [
    "# Попытка посчитать уровень прохождения для каждого признака"
   ]
  },
  {
   "cell_type": "code",
   "execution_count": 343,
   "metadata": {
    "collapsed": false,
    "deletable": true,
    "editable": true
   },
   "outputs": [
    {
     "data": {
      "text/plain": [
       "[48.0,\n",
       " 55.0,\n",
       " 43.0,\n",
       " 51.0,\n",
       " 33.0,\n",
       " 38.0,\n",
       " 44.0,\n",
       " 36.0,\n",
       " 13.0,\n",
       " 47.0,\n",
       " 45.0,\n",
       " 8.0,\n",
       " 24.0,\n",
       " 11.0,\n",
       " 22.0,\n",
       " 19.0,\n",
       " 15.0]"
      ]
     },
     "execution_count": 343,
     "metadata": {},
     "output_type": "execute_result"
    }
   ],
   "source": [
    "ixx,iacc = [], []\n",
    "for i in range(trY.shape[1]) :\n",
    "    max, maxxx = 0.0, 0.0\n",
    "    for xx in range(0,101) :\n",
    "        tempYP = trYPP[:,i].copy(); #print(tempYP.mean())\n",
    "        tempYP[tempYP<float(xx/100.0)] = 0\n",
    "        tempYP[tempYP>0.0]   = 1\n",
    "        temp = skm.accuracy_score(trY[:,i],tempYP)\n",
    "        #print(float(xx/10.0),temp)\n",
    "        if (temp>max) : \n",
    "            max = temp; maxxx = float(xx)\n",
    "            temp = skm.confusion_matrix(trY[:,i],tempYP);\n",
    "            minloss = temp[0][1]+temp[1][0]\n",
    "    ixx.append(maxxx)\n",
    "    tempYP = trYPP[:,i].copy(); #print(tempYP.mean())\n",
    "    tempYP[tempYP<0.5]   = 0\n",
    "    tempYP[tempYP>0.0]   = 1\n",
    "    temp = skm.accuracy_score(trY[:,i],tempYP)\n",
    "    minloss05 = skm.confusion_matrix(trY[:,i],tempYP);\n",
    "    minloss05 = minloss05[0][1]+minloss05[1][0]\n",
    "    iacc.append((maxxx,max,temp,minloss,minloss05))\n",
    "ixx\n",
    "#[ixx[xx] for xx in wr]"
   ]
  },
  {
   "cell_type": "code",
   "execution_count": 303,
   "metadata": {
    "collapsed": false,
    "deletable": true,
    "editable": true
   },
   "outputs": [
    {
     "data": {
      "text/plain": [
       "[(48.0, 0.9697126905308926, 0.969169198843845, 1226, 1248),\n",
       " (55.0, 0.99802366659255415, 0.99777662491662344, 80, 90),\n",
       " (43.0, 0.91138615084364727, 0.91044739247511053, 3587, 3625),\n",
       " (51.0, 0.97280071148002667, 0.97267719064206126, 1101, 1106),\n",
       " (33.0, 0.94663899799896245, 0.92769090145507549, 2160, 2927),\n",
       " (38.0, 0.9629684527779836, 0.96039921934830408, 1499, 1603),\n",
       " (44.0, 0.91649991353541338, 0.91309073840756938, 3380, 3518),\n",
       " (36.0, 0.94456384792114434, 0.93441043504039134, 2244, 2655),\n",
       " (13.0, 0.99735665406754115, 0.99520739148694382, 107, 194),\n",
       " (47.0, 0.9990859457990563, 0.99906124163146326, 37, 38),\n",
       " (45.0, 0.99498505397860615, 0.99424392895081404, 203, 233),\n",
       " (8.0, 1.0, 1.0, 0, 0),\n",
       " (24.0, 0.98767262037105663, 0.98374465772375796, 499, 658),\n",
       " (11.0, 1.0, 1.0, 0, 0),\n",
       " (22.0, 0.99528150398972304, 0.99347809975542878, 191, 264),\n",
       " (19.0, 0.99488623730823389, 0.99251463721929889, 207, 303),\n",
       " (15.0, 0.99891301662590481, 0.99812248326292641, 44, 76)]"
      ]
     },
     "execution_count": 303,
     "metadata": {},
     "output_type": "execute_result"
    }
   ],
   "source": [
    "iacc"
   ]
  },
  {
   "cell_type": "code",
   "execution_count": null,
   "metadata": {
    "collapsed": true,
    "deletable": true,
    "editable": true
   },
   "outputs": [],
   "source": []
  },
  {
   "cell_type": "code",
   "execution_count": null,
   "metadata": {
    "collapsed": true,
    "deletable": true,
    "editable": true
   },
   "outputs": [],
   "source": []
  },
  {
   "cell_type": "code",
   "execution_count": 255,
   "metadata": {
    "collapsed": false,
    "deletable": true,
    "editable": true
   },
   "outputs": [],
   "source": [
    "# Forming output dataset for predicting --> trOX, trOY\n",
    "del(trX)\n",
    "del(trY)"
   ]
  },
  {
   "cell_type": "code",
   "execution_count": 161,
   "metadata": {
    "collapsed": false,
    "deletable": true,
    "editable": true
   },
   "outputs": [
    {
     "name": "stdout",
     "output_type": "stream",
     "text": [
      "61191\n",
      "2017-07-01 20:47:21.884336 61191 61191\n",
      "2017-07-01 20:47:53.862517 \t 5000 \t test_14523.jpg\n",
      "2017-07-01 20:48:25.948430 \t 10000 \t test_19029.jpg\n",
      "2017-07-01 20:48:57.941539 \t 15000 \t test_23524.jpg\n",
      "2017-07-01 20:49:29.779308 \t 20000 \t test_28015.jpg\n",
      "2017-07-01 20:50:01.721100 \t 25000 \t test_32520.jpg\n",
      "2017-07-01 20:50:33.888909 \t 30000 \t test_37026.jpg\n",
      "2017-07-01 20:51:05.523243 \t 35000 \t test_4908.jpg\n",
      "2017-07-01 20:51:37.131241 \t 40000 \t test_9402.jpg\n",
      "2017-07-01 20:52:09.258949 \t 45000 \t file_13913.jpg\n",
      "2017-07-01 20:52:41.639687 \t 50000 \t file_18419.jpg\n",
      "2017-07-01 20:53:14.179937 \t 55000 \t file_4564.jpg\n",
      "2017-07-01 20:53:46.850718 \t 60000 \t file_892.jpg\n",
      "2017-07-01 20:53:54.635072\n"
     ]
    }
   ],
   "source": [
    "nameAsk = os.listdir(teDirI); print(len(nameAsk))\n",
    "trOX, trOY, i, size = [], [], 0, len(nameAsk)\n",
    "print(datetime.datetime.now(),len(nameAsk),size)\n",
    "for nn in nameAsk[0:size] :\n",
    "    nf = os.path.join(teDirI,nn);\n",
    "    nx = formImHist(nf,binsData) #,printOK=True)\n",
    "    if (nx is not None) :\n",
    "        trOX.append(nx)\n",
    "        trOY.append(nn)\n",
    "    i += 1\n",
    "    if (i%5000==0) : print(datetime.datetime.now(),\"\\t\",i,\"\\t\",nn)\n",
    "\n",
    "print(datetime.datetime.now())\n",
    "\n",
    "#assert (size!=len(trOY)), \"Wrong files {} != {}\".format(size,len(trOY))"
   ]
  },
  {
   "cell_type": "code",
   "execution_count": 162,
   "metadata": {
    "collapsed": false,
    "deletable": true,
    "editable": true
   },
   "outputs": [
    {
     "name": "stdout",
     "output_type": "stream",
     "text": [
      "61191 (61191, 192) (61191,)\n"
     ]
    }
   ],
   "source": [
    "trOX = np.array(trOX);\n",
    "trOY = np.array([os.path.splitext(x)[0] for x in trOY]);\n",
    "print(len(nameAsk),trOX.shape,trOY.shape)"
   ]
  },
  {
   "cell_type": "code",
   "execution_count": 163,
   "metadata": {
    "collapsed": false,
    "deletable": true,
    "editable": true
   },
   "outputs": [],
   "source": [
    "#trOX[20],trOY[20]"
   ]
  },
  {
   "cell_type": "code",
   "execution_count": 164,
   "metadata": {
    "collapsed": true,
    "deletable": true,
    "editable": true
   },
   "outputs": [],
   "source": [
    "# Saving & Loading"
   ]
  },
  {
   "cell_type": "code",
   "execution_count": 330,
   "metadata": {
    "collapsed": false,
    "deletable": true,
    "editable": true
   },
   "outputs": [],
   "source": [
    "np.save('../Work/test-data-XX'+str(binsData)+ttExt+'.npy',trOX)\n",
    "np.save('../Work/test-data-YY'+str(binsData)+ttExt+'.npy',trOY)"
   ]
  },
  {
   "cell_type": "code",
   "execution_count": 331,
   "metadata": {
    "collapsed": false,
    "deletable": true,
    "editable": true
   },
   "outputs": [
    {
     "name": "stdout",
     "output_type": "stream",
     "text": [
      "(61191, 192) (61191,)\n"
     ]
    }
   ],
   "source": [
    "trOX = np.load('../Work/test-data-XX'+str(binsData)+ttExt+'.npy')\n",
    "trOY = np.load('../Work/test-data-YY'+str(binsData)+ttExt+'.npy')\n",
    "print(trOX.shape,trOY.shape)"
   ]
  },
  {
   "cell_type": "code",
   "execution_count": null,
   "metadata": {
    "collapsed": false,
    "deletable": true,
    "editable": true
   },
   "outputs": [],
   "source": []
  },
  {
   "cell_type": "code",
   "execution_count": 332,
   "metadata": {
    "collapsed": false,
    "deletable": true,
    "editable": true
   },
   "outputs": [],
   "source": [
    "# Формирование результата\n",
    "dtest  = xgb.DMatrix(trOX)"
   ]
  },
  {
   "cell_type": "code",
   "execution_count": 168,
   "metadata": {
    "collapsed": false,
    "deletable": true,
    "editable": true
   },
   "outputs": [
    {
     "data": {
      "text/plain": [
       "(numpy.ndarray, (61191, 17))"
      ]
     },
     "execution_count": 168,
     "metadata": {},
     "output_type": "execute_result"
    }
   ],
   "source": [
    "trP = []\n",
    "for bstI in bstList :\n",
    "    trP1 = bstI.predict(dtest);\n",
    "    trP.append(trP1)\n",
    "trP = np.array(trP).T\n",
    "type(trP),trP.shape    "
   ]
  },
  {
   "cell_type": "code",
   "execution_count": 333,
   "metadata": {
    "collapsed": true,
    "deletable": true,
    "editable": true
   },
   "outputs": [],
   "source": [
    "np.save('../Work/test-data-RR'+str(binsData)+ttExt+'.npy',trP)"
   ]
  },
  {
   "cell_type": "code",
   "execution_count": 335,
   "metadata": {
    "collapsed": false,
    "deletable": true,
    "editable": true
   },
   "outputs": [
    {
     "data": {
      "text/plain": [
       "(61191, 17)"
      ]
     },
     "execution_count": 335,
     "metadata": {},
     "output_type": "execute_result"
    }
   ],
   "source": [
    "trP = np.load('../Work/test-data-RR'+str(binsData)+ttExt+'.npy')\n",
    "trP.shape"
   ]
  },
  {
   "cell_type": "code",
   "execution_count": 347,
   "metadata": {
    "collapsed": false,
    "deletable": true,
    "editable": true
   },
   "outputs": [
    {
     "name": "stdout",
     "output_type": "stream",
     "text": [
      "[3, 10, 0, 9] \n",
      " ['haze', 'primary', 'agriculture', 'clear', 'water', 'habitation', 'road', 'cultivation', 'slash_burn', 'cloudy', 'partly_cloudy', 'conventional_mine', 'bare_ground', 'artisinal_mine', 'blooming', 'selective_logging', 'blow_down'] \n",
      " [2.0, 0.55, 0.43, 2.0, 0.33, 0.38, 0.44, 0.36, 0.13, 2.0, 2.0, 0.08, 0.24, 0.11, 0.22, 0.19, 0.15]\n"
     ]
    }
   ],
   "source": [
    "wr = [labels.index(i) for i in weather_labels];\n",
    "trM=np.array(ixx)/100.0 #np.array([0.5]*17);\n",
    "trM[np.array(wr)] = 2.0\n",
    "print(wr,'\\n',labels,'\\n',trM.tolist())"
   ]
  },
  {
   "cell_type": "code",
   "execution_count": null,
   "metadata": {
    "collapsed": true,
    "deletable": true,
    "editable": true
   },
   "outputs": [],
   "source": []
  },
  {
   "cell_type": "code",
   "execution_count": 348,
   "metadata": {
    "collapsed": false,
    "deletable": true,
    "editable": true
   },
   "outputs": [
    {
     "name": "stdout",
     "output_type": "stream",
     "text": [
      "['test_0', 'clear primary'] \n",
      " ['file_20521', 'clear primary'] \n",
      " [ 2.    0.55  0.43  2.    0.33  0.38  0.44  0.36  0.13  2.    2.    0.08\n",
      "  0.24  0.11  0.22  0.19  0.15] [  1.57139763e-01   3.01353872e-01   2.01446507e-02   3.16485375e-01\n",
      "   2.68007100e-01   6.53496664e-03   5.89302089e-03   6.86511572e-04\n",
      "   5.82037319e-04   6.29848003e-01   7.32790621e-04   6.97506948e-06\n",
      "   1.98554508e-02   7.29864178e-06   2.15446373e-04   2.99227249e-04\n",
      "   6.87710242e-04]\n"
     ]
    }
   ],
   "source": [
    "#trP = model.predict(trX, batch_size=512); trP=K.get_value(trP)\n",
    "res = []\n",
    "\n",
    "for i in range(trP.shape[0]) :\n",
    "    trA1 = [weather_labels[trP[i,wr].argmax()]]\n",
    "    trA2 = [labels[ii] for ii in range(len(labels)) if (trP[i,ii]>trM[ii])]\n",
    "    trPP = trA1 + trA2;\n",
    "    pp   = ' '.join(trPP)\n",
    "    ##if (pp==\"\") : print(trY[i])\n",
    "    res.append([trOY[i],pp])\n",
    "\n",
    "res.sort(cmp=lambda x,y: cmp(int(x[0].partition('_')[2]),int(y[0].partition('_')[2])) if (x[0].partition('_')[0]==y[0].partition('_')[0]) else cmp(y[0].partition('_')[0],x[0].partition('_')[0]))\n",
    "#print(res[4:8],'\\n',res[-4:])\n",
    "print(res[0],'\\n',res[-1],'\\n',trM,trP[0])"
   ]
  },
  {
   "cell_type": "code",
   "execution_count": null,
   "metadata": {
    "collapsed": true,
    "deletable": true,
    "editable": true
   },
   "outputs": [],
   "source": []
  },
  {
   "cell_type": "code",
   "execution_count": 349,
   "metadata": {
    "collapsed": false,
    "deletable": true,
    "editable": true
   },
   "outputs": [
    {
     "name": "stdout",
     "output_type": "stream",
     "text": [
      "['haze', 'primary', 'agriculture', 'clear', 'water', 'habitation', 'road', 'cultivation', 'slash_burn', 'cloudy', 'partly_cloudy', 'conventional_mine', 'bare_ground', 'artisinal_mine', 'blooming', 'selective_logging', 'blow_down']\n",
      "[2.0, 0.55, 0.43, 2.0, 0.33, 0.38, 0.44, 0.36, 0.13, 2.0, 2.0, 0.08, 0.24, 0.11, 0.22, 0.19, 0.15]\n"
     ]
    },
    {
     "data": {
      "text/plain": [
       "array([[ 0.,  1.,  0.,  1.,  0.,  0.,  0.,  0.,  0.,  0.,  0.,  0.,  0.,\n",
       "         0.,  0.,  0.,  0.],\n",
       "       [ 0.,  1.,  0.,  0.,  0.,  0.,  0.,  0.,  0.,  0.,  1.,  0.,  0.,\n",
       "         0.,  0.,  0.,  0.],\n",
       "       [ 0.,  1.,  1.,  1.,  1.,  0.,  1.,  0.,  0.,  0.,  0.,  0.,  0.,\n",
       "         0.,  0.,  0.,  0.],\n",
       "       [ 0.,  1.,  0.,  1.,  0.,  0.,  0.,  0.,  0.,  0.,  0.,  0.,  0.,\n",
       "         0.,  0.,  0.,  0.],\n",
       "       [ 0.,  1.,  0.,  1.,  0.,  0.,  0.,  0.,  0.,  0.,  0.,  0.,  0.,\n",
       "         0.,  0.,  0.,  0.],\n",
       "       [ 0.,  1.,  0.,  0.,  0.,  0.,  0.,  0.,  0.,  0.,  1.,  0.,  0.,\n",
       "         0.,  0.,  0.,  0.],\n",
       "       [ 0.,  0.,  0.,  0.,  0.,  0.,  0.,  0.,  0.,  1.,  0.,  0.,  0.,\n",
       "         0.,  0.,  0.,  0.]], dtype=float32)"
      ]
     },
     "execution_count": 349,
     "metadata": {},
     "output_type": "execute_result"
    }
   ],
   "source": [
    "print(labels)\n",
    "print(trM.tolist())\n",
    "np.round(trP[4:11,:])"
   ]
  },
  {
   "cell_type": "code",
   "execution_count": 350,
   "metadata": {
    "collapsed": false,
    "deletable": true,
    "editable": true
   },
   "outputs": [
    {
     "name": "stdout",
     "output_type": "stream",
     "text": [
      "2017-07-01-23-12-34\n"
     ]
    }
   ],
   "source": [
    "rrr=pd.DataFrame(res,columns=['image_name','tags']); rrr.head(); \n",
    "suffixDT = (datetime.datetime.now()).strftime('%Y-%m-%d-%H-%M-%S'); print(suffixDT)\n",
    "rrr.to_csv('../Result/vss'+suffixDT+'.csv',index=False);"
   ]
  },
  {
   "cell_type": "code",
   "execution_count": null,
   "metadata": {
    "collapsed": true,
    "deletable": true,
    "editable": true
   },
   "outputs": [],
   "source": []
  },
  {
   "cell_type": "code",
   "execution_count": null,
   "metadata": {
    "collapsed": false,
    "deletable": true,
    "editable": true
   },
   "outputs": [],
   "source": []
  },
  {
   "cell_type": "code",
   "execution_count": null,
   "metadata": {
    "collapsed": true,
    "deletable": true,
    "editable": true
   },
   "outputs": [],
   "source": []
  },
  {
   "cell_type": "code",
   "execution_count": null,
   "metadata": {
    "collapsed": true,
    "deletable": true,
    "editable": true
   },
   "outputs": [],
   "source": []
  },
  {
   "cell_type": "code",
   "execution_count": null,
   "metadata": {
    "collapsed": true,
    "deletable": true,
    "editable": true
   },
   "outputs": [],
   "source": []
  }
 ],
 "metadata": {
  "kernelspec": {
   "display_name": "Python 2",
   "language": "python",
   "name": "python2"
  },
  "language_info": {
   "codemirror_mode": {
    "name": "ipython",
    "version": 2
   },
   "file_extension": ".py",
   "mimetype": "text/x-python",
   "name": "python",
   "nbconvert_exporter": "python",
   "pygments_lexer": "ipython2",
   "version": "2.7.13"
  }
 },
 "nbformat": 4,
 "nbformat_minor": 2
}
