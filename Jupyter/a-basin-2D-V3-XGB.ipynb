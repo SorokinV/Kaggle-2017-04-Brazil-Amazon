{
 "cells": [
  {
   "cell_type": "code",
   "execution_count": 3,
   "metadata": {
    "collapsed": true,
    "deletable": true,
    "editable": true
   },
   "outputs": [],
   "source": [
    "# Проверка возможности использования xgbooster в основном, либо предварительно (2017-06-30)"
   ]
  },
  {
   "cell_type": "code",
   "execution_count": 4,
   "metadata": {
    "collapsed": false,
    "deletable": true,
    "editable": true
   },
   "outputs": [],
   "source": [
    "import sys,os,datetime\n",
    "import numpy as np\n",
    "import pandas as pd\n",
    "import matplotlib.pyplot as plt\n",
    "import sklearn.metrics as skm\n",
    "from __future__ import print_function"
   ]
  },
  {
   "cell_type": "code",
   "execution_count": 5,
   "metadata": {
    "collapsed": false,
    "deletable": true,
    "editable": true
   },
   "outputs": [
    {
     "name": "stdout",
     "output_type": "stream",
     "text": [
      "1.12.1\n",
      "0.19.2\n"
     ]
    }
   ],
   "source": [
    "print(np.__version__);\n",
    "print(pd.__version__);"
   ]
  },
  {
   "cell_type": "code",
   "execution_count": 6,
   "metadata": {
    "collapsed": false,
    "deletable": true,
    "editable": true
   },
   "outputs": [
    {
     "data": {
      "text/plain": [
       "'3.2.0'"
      ]
     },
     "execution_count": 6,
     "metadata": {},
     "output_type": "execute_result"
    }
   ],
   "source": [
    "import  cv2 as cv\n",
    "cv.__version__"
   ]
  },
  {
   "cell_type": "code",
   "execution_count": 7,
   "metadata": {
    "collapsed": false,
    "deletable": true,
    "editable": true
   },
   "outputs": [],
   "source": [
    "sys.path.append('../Python')\n",
    "from helper import formFH, paths_input"
   ]
  },
  {
   "cell_type": "code",
   "execution_count": null,
   "metadata": {
    "collapsed": false,
    "deletable": true,
    "editable": true
   },
   "outputs": [],
   "source": []
  },
  {
   "cell_type": "code",
   "execution_count": null,
   "metadata": {
    "collapsed": false,
    "deletable": true,
    "editable": true
   },
   "outputs": [],
   "source": []
  },
  {
   "cell_type": "code",
   "execution_count": 362,
   "metadata": {
    "collapsed": false,
    "deletable": true,
    "editable": true
   },
   "outputs": [
    {
     "name": "stdout",
     "output_type": "stream",
     "text": [
      "../Data/train-tif-v2 ../Data/test-tif-v2 ../Work/Train ../Work/Test\n",
      "../Data/train_v2.csv ../Data/train-tif-v2 ../Data/train-jpg ../Data/test-tif-v2 ../Data/test-jpg-v2\n"
     ]
    }
   ],
   "source": [
    "binsData = 64\n",
    "\n",
    "trLabels,trDirTIF,trDirJPG,teDirTIF,teDirJPG = paths_input()\n",
    "if False : #True :\n",
    "    trDirI = trDirJPG\n",
    "    teDirI = teDirJPG\n",
    "    ttExt  = '.jpg'\n",
    "else :\n",
    "    trDirI = trDirTIF\n",
    "    teDirI = teDirTIF\n",
    "    ttExt  = '.tif'\n",
    "trWork, teWork = '../Work/Train', '../Work/Test'\n",
    "print (trDirI,teDirI, trWork, teWork)\n",
    "print (trLabels,trDirTIF,trDirJPG,teDirTIF,teDirJPG)"
   ]
  },
  {
   "cell_type": "code",
   "execution_count": 363,
   "metadata": {
    "collapsed": false,
    "deletable": true,
    "editable": true
   },
   "outputs": [
    {
     "data": {
      "text/plain": [
       "['train_0.tif',\n",
       " 'train_1.tif',\n",
       " 'train_10.tif',\n",
       " 'train_100.tif',\n",
       " 'train_1000.tif',\n",
       " 'train_10000.tif']"
      ]
     },
     "execution_count": 363,
     "metadata": {},
     "output_type": "execute_result"
    }
   ],
   "source": [
    "xx=os.listdir(trDirI); xx.sort(); xx[:6]"
   ]
  },
  {
   "cell_type": "code",
   "execution_count": 364,
   "metadata": {
    "collapsed": false,
    "deletable": true,
    "editable": true
   },
   "outputs": [
    {
     "data": {
      "text/html": [
       "<div>\n",
       "<table border=\"1\" class=\"dataframe\">\n",
       "  <thead>\n",
       "    <tr style=\"text-align: right;\">\n",
       "      <th></th>\n",
       "      <th>image_name</th>\n",
       "      <th>tags</th>\n",
       "    </tr>\n",
       "  </thead>\n",
       "  <tbody>\n",
       "    <tr>\n",
       "      <th>0</th>\n",
       "      <td>train_0</td>\n",
       "      <td>haze primary</td>\n",
       "    </tr>\n",
       "    <tr>\n",
       "      <th>1</th>\n",
       "      <td>train_1</td>\n",
       "      <td>agriculture clear primary water</td>\n",
       "    </tr>\n",
       "    <tr>\n",
       "      <th>2</th>\n",
       "      <td>train_2</td>\n",
       "      <td>clear primary</td>\n",
       "    </tr>\n",
       "    <tr>\n",
       "      <th>3</th>\n",
       "      <td>train_3</td>\n",
       "      <td>clear primary</td>\n",
       "    </tr>\n",
       "    <tr>\n",
       "      <th>4</th>\n",
       "      <td>train_4</td>\n",
       "      <td>agriculture clear habitation primary road</td>\n",
       "    </tr>\n",
       "  </tbody>\n",
       "</table>\n",
       "</div>"
      ],
      "text/plain": [
       "  image_name                                       tags\n",
       "0    train_0                               haze primary\n",
       "1    train_1            agriculture clear primary water\n",
       "2    train_2                              clear primary\n",
       "3    train_3                              clear primary\n",
       "4    train_4  agriculture clear habitation primary road"
      ]
     },
     "execution_count": 364,
     "metadata": {},
     "output_type": "execute_result"
    }
   ],
   "source": [
    "labels_df = pd.read_csv(trLabels)\n",
    "labels_df.head()"
   ]
  },
  {
   "cell_type": "code",
   "execution_count": 365,
   "metadata": {
    "collapsed": true,
    "deletable": true,
    "editable": true
   },
   "outputs": [],
   "source": [
    "# Build list with unique labels\n",
    "label_list = []\n",
    "for tag_str in labels_df.tags.values:\n",
    "    labels = tag_str.split(' ')\n",
    "    for label in labels:\n",
    "        if label not in label_list:\n",
    "            label_list.append(label)"
   ]
  },
  {
   "cell_type": "code",
   "execution_count": 366,
   "metadata": {
    "collapsed": false,
    "deletable": true,
    "editable": true
   },
   "outputs": [],
   "source": [
    "# Add features (0 or 1) for every label as dataframe field \n",
    "for label in label_list:\n",
    "    labels_df[label] = labels_df['tags'].apply(lambda x: 1 if label in x.split(' ') else 0)\n",
    "#labels_df.head()"
   ]
  },
  {
   "cell_type": "code",
   "execution_count": 367,
   "metadata": {
    "collapsed": false,
    "deletable": true,
    "editable": true
   },
   "outputs": [],
   "source": [
    "weather_labels = ['clear', 'partly_cloudy', 'haze', 'cloudy']\n",
    "land_labels = ['primary', 'agriculture', 'water', 'cultivation', 'habitation' ]\n",
    "rare_labels = [l for l in label_list if labels_df[label_list].sum()[l] < 2000]\n",
    "#rare_labels              "
   ]
  },
  {
   "cell_type": "code",
   "execution_count": null,
   "metadata": {
    "collapsed": false,
    "deletable": true,
    "editable": true
   },
   "outputs": [],
   "source": []
  },
  {
   "cell_type": "code",
   "execution_count": 368,
   "metadata": {
    "collapsed": false,
    "deletable": true,
    "editable": true
   },
   "outputs": [
    {
     "data": {
      "text/plain": [
       "array([[1, 1, 0, 0, 0, 0, 0, 0, 0, 0, 0, 0, 0, 0, 0, 0, 0],\n",
       "       [0, 1, 1, 1, 1, 0, 0, 0, 0, 0, 0, 0, 0, 0, 0, 0, 0],\n",
       "       [0, 1, 0, 1, 0, 0, 0, 0, 0, 0, 0, 0, 0, 0, 0, 0, 0],\n",
       "       [0, 1, 0, 1, 0, 0, 0, 0, 0, 0, 0, 0, 0, 0, 0, 0, 0],\n",
       "       [0, 1, 1, 1, 0, 1, 1, 0, 0, 0, 0, 0, 0, 0, 0, 0, 0],\n",
       "       [1, 1, 0, 0, 1, 0, 0, 0, 0, 0, 0, 0, 0, 0, 0, 0, 0]])"
      ]
     },
     "execution_count": 368,
     "metadata": {},
     "output_type": "execute_result"
    }
   ],
   "source": [
    "labels = label_list; #weather_labels;\n",
    "nameList =labels_df[labels_df[labels].sum(axis=1)>0].image_name.tolist(); len(nameList)\n",
    "labelList=labels_df[labels_df[labels].sum(axis=1)>0][labels].as_matrix();\n",
    "labelList[:6,:]\n",
    "#labels_df.head()"
   ]
  },
  {
   "cell_type": "code",
   "execution_count": null,
   "metadata": {
    "collapsed": true,
    "deletable": true,
    "editable": true
   },
   "outputs": [],
   "source": []
  },
  {
   "cell_type": "code",
   "execution_count": 370,
   "metadata": {
    "collapsed": false,
    "deletable": true,
    "editable": true
   },
   "outputs": [],
   "source": [
    "def formImExt (nf, resize=(32,32), printOK=False) :\n",
    "    nx = None\n",
    "    try : \n",
    "        ni = cv.imread(nf,-1); \n",
    "        if (ni is not None) :\n",
    "            if not ((ni.shape[2]==3) or (ni.shape[2]==4)) and printOK : print('----- error ---- shape:',ni.shape,nf)\n",
    "            if (ni.shape[2]==3) :\n",
    "                nx = cv.resize(ni,resize)\n",
    "            if (ni.shape[2]==4) :\n",
    "                #r,g,b,n = ni[:,:,2],ni[:,:,1],ni[:,:,0],ni[:,:,3]\n",
    "                r,g,b,n = cv.resize(ni[:,:,2],resize),cv.resize(ni[:,:,1],resize),cv.resize(ni[:,:,0],resize),cv.resize(ni[:,:,3],resize)\n",
    "                dv,dw   = np.divide((r-n),(r+n+0.01)), np.divide((g-n),(g+n+0.01))\n",
    "                nx      = np.array([r,g,b,n,dv,dw]).T; \n",
    "    except BaseException as e :\n",
    "        print(nf,e); nx = None;\n",
    "    \n",
    "    if nx is None and printOK : \n",
    "        print('------ None:',nf); nx = None\n",
    "        \n",
    "    return(nx)\n",
    "\n",
    "def formImHist (nf, size, printOK=False) :\n",
    "    \n",
    "    def hist1 (nf1,bins) :\n",
    "        h,_ = np.histogram(nf1.ravel(),bins=bins)\n",
    "        return h.tolist()\n",
    "    \n",
    "    def histN (nf,bins) :\n",
    "        h = []\n",
    "        for i in range(0,nf.shape[2]) :\n",
    "            h = h + hist1(nf[:,:,i],bins=bins);\n",
    "        return h\n",
    "             \n",
    "    nx = None\n",
    "    try : \n",
    "        ni = cv.imread(nf,-1);\n",
    "        if (ni is not None) :\n",
    "            \n",
    "            if printOK : print(nf,ni.shape)\n",
    "\n",
    "            if not ((ni.shape[2]==3) or (ni.shape[2]==4)) and printOK : \n",
    "                print('----- error ---- shape:',ni.shape,nf);\n",
    "            if  ni.shape[2]==3 :\n",
    "                bins = [x for x in range(0,255+int(round(256.0/size)),int(round(256.0/size)))]\n",
    "                nx = histN(ni,bins)\n",
    "            if  ni.shape[2]==4 : \n",
    "                bins = [x for x in range(0,65535+int(round(65535.0/size)),int(round(65535.0/size)))]\n",
    "                r,g,b,n = ni[:,:,2], ni[:,:,1], ni[:,:,0], ni[:,:,3]\n",
    "                dv,dw   = np.divide((r-n),(r+n+0.01)), np.divide((g-n),(g+n+0.01))\n",
    "                nx      = np.array([r,g,b,n,dv,dw]).T; \n",
    "                nx = histN(ni,bins)\n",
    "            \n",
    "    except BaseException as e :\n",
    "        print(nf,e); nx = None;\n",
    "    \n",
    "    if nx is None and printOK : \n",
    "        print('------ None:',nf); nx = None\n",
    "        \n",
    "    return(nx)"
   ]
  },
  {
   "cell_type": "code",
   "execution_count": null,
   "metadata": {
    "collapsed": false,
    "deletable": true,
    "editable": true
   },
   "outputs": [],
   "source": []
  },
  {
   "cell_type": "code",
   "execution_count": 371,
   "metadata": {
    "collapsed": false,
    "deletable": true,
    "editable": true
   },
   "outputs": [
    {
     "name": "stdout",
     "output_type": "stream",
     "text": [
      "2017-07-01 23:34:39.757162 40479 40479\n",
      "2017-07-01 23:39:50.515359 \t 5000 \t train_4999\n",
      "2017-07-01 23:44:20.947150 \t 10000 \t train_9999\n",
      "2017-07-01 23:48:22.180297 \t 15000 \t train_14999\n",
      "2017-07-01 23:52:21.322746 \t 20000 \t train_19999\n",
      "2017-07-01 23:56:17.223867 \t 25000 \t train_24999\n",
      "2017-07-02 00:00:05.227685 \t 30000 \t train_29999\n",
      "2017-07-02 00:03:53.482557 \t 35000 \t train_34999\n",
      "2017-07-02 00:07:42.385447 \t 40000 \t train_39999\n",
      "2017-07-02 00:08:03.259341\n",
      "40479 (40479, 256) (40479, 17)\n"
     ]
    }
   ],
   "source": [
    "trX, trY, i, size = [],[], 0, len(nameList)\n",
    "print(datetime.datetime.now(),len(nameList),size)\n",
    "for nn in nameList[0:size] :\n",
    "    nf = os.path.join(trDirI,nn+ttExt);\n",
    "    nx = formImHist(nf,binsData,printOK=False)\n",
    "    if (nx is not None) :\n",
    "        #rr=np.save(os.path.join(trWork,nn+\".npy\"),nx);\n",
    "        #trX.append(nn+\".npy\")\n",
    "        trX.append(nx)\n",
    "        trY.append(True)\n",
    "    else : \n",
    "        trY.append(False)\n",
    "    i += 1\n",
    "    if (i%5000==0) : print(datetime.datetime.now(),\"\\t\",i,\"\\t\",nn)\n",
    "    #print(nn.shape)\n",
    "\n",
    "print(datetime.datetime.now())\n",
    "trX = np.array(trX);\n",
    "trY = labelList[trY];\n",
    "print(len(nameList),trX.shape,trY.shape)\n",
    "#trXY=pd.DataFrame(trY); trXY['name']=trX; trXY.head()\n",
    "#trXY.to_pickle(os.path.join(trWork,\"listFiles.pkl\"))"
   ]
  },
  {
   "cell_type": "code",
   "execution_count": 372,
   "metadata": {
    "collapsed": false,
    "deletable": true,
    "editable": true
   },
   "outputs": [
    {
     "data": {
      "text/plain": [
       "((40479, 256), (40479, 17))"
      ]
     },
     "execution_count": 372,
     "metadata": {},
     "output_type": "execute_result"
    }
   ],
   "source": [
    "trX.shape,trY.shape"
   ]
  },
  {
   "cell_type": "code",
   "execution_count": 373,
   "metadata": {
    "collapsed": false,
    "deletable": true,
    "editable": true
   },
   "outputs": [],
   "source": [
    "np.save('../Work/train-data-XX'+str(binsData)+ttExt+'.npy',trX)\n",
    "np.save('../Work/train-data-YY'+str(binsData)+ttExt+'.npy',trY)"
   ]
  },
  {
   "cell_type": "code",
   "execution_count": 374,
   "metadata": {
    "collapsed": false,
    "deletable": true,
    "editable": true
   },
   "outputs": [],
   "source": [
    "del(trX); del(trY);"
   ]
  },
  {
   "cell_type": "code",
   "execution_count": 375,
   "metadata": {
    "collapsed": false,
    "deletable": true,
    "editable": true
   },
   "outputs": [
    {
     "name": "stdout",
     "output_type": "stream",
     "text": [
      "(40479, 256) (40479, 17)\n"
     ]
    }
   ],
   "source": [
    "trX = np.load('../Work/train-data-XX'+str(binsData)+ttExt+'.npy')\n",
    "trY = np.load('../Work/train-data-YY'+str(binsData)+ttExt+'.npy')\n",
    "print(trX.shape,trY.shape)"
   ]
  },
  {
   "cell_type": "code",
   "execution_count": 376,
   "metadata": {
    "collapsed": false,
    "deletable": true,
    "editable": true
   },
   "outputs": [],
   "source": [
    "import xgboost as xgb"
   ]
  },
  {
   "cell_type": "code",
   "execution_count": 377,
   "metadata": {
    "collapsed": false,
    "deletable": true,
    "editable": true
   },
   "outputs": [],
   "source": [
    "# Строим основные массивы\n",
    "dtrain = xgb.DMatrix(trX,label=trY[:,1])"
   ]
  },
  {
   "cell_type": "code",
   "execution_count": null,
   "metadata": {
    "collapsed": false,
    "deletable": true,
    "editable": true
   },
   "outputs": [],
   "source": []
  },
  {
   "cell_type": "code",
   "execution_count": 378,
   "metadata": {
    "collapsed": false,
    "deletable": true,
    "editable": true
   },
   "outputs": [
    {
     "name": "stdout",
     "output_type": "stream",
     "text": [
      "Working: 0\n",
      "[0]\ttrain-auc:0.924673+0.00530136\ttest-auc:0.910689+0.00803789\n",
      "[30]\ttrain-auc:0.986201+0.00054265\ttest-auc:0.952872+0.00199719\n",
      "[60]\ttrain-auc:0.993564+0.000382888\ttest-auc:0.952446+0.00131626\n",
      "[0]\ttrain-auc:0.930388\ttrain-rmse:0.37935\n",
      "[1]\ttrain-auc:0.942746\ttrain-rmse:0.303731\n",
      "[2]\ttrain-auc:0.951364\ttrain-rmse:0.255736\n",
      "[3]\ttrain-auc:0.954756\ttrain-rmse:0.224731\n",
      "[4]\ttrain-auc:0.957927\ttrain-rmse:0.205094\n",
      "[5]\ttrain-auc:0.959817\ttrain-rmse:0.193577\n",
      "[6]\ttrain-auc:0.961453\ttrain-rmse:0.186519\n",
      "[7]\ttrain-auc:0.963828\ttrain-rmse:0.181568\n",
      "[8]\ttrain-auc:0.966092\ttrain-rmse:0.178421\n",
      "[9]\ttrain-auc:0.967606\ttrain-rmse:0.175634\n",
      "[10]\ttrain-auc:0.968846\ttrain-rmse:0.17318\n",
      "[11]\ttrain-auc:0.970464\ttrain-rmse:0.171546\n",
      "[12]\ttrain-auc:0.971394\ttrain-rmse:0.170483\n",
      "[13]\ttrain-auc:0.971922\ttrain-rmse:0.169849\n",
      "[14]\ttrain-auc:0.972866\ttrain-rmse:0.169194\n",
      "[15]\ttrain-auc:0.974516\ttrain-rmse:0.167783\n",
      "[16]\ttrain-auc:0.975007\ttrain-rmse:0.167392\n",
      "[17]\ttrain-auc:0.975759\ttrain-rmse:0.166475\n",
      "[18]\ttrain-auc:0.976482\ttrain-rmse:0.165604\n",
      "[19]\ttrain-auc:0.976799\ttrain-rmse:0.165357\n",
      "[20]\ttrain-auc:0.977721\ttrain-rmse:0.164056\n",
      "[21]\ttrain-auc:0.97819\ttrain-rmse:0.163586\n",
      "[22]\ttrain-auc:0.978733\ttrain-rmse:0.162718\n",
      "[23]\ttrain-auc:0.979253\ttrain-rmse:0.161958\n",
      "[24]\ttrain-auc:0.979437\ttrain-rmse:0.161612\n",
      "[25]\ttrain-auc:0.97967\ttrain-rmse:0.161112\n",
      "[26]\ttrain-auc:0.979897\ttrain-rmse:0.160636\n",
      "[27]\ttrain-auc:0.980481\ttrain-rmse:0.15987\n",
      "[28]\ttrain-auc:0.98062\ttrain-rmse:0.159596\n",
      "[29]\ttrain-auc:0.980895\ttrain-rmse:0.158861\n",
      "[30]\ttrain-auc:0.98121\ttrain-rmse:0.158414\n",
      "[31]\ttrain-auc:0.981458\ttrain-rmse:0.157948\n",
      "[32]\ttrain-auc:0.981784\ttrain-rmse:0.157392\n",
      "[33]\ttrain-auc:0.982249\ttrain-rmse:0.156518\n",
      "[34]\ttrain-auc:0.982511\ttrain-rmse:0.155905\n",
      "[35]\ttrain-auc:0.982963\ttrain-rmse:0.154582\n",
      "[36]\ttrain-auc:0.983135\ttrain-rmse:0.154106\n",
      "[37]\ttrain-auc:0.983262\ttrain-rmse:0.153826\n",
      "[38]\ttrain-auc:0.983721\ttrain-rmse:0.153108\n",
      "[39]\ttrain-auc:0.983812\ttrain-rmse:0.152912\n",
      "[40]\ttrain-auc:0.984193\ttrain-rmse:0.152355\n",
      "[41]\ttrain-auc:0.984245\ttrain-rmse:0.15228\n",
      "Working: 1\n",
      "[0]\ttrain-auc:0.938637+0.00784369\ttest-auc:0.926548+0.0136057\n",
      "[30]\ttrain-auc:0.991786+0.000609408\ttest-auc:0.970294+0.00150732\n",
      "[60]\ttrain-auc:0.996448+0.000320509\ttest-auc:0.970631+0.0017843\n",
      "[0]\ttrain-auc:0.931267\ttrain-rmse:0.376596\n",
      "[1]\ttrain-auc:0.949018\ttrain-rmse:0.298045\n",
      "[2]\ttrain-auc:0.956284\ttrain-rmse:0.246802\n",
      "[3]\ttrain-auc:0.966473\ttrain-rmse:0.21396\n",
      "[4]\ttrain-auc:0.96954\ttrain-rmse:0.193308\n",
      "[5]\ttrain-auc:0.972531\ttrain-rmse:0.180196\n",
      "[6]\ttrain-auc:0.974381\ttrain-rmse:0.171826\n",
      "[7]\ttrain-auc:0.976538\ttrain-rmse:0.166178\n",
      "[8]\ttrain-auc:0.978949\ttrain-rmse:0.162458\n",
      "[9]\ttrain-auc:0.980084\ttrain-rmse:0.159911\n",
      "[10]\ttrain-auc:0.981103\ttrain-rmse:0.157914\n",
      "[11]\ttrain-auc:0.982053\ttrain-rmse:0.156429\n",
      "[12]\ttrain-auc:0.982574\ttrain-rmse:0.155409\n",
      "[13]\ttrain-auc:0.983353\ttrain-rmse:0.154232\n",
      "[14]\ttrain-auc:0.983951\ttrain-rmse:0.153186\n",
      "[15]\ttrain-auc:0.984997\ttrain-rmse:0.151923\n",
      "[16]\ttrain-auc:0.98534\ttrain-rmse:0.150959\n",
      "[17]\ttrain-auc:0.985756\ttrain-rmse:0.150172\n",
      "[18]\ttrain-auc:0.986145\ttrain-rmse:0.149351\n",
      "[19]\ttrain-auc:0.986488\ttrain-rmse:0.148266\n",
      "[20]\ttrain-auc:0.986595\ttrain-rmse:0.147839\n",
      "[21]\ttrain-auc:0.986718\ttrain-rmse:0.147587\n",
      "[22]\ttrain-auc:0.987317\ttrain-rmse:0.145573\n",
      "[23]\ttrain-auc:0.987477\ttrain-rmse:0.145079\n",
      "[24]\ttrain-auc:0.987676\ttrain-rmse:0.14447\n",
      "[25]\ttrain-auc:0.988006\ttrain-rmse:0.143583\n",
      "[26]\ttrain-auc:0.98831\ttrain-rmse:0.142614\n",
      "[27]\ttrain-auc:0.988374\ttrain-rmse:0.142286\n",
      "[28]\ttrain-auc:0.988849\ttrain-rmse:0.141113\n",
      "[29]\ttrain-auc:0.988899\ttrain-rmse:0.14088\n",
      "[30]\ttrain-auc:0.989326\ttrain-rmse:0.139205\n",
      "[31]\ttrain-auc:0.989462\ttrain-rmse:0.138868\n",
      "[32]\ttrain-auc:0.989632\ttrain-rmse:0.138488\n",
      "[33]\ttrain-auc:0.989747\ttrain-rmse:0.13816\n",
      "[34]\ttrain-auc:0.990208\ttrain-rmse:0.136692\n",
      "[35]\ttrain-auc:0.990571\ttrain-rmse:0.135762\n",
      "[36]\ttrain-auc:0.990666\ttrain-rmse:0.135437\n",
      "[37]\ttrain-auc:0.990819\ttrain-rmse:0.134888\n",
      "[38]\ttrain-auc:0.990937\ttrain-rmse:0.134389\n",
      "[39]\ttrain-auc:0.991118\ttrain-rmse:0.133759\n",
      "[40]\ttrain-auc:0.991179\ttrain-rmse:0.13351\n",
      "[41]\ttrain-auc:0.991377\ttrain-rmse:0.132787\n",
      "[42]\ttrain-auc:0.99143\ttrain-rmse:0.132597\n",
      "[43]\ttrain-auc:0.991631\ttrain-rmse:0.132222\n",
      "[44]\ttrain-auc:0.991904\ttrain-rmse:0.131253\n",
      "[45]\ttrain-auc:0.992128\ttrain-rmse:0.130386\n",
      "[46]\ttrain-auc:0.992262\ttrain-rmse:0.129741\n",
      "[47]\ttrain-auc:0.992396\ttrain-rmse:0.129205\n",
      "[48]\ttrain-auc:0.992794\ttrain-rmse:0.127949\n",
      "[49]\ttrain-auc:0.992927\ttrain-rmse:0.127317\n",
      "[50]\ttrain-auc:0.993046\ttrain-rmse:0.126817\n",
      "[51]\ttrain-auc:0.993363\ttrain-rmse:0.126112\n",
      "[52]\ttrain-auc:0.993729\ttrain-rmse:0.124936\n",
      "[53]\ttrain-auc:0.993794\ttrain-rmse:0.124576\n",
      "[54]\ttrain-auc:0.993841\ttrain-rmse:0.124289\n",
      "[55]\ttrain-auc:0.993874\ttrain-rmse:0.124118\n",
      "[56]\ttrain-auc:0.994001\ttrain-rmse:0.123427\n",
      "[57]\ttrain-auc:0.994009\ttrain-rmse:0.123352\n",
      "[58]\ttrain-auc:0.994119\ttrain-rmse:0.122707\n",
      "[59]\ttrain-auc:0.994196\ttrain-rmse:0.122248\n",
      "Working: 2\n",
      "[0]\ttrain-auc:0.871736+0.00212819\ttest-auc:0.858924+0.00512439\n",
      "[30]\ttrain-auc:0.953129+0.000967333\ttest-auc:0.915194+0.00205224\n",
      "[60]\ttrain-auc:0.968985+0.000460453\ttest-auc:0.917273+0.00185838\n",
      "[90]\ttrain-auc:0.978997+0.000606662\ttest-auc:0.917584+0.00173135\n",
      "[0]\ttrain-auc:0.868311\ttrain-rmse:0.436707\n",
      "[1]\ttrain-auc:0.89646\ttrain-rmse:0.393907\n",
      "[2]\ttrain-auc:0.902936\ttrain-rmse:0.368289\n",
      "[3]\ttrain-auc:0.907986\ttrain-rmse:0.352477\n",
      "[4]\ttrain-auc:0.911664\ttrain-rmse:0.341893\n",
      "[5]\ttrain-auc:0.914402\ttrain-rmse:0.334566\n",
      "[6]\ttrain-auc:0.917208\ttrain-rmse:0.329306\n",
      "[7]\ttrain-auc:0.920345\ttrain-rmse:0.323765\n",
      "[8]\ttrain-auc:0.922522\ttrain-rmse:0.320407\n",
      "[9]\ttrain-auc:0.925299\ttrain-rmse:0.316261\n",
      "[10]\ttrain-auc:0.927095\ttrain-rmse:0.313845\n",
      "[11]\ttrain-auc:0.929271\ttrain-rmse:0.310857\n",
      "[12]\ttrain-auc:0.930697\ttrain-rmse:0.309084\n",
      "[13]\ttrain-auc:0.932549\ttrain-rmse:0.306529\n",
      "[14]\ttrain-auc:0.933771\ttrain-rmse:0.304842\n",
      "[15]\ttrain-auc:0.935375\ttrain-rmse:0.303253\n",
      "[16]\ttrain-auc:0.936244\ttrain-rmse:0.301841\n",
      "[17]\ttrain-auc:0.93681\ttrain-rmse:0.301125\n",
      "[18]\ttrain-auc:0.937497\ttrain-rmse:0.30011\n",
      "[19]\ttrain-auc:0.938\ttrain-rmse:0.299445\n",
      "[20]\ttrain-auc:0.939379\ttrain-rmse:0.298104\n",
      "[21]\ttrain-auc:0.940083\ttrain-rmse:0.297336\n",
      "[22]\ttrain-auc:0.940575\ttrain-rmse:0.296856\n",
      "[23]\ttrain-auc:0.941193\ttrain-rmse:0.296131\n",
      "[24]\ttrain-auc:0.941358\ttrain-rmse:0.29592\n",
      "[25]\ttrain-auc:0.941881\ttrain-rmse:0.295102\n",
      "[26]\ttrain-auc:0.942836\ttrain-rmse:0.293604\n",
      "[27]\ttrain-auc:0.943013\ttrain-rmse:0.293356\n",
      "[28]\ttrain-auc:0.943313\ttrain-rmse:0.292868\n",
      "[29]\ttrain-auc:0.944412\ttrain-rmse:0.291454\n",
      "[30]\ttrain-auc:0.945128\ttrain-rmse:0.290441\n",
      "[31]\ttrain-auc:0.94582\ttrain-rmse:0.289668\n",
      "[32]\ttrain-auc:0.946176\ttrain-rmse:0.289126\n",
      "[33]\ttrain-auc:0.947156\ttrain-rmse:0.287643\n",
      "[34]\ttrain-auc:0.947608\ttrain-rmse:0.28706\n",
      "[35]\ttrain-auc:0.948352\ttrain-rmse:0.286034\n",
      "[36]\ttrain-auc:0.9494\ttrain-rmse:0.284697\n",
      "[37]\ttrain-auc:0.950209\ttrain-rmse:0.283541\n",
      "[38]\ttrain-auc:0.950382\ttrain-rmse:0.283304\n",
      "[39]\ttrain-auc:0.951225\ttrain-rmse:0.281899\n",
      "[40]\ttrain-auc:0.951514\ttrain-rmse:0.281482\n",
      "[41]\ttrain-auc:0.951787\ttrain-rmse:0.281094\n",
      "[42]\ttrain-auc:0.952627\ttrain-rmse:0.279886\n",
      "[43]\ttrain-auc:0.95355\ttrain-rmse:0.278368\n",
      "[44]\ttrain-auc:0.953702\ttrain-rmse:0.278153\n",
      "[45]\ttrain-auc:0.954263\ttrain-rmse:0.27719\n",
      "[46]\ttrain-auc:0.954375\ttrain-rmse:0.277053\n",
      "[47]\ttrain-auc:0.954809\ttrain-rmse:0.276433\n",
      "[48]\ttrain-auc:0.954903\ttrain-rmse:0.276256\n",
      "[49]\ttrain-auc:0.95555\ttrain-rmse:0.275196\n",
      "[50]\ttrain-auc:0.95572\ttrain-rmse:0.274932\n",
      "[51]\ttrain-auc:0.956504\ttrain-rmse:0.273848\n",
      "[52]\ttrain-auc:0.956907\ttrain-rmse:0.273114\n",
      "[53]\ttrain-auc:0.95703\ttrain-rmse:0.272979\n",
      "[54]\ttrain-auc:0.957316\ttrain-rmse:0.27252\n",
      "[55]\ttrain-auc:0.957573\ttrain-rmse:0.272194\n",
      "[56]\ttrain-auc:0.958007\ttrain-rmse:0.271401\n",
      "[57]\ttrain-auc:0.958734\ttrain-rmse:0.270224\n",
      "[58]\ttrain-auc:0.958911\ttrain-rmse:0.270027\n",
      "[59]\ttrain-auc:0.959245\ttrain-rmse:0.269537\n",
      "[60]\ttrain-auc:0.959468\ttrain-rmse:0.269142\n",
      "[61]\ttrain-auc:0.959567\ttrain-rmse:0.268954\n",
      "[62]\ttrain-auc:0.960003\ttrain-rmse:0.268219\n",
      "[63]\ttrain-auc:0.960484\ttrain-rmse:0.267382\n",
      "[64]\ttrain-auc:0.961127\ttrain-rmse:0.266221\n",
      "[65]\ttrain-auc:0.961456\ttrain-rmse:0.265722\n",
      "[66]\ttrain-auc:0.961686\ttrain-rmse:0.265386\n",
      "[67]\ttrain-auc:0.961912\ttrain-rmse:0.265029\n",
      "[68]\ttrain-auc:0.961952\ttrain-rmse:0.264953\n",
      "[69]\ttrain-auc:0.962037\ttrain-rmse:0.264795\n",
      "[70]\ttrain-auc:0.962355\ttrain-rmse:0.264291\n",
      "[71]\ttrain-auc:0.962459\ttrain-rmse:0.264155\n",
      "Working: 3\n",
      "[0]\ttrain-auc:0.933318+0.00110543\ttest-auc:0.92412+0.00229055\n",
      "[30]\ttrain-auc:0.982042+0.00067619\ttest-auc:0.961651+0.00142138\n",
      "[60]\ttrain-auc:0.990403+0.000661554\ttest-auc:0.962593+0.0017534\n",
      "[90]\ttrain-auc:0.9948+0.000286254\ttest-auc:0.962781+0.00129282\n",
      "[0]\ttrain-auc:0.931161\ttrain-rmse:0.408205\n",
      "[1]\ttrain-auc:0.943761\ttrain-rmse:0.351916\n",
      "[2]\ttrain-auc:0.949563\ttrain-rmse:0.316895\n",
      "[3]\ttrain-auc:0.95269\ttrain-rmse:0.292317\n",
      "[4]\ttrain-auc:0.955854\ttrain-rmse:0.277286\n",
      "[5]\ttrain-auc:0.958865\ttrain-rmse:0.266566\n",
      "[6]\ttrain-auc:0.960423\ttrain-rmse:0.259173\n",
      "[7]\ttrain-auc:0.962557\ttrain-rmse:0.25322\n",
      "[8]\ttrain-auc:0.964709\ttrain-rmse:0.248435\n",
      "[9]\ttrain-auc:0.966087\ttrain-rmse:0.244311\n",
      "[10]\ttrain-auc:0.96714\ttrain-rmse:0.241462\n",
      "[11]\ttrain-auc:0.968253\ttrain-rmse:0.238935\n",
      "[12]\ttrain-auc:0.969047\ttrain-rmse:0.236261\n",
      "[13]\ttrain-auc:0.969863\ttrain-rmse:0.235079\n",
      "[14]\ttrain-auc:0.97089\ttrain-rmse:0.232542\n",
      "[15]\ttrain-auc:0.971309\ttrain-rmse:0.231757\n",
      "[16]\ttrain-auc:0.972241\ttrain-rmse:0.229672\n",
      "[17]\ttrain-auc:0.972914\ttrain-rmse:0.22871\n",
      "[18]\ttrain-auc:0.973403\ttrain-rmse:0.227477\n",
      "[19]\ttrain-auc:0.974194\ttrain-rmse:0.225731\n",
      "[20]\ttrain-auc:0.974702\ttrain-rmse:0.224485\n",
      "[21]\ttrain-auc:0.975464\ttrain-rmse:0.222912\n",
      "[22]\ttrain-auc:0.975764\ttrain-rmse:0.222079\n",
      "[23]\ttrain-auc:0.976005\ttrain-rmse:0.221429\n",
      "[24]\ttrain-auc:0.976595\ttrain-rmse:0.219692\n",
      "[25]\ttrain-auc:0.976919\ttrain-rmse:0.218952\n",
      "[26]\ttrain-auc:0.977356\ttrain-rmse:0.217898\n",
      "[27]\ttrain-auc:0.977636\ttrain-rmse:0.217035\n",
      "[28]\ttrain-auc:0.977989\ttrain-rmse:0.216126\n",
      "[29]\ttrain-auc:0.978216\ttrain-rmse:0.215511\n",
      "[30]\ttrain-auc:0.979011\ttrain-rmse:0.213841\n",
      "[31]\ttrain-auc:0.979317\ttrain-rmse:0.212992\n",
      "[32]\ttrain-auc:0.979475\ttrain-rmse:0.212649\n",
      "[33]\ttrain-auc:0.979841\ttrain-rmse:0.211432\n",
      "[34]\ttrain-auc:0.980359\ttrain-rmse:0.210123\n",
      "[35]\ttrain-auc:0.980536\ttrain-rmse:0.209579\n",
      "[36]\ttrain-auc:0.980953\ttrain-rmse:0.208999\n",
      "[37]\ttrain-auc:0.981373\ttrain-rmse:0.207776\n",
      "[38]\ttrain-auc:0.982057\ttrain-rmse:0.206079\n",
      "[39]\ttrain-auc:0.98215\ttrain-rmse:0.205741\n",
      "[40]\ttrain-auc:0.982403\ttrain-rmse:0.204835\n",
      "[41]\ttrain-auc:0.982491\ttrain-rmse:0.204506\n",
      "[42]\ttrain-auc:0.982719\ttrain-rmse:0.204076\n",
      "[43]\ttrain-auc:0.982792\ttrain-rmse:0.203841\n",
      "[44]\ttrain-auc:0.982913\ttrain-rmse:0.203569\n",
      "[45]\ttrain-auc:0.98306\ttrain-rmse:0.203199\n",
      "[46]\ttrain-auc:0.983441\ttrain-rmse:0.201933\n",
      "[47]\ttrain-auc:0.983535\ttrain-rmse:0.20156\n",
      "[48]\ttrain-auc:0.983771\ttrain-rmse:0.201188\n",
      "[49]\ttrain-auc:0.984173\ttrain-rmse:0.200276\n",
      "[50]\ttrain-auc:0.984402\ttrain-rmse:0.199554\n",
      "[51]\ttrain-auc:0.984504\ttrain-rmse:0.199173\n",
      "[52]\ttrain-auc:0.984612\ttrain-rmse:0.198795\n",
      "[53]\ttrain-auc:0.984757\ttrain-rmse:0.198402\n",
      "[54]\ttrain-auc:0.984804\ttrain-rmse:0.198178\n",
      "[55]\ttrain-auc:0.985072\ttrain-rmse:0.197136\n",
      "[56]\ttrain-auc:0.985237\ttrain-rmse:0.196561\n",
      "[57]\ttrain-auc:0.985491\ttrain-rmse:0.195675\n",
      "[58]\ttrain-auc:0.985677\ttrain-rmse:0.195001\n",
      "[59]\ttrain-auc:0.98583\ttrain-rmse:0.194339\n",
      "[60]\ttrain-auc:0.985976\ttrain-rmse:0.193693\n",
      "[61]\ttrain-auc:0.986261\ttrain-rmse:0.192862\n",
      "[62]\ttrain-auc:0.986643\ttrain-rmse:0.192089\n",
      "[63]\ttrain-auc:0.986772\ttrain-rmse:0.191746\n",
      "[64]\ttrain-auc:0.987127\ttrain-rmse:0.190902\n",
      "[65]\ttrain-auc:0.987151\ttrain-rmse:0.190804\n",
      "[66]\ttrain-auc:0.987189\ttrain-rmse:0.190653\n",
      "[67]\ttrain-auc:0.987435\ttrain-rmse:0.189771\n",
      "[68]\ttrain-auc:0.987532\ttrain-rmse:0.189337\n",
      "[69]\ttrain-auc:0.987562\ttrain-rmse:0.189204\n",
      "[70]\ttrain-auc:0.987625\ttrain-rmse:0.188949\n",
      "[71]\ttrain-auc:0.988137\ttrain-rmse:0.188016\n",
      "[72]\ttrain-auc:0.988312\ttrain-rmse:0.187343\n",
      "[73]\ttrain-auc:0.988454\ttrain-rmse:0.18673\n",
      "[74]\ttrain-auc:0.988534\ttrain-rmse:0.186326\n",
      "[75]\ttrain-auc:0.988628\ttrain-rmse:0.185877\n",
      "[76]\ttrain-auc:0.988797\ttrain-rmse:0.185115\n",
      "[77]\ttrain-auc:0.988887\ttrain-rmse:0.184655\n",
      "[78]\ttrain-auc:0.988924\ttrain-rmse:0.184491\n",
      "[79]\ttrain-auc:0.989113\ttrain-rmse:0.183715\n",
      "[80]\ttrain-auc:0.989145\ttrain-rmse:0.183576\n",
      "[81]\ttrain-auc:0.989246\ttrain-rmse:0.183373\n",
      "[82]\ttrain-auc:0.989487\ttrain-rmse:0.182641\n",
      "[83]\ttrain-auc:0.989707\ttrain-rmse:0.182037\n",
      "Working: 4\n",
      "[0]\ttrain-auc:0.868439+0.00235761\ttest-auc:0.855697+0.00137905\n",
      "[30]\ttrain-auc:0.948971+0.00129429\ttest-auc:0.900666+0.000716083\n",
      "[0]\ttrain-auc:0.87302\ttrain-rmse:0.412749\n",
      "[1]\ttrain-auc:0.87994\ttrain-rmse:0.362243\n",
      "[2]\ttrain-auc:0.887898\ttrain-rmse:0.331593\n",
      "[3]\ttrain-auc:0.892491\ttrain-rmse:0.313529\n",
      "[4]\ttrain-auc:0.896616\ttrain-rmse:0.302194\n",
      "[5]\ttrain-auc:0.899728\ttrain-rmse:0.294795\n",
      "[6]\ttrain-auc:0.90427\ttrain-rmse:0.288553\n",
      "[7]\ttrain-auc:0.906731\ttrain-rmse:0.284652\n",
      "[8]\ttrain-auc:0.909121\ttrain-rmse:0.282072\n",
      "[9]\ttrain-auc:0.912147\ttrain-rmse:0.279264\n",
      "[10]\ttrain-auc:0.91585\ttrain-rmse:0.275974\n",
      "[11]\ttrain-auc:0.918757\ttrain-rmse:0.273724\n",
      "[12]\ttrain-auc:0.920963\ttrain-rmse:0.272024\n",
      "[13]\ttrain-auc:0.922247\ttrain-rmse:0.270407\n",
      "[14]\ttrain-auc:0.923864\ttrain-rmse:0.268741\n",
      "[15]\ttrain-auc:0.924828\ttrain-rmse:0.267882\n",
      "[16]\ttrain-auc:0.925909\ttrain-rmse:0.267095\n",
      "[17]\ttrain-auc:0.927559\ttrain-rmse:0.265925\n",
      "[18]\ttrain-auc:0.927855\ttrain-rmse:0.265632\n",
      "[19]\ttrain-auc:0.929034\ttrain-rmse:0.264498\n",
      "[20]\ttrain-auc:0.92956\ttrain-rmse:0.264071\n",
      "[21]\ttrain-auc:0.93099\ttrain-rmse:0.26291\n",
      "[22]\ttrain-auc:0.933114\ttrain-rmse:0.26096\n",
      "[23]\ttrain-auc:0.933288\ttrain-rmse:0.260721\n",
      "[24]\ttrain-auc:0.934229\ttrain-rmse:0.259893\n",
      "[25]\ttrain-auc:0.935141\ttrain-rmse:0.259096\n",
      "[26]\ttrain-auc:0.935831\ttrain-rmse:0.258718\n",
      "[27]\ttrain-auc:0.936426\ttrain-rmse:0.258253\n",
      "[28]\ttrain-auc:0.937649\ttrain-rmse:0.257392\n",
      "[29]\ttrain-auc:0.938743\ttrain-rmse:0.256416\n",
      "[30]\ttrain-auc:0.939643\ttrain-rmse:0.25586\n",
      "[31]\ttrain-auc:0.940741\ttrain-rmse:0.254909\n",
      "[32]\ttrain-auc:0.941576\ttrain-rmse:0.254155\n",
      "[33]\ttrain-auc:0.941755\ttrain-rmse:0.2539\n",
      "[34]\ttrain-auc:0.943276\ttrain-rmse:0.252647\n",
      "[35]\ttrain-auc:0.943612\ttrain-rmse:0.25234\n",
      "[36]\ttrain-auc:0.943997\ttrain-rmse:0.251966\n",
      "[37]\ttrain-auc:0.944289\ttrain-rmse:0.251602\n",
      "[38]\ttrain-auc:0.944512\ttrain-rmse:0.25142\n",
      "[39]\ttrain-auc:0.944889\ttrain-rmse:0.250993\n",
      "Working: 5\n",
      "[0]\ttrain-auc:0.905566+0.00180907\ttest-auc:0.894045+0.00597705\n",
      "[30]\ttrain-auc:0.974995+0.000934021\ttest-auc:0.927762+0.00266883\n",
      "[0]\ttrain-auc:0.902279\ttrain-rmse:0.38958\n",
      "[1]\ttrain-auc:0.915564\ttrain-rmse:0.32287\n",
      "[2]\ttrain-auc:0.924759\ttrain-rmse:0.279329\n",
      "[3]\ttrain-auc:0.929879\ttrain-rmse:0.253034\n",
      "[4]\ttrain-auc:0.93359\ttrain-rmse:0.237134\n",
      "[5]\ttrain-auc:0.936897\ttrain-rmse:0.227584\n",
      "[6]\ttrain-auc:0.939523\ttrain-rmse:0.221645\n",
      "[7]\ttrain-auc:0.941304\ttrain-rmse:0.2175\n",
      "[8]\ttrain-auc:0.943029\ttrain-rmse:0.214885\n",
      "[9]\ttrain-auc:0.944405\ttrain-rmse:0.213096\n",
      "[10]\ttrain-auc:0.946198\ttrain-rmse:0.211452\n",
      "[11]\ttrain-auc:0.948095\ttrain-rmse:0.210007\n",
      "[12]\ttrain-auc:0.949632\ttrain-rmse:0.208829\n",
      "[13]\ttrain-auc:0.951696\ttrain-rmse:0.207369\n",
      "[14]\ttrain-auc:0.952645\ttrain-rmse:0.206482\n",
      "[15]\ttrain-auc:0.954102\ttrain-rmse:0.204794\n",
      "[16]\ttrain-auc:0.955483\ttrain-rmse:0.203495\n",
      "[17]\ttrain-auc:0.956659\ttrain-rmse:0.202703\n",
      "[18]\ttrain-auc:0.957922\ttrain-rmse:0.200813\n",
      "[19]\ttrain-auc:0.958477\ttrain-rmse:0.200502\n",
      "[20]\ttrain-auc:0.960011\ttrain-rmse:0.198907\n",
      "[21]\ttrain-auc:0.961165\ttrain-rmse:0.197745\n",
      "[22]\ttrain-auc:0.962137\ttrain-rmse:0.196089\n",
      "[23]\ttrain-auc:0.963375\ttrain-rmse:0.195025\n",
      "[24]\ttrain-auc:0.964419\ttrain-rmse:0.193696\n",
      "[25]\ttrain-auc:0.964871\ttrain-rmse:0.193266\n",
      "[26]\ttrain-auc:0.965183\ttrain-rmse:0.192903\n",
      "[27]\ttrain-auc:0.965778\ttrain-rmse:0.192538\n",
      "[28]\ttrain-auc:0.966557\ttrain-rmse:0.191735\n",
      "[29]\ttrain-auc:0.96738\ttrain-rmse:0.190371\n",
      "[30]\ttrain-auc:0.968069\ttrain-rmse:0.189502\n",
      "[31]\ttrain-auc:0.969018\ttrain-rmse:0.188282\n",
      "[32]\ttrain-auc:0.970048\ttrain-rmse:0.186902\n",
      "[33]\ttrain-auc:0.97134\ttrain-rmse:0.185572\n",
      "[34]\ttrain-auc:0.972275\ttrain-rmse:0.184205\n",
      "[35]\ttrain-auc:0.97263\ttrain-rmse:0.183613\n",
      "[36]\ttrain-auc:0.973081\ttrain-rmse:0.182898\n",
      "[37]\ttrain-auc:0.97405\ttrain-rmse:0.181553\n",
      "[38]\ttrain-auc:0.974769\ttrain-rmse:0.18019\n",
      "[39]\ttrain-auc:0.974983\ttrain-rmse:0.179724\n",
      "Working: 6\n",
      "[0]\ttrain-auc:0.882927+0.00160416\ttest-auc:0.866736+0.00612326\n",
      "[30]\ttrain-auc:0.951718+0.000789821\ttest-auc:0.907642+0.00457281\n",
      "[60]\ttrain-auc:0.969767+0.00161159\ttest-auc:0.908801+0.00370338\n",
      "[90]\ttrain-auc:0.981901+0.000755744\ttest-auc:0.908176+0.00377326\n",
      "[0]\ttrain-auc:0.879683\ttrain-rmse:0.421742\n",
      "[1]\ttrain-auc:0.89482\ttrain-rmse:0.374599\n",
      "[2]\ttrain-auc:0.900492\ttrain-rmse:0.346391\n",
      "[3]\ttrain-auc:0.906296\ttrain-rmse:0.327897\n",
      "[4]\ttrain-auc:0.909595\ttrain-rmse:0.316396\n",
      "[5]\ttrain-auc:0.912671\ttrain-rmse:0.309497\n",
      "[6]\ttrain-auc:0.915786\ttrain-rmse:0.303797\n",
      "[7]\ttrain-auc:0.917372\ttrain-rmse:0.300372\n",
      "[8]\ttrain-auc:0.919082\ttrain-rmse:0.29816\n",
      "[9]\ttrain-auc:0.920677\ttrain-rmse:0.295895\n",
      "[10]\ttrain-auc:0.922106\ttrain-rmse:0.294404\n",
      "[11]\ttrain-auc:0.924747\ttrain-rmse:0.291759\n",
      "[12]\ttrain-auc:0.926218\ttrain-rmse:0.290081\n",
      "[13]\ttrain-auc:0.928144\ttrain-rmse:0.287697\n",
      "[14]\ttrain-auc:0.929954\ttrain-rmse:0.286008\n",
      "[15]\ttrain-auc:0.931264\ttrain-rmse:0.28448\n",
      "[16]\ttrain-auc:0.932526\ttrain-rmse:0.283161\n",
      "[17]\ttrain-auc:0.933797\ttrain-rmse:0.281701\n",
      "[18]\ttrain-auc:0.935857\ttrain-rmse:0.279368\n",
      "[19]\ttrain-auc:0.936289\ttrain-rmse:0.278964\n",
      "[20]\ttrain-auc:0.937128\ttrain-rmse:0.278198\n",
      "[21]\ttrain-auc:0.937898\ttrain-rmse:0.277353\n",
      "[22]\ttrain-auc:0.939251\ttrain-rmse:0.275414\n",
      "[23]\ttrain-auc:0.939791\ttrain-rmse:0.274814\n",
      "[24]\ttrain-auc:0.940382\ttrain-rmse:0.274346\n",
      "[25]\ttrain-auc:0.941009\ttrain-rmse:0.273671\n",
      "[26]\ttrain-auc:0.941195\ttrain-rmse:0.273473\n",
      "[27]\ttrain-auc:0.941809\ttrain-rmse:0.272811\n",
      "[28]\ttrain-auc:0.942625\ttrain-rmse:0.271747\n",
      "[29]\ttrain-auc:0.943198\ttrain-rmse:0.270989\n",
      "[30]\ttrain-auc:0.943762\ttrain-rmse:0.270238\n",
      "[31]\ttrain-auc:0.94537\ttrain-rmse:0.268401\n",
      "[32]\ttrain-auc:0.946013\ttrain-rmse:0.267528\n",
      "[33]\ttrain-auc:0.947101\ttrain-rmse:0.265897\n",
      "[34]\ttrain-auc:0.948155\ttrain-rmse:0.264642\n",
      "[35]\ttrain-auc:0.948504\ttrain-rmse:0.264229\n",
      "[36]\ttrain-auc:0.948877\ttrain-rmse:0.263792\n",
      "[37]\ttrain-auc:0.949877\ttrain-rmse:0.26263\n",
      "[38]\ttrain-auc:0.950262\ttrain-rmse:0.262308\n",
      "[39]\ttrain-auc:0.951143\ttrain-rmse:0.26129\n",
      "[40]\ttrain-auc:0.951554\ttrain-rmse:0.260834\n",
      "[41]\ttrain-auc:0.952028\ttrain-rmse:0.260203\n",
      "[42]\ttrain-auc:0.952961\ttrain-rmse:0.258859\n",
      "[43]\ttrain-auc:0.953143\ttrain-rmse:0.258593\n",
      "[44]\ttrain-auc:0.953531\ttrain-rmse:0.258037\n",
      "[45]\ttrain-auc:0.953772\ttrain-rmse:0.257684\n",
      "[46]\ttrain-auc:0.953886\ttrain-rmse:0.257519\n",
      "[47]\ttrain-auc:0.954625\ttrain-rmse:0.256592\n",
      "[48]\ttrain-auc:0.955249\ttrain-rmse:0.255954\n",
      "[49]\ttrain-auc:0.955526\ttrain-rmse:0.255609\n",
      "[50]\ttrain-auc:0.955627\ttrain-rmse:0.255463\n",
      "[51]\ttrain-auc:0.956373\ttrain-rmse:0.254557\n",
      "[52]\ttrain-auc:0.9573\ttrain-rmse:0.253317\n",
      "[53]\ttrain-auc:0.957603\ttrain-rmse:0.25282\n",
      "[54]\ttrain-auc:0.95816\ttrain-rmse:0.252007\n",
      "[55]\ttrain-auc:0.958248\ttrain-rmse:0.25191\n",
      "[56]\ttrain-auc:0.95867\ttrain-rmse:0.251191\n",
      "[57]\ttrain-auc:0.959066\ttrain-rmse:0.250616\n",
      "[58]\ttrain-auc:0.9595\ttrain-rmse:0.250042\n",
      "[59]\ttrain-auc:0.959975\ttrain-rmse:0.249383\n",
      "[60]\ttrain-auc:0.960665\ttrain-rmse:0.248225\n",
      "[61]\ttrain-auc:0.96134\ttrain-rmse:0.247421\n",
      "[62]\ttrain-auc:0.961927\ttrain-rmse:0.246468\n",
      "[63]\ttrain-auc:0.962067\ttrain-rmse:0.246328\n",
      "[64]\ttrain-auc:0.962913\ttrain-rmse:0.24493\n",
      "[65]\ttrain-auc:0.963715\ttrain-rmse:0.243778\n",
      "[66]\ttrain-auc:0.96402\ttrain-rmse:0.24336\n",
      "[67]\ttrain-auc:0.964211\ttrain-rmse:0.243133\n",
      "[68]\ttrain-auc:0.964306\ttrain-rmse:0.243071\n",
      "[69]\ttrain-auc:0.964827\ttrain-rmse:0.24231\n",
      "[70]\ttrain-auc:0.9654\ttrain-rmse:0.241527\n",
      "[71]\ttrain-auc:0.965759\ttrain-rmse:0.241118\n",
      "[72]\ttrain-auc:0.966323\ttrain-rmse:0.239979\n",
      "[73]\ttrain-auc:0.966474\ttrain-rmse:0.239818\n",
      "Working: 7\n",
      "[0]\ttrain-auc:0.807234+0.00158842\ttest-auc:0.782905+0.00242977\n",
      "[30]\ttrain-auc:0.925309+0.00350466\ttest-auc:0.833319+0.00120395\n",
      "[0]\ttrain-auc:0.80415\ttrain-rmse:0.409021\n",
      "[1]\ttrain-auc:0.826175\ttrain-rmse:0.354858\n",
      "[2]\ttrain-auc:0.835678\ttrain-rmse:0.323006\n",
      "[3]\ttrain-auc:0.842847\ttrain-rmse:0.304738\n",
      "[4]\ttrain-auc:0.848363\ttrain-rmse:0.293577\n",
      "[5]\ttrain-auc:0.851523\ttrain-rmse:0.287509\n",
      "[6]\ttrain-auc:0.856149\ttrain-rmse:0.283159\n",
      "[7]\ttrain-auc:0.858743\ttrain-rmse:0.280904\n",
      "[8]\ttrain-auc:0.86294\ttrain-rmse:0.27876\n",
      "[9]\ttrain-auc:0.866269\ttrain-rmse:0.276995\n",
      "[10]\ttrain-auc:0.870341\ttrain-rmse:0.275078\n",
      "[11]\ttrain-auc:0.873816\ttrain-rmse:0.274002\n",
      "[12]\ttrain-auc:0.876264\ttrain-rmse:0.272902\n",
      "[13]\ttrain-auc:0.88053\ttrain-rmse:0.270972\n",
      "[14]\ttrain-auc:0.882419\ttrain-rmse:0.270487\n",
      "[15]\ttrain-auc:0.886499\ttrain-rmse:0.268751\n",
      "[16]\ttrain-auc:0.888544\ttrain-rmse:0.267518\n",
      "[17]\ttrain-auc:0.889246\ttrain-rmse:0.267107\n",
      "[18]\ttrain-auc:0.892213\ttrain-rmse:0.2661\n",
      "[19]\ttrain-auc:0.893827\ttrain-rmse:0.265543\n",
      "[20]\ttrain-auc:0.896376\ttrain-rmse:0.264345\n",
      "[21]\ttrain-auc:0.897075\ttrain-rmse:0.264196\n",
      "[22]\ttrain-auc:0.898454\ttrain-rmse:0.263455\n",
      "[23]\ttrain-auc:0.898775\ttrain-rmse:0.263169\n",
      "[24]\ttrain-auc:0.900401\ttrain-rmse:0.26257\n",
      "[25]\ttrain-auc:0.900796\ttrain-rmse:0.262434\n",
      "[26]\ttrain-auc:0.90205\ttrain-rmse:0.261955\n",
      "[27]\ttrain-auc:0.902619\ttrain-rmse:0.261748\n",
      "[28]\ttrain-auc:0.903772\ttrain-rmse:0.261362\n",
      "[29]\ttrain-auc:0.905676\ttrain-rmse:0.260096\n",
      "[30]\ttrain-auc:0.90629\ttrain-rmse:0.259886\n",
      "[31]\ttrain-auc:0.906774\ttrain-rmse:0.259726\n",
      "[32]\ttrain-auc:0.907543\ttrain-rmse:0.259426\n",
      "[33]\ttrain-auc:0.909199\ttrain-rmse:0.258609\n",
      "[34]\ttrain-auc:0.910907\ttrain-rmse:0.257368\n",
      "Working: 8\n",
      "[0]\ttrain-auc:0.5+0\ttest-auc:0.5+0\n",
      "[30]\ttrain-auc:0.997623+0.000828908\ttest-auc:0.844786+0.0128607\n",
      "[0]\ttrain-auc:0.5\ttrain-rmse:0.357863\n",
      "[1]\ttrain-auc:0.691916\ttrain-rmse:0.26344\n",
      "[2]\ttrain-auc:0.706911\ttrain-rmse:0.198204\n",
      "[3]\ttrain-auc:0.817941\ttrain-rmse:0.153\n",
      "[4]\ttrain-auc:0.798103\ttrain-rmse:0.12208\n",
      "[5]\ttrain-auc:0.842495\ttrain-rmse:0.101478\n",
      "[6]\ttrain-auc:0.852676\ttrain-rmse:0.087976\n",
      "[7]\ttrain-auc:0.895524\ttrain-rmse:0.079503\n",
      "[8]\ttrain-auc:0.919649\ttrain-rmse:0.074394\n",
      "[9]\ttrain-auc:0.929535\ttrain-rmse:0.071458\n",
      "[10]\ttrain-auc:0.939236\ttrain-rmse:0.069436\n",
      "[11]\ttrain-auc:0.95652\ttrain-rmse:0.067819\n",
      "[12]\ttrain-auc:0.957084\ttrain-rmse:0.067102\n",
      "[13]\ttrain-auc:0.960761\ttrain-rmse:0.066351\n",
      "[14]\ttrain-auc:0.963243\ttrain-rmse:0.065859\n",
      "[15]\ttrain-auc:0.966913\ttrain-rmse:0.065288\n",
      "[16]\ttrain-auc:0.970889\ttrain-rmse:0.064729\n",
      "[17]\ttrain-auc:0.975958\ttrain-rmse:0.063613\n",
      "[18]\ttrain-auc:0.976986\ttrain-rmse:0.06327\n",
      "[19]\ttrain-auc:0.977846\ttrain-rmse:0.0627\n",
      "[20]\ttrain-auc:0.979981\ttrain-rmse:0.061524\n",
      "[21]\ttrain-auc:0.981448\ttrain-rmse:0.06106\n",
      "[22]\ttrain-auc:0.982688\ttrain-rmse:0.060859\n",
      "[23]\ttrain-auc:0.984868\ttrain-rmse:0.059733\n",
      "Working: 9\n",
      "[0]\ttrain-auc:0.943578+0.00513666\ttest-auc:0.932301+0.000558324\n",
      "[30]\ttrain-auc:0.997522+0.000389586\ttest-auc:0.984098+0.00163259\n",
      "[60]\ttrain-auc:0.999298+0.000138039\ttest-auc:0.984721+0.00181098\n",
      "[0]\ttrain-auc:0.938775\ttrain-rmse:0.371085\n",
      "[1]\ttrain-auc:0.963754\ttrain-rmse:0.286544\n",
      "[2]\ttrain-auc:0.968926\ttrain-rmse:0.22931\n",
      "[3]\ttrain-auc:0.974297\ttrain-rmse:0.191195\n",
      "[4]\ttrain-auc:0.980359\ttrain-rmse:0.1667\n",
      "[5]\ttrain-auc:0.981273\ttrain-rmse:0.150518\n",
      "[6]\ttrain-auc:0.984891\ttrain-rmse:0.139759\n",
      "[7]\ttrain-auc:0.985968\ttrain-rmse:0.132478\n",
      "[8]\ttrain-auc:0.987982\ttrain-rmse:0.12791\n",
      "[9]\ttrain-auc:0.989105\ttrain-rmse:0.12414\n",
      "[10]\ttrain-auc:0.989565\ttrain-rmse:0.121532\n",
      "[11]\ttrain-auc:0.990631\ttrain-rmse:0.119711\n",
      "[12]\ttrain-auc:0.991504\ttrain-rmse:0.118274\n",
      "[13]\ttrain-auc:0.992076\ttrain-rmse:0.117288\n",
      "[14]\ttrain-auc:0.992789\ttrain-rmse:0.1159\n",
      "[15]\ttrain-auc:0.993158\ttrain-rmse:0.114844\n",
      "[16]\ttrain-auc:0.993594\ttrain-rmse:0.113941\n",
      "[17]\ttrain-auc:0.993947\ttrain-rmse:0.112833\n",
      "[18]\ttrain-auc:0.994095\ttrain-rmse:0.112266\n",
      "[19]\ttrain-auc:0.994274\ttrain-rmse:0.111572\n",
      "[20]\ttrain-auc:0.99462\ttrain-rmse:0.110284\n",
      "[21]\ttrain-auc:0.994792\ttrain-rmse:0.109362\n",
      "[22]\ttrain-auc:0.994987\ttrain-rmse:0.108634\n",
      "[23]\ttrain-auc:0.99532\ttrain-rmse:0.107374\n",
      "[24]\ttrain-auc:0.995483\ttrain-rmse:0.106632\n",
      "[25]\ttrain-auc:0.995617\ttrain-rmse:0.105953\n",
      "[26]\ttrain-auc:0.995723\ttrain-rmse:0.105267\n",
      "[27]\ttrain-auc:0.995793\ttrain-rmse:0.104923\n",
      "[28]\ttrain-auc:0.995837\ttrain-rmse:0.104552\n",
      "[29]\ttrain-auc:0.996033\ttrain-rmse:0.10344\n",
      "[30]\ttrain-auc:0.996277\ttrain-rmse:0.102049\n",
      "[31]\ttrain-auc:0.99637\ttrain-rmse:0.101425\n",
      "[32]\ttrain-auc:0.99654\ttrain-rmse:0.100662\n",
      "[33]\ttrain-auc:0.996731\ttrain-rmse:0.099628\n",
      "[34]\ttrain-auc:0.996866\ttrain-rmse:0.098772\n",
      "[35]\ttrain-auc:0.997069\ttrain-rmse:0.097529\n",
      "[36]\ttrain-auc:0.997108\ttrain-rmse:0.0972\n",
      "[37]\ttrain-auc:0.997258\ttrain-rmse:0.09591\n",
      "[38]\ttrain-auc:0.997341\ttrain-rmse:0.095173\n",
      "[39]\ttrain-auc:0.997495\ttrain-rmse:0.094211\n",
      "[40]\ttrain-auc:0.997597\ttrain-rmse:0.09322\n",
      "[41]\ttrain-auc:0.997611\ttrain-rmse:0.093086\n",
      "[42]\ttrain-auc:0.997778\ttrain-rmse:0.09186\n",
      "[43]\ttrain-auc:0.9978\ttrain-rmse:0.091623\n",
      "[44]\ttrain-auc:0.997897\ttrain-rmse:0.090903\n",
      "[45]\ttrain-auc:0.997985\ttrain-rmse:0.090166\n",
      "[46]\ttrain-auc:0.998031\ttrain-rmse:0.089856\n",
      "[47]\ttrain-auc:0.998085\ttrain-rmse:0.089268\n",
      "[48]\ttrain-auc:0.998132\ttrain-rmse:0.0888\n",
      "[49]\ttrain-auc:0.99818\ttrain-rmse:0.088356\n",
      "[50]\ttrain-auc:0.998217\ttrain-rmse:0.08799\n",
      "[51]\ttrain-auc:0.998242\ttrain-rmse:0.08771\n",
      "[52]\ttrain-auc:0.99826\ttrain-rmse:0.087458\n",
      "[53]\ttrain-auc:0.99827\ttrain-rmse:0.087344\n",
      "[54]\ttrain-auc:0.998284\ttrain-rmse:0.08717\n",
      "[55]\ttrain-auc:0.998309\ttrain-rmse:0.08688\n",
      "[56]\ttrain-auc:0.99832\ttrain-rmse:0.086772\n",
      "[57]\ttrain-auc:0.998418\ttrain-rmse:0.085737\n",
      "[58]\ttrain-auc:0.998502\ttrain-rmse:0.084885\n",
      "[59]\ttrain-auc:0.998547\ttrain-rmse:0.084357\n",
      "[60]\ttrain-auc:0.998559\ttrain-rmse:0.084183\n",
      "[61]\ttrain-auc:0.998677\ttrain-rmse:0.082793\n",
      "[62]\ttrain-auc:0.998772\ttrain-rmse:0.08167\n",
      "[63]\ttrain-auc:0.998843\ttrain-rmse:0.080709\n",
      "Working: 10\n",
      "[0]\ttrain-auc:0.933827+0.000309574\ttest-auc:0.922929+0.0028616\n",
      "[30]\ttrain-auc:0.984777+0.000651827\ttest-auc:0.959117+0.00142901\n",
      "[60]\ttrain-auc:0.992889+0.000353158\ttest-auc:0.959313+0.00104739\n",
      "[0]\ttrain-auc:0.93382\ttrain-rmse:0.395719\n",
      "[1]\ttrain-auc:0.946598\ttrain-rmse:0.329809\n",
      "[2]\ttrain-auc:0.951426\ttrain-rmse:0.288176\n",
      "[3]\ttrain-auc:0.955035\ttrain-rmse:0.260319\n",
      "[4]\ttrain-auc:0.956573\ttrain-rmse:0.243608\n",
      "[5]\ttrain-auc:0.958473\ttrain-rmse:0.232202\n",
      "[6]\ttrain-auc:0.961009\ttrain-rmse:0.22323\n",
      "[7]\ttrain-auc:0.962276\ttrain-rmse:0.218422\n",
      "[8]\ttrain-auc:0.964177\ttrain-rmse:0.214264\n",
      "[9]\ttrain-auc:0.965906\ttrain-rmse:0.210521\n",
      "[10]\ttrain-auc:0.967293\ttrain-rmse:0.20796\n",
      "[11]\ttrain-auc:0.968821\ttrain-rmse:0.205577\n",
      "[12]\ttrain-auc:0.970126\ttrain-rmse:0.20359\n",
      "[13]\ttrain-auc:0.971151\ttrain-rmse:0.201604\n",
      "[14]\ttrain-auc:0.972147\ttrain-rmse:0.199422\n",
      "[15]\ttrain-auc:0.973359\ttrain-rmse:0.197827\n",
      "[16]\ttrain-auc:0.974164\ttrain-rmse:0.195721\n",
      "[17]\ttrain-auc:0.97464\ttrain-rmse:0.195444\n",
      "[18]\ttrain-auc:0.975516\ttrain-rmse:0.193604\n",
      "[19]\ttrain-auc:0.975962\ttrain-rmse:0.19329\n",
      "[20]\ttrain-auc:0.976543\ttrain-rmse:0.192456\n",
      "[21]\ttrain-auc:0.97684\ttrain-rmse:0.192258\n",
      "[22]\ttrain-auc:0.977387\ttrain-rmse:0.192059\n",
      "[23]\ttrain-auc:0.977614\ttrain-rmse:0.191472\n",
      "[24]\ttrain-auc:0.978203\ttrain-rmse:0.190218\n",
      "[25]\ttrain-auc:0.978527\ttrain-rmse:0.189564\n",
      "[26]\ttrain-auc:0.978922\ttrain-rmse:0.188256\n",
      "[27]\ttrain-auc:0.979142\ttrain-rmse:0.187664\n",
      "[28]\ttrain-auc:0.979465\ttrain-rmse:0.186789\n",
      "[29]\ttrain-auc:0.979859\ttrain-rmse:0.186148\n",
      "[30]\ttrain-auc:0.980129\ttrain-rmse:0.18585\n",
      "[31]\ttrain-auc:0.980988\ttrain-rmse:0.184654\n",
      "[32]\ttrain-auc:0.981234\ttrain-rmse:0.184072\n",
      "[33]\ttrain-auc:0.982015\ttrain-rmse:0.183039\n",
      "[34]\ttrain-auc:0.982159\ttrain-rmse:0.182855\n",
      "[35]\ttrain-auc:0.982244\ttrain-rmse:0.182679\n",
      "[36]\ttrain-auc:0.982451\ttrain-rmse:0.182559\n",
      "[37]\ttrain-auc:0.982684\ttrain-rmse:0.181584\n",
      "[38]\ttrain-auc:0.982871\ttrain-rmse:0.180908\n",
      "[39]\ttrain-auc:0.982965\ttrain-rmse:0.180616\n",
      "[40]\ttrain-auc:0.983374\ttrain-rmse:0.179829\n",
      "[41]\ttrain-auc:0.983691\ttrain-rmse:0.178905\n",
      "[42]\ttrain-auc:0.984082\ttrain-rmse:0.177875\n",
      "[43]\ttrain-auc:0.984478\ttrain-rmse:0.177386\n",
      "[44]\ttrain-auc:0.985064\ttrain-rmse:0.175786\n",
      "[45]\ttrain-auc:0.985493\ttrain-rmse:0.175333\n",
      "Working: 11\n",
      "[0]\ttrain-auc:0.5+0\ttest-auc:0.5+0\n",
      "[30]\ttrain-auc:0.999973+1.38884e-05\ttest-auc:0.935518+0.0103498\n",
      "[60]\ttrain-auc:1+0\ttest-auc:0.944692+0.00680425\n",
      "[0]\ttrain-auc:0.5\ttrain-rmse:0.356043\n",
      "[1]\ttrain-auc:0.557272\ttrain-rmse:0.259701\n",
      "[2]\ttrain-auc:0.838866\ttrain-rmse:0.192202\n",
      "[3]\ttrain-auc:0.878322\ttrain-rmse:0.14437\n",
      "[4]\ttrain-auc:0.878865\ttrain-rmse:0.110447\n",
      "[5]\ttrain-auc:0.914336\ttrain-rmse:0.086512\n",
      "[6]\ttrain-auc:0.935268\ttrain-rmse:0.070166\n",
      "[7]\ttrain-auc:0.94032\ttrain-rmse:0.059012\n",
      "[8]\ttrain-auc:0.948216\ttrain-rmse:0.051898\n",
      "[9]\ttrain-auc:0.956252\ttrain-rmse:0.047293\n",
      "[10]\ttrain-auc:0.966687\ttrain-rmse:0.043699\n",
      "[11]\ttrain-auc:0.978068\ttrain-rmse:0.041009\n",
      "[12]\ttrain-auc:0.979306\ttrain-rmse:0.039414\n",
      "[13]\ttrain-auc:0.982072\ttrain-rmse:0.038203\n",
      "[14]\ttrain-auc:0.983194\ttrain-rmse:0.037257\n",
      "[15]\ttrain-auc:0.984149\ttrain-rmse:0.035768\n",
      "[16]\ttrain-auc:0.996845\ttrain-rmse:0.034188\n",
      "[17]\ttrain-auc:0.997072\ttrain-rmse:0.033518\n",
      "[18]\ttrain-auc:0.99851\ttrain-rmse:0.032416\n",
      "[19]\ttrain-auc:0.998525\ttrain-rmse:0.032063\n",
      "[20]\ttrain-auc:0.999031\ttrain-rmse:0.031563\n",
      "[21]\ttrain-auc:0.999309\ttrain-rmse:0.030749\n",
      "[22]\ttrain-auc:0.999451\ttrain-rmse:0.030256\n",
      "[23]\ttrain-auc:0.999565\ttrain-rmse:0.029135\n",
      "[24]\ttrain-auc:0.999618\ttrain-rmse:0.028938\n",
      "[25]\ttrain-auc:0.999749\ttrain-rmse:0.027531\n",
      "[26]\ttrain-auc:0.99981\ttrain-rmse:0.027235\n",
      "[27]\ttrain-auc:0.999859\ttrain-rmse:0.026236\n",
      "[28]\ttrain-auc:0.999878\ttrain-rmse:0.025756\n",
      "[29]\ttrain-auc:0.999913\ttrain-rmse:0.02455\n",
      "[30]\ttrain-auc:0.999932\ttrain-rmse:0.02424\n",
      "[31]\ttrain-auc:0.999963\ttrain-rmse:0.022798\n",
      "[32]\ttrain-auc:0.999968\ttrain-rmse:0.022006\n",
      "[33]\ttrain-auc:0.999978\ttrain-rmse:0.021099\n",
      "[34]\ttrain-auc:0.999987\ttrain-rmse:0.019953\n",
      "[35]\ttrain-auc:0.999994\ttrain-rmse:0.019232\n",
      "[36]\ttrain-auc:0.999997\ttrain-rmse:0.018058\n",
      "[37]\ttrain-auc:0.999998\ttrain-rmse:0.016921\n",
      "[38]\ttrain-auc:0.999999\ttrain-rmse:0.016523\n",
      "[39]\ttrain-auc:0.999999\ttrain-rmse:0.015687\n",
      "[40]\ttrain-auc:0.999999\ttrain-rmse:0.015212\n",
      "[41]\ttrain-auc:1\ttrain-rmse:0.014247\n",
      "[42]\ttrain-auc:1\ttrain-rmse:0.013587\n",
      "[43]\ttrain-auc:1\ttrain-rmse:0.013282\n",
      "[44]\ttrain-auc:1\ttrain-rmse:0.012503\n",
      "[45]\ttrain-auc:1\ttrain-rmse:0.011611\n",
      "[46]\ttrain-auc:1\ttrain-rmse:0.011234\n",
      "[47]\ttrain-auc:1\ttrain-rmse:0.010641\n",
      "[48]\ttrain-auc:1\ttrain-rmse:0.01025\n",
      "[49]\ttrain-auc:1\ttrain-rmse:0.009937\n",
      "[50]\ttrain-auc:1\ttrain-rmse:0.009655\n",
      "[51]\ttrain-auc:1\ttrain-rmse:0.009299\n",
      "[52]\ttrain-auc:1\ttrain-rmse:0.00879\n",
      "[53]\ttrain-auc:1\ttrain-rmse:0.008455\n",
      "[54]\ttrain-auc:1\ttrain-rmse:0.008273\n",
      "[55]\ttrain-auc:1\ttrain-rmse:0.008037\n",
      "Working: 12\n",
      "[0]\ttrain-auc:0.79965+0.0131686\ttest-auc:0.773332+0.00483367\n",
      "[30]\ttrain-auc:0.979855+0.00248255\ttest-auc:0.850651+0.00211747\n",
      "[0]\ttrain-auc:0.79279\ttrain-rmse:0.367378\n",
      "[1]\ttrain-auc:0.814991\ttrain-rmse:0.281506\n",
      "[2]\ttrain-auc:0.824783\ttrain-rmse:0.224853\n",
      "[3]\ttrain-auc:0.829829\ttrain-rmse:0.187952\n",
      "[4]\ttrain-auc:0.850367\ttrain-rmse:0.164616\n",
      "[5]\ttrain-auc:0.86812\ttrain-rmse:0.150036\n",
      "[6]\ttrain-auc:0.891978\ttrain-rmse:0.141157\n",
      "[7]\ttrain-auc:0.900072\ttrain-rmse:0.135961\n",
      "[8]\ttrain-auc:0.907389\ttrain-rmse:0.132386\n",
      "[9]\ttrain-auc:0.9107\ttrain-rmse:0.129948\n",
      "[10]\ttrain-auc:0.914655\ttrain-rmse:0.127959\n",
      "[11]\ttrain-auc:0.923914\ttrain-rmse:0.127095\n",
      "[12]\ttrain-auc:0.928756\ttrain-rmse:0.125757\n",
      "[13]\ttrain-auc:0.934048\ttrain-rmse:0.124752\n",
      "[14]\ttrain-auc:0.938662\ttrain-rmse:0.123867\n",
      "[15]\ttrain-auc:0.942029\ttrain-rmse:0.122868\n",
      "[16]\ttrain-auc:0.944929\ttrain-rmse:0.121736\n",
      "[17]\ttrain-auc:0.950446\ttrain-rmse:0.120769\n",
      "[18]\ttrain-auc:0.95627\ttrain-rmse:0.119398\n",
      "[19]\ttrain-auc:0.95723\ttrain-rmse:0.118964\n",
      "[20]\ttrain-auc:0.960196\ttrain-rmse:0.118336\n",
      "[21]\ttrain-auc:0.962469\ttrain-rmse:0.117534\n",
      "[22]\ttrain-auc:0.963766\ttrain-rmse:0.117209\n",
      "[23]\ttrain-auc:0.963916\ttrain-rmse:0.116941\n",
      "[24]\ttrain-auc:0.964968\ttrain-rmse:0.116459\n",
      "[25]\ttrain-auc:0.965981\ttrain-rmse:0.116181\n",
      "[26]\ttrain-auc:0.967714\ttrain-rmse:0.11508\n",
      "[27]\ttrain-auc:0.970161\ttrain-rmse:0.114256\n",
      "[28]\ttrain-auc:0.970932\ttrain-rmse:0.113538\n",
      "[29]\ttrain-auc:0.973781\ttrain-rmse:0.11215\n",
      "[30]\ttrain-auc:0.974819\ttrain-rmse:0.111606\n",
      "[31]\ttrain-auc:0.97637\ttrain-rmse:0.110498\n",
      "[32]\ttrain-auc:0.976604\ttrain-rmse:0.110026\n",
      "[33]\ttrain-auc:0.976972\ttrain-rmse:0.109507\n",
      "[34]\ttrain-auc:0.97779\ttrain-rmse:0.109368\n",
      "[35]\ttrain-auc:0.9779\ttrain-rmse:0.109112\n",
      "[36]\ttrain-auc:0.978778\ttrain-rmse:0.108873\n",
      "[37]\ttrain-auc:0.979205\ttrain-rmse:0.108639\n",
      "[38]\ttrain-auc:0.980533\ttrain-rmse:0.108144\n",
      "[39]\ttrain-auc:0.981525\ttrain-rmse:0.107605\n",
      "[40]\ttrain-auc:0.983085\ttrain-rmse:0.106353\n",
      "Working: 13\n",
      "[0]\ttrain-auc:0.874688+0.0171643\ttest-auc:0.860645+0.0266754\n",
      "[30]\ttrain-auc:0.999941+1.47648e-05\ttest-auc:0.980487+0.00111325\n",
      "[60]\ttrain-auc:1+0\ttest-auc:0.983945+0.00227193\n",
      "[0]\ttrain-auc:0.873629\ttrain-rmse:0.357561\n",
      "[1]\ttrain-auc:0.878084\ttrain-rmse:0.262711\n",
      "[2]\ttrain-auc:0.933168\ttrain-rmse:0.196292\n",
      "[3]\ttrain-auc:0.962994\ttrain-rmse:0.149375\n",
      "[4]\ttrain-auc:0.96397\ttrain-rmse:0.116474\n",
      "[5]\ttrain-auc:0.974086\ttrain-rmse:0.093488\n",
      "[6]\ttrain-auc:0.974969\ttrain-rmse:0.077819\n",
      "[7]\ttrain-auc:0.975552\ttrain-rmse:0.066774\n",
      "[8]\ttrain-auc:0.976148\ttrain-rmse:0.059245\n",
      "[9]\ttrain-auc:0.989278\ttrain-rmse:0.053967\n",
      "[10]\ttrain-auc:0.990563\ttrain-rmse:0.050414\n",
      "[11]\ttrain-auc:0.993596\ttrain-rmse:0.048472\n",
      "[12]\ttrain-auc:0.994195\ttrain-rmse:0.046607\n",
      "[13]\ttrain-auc:0.994741\ttrain-rmse:0.04487\n",
      "[14]\ttrain-auc:0.996772\ttrain-rmse:0.043639\n",
      "[15]\ttrain-auc:0.997044\ttrain-rmse:0.042832\n",
      "[16]\ttrain-auc:0.997199\ttrain-rmse:0.04172\n",
      "[17]\ttrain-auc:0.997328\ttrain-rmse:0.040431\n",
      "[18]\ttrain-auc:0.998495\ttrain-rmse:0.039604\n",
      "[19]\ttrain-auc:0.998637\ttrain-rmse:0.038909\n",
      "[20]\ttrain-auc:0.998783\ttrain-rmse:0.038438\n",
      "[21]\ttrain-auc:0.998973\ttrain-rmse:0.037423\n",
      "[22]\ttrain-auc:0.999045\ttrain-rmse:0.036909\n",
      "[23]\ttrain-auc:0.999089\ttrain-rmse:0.035977\n",
      "[24]\ttrain-auc:0.999378\ttrain-rmse:0.035236\n",
      "[25]\ttrain-auc:0.999426\ttrain-rmse:0.034727\n",
      "[26]\ttrain-auc:0.999478\ttrain-rmse:0.033825\n",
      "[27]\ttrain-auc:0.999608\ttrain-rmse:0.031859\n",
      "[28]\ttrain-auc:0.999629\ttrain-rmse:0.03136\n",
      "[29]\ttrain-auc:0.999715\ttrain-rmse:0.030604\n",
      "[30]\ttrain-auc:0.999774\ttrain-rmse:0.030217\n",
      "[31]\ttrain-auc:0.999851\ttrain-rmse:0.029037\n",
      "[32]\ttrain-auc:0.999896\ttrain-rmse:0.027659\n",
      "[33]\ttrain-auc:0.999914\ttrain-rmse:0.026239\n",
      "[34]\ttrain-auc:0.99993\ttrain-rmse:0.025311\n",
      "[35]\ttrain-auc:0.999936\ttrain-rmse:0.02475\n",
      "[36]\ttrain-auc:0.999939\ttrain-rmse:0.024272\n",
      "[37]\ttrain-auc:0.999953\ttrain-rmse:0.023484\n",
      "[38]\ttrain-auc:0.999958\ttrain-rmse:0.022765\n",
      "[39]\ttrain-auc:0.999964\ttrain-rmse:0.022029\n",
      "[40]\ttrain-auc:0.999975\ttrain-rmse:0.020897\n",
      "[41]\ttrain-auc:0.999983\ttrain-rmse:0.019897\n",
      "[42]\ttrain-auc:0.999984\ttrain-rmse:0.019626\n",
      "[43]\ttrain-auc:0.999988\ttrain-rmse:0.01895\n",
      "[44]\ttrain-auc:0.999989\ttrain-rmse:0.018333\n",
      "[45]\ttrain-auc:0.999992\ttrain-rmse:0.017684\n",
      "[46]\ttrain-auc:0.999994\ttrain-rmse:0.017021\n",
      "[47]\ttrain-auc:0.999995\ttrain-rmse:0.016474\n",
      "[48]\ttrain-auc:0.999995\ttrain-rmse:0.016195\n",
      "[49]\ttrain-auc:0.999997\ttrain-rmse:0.015392\n",
      "[50]\ttrain-auc:0.999997\ttrain-rmse:0.015105\n",
      "[51]\ttrain-auc:0.999998\ttrain-rmse:0.014475\n",
      "[52]\ttrain-auc:0.999998\ttrain-rmse:0.014003\n",
      "[53]\ttrain-auc:0.999999\ttrain-rmse:0.013553\n",
      "[54]\ttrain-auc:0.999999\ttrain-rmse:0.012976\n",
      "[55]\ttrain-auc:1\ttrain-rmse:0.012269\n",
      "[56]\ttrain-auc:1\ttrain-rmse:0.01163\n",
      "Working: 14\n",
      "[0]\ttrain-auc:0.557926+0.0819193\ttest-auc:0.536375+0.0514415\n",
      "[30]\ttrain-auc:0.986888+0.00216683\ttest-auc:0.850269+0.0101252\n",
      "[0]\ttrain-auc:0.670179\ttrain-rmse:0.359889\n",
      "[1]\ttrain-auc:0.768589\ttrain-rmse:0.267467\n",
      "[2]\ttrain-auc:0.817632\ttrain-rmse:0.204359\n",
      "[3]\ttrain-auc:0.830388\ttrain-rmse:0.161266\n",
      "[4]\ttrain-auc:0.851035\ttrain-rmse:0.132695\n",
      "[5]\ttrain-auc:0.859693\ttrain-rmse:0.114287\n",
      "[6]\ttrain-auc:0.863643\ttrain-rmse:0.102849\n",
      "[7]\ttrain-auc:0.871094\ttrain-rmse:0.095947\n",
      "[8]\ttrain-auc:0.891266\ttrain-rmse:0.09154\n",
      "[9]\ttrain-auc:0.903629\ttrain-rmse:0.089192\n",
      "[10]\ttrain-auc:0.920174\ttrain-rmse:0.087558\n",
      "[11]\ttrain-auc:0.926424\ttrain-rmse:0.086635\n",
      "[12]\ttrain-auc:0.936684\ttrain-rmse:0.086077\n",
      "[13]\ttrain-auc:0.941738\ttrain-rmse:0.085638\n",
      "[14]\ttrain-auc:0.94281\ttrain-rmse:0.08527\n",
      "[15]\ttrain-auc:0.945797\ttrain-rmse:0.085051\n",
      "[16]\ttrain-auc:0.949529\ttrain-rmse:0.084611\n",
      "[17]\ttrain-auc:0.952556\ttrain-rmse:0.084293\n",
      "[18]\ttrain-auc:0.953992\ttrain-rmse:0.08397\n",
      "[19]\ttrain-auc:0.955335\ttrain-rmse:0.083734\n",
      "[20]\ttrain-auc:0.956856\ttrain-rmse:0.083435\n",
      "[21]\ttrain-auc:0.95839\ttrain-rmse:0.083369\n",
      "[22]\ttrain-auc:0.962463\ttrain-rmse:0.082937\n",
      "[23]\ttrain-auc:0.963957\ttrain-rmse:0.082342\n",
      "[24]\ttrain-auc:0.966548\ttrain-rmse:0.082087\n",
      "[25]\ttrain-auc:0.970939\ttrain-rmse:0.081149\n",
      "[26]\ttrain-auc:0.9723\ttrain-rmse:0.08082\n",
      "[27]\ttrain-auc:0.973315\ttrain-rmse:0.080441\n",
      "[28]\ttrain-auc:0.975424\ttrain-rmse:0.079999\n",
      "[29]\ttrain-auc:0.977334\ttrain-rmse:0.079373\n",
      "[30]\ttrain-auc:0.977599\ttrain-rmse:0.07903\n",
      "[31]\ttrain-auc:0.978416\ttrain-rmse:0.078655\n",
      "[32]\ttrain-auc:0.980041\ttrain-rmse:0.07818\n",
      "[33]\ttrain-auc:0.980725\ttrain-rmse:0.077681\n",
      "[34]\ttrain-auc:0.981002\ttrain-rmse:0.077463\n",
      "[35]\ttrain-auc:0.983604\ttrain-rmse:0.076773\n",
      "[36]\ttrain-auc:0.983721\ttrain-rmse:0.076543\n",
      "[37]\ttrain-auc:0.984893\ttrain-rmse:0.076078\n",
      "Working: 15\n",
      "[0]\ttrain-auc:0.5+0\ttest-auc:0.5+0\n",
      "[30]\ttrain-auc:0.99277+0.00102568\ttest-auc:0.857975+0.00418291\n",
      "[0]\ttrain-auc:0.712211\ttrain-rmse:0.359844\n",
      "[1]\ttrain-auc:0.717453\ttrain-rmse:0.26733\n",
      "[2]\ttrain-auc:0.780419\ttrain-rmse:0.204133\n",
      "[3]\ttrain-auc:0.785334\ttrain-rmse:0.161089\n",
      "[4]\ttrain-auc:0.822156\ttrain-rmse:0.132321\n",
      "[5]\ttrain-auc:0.841979\ttrain-rmse:0.113604\n",
      "[6]\ttrain-auc:0.869783\ttrain-rmse:0.101953\n",
      "[7]\ttrain-auc:0.916462\ttrain-rmse:0.094927\n",
      "[8]\ttrain-auc:0.920752\ttrain-rmse:0.090642\n",
      "[9]\ttrain-auc:0.930874\ttrain-rmse:0.08807\n",
      "[10]\ttrain-auc:0.941287\ttrain-rmse:0.086778\n",
      "[11]\ttrain-auc:0.946904\ttrain-rmse:0.086074\n",
      "[12]\ttrain-auc:0.949814\ttrain-rmse:0.085328\n",
      "[13]\ttrain-auc:0.953205\ttrain-rmse:0.084832\n",
      "[14]\ttrain-auc:0.957334\ttrain-rmse:0.084556\n",
      "[15]\ttrain-auc:0.960731\ttrain-rmse:0.084332\n",
      "[16]\ttrain-auc:0.96293\ttrain-rmse:0.083725\n",
      "[17]\ttrain-auc:0.967608\ttrain-rmse:0.083398\n",
      "[18]\ttrain-auc:0.970267\ttrain-rmse:0.082622\n",
      "[19]\ttrain-auc:0.974269\ttrain-rmse:0.081952\n",
      "[20]\ttrain-auc:0.97541\ttrain-rmse:0.081622\n",
      "[21]\ttrain-auc:0.976649\ttrain-rmse:0.08134\n",
      "Working: 16\n",
      "[0]\ttrain-auc:0.5+0\ttest-auc:0.5+0\n",
      "[30]\ttrain-auc:0.998684+0.000647643\ttest-auc:0.750303+0.0219231\n",
      "[60]\ttrain-auc:1+4.71405e-07\ttest-auc:0.772713+0.0322437\n",
      "[90]\ttrain-auc:1+0\ttest-auc:0.780478+0.0475089\n",
      "[0]\ttrain-auc:0.5\ttrain-rmse:0.356009\n",
      "[1]\ttrain-auc:0.5\ttrain-rmse:0.259781\n",
      "[2]\ttrain-auc:0.5\ttrain-rmse:0.192554\n",
      "[3]\ttrain-auc:0.5\ttrain-rmse:0.145101\n",
      "[4]\ttrain-auc:0.5\ttrain-rmse:0.111777\n",
      "[5]\ttrain-auc:0.5\ttrain-rmse:0.088788\n",
      "[6]\ttrain-auc:0.661721\ttrain-rmse:0.073378\n",
      "[7]\ttrain-auc:0.705331\ttrain-rmse:0.063435\n",
      "[8]\ttrain-auc:0.715014\ttrain-rmse:0.057294\n",
      "[9]\ttrain-auc:0.739401\ttrain-rmse:0.053406\n",
      "[10]\ttrain-auc:0.807894\ttrain-rmse:0.0513\n",
      "[11]\ttrain-auc:0.844643\ttrain-rmse:0.050159\n",
      "[12]\ttrain-auc:0.890553\ttrain-rmse:0.049301\n",
      "[13]\ttrain-auc:0.905274\ttrain-rmse:0.048777\n",
      "[14]\ttrain-auc:0.926241\ttrain-rmse:0.048301\n",
      "[15]\ttrain-auc:0.94313\ttrain-rmse:0.047629\n",
      "[16]\ttrain-auc:0.952758\ttrain-rmse:0.0473\n",
      "[17]\ttrain-auc:0.972832\ttrain-rmse:0.046581\n",
      "[18]\ttrain-auc:0.979114\ttrain-rmse:0.046219\n",
      "[19]\ttrain-auc:0.98382\ttrain-rmse:0.045856\n",
      "[20]\ttrain-auc:0.987564\ttrain-rmse:0.045854\n",
      "[21]\ttrain-auc:0.990359\ttrain-rmse:0.045311\n",
      "[22]\ttrain-auc:0.991419\ttrain-rmse:0.045194\n",
      "[23]\ttrain-auc:0.99159\ttrain-rmse:0.044641\n",
      "[24]\ttrain-auc:0.99283\ttrain-rmse:0.044208\n",
      "[25]\ttrain-auc:0.993556\ttrain-rmse:0.04347\n",
      "[26]\ttrain-auc:0.995411\ttrain-rmse:0.042393\n",
      "[27]\ttrain-auc:0.995591\ttrain-rmse:0.042094\n",
      "[28]\ttrain-auc:0.996024\ttrain-rmse:0.04168\n",
      "[29]\ttrain-auc:0.996898\ttrain-rmse:0.04149\n",
      "[30]\ttrain-auc:0.997321\ttrain-rmse:0.04125\n",
      "[31]\ttrain-auc:0.997667\ttrain-rmse:0.040468\n",
      "[32]\ttrain-auc:0.997859\ttrain-rmse:0.040138\n",
      "[33]\ttrain-auc:0.997924\ttrain-rmse:0.039743\n",
      "[34]\ttrain-auc:0.998526\ttrain-rmse:0.038465\n",
      "[35]\ttrain-auc:0.99875\ttrain-rmse:0.038038\n",
      "[36]\ttrain-auc:0.998881\ttrain-rmse:0.037475\n",
      "[37]\ttrain-auc:0.999297\ttrain-rmse:0.036361\n",
      "[38]\ttrain-auc:0.999398\ttrain-rmse:0.035487\n",
      "[39]\ttrain-auc:0.999428\ttrain-rmse:0.035078\n",
      "[40]\ttrain-auc:0.999499\ttrain-rmse:0.034806\n",
      "[41]\ttrain-auc:0.999578\ttrain-rmse:0.034425\n",
      "[42]\ttrain-auc:0.999586\ttrain-rmse:0.033947\n",
      "[43]\ttrain-auc:0.999667\ttrain-rmse:0.033221\n",
      "[44]\ttrain-auc:0.99973\ttrain-rmse:0.032774\n",
      "[45]\ttrain-auc:0.999798\ttrain-rmse:0.032301\n",
      "[46]\ttrain-auc:0.999874\ttrain-rmse:0.031263\n",
      "[47]\ttrain-auc:0.999877\ttrain-rmse:0.031059\n",
      "[48]\ttrain-auc:0.999891\ttrain-rmse:0.030361\n",
      "[49]\ttrain-auc:0.999907\ttrain-rmse:0.029837\n",
      "[50]\ttrain-auc:0.999939\ttrain-rmse:0.029227\n",
      "[51]\ttrain-auc:0.999947\ttrain-rmse:0.028447\n",
      "[52]\ttrain-auc:0.999963\ttrain-rmse:0.027745\n",
      "[53]\ttrain-auc:0.999965\ttrain-rmse:0.02722\n",
      "[54]\ttrain-auc:0.999969\ttrain-rmse:0.027002\n",
      "[55]\ttrain-auc:0.999975\ttrain-rmse:0.026721\n",
      "[56]\ttrain-auc:0.999977\ttrain-rmse:0.026461\n",
      "[57]\ttrain-auc:0.999979\ttrain-rmse:0.025311\n",
      "[58]\ttrain-auc:0.999989\ttrain-rmse:0.024055\n",
      "[59]\ttrain-auc:0.999993\ttrain-rmse:0.023343\n",
      "[60]\ttrain-auc:0.999995\ttrain-rmse:0.02259\n",
      "[61]\ttrain-auc:0.999995\ttrain-rmse:0.022352\n",
      "[62]\ttrain-auc:0.999996\ttrain-rmse:0.021779\n",
      "[63]\ttrain-auc:0.999997\ttrain-rmse:0.02111\n",
      "[64]\ttrain-auc:0.999999\ttrain-rmse:0.020468\n",
      "[65]\ttrain-auc:1\ttrain-rmse:0.019661\n",
      "[66]\ttrain-auc:1\ttrain-rmse:0.019292\n",
      "[67]\ttrain-auc:1\ttrain-rmse:0.018598\n",
      "[68]\ttrain-auc:1\ttrain-rmse:0.018204\n",
      "[69]\ttrain-auc:1\ttrain-rmse:0.017582\n",
      "[70]\ttrain-auc:1\ttrain-rmse:0.017091\n",
      "[71]\ttrain-auc:1\ttrain-rmse:0.016869\n",
      "[72]\ttrain-auc:1\ttrain-rmse:0.016354\n",
      "[73]\ttrain-auc:1\ttrain-rmse:0.016243\n",
      "[74]\ttrain-auc:1\ttrain-rmse:0.015694\n",
      "[75]\ttrain-auc:1\ttrain-rmse:0.01539\n",
      "[76]\ttrain-auc:1\ttrain-rmse:0.01488\n"
     ]
    }
   ],
   "source": [
    "param = {\n",
    "         'objective':'reg:logistic', \n",
    "         #'num_class':17,\n",
    "         #'eta':0.05, \n",
    "         #'max_depth':9, 'subsample':0.8, 'colsample_bytree':0.8, \n",
    "         #'metrics':'rmse'\n",
    "         'eval_metric':['auc','rmse']\n",
    "        }\n",
    "param['silent']=True\n",
    "\n",
    "results, bstList = [], []\n",
    "for i in range(trY.shape[1]) :\n",
    "    print ('Working: {}'.format(i))\n",
    "    dtrain.set_label(trY[:,i])\n",
    "    history = xgb.cv(param, dtrain, metrics=['auc'], verbose_eval=30, num_boost_round=1000, nfold=3, early_stopping_rounds=20) #,stratified=True,maximize=True)\n",
    "    results.append(history)\n",
    "    rvalidCV = {}\n",
    "    watchlistCV  = [(dtrain,'train')]\n",
    "    bst = xgb.train(param, dtrain, history['test-auc-mean'].argmax()+1, watchlistCV) \n",
    "    bstList.append(bst)\n",
    "    "
   ]
  },
  {
   "cell_type": "code",
   "execution_count": null,
   "metadata": {
    "collapsed": false,
    "deletable": true,
    "editable": true
   },
   "outputs": [],
   "source": []
  },
  {
   "cell_type": "code",
   "execution_count": 379,
   "metadata": {
    "collapsed": true,
    "deletable": true,
    "editable": true
   },
   "outputs": [],
   "source": [
    "# save xgb models into files\n",
    "for i in range(len(bstList)) :\n",
    "    bstList[i].save_model('../Work/Models/model-'+str(100+i)+'-'+str(binsData)+ttExt+'.xgb')"
   ]
  },
  {
   "cell_type": "code",
   "execution_count": null,
   "metadata": {
    "collapsed": true,
    "deletable": true,
    "editable": true
   },
   "outputs": [],
   "source": []
  },
  {
   "cell_type": "code",
   "execution_count": 380,
   "metadata": {
    "collapsed": false,
    "deletable": true,
    "editable": true
   },
   "outputs": [
    {
     "data": {
      "text/plain": [
       "17"
      ]
     },
     "execution_count": 380,
     "metadata": {},
     "output_type": "execute_result"
    }
   ],
   "source": [
    "# load xgb models into files\n",
    "bstNull = xgb.train(param,dtrain,0)\n",
    "bstList0= []\n",
    "for i in range(trY.shape[1]) :\n",
    "    bstList0.append(bstNull.copy())\n",
    "    bstList0[-1].load_model('../Work/Models/model-'+str(100+i)+'-'+str(binsData)+ttExt+'.xgb')\n",
    "bstList = bstList0\n",
    "del bstList0\n",
    "len(bstList)"
   ]
  },
  {
   "cell_type": "code",
   "execution_count": null,
   "metadata": {
    "collapsed": false,
    "deletable": true,
    "editable": true
   },
   "outputs": [],
   "source": []
  },
  {
   "cell_type": "code",
   "execution_count": 381,
   "metadata": {
    "collapsed": false,
    "deletable": true,
    "editable": true
   },
   "outputs": [],
   "source": [
    "#[(x['test-rmse-mean'].min(),x['test-rmse-mean'].argmin()) for x in results]"
   ]
  },
  {
   "cell_type": "code",
   "execution_count": 382,
   "metadata": {
    "collapsed": false,
    "deletable": true,
    "editable": true
   },
   "outputs": [],
   "source": [
    "#[(x['test-rmse-mean'].min(),x['test-rmse-mean'].argmin()) for x in results]"
   ]
  },
  {
   "cell_type": "code",
   "execution_count": 161,
   "metadata": {
    "collapsed": false,
    "deletable": true,
    "editable": true
   },
   "outputs": [
    {
     "data": {
      "text/plain": [
       "[(0.95933766666666676, 51),\n",
       " (0.97132033333333334, 70),\n",
       " (0.92636800000000008, 84),\n",
       " (0.97527066666666673, 52),\n",
       " (0.82370966666666667, 91),\n",
       " (0.93564866666666668, 41),\n",
       " (0.91020533333333331, 58),\n",
       " (0.84959400000000007, 84),\n",
       " (0.84758433333333338, 38),\n",
       " (0.98782933333333334, 197),\n",
       " (0.9787530000000001, 214),\n",
       " (0.95955733333333326, 49),\n",
       " (0.86465266666666662, 54),\n",
       " (0.98490033333333338, 55),\n",
       " (0.88952866666666663, 32),\n",
       " (0.87565166666666672, 27),\n",
       " (0.81941499999999989, 40)]"
      ]
     },
     "execution_count": 161,
     "metadata": {},
     "output_type": "execute_result"
    }
   ],
   "source": [
    "[(x['test-auc-mean'].max(),x['test-auc-mean'].argmax()) for x in results] # 50"
   ]
  },
  {
   "cell_type": "code",
   "execution_count": 208,
   "metadata": {
    "collapsed": false,
    "deletable": true,
    "editable": true
   },
   "outputs": [
    {
     "data": {
      "text/plain": [
       "[(0.95963833333333337, 30),\n",
       " (0.97144833333333336, 73),\n",
       " (0.92635233333333333, 109),\n",
       " (0.97506933333333334, 130),\n",
       " (0.82618333333333327, 151),\n",
       " (0.93428500000000003, 56),\n",
       " (0.91021033333333345, 56),\n",
       " (0.84739166666666665, 74),\n",
       " (0.84609366666666663, 31),\n",
       " (0.98742033333333323, 82),\n",
       " (0.97728066666666669, 190),\n",
       " (0.957928, 27),\n",
       " (0.86184966666666674, 40),\n",
       " (0.98402533333333331, 56),\n",
       " (0.88504333333333329, 28),\n",
       " (0.87253733333333328, 39),\n",
       " (0.83189766666666676, 36)]"
      ]
     },
     "execution_count": 208,
     "metadata": {},
     "output_type": "execute_result"
    }
   ],
   "source": [
    "[(x['test-auc-mean'].max(),x['test-auc-mean'].argmax()) for x in results] # 75"
   ]
  },
  {
   "cell_type": "code",
   "execution_count": 233,
   "metadata": {
    "collapsed": false,
    "deletable": true,
    "editable": true
   },
   "outputs": [
    {
     "data": {
      "text/plain": [
       "[(0.95898666666666665, 42),\n",
       " (0.97181966666666675, 152),\n",
       " (0.9253096666666667, 73),\n",
       " (0.97478400000000009, 114),\n",
       " (0.82098633333333326, 109),\n",
       " (0.92782300000000006, 36),\n",
       " (0.9083026666666667, 54),\n",
       " (0.8458106666666666, 37),\n",
       " (0.85382900000000006, 57),\n",
       " (0.98749666666666658, 226),\n",
       " (0.97769933333333336, 158),\n",
       " (0.95703633333333338, 26),\n",
       " (0.86158199999999996, 33),\n",
       " (0.98312966666666668, 57),\n",
       " (0.88108266666666657, 39),\n",
       " (0.87651833333333329, 58),\n",
       " (0.8118953333333333, 43)]"
      ]
     },
     "execution_count": 233,
     "metadata": {},
     "output_type": "execute_result"
    }
   ],
   "source": [
    "[(x['test-auc-mean'].max(),x['test-auc-mean'].argmax()) for x in results] # 255"
   ]
  },
  {
   "cell_type": "code",
   "execution_count": 107,
   "metadata": {
    "collapsed": false,
    "deletable": true,
    "editable": true
   },
   "outputs": [
    {
     "data": {
      "text/plain": [
       "[(0.95948733333333325, 32),\n",
       " (0.97256966666666667, 164),\n",
       " (0.92552966666666669, 47),\n",
       " (0.97550900000000007, 75),\n",
       " (0.82574866666666669, 133),\n",
       " (0.93550366666666684, 40),\n",
       " (0.91033400000000009, 44),\n",
       " (0.84866999999999992, 75),\n",
       " (0.85204333333333337, 23),\n",
       " (0.98744266666666658, 125),\n",
       " (0.97777599999999998, 123),\n",
       " (0.9568983333333333, 64),\n",
       " (0.86091600000000001, 25),\n",
       " (0.98515599999999992, 77),\n",
       " (0.88546999999999987, 32),\n",
       " (0.87672866666666671, 28),\n",
       " (0.82038299999999997, 21)]"
      ]
     },
     "execution_count": 107,
     "metadata": {},
     "output_type": "execute_result"
    }
   ],
   "source": [
    "[(x['test-auc-mean'].max(),x['test-auc-mean'].argmax()) for x in results] # 64"
   ]
  },
  {
   "cell_type": "code",
   "execution_count": null,
   "metadata": {
    "collapsed": true,
    "deletable": true,
    "editable": true
   },
   "outputs": [],
   "source": []
  },
  {
   "cell_type": "code",
   "execution_count": 383,
   "metadata": {
    "collapsed": false,
    "deletable": true,
    "editable": true
   },
   "outputs": [
    {
     "data": {
      "text/plain": [
       "(numpy.ndarray, (40479, 17))"
      ]
     },
     "execution_count": 383,
     "metadata": {},
     "output_type": "execute_result"
    }
   ],
   "source": [
    "trYP = []\n",
    "for bstI in bstList :\n",
    "    trYP1 = bstI.predict(dtrain);\n",
    "    trYP.append(trYP1)\n",
    "trYP = np.array(trYP).T\n",
    "type(trYP),trYP.shape"
   ]
  },
  {
   "cell_type": "code",
   "execution_count": 384,
   "metadata": {
    "collapsed": true,
    "deletable": true,
    "editable": true
   },
   "outputs": [],
   "source": [
    "trYPP= trYP.copy() # вероятностный массив\n",
    "trYP[trYP<0.5] = 0\n",
    "trYP[trYP!=0]  = 1"
   ]
  },
  {
   "cell_type": "code",
   "execution_count": 385,
   "metadata": {
    "collapsed": false,
    "deletable": true,
    "editable": true
   },
   "outputs": [
    {
     "name": "stdout",
     "output_type": "stream",
     "text": [
      "#0 accuracy=0.968428073816 precision=0.84258812168 recall=0.647015202076 ros_auc=0.819193377334 fbeta2=0.678513103663 not=1278\n",
      "#1 accuracy=0.980854270115 precision=0.984900480439 recall=0.994588542639 ros_auc=0.900868108137 fbeta2=0.992635712537 not=775\n",
      "#2 accuracy=0.907062921515 precision=0.879290465632 recall=0.805034510759 ros_auc=0.878355204535 fbeta2=0.818865119352 not=3762\n",
      "#3 accuracy=0.957780577583 precision=0.96008953168 recall=0.980654918927 ros_auc=0.942228189875 fbeta2=0.976471659522 not=1709\n",
      "#4 accuracy=0.916598730206 precision=0.880875967529 recall=0.629604641749 ros_auc=0.805261374945 fbeta2=0.667696974901 not=3376\n",
      "#5 accuracy=0.956224215025 precision=0.880952380952 recall=0.596448087432 ros_auc=0.7942179599 fbeta2=0.63763290104 not=1772\n",
      "#6 accuracy=0.923614713802 precision=0.8641216908 recall=0.732003469211 ros_auc=0.851668853835 fbeta2=0.755093172465 not=3092\n",
      "#7 accuracy=0.908372242397 precision=0.784023668639 recall=0.236765691311 ros_auc=0.614327515396 fbeta2=0.27518172378 not=3709\n",
      "#8 accuracy=0.99528150399 precision=1.0 recall=0.0861244019139 ros_auc=0.543062200957 fbeta2=0.105386416862 not=191\n",
      "#9 accuracy=0.992119370538 precision=0.94472361809 recall=0.899952130206 ros_auc=0.948543400346 fbeta2=0.908563696114 not=319\n",
      "#10 accuracy=0.960868598533 precision=0.925116070091 recall=0.850709268696 ros_auc=0.917828594249 fbeta2=0.864617451919 not=1584\n",
      "#11 accuracy=1.0 precision=1.0 recall=1.0 ros_auc=1.0 fbeta2=1.0 not=0\n",
      "#12 accuracy=0.984559895254 precision=0.96837944664 recall=0.284222737819 ros_auc=0.642010402153 fbeta2=0.330991623885 not=625\n",
      "#13 accuracy=0.999975295832 precision=1.0 recall=0.997050147493 ros_auc=0.998525073746 fbeta2=0.997638724911 not=1\n",
      "#14 accuracy=0.992564045554 precision=1.0 recall=0.0933734939759 ros_auc=0.546686746988 fbeta2=0.114054451803 not=301\n",
      "#15 accuracy=0.991699399689 precision=1.0 recall=0.0117647058824 ros_auc=0.505882352941 fbeta2=0.0146627565982 not=336\n",
      "#16 accuracy=0.99990118333 precision=1.0 recall=0.959183673469 ros_auc=0.979591836735 fbeta2=0.9670781893 not=4\n"
     ]
    }
   ],
   "source": [
    "for i in range(trYP.shape[1]) :\n",
    "    print ('#{} accuracy={} precision={} recall={} ros_auc={} fbeta2={} not={}'.format(i, \n",
    "                                           skm.accuracy_score(trY[:,i],trYP[:,i]), \n",
    "                                           skm.precision_score(trY[:,i],trYP[:,i]), \n",
    "                                           skm.recall_score(trY[:,i],trYP[:,i]), \n",
    "                                           skm.roc_auc_score(trY[:,i],trYP[:,i]), \n",
    "                                           skm.fbeta_score(trY[:,i],trYP[:,i],beta=2),\n",
    "                                           len(trYP[trYP[:,i]<>trY[:,i],i])))\n",
    "    #print (skm.confusion_matrix(trY[:,i],trYP[:,i]))\n",
    "    #fpr,tpr,thr = skm.roc_curve(trY[:,i],trYP[:,i]); print (len(thr),len(fpr),len(trYP[:,i]))\n",
    "    #plt.plot(fpr,tpr); plt.show()"
   ]
  },
  {
   "cell_type": "code",
   "execution_count": 387,
   "metadata": {
    "collapsed": false,
    "deletable": true,
    "editable": true
   },
   "outputs": [
    {
     "name": "stdout",
     "output_type": "stream",
     "text": [
      "['haze', 'primary', 'agriculture', 'clear', 'water', 'habitation', 'road', 'cultivation', 'slash_burn', 'cloudy', 'partly_cloudy', 'conventional_mine', 'bare_ground', 'artisinal_mine', 'blooming', 'selective_logging', 'blow_down']\n"
     ]
    },
    {
     "data": {
      "text/plain": [
       "((2350, 17), [3, 10, 0, 9], 0.9419710101982863, 0.9577993431612218)"
      ]
     },
     "execution_count": 387,
     "metadata": {},
     "output_type": "execute_result"
    }
   ],
   "source": [
    "wr = [labels.index(i) for i in weather_labels]; wr\n",
    "print(labels)\n",
    "trYPP[trYPP[:,wr].argmax(axis=1)<>trY[:,wr].argmax(axis=1)].shape, wr, (40497.0-2350)/40497.0, (40497.0-1709)/40497.0"
   ]
  },
  {
   "cell_type": "code",
   "execution_count": 388,
   "metadata": {
    "collapsed": false,
    "deletable": true,
    "editable": true
   },
   "outputs": [
    {
     "name": "stderr",
     "output_type": "stream",
     "text": [
      "/home/boba/anaconda2/envs/tensorflow-gpu/lib/python2.7/site-packages/ipykernel/__main__.py:1: VisibleDeprecationWarning: boolean index did not match indexed array along dimension 0; dimension is 40479 but corresponding boolean dimension is 17\n",
      "  if __name__ == '__main__':\n"
     ]
    },
    {
     "data": {
      "text/plain": [
       "(3, 17)"
      ]
     },
     "execution_count": 388,
     "metadata": {},
     "output_type": "execute_result"
    }
   ],
   "source": [
    "trY[trYP[10]==1].shape"
   ]
  },
  {
   "cell_type": "code",
   "execution_count": 389,
   "metadata": {
    "collapsed": false,
    "deletable": true,
    "editable": true
   },
   "outputs": [],
   "source": [
    "# Построение важности полей для разных признаков (importance)\n",
    "bstga   = np.zeros((trX.shape[1],trY.shape[1]))\n",
    "for i in range(len(bstList)) :\n",
    "    bstgfs = bstList[i].get_fscore()\n",
    "    bstgfs = [(int(n.split('f')[1]),bstgfs[n]) for n in bstgfs.keys()]\n",
    "    bstga1 = np.array(bstgfs)\n",
    "    bstga[bstga1[:,0],i] = bstga1[:,1]\n",
    "\n",
    "\n",
    "if False :\n",
    "    #bstgfs.sort(key=lambda x: -x[1])\n",
    "    #bstgfs[:20]\n",
    "    plt.hist([nn for n,nn in bstgfs],bins=11); plt.show()\n",
    "    bst_gfs_main = [(n,nn) for n,nn in bstgfs if nn>=20]\n",
    "    bst_gfs_main.sort(key=lambda x: x[0])\n",
    "    bst_gfs_main\n",
    "    bstga[:,6]"
   ]
  },
  {
   "cell_type": "code",
   "execution_count": 390,
   "metadata": {
    "collapsed": false,
    "deletable": true,
    "editable": true
   },
   "outputs": [
    {
     "data": {
      "image/png": "[encoded data removed]",
      "text/plain": [
       "<matplotlib.figure.Figure at 0x7fcca5adeed0>"
      ]
     },
     "metadata": {},
     "output_type": "display_data"
    },
    {
     "data": {
      "text/plain": [
       "['haze',\n",
       " 'agriculture',\n",
       " 'clear',\n",
       " 'water',\n",
       " 'habitation',\n",
       " 'road',\n",
       " 'cultivation',\n",
       " 'bare_ground']"
      ]
     },
     "execution_count": 390,
     "metadata": {},
     "output_type": "execute_result"
    }
   ],
   "source": [
    "xx = [0]+range(2,8)+[12] # плохие 600-4000\n",
    "plt.plot(bstga[:,xx]); \n",
    "#plt.legenda([labels[x] for x in xx])\n",
    "plt.show();\n",
    "[labels[x] for x in xx]\n"
   ]
  },
  {
   "cell_type": "code",
   "execution_count": 391,
   "metadata": {
    "collapsed": false,
    "deletable": true,
    "editable": true
   },
   "outputs": [
    {
     "data": {
      "image/png": "[encoded data removed]",
      "text/plain": [
       "<matplotlib.figure.Figure at 0x7fcc6c7f0350>"
      ]
     },
     "metadata": {},
     "output_type": "display_data"
    },
    {
     "data": {
      "text/plain": [
       "['slash_burn', 'partly_cloudy', 'blooming', 'selective_logging']"
      ]
     },
     "execution_count": 391,
     "metadata": {},
     "output_type": "execute_result"
    }
   ],
   "source": [
    "xx = [8,10,14,15] # среднии 100-400\n",
    "plt.plot(bstga[:,xx]); \n",
    "#plt.legenda([labels[x] for x in xx])\n",
    "plt.show();\n",
    "[labels[x] for x in xx]\n"
   ]
  },
  {
   "cell_type": "code",
   "execution_count": 392,
   "metadata": {
    "collapsed": false,
    "deletable": true,
    "editable": true
   },
   "outputs": [
    {
     "data": {
      "image/png": "[encoded data removed]",
      "text/plain": [
       "<matplotlib.figure.Figure at 0x7fcca4349b10>"
      ]
     },
     "metadata": {},
     "output_type": "display_data"
    },
    {
     "data": {
      "text/plain": [
       "['primary', 'cloudy', 'conventional_mine', 'artisinal_mine', 'blow_down']"
      ]
     },
     "execution_count": 392,
     "metadata": {},
     "output_type": "execute_result"
    }
   ],
   "source": [
    "xx = [1,9,11,13,16] # отличные 0-100\n",
    "plt.plot(bstga[:,xx]); plt.show();\n",
    "[labels[x] for x in xx]"
   ]
  },
  {
   "cell_type": "code",
   "execution_count": null,
   "metadata": {
    "collapsed": true,
    "deletable": true,
    "editable": true
   },
   "outputs": [],
   "source": []
  },
  {
   "cell_type": "code",
   "execution_count": null,
   "metadata": {
    "collapsed": false,
    "deletable": true,
    "editable": true
   },
   "outputs": [],
   "source": []
  },
  {
   "cell_type": "code",
   "execution_count": null,
   "metadata": {
    "collapsed": true,
    "deletable": true,
    "editable": true
   },
   "outputs": [],
   "source": []
  },
  {
   "cell_type": "code",
   "execution_count": 393,
   "metadata": {
    "collapsed": false,
    "deletable": true,
    "editable": true
   },
   "outputs": [],
   "source": [
    "# Попытка посчитать уровень прохождения для каждого признака"
   ]
  },
  {
   "cell_type": "code",
   "execution_count": 394,
   "metadata": {
    "collapsed": false,
    "deletable": true,
    "editable": true
   },
   "outputs": [
    {
     "data": {
      "text/plain": [
       "[42.0,\n",
       " 56.0,\n",
       " 44.0,\n",
       " 53.0,\n",
       " 39.0,\n",
       " 40.0,\n",
       " 46.0,\n",
       " 41.0,\n",
       " 17.0,\n",
       " 42.0,\n",
       " 46.0,\n",
       " 14.0,\n",
       " 30.0,\n",
       " 24.0,\n",
       " 22.0,\n",
       " 22.0,\n",
       " 15.0]"
      ]
     },
     "execution_count": 394,
     "metadata": {},
     "output_type": "execute_result"
    }
   ],
   "source": [
    "ixx,iacc = [], []\n",
    "for i in range(trY.shape[1]) :\n",
    "    max, maxxx = 0.0, 0.0\n",
    "    for xx in range(0,101) :\n",
    "        tempYP = trYPP[:,i].copy(); #print(tempYP.mean())\n",
    "        tempYP[tempYP<float(xx/100.0)] = 0\n",
    "        tempYP[tempYP>0.0]   = 1\n",
    "        temp = skm.accuracy_score(trY[:,i],tempYP)\n",
    "        #print(float(xx/10.0),temp)\n",
    "        if (temp>max) : \n",
    "            max = temp; maxxx = float(xx)\n",
    "            temp = skm.confusion_matrix(trY[:,i],tempYP);\n",
    "            minloss = temp[0][1]+temp[1][0]\n",
    "    ixx.append(maxxx)\n",
    "    tempYP = trYPP[:,i].copy(); #print(tempYP.mean())\n",
    "    tempYP[tempYP<0.5]   = 0\n",
    "    tempYP[tempYP>0.0]   = 1\n",
    "    temp = skm.accuracy_score(trY[:,i],tempYP)\n",
    "    minloss05 = skm.confusion_matrix(trY[:,i],tempYP);\n",
    "    minloss05 = minloss05[0][1]+minloss05[1][0]\n",
    "    iacc.append((maxxx,max,temp,minloss,minloss05))\n",
    "ixx\n",
    "#[ixx[xx] for xx in wr]"
   ]
  },
  {
   "cell_type": "code",
   "execution_count": 395,
   "metadata": {
    "collapsed": false,
    "deletable": true,
    "editable": true
   },
   "outputs": [
    {
     "data": {
      "text/plain": [
       "[(42.0, 0.97047851972627786, 0.96842807381605278, 1195, 1278),\n",
       " (56.0, 0.98157069097556759, 0.98085427011536841, 746, 775),\n",
       " (44.0, 0.90814990488895475, 0.90706292151485957, 3718, 3762),\n",
       " (53.0, 0.95839818177326519, 0.95778057758343838, 1684, 1709),\n",
       " (39.0, 0.91847624694285923, 0.91659873020578575, 3300, 3376),\n",
       " (40.0, 0.95881815262234737, 0.95622421502507471, 1667, 1772),\n",
       " (46.0, 0.92643098890782871, 0.92361471380221838, 2978, 3092),\n",
       " (41.0, 0.91180612169272957, 0.90837224239729242, 3570, 3709),\n",
       " (17.0, 0.99666493737493511, 0.99528150398972304, 135, 191),\n",
       " (42.0, 0.9926381580572643, 0.99211937053780974, 298, 319),\n",
       " (46.0, 0.96111564020850315, 0.96086859853257245, 1574, 1584),\n",
       " (14.0, 1.0, 1.0, 0, 0),\n",
       " (30.0, 0.988141999555325, 0.98455989525432941, 480, 625),\n",
       " (24.0, 1.0, 0.99997529583240696, 0, 1),\n",
       " (22.0, 0.99431804145359326, 0.99256404555448507, 230, 301),\n",
       " (22.0, 0.99315694557671874, 0.99169939968872745, 277, 336),\n",
       " (15.0, 1.0, 0.99990118332962774, 0, 4)]"
      ]
     },
     "execution_count": 395,
     "metadata": {},
     "output_type": "execute_result"
    }
   ],
   "source": [
    "iacc"
   ]
  },
  {
   "cell_type": "code",
   "execution_count": null,
   "metadata": {
    "collapsed": true,
    "deletable": true,
    "editable": true
   },
   "outputs": [],
   "source": []
  },
  {
   "cell_type": "code",
   "execution_count": null,
   "metadata": {
    "collapsed": true,
    "deletable": true,
    "editable": true
   },
   "outputs": [],
   "source": []
  },
  {
   "cell_type": "code",
   "execution_count": 396,
   "metadata": {
    "collapsed": false,
    "deletable": true,
    "editable": true
   },
   "outputs": [],
   "source": [
    "# Forming output dataset for predicting --> trOX, trOY\n",
    "del(trX)\n",
    "del(trY)"
   ]
  },
  {
   "cell_type": "code",
   "execution_count": 397,
   "metadata": {
    "collapsed": false,
    "deletable": true,
    "editable": true
   },
   "outputs": [
    {
     "name": "stdout",
     "output_type": "stream",
     "text": [
      "61191\n",
      "2017-07-02 00:22:15.798298 61191 61191\n",
      "2017-07-02 00:27:48.381733 \t 5000 \t test_15649.tif\n",
      "2017-07-02 00:32:43.967615 \t 10000 \t test_32423.tif\n",
      "2017-07-02 00:37:10.297015 \t 15000 \t test_36264.tif\n",
      "2017-07-02 00:41:18.664002 \t 20000 \t test_10894.tif\n",
      "2017-07-02 00:45:23.928440 \t 25000 \t file_9502.tif\n",
      "2017-07-02 00:49:19.240335 \t 30000 \t file_14128.tif\n",
      "2017-07-02 00:53:04.589600 \t 35000 \t file_17389.tif\n",
      "2017-07-02 00:56:44.155740 \t 40000 \t test_19356.tif\n",
      "2017-07-02 01:00:18.341299 \t 45000 \t test_10134.tif\n",
      "2017-07-02 01:03:48.579482 \t 50000 \t test_24243.tif\n",
      "2017-07-02 01:07:19.690403 \t 55000 \t test_7049.tif\n",
      "2017-07-02 01:10:45.684732 \t 60000 \t file_10482.tif\n",
      "2017-07-02 01:11:33.167729\n"
     ]
    }
   ],
   "source": [
    "nameAsk = os.listdir(teDirI); print(len(nameAsk))\n",
    "trOX, trOY, i, size = [], [], 0, len(nameAsk)\n",
    "print(datetime.datetime.now(),len(nameAsk),size)\n",
    "for nn in nameAsk[0:size] :\n",
    "    nf = os.path.join(teDirI,nn);\n",
    "    nx = formImHist(nf,binsData) #,printOK=True)\n",
    "    if (nx is not None) :\n",
    "        trOX.append(nx)\n",
    "        trOY.append(nn)\n",
    "    i += 1\n",
    "    if (i%5000==0) : print(datetime.datetime.now(),\"\\t\",i,\"\\t\",nn)\n",
    "\n",
    "print(datetime.datetime.now())\n",
    "\n",
    "#assert (size!=len(trOY)), \"Wrong files {} != {}\".format(size,len(trOY))"
   ]
  },
  {
   "cell_type": "code",
   "execution_count": 398,
   "metadata": {
    "collapsed": false,
    "deletable": true,
    "editable": true
   },
   "outputs": [
    {
     "name": "stdout",
     "output_type": "stream",
     "text": [
      "61191 (61191, 256) (61191,)\n"
     ]
    }
   ],
   "source": [
    "trOX = np.array(trOX);\n",
    "trOY = np.array([os.path.splitext(x)[0] for x in trOY]);\n",
    "print(len(nameAsk),trOX.shape,trOY.shape)"
   ]
  },
  {
   "cell_type": "code",
   "execution_count": 399,
   "metadata": {
    "collapsed": false,
    "deletable": true,
    "editable": true
   },
   "outputs": [],
   "source": [
    "#trOX[20],trOY[20]"
   ]
  },
  {
   "cell_type": "code",
   "execution_count": 400,
   "metadata": {
    "collapsed": true,
    "deletable": true,
    "editable": true
   },
   "outputs": [],
   "source": [
    "# Saving & Loading"
   ]
  },
  {
   "cell_type": "code",
   "execution_count": 401,
   "metadata": {
    "collapsed": false,
    "deletable": true,
    "editable": true
   },
   "outputs": [],
   "source": [
    "np.save('../Work/test-data-XX'+str(binsData)+ttExt+'.npy',trOX)\n",
    "np.save('../Work/test-data-YY'+str(binsData)+ttExt+'.npy',trOY)"
   ]
  },
  {
   "cell_type": "code",
   "execution_count": 402,
   "metadata": {
    "collapsed": false,
    "deletable": true,
    "editable": true
   },
   "outputs": [
    {
     "name": "stdout",
     "output_type": "stream",
     "text": [
      "(61191, 256) (61191,)\n"
     ]
    }
   ],
   "source": [
    "trOX = np.load('../Work/test-data-XX'+str(binsData)+ttExt+'.npy')\n",
    "trOY = np.load('../Work/test-data-YY'+str(binsData)+ttExt+'.npy')\n",
    "print(trOX.shape,trOY.shape)"
   ]
  },
  {
   "cell_type": "code",
   "execution_count": null,
   "metadata": {
    "collapsed": false,
    "deletable": true,
    "editable": true
   },
   "outputs": [],
   "source": []
  },
  {
   "cell_type": "code",
   "execution_count": 403,
   "metadata": {
    "collapsed": false,
    "deletable": true,
    "editable": true
   },
   "outputs": [],
   "source": [
    "# Формирование результата\n",
    "dtest  = xgb.DMatrix(trOX)"
   ]
  },
  {
   "cell_type": "code",
   "execution_count": 404,
   "metadata": {
    "collapsed": false,
    "deletable": true,
    "editable": true
   },
   "outputs": [
    {
     "data": {
      "text/plain": [
       "(numpy.ndarray, (61191, 17))"
      ]
     },
     "execution_count": 404,
     "metadata": {},
     "output_type": "execute_result"
    }
   ],
   "source": [
    "trP = []\n",
    "for bstI in bstList :\n",
    "    trP1 = bstI.predict(dtest);\n",
    "    trP.append(trP1)\n",
    "trP = np.array(trP).T\n",
    "type(trP),trP.shape    "
   ]
  },
  {
   "cell_type": "code",
   "execution_count": 405,
   "metadata": {
    "collapsed": true,
    "deletable": true,
    "editable": true
   },
   "outputs": [],
   "source": [
    "np.save('../Work/test-data-RR'+str(binsData)+ttExt+'.npy',trP)"
   ]
  },
  {
   "cell_type": "code",
   "execution_count": 406,
   "metadata": {
    "collapsed": false,
    "deletable": true,
    "editable": true
   },
   "outputs": [
    {
     "data": {
      "text/plain": [
       "(61191, 17)"
      ]
     },
     "execution_count": 406,
     "metadata": {},
     "output_type": "execute_result"
    }
   ],
   "source": [
    "trP = np.load('../Work/test-data-RR'+str(binsData)+ttExt+'.npy')\n",
    "trP.shape"
   ]
  },
  {
   "cell_type": "code",
   "execution_count": 407,
   "metadata": {
    "collapsed": false,
    "deletable": true,
    "editable": true
   },
   "outputs": [
    {
     "name": "stdout",
     "output_type": "stream",
     "text": [
      "[3, 10, 0, 9] \n",
      " ['haze', 'primary', 'agriculture', 'clear', 'water', 'habitation', 'road', 'cultivation', 'slash_burn', 'cloudy', 'partly_cloudy', 'conventional_mine', 'bare_ground', 'artisinal_mine', 'blooming', 'selective_logging', 'blow_down'] \n",
      " [2.0, 0.56, 0.44, 2.0, 0.39, 0.4, 0.46, 0.41, 0.17, 2.0, 2.0, 0.14, 0.3, 0.24, 0.22, 0.22, 0.15]\n"
     ]
    }
   ],
   "source": [
    "wr = [labels.index(i) for i in weather_labels];\n",
    "trM=np.array(ixx)/100.0 #np.array([0.5]*17);\n",
    "trM[np.array(wr)] = 2.0\n",
    "print(wr,'\\n',labels,'\\n',trM.tolist())"
   ]
  },
  {
   "cell_type": "code",
   "execution_count": null,
   "metadata": {
    "collapsed": true,
    "deletable": true,
    "editable": true
   },
   "outputs": [],
   "source": []
  },
  {
   "cell_type": "code",
   "execution_count": 408,
   "metadata": {
    "collapsed": false,
    "deletable": true,
    "editable": true
   },
   "outputs": [
    {
     "name": "stdout",
     "output_type": "stream",
     "text": [
      "['test_0', 'clear primary'] \n",
      " ['file_20521', 'clear primary agriculture habitation road'] \n",
      " [ 2.    0.56  0.44  2.    0.39  0.4   0.46  0.41  0.17  2.    2.    0.14\n",
      "  0.3   0.24  0.22  0.22  0.15] [  7.56122312e-03   9.99360859e-01   1.47644868e-02   9.84987438e-01\n",
      "   1.22814402e-02   2.07584957e-03   1.16230743e-02   7.64187751e-03\n",
      "   7.03619618e-04   8.80468069e-05   4.07891069e-03   7.68162772e-06\n",
      "   2.08476256e-03   3.05504363e-05   7.44206179e-03   5.02857380e-03\n",
      "   1.05890722e-04]\n"
     ]
    }
   ],
   "source": [
    "#trP = model.predict(trX, batch_size=512); trP=K.get_value(trP)\n",
    "res = []\n",
    "\n",
    "for i in range(trP.shape[0]) :\n",
    "    trA1 = [weather_labels[trP[i,wr].argmax()]]\n",
    "    trA2 = [labels[ii] for ii in range(len(labels)) if (trP[i,ii]>trM[ii])]\n",
    "    trPP = trA1 + trA2;\n",
    "    pp   = ' '.join(trPP)\n",
    "    ##if (pp==\"\") : print(trY[i])\n",
    "    res.append([trOY[i],pp])\n",
    "\n",
    "res.sort(cmp=lambda x,y: cmp(int(x[0].partition('_')[2]),int(y[0].partition('_')[2])) if (x[0].partition('_')[0]==y[0].partition('_')[0]) else cmp(y[0].partition('_')[0],x[0].partition('_')[0]))\n",
    "#print(res[4:8],'\\n',res[-4:])\n",
    "print(res[0],'\\n',res[-1],'\\n',trM,trP[0])"
   ]
  },
  {
   "cell_type": "code",
   "execution_count": null,
   "metadata": {
    "collapsed": true,
    "deletable": true,
    "editable": true
   },
   "outputs": [],
   "source": []
  },
  {
   "cell_type": "code",
   "execution_count": 409,
   "metadata": {
    "collapsed": false,
    "deletable": true,
    "editable": true
   },
   "outputs": [
    {
     "name": "stdout",
     "output_type": "stream",
     "text": [
      "['haze', 'primary', 'agriculture', 'clear', 'water', 'habitation', 'road', 'cultivation', 'slash_burn', 'cloudy', 'partly_cloudy', 'conventional_mine', 'bare_ground', 'artisinal_mine', 'blooming', 'selective_logging', 'blow_down']\n",
      "[2.0, 0.56, 0.44, 2.0, 0.39, 0.4, 0.46, 0.41, 0.17, 2.0, 2.0, 0.14, 0.3, 0.24, 0.22, 0.22, 0.15]\n"
     ]
    },
    {
     "data": {
      "text/plain": [
       "array([[ 0.,  1.,  0.,  0.,  0.,  0.,  0.,  0.,  0.,  0.,  1.,  0.,  0.,\n",
       "         0.,  0.,  0.,  0.],\n",
       "       [ 0.,  1.,  1.,  1.,  0.,  0.,  0.,  0.,  0.,  0.,  0.,  0.,  0.,\n",
       "         0.,  0.,  0.,  0.],\n",
       "       [ 0.,  1.,  1.,  1.,  1.,  0.,  0.,  0.,  0.,  0.,  0.,  0.,  0.,\n",
       "         0.,  0.,  0.,  0.],\n",
       "       [ 0.,  1.,  0.,  1.,  0.,  0.,  0.,  0.,  0.,  0.,  0.,  0.,  0.,\n",
       "         0.,  0.,  0.,  0.],\n",
       "       [ 0.,  1.,  0.,  1.,  0.,  0.,  0.,  0.,  0.,  0.,  0.,  0.,  0.,\n",
       "         0.,  0.,  0.,  0.],\n",
       "       [ 0.,  1.,  0.,  1.,  0.,  0.,  0.,  0.,  0.,  0.,  0.,  0.,  0.,\n",
       "         0.,  0.,  0.,  0.],\n",
       "       [ 0.,  1.,  1.,  1.,  0.,  0.,  1.,  0.,  0.,  0.,  0.,  0.,  0.,\n",
       "         0.,  0.,  0.,  0.]], dtype=float32)"
      ]
     },
     "execution_count": 409,
     "metadata": {},
     "output_type": "execute_result"
    }
   ],
   "source": [
    "print(labels)\n",
    "print(trM.tolist())\n",
    "np.round(trP[4:11,:])"
   ]
  },
  {
   "cell_type": "code",
   "execution_count": 410,
   "metadata": {
    "collapsed": false,
    "deletable": true,
    "editable": true
   },
   "outputs": [
    {
     "name": "stdout",
     "output_type": "stream",
     "text": [
      "2017-07-02-01-12-57\n"
     ]
    }
   ],
   "source": [
    "rrr=pd.DataFrame(res,columns=['image_name','tags']); rrr.head(); \n",
    "suffixDT = (datetime.datetime.now()).strftime('%Y-%m-%d-%H-%M-%S'); print(suffixDT)\n",
    "rrr.to_csv('../Result/vss'+suffixDT+'.csv',index=False);"
   ]
  },
  {
   "cell_type": "code",
   "execution_count": null,
   "metadata": {
    "collapsed": true,
    "deletable": true,
    "editable": true
   },
   "outputs": [],
   "source": []
  },
  {
   "cell_type": "code",
   "execution_count": null,
   "metadata": {
    "collapsed": false,
    "deletable": true,
    "editable": true
   },
   "outputs": [],
   "source": []
  },
  {
   "cell_type": "code",
   "execution_count": null,
   "metadata": {
    "collapsed": true,
    "deletable": true,
    "editable": true
   },
   "outputs": [],
   "source": []
  },
  {
   "cell_type": "code",
   "execution_count": null,
   "metadata": {
    "collapsed": true,
    "deletable": true,
    "editable": true
   },
   "outputs": [],
   "source": []
  },
  {
   "cell_type": "code",
   "execution_count": null,
   "metadata": {
    "collapsed": true,
    "deletable": true,
    "editable": true
   },
   "outputs": [],
   "source": []
  }
 ],
 "metadata": {
  "kernelspec": {
   "display_name": "Python 2",
   "language": "python",
   "name": "python2"
  },
  "language_info": {
   "codemirror_mode": {
    "name": "ipython",
    "version": 2
   },
   "file_extension": ".py",
   "mimetype": "text/x-python",
   "name": "python",
   "nbconvert_exporter": "python",
   "pygments_lexer": "ipython2",
   "version": "2.7.13"
  }
 },
 "nbformat": 4,
 "nbformat_minor": 2
}
