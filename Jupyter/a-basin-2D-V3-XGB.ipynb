{
 "cells": [
  {
   "cell_type": "code",
   "execution_count": 3,
   "metadata": {
    "collapsed": true,
    "deletable": true,
    "editable": true
   },
   "outputs": [],
   "source": [
    "# Проверка возможности использования xgbooster в основном, либо предварительно (2017-06-30)"
   ]
  },
  {
   "cell_type": "code",
   "execution_count": 4,
   "metadata": {
    "collapsed": false,
    "deletable": true,
    "editable": true
   },
   "outputs": [],
   "source": [
    "import sys,os,datetime\n",
    "import numpy as np\n",
    "import pandas as pd\n",
    "import matplotlib.pyplot as plt\n",
    "import sklearn.metrics as skm\n",
    "from __future__ import print_function"
   ]
  },
  {
   "cell_type": "code",
   "execution_count": 5,
   "metadata": {
    "collapsed": false,
    "deletable": true,
    "editable": true
   },
   "outputs": [
    {
     "name": "stdout",
     "output_type": "stream",
     "text": [
      "1.12.1\n",
      "0.19.2\n"
     ]
    }
   ],
   "source": [
    "print(np.__version__);\n",
    "print(pd.__version__);"
   ]
  },
  {
   "cell_type": "code",
   "execution_count": 6,
   "metadata": {
    "collapsed": false,
    "deletable": true,
    "editable": true
   },
   "outputs": [
    {
     "data": {
      "text/plain": [
       "'3.2.0'"
      ]
     },
     "execution_count": 6,
     "metadata": {},
     "output_type": "execute_result"
    }
   ],
   "source": [
    "import  cv2 as cv\n",
    "cv.__version__"
   ]
  },
  {
   "cell_type": "code",
   "execution_count": 7,
   "metadata": {
    "collapsed": false,
    "deletable": true,
    "editable": true
   },
   "outputs": [],
   "source": [
    "sys.path.append('../Python')\n",
    "from helper import formFH, paths_input"
   ]
  },
  {
   "cell_type": "code",
   "execution_count": null,
   "metadata": {
    "collapsed": false,
    "deletable": true,
    "editable": true
   },
   "outputs": [],
   "source": []
  },
  {
   "cell_type": "code",
   "execution_count": null,
   "metadata": {
    "collapsed": false,
    "deletable": true,
    "editable": true
   },
   "outputs": [],
   "source": []
  },
  {
   "cell_type": "code",
   "execution_count": 463,
   "metadata": {
    "collapsed": false,
    "deletable": true,
    "editable": true
   },
   "outputs": [
    {
     "name": "stdout",
     "output_type": "stream",
     "text": [
      "../Data/train-jpg ../Data/test-jpg-v2 ../Work/Train ../Work/Test\n",
      "../Data/train_v2.csv ../Data/train-tif-v2 ../Data/train-jpg ../Data/test-tif-v2 ../Data/test-jpg-v2\n"
     ]
    }
   ],
   "source": [
    "binsData = 75\n",
    "\n",
    "trLabels,trDirTIF,trDirJPG,teDirTIF,teDirJPG = paths_input()\n",
    "if True :\n",
    "    trDirI = trDirJPG\n",
    "    teDirI = teDirJPG\n",
    "    ttExt  = '.jpg'\n",
    "else :\n",
    "    trDirI = trDirTIF\n",
    "    teDirI = teDirTIF\n",
    "    ttExt  = '.tif'\n",
    "trWork, teWork = '../Work/Train', '../Work/Test'\n",
    "print (trDirI,teDirI, trWork, teWork)\n",
    "print (trLabels,trDirTIF,trDirJPG,teDirTIF,teDirJPG)"
   ]
  },
  {
   "cell_type": "code",
   "execution_count": 464,
   "metadata": {
    "collapsed": false,
    "deletable": true,
    "editable": true
   },
   "outputs": [
    {
     "data": {
      "text/plain": [
       "['train_0.jpg',\n",
       " 'train_1.jpg',\n",
       " 'train_10.jpg',\n",
       " 'train_100.jpg',\n",
       " 'train_1000.jpg',\n",
       " 'train_10000.jpg']"
      ]
     },
     "execution_count": 464,
     "metadata": {},
     "output_type": "execute_result"
    }
   ],
   "source": [
    "xx=os.listdir(trDirI); xx.sort(); xx[:6]"
   ]
  },
  {
   "cell_type": "code",
   "execution_count": 465,
   "metadata": {
    "collapsed": false,
    "deletable": true,
    "editable": true
   },
   "outputs": [
    {
     "data": {
      "text/html": [
       "<div>\n",
       "<table border=\"1\" class=\"dataframe\">\n",
       "  <thead>\n",
       "    <tr style=\"text-align: right;\">\n",
       "      <th></th>\n",
       "      <th>image_name</th>\n",
       "      <th>tags</th>\n",
       "    </tr>\n",
       "  </thead>\n",
       "  <tbody>\n",
       "    <tr>\n",
       "      <th>0</th>\n",
       "      <td>train_0</td>\n",
       "      <td>haze primary</td>\n",
       "    </tr>\n",
       "    <tr>\n",
       "      <th>1</th>\n",
       "      <td>train_1</td>\n",
       "      <td>agriculture clear primary water</td>\n",
       "    </tr>\n",
       "    <tr>\n",
       "      <th>2</th>\n",
       "      <td>train_2</td>\n",
       "      <td>clear primary</td>\n",
       "    </tr>\n",
       "    <tr>\n",
       "      <th>3</th>\n",
       "      <td>train_3</td>\n",
       "      <td>clear primary</td>\n",
       "    </tr>\n",
       "    <tr>\n",
       "      <th>4</th>\n",
       "      <td>train_4</td>\n",
       "      <td>agriculture clear habitation primary road</td>\n",
       "    </tr>\n",
       "  </tbody>\n",
       "</table>\n",
       "</div>"
      ],
      "text/plain": [
       "  image_name                                       tags\n",
       "0    train_0                               haze primary\n",
       "1    train_1            agriculture clear primary water\n",
       "2    train_2                              clear primary\n",
       "3    train_3                              clear primary\n",
       "4    train_4  agriculture clear habitation primary road"
      ]
     },
     "execution_count": 465,
     "metadata": {},
     "output_type": "execute_result"
    }
   ],
   "source": [
    "labels_df = pd.read_csv(trLabels)\n",
    "labels_df.head()"
   ]
  },
  {
   "cell_type": "code",
   "execution_count": 466,
   "metadata": {
    "collapsed": true,
    "deletable": true,
    "editable": true
   },
   "outputs": [],
   "source": [
    "# Build list with unique labels\n",
    "label_list = []\n",
    "for tag_str in labels_df.tags.values:\n",
    "    labels = tag_str.split(' ')\n",
    "    for label in labels:\n",
    "        if label not in label_list:\n",
    "            label_list.append(label)"
   ]
  },
  {
   "cell_type": "code",
   "execution_count": 467,
   "metadata": {
    "collapsed": false,
    "deletable": true,
    "editable": true
   },
   "outputs": [],
   "source": [
    "# Add features (0 or 1) for every label as dataframe field \n",
    "for label in label_list:\n",
    "    labels_df[label] = labels_df['tags'].apply(lambda x: 1 if label in x.split(' ') else 0)\n",
    "#labels_df.head()"
   ]
  },
  {
   "cell_type": "code",
   "execution_count": 468,
   "metadata": {
    "collapsed": false,
    "deletable": true,
    "editable": true
   },
   "outputs": [],
   "source": [
    "weather_labels = ['clear', 'partly_cloudy', 'haze', 'cloudy']\n",
    "land_labels = ['primary', 'agriculture', 'water', 'cultivation', 'habitation' ]\n",
    "rare_labels = [l for l in label_list if labels_df[label_list].sum()[l] < 2000]\n",
    "#rare_labels              "
   ]
  },
  {
   "cell_type": "code",
   "execution_count": null,
   "metadata": {
    "collapsed": false,
    "deletable": true,
    "editable": true
   },
   "outputs": [],
   "source": []
  },
  {
   "cell_type": "code",
   "execution_count": 469,
   "metadata": {
    "collapsed": false,
    "deletable": true,
    "editable": true
   },
   "outputs": [],
   "source": [
    "labels = label_list; #weather_labels;\n",
    "nameList =labels_df[labels_df[labels].sum(axis=1)>0].image_name.tolist(); len(nameList)\n",
    "labelList=labels_df[labels_df[labels].sum(axis=1)>0][labels].as_matrix();\n",
    "#labelList[:6,:]\n",
    "#labels_df.head()"
   ]
  },
  {
   "cell_type": "code",
   "execution_count": null,
   "metadata": {
    "collapsed": true,
    "deletable": true,
    "editable": true
   },
   "outputs": [],
   "source": []
  },
  {
   "cell_type": "code",
   "execution_count": 470,
   "metadata": {
    "collapsed": false,
    "deletable": true,
    "editable": true
   },
   "outputs": [],
   "source": [
    "def formImExt (nf, resize=(32,32), printOK=False) :\n",
    "    nx = None\n",
    "    try : \n",
    "        ni = cv.imread(nf,-1); \n",
    "        if (ni is not None) :\n",
    "            if not ((ni.shape[2]==3) or (ni.shape[2]==4)) and printOK : print('----- error ---- shape:',ni.shape,nf)\n",
    "            if (ni.shape[2]==3) :\n",
    "                nx = cv.resize(ni,resize)\n",
    "            if (ni.shape[2]==4) :\n",
    "                #r,g,b,n = ni[:,:,2],ni[:,:,1],ni[:,:,0],ni[:,:,3]\n",
    "                r,g,b,n = cv.resize(ni[:,:,2],resize),cv.resize(ni[:,:,1],resize),cv.resize(ni[:,:,0],resize),cv.resize(ni[:,:,3],resize)\n",
    "                dv,dw   = np.divide((r-n),(r+n+0.01)), np.divide((g-n),(g+n+0.01))\n",
    "                nx      = np.array([r,g,b,n,dv,dw]).T; \n",
    "    except BaseException as e :\n",
    "        print(nf,e); nx = None;\n",
    "    \n",
    "    if nx is None and printOK : \n",
    "        print('------ None:',nf); nx = None\n",
    "        \n",
    "    return(nx)\n",
    "\n",
    "def formImHist (nf, size, printOK=False) :\n",
    "    \n",
    "    def hist1 (nf1,bins) :\n",
    "        h,_ = np.histogram(nf1.ravel(),bins=bins)\n",
    "        return h.tolist()\n",
    "    \n",
    "    def histN (nf,bins) :\n",
    "        h = []\n",
    "        for i in range(0,nf.shape[2]) :\n",
    "            h = h + hist1(nf[:,:,i],bins=bins);\n",
    "        return h\n",
    "             \n",
    "    nx = None\n",
    "    try : \n",
    "        ni = cv.imread(nf,-1);\n",
    "        if (ni is not None) :\n",
    "            \n",
    "            if printOK : print(nf,ni.shape)\n",
    "\n",
    "            if not ((ni.shape[2]==3) or (ni.shape[2]==4)) and printOK : \n",
    "                print('----- error ---- shape:',ni.shape,nf);\n",
    "            if  ni.shape[2]==3 :\n",
    "                bins = [x for x in range(0,255+int(round(256.0/size)),int(round(256.0/size)))]\n",
    "                nx = histN(ni,bins)\n",
    "            if  ni.shape[2]==4 : \n",
    "                bins = [x for x in range(0,65535+int(round(65535.0/size)),int(round(65535.0/size)))]\n",
    "                r,g,b,n = ni[:,:,2], ni[:,:,1], ni[:,:,0], ni[:,:,3]\n",
    "                dv,dw   = np.divide((r-n),(r+n+0.01)), np.divide((g-n),(g+n+0.01))\n",
    "                nx      = np.array([r,g,b,n,dv,dw]).T; \n",
    "                nx = histN(ni,bins)\n",
    "            \n",
    "    except BaseException as e :\n",
    "        print(nf,e); nx = None;\n",
    "    \n",
    "    if nx is None and printOK : \n",
    "        print('------ None:',nf); nx = None\n",
    "        \n",
    "    return(nx)"
   ]
  },
  {
   "cell_type": "code",
   "execution_count": null,
   "metadata": {
    "collapsed": false,
    "deletable": true,
    "editable": true
   },
   "outputs": [],
   "source": []
  },
  {
   "cell_type": "code",
   "execution_count": 471,
   "metadata": {
    "collapsed": false,
    "deletable": true,
    "editable": true
   },
   "outputs": [
    {
     "name": "stdout",
     "output_type": "stream",
     "text": [
      "2017-07-02 01:55:01.950992 40479 40479\n",
      "2017-07-02 01:56:44.791047 \t 5000 \t train_4999\n",
      "2017-07-02 01:58:20.329099 \t 10000 \t train_9999\n",
      "2017-07-02 01:59:51.647616 \t 15000 \t train_14999\n",
      "2017-07-02 02:01:20.559563 \t 20000 \t train_19999\n",
      "2017-07-02 02:02:45.263091 \t 25000 \t train_24999\n",
      "2017-07-02 02:04:03.268459 \t 30000 \t train_29999\n",
      "2017-07-02 02:05:18.466650 \t 35000 \t train_34999\n",
      "2017-07-02 02:06:29.682226 \t 40000 \t train_39999\n",
      "2017-07-02 02:06:36.669877\n",
      "40479 (40479, 255) (40479, 17)\n"
     ]
    }
   ],
   "source": [
    "trX, trY, i, size = [],[], 0, len(nameList)\n",
    "print(datetime.datetime.now(),len(nameList),size)\n",
    "for nn in nameList[0:size] :\n",
    "    nf = os.path.join(trDirI,nn+ttExt);\n",
    "    nx = formImHist(nf,binsData,printOK=False)\n",
    "    if (nx is not None) :\n",
    "        #rr=np.save(os.path.join(trWork,nn+\".npy\"),nx);\n",
    "        #trX.append(nn+\".npy\")\n",
    "        trX.append(nx)\n",
    "        trY.append(True)\n",
    "    else : \n",
    "        trY.append(False)\n",
    "    i += 1\n",
    "    if (i%5000==0) : print(datetime.datetime.now(),\"\\t\",i,\"\\t\",nn)\n",
    "    #print(nn.shape)\n",
    "\n",
    "print(datetime.datetime.now())\n",
    "trX = np.array(trX);\n",
    "trY = labelList[trY];\n",
    "print(len(nameList),trX.shape,trY.shape)\n",
    "#trXY=pd.DataFrame(trY); trXY['name']=trX; trXY.head()\n",
    "#trXY.to_pickle(os.path.join(trWork,\"listFiles.pkl\"))"
   ]
  },
  {
   "cell_type": "code",
   "execution_count": 472,
   "metadata": {
    "collapsed": false,
    "deletable": true,
    "editable": true
   },
   "outputs": [
    {
     "data": {
      "text/plain": [
       "((40479, 255), (40479, 17))"
      ]
     },
     "execution_count": 472,
     "metadata": {},
     "output_type": "execute_result"
    }
   ],
   "source": [
    "trX.shape,trY.shape"
   ]
  },
  {
   "cell_type": "code",
   "execution_count": 473,
   "metadata": {
    "collapsed": false,
    "deletable": true,
    "editable": true
   },
   "outputs": [],
   "source": [
    "np.save('../Work/train-data-XX'+str(binsData)+ttExt+'.npy',trX)\n",
    "np.save('../Work/train-data-YY'+str(binsData)+ttExt+'.npy',trY)"
   ]
  },
  {
   "cell_type": "code",
   "execution_count": 474,
   "metadata": {
    "collapsed": false,
    "deletable": true,
    "editable": true
   },
   "outputs": [],
   "source": [
    "del(trX); del(trY);"
   ]
  },
  {
   "cell_type": "code",
   "execution_count": 475,
   "metadata": {
    "collapsed": false,
    "deletable": true,
    "editable": true
   },
   "outputs": [
    {
     "name": "stdout",
     "output_type": "stream",
     "text": [
      "(40479, 255) (40479, 17)\n"
     ]
    }
   ],
   "source": [
    "trX = np.load('../Work/train-data-XX'+str(binsData)+ttExt+'.npy')\n",
    "trY = np.load('../Work/train-data-YY'+str(binsData)+ttExt+'.npy')\n",
    "print(trX.shape,trY.shape)"
   ]
  },
  {
   "cell_type": "code",
   "execution_count": 476,
   "metadata": {
    "collapsed": false,
    "deletable": true,
    "editable": true
   },
   "outputs": [],
   "source": [
    "import xgboost as xgb"
   ]
  },
  {
   "cell_type": "code",
   "execution_count": 477,
   "metadata": {
    "collapsed": false,
    "deletable": true,
    "editable": true
   },
   "outputs": [],
   "source": [
    "# Строим основные массивы\n",
    "dtrain = xgb.DMatrix(trX,label=trY[:,1])"
   ]
  },
  {
   "cell_type": "code",
   "execution_count": null,
   "metadata": {
    "collapsed": false,
    "deletable": true,
    "editable": true
   },
   "outputs": [],
   "source": []
  },
  {
   "cell_type": "code",
   "execution_count": 478,
   "metadata": {
    "collapsed": false,
    "deletable": true,
    "editable": true
   },
   "outputs": [
    {
     "name": "stdout",
     "output_type": "stream",
     "text": [
      "Working: 0\n",
      "[0]\ttrain-auc:0.948523+0.000546038\ttest-auc:0.933832+0.00678\n",
      "[30]\ttrain-auc:0.988173+0.00141962\ttest-auc:0.959638+0.00215308\n",
      "[0]\ttrain-auc:0.951655\ttrain-rmse:0.377481\n",
      "[1]\ttrain-auc:0.957275\ttrain-rmse:0.300147\n",
      "[2]\ttrain-auc:0.9596\ttrain-rmse:0.250336\n",
      "[3]\ttrain-auc:0.961825\ttrain-rmse:0.218725\n",
      "[4]\ttrain-auc:0.963702\ttrain-rmse:0.198916\n",
      "[5]\ttrain-auc:0.966345\ttrain-rmse:0.187646\n",
      "[6]\ttrain-auc:0.968926\ttrain-rmse:0.181068\n",
      "[7]\ttrain-auc:0.969649\ttrain-rmse:0.176983\n",
      "[8]\ttrain-auc:0.971442\ttrain-rmse:0.174396\n",
      "[9]\ttrain-auc:0.972018\ttrain-rmse:0.172895\n",
      "[10]\ttrain-auc:0.973012\ttrain-rmse:0.171047\n",
      "[11]\ttrain-auc:0.974368\ttrain-rmse:0.170097\n",
      "[12]\ttrain-auc:0.975208\ttrain-rmse:0.169154\n",
      "[13]\ttrain-auc:0.976176\ttrain-rmse:0.168202\n",
      "[14]\ttrain-auc:0.976391\ttrain-rmse:0.167754\n",
      "[15]\ttrain-auc:0.977798\ttrain-rmse:0.166445\n",
      "[16]\ttrain-auc:0.978714\ttrain-rmse:0.164622\n",
      "[17]\ttrain-auc:0.979372\ttrain-rmse:0.164034\n",
      "[18]\ttrain-auc:0.979922\ttrain-rmse:0.163545\n",
      "[19]\ttrain-auc:0.980503\ttrain-rmse:0.16291\n",
      "[20]\ttrain-auc:0.98078\ttrain-rmse:0.162548\n",
      "[21]\ttrain-auc:0.981141\ttrain-rmse:0.161641\n",
      "[22]\ttrain-auc:0.981423\ttrain-rmse:0.161059\n",
      "[23]\ttrain-auc:0.981972\ttrain-rmse:0.160082\n",
      "[24]\ttrain-auc:0.982122\ttrain-rmse:0.159687\n",
      "[25]\ttrain-auc:0.982956\ttrain-rmse:0.157808\n",
      "[26]\ttrain-auc:0.983249\ttrain-rmse:0.157186\n",
      "[27]\ttrain-auc:0.983447\ttrain-rmse:0.156615\n",
      "[28]\ttrain-auc:0.983907\ttrain-rmse:0.155969\n",
      "[29]\ttrain-auc:0.984015\ttrain-rmse:0.155752\n",
      "[30]\ttrain-auc:0.984155\ttrain-rmse:0.155434\n",
      "Working: 1\n",
      "[0]\ttrain-auc:0.941339+0.0025918\ttest-auc:0.932018+0.00681232\n",
      "[30]\ttrain-auc:0.992917+0.000527991\ttest-auc:0.970097+0.00136661\n",
      "[60]\ttrain-auc:0.997828+0.000295027\ttest-auc:0.971291+0.00136398\n",
      "[90]\ttrain-auc:0.999593+8.15571e-05\ttest-auc:0.971433+0.00117515\n",
      "[0]\ttrain-auc:0.934786\ttrain-rmse:0.377161\n",
      "[1]\ttrain-auc:0.950242\ttrain-rmse:0.298788\n",
      "[2]\ttrain-auc:0.958447\ttrain-rmse:0.247639\n",
      "[3]\ttrain-auc:0.963985\ttrain-rmse:0.214682\n",
      "[4]\ttrain-auc:0.966132\ttrain-rmse:0.194094\n",
      "[5]\ttrain-auc:0.971875\ttrain-rmse:0.180379\n",
      "[6]\ttrain-auc:0.974146\ttrain-rmse:0.172056\n",
      "[7]\ttrain-auc:0.976383\ttrain-rmse:0.166889\n",
      "[8]\ttrain-auc:0.978581\ttrain-rmse:0.163404\n",
      "[9]\ttrain-auc:0.981049\ttrain-rmse:0.160893\n",
      "[10]\ttrain-auc:0.981699\ttrain-rmse:0.15915\n",
      "[11]\ttrain-auc:0.982336\ttrain-rmse:0.157646\n",
      "[12]\ttrain-auc:0.983066\ttrain-rmse:0.15658\n",
      "[13]\ttrain-auc:0.98424\ttrain-rmse:0.155365\n",
      "[14]\ttrain-auc:0.984807\ttrain-rmse:0.154382\n",
      "[15]\ttrain-auc:0.985346\ttrain-rmse:0.153829\n",
      "[16]\ttrain-auc:0.985673\ttrain-rmse:0.152936\n",
      "[17]\ttrain-auc:0.986356\ttrain-rmse:0.151534\n",
      "[18]\ttrain-auc:0.986819\ttrain-rmse:0.15003\n",
      "[19]\ttrain-auc:0.987247\ttrain-rmse:0.148851\n",
      "[20]\ttrain-auc:0.987629\ttrain-rmse:0.147733\n",
      "[21]\ttrain-auc:0.987976\ttrain-rmse:0.146484\n",
      "[22]\ttrain-auc:0.988312\ttrain-rmse:0.145917\n",
      "[23]\ttrain-auc:0.988554\ttrain-rmse:0.145307\n",
      "[24]\ttrain-auc:0.988919\ttrain-rmse:0.144387\n",
      "[25]\ttrain-auc:0.989239\ttrain-rmse:0.142973\n",
      "[26]\ttrain-auc:0.989751\ttrain-rmse:0.141306\n",
      "[27]\ttrain-auc:0.989956\ttrain-rmse:0.140812\n",
      "[28]\ttrain-auc:0.990202\ttrain-rmse:0.139988\n",
      "[29]\ttrain-auc:0.990691\ttrain-rmse:0.138226\n",
      "[30]\ttrain-auc:0.990878\ttrain-rmse:0.137426\n",
      "[31]\ttrain-auc:0.991342\ttrain-rmse:0.135139\n",
      "[32]\ttrain-auc:0.991429\ttrain-rmse:0.134743\n",
      "[33]\ttrain-auc:0.991916\ttrain-rmse:0.133509\n",
      "[34]\ttrain-auc:0.992129\ttrain-rmse:0.132996\n",
      "[35]\ttrain-auc:0.99226\ttrain-rmse:0.132438\n",
      "[36]\ttrain-auc:0.992435\ttrain-rmse:0.131896\n",
      "[37]\ttrain-auc:0.992589\ttrain-rmse:0.131201\n",
      "[38]\ttrain-auc:0.992836\ttrain-rmse:0.130019\n",
      "[39]\ttrain-auc:0.992927\ttrain-rmse:0.129573\n",
      "[40]\ttrain-auc:0.993272\ttrain-rmse:0.128238\n",
      "[41]\ttrain-auc:0.993479\ttrain-rmse:0.127243\n",
      "[42]\ttrain-auc:0.993727\ttrain-rmse:0.126382\n",
      "[43]\ttrain-auc:0.993798\ttrain-rmse:0.12616\n",
      "[44]\ttrain-auc:0.993909\ttrain-rmse:0.125862\n",
      "[45]\ttrain-auc:0.994243\ttrain-rmse:0.124654\n",
      "[46]\ttrain-auc:0.994418\ttrain-rmse:0.1235\n",
      "[47]\ttrain-auc:0.994669\ttrain-rmse:0.122403\n",
      "[48]\ttrain-auc:0.994772\ttrain-rmse:0.121874\n",
      "[49]\ttrain-auc:0.994884\ttrain-rmse:0.121222\n",
      "[50]\ttrain-auc:0.995052\ttrain-rmse:0.120614\n",
      "[51]\ttrain-auc:0.995234\ttrain-rmse:0.119586\n",
      "[52]\ttrain-auc:0.995284\ttrain-rmse:0.119234\n",
      "[53]\ttrain-auc:0.995467\ttrain-rmse:0.118141\n",
      "[54]\ttrain-auc:0.995589\ttrain-rmse:0.117533\n",
      "[55]\ttrain-auc:0.995873\ttrain-rmse:0.115998\n",
      "[56]\ttrain-auc:0.995943\ttrain-rmse:0.115799\n",
      "[57]\ttrain-auc:0.995999\ttrain-rmse:0.115506\n",
      "[58]\ttrain-auc:0.996071\ttrain-rmse:0.114986\n",
      "[59]\ttrain-auc:0.99621\ttrain-rmse:0.114342\n",
      "[60]\ttrain-auc:0.996488\ttrain-rmse:0.112594\n",
      "[61]\ttrain-auc:0.996642\ttrain-rmse:0.111804\n",
      "[62]\ttrain-auc:0.996705\ttrain-rmse:0.111356\n",
      "[63]\ttrain-auc:0.996888\ttrain-rmse:0.110134\n",
      "[64]\ttrain-auc:0.996961\ttrain-rmse:0.109435\n",
      "[65]\ttrain-auc:0.997145\ttrain-rmse:0.108049\n",
      "[66]\ttrain-auc:0.997349\ttrain-rmse:0.106465\n",
      "[67]\ttrain-auc:0.997426\ttrain-rmse:0.105828\n",
      "[68]\ttrain-auc:0.997479\ttrain-rmse:0.105263\n",
      "[69]\ttrain-auc:0.997538\ttrain-rmse:0.104686\n",
      "[70]\ttrain-auc:0.997623\ttrain-rmse:0.10442\n",
      "[71]\ttrain-auc:0.997728\ttrain-rmse:0.103963\n",
      "[72]\ttrain-auc:0.997777\ttrain-rmse:0.103494\n",
      "[73]\ttrain-auc:0.997873\ttrain-rmse:0.102475\n",
      "Working: 2\n",
      "[0]\ttrain-auc:0.903212+0.00187364\ttest-auc:0.887996+0.00168117\n",
      "[30]\ttrain-auc:0.964892+0.000797848\ttest-auc:0.925162+0.00304325\n",
      "[60]\ttrain-auc:0.978944+0.000592472\ttest-auc:0.92583+0.0029899\n",
      "[90]\ttrain-auc:0.987487+0.000828336\ttest-auc:0.926199+0.00264353\n",
      "[120]\ttrain-auc:0.993178+0.000394047\ttest-auc:0.92632+0.00255463\n",
      "[0]\ttrain-auc:0.90154\ttrain-rmse:0.425029\n",
      "[1]\ttrain-auc:0.914768\ttrain-rmse:0.379634\n",
      "[2]\ttrain-auc:0.92121\ttrain-rmse:0.35091\n",
      "[3]\ttrain-auc:0.925591\ttrain-rmse:0.333024\n",
      "[4]\ttrain-auc:0.929207\ttrain-rmse:0.321751\n",
      "[5]\ttrain-auc:0.931434\ttrain-rmse:0.314511\n",
      "[6]\ttrain-auc:0.933418\ttrain-rmse:0.309315\n",
      "[7]\ttrain-auc:0.935497\ttrain-rmse:0.304849\n",
      "[8]\ttrain-auc:0.937937\ttrain-rmse:0.300863\n",
      "[9]\ttrain-auc:0.939527\ttrain-rmse:0.298256\n",
      "[10]\ttrain-auc:0.941501\ttrain-rmse:0.295356\n",
      "[11]\ttrain-auc:0.943358\ttrain-rmse:0.292736\n",
      "[12]\ttrain-auc:0.944596\ttrain-rmse:0.2911\n",
      "[13]\ttrain-auc:0.945883\ttrain-rmse:0.289395\n",
      "[14]\ttrain-auc:0.946744\ttrain-rmse:0.287909\n",
      "[15]\ttrain-auc:0.947486\ttrain-rmse:0.287009\n",
      "[16]\ttrain-auc:0.948825\ttrain-rmse:0.28502\n",
      "[17]\ttrain-auc:0.950054\ttrain-rmse:0.283119\n",
      "[18]\ttrain-auc:0.95039\ttrain-rmse:0.282581\n",
      "[19]\ttrain-auc:0.950769\ttrain-rmse:0.282033\n",
      "[20]\ttrain-auc:0.951031\ttrain-rmse:0.281624\n",
      "[21]\ttrain-auc:0.95153\ttrain-rmse:0.280938\n",
      "[22]\ttrain-auc:0.952071\ttrain-rmse:0.280289\n",
      "[23]\ttrain-auc:0.952259\ttrain-rmse:0.280047\n",
      "[24]\ttrain-auc:0.953518\ttrain-rmse:0.277891\n",
      "[25]\ttrain-auc:0.954556\ttrain-rmse:0.277002\n",
      "[26]\ttrain-auc:0.954756\ttrain-rmse:0.276727\n",
      "[27]\ttrain-auc:0.955452\ttrain-rmse:0.275513\n",
      "[28]\ttrain-auc:0.956422\ttrain-rmse:0.27387\n",
      "[29]\ttrain-auc:0.957109\ttrain-rmse:0.272885\n",
      "[30]\ttrain-auc:0.95774\ttrain-rmse:0.272207\n",
      "[31]\ttrain-auc:0.958068\ttrain-rmse:0.271621\n",
      "[32]\ttrain-auc:0.958718\ttrain-rmse:0.27054\n",
      "[33]\ttrain-auc:0.959687\ttrain-rmse:0.268914\n",
      "[34]\ttrain-auc:0.96083\ttrain-rmse:0.266932\n",
      "[35]\ttrain-auc:0.961429\ttrain-rmse:0.265826\n",
      "[36]\ttrain-auc:0.961773\ttrain-rmse:0.265241\n",
      "[37]\ttrain-auc:0.96262\ttrain-rmse:0.263831\n",
      "[38]\ttrain-auc:0.962715\ttrain-rmse:0.263681\n",
      "[39]\ttrain-auc:0.96321\ttrain-rmse:0.262848\n",
      "[40]\ttrain-auc:0.963774\ttrain-rmse:0.26209\n",
      "[41]\ttrain-auc:0.964665\ttrain-rmse:0.260522\n",
      "[42]\ttrain-auc:0.965232\ttrain-rmse:0.259366\n",
      "[43]\ttrain-auc:0.965438\ttrain-rmse:0.258991\n",
      "[44]\ttrain-auc:0.966178\ttrain-rmse:0.257569\n",
      "[45]\ttrain-auc:0.966402\ttrain-rmse:0.257232\n",
      "[46]\ttrain-auc:0.966594\ttrain-rmse:0.25689\n",
      "[47]\ttrain-auc:0.966767\ttrain-rmse:0.256563\n",
      "[48]\ttrain-auc:0.96717\ttrain-rmse:0.255947\n",
      "[49]\ttrain-auc:0.967374\ttrain-rmse:0.255536\n",
      "[50]\ttrain-auc:0.968378\ttrain-rmse:0.253445\n",
      "[51]\ttrain-auc:0.968571\ttrain-rmse:0.253105\n",
      "[52]\ttrain-auc:0.968685\ttrain-rmse:0.252853\n",
      "[53]\ttrain-auc:0.968896\ttrain-rmse:0.252353\n",
      "[54]\ttrain-auc:0.969466\ttrain-rmse:0.251055\n",
      "[55]\ttrain-auc:0.969694\ttrain-rmse:0.250597\n",
      "[56]\ttrain-auc:0.970445\ttrain-rmse:0.248957\n",
      "[57]\ttrain-auc:0.970737\ttrain-rmse:0.248325\n",
      "[58]\ttrain-auc:0.971141\ttrain-rmse:0.247801\n",
      "[59]\ttrain-auc:0.971373\ttrain-rmse:0.24732\n",
      "[60]\ttrain-auc:0.971494\ttrain-rmse:0.247062\n",
      "[61]\ttrain-auc:0.97163\ttrain-rmse:0.246747\n",
      "[62]\ttrain-auc:0.972161\ttrain-rmse:0.245922\n",
      "[63]\ttrain-auc:0.972282\ttrain-rmse:0.245745\n",
      "[64]\ttrain-auc:0.972479\ttrain-rmse:0.245301\n",
      "[65]\ttrain-auc:0.972806\ttrain-rmse:0.24456\n",
      "[66]\ttrain-auc:0.973097\ttrain-rmse:0.243951\n",
      "[67]\ttrain-auc:0.973302\ttrain-rmse:0.243505\n",
      "[68]\ttrain-auc:0.973836\ttrain-rmse:0.242402\n",
      "[69]\ttrain-auc:0.973981\ttrain-rmse:0.242063\n",
      "[70]\ttrain-auc:0.974253\ttrain-rmse:0.241723\n",
      "[71]\ttrain-auc:0.974442\ttrain-rmse:0.24132\n",
      "[72]\ttrain-auc:0.97473\ttrain-rmse:0.240963\n",
      "[73]\ttrain-auc:0.974955\ttrain-rmse:0.240529\n",
      "[74]\ttrain-auc:0.975433\ttrain-rmse:0.239685\n",
      "[75]\ttrain-auc:0.975843\ttrain-rmse:0.238822\n",
      "[76]\ttrain-auc:0.976064\ttrain-rmse:0.238278\n",
      "[77]\ttrain-auc:0.976528\ttrain-rmse:0.237133\n",
      "[78]\ttrain-auc:0.97661\ttrain-rmse:0.236973\n",
      "[79]\ttrain-auc:0.976769\ttrain-rmse:0.236566\n",
      "[80]\ttrain-auc:0.976895\ttrain-rmse:0.236238\n",
      "[81]\ttrain-auc:0.977092\ttrain-rmse:0.235695\n",
      "[82]\ttrain-auc:0.977748\ttrain-rmse:0.233966\n",
      "[83]\ttrain-auc:0.978135\ttrain-rmse:0.232873\n",
      "[84]\ttrain-auc:0.97854\ttrain-rmse:0.232079\n",
      "[85]\ttrain-auc:0.978604\ttrain-rmse:0.231931\n",
      "[86]\ttrain-auc:0.978918\ttrain-rmse:0.231322\n",
      "[87]\ttrain-auc:0.979357\ttrain-rmse:0.230293\n",
      "[88]\ttrain-auc:0.979998\ttrain-rmse:0.228969\n",
      "[89]\ttrain-auc:0.98036\ttrain-rmse:0.228238\n",
      "[90]\ttrain-auc:0.980929\ttrain-rmse:0.227131\n",
      "[91]\ttrain-auc:0.981149\ttrain-rmse:0.226582\n",
      "[92]\ttrain-auc:0.981483\ttrain-rmse:0.225663\n",
      "[93]\ttrain-auc:0.981707\ttrain-rmse:0.225039\n",
      "[94]\ttrain-auc:0.981895\ttrain-rmse:0.224465\n",
      "[95]\ttrain-auc:0.982179\ttrain-rmse:0.223721\n",
      "[96]\ttrain-auc:0.982269\ttrain-rmse:0.223458\n",
      "[97]\ttrain-auc:0.982444\ttrain-rmse:0.222891\n",
      "[98]\ttrain-auc:0.982469\ttrain-rmse:0.222826\n",
      "[99]\ttrain-auc:0.982541\ttrain-rmse:0.222615\n",
      "[100]\ttrain-auc:0.98262\ttrain-rmse:0.22237\n",
      "[101]\ttrain-auc:0.98268\ttrain-rmse:0.222259\n",
      "[102]\ttrain-auc:0.982802\ttrain-rmse:0.2219\n",
      "[103]\ttrain-auc:0.983204\ttrain-rmse:0.220612\n",
      "[104]\ttrain-auc:0.983623\ttrain-rmse:0.219266\n",
      "[105]\ttrain-auc:0.984023\ttrain-rmse:0.218144\n",
      "[106]\ttrain-auc:0.984112\ttrain-rmse:0.217926\n",
      "[107]\ttrain-auc:0.984399\ttrain-rmse:0.217058\n",
      "[108]\ttrain-auc:0.984817\ttrain-rmse:0.215738\n",
      "[109]\ttrain-auc:0.985094\ttrain-rmse:0.214952\n",
      "Working: 3\n",
      "[0]\ttrain-auc:0.958168+0.000558792\ttest-auc:0.949377+0.000684387\n",
      "[30]\ttrain-auc:0.991742+0.000652671\ttest-auc:0.973848+0.000652299\n",
      "[60]\ttrain-auc:0.996841+0.000393574\ttest-auc:0.974423+0.000833698\n",
      "[90]\ttrain-auc:0.998878+0.000164654\ttest-auc:0.974751+0.000716756\n",
      "[120]\ttrain-auc:0.999681+4.49222e-05\ttest-auc:0.974918+0.000592392\n",
      "[0]\ttrain-auc:0.956228\ttrain-rmse:0.39867\n",
      "[1]\ttrain-auc:0.964121\ttrain-rmse:0.336619\n",
      "[2]\ttrain-auc:0.967595\ttrain-rmse:0.296614\n",
      "[3]\ttrain-auc:0.970288\ttrain-rmse:0.269982\n",
      "[4]\ttrain-auc:0.971726\ttrain-rmse:0.253458\n",
      "[5]\ttrain-auc:0.973352\ttrain-rmse:0.242419\n",
      "[6]\ttrain-auc:0.974671\ttrain-rmse:0.234887\n",
      "[7]\ttrain-auc:0.975899\ttrain-rmse:0.229242\n",
      "[8]\ttrain-auc:0.97753\ttrain-rmse:0.224624\n",
      "[9]\ttrain-auc:0.978879\ttrain-rmse:0.220664\n",
      "[10]\ttrain-auc:0.979941\ttrain-rmse:0.217127\n",
      "[11]\ttrain-auc:0.980902\ttrain-rmse:0.214759\n",
      "[12]\ttrain-auc:0.981906\ttrain-rmse:0.211701\n",
      "[13]\ttrain-auc:0.982333\ttrain-rmse:0.21026\n",
      "[14]\ttrain-auc:0.98285\ttrain-rmse:0.208752\n",
      "[15]\ttrain-auc:0.983448\ttrain-rmse:0.206524\n",
      "[16]\ttrain-auc:0.984007\ttrain-rmse:0.204769\n",
      "[17]\ttrain-auc:0.98449\ttrain-rmse:0.20343\n",
      "[18]\ttrain-auc:0.985085\ttrain-rmse:0.201668\n",
      "[19]\ttrain-auc:0.985232\ttrain-rmse:0.200998\n",
      "[20]\ttrain-auc:0.985537\ttrain-rmse:0.199627\n",
      "[21]\ttrain-auc:0.985756\ttrain-rmse:0.198828\n",
      "[22]\ttrain-auc:0.986082\ttrain-rmse:0.197544\n",
      "[23]\ttrain-auc:0.98698\ttrain-rmse:0.195274\n",
      "[24]\ttrain-auc:0.987241\ttrain-rmse:0.194016\n",
      "[25]\ttrain-auc:0.98749\ttrain-rmse:0.193133\n",
      "[26]\ttrain-auc:0.987862\ttrain-rmse:0.192291\n",
      "[27]\ttrain-auc:0.988073\ttrain-rmse:0.191402\n",
      "[28]\ttrain-auc:0.988565\ttrain-rmse:0.189976\n",
      "[29]\ttrain-auc:0.988743\ttrain-rmse:0.189136\n",
      "[30]\ttrain-auc:0.988985\ttrain-rmse:0.188108\n",
      "[31]\ttrain-auc:0.989371\ttrain-rmse:0.186019\n",
      "[32]\ttrain-auc:0.989564\ttrain-rmse:0.184977\n",
      "[33]\ttrain-auc:0.989703\ttrain-rmse:0.184232\n",
      "[34]\ttrain-auc:0.989775\ttrain-rmse:0.183784\n",
      "[35]\ttrain-auc:0.989997\ttrain-rmse:0.183154\n",
      "[36]\ttrain-auc:0.990626\ttrain-rmse:0.181195\n",
      "[37]\ttrain-auc:0.990933\ttrain-rmse:0.179738\n",
      "[38]\ttrain-auc:0.991253\ttrain-rmse:0.178229\n",
      "[39]\ttrain-auc:0.991559\ttrain-rmse:0.177153\n",
      "[40]\ttrain-auc:0.991809\ttrain-rmse:0.176148\n",
      "[41]\ttrain-auc:0.991974\ttrain-rmse:0.17523\n",
      "[42]\ttrain-auc:0.992051\ttrain-rmse:0.174876\n",
      "[43]\ttrain-auc:0.992108\ttrain-rmse:0.174549\n",
      "[44]\ttrain-auc:0.99241\ttrain-rmse:0.173029\n",
      "[45]\ttrain-auc:0.992531\ttrain-rmse:0.172342\n",
      "[46]\ttrain-auc:0.992678\ttrain-rmse:0.17121\n",
      "[47]\ttrain-auc:0.992744\ttrain-rmse:0.17085\n",
      "[48]\ttrain-auc:0.992846\ttrain-rmse:0.170339\n",
      "[49]\ttrain-auc:0.993146\ttrain-rmse:0.168739\n",
      "[50]\ttrain-auc:0.993217\ttrain-rmse:0.168235\n",
      "[51]\ttrain-auc:0.993276\ttrain-rmse:0.167941\n",
      "[52]\ttrain-auc:0.993493\ttrain-rmse:0.166918\n",
      "[53]\ttrain-auc:0.993544\ttrain-rmse:0.166488\n",
      "[54]\ttrain-auc:0.993593\ttrain-rmse:0.166266\n",
      "[55]\ttrain-auc:0.993668\ttrain-rmse:0.165755\n",
      "[56]\ttrain-auc:0.993945\ttrain-rmse:0.164059\n",
      "[57]\ttrain-auc:0.994033\ttrain-rmse:0.163428\n",
      "[58]\ttrain-auc:0.994373\ttrain-rmse:0.161909\n",
      "[59]\ttrain-auc:0.994497\ttrain-rmse:0.161272\n",
      "[60]\ttrain-auc:0.994626\ttrain-rmse:0.160235\n",
      "[61]\ttrain-auc:0.994686\ttrain-rmse:0.159765\n",
      "[62]\ttrain-auc:0.994874\ttrain-rmse:0.158866\n",
      "[63]\ttrain-auc:0.995022\ttrain-rmse:0.158066\n",
      "[64]\ttrain-auc:0.995077\ttrain-rmse:0.157519\n",
      "[65]\ttrain-auc:0.995245\ttrain-rmse:0.156423\n",
      "[66]\ttrain-auc:0.995417\ttrain-rmse:0.155095\n",
      "[67]\ttrain-auc:0.995559\ttrain-rmse:0.153982\n",
      "[68]\ttrain-auc:0.995611\ttrain-rmse:0.153698\n",
      "[69]\ttrain-auc:0.995643\ttrain-rmse:0.153497\n",
      "[70]\ttrain-auc:0.995674\ttrain-rmse:0.153258\n",
      "[71]\ttrain-auc:0.995716\ttrain-rmse:0.152839\n",
      "[72]\ttrain-auc:0.995763\ttrain-rmse:0.152541\n",
      "[73]\ttrain-auc:0.995828\ttrain-rmse:0.152233\n",
      "[74]\ttrain-auc:0.995888\ttrain-rmse:0.151777\n",
      "[75]\ttrain-auc:0.995968\ttrain-rmse:0.151291\n",
      "[76]\ttrain-auc:0.996099\ttrain-rmse:0.150516\n",
      "[77]\ttrain-auc:0.996201\ttrain-rmse:0.149782\n",
      "[78]\ttrain-auc:0.996236\ttrain-rmse:0.149443\n",
      "[79]\ttrain-auc:0.996399\ttrain-rmse:0.148358\n",
      "[80]\ttrain-auc:0.996422\ttrain-rmse:0.148127\n",
      "[81]\ttrain-auc:0.996443\ttrain-rmse:0.147934\n",
      "[82]\ttrain-auc:0.996482\ttrain-rmse:0.147539\n",
      "[83]\ttrain-auc:0.996514\ttrain-rmse:0.147199\n",
      "[84]\ttrain-auc:0.99656\ttrain-rmse:0.1469\n",
      "[85]\ttrain-auc:0.996682\ttrain-rmse:0.145994\n",
      "[86]\ttrain-auc:0.996775\ttrain-rmse:0.145133\n",
      "[87]\ttrain-auc:0.996811\ttrain-rmse:0.144684\n",
      "[88]\ttrain-auc:0.99685\ttrain-rmse:0.144197\n",
      "[89]\ttrain-auc:0.996988\ttrain-rmse:0.142786\n",
      "[90]\ttrain-auc:0.99708\ttrain-rmse:0.14173\n",
      "[91]\ttrain-auc:0.997163\ttrain-rmse:0.141045\n",
      "[92]\ttrain-auc:0.99726\ttrain-rmse:0.140417\n",
      "[93]\ttrain-auc:0.997378\ttrain-rmse:0.13939\n",
      "[94]\ttrain-auc:0.997527\ttrain-rmse:0.137692\n",
      "[95]\ttrain-auc:0.997617\ttrain-rmse:0.136798\n",
      "[96]\ttrain-auc:0.997657\ttrain-rmse:0.136409\n",
      "[97]\ttrain-auc:0.997694\ttrain-rmse:0.135936\n",
      "[98]\ttrain-auc:0.997767\ttrain-rmse:0.135103\n",
      "[99]\ttrain-auc:0.997817\ttrain-rmse:0.134553\n",
      "[100]\ttrain-auc:0.997866\ttrain-rmse:0.133943\n",
      "[101]\ttrain-auc:0.997896\ttrain-rmse:0.13346\n",
      "[102]\ttrain-auc:0.997994\ttrain-rmse:0.132501\n",
      "[103]\ttrain-auc:0.998031\ttrain-rmse:0.132021\n",
      "[104]\ttrain-auc:0.998055\ttrain-rmse:0.13167\n",
      "[105]\ttrain-auc:0.998068\ttrain-rmse:0.13146\n",
      "[106]\ttrain-auc:0.998096\ttrain-rmse:0.130846\n",
      "[107]\ttrain-auc:0.998148\ttrain-rmse:0.130155\n",
      "[108]\ttrain-auc:0.998231\ttrain-rmse:0.129303\n",
      "[109]\ttrain-auc:0.998299\ttrain-rmse:0.128285\n",
      "[110]\ttrain-auc:0.998346\ttrain-rmse:0.127551\n",
      "[111]\ttrain-auc:0.99836\ttrain-rmse:0.127352\n",
      "[112]\ttrain-auc:0.998376\ttrain-rmse:0.127141\n",
      "[113]\ttrain-auc:0.998397\ttrain-rmse:0.12674\n",
      "[114]\ttrain-auc:0.998454\ttrain-rmse:0.125845\n",
      "[115]\ttrain-auc:0.998466\ttrain-rmse:0.125647\n",
      "[116]\ttrain-auc:0.998487\ttrain-rmse:0.125358\n",
      "[117]\ttrain-auc:0.99854\ttrain-rmse:0.124503\n",
      "[118]\ttrain-auc:0.998614\ttrain-rmse:0.123381\n",
      "[119]\ttrain-auc:0.998675\ttrain-rmse:0.122217\n",
      "[120]\ttrain-auc:0.998689\ttrain-rmse:0.121897\n",
      "[121]\ttrain-auc:0.998744\ttrain-rmse:0.120861\n",
      "[122]\ttrain-auc:0.998787\ttrain-rmse:0.119873\n",
      "[123]\ttrain-auc:0.998799\ttrain-rmse:0.119666\n",
      "[124]\ttrain-auc:0.998811\ttrain-rmse:0.119476\n",
      "[125]\ttrain-auc:0.998846\ttrain-rmse:0.118967\n",
      "[126]\ttrain-auc:0.998849\ttrain-rmse:0.118879\n",
      "[127]\ttrain-auc:0.998884\ttrain-rmse:0.118302\n",
      "[128]\ttrain-auc:0.998895\ttrain-rmse:0.118005\n",
      "[129]\ttrain-auc:0.998933\ttrain-rmse:0.117431\n",
      "[130]\ttrain-auc:0.998941\ttrain-rmse:0.117298\n",
      "Working: 4\n",
      "[0]\ttrain-auc:0.761392+0.00345244\ttest-auc:0.737371+0.00665357\n",
      "[30]\ttrain-auc:0.899435+0.00121656\ttest-auc:0.809213+0.00520175\n",
      "[60]\ttrain-auc:0.945113+0.00390754\ttest-auc:0.818473+0.00471884\n",
      "[90]\ttrain-auc:0.968831+0.0031264\ttest-auc:0.822983+0.00487293\n",
      "[120]\ttrain-auc:0.983239+0.000701497\ttest-auc:0.824519+0.00383817\n",
      "[150]\ttrain-auc:0.992233+0.000372824\ttest-auc:0.826055+0.00347546\n",
      "[0]\ttrain-auc:0.767158\ttrain-rmse:0.432578\n",
      "[1]\ttrain-auc:0.784093\ttrain-rmse:0.394801\n",
      "[2]\ttrain-auc:0.796955\ttrain-rmse:0.371492\n",
      "[3]\ttrain-auc:0.803586\ttrain-rmse:0.358183\n",
      "[4]\ttrain-auc:0.810033\ttrain-rmse:0.348607\n",
      "[5]\ttrain-auc:0.816896\ttrain-rmse:0.343119\n",
      "[6]\ttrain-auc:0.822102\ttrain-rmse:0.338912\n",
      "[7]\ttrain-auc:0.827434\ttrain-rmse:0.336411\n",
      "[8]\ttrain-auc:0.830156\ttrain-rmse:0.334555\n",
      "[9]\ttrain-auc:0.836415\ttrain-rmse:0.332543\n",
      "[10]\ttrain-auc:0.841037\ttrain-rmse:0.329253\n",
      "[11]\ttrain-auc:0.845392\ttrain-rmse:0.326252\n",
      "[12]\ttrain-auc:0.847774\ttrain-rmse:0.324944\n",
      "[13]\ttrain-auc:0.848588\ttrain-rmse:0.324402\n",
      "[14]\ttrain-auc:0.852292\ttrain-rmse:0.323172\n",
      "[15]\ttrain-auc:0.854353\ttrain-rmse:0.322388\n",
      "[16]\ttrain-auc:0.85607\ttrain-rmse:0.32115\n",
      "[17]\ttrain-auc:0.858039\ttrain-rmse:0.320464\n",
      "[18]\ttrain-auc:0.860489\ttrain-rmse:0.31933\n",
      "[19]\ttrain-auc:0.86147\ttrain-rmse:0.318737\n",
      "[20]\ttrain-auc:0.865018\ttrain-rmse:0.317011\n",
      "[21]\ttrain-auc:0.867789\ttrain-rmse:0.315866\n",
      "[22]\ttrain-auc:0.870817\ttrain-rmse:0.31468\n",
      "[23]\ttrain-auc:0.872971\ttrain-rmse:0.312872\n",
      "[24]\ttrain-auc:0.876442\ttrain-rmse:0.311025\n",
      "[25]\ttrain-auc:0.879539\ttrain-rmse:0.310021\n",
      "[26]\ttrain-auc:0.880474\ttrain-rmse:0.309313\n",
      "[27]\ttrain-auc:0.881476\ttrain-rmse:0.308796\n",
      "[28]\ttrain-auc:0.882685\ttrain-rmse:0.308147\n",
      "[29]\ttrain-auc:0.883726\ttrain-rmse:0.307611\n",
      "[30]\ttrain-auc:0.885102\ttrain-rmse:0.306814\n",
      "[31]\ttrain-auc:0.886606\ttrain-rmse:0.305764\n",
      "[32]\ttrain-auc:0.889456\ttrain-rmse:0.304455\n",
      "[33]\ttrain-auc:0.891957\ttrain-rmse:0.302838\n",
      "[34]\ttrain-auc:0.892652\ttrain-rmse:0.302424\n",
      "[35]\ttrain-auc:0.8941\ttrain-rmse:0.301717\n",
      "[36]\ttrain-auc:0.894795\ttrain-rmse:0.30134\n",
      "[37]\ttrain-auc:0.896254\ttrain-rmse:0.300647\n",
      "[38]\ttrain-auc:0.89806\ttrain-rmse:0.299547\n",
      "[39]\ttrain-auc:0.899041\ttrain-rmse:0.298508\n",
      "[40]\ttrain-auc:0.899777\ttrain-rmse:0.297726\n",
      "[41]\ttrain-auc:0.90152\ttrain-rmse:0.296989\n",
      "[42]\ttrain-auc:0.902933\ttrain-rmse:0.296081\n",
      "[43]\ttrain-auc:0.904182\ttrain-rmse:0.295119\n",
      "[44]\ttrain-auc:0.904875\ttrain-rmse:0.294651\n",
      "[45]\ttrain-auc:0.907749\ttrain-rmse:0.292537\n",
      "[46]\ttrain-auc:0.909593\ttrain-rmse:0.29133\n",
      "[47]\ttrain-auc:0.910326\ttrain-rmse:0.290897\n",
      "[48]\ttrain-auc:0.911922\ttrain-rmse:0.290056\n",
      "[49]\ttrain-auc:0.913938\ttrain-rmse:0.288938\n",
      "[50]\ttrain-auc:0.914568\ttrain-rmse:0.288433\n",
      "[51]\ttrain-auc:0.915037\ttrain-rmse:0.288116\n",
      "[52]\ttrain-auc:0.915845\ttrain-rmse:0.287652\n",
      "[53]\ttrain-auc:0.916876\ttrain-rmse:0.286904\n",
      "[54]\ttrain-auc:0.91942\ttrain-rmse:0.285229\n",
      "[55]\ttrain-auc:0.919968\ttrain-rmse:0.284747\n",
      "[56]\ttrain-auc:0.921891\ttrain-rmse:0.283135\n",
      "[57]\ttrain-auc:0.922625\ttrain-rmse:0.282427\n",
      "[58]\ttrain-auc:0.923586\ttrain-rmse:0.281647\n",
      "[59]\ttrain-auc:0.924493\ttrain-rmse:0.280995\n",
      "[60]\ttrain-auc:0.924881\ttrain-rmse:0.280654\n",
      "[61]\ttrain-auc:0.925324\ttrain-rmse:0.280235\n",
      "[62]\ttrain-auc:0.926824\ttrain-rmse:0.279214\n",
      "[63]\ttrain-auc:0.927372\ttrain-rmse:0.278945\n",
      "[64]\ttrain-auc:0.928093\ttrain-rmse:0.27858\n",
      "[65]\ttrain-auc:0.929202\ttrain-rmse:0.277833\n",
      "[66]\ttrain-auc:0.929864\ttrain-rmse:0.277368\n",
      "[67]\ttrain-auc:0.93031\ttrain-rmse:0.27704\n",
      "[68]\ttrain-auc:0.93075\ttrain-rmse:0.276604\n",
      "[69]\ttrain-auc:0.931562\ttrain-rmse:0.275953\n",
      "[70]\ttrain-auc:0.932074\ttrain-rmse:0.275588\n",
      "[71]\ttrain-auc:0.932193\ttrain-rmse:0.275408\n",
      "[72]\ttrain-auc:0.933667\ttrain-rmse:0.273931\n",
      "[73]\ttrain-auc:0.934888\ttrain-rmse:0.273165\n",
      "[74]\ttrain-auc:0.935066\ttrain-rmse:0.273054\n",
      "[75]\ttrain-auc:0.935358\ttrain-rmse:0.272811\n",
      "[76]\ttrain-auc:0.936588\ttrain-rmse:0.272017\n",
      "[77]\ttrain-auc:0.936928\ttrain-rmse:0.271734\n",
      "[78]\ttrain-auc:0.937729\ttrain-rmse:0.270857\n",
      "[79]\ttrain-auc:0.938142\ttrain-rmse:0.270415\n",
      "[80]\ttrain-auc:0.938732\ttrain-rmse:0.269672\n",
      "[81]\ttrain-auc:0.939472\ttrain-rmse:0.268802\n",
      "[82]\ttrain-auc:0.941048\ttrain-rmse:0.267337\n",
      "[83]\ttrain-auc:0.941936\ttrain-rmse:0.26668\n",
      "[84]\ttrain-auc:0.943291\ttrain-rmse:0.265943\n",
      "[85]\ttrain-auc:0.944316\ttrain-rmse:0.265113\n",
      "[86]\ttrain-auc:0.945407\ttrain-rmse:0.26434\n",
      "[87]\ttrain-auc:0.946697\ttrain-rmse:0.26332\n",
      "[88]\ttrain-auc:0.947299\ttrain-rmse:0.26287\n",
      "[89]\ttrain-auc:0.947542\ttrain-rmse:0.262523\n",
      "[90]\ttrain-auc:0.948002\ttrain-rmse:0.262077\n",
      "[91]\ttrain-auc:0.949034\ttrain-rmse:0.260887\n",
      "[92]\ttrain-auc:0.950419\ttrain-rmse:0.26016\n",
      "[93]\ttrain-auc:0.950644\ttrain-rmse:0.259833\n",
      "[94]\ttrain-auc:0.952063\ttrain-rmse:0.258362\n",
      "[95]\ttrain-auc:0.952845\ttrain-rmse:0.257681\n",
      "[96]\ttrain-auc:0.953097\ttrain-rmse:0.257453\n",
      "[97]\ttrain-auc:0.953366\ttrain-rmse:0.257072\n",
      "[98]\ttrain-auc:0.954707\ttrain-rmse:0.255995\n",
      "[99]\ttrain-auc:0.955182\ttrain-rmse:0.255502\n",
      "[100]\ttrain-auc:0.956591\ttrain-rmse:0.254318\n",
      "[101]\ttrain-auc:0.957043\ttrain-rmse:0.253702\n",
      "[102]\ttrain-auc:0.958481\ttrain-rmse:0.252575\n",
      "[103]\ttrain-auc:0.958795\ttrain-rmse:0.252315\n",
      "[104]\ttrain-auc:0.958941\ttrain-rmse:0.252105\n",
      "[105]\ttrain-auc:0.959355\ttrain-rmse:0.25163\n",
      "[106]\ttrain-auc:0.959698\ttrain-rmse:0.251308\n",
      "[107]\ttrain-auc:0.959828\ttrain-rmse:0.251157\n",
      "[108]\ttrain-auc:0.960235\ttrain-rmse:0.250683\n",
      "[109]\ttrain-auc:0.960458\ttrain-rmse:0.250393\n",
      "[110]\ttrain-auc:0.960961\ttrain-rmse:0.24981\n",
      "[111]\ttrain-auc:0.96164\ttrain-rmse:0.248877\n",
      "[112]\ttrain-auc:0.961715\ttrain-rmse:0.248785\n",
      "[113]\ttrain-auc:0.961842\ttrain-rmse:0.248601\n",
      "[114]\ttrain-auc:0.962695\ttrain-rmse:0.247623\n",
      "[115]\ttrain-auc:0.963567\ttrain-rmse:0.246306\n",
      "[116]\ttrain-auc:0.963677\ttrain-rmse:0.246104\n",
      "[117]\ttrain-auc:0.964077\ttrain-rmse:0.245491\n",
      "[118]\ttrain-auc:0.965727\ttrain-rmse:0.243872\n",
      "[119]\ttrain-auc:0.966582\ttrain-rmse:0.242388\n",
      "[120]\ttrain-auc:0.967522\ttrain-rmse:0.241604\n",
      "[121]\ttrain-auc:0.9677\ttrain-rmse:0.241445\n",
      "[122]\ttrain-auc:0.968243\ttrain-rmse:0.240788\n",
      "[123]\ttrain-auc:0.968721\ttrain-rmse:0.240149\n",
      "[124]\ttrain-auc:0.969431\ttrain-rmse:0.238786\n",
      "[125]\ttrain-auc:0.969521\ttrain-rmse:0.238674\n",
      "[126]\ttrain-auc:0.970326\ttrain-rmse:0.237746\n",
      "[127]\ttrain-auc:0.971154\ttrain-rmse:0.236463\n",
      "[128]\ttrain-auc:0.971401\ttrain-rmse:0.236059\n",
      "[129]\ttrain-auc:0.971807\ttrain-rmse:0.235225\n",
      "[130]\ttrain-auc:0.972591\ttrain-rmse:0.234102\n",
      "[131]\ttrain-auc:0.973267\ttrain-rmse:0.23293\n",
      "[132]\ttrain-auc:0.973346\ttrain-rmse:0.232736\n",
      "[133]\ttrain-auc:0.974286\ttrain-rmse:0.231518\n",
      "[134]\ttrain-auc:0.974635\ttrain-rmse:0.231032\n",
      "[135]\ttrain-auc:0.974792\ttrain-rmse:0.230604\n",
      "[136]\ttrain-auc:0.974904\ttrain-rmse:0.230315\n",
      "[137]\ttrain-auc:0.975465\ttrain-rmse:0.229496\n",
      "[138]\ttrain-auc:0.975552\ttrain-rmse:0.229387\n",
      "[139]\ttrain-auc:0.975612\ttrain-rmse:0.229302\n",
      "[140]\ttrain-auc:0.976049\ttrain-rmse:0.228725\n",
      "[141]\ttrain-auc:0.976134\ttrain-rmse:0.228529\n",
      "[142]\ttrain-auc:0.976182\ttrain-rmse:0.228456\n",
      "[143]\ttrain-auc:0.976537\ttrain-rmse:0.227626\n",
      "[144]\ttrain-auc:0.976934\ttrain-rmse:0.226662\n",
      "[145]\ttrain-auc:0.977204\ttrain-rmse:0.226248\n",
      "[146]\ttrain-auc:0.977382\ttrain-rmse:0.225922\n",
      "[147]\ttrain-auc:0.977814\ttrain-rmse:0.225044\n",
      "[148]\ttrain-auc:0.977927\ttrain-rmse:0.224791\n",
      "[149]\ttrain-auc:0.978143\ttrain-rmse:0.224154\n",
      "[150]\ttrain-auc:0.978406\ttrain-rmse:0.223451\n",
      "[151]\ttrain-auc:0.978886\ttrain-rmse:0.22249\n",
      "Working: 5\n",
      "[0]\ttrain-auc:0.904923+0.00198059\ttest-auc:0.885801+0.00262011\n",
      "[30]\ttrain-auc:0.983983+0.00145744\ttest-auc:0.933646+0.00257315\n",
      "[60]\ttrain-auc:0.995627+0.000792358\ttest-auc:0.934056+0.00156681\n",
      "[0]\ttrain-auc:0.901066\ttrain-rmse:0.390418\n",
      "[1]\ttrain-auc:0.922303\ttrain-rmse:0.32265\n",
      "[2]\ttrain-auc:0.930252\ttrain-rmse:0.28006\n",
      "[3]\ttrain-auc:0.934753\ttrain-rmse:0.2536\n",
      "[4]\ttrain-auc:0.939246\ttrain-rmse:0.236912\n",
      "[5]\ttrain-auc:0.943201\ttrain-rmse:0.226167\n",
      "[6]\ttrain-auc:0.946073\ttrain-rmse:0.219433\n",
      "[7]\ttrain-auc:0.948035\ttrain-rmse:0.214996\n",
      "[8]\ttrain-auc:0.950717\ttrain-rmse:0.211575\n",
      "[9]\ttrain-auc:0.95374\ttrain-rmse:0.2086\n",
      "[10]\ttrain-auc:0.955905\ttrain-rmse:0.206368\n",
      "[11]\ttrain-auc:0.957381\ttrain-rmse:0.203895\n",
      "[12]\ttrain-auc:0.958623\ttrain-rmse:0.202494\n",
      "[13]\ttrain-auc:0.959969\ttrain-rmse:0.201001\n",
      "[14]\ttrain-auc:0.960886\ttrain-rmse:0.199989\n",
      "[15]\ttrain-auc:0.962483\ttrain-rmse:0.198323\n",
      "[16]\ttrain-auc:0.964247\ttrain-rmse:0.196325\n",
      "[17]\ttrain-auc:0.965162\ttrain-rmse:0.195101\n",
      "[18]\ttrain-auc:0.966231\ttrain-rmse:0.193595\n",
      "[19]\ttrain-auc:0.967453\ttrain-rmse:0.192287\n",
      "[20]\ttrain-auc:0.968648\ttrain-rmse:0.19102\n",
      "[21]\ttrain-auc:0.96952\ttrain-rmse:0.189403\n",
      "[22]\ttrain-auc:0.971\ttrain-rmse:0.187471\n",
      "[23]\ttrain-auc:0.972384\ttrain-rmse:0.185652\n",
      "[24]\ttrain-auc:0.972841\ttrain-rmse:0.184673\n",
      "[25]\ttrain-auc:0.973655\ttrain-rmse:0.183182\n",
      "[26]\ttrain-auc:0.974546\ttrain-rmse:0.181927\n",
      "[27]\ttrain-auc:0.975742\ttrain-rmse:0.180017\n",
      "[28]\ttrain-auc:0.976197\ttrain-rmse:0.179339\n",
      "[29]\ttrain-auc:0.976956\ttrain-rmse:0.178158\n",
      "[30]\ttrain-auc:0.977318\ttrain-rmse:0.177724\n",
      "[31]\ttrain-auc:0.978028\ttrain-rmse:0.1766\n",
      "[32]\ttrain-auc:0.978794\ttrain-rmse:0.175681\n",
      "[33]\ttrain-auc:0.97923\ttrain-rmse:0.175159\n",
      "[34]\ttrain-auc:0.980334\ttrain-rmse:0.173297\n",
      "[35]\ttrain-auc:0.981168\ttrain-rmse:0.171803\n",
      "[36]\ttrain-auc:0.981539\ttrain-rmse:0.171076\n",
      "[37]\ttrain-auc:0.982066\ttrain-rmse:0.16964\n",
      "[38]\ttrain-auc:0.982731\ttrain-rmse:0.168541\n",
      "[39]\ttrain-auc:0.983604\ttrain-rmse:0.166879\n",
      "[40]\ttrain-auc:0.98427\ttrain-rmse:0.165357\n",
      "[41]\ttrain-auc:0.985099\ttrain-rmse:0.163444\n",
      "[42]\ttrain-auc:0.985744\ttrain-rmse:0.161562\n",
      "[43]\ttrain-auc:0.98614\ttrain-rmse:0.160791\n",
      "[44]\ttrain-auc:0.986469\ttrain-rmse:0.160235\n",
      "[45]\ttrain-auc:0.987059\ttrain-rmse:0.158371\n",
      "[46]\ttrain-auc:0.98746\ttrain-rmse:0.157342\n",
      "[47]\ttrain-auc:0.987938\ttrain-rmse:0.155627\n",
      "[48]\ttrain-auc:0.988094\ttrain-rmse:0.155228\n",
      "[49]\ttrain-auc:0.988361\ttrain-rmse:0.154621\n",
      "[50]\ttrain-auc:0.98855\ttrain-rmse:0.154143\n",
      "[51]\ttrain-auc:0.989065\ttrain-rmse:0.152594\n",
      "[52]\ttrain-auc:0.989292\ttrain-rmse:0.152213\n",
      "[53]\ttrain-auc:0.989396\ttrain-rmse:0.151828\n",
      "[54]\ttrain-auc:0.989827\ttrain-rmse:0.150558\n",
      "[55]\ttrain-auc:0.990245\ttrain-rmse:0.149135\n",
      "[56]\ttrain-auc:0.99055\ttrain-rmse:0.148294\n",
      "Working: 6\n",
      "[0]\ttrain-auc:0.891796+0.00271502\ttest-auc:0.876194+0.0028338\n",
      "[30]\ttrain-auc:0.961453+0.000945741\ttest-auc:0.909636+0.00168406\n",
      "[60]\ttrain-auc:0.979153+0.0010096\ttest-auc:0.910176+0.00214587\n",
      "[0]\ttrain-auc:0.891622\ttrain-rmse:0.418058\n",
      "[1]\ttrain-auc:0.903104\ttrain-rmse:0.369659\n",
      "[2]\ttrain-auc:0.908546\ttrain-rmse:0.34087\n",
      "[3]\ttrain-auc:0.912904\ttrain-rmse:0.322663\n",
      "[4]\ttrain-auc:0.915497\ttrain-rmse:0.311639\n",
      "[5]\ttrain-auc:0.918525\ttrain-rmse:0.304048\n",
      "[6]\ttrain-auc:0.920847\ttrain-rmse:0.298975\n",
      "[7]\ttrain-auc:0.922662\ttrain-rmse:0.295555\n",
      "[8]\ttrain-auc:0.924813\ttrain-rmse:0.292555\n",
      "[9]\ttrain-auc:0.926848\ttrain-rmse:0.290298\n",
      "[10]\ttrain-auc:0.929419\ttrain-rmse:0.287258\n",
      "[11]\ttrain-auc:0.931373\ttrain-rmse:0.285029\n",
      "[12]\ttrain-auc:0.932978\ttrain-rmse:0.283803\n",
      "[13]\ttrain-auc:0.934743\ttrain-rmse:0.281785\n",
      "[14]\ttrain-auc:0.936765\ttrain-rmse:0.279912\n",
      "[15]\ttrain-auc:0.938139\ttrain-rmse:0.278625\n",
      "[16]\ttrain-auc:0.93969\ttrain-rmse:0.277219\n",
      "[17]\ttrain-auc:0.941155\ttrain-rmse:0.275568\n",
      "[18]\ttrain-auc:0.942512\ttrain-rmse:0.273793\n",
      "[19]\ttrain-auc:0.943883\ttrain-rmse:0.272151\n",
      "[20]\ttrain-auc:0.94431\ttrain-rmse:0.271441\n",
      "[21]\ttrain-auc:0.946404\ttrain-rmse:0.269142\n",
      "[22]\ttrain-auc:0.946999\ttrain-rmse:0.268542\n",
      "[23]\ttrain-auc:0.947856\ttrain-rmse:0.26744\n",
      "[24]\ttrain-auc:0.948411\ttrain-rmse:0.267032\n",
      "[25]\ttrain-auc:0.949428\ttrain-rmse:0.265875\n",
      "[26]\ttrain-auc:0.950161\ttrain-rmse:0.264755\n",
      "[27]\ttrain-auc:0.950638\ttrain-rmse:0.264118\n",
      "[28]\ttrain-auc:0.951137\ttrain-rmse:0.263667\n",
      "[29]\ttrain-auc:0.951794\ttrain-rmse:0.262853\n",
      "[30]\ttrain-auc:0.952707\ttrain-rmse:0.261514\n",
      "[31]\ttrain-auc:0.953897\ttrain-rmse:0.260115\n",
      "[32]\ttrain-auc:0.954454\ttrain-rmse:0.259276\n",
      "[33]\ttrain-auc:0.954718\ttrain-rmse:0.259006\n",
      "[34]\ttrain-auc:0.955186\ttrain-rmse:0.258401\n",
      "[35]\ttrain-auc:0.955348\ttrain-rmse:0.258067\n",
      "[36]\ttrain-auc:0.956441\ttrain-rmse:0.256665\n",
      "[37]\ttrain-auc:0.957435\ttrain-rmse:0.255386\n",
      "[38]\ttrain-auc:0.958665\ttrain-rmse:0.253961\n",
      "[39]\ttrain-auc:0.959896\ttrain-rmse:0.251791\n",
      "[40]\ttrain-auc:0.960917\ttrain-rmse:0.250355\n",
      "[41]\ttrain-auc:0.961317\ttrain-rmse:0.249739\n",
      "[42]\ttrain-auc:0.961708\ttrain-rmse:0.249249\n",
      "[43]\ttrain-auc:0.962544\ttrain-rmse:0.24792\n",
      "[44]\ttrain-auc:0.962877\ttrain-rmse:0.247383\n",
      "[45]\ttrain-auc:0.963822\ttrain-rmse:0.245765\n",
      "[46]\ttrain-auc:0.964194\ttrain-rmse:0.245382\n",
      "[47]\ttrain-auc:0.964656\ttrain-rmse:0.244558\n",
      "[48]\ttrain-auc:0.964957\ttrain-rmse:0.244152\n",
      "[49]\ttrain-auc:0.965226\ttrain-rmse:0.243724\n",
      "[50]\ttrain-auc:0.965687\ttrain-rmse:0.243188\n",
      "[51]\ttrain-auc:0.966217\ttrain-rmse:0.242416\n",
      "[52]\ttrain-auc:0.966439\ttrain-rmse:0.242207\n",
      "[53]\ttrain-auc:0.966562\ttrain-rmse:0.242022\n",
      "[54]\ttrain-auc:0.967006\ttrain-rmse:0.241201\n",
      "[55]\ttrain-auc:0.967268\ttrain-rmse:0.240778\n",
      "[56]\ttrain-auc:0.967461\ttrain-rmse:0.240486\n",
      "Working: 7\n",
      "[0]\ttrain-auc:0.832747+0.00229327\ttest-auc:0.801881+0.00464794\n",
      "[30]\ttrain-auc:0.948209+7.72054e-05\ttest-auc:0.845342+0.0037923\n",
      "[60]\ttrain-auc:0.975185+0.00246413\ttest-auc:0.84663+0.00343456\n",
      "[90]\ttrain-auc:0.989948+0.0010378\ttest-auc:0.846618+0.00213074\n",
      "[0]\ttrain-auc:0.833033\ttrain-rmse:0.406737\n",
      "[1]\ttrain-auc:0.848348\ttrain-rmse:0.351888\n",
      "[2]\ttrain-auc:0.855595\ttrain-rmse:0.31952\n",
      "[3]\ttrain-auc:0.862097\ttrain-rmse:0.300379\n",
      "[4]\ttrain-auc:0.867002\ttrain-rmse:0.289187\n",
      "[5]\ttrain-auc:0.872576\ttrain-rmse:0.281571\n",
      "[6]\ttrain-auc:0.878091\ttrain-rmse:0.277027\n",
      "[7]\ttrain-auc:0.882191\ttrain-rmse:0.273558\n",
      "[8]\ttrain-auc:0.887485\ttrain-rmse:0.271135\n",
      "[9]\ttrain-auc:0.891575\ttrain-rmse:0.269119\n",
      "[10]\ttrain-auc:0.895885\ttrain-rmse:0.26688\n",
      "[11]\ttrain-auc:0.899461\ttrain-rmse:0.265246\n",
      "[12]\ttrain-auc:0.902046\ttrain-rmse:0.263773\n",
      "[13]\ttrain-auc:0.905483\ttrain-rmse:0.261855\n",
      "[14]\ttrain-auc:0.908336\ttrain-rmse:0.260238\n",
      "[15]\ttrain-auc:0.910752\ttrain-rmse:0.258857\n",
      "[16]\ttrain-auc:0.911756\ttrain-rmse:0.258413\n",
      "[17]\ttrain-auc:0.914077\ttrain-rmse:0.256827\n",
      "[18]\ttrain-auc:0.918074\ttrain-rmse:0.254834\n",
      "[19]\ttrain-auc:0.919867\ttrain-rmse:0.253919\n",
      "[20]\ttrain-auc:0.92151\ttrain-rmse:0.253273\n",
      "[21]\ttrain-auc:0.922553\ttrain-rmse:0.252948\n",
      "[22]\ttrain-auc:0.923578\ttrain-rmse:0.252136\n",
      "[23]\ttrain-auc:0.924244\ttrain-rmse:0.25182\n",
      "[24]\ttrain-auc:0.925527\ttrain-rmse:0.25134\n",
      "[25]\ttrain-auc:0.926088\ttrain-rmse:0.250762\n",
      "[26]\ttrain-auc:0.927655\ttrain-rmse:0.249727\n",
      "[27]\ttrain-auc:0.928476\ttrain-rmse:0.249401\n",
      "[28]\ttrain-auc:0.930433\ttrain-rmse:0.248015\n",
      "[29]\ttrain-auc:0.931967\ttrain-rmse:0.246934\n",
      "[30]\ttrain-auc:0.933965\ttrain-rmse:0.245201\n",
      "[31]\ttrain-auc:0.934748\ttrain-rmse:0.244524\n",
      "[32]\ttrain-auc:0.938075\ttrain-rmse:0.242426\n",
      "[33]\ttrain-auc:0.938617\ttrain-rmse:0.241947\n",
      "[34]\ttrain-auc:0.939957\ttrain-rmse:0.241372\n",
      "[35]\ttrain-auc:0.940807\ttrain-rmse:0.24073\n",
      "[36]\ttrain-auc:0.940983\ttrain-rmse:0.240623\n",
      "[37]\ttrain-auc:0.941774\ttrain-rmse:0.240317\n",
      "[38]\ttrain-auc:0.942029\ttrain-rmse:0.240135\n",
      "[39]\ttrain-auc:0.942646\ttrain-rmse:0.239681\n",
      "[40]\ttrain-auc:0.94304\ttrain-rmse:0.239383\n",
      "[41]\ttrain-auc:0.943582\ttrain-rmse:0.239043\n",
      "[42]\ttrain-auc:0.944004\ttrain-rmse:0.238756\n",
      "[43]\ttrain-auc:0.944313\ttrain-rmse:0.238409\n",
      "[44]\ttrain-auc:0.945811\ttrain-rmse:0.237042\n",
      "[45]\ttrain-auc:0.947056\ttrain-rmse:0.23596\n",
      "[46]\ttrain-auc:0.947474\ttrain-rmse:0.235649\n",
      "[47]\ttrain-auc:0.949115\ttrain-rmse:0.234549\n",
      "[48]\ttrain-auc:0.951029\ttrain-rmse:0.233472\n",
      "[49]\ttrain-auc:0.953011\ttrain-rmse:0.2315\n",
      "[50]\ttrain-auc:0.953574\ttrain-rmse:0.230982\n",
      "[51]\ttrain-auc:0.955627\ttrain-rmse:0.229332\n",
      "[52]\ttrain-auc:0.957003\ttrain-rmse:0.228132\n",
      "[53]\ttrain-auc:0.957348\ttrain-rmse:0.227693\n",
      "[54]\ttrain-auc:0.957665\ttrain-rmse:0.227424\n",
      "[55]\ttrain-auc:0.958409\ttrain-rmse:0.226849\n",
      "[56]\ttrain-auc:0.959041\ttrain-rmse:0.226252\n",
      "[57]\ttrain-auc:0.95929\ttrain-rmse:0.226023\n",
      "[58]\ttrain-auc:0.960399\ttrain-rmse:0.225059\n",
      "[59]\ttrain-auc:0.961021\ttrain-rmse:0.224354\n",
      "[60]\ttrain-auc:0.961411\ttrain-rmse:0.224012\n",
      "[61]\ttrain-auc:0.962655\ttrain-rmse:0.222581\n",
      "[62]\ttrain-auc:0.96369\ttrain-rmse:0.221678\n",
      "[63]\ttrain-auc:0.964179\ttrain-rmse:0.221141\n",
      "[64]\ttrain-auc:0.964517\ttrain-rmse:0.220918\n",
      "[65]\ttrain-auc:0.964966\ttrain-rmse:0.220561\n",
      "[66]\ttrain-auc:0.965198\ttrain-rmse:0.220364\n",
      "[67]\ttrain-auc:0.965532\ttrain-rmse:0.219899\n",
      "[68]\ttrain-auc:0.96572\ttrain-rmse:0.219714\n",
      "[69]\ttrain-auc:0.965796\ttrain-rmse:0.219623\n",
      "[70]\ttrain-auc:0.965941\ttrain-rmse:0.219509\n",
      "[71]\ttrain-auc:0.967109\ttrain-rmse:0.218453\n",
      "[72]\ttrain-auc:0.967903\ttrain-rmse:0.217507\n",
      "[73]\ttrain-auc:0.968775\ttrain-rmse:0.216556\n",
      "[74]\ttrain-auc:0.968944\ttrain-rmse:0.216243\n",
      "Working: 8\n",
      "[0]\ttrain-auc:0.5+0\ttest-auc:0.5+0\n",
      "[30]\ttrain-auc:0.999752+0.000205819\ttest-auc:0.844945+0.0134669\n",
      "[0]\ttrain-auc:0.5\ttrain-rmse:0.357863\n",
      "[1]\ttrain-auc:0.738651\ttrain-rmse:0.263464\n",
      "[2]\ttrain-auc:0.768869\ttrain-rmse:0.19818\n",
      "[3]\ttrain-auc:0.860322\ttrain-rmse:0.152959\n",
      "[4]\ttrain-auc:0.871214\ttrain-rmse:0.122048\n",
      "[5]\ttrain-auc:0.878597\ttrain-rmse:0.101509\n",
      "[6]\ttrain-auc:0.896579\ttrain-rmse:0.088121\n",
      "[7]\ttrain-auc:0.904449\ttrain-rmse:0.079526\n",
      "[8]\ttrain-auc:0.914972\ttrain-rmse:0.074666\n",
      "[9]\ttrain-auc:0.92025\ttrain-rmse:0.071423\n",
      "[10]\ttrain-auc:0.926224\ttrain-rmse:0.069349\n",
      "[11]\ttrain-auc:0.941901\ttrain-rmse:0.068124\n",
      "[12]\ttrain-auc:0.957592\ttrain-rmse:0.067303\n",
      "[13]\ttrain-auc:0.961407\ttrain-rmse:0.066441\n",
      "[14]\ttrain-auc:0.970282\ttrain-rmse:0.065281\n",
      "[15]\ttrain-auc:0.976112\ttrain-rmse:0.064368\n",
      "[16]\ttrain-auc:0.98071\ttrain-rmse:0.064127\n",
      "[17]\ttrain-auc:0.984028\ttrain-rmse:0.063649\n",
      "[18]\ttrain-auc:0.986161\ttrain-rmse:0.062943\n",
      "[19]\ttrain-auc:0.988098\ttrain-rmse:0.062257\n",
      "[20]\ttrain-auc:0.988985\ttrain-rmse:0.061611\n",
      "[21]\ttrain-auc:0.989656\ttrain-rmse:0.060984\n",
      "[22]\ttrain-auc:0.992494\ttrain-rmse:0.059926\n",
      "[23]\ttrain-auc:0.993122\ttrain-rmse:0.05977\n",
      "[24]\ttrain-auc:0.994154\ttrain-rmse:0.059062\n",
      "[25]\ttrain-auc:0.99451\ttrain-rmse:0.057778\n",
      "[26]\ttrain-auc:0.995989\ttrain-rmse:0.056438\n",
      "[27]\ttrain-auc:0.996291\ttrain-rmse:0.055434\n",
      "[28]\ttrain-auc:0.996787\ttrain-rmse:0.05522\n",
      "[29]\ttrain-auc:0.997222\ttrain-rmse:0.053531\n",
      "[30]\ttrain-auc:0.997511\ttrain-rmse:0.05281\n",
      "[31]\ttrain-auc:0.998221\ttrain-rmse:0.052151\n",
      "Working: 9\n",
      "[0]\ttrain-auc:0.88387+0.0598137\ttest-auc:0.874973+0.0581017\n",
      "[30]\ttrain-auc:0.997755+6.80049e-05\ttest-auc:0.985992+0.00186939\n",
      "[60]\ttrain-auc:0.999665+7.39114e-05\ttest-auc:0.986783+0.00216916\n",
      "[90]\ttrain-auc:0.999976+9.67241e-06\ttest-auc:0.987398+0.00201364\n",
      "[0]\ttrain-auc:0.96951\ttrain-rmse:0.368571\n",
      "[1]\ttrain-auc:0.973151\ttrain-rmse:0.284663\n",
      "[2]\ttrain-auc:0.97667\ttrain-rmse:0.226377\n",
      "[3]\ttrain-auc:0.978929\ttrain-rmse:0.188026\n",
      "[4]\ttrain-auc:0.981123\ttrain-rmse:0.163105\n",
      "[5]\ttrain-auc:0.984592\ttrain-rmse:0.147298\n",
      "[6]\ttrain-auc:0.985338\ttrain-rmse:0.137528\n",
      "[7]\ttrain-auc:0.986324\ttrain-rmse:0.130894\n",
      "[8]\ttrain-auc:0.987699\ttrain-rmse:0.126186\n",
      "[9]\ttrain-auc:0.989012\ttrain-rmse:0.122667\n",
      "[10]\ttrain-auc:0.989395\ttrain-rmse:0.120695\n",
      "[11]\ttrain-auc:0.990987\ttrain-rmse:0.118954\n",
      "[12]\ttrain-auc:0.992246\ttrain-rmse:0.117982\n",
      "[13]\ttrain-auc:0.993041\ttrain-rmse:0.11684\n",
      "[14]\ttrain-auc:0.99368\ttrain-rmse:0.115828\n",
      "[15]\ttrain-auc:0.994001\ttrain-rmse:0.114895\n",
      "[16]\ttrain-auc:0.994165\ttrain-rmse:0.114297\n",
      "[17]\ttrain-auc:0.994515\ttrain-rmse:0.113556\n",
      "[18]\ttrain-auc:0.994603\ttrain-rmse:0.113078\n",
      "[19]\ttrain-auc:0.994807\ttrain-rmse:0.112337\n",
      "[20]\ttrain-auc:0.99499\ttrain-rmse:0.111173\n",
      "[21]\ttrain-auc:0.995098\ttrain-rmse:0.110885\n",
      "[22]\ttrain-auc:0.995208\ttrain-rmse:0.110375\n",
      "[23]\ttrain-auc:0.995306\ttrain-rmse:0.109761\n",
      "[24]\ttrain-auc:0.995656\ttrain-rmse:0.108055\n",
      "[25]\ttrain-auc:0.995834\ttrain-rmse:0.107218\n",
      "[26]\ttrain-auc:0.995933\ttrain-rmse:0.106556\n",
      "[27]\ttrain-auc:0.996195\ttrain-rmse:0.104835\n",
      "[28]\ttrain-auc:0.996374\ttrain-rmse:0.103618\n",
      "[29]\ttrain-auc:0.996597\ttrain-rmse:0.10204\n",
      "[30]\ttrain-auc:0.996724\ttrain-rmse:0.101225\n",
      "[31]\ttrain-auc:0.996873\ttrain-rmse:0.100063\n",
      "[32]\ttrain-auc:0.997018\ttrain-rmse:0.099336\n",
      "[33]\ttrain-auc:0.9971\ttrain-rmse:0.098627\n",
      "[34]\ttrain-auc:0.997181\ttrain-rmse:0.097935\n",
      "[35]\ttrain-auc:0.997444\ttrain-rmse:0.096184\n",
      "[36]\ttrain-auc:0.997528\ttrain-rmse:0.095476\n",
      "[37]\ttrain-auc:0.997646\ttrain-rmse:0.09431\n",
      "[38]\ttrain-auc:0.997766\ttrain-rmse:0.093461\n",
      "[39]\ttrain-auc:0.997818\ttrain-rmse:0.092967\n",
      "[40]\ttrain-auc:0.997848\ttrain-rmse:0.092746\n",
      "[41]\ttrain-auc:0.997939\ttrain-rmse:0.092171\n",
      "[42]\ttrain-auc:0.998038\ttrain-rmse:0.090974\n",
      "[43]\ttrain-auc:0.998157\ttrain-rmse:0.089592\n",
      "[44]\ttrain-auc:0.998208\ttrain-rmse:0.088991\n",
      "[45]\ttrain-auc:0.998244\ttrain-rmse:0.088722\n",
      "[46]\ttrain-auc:0.998287\ttrain-rmse:0.088297\n",
      "[47]\ttrain-auc:0.998393\ttrain-rmse:0.087289\n",
      "[48]\ttrain-auc:0.998441\ttrain-rmse:0.086812\n",
      "[49]\ttrain-auc:0.998471\ttrain-rmse:0.08643\n",
      "[50]\ttrain-auc:0.998528\ttrain-rmse:0.086048\n",
      "[51]\ttrain-auc:0.998671\ttrain-rmse:0.084314\n",
      "[52]\ttrain-auc:0.998713\ttrain-rmse:0.083894\n",
      "[53]\ttrain-auc:0.99876\ttrain-rmse:0.083237\n",
      "[54]\ttrain-auc:0.99877\ttrain-rmse:0.083092\n",
      "[55]\ttrain-auc:0.99885\ttrain-rmse:0.081852\n",
      "[56]\ttrain-auc:0.99896\ttrain-rmse:0.080394\n",
      "[57]\ttrain-auc:0.998972\ttrain-rmse:0.080165\n",
      "[58]\ttrain-auc:0.998998\ttrain-rmse:0.080011\n",
      "[59]\ttrain-auc:0.999033\ttrain-rmse:0.079526\n",
      "[60]\ttrain-auc:0.999076\ttrain-rmse:0.078855\n",
      "[61]\ttrain-auc:0.999106\ttrain-rmse:0.078313\n",
      "[62]\ttrain-auc:0.999134\ttrain-rmse:0.077859\n",
      "[63]\ttrain-auc:0.999168\ttrain-rmse:0.077509\n",
      "[64]\ttrain-auc:0.999225\ttrain-rmse:0.076773\n",
      "[65]\ttrain-auc:0.99928\ttrain-rmse:0.075622\n",
      "[66]\ttrain-auc:0.9993\ttrain-rmse:0.075158\n",
      "[67]\ttrain-auc:0.999328\ttrain-rmse:0.074471\n",
      "[68]\ttrain-auc:0.999364\ttrain-rmse:0.073729\n",
      "[69]\ttrain-auc:0.999382\ttrain-rmse:0.0733\n",
      "[70]\ttrain-auc:0.999459\ttrain-rmse:0.071752\n",
      "[71]\ttrain-auc:0.999511\ttrain-rmse:0.070484\n",
      "[72]\ttrain-auc:0.999525\ttrain-rmse:0.070149\n",
      "[73]\ttrain-auc:0.999562\ttrain-rmse:0.06931\n",
      "[74]\ttrain-auc:0.999569\ttrain-rmse:0.06911\n",
      "[75]\ttrain-auc:0.999611\ttrain-rmse:0.067846\n",
      "[76]\ttrain-auc:0.999647\ttrain-rmse:0.066883\n",
      "[77]\ttrain-auc:0.99968\ttrain-rmse:0.065879\n",
      "[78]\ttrain-auc:0.999693\ttrain-rmse:0.065407\n",
      "[79]\ttrain-auc:0.999705\ttrain-rmse:0.065136\n",
      "[80]\ttrain-auc:0.999716\ttrain-rmse:0.064707\n",
      "[81]\ttrain-auc:0.999734\ttrain-rmse:0.064263\n",
      "[82]\ttrain-auc:0.999752\ttrain-rmse:0.063735\n",
      "Working: 10\n",
      "[0]\ttrain-auc:0.952833+0.00205362\ttest-auc:0.940835+0.00218187\n",
      "[30]\ttrain-auc:0.995445+0.000235993\ttest-auc:0.975224+0.0016776\n",
      "[60]\ttrain-auc:0.998953+7.99389e-05\ttest-auc:0.975986+0.0014772\n",
      "[90]\ttrain-auc:0.999829+3.44222e-05\ttest-auc:0.976453+0.00123416\n",
      "[120]\ttrain-auc:0.999987+5.31246e-06\ttest-auc:0.9768+0.00137002\n",
      "[150]\ttrain-auc:0.999999+1.41421e-06\ttest-auc:0.976926+0.00123704\n",
      "[180]\ttrain-auc:1+0\ttest-auc:0.977171+0.00114009\n",
      "[0]\ttrain-auc:0.954135\ttrain-rmse:0.390862\n",
      "[1]\ttrain-auc:0.964639\ttrain-rmse:0.322279\n",
      "[2]\ttrain-auc:0.967624\ttrain-rmse:0.278671\n",
      "[3]\ttrain-auc:0.970694\ttrain-rmse:0.250243\n",
      "[4]\ttrain-auc:0.974531\ttrain-rmse:0.229966\n",
      "[5]\ttrain-auc:0.976995\ttrain-rmse:0.215797\n",
      "[6]\ttrain-auc:0.978508\ttrain-rmse:0.206242\n",
      "[7]\ttrain-auc:0.979834\ttrain-rmse:0.19984\n",
      "[8]\ttrain-auc:0.981404\ttrain-rmse:0.194931\n",
      "[9]\ttrain-auc:0.98221\ttrain-rmse:0.191326\n",
      "[10]\ttrain-auc:0.983268\ttrain-rmse:0.187996\n",
      "[11]\ttrain-auc:0.983909\ttrain-rmse:0.185553\n",
      "[12]\ttrain-auc:0.985017\ttrain-rmse:0.182201\n",
      "[13]\ttrain-auc:0.986101\ttrain-rmse:0.179152\n",
      "[14]\ttrain-auc:0.986674\ttrain-rmse:0.17715\n",
      "[15]\ttrain-auc:0.987303\ttrain-rmse:0.174589\n",
      "[16]\ttrain-auc:0.987877\ttrain-rmse:0.172564\n",
      "[17]\ttrain-auc:0.988635\ttrain-rmse:0.170506\n",
      "[18]\ttrain-auc:0.989204\ttrain-rmse:0.168406\n",
      "[19]\ttrain-auc:0.989609\ttrain-rmse:0.166432\n",
      "[20]\ttrain-auc:0.990167\ttrain-rmse:0.164361\n",
      "[21]\ttrain-auc:0.990456\ttrain-rmse:0.16281\n",
      "[22]\ttrain-auc:0.990875\ttrain-rmse:0.160857\n",
      "[23]\ttrain-auc:0.991325\ttrain-rmse:0.159506\n",
      "[24]\ttrain-auc:0.991676\ttrain-rmse:0.158059\n",
      "[25]\ttrain-auc:0.99179\ttrain-rmse:0.157562\n",
      "[26]\ttrain-auc:0.992287\ttrain-rmse:0.155633\n",
      "[27]\ttrain-auc:0.992481\ttrain-rmse:0.154555\n",
      "[28]\ttrain-auc:0.992677\ttrain-rmse:0.153324\n",
      "[29]\ttrain-auc:0.993086\ttrain-rmse:0.15156\n",
      "[30]\ttrain-auc:0.993343\ttrain-rmse:0.150297\n",
      "[31]\ttrain-auc:0.993402\ttrain-rmse:0.14991\n",
      "[32]\ttrain-auc:0.993544\ttrain-rmse:0.149236\n",
      "[33]\ttrain-auc:0.993651\ttrain-rmse:0.148654\n",
      "[34]\ttrain-auc:0.993913\ttrain-rmse:0.147198\n",
      "[35]\ttrain-auc:0.994096\ttrain-rmse:0.146041\n",
      "[36]\ttrain-auc:0.994255\ttrain-rmse:0.145426\n",
      "[37]\ttrain-auc:0.994504\ttrain-rmse:0.143784\n",
      "[38]\ttrain-auc:0.994694\ttrain-rmse:0.142943\n",
      "[39]\ttrain-auc:0.994775\ttrain-rmse:0.142302\n",
      "[40]\ttrain-auc:0.994856\ttrain-rmse:0.141852\n",
      "[41]\ttrain-auc:0.994924\ttrain-rmse:0.141405\n",
      "[42]\ttrain-auc:0.994998\ttrain-rmse:0.140862\n",
      "[43]\ttrain-auc:0.995197\ttrain-rmse:0.139612\n",
      "[44]\ttrain-auc:0.995396\ttrain-rmse:0.138462\n",
      "[45]\ttrain-auc:0.995523\ttrain-rmse:0.137887\n",
      "[46]\ttrain-auc:0.995813\ttrain-rmse:0.135994\n",
      "[47]\ttrain-auc:0.995933\ttrain-rmse:0.135181\n",
      "[48]\ttrain-auc:0.995995\ttrain-rmse:0.134721\n",
      "[49]\ttrain-auc:0.996114\ttrain-rmse:0.133992\n",
      "[50]\ttrain-auc:0.996218\ttrain-rmse:0.133244\n",
      "[51]\ttrain-auc:0.996333\ttrain-rmse:0.132397\n",
      "[52]\ttrain-auc:0.996489\ttrain-rmse:0.131121\n",
      "[53]\ttrain-auc:0.99669\ttrain-rmse:0.129537\n",
      "[54]\ttrain-auc:0.996816\ttrain-rmse:0.128673\n",
      "[55]\ttrain-auc:0.996999\ttrain-rmse:0.127239\n",
      "[56]\ttrain-auc:0.997031\ttrain-rmse:0.127009\n",
      "[57]\ttrain-auc:0.997094\ttrain-rmse:0.126448\n",
      "[58]\ttrain-auc:0.99712\ttrain-rmse:0.126191\n",
      "[59]\ttrain-auc:0.997297\ttrain-rmse:0.124719\n",
      "[60]\ttrain-auc:0.997371\ttrain-rmse:0.124059\n",
      "[61]\ttrain-auc:0.997417\ttrain-rmse:0.123516\n",
      "[62]\ttrain-auc:0.997524\ttrain-rmse:0.122398\n",
      "[63]\ttrain-auc:0.997592\ttrain-rmse:0.121684\n",
      "[64]\ttrain-auc:0.997627\ttrain-rmse:0.121229\n",
      "[65]\ttrain-auc:0.997683\ttrain-rmse:0.120492\n",
      "[66]\ttrain-auc:0.997717\ttrain-rmse:0.120232\n",
      "[67]\ttrain-auc:0.997841\ttrain-rmse:0.11913\n",
      "[68]\ttrain-auc:0.99798\ttrain-rmse:0.117776\n",
      "[69]\ttrain-auc:0.998102\ttrain-rmse:0.116294\n",
      "[70]\ttrain-auc:0.998179\ttrain-rmse:0.115235\n",
      "[71]\ttrain-auc:0.998268\ttrain-rmse:0.113937\n",
      "[72]\ttrain-auc:0.998286\ttrain-rmse:0.11363\n",
      "[73]\ttrain-auc:0.998312\ttrain-rmse:0.113334\n",
      "[74]\ttrain-auc:0.99839\ttrain-rmse:0.112105\n",
      "[75]\ttrain-auc:0.998501\ttrain-rmse:0.110628\n",
      "[76]\ttrain-auc:0.998546\ttrain-rmse:0.109943\n",
      "[77]\ttrain-auc:0.998609\ttrain-rmse:0.109053\n",
      "[78]\ttrain-auc:0.998633\ttrain-rmse:0.108774\n",
      "[79]\ttrain-auc:0.998663\ttrain-rmse:0.108245\n",
      "[80]\ttrain-auc:0.998752\ttrain-rmse:0.106873\n",
      "[81]\ttrain-auc:0.998842\ttrain-rmse:0.105421\n",
      "[82]\ttrain-auc:0.998861\ttrain-rmse:0.105028\n",
      "[83]\ttrain-auc:0.998882\ttrain-rmse:0.104575\n",
      "[84]\ttrain-auc:0.9989\ttrain-rmse:0.104215\n",
      "[85]\ttrain-auc:0.998946\ttrain-rmse:0.103356\n",
      "[86]\ttrain-auc:0.998952\ttrain-rmse:0.103214\n",
      "[87]\ttrain-auc:0.998972\ttrain-rmse:0.102797\n",
      "[88]\ttrain-auc:0.999035\ttrain-rmse:0.1016\n",
      "[89]\ttrain-auc:0.999055\ttrain-rmse:0.101358\n",
      "[90]\ttrain-auc:0.999061\ttrain-rmse:0.101126\n",
      "[91]\ttrain-auc:0.999095\ttrain-rmse:0.100676\n",
      "[92]\ttrain-auc:0.99913\ttrain-rmse:0.099915\n",
      "[93]\ttrain-auc:0.999153\ttrain-rmse:0.099315\n",
      "[94]\ttrain-auc:0.999178\ttrain-rmse:0.098728\n",
      "[95]\ttrain-auc:0.999191\ttrain-rmse:0.098354\n",
      "[96]\ttrain-auc:0.99924\ttrain-rmse:0.097593\n",
      "[97]\ttrain-auc:0.999279\ttrain-rmse:0.096788\n",
      "[98]\ttrain-auc:0.99928\ttrain-rmse:0.096689\n",
      "[99]\ttrain-auc:0.999301\ttrain-rmse:0.095934\n",
      "[100]\ttrain-auc:0.999382\ttrain-rmse:0.094612\n",
      "[101]\ttrain-auc:0.999393\ttrain-rmse:0.094336\n",
      "[102]\ttrain-auc:0.999456\ttrain-rmse:0.093105\n",
      "[103]\ttrain-auc:0.999504\ttrain-rmse:0.091732\n",
      "[104]\ttrain-auc:0.999525\ttrain-rmse:0.091127\n",
      "[105]\ttrain-auc:0.999531\ttrain-rmse:0.090836\n",
      "[106]\ttrain-auc:0.999538\ttrain-rmse:0.090525\n",
      "[107]\ttrain-auc:0.99956\ttrain-rmse:0.089579\n",
      "[108]\ttrain-auc:0.999598\ttrain-rmse:0.088478\n",
      "[109]\ttrain-auc:0.999629\ttrain-rmse:0.087504\n",
      "[110]\ttrain-auc:0.99966\ttrain-rmse:0.086486\n",
      "[111]\ttrain-auc:0.999693\ttrain-rmse:0.085442\n",
      "[112]\ttrain-auc:0.999709\ttrain-rmse:0.084623\n",
      "[113]\ttrain-auc:0.999715\ttrain-rmse:0.084292\n",
      "[114]\ttrain-auc:0.999716\ttrain-rmse:0.084159\n",
      "[115]\ttrain-auc:0.999724\ttrain-rmse:0.083751\n",
      "[116]\ttrain-auc:0.99974\ttrain-rmse:0.083041\n",
      "[117]\ttrain-auc:0.99976\ttrain-rmse:0.082342\n",
      "[118]\ttrain-auc:0.999759\ttrain-rmse:0.082253\n",
      "[119]\ttrain-auc:0.999764\ttrain-rmse:0.081717\n",
      "[120]\ttrain-auc:0.999772\ttrain-rmse:0.081363\n",
      "[121]\ttrain-auc:0.999778\ttrain-rmse:0.080765\n",
      "[122]\ttrain-auc:0.999787\ttrain-rmse:0.080346\n",
      "[123]\ttrain-auc:0.999796\ttrain-rmse:0.079788\n",
      "[124]\ttrain-auc:0.999805\ttrain-rmse:0.079093\n",
      "[125]\ttrain-auc:0.99981\ttrain-rmse:0.078666\n",
      "[126]\ttrain-auc:0.999816\ttrain-rmse:0.078374\n",
      "[127]\ttrain-auc:0.999831\ttrain-rmse:0.077629\n",
      "[128]\ttrain-auc:0.999835\ttrain-rmse:0.077381\n",
      "[129]\ttrain-auc:0.999851\ttrain-rmse:0.076357\n",
      "[130]\ttrain-auc:0.999853\ttrain-rmse:0.076084\n",
      "[131]\ttrain-auc:0.999855\ttrain-rmse:0.075904\n",
      "[132]\ttrain-auc:0.999867\ttrain-rmse:0.074755\n",
      "[133]\ttrain-auc:0.99987\ttrain-rmse:0.074403\n",
      "[134]\ttrain-auc:0.999871\ttrain-rmse:0.074176\n",
      "[135]\ttrain-auc:0.999877\ttrain-rmse:0.07358\n",
      "[136]\ttrain-auc:0.99988\ttrain-rmse:0.07337\n",
      "[137]\ttrain-auc:0.999882\ttrain-rmse:0.073077\n",
      "[138]\ttrain-auc:0.999891\ttrain-rmse:0.072646\n",
      "[139]\ttrain-auc:0.9999\ttrain-rmse:0.071765\n",
      "[140]\ttrain-auc:0.999902\ttrain-rmse:0.07143\n",
      "[141]\ttrain-auc:0.999905\ttrain-rmse:0.071061\n",
      "[142]\ttrain-auc:0.999908\ttrain-rmse:0.070642\n",
      "[143]\ttrain-auc:0.999916\ttrain-rmse:0.069931\n",
      "[144]\ttrain-auc:0.999921\ttrain-rmse:0.069199\n",
      "[145]\ttrain-auc:0.999923\ttrain-rmse:0.068978\n",
      "[146]\ttrain-auc:0.999925\ttrain-rmse:0.068723\n",
      "[147]\ttrain-auc:0.999934\ttrain-rmse:0.067769\n",
      "[148]\ttrain-auc:0.999934\ttrain-rmse:0.067551\n",
      "[149]\ttrain-auc:0.999939\ttrain-rmse:0.06709\n",
      "[150]\ttrain-auc:0.999944\ttrain-rmse:0.066441\n",
      "[151]\ttrain-auc:0.999948\ttrain-rmse:0.065581\n",
      "[152]\ttrain-auc:0.999954\ttrain-rmse:0.064707\n",
      "[153]\ttrain-auc:0.999956\ttrain-rmse:0.064186\n",
      "[154]\ttrain-auc:0.999956\ttrain-rmse:0.064\n",
      "[155]\ttrain-auc:0.999959\ttrain-rmse:0.06336\n",
      "[156]\ttrain-auc:0.99996\ttrain-rmse:0.063211\n",
      "[157]\ttrain-auc:0.999963\ttrain-rmse:0.06276\n",
      "[158]\ttrain-auc:0.999966\ttrain-rmse:0.062436\n",
      "[159]\ttrain-auc:0.999968\ttrain-rmse:0.061963\n",
      "[160]\ttrain-auc:0.999971\ttrain-rmse:0.061099\n",
      "[161]\ttrain-auc:0.999973\ttrain-rmse:0.060875\n",
      "[162]\ttrain-auc:0.999974\ttrain-rmse:0.06034\n",
      "[163]\ttrain-auc:0.999978\ttrain-rmse:0.059416\n",
      "[164]\ttrain-auc:0.999979\ttrain-rmse:0.058937\n",
      "[165]\ttrain-auc:0.999979\ttrain-rmse:0.058855\n",
      "[166]\ttrain-auc:0.999979\ttrain-rmse:0.058704\n",
      "[167]\ttrain-auc:0.999981\ttrain-rmse:0.058473\n",
      "[168]\ttrain-auc:0.999982\ttrain-rmse:0.058107\n",
      "[169]\ttrain-auc:0.999982\ttrain-rmse:0.057815\n",
      "[170]\ttrain-auc:0.999983\ttrain-rmse:0.05739\n",
      "[171]\ttrain-auc:0.999986\ttrain-rmse:0.056556\n",
      "[172]\ttrain-auc:0.999986\ttrain-rmse:0.056267\n",
      "[173]\ttrain-auc:0.999988\ttrain-rmse:0.055545\n",
      "[174]\ttrain-auc:0.999988\ttrain-rmse:0.055237\n",
      "[175]\ttrain-auc:0.99999\ttrain-rmse:0.054593\n",
      "[176]\ttrain-auc:0.999991\ttrain-rmse:0.053915\n",
      "[177]\ttrain-auc:0.999991\ttrain-rmse:0.053359\n",
      "[178]\ttrain-auc:0.999992\ttrain-rmse:0.053041\n",
      "[179]\ttrain-auc:0.999992\ttrain-rmse:0.052859\n",
      "[180]\ttrain-auc:0.999991\ttrain-rmse:0.05264\n",
      "[181]\ttrain-auc:0.999993\ttrain-rmse:0.051674\n",
      "[182]\ttrain-auc:0.999994\ttrain-rmse:0.051035\n",
      "[183]\ttrain-auc:0.999994\ttrain-rmse:0.050746\n",
      "[184]\ttrain-auc:0.999994\ttrain-rmse:0.050273\n",
      "[185]\ttrain-auc:0.999996\ttrain-rmse:0.049397\n",
      "[186]\ttrain-auc:0.999996\ttrain-rmse:0.049372\n",
      "[187]\ttrain-auc:0.999996\ttrain-rmse:0.048749\n",
      "[188]\ttrain-auc:0.999996\ttrain-rmse:0.048512\n",
      "[189]\ttrain-auc:0.999997\ttrain-rmse:0.048084\n",
      "[190]\ttrain-auc:0.999998\ttrain-rmse:0.047178\n",
      "Working: 11\n",
      "[0]\ttrain-auc:0.5+0\ttest-auc:0.5+0\n",
      "[30]\ttrain-auc:1+4.71405e-07\ttest-auc:0.956974+0.00910989\n",
      "[0]\ttrain-auc:0.5\ttrain-rmse:0.356043\n",
      "[1]\ttrain-auc:0.848762\ttrain-rmse:0.259549\n",
      "[2]\ttrain-auc:0.876558\ttrain-rmse:0.19195\n",
      "[3]\ttrain-auc:0.882992\ttrain-rmse:0.143688\n",
      "[4]\ttrain-auc:0.897978\ttrain-rmse:0.109343\n",
      "[5]\ttrain-auc:0.91492\ttrain-rmse:0.08491\n",
      "[6]\ttrain-auc:0.917248\ttrain-rmse:0.067997\n",
      "[7]\ttrain-auc:0.918623\ttrain-rmse:0.05603\n",
      "[8]\ttrain-auc:0.918794\ttrain-rmse:0.047934\n",
      "[9]\ttrain-auc:0.920724\ttrain-rmse:0.042604\n",
      "[10]\ttrain-auc:0.943358\ttrain-rmse:0.038907\n",
      "[11]\ttrain-auc:0.946475\ttrain-rmse:0.036113\n",
      "[12]\ttrain-auc:0.983852\ttrain-rmse:0.033995\n",
      "[13]\ttrain-auc:0.990247\ttrain-rmse:0.033028\n",
      "[14]\ttrain-auc:0.996617\ttrain-rmse:0.03234\n",
      "[15]\ttrain-auc:0.998009\ttrain-rmse:0.031467\n",
      "[16]\ttrain-auc:0.998862\ttrain-rmse:0.030203\n",
      "[17]\ttrain-auc:0.999143\ttrain-rmse:0.029357\n",
      "[18]\ttrain-auc:0.999494\ttrain-rmse:0.028191\n",
      "[19]\ttrain-auc:0.999708\ttrain-rmse:0.027076\n",
      "[20]\ttrain-auc:0.99979\ttrain-rmse:0.026088\n",
      "[21]\ttrain-auc:0.999818\ttrain-rmse:0.025583\n",
      "[22]\ttrain-auc:0.99984\ttrain-rmse:0.024678\n",
      "[23]\ttrain-auc:0.999909\ttrain-rmse:0.024147\n",
      "[24]\ttrain-auc:0.999923\ttrain-rmse:0.0234\n",
      "[25]\ttrain-auc:0.999962\ttrain-rmse:0.021876\n",
      "[26]\ttrain-auc:0.999976\ttrain-rmse:0.021515\n",
      "[27]\ttrain-auc:0.999977\ttrain-rmse:0.020989\n",
      "Working: 12\n",
      "[0]\ttrain-auc:0.788276+0.00630071\ttest-auc:0.753746+0.00611986\n",
      "[30]\ttrain-auc:0.993351+0.00090165\ttest-auc:0.860644+0.00216045\n",
      "[0]\ttrain-auc:0.817407\ttrain-rmse:0.366803\n",
      "[1]\ttrain-auc:0.83756\ttrain-rmse:0.280453\n",
      "[2]\ttrain-auc:0.847678\ttrain-rmse:0.223005\n",
      "[3]\ttrain-auc:0.861032\ttrain-rmse:0.18539\n",
      "[4]\ttrain-auc:0.865655\ttrain-rmse:0.16146\n",
      "[5]\ttrain-auc:0.892372\ttrain-rmse:0.146406\n",
      "[6]\ttrain-auc:0.901199\ttrain-rmse:0.137299\n",
      "[7]\ttrain-auc:0.910414\ttrain-rmse:0.131549\n",
      "[8]\ttrain-auc:0.918936\ttrain-rmse:0.127573\n",
      "[9]\ttrain-auc:0.927709\ttrain-rmse:0.124857\n",
      "[10]\ttrain-auc:0.936672\ttrain-rmse:0.122983\n",
      "[11]\ttrain-auc:0.939984\ttrain-rmse:0.121678\n",
      "[12]\ttrain-auc:0.944039\ttrain-rmse:0.120239\n",
      "[13]\ttrain-auc:0.947009\ttrain-rmse:0.119508\n",
      "[14]\ttrain-auc:0.951548\ttrain-rmse:0.118114\n",
      "[15]\ttrain-auc:0.955186\ttrain-rmse:0.117207\n",
      "[16]\ttrain-auc:0.958973\ttrain-rmse:0.11639\n",
      "[17]\ttrain-auc:0.960976\ttrain-rmse:0.115749\n",
      "[18]\ttrain-auc:0.962972\ttrain-rmse:0.115435\n",
      "[19]\ttrain-auc:0.966706\ttrain-rmse:0.114104\n",
      "[20]\ttrain-auc:0.971189\ttrain-rmse:0.112985\n",
      "[21]\ttrain-auc:0.973737\ttrain-rmse:0.112366\n",
      "[22]\ttrain-auc:0.974747\ttrain-rmse:0.11149\n",
      "[23]\ttrain-auc:0.975552\ttrain-rmse:0.111045\n",
      "[24]\ttrain-auc:0.976528\ttrain-rmse:0.110518\n",
      "[25]\ttrain-auc:0.978316\ttrain-rmse:0.109278\n",
      "[26]\ttrain-auc:0.979452\ttrain-rmse:0.108576\n",
      "[27]\ttrain-auc:0.981775\ttrain-rmse:0.10752\n",
      "[28]\ttrain-auc:0.982432\ttrain-rmse:0.10703\n",
      "[29]\ttrain-auc:0.98417\ttrain-rmse:0.10592\n",
      "[30]\ttrain-auc:0.984829\ttrain-rmse:0.105013\n",
      "[31]\ttrain-auc:0.986232\ttrain-rmse:0.103797\n",
      "[32]\ttrain-auc:0.987066\ttrain-rmse:0.102963\n",
      "[33]\ttrain-auc:0.987503\ttrain-rmse:0.102653\n",
      "[34]\ttrain-auc:0.987664\ttrain-rmse:0.102363\n",
      "[35]\ttrain-auc:0.988376\ttrain-rmse:0.1013\n",
      "[36]\ttrain-auc:0.989167\ttrain-rmse:0.100776\n",
      "[37]\ttrain-auc:0.990446\ttrain-rmse:0.099799\n",
      "[38]\ttrain-auc:0.990727\ttrain-rmse:0.099353\n",
      "[39]\ttrain-auc:0.991039\ttrain-rmse:0.098638\n",
      "[40]\ttrain-auc:0.991528\ttrain-rmse:0.097956\n",
      "Working: 13\n",
      "[0]\ttrain-auc:0.886224+0.015581\ttest-auc:0.864432+0.046016\n",
      "[30]\ttrain-auc:0.99997+1.97709e-05\ttest-auc:0.981134+0.00484253\n",
      "[60]\ttrain-auc:1+0\ttest-auc:0.983705+0.00307063\n",
      "[0]\ttrain-auc:0.872524\ttrain-rmse:0.35733\n",
      "[1]\ttrain-auc:0.944772\ttrain-rmse:0.26186\n",
      "[2]\ttrain-auc:0.949181\ttrain-rmse:0.195058\n",
      "[3]\ttrain-auc:0.962792\ttrain-rmse:0.147772\n",
      "[4]\ttrain-auc:0.963885\ttrain-rmse:0.114176\n",
      "[5]\ttrain-auc:0.98556\ttrain-rmse:0.090282\n",
      "[6]\ttrain-auc:0.988755\ttrain-rmse:0.074416\n",
      "[7]\ttrain-auc:0.989051\ttrain-rmse:0.063703\n",
      "[8]\ttrain-auc:0.991711\ttrain-rmse:0.056561\n",
      "[9]\ttrain-auc:0.993685\ttrain-rmse:0.051358\n",
      "[10]\ttrain-auc:0.993845\ttrain-rmse:0.048267\n",
      "[11]\ttrain-auc:0.994305\ttrain-rmse:0.046159\n",
      "[12]\ttrain-auc:0.994797\ttrain-rmse:0.043426\n",
      "[13]\ttrain-auc:0.994976\ttrain-rmse:0.041527\n",
      "[14]\ttrain-auc:0.99518\ttrain-rmse:0.039693\n",
      "[15]\ttrain-auc:0.997075\ttrain-rmse:0.038541\n",
      "[16]\ttrain-auc:0.997224\ttrain-rmse:0.036725\n",
      "[17]\ttrain-auc:0.997399\ttrain-rmse:0.035303\n",
      "[18]\ttrain-auc:0.997467\ttrain-rmse:0.034409\n",
      "[19]\ttrain-auc:0.998884\ttrain-rmse:0.032789\n",
      "[20]\ttrain-auc:0.999187\ttrain-rmse:0.031767\n",
      "[21]\ttrain-auc:0.99934\ttrain-rmse:0.031007\n",
      "[22]\ttrain-auc:0.999414\ttrain-rmse:0.029686\n",
      "[23]\ttrain-auc:0.99955\ttrain-rmse:0.029177\n",
      "[24]\ttrain-auc:0.999639\ttrain-rmse:0.028385\n",
      "[25]\ttrain-auc:0.999689\ttrain-rmse:0.027392\n",
      "[26]\ttrain-auc:0.999718\ttrain-rmse:0.026531\n",
      "[27]\ttrain-auc:0.999779\ttrain-rmse:0.026182\n",
      "[28]\ttrain-auc:0.99984\ttrain-rmse:0.025206\n",
      "[29]\ttrain-auc:0.999866\ttrain-rmse:0.02474\n",
      "[30]\ttrain-auc:0.999917\ttrain-rmse:0.023287\n",
      "[31]\ttrain-auc:0.999927\ttrain-rmse:0.022721\n",
      "[32]\ttrain-auc:0.999948\ttrain-rmse:0.021927\n",
      "[33]\ttrain-auc:0.999965\ttrain-rmse:0.020615\n",
      "[34]\ttrain-auc:0.999972\ttrain-rmse:0.020319\n",
      "[35]\ttrain-auc:0.999978\ttrain-rmse:0.019819\n",
      "[36]\ttrain-auc:0.999982\ttrain-rmse:0.018753\n",
      "[37]\ttrain-auc:0.999987\ttrain-rmse:0.018012\n",
      "[38]\ttrain-auc:0.99999\ttrain-rmse:0.017035\n",
      "[39]\ttrain-auc:0.999994\ttrain-rmse:0.016037\n",
      "[40]\ttrain-auc:0.999997\ttrain-rmse:0.015026\n",
      "[41]\ttrain-auc:0.999998\ttrain-rmse:0.014456\n",
      "[42]\ttrain-auc:0.999999\ttrain-rmse:0.013987\n",
      "[43]\ttrain-auc:0.999999\ttrain-rmse:0.013685\n",
      "[44]\ttrain-auc:0.999999\ttrain-rmse:0.013425\n",
      "[45]\ttrain-auc:0.999999\ttrain-rmse:0.01304\n",
      "[46]\ttrain-auc:1\ttrain-rmse:0.012639\n",
      "[47]\ttrain-auc:1\ttrain-rmse:0.011885\n",
      "[48]\ttrain-auc:1\ttrain-rmse:0.011386\n",
      "[49]\ttrain-auc:1\ttrain-rmse:0.010872\n",
      "[50]\ttrain-auc:1\ttrain-rmse:0.010455\n",
      "[51]\ttrain-auc:1\ttrain-rmse:0.009965\n",
      "[52]\ttrain-auc:1\ttrain-rmse:0.009678\n",
      "[53]\ttrain-auc:1\ttrain-rmse:0.009315\n",
      "[54]\ttrain-auc:1\ttrain-rmse:0.009208\n",
      "[55]\ttrain-auc:1\ttrain-rmse:0.008876\n",
      "[56]\ttrain-auc:1\ttrain-rmse:0.008535\n",
      "Working: 14\n",
      "[0]\ttrain-auc:0.548152+0.00598848\ttest-auc:0.524093+0.0102323\n",
      "[30]\ttrain-auc:0.997036+0.00119587\ttest-auc:0.882406+0.0169819\n",
      "[0]\ttrain-auc:0.827115\ttrain-rmse:0.359538\n",
      "[1]\ttrain-auc:0.843144\ttrain-rmse:0.266689\n",
      "[2]\ttrain-auc:0.858223\ttrain-rmse:0.202967\n",
      "[3]\ttrain-auc:0.864887\ttrain-rmse:0.159469\n",
      "[4]\ttrain-auc:0.872591\ttrain-rmse:0.130273\n",
      "[5]\ttrain-auc:0.878705\ttrain-rmse:0.110983\n",
      "[6]\ttrain-auc:0.890358\ttrain-rmse:0.098932\n",
      "[7]\ttrain-auc:0.910848\ttrain-rmse:0.091318\n",
      "[8]\ttrain-auc:0.917802\ttrain-rmse:0.086785\n",
      "[9]\ttrain-auc:0.929342\ttrain-rmse:0.083958\n",
      "[10]\ttrain-auc:0.935496\ttrain-rmse:0.082334\n",
      "[11]\ttrain-auc:0.944857\ttrain-rmse:0.081291\n",
      "[12]\ttrain-auc:0.94679\ttrain-rmse:0.080592\n",
      "[13]\ttrain-auc:0.950012\ttrain-rmse:0.079718\n",
      "[14]\ttrain-auc:0.958081\ttrain-rmse:0.079295\n",
      "[15]\ttrain-auc:0.961557\ttrain-rmse:0.078781\n",
      "[16]\ttrain-auc:0.964459\ttrain-rmse:0.0786\n",
      "[17]\ttrain-auc:0.967787\ttrain-rmse:0.078448\n",
      "[18]\ttrain-auc:0.970755\ttrain-rmse:0.077899\n",
      "[19]\ttrain-auc:0.973456\ttrain-rmse:0.077513\n",
      "[20]\ttrain-auc:0.974267\ttrain-rmse:0.076998\n",
      "[21]\ttrain-auc:0.979869\ttrain-rmse:0.076009\n",
      "[22]\ttrain-auc:0.980319\ttrain-rmse:0.075879\n",
      "[23]\ttrain-auc:0.981007\ttrain-rmse:0.075652\n",
      "[24]\ttrain-auc:0.982603\ttrain-rmse:0.075363\n",
      "[25]\ttrain-auc:0.984624\ttrain-rmse:0.074056\n",
      "[26]\ttrain-auc:0.98571\ttrain-rmse:0.07349\n",
      "[27]\ttrain-auc:0.987998\ttrain-rmse:0.071914\n",
      "[28]\ttrain-auc:0.989216\ttrain-rmse:0.071004\n",
      "Working: 15\n",
      "[0]\ttrain-auc:0.501425+0.00100751\ttest-auc:0.499875+0.000127018\n",
      "[30]\ttrain-auc:0.996737+0.00100893\ttest-auc:0.868974+0.0120185\n",
      "[0]\ttrain-auc:0.772611\ttrain-rmse:0.359921\n",
      "[1]\ttrain-auc:0.860428\ttrain-rmse:0.2674\n",
      "[2]\ttrain-auc:0.877301\ttrain-rmse:0.204198\n",
      "[3]\ttrain-auc:0.894608\ttrain-rmse:0.161033\n",
      "[4]\ttrain-auc:0.898123\ttrain-rmse:0.132206\n",
      "[5]\ttrain-auc:0.906082\ttrain-rmse:0.113663\n",
      "[6]\ttrain-auc:0.911825\ttrain-rmse:0.10204\n",
      "[7]\ttrain-auc:0.918733\ttrain-rmse:0.095129\n",
      "[8]\ttrain-auc:0.922412\ttrain-rmse:0.090998\n",
      "[9]\ttrain-auc:0.929625\ttrain-rmse:0.087996\n",
      "[10]\ttrain-auc:0.946749\ttrain-rmse:0.086121\n",
      "[11]\ttrain-auc:0.949745\ttrain-rmse:0.085122\n",
      "[12]\ttrain-auc:0.959635\ttrain-rmse:0.084387\n",
      "[13]\ttrain-auc:0.963333\ttrain-rmse:0.083824\n",
      "[14]\ttrain-auc:0.965035\ttrain-rmse:0.083045\n",
      "[15]\ttrain-auc:0.968163\ttrain-rmse:0.082495\n",
      "[16]\ttrain-auc:0.972398\ttrain-rmse:0.081826\n",
      "[17]\ttrain-auc:0.974312\ttrain-rmse:0.081535\n",
      "[18]\ttrain-auc:0.97519\ttrain-rmse:0.081197\n",
      "[19]\ttrain-auc:0.976697\ttrain-rmse:0.080602\n",
      "[20]\ttrain-auc:0.978035\ttrain-rmse:0.080324\n",
      "[21]\ttrain-auc:0.97955\ttrain-rmse:0.07985\n",
      "[22]\ttrain-auc:0.981345\ttrain-rmse:0.078771\n",
      "[23]\ttrain-auc:0.983416\ttrain-rmse:0.078121\n",
      "[24]\ttrain-auc:0.984299\ttrain-rmse:0.077176\n",
      "[25]\ttrain-auc:0.986444\ttrain-rmse:0.075112\n",
      "[26]\ttrain-auc:0.987557\ttrain-rmse:0.074326\n",
      "[27]\ttrain-auc:0.989243\ttrain-rmse:0.072744\n",
      "[28]\ttrain-auc:0.991069\ttrain-rmse:0.070586\n",
      "[29]\ttrain-auc:0.992455\ttrain-rmse:0.068996\n",
      "[30]\ttrain-auc:0.99323\ttrain-rmse:0.068032\n",
      "[31]\ttrain-auc:0.994144\ttrain-rmse:0.067378\n",
      "[32]\ttrain-auc:0.995183\ttrain-rmse:0.066277\n",
      "[33]\ttrain-auc:0.995719\ttrain-rmse:0.065723\n",
      "[34]\ttrain-auc:0.995996\ttrain-rmse:0.064992\n",
      "[35]\ttrain-auc:0.996398\ttrain-rmse:0.064203\n",
      "[36]\ttrain-auc:0.996682\ttrain-rmse:0.063804\n",
      "[37]\ttrain-auc:0.996823\ttrain-rmse:0.063123\n",
      "[38]\ttrain-auc:0.99707\ttrain-rmse:0.062158\n",
      "[39]\ttrain-auc:0.997757\ttrain-rmse:0.060294\n",
      "Working: 16\n",
      "[0]\ttrain-auc:0.5+0\ttest-auc:0.5+0\n",
      "[30]\ttrain-auc:0.999828+0.000186352\ttest-auc:0.821572+0.0344585\n",
      "[0]\ttrain-auc:0.5\ttrain-rmse:0.356009\n",
      "[1]\ttrain-auc:0.5\ttrain-rmse:0.259781\n",
      "[2]\ttrain-auc:0.5\ttrain-rmse:0.192554\n",
      "[3]\ttrain-auc:0.5\ttrain-rmse:0.145101\n",
      "[4]\ttrain-auc:0.716447\ttrain-rmse:0.111442\n",
      "[5]\ttrain-auc:0.719987\ttrain-rmse:0.088053\n",
      "[6]\ttrain-auc:0.723061\ttrain-rmse:0.072035\n",
      "[7]\ttrain-auc:0.73042\ttrain-rmse:0.061396\n",
      "[8]\ttrain-auc:0.849333\ttrain-rmse:0.054254\n",
      "[9]\ttrain-auc:0.921165\ttrain-rmse:0.049662\n",
      "[10]\ttrain-auc:0.941623\ttrain-rmse:0.046484\n",
      "[11]\ttrain-auc:0.951027\ttrain-rmse:0.045228\n",
      "[12]\ttrain-auc:0.96815\ttrain-rmse:0.043331\n",
      "[13]\ttrain-auc:0.976399\ttrain-rmse:0.042105\n",
      "[14]\ttrain-auc:0.982468\ttrain-rmse:0.040791\n",
      "[15]\ttrain-auc:0.984979\ttrain-rmse:0.04006\n",
      "[16]\ttrain-auc:0.983923\ttrain-rmse:0.039365\n",
      "[17]\ttrain-auc:0.986615\ttrain-rmse:0.0387\n",
      "[18]\ttrain-auc:0.990502\ttrain-rmse:0.037623\n",
      "[19]\ttrain-auc:0.991177\ttrain-rmse:0.037403\n",
      "[20]\ttrain-auc:0.993372\ttrain-rmse:0.036699\n",
      "[21]\ttrain-auc:0.9966\ttrain-rmse:0.036074\n",
      "[22]\ttrain-auc:0.997278\ttrain-rmse:0.035186\n",
      "[23]\ttrain-auc:0.997744\ttrain-rmse:0.034795\n",
      "[24]\ttrain-auc:0.998066\ttrain-rmse:0.034078\n",
      "[25]\ttrain-auc:0.998164\ttrain-rmse:0.033389\n",
      "[26]\ttrain-auc:0.998266\ttrain-rmse:0.032729\n",
      "[27]\ttrain-auc:0.998884\ttrain-rmse:0.031602\n",
      "[28]\ttrain-auc:0.999055\ttrain-rmse:0.030987\n",
      "[29]\ttrain-auc:0.999369\ttrain-rmse:0.030606\n",
      "[30]\ttrain-auc:0.999587\ttrain-rmse:0.029727\n",
      "[31]\ttrain-auc:0.999782\ttrain-rmse:0.028743\n",
      "[32]\ttrain-auc:0.999793\ttrain-rmse:0.027861\n",
      "[33]\ttrain-auc:0.99988\ttrain-rmse:0.02741\n",
      "[34]\ttrain-auc:0.999883\ttrain-rmse:0.026711\n",
      "[35]\ttrain-auc:0.999943\ttrain-rmse:0.025976\n",
      "[36]\ttrain-auc:0.999944\ttrain-rmse:0.025546\n"
     ]
    }
   ],
   "source": [
    "param = {\n",
    "         'objective':'reg:logistic', \n",
    "         #'num_class':17,\n",
    "         #'eta':0.05, \n",
    "         #'max_depth':9, 'subsample':0.8, 'colsample_bytree':0.8, \n",
    "         #'metrics':'rmse'\n",
    "         'eval_metric':['auc','rmse']\n",
    "        }\n",
    "param['silent']=True\n",
    "\n",
    "results, bstList = [], []\n",
    "for i in range(trY.shape[1]) :\n",
    "    print ('Working: {}'.format(i))\n",
    "    dtrain.set_label(trY[:,i])\n",
    "    history = xgb.cv(param, dtrain, metrics=['auc'], verbose_eval=30, num_boost_round=1000, nfold=3, early_stopping_rounds=20) #,stratified=True,maximize=True)\n",
    "    results.append(history)\n",
    "    rvalidCV = {}\n",
    "    watchlistCV  = [(dtrain,'train')]\n",
    "    bst = xgb.train(param, dtrain, history['test-auc-mean'].argmax()+1, watchlistCV) \n",
    "    bstList.append(bst)\n",
    "    "
   ]
  },
  {
   "cell_type": "code",
   "execution_count": null,
   "metadata": {
    "collapsed": false,
    "deletable": true,
    "editable": true
   },
   "outputs": [],
   "source": []
  },
  {
   "cell_type": "code",
   "execution_count": 479,
   "metadata": {
    "collapsed": true,
    "deletable": true,
    "editable": true
   },
   "outputs": [],
   "source": [
    "# save xgb models into files\n",
    "for i in range(len(bstList)) :\n",
    "    bstList[i].save_model('../Work/Models/model-'+str(100+i)+'-'+str(binsData)+ttExt+'.xgb')"
   ]
  },
  {
   "cell_type": "code",
   "execution_count": null,
   "metadata": {
    "collapsed": true,
    "deletable": true,
    "editable": true
   },
   "outputs": [],
   "source": []
  },
  {
   "cell_type": "code",
   "execution_count": 480,
   "metadata": {
    "collapsed": false,
    "deletable": true,
    "editable": true
   },
   "outputs": [
    {
     "data": {
      "text/plain": [
       "17"
      ]
     },
     "execution_count": 480,
     "metadata": {},
     "output_type": "execute_result"
    }
   ],
   "source": [
    "# load xgb models into files\n",
    "bstNull = xgb.train(param,dtrain,0)\n",
    "bstList0= []\n",
    "for i in range(trY.shape[1]) :\n",
    "    bstList0.append(bstNull.copy())\n",
    "    bstList0[-1].load_model('../Work/Models/model-'+str(100+i)+'-'+str(binsData)+ttExt+'.xgb')\n",
    "bstList = bstList0\n",
    "del bstList0\n",
    "len(bstList)"
   ]
  },
  {
   "cell_type": "code",
   "execution_count": null,
   "metadata": {
    "collapsed": false,
    "deletable": true,
    "editable": true
   },
   "outputs": [],
   "source": []
  },
  {
   "cell_type": "code",
   "execution_count": 481,
   "metadata": {
    "collapsed": false,
    "deletable": true,
    "editable": true
   },
   "outputs": [],
   "source": [
    "#[(x['test-rmse-mean'].min(),x['test-rmse-mean'].argmin()) for x in results]"
   ]
  },
  {
   "cell_type": "code",
   "execution_count": 482,
   "metadata": {
    "collapsed": false,
    "deletable": true,
    "editable": true
   },
   "outputs": [],
   "source": [
    "#[(x['test-rmse-mean'].min(),x['test-rmse-mean'].argmin()) for x in results]"
   ]
  },
  {
   "cell_type": "code",
   "execution_count": 483,
   "metadata": {
    "collapsed": false,
    "deletable": true,
    "editable": true
   },
   "outputs": [],
   "source": [
    "#[(x['test-auc-mean'].max(),x['test-auc-mean'].argmax()) for x in results] # 50"
   ]
  },
  {
   "cell_type": "code",
   "execution_count": 484,
   "metadata": {
    "collapsed": false,
    "deletable": true,
    "editable": true
   },
   "outputs": [],
   "source": [
    "#[(x['test-auc-mean'].max(),x['test-auc-mean'].argmax()) for x in results] # 75"
   ]
  },
  {
   "cell_type": "code",
   "execution_count": 485,
   "metadata": {
    "collapsed": false,
    "deletable": true,
    "editable": true
   },
   "outputs": [],
   "source": [
    "#[(x['test-auc-mean'].max(),x['test-auc-mean'].argmax()) for x in results] # 255"
   ]
  },
  {
   "cell_type": "code",
   "execution_count": 486,
   "metadata": {
    "collapsed": false,
    "deletable": true,
    "editable": true
   },
   "outputs": [],
   "source": [
    "#[(x['test-auc-mean'].max(),x['test-auc-mean'].argmax()) for x in results] # 64"
   ]
  },
  {
   "cell_type": "code",
   "execution_count": null,
   "metadata": {
    "collapsed": true,
    "deletable": true,
    "editable": true
   },
   "outputs": [],
   "source": []
  },
  {
   "cell_type": "code",
   "execution_count": 487,
   "metadata": {
    "collapsed": false,
    "deletable": true,
    "editable": true
   },
   "outputs": [
    {
     "data": {
      "text/plain": [
       "(numpy.ndarray, (40479, 17))"
      ]
     },
     "execution_count": 487,
     "metadata": {},
     "output_type": "execute_result"
    }
   ],
   "source": [
    "trYP = []\n",
    "for bstI in bstList :\n",
    "    trYP1 = bstI.predict(dtrain);\n",
    "    trYP.append(trYP1)\n",
    "trYP = np.array(trYP).T\n",
    "type(trYP),trYP.shape"
   ]
  },
  {
   "cell_type": "code",
   "execution_count": 488,
   "metadata": {
    "collapsed": true,
    "deletable": true,
    "editable": true
   },
   "outputs": [],
   "source": [
    "trYPP= trYP.copy() # вероятностный массив\n",
    "trYP[trYP<0.5] = 0\n",
    "trYP[trYP!=0]  = 1"
   ]
  },
  {
   "cell_type": "code",
   "execution_count": 489,
   "metadata": {
    "collapsed": true
   },
   "outputs": [],
   "source": [
    "#accListOld = accList"
   ]
  },
  {
   "cell_type": "code",
   "execution_count": 490,
   "metadata": {
    "collapsed": false,
    "deletable": true,
    "editable": true
   },
   "outputs": [
    {
     "name": "stdout",
     "output_type": "stream",
     "text": [
      "#0 accuracy=0.96694582376 precision=0.81560613098 recall=0.651093807935 ros_auc=0.820293079395 fbeta2=0.678463797234 not=1338\n",
      "#1 accuracy=0.988389041231 precision=0.990700755067 recall=0.996827766374 ros_auc=0.939243283052 fbeta2=0.99559630878 not=470\n",
      "#2 accuracy=0.943081597866 precision=0.921942173143 recall=0.888103938287 ros_auc=0.927612542925 fbeta2=0.894671400291 not=2304\n",
      "#3 accuracy=0.986388003656 precision=0.987071977638 recall=0.993633709683 ros_auc=0.981461609158 fbeta2=0.992314393301 not=551\n",
      "#4 accuracy=0.936534993453 precision=0.976762504923 recall=0.66927540143 ros_auc=0.832853498465 fbeta2=0.714244571165 not=2569\n",
      "#5 accuracy=0.971936065614 precision=0.943117977528 recall=0.733879781421 ros_auc=0.864739939598 fbeta2=0.767955169259 not=1136\n",
      "#6 accuracy=0.923145334618 precision=0.861832506566 recall=0.731879568827 ros_auc=0.851329194436 fbeta2=0.754637436762 not=3111\n",
      "#7 accuracy=0.933521085007 precision=0.894434628975 recall=0.452311815948 ros_auc=0.722836647933 fbeta2=0.501933372992 not=2691\n",
      "#8 accuracy=0.995849699844 precision=1.0 recall=0.196172248804 ros_auc=0.598086124402 fbeta2=0.233751425314 not=168\n",
      "#9 accuracy=0.996467304034 precision=0.971414728682 recall=0.959789372906 ros_auc=0.979126257174 fbeta2=0.962092130518 not=143\n",
      "#10 accuracy=0.999555324983 precision=0.999586149814 recall=0.997934168847 ros_auc=0.998921928183 fbeta2=0.998264128069 not=18\n",
      "#11 accuracy=0.999407099978 precision=1.0 recall=0.76 ros_auc=0.88 fbeta2=0.798319327731 not=24\n",
      "#12 accuracy=0.98685738284 precision=0.991071428571 recall=0.386310904872 ros_auc=0.693117589902 fbeta2=0.440010570825 not=532\n",
      "#13 accuracy=1.0 precision=1.0 recall=1.0 ros_auc=1.0 fbeta2=1.0 not=0\n",
      "#14 accuracy=0.993354578917 precision=1.0 recall=0.189759036145 ros_auc=0.594879518072 fbeta2=0.226455787203 not=269\n",
      "#15 accuracy=0.994392153956 precision=1.0 recall=0.332352941176 ros_auc=0.666176470588 fbeta2=0.383570943652 not=227\n",
      "#16 accuracy=0.998987129129 precision=1.0 recall=0.581632653061 ros_auc=0.790816326531 fbeta2=0.634743875278 not=41\n"
     ]
    }
   ],
   "source": [
    "accList = []\n",
    "for i in range(trYP.shape[1]) :\n",
    "    print ('#{} accuracy={} precision={} recall={} ros_auc={} fbeta2={} not={}'.format(i, \n",
    "                                           skm.accuracy_score(trY[:,i],trYP[:,i]), \n",
    "                                           skm.precision_score(trY[:,i],trYP[:,i]), \n",
    "                                           skm.recall_score(trY[:,i],trYP[:,i]), \n",
    "                                           skm.roc_auc_score(trY[:,i],trYP[:,i]), \n",
    "                                           skm.fbeta_score(trY[:,i],trYP[:,i],beta=2),\n",
    "                                           len(trYP[trYP[:,i]<>trY[:,i],i])))\n",
    "    accList.append((i, skm.roc_auc_score(trY[:,i],trYP[:,i]), skm.confusion_matrix(trY[:,i],trYP[:,i])))\n",
    "    #fpr,tpr,thr = skm.roc_curve(trY[:,i],trYP[:,i]); print (len(thr),len(fpr),len(trYP[:,i]))\n",
    "    #plt.plot(fpr,tpr); plt.show()"
   ]
  },
  {
   "cell_type": "code",
   "execution_count": 491,
   "metadata": {
    "collapsed": false
   },
   "outputs": [
    {
     "data": {
      "text/plain": [
       "[(0, 71),\n",
       " (1, -221),\n",
       " (2, -435),\n",
       " (3, -789),\n",
       " (4, -513),\n",
       " (5, -133),\n",
       " (6, 18),\n",
       " (7, -53),\n",
       " (8, 0),\n",
       " (9, -51),\n",
       " (10, -497),\n",
       " (11, 0),\n",
       " (12, -5),\n",
       " (13, 0),\n",
       " (14, 0),\n",
       " (15, 0),\n",
       " (16, 0)]"
      ]
     },
     "execution_count": 491,
     "metadata": {},
     "output_type": "execute_result"
    }
   ],
   "source": [
    "[(i,cm[0,1]+cm[1,0]-(accList[i][2][1,0]+accListOld[i][2][0,1])) for i,roc,cm in accList]"
   ]
  },
  {
   "cell_type": "code",
   "execution_count": 492,
   "metadata": {
    "collapsed": false,
    "deletable": true,
    "editable": true
   },
   "outputs": [
    {
     "name": "stdout",
     "output_type": "stream",
     "text": [
      "['haze', 'primary', 'agriculture', 'clear', 'water', 'habitation', 'road', 'cultivation', 'slash_burn', 'cloudy', 'partly_cloudy', 'conventional_mine', 'bare_ground', 'artisinal_mine', 'blooming', 'selective_logging', 'blow_down']\n"
     ]
    },
    {
     "data": {
      "text/plain": [
       "((848, 17), [3, 10, 0, 9], 0.9419710101982863, 0.9577993431612218)"
      ]
     },
     "execution_count": 492,
     "metadata": {},
     "output_type": "execute_result"
    }
   ],
   "source": [
    "wr = [labels.index(i) for i in weather_labels]; wr\n",
    "print(labels)\n",
    "trYPP[trYPP[:,wr].argmax(axis=1)<>trY[:,wr].argmax(axis=1)].shape, wr, (40497.0-2350)/40497.0, (40497.0-1709)/40497.0"
   ]
  },
  {
   "cell_type": "code",
   "execution_count": 493,
   "metadata": {
    "collapsed": false,
    "deletable": true,
    "editable": true
   },
   "outputs": [
    {
     "name": "stderr",
     "output_type": "stream",
     "text": [
      "/home/boba/anaconda2/envs/tensorflow-gpu/lib/python2.7/site-packages/ipykernel/__main__.py:1: VisibleDeprecationWarning: boolean index did not match indexed array along dimension 0; dimension is 40479 but corresponding boolean dimension is 17\n",
      "  if __name__ == '__main__':\n"
     ]
    },
    {
     "data": {
      "text/plain": [
       "(3, 17)"
      ]
     },
     "execution_count": 493,
     "metadata": {},
     "output_type": "execute_result"
    }
   ],
   "source": [
    "trY[trYP[10]==1].shape"
   ]
  },
  {
   "cell_type": "code",
   "execution_count": 494,
   "metadata": {
    "collapsed": false,
    "deletable": true,
    "editable": true
   },
   "outputs": [],
   "source": [
    "# Построение важности полей для разных признаков (importance)\n",
    "bstga   = np.zeros((trX.shape[1],trY.shape[1]))\n",
    "for i in range(len(bstList)) :\n",
    "    bstgfs = bstList[i].get_fscore()\n",
    "    bstgfs = [(int(n.split('f')[1]),bstgfs[n]) for n in bstgfs.keys()]\n",
    "    bstga1 = np.array(bstgfs)\n",
    "    bstga[bstga1[:,0],i] = bstga1[:,1]\n",
    "\n",
    "\n",
    "if False :\n",
    "    #bstgfs.sort(key=lambda x: -x[1])\n",
    "    #bstgfs[:20]\n",
    "    plt.hist([nn for n,nn in bstgfs],bins=11); plt.show()\n",
    "    bst_gfs_main = [(n,nn) for n,nn in bstgfs if nn>=20]\n",
    "    bst_gfs_main.sort(key=lambda x: x[0])\n",
    "    bst_gfs_main\n",
    "    bstga[:,6]"
   ]
  },
  {
   "cell_type": "code",
   "execution_count": 495,
   "metadata": {
    "collapsed": false,
    "deletable": true,
    "editable": true
   },
   "outputs": [
    {
     "data": {
      "image/png": "[encoded data removed]",
      "text/plain": [
       "<matplotlib.figure.Figure at 0x7fcca473bbd0>"
      ]
     },
     "metadata": {},
     "output_type": "display_data"
    },
    {
     "data": {
      "text/plain": [
       "['haze',\n",
       " 'agriculture',\n",
       " 'clear',\n",
       " 'water',\n",
       " 'habitation',\n",
       " 'road',\n",
       " 'cultivation',\n",
       " 'bare_ground']"
      ]
     },
     "execution_count": 495,
     "metadata": {},
     "output_type": "execute_result"
    }
   ],
   "source": [
    "xx = [0]+range(2,8)+[12] # плохие 600-4000\n",
    "plt.plot(bstga[:,xx]); \n",
    "#plt.legenda([labels[x] for x in xx])\n",
    "plt.show();\n",
    "[labels[x] for x in xx]\n"
   ]
  },
  {
   "cell_type": "code",
   "execution_count": 496,
   "metadata": {
    "collapsed": false,
    "deletable": true,
    "editable": true
   },
   "outputs": [
    {
     "data": {
      "image/png": "[encoded data removed]",
      "text/plain": [
       "<matplotlib.figure.Figure at 0x7fcca43e4f10>"
      ]
     },
     "metadata": {},
     "output_type": "display_data"
    },
    {
     "data": {
      "text/plain": [
       "['slash_burn', 'partly_cloudy', 'blooming', 'selective_logging']"
      ]
     },
     "execution_count": 496,
     "metadata": {},
     "output_type": "execute_result"
    }
   ],
   "source": [
    "xx = [8,10,14,15] # среднии 100-400\n",
    "plt.plot(bstga[:,xx]); \n",
    "#plt.legenda([labels[x] for x in xx])\n",
    "plt.show();\n",
    "[labels[x] for x in xx]\n"
   ]
  },
  {
   "cell_type": "code",
   "execution_count": 497,
   "metadata": {
    "collapsed": false,
    "deletable": true,
    "editable": true
   },
   "outputs": [
    {
     "data": {
      "image/png": "[encoded data removed]",
      "text/plain": [
       "<matplotlib.figure.Figure at 0x7fcca4378a90>"
      ]
     },
     "metadata": {},
     "output_type": "display_data"
    },
    {
     "data": {
      "text/plain": [
       "['primary', 'cloudy', 'conventional_mine', 'artisinal_mine', 'blow_down']"
      ]
     },
     "execution_count": 497,
     "metadata": {},
     "output_type": "execute_result"
    }
   ],
   "source": [
    "xx = [1,9,11,13,16] # отличные 0-100\n",
    "plt.plot(bstga[:,xx]); plt.show();\n",
    "[labels[x] for x in xx]"
   ]
  },
  {
   "cell_type": "code",
   "execution_count": null,
   "metadata": {
    "collapsed": true,
    "deletable": true,
    "editable": true
   },
   "outputs": [],
   "source": []
  },
  {
   "cell_type": "code",
   "execution_count": null,
   "metadata": {
    "collapsed": false,
    "deletable": true,
    "editable": true
   },
   "outputs": [],
   "source": []
  },
  {
   "cell_type": "code",
   "execution_count": null,
   "metadata": {
    "collapsed": true,
    "deletable": true,
    "editable": true
   },
   "outputs": [],
   "source": []
  },
  {
   "cell_type": "code",
   "execution_count": 498,
   "metadata": {
    "collapsed": false,
    "deletable": true,
    "editable": true
   },
   "outputs": [],
   "source": [
    "# Попытка посчитать уровень прохождения для каждого признака"
   ]
  },
  {
   "cell_type": "code",
   "execution_count": 499,
   "metadata": {
    "collapsed": false,
    "deletable": true,
    "editable": true
   },
   "outputs": [
    {
     "data": {
      "text/plain": [
       "[42.0,\n",
       " 56.0,\n",
       " 45.0,\n",
       " 53.0,\n",
       " 35.0,\n",
       " 39.0,\n",
       " 42.0,\n",
       " 37.0,\n",
       " 13.0,\n",
       " 43.0,\n",
       " 47.0,\n",
       " 14.0,\n",
       " 22.0,\n",
       " 27.0,\n",
       " 22.0,\n",
       " 20.0,\n",
       " 14.0]"
      ]
     },
     "execution_count": 499,
     "metadata": {},
     "output_type": "execute_result"
    }
   ],
   "source": [
    "ixx,iacc = [], []\n",
    "for i in range(trY.shape[1]) :\n",
    "    max, maxxx = 0.0, 0.0\n",
    "    for xx in range(0,101) :\n",
    "        tempYP = trYPP[:,i].copy(); #print(tempYP.mean())\n",
    "        tempYP[tempYP<float(xx/100.0)] = 0\n",
    "        tempYP[tempYP>0.0]   = 1\n",
    "        temp = skm.accuracy_score(trY[:,i],tempYP)\n",
    "        #print(float(xx/10.0),temp)\n",
    "        if (temp>max) : \n",
    "            max = temp; maxxx = float(xx)\n",
    "            temp = skm.confusion_matrix(trY[:,i],tempYP);\n",
    "            minloss = temp[0][1]+temp[1][0]\n",
    "    ixx.append(maxxx)\n",
    "    tempYP = trYPP[:,i].copy(); #print(tempYP.mean())\n",
    "    tempYP[tempYP<0.5]   = 0\n",
    "    tempYP[tempYP>0.0]   = 1\n",
    "    temp = skm.accuracy_score(trY[:,i],tempYP)\n",
    "    minloss05 = skm.confusion_matrix(trY[:,i],tempYP);\n",
    "    minloss05 = minloss05[0][1]+minloss05[1][0]\n",
    "    iacc.append((maxxx,max,temp,minloss,minloss05))\n",
    "ixx\n",
    "#[ixx[xx] for xx in wr]"
   ]
  },
  {
   "cell_type": "code",
   "execution_count": 501,
   "metadata": {
    "collapsed": false,
    "deletable": true,
    "editable": true
   },
   "outputs": [
    {
     "data": {
      "text/plain": [
       "[(42.0, 0.96795869463178441, 0.96694582376046834, 1297, 1338),\n",
       " (56.0, 0.98927839126460637, 0.98838904123125571, 434, 470),\n",
       " (45.0, 0.94325452703871138, 0.9430815978655599, 2297, 2304),\n",
       " (53.0, 0.98703031201363667, 0.98638800365621682, 525, 551),\n",
       " (35.0, 0.95427258578522201, 0.93653499345339564, 1851, 2569),\n",
       " (39.0, 0.97638281578102226, 0.97193606561426915, 956, 1136),\n",
       " (42.0, 0.92480051384668593, 0.92314533461795001, 3044, 3111),\n",
       " (37.0, 0.94528026878134341, 0.93352108500704067, 2215, 2691),\n",
       " (13.0, 0.99836952493885722, 0.99584969984436378, 66, 168),\n",
       " (43.0, 0.99673904987771433, 0.99646730403419059, 132, 143),\n",
       " (47.0, 0.99960473331851085, 0.99955532498332467, 16, 18),\n",
       " (14.0, 0.99982707082684852, 0.99940709997776622, 7, 24),\n",
       " (22.0, 0.99053830381185304, 0.98685738284048519, 383, 532),\n",
       " (27.0, 1.0, 1.0, 0, 0),\n",
       " (22.0, 0.9950097581461993, 0.99335457891746337, 202, 269),\n",
       " (20.0, 0.99765310407865804, 0.99439215395637248, 95, 227),\n",
       " (14.0, 0.99990118332962774, 0.99898712912868404, 4, 41)]"
      ]
     },
     "execution_count": 501,
     "metadata": {},
     "output_type": "execute_result"
    }
   ],
   "source": [
    "iacc"
   ]
  },
  {
   "cell_type": "code",
   "execution_count": null,
   "metadata": {
    "collapsed": true,
    "deletable": true,
    "editable": true
   },
   "outputs": [],
   "source": []
  },
  {
   "cell_type": "code",
   "execution_count": null,
   "metadata": {
    "collapsed": true,
    "deletable": true,
    "editable": true
   },
   "outputs": [],
   "source": []
  },
  {
   "cell_type": "code",
   "execution_count": 502,
   "metadata": {
    "collapsed": false,
    "deletable": true,
    "editable": true
   },
   "outputs": [],
   "source": [
    "# Forming output dataset for predicting --> trOX, trOY\n",
    "del(trX)\n",
    "del(trY)"
   ]
  },
  {
   "cell_type": "code",
   "execution_count": 503,
   "metadata": {
    "collapsed": false,
    "deletable": true,
    "editable": true
   },
   "outputs": [
    {
     "name": "stdout",
     "output_type": "stream",
     "text": [
      "61191\n",
      "2017-07-02 02:35:28.821391 61191 61191\n",
      "2017-07-02 02:36:01.121810 \t 5000 \t test_14523.jpg\n",
      "2017-07-02 02:36:34.155039 \t 10000 \t test_19029.jpg\n",
      "2017-07-02 02:37:06.829278 \t 15000 \t test_23524.jpg\n",
      "2017-07-02 02:37:39.274162 \t 20000 \t test_28015.jpg\n",
      "2017-07-02 02:38:11.640910 \t 25000 \t test_32520.jpg\n",
      "2017-07-02 02:38:44.041104 \t 30000 \t test_37026.jpg\n",
      "2017-07-02 02:39:16.320961 \t 35000 \t test_4908.jpg\n",
      "2017-07-02 02:39:48.487537 \t 40000 \t test_9402.jpg\n",
      "2017-07-02 02:40:21.039358 \t 45000 \t file_13913.jpg\n",
      "2017-07-02 02:40:53.353753 \t 50000 \t file_18419.jpg\n",
      "2017-07-02 02:41:35.910466 \t 55000 \t file_4564.jpg\n",
      "2017-07-02 02:42:11.694727 \t 60000 \t file_892.jpg\n",
      "2017-07-02 02:42:19.860194\n"
     ]
    }
   ],
   "source": [
    "nameAsk = os.listdir(teDirI); print(len(nameAsk))\n",
    "trOX, trOY, i, size = [], [], 0, len(nameAsk)\n",
    "print(datetime.datetime.now(),len(nameAsk),size)\n",
    "for nn in nameAsk[0:size] :\n",
    "    nf = os.path.join(teDirI,nn);\n",
    "    nx = formImHist(nf,binsData) #,printOK=True)\n",
    "    if (nx is not None) :\n",
    "        trOX.append(nx)\n",
    "        trOY.append(nn)\n",
    "    i += 1\n",
    "    if (i%5000==0) : print(datetime.datetime.now(),\"\\t\",i,\"\\t\",nn)\n",
    "\n",
    "print(datetime.datetime.now())\n",
    "\n",
    "#assert (size!=len(trOY)), \"Wrong files {} != {}\".format(size,len(trOY))"
   ]
  },
  {
   "cell_type": "code",
   "execution_count": 504,
   "metadata": {
    "collapsed": false,
    "deletable": true,
    "editable": true
   },
   "outputs": [
    {
     "name": "stdout",
     "output_type": "stream",
     "text": [
      "61191 (61191, 255) (61191,)\n"
     ]
    }
   ],
   "source": [
    "trOX = np.array(trOX);\n",
    "trOY = np.array([os.path.splitext(x)[0] for x in trOY]);\n",
    "print(len(nameAsk),trOX.shape,trOY.shape)"
   ]
  },
  {
   "cell_type": "code",
   "execution_count": 505,
   "metadata": {
    "collapsed": false,
    "deletable": true,
    "editable": true
   },
   "outputs": [],
   "source": [
    "#trOX[20],trOY[20]"
   ]
  },
  {
   "cell_type": "code",
   "execution_count": 506,
   "metadata": {
    "collapsed": true,
    "deletable": true,
    "editable": true
   },
   "outputs": [],
   "source": [
    "# Saving & Loading"
   ]
  },
  {
   "cell_type": "code",
   "execution_count": 507,
   "metadata": {
    "collapsed": false,
    "deletable": true,
    "editable": true
   },
   "outputs": [],
   "source": [
    "np.save('../Work/test-data-XX'+str(binsData)+ttExt+'.npy',trOX)\n",
    "np.save('../Work/test-data-YY'+str(binsData)+ttExt+'.npy',trOY)"
   ]
  },
  {
   "cell_type": "code",
   "execution_count": 508,
   "metadata": {
    "collapsed": false,
    "deletable": true,
    "editable": true
   },
   "outputs": [
    {
     "name": "stdout",
     "output_type": "stream",
     "text": [
      "(61191, 255) (61191,)\n"
     ]
    }
   ],
   "source": [
    "trOX = np.load('../Work/test-data-XX'+str(binsData)+ttExt+'.npy')\n",
    "trOY = np.load('../Work/test-data-YY'+str(binsData)+ttExt+'.npy')\n",
    "print(trOX.shape,trOY.shape)"
   ]
  },
  {
   "cell_type": "code",
   "execution_count": null,
   "metadata": {
    "collapsed": false,
    "deletable": true,
    "editable": true
   },
   "outputs": [],
   "source": []
  },
  {
   "cell_type": "code",
   "execution_count": 509,
   "metadata": {
    "collapsed": false,
    "deletable": true,
    "editable": true
   },
   "outputs": [],
   "source": [
    "# Формирование результата\n",
    "dtest  = xgb.DMatrix(trOX)"
   ]
  },
  {
   "cell_type": "code",
   "execution_count": 510,
   "metadata": {
    "collapsed": false,
    "deletable": true,
    "editable": true
   },
   "outputs": [
    {
     "data": {
      "text/plain": [
       "(numpy.ndarray, (61191, 17))"
      ]
     },
     "execution_count": 510,
     "metadata": {},
     "output_type": "execute_result"
    }
   ],
   "source": [
    "trP = []\n",
    "for bstI in bstList :\n",
    "    trP1 = bstI.predict(dtest);\n",
    "    trP.append(trP1)\n",
    "trP = np.array(trP).T\n",
    "type(trP),trP.shape    "
   ]
  },
  {
   "cell_type": "code",
   "execution_count": 511,
   "metadata": {
    "collapsed": true,
    "deletable": true,
    "editable": true
   },
   "outputs": [],
   "source": [
    "np.save('../Work/test-data-RR'+str(binsData)+ttExt+'.npy',trP)"
   ]
  },
  {
   "cell_type": "code",
   "execution_count": 512,
   "metadata": {
    "collapsed": false,
    "deletable": true,
    "editable": true
   },
   "outputs": [
    {
     "data": {
      "text/plain": [
       "(61191, 17)"
      ]
     },
     "execution_count": 512,
     "metadata": {},
     "output_type": "execute_result"
    }
   ],
   "source": [
    "trP = np.load('../Work/test-data-RR'+str(binsData)+ttExt+'.npy')\n",
    "trP.shape"
   ]
  },
  {
   "cell_type": "code",
   "execution_count": 513,
   "metadata": {
    "collapsed": false,
    "deletable": true,
    "editable": true
   },
   "outputs": [
    {
     "name": "stdout",
     "output_type": "stream",
     "text": [
      "[3, 10, 0, 9] \n",
      " ['haze', 'primary', 'agriculture', 'clear', 'water', 'habitation', 'road', 'cultivation', 'slash_burn', 'cloudy', 'partly_cloudy', 'conventional_mine', 'bare_ground', 'artisinal_mine', 'blooming', 'selective_logging', 'blow_down'] \n",
      " [2.0, 0.56, 0.45, 2.0, 0.35, 0.39, 0.42, 0.37, 0.13, 2.0, 2.0, 0.14, 0.22, 0.27, 0.22, 0.2, 0.14]\n"
     ]
    }
   ],
   "source": [
    "wr = [labels.index(i) for i in weather_labels];\n",
    "trM=np.array(ixx)/100.0 #np.array([0.5]*17);\n",
    "trM[np.array(wr)] = 2.0\n",
    "print(wr,'\\n',labels,'\\n',trM.tolist())"
   ]
  },
  {
   "cell_type": "code",
   "execution_count": null,
   "metadata": {
    "collapsed": true,
    "deletable": true,
    "editable": true
   },
   "outputs": [],
   "source": []
  },
  {
   "cell_type": "code",
   "execution_count": 514,
   "metadata": {
    "collapsed": false,
    "deletable": true,
    "editable": true
   },
   "outputs": [
    {
     "name": "stdout",
     "output_type": "stream",
     "text": [
      "['test_0', 'clear primary'] \n",
      " ['file_20521', 'clear primary'] \n",
      " [ 2.    0.56  0.45  2.    0.35  0.39  0.42  0.37  0.13  2.    2.    0.14\n",
      "  0.22  0.27  0.22  0.2   0.14] [  1.10700212e-01   2.90093482e-01   2.22463477e-02   2.27843031e-01\n",
      "   6.58276916e-01   1.19877968e-03   1.15448106e-02   6.40173617e-04\n",
      "   2.41632879e-04   8.03460598e-01   1.32698828e-04   2.17054214e-04\n",
      "   6.70437142e-03   1.04527144e-05   2.48264405e-04   4.32673929e-04\n",
      "   6.35585457e-05]\n"
     ]
    }
   ],
   "source": [
    "#trP = model.predict(trX, batch_size=512); trP=K.get_value(trP)\n",
    "res = []\n",
    "\n",
    "for i in range(trP.shape[0]) :\n",
    "    trA1 = [weather_labels[trP[i,wr].argmax()]]\n",
    "    trA2 = [labels[ii] for ii in range(len(labels)) if (trP[i,ii]>trM[ii])]\n",
    "    trPP = trA1 + trA2;\n",
    "    pp   = ' '.join(trPP)\n",
    "    ##if (pp==\"\") : print(trY[i])\n",
    "    res.append([trOY[i],pp])\n",
    "\n",
    "res.sort(cmp=lambda x,y: cmp(int(x[0].partition('_')[2]),int(y[0].partition('_')[2])) if (x[0].partition('_')[0]==y[0].partition('_')[0]) else cmp(y[0].partition('_')[0],x[0].partition('_')[0]))\n",
    "#print(res[4:8],'\\n',res[-4:])\n",
    "print(res[0],'\\n',res[-1],'\\n',trM,trP[0])"
   ]
  },
  {
   "cell_type": "code",
   "execution_count": null,
   "metadata": {
    "collapsed": true,
    "deletable": true,
    "editable": true
   },
   "outputs": [],
   "source": []
  },
  {
   "cell_type": "code",
   "execution_count": 515,
   "metadata": {
    "collapsed": false,
    "deletable": true,
    "editable": true
   },
   "outputs": [
    {
     "name": "stdout",
     "output_type": "stream",
     "text": [
      "['haze', 'primary', 'agriculture', 'clear', 'water', 'habitation', 'road', 'cultivation', 'slash_burn', 'cloudy', 'partly_cloudy', 'conventional_mine', 'bare_ground', 'artisinal_mine', 'blooming', 'selective_logging', 'blow_down']\n",
      "[2.0, 0.56, 0.45, 2.0, 0.35, 0.39, 0.42, 0.37, 0.13, 2.0, 2.0, 0.14, 0.22, 0.27, 0.22, 0.2, 0.14]\n"
     ]
    }
   ],
   "source": [
    "print(labels)\n",
    "print(trM.tolist())\n",
    "#np.round(trP[4:11,:])"
   ]
  },
  {
   "cell_type": "code",
   "execution_count": 516,
   "metadata": {
    "collapsed": false,
    "deletable": true,
    "editable": true
   },
   "outputs": [
    {
     "name": "stdout",
     "output_type": "stream",
     "text": [
      "2017-07-02-02-43-05\n"
     ]
    }
   ],
   "source": [
    "rrr=pd.DataFrame(res,columns=['image_name','tags']); rrr.head(); \n",
    "suffixDT = (datetime.datetime.now()).strftime('%Y-%m-%d-%H-%M-%S'); print(suffixDT)\n",
    "rrr.to_csv('../Result/vss'+suffixDT+'.csv',index=False);"
   ]
  },
  {
   "cell_type": "code",
   "execution_count": null,
   "metadata": {
    "collapsed": true,
    "deletable": true,
    "editable": true
   },
   "outputs": [],
   "source": []
  },
  {
   "cell_type": "code",
   "execution_count": null,
   "metadata": {
    "collapsed": false,
    "deletable": true,
    "editable": true
   },
   "outputs": [],
   "source": []
  },
  {
   "cell_type": "code",
   "execution_count": null,
   "metadata": {
    "collapsed": true,
    "deletable": true,
    "editable": true
   },
   "outputs": [],
   "source": []
  },
  {
   "cell_type": "code",
   "execution_count": null,
   "metadata": {
    "collapsed": true,
    "deletable": true,
    "editable": true
   },
   "outputs": [],
   "source": []
  },
  {
   "cell_type": "code",
   "execution_count": null,
   "metadata": {
    "collapsed": true,
    "deletable": true,
    "editable": true
   },
   "outputs": [],
   "source": []
  }
 ],
 "metadata": {
  "kernelspec": {
   "display_name": "Python 2",
   "language": "python",
   "name": "python2"
  },
  "language_info": {
   "codemirror_mode": {
    "name": "ipython",
    "version": 2
   },
   "file_extension": ".py",
   "mimetype": "text/x-python",
   "name": "python",
   "nbconvert_exporter": "python",
   "pygments_lexer": "ipython2",
   "version": "2.7.13"
  }
 },
 "nbformat": 4,
 "nbformat_minor": 2
}
