{
 "cells": [
  {
   "cell_type": "code",
   "execution_count": 3,
   "metadata": {
    "collapsed": true,
    "deletable": true,
    "editable": true
   },
   "outputs": [],
   "source": [
    "# Проверка возможности использования xgbooster в основном, либо предварительно (2017-06-30)"
   ]
  },
  {
   "cell_type": "code",
   "execution_count": 4,
   "metadata": {
    "collapsed": false,
    "deletable": true,
    "editable": true
   },
   "outputs": [],
   "source": [
    "import sys,os,datetime\n",
    "import numpy as np\n",
    "import pandas as pd\n",
    "import matplotlib.pyplot as plt\n",
    "import sklearn.metrics as skm\n",
    "from __future__ import print_function"
   ]
  },
  {
   "cell_type": "code",
   "execution_count": 5,
   "metadata": {
    "collapsed": false,
    "deletable": true,
    "editable": true
   },
   "outputs": [
    {
     "name": "stdout",
     "output_type": "stream",
     "text": [
      "1.12.1\n",
      "0.19.2\n"
     ]
    }
   ],
   "source": [
    "print(np.__version__);\n",
    "print(pd.__version__);"
   ]
  },
  {
   "cell_type": "code",
   "execution_count": 6,
   "metadata": {
    "collapsed": false,
    "deletable": true,
    "editable": true
   },
   "outputs": [
    {
     "data": {
      "text/plain": [
       "'3.2.0'"
      ]
     },
     "execution_count": 6,
     "metadata": {},
     "output_type": "execute_result"
    }
   ],
   "source": [
    "import  cv2 as cv\n",
    "cv.__version__"
   ]
  },
  {
   "cell_type": "code",
   "execution_count": 7,
   "metadata": {
    "collapsed": false,
    "deletable": true,
    "editable": true
   },
   "outputs": [],
   "source": [
    "sys.path.append('../Python')\n",
    "from helper import formFH, paths_input"
   ]
  },
  {
   "cell_type": "code",
   "execution_count": null,
   "metadata": {
    "collapsed": false,
    "deletable": true,
    "editable": true
   },
   "outputs": [],
   "source": []
  },
  {
   "cell_type": "code",
   "execution_count": null,
   "metadata": {
    "collapsed": false,
    "deletable": true,
    "editable": true
   },
   "outputs": [],
   "source": []
  },
  {
   "cell_type": "code",
   "execution_count": 521,
   "metadata": {
    "collapsed": false,
    "deletable": true,
    "editable": true
   },
   "outputs": [
    {
     "name": "stdout",
     "output_type": "stream",
     "text": [
      "../Data/train-tif-v2 ../Data/test-tif-v2 ../Work/Train ../Work/Test\n",
      "../Data/train_v2.csv ../Data/train-tif-v2 ../Data/train-jpg ../Data/test-tif-v2 ../Data/test-jpg-v2\n"
     ]
    }
   ],
   "source": [
    "binsData = 75\n",
    "\n",
    "trLabels,trDirTIF,trDirJPG,teDirTIF,teDirJPG = paths_input()\n",
    "if False : # True :\n",
    "    trDirI = trDirJPG\n",
    "    teDirI = teDirJPG\n",
    "    ttExt  = '.jpg'\n",
    "else :\n",
    "    trDirI = trDirTIF\n",
    "    teDirI = teDirTIF\n",
    "    ttExt  = '.tif'\n",
    "trWork, teWork = '../Work/Train', '../Work/Test'\n",
    "print (trDirI,teDirI, trWork, teWork)\n",
    "print (trLabels,trDirTIF,trDirJPG,teDirTIF,teDirJPG)"
   ]
  },
  {
   "cell_type": "code",
   "execution_count": 522,
   "metadata": {
    "collapsed": false,
    "deletable": true,
    "editable": true
   },
   "outputs": [
    {
     "data": {
      "text/plain": [
       "['train_0.tif',\n",
       " 'train_1.tif',\n",
       " 'train_10.tif',\n",
       " 'train_100.tif',\n",
       " 'train_1000.tif',\n",
       " 'train_10000.tif']"
      ]
     },
     "execution_count": 522,
     "metadata": {},
     "output_type": "execute_result"
    }
   ],
   "source": [
    "xx=os.listdir(trDirI); xx.sort(); xx[:6]"
   ]
  },
  {
   "cell_type": "code",
   "execution_count": 523,
   "metadata": {
    "collapsed": false,
    "deletable": true,
    "editable": true
   },
   "outputs": [
    {
     "data": {
      "text/html": [
       "<div>\n",
       "<table border=\"1\" class=\"dataframe\">\n",
       "  <thead>\n",
       "    <tr style=\"text-align: right;\">\n",
       "      <th></th>\n",
       "      <th>image_name</th>\n",
       "      <th>tags</th>\n",
       "    </tr>\n",
       "  </thead>\n",
       "  <tbody>\n",
       "    <tr>\n",
       "      <th>0</th>\n",
       "      <td>train_0</td>\n",
       "      <td>haze primary</td>\n",
       "    </tr>\n",
       "    <tr>\n",
       "      <th>1</th>\n",
       "      <td>train_1</td>\n",
       "      <td>agriculture clear primary water</td>\n",
       "    </tr>\n",
       "    <tr>\n",
       "      <th>2</th>\n",
       "      <td>train_2</td>\n",
       "      <td>clear primary</td>\n",
       "    </tr>\n",
       "    <tr>\n",
       "      <th>3</th>\n",
       "      <td>train_3</td>\n",
       "      <td>clear primary</td>\n",
       "    </tr>\n",
       "    <tr>\n",
       "      <th>4</th>\n",
       "      <td>train_4</td>\n",
       "      <td>agriculture clear habitation primary road</td>\n",
       "    </tr>\n",
       "  </tbody>\n",
       "</table>\n",
       "</div>"
      ],
      "text/plain": [
       "  image_name                                       tags\n",
       "0    train_0                               haze primary\n",
       "1    train_1            agriculture clear primary water\n",
       "2    train_2                              clear primary\n",
       "3    train_3                              clear primary\n",
       "4    train_4  agriculture clear habitation primary road"
      ]
     },
     "execution_count": 523,
     "metadata": {},
     "output_type": "execute_result"
    }
   ],
   "source": [
    "labels_df = pd.read_csv(trLabels)\n",
    "labels_df.head()"
   ]
  },
  {
   "cell_type": "code",
   "execution_count": 524,
   "metadata": {
    "collapsed": true,
    "deletable": true,
    "editable": true
   },
   "outputs": [],
   "source": [
    "# Build list with unique labels\n",
    "label_list = []\n",
    "for tag_str in labels_df.tags.values:\n",
    "    labels = tag_str.split(' ')\n",
    "    for label in labels:\n",
    "        if label not in label_list:\n",
    "            label_list.append(label)"
   ]
  },
  {
   "cell_type": "code",
   "execution_count": 525,
   "metadata": {
    "collapsed": false,
    "deletable": true,
    "editable": true
   },
   "outputs": [],
   "source": [
    "# Add features (0 or 1) for every label as dataframe field \n",
    "for label in label_list:\n",
    "    labels_df[label] = labels_df['tags'].apply(lambda x: 1 if label in x.split(' ') else 0)\n",
    "#labels_df.head()"
   ]
  },
  {
   "cell_type": "code",
   "execution_count": 526,
   "metadata": {
    "collapsed": false,
    "deletable": true,
    "editable": true
   },
   "outputs": [],
   "source": [
    "weather_labels = ['clear', 'partly_cloudy', 'haze', 'cloudy']\n",
    "land_labels = ['primary', 'agriculture', 'water', 'cultivation', 'habitation' ]\n",
    "rare_labels = [l for l in label_list if labels_df[label_list].sum()[l] < 2000]\n",
    "#rare_labels              "
   ]
  },
  {
   "cell_type": "code",
   "execution_count": null,
   "metadata": {
    "collapsed": false,
    "deletable": true,
    "editable": true
   },
   "outputs": [],
   "source": []
  },
  {
   "cell_type": "code",
   "execution_count": 527,
   "metadata": {
    "collapsed": false,
    "deletable": true,
    "editable": true
   },
   "outputs": [],
   "source": [
    "labels = label_list; #weather_labels;\n",
    "nameList =labels_df[labels_df[labels].sum(axis=1)>0].image_name.tolist(); len(nameList)\n",
    "labelList=labels_df[labels_df[labels].sum(axis=1)>0][labels].as_matrix();\n",
    "#labelList[:6,:]\n",
    "#labels_df.head()"
   ]
  },
  {
   "cell_type": "code",
   "execution_count": null,
   "metadata": {
    "collapsed": true,
    "deletable": true,
    "editable": true
   },
   "outputs": [],
   "source": []
  },
  {
   "cell_type": "code",
   "execution_count": 595,
   "metadata": {
    "collapsed": false,
    "deletable": true,
    "editable": true
   },
   "outputs": [],
   "source": [
    "def formImExt (nf, resize=(32,32), printOK=False) :\n",
    "    nx = None\n",
    "    try : \n",
    "        ni = cv.imread(nf,-1); \n",
    "        if (ni is not None) :\n",
    "            if not ((ni.shape[2]==3) or (ni.shape[2]==4)) and printOK : print('----- error ---- shape:',ni.shape,nf)\n",
    "            if (ni.shape[2]==3) :\n",
    "                nx = cv.resize(ni,resize)\n",
    "            if (ni.shape[2]==4) :\n",
    "                #r,g,b,n = ni[:,:,2],ni[:,:,1],ni[:,:,0],ni[:,:,3]\n",
    "                r,g,b,n = cv.resize(ni[:,:,2],resize),cv.resize(ni[:,:,1],resize),cv.resize(ni[:,:,0],resize),cv.resize(ni[:,:,3],resize)\n",
    "                dv,dw   = np.divide((r-n),(r+n+0.01)), np.divide((g-n),(g+n+0.01))\n",
    "                nx      = np.array([r,g,b,n,dv,dw]).T; \n",
    "    except BaseException as e :\n",
    "        print(nf,e); nx = None;\n",
    "    \n",
    "    if nx is None and printOK : \n",
    "        print('------ None:',nf); nx = None\n",
    "        \n",
    "    return(nx)\n",
    "\n",
    "def formImHist (nf, size, printOK=False) :\n",
    "    \n",
    "    def hist1 (nf1,bins) :\n",
    "        h,_ = np.histogram(nf1.ravel(),bins=bins)\n",
    "        return h.tolist()\n",
    "    \n",
    "    def histN (nf,bins) :\n",
    "        h = []\n",
    "        for i in range(0,nf.shape[2]) :\n",
    "            h = h + hist1(nf[:,:,i],bins=bins);\n",
    "        return h\n",
    "             \n",
    "    def histNX (nf,bins) :\n",
    "        h = []\n",
    "        for i in range(0,nf.shape[2]) :\n",
    "            h = h + hist1(nf[:,:,i],bins=bins[i]);\n",
    "        return h\n",
    "             \n",
    "    nx = None\n",
    "    try : \n",
    "        ni = cv.imread(nf,-1); #print(ni.shape)\n",
    "        if (ni is not None) :\n",
    "            \n",
    "            if printOK : print(nf,ni.shape)\n",
    "\n",
    "            if not ((ni.shape[2]==3) or (ni.shape[2]==4)) and printOK : \n",
    "                print('----- error ---- shape:',ni.shape,nf);\n",
    "            if  ni.shape[2]==3 :\n",
    "                bins = [x for x in range(0,255+int(round(256.0/size)),int(round(256.0/size)))]\n",
    "                nx = histN(ni,bins)\n",
    "            if  ni.shape[2]==4 : \n",
    "                bins0 = [x      for x in range(0,65535+int(round(65535.0/size)),int(round(65535.0/size)))]\n",
    "                l,h,d = -16000.0,16000.0,1000.0\n",
    "                bins1 = [float(x/d) for x in range(int(l),int(h+int(round((h-l)/size))), int(round((h-l)/size)))] \n",
    "                bins  = [bins0,bins0,bins0,bins0,bins1,bins1]\n",
    "                r,g,b,n = ni[:,:,2], ni[:,:,1], ni[:,:,0], ni[:,:,3]\n",
    "                dv,dw   = np.divide((r-n),(r+n+0.01)), np.divide((g-n),(g+n+0.01))\n",
    "                ni      = np.array([r,g,b,n,dv,dw]).T; \n",
    "                nx = histNX(ni,bins)\n",
    "            \n",
    "    except BaseException as e :\n",
    "        print(nf,e); nx = None;\n",
    "    \n",
    "    if nx is None and printOK : \n",
    "        print('------ None:',nf); nx = None\n",
    "        \n",
    "    return(nx)"
   ]
  },
  {
   "cell_type": "code",
   "execution_count": 605,
   "metadata": {
    "collapsed": false,
    "deletable": true,
    "editable": true
   },
   "outputs": [],
   "source": [
    "#size= 75\n",
    "#bins1 =[float(x/1000.0) for x in range(-1*1000,1*1000+int(round(2000.0/size)), int(round(2000.0/size)))] \n",
    "#bins1\n",
    "#75*4,trX.shape,trX[1,75*0:75*6]"
   ]
  },
  {
   "cell_type": "code",
   "execution_count": 606,
   "metadata": {
    "collapsed": false,
    "deletable": true,
    "editable": true
   },
   "outputs": [
    {
     "name": "stdout",
     "output_type": "stream",
     "text": [
      "2017-07-02 03:22:21.439046 40479 40479\n",
      "2017-07-02 03:26:39.757684 \t 5000 \t train_4999\n",
      "2017-07-02 03:30:56.249445 \t 10000 \t train_9999\n",
      "2017-07-02 03:35:10.605316 \t 15000 \t train_14999\n",
      "2017-07-02 03:39:27.702460 \t 20000 \t train_19999\n",
      "2017-07-02 03:43:43.116227 \t 25000 \t train_24999\n",
      "2017-07-02 03:48:00.333654 \t 30000 \t train_29999\n",
      "2017-07-02 03:52:18.634718 \t 35000 \t train_34999\n",
      "2017-07-02 03:56:41.566561 \t 40000 \t train_39999\n",
      "2017-07-02 03:57:05.744150\n",
      "40479 (40479, 450) (40479, 17)\n"
     ]
    }
   ],
   "source": [
    "trX, trY, i, size = [],[], 0, len(nameList)\n",
    "print(datetime.datetime.now(),len(nameList),size)\n",
    "for nn in nameList[0:size] :\n",
    "    nf = os.path.join(trDirI,nn+ttExt);\n",
    "    nx = formImHist(nf,binsData,printOK=False)\n",
    "    if (nx is not None) :\n",
    "        #rr=np.save(os.path.join(trWork,nn+\".npy\"),nx);\n",
    "        #trX.append(nn+\".npy\")\n",
    "        trX.append(nx)\n",
    "        trY.append(True)\n",
    "    else : \n",
    "        trY.append(False)\n",
    "    i += 1\n",
    "    if (i%5000==0) : print(datetime.datetime.now(),\"\\t\",i,\"\\t\",nn)\n",
    "    #print(nn.shape)\n",
    "\n",
    "print(datetime.datetime.now())\n",
    "trX = np.array(trX);\n",
    "trY = labelList[trY];\n",
    "print(len(nameList),trX.shape,trY.shape)\n",
    "#trXY=pd.DataFrame(trY); trXY['name']=trX; trXY.head()\n",
    "#trXY.to_pickle(os.path.join(trWork,\"listFiles.pkl\"))"
   ]
  },
  {
   "cell_type": "code",
   "execution_count": 607,
   "metadata": {
    "collapsed": false,
    "deletable": true,
    "editable": true
   },
   "outputs": [
    {
     "data": {
      "text/plain": [
       "((40479, 450), (40479, 17))"
      ]
     },
     "execution_count": 607,
     "metadata": {},
     "output_type": "execute_result"
    }
   ],
   "source": [
    "trX.shape,trY.shape"
   ]
  },
  {
   "cell_type": "code",
   "execution_count": 608,
   "metadata": {
    "collapsed": false,
    "deletable": true,
    "editable": true
   },
   "outputs": [],
   "source": [
    "np.save('../Work/train-data-XX'+str(binsData)+ttExt+'.npy',trX)\n",
    "np.save('../Work/train-data-YY'+str(binsData)+ttExt+'.npy',trY)"
   ]
  },
  {
   "cell_type": "code",
   "execution_count": 609,
   "metadata": {
    "collapsed": false,
    "deletable": true,
    "editable": true
   },
   "outputs": [],
   "source": [
    "del(trX); del(trY);"
   ]
  },
  {
   "cell_type": "code",
   "execution_count": 610,
   "metadata": {
    "collapsed": false,
    "deletable": true,
    "editable": true
   },
   "outputs": [
    {
     "name": "stdout",
     "output_type": "stream",
     "text": [
      "(40479, 450) (40479, 17)\n"
     ]
    }
   ],
   "source": [
    "trX = np.load('../Work/train-data-XX'+str(binsData)+ttExt+'.npy')\n",
    "trY = np.load('../Work/train-data-YY'+str(binsData)+ttExt+'.npy')\n",
    "print(trX.shape,trY.shape)"
   ]
  },
  {
   "cell_type": "code",
   "execution_count": null,
   "metadata": {
    "collapsed": true
   },
   "outputs": [],
   "source": []
  },
  {
   "cell_type": "code",
   "execution_count": 657,
   "metadata": {
    "collapsed": true
   },
   "outputs": [],
   "source": [
    "# Данные для объединения от jpg\n",
    "trX_TIF = np.load('../Work/train-data-XX'+str(binsData)+ttExt+'.npy')\n",
    "trX_JPG = np.load('../Work/train-data-XX'+'64'+'.jpg'+'.npy')"
   ]
  },
  {
   "cell_type": "code",
   "execution_count": 658,
   "metadata": {
    "collapsed": false
   },
   "outputs": [
    {
     "data": {
      "text/plain": [
       "(40479, 642)"
      ]
     },
     "execution_count": 658,
     "metadata": {},
     "output_type": "execute_result"
    }
   ],
   "source": [
    "trXX = np.hstack([trX_JPG,trX_TIF])\n",
    "trX  = trXX\n",
    "del trXX,trX_JPG,trX_TIF\n",
    "trX.shape"
   ]
  },
  {
   "cell_type": "code",
   "execution_count": null,
   "metadata": {
    "collapsed": true
   },
   "outputs": [],
   "source": []
  },
  {
   "cell_type": "code",
   "execution_count": 659,
   "metadata": {
    "collapsed": false,
    "deletable": true,
    "editable": true
   },
   "outputs": [],
   "source": [
    "import xgboost as xgb"
   ]
  },
  {
   "cell_type": "code",
   "execution_count": 660,
   "metadata": {
    "collapsed": false,
    "deletable": true,
    "editable": true
   },
   "outputs": [],
   "source": [
    "# Строим основные массивы\n",
    "dtrain = xgb.DMatrix(trX,label=trY[:,1])"
   ]
  },
  {
   "cell_type": "code",
   "execution_count": null,
   "metadata": {
    "collapsed": false,
    "deletable": true,
    "editable": true
   },
   "outputs": [],
   "source": []
  },
  {
   "cell_type": "code",
   "execution_count": 661,
   "metadata": {
    "collapsed": false,
    "deletable": true,
    "editable": true
   },
   "outputs": [
    {
     "name": "stdout",
     "output_type": "stream",
     "text": [
      "Working: 0\n",
      "[0]\ttrain-auc:0.943745+0.00387279\ttest-auc:0.928803+0.0109092\n",
      "[30]\ttrain-auc:0.991567+0.000613583\ttest-auc:0.962814+0.00131396\n",
      "[60]\ttrain-auc:0.997936+4.87055e-05\ttest-auc:0.962957+0.00128508\n",
      "[0]\ttrain-auc:0.944489\ttrain-rmse:0.37734\n",
      "[1]\ttrain-auc:0.956602\ttrain-rmse:0.300831\n",
      "[2]\ttrain-auc:0.960585\ttrain-rmse:0.250154\n",
      "[3]\ttrain-auc:0.96571\ttrain-rmse:0.218458\n",
      "[4]\ttrain-auc:0.967427\ttrain-rmse:0.198928\n",
      "[5]\ttrain-auc:0.970312\ttrain-rmse:0.186327\n",
      "[6]\ttrain-auc:0.972427\ttrain-rmse:0.178707\n",
      "[7]\ttrain-auc:0.974333\ttrain-rmse:0.173315\n",
      "[8]\ttrain-auc:0.975141\ttrain-rmse:0.170245\n",
      "[9]\ttrain-auc:0.975993\ttrain-rmse:0.167947\n",
      "[10]\ttrain-auc:0.977335\ttrain-rmse:0.166084\n",
      "[11]\ttrain-auc:0.978205\ttrain-rmse:0.164358\n",
      "[12]\ttrain-auc:0.979457\ttrain-rmse:0.162672\n",
      "[13]\ttrain-auc:0.980734\ttrain-rmse:0.160686\n",
      "[14]\ttrain-auc:0.981724\ttrain-rmse:0.159223\n",
      "[15]\ttrain-auc:0.982174\ttrain-rmse:0.158168\n",
      "[16]\ttrain-auc:0.982992\ttrain-rmse:0.157097\n",
      "[17]\ttrain-auc:0.983487\ttrain-rmse:0.156353\n",
      "[18]\ttrain-auc:0.983801\ttrain-rmse:0.155919\n",
      "[19]\ttrain-auc:0.984197\ttrain-rmse:0.15497\n",
      "[20]\ttrain-auc:0.98467\ttrain-rmse:0.153675\n",
      "[21]\ttrain-auc:0.984938\ttrain-rmse:0.153099\n",
      "[22]\ttrain-auc:0.985236\ttrain-rmse:0.152507\n",
      "[23]\ttrain-auc:0.985447\ttrain-rmse:0.151901\n",
      "[24]\ttrain-auc:0.986252\ttrain-rmse:0.149907\n",
      "[25]\ttrain-auc:0.986993\ttrain-rmse:0.147507\n",
      "[26]\ttrain-auc:0.98717\ttrain-rmse:0.147018\n",
      "[27]\ttrain-auc:0.987966\ttrain-rmse:0.145047\n",
      "[28]\ttrain-auc:0.988197\ttrain-rmse:0.144631\n",
      "[29]\ttrain-auc:0.988343\ttrain-rmse:0.144029\n",
      "[30]\ttrain-auc:0.989102\ttrain-rmse:0.142039\n",
      "[31]\ttrain-auc:0.989475\ttrain-rmse:0.140669\n",
      "[32]\ttrain-auc:0.989734\ttrain-rmse:0.140221\n",
      "[33]\ttrain-auc:0.989815\ttrain-rmse:0.139963\n",
      "[34]\ttrain-auc:0.989989\ttrain-rmse:0.139238\n",
      "[35]\ttrain-auc:0.990262\ttrain-rmse:0.138174\n",
      "[36]\ttrain-auc:0.990792\ttrain-rmse:0.136521\n",
      "[37]\ttrain-auc:0.991128\ttrain-rmse:0.135562\n",
      "[38]\ttrain-auc:0.991349\ttrain-rmse:0.134721\n",
      "[39]\ttrain-auc:0.99154\ttrain-rmse:0.134098\n",
      "[40]\ttrain-auc:0.991706\ttrain-rmse:0.133373\n",
      "[41]\ttrain-auc:0.992171\ttrain-rmse:0.131674\n",
      "[42]\ttrain-auc:0.992271\ttrain-rmse:0.131334\n",
      "Working: 1\n",
      "[0]\ttrain-auc:0.936884+0.00298086\ttest-auc:0.919542+0.00998362\n",
      "[30]\ttrain-auc:0.995845+0.000180821\ttest-auc:0.975236+0.000773607\n",
      "[60]\ttrain-auc:0.999327+0.000135726\ttest-auc:0.975933+0.00120019\n",
      "[0]\ttrain-auc:0.941802\ttrain-rmse:0.375723\n",
      "[1]\ttrain-auc:0.95951\ttrain-rmse:0.296885\n",
      "[2]\ttrain-auc:0.96523\ttrain-rmse:0.244454\n",
      "[3]\ttrain-auc:0.972808\ttrain-rmse:0.20968\n",
      "[4]\ttrain-auc:0.975826\ttrain-rmse:0.1874\n",
      "[5]\ttrain-auc:0.979587\ttrain-rmse:0.172808\n",
      "[6]\ttrain-auc:0.9809\ttrain-rmse:0.163438\n",
      "[7]\ttrain-auc:0.982046\ttrain-rmse:0.157373\n",
      "[8]\ttrain-auc:0.983199\ttrain-rmse:0.153453\n",
      "[9]\ttrain-auc:0.985359\ttrain-rmse:0.150253\n",
      "[10]\ttrain-auc:0.986121\ttrain-rmse:0.14783\n",
      "[11]\ttrain-auc:0.987251\ttrain-rmse:0.145775\n",
      "[12]\ttrain-auc:0.988461\ttrain-rmse:0.143985\n",
      "[13]\ttrain-auc:0.989201\ttrain-rmse:0.142525\n",
      "[14]\ttrain-auc:0.989425\ttrain-rmse:0.141639\n",
      "[15]\ttrain-auc:0.989803\ttrain-rmse:0.140693\n",
      "[16]\ttrain-auc:0.990203\ttrain-rmse:0.139793\n",
      "[17]\ttrain-auc:0.990487\ttrain-rmse:0.13865\n",
      "[18]\ttrain-auc:0.990659\ttrain-rmse:0.138052\n",
      "[19]\ttrain-auc:0.990825\ttrain-rmse:0.137256\n",
      "[20]\ttrain-auc:0.991071\ttrain-rmse:0.136413\n",
      "[21]\ttrain-auc:0.991452\ttrain-rmse:0.134994\n",
      "[22]\ttrain-auc:0.991741\ttrain-rmse:0.133952\n",
      "[23]\ttrain-auc:0.991956\ttrain-rmse:0.133108\n",
      "[24]\ttrain-auc:0.992119\ttrain-rmse:0.132606\n",
      "[25]\ttrain-auc:0.992496\ttrain-rmse:0.131384\n",
      "[26]\ttrain-auc:0.992605\ttrain-rmse:0.130668\n",
      "[27]\ttrain-auc:0.992846\ttrain-rmse:0.129852\n",
      "[28]\ttrain-auc:0.993014\ttrain-rmse:0.128992\n",
      "[29]\ttrain-auc:0.99315\ttrain-rmse:0.128293\n",
      "[30]\ttrain-auc:0.993398\ttrain-rmse:0.127131\n",
      "[31]\ttrain-auc:0.993754\ttrain-rmse:0.125491\n",
      "[32]\ttrain-auc:0.99385\ttrain-rmse:0.124943\n",
      "[33]\ttrain-auc:0.993971\ttrain-rmse:0.124394\n",
      "[34]\ttrain-auc:0.994208\ttrain-rmse:0.123624\n",
      "[35]\ttrain-auc:0.994249\ttrain-rmse:0.123407\n",
      "[36]\ttrain-auc:0.994502\ttrain-rmse:0.122431\n",
      "[37]\ttrain-auc:0.994703\ttrain-rmse:0.121405\n",
      "[38]\ttrain-auc:0.994923\ttrain-rmse:0.120517\n",
      "[39]\ttrain-auc:0.99536\ttrain-rmse:0.1187\n",
      "[40]\ttrain-auc:0.995408\ttrain-rmse:0.118378\n",
      "[41]\ttrain-auc:0.995523\ttrain-rmse:0.117704\n",
      "[42]\ttrain-auc:0.995717\ttrain-rmse:0.116543\n",
      "[43]\ttrain-auc:0.995935\ttrain-rmse:0.115685\n",
      "[44]\ttrain-auc:0.996121\ttrain-rmse:0.114843\n",
      "[45]\ttrain-auc:0.996431\ttrain-rmse:0.112811\n",
      "[46]\ttrain-auc:0.996552\ttrain-rmse:0.112016\n",
      "[47]\ttrain-auc:0.996672\ttrain-rmse:0.111062\n",
      "[48]\ttrain-auc:0.996898\ttrain-rmse:0.1098\n",
      "[49]\ttrain-auc:0.997005\ttrain-rmse:0.109074\n",
      "[50]\ttrain-auc:0.997044\ttrain-rmse:0.108751\n",
      "[51]\ttrain-auc:0.997157\ttrain-rmse:0.107849\n",
      "[52]\ttrain-auc:0.997355\ttrain-rmse:0.106558\n",
      "[53]\ttrain-auc:0.997522\ttrain-rmse:0.105274\n",
      "[54]\ttrain-auc:0.997555\ttrain-rmse:0.105014\n",
      "[55]\ttrain-auc:0.997858\ttrain-rmse:0.103037\n",
      "[56]\ttrain-auc:0.997947\ttrain-rmse:0.102155\n",
      "[57]\ttrain-auc:0.998058\ttrain-rmse:0.100945\n",
      "[58]\ttrain-auc:0.998203\ttrain-rmse:0.099624\n",
      "[59]\ttrain-auc:0.99822\ttrain-rmse:0.099428\n",
      "[60]\ttrain-auc:0.998334\ttrain-rmse:0.098358\n",
      "[61]\ttrain-auc:0.998408\ttrain-rmse:0.097546\n",
      "[62]\ttrain-auc:0.998511\ttrain-rmse:0.096244\n",
      "[63]\ttrain-auc:0.998549\ttrain-rmse:0.095756\n",
      "[64]\ttrain-auc:0.998611\ttrain-rmse:0.095048\n",
      "[65]\ttrain-auc:0.998694\ttrain-rmse:0.093998\n",
      "Working: 2\n",
      "[0]\ttrain-auc:0.902628+0.00163983\ttest-auc:0.886422+0.00112549\n",
      "[30]\ttrain-auc:0.973506+0.00227333\ttest-auc:0.932268+0.00263651\n",
      "[60]\ttrain-auc:0.986532+0.00181231\ttest-auc:0.933512+0.00259933\n",
      "[90]\ttrain-auc:0.993455+0.00103635\ttest-auc:0.934062+0.00303744\n",
      "[120]\ttrain-auc:0.997254+0.000558359\ttest-auc:0.934031+0.00292281\n",
      "[0]\ttrain-auc:0.903657\ttrain-rmse:0.424821\n",
      "[1]\ttrain-auc:0.916495\ttrain-rmse:0.38004\n",
      "[2]\ttrain-auc:0.923528\ttrain-rmse:0.351164\n",
      "[3]\ttrain-auc:0.92877\ttrain-rmse:0.331918\n",
      "[4]\ttrain-auc:0.93205\ttrain-rmse:0.319898\n",
      "[5]\ttrain-auc:0.935449\ttrain-rmse:0.311319\n",
      "[6]\ttrain-auc:0.938141\ttrain-rmse:0.304775\n",
      "[7]\ttrain-auc:0.940084\ttrain-rmse:0.300604\n",
      "[8]\ttrain-auc:0.9422\ttrain-rmse:0.2964\n",
      "[9]\ttrain-auc:0.94447\ttrain-rmse:0.292871\n",
      "[10]\ttrain-auc:0.946761\ttrain-rmse:0.289132\n",
      "[11]\ttrain-auc:0.948616\ttrain-rmse:0.286244\n",
      "[12]\ttrain-auc:0.950341\ttrain-rmse:0.28324\n",
      "[13]\ttrain-auc:0.950965\ttrain-rmse:0.28249\n",
      "[14]\ttrain-auc:0.952471\ttrain-rmse:0.280075\n",
      "[15]\ttrain-auc:0.953796\ttrain-rmse:0.277997\n",
      "[16]\ttrain-auc:0.955628\ttrain-rmse:0.275724\n",
      "[17]\ttrain-auc:0.956799\ttrain-rmse:0.273772\n",
      "[18]\ttrain-auc:0.957688\ttrain-rmse:0.272399\n",
      "[19]\ttrain-auc:0.958518\ttrain-rmse:0.271497\n",
      "[20]\ttrain-auc:0.958961\ttrain-rmse:0.270782\n",
      "[21]\ttrain-auc:0.960289\ttrain-rmse:0.268775\n",
      "[22]\ttrain-auc:0.96124\ttrain-rmse:0.266981\n",
      "[23]\ttrain-auc:0.962068\ttrain-rmse:0.265793\n",
      "[24]\ttrain-auc:0.962626\ttrain-rmse:0.264886\n",
      "[25]\ttrain-auc:0.963336\ttrain-rmse:0.263771\n",
      "[26]\ttrain-auc:0.963921\ttrain-rmse:0.262805\n",
      "[27]\ttrain-auc:0.964549\ttrain-rmse:0.261818\n",
      "[28]\ttrain-auc:0.965545\ttrain-rmse:0.260082\n",
      "[29]\ttrain-auc:0.966398\ttrain-rmse:0.258528\n",
      "[30]\ttrain-auc:0.966824\ttrain-rmse:0.257798\n",
      "[31]\ttrain-auc:0.967275\ttrain-rmse:0.257287\n",
      "[32]\ttrain-auc:0.968361\ttrain-rmse:0.255664\n",
      "[33]\ttrain-auc:0.968893\ttrain-rmse:0.254529\n",
      "[34]\ttrain-auc:0.969174\ttrain-rmse:0.253763\n",
      "[35]\ttrain-auc:0.969653\ttrain-rmse:0.252749\n",
      "[36]\ttrain-auc:0.970057\ttrain-rmse:0.252032\n",
      "[37]\ttrain-auc:0.971003\ttrain-rmse:0.249994\n",
      "[38]\ttrain-auc:0.971286\ttrain-rmse:0.249502\n",
      "[39]\ttrain-auc:0.971781\ttrain-rmse:0.2485\n",
      "[40]\ttrain-auc:0.971918\ttrain-rmse:0.248213\n",
      "[41]\ttrain-auc:0.972301\ttrain-rmse:0.247338\n",
      "[42]\ttrain-auc:0.973042\ttrain-rmse:0.245488\n",
      "[43]\ttrain-auc:0.973924\ttrain-rmse:0.243858\n",
      "[44]\ttrain-auc:0.9744\ttrain-rmse:0.243205\n",
      "[45]\ttrain-auc:0.974772\ttrain-rmse:0.242338\n",
      "[46]\ttrain-auc:0.974919\ttrain-rmse:0.242045\n",
      "[47]\ttrain-auc:0.975811\ttrain-rmse:0.239942\n",
      "[48]\ttrain-auc:0.976448\ttrain-rmse:0.238642\n",
      "[49]\ttrain-auc:0.97668\ttrain-rmse:0.238138\n",
      "[50]\ttrain-auc:0.976816\ttrain-rmse:0.237934\n",
      "[51]\ttrain-auc:0.97739\ttrain-rmse:0.236486\n",
      "[52]\ttrain-auc:0.977976\ttrain-rmse:0.23502\n",
      "[53]\ttrain-auc:0.978236\ttrain-rmse:0.234407\n",
      "[54]\ttrain-auc:0.97883\ttrain-rmse:0.233112\n",
      "[55]\ttrain-auc:0.979227\ttrain-rmse:0.232211\n",
      "[56]\ttrain-auc:0.979541\ttrain-rmse:0.231485\n",
      "[57]\ttrain-auc:0.979688\ttrain-rmse:0.231108\n",
      "[58]\ttrain-auc:0.980136\ttrain-rmse:0.229887\n",
      "[59]\ttrain-auc:0.980595\ttrain-rmse:0.228735\n",
      "[60]\ttrain-auc:0.981091\ttrain-rmse:0.227407\n",
      "[61]\ttrain-auc:0.981661\ttrain-rmse:0.225925\n",
      "[62]\ttrain-auc:0.981975\ttrain-rmse:0.225372\n",
      "[63]\ttrain-auc:0.982041\ttrain-rmse:0.225165\n",
      "[64]\ttrain-auc:0.982209\ttrain-rmse:0.224626\n",
      "[65]\ttrain-auc:0.982441\ttrain-rmse:0.224173\n",
      "[66]\ttrain-auc:0.982522\ttrain-rmse:0.223971\n",
      "[67]\ttrain-auc:0.982677\ttrain-rmse:0.2236\n",
      "[68]\ttrain-auc:0.983237\ttrain-rmse:0.221933\n",
      "[69]\ttrain-auc:0.983428\ttrain-rmse:0.221541\n",
      "[70]\ttrain-auc:0.983539\ttrain-rmse:0.221244\n",
      "[71]\ttrain-auc:0.984131\ttrain-rmse:0.219512\n",
      "[72]\ttrain-auc:0.984273\ttrain-rmse:0.218962\n",
      "[73]\ttrain-auc:0.984596\ttrain-rmse:0.218064\n",
      "[74]\ttrain-auc:0.984882\ttrain-rmse:0.217226\n",
      "[75]\ttrain-auc:0.984918\ttrain-rmse:0.217019\n",
      "[76]\ttrain-auc:0.985178\ttrain-rmse:0.216153\n",
      "[77]\ttrain-auc:0.985461\ttrain-rmse:0.215136\n",
      "[78]\ttrain-auc:0.985758\ttrain-rmse:0.214177\n",
      "[79]\ttrain-auc:0.985819\ttrain-rmse:0.213957\n",
      "[80]\ttrain-auc:0.985889\ttrain-rmse:0.21371\n",
      "[81]\ttrain-auc:0.985937\ttrain-rmse:0.213521\n",
      "[82]\ttrain-auc:0.986128\ttrain-rmse:0.21299\n",
      "[83]\ttrain-auc:0.986178\ttrain-rmse:0.212813\n",
      "[84]\ttrain-auc:0.986438\ttrain-rmse:0.211878\n",
      "[85]\ttrain-auc:0.986666\ttrain-rmse:0.211169\n",
      "[86]\ttrain-auc:0.986865\ttrain-rmse:0.210436\n",
      "[87]\ttrain-auc:0.986951\ttrain-rmse:0.21017\n",
      "[88]\ttrain-auc:0.987114\ttrain-rmse:0.209568\n",
      "[89]\ttrain-auc:0.987311\ttrain-rmse:0.208809\n",
      "[90]\ttrain-auc:0.987502\ttrain-rmse:0.208187\n",
      "[91]\ttrain-auc:0.987812\ttrain-rmse:0.206992\n",
      "[92]\ttrain-auc:0.988173\ttrain-rmse:0.205606\n",
      "[93]\ttrain-auc:0.988288\ttrain-rmse:0.205149\n",
      "[94]\ttrain-auc:0.988516\ttrain-rmse:0.204186\n",
      "[95]\ttrain-auc:0.988845\ttrain-rmse:0.202848\n",
      "[96]\ttrain-auc:0.989139\ttrain-rmse:0.20181\n",
      "[97]\ttrain-auc:0.98937\ttrain-rmse:0.20093\n",
      "[98]\ttrain-auc:0.989409\ttrain-rmse:0.200729\n",
      "[99]\ttrain-auc:0.989529\ttrain-rmse:0.200332\n",
      "[100]\ttrain-auc:0.989619\ttrain-rmse:0.199935\n",
      "[101]\ttrain-auc:0.989702\ttrain-rmse:0.199646\n",
      "[102]\ttrain-auc:0.989758\ttrain-rmse:0.199395\n",
      "[103]\ttrain-auc:0.989971\ttrain-rmse:0.19842\n",
      "[104]\ttrain-auc:0.990222\ttrain-rmse:0.197645\n",
      "[105]\ttrain-auc:0.990459\ttrain-rmse:0.196685\n",
      "[106]\ttrain-auc:0.990641\ttrain-rmse:0.195996\n",
      "[107]\ttrain-auc:0.990754\ttrain-rmse:0.195369\n",
      "[108]\ttrain-auc:0.991038\ttrain-rmse:0.194016\n",
      "Working: 3\n",
      "[0]\ttrain-auc:0.957969+0.000750069\ttest-auc:0.949384+0.00243909\n",
      "[30]\ttrain-auc:0.993879+0.000271206\ttest-auc:0.976773+0.000600749\n",
      "[60]\ttrain-auc:0.997925+0.000274478\ttest-auc:0.977506+0.000482141\n",
      "[90]\ttrain-auc:0.999478+8.87105e-05\ttest-auc:0.9778+0.000589523\n",
      "[0]\ttrain-auc:0.957161\ttrain-rmse:0.398513\n",
      "[1]\ttrain-auc:0.965385\ttrain-rmse:0.335693\n",
      "[2]\ttrain-auc:0.969299\ttrain-rmse:0.294559\n",
      "[3]\ttrain-auc:0.971239\ttrain-rmse:0.269617\n",
      "[4]\ttrain-auc:0.973484\ttrain-rmse:0.251809\n",
      "[5]\ttrain-auc:0.97511\ttrain-rmse:0.239656\n",
      "[6]\ttrain-auc:0.976651\ttrain-rmse:0.231915\n",
      "[7]\ttrain-auc:0.977928\ttrain-rmse:0.225076\n",
      "[8]\ttrain-auc:0.97916\ttrain-rmse:0.220132\n",
      "[9]\ttrain-auc:0.980305\ttrain-rmse:0.216413\n",
      "[10]\ttrain-auc:0.981845\ttrain-rmse:0.210959\n",
      "[11]\ttrain-auc:0.982998\ttrain-rmse:0.207591\n",
      "[12]\ttrain-auc:0.983825\ttrain-rmse:0.20481\n",
      "[13]\ttrain-auc:0.984746\ttrain-rmse:0.20191\n",
      "[14]\ttrain-auc:0.985504\ttrain-rmse:0.199375\n",
      "[15]\ttrain-auc:0.985976\ttrain-rmse:0.197486\n",
      "[16]\ttrain-auc:0.986482\ttrain-rmse:0.195441\n",
      "[17]\ttrain-auc:0.986845\ttrain-rmse:0.194064\n",
      "[18]\ttrain-auc:0.987221\ttrain-rmse:0.192718\n",
      "[19]\ttrain-auc:0.987444\ttrain-rmse:0.191849\n",
      "[20]\ttrain-auc:0.987905\ttrain-rmse:0.190086\n",
      "[21]\ttrain-auc:0.988563\ttrain-rmse:0.18792\n",
      "[22]\ttrain-auc:0.989167\ttrain-rmse:0.185583\n",
      "[23]\ttrain-auc:0.989629\ttrain-rmse:0.183657\n",
      "[24]\ttrain-auc:0.989832\ttrain-rmse:0.182934\n",
      "[25]\ttrain-auc:0.989932\ttrain-rmse:0.182516\n",
      "[26]\ttrain-auc:0.990481\ttrain-rmse:0.180444\n",
      "[27]\ttrain-auc:0.990793\ttrain-rmse:0.178771\n",
      "[28]\ttrain-auc:0.991326\ttrain-rmse:0.176531\n",
      "[29]\ttrain-auc:0.991384\ttrain-rmse:0.176146\n",
      "[30]\ttrain-auc:0.99166\ttrain-rmse:0.174635\n",
      "[31]\ttrain-auc:0.991859\ttrain-rmse:0.173469\n",
      "[32]\ttrain-auc:0.992162\ttrain-rmse:0.171925\n",
      "[33]\ttrain-auc:0.992399\ttrain-rmse:0.171204\n",
      "[34]\ttrain-auc:0.992668\ttrain-rmse:0.169658\n",
      "[35]\ttrain-auc:0.993111\ttrain-rmse:0.16787\n",
      "[36]\ttrain-auc:0.993182\ttrain-rmse:0.16743\n",
      "[37]\ttrain-auc:0.993282\ttrain-rmse:0.166998\n",
      "[38]\ttrain-auc:0.993585\ttrain-rmse:0.165068\n",
      "[39]\ttrain-auc:0.99369\ttrain-rmse:0.164551\n",
      "[40]\ttrain-auc:0.993914\ttrain-rmse:0.163258\n",
      "[41]\ttrain-auc:0.994007\ttrain-rmse:0.162765\n",
      "[42]\ttrain-auc:0.994187\ttrain-rmse:0.161844\n",
      "[43]\ttrain-auc:0.99437\ttrain-rmse:0.161006\n",
      "[44]\ttrain-auc:0.99446\ttrain-rmse:0.160423\n",
      "[45]\ttrain-auc:0.994581\ttrain-rmse:0.159604\n",
      "[46]\ttrain-auc:0.994685\ttrain-rmse:0.159073\n",
      "[47]\ttrain-auc:0.994848\ttrain-rmse:0.158065\n",
      "[48]\ttrain-auc:0.994986\ttrain-rmse:0.156997\n",
      "[49]\ttrain-auc:0.995111\ttrain-rmse:0.156179\n",
      "[50]\ttrain-auc:0.995237\ttrain-rmse:0.155221\n",
      "[51]\ttrain-auc:0.995325\ttrain-rmse:0.154556\n",
      "[52]\ttrain-auc:0.99548\ttrain-rmse:0.153298\n",
      "[53]\ttrain-auc:0.995609\ttrain-rmse:0.152346\n",
      "[54]\ttrain-auc:0.995791\ttrain-rmse:0.15096\n",
      "[55]\ttrain-auc:0.995873\ttrain-rmse:0.150292\n",
      "[56]\ttrain-auc:0.996007\ttrain-rmse:0.149402\n",
      "[57]\ttrain-auc:0.996206\ttrain-rmse:0.14821\n",
      "[58]\ttrain-auc:0.996247\ttrain-rmse:0.147926\n",
      "[59]\ttrain-auc:0.996399\ttrain-rmse:0.146482\n",
      "[60]\ttrain-auc:0.996478\ttrain-rmse:0.145872\n",
      "[61]\ttrain-auc:0.996523\ttrain-rmse:0.145586\n",
      "[62]\ttrain-auc:0.996573\ttrain-rmse:0.14512\n",
      "[63]\ttrain-auc:0.99664\ttrain-rmse:0.144356\n",
      "[64]\ttrain-auc:0.996663\ttrain-rmse:0.144133\n",
      "[65]\ttrain-auc:0.9967\ttrain-rmse:0.143783\n",
      "[66]\ttrain-auc:0.996746\ttrain-rmse:0.143135\n",
      "[67]\ttrain-auc:0.996813\ttrain-rmse:0.142492\n",
      "[68]\ttrain-auc:0.996864\ttrain-rmse:0.142094\n",
      "[69]\ttrain-auc:0.997039\ttrain-rmse:0.140831\n",
      "[70]\ttrain-auc:0.997172\ttrain-rmse:0.139482\n",
      "[71]\ttrain-auc:0.997198\ttrain-rmse:0.13923\n",
      "[72]\ttrain-auc:0.99723\ttrain-rmse:0.138861\n",
      "[73]\ttrain-auc:0.997297\ttrain-rmse:0.138373\n",
      "[74]\ttrain-auc:0.997336\ttrain-rmse:0.137937\n",
      "[75]\ttrain-auc:0.997432\ttrain-rmse:0.136925\n",
      "[76]\ttrain-auc:0.997508\ttrain-rmse:0.136092\n",
      "[77]\ttrain-auc:0.997628\ttrain-rmse:0.134871\n",
      "[78]\ttrain-auc:0.997772\ttrain-rmse:0.13355\n",
      "[79]\ttrain-auc:0.99786\ttrain-rmse:0.132684\n",
      "[80]\ttrain-auc:0.997948\ttrain-rmse:0.131369\n",
      "[81]\ttrain-auc:0.998014\ttrain-rmse:0.130636\n",
      "[82]\ttrain-auc:0.998116\ttrain-rmse:0.129281\n",
      "[83]\ttrain-auc:0.998153\ttrain-rmse:0.128762\n",
      "[84]\ttrain-auc:0.998185\ttrain-rmse:0.128238\n",
      "[85]\ttrain-auc:0.998211\ttrain-rmse:0.127826\n",
      "[86]\ttrain-auc:0.998245\ttrain-rmse:0.127316\n",
      "[87]\ttrain-auc:0.998277\ttrain-rmse:0.126782\n",
      "[88]\ttrain-auc:0.998315\ttrain-rmse:0.126179\n",
      "[89]\ttrain-auc:0.998376\ttrain-rmse:0.125365\n",
      "[90]\ttrain-auc:0.998394\ttrain-rmse:0.125109\n",
      "[91]\ttrain-auc:0.998405\ttrain-rmse:0.124905\n",
      "[92]\ttrain-auc:0.998463\ttrain-rmse:0.124164\n",
      "[93]\ttrain-auc:0.998515\ttrain-rmse:0.123448\n",
      "[94]\ttrain-auc:0.998531\ttrain-rmse:0.123149\n",
      "[95]\ttrain-auc:0.99854\ttrain-rmse:0.123007\n",
      "[96]\ttrain-auc:0.998638\ttrain-rmse:0.121586\n",
      "[97]\ttrain-auc:0.998653\ttrain-rmse:0.121293\n",
      "[98]\ttrain-auc:0.998661\ttrain-rmse:0.12111\n",
      "[99]\ttrain-auc:0.998717\ttrain-rmse:0.120094\n",
      "Working: 4\n",
      "[0]\ttrain-auc:0.891114+0.00123208\ttest-auc:0.875103+0.00193079\n",
      "[30]\ttrain-auc:0.972031+0.00133835\ttest-auc:0.911006+0.00206652\n",
      "[0]\ttrain-auc:0.891125\ttrain-rmse:0.408309\n",
      "[1]\ttrain-auc:0.903308\ttrain-rmse:0.354223\n",
      "[2]\ttrain-auc:0.910209\ttrain-rmse:0.321571\n",
      "[3]\ttrain-auc:0.914031\ttrain-rmse:0.301952\n",
      "[4]\ttrain-auc:0.919364\ttrain-rmse:0.288927\n",
      "[5]\ttrain-auc:0.923383\ttrain-rmse:0.280807\n",
      "[6]\ttrain-auc:0.926265\ttrain-rmse:0.275571\n",
      "[7]\ttrain-auc:0.92944\ttrain-rmse:0.271233\n",
      "[8]\ttrain-auc:0.932003\ttrain-rmse:0.267771\n",
      "[9]\ttrain-auc:0.935189\ttrain-rmse:0.264057\n",
      "[10]\ttrain-auc:0.937308\ttrain-rmse:0.261708\n",
      "[11]\ttrain-auc:0.939271\ttrain-rmse:0.259306\n",
      "[12]\ttrain-auc:0.941402\ttrain-rmse:0.256764\n",
      "[13]\ttrain-auc:0.943048\ttrain-rmse:0.254685\n",
      "[14]\ttrain-auc:0.945448\ttrain-rmse:0.252021\n",
      "[15]\ttrain-auc:0.947651\ttrain-rmse:0.249534\n",
      "[16]\ttrain-auc:0.94867\ttrain-rmse:0.248261\n",
      "[17]\ttrain-auc:0.949424\ttrain-rmse:0.247542\n",
      "[18]\ttrain-auc:0.951399\ttrain-rmse:0.245469\n",
      "[19]\ttrain-auc:0.952814\ttrain-rmse:0.243969\n",
      "[20]\ttrain-auc:0.953576\ttrain-rmse:0.243124\n",
      "[21]\ttrain-auc:0.954114\ttrain-rmse:0.242394\n",
      "[22]\ttrain-auc:0.954989\ttrain-rmse:0.241233\n",
      "[23]\ttrain-auc:0.956323\ttrain-rmse:0.239628\n",
      "[24]\ttrain-auc:0.957493\ttrain-rmse:0.238387\n",
      "[25]\ttrain-auc:0.958679\ttrain-rmse:0.237007\n",
      "[26]\ttrain-auc:0.959416\ttrain-rmse:0.236133\n",
      "[27]\ttrain-auc:0.959829\ttrain-rmse:0.235709\n",
      "[28]\ttrain-auc:0.960445\ttrain-rmse:0.234966\n",
      "[29]\ttrain-auc:0.960786\ttrain-rmse:0.234521\n",
      "[30]\ttrain-auc:0.961002\ttrain-rmse:0.234152\n",
      "[31]\ttrain-auc:0.962267\ttrain-rmse:0.232453\n",
      "[32]\ttrain-auc:0.962518\ttrain-rmse:0.232126\n",
      "[33]\ttrain-auc:0.963385\ttrain-rmse:0.231367\n",
      "[34]\ttrain-auc:0.963803\ttrain-rmse:0.230529\n",
      "[35]\ttrain-auc:0.965376\ttrain-rmse:0.228868\n",
      "[36]\ttrain-auc:0.965508\ttrain-rmse:0.228651\n",
      "[37]\ttrain-auc:0.966017\ttrain-rmse:0.227945\n",
      "[38]\ttrain-auc:0.967229\ttrain-rmse:0.226101\n",
      "[39]\ttrain-auc:0.967402\ttrain-rmse:0.225807\n",
      "[40]\ttrain-auc:0.967768\ttrain-rmse:0.225321\n",
      "Working: 5\n",
      "[0]\ttrain-auc:0.907609+0.000297592\ttest-auc:0.888182+0.00583832\n",
      "[30]\ttrain-auc:0.988487+0.00104357\ttest-auc:0.937388+0.00268823\n",
      "[60]\ttrain-auc:0.997682+0.000508489\ttest-auc:0.936944+0.00248972\n",
      "[0]\ttrain-auc:0.905004\ttrain-rmse:0.38976\n",
      "[1]\ttrain-auc:0.923776\ttrain-rmse:0.322201\n",
      "[2]\ttrain-auc:0.933382\ttrain-rmse:0.279231\n",
      "[3]\ttrain-auc:0.938761\ttrain-rmse:0.251955\n",
      "[4]\ttrain-auc:0.942434\ttrain-rmse:0.235268\n",
      "[5]\ttrain-auc:0.946049\ttrain-rmse:0.225077\n",
      "[6]\ttrain-auc:0.949731\ttrain-rmse:0.216778\n",
      "[7]\ttrain-auc:0.951692\ttrain-rmse:0.212202\n",
      "[8]\ttrain-auc:0.954712\ttrain-rmse:0.208387\n",
      "[9]\ttrain-auc:0.956642\ttrain-rmse:0.205318\n",
      "[10]\ttrain-auc:0.958239\ttrain-rmse:0.203432\n",
      "[11]\ttrain-auc:0.960565\ttrain-rmse:0.200977\n",
      "[12]\ttrain-auc:0.962875\ttrain-rmse:0.199052\n",
      "[13]\ttrain-auc:0.964586\ttrain-rmse:0.196872\n",
      "[14]\ttrain-auc:0.966329\ttrain-rmse:0.194602\n",
      "[15]\ttrain-auc:0.967005\ttrain-rmse:0.193598\n",
      "[16]\ttrain-auc:0.968987\ttrain-rmse:0.191274\n",
      "[17]\ttrain-auc:0.970326\ttrain-rmse:0.189806\n",
      "[18]\ttrain-auc:0.971729\ttrain-rmse:0.187908\n",
      "[19]\ttrain-auc:0.972767\ttrain-rmse:0.186407\n",
      "[20]\ttrain-auc:0.973273\ttrain-rmse:0.185728\n",
      "[21]\ttrain-auc:0.974597\ttrain-rmse:0.183794\n",
      "[22]\ttrain-auc:0.975096\ttrain-rmse:0.182955\n",
      "[23]\ttrain-auc:0.976106\ttrain-rmse:0.181346\n",
      "[24]\ttrain-auc:0.977184\ttrain-rmse:0.179625\n",
      "[25]\ttrain-auc:0.977649\ttrain-rmse:0.178925\n",
      "[26]\ttrain-auc:0.978082\ttrain-rmse:0.178409\n",
      "[27]\ttrain-auc:0.978637\ttrain-rmse:0.177511\n",
      "[28]\ttrain-auc:0.979443\ttrain-rmse:0.176018\n",
      "[29]\ttrain-auc:0.980028\ttrain-rmse:0.174826\n",
      "[30]\ttrain-auc:0.980306\ttrain-rmse:0.174337\n",
      "[31]\ttrain-auc:0.980751\ttrain-rmse:0.173543\n",
      "[32]\ttrain-auc:0.981211\ttrain-rmse:0.172681\n",
      "[33]\ttrain-auc:0.981443\ttrain-rmse:0.172232\n",
      "[34]\ttrain-auc:0.982072\ttrain-rmse:0.170863\n",
      "[35]\ttrain-auc:0.982545\ttrain-rmse:0.170002\n",
      "[36]\ttrain-auc:0.983414\ttrain-rmse:0.168061\n",
      "[37]\ttrain-auc:0.984265\ttrain-rmse:0.166345\n",
      "[38]\ttrain-auc:0.984421\ttrain-rmse:0.165766\n",
      "[39]\ttrain-auc:0.985203\ttrain-rmse:0.164458\n",
      "[40]\ttrain-auc:0.985997\ttrain-rmse:0.162801\n",
      "[41]\ttrain-auc:0.986308\ttrain-rmse:0.162053\n",
      "[42]\ttrain-auc:0.986649\ttrain-rmse:0.160954\n",
      "Working: 6\n",
      "[0]\ttrain-auc:0.89653+0.000707124\ttest-auc:0.878713+0.00237524\n",
      "[30]\ttrain-auc:0.969101+0.000804862\ttest-auc:0.91641+0.00206925\n",
      "[60]\ttrain-auc:0.985173+0.000955158\ttest-auc:0.917141+0.00187309\n",
      "[90]\ttrain-auc:0.99397+0.000440433\ttest-auc:0.917014+0.00229048\n",
      "[0]\ttrain-auc:0.893912\ttrain-rmse:0.417446\n",
      "[1]\ttrain-auc:0.907425\ttrain-rmse:0.367925\n",
      "[2]\ttrain-auc:0.913953\ttrain-rmse:0.338332\n",
      "[3]\ttrain-auc:0.918681\ttrain-rmse:0.319779\n",
      "[4]\ttrain-auc:0.922\ttrain-rmse:0.307922\n",
      "[5]\ttrain-auc:0.924888\ttrain-rmse:0.300318\n",
      "[6]\ttrain-auc:0.928385\ttrain-rmse:0.29384\n",
      "[7]\ttrain-auc:0.930179\ttrain-rmse:0.29051\n",
      "[8]\ttrain-auc:0.932716\ttrain-rmse:0.286353\n",
      "[9]\ttrain-auc:0.935059\ttrain-rmse:0.283441\n",
      "[10]\ttrain-auc:0.936749\ttrain-rmse:0.281429\n",
      "[11]\ttrain-auc:0.938702\ttrain-rmse:0.278834\n",
      "[12]\ttrain-auc:0.94061\ttrain-rmse:0.276675\n",
      "[13]\ttrain-auc:0.942315\ttrain-rmse:0.274933\n",
      "[14]\ttrain-auc:0.943949\ttrain-rmse:0.27339\n",
      "[15]\ttrain-auc:0.946004\ttrain-rmse:0.271135\n",
      "[16]\ttrain-auc:0.948034\ttrain-rmse:0.268337\n",
      "[17]\ttrain-auc:0.949117\ttrain-rmse:0.266979\n",
      "[18]\ttrain-auc:0.949962\ttrain-rmse:0.266107\n",
      "[19]\ttrain-auc:0.951442\ttrain-rmse:0.264417\n",
      "[20]\ttrain-auc:0.953121\ttrain-rmse:0.26204\n",
      "[21]\ttrain-auc:0.954492\ttrain-rmse:0.259919\n",
      "[22]\ttrain-auc:0.955713\ttrain-rmse:0.258166\n",
      "[23]\ttrain-auc:0.95618\ttrain-rmse:0.257595\n",
      "[24]\ttrain-auc:0.956514\ttrain-rmse:0.257055\n",
      "[25]\ttrain-auc:0.956799\ttrain-rmse:0.256691\n",
      "[26]\ttrain-auc:0.957175\ttrain-rmse:0.256191\n",
      "[27]\ttrain-auc:0.958624\ttrain-rmse:0.254099\n",
      "[28]\ttrain-auc:0.959178\ttrain-rmse:0.253358\n",
      "[29]\ttrain-auc:0.959696\ttrain-rmse:0.252673\n",
      "[30]\ttrain-auc:0.960474\ttrain-rmse:0.251561\n",
      "[31]\ttrain-auc:0.960829\ttrain-rmse:0.251084\n",
      "[32]\ttrain-auc:0.960981\ttrain-rmse:0.250838\n",
      "[33]\ttrain-auc:0.961218\ttrain-rmse:0.250513\n",
      "[34]\ttrain-auc:0.961688\ttrain-rmse:0.249842\n",
      "[35]\ttrain-auc:0.962103\ttrain-rmse:0.249235\n",
      "[36]\ttrain-auc:0.962991\ttrain-rmse:0.247914\n",
      "[37]\ttrain-auc:0.963661\ttrain-rmse:0.246769\n",
      "[38]\ttrain-auc:0.964494\ttrain-rmse:0.245451\n",
      "[39]\ttrain-auc:0.964832\ttrain-rmse:0.244867\n",
      "[40]\ttrain-auc:0.965261\ttrain-rmse:0.244237\n",
      "[41]\ttrain-auc:0.966088\ttrain-rmse:0.242764\n",
      "[42]\ttrain-auc:0.967293\ttrain-rmse:0.240893\n",
      "[43]\ttrain-auc:0.967739\ttrain-rmse:0.240175\n",
      "[44]\ttrain-auc:0.968458\ttrain-rmse:0.239184\n",
      "[45]\ttrain-auc:0.969343\ttrain-rmse:0.23777\n",
      "[46]\ttrain-auc:0.969613\ttrain-rmse:0.237247\n",
      "[47]\ttrain-auc:0.970592\ttrain-rmse:0.235284\n",
      "[48]\ttrain-auc:0.970715\ttrain-rmse:0.235092\n",
      "[49]\ttrain-auc:0.971857\ttrain-rmse:0.233073\n",
      "[50]\ttrain-auc:0.971999\ttrain-rmse:0.232889\n",
      "[51]\ttrain-auc:0.972079\ttrain-rmse:0.232717\n",
      "[52]\ttrain-auc:0.97212\ttrain-rmse:0.232559\n",
      "[53]\ttrain-auc:0.972749\ttrain-rmse:0.231286\n",
      "[54]\ttrain-auc:0.972856\ttrain-rmse:0.231071\n",
      "[55]\ttrain-auc:0.973078\ttrain-rmse:0.230653\n",
      "[56]\ttrain-auc:0.973215\ttrain-rmse:0.23038\n",
      "[57]\ttrain-auc:0.973544\ttrain-rmse:0.229752\n",
      "[58]\ttrain-auc:0.973854\ttrain-rmse:0.229055\n",
      "[59]\ttrain-auc:0.974104\ttrain-rmse:0.228579\n",
      "[60]\ttrain-auc:0.974334\ttrain-rmse:0.22806\n",
      "[61]\ttrain-auc:0.974529\ttrain-rmse:0.227671\n",
      "[62]\ttrain-auc:0.974798\ttrain-rmse:0.227259\n",
      "[63]\ttrain-auc:0.975127\ttrain-rmse:0.226721\n",
      "[64]\ttrain-auc:0.97582\ttrain-rmse:0.22518\n",
      "[65]\ttrain-auc:0.97606\ttrain-rmse:0.224646\n",
      "[66]\ttrain-auc:0.976749\ttrain-rmse:0.223319\n",
      "[67]\ttrain-auc:0.976963\ttrain-rmse:0.22297\n",
      "[68]\ttrain-auc:0.977267\ttrain-rmse:0.2224\n",
      "[69]\ttrain-auc:0.977409\ttrain-rmse:0.222103\n",
      "[70]\ttrain-auc:0.977998\ttrain-rmse:0.221064\n",
      "[71]\ttrain-auc:0.978753\ttrain-rmse:0.219755\n",
      "[72]\ttrain-auc:0.979088\ttrain-rmse:0.219077\n",
      "[73]\ttrain-auc:0.979566\ttrain-rmse:0.217968\n",
      "[74]\ttrain-auc:0.979919\ttrain-rmse:0.217403\n",
      "[75]\ttrain-auc:0.979966\ttrain-rmse:0.217244\n",
      "[76]\ttrain-auc:0.980441\ttrain-rmse:0.216236\n",
      "[77]\ttrain-auc:0.980799\ttrain-rmse:0.215442\n",
      "Working: 7\n",
      "[0]\ttrain-auc:0.834014+0.00215395\ttest-auc:0.800943+0.00563103\n",
      "[30]\ttrain-auc:0.957829+0.00195441\ttest-auc:0.854551+0.003492\n",
      "[60]\ttrain-auc:0.98588+0.00161739\ttest-auc:0.856452+0.00360853\n",
      "[0]\ttrain-auc:0.834464\ttrain-rmse:0.406388\n",
      "[1]\ttrain-auc:0.851455\ttrain-rmse:0.350939\n",
      "[2]\ttrain-auc:0.863425\ttrain-rmse:0.317966\n",
      "[3]\ttrain-auc:0.871713\ttrain-rmse:0.298202\n",
      "[4]\ttrain-auc:0.876161\ttrain-rmse:0.286578\n",
      "[5]\ttrain-auc:0.881489\ttrain-rmse:0.279477\n",
      "[6]\ttrain-auc:0.885755\ttrain-rmse:0.274494\n",
      "[7]\ttrain-auc:0.891043\ttrain-rmse:0.270425\n",
      "[8]\ttrain-auc:0.894298\ttrain-rmse:0.268048\n",
      "[9]\ttrain-auc:0.896541\ttrain-rmse:0.266602\n",
      "[10]\ttrain-auc:0.899316\ttrain-rmse:0.265463\n",
      "[11]\ttrain-auc:0.903885\ttrain-rmse:0.262836\n",
      "[12]\ttrain-auc:0.907883\ttrain-rmse:0.260142\n",
      "[13]\ttrain-auc:0.911785\ttrain-rmse:0.258002\n",
      "[14]\ttrain-auc:0.91407\ttrain-rmse:0.256675\n",
      "[15]\ttrain-auc:0.917393\ttrain-rmse:0.254938\n",
      "[16]\ttrain-auc:0.918964\ttrain-rmse:0.254206\n",
      "[17]\ttrain-auc:0.922146\ttrain-rmse:0.252488\n",
      "[18]\ttrain-auc:0.924914\ttrain-rmse:0.250644\n",
      "[19]\ttrain-auc:0.92717\ttrain-rmse:0.249159\n",
      "[20]\ttrain-auc:0.929529\ttrain-rmse:0.247252\n",
      "[21]\ttrain-auc:0.93053\ttrain-rmse:0.246738\n",
      "[22]\ttrain-auc:0.932055\ttrain-rmse:0.24598\n",
      "[23]\ttrain-auc:0.933465\ttrain-rmse:0.245292\n",
      "[24]\ttrain-auc:0.935813\ttrain-rmse:0.243853\n",
      "[25]\ttrain-auc:0.936138\ttrain-rmse:0.24363\n",
      "[26]\ttrain-auc:0.937175\ttrain-rmse:0.242829\n",
      "[27]\ttrain-auc:0.937649\ttrain-rmse:0.24261\n",
      "[28]\ttrain-auc:0.939035\ttrain-rmse:0.241541\n",
      "[29]\ttrain-auc:0.940929\ttrain-rmse:0.240132\n",
      "[30]\ttrain-auc:0.943971\ttrain-rmse:0.238023\n",
      "[31]\ttrain-auc:0.945319\ttrain-rmse:0.237069\n",
      "[32]\ttrain-auc:0.945814\ttrain-rmse:0.236486\n",
      "[33]\ttrain-auc:0.947902\ttrain-rmse:0.234936\n",
      "[34]\ttrain-auc:0.949378\ttrain-rmse:0.233814\n",
      "[35]\ttrain-auc:0.949943\ttrain-rmse:0.233407\n",
      "[36]\ttrain-auc:0.950081\ttrain-rmse:0.233309\n",
      "[37]\ttrain-auc:0.951634\ttrain-rmse:0.231731\n",
      "[38]\ttrain-auc:0.953823\ttrain-rmse:0.229969\n",
      "[39]\ttrain-auc:0.955227\ttrain-rmse:0.228871\n",
      "[40]\ttrain-auc:0.956655\ttrain-rmse:0.227254\n",
      "[41]\ttrain-auc:0.957367\ttrain-rmse:0.226661\n",
      "[42]\ttrain-auc:0.958575\ttrain-rmse:0.225417\n",
      "[43]\ttrain-auc:0.959006\ttrain-rmse:0.22501\n",
      "[44]\ttrain-auc:0.959902\ttrain-rmse:0.224024\n",
      "[45]\ttrain-auc:0.961828\ttrain-rmse:0.222496\n",
      "[46]\ttrain-auc:0.962929\ttrain-rmse:0.221515\n",
      "[47]\ttrain-auc:0.963507\ttrain-rmse:0.22081\n",
      "[48]\ttrain-auc:0.964697\ttrain-rmse:0.219649\n",
      "[49]\ttrain-auc:0.965287\ttrain-rmse:0.219077\n",
      "[50]\ttrain-auc:0.966028\ttrain-rmse:0.218295\n",
      "[51]\ttrain-auc:0.966375\ttrain-rmse:0.217995\n",
      "[52]\ttrain-auc:0.96786\ttrain-rmse:0.216349\n",
      "Working: 8\n",
      "[0]\ttrain-auc:0.5+0\ttest-auc:0.5+0\n",
      "[30]\ttrain-auc:0.999758+0.000196659\ttest-auc:0.888816+0.00955561\n",
      "[0]\ttrain-auc:0.5\ttrain-rmse:0.357863\n",
      "[1]\ttrain-auc:0.741252\ttrain-rmse:0.263403\n",
      "[2]\ttrain-auc:0.858321\ttrain-rmse:0.198074\n",
      "[3]\ttrain-auc:0.882003\ttrain-rmse:0.152619\n",
      "[4]\ttrain-auc:0.905774\ttrain-rmse:0.121599\n",
      "[5]\ttrain-auc:0.914181\ttrain-rmse:0.100818\n",
      "[6]\ttrain-auc:0.923117\ttrain-rmse:0.087337\n",
      "[7]\ttrain-auc:0.933633\ttrain-rmse:0.078892\n",
      "[8]\ttrain-auc:0.939012\ttrain-rmse:0.073759\n",
      "[9]\ttrain-auc:0.951893\ttrain-rmse:0.070541\n",
      "[10]\ttrain-auc:0.959345\ttrain-rmse:0.068585\n",
      "[11]\ttrain-auc:0.967312\ttrain-rmse:0.067065\n",
      "[12]\ttrain-auc:0.971978\ttrain-rmse:0.066175\n",
      "[13]\ttrain-auc:0.97556\ttrain-rmse:0.065444\n",
      "[14]\ttrain-auc:0.980686\ttrain-rmse:0.064084\n",
      "[15]\ttrain-auc:0.982484\ttrain-rmse:0.063199\n",
      "[16]\ttrain-auc:0.986843\ttrain-rmse:0.062233\n",
      "[17]\ttrain-auc:0.988555\ttrain-rmse:0.061845\n",
      "[18]\ttrain-auc:0.989945\ttrain-rmse:0.061201\n",
      "[19]\ttrain-auc:0.991632\ttrain-rmse:0.060356\n",
      "[20]\ttrain-auc:0.992875\ttrain-rmse:0.059152\n",
      "[21]\ttrain-auc:0.994325\ttrain-rmse:0.057916\n",
      "[22]\ttrain-auc:0.995289\ttrain-rmse:0.056423\n",
      "[23]\ttrain-auc:0.996009\ttrain-rmse:0.055351\n",
      "[24]\ttrain-auc:0.996448\ttrain-rmse:0.054299\n",
      "[25]\ttrain-auc:0.996947\ttrain-rmse:0.052759\n",
      "[26]\ttrain-auc:0.997362\ttrain-rmse:0.051406\n",
      "[27]\ttrain-auc:0.997777\ttrain-rmse:0.050671\n",
      "[28]\ttrain-auc:0.998314\ttrain-rmse:0.049696\n",
      "[29]\ttrain-auc:0.998737\ttrain-rmse:0.04892\n",
      "[30]\ttrain-auc:0.999092\ttrain-rmse:0.047134\n",
      "[31]\ttrain-auc:0.99919\ttrain-rmse:0.046043\n",
      "Working: 9\n",
      "[0]\ttrain-auc:0.953829+0.00324265\ttest-auc:0.937038+0.00688193\n",
      "[30]\ttrain-auc:0.998982+9.62924e-05\ttest-auc:0.988999+0.00118839\n",
      "[60]\ttrain-auc:0.999931+7.03957e-06\ttest-auc:0.989854+0.000842776\n",
      "[90]\ttrain-auc:0.999999+4.71405e-07\ttest-auc:0.989995+0.000816847\n",
      "[120]\ttrain-auc:1+0\ttest-auc:0.990153+0.000856728\n",
      "[0]\ttrain-auc:0.952199\ttrain-rmse:0.368718\n",
      "[1]\ttrain-auc:0.97558\ttrain-rmse:0.282851\n",
      "[2]\ttrain-auc:0.978252\ttrain-rmse:0.224948\n",
      "[3]\ttrain-auc:0.981142\ttrain-rmse:0.185936\n",
      "[4]\ttrain-auc:0.986591\ttrain-rmse:0.159766\n",
      "[5]\ttrain-auc:0.988537\ttrain-rmse:0.142369\n",
      "[6]\ttrain-auc:0.989704\ttrain-rmse:0.130983\n",
      "[7]\ttrain-auc:0.990899\ttrain-rmse:0.123361\n",
      "[8]\ttrain-auc:0.991637\ttrain-rmse:0.11795\n",
      "[9]\ttrain-auc:0.993154\ttrain-rmse:0.113744\n",
      "[10]\ttrain-auc:0.994394\ttrain-rmse:0.11092\n",
      "[11]\ttrain-auc:0.994988\ttrain-rmse:0.108639\n",
      "[12]\ttrain-auc:0.995606\ttrain-rmse:0.106645\n",
      "[13]\ttrain-auc:0.99616\ttrain-rmse:0.104878\n",
      "[14]\ttrain-auc:0.996369\ttrain-rmse:0.103979\n",
      "[15]\ttrain-auc:0.996485\ttrain-rmse:0.103078\n",
      "[16]\ttrain-auc:0.996644\ttrain-rmse:0.102086\n",
      "[17]\ttrain-auc:0.996794\ttrain-rmse:0.101338\n",
      "[18]\ttrain-auc:0.996949\ttrain-rmse:0.100058\n",
      "[19]\ttrain-auc:0.99698\ttrain-rmse:0.099495\n",
      "[20]\ttrain-auc:0.997064\ttrain-rmse:0.098989\n",
      "[21]\ttrain-auc:0.997177\ttrain-rmse:0.09818\n",
      "[22]\ttrain-auc:0.997303\ttrain-rmse:0.097036\n",
      "[23]\ttrain-auc:0.997403\ttrain-rmse:0.095955\n",
      "[24]\ttrain-auc:0.997487\ttrain-rmse:0.095055\n",
      "[25]\ttrain-auc:0.997545\ttrain-rmse:0.094419\n",
      "[26]\ttrain-auc:0.997781\ttrain-rmse:0.09247\n",
      "[27]\ttrain-auc:0.997906\ttrain-rmse:0.091252\n",
      "[28]\ttrain-auc:0.997943\ttrain-rmse:0.090803\n",
      "[29]\ttrain-auc:0.998116\ttrain-rmse:0.089306\n",
      "[30]\ttrain-auc:0.998232\ttrain-rmse:0.087945\n",
      "[31]\ttrain-auc:0.998319\ttrain-rmse:0.086943\n",
      "[32]\ttrain-auc:0.998356\ttrain-rmse:0.086581\n",
      "[33]\ttrain-auc:0.998427\ttrain-rmse:0.085678\n",
      "[34]\ttrain-auc:0.998543\ttrain-rmse:0.084344\n",
      "[35]\ttrain-auc:0.998619\ttrain-rmse:0.083587\n",
      "[36]\ttrain-auc:0.998687\ttrain-rmse:0.08251\n",
      "[37]\ttrain-auc:0.99877\ttrain-rmse:0.081617\n",
      "[38]\ttrain-auc:0.998829\ttrain-rmse:0.080872\n",
      "[39]\ttrain-auc:0.998943\ttrain-rmse:0.079066\n",
      "[40]\ttrain-auc:0.998998\ttrain-rmse:0.078263\n",
      "[41]\ttrain-auc:0.99905\ttrain-rmse:0.077338\n",
      "[42]\ttrain-auc:0.999103\ttrain-rmse:0.076498\n",
      "[43]\ttrain-auc:0.999155\ttrain-rmse:0.075599\n",
      "[44]\ttrain-auc:0.999179\ttrain-rmse:0.075078\n",
      "[45]\ttrain-auc:0.999222\ttrain-rmse:0.074423\n",
      "[46]\ttrain-auc:0.999301\ttrain-rmse:0.073099\n",
      "[47]\ttrain-auc:0.999336\ttrain-rmse:0.07255\n",
      "[48]\ttrain-auc:0.999349\ttrain-rmse:0.072203\n",
      "[49]\ttrain-auc:0.999366\ttrain-rmse:0.071797\n",
      "[50]\ttrain-auc:0.999434\ttrain-rmse:0.070506\n",
      "[51]\ttrain-auc:0.999441\ttrain-rmse:0.070274\n",
      "[52]\ttrain-auc:0.999477\ttrain-rmse:0.069553\n",
      "[53]\ttrain-auc:0.999538\ttrain-rmse:0.068088\n",
      "[54]\ttrain-auc:0.999571\ttrain-rmse:0.067225\n",
      "[55]\ttrain-auc:0.999602\ttrain-rmse:0.06623\n",
      "[56]\ttrain-auc:0.999642\ttrain-rmse:0.065088\n",
      "[57]\ttrain-auc:0.999649\ttrain-rmse:0.064829\n",
      "[58]\ttrain-auc:0.999684\ttrain-rmse:0.063829\n",
      "[59]\ttrain-auc:0.999712\ttrain-rmse:0.063095\n",
      "[60]\ttrain-auc:0.999726\ttrain-rmse:0.062671\n",
      "[61]\ttrain-auc:0.999746\ttrain-rmse:0.061752\n",
      "[62]\ttrain-auc:0.999767\ttrain-rmse:0.060979\n",
      "[63]\ttrain-auc:0.999773\ttrain-rmse:0.060696\n",
      "[64]\ttrain-auc:0.999781\ttrain-rmse:0.060415\n",
      "[65]\ttrain-auc:0.999787\ttrain-rmse:0.060109\n",
      "[66]\ttrain-auc:0.999796\ttrain-rmse:0.059637\n",
      "[67]\ttrain-auc:0.999803\ttrain-rmse:0.059359\n",
      "[68]\ttrain-auc:0.999806\ttrain-rmse:0.059208\n",
      "[69]\ttrain-auc:0.999813\ttrain-rmse:0.058733\n",
      "[70]\ttrain-auc:0.999834\ttrain-rmse:0.05774\n",
      "[71]\ttrain-auc:0.999843\ttrain-rmse:0.057126\n",
      "[72]\ttrain-auc:0.999848\ttrain-rmse:0.056867\n",
      "[73]\ttrain-auc:0.999858\ttrain-rmse:0.056152\n",
      "[74]\ttrain-auc:0.99987\ttrain-rmse:0.055517\n",
      "[75]\ttrain-auc:0.999881\ttrain-rmse:0.054873\n",
      "[76]\ttrain-auc:0.99989\ttrain-rmse:0.054284\n",
      "[77]\ttrain-auc:0.999902\ttrain-rmse:0.053727\n",
      "[78]\ttrain-auc:0.999908\ttrain-rmse:0.053128\n",
      "[79]\ttrain-auc:0.999919\ttrain-rmse:0.05228\n",
      "[80]\ttrain-auc:0.999922\ttrain-rmse:0.051999\n",
      "[81]\ttrain-auc:0.99993\ttrain-rmse:0.051424\n",
      "[82]\ttrain-auc:0.999932\ttrain-rmse:0.051168\n",
      "[83]\ttrain-auc:0.999938\ttrain-rmse:0.050629\n",
      "[84]\ttrain-auc:0.999941\ttrain-rmse:0.050264\n",
      "[85]\ttrain-auc:0.999949\ttrain-rmse:0.049409\n",
      "[86]\ttrain-auc:0.999956\ttrain-rmse:0.048568\n",
      "[87]\ttrain-auc:0.999957\ttrain-rmse:0.048429\n",
      "[88]\ttrain-auc:0.999959\ttrain-rmse:0.04806\n",
      "[89]\ttrain-auc:0.999965\ttrain-rmse:0.047312\n",
      "[90]\ttrain-auc:0.999971\ttrain-rmse:0.046606\n",
      "[91]\ttrain-auc:0.999976\ttrain-rmse:0.04595\n",
      "[92]\ttrain-auc:0.99998\ttrain-rmse:0.045219\n",
      "[93]\ttrain-auc:0.999981\ttrain-rmse:0.044968\n",
      "[94]\ttrain-auc:0.999982\ttrain-rmse:0.044708\n",
      "[95]\ttrain-auc:0.999983\ttrain-rmse:0.044351\n",
      "[96]\ttrain-auc:0.999986\ttrain-rmse:0.043661\n",
      "[97]\ttrain-auc:0.999987\ttrain-rmse:0.043398\n",
      "[98]\ttrain-auc:0.999988\ttrain-rmse:0.043015\n",
      "[99]\ttrain-auc:0.999989\ttrain-rmse:0.042547\n",
      "[100]\ttrain-auc:0.999992\ttrain-rmse:0.041928\n",
      "[101]\ttrain-auc:0.999992\ttrain-rmse:0.041645\n",
      "[102]\ttrain-auc:0.999992\ttrain-rmse:0.041406\n",
      "[103]\ttrain-auc:0.999992\ttrain-rmse:0.04115\n",
      "[104]\ttrain-auc:0.999993\ttrain-rmse:0.040533\n",
      "[105]\ttrain-auc:0.999994\ttrain-rmse:0.040115\n",
      "[106]\ttrain-auc:0.999996\ttrain-rmse:0.039699\n",
      "[107]\ttrain-auc:0.999996\ttrain-rmse:0.039102\n",
      "[108]\ttrain-auc:0.999997\ttrain-rmse:0.038737\n",
      "[109]\ttrain-auc:0.999997\ttrain-rmse:0.038634\n",
      "[110]\ttrain-auc:0.999997\ttrain-rmse:0.038452\n",
      "[111]\ttrain-auc:0.999998\ttrain-rmse:0.037773\n",
      "[112]\ttrain-auc:0.999998\ttrain-rmse:0.037602\n",
      "[113]\ttrain-auc:0.999998\ttrain-rmse:0.037331\n",
      "[114]\ttrain-auc:0.999999\ttrain-rmse:0.036897\n",
      "[115]\ttrain-auc:0.999999\ttrain-rmse:0.036691\n",
      "[116]\ttrain-auc:0.999999\ttrain-rmse:0.03632\n",
      "[117]\ttrain-auc:0.999999\ttrain-rmse:0.036042\n",
      "[118]\ttrain-auc:0.999999\ttrain-rmse:0.035752\n",
      "Working: 10\n",
      "[0]\ttrain-auc:0.951199+0.00172589\ttest-auc:0.939777+0.00200949\n",
      "[30]\ttrain-auc:0.996393+0.000159337\ttest-auc:0.977763+0.00103695\n",
      "[60]\ttrain-auc:0.999431+7.39504e-05\ttest-auc:0.978765+0.00119909\n",
      "[90]\ttrain-auc:0.999942+1.94422e-05\ttest-auc:0.979344+0.0013679\n",
      "[120]\ttrain-auc:1+0\ttest-auc:0.979764+0.00127698\n",
      "[150]\ttrain-auc:1+0\ttest-auc:0.980073+0.00130094\n",
      "[180]\ttrain-auc:1+0\ttest-auc:0.980371+0.00120438\n",
      "[210]\ttrain-auc:1+0\ttest-auc:0.980612+0.00122465\n",
      "[240]\ttrain-auc:1+0\ttest-auc:0.980694+0.00138021\n",
      "[270]\ttrain-auc:1+0\ttest-auc:0.980813+0.00132629\n",
      "[300]\ttrain-auc:1+0\ttest-auc:0.980955+0.00127943\n",
      "[330]\ttrain-auc:1+0\ttest-auc:0.981115+0.0011911\n",
      "[360]\ttrain-auc:1+0\ttest-auc:0.981208+0.00117839\n",
      "[390]\ttrain-auc:1+0\ttest-auc:0.98127+0.00117337\n",
      "[420]\ttrain-auc:1+0\ttest-auc:0.981317+0.00118406\n",
      "[0]\ttrain-auc:0.950813\ttrain-rmse:0.391573\n",
      "[1]\ttrain-auc:0.962338\ttrain-rmse:0.32478\n",
      "[2]\ttrain-auc:0.969995\ttrain-rmse:0.277442\n",
      "[3]\ttrain-auc:0.974786\ttrain-rmse:0.246917\n",
      "[4]\ttrain-auc:0.977223\ttrain-rmse:0.226621\n",
      "[5]\ttrain-auc:0.978839\ttrain-rmse:0.213323\n",
      "[6]\ttrain-auc:0.980393\ttrain-rmse:0.204232\n",
      "[7]\ttrain-auc:0.982069\ttrain-rmse:0.196272\n",
      "[8]\ttrain-auc:0.983304\ttrain-rmse:0.191608\n",
      "[9]\ttrain-auc:0.984141\ttrain-rmse:0.187319\n",
      "[10]\ttrain-auc:0.985046\ttrain-rmse:0.183895\n",
      "[11]\ttrain-auc:0.986046\ttrain-rmse:0.179391\n",
      "[12]\ttrain-auc:0.986904\ttrain-rmse:0.175786\n",
      "[13]\ttrain-auc:0.987639\ttrain-rmse:0.172804\n",
      "[14]\ttrain-auc:0.988467\ttrain-rmse:0.170645\n",
      "[15]\ttrain-auc:0.98937\ttrain-rmse:0.167575\n",
      "[16]\ttrain-auc:0.990039\ttrain-rmse:0.165159\n",
      "[17]\ttrain-auc:0.990682\ttrain-rmse:0.163005\n",
      "[18]\ttrain-auc:0.991089\ttrain-rmse:0.161317\n",
      "[19]\ttrain-auc:0.991646\ttrain-rmse:0.158784\n",
      "[20]\ttrain-auc:0.992077\ttrain-rmse:0.156562\n",
      "[21]\ttrain-auc:0.99223\ttrain-rmse:0.155794\n",
      "[22]\ttrain-auc:0.992522\ttrain-rmse:0.154473\n",
      "[23]\ttrain-auc:0.992866\ttrain-rmse:0.152598\n",
      "[24]\ttrain-auc:0.993187\ttrain-rmse:0.15116\n",
      "[25]\ttrain-auc:0.993312\ttrain-rmse:0.150399\n",
      "[26]\ttrain-auc:0.993631\ttrain-rmse:0.149124\n",
      "[27]\ttrain-auc:0.993742\ttrain-rmse:0.14848\n",
      "[28]\ttrain-auc:0.994083\ttrain-rmse:0.14665\n",
      "[29]\ttrain-auc:0.994261\ttrain-rmse:0.145791\n",
      "[30]\ttrain-auc:0.99456\ttrain-rmse:0.144252\n",
      "[31]\ttrain-auc:0.994697\ttrain-rmse:0.143463\n",
      "[32]\ttrain-auc:0.994771\ttrain-rmse:0.142862\n",
      "[33]\ttrain-auc:0.995055\ttrain-rmse:0.141272\n",
      "[34]\ttrain-auc:0.99544\ttrain-rmse:0.139409\n",
      "[35]\ttrain-auc:0.995753\ttrain-rmse:0.137184\n",
      "[36]\ttrain-auc:0.995992\ttrain-rmse:0.135499\n",
      "[37]\ttrain-auc:0.996185\ttrain-rmse:0.133987\n",
      "[38]\ttrain-auc:0.996411\ttrain-rmse:0.132191\n",
      "[39]\ttrain-auc:0.996602\ttrain-rmse:0.131224\n",
      "[40]\ttrain-auc:0.996686\ttrain-rmse:0.130349\n",
      "[41]\ttrain-auc:0.996857\ttrain-rmse:0.128556\n",
      "[42]\ttrain-auc:0.997025\ttrain-rmse:0.126944\n",
      "[43]\ttrain-auc:0.997076\ttrain-rmse:0.12636\n",
      "[44]\ttrain-auc:0.997163\ttrain-rmse:0.125407\n",
      "[45]\ttrain-auc:0.997196\ttrain-rmse:0.125162\n",
      "[46]\ttrain-auc:0.997232\ttrain-rmse:0.124673\n",
      "[47]\ttrain-auc:0.997269\ttrain-rmse:0.124218\n",
      "[48]\ttrain-auc:0.997352\ttrain-rmse:0.123514\n",
      "[49]\ttrain-auc:0.997529\ttrain-rmse:0.122054\n",
      "[50]\ttrain-auc:0.997738\ttrain-rmse:0.120227\n",
      "[51]\ttrain-auc:0.99777\ttrain-rmse:0.119856\n",
      "[52]\ttrain-auc:0.997799\ttrain-rmse:0.119594\n",
      "[53]\ttrain-auc:0.997947\ttrain-rmse:0.117658\n",
      "[54]\ttrain-auc:0.998042\ttrain-rmse:0.116461\n",
      "[55]\ttrain-auc:0.998074\ttrain-rmse:0.116103\n",
      "[56]\ttrain-auc:0.998129\ttrain-rmse:0.11538\n",
      "[57]\ttrain-auc:0.998207\ttrain-rmse:0.11444\n",
      "[58]\ttrain-auc:0.998292\ttrain-rmse:0.113276\n",
      "[59]\ttrain-auc:0.998329\ttrain-rmse:0.112673\n",
      "[60]\ttrain-auc:0.998426\ttrain-rmse:0.111311\n",
      "[61]\ttrain-auc:0.998497\ttrain-rmse:0.110373\n",
      "[62]\ttrain-auc:0.998536\ttrain-rmse:0.109646\n",
      "[63]\ttrain-auc:0.998617\ttrain-rmse:0.108353\n",
      "[64]\ttrain-auc:0.998653\ttrain-rmse:0.107617\n",
      "[65]\ttrain-auc:0.998702\ttrain-rmse:0.106936\n",
      "[66]\ttrain-auc:0.998752\ttrain-rmse:0.10633\n",
      "[67]\ttrain-auc:0.998765\ttrain-rmse:0.105993\n",
      "[68]\ttrain-auc:0.998819\ttrain-rmse:0.104943\n",
      "[69]\ttrain-auc:0.998844\ttrain-rmse:0.104499\n",
      "[70]\ttrain-auc:0.998877\ttrain-rmse:0.103811\n",
      "[71]\ttrain-auc:0.998939\ttrain-rmse:0.1028\n",
      "[72]\ttrain-auc:0.999018\ttrain-rmse:0.101345\n",
      "[73]\ttrain-auc:0.999069\ttrain-rmse:0.099978\n",
      "[74]\ttrain-auc:0.999147\ttrain-rmse:0.098378\n",
      "[75]\ttrain-auc:0.99919\ttrain-rmse:0.097617\n",
      "[76]\ttrain-auc:0.999232\ttrain-rmse:0.096717\n",
      "[77]\ttrain-auc:0.999265\ttrain-rmse:0.095738\n",
      "[78]\ttrain-auc:0.999314\ttrain-rmse:0.094682\n",
      "[79]\ttrain-auc:0.999318\ttrain-rmse:0.094484\n",
      "[80]\ttrain-auc:0.999331\ttrain-rmse:0.09404\n",
      "[81]\ttrain-auc:0.999393\ttrain-rmse:0.092559\n",
      "[82]\ttrain-auc:0.999446\ttrain-rmse:0.091377\n",
      "[83]\ttrain-auc:0.999471\ttrain-rmse:0.090622\n",
      "[84]\ttrain-auc:0.99951\ttrain-rmse:0.089738\n",
      "[85]\ttrain-auc:0.999516\ttrain-rmse:0.089436\n",
      "[86]\ttrain-auc:0.999517\ttrain-rmse:0.089317\n",
      "[87]\ttrain-auc:0.999531\ttrain-rmse:0.088895\n",
      "[88]\ttrain-auc:0.999532\ttrain-rmse:0.088789\n",
      "[89]\ttrain-auc:0.999546\ttrain-rmse:0.088204\n",
      "[90]\ttrain-auc:0.999555\ttrain-rmse:0.08785\n",
      "[91]\ttrain-auc:0.999561\ttrain-rmse:0.087582\n",
      "[92]\ttrain-auc:0.999578\ttrain-rmse:0.086836\n",
      "[93]\ttrain-auc:0.999583\ttrain-rmse:0.086644\n",
      "[94]\ttrain-auc:0.999608\ttrain-rmse:0.085651\n",
      "[95]\ttrain-auc:0.999625\ttrain-rmse:0.085018\n",
      "[96]\ttrain-auc:0.999634\ttrain-rmse:0.084701\n",
      "[97]\ttrain-auc:0.999659\ttrain-rmse:0.083866\n",
      "[98]\ttrain-auc:0.99968\ttrain-rmse:0.082988\n",
      "[99]\ttrain-auc:0.999707\ttrain-rmse:0.08201\n",
      "[100]\ttrain-auc:0.999712\ttrain-rmse:0.081676\n",
      "[101]\ttrain-auc:0.99975\ttrain-rmse:0.080261\n",
      "[102]\ttrain-auc:0.999772\ttrain-rmse:0.079237\n",
      "[103]\ttrain-auc:0.999786\ttrain-rmse:0.078326\n",
      "[104]\ttrain-auc:0.999789\ttrain-rmse:0.078042\n",
      "[105]\ttrain-auc:0.999794\ttrain-rmse:0.07764\n",
      "[106]\ttrain-auc:0.999795\ttrain-rmse:0.077536\n",
      "[107]\ttrain-auc:0.999797\ttrain-rmse:0.077325\n",
      "[108]\ttrain-auc:0.99982\ttrain-rmse:0.07626\n",
      "[109]\ttrain-auc:0.999845\ttrain-rmse:0.074677\n",
      "[110]\ttrain-auc:0.999869\ttrain-rmse:0.07342\n",
      "[111]\ttrain-auc:0.999886\ttrain-rmse:0.072331\n",
      "[112]\ttrain-auc:0.999895\ttrain-rmse:0.071616\n",
      "[113]\ttrain-auc:0.999907\ttrain-rmse:0.070648\n",
      "[114]\ttrain-auc:0.999911\ttrain-rmse:0.07005\n",
      "[115]\ttrain-auc:0.999917\ttrain-rmse:0.069548\n",
      "[116]\ttrain-auc:0.999924\ttrain-rmse:0.068636\n",
      "[117]\ttrain-auc:0.999934\ttrain-rmse:0.067603\n",
      "[118]\ttrain-auc:0.999941\ttrain-rmse:0.066275\n",
      "[119]\ttrain-auc:0.999944\ttrain-rmse:0.065707\n",
      "[120]\ttrain-auc:0.999952\ttrain-rmse:0.064509\n",
      "[121]\ttrain-auc:0.999958\ttrain-rmse:0.063318\n",
      "[122]\ttrain-auc:0.999961\ttrain-rmse:0.062618\n",
      "[123]\ttrain-auc:0.999966\ttrain-rmse:0.061478\n",
      "[124]\ttrain-auc:0.999967\ttrain-rmse:0.061266\n",
      "[125]\ttrain-auc:0.999971\ttrain-rmse:0.06047\n",
      "[126]\ttrain-auc:0.999972\ttrain-rmse:0.059889\n",
      "[127]\ttrain-auc:0.999973\ttrain-rmse:0.059445\n",
      "[128]\ttrain-auc:0.999974\ttrain-rmse:0.059247\n",
      "[129]\ttrain-auc:0.999976\ttrain-rmse:0.05858\n",
      "[130]\ttrain-auc:0.999977\ttrain-rmse:0.058287\n",
      "[131]\ttrain-auc:0.999977\ttrain-rmse:0.058148\n",
      "[132]\ttrain-auc:0.999979\ttrain-rmse:0.057572\n",
      "[133]\ttrain-auc:0.99998\ttrain-rmse:0.056741\n",
      "[134]\ttrain-auc:0.999982\ttrain-rmse:0.056185\n",
      "[135]\ttrain-auc:0.999985\ttrain-rmse:0.055232\n",
      "[136]\ttrain-auc:0.999985\ttrain-rmse:0.055077\n",
      "[137]\ttrain-auc:0.999986\ttrain-rmse:0.054214\n",
      "[138]\ttrain-auc:0.99999\ttrain-rmse:0.053083\n",
      "[139]\ttrain-auc:0.99999\ttrain-rmse:0.05288\n",
      "[140]\ttrain-auc:0.999991\ttrain-rmse:0.052475\n",
      "[141]\ttrain-auc:0.999993\ttrain-rmse:0.05162\n",
      "[142]\ttrain-auc:0.999993\ttrain-rmse:0.051442\n",
      "[143]\ttrain-auc:0.999993\ttrain-rmse:0.051257\n",
      "[144]\ttrain-auc:0.999994\ttrain-rmse:0.051095\n",
      "[145]\ttrain-auc:0.999994\ttrain-rmse:0.050847\n",
      "[146]\ttrain-auc:0.999995\ttrain-rmse:0.050549\n",
      "[147]\ttrain-auc:0.999995\ttrain-rmse:0.050415\n",
      "[148]\ttrain-auc:0.999996\ttrain-rmse:0.049728\n",
      "[149]\ttrain-auc:0.999996\ttrain-rmse:0.049416\n",
      "[150]\ttrain-auc:0.999996\ttrain-rmse:0.049003\n",
      "[151]\ttrain-auc:0.999997\ttrain-rmse:0.048405\n",
      "[152]\ttrain-auc:0.999997\ttrain-rmse:0.04807\n",
      "[153]\ttrain-auc:0.999997\ttrain-rmse:0.047863\n",
      "[154]\ttrain-auc:0.999998\ttrain-rmse:0.047109\n",
      "[155]\ttrain-auc:0.999998\ttrain-rmse:0.046549\n",
      "[156]\ttrain-auc:0.999998\ttrain-rmse:0.045929\n",
      "[157]\ttrain-auc:0.999999\ttrain-rmse:0.045081\n",
      "[158]\ttrain-auc:0.999999\ttrain-rmse:0.044641\n",
      "[159]\ttrain-auc:0.999999\ttrain-rmse:0.044408\n",
      "[160]\ttrain-auc:0.999999\ttrain-rmse:0.044229\n",
      "[161]\ttrain-auc:0.999999\ttrain-rmse:0.043406\n",
      "[162]\ttrain-auc:1\ttrain-rmse:0.042932\n",
      "[163]\ttrain-auc:1\ttrain-rmse:0.042411\n",
      "[164]\ttrain-auc:1\ttrain-rmse:0.041632\n",
      "[165]\ttrain-auc:1\ttrain-rmse:0.041413\n",
      "[166]\ttrain-auc:1\ttrain-rmse:0.040911\n",
      "[167]\ttrain-auc:1\ttrain-rmse:0.040818\n",
      "[168]\ttrain-auc:1\ttrain-rmse:0.040632\n",
      "[169]\ttrain-auc:1\ttrain-rmse:0.040464\n",
      "[170]\ttrain-auc:1\ttrain-rmse:0.040181\n",
      "[171]\ttrain-auc:1\ttrain-rmse:0.039753\n",
      "[172]\ttrain-auc:1\ttrain-rmse:0.039542\n",
      "[173]\ttrain-auc:1\ttrain-rmse:0.03912\n",
      "[174]\ttrain-auc:1\ttrain-rmse:0.038527\n",
      "[175]\ttrain-auc:1\ttrain-rmse:0.038332\n",
      "[176]\ttrain-auc:1\ttrain-rmse:0.038243\n",
      "[177]\ttrain-auc:1\ttrain-rmse:0.037682\n",
      "[178]\ttrain-auc:1\ttrain-rmse:0.037313\n",
      "[179]\ttrain-auc:1\ttrain-rmse:0.036731\n",
      "[180]\ttrain-auc:1\ttrain-rmse:0.036621\n",
      "[181]\ttrain-auc:1\ttrain-rmse:0.03637\n",
      "[182]\ttrain-auc:1\ttrain-rmse:0.035727\n",
      "[183]\ttrain-auc:1\ttrain-rmse:0.035078\n",
      "[184]\ttrain-auc:1\ttrain-rmse:0.034544\n",
      "[185]\ttrain-auc:1\ttrain-rmse:0.034178\n",
      "[186]\ttrain-auc:1\ttrain-rmse:0.033595\n",
      "[187]\ttrain-auc:1\ttrain-rmse:0.033428\n",
      "[188]\ttrain-auc:1\ttrain-rmse:0.03309\n",
      "[189]\ttrain-auc:1\ttrain-rmse:0.032693\n",
      "[190]\ttrain-auc:1\ttrain-rmse:0.032491\n",
      "[191]\ttrain-auc:1\ttrain-rmse:0.032385\n",
      "[192]\ttrain-auc:1\ttrain-rmse:0.032072\n",
      "[193]\ttrain-auc:1\ttrain-rmse:0.031937\n",
      "[194]\ttrain-auc:1\ttrain-rmse:0.031681\n",
      "[195]\ttrain-auc:1\ttrain-rmse:0.031417\n",
      "[196]\ttrain-auc:1\ttrain-rmse:0.031279\n",
      "[197]\ttrain-auc:1\ttrain-rmse:0.031058\n",
      "[198]\ttrain-auc:1\ttrain-rmse:0.03051\n",
      "[199]\ttrain-auc:1\ttrain-rmse:0.030338\n",
      "[200]\ttrain-auc:1\ttrain-rmse:0.030038\n",
      "[201]\ttrain-auc:1\ttrain-rmse:0.029863\n",
      "[202]\ttrain-auc:1\ttrain-rmse:0.029435\n",
      "[203]\ttrain-auc:1\ttrain-rmse:0.029201\n",
      "[204]\ttrain-auc:1\ttrain-rmse:0.029112\n",
      "[205]\ttrain-auc:1\ttrain-rmse:0.028566\n",
      "[206]\ttrain-auc:1\ttrain-rmse:0.028496\n",
      "[207]\ttrain-auc:1\ttrain-rmse:0.028241\n",
      "[208]\ttrain-auc:1\ttrain-rmse:0.027914\n",
      "[209]\ttrain-auc:1\ttrain-rmse:0.027576\n",
      "[210]\ttrain-auc:1\ttrain-rmse:0.027146\n",
      "[211]\ttrain-auc:1\ttrain-rmse:0.026893\n",
      "[212]\ttrain-auc:1\ttrain-rmse:0.026746\n",
      "[213]\ttrain-auc:1\ttrain-rmse:0.026381\n",
      "[214]\ttrain-auc:1\ttrain-rmse:0.025992\n",
      "[215]\ttrain-auc:1\ttrain-rmse:0.025893\n",
      "[216]\ttrain-auc:1\ttrain-rmse:0.025594\n",
      "[217]\ttrain-auc:1\ttrain-rmse:0.025315\n",
      "[218]\ttrain-auc:1\ttrain-rmse:0.025024\n",
      "[219]\ttrain-auc:1\ttrain-rmse:0.024814\n",
      "[220]\ttrain-auc:1\ttrain-rmse:0.024677\n",
      "[221]\ttrain-auc:1\ttrain-rmse:0.024198\n",
      "[222]\ttrain-auc:1\ttrain-rmse:0.024054\n",
      "[223]\ttrain-auc:1\ttrain-rmse:0.023945\n",
      "[224]\ttrain-auc:1\ttrain-rmse:0.023746\n",
      "[225]\ttrain-auc:1\ttrain-rmse:0.023333\n",
      "[226]\ttrain-auc:1\ttrain-rmse:0.02324\n",
      "[227]\ttrain-auc:1\ttrain-rmse:0.023117\n",
      "[228]\ttrain-auc:1\ttrain-rmse:0.022867\n",
      "[229]\ttrain-auc:1\ttrain-rmse:0.022729\n",
      "[230]\ttrain-auc:1\ttrain-rmse:0.02255\n",
      "[231]\ttrain-auc:1\ttrain-rmse:0.022333\n",
      "[232]\ttrain-auc:1\ttrain-rmse:0.022264\n",
      "[233]\ttrain-auc:1\ttrain-rmse:0.0219\n",
      "[234]\ttrain-auc:1\ttrain-rmse:0.021609\n",
      "[235]\ttrain-auc:1\ttrain-rmse:0.021513\n",
      "[236]\ttrain-auc:1\ttrain-rmse:0.021388\n",
      "[237]\ttrain-auc:1\ttrain-rmse:0.021342\n",
      "[238]\ttrain-auc:1\ttrain-rmse:0.02125\n",
      "[239]\ttrain-auc:1\ttrain-rmse:0.021106\n",
      "[240]\ttrain-auc:1\ttrain-rmse:0.020956\n",
      "[241]\ttrain-auc:1\ttrain-rmse:0.02083\n",
      "[242]\ttrain-auc:1\ttrain-rmse:0.020725\n",
      "[243]\ttrain-auc:1\ttrain-rmse:0.020633\n",
      "[244]\ttrain-auc:1\ttrain-rmse:0.020365\n",
      "[245]\ttrain-auc:1\ttrain-rmse:0.020211\n",
      "[246]\ttrain-auc:1\ttrain-rmse:0.020155\n",
      "[247]\ttrain-auc:1\ttrain-rmse:0.02012\n",
      "[248]\ttrain-auc:1\ttrain-rmse:0.020025\n",
      "[249]\ttrain-auc:1\ttrain-rmse:0.019816\n",
      "[250]\ttrain-auc:1\ttrain-rmse:0.019643\n",
      "[251]\ttrain-auc:1\ttrain-rmse:0.019621\n",
      "[252]\ttrain-auc:1\ttrain-rmse:0.019473\n",
      "[253]\ttrain-auc:1\ttrain-rmse:0.019245\n",
      "[254]\ttrain-auc:1\ttrain-rmse:0.018993\n",
      "[255]\ttrain-auc:1\ttrain-rmse:0.018749\n",
      "[256]\ttrain-auc:1\ttrain-rmse:0.018696\n",
      "[257]\ttrain-auc:1\ttrain-rmse:0.018607\n",
      "[258]\ttrain-auc:1\ttrain-rmse:0.018574\n",
      "[259]\ttrain-auc:1\ttrain-rmse:0.018522\n",
      "[260]\ttrain-auc:1\ttrain-rmse:0.018267\n",
      "[261]\ttrain-auc:1\ttrain-rmse:0.018068\n",
      "[262]\ttrain-auc:1\ttrain-rmse:0.017921\n",
      "[263]\ttrain-auc:1\ttrain-rmse:0.017791\n",
      "[264]\ttrain-auc:1\ttrain-rmse:0.017561\n",
      "[265]\ttrain-auc:1\ttrain-rmse:0.017322\n",
      "[266]\ttrain-auc:1\ttrain-rmse:0.017272\n",
      "[267]\ttrain-auc:1\ttrain-rmse:0.017218\n",
      "[268]\ttrain-auc:1\ttrain-rmse:0.017087\n",
      "[269]\ttrain-auc:1\ttrain-rmse:0.01693\n",
      "[270]\ttrain-auc:1\ttrain-rmse:0.016788\n",
      "[271]\ttrain-auc:1\ttrain-rmse:0.016669\n",
      "[272]\ttrain-auc:1\ttrain-rmse:0.016588\n",
      "[273]\ttrain-auc:1\ttrain-rmse:0.016501\n",
      "[274]\ttrain-auc:1\ttrain-rmse:0.016286\n",
      "[275]\ttrain-auc:1\ttrain-rmse:0.016097\n",
      "[276]\ttrain-auc:1\ttrain-rmse:0.015965\n",
      "[277]\ttrain-auc:1\ttrain-rmse:0.015758\n",
      "[278]\ttrain-auc:1\ttrain-rmse:0.015651\n",
      "[279]\ttrain-auc:1\ttrain-rmse:0.015521\n",
      "[280]\ttrain-auc:1\ttrain-rmse:0.015385\n",
      "[281]\ttrain-auc:1\ttrain-rmse:0.015219\n",
      "[282]\ttrain-auc:1\ttrain-rmse:0.015159\n",
      "[283]\ttrain-auc:1\ttrain-rmse:0.015075\n",
      "[284]\ttrain-auc:1\ttrain-rmse:0.015012\n",
      "[285]\ttrain-auc:1\ttrain-rmse:0.014967\n",
      "[286]\ttrain-auc:1\ttrain-rmse:0.014935\n",
      "[287]\ttrain-auc:1\ttrain-rmse:0.014745\n",
      "[288]\ttrain-auc:1\ttrain-rmse:0.014654\n",
      "[289]\ttrain-auc:1\ttrain-rmse:0.014576\n",
      "[290]\ttrain-auc:1\ttrain-rmse:0.014478\n",
      "[291]\ttrain-auc:1\ttrain-rmse:0.01446\n",
      "[292]\ttrain-auc:1\ttrain-rmse:0.014414\n",
      "[293]\ttrain-auc:1\ttrain-rmse:0.014224\n",
      "[294]\ttrain-auc:1\ttrain-rmse:0.014014\n",
      "[295]\ttrain-auc:1\ttrain-rmse:0.013872\n",
      "[296]\ttrain-auc:1\ttrain-rmse:0.013705\n",
      "[297]\ttrain-auc:1\ttrain-rmse:0.013682\n",
      "[298]\ttrain-auc:1\ttrain-rmse:0.013648\n",
      "[299]\ttrain-auc:1\ttrain-rmse:0.013632\n",
      "[300]\ttrain-auc:1\ttrain-rmse:0.013601\n",
      "[301]\ttrain-auc:1\ttrain-rmse:0.013546\n",
      "[302]\ttrain-auc:1\ttrain-rmse:0.013504\n",
      "[303]\ttrain-auc:1\ttrain-rmse:0.013434\n",
      "[304]\ttrain-auc:1\ttrain-rmse:0.013339\n",
      "[305]\ttrain-auc:1\ttrain-rmse:0.013214\n",
      "[306]\ttrain-auc:1\ttrain-rmse:0.013148\n",
      "[307]\ttrain-auc:1\ttrain-rmse:0.013014\n",
      "[308]\ttrain-auc:1\ttrain-rmse:0.012892\n",
      "[309]\ttrain-auc:1\ttrain-rmse:0.012792\n",
      "[310]\ttrain-auc:1\ttrain-rmse:0.012664\n",
      "[311]\ttrain-auc:1\ttrain-rmse:0.012521\n",
      "[312]\ttrain-auc:1\ttrain-rmse:0.012451\n",
      "[313]\ttrain-auc:1\ttrain-rmse:0.012376\n",
      "[314]\ttrain-auc:1\ttrain-rmse:0.012305\n",
      "[315]\ttrain-auc:1\ttrain-rmse:0.012217\n",
      "[316]\ttrain-auc:1\ttrain-rmse:0.012184\n",
      "[317]\ttrain-auc:1\ttrain-rmse:0.012162\n",
      "[318]\ttrain-auc:1\ttrain-rmse:0.012068\n",
      "[319]\ttrain-auc:1\ttrain-rmse:0.011967\n",
      "[320]\ttrain-auc:1\ttrain-rmse:0.011881\n",
      "[321]\ttrain-auc:1\ttrain-rmse:0.011797\n",
      "[322]\ttrain-auc:1\ttrain-rmse:0.011714\n",
      "[323]\ttrain-auc:1\ttrain-rmse:0.011614\n",
      "[324]\ttrain-auc:1\ttrain-rmse:0.011586\n",
      "[325]\ttrain-auc:1\ttrain-rmse:0.011568\n",
      "[326]\ttrain-auc:1\ttrain-rmse:0.011526\n",
      "[327]\ttrain-auc:1\ttrain-rmse:0.01147\n",
      "[328]\ttrain-auc:1\ttrain-rmse:0.011368\n",
      "[329]\ttrain-auc:1\ttrain-rmse:0.01124\n",
      "[330]\ttrain-auc:1\ttrain-rmse:0.011106\n",
      "[331]\ttrain-auc:1\ttrain-rmse:0.010941\n",
      "[332]\ttrain-auc:1\ttrain-rmse:0.010899\n",
      "[333]\ttrain-auc:1\ttrain-rmse:0.010835\n",
      "[334]\ttrain-auc:1\ttrain-rmse:0.010741\n",
      "[335]\ttrain-auc:1\ttrain-rmse:0.010666\n",
      "[336]\ttrain-auc:1\ttrain-rmse:0.010639\n",
      "[337]\ttrain-auc:1\ttrain-rmse:0.010564\n",
      "[338]\ttrain-auc:1\ttrain-rmse:0.01054\n",
      "[339]\ttrain-auc:1\ttrain-rmse:0.010524\n",
      "[340]\ttrain-auc:1\ttrain-rmse:0.010477\n",
      "[341]\ttrain-auc:1\ttrain-rmse:0.010403\n",
      "[342]\ttrain-auc:1\ttrain-rmse:0.010366\n",
      "[343]\ttrain-auc:1\ttrain-rmse:0.010323\n",
      "[344]\ttrain-auc:1\ttrain-rmse:0.010264\n",
      "[345]\ttrain-auc:1\ttrain-rmse:0.010211\n",
      "[346]\ttrain-auc:1\ttrain-rmse:0.010096\n",
      "[347]\ttrain-auc:1\ttrain-rmse:0.009965\n",
      "[348]\ttrain-auc:1\ttrain-rmse:0.009924\n",
      "[349]\ttrain-auc:1\ttrain-rmse:0.009907\n",
      "[350]\ttrain-auc:1\ttrain-rmse:0.00988\n",
      "[351]\ttrain-auc:1\ttrain-rmse:0.009816\n",
      "[352]\ttrain-auc:1\ttrain-rmse:0.009725\n",
      "[353]\ttrain-auc:1\ttrain-rmse:0.009679\n",
      "[354]\ttrain-auc:1\ttrain-rmse:0.009669\n",
      "[355]\ttrain-auc:1\ttrain-rmse:0.00965\n",
      "[356]\ttrain-auc:1\ttrain-rmse:0.009546\n",
      "[357]\ttrain-auc:1\ttrain-rmse:0.009511\n",
      "[358]\ttrain-auc:1\ttrain-rmse:0.009453\n",
      "[359]\ttrain-auc:1\ttrain-rmse:0.009434\n",
      "[360]\ttrain-auc:1\ttrain-rmse:0.009386\n",
      "[361]\ttrain-auc:1\ttrain-rmse:0.009299\n",
      "[362]\ttrain-auc:1\ttrain-rmse:0.009209\n",
      "[363]\ttrain-auc:1\ttrain-rmse:0.009199\n",
      "[364]\ttrain-auc:1\ttrain-rmse:0.00917\n",
      "[365]\ttrain-auc:1\ttrain-rmse:0.009077\n",
      "[366]\ttrain-auc:1\ttrain-rmse:0.008995\n",
      "[367]\ttrain-auc:1\ttrain-rmse:0.008946\n",
      "[368]\ttrain-auc:1\ttrain-rmse:0.008912\n",
      "[369]\ttrain-auc:1\ttrain-rmse:0.008863\n",
      "[370]\ttrain-auc:1\ttrain-rmse:0.00883\n",
      "[371]\ttrain-auc:1\ttrain-rmse:0.008779\n",
      "[372]\ttrain-auc:1\ttrain-rmse:0.008725\n",
      "[373]\ttrain-auc:1\ttrain-rmse:0.008714\n",
      "[374]\ttrain-auc:1\ttrain-rmse:0.008636\n",
      "[375]\ttrain-auc:1\ttrain-rmse:0.008578\n",
      "[376]\ttrain-auc:1\ttrain-rmse:0.008495\n",
      "[377]\ttrain-auc:1\ttrain-rmse:0.008423\n",
      "[378]\ttrain-auc:1\ttrain-rmse:0.008415\n",
      "[379]\ttrain-auc:1\ttrain-rmse:0.008409\n",
      "[380]\ttrain-auc:1\ttrain-rmse:0.008367\n",
      "[381]\ttrain-auc:1\ttrain-rmse:0.008329\n",
      "[382]\ttrain-auc:1\ttrain-rmse:0.008273\n",
      "[383]\ttrain-auc:1\ttrain-rmse:0.00825\n",
      "[384]\ttrain-auc:1\ttrain-rmse:0.008238\n",
      "[385]\ttrain-auc:1\ttrain-rmse:0.008181\n",
      "[386]\ttrain-auc:1\ttrain-rmse:0.008151\n",
      "[387]\ttrain-auc:1\ttrain-rmse:0.008116\n",
      "[388]\ttrain-auc:1\ttrain-rmse:0.00804\n",
      "[389]\ttrain-auc:1\ttrain-rmse:0.008002\n",
      "[390]\ttrain-auc:1\ttrain-rmse:0.007999\n",
      "[391]\ttrain-auc:1\ttrain-rmse:0.007954\n",
      "[392]\ttrain-auc:1\ttrain-rmse:0.007898\n",
      "[393]\ttrain-auc:1\ttrain-rmse:0.007874\n",
      "[394]\ttrain-auc:1\ttrain-rmse:0.007811\n",
      "[395]\ttrain-auc:1\ttrain-rmse:0.007801\n",
      "[396]\ttrain-auc:1\ttrain-rmse:0.007732\n",
      "[397]\ttrain-auc:1\ttrain-rmse:0.007696\n",
      "[398]\ttrain-auc:1\ttrain-rmse:0.007649\n",
      "[399]\ttrain-auc:1\ttrain-rmse:0.007583\n",
      "[400]\ttrain-auc:1\ttrain-rmse:0.007567\n",
      "[401]\ttrain-auc:1\ttrain-rmse:0.007559\n",
      "[402]\ttrain-auc:1\ttrain-rmse:0.007553\n",
      "[403]\ttrain-auc:1\ttrain-rmse:0.007528\n",
      "[404]\ttrain-auc:1\ttrain-rmse:0.007497\n",
      "[405]\ttrain-auc:1\ttrain-rmse:0.007429\n",
      "[406]\ttrain-auc:1\ttrain-rmse:0.007384\n",
      "[407]\ttrain-auc:1\ttrain-rmse:0.007346\n",
      "[408]\ttrain-auc:1\ttrain-rmse:0.00728\n",
      "[409]\ttrain-auc:1\ttrain-rmse:0.00724\n",
      "[410]\ttrain-auc:1\ttrain-rmse:0.007175\n",
      "[411]\ttrain-auc:1\ttrain-rmse:0.007151\n",
      "[412]\ttrain-auc:1\ttrain-rmse:0.007119\n",
      "[413]\ttrain-auc:1\ttrain-rmse:0.007103\n",
      "[414]\ttrain-auc:1\ttrain-rmse:0.007081\n",
      "Working: 11\n",
      "[0]\ttrain-auc:0.5+0\ttest-auc:0.5+0\n",
      "[30]\ttrain-auc:1+0\ttest-auc:0.959999+0.00497742\n",
      "[60]\ttrain-auc:1+0\ttest-auc:0.971277+0.00260231\n",
      "[90]\ttrain-auc:1+0\ttest-auc:0.972112+0.00332969\n",
      "[0]\ttrain-auc:0.5\ttrain-rmse:0.356043\n",
      "[1]\ttrain-auc:0.846457\ttrain-rmse:0.259672\n",
      "[2]\ttrain-auc:0.860946\ttrain-rmse:0.192065\n",
      "[3]\ttrain-auc:0.870185\ttrain-rmse:0.144018\n",
      "[4]\ttrain-auc:0.872024\ttrain-rmse:0.109926\n",
      "[5]\ttrain-auc:0.873323\ttrain-rmse:0.086105\n",
      "[6]\ttrain-auc:0.927183\ttrain-rmse:0.069046\n",
      "[7]\ttrain-auc:0.929927\ttrain-rmse:0.057494\n",
      "[8]\ttrain-auc:0.93364\ttrain-rmse:0.049804\n",
      "[9]\ttrain-auc:0.937889\ttrain-rmse:0.043753\n",
      "[10]\ttrain-auc:0.938628\ttrain-rmse:0.040099\n",
      "[11]\ttrain-auc:0.941126\ttrain-rmse:0.037245\n",
      "[12]\ttrain-auc:0.993552\ttrain-rmse:0.035317\n",
      "[13]\ttrain-auc:0.996911\ttrain-rmse:0.033237\n",
      "[14]\ttrain-auc:0.999115\ttrain-rmse:0.031456\n",
      "[15]\ttrain-auc:0.999389\ttrain-rmse:0.030676\n",
      "[16]\ttrain-auc:0.999642\ttrain-rmse:0.028808\n",
      "[17]\ttrain-auc:0.999816\ttrain-rmse:0.026815\n",
      "[18]\ttrain-auc:0.999838\ttrain-rmse:0.025568\n",
      "[19]\ttrain-auc:0.999914\ttrain-rmse:0.024019\n",
      "[20]\ttrain-auc:0.999934\ttrain-rmse:0.023188\n",
      "[21]\ttrain-auc:0.999971\ttrain-rmse:0.021623\n",
      "[22]\ttrain-auc:0.999983\ttrain-rmse:0.020458\n",
      "[23]\ttrain-auc:0.999988\ttrain-rmse:0.019863\n",
      "[24]\ttrain-auc:0.999988\ttrain-rmse:0.019077\n",
      "[25]\ttrain-auc:0.999997\ttrain-rmse:0.017936\n",
      "[26]\ttrain-auc:0.999999\ttrain-rmse:0.016322\n",
      "[27]\ttrain-auc:1\ttrain-rmse:0.015283\n",
      "[28]\ttrain-auc:1\ttrain-rmse:0.014437\n",
      "[29]\ttrain-auc:1\ttrain-rmse:0.01386\n",
      "[30]\ttrain-auc:1\ttrain-rmse:0.013216\n",
      "[31]\ttrain-auc:1\ttrain-rmse:0.012322\n",
      "[32]\ttrain-auc:1\ttrain-rmse:0.011467\n",
      "[33]\ttrain-auc:1\ttrain-rmse:0.010799\n",
      "[34]\ttrain-auc:1\ttrain-rmse:0.010047\n",
      "[35]\ttrain-auc:1\ttrain-rmse:0.009294\n",
      "[36]\ttrain-auc:1\ttrain-rmse:0.008645\n",
      "[37]\ttrain-auc:1\ttrain-rmse:0.00813\n",
      "[38]\ttrain-auc:1\ttrain-rmse:0.007801\n",
      "[39]\ttrain-auc:1\ttrain-rmse:0.007313\n",
      "[40]\ttrain-auc:1\ttrain-rmse:0.006876\n",
      "[41]\ttrain-auc:1\ttrain-rmse:0.006548\n",
      "[42]\ttrain-auc:1\ttrain-rmse:0.006146\n",
      "[43]\ttrain-auc:1\ttrain-rmse:0.005835\n",
      "[44]\ttrain-auc:1\ttrain-rmse:0.005619\n",
      "[45]\ttrain-auc:1\ttrain-rmse:0.005421\n",
      "[46]\ttrain-auc:1\ttrain-rmse:0.005128\n",
      "[47]\ttrain-auc:1\ttrain-rmse:0.004881\n",
      "[48]\ttrain-auc:1\ttrain-rmse:0.004688\n",
      "[49]\ttrain-auc:1\ttrain-rmse:0.004508\n",
      "[50]\ttrain-auc:1\ttrain-rmse:0.004393\n",
      "[51]\ttrain-auc:1\ttrain-rmse:0.004276\n",
      "[52]\ttrain-auc:1\ttrain-rmse:0.004188\n",
      "[53]\ttrain-auc:1\ttrain-rmse:0.004059\n",
      "[54]\ttrain-auc:1\ttrain-rmse:0.003948\n",
      "[55]\ttrain-auc:1\ttrain-rmse:0.003821\n",
      "[56]\ttrain-auc:1\ttrain-rmse:0.003743\n",
      "[57]\ttrain-auc:1\ttrain-rmse:0.003626\n",
      "[58]\ttrain-auc:1\ttrain-rmse:0.003524\n",
      "[59]\ttrain-auc:1\ttrain-rmse:0.003465\n",
      "[60]\ttrain-auc:1\ttrain-rmse:0.003367\n",
      "[61]\ttrain-auc:1\ttrain-rmse:0.003291\n",
      "[62]\ttrain-auc:1\ttrain-rmse:0.003218\n",
      "[63]\ttrain-auc:1\ttrain-rmse:0.00318\n",
      "[64]\ttrain-auc:1\ttrain-rmse:0.003099\n",
      "[65]\ttrain-auc:1\ttrain-rmse:0.003026\n",
      "[66]\ttrain-auc:1\ttrain-rmse:0.002969\n",
      "[67]\ttrain-auc:1\ttrain-rmse:0.002922\n",
      "[68]\ttrain-auc:1\ttrain-rmse:0.002891\n",
      "[69]\ttrain-auc:1\ttrain-rmse:0.002863\n",
      "[70]\ttrain-auc:1\ttrain-rmse:0.002812\n",
      "[71]\ttrain-auc:1\ttrain-rmse:0.002784\n",
      "[72]\ttrain-auc:1\ttrain-rmse:0.002754\n",
      "[73]\ttrain-auc:1\ttrain-rmse:0.00271\n",
      "[74]\ttrain-auc:1\ttrain-rmse:0.002654\n",
      "[75]\ttrain-auc:1\ttrain-rmse:0.002602\n",
      "[76]\ttrain-auc:1\ttrain-rmse:0.002557\n",
      "[77]\ttrain-auc:1\ttrain-rmse:0.002522\n",
      "[78]\ttrain-auc:1\ttrain-rmse:0.00246\n",
      "[79]\ttrain-auc:1\ttrain-rmse:0.002419\n",
      "[80]\ttrain-auc:1\ttrain-rmse:0.002381\n",
      "[81]\ttrain-auc:1\ttrain-rmse:0.002345\n",
      "[82]\ttrain-auc:1\ttrain-rmse:0.00233\n",
      "[83]\ttrain-auc:1\ttrain-rmse:0.002291\n",
      "[84]\ttrain-auc:1\ttrain-rmse:0.002253\n",
      "[85]\ttrain-auc:1\ttrain-rmse:0.002233\n",
      "Working: 12\n",
      "[0]\ttrain-auc:0.78237+0.000132801\ttest-auc:0.752366+0.00183702\n",
      "[30]\ttrain-auc:0.995316+0.000955081\ttest-auc:0.870088+0.00138285\n",
      "[60]\ttrain-auc:0.999926+4.15559e-05\ttest-auc:0.873691+0.00590274\n",
      "[90]\ttrain-auc:1+0\ttest-auc:0.875671+0.00715463\n",
      "[0]\ttrain-auc:0.805259\ttrain-rmse:0.366398\n",
      "[1]\ttrain-auc:0.84346\ttrain-rmse:0.279865\n",
      "[2]\ttrain-auc:0.854741\ttrain-rmse:0.222173\n",
      "[3]\ttrain-auc:0.874016\ttrain-rmse:0.18418\n",
      "[4]\ttrain-auc:0.876285\ttrain-rmse:0.159808\n",
      "[5]\ttrain-auc:0.894278\ttrain-rmse:0.144466\n",
      "[6]\ttrain-auc:0.90557\ttrain-rmse:0.135035\n",
      "[7]\ttrain-auc:0.916244\ttrain-rmse:0.129255\n",
      "[8]\ttrain-auc:0.928246\ttrain-rmse:0.12543\n",
      "[9]\ttrain-auc:0.935935\ttrain-rmse:0.1231\n",
      "[10]\ttrain-auc:0.940301\ttrain-rmse:0.121091\n",
      "[11]\ttrain-auc:0.947037\ttrain-rmse:0.119485\n",
      "[12]\ttrain-auc:0.952837\ttrain-rmse:0.117735\n",
      "[13]\ttrain-auc:0.956616\ttrain-rmse:0.116037\n",
      "[14]\ttrain-auc:0.960953\ttrain-rmse:0.114936\n",
      "[15]\ttrain-auc:0.96388\ttrain-rmse:0.113934\n",
      "[16]\ttrain-auc:0.965929\ttrain-rmse:0.113476\n",
      "[17]\ttrain-auc:0.968955\ttrain-rmse:0.111943\n",
      "[18]\ttrain-auc:0.970632\ttrain-rmse:0.110885\n",
      "[19]\ttrain-auc:0.971875\ttrain-rmse:0.110439\n",
      "[20]\ttrain-auc:0.973866\ttrain-rmse:0.109331\n",
      "[21]\ttrain-auc:0.975074\ttrain-rmse:0.108722\n",
      "[22]\ttrain-auc:0.976286\ttrain-rmse:0.107998\n",
      "[23]\ttrain-auc:0.978052\ttrain-rmse:0.106858\n",
      "[24]\ttrain-auc:0.979183\ttrain-rmse:0.106208\n",
      "[25]\ttrain-auc:0.980041\ttrain-rmse:0.105619\n",
      "[26]\ttrain-auc:0.983124\ttrain-rmse:0.1036\n",
      "[27]\ttrain-auc:0.98599\ttrain-rmse:0.101279\n",
      "[28]\ttrain-auc:0.987229\ttrain-rmse:0.100158\n",
      "[29]\ttrain-auc:0.988099\ttrain-rmse:0.09888\n",
      "[30]\ttrain-auc:0.988512\ttrain-rmse:0.097919\n",
      "[31]\ttrain-auc:0.988803\ttrain-rmse:0.097454\n",
      "[32]\ttrain-auc:0.98925\ttrain-rmse:0.096994\n",
      "[33]\ttrain-auc:0.990705\ttrain-rmse:0.096063\n",
      "[34]\ttrain-auc:0.991309\ttrain-rmse:0.095227\n",
      "[35]\ttrain-auc:0.993287\ttrain-rmse:0.093535\n",
      "[36]\ttrain-auc:0.993878\ttrain-rmse:0.091968\n",
      "[37]\ttrain-auc:0.994017\ttrain-rmse:0.09148\n",
      "[38]\ttrain-auc:0.994455\ttrain-rmse:0.090457\n",
      "[39]\ttrain-auc:0.995178\ttrain-rmse:0.089181\n",
      "[40]\ttrain-auc:0.99556\ttrain-rmse:0.088097\n",
      "[41]\ttrain-auc:0.995789\ttrain-rmse:0.087467\n",
      "[42]\ttrain-auc:0.995869\ttrain-rmse:0.087117\n",
      "[43]\ttrain-auc:0.996259\ttrain-rmse:0.085754\n",
      "[44]\ttrain-auc:0.996706\ttrain-rmse:0.084964\n",
      "[45]\ttrain-auc:0.996802\ttrain-rmse:0.084265\n",
      "[46]\ttrain-auc:0.996867\ttrain-rmse:0.083842\n",
      "[47]\ttrain-auc:0.996984\ttrain-rmse:0.083439\n",
      "[48]\ttrain-auc:0.997051\ttrain-rmse:0.083089\n",
      "[49]\ttrain-auc:0.997079\ttrain-rmse:0.082673\n",
      "[50]\ttrain-auc:0.997227\ttrain-rmse:0.081363\n",
      "[51]\ttrain-auc:0.997858\ttrain-rmse:0.080012\n",
      "[52]\ttrain-auc:0.997988\ttrain-rmse:0.078821\n",
      "[53]\ttrain-auc:0.998255\ttrain-rmse:0.077199\n",
      "[54]\ttrain-auc:0.998644\ttrain-rmse:0.075164\n",
      "[55]\ttrain-auc:0.998694\ttrain-rmse:0.074981\n",
      "[56]\ttrain-auc:0.998763\ttrain-rmse:0.074532\n",
      "[57]\ttrain-auc:0.998786\ttrain-rmse:0.074237\n",
      "[58]\ttrain-auc:0.998962\ttrain-rmse:0.073335\n",
      "[59]\ttrain-auc:0.999049\ttrain-rmse:0.072874\n",
      "[60]\ttrain-auc:0.999081\ttrain-rmse:0.072565\n",
      "[61]\ttrain-auc:0.999171\ttrain-rmse:0.07199\n",
      "[62]\ttrain-auc:0.999183\ttrain-rmse:0.071765\n",
      "[63]\ttrain-auc:0.999216\ttrain-rmse:0.071404\n",
      "[64]\ttrain-auc:0.999283\ttrain-rmse:0.069808\n",
      "[65]\ttrain-auc:0.999292\ttrain-rmse:0.069479\n",
      "[66]\ttrain-auc:0.999308\ttrain-rmse:0.069116\n",
      "[67]\ttrain-auc:0.999439\ttrain-rmse:0.067767\n",
      "[68]\ttrain-auc:0.999486\ttrain-rmse:0.067103\n",
      "[69]\ttrain-auc:0.999527\ttrain-rmse:0.066781\n",
      "[70]\ttrain-auc:0.999614\ttrain-rmse:0.064997\n",
      "[71]\ttrain-auc:0.999644\ttrain-rmse:0.064551\n",
      "[72]\ttrain-auc:0.999665\ttrain-rmse:0.064312\n",
      "Working: 13\n",
      "[0]\ttrain-auc:0.891605+0.0203423\ttest-auc:0.861748+0.046414\n",
      "[30]\ttrain-auc:0.999995+3.29983e-06\ttest-auc:0.986077+0.00328757\n",
      "[60]\ttrain-auc:1+0\ttest-auc:0.989915+0.00241388\n",
      "[90]\ttrain-auc:1+0\ttest-auc:0.990739+0.00213812\n",
      "[120]\ttrain-auc:1+0\ttest-auc:0.991022+0.00213255\n",
      "[0]\ttrain-auc:0.866803\ttrain-rmse:0.357281\n",
      "[1]\ttrain-auc:0.939829\ttrain-rmse:0.26183\n",
      "[2]\ttrain-auc:0.957283\ttrain-rmse:0.194994\n",
      "[3]\ttrain-auc:0.960083\ttrain-rmse:0.147384\n",
      "[4]\ttrain-auc:0.983546\ttrain-rmse:0.113181\n",
      "[5]\ttrain-auc:0.984192\ttrain-rmse:0.089482\n",
      "[6]\ttrain-auc:0.984704\ttrain-rmse:0.072735\n",
      "[7]\ttrain-auc:0.988044\ttrain-rmse:0.061378\n",
      "[8]\ttrain-auc:0.988143\ttrain-rmse:0.053795\n",
      "[9]\ttrain-auc:0.98991\ttrain-rmse:0.048807\n",
      "[10]\ttrain-auc:0.996625\ttrain-rmse:0.045019\n",
      "[11]\ttrain-auc:0.997104\ttrain-rmse:0.042299\n",
      "[12]\ttrain-auc:0.997291\ttrain-rmse:0.039636\n",
      "[13]\ttrain-auc:0.99738\ttrain-rmse:0.037407\n",
      "[14]\ttrain-auc:0.997577\ttrain-rmse:0.035478\n",
      "[15]\ttrain-auc:0.997654\ttrain-rmse:0.034051\n",
      "[16]\ttrain-auc:0.997738\ttrain-rmse:0.032809\n",
      "[17]\ttrain-auc:0.997765\ttrain-rmse:0.031785\n",
      "[18]\ttrain-auc:0.999431\ttrain-rmse:0.030154\n",
      "[19]\ttrain-auc:0.999552\ttrain-rmse:0.029724\n",
      "[20]\ttrain-auc:0.999732\ttrain-rmse:0.029024\n",
      "[21]\ttrain-auc:0.99977\ttrain-rmse:0.027302\n",
      "[22]\ttrain-auc:0.999805\ttrain-rmse:0.026409\n",
      "[23]\ttrain-auc:0.99989\ttrain-rmse:0.024833\n",
      "[24]\ttrain-auc:0.999922\ttrain-rmse:0.023959\n",
      "[25]\ttrain-auc:0.999936\ttrain-rmse:0.023095\n",
      "[26]\ttrain-auc:0.999953\ttrain-rmse:0.021586\n",
      "[27]\ttrain-auc:0.999964\ttrain-rmse:0.021022\n",
      "[28]\ttrain-auc:0.999973\ttrain-rmse:0.020031\n",
      "[29]\ttrain-auc:0.999977\ttrain-rmse:0.019617\n",
      "[30]\ttrain-auc:0.999982\ttrain-rmse:0.019321\n",
      "[31]\ttrain-auc:0.999986\ttrain-rmse:0.018825\n",
      "[32]\ttrain-auc:0.999993\ttrain-rmse:0.017517\n",
      "[33]\ttrain-auc:0.999994\ttrain-rmse:0.01692\n",
      "[34]\ttrain-auc:0.999996\ttrain-rmse:0.015869\n",
      "[35]\ttrain-auc:0.999998\ttrain-rmse:0.015078\n",
      "[36]\ttrain-auc:0.999999\ttrain-rmse:0.014138\n",
      "[37]\ttrain-auc:0.999999\ttrain-rmse:0.013224\n",
      "[38]\ttrain-auc:0.999999\ttrain-rmse:0.012433\n",
      "[39]\ttrain-auc:1\ttrain-rmse:0.011828\n",
      "[40]\ttrain-auc:1\ttrain-rmse:0.01132\n",
      "[41]\ttrain-auc:1\ttrain-rmse:0.010548\n",
      "[42]\ttrain-auc:1\ttrain-rmse:0.010219\n",
      "[43]\ttrain-auc:1\ttrain-rmse:0.009692\n",
      "[44]\ttrain-auc:1\ttrain-rmse:0.009126\n",
      "[45]\ttrain-auc:1\ttrain-rmse:0.008954\n",
      "[46]\ttrain-auc:1\ttrain-rmse:0.008478\n",
      "[47]\ttrain-auc:1\ttrain-rmse:0.008266\n",
      "[48]\ttrain-auc:1\ttrain-rmse:0.007824\n",
      "[49]\ttrain-auc:1\ttrain-rmse:0.0074\n",
      "[50]\ttrain-auc:1\ttrain-rmse:0.007003\n",
      "[51]\ttrain-auc:1\ttrain-rmse:0.006664\n",
      "[52]\ttrain-auc:1\ttrain-rmse:0.006418\n",
      "[53]\ttrain-auc:1\ttrain-rmse:0.006221\n",
      "[54]\ttrain-auc:1\ttrain-rmse:0.005889\n",
      "[55]\ttrain-auc:1\ttrain-rmse:0.005645\n",
      "[56]\ttrain-auc:1\ttrain-rmse:0.005438\n",
      "[57]\ttrain-auc:1\ttrain-rmse:0.005297\n",
      "[58]\ttrain-auc:1\ttrain-rmse:0.005109\n",
      "[59]\ttrain-auc:1\ttrain-rmse:0.004928\n",
      "[60]\ttrain-auc:1\ttrain-rmse:0.004732\n",
      "[61]\ttrain-auc:1\ttrain-rmse:0.004601\n",
      "[62]\ttrain-auc:1\ttrain-rmse:0.004491\n",
      "[63]\ttrain-auc:1\ttrain-rmse:0.004371\n",
      "[64]\ttrain-auc:1\ttrain-rmse:0.004279\n",
      "[65]\ttrain-auc:1\ttrain-rmse:0.004166\n",
      "[66]\ttrain-auc:1\ttrain-rmse:0.004022\n",
      "[67]\ttrain-auc:1\ttrain-rmse:0.00394\n",
      "[68]\ttrain-auc:1\ttrain-rmse:0.003847\n",
      "[69]\ttrain-auc:1\ttrain-rmse:0.003763\n",
      "[70]\ttrain-auc:1\ttrain-rmse:0.003691\n",
      "[71]\ttrain-auc:1\ttrain-rmse:0.003605\n",
      "[72]\ttrain-auc:1\ttrain-rmse:0.003535\n",
      "[73]\ttrain-auc:1\ttrain-rmse:0.003425\n",
      "[74]\ttrain-auc:1\ttrain-rmse:0.003359\n",
      "[75]\ttrain-auc:1\ttrain-rmse:0.003335\n",
      "[76]\ttrain-auc:1\ttrain-rmse:0.003282\n",
      "[77]\ttrain-auc:1\ttrain-rmse:0.003209\n",
      "[78]\ttrain-auc:1\ttrain-rmse:0.003165\n",
      "[79]\ttrain-auc:1\ttrain-rmse:0.003104\n",
      "[80]\ttrain-auc:1\ttrain-rmse:0.003063\n",
      "[81]\ttrain-auc:1\ttrain-rmse:0.002992\n",
      "[82]\ttrain-auc:1\ttrain-rmse:0.002926\n",
      "[83]\ttrain-auc:1\ttrain-rmse:0.002865\n",
      "[84]\ttrain-auc:1\ttrain-rmse:0.002836\n",
      "[85]\ttrain-auc:1\ttrain-rmse:0.00279\n",
      "[86]\ttrain-auc:1\ttrain-rmse:0.00274\n",
      "[87]\ttrain-auc:1\ttrain-rmse:0.002709\n",
      "[88]\ttrain-auc:1\ttrain-rmse:0.002678\n",
      "[89]\ttrain-auc:1\ttrain-rmse:0.002639\n",
      "[90]\ttrain-auc:1\ttrain-rmse:0.002587\n",
      "[91]\ttrain-auc:1\ttrain-rmse:0.002578\n",
      "[92]\ttrain-auc:1\ttrain-rmse:0.002556\n",
      "[93]\ttrain-auc:1\ttrain-rmse:0.002516\n",
      "[94]\ttrain-auc:1\ttrain-rmse:0.002489\n",
      "[95]\ttrain-auc:1\ttrain-rmse:0.002471\n",
      "[96]\ttrain-auc:1\ttrain-rmse:0.00243\n",
      "[97]\ttrain-auc:1\ttrain-rmse:0.002405\n",
      "[98]\ttrain-auc:1\ttrain-rmse:0.002383\n",
      "[99]\ttrain-auc:1\ttrain-rmse:0.00235\n",
      "[100]\ttrain-auc:1\ttrain-rmse:0.002325\n",
      "[101]\ttrain-auc:1\ttrain-rmse:0.002303\n",
      "[102]\ttrain-auc:1\ttrain-rmse:0.002286\n",
      "[103]\ttrain-auc:1\ttrain-rmse:0.002274\n",
      "[104]\ttrain-auc:1\ttrain-rmse:0.002246\n",
      "[105]\ttrain-auc:1\ttrain-rmse:0.002216\n",
      "[106]\ttrain-auc:1\ttrain-rmse:0.002202\n",
      "[107]\ttrain-auc:1\ttrain-rmse:0.002181\n",
      "[108]\ttrain-auc:1\ttrain-rmse:0.002158\n",
      "[109]\ttrain-auc:1\ttrain-rmse:0.002153\n",
      "[110]\ttrain-auc:1\ttrain-rmse:0.00213\n",
      "[111]\ttrain-auc:1\ttrain-rmse:0.00211\n",
      "[112]\ttrain-auc:1\ttrain-rmse:0.002099\n",
      "[113]\ttrain-auc:1\ttrain-rmse:0.002084\n",
      "[114]\ttrain-auc:1\ttrain-rmse:0.002064\n",
      "[115]\ttrain-auc:1\ttrain-rmse:0.002037\n",
      "[116]\ttrain-auc:1\ttrain-rmse:0.002024\n",
      "[117]\ttrain-auc:1\ttrain-rmse:0.002006\n",
      "[118]\ttrain-auc:1\ttrain-rmse:0.001985\n",
      "[119]\ttrain-auc:1\ttrain-rmse:0.00197\n",
      "[120]\ttrain-auc:1\ttrain-rmse:0.001952\n",
      "[121]\ttrain-auc:1\ttrain-rmse:0.001937\n",
      "[122]\ttrain-auc:1\ttrain-rmse:0.001928\n",
      "[123]\ttrain-auc:1\ttrain-rmse:0.001911\n",
      "Working: 14\n",
      "[0]\ttrain-auc:0.617494+0.0713631\ttest-auc:0.583124+0.0687975\n",
      "[30]\ttrain-auc:0.998321+0.000348856\ttest-auc:0.882146+0.0180734\n",
      "[0]\ttrain-auc:0.824477\ttrain-rmse:0.359511\n",
      "[1]\ttrain-auc:0.860442\ttrain-rmse:0.266557\n",
      "[2]\ttrain-auc:0.873716\ttrain-rmse:0.202863\n",
      "[3]\ttrain-auc:0.880975\ttrain-rmse:0.159203\n",
      "[4]\ttrain-auc:0.889724\ttrain-rmse:0.129881\n",
      "[5]\ttrain-auc:0.89972\ttrain-rmse:0.110825\n",
      "[6]\ttrain-auc:0.910204\ttrain-rmse:0.098574\n",
      "[7]\ttrain-auc:0.919035\ttrain-rmse:0.091193\n",
      "[8]\ttrain-auc:0.92199\ttrain-rmse:0.086809\n",
      "[9]\ttrain-auc:0.92482\ttrain-rmse:0.084\n",
      "[10]\ttrain-auc:0.935157\ttrain-rmse:0.082085\n",
      "[11]\ttrain-auc:0.944408\ttrain-rmse:0.08081\n",
      "[12]\ttrain-auc:0.950174\ttrain-rmse:0.079789\n",
      "[13]\ttrain-auc:0.957386\ttrain-rmse:0.079048\n",
      "[14]\ttrain-auc:0.962252\ttrain-rmse:0.078646\n",
      "[15]\ttrain-auc:0.966626\ttrain-rmse:0.077876\n",
      "[16]\ttrain-auc:0.971255\ttrain-rmse:0.076992\n",
      "[17]\ttrain-auc:0.979839\ttrain-rmse:0.07583\n",
      "[18]\ttrain-auc:0.981437\ttrain-rmse:0.075345\n",
      "[19]\ttrain-auc:0.983732\ttrain-rmse:0.074672\n",
      "[20]\ttrain-auc:0.984799\ttrain-rmse:0.074054\n",
      "[21]\ttrain-auc:0.986395\ttrain-rmse:0.073221\n",
      "[22]\ttrain-auc:0.987769\ttrain-rmse:0.072917\n",
      "[23]\ttrain-auc:0.9895\ttrain-rmse:0.071758\n",
      "[24]\ttrain-auc:0.990426\ttrain-rmse:0.071043\n",
      "[25]\ttrain-auc:0.992389\ttrain-rmse:0.069633\n",
      "[26]\ttrain-auc:0.992762\ttrain-rmse:0.069224\n",
      "Working: 15\n",
      "[0]\ttrain-auc:0.5043+0.00172272\ttest-auc:0.501262+0.00202447\n",
      "[30]\ttrain-auc:0.999126+4.77703e-05\ttest-auc:0.894776+0.00545542\n",
      "[0]\ttrain-auc:0.773664\ttrain-rmse:0.3599\n",
      "[1]\ttrain-auc:0.852776\ttrain-rmse:0.267381\n",
      "[2]\ttrain-auc:0.884774\ttrain-rmse:0.203988\n",
      "[3]\ttrain-auc:0.894438\ttrain-rmse:0.160726\n",
      "[4]\ttrain-auc:0.899506\ttrain-rmse:0.131901\n",
      "[5]\ttrain-auc:0.908711\ttrain-rmse:0.11309\n",
      "[6]\ttrain-auc:0.913413\ttrain-rmse:0.101381\n",
      "[7]\ttrain-auc:0.923561\ttrain-rmse:0.094377\n",
      "[8]\ttrain-auc:0.928605\ttrain-rmse:0.0901\n",
      "[9]\ttrain-auc:0.942114\ttrain-rmse:0.087429\n",
      "[10]\ttrain-auc:0.947949\ttrain-rmse:0.085805\n",
      "[11]\ttrain-auc:0.959194\ttrain-rmse:0.084639\n",
      "[12]\ttrain-auc:0.962806\ttrain-rmse:0.083773\n",
      "[13]\ttrain-auc:0.966249\ttrain-rmse:0.082883\n",
      "[14]\ttrain-auc:0.970835\ttrain-rmse:0.081708\n",
      "[15]\ttrain-auc:0.973759\ttrain-rmse:0.080796\n",
      "[16]\ttrain-auc:0.978001\ttrain-rmse:0.080371\n",
      "[17]\ttrain-auc:0.979568\ttrain-rmse:0.079684\n",
      "[18]\ttrain-auc:0.982248\ttrain-rmse:0.079247\n",
      "[19]\ttrain-auc:0.983395\ttrain-rmse:0.079023\n",
      "[20]\ttrain-auc:0.98509\ttrain-rmse:0.078496\n",
      "[21]\ttrain-auc:0.986008\ttrain-rmse:0.07784\n",
      "[22]\ttrain-auc:0.988845\ttrain-rmse:0.075729\n",
      "[23]\ttrain-auc:0.991206\ttrain-rmse:0.07338\n",
      "[24]\ttrain-auc:0.99157\ttrain-rmse:0.072823\n",
      "[25]\ttrain-auc:0.99299\ttrain-rmse:0.071459\n",
      "[26]\ttrain-auc:0.993802\ttrain-rmse:0.07042\n",
      "[27]\ttrain-auc:0.994266\ttrain-rmse:0.06979\n",
      "[28]\ttrain-auc:0.994692\ttrain-rmse:0.068907\n",
      "[29]\ttrain-auc:0.995917\ttrain-rmse:0.067153\n",
      "[30]\ttrain-auc:0.996836\ttrain-rmse:0.065265\n",
      "[31]\ttrain-auc:0.997054\ttrain-rmse:0.064637\n",
      "[32]\ttrain-auc:0.998067\ttrain-rmse:0.061696\n",
      "[33]\ttrain-auc:0.99826\ttrain-rmse:0.060439\n",
      "Working: 16\n",
      "[0]\ttrain-auc:0.502586+0.00365668\ttest-auc:0.499938+8.76812e-05\n",
      "[30]\ttrain-auc:0.999987+1.55778e-05\ttest-auc:0.813175+0.005051\n",
      "[60]\ttrain-auc:1+0\ttest-auc:0.831773+0.00962939\n",
      "[0]\ttrain-auc:0.5\ttrain-rmse:0.356009\n",
      "[1]\ttrain-auc:0.5\ttrain-rmse:0.259781\n",
      "[2]\ttrain-auc:0.505003\ttrain-rmse:0.192554\n",
      "[3]\ttrain-auc:0.505003\ttrain-rmse:0.145099\n",
      "[4]\ttrain-auc:0.714603\ttrain-rmse:0.111442\n",
      "[5]\ttrain-auc:0.716314\ttrain-rmse:0.087804\n",
      "[6]\ttrain-auc:0.788331\ttrain-rmse:0.071606\n",
      "[7]\ttrain-auc:0.787813\ttrain-rmse:0.060861\n",
      "[8]\ttrain-auc:0.824341\ttrain-rmse:0.053745\n",
      "[9]\ttrain-auc:0.902681\ttrain-rmse:0.049437\n",
      "[10]\ttrain-auc:0.934845\ttrain-rmse:0.046484\n",
      "[11]\ttrain-auc:0.966186\ttrain-rmse:0.044747\n",
      "[12]\ttrain-auc:0.968954\ttrain-rmse:0.043795\n",
      "[13]\ttrain-auc:0.975862\ttrain-rmse:0.042633\n",
      "[14]\ttrain-auc:0.98043\ttrain-rmse:0.041753\n",
      "[15]\ttrain-auc:0.989801\ttrain-rmse:0.041077\n",
      "[16]\ttrain-auc:0.99003\ttrain-rmse:0.04008\n",
      "[17]\ttrain-auc:0.990937\ttrain-rmse:0.039204\n",
      "[18]\ttrain-auc:0.993662\ttrain-rmse:0.038079\n",
      "[19]\ttrain-auc:0.994746\ttrain-rmse:0.03768\n",
      "[20]\ttrain-auc:0.995552\ttrain-rmse:0.03662\n",
      "[21]\ttrain-auc:0.996421\ttrain-rmse:0.036282\n",
      "[22]\ttrain-auc:0.99686\ttrain-rmse:0.035338\n",
      "[23]\ttrain-auc:0.997591\ttrain-rmse:0.034723\n",
      "[24]\ttrain-auc:0.998561\ttrain-rmse:0.033736\n",
      "[25]\ttrain-auc:0.998737\ttrain-rmse:0.03328\n",
      "[26]\ttrain-auc:0.999413\ttrain-rmse:0.031669\n",
      "[27]\ttrain-auc:0.999716\ttrain-rmse:0.02965\n",
      "[28]\ttrain-auc:0.999805\ttrain-rmse:0.028384\n",
      "[29]\ttrain-auc:0.999855\ttrain-rmse:0.027994\n",
      "[30]\ttrain-auc:0.999908\ttrain-rmse:0.02707\n",
      "[31]\ttrain-auc:0.999922\ttrain-rmse:0.025919\n",
      "[32]\ttrain-auc:0.999971\ttrain-rmse:0.0239\n",
      "[33]\ttrain-auc:0.999976\ttrain-rmse:0.023107\n",
      "[34]\ttrain-auc:0.999993\ttrain-rmse:0.021273\n",
      "[35]\ttrain-auc:0.999997\ttrain-rmse:0.020276\n",
      "[36]\ttrain-auc:0.999999\ttrain-rmse:0.019047\n",
      "[37]\ttrain-auc:0.999999\ttrain-rmse:0.018536\n",
      "[38]\ttrain-auc:1\ttrain-rmse:0.017626\n",
      "[39]\ttrain-auc:1\ttrain-rmse:0.01677\n",
      "[40]\ttrain-auc:1\ttrain-rmse:0.015772\n",
      "[41]\ttrain-auc:1\ttrain-rmse:0.015342\n",
      "[42]\ttrain-auc:1\ttrain-rmse:0.014788\n",
      "[43]\ttrain-auc:1\ttrain-rmse:0.014499\n",
      "[44]\ttrain-auc:1\ttrain-rmse:0.013806\n",
      "[45]\ttrain-auc:1\ttrain-rmse:0.01341\n",
      "[46]\ttrain-auc:1\ttrain-rmse:0.012798\n",
      "[47]\ttrain-auc:1\ttrain-rmse:0.011995\n",
      "[48]\ttrain-auc:1\ttrain-rmse:0.011589\n",
      "[49]\ttrain-auc:1\ttrain-rmse:0.010986\n",
      "[50]\ttrain-auc:1\ttrain-rmse:0.01042\n",
      "[51]\ttrain-auc:1\ttrain-rmse:0.009808\n",
      "[52]\ttrain-auc:1\ttrain-rmse:0.009515\n",
      "[53]\ttrain-auc:1\ttrain-rmse:0.009046\n"
     ]
    }
   ],
   "source": [
    "param = {\n",
    "         'objective':'reg:logistic', \n",
    "         #'num_class':17,\n",
    "         #'eta':0.05, \n",
    "         #'max_depth':9, 'subsample':0.8, 'colsample_bytree':0.8, \n",
    "         #'metrics':'rmse'\n",
    "         'eval_metric':['auc','rmse']\n",
    "        }\n",
    "param['silent']=True\n",
    "\n",
    "results, bstList = [], []\n",
    "for i in range(trY.shape[1]) :\n",
    "    print ('Working: {}'.format(i))\n",
    "    dtrain.set_label(trY[:,i])\n",
    "    history = xgb.cv(param, dtrain, metrics=['auc'], verbose_eval=30, num_boost_round=1000, nfold=3, early_stopping_rounds=20) #,stratified=True,maximize=True)\n",
    "    results.append(history)\n",
    "    rvalidCV = {}\n",
    "    watchlistCV  = [(dtrain,'train')]\n",
    "    bst = xgb.train(param, dtrain, history['test-auc-mean'].argmax()+1, watchlistCV) \n",
    "    bstList.append(bst)\n",
    "    "
   ]
  },
  {
   "cell_type": "code",
   "execution_count": null,
   "metadata": {
    "collapsed": false,
    "deletable": true,
    "editable": true
   },
   "outputs": [],
   "source": []
  },
  {
   "cell_type": "code",
   "execution_count": 662,
   "metadata": {
    "collapsed": true,
    "deletable": true,
    "editable": true
   },
   "outputs": [],
   "source": [
    "# save xgb models into files\n",
    "for i in range(len(bstList)) :\n",
    "    bstList[i].save_model('../Work/Models/model-'+str(100+i)+'-jpg-tif-'+str(binsData)+ttExt+'.xgb')"
   ]
  },
  {
   "cell_type": "code",
   "execution_count": null,
   "metadata": {
    "collapsed": true,
    "deletable": true,
    "editable": true
   },
   "outputs": [],
   "source": []
  },
  {
   "cell_type": "code",
   "execution_count": 615,
   "metadata": {
    "collapsed": false,
    "deletable": true,
    "editable": true
   },
   "outputs": [
    {
     "data": {
      "text/plain": [
       "17"
      ]
     },
     "execution_count": 615,
     "metadata": {},
     "output_type": "execute_result"
    }
   ],
   "source": [
    "# load xgb models into files\n",
    "bstNull = xgb.train(param,dtrain,0)\n",
    "bstList0= []\n",
    "for i in range(trY.shape[1]) :\n",
    "    bstList0.append(bstNull.copy())\n",
    "    bstList0[-1].load_model('../Work/Models/model-'+str(100+i)+'-jpg-tif-'+str(binsData)+ttExt+'.xgb')\n",
    "bstList = bstList0\n",
    "del bstList0\n",
    "len(bstList)"
   ]
  },
  {
   "cell_type": "code",
   "execution_count": null,
   "metadata": {
    "collapsed": false,
    "deletable": true,
    "editable": true
   },
   "outputs": [],
   "source": []
  },
  {
   "cell_type": "code",
   "execution_count": 676,
   "metadata": {
    "collapsed": false,
    "deletable": true,
    "editable": true
   },
   "outputs": [],
   "source": [
    "#[(x['test-rmse-mean'].min(),x['test-rmse-mean'].argmin()) for x in results]"
   ]
  },
  {
   "cell_type": "code",
   "execution_count": 677,
   "metadata": {
    "collapsed": false,
    "deletable": true,
    "editable": true
   },
   "outputs": [],
   "source": [
    "#[(x['test-rmse-mean'].min(),x['test-rmse-mean'].argmin()) for x in results]"
   ]
  },
  {
   "cell_type": "code",
   "execution_count": 678,
   "metadata": {
    "collapsed": false,
    "deletable": true,
    "editable": true
   },
   "outputs": [],
   "source": [
    "#[(x['test-auc-mean'].max(),x['test-auc-mean'].argmax()) for x in results] # 50"
   ]
  },
  {
   "cell_type": "code",
   "execution_count": 619,
   "metadata": {
    "collapsed": false,
    "deletable": true,
    "editable": true
   },
   "outputs": [],
   "source": [
    "#[(x['test-auc-mean'].max(),x['test-auc-mean'].argmax()) for x in results] # 75"
   ]
  },
  {
   "cell_type": "code",
   "execution_count": 620,
   "metadata": {
    "collapsed": false,
    "deletable": true,
    "editable": true
   },
   "outputs": [],
   "source": [
    "#[(x['test-auc-mean'].max(),x['test-auc-mean'].argmax()) for x in results] # 255"
   ]
  },
  {
   "cell_type": "code",
   "execution_count": 621,
   "metadata": {
    "collapsed": false,
    "deletable": true,
    "editable": true
   },
   "outputs": [],
   "source": [
    "#[(x['test-auc-mean'].max(),x['test-auc-mean'].argmax()) for x in results] # 64"
   ]
  },
  {
   "cell_type": "code",
   "execution_count": null,
   "metadata": {
    "collapsed": true,
    "deletable": true,
    "editable": true
   },
   "outputs": [],
   "source": []
  },
  {
   "cell_type": "code",
   "execution_count": 663,
   "metadata": {
    "collapsed": false,
    "deletable": true,
    "editable": true
   },
   "outputs": [
    {
     "data": {
      "text/plain": [
       "(numpy.ndarray, (40479, 17))"
      ]
     },
     "execution_count": 663,
     "metadata": {},
     "output_type": "execute_result"
    }
   ],
   "source": [
    "trYP = []\n",
    "for bstI in bstList :\n",
    "    trYP1 = bstI.predict(dtrain);\n",
    "    trYP.append(trYP1)\n",
    "trYP = np.array(trYP).T\n",
    "type(trYP),trYP.shape"
   ]
  },
  {
   "cell_type": "code",
   "execution_count": 664,
   "metadata": {
    "collapsed": true,
    "deletable": true,
    "editable": true
   },
   "outputs": [],
   "source": [
    "trYPP= trYP.copy() # вероятностный массив\n",
    "trYP[trYP<0.5] = 0\n",
    "trYP[trYP!=0]  = 1"
   ]
  },
  {
   "cell_type": "code",
   "execution_count": 665,
   "metadata": {
    "collapsed": true
   },
   "outputs": [],
   "source": [
    "accListOld = accList"
   ]
  },
  {
   "cell_type": "code",
   "execution_count": null,
   "metadata": {
    "collapsed": true
   },
   "outputs": [],
   "source": []
  },
  {
   "cell_type": "code",
   "execution_count": 666,
   "metadata": {
    "collapsed": false,
    "deletable": true,
    "editable": true
   },
   "outputs": [
    {
     "name": "stdout",
     "output_type": "stream",
     "text": [
      "#0 accuracy=0.977914474172 precision=0.889753566796 recall=0.763070077864 ros_auc=0.878160416096 fbeta2=0.785436226242 not=894\n",
      "#1 accuracy=0.990315966304 precision=0.992830779852 recall=0.996747794098 ros_auc=0.952858050791 fbeta2=0.995961920592 not=392\n",
      "#2 accuracy=0.955680723338 precision=0.942840306423 recall=0.90946000812 ros_auc=0.942675608378 fbeta2=0.915945632084 not=1794\n",
      "#3 accuracy=0.98470812026 precision=0.98425964619 recall=0.994126129929 ros_auc=0.978304764831 fbeta2=0.992137040157 not=619\n",
      "#4 accuracy=0.932952889152 precision=0.913978494624 recall=0.699635676697 ros_auc=0.84243910362 fbeta2=0.734065747374 not=2714\n",
      "#5 accuracy=0.965018898688 precision=0.904470079308 recall=0.685519125683 ros_auc=0.83916087738 fbeta2=0.720397381417 not=1416\n",
      "#6 accuracy=0.940734701944 precision=0.897979230985 recall=0.7928385578 ros_auc=0.88520291257 fbeta2=0.811849784319 not=2399\n",
      "#7 accuracy=0.934608068381 precision=0.889693356048 recall=0.466607102971 ros_auc=0.729706529098 fbeta2=0.515649684044 not=2647\n",
      "#8 accuracy=0.996664937375 precision=1.0 recall=0.354066985646 ros_auc=0.677033492823 fbeta2=0.406593406593 not=135\n",
      "#9 accuracy=0.999802366659 precision=0.999040767386 recall=0.99712781235 ros_auc=0.998537857725 fbeta2=0.997509817067 not=8\n",
      "#10 accuracy=1.0 precision=1.0 recall=1.0 ros_auc=1.0 fbeta2=1.0 not=0\n",
      "#11 accuracy=1.0 precision=1.0 recall=1.0 ros_auc=1.0 fbeta2=1.0 not=0\n",
      "#12 accuracy=0.995034462314 precision=0.998491704374 recall=0.767981438515 ros_auc=0.883978098413 fbeta2=0.805156896132 not=201\n",
      "#13 accuracy=1.0 precision=1.0 recall=1.0 ros_auc=1.0 fbeta2=1.0 not=0\n",
      "#14 accuracy=0.993403987253 precision=0.985074626866 recall=0.198795180723 ros_auc=0.599385136131 fbeta2=0.236559139785 not=267\n",
      "#15 accuracy=0.994392153956 precision=0.982905982906 recall=0.338235294118 ros_auc=0.669092733633 fbeta2=0.389302640487 not=227\n",
      "#16 accuracy=1.0 precision=1.0 recall=1.0 ros_auc=1.0 fbeta2=1.0 not=0\n"
     ]
    }
   ],
   "source": [
    "accList = []\n",
    "for i in range(trYP.shape[1]) :\n",
    "    print ('#{} accuracy={} precision={} recall={} ros_auc={} fbeta2={} not={}'.format(i, \n",
    "                                           skm.accuracy_score(trY[:,i],trYP[:,i]), \n",
    "                                           skm.precision_score(trY[:,i],trYP[:,i]), \n",
    "                                           skm.recall_score(trY[:,i],trYP[:,i]), \n",
    "                                           skm.roc_auc_score(trY[:,i],trYP[:,i]), \n",
    "                                           skm.fbeta_score(trY[:,i],trYP[:,i],beta=2),\n",
    "                                           len(trYP[trYP[:,i]<>trY[:,i],i])))\n",
    "    accList.append((i, skm.roc_auc_score(trY[:,i],trYP[:,i]), skm.confusion_matrix(trY[:,i],trYP[:,i])))\n",
    "    #fpr,tpr,thr = skm.roc_curve(trY[:,i],trYP[:,i]); print (len(thr),len(fpr),len(trYP[:,i]))\n",
    "    #plt.plot(fpr,tpr); plt.show()"
   ]
  },
  {
   "cell_type": "code",
   "execution_count": 667,
   "metadata": {
    "collapsed": false
   },
   "outputs": [
    {
     "data": {
      "text/plain": [
       "[(0, -14),\n",
       " (1, -338),\n",
       " (2, -105),\n",
       " (3, -795),\n",
       " (4, -120),\n",
       " (5, -57),\n",
       " (6, -315),\n",
       " (7, -18),\n",
       " (8, 0),\n",
       " (9, -55),\n",
       " (10, -39),\n",
       " (11, 0),\n",
       " (12, -4),\n",
       " (13, 0),\n",
       " (14, 1),\n",
       " (15, 2),\n",
       " (16, 0)]"
      ]
     },
     "execution_count": 667,
     "metadata": {},
     "output_type": "execute_result"
    }
   ],
   "source": [
    "[(i,cm[0,1]+cm[1,0]-(accList[i][2][1,0]+accListOld[i][2][0,1])) for i,roc,cm in accList]"
   ]
  },
  {
   "cell_type": "code",
   "execution_count": 680,
   "metadata": {
    "collapsed": false,
    "deletable": true,
    "editable": true
   },
   "outputs": [
    {
     "name": "stdout",
     "output_type": "stream",
     "text": [
      "['haze', 'primary', 'agriculture', 'clear', 'water', 'habitation', 'road', 'cultivation', 'slash_burn', 'cloudy', 'partly_cloudy', 'conventional_mine', 'bare_ground', 'artisinal_mine', 'blooming', 'selective_logging', 'blow_down']\n"
     ]
    },
    {
     "data": {
      "text/plain": [
       "((498, 17), [3, 10, 0, 9], 0.9877027927994666, 0.9778255179396005)"
      ]
     },
     "execution_count": 680,
     "metadata": {},
     "output_type": "execute_result"
    }
   ],
   "source": [
    "wr = [labels.index(i) for i in weather_labels]; wr\n",
    "print(labels)\n",
    "trYPP[trYPP[:,wr].argmax(axis=1)<>trY[:,wr].argmax(axis=1)].shape, wr, (40497.0-498)/40497.0, (40497.0-898)/40497.0"
   ]
  },
  {
   "cell_type": "code",
   "execution_count": null,
   "metadata": {
    "collapsed": false,
    "deletable": true,
    "editable": true
   },
   "outputs": [],
   "source": []
  },
  {
   "cell_type": "code",
   "execution_count": 669,
   "metadata": {
    "collapsed": false,
    "deletable": true,
    "editable": true
   },
   "outputs": [],
   "source": [
    "# Построение важности полей для разных признаков (importance)\n",
    "bstga   = np.zeros((trX.shape[1],trY.shape[1]))\n",
    "for i in range(len(bstList)) :\n",
    "    bstgfs = bstList[i].get_fscore()\n",
    "    bstgfs = [(int(n.split('f')[1]),bstgfs[n]) for n in bstgfs.keys()]\n",
    "    bstga1 = np.array(bstgfs)\n",
    "    bstga[bstga1[:,0],i] = bstga1[:,1]\n",
    "\n",
    "\n",
    "if False :\n",
    "    #bstgfs.sort(key=lambda x: -x[1])\n",
    "    #bstgfs[:20]\n",
    "    plt.hist([nn for n,nn in bstgfs],bins=11); plt.show()\n",
    "    bst_gfs_main = [(n,nn) for n,nn in bstgfs if nn>=20]\n",
    "    bst_gfs_main.sort(key=lambda x: x[0])\n",
    "    bst_gfs_main\n",
    "    bstga[:,6]"
   ]
  },
  {
   "cell_type": "code",
   "execution_count": 670,
   "metadata": {
    "collapsed": false,
    "deletable": true,
    "editable": true
   },
   "outputs": [
    {
     "data": {
      "image/png": "[encoded data removed]",
      "text/plain": [
       "<matplotlib.figure.Figure at 0x7fcca43fee10>"
      ]
     },
     "metadata": {},
     "output_type": "display_data"
    },
    {
     "data": {
      "text/plain": [
       "['haze',\n",
       " 'agriculture',\n",
       " 'clear',\n",
       " 'water',\n",
       " 'habitation',\n",
       " 'road',\n",
       " 'cultivation',\n",
       " 'bare_ground']"
      ]
     },
     "execution_count": 670,
     "metadata": {},
     "output_type": "execute_result"
    }
   ],
   "source": [
    "xx = [0]+range(2,8)+[12] # плохие 600-4000\n",
    "plt.plot(bstga[:,xx]); \n",
    "#plt.legenda([labels[x] for x in xx])\n",
    "plt.show();\n",
    "[labels[x] for x in xx]\n"
   ]
  },
  {
   "cell_type": "code",
   "execution_count": 671,
   "metadata": {
    "collapsed": false,
    "deletable": true,
    "editable": true
   },
   "outputs": [
    {
     "data": {
      "image/png": "[encoded data removed]",
      "text/plain": [
       "<matplotlib.figure.Figure at 0x7fcc6c787bd0>"
      ]
     },
     "metadata": {},
     "output_type": "display_data"
    },
    {
     "data": {
      "text/plain": [
       "['slash_burn', 'partly_cloudy', 'blooming', 'selective_logging']"
      ]
     },
     "execution_count": 671,
     "metadata": {},
     "output_type": "execute_result"
    }
   ],
   "source": [
    "xx = [8,10,14,15] # среднии 100-400\n",
    "plt.plot(bstga[:,xx]); \n",
    "#plt.legenda([labels[x] for x in xx])\n",
    "plt.show();\n",
    "[labels[x] for x in xx]\n"
   ]
  },
  {
   "cell_type": "code",
   "execution_count": 672,
   "metadata": {
    "collapsed": false,
    "deletable": true,
    "editable": true
   },
   "outputs": [
    {
     "data": {
      "image/png": "[encoded data removed]",
      "text/plain": [
       "<matplotlib.figure.Figure at 0x7fcc9f390550>"
      ]
     },
     "metadata": {},
     "output_type": "display_data"
    },
    {
     "data": {
      "text/plain": [
       "['primary', 'cloudy', 'conventional_mine', 'artisinal_mine', 'blow_down']"
      ]
     },
     "execution_count": 672,
     "metadata": {},
     "output_type": "execute_result"
    }
   ],
   "source": [
    "xx = [1,9,11,13,16] # отличные 0-100\n",
    "plt.plot(bstga[:,xx]); plt.show();\n",
    "[labels[x] for x in xx]"
   ]
  },
  {
   "cell_type": "code",
   "execution_count": null,
   "metadata": {
    "collapsed": true,
    "deletable": true,
    "editable": true
   },
   "outputs": [],
   "source": []
  },
  {
   "cell_type": "code",
   "execution_count": null,
   "metadata": {
    "collapsed": false,
    "deletable": true,
    "editable": true
   },
   "outputs": [],
   "source": []
  },
  {
   "cell_type": "code",
   "execution_count": null,
   "metadata": {
    "collapsed": true,
    "deletable": true,
    "editable": true
   },
   "outputs": [],
   "source": []
  },
  {
   "cell_type": "code",
   "execution_count": 673,
   "metadata": {
    "collapsed": false,
    "deletable": true,
    "editable": true
   },
   "outputs": [],
   "source": [
    "# Попытка посчитать уровень прохождения для каждого признака"
   ]
  },
  {
   "cell_type": "code",
   "execution_count": 674,
   "metadata": {
    "collapsed": false,
    "deletable": true,
    "editable": true
   },
   "outputs": [
    {
     "data": {
      "text/plain": [
       "[44.0,\n",
       " 62.0,\n",
       " 43.0,\n",
       " 56.0,\n",
       " 40.0,\n",
       " 37.0,\n",
       " 42.0,\n",
       " 37.0,\n",
       " 20.0,\n",
       " 50.0,\n",
       " 8.0,\n",
       " 4.0,\n",
       " 30.0,\n",
       " 6.0,\n",
       " 19.0,\n",
       " 25.0,\n",
       " 9.0]"
      ]
     },
     "execution_count": 674,
     "metadata": {},
     "output_type": "execute_result"
    }
   ],
   "source": [
    "ixx,iacc = [], []\n",
    "for i in range(trY.shape[1]) :\n",
    "    max, maxxx = 0.0, 0.0\n",
    "    for xx in range(0,101) :\n",
    "        tempYP = trYPP[:,i].copy(); #print(tempYP.mean())\n",
    "        tempYP[tempYP<float(xx/100.0)] = 0\n",
    "        tempYP[tempYP>0.0]   = 1\n",
    "        temp = skm.accuracy_score(trY[:,i],tempYP)\n",
    "        #print(float(xx/10.0),temp)\n",
    "        if (temp>max) : \n",
    "            max = temp; maxxx = float(xx)\n",
    "            temp = skm.confusion_matrix(trY[:,i],tempYP);\n",
    "            minloss = temp[0][1]+temp[1][0]\n",
    "    ixx.append(maxxx)\n",
    "    tempYP = trYPP[:,i].copy(); #print(tempYP.mean())\n",
    "    tempYP[tempYP<0.5]   = 0\n",
    "    tempYP[tempYP>0.0]   = 1\n",
    "    temp = skm.accuracy_score(trY[:,i],tempYP)\n",
    "    minloss05 = skm.confusion_matrix(trY[:,i],tempYP);\n",
    "    minloss05 = minloss05[0][1]+minloss05[1][0]\n",
    "    iacc.append((maxxx,max,temp,minloss,minloss05))\n",
    "ixx\n",
    "#[ixx[xx] for xx in wr]"
   ]
  },
  {
   "cell_type": "code",
   "execution_count": 675,
   "metadata": {
    "collapsed": false,
    "deletable": true,
    "editable": true,
    "scrolled": true
   },
   "outputs": [
    {
     "data": {
      "text/plain": [
       "[(44.0, 0.97895204921070189, 0.97791447417179278, 852, 894),\n",
       " (62.0, 0.99081004965537689, 0.99031596630351537, 372, 392),\n",
       " (43.0, 0.95807702759455515, 0.95568072333802712, 1697, 1794),\n",
       " (56.0, 0.98522690777934241, 0.98470812025988785, 598, 619),\n",
       " (40.0, 0.93685614763210556, 0.93295288915240004, 2556, 2714),\n",
       " (37.0, 0.96803280713456363, 0.96501889868820867, 1294, 1416),\n",
       " (42.0, 0.94216754366461619, 0.94073470194421804, 2341, 2399),\n",
       " (37.0, 0.94461325625633041, 0.93460806838113586, 2242, 2647),\n",
       " (20.0, 0.99901183329627707, 0.99666493737493511, 40, 135),\n",
       " (50.0, 0.99980236665925537, 0.99980236665925537, 8, 8),\n",
       " (8.0, 1.0, 1.0, 0, 0),\n",
       " (4.0, 1.0, 1.0, 0, 0),\n",
       " (30.0, 0.99797425825736796, 0.99503446231379233, 82, 201),\n",
       " (6.0, 1.0, 1.0, 0, 0),\n",
       " (19.0, 0.99540502482768844, 0.99340398725264956, 186, 267),\n",
       " (25.0, 0.99750487907309959, 0.99439215395637248, 101, 227),\n",
       " (9.0, 1.0, 1.0, 0, 0)]"
      ]
     },
     "execution_count": 675,
     "metadata": {},
     "output_type": "execute_result"
    }
   ],
   "source": [
    "iacc"
   ]
  },
  {
   "cell_type": "code",
   "execution_count": null,
   "metadata": {
    "collapsed": true,
    "deletable": true,
    "editable": true
   },
   "outputs": [],
   "source": []
  },
  {
   "cell_type": "code",
   "execution_count": null,
   "metadata": {
    "collapsed": true,
    "deletable": true,
    "editable": true
   },
   "outputs": [],
   "source": []
  },
  {
   "cell_type": "code",
   "execution_count": 502,
   "metadata": {
    "collapsed": false,
    "deletable": true,
    "editable": true
   },
   "outputs": [],
   "source": [
    "# Forming output dataset for predicting --> trOX, trOY\n",
    "del(trX)\n",
    "del(trY)"
   ]
  },
  {
   "cell_type": "code",
   "execution_count": 636,
   "metadata": {
    "collapsed": false,
    "deletable": true,
    "editable": true
   },
   "outputs": [
    {
     "name": "stdout",
     "output_type": "stream",
     "text": [
      "61191\n",
      "2017-07-02 04:07:37.160263 61191 61191\n",
      "2017-07-02 04:11:37.513480 \t 5000 \t test_15649.tif\n",
      "2017-07-02 04:15:35.141539 \t 10000 \t test_32423.tif\n",
      "2017-07-02 04:19:31.464628 \t 15000 \t test_36264.tif\n",
      "2017-07-02 04:23:26.291960 \t 20000 \t test_10894.tif\n",
      "2017-07-02 04:27:27.294855 \t 25000 \t file_9502.tif\n",
      "2017-07-02 04:31:23.951498 \t 30000 \t file_14128.tif\n",
      "2017-07-02 04:35:20.500051 \t 35000 \t file_17389.tif\n",
      "2017-07-02 04:39:17.673402 \t 40000 \t test_19356.tif\n",
      "2017-07-02 04:43:14.361964 \t 45000 \t test_10134.tif\n",
      "2017-07-02 04:47:11.167835 \t 50000 \t test_24243.tif\n",
      "2017-07-02 04:51:12.830154 \t 55000 \t test_7049.tif\n",
      "2017-07-02 04:55:13.652858 \t 60000 \t file_10482.tif\n",
      "2017-07-02 04:56:09.780971\n"
     ]
    }
   ],
   "source": [
    "nameAsk = os.listdir(teDirI); print(len(nameAsk))\n",
    "trOX, trOY, i, size = [], [], 0, len(nameAsk)\n",
    "print(datetime.datetime.now(),len(nameAsk),size)\n",
    "for nn in nameAsk[0:size] :\n",
    "    nf = os.path.join(teDirI,nn);\n",
    "    nx = formImHist(nf,binsData) #,printOK=True)\n",
    "    if (nx is not None) :\n",
    "        trOX.append(nx)\n",
    "        trOY.append(nn)\n",
    "    i += 1\n",
    "    if (i%5000==0) : print(datetime.datetime.now(),\"\\t\",i,\"\\t\",nn)\n",
    "\n",
    "print(datetime.datetime.now())\n",
    "\n",
    "#assert (size!=len(trOY)), \"Wrong files {} != {}\".format(size,len(trOY))"
   ]
  },
  {
   "cell_type": "code",
   "execution_count": 637,
   "metadata": {
    "collapsed": false,
    "deletable": true,
    "editable": true
   },
   "outputs": [
    {
     "name": "stdout",
     "output_type": "stream",
     "text": [
      "61191 (61191, 450) (61191,)\n"
     ]
    }
   ],
   "source": [
    "trOX = np.array(trOX);\n",
    "trOY = np.array([os.path.splitext(x)[0] for x in trOY]);\n",
    "print(len(nameAsk),trOX.shape,trOY.shape)"
   ]
  },
  {
   "cell_type": "code",
   "execution_count": 638,
   "metadata": {
    "collapsed": false,
    "deletable": true,
    "editable": true
   },
   "outputs": [],
   "source": [
    "#trOX[20],trOY[20]"
   ]
  },
  {
   "cell_type": "code",
   "execution_count": 639,
   "metadata": {
    "collapsed": true,
    "deletable": true,
    "editable": true
   },
   "outputs": [],
   "source": [
    "# Saving & Loading"
   ]
  },
  {
   "cell_type": "code",
   "execution_count": 640,
   "metadata": {
    "collapsed": false,
    "deletable": true,
    "editable": true
   },
   "outputs": [],
   "source": [
    "np.save('../Work/test-data-XX'+str(binsData)+ttExt+'.npy',trOX)\n",
    "np.save('../Work/test-data-YY'+str(binsData)+ttExt+'.npy',trOY)"
   ]
  },
  {
   "cell_type": "code",
   "execution_count": 641,
   "metadata": {
    "collapsed": false,
    "deletable": true,
    "editable": true
   },
   "outputs": [
    {
     "name": "stdout",
     "output_type": "stream",
     "text": [
      "(61191, 450) (61191,)\n"
     ]
    }
   ],
   "source": [
    "trOX = np.load('../Work/test-data-XX'+str(binsData)+ttExt+'.npy')\n",
    "trOY = np.load('../Work/test-data-YY'+str(binsData)+ttExt+'.npy')\n",
    "print(trOX.shape,trOY.shape)"
   ]
  },
  {
   "cell_type": "code",
   "execution_count": null,
   "metadata": {
    "collapsed": false,
    "deletable": true,
    "editable": true
   },
   "outputs": [],
   "source": []
  },
  {
   "cell_type": "code",
   "execution_count": 684,
   "metadata": {
    "collapsed": true
   },
   "outputs": [],
   "source": [
    "# Данные для объединения от jpg\n",
    "trOX_TIF = np.load('../Work/test-data-XX'+str(binsData)+ttExt+'.npy')\n",
    "trOX_JPG = np.load('../Work/test-data-XX'+'64'+'.jpg'+'.npy')"
   ]
  },
  {
   "cell_type": "code",
   "execution_count": 685,
   "metadata": {
    "collapsed": false
   },
   "outputs": [
    {
     "data": {
      "text/plain": [
       "(61191, 642)"
      ]
     },
     "execution_count": 685,
     "metadata": {},
     "output_type": "execute_result"
    }
   ],
   "source": [
    "trOXX = np.hstack([trOX_JPG,trOX_TIF])\n",
    "trOX  = trOXX\n",
    "del trOXX,trOX_JPG,trOX_TIF\n",
    "trOX.shape"
   ]
  },
  {
   "cell_type": "code",
   "execution_count": null,
   "metadata": {
    "collapsed": true
   },
   "outputs": [],
   "source": []
  },
  {
   "cell_type": "code",
   "execution_count": 686,
   "metadata": {
    "collapsed": false,
    "deletable": true,
    "editable": true
   },
   "outputs": [],
   "source": [
    "# Формирование результата\n",
    "dtest  = xgb.DMatrix(trOX)"
   ]
  },
  {
   "cell_type": "code",
   "execution_count": 687,
   "metadata": {
    "collapsed": false,
    "deletable": true,
    "editable": true
   },
   "outputs": [
    {
     "data": {
      "text/plain": [
       "(numpy.ndarray, (61191, 17))"
      ]
     },
     "execution_count": 687,
     "metadata": {},
     "output_type": "execute_result"
    }
   ],
   "source": [
    "trP = []\n",
    "for bstI in bstList :\n",
    "    trP1 = bstI.predict(dtest);\n",
    "    trP.append(trP1)\n",
    "trP = np.array(trP).T\n",
    "type(trP),trP.shape    "
   ]
  },
  {
   "cell_type": "code",
   "execution_count": 688,
   "metadata": {
    "collapsed": true,
    "deletable": true,
    "editable": true
   },
   "outputs": [],
   "source": [
    "np.save('../Work/test-data-RR'+str(binsData)+ttExt+'.npy',trP)"
   ]
  },
  {
   "cell_type": "code",
   "execution_count": 689,
   "metadata": {
    "collapsed": false,
    "deletable": true,
    "editable": true
   },
   "outputs": [
    {
     "data": {
      "text/plain": [
       "(61191, 17)"
      ]
     },
     "execution_count": 689,
     "metadata": {},
     "output_type": "execute_result"
    }
   ],
   "source": [
    "trP = np.load('../Work/test-data-RR'+str(binsData)+ttExt+'.npy')\n",
    "trP.shape"
   ]
  },
  {
   "cell_type": "code",
   "execution_count": 690,
   "metadata": {
    "collapsed": false,
    "deletable": true,
    "editable": true
   },
   "outputs": [
    {
     "name": "stdout",
     "output_type": "stream",
     "text": [
      "[3, 10, 0, 9] \n",
      " ['haze', 'primary', 'agriculture', 'clear', 'water', 'habitation', 'road', 'cultivation', 'slash_burn', 'cloudy', 'partly_cloudy', 'conventional_mine', 'bare_ground', 'artisinal_mine', 'blooming', 'selective_logging', 'blow_down'] \n",
      " [2.0, 0.62, 0.43, 2.0, 0.4, 0.37, 0.42, 0.37, 0.2, 2.0, 2.0, 0.04, 0.3, 0.06, 0.19, 0.25, 0.09]\n"
     ]
    }
   ],
   "source": [
    "wr = [labels.index(i) for i in weather_labels];\n",
    "trM=np.array(ixx)/100.0 #np.array([0.5]*17);\n",
    "#### Коэффициенты работают +0.01 к счету trM=np.array([0.5]*17);\n",
    "trM[np.array(wr)] = 2.0\n",
    "print(wr,'\\n',labels,'\\n',trM.tolist())"
   ]
  },
  {
   "cell_type": "code",
   "execution_count": null,
   "metadata": {
    "collapsed": true,
    "deletable": true,
    "editable": true
   },
   "outputs": [],
   "source": []
  },
  {
   "cell_type": "code",
   "execution_count": 691,
   "metadata": {
    "collapsed": false,
    "deletable": true,
    "editable": true
   },
   "outputs": [
    {
     "name": "stdout",
     "output_type": "stream",
     "text": [
      "['test_0', 'partly_cloudy primary'] \n",
      " ['file_20521', 'clear primary'] \n",
      " [ 2.    0.62  0.43  2.    0.4   0.37  0.42  0.37  0.2   2.    2.    0.04\n",
      "  0.3   0.06  0.19  0.25  0.09] [  2.89360315e-01   9.97324467e-01   9.27911252e-02   8.86523485e-01\n",
      "   2.33563483e-02   1.27034227e-03   1.16532138e-02   1.36206136e-03\n",
      "   1.15857008e-04   1.26739935e-04   1.59611454e-06   5.96159452e-06\n",
      "   1.86576061e-02   1.35449022e-06   4.14318871e-04   2.84464797e-04\n",
      "   1.24619264e-05]\n"
     ]
    }
   ],
   "source": [
    "#trP = model.predict(trX, batch_size=512); trP=K.get_value(trP)\n",
    "res = []\n",
    "\n",
    "for i in range(trP.shape[0]) :\n",
    "    trA1 = [weather_labels[trP[i,wr].argmax()]]\n",
    "    trA2 = [labels[ii] for ii in range(len(labels)) if (trP[i,ii]>trM[ii])]\n",
    "    trPP = trA1 + trA2;\n",
    "    pp   = ' '.join(trPP)\n",
    "    ##if (pp==\"\") : print(trY[i])\n",
    "    res.append([trOY[i],pp])\n",
    "\n",
    "res.sort(cmp=lambda x,y: cmp(int(x[0].partition('_')[2]),int(y[0].partition('_')[2])) if (x[0].partition('_')[0]==y[0].partition('_')[0]) else cmp(y[0].partition('_')[0],x[0].partition('_')[0]))\n",
    "#print(res[4:8],'\\n',res[-4:])\n",
    "print(res[0],'\\n',res[-1],'\\n',trM,trP[0])"
   ]
  },
  {
   "cell_type": "code",
   "execution_count": null,
   "metadata": {
    "collapsed": true,
    "deletable": true,
    "editable": true
   },
   "outputs": [],
   "source": []
  },
  {
   "cell_type": "code",
   "execution_count": 692,
   "metadata": {
    "collapsed": false,
    "deletable": true,
    "editable": true
   },
   "outputs": [
    {
     "name": "stdout",
     "output_type": "stream",
     "text": [
      "['haze', 'primary', 'agriculture', 'clear', 'water', 'habitation', 'road', 'cultivation', 'slash_burn', 'cloudy', 'partly_cloudy', 'conventional_mine', 'bare_ground', 'artisinal_mine', 'blooming', 'selective_logging', 'blow_down']\n",
      "[2.0, 0.62, 0.43, 2.0, 0.4, 0.37, 0.42, 0.37, 0.2, 2.0, 2.0, 0.04, 0.3, 0.06, 0.19, 0.25, 0.09]\n"
     ]
    }
   ],
   "source": [
    "print(labels)\n",
    "print(trM.tolist())\n",
    "#np.round(trP[4:11,:])"
   ]
  },
  {
   "cell_type": "code",
   "execution_count": 693,
   "metadata": {
    "collapsed": false,
    "deletable": true,
    "editable": true
   },
   "outputs": [
    {
     "name": "stdout",
     "output_type": "stream",
     "text": [
      "2017-07-02-06-03-23\n"
     ]
    }
   ],
   "source": [
    "rrr=pd.DataFrame(res,columns=['image_name','tags']); rrr.head(); \n",
    "suffixDT = (datetime.datetime.now()).strftime('%Y-%m-%d-%H-%M-%S'); print(suffixDT)\n",
    "rrr.to_csv('../Result/vss'+suffixDT+'.csv',index=False);"
   ]
  },
  {
   "cell_type": "code",
   "execution_count": null,
   "metadata": {
    "collapsed": true,
    "deletable": true,
    "editable": true
   },
   "outputs": [],
   "source": []
  }
 ],
 "metadata": {
  "kernelspec": {
   "display_name": "Python 2",
   "language": "python",
   "name": "python2"
  },
  "language_info": {
   "codemirror_mode": {
    "name": "ipython",
    "version": 2
   },
   "file_extension": ".py",
   "mimetype": "text/x-python",
   "name": "python",
   "nbconvert_exporter": "python",
   "pygments_lexer": "ipython2",
   "version": "2.7.13"
  }
 },
 "nbformat": 4,
 "nbformat_minor": 2
}
