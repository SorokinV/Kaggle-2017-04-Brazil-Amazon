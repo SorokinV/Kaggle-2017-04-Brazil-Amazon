{
 "cells": [
  {
   "cell_type": "code",
   "execution_count": null,
   "metadata": {
    "collapsed": true,
    "deletable": true,
    "editable": true
   },
   "outputs": [],
   "source": []
  },
  {
   "cell_type": "code",
   "execution_count": 1,
   "metadata": {
    "collapsed": false,
    "deletable": true,
    "editable": true
   },
   "outputs": [],
   "source": [
    "import sys,os,datetime\n",
    "import numpy as np\n",
    "import pandas as pd\n",
    "import matplotlib.pyplot as plt\n",
    "from sklearn.metrics import fbeta_score\n",
    "from __future__ import print_function"
   ]
  },
  {
   "cell_type": "code",
   "execution_count": 2,
   "metadata": {
    "collapsed": false,
    "deletable": true,
    "editable": true
   },
   "outputs": [
    {
     "name": "stdout",
     "output_type": "stream",
     "text": [
      "1.12.1\n",
      "0.19.2\n"
     ]
    }
   ],
   "source": [
    "print(np.__version__);\n",
    "print(pd.__version__);"
   ]
  },
  {
   "cell_type": "code",
   "execution_count": 3,
   "metadata": {
    "collapsed": false,
    "deletable": true,
    "editable": true
   },
   "outputs": [
    {
     "data": {
      "text/plain": [
       "'3.2.0'"
      ]
     },
     "execution_count": 3,
     "metadata": {},
     "output_type": "execute_result"
    }
   ],
   "source": [
    "import  cv2 as cv\n",
    "cv.__version__"
   ]
  },
  {
   "cell_type": "code",
   "execution_count": 4,
   "metadata": {
    "collapsed": false,
    "deletable": true,
    "editable": true
   },
   "outputs": [],
   "source": [
    "sys.path.append('../Python')\n",
    "from helper import formFH, paths_input"
   ]
  },
  {
   "cell_type": "code",
   "execution_count": 5,
   "metadata": {
    "collapsed": false,
    "deletable": true,
    "editable": true
   },
   "outputs": [
    {
     "name": "stderr",
     "output_type": "stream",
     "text": [
      "Using TensorFlow backend.\n"
     ]
    }
   ],
   "source": [
    "#from keras.preprocessing.image import ImageDataGenerator, array_to_img, img_to_array, load_img\n",
    "from keras.models import Sequential,save_model,load_model\n",
    "from keras.layers import Convolution2D, MaxPooling2D, Convolution1D, MaxPooling1D\n",
    "from keras.layers import Activation, Dropout, Flatten, Dense\n",
    "from keras.layers.normalization import BatchNormalization\n",
    "import keras.optimizers\n",
    "from keras.callbacks import EarlyStopping"
   ]
  },
  {
   "cell_type": "code",
   "execution_count": 6,
   "metadata": {
    "collapsed": false,
    "deletable": true,
    "editable": true
   },
   "outputs": [
    {
     "data": {
      "text/plain": [
       "'2.0.4'"
      ]
     },
     "execution_count": 6,
     "metadata": {},
     "output_type": "execute_result"
    }
   ],
   "source": [
    "keras.__version__"
   ]
  },
  {
   "cell_type": "code",
   "execution_count": 7,
   "metadata": {
    "collapsed": false,
    "deletable": true,
    "editable": true
   },
   "outputs": [
    {
     "data": {
      "text/plain": [
       "('../Data/train-tif-v2',\n",
       " '../Data/test-tif-v2',\n",
       " '../Work/Train',\n",
       " '../Work/Test')"
      ]
     },
     "execution_count": 7,
     "metadata": {},
     "output_type": "execute_result"
    }
   ],
   "source": [
    "trLabels,trDirTIF,trDirJPG,teDirTIF,teDirJPG = paths_input()\n",
    "trDirI = trDirTIF\n",
    "teDirI = teDirTIF\n",
    "trWork, teWork = '../Work/Train', '../Work/Test'\n",
    "trDirI,teDirI, trWork, teWork"
   ]
  },
  {
   "cell_type": "code",
   "execution_count": null,
   "metadata": {
    "collapsed": true,
    "deletable": true,
    "editable": true
   },
   "outputs": [],
   "source": []
  },
  {
   "cell_type": "code",
   "execution_count": 8,
   "metadata": {
    "collapsed": false,
    "deletable": true,
    "editable": true
   },
   "outputs": [
    {
     "data": {
      "text/html": [
       "<div>\n",
       "<table border=\"1\" class=\"dataframe\">\n",
       "  <thead>\n",
       "    <tr style=\"text-align: right;\">\n",
       "      <th></th>\n",
       "      <th>image_name</th>\n",
       "      <th>tags</th>\n",
       "    </tr>\n",
       "  </thead>\n",
       "  <tbody>\n",
       "    <tr>\n",
       "      <th>0</th>\n",
       "      <td>train_0</td>\n",
       "      <td>haze primary</td>\n",
       "    </tr>\n",
       "    <tr>\n",
       "      <th>1</th>\n",
       "      <td>train_1</td>\n",
       "      <td>agriculture clear primary water</td>\n",
       "    </tr>\n",
       "    <tr>\n",
       "      <th>2</th>\n",
       "      <td>train_2</td>\n",
       "      <td>clear primary</td>\n",
       "    </tr>\n",
       "    <tr>\n",
       "      <th>3</th>\n",
       "      <td>train_3</td>\n",
       "      <td>clear primary</td>\n",
       "    </tr>\n",
       "    <tr>\n",
       "      <th>4</th>\n",
       "      <td>train_4</td>\n",
       "      <td>agriculture clear habitation primary road</td>\n",
       "    </tr>\n",
       "  </tbody>\n",
       "</table>\n",
       "</div>"
      ],
      "text/plain": [
       "  image_name                                       tags\n",
       "0    train_0                               haze primary\n",
       "1    train_1            agriculture clear primary water\n",
       "2    train_2                              clear primary\n",
       "3    train_3                              clear primary\n",
       "4    train_4  agriculture clear habitation primary road"
      ]
     },
     "execution_count": 8,
     "metadata": {},
     "output_type": "execute_result"
    }
   ],
   "source": [
    "labels_df = pd.read_csv(trLabels)\n",
    "labels_df.head()"
   ]
  },
  {
   "cell_type": "code",
   "execution_count": 9,
   "metadata": {
    "collapsed": true,
    "deletable": true,
    "editable": true
   },
   "outputs": [],
   "source": [
    "# Build list with unique labels\n",
    "label_list = []\n",
    "for tag_str in labels_df.tags.values:\n",
    "    labels = tag_str.split(' ')\n",
    "    for label in labels:\n",
    "        if label not in label_list:\n",
    "            label_list.append(label)"
   ]
  },
  {
   "cell_type": "code",
   "execution_count": 10,
   "metadata": {
    "collapsed": false,
    "deletable": true,
    "editable": true
   },
   "outputs": [],
   "source": [
    "# Add onehot features for every label\n",
    "for label in label_list:\n",
    "    labels_df[label] = labels_df['tags'].apply(lambda x: 1 if label in x.split(' ') else 0)\n",
    "    #labels_df[label].astype(np.int8)\n",
    "# Display head\n",
    "#labels_df.head()\n"
   ]
  },
  {
   "cell_type": "code",
   "execution_count": 11,
   "metadata": {
    "collapsed": false,
    "deletable": true,
    "editable": true
   },
   "outputs": [],
   "source": [
    "weather_labels = ['clear', 'partly_cloudy', 'haze', 'cloudy']\n",
    "land_labels = ['primary', 'agriculture', 'water', 'cultivation', 'habitation' ]\n",
    "rare_labels = [l for l in label_list if labels_df[label_list].sum()[l] < 2000]\n",
    "#rare_labels              "
   ]
  },
  {
   "cell_type": "code",
   "execution_count": null,
   "metadata": {
    "collapsed": false,
    "deletable": true,
    "editable": true
   },
   "outputs": [],
   "source": []
  },
  {
   "cell_type": "code",
   "execution_count": 12,
   "metadata": {
    "collapsed": false,
    "deletable": true,
    "editable": true
   },
   "outputs": [
    {
     "data": {
      "text/plain": [
       "array([[1, 1, 0, 0, 0, 0, 0, 0, 0, 0, 0, 0, 0, 0, 0, 0, 0],\n",
       "       [0, 1, 1, 1, 1, 0, 0, 0, 0, 0, 0, 0, 0, 0, 0, 0, 0],\n",
       "       [0, 1, 0, 1, 0, 0, 0, 0, 0, 0, 0, 0, 0, 0, 0, 0, 0],\n",
       "       [0, 1, 0, 1, 0, 0, 0, 0, 0, 0, 0, 0, 0, 0, 0, 0, 0],\n",
       "       [0, 1, 1, 1, 0, 1, 1, 0, 0, 0, 0, 0, 0, 0, 0, 0, 0],\n",
       "       [1, 1, 0, 0, 1, 0, 0, 0, 0, 0, 0, 0, 0, 0, 0, 0, 0]])"
      ]
     },
     "execution_count": 12,
     "metadata": {},
     "output_type": "execute_result"
    }
   ],
   "source": [
    "labels = label_list; #weather_labels;\n",
    "nameList =labels_df[labels_df[labels].sum(axis=1)>0].image_name.tolist(); len(nameList)\n",
    "labelList=labels_df[labels_df[labels].sum(axis=1)>0][labels].as_matrix();\n",
    "labelList[:6,:]\n",
    "#labels_df.head()"
   ]
  },
  {
   "cell_type": "code",
   "execution_count": null,
   "metadata": {
    "collapsed": true,
    "deletable": true,
    "editable": true
   },
   "outputs": [],
   "source": []
  },
  {
   "cell_type": "code",
   "execution_count": 13,
   "metadata": {
    "collapsed": false,
    "deletable": true,
    "editable": true
   },
   "outputs": [],
   "source": [
    "def formImExt (nf, resize=(32,32), printOK=False) :\n",
    "    nx = None\n",
    "    try : \n",
    "        ni = cv.imread(nf,-1); \n",
    "        if (ni is not None) :\n",
    "            if not ((ni.shape[2]==3) or (ni.shape[2]==4)) and printOK : print('----- error ---- shape:',ni.shape,nf)\n",
    "            if (ni.shape[2]==3) :\n",
    "                nx = cv.resize(ni,resize)\n",
    "            if (ni.shape[2]==4) :\n",
    "                #r,g,b,n = ni[:,:,2],ni[:,:,1],ni[:,:,0],ni[:,:,3]\n",
    "                r,g,b,n = cv.resize(ni[:,:,2],resize),cv.resize(ni[:,:,1],resize),cv.resize(ni[:,:,0],resize),cv.resize(ni[:,:,3],resize)\n",
    "                dv,dw   = np.divide((r-n),(r+n+0.01)), np.divide((g-n),(g+n+0.01))\n",
    "                nx      = np.array([r,g,b,n,dv,dw]).T; \n",
    "    except BaseException as e :\n",
    "        print(nf,e); nx = None;\n",
    "    \n",
    "    if nx is None and printOK : \n",
    "        print('------ None:',nf); nx = None\n",
    "        \n",
    "    return(nx)"
   ]
  },
  {
   "cell_type": "code",
   "execution_count": 36,
   "metadata": {
    "collapsed": false,
    "deletable": true,
    "editable": true
   },
   "outputs": [
    {
     "name": "stdout",
     "output_type": "stream",
     "text": [
      "2017-05-15 01:24:39.256551 40479 40479\n",
      "2017-05-15 01:25:33.407633 \t 5000 \t train_4999\n",
      "2017-05-15 01:27:48.406526 \t 10000 \t train_9999\n",
      "2017-05-15 01:30:05.273415 \t 15000 \t train_14999\n",
      "2017-05-15 01:32:21.207122 \t 20000 \t train_19999\n",
      "2017-05-15 01:34:37.987198 \t 25000 \t train_24999\n",
      "2017-05-15 01:36:55.296700 \t 30000 \t train_29999\n",
      "2017-05-15 01:39:12.678141 \t 35000 \t train_34999\n",
      "2017-05-15 01:41:33.065293 \t 40000 \t train_39999\n",
      "2017-05-15 01:41:45.582977\n",
      "40479 (40479, 32, 32, 6) (40479, 17)\n"
     ]
    }
   ],
   "source": [
    "trX, trY, i, size = [],[], 0, len(nameList)\n",
    "print(datetime.datetime.now(),len(nameList),size)\n",
    "for nn in nameList[0:size] :\n",
    "    nf = os.path.join(trDirTIF,nn+\".tif\");\n",
    "    nx = formImExt(nf)\n",
    "    if (nx is not None) :\n",
    "        #rr=np.save(os.path.join(trWork,nn+\".npy\"),nx);\n",
    "        #trX.append(nn+\".npy\")\n",
    "        trX.append(nx)\n",
    "        trY.append(True)\n",
    "    else : \n",
    "        trY.append(False)\n",
    "    i += 1\n",
    "    if (i%5000==0) : print(datetime.datetime.now(),\"\\t\",i,\"\\t\",nn)\n",
    "    #print(nn.shape)\n",
    "\n",
    "print(datetime.datetime.now())\n",
    "trX = np.array(trX);\n",
    "trY = labelList[trY];\n",
    "print(len(nameList),trX.shape,trY.shape)\n",
    "#trXY=pd.DataFrame(trY); trXY['name']=trX; trXY.head()\n",
    "#trXY.to_pickle(os.path.join(trWork,\"listFiles.pkl\"))"
   ]
  },
  {
   "cell_type": "code",
   "execution_count": 45,
   "metadata": {
    "collapsed": false,
    "deletable": true,
    "editable": true
   },
   "outputs": [],
   "source": [
    "np.save('../Data-Keras/train-model-2D-1-v2-XX.h5',trX)\n",
    "np.save('../Data-Keras/train-model-2D-1-v2-YY.h5',trY)"
   ]
  },
  {
   "cell_type": "code",
   "execution_count": null,
   "metadata": {
    "collapsed": false,
    "deletable": true,
    "editable": true
   },
   "outputs": [],
   "source": []
  },
  {
   "cell_type": "code",
   "execution_count": 38,
   "metadata": {
    "collapsed": false,
    "deletable": true,
    "editable": true
   },
   "outputs": [],
   "source": [
    "import keras.backend as K\n",
    "def fbeta_pred(y_true, y_pred, beta=2.0, OK1=0.2, eps=0.000001, printOK=False):\n",
    "    beta2 = beta*beta\n",
    "    yy_true = K.round(y_true)\n",
    "    #yy_pred = K.round(y_pred+(0.5-OK1))\n",
    "    yy_pred = K.round(y_pred)\n",
    "    tp, tp_fp, fn = K.sum((yy_pred*yy_true)), K.sum(yy_true), K.sum((K.abs(yy_pred*(yy_true-1.0))))\n",
    "    precision, recall = tp/(tp_fp+eps), tp/(tp+fn+eps) \n",
    "    fbeta = (1+beta2)*(precision*recall)/(beta2*precision+recall+eps)\n",
    "    ##if fbeta>1.0 : fbeta = 1.0;\n",
    "    if printOK :\n",
    "        print('ten true ',K.get_value(yy_true))\n",
    "        #print('ten pred ',y_pred)\n",
    "        print('ten roun ',K.get_value(yy_pred))\n",
    "        print(' pre=',K.get_value(precision),' recall=',K.get_value(recall),' tp=',\n",
    "              K.get_value(tp),' fn=',K.get_value(fn),' tp+fp=',K.get_value(tp_fp))\n",
    "    return(fbeta)"
   ]
  },
  {
   "cell_type": "code",
   "execution_count": null,
   "metadata": {
    "collapsed": false,
    "deletable": true,
    "editable": true
   },
   "outputs": [],
   "source": []
  },
  {
   "cell_type": "code",
   "execution_count": 60,
   "metadata": {
    "collapsed": false,
    "deletable": true,
    "editable": true
   },
   "outputs": [],
   "source": [
    "#\n",
    "#\n",
    "#\n",
    "\n",
    "i0,i1,i2,i3 = trX.shape\n",
    "rr = trY.shape[1]\n",
    "\n",
    "model = Sequential()\n",
    "model.add(BatchNormalization(input_shape=(i1,i2,i3)))\n",
    "\n",
    "model.add(Convolution2D(64,(5,5)))\n",
    "model.add(Activation('relu'))\n",
    "model.add(MaxPooling2D(pool_size=(2,2)))\n",
    "model.add(Dropout(0.25))\n",
    "\n",
    "model.add(Convolution2D(128,(3,3),activation='relu'))\n",
    "model.add(MaxPooling2D(pool_size=(2,2)))\n",
    "model.add(Dropout(0.25))\n",
    "\n",
    "model.add(Convolution2D(256,(3,3),activation='relu'))\n",
    "model.add(MaxPooling2D(pool_size=(2,2)))\n",
    "model.add(Dropout(0.25))\n",
    "\n",
    "model.add(Flatten())\n",
    "\n",
    "model.add(Dense(256,activation='relu'))\n",
    "model.add(Dropout(0.5))\n",
    "\n",
    "model.add(Dense(512,activation='relu'))\n",
    "model.add(Dropout(0.5))\n",
    "\n",
    "model.add(Dense(1024,activation='relu'))\n",
    "model.add(Dropout(0.5))\n",
    "\n",
    "model.add(Dense(rr,activation='sigmoid'))\n",
    "\n",
    "sgd = keras.optimizers.SGD(lr=0.01, decay=1e-6, momentum=0.9, nesterov=True)\n",
    "model.compile(loss='categorical_crossentropy',\n",
    "              optimizer='adam', #sgd, #\"adam\", #'rmsprop',\n",
    "              metrics=[fbeta_pred]) #['accuracy',fbeta_pred]) #['accuracy'])"
   ]
  },
  {
   "cell_type": "code",
   "execution_count": 61,
   "metadata": {
    "collapsed": false,
    "deletable": true,
    "editable": true
   },
   "outputs": [],
   "source": [
    "# badly don't work: fail customs metric # model=load_model('../Data-Keras/basin02-loop-all.h5') ## verify load from v1 version\n",
    "#model.load_weights('../Data-Keras/train-model-020-1D-2-v2-loop-weights.h5') ## verify load weights from v1 version"
   ]
  },
  {
   "cell_type": "code",
   "execution_count": 62,
   "metadata": {
    "collapsed": false,
    "deletable": true,
    "editable": true
   },
   "outputs": [
    {
     "name": "stdout",
     "output_type": "stream",
     "text": [
      "_________________________________________________________________\n",
      "Layer (type)                 Output Shape              Param #   \n",
      "=================================================================\n",
      "batch_normalization_11 (Batc (None, 32, 32, 6)         24        \n",
      "_________________________________________________________________\n",
      "conv2d_22 (Conv2D)           (None, 28, 28, 64)        9664      \n",
      "_________________________________________________________________\n",
      "activation_9 (Activation)    (None, 28, 28, 64)        0         \n",
      "_________________________________________________________________\n",
      "max_pooling2d_19 (MaxPooling (None, 14, 14, 64)        0         \n",
      "_________________________________________________________________\n",
      "dropout_34 (Dropout)         (None, 14, 14, 64)        0         \n",
      "_________________________________________________________________\n",
      "conv2d_23 (Conv2D)           (None, 12, 12, 128)       73856     \n",
      "_________________________________________________________________\n",
      "max_pooling2d_20 (MaxPooling (None, 6, 6, 128)         0         \n",
      "_________________________________________________________________\n",
      "dropout_35 (Dropout)         (None, 6, 6, 128)         0         \n",
      "_________________________________________________________________\n",
      "conv2d_24 (Conv2D)           (None, 4, 4, 256)         295168    \n",
      "_________________________________________________________________\n",
      "max_pooling2d_21 (MaxPooling (None, 2, 2, 256)         0         \n",
      "_________________________________________________________________\n",
      "dropout_36 (Dropout)         (None, 2, 2, 256)         0         \n",
      "_________________________________________________________________\n",
      "flatten_7 (Flatten)          (None, 1024)              0         \n",
      "_________________________________________________________________\n",
      "dense_22 (Dense)             (None, 256)               262400    \n",
      "_________________________________________________________________\n",
      "dropout_37 (Dropout)         (None, 256)               0         \n",
      "_________________________________________________________________\n",
      "dense_23 (Dense)             (None, 512)               131584    \n",
      "_________________________________________________________________\n",
      "dropout_38 (Dropout)         (None, 512)               0         \n",
      "_________________________________________________________________\n",
      "dense_24 (Dense)             (None, 1024)              525312    \n",
      "_________________________________________________________________\n",
      "dropout_39 (Dropout)         (None, 1024)              0         \n",
      "_________________________________________________________________\n",
      "dense_25 (Dense)             (None, 17)                17425     \n",
      "=================================================================\n",
      "Total params: 1,315,433\n",
      "Trainable params: 1,315,421\n",
      "Non-trainable params: 12\n",
      "_________________________________________________________________\n"
     ]
    }
   ],
   "source": [
    "model.summary()"
   ]
  },
  {
   "cell_type": "code",
   "execution_count": 65,
   "metadata": {
    "collapsed": false,
    "deletable": true,
    "editable": true
   },
   "outputs": [
    {
     "name": "stdout",
     "output_type": "stream",
     "text": [
      "time.begin : 2017-05-15 02:34:23.642267\n",
      "Train on 32383 samples, validate on 8096 samples\n",
      "Epoch 1/25\n",
      "9s - loss: 4.5661 - fbeta_pred: 0.8535 - val_loss: 4.5398 - val_fbeta_pred: 0.8664\n",
      "Epoch 2/25\n",
      "9s - loss: 4.5487 - fbeta_pred: 0.8555 - val_loss: 4.5361 - val_fbeta_pred: 0.8697\n",
      "Epoch 3/25\n",
      "9s - loss: 4.5510 - fbeta_pred: 0.8558 - val_loss: 4.5258 - val_fbeta_pred: 0.8653\n",
      "Epoch 4/25\n",
      "9s - loss: 4.5304 - fbeta_pred: 0.8562 - val_loss: 4.5286 - val_fbeta_pred: 0.8677\n",
      "Epoch 5/25\n",
      "9s - loss: 4.5295 - fbeta_pred: 0.8588 - val_loss: 4.5280 - val_fbeta_pred: 0.8709\n",
      "Epoch 6/25\n",
      "9s - loss: 4.5327 - fbeta_pred: 0.8584 - val_loss: 4.5247 - val_fbeta_pred: 0.8667\n",
      "Epoch 7/25\n",
      "9s - loss: 4.5281 - fbeta_pred: 0.8562 - val_loss: 4.5310 - val_fbeta_pred: 0.8723\n",
      "Epoch 8/25\n",
      "9s - loss: 4.5247 - fbeta_pred: 0.8592 - val_loss: 4.5148 - val_fbeta_pred: 0.8715\n",
      "Epoch 9/25\n",
      "9s - loss: 4.5242 - fbeta_pred: 0.8586 - val_loss: 4.5263 - val_fbeta_pred: 0.8721\n",
      "Epoch 10/25\n",
      "9s - loss: 4.5220 - fbeta_pred: 0.8583 - val_loss: 4.5080 - val_fbeta_pred: 0.8683\n",
      "Epoch 11/25\n",
      "9s - loss: 4.5116 - fbeta_pred: 0.8595 - val_loss: 4.5203 - val_fbeta_pred: 0.8707\n",
      "Epoch 12/25\n",
      "9s - loss: 4.5139 - fbeta_pred: 0.8587 - val_loss: 4.5218 - val_fbeta_pred: 0.8728\n",
      "Epoch 13/25\n",
      "9s - loss: 4.5044 - fbeta_pred: 0.8608 - val_loss: 4.5483 - val_fbeta_pred: 0.8693\n",
      "Epoch 14/25\n",
      "9s - loss: 4.4994 - fbeta_pred: 0.8613 - val_loss: 4.5031 - val_fbeta_pred: 0.8679\n",
      "Epoch 15/25\n",
      "9s - loss: 4.5089 - fbeta_pred: 0.8598 - val_loss: 4.5439 - val_fbeta_pred: 0.8717\n",
      "Epoch 16/25\n",
      "9s - loss: 4.4997 - fbeta_pred: 0.8604 - val_loss: 4.5491 - val_fbeta_pred: 0.8691\n",
      "Epoch 17/25\n",
      "9s - loss: 4.5018 - fbeta_pred: 0.8603 - val_loss: 4.4943 - val_fbeta_pred: 0.8714\n",
      "Epoch 18/25\n",
      "9s - loss: 4.4942 - fbeta_pred: 0.8606 - val_loss: 4.5020 - val_fbeta_pred: 0.8740\n",
      "Epoch 19/25\n",
      "9s - loss: 4.4935 - fbeta_pred: 0.8593 - val_loss: 4.4988 - val_fbeta_pred: 0.8775\n",
      "Epoch 20/25\n",
      "9s - loss: 4.4911 - fbeta_pred: 0.8612 - val_loss: 4.5010 - val_fbeta_pred: 0.8735\n",
      "Epoch 21/25\n",
      "9s - loss: 4.4935 - fbeta_pred: 0.8600 - val_loss: 4.5013 - val_fbeta_pred: 0.8720\n",
      "Epoch 22/25\n",
      "9s - loss: 4.4882 - fbeta_pred: 0.8621 - val_loss: 4.4982 - val_fbeta_pred: 0.8722\n",
      "Epoch 23/25\n",
      "9s - loss: 4.4826 - fbeta_pred: 0.8633 - val_loss: 4.5067 - val_fbeta_pred: 0.8704\n",
      "Epoch 24/25\n",
      "9s - loss: 4.4842 - fbeta_pred: 0.8624 - val_loss: 4.5039 - val_fbeta_pred: 0.8718\n",
      "Epoch 25/25\n",
      "9s - loss: 4.4760 - fbeta_pred: 0.8630 - val_loss: 4.5207 - val_fbeta_pred: 0.8712\n",
      "time.end   : 2017-05-15 02:38:12.388848\n"
     ]
    }
   ],
   "source": [
    "print('time.begin :',datetime.datetime.now())\n",
    "early_stopping = EarlyStopping(monitor='val_loss', patience=2)\n",
    "model.fit(X, y, validation_split=0.2, callbacks=[early_stopping])\n",
    "hist = model.fit(trX,trY,\n",
    "         epochs=25, #10,\n",
    "         batch_size=256,\n",
    "         validation_split=0.20,\n",
    "         callbacks=[early_stopping],\n",
    "         verbose=2\n",
    "         )\n",
    "        #samples_per_epoch=200)\n",
    "        #validation_data=validation_generator,\n",
    "        #initial_epoch=start,\n",
    "        #nb_val_samples=2048\n",
    "         #)\n",
    "print('time.end   :',datetime.datetime.now())"
   ]
  },
  {
   "cell_type": "code",
   "execution_count": null,
   "metadata": {
    "collapsed": true,
    "deletable": true,
    "editable": true
   },
   "outputs": [],
   "source": []
  },
  {
   "cell_type": "code",
   "execution_count": 43,
   "metadata": {
    "collapsed": false,
    "deletable": true,
    "editable": true
   },
   "outputs": [],
   "source": [
    "save_model(model,'../Data-Keras/train-model-2D-1-v2-all.h5')\n",
    "model.save_weights('../Data-Keras/train-model-2D-1-v2-weights.h5')  # save weights after training"
   ]
  },
  {
   "cell_type": "code",
   "execution_count": 66,
   "metadata": {
    "collapsed": false,
    "deletable": true,
    "editable": true
   },
   "outputs": [
    {
     "name": "stdout",
     "output_type": "stream",
     "text": [
      "[4.3996954664899777, 0.87945910120361415]\n",
      "(40479, 17)\n",
      "(40479, 17)\n",
      "fbeta_score= 0.893811306979\n",
      "fbeta_pred = 0.879014958228\n"
     ]
    }
   ],
   "source": [
    "print(model.evaluate(trX,trY,verbose=2))\n",
    "trP = model.predict(trX, batch_size=128)\n",
    "print(trY.shape)\n",
    "print(trP.shape)\n",
    "print('fbeta_score=',fbeta_score(trY, np.array(trP) > 0.2, beta=2, average='samples'))\n",
    "print('fbeta_pred =',K.get_value(fbeta_pred(trY.astype(np.float64),trP.astype(np.float64))))"
   ]
  },
  {
   "cell_type": "code",
   "execution_count": null,
   "metadata": {
    "collapsed": false,
    "deletable": true,
    "editable": true
   },
   "outputs": [],
   "source": []
  },
  {
   "cell_type": "code",
   "execution_count": null,
   "metadata": {
    "collapsed": true,
    "deletable": true,
    "editable": true
   },
   "outputs": [],
   "source": []
  },
  {
   "cell_type": "code",
   "execution_count": 48,
   "metadata": {
    "collapsed": false,
    "deletable": true,
    "editable": true
   },
   "outputs": [
    {
     "name": "stdout",
     "output_type": "stream",
     "text": [
      "time.begin : 2017-05-15 01:58:40.818427\n",
      "2017-05-15 01:58:43.986029 0 0.868059261389 [4.6235675547191812, 0.85972495279769423]\n",
      "2017-05-15 01:59:55.872659 0 0.867757843378 ( 0.868059261389 ) [4.634846947510554, 0.85930002745810685]\n",
      "2017-05-15 02:01:07.827121 1 0.865095514463 ( 0.868059261389 ) [4.6301586407264432, 0.86307829108238576]\n",
      "2017-05-15 02:02:20.435411 2 0.872059892074 ( 0.868059261389 ) [4.5869103705371481, 0.86574812870481044]\n",
      "2017-05-15 02:03:32.269407 3 0.87089557615 ( 0.872059892074 ) [4.592559225000457, 0.86118734666265084]\n",
      "2017-05-15 02:04:44.437900 4 0.865811295641 ( 0.872059892074 ) [4.6107854238361377, 0.86119799125206031]\n",
      "2017-05-15 02:05:56.442050 5 0.874604359252 ( 0.872059892074 ) [4.5657333543629939, 0.86629773470431837]\n",
      "2017-05-15 02:07:08.406273 6 0.874211744714 ( 0.872059892074 ) [4.5562372201987262, 0.86594739223163253]\n",
      "2017-05-15 02:08:19.845920 7 0.86667917166 ( 0.872059892074 ) [4.580335893008769, 0.86347966977631663]\n",
      "2017-05-15 02:09:32.147029 8 0.86713749703 ( 0.872059892074 ) [4.5918868822278576, 0.86619631708685785]\n",
      "2017-05-15 02:10:44.621367 9 0.870717573779 ( 0.872059892074 ) [4.5937136134339394, 0.8655040447836635]\n",
      "time.end   : 2017-05-15 02:10:48.417118\n"
     ]
    }
   ],
   "source": [
    "print('time.begin :',datetime.datetime.now())\n",
    "beta_old = 0.0\n",
    "trP = model.predict(trX, batch_size=512)\n",
    "beta_old = fbeta_score(trY, np.array(trP) > 0.2, beta=2, average='samples')\n",
    "print(datetime.datetime.now(),0,beta_old,model.evaluate(trX,trY,verbose=2))\n",
    "for i in range(10) :\n",
    "    model.fit(trX,trY,\n",
    "             nb_epoch=10,\n",
    "             batch_size=128,\n",
    "             validation_split=0.20,\n",
    "             verbose=0\n",
    "             )\n",
    "    trP = model.predict(trX, batch_size=512)\n",
    "    beta_new = fbeta_score(trY, np.array(trP) > 0.2, beta=2, average='samples')\n",
    "    print(datetime.datetime.now(),i,beta_new,\"(\",beta_old,\")\",model.evaluate(trX,trY,verbose=2))\n",
    "    if ((beta_old+0.003)<beta_new) :\n",
    "        save_model(model,'../Data-Keras/train-model-2D-1-v2-loop-all.h5')\n",
    "        model.save_weights('../Data-Keras/train-model-2D-1-v2-loop-weights.h5')  # save weights after training\n",
    "        beta_old = beta_new\n",
    "print('time.end   :',datetime.datetime.now())"
   ]
  },
  {
   "cell_type": "code",
   "execution_count": null,
   "metadata": {
    "collapsed": false,
    "deletable": true,
    "editable": true
   },
   "outputs": [],
   "source": []
  },
  {
   "cell_type": "code",
   "execution_count": 68,
   "metadata": {
    "collapsed": false,
    "deletable": true,
    "editable": true
   },
   "outputs": [
    {
     "name": "stdout",
     "output_type": "stream",
     "text": [
      "2017-05-15 02:40:32.104666 0 --> 64 0.690668014223 [0.68973956976074102, 0.69066801422279211, 0.69014488461294132]\n",
      "2017-05-15 02:41:01.256546 1 --> 84 0.981194781817 [0.98114260822874111, 0.98119478181654729, 0.98113834097680852]\n",
      "2017-05-15 02:41:35.939581 2 --> 67 0.817261244201 [0.81649919256186598, 0.81726124420066348, 0.81720181584075324]\n",
      "2017-05-15 02:42:16.593282 3 --> 92 0.959007189193 [0.95841925761671165, 0.95900718919257255, 0.95877447330169097]\n",
      "2017-05-15 02:43:02.890658 4 --> 47 0.789400667392 [0.78829811011011819, 0.78940066739193948, 0.78879631139865403]\n",
      "2017-05-15 02:43:55.147150 5 --> 42 0.57892221217 [0.57814746592484345, 0.5789222121703973, 0.57528661245391677]\n",
      "2017-05-15 02:44:53.167942 6 --> 57 0.703711548147 [0.70345935610271726, 0.70371154814742987, 0.70346676816201048]\n",
      "2017-05-15 02:45:57.825965 7 --> 45 0.566625332681 [0.56444230398960549, 0.56662533268054449, 0.56575468552724928]\n",
      "2017-05-15 02:47:08.351534 8 --> 21 0.259480731412 [0.24770612421548646, 0.25948073141178507, 0.25806420404708175]\n",
      "2017-05-15 02:48:25.077139 9 --> 98 0.784219729461 [0.78130194679533138, 0.78421972946080287, 0.7794800948286229]\n",
      "2017-05-15 02:49:48.421044 10 --> 60 0.910427877875 [0.91013345165644399, 0.91042787787543189, 0.91041817901459265]\n",
      "2017-05-15 02:51:17.676917 11 --> 15 0.258620377527 [0.24999971805586518, 0.25862037752711825, 0.16025611748078758]\n",
      "2017-05-15 02:52:52.927930 12 --> 33 0.298651001694 [0.29765552359769681, 0.29865100169393016, 0.29411739192715997]\n",
      "2017-05-15 02:54:34.909986 13 --> 46 0.756832286708 [0.75261301225953414, 0.75683228670815861, 0.75552364566009234]\n",
      "2017-05-15 02:56:23.135058 14 --> 5 0.100670831664 [0.083333082834084443, 0.10067083166393269, 0.036057490437741653]\n",
      "2017-05-15 02:58:17.056191 15 --> 18 0.23247956281 [0.23159877254449668, 0.23247956280989218, 0.22308758939235268]\n",
      "2017-05-15 03:00:17.547776 16 --> 5 0.176990839534 [0.16279047582506759, 0.176990839533778, 0.17605606452132624]\n"
     ]
    }
   ],
   "source": [
    "rr, rrx = [], []; trP = model.predict(trX, batch_size=512)\n",
    "for i in range(trP.shape[1]) :\n",
    "    xx = [];\n",
    "    trYY = trY[:,i].astype(np.float64)\n",
    "    trPY = trP[:,i]\n",
    "    for ii in range(100) :\n",
    "        trPP = (trPY>0.01*ii).astype(np.float64)\n",
    "        #x = fbeta_score(trY[:,0], np.array(trP[:,0] > 0.1*ii), beta=2, average='samples')\n",
    "        x = K.get_value(fbeta_pred(trYY,trPP))\n",
    "        xx.append(x)\n",
    "    rrr = np.array(xx).argmax();\n",
    "    rr.append(rrr)\n",
    "    rrx.append(xx[rrr])\n",
    "    print(datetime.datetime.now(),i,'-->',rrr,xx[rrr],xx[(rrr-1):(rrr+2)])\n",
    "    #print(xx);\n",
    "    #plt.plot(np.array(xx)); plt.show()\n",
    "trM = np.array(rr)/100.0;"
   ]
  },
  {
   "cell_type": "code",
   "execution_count": 34,
   "metadata": {
    "collapsed": false,
    "deletable": true,
    "editable": true
   },
   "outputs": [
    {
     "name": "stdout",
     "output_type": "stream",
     "text": [
      "[ 0.69  0.68  0.67  0.57  0.66  0.59  0.75  0.74  0.85  0.62  0.83  0.63\n",
      "  0.85  0.83  0.67  0.82  0.74] \n",
      " ['haze' 'primary' 'agriculture' 'clear' 'water' 'habitation' 'road'\n",
      " 'cultivation' 'slash_burn' 'cloudy' 'partly_cloudy' 'conventional_mine'\n",
      " 'bare_ground' 'artisinal_mine' 'blooming' 'selective_logging' 'blow_down'] \n",
      " [0.93377240657814409, 0.99279538111936494, 0.95448843120120763, 0.9829248177627492, 0.95320055956514071, 0.94823480289015438, 0.94235649860036452, 0.93367768697755682, 0.94515729024076733, 0.95240455248715195, 0.96759549750785712, 0.96064791465733068, 0.93907893839376577, 0.95574064375533718, 0.9357140562398506, 0.93481351993985629, 0.951219273230275] \n",
      " 0.951989545362\n"
     ]
    }
   ],
   "source": [
    "print(trM,'\\n',np.array(labels),'\\n',rrx,'\\n',(np.array(rrx)).mean())"
   ]
  },
  {
   "cell_type": "code",
   "execution_count": 69,
   "metadata": {
    "collapsed": false,
    "deletable": true,
    "editable": true
   },
   "outputs": [
    {
     "name": "stdout",
     "output_type": "stream",
     "text": [
      "[ 0.64  0.84  0.67  0.92  0.47  0.42  0.57  0.45  0.21  0.98  0.6   0.15\n",
      "  0.33  0.46  0.05  0.18  0.05] \n",
      " ['haze' 'primary' 'agriculture' 'clear' 'water' 'habitation' 'road'\n",
      " 'cultivation' 'slash_burn' 'cloudy' 'partly_cloudy' 'conventional_mine'\n",
      " 'bare_ground' 'artisinal_mine' 'blooming' 'selective_logging' 'blow_down'] \n",
      " [0.69066801422279211, 0.98119478181654729, 0.81726124420066348, 0.95900718919257255, 0.78940066739193948, 0.5789222121703973, 0.70371154814742987, 0.56662533268054449, 0.25948073141178507, 0.78421972946080287, 0.91042787787543189, 0.25862037752711825, 0.29865100169393016, 0.75683228670815861, 0.10067083166393269, 0.23247956280989218, 0.176990839533778] \n",
      " 0.580303778148\n"
     ]
    }
   ],
   "source": [
    "print(trM,'\\n',np.array(labels),'\\n',rrx,'\\n',(np.array(rrx)).mean())"
   ]
  },
  {
   "cell_type": "code",
   "execution_count": 70,
   "metadata": {
    "collapsed": false,
    "deletable": true,
    "editable": true
   },
   "outputs": [],
   "source": [
    "save_model(model,  '../Data-Keras/train-model-020-1D-2-v2-loop-all.h5')\n",
    "model.save_weights('../Data-Keras/train-model-020-1D-2-v2-loop-weights.h5')  # save weights after training"
   ]
  },
  {
   "cell_type": "code",
   "execution_count": null,
   "metadata": {
    "collapsed": false,
    "deletable": true,
    "editable": true
   },
   "outputs": [],
   "source": []
  },
  {
   "cell_type": "code",
   "execution_count": 115,
   "metadata": {
    "collapsed": false
   },
   "outputs": [
    {
     "ename": "NameError",
     "evalue": "name 'trX' is not defined",
     "output_type": "error",
     "traceback": [
      "\u001b[0;31m---------------------------------------------------------------------------\u001b[0m",
      "\u001b[0;31mNameError\u001b[0m                                 Traceback (most recent call last)",
      "\u001b[0;32m<ipython-input-115-1664d7f42525>\u001b[0m in \u001b[0;36m<module>\u001b[0;34m()\u001b[0m\n\u001b[1;32m      1\u001b[0m \u001b[0;31m# Forming output dataset for predicting --> trOX, trOY\u001b[0m\u001b[0;34m\u001b[0m\u001b[0;34m\u001b[0m\u001b[0m\n\u001b[0;32m----> 2\u001b[0;31m \u001b[0;32mdel\u001b[0m\u001b[0;34m(\u001b[0m\u001b[0mtrX\u001b[0m\u001b[0;34m)\u001b[0m\u001b[0;34m\u001b[0m\u001b[0m\n\u001b[0m\u001b[1;32m      3\u001b[0m \u001b[0;32mdel\u001b[0m\u001b[0;34m(\u001b[0m\u001b[0mtrY\u001b[0m\u001b[0;34m)\u001b[0m\u001b[0;34m\u001b[0m\u001b[0m\n",
      "\u001b[0;31mNameError\u001b[0m: name 'trX' is not defined"
     ]
    }
   ],
   "source": [
    "# Forming output dataset for predicting --> trOX, trOY\n",
    "del(trX)\n",
    "del(trY)"
   ]
  },
  {
   "cell_type": "code",
   "execution_count": 116,
   "metadata": {
    "collapsed": false,
    "deletable": true,
    "editable": true
   },
   "outputs": [
    {
     "name": "stdout",
     "output_type": "stream",
     "text": [
      "61191\n",
      "2017-05-15 03:41:31.480157 40479 61191\n",
      "2017-05-15 03:44:42.278867 \t 5000 \t test_15649.tif\n",
      "2017-05-15 03:47:38.148162 \t 10000 \t test_32423.tif\n",
      "2017-05-15 03:50:30.404013 \t 15000 \t test_36264.tif\n",
      "2017-05-15 03:53:15.246494 \t 20000 \t test_10894.tif\n",
      "2017-05-15 03:56:02.300335 \t 25000 \t file_9502.tif\n",
      "2017-05-15 03:58:41.448958 \t 30000 \t file_14128.tif\n",
      "2017-05-15 04:01:16.200243 \t 35000 \t file_17389.tif\n",
      "2017-05-15 04:03:46.526075 \t 40000 \t test_19356.tif\n",
      "2017-05-15 04:06:14.270358 \t 45000 \t test_10134.tif\n",
      "2017-05-15 04:08:39.599717 \t 50000 \t test_24243.tif\n",
      "2017-05-15 04:11:03.067190 \t 55000 \t test_7049.tif\n",
      "2017-05-15 04:13:24.769720 \t 60000 \t file_10482.tif\n",
      "2017-05-15 04:13:56.596995\n"
     ]
    }
   ],
   "source": [
    "nameAsk = os.listdir(teDirI); print(len(nameAsk))\n",
    "trOX, trOY, i, size = [], [], 0, len(nameAsk)\n",
    "print(datetime.datetime.now(),len(nameList),size)\n",
    "for nn in nameAsk[0:size] :\n",
    "    nf = os.path.join(teDirTIF,nn);\n",
    "    nx = formImExt(nf)\n",
    "    if (nx is not None) :\n",
    "        trOX.append(nx)\n",
    "        trOY.append(nn)\n",
    "    i += 1\n",
    "    if (i%5000==0) : print(datetime.datetime.now(),\"\\t\",i,\"\\t\",nn)\n",
    "\n",
    "print(datetime.datetime.now())\n",
    "\n",
    "#assert (size!=len(trOY)), \"Wrong files {} != {}\".format(size,len(trOY))"
   ]
  },
  {
   "cell_type": "code",
   "execution_count": 117,
   "metadata": {
    "collapsed": false,
    "deletable": true,
    "editable": true
   },
   "outputs": [
    {
     "name": "stdout",
     "output_type": "stream",
     "text": [
      "61191 (61191, 32, 32, 6) (61191,)\n"
     ]
    }
   ],
   "source": [
    "trOX = np.array(trOX);\n",
    "trOY = np.array([os.path.splitext(x)[0] for x in trOY]);\n",
    "print(len(nameAsk),trOX.shape,trOY.shape)"
   ]
  },
  {
   "cell_type": "code",
   "execution_count": null,
   "metadata": {
    "collapsed": true
   },
   "outputs": [],
   "source": []
  },
  {
   "cell_type": "code",
   "execution_count": null,
   "metadata": {
    "collapsed": true
   },
   "outputs": [],
   "source": [
    "# Saving & Loading"
   ]
  },
  {
   "cell_type": "code",
   "execution_count": 118,
   "metadata": {
    "collapsed": false,
    "deletable": true,
    "editable": true
   },
   "outputs": [],
   "source": [
    "np.save('../Data-Keras/test-basin-2D-1-OX-tif-v2.npy',trOX)\n",
    "np.save('../Data-Keras/test-basin-2D-1-OY-tif-v2.npy',trOY)"
   ]
  },
  {
   "cell_type": "code",
   "execution_count": 119,
   "metadata": {
    "collapsed": false,
    "deletable": true,
    "editable": true
   },
   "outputs": [
    {
     "name": "stdout",
     "output_type": "stream",
     "text": [
      "(61191, 32, 32, 6) (61191,)\n"
     ]
    }
   ],
   "source": [
    "trOX = np.load('../Data-Keras/test-basin-2D-1-OX-tif-v2.npy')\n",
    "trOY = np.load('../Data-Keras/test-basin-2D-1-OY-tif-v2.npy')\n",
    "print(trOX.shape,trOY.shape)"
   ]
  },
  {
   "cell_type": "code",
   "execution_count": null,
   "metadata": {
    "collapsed": true
   },
   "outputs": [],
   "source": []
  },
  {
   "cell_type": "code",
   "execution_count": null,
   "metadata": {
    "collapsed": true
   },
   "outputs": [],
   "source": [
    "#Forming result"
   ]
  },
  {
   "cell_type": "code",
   "execution_count": 120,
   "metadata": {
    "collapsed": false,
    "deletable": true,
    "editable": true
   },
   "outputs": [
    {
     "data": {
      "text/plain": [
       "((61191, 17), array([  8.55755119e-04,   9.99668956e-01,   2.44944282e-02,\n",
       "          9.97647941e-01,   2.16208771e-02,   6.90812198e-03,\n",
       "          2.93815713e-02,   1.97501872e-02,   4.83314099e-04,\n",
       "          8.18360932e-05,   6.91951578e-03,   5.09938673e-06,\n",
       "          1.69814972e-03,   4.79749997e-06,   5.87242134e-02,\n",
       "          3.13019678e-02,   6.51171524e-03], dtype=float32))"
      ]
     },
     "execution_count": 120,
     "metadata": {},
     "output_type": "execute_result"
    }
   ],
   "source": [
    "trP = model.predict(trOX, batch_size=512); \n",
    "trP.shape, trP[-1]"
   ]
  },
  {
   "cell_type": "code",
   "execution_count": 121,
   "metadata": {
    "collapsed": false,
    "deletable": true,
    "editable": true
   },
   "outputs": [
    {
     "name": "stdout",
     "output_type": "stream",
     "text": [
      "[3, 10, 0, 9] \n",
      " ['haze', 'primary', 'agriculture', 'clear', 'water', 'habitation', 'road', 'cultivation', 'slash_burn', 'cloudy', 'partly_cloudy', 'conventional_mine', 'bare_ground', 'artisinal_mine', 'blooming', 'selective_logging', 'blow_down'] \n",
      " [2.0, 0.84, 0.67, 2.0, 0.47, 0.42, 0.57, 0.45, 0.21, 2.0, 2.0, 0.15, 0.33, 0.46, 0.05, 0.18, 0.05]\n"
     ]
    }
   ],
   "source": [
    "wr = [labels.index(i) for i in weather_labels];\n",
    "trM[np.array(wr)] = 2.0\n",
    "print(wr,'\\n',labels,'\\n',trM.tolist())"
   ]
  },
  {
   "cell_type": "code",
   "execution_count": null,
   "metadata": {
    "collapsed": true,
    "deletable": true,
    "editable": true
   },
   "outputs": [],
   "source": []
  },
  {
   "cell_type": "code",
   "execution_count": 122,
   "metadata": {
    "collapsed": false
   },
   "outputs": [
    {
     "name": "stdout",
     "output_type": "stream",
     "text": [
      "['test_0', 'clear primary'] \n",
      " ['file_20521', 'clear primary agriculture road'] \n",
      " [ 2.    0.84  0.67  2.    0.47  0.42  0.57  0.45  0.21  2.    2.    0.15\n",
      "  0.33  0.46  0.05  0.18  0.05] [  5.39046887e-04   9.99957800e-01   1.14646405e-02   9.97690916e-01\n",
      "   6.60496298e-03   1.89214305e-03   4.40627150e-03   5.26360050e-03\n",
      "   6.80364537e-05   1.28222273e-05   5.01615694e-03   1.58569605e-07\n",
      "   1.30850254e-04   8.27282207e-08   9.06800292e-03   1.74645672e-03\n",
      "   6.92547299e-04]\n"
     ]
    }
   ],
   "source": [
    "#trP = model.predict(trX, batch_size=512); trP=K.get_value(trP)\n",
    "res = []\n",
    "\n",
    "for i in range(trP.shape[0]) :\n",
    "    trPP = [weather_labels[trP[i,wr].argmax()]] + [labels[ii] for ii in range(len(labels)) if (trP[i,ii]>trM[ii])];\n",
    "    pp   = ' '.join(trPP)\n",
    "    ##if (pp==\"\") : print(trY[i])\n",
    "    res.append([trOY[i],pp])\n",
    "\n",
    "res.sort(cmp=lambda x,y: cmp(int(x[0].partition('_')[2]),int(y[0].partition('_')[2])) if (x[0].partition('_')[0]==y[0].partition('_')[0]) else cmp(y[0].partition('_')[0],x[0].partition('_')[0]))\n",
    "#print(res[4:8],'\\n',res[-4:])\n",
    "print(res[0],'\\n',res[-1],'\\n',trM,trP[0])"
   ]
  },
  {
   "cell_type": "code",
   "execution_count": null,
   "metadata": {
    "collapsed": true
   },
   "outputs": [],
   "source": []
  },
  {
   "cell_type": "code",
   "execution_count": 123,
   "metadata": {
    "collapsed": false,
    "deletable": true,
    "editable": true
   },
   "outputs": [
    {
     "name": "stdout",
     "output_type": "stream",
     "text": [
      "['haze', 'primary', 'agriculture', 'clear', 'water', 'habitation', 'road', 'cultivation', 'slash_burn', 'cloudy', 'partly_cloudy', 'conventional_mine', 'bare_ground', 'artisinal_mine', 'blooming', 'selective_logging', 'blow_down']\n",
      "[2.0, 0.84, 0.67, 2.0, 0.47, 0.42, 0.57, 0.45, 0.21, 2.0, 2.0, 0.15, 0.33, 0.46, 0.05, 0.18, 0.05]\n"
     ]
    },
    {
     "data": {
      "text/plain": [
       "array([[ 0.,  1.,  0.,  0.,  0.,  0.,  0.,  0.,  0.,  0.,  1.,  0.,  0.,\n",
       "         0.,  0.,  0.,  0.],\n",
       "       [ 0.,  1.,  1.,  1.,  0.,  0.,  1.,  0.,  0.,  0.,  0.,  0.,  0.,\n",
       "         0.,  0.,  0.,  0.],\n",
       "       [ 0.,  1.,  1.,  1.,  0.,  0.,  1.,  0.,  0.,  0.,  0.,  0.,  0.,\n",
       "         0.,  0.,  0.,  0.],\n",
       "       [ 0.,  1.,  0.,  1.,  0.,  0.,  0.,  0.,  0.,  0.,  0.,  0.,  0.,\n",
       "         0.,  0.,  0.,  0.],\n",
       "       [ 0.,  1.,  0.,  1.,  0.,  0.,  0.,  0.,  0.,  0.,  0.,  0.,  0.,\n",
       "         0.,  0.,  0.,  0.],\n",
       "       [ 0.,  1.,  0.,  1.,  0.,  0.,  0.,  0.,  0.,  0.,  0.,  0.,  0.,\n",
       "         0.,  0.,  0.,  0.],\n",
       "       [ 0.,  1.,  1.,  1.,  0.,  1.,  1.,  0.,  0.,  0.,  0.,  0.,  0.,\n",
       "         0.,  0.,  0.,  0.]], dtype=float32)"
      ]
     },
     "execution_count": 123,
     "metadata": {},
     "output_type": "execute_result"
    }
   ],
   "source": [
    "print(labels)\n",
    "print(trM.tolist())\n",
    "np.round(trP[4:11,:])"
   ]
  },
  {
   "cell_type": "code",
   "execution_count": 124,
   "metadata": {
    "collapsed": false
   },
   "outputs": [
    {
     "name": "stdout",
     "output_type": "stream",
     "text": [
      "2017-05-15-04-20-07\n"
     ]
    }
   ],
   "source": [
    "rrr=pd.DataFrame(res,columns=['image_name','tags']); rrr.head(); \n",
    "suffixDT = (datetime.datetime.now()).strftime('%Y-%m-%d-%H-%M-%S'); print(suffixDT)\n",
    "rrr.to_csv('../Result/vss'+suffixDT+'.csv',index=False);"
   ]
  },
  {
   "cell_type": "code",
   "execution_count": null,
   "metadata": {
    "collapsed": true
   },
   "outputs": [],
   "source": []
  }
 ],
 "metadata": {
  "kernelspec": {
   "display_name": "Python 2",
   "language": "python",
   "name": "python2"
  },
  "language_info": {
   "codemirror_mode": {
    "name": "ipython",
    "version": 2
   },
   "file_extension": ".py",
   "mimetype": "text/x-python",
   "name": "python",
   "nbconvert_exporter": "python",
   "pygments_lexer": "ipython2",
   "version": "2.7.13"
  }
 },
 "nbformat": 4,
 "nbformat_minor": 2
}
