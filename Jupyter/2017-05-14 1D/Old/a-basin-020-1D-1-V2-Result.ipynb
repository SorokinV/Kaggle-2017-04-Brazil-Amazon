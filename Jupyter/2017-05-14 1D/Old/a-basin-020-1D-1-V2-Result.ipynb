{
 "cells": [
  {
   "cell_type": "code",
   "execution_count": 2,
   "metadata": {
    "collapsed": true,
    "deletable": true,
    "editable": true
   },
   "outputs": [],
   "source": [
    "import sys,os,datetime\n",
    "import numpy as np\n",
    "import pandas as pd\n",
    "import matplotlib.pyplot as plt\n",
    "from sklearn.metrics import fbeta_score\n",
    "from __future__ import print_function"
   ]
  },
  {
   "cell_type": "code",
   "execution_count": 3,
   "metadata": {
    "collapsed": false,
    "deletable": true,
    "editable": true
   },
   "outputs": [
    {
     "name": "stdout",
     "output_type": "stream",
     "text": [
      "1.12.1\n",
      "0.19.2\n"
     ]
    }
   ],
   "source": [
    "print(np.__version__);\n",
    "print(pd.__version__);"
   ]
  },
  {
   "cell_type": "code",
   "execution_count": 4,
   "metadata": {
    "collapsed": false,
    "deletable": true,
    "editable": true
   },
   "outputs": [
    {
     "data": {
      "text/plain": [
       "'3.2.0'"
      ]
     },
     "execution_count": 4,
     "metadata": {},
     "output_type": "execute_result"
    }
   ],
   "source": [
    "import  cv2 as cv\n",
    "cv.__version__"
   ]
  },
  {
   "cell_type": "code",
   "execution_count": 5,
   "metadata": {
    "collapsed": false,
    "deletable": true,
    "editable": true
   },
   "outputs": [
    {
     "name": "stderr",
     "output_type": "stream",
     "text": [
      "Using TensorFlow backend.\n"
     ]
    }
   ],
   "source": [
    "#from keras.preprocessing.image import ImageDataGenerator, array_to_img, img_to_array, load_img\n",
    "from keras.models import Sequential,save_model,load_model\n",
    "from keras.layers import Convolution2D, MaxPooling2D, Convolution1D, MaxPooling1D\n",
    "from keras.layers import Activation, Dropout, Flatten, Dense\n",
    "import keras.optimizers"
   ]
  },
  {
   "cell_type": "code",
   "execution_count": 6,
   "metadata": {
    "collapsed": false,
    "deletable": true,
    "editable": true
   },
   "outputs": [],
   "source": [
    "teDir    = '../Data/test-tif-v2'\n",
    "teDirTIF = teDir\n",
    "teDirJPG = '../Data/test-jpg'"
   ]
  },
  {
   "cell_type": "code",
   "execution_count": 15,
   "metadata": {
    "collapsed": false,
    "deletable": true,
    "editable": true
   },
   "outputs": [
    {
     "name": "stdout",
     "output_type": "stream",
     "text": [
      "61191 ['test_28790.tif', 'test_28791.tif', 'test_28792.tif', 'test_28793.tif', 'test_28794.tif', 'test_28795.tif']\n"
     ]
    }
   ],
   "source": [
    "nameList  = os.listdir(teDirTIF);\n",
    "print(len(nameList),nameList[:6]);"
   ]
  },
  {
   "cell_type": "code",
   "execution_count": null,
   "metadata": {
    "collapsed": true,
    "deletable": true,
    "editable": true
   },
   "outputs": [],
   "source": []
  },
  {
   "cell_type": "code",
   "execution_count": 18,
   "metadata": {
    "collapsed": true,
    "deletable": true,
    "editable": true
   },
   "outputs": [],
   "source": [
    "def formFH (nf, bins, printOK=False) :\n",
    "    nx = None\n",
    "    try : \n",
    "        ni = cv.imread(nf,-1); \n",
    "        if (ni is not None) :\n",
    "            if not ((ni.shape[2]==3) or (ni.shape[2]==4)) and printOK : print('----- error ---- shape:',ni.shape,nf)\n",
    "            if (ni.shape[2]==3) :\n",
    "                r,g,b = ni[:,:,0],ni[:,:,1],ni[:,:,2]\n",
    "                rh = np.divide(np.histogram(r,bins=bins,density=False)[0],(0.0+r.size))\n",
    "                gh = np.divide(np.histogram(g,bins=bins,density=False)[0],(0.0+g.size))\n",
    "                bh = np.divide(np.histogram(b,bins=bins,density=False)[0],(0.0+b.size))\n",
    "                nx = np.hstack((rh,gh,bh)); \n",
    "            if (ni.shape[2]==4) :\n",
    "                r,g,b,n = ni[:,:,2],ni[:,:,1],ni[:,:,1],ni[:,:,3]\n",
    "                d  = np.divide((r-n),(r+n+0.01))\n",
    "                rh = np.divide(np.histogram(r,bins=bins,density=False)[0],(0.0+r.size))\n",
    "                gh = np.divide(np.histogram(g,bins=bins,density=False)[0],(0.0+g.size))\n",
    "                bh = np.divide(np.histogram(b,bins=bins,density=False)[0],(0.0+b.size))\n",
    "                nh = np.divide(np.histogram(n,bins=bins,density=False)[0],(0.0+n.size))\n",
    "                dh = np.divide(np.histogram(d,bins=bins,density=False)[0],(0.0+d.size))\n",
    "                nx = np.hstack((rh,gh,bh,nh,dh)); \n",
    "    except e :\n",
    "        print(nf,e); nx = None;\n",
    "    \n",
    "    if (nx is None) and printOK : print('------ None:',nf)\n",
    "        \n",
    "    return(nx)\n"
   ]
  },
  {
   "cell_type": "code",
   "execution_count": 19,
   "metadata": {
    "collapsed": false,
    "deletable": true,
    "editable": true
   },
   "outputs": [
    {
     "name": "stdout",
     "output_type": "stream",
     "text": [
      "2017-05-13 00:18:45.531231 61191 70000\n",
      "2017-05-13 00:23:37.012809 \t 5000 \t test_15649.tif\n",
      "2017-05-13 00:28:17.424138 \t 10000 \t test_32423.tif\n",
      "2017-05-13 00:33:04.976499 \t 15000 \t test_36264.tif\n",
      "2017-05-13 00:37:43.444670 \t 20000 \t test_10894.tif\n",
      "2017-05-13 00:42:28.624183 \t 25000 \t file_9502.tif\n",
      "2017-05-13 00:47:04.120772 \t 30000 \t file_14128.tif\n",
      "2017-05-13 00:51:34.572873 \t 35000 \t file_17389.tif\n",
      "2017-05-13 00:56:03.436713 \t 40000 \t test_19356.tif\n",
      "2017-05-13 01:00:31.464483 \t 45000 \t test_10134.tif\n",
      "2017-05-13 01:04:58.941542 \t 50000 \t test_24243.tif\n",
      "2017-05-13 01:09:46.624081 \t 55000 \t test_7049.tif\n",
      "2017-05-13 01:14:25.789511 \t 60000 \t file_10482.tif\n",
      "2017-05-13 01:15:29.610939\n",
      "61191 (61191, 1095, 1) (61191,)\n"
     ]
    }
   ],
   "source": [
    "trX, trY, i, size = [], [], 0, 70000\n",
    "step=10; bins=[x for x in range(0,255+step,step)] # RGB -> 0..255\n",
    "step=300; bins=[x for x in range(0,65535+step+1,step)] # BGRN -> 0..65535\n",
    "print(datetime.datetime.now(),len(nameList),size)\n",
    "for nn in nameList[0:size] :\n",
    "    #nf = os.path.join(trDirJPG,nn+\".jpg\");\n",
    "    #nf = os.path.join(trDirTIF,nn+\".tif\");\n",
    "    nf = os.path.join(teDirTIF,nn);\n",
    "    nx = formFH(nf,bins)\n",
    "    if (nx is not None) :\n",
    "        nx=nx.reshape(nx.shape+(1,))\n",
    "        trX.append(nx)\n",
    "        trY.append(nn)\n",
    "    i += 1\n",
    "    if (i%5000==0) : print(datetime.datetime.now(),\"\\t\",i,\"\\t\",nn)\n",
    "    #print(nn.shape)\n",
    "    \n",
    "print(datetime.datetime.now())\n",
    "\n",
    "len(trX)\n",
    "trX = np.array(trX);\n",
    "trY = np.array(trY);\n",
    "print(len(nameList),trX.shape,trY.shape)"
   ]
  },
  {
   "cell_type": "code",
   "execution_count": 24,
   "metadata": {
    "collapsed": false,
    "deletable": true,
    "editable": true
   },
   "outputs": [],
   "source": [
    "trY=[os.path.splitext(yy)[0] for yy in trY.tolist()]"
   ]
  },
  {
   "cell_type": "code",
   "execution_count": null,
   "metadata": {
    "collapsed": false,
    "deletable": true,
    "editable": true
   },
   "outputs": [],
   "source": []
  },
  {
   "cell_type": "code",
   "execution_count": 27,
   "metadata": {
    "collapsed": true,
    "deletable": true,
    "editable": true
   },
   "outputs": [],
   "source": [
    "np.save('../Data-Keras/test-basin02-01-X-tif-v2.npy',trX)\n",
    "np.save('../Data-Keras/test-basin02-01-Y-tif-v2.npy',trY)"
   ]
  },
  {
   "cell_type": "code",
   "execution_count": 7,
   "metadata": {
    "collapsed": false,
    "deletable": true,
    "editable": true
   },
   "outputs": [
    {
     "name": "stdout",
     "output_type": "stream",
     "text": [
      "(61191, 1095, 1) (61191,)\n"
     ]
    }
   ],
   "source": [
    "trX = np.load('../Data-Keras/test-basin02-01-X-tif-v2.npy')\n",
    "trY = np.load('../Data-Keras/test-basin02-01-Y-tif-v2.npy')\n",
    "print(trX.shape,trY.shape)"
   ]
  },
  {
   "cell_type": "code",
   "execution_count": 8,
   "metadata": {
    "collapsed": false,
    "deletable": true,
    "editable": true
   },
   "outputs": [
    {
     "name": "stdout",
     "output_type": "stream",
     "text": [
      "['haze' 'primary' 'agriculture' 'clear' 'water' 'habitation' 'road'\n",
      " 'cultivation' 'slash_burn' 'cloudy' 'partly_cloudy' 'conventional_mine'\n",
      " 'bare_ground' 'artisinal_mine' 'blooming' 'selective_logging' 'blow_down'] \n",
      " [ 0.49  0.5   0.52  0.49  0.54  0.5   0.5   0.47  0.7   0.6   0.6   0.77\n",
      "  0.59  0.58  0.65  0.78  0.86]\n"
     ]
    }
   ],
   "source": [
    "trL = np.load('../Data-Keras/train-basin02-01-L-tif-v2.npy')\n",
    "trM = np.load('../Data-Keras/train-basin02-01-M-tif-v2.npy')\n",
    "print(trL,'\\n',trM)"
   ]
  },
  {
   "cell_type": "code",
   "execution_count": null,
   "metadata": {
    "collapsed": true,
    "deletable": true,
    "editable": true
   },
   "outputs": [],
   "source": []
  },
  {
   "cell_type": "code",
   "execution_count": 9,
   "metadata": {
    "collapsed": false,
    "deletable": true,
    "editable": true
   },
   "outputs": [],
   "source": [
    "import keras.backend as K\n",
    "def fbeta_pred(y_true, y_pred, beta=2.0, OK1=0.2, eps=0.000001, printOK=False):\n",
    "    beta2 = beta*beta\n",
    "    yy_true = K.round(y_true)\n",
    "    yy_pred = K.round(y_pred+(0.5-OK1))\n",
    "    tp, tp_fp, fn = K.sum((yy_pred*yy_true)), K.sum(yy_true), K.sum((K.abs(yy_pred*(yy_true-1.0))))\n",
    "    precision, recall = tp/(tp_fp+eps), tp/(tp+fn+eps) \n",
    "    if printOK :\n",
    "        print('ten true ',K.get_value(yy_true))\n",
    "        #print('ten pred ',y_pred)\n",
    "        print('ten roun ',K.get_value(yy_pred))\n",
    "        print(' pre=',K.get_value(precision),' recall=',K.get_value(recall),' tp=',\n",
    "              K.get_value(tp),' fn=',K.get_value(fn),' tp+fp=',K.get_value(tp_fp))\n",
    "    return((1+beta2)*(precision*recall)/(beta2*precision+recall+eps))"
   ]
  },
  {
   "cell_type": "code",
   "execution_count": 10,
   "metadata": {
    "collapsed": false,
    "deletable": true,
    "editable": true
   },
   "outputs": [],
   "source": [
    "#\n",
    "#\n",
    "#\n",
    "\n",
    "ss = trX.shape[1]\n",
    "rr = trL.shape[0]\n",
    "\n",
    "model = Sequential()\n",
    "#model.add(Dense(ss*10, input_shape=(ss,1))) # ?????\n",
    "model.add(Dense(64, input_shape=(ss,1))) # ?????\n",
    "model.add(Activation('relu'))\n",
    "model.add(Dropout(0.25))\n",
    "\n",
    "model.add(Flatten())\n",
    "\n",
    "model.add(Dense(128))\n",
    "model.add(Activation('relu'))\n",
    "model.add(Dropout(0.25))\n",
    "\n",
    "model.add(Dense(32768))\n",
    "model.add(Activation('relu'))\n",
    "model.add(Dropout(0.25))\n",
    "\n",
    "model.add(Dense(rr,activation='sigmoid'))\n",
    "#model.add(Dropout(0.5))\n",
    "#model.add(Activation('sigmoid'))\n",
    "sgd = keras.optimizers.SGD(lr=0.01, decay=1e-6, momentum=0.9, nesterov=True)\n",
    "model.compile(loss='categorical_crossentropy',\n",
    "              optimizer='adam', #sgd, #\"adam\", #'rmsprop',\n",
    "              metrics=[fbeta_pred]) #['accuracy',fbeta_pred]) #['accuracy'])"
   ]
  },
  {
   "cell_type": "code",
   "execution_count": 11,
   "metadata": {
    "collapsed": true,
    "deletable": true,
    "editable": true
   },
   "outputs": [],
   "source": [
    "model.load_weights('../Data-Keras/basin02-loop-weights.h5') ## verify load weights from v1 version"
   ]
  },
  {
   "cell_type": "code",
   "execution_count": 12,
   "metadata": {
    "collapsed": false,
    "deletable": true,
    "editable": true
   },
   "outputs": [
    {
     "name": "stdout",
     "output_type": "stream",
     "text": [
      "____________________________________________________________________________________________________\n",
      "Layer (type)                     Output Shape          Param #     Connected to                     \n",
      "====================================================================================================\n",
      "dense_1 (Dense)                  (None, 1095, 64)      128         dense_input_1[0][0]              \n",
      "____________________________________________________________________________________________________\n",
      "activation_1 (Activation)        (None, 1095, 64)      0           dense_1[0][0]                    \n",
      "____________________________________________________________________________________________________\n",
      "dropout_1 (Dropout)              (None, 1095, 64)      0           activation_1[0][0]               \n",
      "____________________________________________________________________________________________________\n",
      "flatten_1 (Flatten)              (None, 70080)         0           dropout_1[0][0]                  \n",
      "____________________________________________________________________________________________________\n",
      "dense_2 (Dense)                  (None, 128)           8970368     flatten_1[0][0]                  \n",
      "____________________________________________________________________________________________________\n",
      "activation_2 (Activation)        (None, 128)           0           dense_2[0][0]                    \n",
      "____________________________________________________________________________________________________\n",
      "dropout_2 (Dropout)              (None, 128)           0           activation_2[0][0]               \n",
      "____________________________________________________________________________________________________\n",
      "dense_3 (Dense)                  (None, 32768)         4227072     dropout_2[0][0]                  \n",
      "____________________________________________________________________________________________________\n",
      "activation_3 (Activation)        (None, 32768)         0           dense_3[0][0]                    \n",
      "____________________________________________________________________________________________________\n",
      "dropout_3 (Dropout)              (None, 32768)         0           activation_3[0][0]               \n",
      "____________________________________________________________________________________________________\n",
      "dense_4 (Dense)                  (None, 17)            557073      dropout_3[0][0]                  \n",
      "====================================================================================================\n",
      "Total params: 13,754,641\n",
      "Trainable params: 13,754,641\n",
      "Non-trainable params: 0\n",
      "____________________________________________________________________________________________________\n"
     ]
    }
   ],
   "source": [
    "model.summary()"
   ]
  },
  {
   "cell_type": "code",
   "execution_count": null,
   "metadata": {
    "collapsed": true,
    "deletable": true,
    "editable": true
   },
   "outputs": [],
   "source": []
  },
  {
   "cell_type": "code",
   "execution_count": 15,
   "metadata": {
    "collapsed": false,
    "deletable": true,
    "editable": true
   },
   "outputs": [
    {
     "data": {
      "text/plain": [
       "(61191, 17)"
      ]
     },
     "execution_count": 15,
     "metadata": {},
     "output_type": "execute_result"
    }
   ],
   "source": [
    "trP = model.predict(trX, batch_size=512); \n",
    "trP.shape"
   ]
  },
  {
   "cell_type": "code",
   "execution_count": 47,
   "metadata": {
    "collapsed": false
   },
   "outputs": [
    {
     "name": "stdout",
     "output_type": "stream",
     "text": [
      "[3, 10, 0, 9] \n",
      " ['haze', 'primary', 'agriculture', 'clear', 'water', 'habitation', 'road', 'cultivation', 'slash_burn', 'cloudy', 'partly_cloudy', 'conventional_mine', 'bare_ground', 'artisinal_mine', 'blooming', 'selective_logging', 'blow_down'] \n",
      " [2.0, 0.5, 0.52, 2.0, 0.54, 0.5, 0.5, 0.47, 0.7, 2.0, 2.0, 0.77, 0.59, 0.58, 0.65, 0.78, 0.86]\n"
     ]
    }
   ],
   "source": [
    "weather_labels = ['clear', 'partly_cloudy', 'haze', 'cloudy']\n",
    "land_labels = ['primary', 'agriculture', 'water', 'cultivation', 'habitation' ]\n",
    "#rare_labels = [l for l in label_list if labels_df[label_list].sum()[l] < 2000]\n",
    "wr = [];\n",
    "for i in weather_labels :\n",
    "    wr.append(trL.tolist().index(i))\n",
    "trM[np.array(wr)] = 2.0\n",
    "print(wr,'\\n',trL.tolist(),'\\n',trM.tolist())"
   ]
  },
  {
   "cell_type": "code",
   "execution_count": 84,
   "metadata": {
    "collapsed": false,
    "deletable": true,
    "editable": true
   },
   "outputs": [],
   "source": [
    "#trP = model.predict(trX, batch_size=512); trP=K.get_value(trP)\n",
    "res = []\n",
    "\n",
    "for i in range(trP.shape[0]) :\n",
    "    trPP = [weather_labels[trP[i,wr].argmax()]] + trL[(trP[i,:]>trM)].tolist();\n",
    "    pp   = ' '.join(trPP)\n",
    "    ##if (pp==\"\") : print(trY[i])\n",
    "    res.append([trY[i],pp])\n",
    "res[4:11]\n",
    "res.sort(cmp=lambda x,y: cmp(int(x[0].partition('_')[2]),int(y[0].partition('_')[2])) if (x[0].partition('_')[0]==y[0].partition('_')[0]) else cmp(y[0].partition('_')[0],x[0].partition('_')[0]))\n",
    "         "
   ]
  },
  {
   "cell_type": "code",
   "execution_count": 87,
   "metadata": {
    "collapsed": false
   },
   "outputs": [
    {
     "data": {
      "text/plain": [
       "[['file_20516', 'clear primary'],\n",
       " ['file_20517', 'clear primary'],\n",
       " ['file_20518', 'haze primary agriculture'],\n",
       " ['file_20519', 'clear primary water'],\n",
       " ['file_20520', 'partly_cloudy primary'],\n",
       " ['file_20521', 'clear primary agriculture']]"
      ]
     },
     "execution_count": 87,
     "metadata": {},
     "output_type": "execute_result"
    }
   ],
   "source": [
    "res[-6:]"
   ]
  },
  {
   "cell_type": "code",
   "execution_count": 88,
   "metadata": {
    "collapsed": false,
    "deletable": true,
    "editable": true
   },
   "outputs": [
    {
     "name": "stdout",
     "output_type": "stream",
     "text": [
      "['haze', 'primary', 'agriculture', 'clear', 'water', 'habitation', 'road', 'cultivation', 'slash_burn', 'cloudy', 'partly_cloudy', 'conventional_mine', 'bare_ground', 'artisinal_mine', 'blooming', 'selective_logging', 'blow_down']\n",
      "[2.0, 0.5, 0.52, 2.0, 0.54, 0.5, 0.5, 0.47, 0.7, 2.0, 2.0, 0.77, 0.59, 0.58, 0.65, 0.78, 0.86]\n"
     ]
    },
    {
     "data": {
      "text/plain": [
       "array([[ 0.,  1.,  0.,  0.,  0.,  0.,  0.,  0.,  0.,  0.,  1.,  0.,  0.,\n",
       "         0.,  0.,  0.,  0.],\n",
       "       [ 0.,  1.,  1.,  1.,  0.,  0.,  0.,  1.,  0.,  0.,  0.,  0.,  0.,\n",
       "         0.,  0.,  0.,  0.],\n",
       "       [ 0.,  1.,  1.,  1.,  0.,  0.,  1.,  0.,  0.,  0.,  0.,  0.,  0.,\n",
       "         0.,  0.,  0.,  0.],\n",
       "       [ 0.,  1.,  0.,  1.,  0.,  0.,  0.,  0.,  0.,  0.,  0.,  0.,  0.,\n",
       "         0.,  0.,  0.,  0.],\n",
       "       [ 0.,  1.,  0.,  1.,  0.,  0.,  0.,  0.,  0.,  0.,  0.,  0.,  0.,\n",
       "         0.,  0.,  0.,  0.],\n",
       "       [ 0.,  1.,  0.,  1.,  0.,  0.,  0.,  0.,  0.,  0.,  0.,  0.,  0.,\n",
       "         0.,  0.,  0.,  0.],\n",
       "       [ 0.,  1.,  0.,  1.,  0.,  1.,  1.,  0.,  0.,  0.,  0.,  0.,  0.,\n",
       "         0.,  0.,  0.,  0.]], dtype=float32)"
      ]
     },
     "execution_count": 88,
     "metadata": {},
     "output_type": "execute_result"
    }
   ],
   "source": [
    "print(trL.tolist())\n",
    "print(trM.tolist())\n",
    "np.round(trP[4:11,:])"
   ]
  },
  {
   "cell_type": "code",
   "execution_count": 89,
   "metadata": {
    "collapsed": false,
    "deletable": true,
    "editable": true
   },
   "outputs": [
    {
     "name": "stdout",
     "output_type": "stream",
     "text": [
      "2017-05-13-03-38-54\n"
     ]
    }
   ],
   "source": [
    "rrr=pd.DataFrame(res,columns=['image_name','tags']); rrr.head(); \n",
    "suffixDT = (datetime.datetime.now()).strftime('%Y-%m-%d-%H-%M-%S'); print(suffixDT)\n",
    "rrr.to_csv('../Result/vss'+suffixDT+'.csv',index=False);"
   ]
  },
  {
   "cell_type": "code",
   "execution_count": null,
   "metadata": {
    "collapsed": false,
    "deletable": true,
    "editable": true
   },
   "outputs": [],
   "source": []
  }
 ],
 "metadata": {
  "kernelspec": {
   "display_name": "Python 2",
   "language": "python",
   "name": "python2"
  },
  "language_info": {
   "codemirror_mode": {
    "name": "ipython",
    "version": 2
   },
   "file_extension": ".py",
   "mimetype": "text/x-python",
   "name": "python",
   "nbconvert_exporter": "python",
   "pygments_lexer": "ipython2",
   "version": "2.7.13"
  }
 },
 "nbformat": 4,
 "nbformat_minor": 2
}
