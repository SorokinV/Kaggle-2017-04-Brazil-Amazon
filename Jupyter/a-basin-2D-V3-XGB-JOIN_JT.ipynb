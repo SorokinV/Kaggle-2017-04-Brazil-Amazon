{
 "cells": [
  {
   "cell_type": "code",
   "execution_count": 1,
   "metadata": {
    "collapsed": true,
    "deletable": true,
    "editable": true
   },
   "outputs": [],
   "source": [
    "# Проверка возможности использования xgbooster - объединение JPG & TIF (2017-07-03)"
   ]
  },
  {
   "cell_type": "code",
   "execution_count": 2,
   "metadata": {
    "collapsed": false,
    "deletable": true,
    "editable": true
   },
   "outputs": [],
   "source": [
    "import sys,os,datetime\n",
    "import numpy as np\n",
    "import pandas as pd\n",
    "import matplotlib.pyplot as plt\n",
    "import sklearn.metrics as skm\n",
    "from __future__ import print_function"
   ]
  },
  {
   "cell_type": "code",
   "execution_count": 3,
   "metadata": {
    "collapsed": false,
    "deletable": true,
    "editable": true
   },
   "outputs": [
    {
     "name": "stdout",
     "output_type": "stream",
     "text": [
      "1.12.1\n",
      "0.19.2\n"
     ]
    }
   ],
   "source": [
    "print(np.__version__);\n",
    "print(pd.__version__);"
   ]
  },
  {
   "cell_type": "code",
   "execution_count": 4,
   "metadata": {
    "collapsed": false,
    "deletable": true,
    "editable": true
   },
   "outputs": [
    {
     "data": {
      "text/plain": [
       "'3.2.0'"
      ]
     },
     "execution_count": 4,
     "metadata": {},
     "output_type": "execute_result"
    }
   ],
   "source": [
    "import  cv2 as cv\n",
    "cv.__version__"
   ]
  },
  {
   "cell_type": "code",
   "execution_count": 5,
   "metadata": {
    "collapsed": false,
    "deletable": true,
    "editable": true
   },
   "outputs": [
    {
     "name": "stderr",
     "output_type": "stream",
     "text": [
      "/home/boba/anaconda2/envs/tensorflow-gpu/lib/python2.7/site-packages/sklearn/cross_validation.py:44: DeprecationWarning: This module was deprecated in version 0.18 in favor of the model_selection module into which all the refactored classes and functions are moved. Also note that the interface of the new CV iterators are different from that of this module. This module will be removed in 0.20.\n",
      "  \"This module will be removed in 0.20.\", DeprecationWarning)\n"
     ]
    }
   ],
   "source": [
    "import xgboost as xgb"
   ]
  },
  {
   "cell_type": "code",
   "execution_count": 6,
   "metadata": {
    "collapsed": false,
    "deletable": true,
    "editable": true
   },
   "outputs": [],
   "source": [
    "sys.path.append('../Python')\n",
    "from helper import formFH, paths_input"
   ]
  },
  {
   "cell_type": "code",
   "execution_count": null,
   "metadata": {
    "collapsed": false,
    "deletable": true,
    "editable": true
   },
   "outputs": [],
   "source": []
  },
  {
   "cell_type": "code",
   "execution_count": 7,
   "metadata": {
    "collapsed": false,
    "deletable": true,
    "editable": true
   },
   "outputs": [
    {
     "name": "stdout",
     "output_type": "stream",
     "text": [
      "../Data/train-tif-v2 ../Data/test-tif-v2 ../Work/Train ../Work/Test\n",
      "../Data/train_v2.csv ../Data/train-tif-v2 ../Data/train-jpg ../Data/test-tif-v2 ../Data/test-jpg-v2\n"
     ]
    }
   ],
   "source": [
    "binsData = 75\n",
    "\n",
    "trLabels,trDirTIF,trDirJPG,teDirTIF,teDirJPG = paths_input()\n",
    "if False : # True :\n",
    "    trDirI = trDirJPG\n",
    "    teDirI = teDirJPG\n",
    "    ttExt  = '.jpg'\n",
    "else :\n",
    "    trDirI = trDirTIF\n",
    "    teDirI = teDirTIF\n",
    "    ttExt  = '.tif'\n",
    "trWork, teWork = '../Work/Train', '../Work/Test'\n",
    "print (trDirI,teDirI, trWork, teWork)\n",
    "print (trLabels,trDirTIF,trDirJPG,teDirTIF,teDirJPG)"
   ]
  },
  {
   "cell_type": "code",
   "execution_count": 67,
   "metadata": {
    "collapsed": true,
    "deletable": true,
    "editable": true
   },
   "outputs": [],
   "source": [
    "binsDataTIF = 96\n",
    "binsDataJPG = 96"
   ]
  },
  {
   "cell_type": "code",
   "execution_count": null,
   "metadata": {
    "collapsed": false,
    "deletable": true,
    "editable": true
   },
   "outputs": [],
   "source": []
  },
  {
   "cell_type": "code",
   "execution_count": 9,
   "metadata": {
    "collapsed": false,
    "deletable": true,
    "editable": true
   },
   "outputs": [
    {
     "data": {
      "text/html": [
       "<div>\n",
       "<table border=\"1\" class=\"dataframe\">\n",
       "  <thead>\n",
       "    <tr style=\"text-align: right;\">\n",
       "      <th></th>\n",
       "      <th>image_name</th>\n",
       "      <th>tags</th>\n",
       "    </tr>\n",
       "  </thead>\n",
       "  <tbody>\n",
       "    <tr>\n",
       "      <th>0</th>\n",
       "      <td>train_0</td>\n",
       "      <td>haze primary</td>\n",
       "    </tr>\n",
       "    <tr>\n",
       "      <th>1</th>\n",
       "      <td>train_1</td>\n",
       "      <td>agriculture clear primary water</td>\n",
       "    </tr>\n",
       "    <tr>\n",
       "      <th>2</th>\n",
       "      <td>train_2</td>\n",
       "      <td>clear primary</td>\n",
       "    </tr>\n",
       "    <tr>\n",
       "      <th>3</th>\n",
       "      <td>train_3</td>\n",
       "      <td>clear primary</td>\n",
       "    </tr>\n",
       "    <tr>\n",
       "      <th>4</th>\n",
       "      <td>train_4</td>\n",
       "      <td>agriculture clear habitation primary road</td>\n",
       "    </tr>\n",
       "  </tbody>\n",
       "</table>\n",
       "</div>"
      ],
      "text/plain": [
       "  image_name                                       tags\n",
       "0    train_0                               haze primary\n",
       "1    train_1            agriculture clear primary water\n",
       "2    train_2                              clear primary\n",
       "3    train_3                              clear primary\n",
       "4    train_4  agriculture clear habitation primary road"
      ]
     },
     "execution_count": 9,
     "metadata": {},
     "output_type": "execute_result"
    }
   ],
   "source": [
    "labels_df = pd.read_csv(trLabels)\n",
    "labels_df.head()"
   ]
  },
  {
   "cell_type": "code",
   "execution_count": 10,
   "metadata": {
    "collapsed": true,
    "deletable": true,
    "editable": true
   },
   "outputs": [],
   "source": [
    "# Build list with unique labels\n",
    "label_list = []\n",
    "for tag_str in labels_df.tags.values:\n",
    "    labels = tag_str.split(' ')\n",
    "    for label in labels:\n",
    "        if label not in label_list:\n",
    "            label_list.append(label)"
   ]
  },
  {
   "cell_type": "code",
   "execution_count": 11,
   "metadata": {
    "collapsed": false,
    "deletable": true,
    "editable": true
   },
   "outputs": [],
   "source": [
    "# Add features (0 or 1) for every label as dataframe field \n",
    "for label in label_list:\n",
    "    labels_df[label] = labels_df['tags'].apply(lambda x: 1 if label in x.split(' ') else 0)\n",
    "#labels_df.head()"
   ]
  },
  {
   "cell_type": "code",
   "execution_count": 12,
   "metadata": {
    "collapsed": false,
    "deletable": true,
    "editable": true
   },
   "outputs": [],
   "source": [
    "weather_labels = ['clear', 'partly_cloudy', 'haze', 'cloudy']\n",
    "land_labels = ['primary', 'agriculture', 'water', 'cultivation', 'habitation' ]\n",
    "rare_labels = [l for l in label_list if labels_df[label_list].sum()[l] < 2000]\n",
    "#rare_labels              "
   ]
  },
  {
   "cell_type": "code",
   "execution_count": null,
   "metadata": {
    "collapsed": false,
    "deletable": true,
    "editable": true
   },
   "outputs": [],
   "source": []
  },
  {
   "cell_type": "code",
   "execution_count": 13,
   "metadata": {
    "collapsed": false,
    "deletable": true,
    "editable": true
   },
   "outputs": [],
   "source": [
    "labels = label_list; #weather_labels;\n",
    "nameList =labels_df[labels_df[labels].sum(axis=1)>0].image_name.tolist(); len(nameList)\n",
    "labelList=labels_df[labels_df[labels].sum(axis=1)>0][labels].as_matrix();\n",
    "#labelList[:6,:]\n",
    "#labels_df.head()"
   ]
  },
  {
   "cell_type": "code",
   "execution_count": null,
   "metadata": {
    "collapsed": true,
    "deletable": true,
    "editable": true
   },
   "outputs": [],
   "source": []
  },
  {
   "cell_type": "code",
   "execution_count": 119,
   "metadata": {
    "collapsed": false,
    "deletable": true,
    "editable": true
   },
   "outputs": [
    {
     "data": {
      "text/plain": [
       "((40479, 578), (40479, 255))"
      ]
     },
     "execution_count": 119,
     "metadata": {},
     "output_type": "execute_result"
    }
   ],
   "source": [
    "# Данные для объединения от jpg\n",
    "trX_TIF = np.load('../Work/train-data-XX'+str(binsDataTIF)+'.tif'+'.npy')\n",
    "trX_JPG = np.load('../Work/train-data-XX'+str(binsDataJPG)+'.jpg'+'.npy')\n",
    "trY     = np.load('../Work/train-data-YY'+str(binsDataTIF)+'.tif'+'.npy')\n",
    "trX_TIF.shape, trX_JPG.shape"
   ]
  },
  {
   "cell_type": "code",
   "execution_count": 120,
   "metadata": {
    "collapsed": false
   },
   "outputs": [
    {
     "data": {
      "text/plain": [
       "(96, 85, 288)"
      ]
     },
     "execution_count": 120,
     "metadata": {},
     "output_type": "execute_result"
    }
   ],
   "source": [
    "578/6, 255/3, 96+96+96"
   ]
  },
  {
   "cell_type": "code",
   "execution_count": 121,
   "metadata": {
    "collapsed": false
   },
   "outputs": [],
   "source": [
    "# Обрезка видимой части и использование только n, nvi, dwi\n",
    "trX_TIF = trX_TIF[:,288:]"
   ]
  },
  {
   "cell_type": "code",
   "execution_count": 122,
   "metadata": {
    "collapsed": false
   },
   "outputs": [
    {
     "data": {
      "text/plain": [
       "((40479, 290), 96)"
      ]
     },
     "execution_count": 122,
     "metadata": {},
     "output_type": "execute_result"
    }
   ],
   "source": [
    "trX_TIF.shape, 290/3"
   ]
  },
  {
   "cell_type": "code",
   "execution_count": 123,
   "metadata": {
    "collapsed": false,
    "deletable": true,
    "editable": true
   },
   "outputs": [
    {
     "name": "stdout",
     "output_type": "stream",
     "text": [
      "(40479, 545) (40479, 290) (40479, 255) (40479, 17)\n"
     ]
    }
   ],
   "source": [
    "trXX = np.hstack([trX_JPG,trX_TIF])\n",
    "trX  = trXX\n",
    "print (trX.shape,trX_TIF.shape,trX_JPG.shape,trY.shape)\n",
    "del trXX,trX_JPG,trX_TIF"
   ]
  },
  {
   "cell_type": "code",
   "execution_count": null,
   "metadata": {
    "collapsed": false,
    "deletable": true,
    "editable": true
   },
   "outputs": [],
   "source": []
  },
  {
   "cell_type": "code",
   "execution_count": 124,
   "metadata": {
    "collapsed": false,
    "deletable": true,
    "editable": true
   },
   "outputs": [],
   "source": [
    "# Строим основные массивы\n",
    "dtrain = xgb.DMatrix(trX,label=trY[:,0])"
   ]
  },
  {
   "cell_type": "code",
   "execution_count": null,
   "metadata": {
    "collapsed": false,
    "deletable": true,
    "editable": true
   },
   "outputs": [],
   "source": []
  },
  {
   "cell_type": "code",
   "execution_count": 125,
   "metadata": {
    "collapsed": true,
    "deletable": true,
    "editable": true
   },
   "outputs": [],
   "source": [
    "# Построение списка bst - моделей\n",
    "def getListBST (param, trX, trY, nfold=3, early_stop=20) :\n",
    "    dtrain = xgb.DMatrix(trX,label=trY[:,0])\n",
    "    results, bstList = [], []\n",
    "    for i in range(trY.shape[1]) :\n",
    "        print ('Working: {}'.format(i))\n",
    "        dtrain.set_label(trY[:,i])\n",
    "        history = xgb.cv(param, dtrain, metrics=['auc'], \n",
    "                         verbose_eval=30, num_boost_round=5000, nfold=nfold, \n",
    "                         early_stopping_rounds=early_stop)\n",
    "        results.append(history)\n",
    "        rvalidCV, watchlistCV = {}, [(dtrain,'train')]\n",
    "        bst = xgb.train(param, dtrain, history['test-auc-mean'].argmax()+1, watchlistCV) \n",
    "        bstList.append(bst)\n",
    "    return(bstList)\n",
    "\n",
    "# Построение решения по dmatrix и bst списку\n",
    "def buildPredict (dData, bstList) :\n",
    "    trYP = []\n",
    "    for bstI in bstList :\n",
    "        trYP1 = bstI.predict(dData); trYP.append(trYP1)\n",
    "    trYP = np.array(trYP).T\n",
    "    #type(trYP),trYP.shape\n",
    "    return(trYP)\n",
    "\n",
    "# Построение решения по np.array (DataFrame?) и bst списку\n",
    "def buildPredictX (Data, bstList) :\n",
    "    dData = xgb.DMatrix(Data);\n",
    "    return (buildPredict(dData,bstList))"
   ]
  },
  {
   "cell_type": "code",
   "execution_count": 126,
   "metadata": {
    "collapsed": true,
    "deletable": true,
    "editable": true
   },
   "outputs": [],
   "source": [
    "# Процедуры для оценки результативности\n",
    "\n",
    "def getConfusion (tGroundTrue, tPredict) :\n",
    "    cList = []\n",
    "    for i in range(tPredict.shape[1]) :\n",
    "        cList.append(skm.confusion_matrix(tGroundTrue[:,i],tPredict[:,i]))\n",
    "    return(np.array(cList))\n",
    "\n",
    "def getRocAUC (tGroundTrue, tPredict) :\n",
    "    rList = []\n",
    "    for i in range(tPredict.shape[1]) :\n",
    "        rList.append(skm.roc_auc_score(tGroundTrue[:,i],tPredict[:,i]))\n",
    "    return(np.array(rList))"
   ]
  },
  {
   "cell_type": "code",
   "execution_count": 127,
   "metadata": {
    "collapsed": true,
    "deletable": true,
    "editable": true
   },
   "outputs": [],
   "source": [
    "# Оценка нескольких наборов\n",
    "def getProb01 (trYP, th=0.5) :\n",
    "    trYY = trYP.copy()\n",
    "    trYY[trYY<th] = 0\n",
    "    trYY[trYY>0]  = 1\n",
    "    return (trYY)\n",
    "\n",
    "def estimateTrain (estimateList, param) :\n",
    "    res = []\n",
    "    for jpgtif, bins in estimateList :\n",
    "        trX     = np.load('../Work/train-data-XX'+str(bins)+jpgtif+'.npy')\n",
    "        trY     = np.load('../Work/train-data-YY'+str(bins)+jpgtif+'.npy')\n",
    "        listBST = getListBST(param, trX, trY)\n",
    "        trYP    = buildPredictX(trX,listBST)\n",
    "        trYY    = getProb01(trYP)\n",
    "        res.append(np.array(getConfusion(trY,trYY)))\n",
    "    return(res)      "
   ]
  },
  {
   "cell_type": "code",
   "execution_count": 128,
   "metadata": {
    "collapsed": true,
    "deletable": true,
    "editable": true
   },
   "outputs": [],
   "source": [
    "param = {\n",
    "         'objective':'reg:logistic', \n",
    "         #'num_class':17,\n",
    "         #'eta':0.05, \n",
    "         #'max_depth':9, 'subsample':0.8, 'colsample_bytree':0.8, \n",
    "         #'metrics':'rmse'\n",
    "         'eval_metric':['auc','rmse']\n",
    "        }\n",
    "param['silent']=True"
   ]
  },
  {
   "cell_type": "code",
   "execution_count": null,
   "metadata": {
    "collapsed": true,
    "deletable": true,
    "editable": true
   },
   "outputs": [],
   "source": []
  },
  {
   "cell_type": "code",
   "execution_count": 71,
   "metadata": {
    "collapsed": false,
    "deletable": true,
    "editable": true
   },
   "outputs": [
    {
     "name": "stdout",
     "output_type": "stream",
     "text": [
      "CPU times: user 0 ns, sys: 0 ns, total: 0 ns\n",
      "Wall time: 14.1 µs\n"
     ]
    }
   ],
   "source": [
    "#xJPG = estimateTrain([('.jpg',32),('.jpg',64),('.jpg',96)],param)\n",
    "%time"
   ]
  },
  {
   "cell_type": "code",
   "execution_count": 64,
   "metadata": {
    "collapsed": false,
    "deletable": true,
    "editable": true
   },
   "outputs": [
    {
     "name": "stdout",
     "output_type": "stream",
     "text": [
      "19743 [1224  629 3295  576 4277 1799 2939 3338  206   13  408    0  433   13  234\n",
      "  324   35]\n",
      "18538 [1248   90 3625 1106 2927 1603 3518 2655  194   38  233    0  658    0  264\n",
      "  303   76]\n",
      "15592 [1338  470 2304  551 2569 1136 3111 2691  168  143   18   24  532    0  269\n",
      "  227   41]\n",
      "CPU times: user 0 ns, sys: 0 ns, total: 0 ns\n",
      "Wall time: 5.96 µs\n"
     ]
    }
   ],
   "source": [
    "#xJPG\n",
    "for cms in xJPG :\n",
    "    cm = cms[:,0,1]+cms[:,1,0]\n",
    "    print (cm.sum(),cms[:,0,1]+cms[:,1,0])\n",
    "%time"
   ]
  },
  {
   "cell_type": "code",
   "execution_count": null,
   "metadata": {
    "collapsed": true,
    "deletable": true,
    "editable": true
   },
   "outputs": [],
   "source": []
  },
  {
   "cell_type": "code",
   "execution_count": 72,
   "metadata": {
    "collapsed": false,
    "deletable": true,
    "editable": true
   },
   "outputs": [
    {
     "name": "stdout",
     "output_type": "stream",
     "text": [
      "CPU times: user 0 ns, sys: 0 ns, total: 0 ns\n",
      "Wall time: 14.1 µs\n"
     ]
    }
   ],
   "source": [
    "#xTIF = estimateTrain([('.tif',32),('.tif',64),('.tif',96)],param)\n",
    "%time"
   ]
  },
  {
   "cell_type": "code",
   "execution_count": 66,
   "metadata": {
    "collapsed": false
   },
   "outputs": [
    {
     "name": "stdout",
     "output_type": "stream",
     "text": [
      "23842 [1438 1001 3107 1913 3395 1967 4088 3460  188  413 1761   17  492    6  197\n",
      "  301   98]\n",
      "21119 [1015  864 3257  846 3520 1771 3654 3382  149  369  994   54  654    9  198\n",
      "  304   79]\n",
      "17984 [ 874  783 2743  732 3002 1824 3533 3074   57   99  146    0  658   24  303\n",
      "   53   79]\n",
      "CPU times: user 0 ns, sys: 0 ns, total: 0 ns\n",
      "Wall time: 4.05 µs\n"
     ]
    }
   ],
   "source": [
    "for cms in xTIF :\n",
    "    cm = cms[:,0,1]+cms[:,1,0]\n",
    "    print (cm.sum(),cms[:,0,1]+cms[:,1,0])\n",
    "%time"
   ]
  },
  {
   "cell_type": "code",
   "execution_count": null,
   "metadata": {
    "collapsed": true
   },
   "outputs": [],
   "source": []
  },
  {
   "cell_type": "code",
   "execution_count": 129,
   "metadata": {
    "collapsed": false,
    "deletable": true,
    "editable": true
   },
   "outputs": [
    {
     "name": "stdout",
     "output_type": "stream",
     "text": [
      "Working: 0\n",
      "[0]\ttrain-auc:0.949064+0.000654696\ttest-auc:0.932372+0.00588223\n",
      "[30]\ttrain-auc:0.991204+0.00100711\ttest-auc:0.962539+0.00176618\n",
      "[0]\ttrain-auc:0.948081\ttrain-rmse:0.378152\n",
      "[1]\ttrain-auc:0.957938\ttrain-rmse:0.300135\n",
      "[2]\ttrain-auc:0.96189\ttrain-rmse:0.249536\n",
      "[3]\ttrain-auc:0.966223\ttrain-rmse:0.218108\n",
      "[4]\ttrain-auc:0.968025\ttrain-rmse:0.197936\n",
      "[5]\ttrain-auc:0.969773\ttrain-rmse:0.186698\n",
      "[6]\ttrain-auc:0.971284\ttrain-rmse:0.179143\n",
      "[7]\ttrain-auc:0.972662\ttrain-rmse:0.173794\n",
      "[8]\ttrain-auc:0.975281\ttrain-rmse:0.169815\n",
      "[9]\ttrain-auc:0.976713\ttrain-rmse:0.167707\n",
      "[10]\ttrain-auc:0.977603\ttrain-rmse:0.166173\n",
      "[11]\ttrain-auc:0.978469\ttrain-rmse:0.164194\n",
      "[12]\ttrain-auc:0.978813\ttrain-rmse:0.16279\n",
      "[13]\ttrain-auc:0.97963\ttrain-rmse:0.161343\n",
      "[14]\ttrain-auc:0.980679\ttrain-rmse:0.160787\n",
      "[15]\ttrain-auc:0.981879\ttrain-rmse:0.159473\n",
      "[16]\ttrain-auc:0.982318\ttrain-rmse:0.158567\n",
      "[17]\ttrain-auc:0.98307\ttrain-rmse:0.157116\n",
      "[18]\ttrain-auc:0.983384\ttrain-rmse:0.156774\n",
      "[19]\ttrain-auc:0.983825\ttrain-rmse:0.155764\n",
      "[20]\ttrain-auc:0.984251\ttrain-rmse:0.154676\n",
      "[21]\ttrain-auc:0.984823\ttrain-rmse:0.153272\n",
      "[22]\ttrain-auc:0.985148\ttrain-rmse:0.152504\n",
      "[23]\ttrain-auc:0.98549\ttrain-rmse:0.151524\n",
      "[24]\ttrain-auc:0.985609\ttrain-rmse:0.151161\n",
      "[25]\ttrain-auc:0.986058\ttrain-rmse:0.150236\n",
      "[26]\ttrain-auc:0.986622\ttrain-rmse:0.149141\n",
      "[27]\ttrain-auc:0.986823\ttrain-rmse:0.148467\n",
      "[28]\ttrain-auc:0.98698\ttrain-rmse:0.147983\n",
      "[29]\ttrain-auc:0.987197\ttrain-rmse:0.147331\n",
      "[30]\ttrain-auc:0.987718\ttrain-rmse:0.146261\n",
      "Working: 1\n",
      "[0]\ttrain-auc:0.93637+0.0060268\ttest-auc:0.921884+0.00581039\n",
      "[30]\ttrain-auc:0.995751+0.000267635\ttest-auc:0.97472+0.000723813\n",
      "[60]\ttrain-auc:0.999274+9.97229e-05\ttest-auc:0.97557+0.000972974\n",
      "[90]\ttrain-auc:0.999909+2.08327e-05\ttest-auc:0.975989+0.000995132\n",
      "[0]\ttrain-auc:0.93739\ttrain-rmse:0.375996\n",
      "[1]\ttrain-auc:0.957437\ttrain-rmse:0.297105\n",
      "[2]\ttrain-auc:0.964179\ttrain-rmse:0.244989\n",
      "[3]\ttrain-auc:0.967211\ttrain-rmse:0.210541\n",
      "[4]\ttrain-auc:0.969718\ttrain-rmse:0.187772\n",
      "[5]\ttrain-auc:0.975397\ttrain-rmse:0.172529\n",
      "[6]\ttrain-auc:0.979599\ttrain-rmse:0.162881\n",
      "[7]\ttrain-auc:0.981774\ttrain-rmse:0.156741\n",
      "[8]\ttrain-auc:0.984545\ttrain-rmse:0.152349\n",
      "[9]\ttrain-auc:0.98619\ttrain-rmse:0.149215\n",
      "[10]\ttrain-auc:0.987374\ttrain-rmse:0.146858\n",
      "[11]\ttrain-auc:0.988234\ttrain-rmse:0.145264\n",
      "[12]\ttrain-auc:0.988866\ttrain-rmse:0.143955\n",
      "[13]\ttrain-auc:0.989221\ttrain-rmse:0.142819\n",
      "[14]\ttrain-auc:0.989684\ttrain-rmse:0.141966\n",
      "[15]\ttrain-auc:0.990132\ttrain-rmse:0.141063\n",
      "[16]\ttrain-auc:0.990412\ttrain-rmse:0.140034\n",
      "[17]\ttrain-auc:0.990766\ttrain-rmse:0.138832\n",
      "[18]\ttrain-auc:0.991037\ttrain-rmse:0.137977\n",
      "[19]\ttrain-auc:0.991325\ttrain-rmse:0.13673\n",
      "[20]\ttrain-auc:0.991582\ttrain-rmse:0.135462\n",
      "[21]\ttrain-auc:0.991728\ttrain-rmse:0.134785\n",
      "[22]\ttrain-auc:0.992092\ttrain-rmse:0.133675\n",
      "[23]\ttrain-auc:0.992298\ttrain-rmse:0.132838\n",
      "[24]\ttrain-auc:0.992661\ttrain-rmse:0.131105\n",
      "[25]\ttrain-auc:0.993032\ttrain-rmse:0.129326\n",
      "[26]\ttrain-auc:0.99325\ttrain-rmse:0.128524\n",
      "[27]\ttrain-auc:0.993682\ttrain-rmse:0.126613\n",
      "[28]\ttrain-auc:0.993865\ttrain-rmse:0.125603\n",
      "[29]\ttrain-auc:0.994033\ttrain-rmse:0.124828\n",
      "[30]\ttrain-auc:0.994347\ttrain-rmse:0.123357\n",
      "[31]\ttrain-auc:0.994467\ttrain-rmse:0.122643\n",
      "[32]\ttrain-auc:0.994581\ttrain-rmse:0.122213\n",
      "[33]\ttrain-auc:0.994784\ttrain-rmse:0.121294\n",
      "[34]\ttrain-auc:0.994857\ttrain-rmse:0.120862\n",
      "[35]\ttrain-auc:0.995253\ttrain-rmse:0.118856\n",
      "[36]\ttrain-auc:0.995444\ttrain-rmse:0.117785\n",
      "[37]\ttrain-auc:0.995548\ttrain-rmse:0.117096\n",
      "[38]\ttrain-auc:0.995652\ttrain-rmse:0.116468\n",
      "[39]\ttrain-auc:0.995722\ttrain-rmse:0.115933\n",
      "[40]\ttrain-auc:0.995781\ttrain-rmse:0.115477\n",
      "[41]\ttrain-auc:0.995835\ttrain-rmse:0.115126\n",
      "[42]\ttrain-auc:0.995983\ttrain-rmse:0.114408\n",
      "[43]\ttrain-auc:0.996026\ttrain-rmse:0.114014\n",
      "[44]\ttrain-auc:0.996228\ttrain-rmse:0.113162\n",
      "[45]\ttrain-auc:0.996514\ttrain-rmse:0.111612\n",
      "[46]\ttrain-auc:0.996583\ttrain-rmse:0.111133\n",
      "[47]\ttrain-auc:0.996685\ttrain-rmse:0.110546\n",
      "[48]\ttrain-auc:0.996795\ttrain-rmse:0.109768\n",
      "[49]\ttrain-auc:0.996936\ttrain-rmse:0.108819\n",
      "[50]\ttrain-auc:0.997208\ttrain-rmse:0.106934\n",
      "[51]\ttrain-auc:0.997286\ttrain-rmse:0.106316\n",
      "[52]\ttrain-auc:0.99734\ttrain-rmse:0.105865\n",
      "[53]\ttrain-auc:0.997461\ttrain-rmse:0.105127\n",
      "[54]\ttrain-auc:0.99752\ttrain-rmse:0.104627\n",
      "[55]\ttrain-auc:0.997541\ttrain-rmse:0.104437\n",
      "[56]\ttrain-auc:0.997582\ttrain-rmse:0.104089\n",
      "[57]\ttrain-auc:0.997783\ttrain-rmse:0.102701\n",
      "[58]\ttrain-auc:0.997865\ttrain-rmse:0.102275\n",
      "[59]\ttrain-auc:0.997908\ttrain-rmse:0.101834\n",
      "[60]\ttrain-auc:0.99793\ttrain-rmse:0.101532\n",
      "[61]\ttrain-auc:0.998054\ttrain-rmse:0.100061\n",
      "[62]\ttrain-auc:0.998214\ttrain-rmse:0.098407\n",
      "[63]\ttrain-auc:0.998267\ttrain-rmse:0.097973\n",
      "[64]\ttrain-auc:0.99828\ttrain-rmse:0.097819\n",
      "[65]\ttrain-auc:0.998336\ttrain-rmse:0.097151\n",
      "[66]\ttrain-auc:0.998422\ttrain-rmse:0.096301\n",
      "[67]\ttrain-auc:0.998449\ttrain-rmse:0.095936\n",
      "[68]\ttrain-auc:0.998478\ttrain-rmse:0.09559\n",
      "[69]\ttrain-auc:0.998609\ttrain-rmse:0.094116\n",
      "[70]\ttrain-auc:0.998644\ttrain-rmse:0.093739\n",
      "[71]\ttrain-auc:0.998677\ttrain-rmse:0.093372\n",
      "[72]\ttrain-auc:0.998761\ttrain-rmse:0.092498\n",
      "[73]\ttrain-auc:0.998837\ttrain-rmse:0.091687\n",
      "[74]\ttrain-auc:0.99888\ttrain-rmse:0.09127\n",
      "[75]\ttrain-auc:0.998959\ttrain-rmse:0.08999\n",
      "[76]\ttrain-auc:0.99899\ttrain-rmse:0.089473\n",
      "[77]\ttrain-auc:0.999009\ttrain-rmse:0.089117\n",
      "[78]\ttrain-auc:0.999097\ttrain-rmse:0.087819\n",
      "[79]\ttrain-auc:0.999111\ttrain-rmse:0.087512\n",
      "[80]\ttrain-auc:0.999122\ttrain-rmse:0.08735\n",
      "[81]\ttrain-auc:0.99915\ttrain-rmse:0.086887\n",
      "[82]\ttrain-auc:0.999214\ttrain-rmse:0.085864\n",
      "[83]\ttrain-auc:0.999221\ttrain-rmse:0.085616\n",
      "[84]\ttrain-auc:0.999281\ttrain-rmse:0.084711\n",
      "[85]\ttrain-auc:0.999325\ttrain-rmse:0.083999\n",
      "[86]\ttrain-auc:0.999396\ttrain-rmse:0.082621\n",
      "[87]\ttrain-auc:0.999399\ttrain-rmse:0.082479\n",
      "[88]\ttrain-auc:0.999424\ttrain-rmse:0.081988\n",
      "[89]\ttrain-auc:0.999432\ttrain-rmse:0.081688\n",
      "Working: 2\n",
      "[0]\ttrain-auc:0.902351+0.00207259\ttest-auc:0.886637+0.00116907\n",
      "[30]\ttrain-auc:0.972845+0.000349863\ttest-auc:0.930899+0.00244807\n",
      "[60]\ttrain-auc:0.986063+9.02749e-05\ttest-auc:0.932624+0.00270746\n",
      "[90]\ttrain-auc:0.993043+0.000642917\ttest-auc:0.932663+0.00267592\n",
      "[0]\ttrain-auc:0.902586\ttrain-rmse:0.42511\n",
      "[1]\ttrain-auc:0.918433\ttrain-rmse:0.378756\n",
      "[2]\ttrain-auc:0.925255\ttrain-rmse:0.349102\n",
      "[3]\ttrain-auc:0.929303\ttrain-rmse:0.331077\n",
      "[4]\ttrain-auc:0.932579\ttrain-rmse:0.319318\n",
      "[5]\ttrain-auc:0.935233\ttrain-rmse:0.310806\n",
      "[6]\ttrain-auc:0.937891\ttrain-rmse:0.304303\n",
      "[7]\ttrain-auc:0.940451\ttrain-rmse:0.299803\n",
      "[8]\ttrain-auc:0.942728\ttrain-rmse:0.295746\n",
      "[9]\ttrain-auc:0.944834\ttrain-rmse:0.292514\n",
      "[10]\ttrain-auc:0.946392\ttrain-rmse:0.289757\n",
      "[11]\ttrain-auc:0.948354\ttrain-rmse:0.28657\n",
      "[12]\ttrain-auc:0.950122\ttrain-rmse:0.28431\n",
      "[13]\ttrain-auc:0.951587\ttrain-rmse:0.281819\n",
      "[14]\ttrain-auc:0.95282\ttrain-rmse:0.280037\n",
      "[15]\ttrain-auc:0.954568\ttrain-rmse:0.27763\n",
      "[16]\ttrain-auc:0.955441\ttrain-rmse:0.276148\n",
      "[17]\ttrain-auc:0.956911\ttrain-rmse:0.273748\n",
      "[18]\ttrain-auc:0.957553\ttrain-rmse:0.272479\n",
      "[19]\ttrain-auc:0.958136\ttrain-rmse:0.271528\n",
      "[20]\ttrain-auc:0.958687\ttrain-rmse:0.270687\n",
      "[21]\ttrain-auc:0.959159\ttrain-rmse:0.269901\n",
      "[22]\ttrain-auc:0.959672\ttrain-rmse:0.269232\n",
      "[23]\ttrain-auc:0.960384\ttrain-rmse:0.267926\n",
      "[24]\ttrain-auc:0.960879\ttrain-rmse:0.267009\n",
      "[25]\ttrain-auc:0.961293\ttrain-rmse:0.266356\n",
      "[26]\ttrain-auc:0.961716\ttrain-rmse:0.265792\n",
      "[27]\ttrain-auc:0.962892\ttrain-rmse:0.263787\n",
      "[28]\ttrain-auc:0.963333\ttrain-rmse:0.262989\n",
      "[29]\ttrain-auc:0.964273\ttrain-rmse:0.26165\n",
      "[30]\ttrain-auc:0.964883\ttrain-rmse:0.260877\n",
      "[31]\ttrain-auc:0.965249\ttrain-rmse:0.260268\n",
      "[32]\ttrain-auc:0.965793\ttrain-rmse:0.259257\n",
      "[33]\ttrain-auc:0.966708\ttrain-rmse:0.257644\n",
      "[34]\ttrain-auc:0.967079\ttrain-rmse:0.256945\n",
      "[35]\ttrain-auc:0.967405\ttrain-rmse:0.256314\n",
      "[36]\ttrain-auc:0.968113\ttrain-rmse:0.254926\n",
      "[37]\ttrain-auc:0.968947\ttrain-rmse:0.253549\n",
      "[38]\ttrain-auc:0.969913\ttrain-rmse:0.25167\n",
      "[39]\ttrain-auc:0.970188\ttrain-rmse:0.25111\n",
      "[40]\ttrain-auc:0.970777\ttrain-rmse:0.25008\n",
      "[41]\ttrain-auc:0.971204\ttrain-rmse:0.249191\n",
      "[42]\ttrain-auc:0.971472\ttrain-rmse:0.248714\n",
      "[43]\ttrain-auc:0.972163\ttrain-rmse:0.24717\n",
      "[44]\ttrain-auc:0.972479\ttrain-rmse:0.246535\n",
      "[45]\ttrain-auc:0.973214\ttrain-rmse:0.245196\n",
      "[46]\ttrain-auc:0.973617\ttrain-rmse:0.244408\n",
      "[47]\ttrain-auc:0.973925\ttrain-rmse:0.243625\n",
      "[48]\ttrain-auc:0.974523\ttrain-rmse:0.24223\n",
      "[49]\ttrain-auc:0.975187\ttrain-rmse:0.240857\n",
      "[50]\ttrain-auc:0.975839\ttrain-rmse:0.239126\n",
      "[51]\ttrain-auc:0.976437\ttrain-rmse:0.237783\n",
      "[52]\ttrain-auc:0.976788\ttrain-rmse:0.236904\n",
      "[53]\ttrain-auc:0.976923\ttrain-rmse:0.236586\n",
      "[54]\ttrain-auc:0.977178\ttrain-rmse:0.235979\n",
      "[55]\ttrain-auc:0.977377\ttrain-rmse:0.235488\n",
      "[56]\ttrain-auc:0.977489\ttrain-rmse:0.235174\n",
      "[57]\ttrain-auc:0.977584\ttrain-rmse:0.234943\n",
      "[58]\ttrain-auc:0.977676\ttrain-rmse:0.234722\n",
      "[59]\ttrain-auc:0.97776\ttrain-rmse:0.234515\n",
      "[60]\ttrain-auc:0.978062\ttrain-rmse:0.233902\n",
      "[61]\ttrain-auc:0.978497\ttrain-rmse:0.232908\n",
      "[62]\ttrain-auc:0.979119\ttrain-rmse:0.231423\n",
      "[63]\ttrain-auc:0.979823\ttrain-rmse:0.229457\n",
      "[64]\ttrain-auc:0.980154\ttrain-rmse:0.228486\n",
      "[65]\ttrain-auc:0.980539\ttrain-rmse:0.227403\n",
      "[66]\ttrain-auc:0.98082\ttrain-rmse:0.226813\n",
      "[67]\ttrain-auc:0.980936\ttrain-rmse:0.226521\n",
      "[68]\ttrain-auc:0.981073\ttrain-rmse:0.226127\n",
      "[69]\ttrain-auc:0.981395\ttrain-rmse:0.225151\n",
      "[70]\ttrain-auc:0.981533\ttrain-rmse:0.22478\n",
      "[71]\ttrain-auc:0.982012\ttrain-rmse:0.223462\n",
      "Working: 3\n",
      "[0]\ttrain-auc:0.958167+0.00131817\ttest-auc:0.948972+0.000509557\n",
      "[30]\ttrain-auc:0.993255+0.000429499\ttest-auc:0.975444+0.000857672\n",
      "[60]\ttrain-auc:0.997908+7.40285e-05\ttest-auc:0.976669+0.00119698\n",
      "[90]\ttrain-auc:0.999412+3.08689e-05\ttest-auc:0.976899+0.00116105\n",
      "[0]\ttrain-auc:0.95678\ttrain-rmse:0.398462\n",
      "[1]\ttrain-auc:0.964658\ttrain-rmse:0.336124\n",
      "[2]\ttrain-auc:0.969427\ttrain-rmse:0.294645\n",
      "[3]\ttrain-auc:0.971328\ttrain-rmse:0.268541\n",
      "[4]\ttrain-auc:0.973113\ttrain-rmse:0.251639\n",
      "[5]\ttrain-auc:0.974529\ttrain-rmse:0.240433\n",
      "[6]\ttrain-auc:0.976413\ttrain-rmse:0.232083\n",
      "[7]\ttrain-auc:0.977693\ttrain-rmse:0.226478\n",
      "[8]\ttrain-auc:0.97884\ttrain-rmse:0.221918\n",
      "[9]\ttrain-auc:0.980025\ttrain-rmse:0.217892\n",
      "[10]\ttrain-auc:0.981266\ttrain-rmse:0.214313\n",
      "[11]\ttrain-auc:0.982646\ttrain-rmse:0.210751\n",
      "[12]\ttrain-auc:0.983654\ttrain-rmse:0.208114\n",
      "[13]\ttrain-auc:0.984137\ttrain-rmse:0.205879\n",
      "[14]\ttrain-auc:0.984852\ttrain-rmse:0.203078\n",
      "[15]\ttrain-auc:0.985321\ttrain-rmse:0.201223\n",
      "[16]\ttrain-auc:0.985981\ttrain-rmse:0.199015\n",
      "[17]\ttrain-auc:0.986171\ttrain-rmse:0.198256\n",
      "[18]\ttrain-auc:0.987002\ttrain-rmse:0.195683\n",
      "[19]\ttrain-auc:0.98726\ttrain-rmse:0.194679\n",
      "[20]\ttrain-auc:0.987798\ttrain-rmse:0.192678\n",
      "[21]\ttrain-auc:0.988245\ttrain-rmse:0.191187\n",
      "[22]\ttrain-auc:0.988583\ttrain-rmse:0.189743\n",
      "[23]\ttrain-auc:0.988834\ttrain-rmse:0.188757\n",
      "[24]\ttrain-auc:0.989367\ttrain-rmse:0.18703\n",
      "[25]\ttrain-auc:0.990011\ttrain-rmse:0.184218\n",
      "[26]\ttrain-auc:0.990125\ttrain-rmse:0.183706\n",
      "[27]\ttrain-auc:0.990181\ttrain-rmse:0.183392\n",
      "[28]\ttrain-auc:0.990458\ttrain-rmse:0.181868\n",
      "[29]\ttrain-auc:0.99067\ttrain-rmse:0.181216\n",
      "[30]\ttrain-auc:0.990841\ttrain-rmse:0.180278\n",
      "[31]\ttrain-auc:0.99143\ttrain-rmse:0.178382\n",
      "[32]\ttrain-auc:0.991617\ttrain-rmse:0.177469\n",
      "[33]\ttrain-auc:0.991936\ttrain-rmse:0.175737\n",
      "[34]\ttrain-auc:0.992058\ttrain-rmse:0.175117\n",
      "[35]\ttrain-auc:0.992126\ttrain-rmse:0.174758\n",
      "[36]\ttrain-auc:0.992212\ttrain-rmse:0.174255\n",
      "[37]\ttrain-auc:0.99242\ttrain-rmse:0.173302\n",
      "[38]\ttrain-auc:0.992846\ttrain-rmse:0.171607\n",
      "[39]\ttrain-auc:0.993024\ttrain-rmse:0.170704\n",
      "[40]\ttrain-auc:0.993335\ttrain-rmse:0.16909\n",
      "[41]\ttrain-auc:0.993567\ttrain-rmse:0.167618\n",
      "[42]\ttrain-auc:0.993627\ttrain-rmse:0.167173\n",
      "[43]\ttrain-auc:0.993926\ttrain-rmse:0.165456\n",
      "[44]\ttrain-auc:0.994015\ttrain-rmse:0.164875\n",
      "[45]\ttrain-auc:0.994224\ttrain-rmse:0.163889\n",
      "[46]\ttrain-auc:0.99442\ttrain-rmse:0.162609\n",
      "[47]\ttrain-auc:0.99452\ttrain-rmse:0.162025\n",
      "[48]\ttrain-auc:0.994565\ttrain-rmse:0.161617\n",
      "[49]\ttrain-auc:0.994645\ttrain-rmse:0.161031\n",
      "[50]\ttrain-auc:0.994739\ttrain-rmse:0.160422\n",
      "[51]\ttrain-auc:0.995013\ttrain-rmse:0.158793\n",
      "[52]\ttrain-auc:0.995116\ttrain-rmse:0.158017\n",
      "[53]\ttrain-auc:0.995224\ttrain-rmse:0.157412\n",
      "[54]\ttrain-auc:0.995283\ttrain-rmse:0.156929\n",
      "[55]\ttrain-auc:0.99532\ttrain-rmse:0.156617\n",
      "[56]\ttrain-auc:0.995416\ttrain-rmse:0.156031\n",
      "[57]\ttrain-auc:0.995545\ttrain-rmse:0.154938\n",
      "[58]\ttrain-auc:0.995716\ttrain-rmse:0.153867\n",
      "[59]\ttrain-auc:0.995881\ttrain-rmse:0.15251\n",
      "[60]\ttrain-auc:0.996026\ttrain-rmse:0.151367\n",
      "[61]\ttrain-auc:0.996167\ttrain-rmse:0.150303\n",
      "[62]\ttrain-auc:0.996219\ttrain-rmse:0.14985\n",
      "[63]\ttrain-auc:0.99643\ttrain-rmse:0.148258\n",
      "[64]\ttrain-auc:0.996553\ttrain-rmse:0.14704\n",
      "[65]\ttrain-auc:0.996611\ttrain-rmse:0.146309\n",
      "[66]\ttrain-auc:0.996686\ttrain-rmse:0.145466\n",
      "[67]\ttrain-auc:0.996741\ttrain-rmse:0.144865\n",
      "[68]\ttrain-auc:0.996837\ttrain-rmse:0.14404\n",
      "[69]\ttrain-auc:0.997078\ttrain-rmse:0.142362\n",
      "[70]\ttrain-auc:0.997234\ttrain-rmse:0.140948\n",
      "[71]\ttrain-auc:0.997272\ttrain-rmse:0.140503\n",
      "[72]\ttrain-auc:0.997353\ttrain-rmse:0.139564\n",
      "[73]\ttrain-auc:0.997376\ttrain-rmse:0.139298\n",
      "[74]\ttrain-auc:0.997478\ttrain-rmse:0.138245\n",
      "[75]\ttrain-auc:0.997541\ttrain-rmse:0.13744\n",
      "[76]\ttrain-auc:0.997651\ttrain-rmse:0.136386\n",
      "[77]\ttrain-auc:0.997727\ttrain-rmse:0.135682\n",
      "[78]\ttrain-auc:0.997749\ttrain-rmse:0.135359\n",
      "[79]\ttrain-auc:0.997805\ttrain-rmse:0.134516\n",
      "[80]\ttrain-auc:0.99787\ttrain-rmse:0.133934\n",
      "[81]\ttrain-auc:0.997897\ttrain-rmse:0.133653\n",
      "[82]\ttrain-auc:0.997965\ttrain-rmse:0.132654\n",
      "[83]\ttrain-auc:0.997982\ttrain-rmse:0.132322\n",
      "[84]\ttrain-auc:0.998014\ttrain-rmse:0.131822\n",
      "[85]\ttrain-auc:0.998041\ttrain-rmse:0.131421\n",
      "[86]\ttrain-auc:0.998086\ttrain-rmse:0.130696\n",
      "[87]\ttrain-auc:0.998146\ttrain-rmse:0.129956\n",
      "[88]\ttrain-auc:0.998234\ttrain-rmse:0.128977\n",
      "Working: 4\n",
      "[0]\ttrain-auc:0.890187+0.000778592\ttest-auc:0.871565+0.00204103\n",
      "[30]\ttrain-auc:0.968715+0.00115584\ttest-auc:0.909693+0.000234785\n",
      "[0]\ttrain-auc:0.887571\ttrain-rmse:0.410972\n",
      "[1]\ttrain-auc:0.899452\ttrain-rmse:0.358203\n",
      "[2]\ttrain-auc:0.907998\ttrain-rmse:0.325397\n",
      "[3]\ttrain-auc:0.912282\ttrain-rmse:0.306033\n",
      "[4]\ttrain-auc:0.916398\ttrain-rmse:0.293962\n",
      "[5]\ttrain-auc:0.919872\ttrain-rmse:0.286454\n",
      "[6]\ttrain-auc:0.921306\ttrain-rmse:0.281679\n",
      "[7]\ttrain-auc:0.923802\ttrain-rmse:0.277547\n",
      "[8]\ttrain-auc:0.926495\ttrain-rmse:0.2741\n",
      "[9]\ttrain-auc:0.930388\ttrain-rmse:0.269753\n",
      "[10]\ttrain-auc:0.932648\ttrain-rmse:0.267688\n",
      "[11]\ttrain-auc:0.935245\ttrain-rmse:0.264083\n",
      "[12]\ttrain-auc:0.937074\ttrain-rmse:0.261203\n",
      "[13]\ttrain-auc:0.939202\ttrain-rmse:0.258412\n",
      "[14]\ttrain-auc:0.940974\ttrain-rmse:0.256249\n",
      "[15]\ttrain-auc:0.941626\ttrain-rmse:0.255204\n",
      "[16]\ttrain-auc:0.943449\ttrain-rmse:0.253626\n",
      "[17]\ttrain-auc:0.944929\ttrain-rmse:0.251806\n",
      "[18]\ttrain-auc:0.945985\ttrain-rmse:0.250477\n",
      "[19]\ttrain-auc:0.946573\ttrain-rmse:0.249892\n",
      "[20]\ttrain-auc:0.948308\ttrain-rmse:0.248381\n",
      "[21]\ttrain-auc:0.950234\ttrain-rmse:0.246719\n",
      "[22]\ttrain-auc:0.951536\ttrain-rmse:0.245229\n",
      "[23]\ttrain-auc:0.95357\ttrain-rmse:0.243013\n",
      "[24]\ttrain-auc:0.954784\ttrain-rmse:0.241603\n",
      "[25]\ttrain-auc:0.955677\ttrain-rmse:0.240369\n",
      "[26]\ttrain-auc:0.956104\ttrain-rmse:0.23982\n",
      "[27]\ttrain-auc:0.956648\ttrain-rmse:0.239334\n",
      "[28]\ttrain-auc:0.95702\ttrain-rmse:0.238883\n",
      "[29]\ttrain-auc:0.95831\ttrain-rmse:0.23728\n",
      "[30]\ttrain-auc:0.958998\ttrain-rmse:0.236122\n",
      "[31]\ttrain-auc:0.959291\ttrain-rmse:0.235761\n",
      "[32]\ttrain-auc:0.959926\ttrain-rmse:0.234873\n",
      "[33]\ttrain-auc:0.961891\ttrain-rmse:0.232869\n",
      "[34]\ttrain-auc:0.962088\ttrain-rmse:0.232582\n",
      "[35]\ttrain-auc:0.962328\ttrain-rmse:0.232215\n",
      "[36]\ttrain-auc:0.963068\ttrain-rmse:0.231557\n",
      "[37]\ttrain-auc:0.964312\ttrain-rmse:0.229721\n",
      "[38]\ttrain-auc:0.964942\ttrain-rmse:0.229058\n",
      "Working: 5\n",
      "[0]\ttrain-auc:0.904142+0.00264318\ttest-auc:0.882848+0.00120403\n",
      "[30]\ttrain-auc:0.986573+0.00203239\ttest-auc:0.93484+0.00203904\n",
      "[0]\ttrain-auc:0.901951\ttrain-rmse:0.390283\n",
      "[1]\ttrain-auc:0.921695\ttrain-rmse:0.322776\n",
      "[2]\ttrain-auc:0.930835\ttrain-rmse:0.280209\n",
      "[3]\ttrain-auc:0.934979\ttrain-rmse:0.253467\n",
      "[4]\ttrain-auc:0.940133\ttrain-rmse:0.236181\n",
      "[5]\ttrain-auc:0.943395\ttrain-rmse:0.226079\n",
      "[6]\ttrain-auc:0.947\ttrain-rmse:0.218307\n",
      "[7]\ttrain-auc:0.949561\ttrain-rmse:0.213861\n",
      "[8]\ttrain-auc:0.951531\ttrain-rmse:0.210365\n",
      "[9]\ttrain-auc:0.953086\ttrain-rmse:0.207822\n",
      "[10]\ttrain-auc:0.955455\ttrain-rmse:0.204952\n",
      "[11]\ttrain-auc:0.957615\ttrain-rmse:0.202709\n",
      "[12]\ttrain-auc:0.959735\ttrain-rmse:0.201227\n",
      "[13]\ttrain-auc:0.961278\ttrain-rmse:0.199024\n",
      "[14]\ttrain-auc:0.962728\ttrain-rmse:0.197515\n",
      "[15]\ttrain-auc:0.963932\ttrain-rmse:0.195845\n",
      "[16]\ttrain-auc:0.965473\ttrain-rmse:0.194282\n",
      "[17]\ttrain-auc:0.967283\ttrain-rmse:0.192527\n",
      "[18]\ttrain-auc:0.968252\ttrain-rmse:0.191443\n",
      "[19]\ttrain-auc:0.969719\ttrain-rmse:0.189287\n",
      "[20]\ttrain-auc:0.970797\ttrain-rmse:0.187021\n",
      "[21]\ttrain-auc:0.971742\ttrain-rmse:0.186123\n",
      "[22]\ttrain-auc:0.973383\ttrain-rmse:0.183517\n",
      "[23]\ttrain-auc:0.973993\ttrain-rmse:0.182589\n",
      "[24]\ttrain-auc:0.975016\ttrain-rmse:0.180716\n",
      "[25]\ttrain-auc:0.976044\ttrain-rmse:0.179235\n",
      "[26]\ttrain-auc:0.977376\ttrain-rmse:0.177328\n",
      "[27]\ttrain-auc:0.978199\ttrain-rmse:0.176057\n",
      "[28]\ttrain-auc:0.979303\ttrain-rmse:0.174004\n",
      "[29]\ttrain-auc:0.979674\ttrain-rmse:0.173309\n",
      "[30]\ttrain-auc:0.979996\ttrain-rmse:0.172594\n",
      "[31]\ttrain-auc:0.980553\ttrain-rmse:0.171705\n",
      "[32]\ttrain-auc:0.981317\ttrain-rmse:0.170282\n",
      "[33]\ttrain-auc:0.982396\ttrain-rmse:0.168514\n",
      "[34]\ttrain-auc:0.983047\ttrain-rmse:0.167059\n",
      "[35]\ttrain-auc:0.98368\ttrain-rmse:0.166126\n",
      "[36]\ttrain-auc:0.983896\ttrain-rmse:0.165763\n",
      "Working: 6\n",
      "[0]\ttrain-auc:0.89487+0.00115501\ttest-auc:0.87902+0.00248403\n",
      "[30]\ttrain-auc:0.966775+0.00176503\ttest-auc:0.913589+0.00208994\n",
      "[60]\ttrain-auc:0.983656+0.00112943\ttest-auc:0.914905+0.0027656\n",
      "[0]\ttrain-auc:0.894582\ttrain-rmse:0.417584\n",
      "[1]\ttrain-auc:0.905496\ttrain-rmse:0.369214\n",
      "[2]\ttrain-auc:0.912643\ttrain-rmse:0.339634\n",
      "[3]\ttrain-auc:0.917719\ttrain-rmse:0.32077\n",
      "[4]\ttrain-auc:0.921336\ttrain-rmse:0.309003\n",
      "[5]\ttrain-auc:0.924057\ttrain-rmse:0.30126\n",
      "[6]\ttrain-auc:0.926661\ttrain-rmse:0.295879\n",
      "[7]\ttrain-auc:0.929429\ttrain-rmse:0.291159\n",
      "[8]\ttrain-auc:0.931028\ttrain-rmse:0.288692\n",
      "[9]\ttrain-auc:0.933146\ttrain-rmse:0.285514\n",
      "[10]\ttrain-auc:0.935345\ttrain-rmse:0.283126\n",
      "[11]\ttrain-auc:0.937062\ttrain-rmse:0.281156\n",
      "[12]\ttrain-auc:0.93912\ttrain-rmse:0.278864\n",
      "[13]\ttrain-auc:0.940968\ttrain-rmse:0.276819\n",
      "[14]\ttrain-auc:0.942777\ttrain-rmse:0.274642\n",
      "[15]\ttrain-auc:0.944595\ttrain-rmse:0.272187\n",
      "[16]\ttrain-auc:0.94651\ttrain-rmse:0.269481\n",
      "[17]\ttrain-auc:0.947595\ttrain-rmse:0.268107\n",
      "[18]\ttrain-auc:0.948994\ttrain-rmse:0.266315\n",
      "[19]\ttrain-auc:0.949645\ttrain-rmse:0.265656\n",
      "[20]\ttrain-auc:0.95067\ttrain-rmse:0.264205\n",
      "[21]\ttrain-auc:0.951632\ttrain-rmse:0.263015\n",
      "[22]\ttrain-auc:0.953084\ttrain-rmse:0.261095\n",
      "[23]\ttrain-auc:0.954366\ttrain-rmse:0.259143\n",
      "[24]\ttrain-auc:0.955265\ttrain-rmse:0.257841\n",
      "[25]\ttrain-auc:0.955724\ttrain-rmse:0.25739\n",
      "[26]\ttrain-auc:0.956155\ttrain-rmse:0.256838\n",
      "[27]\ttrain-auc:0.957308\ttrain-rmse:0.255721\n",
      "[28]\ttrain-auc:0.95778\ttrain-rmse:0.254985\n",
      "[29]\ttrain-auc:0.95805\ttrain-rmse:0.254485\n",
      "[30]\ttrain-auc:0.959553\ttrain-rmse:0.252076\n",
      "[31]\ttrain-auc:0.960162\ttrain-rmse:0.251163\n",
      "[32]\ttrain-auc:0.960401\ttrain-rmse:0.250841\n",
      "[33]\ttrain-auc:0.961136\ttrain-rmse:0.249859\n",
      "[34]\ttrain-auc:0.961727\ttrain-rmse:0.249066\n",
      "[35]\ttrain-auc:0.962158\ttrain-rmse:0.24852\n",
      "[36]\ttrain-auc:0.962609\ttrain-rmse:0.2479\n",
      "[37]\ttrain-auc:0.963453\ttrain-rmse:0.24695\n",
      "[38]\ttrain-auc:0.963597\ttrain-rmse:0.246714\n",
      "[39]\ttrain-auc:0.964473\ttrain-rmse:0.24517\n",
      "[40]\ttrain-auc:0.965511\ttrain-rmse:0.243408\n",
      "[41]\ttrain-auc:0.966295\ttrain-rmse:0.242181\n",
      "[42]\ttrain-auc:0.966756\ttrain-rmse:0.241388\n",
      "[43]\ttrain-auc:0.967289\ttrain-rmse:0.240643\n",
      "[44]\ttrain-auc:0.967551\ttrain-rmse:0.240282\n",
      "[45]\ttrain-auc:0.96775\ttrain-rmse:0.240005\n",
      "[46]\ttrain-auc:0.968069\ttrain-rmse:0.239413\n",
      "[47]\ttrain-auc:0.968695\ttrain-rmse:0.238392\n",
      "[48]\ttrain-auc:0.968952\ttrain-rmse:0.238093\n",
      "[49]\ttrain-auc:0.969148\ttrain-rmse:0.237789\n",
      "[50]\ttrain-auc:0.96973\ttrain-rmse:0.236829\n",
      "[51]\ttrain-auc:0.97039\ttrain-rmse:0.235445\n",
      "[52]\ttrain-auc:0.970971\ttrain-rmse:0.234447\n",
      "[53]\ttrain-auc:0.971384\ttrain-rmse:0.23382\n",
      "[54]\ttrain-auc:0.971758\ttrain-rmse:0.233197\n",
      "[55]\ttrain-auc:0.97273\ttrain-rmse:0.231867\n",
      "[56]\ttrain-auc:0.972892\ttrain-rmse:0.231632\n",
      "[57]\ttrain-auc:0.973188\ttrain-rmse:0.231085\n",
      "[58]\ttrain-auc:0.97348\ttrain-rmse:0.230487\n",
      "[59]\ttrain-auc:0.973656\ttrain-rmse:0.230139\n",
      "[60]\ttrain-auc:0.973851\ttrain-rmse:0.229709\n",
      "Working: 7\n",
      "[0]\ttrain-auc:0.834345+0.00117061\ttest-auc:0.802325+0.00527147\n",
      "[30]\ttrain-auc:0.958854+0.00080982\ttest-auc:0.85346+0.00136872\n",
      "[60]\ttrain-auc:0.984379+0.00196909\ttest-auc:0.854257+0.000896755\n",
      "[0]\ttrain-auc:0.831723\ttrain-rmse:0.406746\n",
      "[1]\ttrain-auc:0.851793\ttrain-rmse:0.351396\n",
      "[2]\ttrain-auc:0.860476\ttrain-rmse:0.318485\n",
      "[3]\ttrain-auc:0.866626\ttrain-rmse:0.299462\n",
      "[4]\ttrain-auc:0.872156\ttrain-rmse:0.288115\n",
      "[5]\ttrain-auc:0.87696\ttrain-rmse:0.280311\n",
      "[6]\ttrain-auc:0.881414\ttrain-rmse:0.275851\n",
      "[7]\ttrain-auc:0.885796\ttrain-rmse:0.272076\n",
      "[8]\ttrain-auc:0.890775\ttrain-rmse:0.268532\n",
      "[9]\ttrain-auc:0.896069\ttrain-rmse:0.265741\n",
      "[10]\ttrain-auc:0.900423\ttrain-rmse:0.263912\n",
      "[11]\ttrain-auc:0.904643\ttrain-rmse:0.261151\n",
      "[12]\ttrain-auc:0.907405\ttrain-rmse:0.259936\n",
      "[13]\ttrain-auc:0.911234\ttrain-rmse:0.25767\n",
      "[14]\ttrain-auc:0.914146\ttrain-rmse:0.255761\n",
      "[15]\ttrain-auc:0.916529\ttrain-rmse:0.25474\n",
      "[16]\ttrain-auc:0.919908\ttrain-rmse:0.252578\n",
      "[17]\ttrain-auc:0.922772\ttrain-rmse:0.250891\n",
      "[18]\ttrain-auc:0.925537\ttrain-rmse:0.24891\n",
      "[19]\ttrain-auc:0.928144\ttrain-rmse:0.247481\n",
      "[20]\ttrain-auc:0.929255\ttrain-rmse:0.24684\n",
      "[21]\ttrain-auc:0.931193\ttrain-rmse:0.245541\n",
      "[22]\ttrain-auc:0.933863\ttrain-rmse:0.243882\n",
      "[23]\ttrain-auc:0.935093\ttrain-rmse:0.243282\n",
      "[24]\ttrain-auc:0.937867\ttrain-rmse:0.241583\n",
      "[25]\ttrain-auc:0.938526\ttrain-rmse:0.240964\n",
      "[26]\ttrain-auc:0.939382\ttrain-rmse:0.240255\n",
      "[27]\ttrain-auc:0.939868\ttrain-rmse:0.239902\n",
      "[28]\ttrain-auc:0.941443\ttrain-rmse:0.239127\n",
      "[29]\ttrain-auc:0.941905\ttrain-rmse:0.238751\n",
      "[30]\ttrain-auc:0.943791\ttrain-rmse:0.237346\n",
      "[31]\ttrain-auc:0.944535\ttrain-rmse:0.236929\n",
      "[32]\ttrain-auc:0.945403\ttrain-rmse:0.235949\n",
      "[33]\ttrain-auc:0.947303\ttrain-rmse:0.234362\n",
      "[34]\ttrain-auc:0.948718\ttrain-rmse:0.233539\n",
      "[35]\ttrain-auc:0.950046\ttrain-rmse:0.232807\n",
      "[36]\ttrain-auc:0.951974\ttrain-rmse:0.231174\n",
      "[37]\ttrain-auc:0.952989\ttrain-rmse:0.23037\n",
      "[38]\ttrain-auc:0.954444\ttrain-rmse:0.229103\n",
      "[39]\ttrain-auc:0.955781\ttrain-rmse:0.227912\n",
      "[40]\ttrain-auc:0.957184\ttrain-rmse:0.226836\n",
      "[41]\ttrain-auc:0.957881\ttrain-rmse:0.226241\n",
      "[42]\ttrain-auc:0.958404\ttrain-rmse:0.225679\n",
      "[43]\ttrain-auc:0.958696\ttrain-rmse:0.22544\n",
      "[44]\ttrain-auc:0.959874\ttrain-rmse:0.224395\n",
      "[45]\ttrain-auc:0.960687\ttrain-rmse:0.223513\n",
      "[46]\ttrain-auc:0.961297\ttrain-rmse:0.222719\n",
      "[47]\ttrain-auc:0.962535\ttrain-rmse:0.221321\n",
      "[48]\ttrain-auc:0.964361\ttrain-rmse:0.219385\n",
      "[49]\ttrain-auc:0.965641\ttrain-rmse:0.218208\n",
      "[50]\ttrain-auc:0.965883\ttrain-rmse:0.217995\n",
      "[51]\ttrain-auc:0.966178\ttrain-rmse:0.217669\n",
      "[52]\ttrain-auc:0.966394\ttrain-rmse:0.21737\n",
      "Working: 8\n",
      "[0]\ttrain-auc:0.5+0\ttest-auc:0.5+0\n",
      "[30]\ttrain-auc:0.999683+0.000365924\ttest-auc:0.886018+0.0137498\n",
      "[60]\ttrain-auc:1+0\ttest-auc:0.889918+0.0124667\n",
      "[0]\ttrain-auc:0.5\ttrain-rmse:0.357863\n",
      "[1]\ttrain-auc:0.80434\ttrain-rmse:0.26345\n",
      "[2]\ttrain-auc:0.863813\ttrain-rmse:0.19813\n",
      "[3]\ttrain-auc:0.880328\ttrain-rmse:0.152794\n",
      "[4]\ttrain-auc:0.893332\ttrain-rmse:0.121631\n",
      "[5]\ttrain-auc:0.904553\ttrain-rmse:0.100859\n",
      "[6]\ttrain-auc:0.916273\ttrain-rmse:0.087243\n",
      "[7]\ttrain-auc:0.94583\ttrain-rmse:0.078731\n",
      "[8]\ttrain-auc:0.947642\ttrain-rmse:0.073457\n",
      "[9]\ttrain-auc:0.959711\ttrain-rmse:0.070292\n",
      "[10]\ttrain-auc:0.966264\ttrain-rmse:0.068164\n",
      "[11]\ttrain-auc:0.970593\ttrain-rmse:0.066348\n",
      "[12]\ttrain-auc:0.975048\ttrain-rmse:0.065489\n",
      "[13]\ttrain-auc:0.979306\ttrain-rmse:0.064762\n",
      "[14]\ttrain-auc:0.98341\ttrain-rmse:0.063739\n",
      "[15]\ttrain-auc:0.985006\ttrain-rmse:0.062861\n",
      "[16]\ttrain-auc:0.986166\ttrain-rmse:0.061766\n",
      "[17]\ttrain-auc:0.989081\ttrain-rmse:0.060363\n",
      "[18]\ttrain-auc:0.990561\ttrain-rmse:0.05921\n",
      "[19]\ttrain-auc:0.99239\ttrain-rmse:0.058573\n",
      "[20]\ttrain-auc:0.993374\ttrain-rmse:0.057653\n",
      "[21]\ttrain-auc:0.994096\ttrain-rmse:0.056895\n",
      "[22]\ttrain-auc:0.994765\ttrain-rmse:0.056073\n",
      "[23]\ttrain-auc:0.995515\ttrain-rmse:0.054612\n",
      "[24]\ttrain-auc:0.995636\ttrain-rmse:0.053998\n",
      "[25]\ttrain-auc:0.996618\ttrain-rmse:0.052673\n",
      "[26]\ttrain-auc:0.996977\ttrain-rmse:0.051676\n",
      "[27]\ttrain-auc:0.997478\ttrain-rmse:0.050648\n",
      "[28]\ttrain-auc:0.998345\ttrain-rmse:0.049156\n",
      "[29]\ttrain-auc:0.998604\ttrain-rmse:0.048148\n",
      "[30]\ttrain-auc:0.998847\ttrain-rmse:0.04749\n",
      "[31]\ttrain-auc:0.998987\ttrain-rmse:0.046763\n",
      "[32]\ttrain-auc:0.999193\ttrain-rmse:0.04584\n",
      "[33]\ttrain-auc:0.999283\ttrain-rmse:0.044704\n",
      "[34]\ttrain-auc:0.999648\ttrain-rmse:0.042295\n",
      "[35]\ttrain-auc:0.999765\ttrain-rmse:0.040736\n",
      "[36]\ttrain-auc:0.999844\ttrain-rmse:0.039507\n",
      "[37]\ttrain-auc:0.999878\ttrain-rmse:0.038915\n",
      "[38]\ttrain-auc:0.999903\ttrain-rmse:0.038098\n",
      "[39]\ttrain-auc:0.999939\ttrain-rmse:0.03712\n",
      "[40]\ttrain-auc:0.999971\ttrain-rmse:0.034669\n",
      "[41]\ttrain-auc:0.999977\ttrain-rmse:0.033856\n",
      "[42]\ttrain-auc:0.99998\ttrain-rmse:0.032853\n",
      "[43]\ttrain-auc:0.999985\ttrain-rmse:0.032318\n",
      "[44]\ttrain-auc:0.99999\ttrain-rmse:0.031957\n",
      "[45]\ttrain-auc:0.999997\ttrain-rmse:0.029849\n",
      "[46]\ttrain-auc:1\ttrain-rmse:0.028091\n",
      "[47]\ttrain-auc:1\ttrain-rmse:0.027179\n",
      "[48]\ttrain-auc:1\ttrain-rmse:0.026527\n",
      "[49]\ttrain-auc:1\ttrain-rmse:0.026055\n",
      "[50]\ttrain-auc:1\ttrain-rmse:0.024858\n",
      "[51]\ttrain-auc:1\ttrain-rmse:0.023926\n",
      "[52]\ttrain-auc:1\ttrain-rmse:0.023033\n",
      "[53]\ttrain-auc:1\ttrain-rmse:0.022484\n",
      "[54]\ttrain-auc:1\ttrain-rmse:0.022158\n",
      "[55]\ttrain-auc:1\ttrain-rmse:0.021397\n",
      "[56]\ttrain-auc:1\ttrain-rmse:0.020241\n",
      "[57]\ttrain-auc:1\ttrain-rmse:0.01963\n",
      "[58]\ttrain-auc:1\ttrain-rmse:0.019034\n",
      "[59]\ttrain-auc:1\ttrain-rmse:0.01862\n",
      "[60]\ttrain-auc:1\ttrain-rmse:0.018222\n",
      "[61]\ttrain-auc:1\ttrain-rmse:0.017636\n",
      "Working: 9\n",
      "[0]\ttrain-auc:0.944589+0.00648709\ttest-auc:0.93218+0.0130624\n",
      "[30]\ttrain-auc:0.998882+0.000248129\ttest-auc:0.98872+0.00122078\n",
      "[60]\ttrain-auc:0.999923+3.73482e-05\ttest-auc:0.989594+0.00105785\n",
      "[90]\ttrain-auc:0.999999+1.24722e-06\ttest-auc:0.989936+0.00112497\n",
      "[120]\ttrain-auc:1+0\ttest-auc:0.990155+0.00107802\n",
      "[0]\ttrain-auc:0.944212\ttrain-rmse:0.367548\n",
      "[1]\ttrain-auc:0.967416\ttrain-rmse:0.282009\n",
      "[2]\ttrain-auc:0.977529\ttrain-rmse:0.223719\n",
      "[3]\ttrain-auc:0.978473\ttrain-rmse:0.184568\n",
      "[4]\ttrain-auc:0.981567\ttrain-rmse:0.159102\n",
      "[5]\ttrain-auc:0.986172\ttrain-rmse:0.141856\n",
      "[6]\ttrain-auc:0.99015\ttrain-rmse:0.131104\n",
      "[7]\ttrain-auc:0.991148\ttrain-rmse:0.123873\n",
      "[8]\ttrain-auc:0.993055\ttrain-rmse:0.118244\n",
      "[9]\ttrain-auc:0.993492\ttrain-rmse:0.114551\n",
      "[10]\ttrain-auc:0.993915\ttrain-rmse:0.111316\n",
      "[11]\ttrain-auc:0.994154\ttrain-rmse:0.109044\n",
      "[12]\ttrain-auc:0.995362\ttrain-rmse:0.107197\n",
      "[13]\ttrain-auc:0.995614\ttrain-rmse:0.106165\n",
      "[14]\ttrain-auc:0.99607\ttrain-rmse:0.105174\n",
      "[15]\ttrain-auc:0.996232\ttrain-rmse:0.104186\n",
      "[16]\ttrain-auc:0.996395\ttrain-rmse:0.102998\n",
      "[17]\ttrain-auc:0.996561\ttrain-rmse:0.101655\n",
      "[18]\ttrain-auc:0.996656\ttrain-rmse:0.100911\n",
      "[19]\ttrain-auc:0.996734\ttrain-rmse:0.100278\n",
      "[20]\ttrain-auc:0.996867\ttrain-rmse:0.099759\n",
      "[21]\ttrain-auc:0.99695\ttrain-rmse:0.099095\n",
      "[22]\ttrain-auc:0.997072\ttrain-rmse:0.098262\n",
      "[23]\ttrain-auc:0.997258\ttrain-rmse:0.096856\n",
      "[24]\ttrain-auc:0.997445\ttrain-rmse:0.095301\n",
      "[25]\ttrain-auc:0.997525\ttrain-rmse:0.094571\n",
      "[26]\ttrain-auc:0.997598\ttrain-rmse:0.093851\n",
      "[27]\ttrain-auc:0.997737\ttrain-rmse:0.092696\n",
      "[28]\ttrain-auc:0.997831\ttrain-rmse:0.091874\n",
      "[29]\ttrain-auc:0.997919\ttrain-rmse:0.091139\n",
      "[30]\ttrain-auc:0.997979\ttrain-rmse:0.090591\n",
      "[31]\ttrain-auc:0.998081\ttrain-rmse:0.089573\n",
      "[32]\ttrain-auc:0.998185\ttrain-rmse:0.088463\n",
      "[33]\ttrain-auc:0.998265\ttrain-rmse:0.087627\n",
      "[34]\ttrain-auc:0.998405\ttrain-rmse:0.086109\n",
      "[35]\ttrain-auc:0.998535\ttrain-rmse:0.084709\n",
      "[36]\ttrain-auc:0.998603\ttrain-rmse:0.083925\n",
      "[37]\ttrain-auc:0.998671\ttrain-rmse:0.083148\n",
      "[38]\ttrain-auc:0.998798\ttrain-rmse:0.081475\n",
      "[39]\ttrain-auc:0.998853\ttrain-rmse:0.080743\n",
      "[40]\ttrain-auc:0.998917\ttrain-rmse:0.079642\n",
      "[41]\ttrain-auc:0.998974\ttrain-rmse:0.078666\n",
      "[42]\ttrain-auc:0.999043\ttrain-rmse:0.077662\n",
      "[43]\ttrain-auc:0.999086\ttrain-rmse:0.076932\n",
      "[44]\ttrain-auc:0.999139\ttrain-rmse:0.07618\n",
      "[45]\ttrain-auc:0.99917\ttrain-rmse:0.075591\n",
      "[46]\ttrain-auc:0.999202\ttrain-rmse:0.075212\n",
      "[47]\ttrain-auc:0.999218\ttrain-rmse:0.074836\n",
      "[48]\ttrain-auc:0.999242\ttrain-rmse:0.074369\n",
      "[49]\ttrain-auc:0.999282\ttrain-rmse:0.07358\n",
      "[50]\ttrain-auc:0.999301\ttrain-rmse:0.073172\n",
      "[51]\ttrain-auc:0.999361\ttrain-rmse:0.072145\n",
      "[52]\ttrain-auc:0.999416\ttrain-rmse:0.070882\n",
      "[53]\ttrain-auc:0.999432\ttrain-rmse:0.070463\n",
      "[54]\ttrain-auc:0.999491\ttrain-rmse:0.06926\n",
      "[55]\ttrain-auc:0.999529\ttrain-rmse:0.068288\n",
      "[56]\ttrain-auc:0.999595\ttrain-rmse:0.066497\n",
      "[57]\ttrain-auc:0.99961\ttrain-rmse:0.066065\n",
      "[58]\ttrain-auc:0.999628\ttrain-rmse:0.065473\n",
      "[59]\ttrain-auc:0.999661\ttrain-rmse:0.064939\n",
      "[60]\ttrain-auc:0.999675\ttrain-rmse:0.064625\n",
      "[61]\ttrain-auc:0.999692\ttrain-rmse:0.064096\n",
      "[62]\ttrain-auc:0.999694\ttrain-rmse:0.063955\n",
      "[63]\ttrain-auc:0.999711\ttrain-rmse:0.063277\n",
      "[64]\ttrain-auc:0.999717\ttrain-rmse:0.063063\n",
      "[65]\ttrain-auc:0.999724\ttrain-rmse:0.062782\n",
      "[66]\ttrain-auc:0.999731\ttrain-rmse:0.062502\n",
      "[67]\ttrain-auc:0.999743\ttrain-rmse:0.062164\n",
      "[68]\ttrain-auc:0.999762\ttrain-rmse:0.06136\n",
      "[69]\ttrain-auc:0.999783\ttrain-rmse:0.060604\n",
      "[70]\ttrain-auc:0.99979\ttrain-rmse:0.060275\n",
      "[71]\ttrain-auc:0.999813\ttrain-rmse:0.059531\n",
      "[72]\ttrain-auc:0.999825\ttrain-rmse:0.058899\n",
      "[73]\ttrain-auc:0.999835\ttrain-rmse:0.058462\n",
      "[74]\ttrain-auc:0.999852\ttrain-rmse:0.057623\n",
      "[75]\ttrain-auc:0.999855\ttrain-rmse:0.057361\n",
      "[76]\ttrain-auc:0.999872\ttrain-rmse:0.056453\n",
      "[77]\ttrain-auc:0.999876\ttrain-rmse:0.055957\n",
      "[78]\ttrain-auc:0.999891\ttrain-rmse:0.055178\n",
      "[79]\ttrain-auc:0.999898\ttrain-rmse:0.054807\n",
      "[80]\ttrain-auc:0.999902\ttrain-rmse:0.054438\n",
      "[81]\ttrain-auc:0.999905\ttrain-rmse:0.054237\n",
      "[82]\ttrain-auc:0.99992\ttrain-rmse:0.052892\n",
      "[83]\ttrain-auc:0.999933\ttrain-rmse:0.051926\n",
      "[84]\ttrain-auc:0.999938\ttrain-rmse:0.051023\n",
      "[85]\ttrain-auc:0.999943\ttrain-rmse:0.050658\n",
      "[86]\ttrain-auc:0.999946\ttrain-rmse:0.050467\n",
      "[87]\ttrain-auc:0.999951\ttrain-rmse:0.049903\n",
      "[88]\ttrain-auc:0.999957\ttrain-rmse:0.049145\n",
      "[89]\ttrain-auc:0.999962\ttrain-rmse:0.048621\n",
      "[90]\ttrain-auc:0.999965\ttrain-rmse:0.048162\n",
      "[91]\ttrain-auc:0.999967\ttrain-rmse:0.047748\n",
      "[92]\ttrain-auc:0.99997\ttrain-rmse:0.047151\n",
      "[93]\ttrain-auc:0.999971\ttrain-rmse:0.046923\n",
      "[94]\ttrain-auc:0.999972\ttrain-rmse:0.0466\n",
      "[95]\ttrain-auc:0.999974\ttrain-rmse:0.046332\n",
      "[96]\ttrain-auc:0.999975\ttrain-rmse:0.046164\n",
      "[97]\ttrain-auc:0.999976\ttrain-rmse:0.045954\n",
      "[98]\ttrain-auc:0.999979\ttrain-rmse:0.045237\n",
      "[99]\ttrain-auc:0.999982\ttrain-rmse:0.044637\n",
      "[100]\ttrain-auc:0.999982\ttrain-rmse:0.044409\n",
      "[101]\ttrain-auc:0.999983\ttrain-rmse:0.044075\n",
      "[102]\ttrain-auc:0.999985\ttrain-rmse:0.04349\n",
      "[103]\ttrain-auc:0.999985\ttrain-rmse:0.043323\n",
      "[104]\ttrain-auc:0.999987\ttrain-rmse:0.042758\n",
      "[105]\ttrain-auc:0.999988\ttrain-rmse:0.042337\n",
      "[106]\ttrain-auc:0.999989\ttrain-rmse:0.041987\n",
      "[107]\ttrain-auc:0.99999\ttrain-rmse:0.041385\n",
      "[108]\ttrain-auc:0.999991\ttrain-rmse:0.041113\n",
      "[109]\ttrain-auc:0.999991\ttrain-rmse:0.040819\n",
      "[110]\ttrain-auc:0.999992\ttrain-rmse:0.040699\n",
      "[111]\ttrain-auc:0.999993\ttrain-rmse:0.040476\n",
      "[112]\ttrain-auc:0.999994\ttrain-rmse:0.04017\n",
      "[113]\ttrain-auc:0.999994\ttrain-rmse:0.039952\n",
      "[114]\ttrain-auc:0.999994\ttrain-rmse:0.039864\n",
      "[115]\ttrain-auc:0.999995\ttrain-rmse:0.039687\n",
      "[116]\ttrain-auc:0.999996\ttrain-rmse:0.03945\n",
      "[117]\ttrain-auc:0.999996\ttrain-rmse:0.039079\n",
      "[118]\ttrain-auc:0.999997\ttrain-rmse:0.038522\n",
      "[119]\ttrain-auc:0.999997\ttrain-rmse:0.03826\n",
      "Working: 10\n",
      "[0]\ttrain-auc:0.953421+0.00237825\ttest-auc:0.940347+0.00138392\n",
      "[30]\ttrain-auc:0.996278+0.000132902\ttest-auc:0.976143+0.00173823\n",
      "[60]\ttrain-auc:0.99943+2.82489e-05\ttest-auc:0.977505+0.00152721\n",
      "[90]\ttrain-auc:0.999959+4.32049e-06\ttest-auc:0.977913+0.00138695\n",
      "[120]\ttrain-auc:0.999999+4.71405e-07\ttest-auc:0.97844+0.0013793\n",
      "[150]\ttrain-auc:1+0\ttest-auc:0.9787+0.0014497\n",
      "[180]\ttrain-auc:1+0\ttest-auc:0.979131+0.00151807\n",
      "[210]\ttrain-auc:1+0\ttest-auc:0.979489+0.00132863\n",
      "[240]\ttrain-auc:1+0\ttest-auc:0.979642+0.00136852\n",
      "[270]\ttrain-auc:1+0\ttest-auc:0.979815+0.00135727\n",
      "[300]\ttrain-auc:1+0\ttest-auc:0.980057+0.00129316\n",
      "[330]\ttrain-auc:1+0\ttest-auc:0.980191+0.00126271\n",
      "[360]\ttrain-auc:1+0\ttest-auc:0.980271+0.0011605\n",
      "[390]\ttrain-auc:1+0\ttest-auc:0.980352+0.00118345\n",
      "[420]\ttrain-auc:1+0\ttest-auc:0.980434+0.00115945\n",
      "[450]\ttrain-auc:1+0\ttest-auc:0.980498+0.00111395\n",
      "[480]\ttrain-auc:1+0\ttest-auc:0.98052+0.00112157\n",
      "[0]\ttrain-auc:0.954855\ttrain-rmse:0.390502\n",
      "[1]\ttrain-auc:0.965414\ttrain-rmse:0.321153\n",
      "[2]\ttrain-auc:0.969283\ttrain-rmse:0.276533\n",
      "[3]\ttrain-auc:0.972863\ttrain-rmse:0.247989\n",
      "[4]\ttrain-auc:0.976215\ttrain-rmse:0.227787\n",
      "[5]\ttrain-auc:0.978206\ttrain-rmse:0.2141\n",
      "[6]\ttrain-auc:0.979644\ttrain-rmse:0.204192\n",
      "[7]\ttrain-auc:0.981132\ttrain-rmse:0.197937\n",
      "[8]\ttrain-auc:0.982042\ttrain-rmse:0.192221\n",
      "[9]\ttrain-auc:0.982949\ttrain-rmse:0.188233\n",
      "[10]\ttrain-auc:0.98428\ttrain-rmse:0.185121\n",
      "[11]\ttrain-auc:0.985154\ttrain-rmse:0.181911\n",
      "[12]\ttrain-auc:0.986073\ttrain-rmse:0.178788\n",
      "[13]\ttrain-auc:0.986749\ttrain-rmse:0.176033\n",
      "[14]\ttrain-auc:0.987516\ttrain-rmse:0.173116\n",
      "[15]\ttrain-auc:0.988449\ttrain-rmse:0.170341\n",
      "[16]\ttrain-auc:0.989101\ttrain-rmse:0.168248\n",
      "[17]\ttrain-auc:0.989629\ttrain-rmse:0.166014\n",
      "[18]\ttrain-auc:0.990147\ttrain-rmse:0.164091\n",
      "[19]\ttrain-auc:0.990552\ttrain-rmse:0.162352\n",
      "[20]\ttrain-auc:0.991137\ttrain-rmse:0.160247\n",
      "[21]\ttrain-auc:0.991682\ttrain-rmse:0.157982\n",
      "[22]\ttrain-auc:0.992004\ttrain-rmse:0.156729\n",
      "[23]\ttrain-auc:0.99222\ttrain-rmse:0.155478\n",
      "[24]\ttrain-auc:0.99271\ttrain-rmse:0.153129\n",
      "[25]\ttrain-auc:0.993015\ttrain-rmse:0.151979\n",
      "[26]\ttrain-auc:0.993242\ttrain-rmse:0.15076\n",
      "[27]\ttrain-auc:0.993469\ttrain-rmse:0.149401\n",
      "[28]\ttrain-auc:0.993726\ttrain-rmse:0.14821\n",
      "[29]\ttrain-auc:0.99391\ttrain-rmse:0.147415\n",
      "[30]\ttrain-auc:0.994008\ttrain-rmse:0.146756\n",
      "[31]\ttrain-auc:0.994459\ttrain-rmse:0.144568\n",
      "[32]\ttrain-auc:0.994671\ttrain-rmse:0.14347\n",
      "[33]\ttrain-auc:0.994801\ttrain-rmse:0.142684\n",
      "[34]\ttrain-auc:0.995043\ttrain-rmse:0.141244\n",
      "[35]\ttrain-auc:0.99521\ttrain-rmse:0.139741\n",
      "[36]\ttrain-auc:0.995326\ttrain-rmse:0.138773\n",
      "[37]\ttrain-auc:0.995479\ttrain-rmse:0.137957\n",
      "[38]\ttrain-auc:0.99579\ttrain-rmse:0.136024\n",
      "[39]\ttrain-auc:0.996046\ttrain-rmse:0.134315\n",
      "[40]\ttrain-auc:0.996104\ttrain-rmse:0.13392\n",
      "[41]\ttrain-auc:0.996332\ttrain-rmse:0.132044\n",
      "[42]\ttrain-auc:0.996558\ttrain-rmse:0.13086\n",
      "[43]\ttrain-auc:0.996784\ttrain-rmse:0.129384\n",
      "[44]\ttrain-auc:0.996865\ttrain-rmse:0.12865\n",
      "[45]\ttrain-auc:0.996965\ttrain-rmse:0.127826\n",
      "[46]\ttrain-auc:0.997101\ttrain-rmse:0.126554\n",
      "[47]\ttrain-auc:0.997139\ttrain-rmse:0.126274\n",
      "[48]\ttrain-auc:0.997198\ttrain-rmse:0.125627\n",
      "[49]\ttrain-auc:0.997281\ttrain-rmse:0.124977\n",
      "[50]\ttrain-auc:0.99738\ttrain-rmse:0.124124\n",
      "[51]\ttrain-auc:0.997605\ttrain-rmse:0.12237\n",
      "[52]\ttrain-auc:0.997692\ttrain-rmse:0.121339\n",
      "[53]\ttrain-auc:0.997723\ttrain-rmse:0.121115\n",
      "[54]\ttrain-auc:0.997796\ttrain-rmse:0.120333\n",
      "[55]\ttrain-auc:0.997896\ttrain-rmse:0.119077\n",
      "[56]\ttrain-auc:0.997936\ttrain-rmse:0.118574\n",
      "[57]\ttrain-auc:0.997983\ttrain-rmse:0.117973\n",
      "[58]\ttrain-auc:0.998021\ttrain-rmse:0.117451\n",
      "[59]\ttrain-auc:0.998163\ttrain-rmse:0.115734\n",
      "[60]\ttrain-auc:0.998243\ttrain-rmse:0.114769\n",
      "[61]\ttrain-auc:0.9983\ttrain-rmse:0.1142\n",
      "[62]\ttrain-auc:0.998403\ttrain-rmse:0.112924\n",
      "[63]\ttrain-auc:0.998506\ttrain-rmse:0.111456\n",
      "[64]\ttrain-auc:0.998531\ttrain-rmse:0.110943\n",
      "[65]\ttrain-auc:0.998582\ttrain-rmse:0.110413\n",
      "[66]\ttrain-auc:0.998595\ttrain-rmse:0.110154\n",
      "[67]\ttrain-auc:0.998679\ttrain-rmse:0.108873\n",
      "[68]\ttrain-auc:0.998719\ttrain-rmse:0.108293\n",
      "[69]\ttrain-auc:0.998745\ttrain-rmse:0.107835\n",
      "[70]\ttrain-auc:0.998768\ttrain-rmse:0.107494\n",
      "[71]\ttrain-auc:0.998816\ttrain-rmse:0.106729\n",
      "[72]\ttrain-auc:0.998838\ttrain-rmse:0.106262\n",
      "[73]\ttrain-auc:0.998865\ttrain-rmse:0.105865\n",
      "[74]\ttrain-auc:0.998886\ttrain-rmse:0.105426\n",
      "[75]\ttrain-auc:0.998897\ttrain-rmse:0.105147\n",
      "[76]\ttrain-auc:0.99897\ttrain-rmse:0.104015\n",
      "[77]\ttrain-auc:0.999035\ttrain-rmse:0.102666\n",
      "[78]\ttrain-auc:0.999056\ttrain-rmse:0.102093\n",
      "[79]\ttrain-auc:0.99907\ttrain-rmse:0.101891\n",
      "[80]\ttrain-auc:0.999109\ttrain-rmse:0.101059\n",
      "[81]\ttrain-auc:0.999152\ttrain-rmse:0.100098\n",
      "[82]\ttrain-auc:0.999189\ttrain-rmse:0.099115\n",
      "[83]\ttrain-auc:0.999234\ttrain-rmse:0.098597\n",
      "[84]\ttrain-auc:0.999238\ttrain-rmse:0.098464\n",
      "[85]\ttrain-auc:0.999295\ttrain-rmse:0.097027\n",
      "[86]\ttrain-auc:0.99931\ttrain-rmse:0.096689\n",
      "[87]\ttrain-auc:0.999333\ttrain-rmse:0.096128\n",
      "[88]\ttrain-auc:0.999363\ttrain-rmse:0.095538\n",
      "[89]\ttrain-auc:0.99937\ttrain-rmse:0.095258\n",
      "[90]\ttrain-auc:0.999393\ttrain-rmse:0.094782\n",
      "[91]\ttrain-auc:0.999439\ttrain-rmse:0.093561\n",
      "[92]\ttrain-auc:0.999474\ttrain-rmse:0.092558\n",
      "[93]\ttrain-auc:0.9995\ttrain-rmse:0.091635\n",
      "[94]\ttrain-auc:0.999509\ttrain-rmse:0.091283\n",
      "[95]\ttrain-auc:0.999532\ttrain-rmse:0.090636\n",
      "[96]\ttrain-auc:0.999544\ttrain-rmse:0.090294\n",
      "[97]\ttrain-auc:0.999557\ttrain-rmse:0.08977\n",
      "[98]\ttrain-auc:0.999604\ttrain-rmse:0.088205\n",
      "[99]\ttrain-auc:0.99961\ttrain-rmse:0.087693\n",
      "[100]\ttrain-auc:0.999619\ttrain-rmse:0.087392\n",
      "[101]\ttrain-auc:0.999642\ttrain-rmse:0.086574\n",
      "[102]\ttrain-auc:0.999668\ttrain-rmse:0.085315\n",
      "[103]\ttrain-auc:0.999699\ttrain-rmse:0.084568\n",
      "[104]\ttrain-auc:0.999707\ttrain-rmse:0.084152\n",
      "[105]\ttrain-auc:0.999731\ttrain-rmse:0.083104\n",
      "[106]\ttrain-auc:0.999744\ttrain-rmse:0.082174\n",
      "[107]\ttrain-auc:0.999759\ttrain-rmse:0.081455\n",
      "[108]\ttrain-auc:0.999761\ttrain-rmse:0.081242\n",
      "[109]\ttrain-auc:0.99979\ttrain-rmse:0.079808\n",
      "[110]\ttrain-auc:0.999795\ttrain-rmse:0.079517\n",
      "[111]\ttrain-auc:0.999808\ttrain-rmse:0.07879\n",
      "[112]\ttrain-auc:0.999819\ttrain-rmse:0.078023\n",
      "[113]\ttrain-auc:0.999836\ttrain-rmse:0.077151\n",
      "[114]\ttrain-auc:0.999848\ttrain-rmse:0.076525\n",
      "[115]\ttrain-auc:0.999857\ttrain-rmse:0.075784\n",
      "[116]\ttrain-auc:0.999871\ttrain-rmse:0.074653\n",
      "[117]\ttrain-auc:0.999874\ttrain-rmse:0.07434\n",
      "[118]\ttrain-auc:0.999892\ttrain-rmse:0.073201\n",
      "[119]\ttrain-auc:0.999904\ttrain-rmse:0.072187\n",
      "[120]\ttrain-auc:0.999913\ttrain-rmse:0.071209\n",
      "[121]\ttrain-auc:0.999924\ttrain-rmse:0.069971\n",
      "[122]\ttrain-auc:0.999926\ttrain-rmse:0.069756\n",
      "[123]\ttrain-auc:0.999935\ttrain-rmse:0.068932\n",
      "[124]\ttrain-auc:0.99994\ttrain-rmse:0.0682\n",
      "[125]\ttrain-auc:0.999944\ttrain-rmse:0.067471\n",
      "[126]\ttrain-auc:0.999951\ttrain-rmse:0.066449\n",
      "[127]\ttrain-auc:0.999955\ttrain-rmse:0.065493\n",
      "[128]\ttrain-auc:0.999956\ttrain-rmse:0.065165\n",
      "[129]\ttrain-auc:0.999962\ttrain-rmse:0.06407\n",
      "[130]\ttrain-auc:0.999966\ttrain-rmse:0.063125\n",
      "[131]\ttrain-auc:0.999967\ttrain-rmse:0.06298\n",
      "[132]\ttrain-auc:0.999967\ttrain-rmse:0.062682\n",
      "[133]\ttrain-auc:0.999967\ttrain-rmse:0.062529\n",
      "[134]\ttrain-auc:0.999971\ttrain-rmse:0.061457\n",
      "[135]\ttrain-auc:0.999973\ttrain-rmse:0.060742\n",
      "[136]\ttrain-auc:0.999978\ttrain-rmse:0.05959\n",
      "[137]\ttrain-auc:0.999981\ttrain-rmse:0.058711\n",
      "[138]\ttrain-auc:0.999982\ttrain-rmse:0.058444\n",
      "[139]\ttrain-auc:0.999985\ttrain-rmse:0.057491\n",
      "[140]\ttrain-auc:0.999985\ttrain-rmse:0.057157\n",
      "[141]\ttrain-auc:0.999988\ttrain-rmse:0.056282\n",
      "[142]\ttrain-auc:0.999988\ttrain-rmse:0.055948\n",
      "[143]\ttrain-auc:0.999988\ttrain-rmse:0.055796\n",
      "[144]\ttrain-auc:0.99999\ttrain-rmse:0.055141\n",
      "[145]\ttrain-auc:0.999992\ttrain-rmse:0.054653\n",
      "[146]\ttrain-auc:0.999993\ttrain-rmse:0.054163\n",
      "[147]\ttrain-auc:0.999994\ttrain-rmse:0.053186\n",
      "[148]\ttrain-auc:0.999995\ttrain-rmse:0.052458\n",
      "[149]\ttrain-auc:0.999995\ttrain-rmse:0.052114\n",
      "[150]\ttrain-auc:0.999995\ttrain-rmse:0.051929\n",
      "[151]\ttrain-auc:0.999995\ttrain-rmse:0.051845\n",
      "[152]\ttrain-auc:0.999995\ttrain-rmse:0.051502\n",
      "[153]\ttrain-auc:0.999996\ttrain-rmse:0.050636\n",
      "[154]\ttrain-auc:0.999996\ttrain-rmse:0.050113\n",
      "[155]\ttrain-auc:0.999997\ttrain-rmse:0.049339\n",
      "[156]\ttrain-auc:0.999997\ttrain-rmse:0.048981\n",
      "[157]\ttrain-auc:0.999997\ttrain-rmse:0.048806\n",
      "[158]\ttrain-auc:0.999998\ttrain-rmse:0.047862\n",
      "[159]\ttrain-auc:0.999998\ttrain-rmse:0.047388\n",
      "[160]\ttrain-auc:0.999999\ttrain-rmse:0.046777\n",
      "[161]\ttrain-auc:0.999999\ttrain-rmse:0.046234\n",
      "[162]\ttrain-auc:0.999999\ttrain-rmse:0.045291\n",
      "[163]\ttrain-auc:1\ttrain-rmse:0.04466\n",
      "[164]\ttrain-auc:1\ttrain-rmse:0.043997\n",
      "[165]\ttrain-auc:1\ttrain-rmse:0.043727\n",
      "[166]\ttrain-auc:1\ttrain-rmse:0.043035\n",
      "[167]\ttrain-auc:1\ttrain-rmse:0.0429\n",
      "[168]\ttrain-auc:1\ttrain-rmse:0.042579\n",
      "[169]\ttrain-auc:1\ttrain-rmse:0.042502\n",
      "[170]\ttrain-auc:1\ttrain-rmse:0.042074\n",
      "[171]\ttrain-auc:1\ttrain-rmse:0.041977\n",
      "[172]\ttrain-auc:1\ttrain-rmse:0.04125\n",
      "[173]\ttrain-auc:1\ttrain-rmse:0.040991\n",
      "[174]\ttrain-auc:1\ttrain-rmse:0.040237\n",
      "[175]\ttrain-auc:1\ttrain-rmse:0.039825\n",
      "[176]\ttrain-auc:1\ttrain-rmse:0.039419\n",
      "[177]\ttrain-auc:1\ttrain-rmse:0.039287\n",
      "[178]\ttrain-auc:1\ttrain-rmse:0.038891\n",
      "[179]\ttrain-auc:1\ttrain-rmse:0.038663\n",
      "[180]\ttrain-auc:1\ttrain-rmse:0.038401\n",
      "[181]\ttrain-auc:1\ttrain-rmse:0.037892\n",
      "[182]\ttrain-auc:1\ttrain-rmse:0.037833\n",
      "[183]\ttrain-auc:1\ttrain-rmse:0.037465\n",
      "[184]\ttrain-auc:1\ttrain-rmse:0.037296\n",
      "[185]\ttrain-auc:1\ttrain-rmse:0.037182\n",
      "[186]\ttrain-auc:1\ttrain-rmse:0.036668\n",
      "[187]\ttrain-auc:1\ttrain-rmse:0.036086\n",
      "[188]\ttrain-auc:1\ttrain-rmse:0.035661\n",
      "[189]\ttrain-auc:1\ttrain-rmse:0.035433\n",
      "[190]\ttrain-auc:1\ttrain-rmse:0.035341\n",
      "[191]\ttrain-auc:1\ttrain-rmse:0.035233\n",
      "[192]\ttrain-auc:1\ttrain-rmse:0.035171\n",
      "[193]\ttrain-auc:1\ttrain-rmse:0.034808\n",
      "[194]\ttrain-auc:1\ttrain-rmse:0.03441\n",
      "[195]\ttrain-auc:1\ttrain-rmse:0.034178\n",
      "[196]\ttrain-auc:1\ttrain-rmse:0.033914\n",
      "[197]\ttrain-auc:1\ttrain-rmse:0.033723\n",
      "[198]\ttrain-auc:1\ttrain-rmse:0.033614\n",
      "[199]\ttrain-auc:1\ttrain-rmse:0.033203\n",
      "[200]\ttrain-auc:1\ttrain-rmse:0.033046\n",
      "[201]\ttrain-auc:1\ttrain-rmse:0.032852\n",
      "[202]\ttrain-auc:1\ttrain-rmse:0.032254\n",
      "[203]\ttrain-auc:1\ttrain-rmse:0.032058\n",
      "[204]\ttrain-auc:1\ttrain-rmse:0.031951\n",
      "[205]\ttrain-auc:1\ttrain-rmse:0.031326\n",
      "[206]\ttrain-auc:1\ttrain-rmse:0.030719\n",
      "[207]\ttrain-auc:1\ttrain-rmse:0.030206\n",
      "[208]\ttrain-auc:1\ttrain-rmse:0.030076\n",
      "[209]\ttrain-auc:1\ttrain-rmse:0.029998\n",
      "[210]\ttrain-auc:1\ttrain-rmse:0.029847\n",
      "[211]\ttrain-auc:1\ttrain-rmse:0.029372\n",
      "[212]\ttrain-auc:1\ttrain-rmse:0.029069\n",
      "[213]\ttrain-auc:1\ttrain-rmse:0.028631\n",
      "[214]\ttrain-auc:1\ttrain-rmse:0.028332\n",
      "[215]\ttrain-auc:1\ttrain-rmse:0.027991\n",
      "[216]\ttrain-auc:1\ttrain-rmse:0.027605\n",
      "[217]\ttrain-auc:1\ttrain-rmse:0.027304\n",
      "[218]\ttrain-auc:1\ttrain-rmse:0.027184\n",
      "[219]\ttrain-auc:1\ttrain-rmse:0.027077\n",
      "[220]\ttrain-auc:1\ttrain-rmse:0.026836\n",
      "[221]\ttrain-auc:1\ttrain-rmse:0.026559\n",
      "[222]\ttrain-auc:1\ttrain-rmse:0.026135\n",
      "[223]\ttrain-auc:1\ttrain-rmse:0.025857\n",
      "[224]\ttrain-auc:1\ttrain-rmse:0.025757\n",
      "[225]\ttrain-auc:1\ttrain-rmse:0.025374\n",
      "[226]\ttrain-auc:1\ttrain-rmse:0.025207\n",
      "[227]\ttrain-auc:1\ttrain-rmse:0.024793\n",
      "[228]\ttrain-auc:1\ttrain-rmse:0.024639\n",
      "[229]\ttrain-auc:1\ttrain-rmse:0.024472\n",
      "[230]\ttrain-auc:1\ttrain-rmse:0.024401\n",
      "[231]\ttrain-auc:1\ttrain-rmse:0.024053\n",
      "[232]\ttrain-auc:1\ttrain-rmse:0.023905\n",
      "[233]\ttrain-auc:1\ttrain-rmse:0.023519\n",
      "[234]\ttrain-auc:1\ttrain-rmse:0.023353\n",
      "[235]\ttrain-auc:1\ttrain-rmse:0.02314\n",
      "[236]\ttrain-auc:1\ttrain-rmse:0.023031\n",
      "[237]\ttrain-auc:1\ttrain-rmse:0.022836\n",
      "[238]\ttrain-auc:1\ttrain-rmse:0.02255\n",
      "[239]\ttrain-auc:1\ttrain-rmse:0.022483\n",
      "[240]\ttrain-auc:1\ttrain-rmse:0.022394\n",
      "[241]\ttrain-auc:1\ttrain-rmse:0.022379\n",
      "[242]\ttrain-auc:1\ttrain-rmse:0.022255\n",
      "[243]\ttrain-auc:1\ttrain-rmse:0.021998\n",
      "[244]\ttrain-auc:1\ttrain-rmse:0.021785\n",
      "[245]\ttrain-auc:1\ttrain-rmse:0.021693\n",
      "[246]\ttrain-auc:1\ttrain-rmse:0.021569\n",
      "[247]\ttrain-auc:1\ttrain-rmse:0.021384\n",
      "[248]\ttrain-auc:1\ttrain-rmse:0.021234\n",
      "[249]\ttrain-auc:1\ttrain-rmse:0.021015\n",
      "[250]\ttrain-auc:1\ttrain-rmse:0.020807\n",
      "[251]\ttrain-auc:1\ttrain-rmse:0.020722\n",
      "[252]\ttrain-auc:1\ttrain-rmse:0.02064\n",
      "[253]\ttrain-auc:1\ttrain-rmse:0.020348\n",
      "[254]\ttrain-auc:1\ttrain-rmse:0.0202\n",
      "[255]\ttrain-auc:1\ttrain-rmse:0.020018\n",
      "[256]\ttrain-auc:1\ttrain-rmse:0.019925\n",
      "[257]\ttrain-auc:1\ttrain-rmse:0.019901\n",
      "[258]\ttrain-auc:1\ttrain-rmse:0.019709\n",
      "[259]\ttrain-auc:1\ttrain-rmse:0.019631\n",
      "[260]\ttrain-auc:1\ttrain-rmse:0.019487\n",
      "[261]\ttrain-auc:1\ttrain-rmse:0.019439\n",
      "[262]\ttrain-auc:1\ttrain-rmse:0.019291\n",
      "[263]\ttrain-auc:1\ttrain-rmse:0.019123\n",
      "[264]\ttrain-auc:1\ttrain-rmse:0.018808\n",
      "[265]\ttrain-auc:1\ttrain-rmse:0.018679\n",
      "[266]\ttrain-auc:1\ttrain-rmse:0.018458\n",
      "[267]\ttrain-auc:1\ttrain-rmse:0.018293\n",
      "[268]\ttrain-auc:1\ttrain-rmse:0.018013\n",
      "[269]\ttrain-auc:1\ttrain-rmse:0.017829\n",
      "[270]\ttrain-auc:1\ttrain-rmse:0.017769\n",
      "[271]\ttrain-auc:1\ttrain-rmse:0.017718\n",
      "[272]\ttrain-auc:1\ttrain-rmse:0.01761\n",
      "[273]\ttrain-auc:1\ttrain-rmse:0.017471\n",
      "[274]\ttrain-auc:1\ttrain-rmse:0.017411\n",
      "[275]\ttrain-auc:1\ttrain-rmse:0.017277\n",
      "[276]\ttrain-auc:1\ttrain-rmse:0.017168\n",
      "[277]\ttrain-auc:1\ttrain-rmse:0.017104\n",
      "[278]\ttrain-auc:1\ttrain-rmse:0.016898\n",
      "[279]\ttrain-auc:1\ttrain-rmse:0.016805\n",
      "[280]\ttrain-auc:1\ttrain-rmse:0.016571\n",
      "[281]\ttrain-auc:1\ttrain-rmse:0.016475\n",
      "[282]\ttrain-auc:1\ttrain-rmse:0.016396\n",
      "[283]\ttrain-auc:1\ttrain-rmse:0.016364\n",
      "[284]\ttrain-auc:1\ttrain-rmse:0.016149\n",
      "[285]\ttrain-auc:1\ttrain-rmse:0.01615\n",
      "[286]\ttrain-auc:1\ttrain-rmse:0.016071\n",
      "[287]\ttrain-auc:1\ttrain-rmse:0.015919\n",
      "[288]\ttrain-auc:1\ttrain-rmse:0.015858\n",
      "[289]\ttrain-auc:1\ttrain-rmse:0.015821\n",
      "[290]\ttrain-auc:1\ttrain-rmse:0.015744\n",
      "[291]\ttrain-auc:1\ttrain-rmse:0.015685\n",
      "[292]\ttrain-auc:1\ttrain-rmse:0.015613\n",
      "[293]\ttrain-auc:1\ttrain-rmse:0.01546\n",
      "[294]\ttrain-auc:1\ttrain-rmse:0.015353\n",
      "[295]\ttrain-auc:1\ttrain-rmse:0.015256\n",
      "[296]\ttrain-auc:1\ttrain-rmse:0.01501\n",
      "[297]\ttrain-auc:1\ttrain-rmse:0.014874\n",
      "[298]\ttrain-auc:1\ttrain-rmse:0.014818\n",
      "[299]\ttrain-auc:1\ttrain-rmse:0.014763\n",
      "[300]\ttrain-auc:1\ttrain-rmse:0.014729\n",
      "[301]\ttrain-auc:1\ttrain-rmse:0.014566\n",
      "[302]\ttrain-auc:1\ttrain-rmse:0.014544\n",
      "[303]\ttrain-auc:1\ttrain-rmse:0.01442\n",
      "[304]\ttrain-auc:1\ttrain-rmse:0.014394\n",
      "[305]\ttrain-auc:1\ttrain-rmse:0.014348\n",
      "[306]\ttrain-auc:1\ttrain-rmse:0.014208\n",
      "[307]\ttrain-auc:1\ttrain-rmse:0.01407\n",
      "[308]\ttrain-auc:1\ttrain-rmse:0.013935\n",
      "[309]\ttrain-auc:1\ttrain-rmse:0.013834\n",
      "[310]\ttrain-auc:1\ttrain-rmse:0.01373\n",
      "[311]\ttrain-auc:1\ttrain-rmse:0.013661\n",
      "[312]\ttrain-auc:1\ttrain-rmse:0.013479\n",
      "[313]\ttrain-auc:1\ttrain-rmse:0.013431\n",
      "[314]\ttrain-auc:1\ttrain-rmse:0.013306\n",
      "[315]\ttrain-auc:1\ttrain-rmse:0.01313\n",
      "[316]\ttrain-auc:1\ttrain-rmse:0.013057\n",
      "[317]\ttrain-auc:1\ttrain-rmse:0.01296\n",
      "[318]\ttrain-auc:1\ttrain-rmse:0.012805\n",
      "[319]\ttrain-auc:1\ttrain-rmse:0.012741\n",
      "[320]\ttrain-auc:1\ttrain-rmse:0.012646\n",
      "[321]\ttrain-auc:1\ttrain-rmse:0.012563\n",
      "[322]\ttrain-auc:1\ttrain-rmse:0.012444\n",
      "[323]\ttrain-auc:1\ttrain-rmse:0.012332\n",
      "[324]\ttrain-auc:1\ttrain-rmse:0.012302\n",
      "[325]\ttrain-auc:1\ttrain-rmse:0.012184\n",
      "[326]\ttrain-auc:1\ttrain-rmse:0.012052\n",
      "[327]\ttrain-auc:1\ttrain-rmse:0.011991\n",
      "[328]\ttrain-auc:1\ttrain-rmse:0.011953\n",
      "[329]\ttrain-auc:1\ttrain-rmse:0.011872\n",
      "[330]\ttrain-auc:1\ttrain-rmse:0.011848\n",
      "[331]\ttrain-auc:1\ttrain-rmse:0.011836\n",
      "[332]\ttrain-auc:1\ttrain-rmse:0.011741\n",
      "[333]\ttrain-auc:1\ttrain-rmse:0.011648\n",
      "[334]\ttrain-auc:1\ttrain-rmse:0.011574\n",
      "[335]\ttrain-auc:1\ttrain-rmse:0.011467\n",
      "[336]\ttrain-auc:1\ttrain-rmse:0.011345\n",
      "[337]\ttrain-auc:1\ttrain-rmse:0.011294\n",
      "[338]\ttrain-auc:1\ttrain-rmse:0.011227\n",
      "[339]\ttrain-auc:1\ttrain-rmse:0.011202\n",
      "[340]\ttrain-auc:1\ttrain-rmse:0.011162\n",
      "[341]\ttrain-auc:1\ttrain-rmse:0.011116\n",
      "[342]\ttrain-auc:1\ttrain-rmse:0.011046\n",
      "[343]\ttrain-auc:1\ttrain-rmse:0.011032\n",
      "[344]\ttrain-auc:1\ttrain-rmse:0.010944\n",
      "[345]\ttrain-auc:1\ttrain-rmse:0.010883\n",
      "[346]\ttrain-auc:1\ttrain-rmse:0.010794\n",
      "[347]\ttrain-auc:1\ttrain-rmse:0.010792\n",
      "[348]\ttrain-auc:1\ttrain-rmse:0.010703\n",
      "[349]\ttrain-auc:1\ttrain-rmse:0.010656\n",
      "[350]\ttrain-auc:1\ttrain-rmse:0.010615\n",
      "[351]\ttrain-auc:1\ttrain-rmse:0.010502\n",
      "[352]\ttrain-auc:1\ttrain-rmse:0.010444\n",
      "[353]\ttrain-auc:1\ttrain-rmse:0.010365\n",
      "[354]\ttrain-auc:1\ttrain-rmse:0.010287\n",
      "[355]\ttrain-auc:1\ttrain-rmse:0.010227\n",
      "[356]\ttrain-auc:1\ttrain-rmse:0.010113\n",
      "[357]\ttrain-auc:1\ttrain-rmse:0.010036\n",
      "[358]\ttrain-auc:1\ttrain-rmse:0.010004\n",
      "[359]\ttrain-auc:1\ttrain-rmse:0.009904\n",
      "[360]\ttrain-auc:1\ttrain-rmse:0.009878\n",
      "[361]\ttrain-auc:1\ttrain-rmse:0.009843\n",
      "[362]\ttrain-auc:1\ttrain-rmse:0.009783\n",
      "[363]\ttrain-auc:1\ttrain-rmse:0.009685\n",
      "[364]\ttrain-auc:1\ttrain-rmse:0.00968\n",
      "[365]\ttrain-auc:1\ttrain-rmse:0.009648\n",
      "[366]\ttrain-auc:1\ttrain-rmse:0.009586\n",
      "[367]\ttrain-auc:1\ttrain-rmse:0.009521\n",
      "[368]\ttrain-auc:1\ttrain-rmse:0.009454\n",
      "[369]\ttrain-auc:1\ttrain-rmse:0.009355\n",
      "[370]\ttrain-auc:1\ttrain-rmse:0.00932\n",
      "[371]\ttrain-auc:1\ttrain-rmse:0.009288\n",
      "[372]\ttrain-auc:1\ttrain-rmse:0.009202\n",
      "[373]\ttrain-auc:1\ttrain-rmse:0.00914\n",
      "[374]\ttrain-auc:1\ttrain-rmse:0.009077\n",
      "[375]\ttrain-auc:1\ttrain-rmse:0.008985\n",
      "[376]\ttrain-auc:1\ttrain-rmse:0.008957\n",
      "[377]\ttrain-auc:1\ttrain-rmse:0.008897\n",
      "[378]\ttrain-auc:1\ttrain-rmse:0.008852\n",
      "[379]\ttrain-auc:1\ttrain-rmse:0.00881\n",
      "[380]\ttrain-auc:1\ttrain-rmse:0.008763\n",
      "[381]\ttrain-auc:1\ttrain-rmse:0.008713\n",
      "[382]\ttrain-auc:1\ttrain-rmse:0.008628\n",
      "[383]\ttrain-auc:1\ttrain-rmse:0.008593\n",
      "[384]\ttrain-auc:1\ttrain-rmse:0.008559\n",
      "[385]\ttrain-auc:1\ttrain-rmse:0.008468\n",
      "[386]\ttrain-auc:1\ttrain-rmse:0.008447\n",
      "[387]\ttrain-auc:1\ttrain-rmse:0.008397\n",
      "[388]\ttrain-auc:1\ttrain-rmse:0.00834\n",
      "[389]\ttrain-auc:1\ttrain-rmse:0.008259\n",
      "[390]\ttrain-auc:1\ttrain-rmse:0.008206\n",
      "[391]\ttrain-auc:1\ttrain-rmse:0.008158\n",
      "[392]\ttrain-auc:1\ttrain-rmse:0.008141\n",
      "[393]\ttrain-auc:1\ttrain-rmse:0.008072\n",
      "[394]\ttrain-auc:1\ttrain-rmse:0.008067\n",
      "[395]\ttrain-auc:1\ttrain-rmse:0.008044\n",
      "[396]\ttrain-auc:1\ttrain-rmse:0.007995\n",
      "[397]\ttrain-auc:1\ttrain-rmse:0.007976\n",
      "[398]\ttrain-auc:1\ttrain-rmse:0.007972\n",
      "[399]\ttrain-auc:1\ttrain-rmse:0.007912\n",
      "[400]\ttrain-auc:1\ttrain-rmse:0.007884\n",
      "[401]\ttrain-auc:1\ttrain-rmse:0.007837\n",
      "[402]\ttrain-auc:1\ttrain-rmse:0.007781\n",
      "[403]\ttrain-auc:1\ttrain-rmse:0.007714\n",
      "[404]\ttrain-auc:1\ttrain-rmse:0.007683\n",
      "[405]\ttrain-auc:1\ttrain-rmse:0.00763\n",
      "[406]\ttrain-auc:1\ttrain-rmse:0.007596\n",
      "[407]\ttrain-auc:1\ttrain-rmse:0.007556\n",
      "[408]\ttrain-auc:1\ttrain-rmse:0.007502\n",
      "[409]\ttrain-auc:1\ttrain-rmse:0.00748\n",
      "[410]\ttrain-auc:1\ttrain-rmse:0.007479\n",
      "[411]\ttrain-auc:1\ttrain-rmse:0.00743\n",
      "[412]\ttrain-auc:1\ttrain-rmse:0.007408\n",
      "[413]\ttrain-auc:1\ttrain-rmse:0.007345\n",
      "[414]\ttrain-auc:1\ttrain-rmse:0.00729\n",
      "[415]\ttrain-auc:1\ttrain-rmse:0.007231\n",
      "[416]\ttrain-auc:1\ttrain-rmse:0.007212\n",
      "[417]\ttrain-auc:1\ttrain-rmse:0.007173\n",
      "[418]\ttrain-auc:1\ttrain-rmse:0.00713\n",
      "[419]\ttrain-auc:1\ttrain-rmse:0.007076\n",
      "[420]\ttrain-auc:1\ttrain-rmse:0.007034\n",
      "[421]\ttrain-auc:1\ttrain-rmse:0.006978\n",
      "[422]\ttrain-auc:1\ttrain-rmse:0.006935\n",
      "[423]\ttrain-auc:1\ttrain-rmse:0.00688\n",
      "[424]\ttrain-auc:1\ttrain-rmse:0.006864\n",
      "[425]\ttrain-auc:1\ttrain-rmse:0.006813\n",
      "[426]\ttrain-auc:1\ttrain-rmse:0.006813\n",
      "[427]\ttrain-auc:1\ttrain-rmse:0.006758\n",
      "[428]\ttrain-auc:1\ttrain-rmse:0.00672\n",
      "[429]\ttrain-auc:1\ttrain-rmse:0.006695\n",
      "[430]\ttrain-auc:1\ttrain-rmse:0.006656\n",
      "[431]\ttrain-auc:1\ttrain-rmse:0.006633\n",
      "[432]\ttrain-auc:1\ttrain-rmse:0.006601\n",
      "[433]\ttrain-auc:1\ttrain-rmse:0.006575\n",
      "[434]\ttrain-auc:1\ttrain-rmse:0.006555\n",
      "[435]\ttrain-auc:1\ttrain-rmse:0.006532\n",
      "[436]\ttrain-auc:1\ttrain-rmse:0.006517\n",
      "[437]\ttrain-auc:1\ttrain-rmse:0.006507\n",
      "[438]\ttrain-auc:1\ttrain-rmse:0.006472\n",
      "[439]\ttrain-auc:1\ttrain-rmse:0.006416\n",
      "[440]\ttrain-auc:1\ttrain-rmse:0.006406\n",
      "[441]\ttrain-auc:1\ttrain-rmse:0.006365\n",
      "[442]\ttrain-auc:1\ttrain-rmse:0.006359\n",
      "[443]\ttrain-auc:1\ttrain-rmse:0.006333\n",
      "[444]\ttrain-auc:1\ttrain-rmse:0.006319\n",
      "[445]\ttrain-auc:1\ttrain-rmse:0.00627\n",
      "[446]\ttrain-auc:1\ttrain-rmse:0.006252\n",
      "[447]\ttrain-auc:1\ttrain-rmse:0.006223\n",
      "[448]\ttrain-auc:1\ttrain-rmse:0.00622\n",
      "[449]\ttrain-auc:1\ttrain-rmse:0.00619\n",
      "[450]\ttrain-auc:1\ttrain-rmse:0.006169\n",
      "[451]\ttrain-auc:1\ttrain-rmse:0.006152\n",
      "[452]\ttrain-auc:1\ttrain-rmse:0.006124\n",
      "[453]\ttrain-auc:1\ttrain-rmse:0.006099\n",
      "[454]\ttrain-auc:1\ttrain-rmse:0.006084\n",
      "[455]\ttrain-auc:1\ttrain-rmse:0.006034\n",
      "[456]\ttrain-auc:1\ttrain-rmse:0.006001\n",
      "[457]\ttrain-auc:1\ttrain-rmse:0.005992\n",
      "[458]\ttrain-auc:1\ttrain-rmse:0.005971\n",
      "[459]\ttrain-auc:1\ttrain-rmse:0.005948\n",
      "[460]\ttrain-auc:1\ttrain-rmse:0.005925\n",
      "[461]\ttrain-auc:1\ttrain-rmse:0.005924\n",
      "Working: 11\n",
      "[0]\ttrain-auc:0.5+0\ttest-auc:0.5+0\n",
      "[30]\ttrain-auc:1+0\ttest-auc:0.963349+0.00920022\n",
      "[60]\ttrain-auc:1+0\ttest-auc:0.965608+0.00739699\n",
      "[90]\ttrain-auc:1+0\ttest-auc:0.967196+0.00794495\n",
      "[120]\ttrain-auc:1+0\ttest-auc:0.966874+0.00847102\n",
      "[0]\ttrain-auc:0.5\ttrain-rmse:0.356043\n",
      "[1]\ttrain-auc:0.865035\ttrain-rmse:0.259576\n",
      "[2]\ttrain-auc:0.909257\ttrain-rmse:0.19219\n",
      "[3]\ttrain-auc:0.922833\ttrain-rmse:0.143939\n",
      "[4]\ttrain-auc:0.922485\ttrain-rmse:0.109847\n",
      "[5]\ttrain-auc:0.93241\ttrain-rmse:0.085692\n",
      "[6]\ttrain-auc:0.936376\ttrain-rmse:0.069066\n",
      "[7]\ttrain-auc:0.937214\ttrain-rmse:0.057299\n",
      "[8]\ttrain-auc:0.939198\ttrain-rmse:0.049381\n",
      "[9]\ttrain-auc:0.941257\ttrain-rmse:0.043575\n",
      "[10]\ttrain-auc:0.943734\ttrain-rmse:0.039485\n",
      "[11]\ttrain-auc:0.982749\ttrain-rmse:0.036467\n",
      "[12]\ttrain-auc:0.988592\ttrain-rmse:0.03435\n",
      "[13]\ttrain-auc:0.990431\ttrain-rmse:0.032799\n",
      "[14]\ttrain-auc:0.997866\ttrain-rmse:0.031653\n",
      "[15]\ttrain-auc:0.999025\ttrain-rmse:0.030069\n",
      "[16]\ttrain-auc:0.99944\ttrain-rmse:0.028723\n",
      "[17]\ttrain-auc:0.9997\ttrain-rmse:0.026799\n",
      "[18]\ttrain-auc:0.999808\ttrain-rmse:0.025593\n",
      "[19]\ttrain-auc:0.999869\ttrain-rmse:0.024457\n",
      "[20]\ttrain-auc:0.999898\ttrain-rmse:0.023686\n",
      "[21]\ttrain-auc:0.999958\ttrain-rmse:0.0227\n",
      "[22]\ttrain-auc:0.999971\ttrain-rmse:0.02161\n",
      "[23]\ttrain-auc:0.999984\ttrain-rmse:0.020512\n",
      "[24]\ttrain-auc:0.99999\ttrain-rmse:0.019339\n",
      "[25]\ttrain-auc:0.999995\ttrain-rmse:0.01844\n",
      "[26]\ttrain-auc:0.999996\ttrain-rmse:0.017536\n",
      "[27]\ttrain-auc:0.999997\ttrain-rmse:0.016472\n",
      "[28]\ttrain-auc:0.999999\ttrain-rmse:0.015256\n",
      "[29]\ttrain-auc:1\ttrain-rmse:0.014497\n",
      "[30]\ttrain-auc:1\ttrain-rmse:0.013565\n",
      "[31]\ttrain-auc:1\ttrain-rmse:0.012493\n",
      "[32]\ttrain-auc:1\ttrain-rmse:0.01162\n",
      "[33]\ttrain-auc:1\ttrain-rmse:0.010896\n",
      "[34]\ttrain-auc:1\ttrain-rmse:0.010093\n",
      "[35]\ttrain-auc:1\ttrain-rmse:0.009311\n",
      "[36]\ttrain-auc:1\ttrain-rmse:0.008743\n",
      "[37]\ttrain-auc:1\ttrain-rmse:0.008377\n",
      "[38]\ttrain-auc:1\ttrain-rmse:0.007941\n",
      "[39]\ttrain-auc:1\ttrain-rmse:0.007503\n",
      "[40]\ttrain-auc:1\ttrain-rmse:0.00712\n",
      "[41]\ttrain-auc:1\ttrain-rmse:0.006771\n",
      "[42]\ttrain-auc:1\ttrain-rmse:0.006418\n",
      "[43]\ttrain-auc:1\ttrain-rmse:0.006105\n",
      "[44]\ttrain-auc:1\ttrain-rmse:0.005833\n",
      "[45]\ttrain-auc:1\ttrain-rmse:0.005531\n",
      "[46]\ttrain-auc:1\ttrain-rmse:0.005333\n",
      "[47]\ttrain-auc:1\ttrain-rmse:0.005102\n",
      "[48]\ttrain-auc:1\ttrain-rmse:0.004902\n",
      "[49]\ttrain-auc:1\ttrain-rmse:0.004698\n",
      "[50]\ttrain-auc:1\ttrain-rmse:0.00458\n",
      "[51]\ttrain-auc:1\ttrain-rmse:0.004479\n",
      "[52]\ttrain-auc:1\ttrain-rmse:0.004338\n",
      "[53]\ttrain-auc:1\ttrain-rmse:0.00421\n",
      "[54]\ttrain-auc:1\ttrain-rmse:0.004095\n",
      "[55]\ttrain-auc:1\ttrain-rmse:0.004\n",
      "[56]\ttrain-auc:1\ttrain-rmse:0.003857\n",
      "[57]\ttrain-auc:1\ttrain-rmse:0.003754\n",
      "[58]\ttrain-auc:1\ttrain-rmse:0.003659\n",
      "[59]\ttrain-auc:1\ttrain-rmse:0.003544\n",
      "[60]\ttrain-auc:1\ttrain-rmse:0.003468\n",
      "[61]\ttrain-auc:1\ttrain-rmse:0.00338\n",
      "[62]\ttrain-auc:1\ttrain-rmse:0.003308\n",
      "[63]\ttrain-auc:1\ttrain-rmse:0.003232\n",
      "[64]\ttrain-auc:1\ttrain-rmse:0.003172\n",
      "[65]\ttrain-auc:1\ttrain-rmse:0.003124\n",
      "[66]\ttrain-auc:1\ttrain-rmse:0.003073\n",
      "[67]\ttrain-auc:1\ttrain-rmse:0.003036\n",
      "[68]\ttrain-auc:1\ttrain-rmse:0.00297\n",
      "[69]\ttrain-auc:1\ttrain-rmse:0.002888\n",
      "[70]\ttrain-auc:1\ttrain-rmse:0.002842\n",
      "[71]\ttrain-auc:1\ttrain-rmse:0.002792\n",
      "[72]\ttrain-auc:1\ttrain-rmse:0.00275\n",
      "[73]\ttrain-auc:1\ttrain-rmse:0.002704\n",
      "[74]\ttrain-auc:1\ttrain-rmse:0.002662\n",
      "[75]\ttrain-auc:1\ttrain-rmse:0.002606\n",
      "[76]\ttrain-auc:1\ttrain-rmse:0.002564\n",
      "[77]\ttrain-auc:1\ttrain-rmse:0.00252\n",
      "[78]\ttrain-auc:1\ttrain-rmse:0.002499\n",
      "[79]\ttrain-auc:1\ttrain-rmse:0.002485\n",
      "[80]\ttrain-auc:1\ttrain-rmse:0.002454\n",
      "[81]\ttrain-auc:1\ttrain-rmse:0.002419\n",
      "[82]\ttrain-auc:1\ttrain-rmse:0.002386\n",
      "[83]\ttrain-auc:1\ttrain-rmse:0.00236\n",
      "[84]\ttrain-auc:1\ttrain-rmse:0.002334\n",
      "[85]\ttrain-auc:1\ttrain-rmse:0.002315\n",
      "[86]\ttrain-auc:1\ttrain-rmse:0.002304\n",
      "[87]\ttrain-auc:1\ttrain-rmse:0.002269\n",
      "[88]\ttrain-auc:1\ttrain-rmse:0.002233\n",
      "[89]\ttrain-auc:1\ttrain-rmse:0.002195\n",
      "[90]\ttrain-auc:1\ttrain-rmse:0.002171\n",
      "[91]\ttrain-auc:1\ttrain-rmse:0.002166\n",
      "[92]\ttrain-auc:1\ttrain-rmse:0.002136\n",
      "[93]\ttrain-auc:1\ttrain-rmse:0.00212\n",
      "[94]\ttrain-auc:1\ttrain-rmse:0.002093\n",
      "[95]\ttrain-auc:1\ttrain-rmse:0.002075\n",
      "[96]\ttrain-auc:1\ttrain-rmse:0.002062\n",
      "[97]\ttrain-auc:1\ttrain-rmse:0.002042\n",
      "[98]\ttrain-auc:1\ttrain-rmse:0.00203\n",
      "[99]\ttrain-auc:1\ttrain-rmse:0.002008\n",
      "[100]\ttrain-auc:1\ttrain-rmse:0.001978\n",
      "[101]\ttrain-auc:1\ttrain-rmse:0.001946\n",
      "[102]\ttrain-auc:1\ttrain-rmse:0.001925\n",
      "[103]\ttrain-auc:1\ttrain-rmse:0.001914\n",
      "[104]\ttrain-auc:1\ttrain-rmse:0.001898\n",
      "[105]\ttrain-auc:1\ttrain-rmse:0.001892\n",
      "[106]\ttrain-auc:1\ttrain-rmse:0.001878\n",
      "[107]\ttrain-auc:1\ttrain-rmse:0.001866\n",
      "[108]\ttrain-auc:1\ttrain-rmse:0.001846\n",
      "Working: 12\n",
      "[0]\ttrain-auc:0.797665+0.00737253\ttest-auc:0.760497+0.0072275\n",
      "[30]\ttrain-auc:0.996275+0.00043583\ttest-auc:0.869356+0.00401313\n",
      "[60]\ttrain-auc:0.999958+4.6428e-06\ttest-auc:0.871117+0.00374785\n",
      "[0]\ttrain-auc:0.803498\ttrain-rmse:0.366676\n",
      "[1]\ttrain-auc:0.839601\ttrain-rmse:0.280317\n",
      "[2]\ttrain-auc:0.85381\ttrain-rmse:0.222786\n",
      "[3]\ttrain-auc:0.862044\ttrain-rmse:0.185174\n",
      "[4]\ttrain-auc:0.881135\ttrain-rmse:0.16128\n",
      "[5]\ttrain-auc:0.885697\ttrain-rmse:0.145995\n",
      "[6]\ttrain-auc:0.907435\ttrain-rmse:0.136111\n",
      "[7]\ttrain-auc:0.918355\ttrain-rmse:0.130612\n",
      "[8]\ttrain-auc:0.924895\ttrain-rmse:0.126841\n",
      "[9]\ttrain-auc:0.934418\ttrain-rmse:0.124228\n",
      "[10]\ttrain-auc:0.940169\ttrain-rmse:0.122363\n",
      "[11]\ttrain-auc:0.94615\ttrain-rmse:0.121013\n",
      "[12]\ttrain-auc:0.952629\ttrain-rmse:0.119406\n",
      "[13]\ttrain-auc:0.956635\ttrain-rmse:0.11763\n",
      "[14]\ttrain-auc:0.959468\ttrain-rmse:0.116775\n",
      "[15]\ttrain-auc:0.961496\ttrain-rmse:0.115973\n",
      "[16]\ttrain-auc:0.964891\ttrain-rmse:0.115311\n",
      "[17]\ttrain-auc:0.968881\ttrain-rmse:0.113628\n",
      "[18]\ttrain-auc:0.970517\ttrain-rmse:0.112667\n",
      "[19]\ttrain-auc:0.974866\ttrain-rmse:0.111252\n",
      "[20]\ttrain-auc:0.975784\ttrain-rmse:0.110645\n",
      "[21]\ttrain-auc:0.978498\ttrain-rmse:0.109498\n",
      "[22]\ttrain-auc:0.979221\ttrain-rmse:0.108839\n",
      "[23]\ttrain-auc:0.980046\ttrain-rmse:0.108093\n",
      "[24]\ttrain-auc:0.982259\ttrain-rmse:0.105876\n",
      "[25]\ttrain-auc:0.983823\ttrain-rmse:0.104305\n",
      "[26]\ttrain-auc:0.985141\ttrain-rmse:0.102864\n",
      "[27]\ttrain-auc:0.985768\ttrain-rmse:0.101892\n",
      "[28]\ttrain-auc:0.986853\ttrain-rmse:0.101076\n",
      "[29]\ttrain-auc:0.987071\ttrain-rmse:0.100752\n",
      "[30]\ttrain-auc:0.987905\ttrain-rmse:0.09973\n",
      "[31]\ttrain-auc:0.988674\ttrain-rmse:0.098641\n",
      "[32]\ttrain-auc:0.989563\ttrain-rmse:0.09728\n",
      "[33]\ttrain-auc:0.991277\ttrain-rmse:0.095773\n",
      "[34]\ttrain-auc:0.992244\ttrain-rmse:0.094123\n",
      "[35]\ttrain-auc:0.992581\ttrain-rmse:0.093742\n",
      "[36]\ttrain-auc:0.992943\ttrain-rmse:0.092555\n",
      "[37]\ttrain-auc:0.993491\ttrain-rmse:0.091696\n",
      "[38]\ttrain-auc:0.993707\ttrain-rmse:0.091065\n",
      "[39]\ttrain-auc:0.993965\ttrain-rmse:0.090264\n",
      "[40]\ttrain-auc:0.994558\ttrain-rmse:0.089479\n",
      "[41]\ttrain-auc:0.994694\ttrain-rmse:0.089129\n",
      "[42]\ttrain-auc:0.995252\ttrain-rmse:0.087451\n",
      "[43]\ttrain-auc:0.996138\ttrain-rmse:0.086061\n",
      "[44]\ttrain-auc:0.996592\ttrain-rmse:0.084266\n",
      "Working: 13\n",
      "[0]\ttrain-auc:0.889659+0.0046311\ttest-auc:0.849495+0.0322475\n",
      "[30]\ttrain-auc:0.999993+4.18994e-06\ttest-auc:0.988082+0.00218051\n",
      "[60]\ttrain-auc:1+0\ttest-auc:0.990738+0.00169284\n",
      "[0]\ttrain-auc:0.874377\ttrain-rmse:0.357287\n",
      "[1]\ttrain-auc:0.945307\ttrain-rmse:0.261823\n",
      "[2]\ttrain-auc:0.968686\ttrain-rmse:0.194693\n",
      "[3]\ttrain-auc:0.972298\ttrain-rmse:0.146909\n",
      "[4]\ttrain-auc:0.975136\ttrain-rmse:0.113331\n",
      "[5]\ttrain-auc:0.977603\ttrain-rmse:0.089499\n",
      "[6]\ttrain-auc:0.990403\ttrain-rmse:0.07292\n",
      "[7]\ttrain-auc:0.992866\ttrain-rmse:0.061511\n",
      "[8]\ttrain-auc:0.993988\ttrain-rmse:0.053268\n",
      "[9]\ttrain-auc:0.994159\ttrain-rmse:0.047828\n",
      "[10]\ttrain-auc:0.994818\ttrain-rmse:0.044195\n",
      "[11]\ttrain-auc:0.995329\ttrain-rmse:0.040676\n",
      "[12]\ttrain-auc:0.995528\ttrain-rmse:0.038667\n",
      "[13]\ttrain-auc:0.995639\ttrain-rmse:0.037061\n",
      "[14]\ttrain-auc:0.995715\ttrain-rmse:0.035397\n",
      "[15]\ttrain-auc:0.997517\ttrain-rmse:0.033602\n",
      "[16]\ttrain-auc:0.997676\ttrain-rmse:0.032161\n",
      "[17]\ttrain-auc:0.997698\ttrain-rmse:0.031179\n",
      "[18]\ttrain-auc:0.999203\ttrain-rmse:0.03001\n",
      "[19]\ttrain-auc:0.999335\ttrain-rmse:0.029311\n",
      "[20]\ttrain-auc:0.999538\ttrain-rmse:0.028494\n",
      "[21]\ttrain-auc:0.999628\ttrain-rmse:0.0281\n",
      "[22]\ttrain-auc:0.999794\ttrain-rmse:0.027009\n",
      "[23]\ttrain-auc:0.999841\ttrain-rmse:0.025918\n",
      "[24]\ttrain-auc:0.99986\ttrain-rmse:0.025057\n",
      "[25]\ttrain-auc:0.999886\ttrain-rmse:0.024256\n",
      "[26]\ttrain-auc:0.999917\ttrain-rmse:0.022884\n",
      "[27]\ttrain-auc:0.999942\ttrain-rmse:0.021688\n",
      "[28]\ttrain-auc:0.999958\ttrain-rmse:0.020929\n",
      "[29]\ttrain-auc:0.99997\ttrain-rmse:0.020114\n",
      "[30]\ttrain-auc:0.999979\ttrain-rmse:0.019412\n",
      "[31]\ttrain-auc:0.999983\ttrain-rmse:0.018879\n",
      "[32]\ttrain-auc:0.999989\ttrain-rmse:0.017584\n",
      "[33]\ttrain-auc:0.999993\ttrain-rmse:0.016792\n",
      "[34]\ttrain-auc:0.999994\ttrain-rmse:0.015802\n",
      "[35]\ttrain-auc:0.999996\ttrain-rmse:0.014956\n",
      "[36]\ttrain-auc:0.999998\ttrain-rmse:0.013955\n",
      "[37]\ttrain-auc:0.999999\ttrain-rmse:0.012956\n",
      "[38]\ttrain-auc:0.999999\ttrain-rmse:0.012235\n",
      "[39]\ttrain-auc:0.999999\ttrain-rmse:0.011612\n",
      "[40]\ttrain-auc:1\ttrain-rmse:0.010852\n",
      "[41]\ttrain-auc:1\ttrain-rmse:0.010296\n",
      "[42]\ttrain-auc:1\ttrain-rmse:0.009783\n",
      "[43]\ttrain-auc:1\ttrain-rmse:0.009308\n",
      "[44]\ttrain-auc:1\ttrain-rmse:0.008779\n",
      "[45]\ttrain-auc:1\ttrain-rmse:0.008227\n",
      "[46]\ttrain-auc:1\ttrain-rmse:0.00783\n",
      "[47]\ttrain-auc:1\ttrain-rmse:0.007479\n",
      "[48]\ttrain-auc:1\ttrain-rmse:0.007009\n",
      "[49]\ttrain-auc:1\ttrain-rmse:0.006793\n",
      "[50]\ttrain-auc:1\ttrain-rmse:0.006462\n",
      "[51]\ttrain-auc:1\ttrain-rmse:0.00623\n",
      "[52]\ttrain-auc:1\ttrain-rmse:0.005972\n",
      "[53]\ttrain-auc:1\ttrain-rmse:0.005714\n",
      "[54]\ttrain-auc:1\ttrain-rmse:0.005477\n",
      "[55]\ttrain-auc:1\ttrain-rmse:0.005242\n",
      "[56]\ttrain-auc:1\ttrain-rmse:0.005092\n",
      "[57]\ttrain-auc:1\ttrain-rmse:0.004938\n",
      "[58]\ttrain-auc:1\ttrain-rmse:0.004746\n",
      "[59]\ttrain-auc:1\ttrain-rmse:0.004599\n",
      "[60]\ttrain-auc:1\ttrain-rmse:0.004467\n",
      "[61]\ttrain-auc:1\ttrain-rmse:0.004325\n",
      "[62]\ttrain-auc:1\ttrain-rmse:0.004211\n",
      "[63]\ttrain-auc:1\ttrain-rmse:0.004065\n",
      "[64]\ttrain-auc:1\ttrain-rmse:0.003986\n",
      "[65]\ttrain-auc:1\ttrain-rmse:0.003897\n",
      "[66]\ttrain-auc:1\ttrain-rmse:0.003763\n",
      "Working: 14\n",
      "[0]\ttrain-auc:0.548145+0.00597132\ttest-auc:0.524064+0.0102227\n",
      "[30]\ttrain-auc:0.998546+0.000286315\ttest-auc:0.879533+0.0128649\n",
      "[0]\ttrain-auc:0.826996\ttrain-rmse:0.359529\n",
      "[1]\ttrain-auc:0.841704\ttrain-rmse:0.26671\n",
      "[2]\ttrain-auc:0.870097\ttrain-rmse:0.202977\n",
      "[3]\ttrain-auc:0.875749\ttrain-rmse:0.159492\n",
      "[4]\ttrain-auc:0.884326\ttrain-rmse:0.130141\n",
      "[5]\ttrain-auc:0.897703\ttrain-rmse:0.111001\n",
      "[6]\ttrain-auc:0.911336\ttrain-rmse:0.098791\n",
      "[7]\ttrain-auc:0.920257\ttrain-rmse:0.091097\n",
      "[8]\ttrain-auc:0.925799\ttrain-rmse:0.086585\n",
      "[9]\ttrain-auc:0.931335\ttrain-rmse:0.083845\n",
      "[10]\ttrain-auc:0.938415\ttrain-rmse:0.08208\n",
      "[11]\ttrain-auc:0.945101\ttrain-rmse:0.080762\n",
      "[12]\ttrain-auc:0.947781\ttrain-rmse:0.079921\n",
      "[13]\ttrain-auc:0.95743\ttrain-rmse:0.078961\n",
      "[14]\ttrain-auc:0.962884\ttrain-rmse:0.078093\n",
      "[15]\ttrain-auc:0.971645\ttrain-rmse:0.077017\n",
      "[16]\ttrain-auc:0.976441\ttrain-rmse:0.076275\n",
      "[17]\ttrain-auc:0.97851\ttrain-rmse:0.075545\n",
      "[18]\ttrain-auc:0.979853\ttrain-rmse:0.075436\n",
      "[19]\ttrain-auc:0.981665\ttrain-rmse:0.074803\n",
      "[20]\ttrain-auc:0.982321\ttrain-rmse:0.074554\n",
      "[21]\ttrain-auc:0.98473\ttrain-rmse:0.073668\n",
      "[22]\ttrain-auc:0.985745\ttrain-rmse:0.073207\n",
      "[23]\ttrain-auc:0.986501\ttrain-rmse:0.072271\n",
      "[24]\ttrain-auc:0.988029\ttrain-rmse:0.071994\n",
      "[25]\ttrain-auc:0.988715\ttrain-rmse:0.071638\n",
      "[26]\ttrain-auc:0.990294\ttrain-rmse:0.070605\n",
      "[27]\ttrain-auc:0.991835\ttrain-rmse:0.069343\n",
      "[28]\ttrain-auc:0.992296\ttrain-rmse:0.068871\n",
      "[29]\ttrain-auc:0.993081\ttrain-rmse:0.068179\n",
      "[30]\ttrain-auc:0.994157\ttrain-rmse:0.067334\n",
      "[31]\ttrain-auc:0.994532\ttrain-rmse:0.066815\n",
      "[32]\ttrain-auc:0.99526\ttrain-rmse:0.065818\n",
      "[33]\ttrain-auc:0.996198\ttrain-rmse:0.063789\n",
      "[34]\ttrain-auc:0.996862\ttrain-rmse:0.063039\n",
      "[35]\ttrain-auc:0.997399\ttrain-rmse:0.061467\n",
      "[36]\ttrain-auc:0.998045\ttrain-rmse:0.059516\n",
      "[37]\ttrain-auc:0.998346\ttrain-rmse:0.058547\n",
      "[38]\ttrain-auc:0.998545\ttrain-rmse:0.057586\n",
      "[39]\ttrain-auc:0.998782\ttrain-rmse:0.05689\n",
      "[40]\ttrain-auc:0.99912\ttrain-rmse:0.055633\n",
      "Working: 15\n",
      "[0]\ttrain-auc:0.501425+0.00100751\ttest-auc:0.499875+0.000127018\n",
      "[30]\ttrain-auc:0.998813+0.00014779\ttest-auc:0.890699+0.00619782\n",
      "[0]\ttrain-auc:0.772611\ttrain-rmse:0.359921\n",
      "[1]\ttrain-auc:0.841604\ttrain-rmse:0.267274\n",
      "[2]\ttrain-auc:0.881877\ttrain-rmse:0.203938\n",
      "[3]\ttrain-auc:0.89695\ttrain-rmse:0.160565\n",
      "[4]\ttrain-auc:0.90585\ttrain-rmse:0.131631\n",
      "[5]\ttrain-auc:0.910631\ttrain-rmse:0.112889\n",
      "[6]\ttrain-auc:0.920402\ttrain-rmse:0.101225\n",
      "[7]\ttrain-auc:0.92507\ttrain-rmse:0.094011\n",
      "[8]\ttrain-auc:0.932344\ttrain-rmse:0.089815\n",
      "[9]\ttrain-auc:0.942065\ttrain-rmse:0.087169\n",
      "[10]\ttrain-auc:0.949154\ttrain-rmse:0.085426\n",
      "[11]\ttrain-auc:0.955929\ttrain-rmse:0.084119\n",
      "[12]\ttrain-auc:0.96113\ttrain-rmse:0.082984\n",
      "[13]\ttrain-auc:0.967865\ttrain-rmse:0.082442\n",
      "[14]\ttrain-auc:0.971669\ttrain-rmse:0.082067\n",
      "[15]\ttrain-auc:0.976486\ttrain-rmse:0.081658\n",
      "[16]\ttrain-auc:0.979878\ttrain-rmse:0.080539\n",
      "[17]\ttrain-auc:0.981914\ttrain-rmse:0.080013\n",
      "[18]\ttrain-auc:0.98362\ttrain-rmse:0.079639\n",
      "[19]\ttrain-auc:0.98578\ttrain-rmse:0.07902\n",
      "[20]\ttrain-auc:0.987595\ttrain-rmse:0.077561\n",
      "[21]\ttrain-auc:0.98828\ttrain-rmse:0.07695\n",
      "[22]\ttrain-auc:0.990456\ttrain-rmse:0.074491\n",
      "[23]\ttrain-auc:0.991639\ttrain-rmse:0.073751\n",
      "[24]\ttrain-auc:0.993496\ttrain-rmse:0.071274\n",
      "[25]\ttrain-auc:0.994171\ttrain-rmse:0.069962\n",
      "[26]\ttrain-auc:0.994696\ttrain-rmse:0.069312\n",
      "[27]\ttrain-auc:0.995489\ttrain-rmse:0.068776\n",
      "[28]\ttrain-auc:0.995838\ttrain-rmse:0.068407\n",
      "[29]\ttrain-auc:0.996331\ttrain-rmse:0.067309\n",
      "[30]\ttrain-auc:0.99714\ttrain-rmse:0.065617\n",
      "[31]\ttrain-auc:0.997256\ttrain-rmse:0.065224\n",
      "Working: 16\n",
      "[0]\ttrain-auc:0.5+0\ttest-auc:0.5+0\n",
      "[30]\ttrain-auc:0.999994+6.64998e-06\ttest-auc:0.828521+0.0199638\n",
      "[0]\ttrain-auc:0.5\ttrain-rmse:0.356009\n",
      "[1]\ttrain-auc:0.5\ttrain-rmse:0.259781\n",
      "[2]\ttrain-auc:0.5\ttrain-rmse:0.192554\n",
      "[3]\ttrain-auc:0.504978\ttrain-rmse:0.1451\n",
      "[4]\ttrain-auc:0.714683\ttrain-rmse:0.111503\n",
      "[5]\ttrain-auc:0.721049\ttrain-rmse:0.088225\n",
      "[6]\ttrain-auc:0.736738\ttrain-rmse:0.07204\n",
      "[7]\ttrain-auc:0.737631\ttrain-rmse:0.061181\n",
      "[8]\ttrain-auc:0.844391\ttrain-rmse:0.054233\n",
      "[9]\ttrain-auc:0.886426\ttrain-rmse:0.04966\n",
      "[10]\ttrain-auc:0.944773\ttrain-rmse:0.046413\n",
      "[11]\ttrain-auc:0.95972\ttrain-rmse:0.044917\n",
      "[12]\ttrain-auc:0.978786\ttrain-rmse:0.042697\n",
      "[13]\ttrain-auc:0.980677\ttrain-rmse:0.040988\n",
      "[14]\ttrain-auc:0.987537\ttrain-rmse:0.039769\n",
      "[15]\ttrain-auc:0.991665\ttrain-rmse:0.038723\n",
      "[16]\ttrain-auc:0.994505\ttrain-rmse:0.038135\n",
      "[17]\ttrain-auc:0.994987\ttrain-rmse:0.037164\n",
      "[18]\ttrain-auc:0.996291\ttrain-rmse:0.035949\n",
      "[19]\ttrain-auc:0.997163\ttrain-rmse:0.035701\n",
      "[20]\ttrain-auc:0.997621\ttrain-rmse:0.035002\n",
      "[21]\ttrain-auc:0.997956\ttrain-rmse:0.034625\n",
      "[22]\ttrain-auc:0.99832\ttrain-rmse:0.034264\n",
      "[23]\ttrain-auc:0.999054\ttrain-rmse:0.033076\n",
      "[24]\ttrain-auc:0.999186\ttrain-rmse:0.031751\n",
      "[25]\ttrain-auc:0.999286\ttrain-rmse:0.031302\n",
      "[26]\ttrain-auc:0.999514\ttrain-rmse:0.0299\n",
      "[27]\ttrain-auc:0.999763\ttrain-rmse:0.028163\n",
      "[28]\ttrain-auc:0.999867\ttrain-rmse:0.027035\n",
      "[29]\ttrain-auc:0.99987\ttrain-rmse:0.026671\n",
      "[30]\ttrain-auc:0.999936\ttrain-rmse:0.025335\n",
      "[31]\ttrain-auc:0.999972\ttrain-rmse:0.024119\n",
      "[32]\ttrain-auc:0.999987\ttrain-rmse:0.022991\n",
      "[33]\ttrain-auc:0.999995\ttrain-rmse:0.021136\n",
      "[34]\ttrain-auc:0.999997\ttrain-rmse:0.019665\n",
      "[35]\ttrain-auc:1\ttrain-rmse:0.018362\n",
      "[36]\ttrain-auc:1\ttrain-rmse:0.017885\n"
     ]
    }
   ],
   "source": [
    "# Считаем\n",
    "bstList = getListBST(param,trX,trY)"
   ]
  },
  {
   "cell_type": "code",
   "execution_count": null,
   "metadata": {
    "collapsed": false,
    "deletable": true,
    "editable": true
   },
   "outputs": [],
   "source": []
  },
  {
   "cell_type": "code",
   "execution_count": 130,
   "metadata": {
    "collapsed": true,
    "deletable": true,
    "editable": true
   },
   "outputs": [],
   "source": [
    "# Шаблоны имен файллов для сохранения моделей xgb\n",
    "fModel1 = '../Work/Models/model-'\n",
    "fModel2 = '-jpg-'+str(binsDataJPG)+'--tif-'+str(binsDataTIF)+'.xgb'"
   ]
  },
  {
   "cell_type": "code",
   "execution_count": 131,
   "metadata": {
    "collapsed": true,
    "deletable": true,
    "editable": true
   },
   "outputs": [],
   "source": [
    "# save xgb models into files\n",
    "for i in range(len(bstList)) :\n",
    "    bstList[i].save_model(fModel1+str(100+i)+'-n-nvi-dvi'+fModel2)"
   ]
  },
  {
   "cell_type": "code",
   "execution_count": null,
   "metadata": {
    "collapsed": true,
    "deletable": true,
    "editable": true
   },
   "outputs": [],
   "source": []
  },
  {
   "cell_type": "code",
   "execution_count": 615,
   "metadata": {
    "collapsed": false,
    "deletable": true,
    "editable": true
   },
   "outputs": [
    {
     "data": {
      "text/plain": [
       "17"
      ]
     },
     "execution_count": 615,
     "metadata": {},
     "output_type": "execute_result"
    }
   ],
   "source": [
    "# load xgb models into files\n",
    "bstNull = xgb.train(param,dtrain,0)\n",
    "bstList0= []\n",
    "for i in range(trY.shape[1]) :\n",
    "    bstList0.append(bstNull.copy())\n",
    "    bstList0[-1].load_model(fModel1+str(100+i)+fModel2)\n",
    "bstList = bstList0\n",
    "del bstList0\n",
    "len(bstList)"
   ]
  },
  {
   "cell_type": "code",
   "execution_count": null,
   "metadata": {
    "collapsed": false,
    "deletable": true,
    "editable": true
   },
   "outputs": [],
   "source": []
  },
  {
   "cell_type": "code",
   "execution_count": 132,
   "metadata": {
    "collapsed": false,
    "deletable": true,
    "editable": true
   },
   "outputs": [
    {
     "name": "stdout",
     "output_type": "stream",
     "text": [
      "(40479, 17) \n",
      " [  7.65341401e-01   9.98217285e-01   3.12156021e-03   4.12414782e-02\n",
      "   1.54781798e-02   1.84294430e-03   1.16566140e-02   6.72424724e-03\n",
      "   6.86786661e-05   2.24677555e-04   1.67915903e-04   2.67796418e-06\n",
      "   1.10273354e-03   2.74896820e-06   2.10127514e-03   4.18944430e-04\n",
      "   5.41874215e-05] \n",
      " [ 1.  1.  0.  0.  0.  0.  0.  0.  0.  0.  0.  0.  0.  0.  0.  0.  0.]\n"
     ]
    }
   ],
   "source": [
    "trYP = buildPredict(dtrain,bstList)\n",
    "trYPP= trYP.copy() # вероятностный массив\n",
    "trYP[trYP<0.5] = 0 # массив 0/1\n",
    "trYP[trYP!=0]  = 1\n",
    "print (trYP.shape, '\\n', trYPP[0], '\\n', trYP[0])"
   ]
  },
  {
   "cell_type": "code",
   "execution_count": null,
   "metadata": {
    "collapsed": true,
    "deletable": true,
    "editable": true
   },
   "outputs": [],
   "source": []
  },
  {
   "cell_type": "code",
   "execution_count": 133,
   "metadata": {
    "collapsed": true,
    "deletable": true,
    "editable": true
   },
   "outputs": [],
   "source": [
    "accListOld = accList"
   ]
  },
  {
   "cell_type": "code",
   "execution_count": null,
   "metadata": {
    "collapsed": true,
    "deletable": true,
    "editable": true
   },
   "outputs": [],
   "source": []
  },
  {
   "cell_type": "code",
   "execution_count": 134,
   "metadata": {
    "collapsed": false,
    "deletable": true,
    "editable": true
   },
   "outputs": [
    {
     "name": "stdout",
     "output_type": "stream",
     "text": [
      "#0 accuracy=0.971120828084 precision=0.849816849817 recall=0.688172043011 ros_auc=0.839745330171 fbeta2=0.715386987357 not=1169\n",
      "#1 accuracy=0.993725141431 precision=0.995504960502 recall=0.997734118839 ros_auc=0.970377511206 fbeta2=0.997287488876 not=254\n",
      "#2 accuracy=0.936757330962 precision=0.919642088962 recall=0.86796589525 ros_auc=0.917401496126 fbeta2=0.877831250103 not=2560\n",
      "#3 accuracy=0.981965957657 precision=0.982175805048 recall=0.99233231332 ros_auc=0.974917816687 fbeta2=0.99028424208 not=730\n",
      "#4 accuracy=0.931124780751 precision=0.90875331565 recall=0.693428687087 ros_auc=0.83891223879 fbeta2=0.727924303805 not=2788\n",
      "#5 accuracy=0.963240198622 precision=0.908577878104 recall=0.659836065574 ros_auc=0.826618106119 fbeta2=0.698057578911 not=1488\n",
      "#6 accuracy=0.931001259913 precision=0.874964478545 recall=0.762978565234 ros_auc=0.867912388023 fbeta2=0.783022226743 not=2793\n",
      "#7 accuracy=0.93297759332 precision=0.885826771654 recall=0.452311815948 ros_auc=0.722531109352 fbeta2=0.501386550461 not=2713\n",
      "#8 accuracy=0.999975295832 precision=1.0 recall=0.995215311005 ros_auc=0.997607655502 fbeta2=0.996168582375 not=1\n",
      "#9 accuracy=0.999728254156 precision=0.997129186603 recall=0.997606510292 ros_auc=0.998725109796 fbeta2=0.997511008999 not=11\n",
      "#10 accuracy=1.0 precision=1.0 recall=1.0 ros_auc=1.0 fbeta2=1.0 not=0\n",
      "#11 accuracy=1.0 precision=1.0 recall=1.0 ros_auc=1.0 fbeta2=1.0 not=0\n",
      "#12 accuracy=0.989821882952 precision=0.987012987013 recall=0.529002320186 ros_auc=0.764425435025 fbeta2=0.583120204604 not=412\n",
      "#13 accuracy=1.0 precision=1.0 recall=1.0 ros_auc=1.0 fbeta2=1.0 not=0\n",
      "#14 accuracy=0.99528150399 precision=1.0 recall=0.424698795181 ros_auc=0.71234939759 fbeta2=0.479918311777 not=191\n",
      "#15 accuracy=0.993502803923 precision=0.987341772152 recall=0.229411764706 ros_auc=0.61469342564 fbeta2=0.271021542738 not=263\n",
      "#16 accuracy=0.999678845821 precision=1.0 recall=0.867346938776 ros_auc=0.933673469388 fbeta2=0.890985324948 not=13\n"
     ]
    }
   ],
   "source": [
    "# Оценка точности предсказания по train массиву по разным методикам\n",
    "accList = []\n",
    "for i in range(trYP.shape[1]) :\n",
    "    print ('#{} accuracy={} precision={} recall={} ros_auc={} fbeta2={} not={}'.format(i, \n",
    "                                           skm.accuracy_score(trY[:,i],trYP[:,i]), \n",
    "                                           skm.precision_score(trY[:,i],trYP[:,i]), \n",
    "                                           skm.recall_score(trY[:,i],trYP[:,i]), \n",
    "                                           skm.roc_auc_score(trY[:,i],trYP[:,i]), \n",
    "                                           skm.fbeta_score(trY[:,i],trYP[:,i],beta=2),\n",
    "                                           len(trYP[trYP[:,i]<>trY[:,i],i])))\n",
    "    accList.append((i, skm.roc_auc_score(trY[:,i],trYP[:,i]), skm.confusion_matrix(trY[:,i],trYP[:,i])))\n",
    "    #fpr,tpr,thr = skm.roc_curve(trY[:,i],trYP[:,i]); print (len(thr),len(fpr),len(trYP[:,i]))\n",
    "    #plt.plot(fpr,tpr); plt.show()"
   ]
  },
  {
   "cell_type": "code",
   "execution_count": 137,
   "metadata": {
    "collapsed": false,
    "deletable": true,
    "editable": true
   },
   "outputs": [
    {
     "data": {
      "text/plain": [
       "[(0, 1169, 1121, 48),\n",
       " (1, 254, 85, 169),\n",
       " (2, 2560, 2557, 3),\n",
       " (3, 730, 922, -192),\n",
       " (4, 2788, 2786, 2),\n",
       " (5, 1488, 1412, 76),\n",
       " (6, 2793, 2724, 69),\n",
       " (7, 2713, 2699, 14),\n",
       " (8, 1, 1, 0),\n",
       " (9, 11, 5, 6),\n",
       " (10, 0, 0, 0),\n",
       " (11, 0, 0, 0),\n",
       " (12, 412, 414, -2),\n",
       " (13, 0, 0, 0),\n",
       " (14, 191, 193, -2),\n",
       " (15, 263, 262, 1),\n",
       " (16, 13, 13, 0)]"
      ]
     },
     "execution_count": 137,
     "metadata": {},
     "output_type": "execute_result"
    }
   ],
   "source": [
    "# сравнение текущего и предыдущего результата если есть\n",
    "#if accListOld is not None :\n",
    "[(i,cm[0,1]+cm[1,0],(accList[i][2][1,0]+accListOld[i][2][0,1]),\n",
    "  cm[0,1]+cm[1,0]-(accList[i][2][1,0]+accListOld[i][2][0,1])) for i,roc,cm in accList]"
   ]
  },
  {
   "cell_type": "code",
   "execution_count": 138,
   "metadata": {
    "collapsed": false,
    "deletable": true,
    "editable": true
   },
   "outputs": [
    {
     "name": "stdout",
     "output_type": "stream",
     "text": [
      "['haze', 'primary', 'agriculture', 'clear', 'water', 'habitation', 'road', 'cultivation', 'slash_burn', 'cloudy', 'partly_cloudy', 'conventional_mine', 'bare_ground', 'artisinal_mine', 'blooming', 'selective_logging', 'blow_down']\n"
     ]
    },
    {
     "data": {
      "text/plain": [
       "((625, 17), [3, 10, 0, 9], 0.9877027927994666, 0.9778255179396005)"
      ]
     },
     "execution_count": 138,
     "metadata": {},
     "output_type": "execute_result"
    }
   ],
   "source": [
    "wr = [labels.index(i) for i in weather_labels]; wr\n",
    "print(labels)\n",
    "trYPP[trYPP[:,wr].argmax(axis=1)<>trY[:,wr].argmax(axis=1)].shape, wr, (40497.0-498)/40497.0, (40497.0-898)/40497.0"
   ]
  },
  {
   "cell_type": "code",
   "execution_count": null,
   "metadata": {
    "collapsed": false,
    "deletable": true,
    "editable": true
   },
   "outputs": [],
   "source": []
  },
  {
   "cell_type": "code",
   "execution_count": 139,
   "metadata": {
    "collapsed": false,
    "deletable": true,
    "editable": true
   },
   "outputs": [],
   "source": [
    "# Построение значимости полей для разных признаков (importance)\n",
    "bstga   = np.zeros((trX.shape[1],trY.shape[1]))\n",
    "for i in range(len(bstList)) :\n",
    "    bstgfs = bstList[i].get_fscore()\n",
    "    bstgfs = [(int(n.split('f')[1]),bstgfs[n]) for n in bstgfs.keys()]\n",
    "    bstga1 = np.array(bstgfs)\n",
    "    bstga[bstga1[:,0],i] = bstga1[:,1]\n",
    "\n",
    "\n",
    "if False :\n",
    "    #bstgfs.sort(key=lambda x: -x[1])\n",
    "    #bstgfs[:20]\n",
    "    plt.hist([nn for n,nn in bstgfs],bins=11); plt.show()\n",
    "    bst_gfs_main = [(n,nn) for n,nn in bstgfs if nn>=20]\n",
    "    bst_gfs_main.sort(key=lambda x: x[0])\n",
    "    bst_gfs_main\n",
    "    bstga[:,6]"
   ]
  },
  {
   "cell_type": "code",
   "execution_count": 140,
   "metadata": {
    "collapsed": false,
    "deletable": true,
    "editable": true
   },
   "outputs": [
    {
     "data": {
      "image/png": "[encoded data removed]",
      "text/plain": [
       "<matplotlib.figure.Figure at 0x7f56ddb20fd0>"
      ]
     },
     "metadata": {},
     "output_type": "display_data"
    },
    {
     "data": {
      "text/plain": [
       "['haze',\n",
       " 'agriculture',\n",
       " 'clear',\n",
       " 'water',\n",
       " 'habitation',\n",
       " 'road',\n",
       " 'cultivation',\n",
       " 'bare_ground']"
      ]
     },
     "execution_count": 140,
     "metadata": {},
     "output_type": "execute_result"
    }
   ],
   "source": [
    "xx = [0]+range(2,8)+[12] # плохие 600-4000\n",
    "plt.plot(bstga[:,xx]); \n",
    "#plt.legenda([labels[x] for x in xx])\n",
    "plt.show();\n",
    "[labels[x] for x in xx]\n"
   ]
  },
  {
   "cell_type": "code",
   "execution_count": 141,
   "metadata": {
    "collapsed": false,
    "deletable": true,
    "editable": true
   },
   "outputs": [
    {
     "data": {
      "image/png": "[encoded data removed]",
      "text/plain": [
       "<matplotlib.figure.Figure at 0x7f56e27a0ed0>"
      ]
     },
     "metadata": {},
     "output_type": "display_data"
    },
    {
     "data": {
      "text/plain": [
       "['slash_burn', 'partly_cloudy', 'blooming', 'selective_logging']"
      ]
     },
     "execution_count": 141,
     "metadata": {},
     "output_type": "execute_result"
    }
   ],
   "source": [
    "xx = [8,10,14,15] # среднии 100-400\n",
    "plt.plot(bstga[:,xx]); \n",
    "#plt.legenda([labels[x] for x in xx])\n",
    "plt.show();\n",
    "[labels[x] for x in xx]\n"
   ]
  },
  {
   "cell_type": "code",
   "execution_count": 142,
   "metadata": {
    "collapsed": false,
    "deletable": true,
    "editable": true
   },
   "outputs": [
    {
     "data": {
      "image/png": "[encoded data removed]",
      "text/plain": [
       "<matplotlib.figure.Figure at 0x7f56dda2b810>"
      ]
     },
     "metadata": {},
     "output_type": "display_data"
    },
    {
     "data": {
      "text/plain": [
       "['primary', 'cloudy', 'conventional_mine', 'artisinal_mine', 'blow_down']"
      ]
     },
     "execution_count": 142,
     "metadata": {},
     "output_type": "execute_result"
    }
   ],
   "source": [
    "xx = [1,9,11,13,16] # отличные 0-100\n",
    "plt.plot(bstga[:,xx]); plt.show();\n",
    "[labels[x] for x in xx]"
   ]
  },
  {
   "cell_type": "code",
   "execution_count": null,
   "metadata": {
    "collapsed": true,
    "deletable": true,
    "editable": true
   },
   "outputs": [],
   "source": []
  },
  {
   "cell_type": "code",
   "execution_count": 143,
   "metadata": {
    "collapsed": false,
    "deletable": true,
    "editable": true
   },
   "outputs": [],
   "source": [
    "# Попытка посчитать уровень прохождения для каждого признака"
   ]
  },
  {
   "cell_type": "code",
   "execution_count": 144,
   "metadata": {
    "collapsed": false,
    "deletable": true,
    "editable": true
   },
   "outputs": [
    {
     "data": {
      "text/plain": [
       "[44.0,\n",
       " 55.0,\n",
       " 46.0,\n",
       " 56.0,\n",
       " 39.0,\n",
       " 39.0,\n",
       " 43.0,\n",
       " 36.0,\n",
       " 18.0,\n",
       " 51.0,\n",
       " 7.0,\n",
       " 3.0,\n",
       " 26.0,\n",
       " 9.0,\n",
       " 21.0,\n",
       " 20.0,\n",
       " 15.0]"
      ]
     },
     "execution_count": 144,
     "metadata": {},
     "output_type": "execute_result"
    }
   ],
   "source": [
    "ixx,iacc = [], []\n",
    "for i in range(trY.shape[1]) :\n",
    "    max, maxxx = 0.0, 0.0\n",
    "    for xx in range(0,101) :\n",
    "        tempYP = trYPP[:,i].copy(); #print(tempYP.mean())\n",
    "        tempYP[tempYP<float(xx/100.0)] = 0\n",
    "        tempYP[tempYP>0.0]   = 1\n",
    "        temp = skm.accuracy_score(trY[:,i],tempYP)\n",
    "        #print(float(xx/10.0),temp)\n",
    "        if (temp>max) : \n",
    "            max = temp; maxxx = float(xx)\n",
    "            temp = skm.confusion_matrix(trY[:,i],tempYP);\n",
    "            minloss = temp[0][1]+temp[1][0]\n",
    "    ixx.append(maxxx)\n",
    "    tempYP = trYPP[:,i].copy(); #print(tempYP.mean())\n",
    "    tempYP[tempYP<0.5]   = 0\n",
    "    tempYP[tempYP>0.0]   = 1\n",
    "    temp = skm.accuracy_score(trY[:,i],tempYP)\n",
    "    minloss05 = skm.confusion_matrix(trY[:,i],tempYP);\n",
    "    minloss05 = minloss05[0][1]+minloss05[1][0]\n",
    "    iacc.append((maxxx,max,temp,minloss,minloss05))\n",
    "ixx\n",
    "#[ixx[xx] for xx in wr]"
   ]
  },
  {
   "cell_type": "code",
   "execution_count": 146,
   "metadata": {
    "collapsed": false,
    "deletable": true,
    "editable": true,
    "scrolled": true
   },
   "outputs": [
    {
     "data": {
      "text/plain": [
       "[(44.0, 0.97272659897724745, 0.97112082808369771, 1104, 1169),\n",
       " (55.0, 0.99456508312952396, 0.99372514143135948, 220, 254),\n",
       " (46.0, 0.93777020183304927, 0.93675733096173319, 2519, 2560),\n",
       " (56.0, 0.98307764519874508, 0.98196595765705674, 685, 730),\n",
       " (39.0, 0.93443513920798438, 0.93112478075051264, 2654, 2788),\n",
       " (39.0, 0.96642703624101389, 0.96324019862150745, 1359, 1488),\n",
       " (43.0, 0.9335951975098199, 0.93100125991254723, 2688, 2793),\n",
       " (36.0, 0.94288396452481538, 0.93297759331999308, 2312, 2713),\n",
       " (18.0, 1.0, 0.99997529583240696, 0, 1),\n",
       " (51.0, 0.9997529583240693, 0.99972825415647615, 10, 11),\n",
       " (7.0, 1.0, 1.0, 0, 0),\n",
       " (3.0, 1.0, 1.0, 0, 0),\n",
       " (26.0, 0.99416981644803482, 0.98982188295165396, 236, 412),\n",
       " (9.0, 1.0, 1.0, 0, 0),\n",
       " (21.0, 0.99814718743051956, 0.99528150398972304, 75, 191),\n",
       " (20.0, 0.99661552903974904, 0.99350280392302182, 137, 263),\n",
       " (15.0, 1.0, 0.99967884582129007, 0, 13)]"
      ]
     },
     "execution_count": 146,
     "metadata": {},
     "output_type": "execute_result"
    }
   ],
   "source": [
    "iacc"
   ]
  },
  {
   "cell_type": "code",
   "execution_count": null,
   "metadata": {
    "collapsed": true,
    "deletable": true,
    "editable": true
   },
   "outputs": [],
   "source": []
  },
  {
   "cell_type": "code",
   "execution_count": null,
   "metadata": {
    "collapsed": true,
    "deletable": true,
    "editable": true
   },
   "outputs": [],
   "source": []
  },
  {
   "cell_type": "code",
   "execution_count": 147,
   "metadata": {
    "collapsed": false,
    "deletable": true,
    "editable": true
   },
   "outputs": [],
   "source": [
    "# Forming output dataset for predicting --> trOX, trOY\n",
    "#del(trX)\n",
    "#del(trY)"
   ]
  },
  {
   "cell_type": "code",
   "execution_count": null,
   "metadata": {
    "collapsed": false,
    "deletable": true,
    "editable": true
   },
   "outputs": [],
   "source": []
  },
  {
   "cell_type": "code",
   "execution_count": 89,
   "metadata": {
    "collapsed": true,
    "deletable": true,
    "editable": true
   },
   "outputs": [],
   "source": [
    "# Данные для объединения от jpg\n",
    "trOX_TIF = np.load('../Work/test-data-XX'+str(binsDataTIF)+'.tif'+'.npy')\n",
    "trOX_JPG = np.load('../Work/test-data-XX'+str(binsDataJPG)+'.jpg'+'.npy')\n",
    "trOY_TIF = np.load('../Work/test-data-YY'+str(binsDataTIF)+'.tif'+'.npy')\n",
    "trOY_JPG = np.load('../Work/test-data-YY'+str(binsDataJPG)+'.jpg'+'.npy')"
   ]
  },
  {
   "cell_type": "code",
   "execution_count": 150,
   "metadata": {
    "collapsed": false
   },
   "outputs": [
    {
     "data": {
      "text/plain": [
       "((61191, 578), 96, 288)"
      ]
     },
     "execution_count": 150,
     "metadata": {},
     "output_type": "execute_result"
    }
   ],
   "source": [
    "trOX_TIF.shape, 578/6, 96*3"
   ]
  },
  {
   "cell_type": "code",
   "execution_count": 151,
   "metadata": {
    "collapsed": false
   },
   "outputs": [
    {
     "data": {
      "text/plain": [
       "(61191, 290)"
      ]
     },
     "execution_count": 151,
     "metadata": {},
     "output_type": "execute_result"
    }
   ],
   "source": [
    "# Обрезка видимой части и использование только n, nvi, dwi\n",
    "trOX_TIF = trOX_TIF[:,288:]\n",
    "trOX_TIF.shape"
   ]
  },
  {
   "cell_type": "code",
   "execution_count": 154,
   "metadata": {
    "collapsed": false,
    "deletable": true,
    "editable": true
   },
   "outputs": [
    {
     "data": {
      "text/plain": [
       "(61191, 545)"
      ]
     },
     "execution_count": 154,
     "metadata": {},
     "output_type": "execute_result"
    }
   ],
   "source": [
    "# Аккуратно объединяем через индексы = имена файлов\n",
    "dfOX_TIF = pd.DataFrame(trOX_TIF,index=trOY_TIF)\n",
    "dfOX_JPG = pd.DataFrame(trOX_JPG,index=trOY_JPG)\n",
    "\n",
    "dfOX = dfOX_JPG.join(dfOX_TIF,lsuffix='_l',rsuffix='_r')\n",
    "\n",
    "dfOX.shape #, dfOX.columns,dfOX.head()"
   ]
  },
  {
   "cell_type": "code",
   "execution_count": 155,
   "metadata": {
    "collapsed": false,
    "deletable": true,
    "editable": true
   },
   "outputs": [
    {
     "data": {
      "text/plain": [
       "((61191, 545),\n",
       " (61191,),\n",
       " array(['test_10002', 'test_10003', 'test_10004', 'test_10005',\n",
       "        'test_10006', 'test_10007', 'test_10008', 'test_10009', 'test_1001',\n",
       "        'test_10010'], dtype=object))"
      ]
     },
     "execution_count": 155,
     "metadata": {},
     "output_type": "execute_result"
    }
   ],
   "source": [
    "trOX = dfOX.values\n",
    "trOY = dfOX.index.values\n",
    "trOX.shape,trOY.shape,trOY[0:10]"
   ]
  },
  {
   "cell_type": "code",
   "execution_count": 156,
   "metadata": {
    "collapsed": false,
    "deletable": true,
    "editable": true
   },
   "outputs": [],
   "source": [
    "# Формирование результата\n",
    "dtest  = xgb.DMatrix(trOX)"
   ]
  },
  {
   "cell_type": "code",
   "execution_count": 157,
   "metadata": {
    "collapsed": false,
    "deletable": true,
    "editable": true
   },
   "outputs": [
    {
     "data": {
      "text/plain": [
       "(numpy.ndarray, (61191, 17))"
      ]
     },
     "execution_count": 157,
     "metadata": {},
     "output_type": "execute_result"
    }
   ],
   "source": [
    "trP = []\n",
    "for bstI in bstList :\n",
    "    trP1 = bstI.predict(dtest);\n",
    "    trP.append(trP1)\n",
    "trP = np.array(trP).T\n",
    "type(trP),trP.shape    "
   ]
  },
  {
   "cell_type": "code",
   "execution_count": 158,
   "metadata": {
    "collapsed": true,
    "deletable": true,
    "editable": true
   },
   "outputs": [],
   "source": [
    "#np.save('../Work/test-data-RR'+str(binsData)+ttExt+'.npy',trP)"
   ]
  },
  {
   "cell_type": "code",
   "execution_count": 159,
   "metadata": {
    "collapsed": false,
    "deletable": true,
    "editable": true
   },
   "outputs": [],
   "source": [
    "#trP = np.load('../Work/test-data-RR'+str(binsData)+ttExt+'.npy')\n",
    "#trP.shape"
   ]
  },
  {
   "cell_type": "code",
   "execution_count": 160,
   "metadata": {
    "collapsed": false,
    "deletable": true,
    "editable": true
   },
   "outputs": [
    {
     "name": "stdout",
     "output_type": "stream",
     "text": [
      "[3, 10, 0, 9] \n",
      " ['haze', 'primary', 'agriculture', 'clear', 'water', 'habitation', 'road', 'cultivation', 'slash_burn', 'cloudy', 'partly_cloudy', 'conventional_mine', 'bare_ground', 'artisinal_mine', 'blooming', 'selective_logging', 'blow_down'] \n",
      " [2.0, 0.55, 0.46, 2.0, 0.39, 0.39, 0.43, 0.36, 0.18, 2.0, 2.0, 0.03, 0.26, 0.09, 0.21, 0.2, 0.15]\n"
     ]
    }
   ],
   "source": [
    "wr = [labels.index(i) for i in weather_labels];\n",
    "trM=np.array(ixx)/100.0 #np.array([0.5]*17);\n",
    "#### Коэффициенты работают +0.01 к счету trM=np.array([0.5]*17);\n",
    "trM[np.array(wr)] = 2.0\n",
    "print(wr,'\\n',labels,'\\n',trM.tolist())"
   ]
  },
  {
   "cell_type": "code",
   "execution_count": null,
   "metadata": {
    "collapsed": true,
    "deletable": true,
    "editable": true
   },
   "outputs": [],
   "source": []
  },
  {
   "cell_type": "code",
   "execution_count": 161,
   "metadata": {
    "collapsed": false,
    "deletable": true,
    "editable": true
   },
   "outputs": [
    {
     "name": "stdout",
     "output_type": "stream",
     "text": [
      "['test_0', 'clear primary'] \n",
      " ['file_20521', 'clear primary'] \n",
      " [ 2.    0.55  0.46  2.    0.39  0.39  0.43  0.36  0.18  2.    2.    0.03\n",
      "  0.26  0.09  0.21  0.2   0.15] [  6.24508783e-02   2.45814770e-01   4.45817411e-02   4.16464716e-01\n",
      "   5.03526151e-01   3.26644303e-03   1.00426078e-02   1.05248787e-03\n",
      "   2.95093923e-06   5.92517912e-01   3.07402515e-05   1.12990097e-06\n",
      "   1.18690729e-03   1.24388123e-06   1.84289253e-04   1.92705193e-04\n",
      "   2.77233212e-05]\n"
     ]
    }
   ],
   "source": [
    "#trP = model.predict(trX, batch_size=512); trP=K.get_value(trP)\n",
    "res = []\n",
    "\n",
    "for i in range(trP.shape[0]) :\n",
    "    trA1 = [weather_labels[trP[i,wr].argmax()]]\n",
    "    trA2 = [labels[ii] for ii in range(len(labels)) if (trP[i,ii]>trM[ii])]\n",
    "    trPP = trA1 + trA2;\n",
    "    pp   = ' '.join(trPP)\n",
    "    ##if (pp==\"\") : print(trY[i])\n",
    "    res.append([trOY[i],pp])\n",
    "\n",
    "res.sort(cmp=lambda x,y: cmp(int(x[0].partition('_')[2]),int(y[0].partition('_')[2])) if (x[0].partition('_')[0]==y[0].partition('_')[0]) else cmp(y[0].partition('_')[0],x[0].partition('_')[0]))\n",
    "#print(res[4:8],'\\n',res[-4:])\n",
    "print(res[0],'\\n',res[-1],'\\n',trM,trP[0])"
   ]
  },
  {
   "cell_type": "code",
   "execution_count": null,
   "metadata": {
    "collapsed": true,
    "deletable": true,
    "editable": true
   },
   "outputs": [],
   "source": []
  },
  {
   "cell_type": "code",
   "execution_count": 162,
   "metadata": {
    "collapsed": false,
    "deletable": true,
    "editable": true
   },
   "outputs": [
    {
     "name": "stdout",
     "output_type": "stream",
     "text": [
      "['haze', 'primary', 'agriculture', 'clear', 'water', 'habitation', 'road', 'cultivation', 'slash_burn', 'cloudy', 'partly_cloudy', 'conventional_mine', 'bare_ground', 'artisinal_mine', 'blooming', 'selective_logging', 'blow_down']\n",
      "[2.0, 0.55, 0.46, 2.0, 0.39, 0.39, 0.43, 0.36, 0.18, 2.0, 2.0, 0.03, 0.26, 0.09, 0.21, 0.2, 0.15]\n"
     ]
    }
   ],
   "source": [
    "print(labels)\n",
    "print(trM.tolist())\n",
    "#np.round(trP[4:11,:])"
   ]
  },
  {
   "cell_type": "code",
   "execution_count": 163,
   "metadata": {
    "collapsed": false,
    "deletable": true,
    "editable": true
   },
   "outputs": [
    {
     "name": "stdout",
     "output_type": "stream",
     "text": [
      "2017-07-03-05-40-12\n"
     ]
    }
   ],
   "source": [
    "rrr=pd.DataFrame(res,columns=['image_name','tags']); rrr.head(); \n",
    "suffixDT = (datetime.datetime.now()).strftime('%Y-%m-%d-%H-%M-%S'); print(suffixDT)\n",
    "rrr.to_csv('../Result/vss'+suffixDT+'.csv',index=False);"
   ]
  },
  {
   "cell_type": "code",
   "execution_count": null,
   "metadata": {
    "collapsed": true,
    "deletable": true,
    "editable": true
   },
   "outputs": [],
   "source": []
  },
  {
   "cell_type": "code",
   "execution_count": null,
   "metadata": {
    "collapsed": false,
    "deletable": true,
    "editable": true
   },
   "outputs": [],
   "source": []
  },
  {
   "cell_type": "code",
   "execution_count": null,
   "metadata": {
    "collapsed": true,
    "deletable": true,
    "editable": true
   },
   "outputs": [],
   "source": []
  },
  {
   "cell_type": "code",
   "execution_count": 730,
   "metadata": {
    "collapsed": true,
    "deletable": true,
    "editable": true
   },
   "outputs": [],
   "source": [
    "trOX_TIF = np.load('../Work/test-data-XX'+str(binsData)+ttExt+'.npy')\n",
    "trOX_JPG = np.load('../Work/test-data-XX'+'64'+'.jpg'+'.npy')\n",
    "trOY_TIF = np.load('../Work/test-data-YY'+str(binsData)+ttExt+'.npy')\n",
    "trOY_JPG = np.load('../Work/test-data-YY'+'64'+'.jpg'+'.npy')"
   ]
  },
  {
   "cell_type": "code",
   "execution_count": 752,
   "metadata": {
    "collapsed": false,
    "deletable": true,
    "editable": true
   },
   "outputs": [
    {
     "data": {
      "text/plain": [
       "Index([u'190_l', u'191_l',   u'0_r',   u'1_r',   u'2_r',   u'3_r',   u'4_r',\n",
       "         u'5_r',   u'6_r',   u'7_r',   u'8_r',   u'9_r',  u'10_r',  u'11_r',\n",
       "        u'12_r',  u'13_r',  u'14_r',  u'15_r',  u'16_r',  u'17_r',  u'18_r',\n",
       "        u'19_r',  u'20_r',  u'21_r',  u'22_r',  u'23_r',  u'24_r',  u'25_r',\n",
       "        u'26_r',  u'27_r',  u'28_r',  u'29_r',  u'30_r',  u'31_r',  u'32_r',\n",
       "        u'33_r',  u'34_r',  u'35_r',  u'36_r',  u'37_r',  u'38_r',  u'39_r',\n",
       "        u'40_r',  u'41_r',  u'42_r',  u'43_r',  u'44_r',  u'45_r',  u'46_r',\n",
       "        u'47_r',  u'48_r',  u'49_r',  u'50_r',  u'51_r',  u'52_r',  u'53_r',\n",
       "        u'54_r',  u'55_r',  u'56_r',  u'57_r',   u'0_l',   u'1_l',   u'2_l',\n",
       "         u'3_l',   u'4_l',   u'5_l',   u'6_l',   u'7_l',   u'8_l',   u'9_l',\n",
       "            258,      259,      260,      261,      262,      263,      264,\n",
       "            265,      266,      267,      268,      269],\n",
       "      dtype='object')"
      ]
     },
     "execution_count": 752,
     "metadata": {},
     "output_type": "execute_result"
    }
   ],
   "source": [
    "dfOX_TIF = pd.DataFrame(trOX_TIF,index=trOY_TIF)\n",
    "dfOX_JPG = pd.DataFrame(trOX_JPG,index=trOY_JPG)\n",
    "dfOX_TIF.head(),dfOX_JPG.head()\n",
    "dfOX = dfOX_JPG.join(dfOX_TIF,lsuffix='_l',rsuffix='_r')\n",
    "dfOX.shape, dfOX.columns,dfOX.head()\n",
    "dfOX.columns[range(190,250)+range(0,10)+range(450,462)]"
   ]
  },
  {
   "cell_type": "code",
   "execution_count": 726,
   "metadata": {
    "collapsed": false,
    "deletable": true,
    "editable": true
   },
   "outputs": [
    {
     "name": "stdout",
     "output_type": "stream",
     "text": [
      "Empty DataFrame\n",
      "Columns: []\n",
      "Index: [False]\n"
     ]
    },
    {
     "data": {
      "text/plain": [
       "(array(['test_28790', 'test_28791', 'test_28792', 'test_28793',\n",
       "        'test_28794', 'test_28795', 'test_28796', 'test_28797',\n",
       "        'test_28798', 'test_28799'], \n",
       "       dtype='|S10'),\n",
       " array(['test_10002', 'test_10003', 'test_10004', 'test_10005',\n",
       "        'test_10006', 'test_10007', 'test_10008', 'test_10009', 'test_1001',\n",
       "        'test_10010'], \n",
       "       dtype='|S10'))"
      ]
     },
     "execution_count": 726,
     "metadata": {},
     "output_type": "execute_result"
    }
   ],
   "source": [
    "temp = pd.DataFrame(trOY_JPG==trOY_TIF,columns=['tf'])\n",
    "print (temp.groupby('tf').count())\n",
    "trOY_TIF[0:10],trOY_JPG[0:10]"
   ]
  },
  {
   "cell_type": "code",
   "execution_count": 710,
   "metadata": {
    "collapsed": false,
    "deletable": true,
    "editable": true
   },
   "outputs": [
    {
     "name": "stdout",
     "output_type": "stream",
     "text": [
      "(61191, 192) (61191, 450) (61191, 642)\n"
     ]
    },
    {
     "data": {
      "text/plain": [
       "(61191, 642)"
      ]
     },
     "execution_count": 710,
     "metadata": {},
     "output_type": "execute_result"
    }
   ],
   "source": [
    "trOXX = np.hstack([trOX_JPG,trOX_TIF])\n",
    "trOX  = trOXX\n",
    "print(trOX_JPG.shape,trOX_TIF.shape,trOX.shape)\n",
    "#del trOXX,trOX_JPG,trOX_TIF\n",
    "trOX.shape"
   ]
  },
  {
   "cell_type": "code",
   "execution_count": 715,
   "metadata": {
    "collapsed": false,
    "deletable": true,
    "editable": true
   },
   "outputs": [
    {
     "data": {
      "text/plain": [
       "(642, 64, 75)"
      ]
     },
     "execution_count": 715,
     "metadata": {},
     "output_type": "execute_result"
    }
   ],
   "source": [
    "192+450, 192/3, 450/6"
   ]
  },
  {
   "cell_type": "code",
   "execution_count": 721,
   "metadata": {
    "collapsed": false,
    "deletable": true,
    "editable": true
   },
   "outputs": [
    {
     "name": "stdout",
     "output_type": "stream",
     "text": [
      "(40479, 192) (40479, 450) (40479, 17) (40479, 17)\n"
     ]
    },
    {
     "data": {
      "text/html": [
       "<div>\n",
       "<table border=\"1\" class=\"dataframe\">\n",
       "  <thead>\n",
       "    <tr style=\"text-align: right;\">\n",
       "      <th></th>\n",
       "      <th>0</th>\n",
       "      <th>1</th>\n",
       "      <th>2</th>\n",
       "      <th>3</th>\n",
       "      <th>4</th>\n",
       "      <th>5</th>\n",
       "      <th>6</th>\n",
       "      <th>7</th>\n",
       "      <th>8</th>\n",
       "      <th>9</th>\n",
       "      <th>10</th>\n",
       "      <th>11</th>\n",
       "      <th>12</th>\n",
       "      <th>13</th>\n",
       "      <th>14</th>\n",
       "      <th>15</th>\n",
       "      <th>16</th>\n",
       "    </tr>\n",
       "  </thead>\n",
       "  <tbody>\n",
       "    <tr>\n",
       "      <th>0</th>\n",
       "      <td>False</td>\n",
       "      <td>False</td>\n",
       "      <td>False</td>\n",
       "      <td>False</td>\n",
       "      <td>False</td>\n",
       "      <td>False</td>\n",
       "      <td>False</td>\n",
       "      <td>False</td>\n",
       "      <td>False</td>\n",
       "      <td>False</td>\n",
       "      <td>False</td>\n",
       "      <td>False</td>\n",
       "      <td>False</td>\n",
       "      <td>False</td>\n",
       "      <td>False</td>\n",
       "      <td>False</td>\n",
       "      <td>False</td>\n",
       "    </tr>\n",
       "    <tr>\n",
       "      <th>1</th>\n",
       "      <td>False</td>\n",
       "      <td>False</td>\n",
       "      <td>False</td>\n",
       "      <td>False</td>\n",
       "      <td>False</td>\n",
       "      <td>False</td>\n",
       "      <td>False</td>\n",
       "      <td>False</td>\n",
       "      <td>False</td>\n",
       "      <td>False</td>\n",
       "      <td>False</td>\n",
       "      <td>False</td>\n",
       "      <td>False</td>\n",
       "      <td>False</td>\n",
       "      <td>False</td>\n",
       "      <td>False</td>\n",
       "      <td>False</td>\n",
       "    </tr>\n",
       "    <tr>\n",
       "      <th>2</th>\n",
       "      <td>False</td>\n",
       "      <td>False</td>\n",
       "      <td>False</td>\n",
       "      <td>False</td>\n",
       "      <td>False</td>\n",
       "      <td>False</td>\n",
       "      <td>False</td>\n",
       "      <td>False</td>\n",
       "      <td>False</td>\n",
       "      <td>False</td>\n",
       "      <td>False</td>\n",
       "      <td>False</td>\n",
       "      <td>False</td>\n",
       "      <td>False</td>\n",
       "      <td>False</td>\n",
       "      <td>False</td>\n",
       "      <td>False</td>\n",
       "    </tr>\n",
       "    <tr>\n",
       "      <th>3</th>\n",
       "      <td>False</td>\n",
       "      <td>False</td>\n",
       "      <td>False</td>\n",
       "      <td>False</td>\n",
       "      <td>False</td>\n",
       "      <td>False</td>\n",
       "      <td>False</td>\n",
       "      <td>False</td>\n",
       "      <td>False</td>\n",
       "      <td>False</td>\n",
       "      <td>False</td>\n",
       "      <td>False</td>\n",
       "      <td>False</td>\n",
       "      <td>False</td>\n",
       "      <td>False</td>\n",
       "      <td>False</td>\n",
       "      <td>False</td>\n",
       "    </tr>\n",
       "    <tr>\n",
       "      <th>4</th>\n",
       "      <td>False</td>\n",
       "      <td>False</td>\n",
       "      <td>False</td>\n",
       "      <td>False</td>\n",
       "      <td>False</td>\n",
       "      <td>False</td>\n",
       "      <td>False</td>\n",
       "      <td>False</td>\n",
       "      <td>False</td>\n",
       "      <td>False</td>\n",
       "      <td>False</td>\n",
       "      <td>False</td>\n",
       "      <td>False</td>\n",
       "      <td>False</td>\n",
       "      <td>False</td>\n",
       "      <td>False</td>\n",
       "      <td>False</td>\n",
       "    </tr>\n",
       "  </tbody>\n",
       "</table>\n",
       "</div>"
      ],
      "text/plain": [
       "      0      1      2      3      4      5      6      7      8      9   \\\n",
       "0  False  False  False  False  False  False  False  False  False  False   \n",
       "1  False  False  False  False  False  False  False  False  False  False   \n",
       "2  False  False  False  False  False  False  False  False  False  False   \n",
       "3  False  False  False  False  False  False  False  False  False  False   \n",
       "4  False  False  False  False  False  False  False  False  False  False   \n",
       "\n",
       "      10     11     12     13     14     15     16  \n",
       "0  False  False  False  False  False  False  False  \n",
       "1  False  False  False  False  False  False  False  \n",
       "2  False  False  False  False  False  False  False  \n",
       "3  False  False  False  False  False  False  False  \n",
       "4  False  False  False  False  False  False  False  "
      ]
     },
     "execution_count": 721,
     "metadata": {},
     "output_type": "execute_result"
    }
   ],
   "source": [
    "trX_TIF = np.load('../Work/train-data-XX'+str(binsData)+ttExt+'.npy')\n",
    "trX_JPG = np.load('../Work/train-data-XX'+'64'+'.jpg'+'.npy')\n",
    "trY_TIF = np.load('../Work/train-data-YY'+str(binsData)+ttExt+'.npy')\n",
    "trY_JPG = np.load('../Work/train-data-YY'+'64'+'.jpg'+'.npy')\n",
    "print(trX_JPG.shape,trX_TIF.shape,trY_JPG.shape,trY_TIF.shape)\n",
    "\n",
    "temp = pd.DataFrame((trY_JPG<>trY_TIF))\n",
    "temp.head()\n",
    "#temp.groupby('tf').count()"
   ]
  }
 ],
 "metadata": {
  "kernelspec": {
   "display_name": "Python 2",
   "language": "python",
   "name": "python2"
  },
  "language_info": {
   "codemirror_mode": {
    "name": "ipython",
    "version": 2
   },
   "file_extension": ".py",
   "mimetype": "text/x-python",
   "name": "python",
   "nbconvert_exporter": "python",
   "pygments_lexer": "ipython2",
   "version": "2.7.13"
  }
 },
 "nbformat": 4,
 "nbformat_minor": 2
}
