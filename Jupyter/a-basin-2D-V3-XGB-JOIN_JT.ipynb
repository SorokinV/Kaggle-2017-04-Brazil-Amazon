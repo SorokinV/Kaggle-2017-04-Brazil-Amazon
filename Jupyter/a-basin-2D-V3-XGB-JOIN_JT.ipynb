{
 "cells": [
  {
   "cell_type": "code",
   "execution_count": 1,
   "metadata": {
    "collapsed": true,
    "deletable": true,
    "editable": true
   },
   "outputs": [],
   "source": [
    "# Проверка возможности использования xgbooster - объединение JPG & TIF (2017-07-03)"
   ]
  },
  {
   "cell_type": "code",
   "execution_count": 2,
   "metadata": {
    "collapsed": false,
    "deletable": true,
    "editable": true
   },
   "outputs": [],
   "source": [
    "import sys,os,datetime\n",
    "import numpy as np\n",
    "import pandas as pd\n",
    "import matplotlib.pyplot as plt\n",
    "import sklearn.metrics as skm\n",
    "from __future__ import print_function"
   ]
  },
  {
   "cell_type": "code",
   "execution_count": 3,
   "metadata": {
    "collapsed": false,
    "deletable": true,
    "editable": true
   },
   "outputs": [
    {
     "name": "stdout",
     "output_type": "stream",
     "text": [
      "1.12.1\n",
      "0.19.2\n"
     ]
    }
   ],
   "source": [
    "print(np.__version__);\n",
    "print(pd.__version__);"
   ]
  },
  {
   "cell_type": "code",
   "execution_count": 4,
   "metadata": {
    "collapsed": false,
    "deletable": true,
    "editable": true
   },
   "outputs": [
    {
     "data": {
      "text/plain": [
       "'3.2.0'"
      ]
     },
     "execution_count": 4,
     "metadata": {},
     "output_type": "execute_result"
    }
   ],
   "source": [
    "import  cv2 as cv\n",
    "cv.__version__"
   ]
  },
  {
   "cell_type": "code",
   "execution_count": 5,
   "metadata": {
    "collapsed": false,
    "deletable": true,
    "editable": true
   },
   "outputs": [
    {
     "name": "stderr",
     "output_type": "stream",
     "text": [
      "/home/boba/anaconda2/envs/tensorflow-gpu/lib/python2.7/site-packages/sklearn/cross_validation.py:44: DeprecationWarning: This module was deprecated in version 0.18 in favor of the model_selection module into which all the refactored classes and functions are moved. Also note that the interface of the new CV iterators are different from that of this module. This module will be removed in 0.20.\n",
      "  \"This module will be removed in 0.20.\", DeprecationWarning)\n"
     ]
    }
   ],
   "source": [
    "import xgboost as xgb"
   ]
  },
  {
   "cell_type": "code",
   "execution_count": 6,
   "metadata": {
    "collapsed": false,
    "deletable": true,
    "editable": true
   },
   "outputs": [],
   "source": [
    "sys.path.append('../Python')\n",
    "from helper import formFH, paths_input"
   ]
  },
  {
   "cell_type": "code",
   "execution_count": null,
   "metadata": {
    "collapsed": false,
    "deletable": true,
    "editable": true
   },
   "outputs": [],
   "source": []
  },
  {
   "cell_type": "code",
   "execution_count": 7,
   "metadata": {
    "collapsed": false,
    "deletable": true,
    "editable": true
   },
   "outputs": [
    {
     "name": "stdout",
     "output_type": "stream",
     "text": [
      "../Data/train-tif-v2 ../Data/test-tif-v2 ../Work/Train ../Work/Test\n",
      "../Data/train_v2.csv ../Data/train-tif-v2 ../Data/train-jpg ../Data/test-tif-v2 ../Data/test-jpg-v2\n"
     ]
    }
   ],
   "source": [
    "binsData = 75\n",
    "\n",
    "trLabels,trDirTIF,trDirJPG,teDirTIF,teDirJPG = paths_input()\n",
    "if False : # True :\n",
    "    trDirI = trDirJPG\n",
    "    teDirI = teDirJPG\n",
    "    ttExt  = '.jpg'\n",
    "else :\n",
    "    trDirI = trDirTIF\n",
    "    teDirI = teDirTIF\n",
    "    ttExt  = '.tif'\n",
    "trWork, teWork = '../Work/Train', '../Work/Test'\n",
    "print (trDirI,teDirI, trWork, teWork)\n",
    "print (trLabels,trDirTIF,trDirJPG,teDirTIF,teDirJPG)"
   ]
  },
  {
   "cell_type": "code",
   "execution_count": 67,
   "metadata": {
    "collapsed": true,
    "deletable": true,
    "editable": true
   },
   "outputs": [],
   "source": [
    "binsDataTIF = 96\n",
    "binsDataJPG = 96"
   ]
  },
  {
   "cell_type": "code",
   "execution_count": null,
   "metadata": {
    "collapsed": false,
    "deletable": true,
    "editable": true
   },
   "outputs": [],
   "source": []
  },
  {
   "cell_type": "code",
   "execution_count": 9,
   "metadata": {
    "collapsed": false,
    "deletable": true,
    "editable": true
   },
   "outputs": [
    {
     "data": {
      "text/html": [
       "<div>\n",
       "<table border=\"1\" class=\"dataframe\">\n",
       "  <thead>\n",
       "    <tr style=\"text-align: right;\">\n",
       "      <th></th>\n",
       "      <th>image_name</th>\n",
       "      <th>tags</th>\n",
       "    </tr>\n",
       "  </thead>\n",
       "  <tbody>\n",
       "    <tr>\n",
       "      <th>0</th>\n",
       "      <td>train_0</td>\n",
       "      <td>haze primary</td>\n",
       "    </tr>\n",
       "    <tr>\n",
       "      <th>1</th>\n",
       "      <td>train_1</td>\n",
       "      <td>agriculture clear primary water</td>\n",
       "    </tr>\n",
       "    <tr>\n",
       "      <th>2</th>\n",
       "      <td>train_2</td>\n",
       "      <td>clear primary</td>\n",
       "    </tr>\n",
       "    <tr>\n",
       "      <th>3</th>\n",
       "      <td>train_3</td>\n",
       "      <td>clear primary</td>\n",
       "    </tr>\n",
       "    <tr>\n",
       "      <th>4</th>\n",
       "      <td>train_4</td>\n",
       "      <td>agriculture clear habitation primary road</td>\n",
       "    </tr>\n",
       "  </tbody>\n",
       "</table>\n",
       "</div>"
      ],
      "text/plain": [
       "  image_name                                       tags\n",
       "0    train_0                               haze primary\n",
       "1    train_1            agriculture clear primary water\n",
       "2    train_2                              clear primary\n",
       "3    train_3                              clear primary\n",
       "4    train_4  agriculture clear habitation primary road"
      ]
     },
     "execution_count": 9,
     "metadata": {},
     "output_type": "execute_result"
    }
   ],
   "source": [
    "labels_df = pd.read_csv(trLabels)\n",
    "labels_df.head()"
   ]
  },
  {
   "cell_type": "code",
   "execution_count": 10,
   "metadata": {
    "collapsed": true,
    "deletable": true,
    "editable": true
   },
   "outputs": [],
   "source": [
    "# Build list with unique labels\n",
    "label_list = []\n",
    "for tag_str in labels_df.tags.values:\n",
    "    labels = tag_str.split(' ')\n",
    "    for label in labels:\n",
    "        if label not in label_list:\n",
    "            label_list.append(label)"
   ]
  },
  {
   "cell_type": "code",
   "execution_count": 11,
   "metadata": {
    "collapsed": false,
    "deletable": true,
    "editable": true
   },
   "outputs": [],
   "source": [
    "# Add features (0 or 1) for every label as dataframe field \n",
    "for label in label_list:\n",
    "    labels_df[label] = labels_df['tags'].apply(lambda x: 1 if label in x.split(' ') else 0)\n",
    "#labels_df.head()"
   ]
  },
  {
   "cell_type": "code",
   "execution_count": 12,
   "metadata": {
    "collapsed": false,
    "deletable": true,
    "editable": true
   },
   "outputs": [],
   "source": [
    "weather_labels = ['clear', 'partly_cloudy', 'haze', 'cloudy']\n",
    "land_labels = ['primary', 'agriculture', 'water', 'cultivation', 'habitation' ]\n",
    "rare_labels = [l for l in label_list if labels_df[label_list].sum()[l] < 2000]\n",
    "#rare_labels              "
   ]
  },
  {
   "cell_type": "code",
   "execution_count": null,
   "metadata": {
    "collapsed": false,
    "deletable": true,
    "editable": true
   },
   "outputs": [],
   "source": []
  },
  {
   "cell_type": "code",
   "execution_count": 13,
   "metadata": {
    "collapsed": false,
    "deletable": true,
    "editable": true
   },
   "outputs": [],
   "source": [
    "labels = label_list; #weather_labels;\n",
    "nameList =labels_df[labels_df[labels].sum(axis=1)>0].image_name.tolist(); len(nameList)\n",
    "labelList=labels_df[labels_df[labels].sum(axis=1)>0][labels].as_matrix();\n",
    "#labelList[:6,:]\n",
    "#labels_df.head()"
   ]
  },
  {
   "cell_type": "code",
   "execution_count": null,
   "metadata": {
    "collapsed": true,
    "deletable": true,
    "editable": true
   },
   "outputs": [],
   "source": []
  },
  {
   "cell_type": "code",
   "execution_count": 164,
   "metadata": {
    "collapsed": false,
    "deletable": true,
    "editable": true
   },
   "outputs": [
    {
     "data": {
      "text/plain": [
       "((40479, 578), (40479, 255))"
      ]
     },
     "execution_count": 164,
     "metadata": {},
     "output_type": "execute_result"
    }
   ],
   "source": [
    "# Данные для объединения от jpg\n",
    "binsDataJPG2 = 64\n",
    "trX_TIF  = np.load('../Work/train-data-XX'+str(binsDataTIF)+'.tif'+'.npy')\n",
    "trX_JPG  = np.load('../Work/train-data-XX'+str(binsDataJPG)+'.jpg'+'.npy')\n",
    "trX_JPG2 = np.load('../Work/train-data-XX'+str(binsDataJPG2)+'.jpg'+'.npy')\n",
    "trY      = np.load('../Work/train-data-YY'+str(binsDataTIF)+'.tif'+'.npy')\n",
    "trX_TIF.shape, trX_JPG.shape"
   ]
  },
  {
   "cell_type": "code",
   "execution_count": 165,
   "metadata": {
    "collapsed": false
   },
   "outputs": [
    {
     "data": {
      "text/plain": [
       "(96, 85, 288)"
      ]
     },
     "execution_count": 165,
     "metadata": {},
     "output_type": "execute_result"
    }
   ],
   "source": [
    "578/6, 255/3, 96+96+96"
   ]
  },
  {
   "cell_type": "code",
   "execution_count": 166,
   "metadata": {
    "collapsed": false
   },
   "outputs": [],
   "source": [
    "## Обрезка видимой части и использование только n, nvi, dwi\n",
    "##trX_TIF = trX_TIF[:,288:]"
   ]
  },
  {
   "cell_type": "code",
   "execution_count": 167,
   "metadata": {
    "collapsed": false
   },
   "outputs": [],
   "source": [
    "##trX_TIF.shape, 290/3"
   ]
  },
  {
   "cell_type": "code",
   "execution_count": 168,
   "metadata": {
    "collapsed": false,
    "deletable": true,
    "editable": true
   },
   "outputs": [
    {
     "name": "stdout",
     "output_type": "stream",
     "text": [
      "(40479, 1025) (40479, 578) (40479, 255) (40479, 17)\n"
     ]
    }
   ],
   "source": [
    "trXX = np.hstack([trX_JPG,trX_JPG2,trX_TIF])\n",
    "trX  = trXX\n",
    "print (trX.shape,trX_TIF.shape,trX_JPG.shape,trY.shape)\n",
    "del trXX,trX_JPG,trX_TIF,trX_JPG2"
   ]
  },
  {
   "cell_type": "code",
   "execution_count": null,
   "metadata": {
    "collapsed": false,
    "deletable": true,
    "editable": true
   },
   "outputs": [],
   "source": []
  },
  {
   "cell_type": "code",
   "execution_count": 169,
   "metadata": {
    "collapsed": false,
    "deletable": true,
    "editable": true
   },
   "outputs": [],
   "source": [
    "# Строим основные массивы\n",
    "dtrain = xgb.DMatrix(trX,label=trY[:,0])"
   ]
  },
  {
   "cell_type": "code",
   "execution_count": null,
   "metadata": {
    "collapsed": false,
    "deletable": true,
    "editable": true
   },
   "outputs": [],
   "source": []
  },
  {
   "cell_type": "code",
   "execution_count": 170,
   "metadata": {
    "collapsed": true,
    "deletable": true,
    "editable": true
   },
   "outputs": [],
   "source": [
    "# Построение списка bst - моделей\n",
    "def getListBST (param, trX, trY, nfold=3, early_stop=20) :\n",
    "    dtrain = xgb.DMatrix(trX,label=trY[:,0])\n",
    "    results, bstList = [], []\n",
    "    for i in range(trY.shape[1]) :\n",
    "        print ('Working: {}'.format(i))\n",
    "        dtrain.set_label(trY[:,i])\n",
    "        history = xgb.cv(param, dtrain, metrics=['auc'], \n",
    "                         verbose_eval=30, num_boost_round=5000, nfold=nfold, \n",
    "                         early_stopping_rounds=early_stop)\n",
    "        results.append(history)\n",
    "        rvalidCV, watchlistCV = {}, [(dtrain,'train')]\n",
    "        bst = xgb.train(param, dtrain, history['test-auc-mean'].argmax()+1, watchlistCV) \n",
    "        bstList.append(bst)\n",
    "    return(bstList)\n",
    "\n",
    "# Построение решения по dmatrix и bst списку\n",
    "def buildPredict (dData, bstList) :\n",
    "    trYP = []\n",
    "    for bstI in bstList :\n",
    "        trYP1 = bstI.predict(dData); trYP.append(trYP1)\n",
    "    trYP = np.array(trYP).T\n",
    "    #type(trYP),trYP.shape\n",
    "    return(trYP)\n",
    "\n",
    "# Построение решения по np.array (DataFrame?) и bst списку\n",
    "def buildPredictX (Data, bstList) :\n",
    "    dData = xgb.DMatrix(Data);\n",
    "    return (buildPredict(dData,bstList))"
   ]
  },
  {
   "cell_type": "code",
   "execution_count": 171,
   "metadata": {
    "collapsed": true,
    "deletable": true,
    "editable": true
   },
   "outputs": [],
   "source": [
    "# Процедуры для оценки результативности\n",
    "\n",
    "def getConfusion (tGroundTrue, tPredict) :\n",
    "    cList = []\n",
    "    for i in range(tPredict.shape[1]) :\n",
    "        cList.append(skm.confusion_matrix(tGroundTrue[:,i],tPredict[:,i]))\n",
    "    return(np.array(cList))\n",
    "\n",
    "def getRocAUC (tGroundTrue, tPredict) :\n",
    "    rList = []\n",
    "    for i in range(tPredict.shape[1]) :\n",
    "        rList.append(skm.roc_auc_score(tGroundTrue[:,i],tPredict[:,i]))\n",
    "    return(np.array(rList))"
   ]
  },
  {
   "cell_type": "code",
   "execution_count": 172,
   "metadata": {
    "collapsed": true,
    "deletable": true,
    "editable": true
   },
   "outputs": [],
   "source": [
    "# Оценка нескольких наборов\n",
    "def getProb01 (trYP, th=0.5) :\n",
    "    trYY = trYP.copy()\n",
    "    trYY[trYY<th] = 0\n",
    "    trYY[trYY>0]  = 1\n",
    "    return (trYY)\n",
    "\n",
    "def estimateTrain (estimateList, param) :\n",
    "    res = []\n",
    "    for jpgtif, bins in estimateList :\n",
    "        trX     = np.load('../Work/train-data-XX'+str(bins)+jpgtif+'.npy')\n",
    "        trY     = np.load('../Work/train-data-YY'+str(bins)+jpgtif+'.npy')\n",
    "        listBST = getListBST(param, trX, trY)\n",
    "        trYP    = buildPredictX(trX,listBST)\n",
    "        trYY    = getProb01(trYP)\n",
    "        res.append(np.array(getConfusion(trY,trYY)))\n",
    "    return(res)      "
   ]
  },
  {
   "cell_type": "code",
   "execution_count": 173,
   "metadata": {
    "collapsed": true,
    "deletable": true,
    "editable": true
   },
   "outputs": [],
   "source": [
    "param = {\n",
    "         'objective':'reg:logistic', \n",
    "         #'num_class':17,\n",
    "         #'eta':0.05, \n",
    "         #'max_depth':9, 'subsample':0.8, 'colsample_bytree':0.8, \n",
    "         #'metrics':'rmse'\n",
    "         'eval_metric':['auc','rmse']\n",
    "        }\n",
    "param['silent']=True"
   ]
  },
  {
   "cell_type": "code",
   "execution_count": null,
   "metadata": {
    "collapsed": true,
    "deletable": true,
    "editable": true
   },
   "outputs": [],
   "source": []
  },
  {
   "cell_type": "code",
   "execution_count": 71,
   "metadata": {
    "collapsed": false,
    "deletable": true,
    "editable": true
   },
   "outputs": [
    {
     "name": "stdout",
     "output_type": "stream",
     "text": [
      "CPU times: user 0 ns, sys: 0 ns, total: 0 ns\n",
      "Wall time: 14.1 µs\n"
     ]
    }
   ],
   "source": [
    "#xJPG = estimateTrain([('.jpg',32),('.jpg',64),('.jpg',96)],param)\n",
    "%time"
   ]
  },
  {
   "cell_type": "code",
   "execution_count": 64,
   "metadata": {
    "collapsed": false,
    "deletable": true,
    "editable": true
   },
   "outputs": [
    {
     "name": "stdout",
     "output_type": "stream",
     "text": [
      "19743 [1224  629 3295  576 4277 1799 2939 3338  206   13  408    0  433   13  234\n",
      "  324   35]\n",
      "18538 [1248   90 3625 1106 2927 1603 3518 2655  194   38  233    0  658    0  264\n",
      "  303   76]\n",
      "15592 [1338  470 2304  551 2569 1136 3111 2691  168  143   18   24  532    0  269\n",
      "  227   41]\n",
      "CPU times: user 0 ns, sys: 0 ns, total: 0 ns\n",
      "Wall time: 5.96 µs\n"
     ]
    }
   ],
   "source": [
    "#xJPG\n",
    "for cms in xJPG :\n",
    "    cm = cms[:,0,1]+cms[:,1,0]\n",
    "    print (cm.sum(),cms[:,0,1]+cms[:,1,0])\n",
    "%time"
   ]
  },
  {
   "cell_type": "code",
   "execution_count": null,
   "metadata": {
    "collapsed": true,
    "deletable": true,
    "editable": true
   },
   "outputs": [],
   "source": []
  },
  {
   "cell_type": "code",
   "execution_count": 72,
   "metadata": {
    "collapsed": false,
    "deletable": true,
    "editable": true
   },
   "outputs": [
    {
     "name": "stdout",
     "output_type": "stream",
     "text": [
      "CPU times: user 0 ns, sys: 0 ns, total: 0 ns\n",
      "Wall time: 14.1 µs\n"
     ]
    }
   ],
   "source": [
    "#xTIF = estimateTrain([('.tif',32),('.tif',64),('.tif',96)],param)\n",
    "%time"
   ]
  },
  {
   "cell_type": "code",
   "execution_count": 66,
   "metadata": {
    "collapsed": false
   },
   "outputs": [
    {
     "name": "stdout",
     "output_type": "stream",
     "text": [
      "23842 [1438 1001 3107 1913 3395 1967 4088 3460  188  413 1761   17  492    6  197\n",
      "  301   98]\n",
      "21119 [1015  864 3257  846 3520 1771 3654 3382  149  369  994   54  654    9  198\n",
      "  304   79]\n",
      "17984 [ 874  783 2743  732 3002 1824 3533 3074   57   99  146    0  658   24  303\n",
      "   53   79]\n",
      "CPU times: user 0 ns, sys: 0 ns, total: 0 ns\n",
      "Wall time: 4.05 µs\n"
     ]
    }
   ],
   "source": [
    "for cms in xTIF :\n",
    "    cm = cms[:,0,1]+cms[:,1,0]\n",
    "    print (cm.sum(),cms[:,0,1]+cms[:,1,0])\n",
    "%time"
   ]
  },
  {
   "cell_type": "code",
   "execution_count": null,
   "metadata": {
    "collapsed": true
   },
   "outputs": [],
   "source": []
  },
  {
   "cell_type": "code",
   "execution_count": 174,
   "metadata": {
    "collapsed": false,
    "deletable": true,
    "editable": true
   },
   "outputs": [
    {
     "name": "stdout",
     "output_type": "stream",
     "text": [
      "Working: 0\n",
      "[0]\ttrain-auc:0.946314+0.00407778\ttest-auc:0.930789+0.00535691\n",
      "[30]\ttrain-auc:0.99154+0.000659668\ttest-auc:0.962568+0.00190678\n",
      "[0]\ttrain-auc:0.943631\ttrain-rmse:0.377497\n",
      "[1]\ttrain-auc:0.957915\ttrain-rmse:0.300397\n",
      "[2]\ttrain-auc:0.964023\ttrain-rmse:0.249734\n",
      "[3]\ttrain-auc:0.966964\ttrain-rmse:0.218373\n",
      "[4]\ttrain-auc:0.969765\ttrain-rmse:0.197408\n",
      "[5]\ttrain-auc:0.9709\ttrain-rmse:0.185614\n",
      "[6]\ttrain-auc:0.9725\ttrain-rmse:0.17812\n",
      "[7]\ttrain-auc:0.974162\ttrain-rmse:0.172927\n",
      "[8]\ttrain-auc:0.975828\ttrain-rmse:0.169856\n",
      "[9]\ttrain-auc:0.976373\ttrain-rmse:0.167806\n",
      "[10]\ttrain-auc:0.977679\ttrain-rmse:0.165808\n",
      "[11]\ttrain-auc:0.978409\ttrain-rmse:0.164608\n",
      "[12]\ttrain-auc:0.978947\ttrain-rmse:0.162909\n",
      "[13]\ttrain-auc:0.981103\ttrain-rmse:0.160239\n",
      "[14]\ttrain-auc:0.981699\ttrain-rmse:0.159144\n",
      "[15]\ttrain-auc:0.982709\ttrain-rmse:0.157793\n",
      "[16]\ttrain-auc:0.983189\ttrain-rmse:0.156856\n",
      "[17]\ttrain-auc:0.983745\ttrain-rmse:0.155944\n",
      "[18]\ttrain-auc:0.984054\ttrain-rmse:0.155151\n",
      "[19]\ttrain-auc:0.984512\ttrain-rmse:0.154547\n",
      "[20]\ttrain-auc:0.985014\ttrain-rmse:0.153801\n",
      "[21]\ttrain-auc:0.985476\ttrain-rmse:0.152938\n",
      "[22]\ttrain-auc:0.986556\ttrain-rmse:0.150293\n",
      "[23]\ttrain-auc:0.98665\ttrain-rmse:0.150014\n",
      "[24]\ttrain-auc:0.987507\ttrain-rmse:0.147575\n",
      "[25]\ttrain-auc:0.987901\ttrain-rmse:0.146269\n",
      "[26]\ttrain-auc:0.988096\ttrain-rmse:0.145827\n",
      "[27]\ttrain-auc:0.988283\ttrain-rmse:0.145274\n",
      "[28]\ttrain-auc:0.988504\ttrain-rmse:0.144617\n",
      "[29]\ttrain-auc:0.988837\ttrain-rmse:0.143782\n",
      "[30]\ttrain-auc:0.98932\ttrain-rmse:0.14271\n",
      "[31]\ttrain-auc:0.989827\ttrain-rmse:0.141046\n",
      "[32]\ttrain-auc:0.990334\ttrain-rmse:0.139031\n",
      "[33]\ttrain-auc:0.990619\ttrain-rmse:0.137786\n",
      "[34]\ttrain-auc:0.990864\ttrain-rmse:0.136761\n",
      "[35]\ttrain-auc:0.990996\ttrain-rmse:0.1363\n",
      "Working: 1\n",
      "[0]\ttrain-auc:0.942504+0.00805031\ttest-auc:0.92969+0.00193908\n",
      "[30]\ttrain-auc:0.996578+0.000333539\ttest-auc:0.975634+0.000911264\n",
      "[60]\ttrain-auc:0.999404+7.56586e-05\ttest-auc:0.976168+0.00114305\n",
      "[90]\ttrain-auc:0.999954+4.08248e-06\ttest-auc:0.976753+0.00110895\n",
      "[120]\ttrain-auc:0.999999+4.71405e-07\ttest-auc:0.977002+0.0012522\n",
      "[150]\ttrain-auc:1+0\ttest-auc:0.977131+0.00118006\n",
      "[0]\ttrain-auc:0.937902\ttrain-rmse:0.375629\n",
      "[1]\ttrain-auc:0.956812\ttrain-rmse:0.295932\n",
      "[2]\ttrain-auc:0.967635\ttrain-rmse:0.243462\n",
      "[3]\ttrain-auc:0.97076\ttrain-rmse:0.208874\n",
      "[4]\ttrain-auc:0.972811\ttrain-rmse:0.186407\n",
      "[5]\ttrain-auc:0.977002\ttrain-rmse:0.171227\n",
      "[6]\ttrain-auc:0.980333\ttrain-rmse:0.161717\n",
      "[7]\ttrain-auc:0.982917\ttrain-rmse:0.154808\n",
      "[8]\ttrain-auc:0.985052\ttrain-rmse:0.150511\n",
      "[9]\ttrain-auc:0.9863\ttrain-rmse:0.147117\n",
      "[10]\ttrain-auc:0.987456\ttrain-rmse:0.144455\n",
      "[11]\ttrain-auc:0.988605\ttrain-rmse:0.142553\n",
      "[12]\ttrain-auc:0.989389\ttrain-rmse:0.140742\n",
      "[13]\ttrain-auc:0.989899\ttrain-rmse:0.139455\n",
      "[14]\ttrain-auc:0.990323\ttrain-rmse:0.138652\n",
      "[15]\ttrain-auc:0.990734\ttrain-rmse:0.13766\n",
      "[16]\ttrain-auc:0.991004\ttrain-rmse:0.136713\n",
      "[17]\ttrain-auc:0.991132\ttrain-rmse:0.136175\n",
      "[18]\ttrain-auc:0.991351\ttrain-rmse:0.135441\n",
      "[19]\ttrain-auc:0.991717\ttrain-rmse:0.134016\n",
      "[20]\ttrain-auc:0.991978\ttrain-rmse:0.132826\n",
      "[21]\ttrain-auc:0.992311\ttrain-rmse:0.131564\n",
      "[22]\ttrain-auc:0.992371\ttrain-rmse:0.131286\n",
      "[23]\ttrain-auc:0.992687\ttrain-rmse:0.130239\n",
      "[24]\ttrain-auc:0.992923\ttrain-rmse:0.129249\n",
      "[25]\ttrain-auc:0.993127\ttrain-rmse:0.128317\n",
      "[26]\ttrain-auc:0.993722\ttrain-rmse:0.126057\n",
      "[27]\ttrain-auc:0.993856\ttrain-rmse:0.125384\n",
      "[28]\ttrain-auc:0.994186\ttrain-rmse:0.124124\n",
      "[29]\ttrain-auc:0.994291\ttrain-rmse:0.123425\n",
      "[30]\ttrain-auc:0.994651\ttrain-rmse:0.122051\n",
      "[31]\ttrain-auc:0.994782\ttrain-rmse:0.121228\n",
      "[32]\ttrain-auc:0.994891\ttrain-rmse:0.120588\n",
      "[33]\ttrain-auc:0.994999\ttrain-rmse:0.119954\n",
      "[34]\ttrain-auc:0.99517\ttrain-rmse:0.119052\n",
      "[35]\ttrain-auc:0.995319\ttrain-rmse:0.118081\n",
      "[36]\ttrain-auc:0.995575\ttrain-rmse:0.116487\n",
      "[37]\ttrain-auc:0.995625\ttrain-rmse:0.116153\n",
      "[38]\ttrain-auc:0.995679\ttrain-rmse:0.115764\n",
      "[39]\ttrain-auc:0.995894\ttrain-rmse:0.114575\n",
      "[40]\ttrain-auc:0.996203\ttrain-rmse:0.113009\n",
      "[41]\ttrain-auc:0.996246\ttrain-rmse:0.112708\n",
      "[42]\ttrain-auc:0.996381\ttrain-rmse:0.111574\n",
      "[43]\ttrain-auc:0.996479\ttrain-rmse:0.110751\n",
      "[44]\ttrain-auc:0.996645\ttrain-rmse:0.109524\n",
      "[45]\ttrain-auc:0.996725\ttrain-rmse:0.109005\n",
      "[46]\ttrain-auc:0.996787\ttrain-rmse:0.10846\n",
      "[47]\ttrain-auc:0.99684\ttrain-rmse:0.108022\n",
      "[48]\ttrain-auc:0.996877\ttrain-rmse:0.107706\n",
      "[49]\ttrain-auc:0.996959\ttrain-rmse:0.107211\n",
      "[50]\ttrain-auc:0.997238\ttrain-rmse:0.105478\n",
      "[51]\ttrain-auc:0.997368\ttrain-rmse:0.104585\n",
      "[52]\ttrain-auc:0.997593\ttrain-rmse:0.102904\n",
      "[53]\ttrain-auc:0.997693\ttrain-rmse:0.102189\n",
      "[54]\ttrain-auc:0.997772\ttrain-rmse:0.101467\n",
      "[55]\ttrain-auc:0.99782\ttrain-rmse:0.100827\n",
      "[56]\ttrain-auc:0.997896\ttrain-rmse:0.100368\n",
      "[57]\ttrain-auc:0.997964\ttrain-rmse:0.099693\n",
      "[58]\ttrain-auc:0.998028\ttrain-rmse:0.099388\n",
      "[59]\ttrain-auc:0.998098\ttrain-rmse:0.098592\n",
      "[60]\ttrain-auc:0.998197\ttrain-rmse:0.097721\n",
      "[61]\ttrain-auc:0.998385\ttrain-rmse:0.095813\n",
      "[62]\ttrain-auc:0.998428\ttrain-rmse:0.095357\n",
      "[63]\ttrain-auc:0.998461\ttrain-rmse:0.094849\n",
      "[64]\ttrain-auc:0.998526\ttrain-rmse:0.093954\n",
      "[65]\ttrain-auc:0.998561\ttrain-rmse:0.093431\n",
      "[66]\ttrain-auc:0.998606\ttrain-rmse:0.092743\n",
      "[67]\ttrain-auc:0.998708\ttrain-rmse:0.091414\n",
      "[68]\ttrain-auc:0.998736\ttrain-rmse:0.090946\n",
      "[69]\ttrain-auc:0.998786\ttrain-rmse:0.090377\n",
      "[70]\ttrain-auc:0.998815\ttrain-rmse:0.089916\n",
      "[71]\ttrain-auc:0.998854\ttrain-rmse:0.089637\n",
      "[72]\ttrain-auc:0.998904\ttrain-rmse:0.088776\n",
      "[73]\ttrain-auc:0.998928\ttrain-rmse:0.088335\n",
      "[74]\ttrain-auc:0.999048\ttrain-rmse:0.086899\n",
      "[75]\ttrain-auc:0.999134\ttrain-rmse:0.086163\n",
      "[76]\ttrain-auc:0.999166\ttrain-rmse:0.085605\n",
      "[77]\ttrain-auc:0.999236\ttrain-rmse:0.08447\n",
      "[78]\ttrain-auc:0.999308\ttrain-rmse:0.083183\n",
      "[79]\ttrain-auc:0.999377\ttrain-rmse:0.082096\n",
      "[80]\ttrain-auc:0.99941\ttrain-rmse:0.081436\n",
      "[81]\ttrain-auc:0.999425\ttrain-rmse:0.080963\n",
      "[82]\ttrain-auc:0.99945\ttrain-rmse:0.080255\n",
      "[83]\ttrain-auc:0.999464\ttrain-rmse:0.080066\n",
      "[84]\ttrain-auc:0.999496\ttrain-rmse:0.079565\n",
      "[85]\ttrain-auc:0.99952\ttrain-rmse:0.079005\n",
      "[86]\ttrain-auc:0.999533\ttrain-rmse:0.078728\n",
      "[87]\ttrain-auc:0.999558\ttrain-rmse:0.078147\n",
      "[88]\ttrain-auc:0.999564\ttrain-rmse:0.077938\n",
      "[89]\ttrain-auc:0.99958\ttrain-rmse:0.077386\n",
      "[90]\ttrain-auc:0.999619\ttrain-rmse:0.076319\n",
      "[91]\ttrain-auc:0.999659\ttrain-rmse:0.074998\n",
      "[92]\ttrain-auc:0.999705\ttrain-rmse:0.073888\n",
      "[93]\ttrain-auc:0.999707\ttrain-rmse:0.073708\n",
      "[94]\ttrain-auc:0.999724\ttrain-rmse:0.073278\n",
      "[95]\ttrain-auc:0.999738\ttrain-rmse:0.072604\n",
      "[96]\ttrain-auc:0.99975\ttrain-rmse:0.072219\n",
      "[97]\ttrain-auc:0.999763\ttrain-rmse:0.071809\n",
      "[98]\ttrain-auc:0.999777\ttrain-rmse:0.071334\n",
      "[99]\ttrain-auc:0.999782\ttrain-rmse:0.071083\n",
      "[100]\ttrain-auc:0.999798\ttrain-rmse:0.070541\n",
      "[101]\ttrain-auc:0.999802\ttrain-rmse:0.070302\n",
      "[102]\ttrain-auc:0.999813\ttrain-rmse:0.069737\n",
      "[103]\ttrain-auc:0.999827\ttrain-rmse:0.069003\n",
      "[104]\ttrain-auc:0.999836\ttrain-rmse:0.068529\n",
      "[105]\ttrain-auc:0.999842\ttrain-rmse:0.067952\n",
      "[106]\ttrain-auc:0.999858\ttrain-rmse:0.066747\n",
      "[107]\ttrain-auc:0.999872\ttrain-rmse:0.065852\n",
      "[108]\ttrain-auc:0.999884\ttrain-rmse:0.064953\n",
      "[109]\ttrain-auc:0.999886\ttrain-rmse:0.064663\n",
      "[110]\ttrain-auc:0.999898\ttrain-rmse:0.063661\n",
      "[111]\ttrain-auc:0.999908\ttrain-rmse:0.063038\n",
      "[112]\ttrain-auc:0.999917\ttrain-rmse:0.062073\n",
      "[113]\ttrain-auc:0.999926\ttrain-rmse:0.061367\n",
      "[114]\ttrain-auc:0.999929\ttrain-rmse:0.061143\n",
      "[115]\ttrain-auc:0.999932\ttrain-rmse:0.060661\n",
      "[116]\ttrain-auc:0.999936\ttrain-rmse:0.06047\n",
      "[117]\ttrain-auc:0.999937\ttrain-rmse:0.060261\n",
      "[118]\ttrain-auc:0.99994\ttrain-rmse:0.059981\n",
      "[119]\ttrain-auc:0.999941\ttrain-rmse:0.059728\n",
      "[120]\ttrain-auc:0.999945\ttrain-rmse:0.059472\n",
      "[121]\ttrain-auc:0.999951\ttrain-rmse:0.05859\n",
      "[122]\ttrain-auc:0.999955\ttrain-rmse:0.058037\n",
      "[123]\ttrain-auc:0.999958\ttrain-rmse:0.057524\n",
      "[124]\ttrain-auc:0.999963\ttrain-rmse:0.056732\n",
      "[125]\ttrain-auc:0.99997\ttrain-rmse:0.055532\n",
      "[126]\ttrain-auc:0.999973\ttrain-rmse:0.054962\n",
      "[127]\ttrain-auc:0.999977\ttrain-rmse:0.054248\n",
      "[128]\ttrain-auc:0.999978\ttrain-rmse:0.053594\n",
      "[129]\ttrain-auc:0.999979\ttrain-rmse:0.053296\n",
      "[130]\ttrain-auc:0.99998\ttrain-rmse:0.053051\n",
      "[131]\ttrain-auc:0.999984\ttrain-rmse:0.052496\n",
      "[132]\ttrain-auc:0.999986\ttrain-rmse:0.051481\n",
      "[133]\ttrain-auc:0.999987\ttrain-rmse:0.05125\n",
      "[134]\ttrain-auc:0.999989\ttrain-rmse:0.050577\n",
      "[135]\ttrain-auc:0.99999\ttrain-rmse:0.050107\n",
      "[136]\ttrain-auc:0.999991\ttrain-rmse:0.04994\n",
      "[137]\ttrain-auc:0.999992\ttrain-rmse:0.049358\n",
      "[138]\ttrain-auc:0.999994\ttrain-rmse:0.048751\n",
      "[139]\ttrain-auc:0.999994\ttrain-rmse:0.048301\n",
      "Working: 2\n",
      "[0]\ttrain-auc:0.903332+0.00141387\ttest-auc:0.887378+0.00185488\n",
      "[30]\ttrain-auc:0.975584+0.00149086\ttest-auc:0.931557+0.0020729\n",
      "[60]\ttrain-auc:0.987755+0.000892897\ttest-auc:0.932895+0.00226005\n",
      "[90]\ttrain-auc:0.993952+0.000786971\ttest-auc:0.933443+0.00201632\n",
      "[0]\ttrain-auc:0.903572\ttrain-rmse:0.424713\n",
      "[1]\ttrain-auc:0.918013\ttrain-rmse:0.378415\n",
      "[2]\ttrain-auc:0.924957\ttrain-rmse:0.349354\n",
      "[3]\ttrain-auc:0.929914\ttrain-rmse:0.330583\n",
      "[4]\ttrain-auc:0.933911\ttrain-rmse:0.318327\n",
      "[5]\ttrain-auc:0.93707\ttrain-rmse:0.309318\n",
      "[6]\ttrain-auc:0.939536\ttrain-rmse:0.303336\n",
      "[7]\ttrain-auc:0.94175\ttrain-rmse:0.298606\n",
      "[8]\ttrain-auc:0.94357\ttrain-rmse:0.295076\n",
      "[9]\ttrain-auc:0.946039\ttrain-rmse:0.291089\n",
      "[10]\ttrain-auc:0.94779\ttrain-rmse:0.288215\n",
      "[11]\ttrain-auc:0.949935\ttrain-rmse:0.284564\n",
      "[12]\ttrain-auc:0.951693\ttrain-rmse:0.281949\n",
      "[13]\ttrain-auc:0.953234\ttrain-rmse:0.279708\n",
      "[14]\ttrain-auc:0.954257\ttrain-rmse:0.278228\n",
      "[15]\ttrain-auc:0.955944\ttrain-rmse:0.275622\n",
      "[16]\ttrain-auc:0.956703\ttrain-rmse:0.274295\n",
      "[17]\ttrain-auc:0.957744\ttrain-rmse:0.272476\n",
      "[18]\ttrain-auc:0.95875\ttrain-rmse:0.270811\n",
      "[19]\ttrain-auc:0.959643\ttrain-rmse:0.269371\n",
      "[20]\ttrain-auc:0.959964\ttrain-rmse:0.268949\n",
      "[21]\ttrain-auc:0.96091\ttrain-rmse:0.267205\n",
      "[22]\ttrain-auc:0.962121\ttrain-rmse:0.264796\n",
      "[23]\ttrain-auc:0.962585\ttrain-rmse:0.264036\n",
      "[24]\ttrain-auc:0.963038\ttrain-rmse:0.263226\n",
      "[25]\ttrain-auc:0.963355\ttrain-rmse:0.262705\n",
      "[26]\ttrain-auc:0.963619\ttrain-rmse:0.262274\n",
      "[27]\ttrain-auc:0.965092\ttrain-rmse:0.259625\n",
      "[28]\ttrain-auc:0.965415\ttrain-rmse:0.259048\n",
      "[29]\ttrain-auc:0.966515\ttrain-rmse:0.257392\n",
      "[30]\ttrain-auc:0.967317\ttrain-rmse:0.255908\n",
      "[31]\ttrain-auc:0.967611\ttrain-rmse:0.255396\n",
      "[32]\ttrain-auc:0.968057\ttrain-rmse:0.254718\n",
      "[33]\ttrain-auc:0.968758\ttrain-rmse:0.253288\n",
      "[34]\ttrain-auc:0.969119\ttrain-rmse:0.252546\n",
      "[35]\ttrain-auc:0.969596\ttrain-rmse:0.251663\n",
      "[36]\ttrain-auc:0.97045\ttrain-rmse:0.250012\n",
      "[37]\ttrain-auc:0.970611\ttrain-rmse:0.249716\n",
      "[38]\ttrain-auc:0.97123\ttrain-rmse:0.248541\n",
      "[39]\ttrain-auc:0.971394\ttrain-rmse:0.248214\n",
      "[40]\ttrain-auc:0.971707\ttrain-rmse:0.247587\n",
      "[41]\ttrain-auc:0.971854\ttrain-rmse:0.247279\n",
      "[42]\ttrain-auc:0.972335\ttrain-rmse:0.246518\n",
      "[43]\ttrain-auc:0.972455\ttrain-rmse:0.246309\n",
      "[44]\ttrain-auc:0.972646\ttrain-rmse:0.245846\n",
      "[45]\ttrain-auc:0.973408\ttrain-rmse:0.244209\n",
      "[46]\ttrain-auc:0.974029\ttrain-rmse:0.243008\n",
      "[47]\ttrain-auc:0.974229\ttrain-rmse:0.242653\n",
      "[48]\ttrain-auc:0.974848\ttrain-rmse:0.241325\n",
      "[49]\ttrain-auc:0.975524\ttrain-rmse:0.239832\n",
      "[50]\ttrain-auc:0.975994\ttrain-rmse:0.238683\n",
      "[51]\ttrain-auc:0.97644\ttrain-rmse:0.237484\n",
      "[52]\ttrain-auc:0.976714\ttrain-rmse:0.236767\n",
      "[53]\ttrain-auc:0.977256\ttrain-rmse:0.235319\n",
      "[54]\ttrain-auc:0.977409\ttrain-rmse:0.235034\n",
      "[55]\ttrain-auc:0.978044\ttrain-rmse:0.233659\n",
      "[56]\ttrain-auc:0.978471\ttrain-rmse:0.232844\n",
      "[57]\ttrain-auc:0.978531\ttrain-rmse:0.232626\n",
      "[58]\ttrain-auc:0.978809\ttrain-rmse:0.231913\n",
      "[59]\ttrain-auc:0.979225\ttrain-rmse:0.230753\n",
      "[60]\ttrain-auc:0.979371\ttrain-rmse:0.230345\n",
      "[61]\ttrain-auc:0.979549\ttrain-rmse:0.229943\n",
      "[62]\ttrain-auc:0.980036\ttrain-rmse:0.228954\n",
      "[63]\ttrain-auc:0.980593\ttrain-rmse:0.227315\n",
      "[64]\ttrain-auc:0.980964\ttrain-rmse:0.226277\n",
      "[65]\ttrain-auc:0.981121\ttrain-rmse:0.225841\n",
      "[66]\ttrain-auc:0.981388\ttrain-rmse:0.225028\n",
      "[67]\ttrain-auc:0.981688\ttrain-rmse:0.224284\n",
      "[68]\ttrain-auc:0.982037\ttrain-rmse:0.223109\n",
      "[69]\ttrain-auc:0.982244\ttrain-rmse:0.222491\n",
      "[70]\ttrain-auc:0.982362\ttrain-rmse:0.222119\n",
      "[71]\ttrain-auc:0.982541\ttrain-rmse:0.221781\n",
      "[72]\ttrain-auc:0.98317\ttrain-rmse:0.220041\n",
      "[73]\ttrain-auc:0.983371\ttrain-rmse:0.219381\n",
      "[74]\ttrain-auc:0.983566\ttrain-rmse:0.218784\n",
      "[75]\ttrain-auc:0.983682\ttrain-rmse:0.218429\n",
      "[76]\ttrain-auc:0.983923\ttrain-rmse:0.217536\n",
      "[77]\ttrain-auc:0.984439\ttrain-rmse:0.215721\n",
      "[78]\ttrain-auc:0.985057\ttrain-rmse:0.214165\n",
      "[79]\ttrain-auc:0.985353\ttrain-rmse:0.213578\n",
      "Working: 3\n",
      "[0]\ttrain-auc:0.958082+0.00056063\ttest-auc:0.949134+0.00232785\n",
      "[30]\ttrain-auc:0.993936+0.000394516\ttest-auc:0.976529+0.000884\n",
      "[60]\ttrain-auc:0.998248+0.000151469\ttest-auc:0.977521+0.00104933\n",
      "[90]\ttrain-auc:0.99954+7.2555e-05\ttest-auc:0.977584+0.00108798\n",
      "[120]\ttrain-auc:0.999914+1.75563e-05\ttest-auc:0.97789+0.00109604\n",
      "[150]\ttrain-auc:0.999995+2.16025e-06\ttest-auc:0.977976+0.00109311\n",
      "[0]\ttrain-auc:0.957444\ttrain-rmse:0.398279\n",
      "[1]\ttrain-auc:0.965075\ttrain-rmse:0.335517\n",
      "[2]\ttrain-auc:0.969614\ttrain-rmse:0.293871\n",
      "[3]\ttrain-auc:0.971991\ttrain-rmse:0.267083\n",
      "[4]\ttrain-auc:0.973737\ttrain-rmse:0.251012\n",
      "[5]\ttrain-auc:0.975607\ttrain-rmse:0.239002\n",
      "[6]\ttrain-auc:0.976942\ttrain-rmse:0.230834\n",
      "[7]\ttrain-auc:0.978185\ttrain-rmse:0.224445\n",
      "[8]\ttrain-auc:0.979529\ttrain-rmse:0.219929\n",
      "[9]\ttrain-auc:0.98101\ttrain-rmse:0.215698\n",
      "[10]\ttrain-auc:0.982386\ttrain-rmse:0.211171\n",
      "[11]\ttrain-auc:0.983476\ttrain-rmse:0.20685\n",
      "[12]\ttrain-auc:0.984449\ttrain-rmse:0.203669\n",
      "[13]\ttrain-auc:0.985415\ttrain-rmse:0.200601\n",
      "[14]\ttrain-auc:0.986156\ttrain-rmse:0.197952\n",
      "[15]\ttrain-auc:0.986488\ttrain-rmse:0.196484\n",
      "[16]\ttrain-auc:0.986965\ttrain-rmse:0.194471\n",
      "[17]\ttrain-auc:0.987491\ttrain-rmse:0.192217\n",
      "[18]\ttrain-auc:0.98794\ttrain-rmse:0.190171\n",
      "[19]\ttrain-auc:0.988351\ttrain-rmse:0.188657\n",
      "[20]\ttrain-auc:0.988741\ttrain-rmse:0.187483\n",
      "[21]\ttrain-auc:0.989298\ttrain-rmse:0.185374\n",
      "[22]\ttrain-auc:0.989754\ttrain-rmse:0.183838\n",
      "[23]\ttrain-auc:0.990038\ttrain-rmse:0.18233\n",
      "[24]\ttrain-auc:0.990541\ttrain-rmse:0.179967\n",
      "[25]\ttrain-auc:0.990623\ttrain-rmse:0.179486\n",
      "[26]\ttrain-auc:0.990966\ttrain-rmse:0.177836\n",
      "[27]\ttrain-auc:0.991568\ttrain-rmse:0.175837\n",
      "[28]\ttrain-auc:0.991768\ttrain-rmse:0.174831\n",
      "[29]\ttrain-auc:0.991995\ttrain-rmse:0.17362\n",
      "[30]\ttrain-auc:0.992218\ttrain-rmse:0.172933\n",
      "[31]\ttrain-auc:0.99236\ttrain-rmse:0.171967\n",
      "[32]\ttrain-auc:0.992557\ttrain-rmse:0.170727\n",
      "[33]\ttrain-auc:0.992727\ttrain-rmse:0.169773\n",
      "[34]\ttrain-auc:0.993118\ttrain-rmse:0.167789\n",
      "[35]\ttrain-auc:0.993329\ttrain-rmse:0.166594\n",
      "[36]\ttrain-auc:0.993512\ttrain-rmse:0.165455\n",
      "[37]\ttrain-auc:0.993589\ttrain-rmse:0.165061\n",
      "[38]\ttrain-auc:0.993888\ttrain-rmse:0.163353\n",
      "[39]\ttrain-auc:0.993972\ttrain-rmse:0.162702\n",
      "[40]\ttrain-auc:0.994024\ttrain-rmse:0.162338\n",
      "[41]\ttrain-auc:0.994097\ttrain-rmse:0.161825\n",
      "[42]\ttrain-auc:0.994345\ttrain-rmse:0.160853\n",
      "[43]\ttrain-auc:0.994586\ttrain-rmse:0.159224\n",
      "[44]\ttrain-auc:0.994643\ttrain-rmse:0.158795\n",
      "[45]\ttrain-auc:0.994933\ttrain-rmse:0.157246\n",
      "[46]\ttrain-auc:0.995132\ttrain-rmse:0.156077\n",
      "[47]\ttrain-auc:0.995194\ttrain-rmse:0.155591\n",
      "[48]\ttrain-auc:0.995329\ttrain-rmse:0.154628\n",
      "[49]\ttrain-auc:0.995581\ttrain-rmse:0.153148\n",
      "[50]\ttrain-auc:0.995695\ttrain-rmse:0.152057\n",
      "[51]\ttrain-auc:0.995725\ttrain-rmse:0.151716\n",
      "[52]\ttrain-auc:0.995868\ttrain-rmse:0.150662\n",
      "[53]\ttrain-auc:0.995995\ttrain-rmse:0.149459\n",
      "[54]\ttrain-auc:0.996044\ttrain-rmse:0.148947\n",
      "[55]\ttrain-auc:0.996259\ttrain-rmse:0.147024\n",
      "[56]\ttrain-auc:0.996351\ttrain-rmse:0.146277\n",
      "[57]\ttrain-auc:0.996368\ttrain-rmse:0.146108\n",
      "[58]\ttrain-auc:0.996426\ttrain-rmse:0.145607\n",
      "[59]\ttrain-auc:0.996598\ttrain-rmse:0.143907\n",
      "[60]\ttrain-auc:0.996637\ttrain-rmse:0.143598\n",
      "[61]\ttrain-auc:0.996693\ttrain-rmse:0.14298\n",
      "[62]\ttrain-auc:0.996726\ttrain-rmse:0.142671\n",
      "[63]\ttrain-auc:0.996846\ttrain-rmse:0.141466\n",
      "[64]\ttrain-auc:0.996968\ttrain-rmse:0.139975\n",
      "[65]\ttrain-auc:0.99703\ttrain-rmse:0.139544\n",
      "[66]\ttrain-auc:0.9971\ttrain-rmse:0.139007\n",
      "[67]\ttrain-auc:0.997146\ttrain-rmse:0.138655\n",
      "[68]\ttrain-auc:0.997176\ttrain-rmse:0.138252\n",
      "[69]\ttrain-auc:0.997235\ttrain-rmse:0.137537\n",
      "[70]\ttrain-auc:0.997324\ttrain-rmse:0.136488\n",
      "[71]\ttrain-auc:0.997426\ttrain-rmse:0.135708\n",
      "[72]\ttrain-auc:0.997444\ttrain-rmse:0.135402\n",
      "[73]\ttrain-auc:0.997474\ttrain-rmse:0.135001\n",
      "[74]\ttrain-auc:0.997517\ttrain-rmse:0.134475\n",
      "[75]\ttrain-auc:0.997694\ttrain-rmse:0.13299\n",
      "[76]\ttrain-auc:0.997847\ttrain-rmse:0.131528\n",
      "[77]\ttrain-auc:0.997961\ttrain-rmse:0.129999\n",
      "[78]\ttrain-auc:0.997994\ttrain-rmse:0.129499\n",
      "[79]\ttrain-auc:0.998087\ttrain-rmse:0.128496\n",
      "[80]\ttrain-auc:0.998146\ttrain-rmse:0.127623\n",
      "[81]\ttrain-auc:0.998226\ttrain-rmse:0.126519\n",
      "[82]\ttrain-auc:0.998258\ttrain-rmse:0.126\n",
      "[83]\ttrain-auc:0.998267\ttrain-rmse:0.125837\n",
      "[84]\ttrain-auc:0.998306\ttrain-rmse:0.125265\n",
      "[85]\ttrain-auc:0.998376\ttrain-rmse:0.124051\n",
      "[86]\ttrain-auc:0.998419\ttrain-rmse:0.123387\n",
      "[87]\ttrain-auc:0.998453\ttrain-rmse:0.12269\n",
      "[88]\ttrain-auc:0.9985\ttrain-rmse:0.122116\n",
      "[89]\ttrain-auc:0.998616\ttrain-rmse:0.120916\n",
      "[90]\ttrain-auc:0.998665\ttrain-rmse:0.120153\n",
      "[91]\ttrain-auc:0.998688\ttrain-rmse:0.119631\n",
      "[92]\ttrain-auc:0.99871\ttrain-rmse:0.119327\n",
      "[93]\ttrain-auc:0.998747\ttrain-rmse:0.118667\n",
      "[94]\ttrain-auc:0.998797\ttrain-rmse:0.117655\n",
      "[95]\ttrain-auc:0.99881\ttrain-rmse:0.117404\n",
      "[96]\ttrain-auc:0.998822\ttrain-rmse:0.117184\n",
      "[97]\ttrain-auc:0.998831\ttrain-rmse:0.116953\n",
      "[98]\ttrain-auc:0.998864\ttrain-rmse:0.116457\n",
      "[99]\ttrain-auc:0.998888\ttrain-rmse:0.11606\n",
      "[100]\ttrain-auc:0.998914\ttrain-rmse:0.115299\n",
      "[101]\ttrain-auc:0.998988\ttrain-rmse:0.11427\n",
      "[102]\ttrain-auc:0.999014\ttrain-rmse:0.113691\n",
      "[103]\ttrain-auc:0.999088\ttrain-rmse:0.112186\n",
      "[104]\ttrain-auc:0.999102\ttrain-rmse:0.111842\n",
      "[105]\ttrain-auc:0.999133\ttrain-rmse:0.110919\n",
      "[106]\ttrain-auc:0.999152\ttrain-rmse:0.110545\n",
      "[107]\ttrain-auc:0.999157\ttrain-rmse:0.110374\n",
      "[108]\ttrain-auc:0.999211\ttrain-rmse:0.108965\n",
      "[109]\ttrain-auc:0.99925\ttrain-rmse:0.107927\n",
      "[110]\ttrain-auc:0.999267\ttrain-rmse:0.107387\n",
      "[111]\ttrain-auc:0.999288\ttrain-rmse:0.106715\n",
      "[112]\ttrain-auc:0.999293\ttrain-rmse:0.106564\n",
      "[113]\ttrain-auc:0.999312\ttrain-rmse:0.106206\n",
      "[114]\ttrain-auc:0.99935\ttrain-rmse:0.105464\n",
      "[115]\ttrain-auc:0.999365\ttrain-rmse:0.105084\n",
      "[116]\ttrain-auc:0.999373\ttrain-rmse:0.10484\n",
      "[117]\ttrain-auc:0.999398\ttrain-rmse:0.104228\n",
      "[118]\ttrain-auc:0.999425\ttrain-rmse:0.103402\n",
      "[119]\ttrain-auc:0.999481\ttrain-rmse:0.101959\n",
      "[120]\ttrain-auc:0.999517\ttrain-rmse:0.10093\n",
      "[121]\ttrain-auc:0.999529\ttrain-rmse:0.100414\n",
      "[122]\ttrain-auc:0.999558\ttrain-rmse:0.099573\n",
      "[123]\ttrain-auc:0.999569\ttrain-rmse:0.099264\n",
      "[124]\ttrain-auc:0.99959\ttrain-rmse:0.09836\n",
      "[125]\ttrain-auc:0.999592\ttrain-rmse:0.098206\n",
      "[126]\ttrain-auc:0.999596\ttrain-rmse:0.098061\n",
      "[127]\ttrain-auc:0.999608\ttrain-rmse:0.097438\n",
      "[128]\ttrain-auc:0.999621\ttrain-rmse:0.097036\n",
      "[129]\ttrain-auc:0.999637\ttrain-rmse:0.096307\n",
      "[130]\ttrain-auc:0.999639\ttrain-rmse:0.09614\n",
      "[131]\ttrain-auc:0.999662\ttrain-rmse:0.094987\n",
      "[132]\ttrain-auc:0.999666\ttrain-rmse:0.0947\n",
      "[133]\ttrain-auc:0.999683\ttrain-rmse:0.094023\n",
      "[134]\ttrain-auc:0.999703\ttrain-rmse:0.092985\n",
      "[135]\ttrain-auc:0.99973\ttrain-rmse:0.091836\n",
      "[136]\ttrain-auc:0.999752\ttrain-rmse:0.090813\n",
      "[137]\ttrain-auc:0.999759\ttrain-rmse:0.090427\n",
      "[138]\ttrain-auc:0.999774\ttrain-rmse:0.089479\n",
      "[139]\ttrain-auc:0.999786\ttrain-rmse:0.088715\n",
      "[140]\ttrain-auc:0.999791\ttrain-rmse:0.088323\n",
      "[141]\ttrain-auc:0.999797\ttrain-rmse:0.08779\n",
      "[142]\ttrain-auc:0.999814\ttrain-rmse:0.086834\n",
      "[143]\ttrain-auc:0.999819\ttrain-rmse:0.086367\n",
      "Working: 4\n",
      "[0]\ttrain-auc:0.89221+0.00136607\ttest-auc:0.873032+0.00211989\n",
      "[30]\ttrain-auc:0.96868+0.00138928\ttest-auc:0.909603+0.000332031\n",
      "[0]\ttrain-auc:0.890326\ttrain-rmse:0.410322\n",
      "[1]\ttrain-auc:0.902143\ttrain-rmse:0.357367\n",
      "[2]\ttrain-auc:0.909373\ttrain-rmse:0.325218\n",
      "[3]\ttrain-auc:0.914361\ttrain-rmse:0.304527\n",
      "[4]\ttrain-auc:0.917773\ttrain-rmse:0.292453\n",
      "[5]\ttrain-auc:0.919656\ttrain-rmse:0.285076\n",
      "[6]\ttrain-auc:0.921873\ttrain-rmse:0.279062\n",
      "[7]\ttrain-auc:0.924956\ttrain-rmse:0.27494\n",
      "[8]\ttrain-auc:0.927938\ttrain-rmse:0.271329\n",
      "[9]\ttrain-auc:0.931721\ttrain-rmse:0.267507\n",
      "[10]\ttrain-auc:0.933355\ttrain-rmse:0.265616\n",
      "[11]\ttrain-auc:0.936218\ttrain-rmse:0.26222\n",
      "[12]\ttrain-auc:0.938353\ttrain-rmse:0.260375\n",
      "[13]\ttrain-auc:0.940759\ttrain-rmse:0.257577\n",
      "[14]\ttrain-auc:0.943459\ttrain-rmse:0.254422\n",
      "[15]\ttrain-auc:0.945045\ttrain-rmse:0.252338\n",
      "[16]\ttrain-auc:0.946545\ttrain-rmse:0.250816\n",
      "[17]\ttrain-auc:0.947406\ttrain-rmse:0.249783\n",
      "[18]\ttrain-auc:0.949008\ttrain-rmse:0.248159\n",
      "[19]\ttrain-auc:0.950083\ttrain-rmse:0.24679\n",
      "[20]\ttrain-auc:0.951399\ttrain-rmse:0.245444\n",
      "[21]\ttrain-auc:0.952331\ttrain-rmse:0.244424\n",
      "[22]\ttrain-auc:0.952845\ttrain-rmse:0.243805\n",
      "[23]\ttrain-auc:0.953829\ttrain-rmse:0.242819\n",
      "[24]\ttrain-auc:0.955175\ttrain-rmse:0.24125\n",
      "[25]\ttrain-auc:0.955639\ttrain-rmse:0.240499\n",
      "[26]\ttrain-auc:0.956262\ttrain-rmse:0.23957\n",
      "[27]\ttrain-auc:0.957466\ttrain-rmse:0.238114\n",
      "Working: 5\n",
      "[0]\ttrain-auc:0.907012+0.000797318\ttest-auc:0.888487+0.00602469\n",
      "[30]\ttrain-auc:0.988379+0.00125198\ttest-auc:0.93756+0.0024345\n",
      "[0]\ttrain-auc:0.90377\ttrain-rmse:0.390304\n",
      "[1]\ttrain-auc:0.927188\ttrain-rmse:0.322246\n",
      "[2]\ttrain-auc:0.937131\ttrain-rmse:0.278396\n",
      "[3]\ttrain-auc:0.941521\ttrain-rmse:0.250947\n",
      "[4]\ttrain-auc:0.944862\ttrain-rmse:0.234131\n",
      "[5]\ttrain-auc:0.948466\ttrain-rmse:0.223054\n",
      "[6]\ttrain-auc:0.951274\ttrain-rmse:0.215956\n",
      "[7]\ttrain-auc:0.953785\ttrain-rmse:0.211674\n",
      "[8]\ttrain-auc:0.957009\ttrain-rmse:0.207563\n",
      "[9]\ttrain-auc:0.958296\ttrain-rmse:0.205006\n",
      "[10]\ttrain-auc:0.960487\ttrain-rmse:0.202433\n",
      "[11]\ttrain-auc:0.962679\ttrain-rmse:0.200227\n",
      "[12]\ttrain-auc:0.964296\ttrain-rmse:0.197265\n",
      "[13]\ttrain-auc:0.965831\ttrain-rmse:0.195923\n",
      "[14]\ttrain-auc:0.967199\ttrain-rmse:0.194381\n",
      "[15]\ttrain-auc:0.968546\ttrain-rmse:0.192941\n",
      "[16]\ttrain-auc:0.969449\ttrain-rmse:0.191739\n",
      "[17]\ttrain-auc:0.971037\ttrain-rmse:0.189798\n",
      "[18]\ttrain-auc:0.972015\ttrain-rmse:0.188343\n",
      "[19]\ttrain-auc:0.973439\ttrain-rmse:0.185942\n",
      "[20]\ttrain-auc:0.974496\ttrain-rmse:0.184524\n",
      "[21]\ttrain-auc:0.975609\ttrain-rmse:0.182789\n",
      "[22]\ttrain-auc:0.975968\ttrain-rmse:0.181886\n",
      "[23]\ttrain-auc:0.976756\ttrain-rmse:0.180797\n",
      "[24]\ttrain-auc:0.977668\ttrain-rmse:0.179162\n",
      "[25]\ttrain-auc:0.979051\ttrain-rmse:0.17661\n",
      "[26]\ttrain-auc:0.98005\ttrain-rmse:0.174722\n",
      "[27]\ttrain-auc:0.980317\ttrain-rmse:0.174297\n",
      "[28]\ttrain-auc:0.980774\ttrain-rmse:0.173378\n",
      "[29]\ttrain-auc:0.981113\ttrain-rmse:0.172616\n",
      "[30]\ttrain-auc:0.982091\ttrain-rmse:0.170913\n",
      "Working: 6\n",
      "[0]\ttrain-auc:0.895868+0.00166446\ttest-auc:0.877637+0.00463419\n",
      "[30]\ttrain-auc:0.96937+0.00060425\ttest-auc:0.916821+0.00262629\n",
      "[60]\ttrain-auc:0.985945+0.000581201\ttest-auc:0.917815+0.0021958\n",
      "[0]\ttrain-auc:0.894759\ttrain-rmse:0.41745\n",
      "[1]\ttrain-auc:0.906893\ttrain-rmse:0.368353\n",
      "[2]\ttrain-auc:0.914064\ttrain-rmse:0.338393\n",
      "[3]\ttrain-auc:0.917755\ttrain-rmse:0.319983\n",
      "[4]\ttrain-auc:0.921945\ttrain-rmse:0.307948\n",
      "[5]\ttrain-auc:0.924934\ttrain-rmse:0.300127\n",
      "[6]\ttrain-auc:0.927813\ttrain-rmse:0.294731\n",
      "[7]\ttrain-auc:0.930164\ttrain-rmse:0.290198\n",
      "[8]\ttrain-auc:0.932639\ttrain-rmse:0.286691\n",
      "[9]\ttrain-auc:0.935246\ttrain-rmse:0.283563\n",
      "[10]\ttrain-auc:0.937823\ttrain-rmse:0.280364\n",
      "[11]\ttrain-auc:0.939964\ttrain-rmse:0.277999\n",
      "[12]\ttrain-auc:0.942033\ttrain-rmse:0.275353\n",
      "[13]\ttrain-auc:0.943295\ttrain-rmse:0.273825\n",
      "[14]\ttrain-auc:0.945393\ttrain-rmse:0.271563\n",
      "[15]\ttrain-auc:0.947083\ttrain-rmse:0.269646\n",
      "[16]\ttrain-auc:0.947767\ttrain-rmse:0.268807\n",
      "[17]\ttrain-auc:0.94924\ttrain-rmse:0.267159\n",
      "[18]\ttrain-auc:0.950684\ttrain-rmse:0.264847\n",
      "[19]\ttrain-auc:0.952401\ttrain-rmse:0.262486\n",
      "[20]\ttrain-auc:0.953538\ttrain-rmse:0.261136\n",
      "[21]\ttrain-auc:0.954663\ttrain-rmse:0.259803\n",
      "[22]\ttrain-auc:0.954974\ttrain-rmse:0.25939\n",
      "[23]\ttrain-auc:0.956404\ttrain-rmse:0.257348\n",
      "[24]\ttrain-auc:0.958105\ttrain-rmse:0.254884\n",
      "[25]\ttrain-auc:0.959344\ttrain-rmse:0.253296\n",
      "[26]\ttrain-auc:0.959926\ttrain-rmse:0.25237\n",
      "[27]\ttrain-auc:0.96034\ttrain-rmse:0.251799\n",
      "[28]\ttrain-auc:0.961173\ttrain-rmse:0.250438\n",
      "[29]\ttrain-auc:0.961796\ttrain-rmse:0.24967\n",
      "[30]\ttrain-auc:0.962369\ttrain-rmse:0.24866\n",
      "[31]\ttrain-auc:0.963225\ttrain-rmse:0.24737\n",
      "[32]\ttrain-auc:0.964673\ttrain-rmse:0.245296\n",
      "[33]\ttrain-auc:0.964835\ttrain-rmse:0.245035\n",
      "[34]\ttrain-auc:0.965992\ttrain-rmse:0.243246\n",
      "[35]\ttrain-auc:0.966262\ttrain-rmse:0.242769\n",
      "[36]\ttrain-auc:0.966483\ttrain-rmse:0.242252\n",
      "[37]\ttrain-auc:0.966974\ttrain-rmse:0.241388\n",
      "[38]\ttrain-auc:0.967256\ttrain-rmse:0.241056\n",
      "[39]\ttrain-auc:0.967575\ttrain-rmse:0.240482\n",
      "[40]\ttrain-auc:0.968596\ttrain-rmse:0.238778\n",
      "[41]\ttrain-auc:0.969028\ttrain-rmse:0.23807\n",
      "[42]\ttrain-auc:0.970153\ttrain-rmse:0.23602\n",
      "[43]\ttrain-auc:0.97038\ttrain-rmse:0.235617\n",
      "[44]\ttrain-auc:0.970956\ttrain-rmse:0.234577\n",
      "[45]\ttrain-auc:0.971915\ttrain-rmse:0.232687\n",
      "[46]\ttrain-auc:0.972048\ttrain-rmse:0.232393\n",
      "[47]\ttrain-auc:0.972645\ttrain-rmse:0.231324\n",
      "[48]\ttrain-auc:0.973302\ttrain-rmse:0.230118\n",
      "[49]\ttrain-auc:0.974144\ttrain-rmse:0.228777\n",
      "[50]\ttrain-auc:0.974364\ttrain-rmse:0.228359\n",
      "[51]\ttrain-auc:0.974689\ttrain-rmse:0.227746\n",
      "[52]\ttrain-auc:0.975047\ttrain-rmse:0.227046\n",
      "[53]\ttrain-auc:0.975237\ttrain-rmse:0.226667\n",
      "[54]\ttrain-auc:0.975704\ttrain-rmse:0.225626\n",
      "[55]\ttrain-auc:0.976156\ttrain-rmse:0.22466\n",
      "[56]\ttrain-auc:0.976346\ttrain-rmse:0.224237\n",
      "[57]\ttrain-auc:0.976802\ttrain-rmse:0.223182\n",
      "[58]\ttrain-auc:0.976978\ttrain-rmse:0.222856\n",
      "[59]\ttrain-auc:0.977634\ttrain-rmse:0.221369\n",
      "[60]\ttrain-auc:0.978254\ttrain-rmse:0.219932\n",
      "[61]\ttrain-auc:0.978601\ttrain-rmse:0.219167\n",
      "[62]\ttrain-auc:0.978967\ttrain-rmse:0.218501\n",
      "[63]\ttrain-auc:0.979211\ttrain-rmse:0.218084\n",
      "[64]\ttrain-auc:0.979715\ttrain-rmse:0.217024\n",
      "[65]\ttrain-auc:0.980012\ttrain-rmse:0.216302\n",
      "[66]\ttrain-auc:0.98042\ttrain-rmse:0.215552\n",
      "Working: 7\n",
      "[0]\ttrain-auc:0.8378+0.00186631\ttest-auc:0.80479+0.00178612\n",
      "[30]\ttrain-auc:0.962311+0.000794927\ttest-auc:0.85599+0.0027519\n",
      "[60]\ttrain-auc:0.987462+0.00167186\ttest-auc:0.858379+0.00155749\n",
      "[90]\ttrain-auc:0.996619+0.000202427\ttest-auc:0.85856+0.00108414\n",
      "[0]\ttrain-auc:0.833518\ttrain-rmse:0.406497\n",
      "[1]\ttrain-auc:0.852138\ttrain-rmse:0.351114\n",
      "[2]\ttrain-auc:0.861267\ttrain-rmse:0.318491\n",
      "[3]\ttrain-auc:0.868793\ttrain-rmse:0.299271\n",
      "[4]\ttrain-auc:0.873503\ttrain-rmse:0.287568\n",
      "[5]\ttrain-auc:0.879906\ttrain-rmse:0.280071\n",
      "[6]\ttrain-auc:0.885535\ttrain-rmse:0.274641\n",
      "[7]\ttrain-auc:0.890989\ttrain-rmse:0.270681\n",
      "[8]\ttrain-auc:0.895943\ttrain-rmse:0.267783\n",
      "[9]\ttrain-auc:0.901182\ttrain-rmse:0.264523\n",
      "[10]\ttrain-auc:0.904946\ttrain-rmse:0.262965\n",
      "[11]\ttrain-auc:0.909043\ttrain-rmse:0.260152\n",
      "[12]\ttrain-auc:0.911817\ttrain-rmse:0.25859\n",
      "[13]\ttrain-auc:0.915914\ttrain-rmse:0.25633\n",
      "[14]\ttrain-auc:0.918877\ttrain-rmse:0.254891\n",
      "[15]\ttrain-auc:0.922802\ttrain-rmse:0.25261\n",
      "[16]\ttrain-auc:0.924536\ttrain-rmse:0.251936\n",
      "[17]\ttrain-auc:0.926311\ttrain-rmse:0.250696\n",
      "[18]\ttrain-auc:0.928754\ttrain-rmse:0.249359\n",
      "[19]\ttrain-auc:0.930809\ttrain-rmse:0.247786\n",
      "[20]\ttrain-auc:0.932359\ttrain-rmse:0.24692\n",
      "[21]\ttrain-auc:0.935267\ttrain-rmse:0.245148\n",
      "[22]\ttrain-auc:0.936492\ttrain-rmse:0.244273\n",
      "[23]\ttrain-auc:0.937511\ttrain-rmse:0.243397\n",
      "[24]\ttrain-auc:0.939029\ttrain-rmse:0.242157\n",
      "[25]\ttrain-auc:0.941705\ttrain-rmse:0.240685\n",
      "[26]\ttrain-auc:0.943083\ttrain-rmse:0.239716\n",
      "[27]\ttrain-auc:0.94387\ttrain-rmse:0.23925\n",
      "[28]\ttrain-auc:0.945638\ttrain-rmse:0.238079\n",
      "[29]\ttrain-auc:0.946431\ttrain-rmse:0.237464\n",
      "[30]\ttrain-auc:0.948777\ttrain-rmse:0.235503\n",
      "[31]\ttrain-auc:0.950311\ttrain-rmse:0.234021\n",
      "[32]\ttrain-auc:0.95072\ttrain-rmse:0.233578\n",
      "[33]\ttrain-auc:0.952316\ttrain-rmse:0.232387\n",
      "[34]\ttrain-auc:0.95374\ttrain-rmse:0.230866\n",
      "[35]\ttrain-auc:0.954154\ttrain-rmse:0.230519\n",
      "[36]\ttrain-auc:0.954927\ttrain-rmse:0.229697\n",
      "[37]\ttrain-auc:0.955849\ttrain-rmse:0.22898\n",
      "[38]\ttrain-auc:0.957667\ttrain-rmse:0.227123\n",
      "[39]\ttrain-auc:0.958277\ttrain-rmse:0.226567\n",
      "[40]\ttrain-auc:0.959338\ttrain-rmse:0.225575\n",
      "[41]\ttrain-auc:0.960333\ttrain-rmse:0.224636\n",
      "[42]\ttrain-auc:0.961785\ttrain-rmse:0.223211\n",
      "[43]\ttrain-auc:0.962143\ttrain-rmse:0.222934\n",
      "[44]\ttrain-auc:0.962395\ttrain-rmse:0.222662\n",
      "[45]\ttrain-auc:0.964329\ttrain-rmse:0.220395\n",
      "[46]\ttrain-auc:0.965681\ttrain-rmse:0.21884\n",
      "[47]\ttrain-auc:0.966244\ttrain-rmse:0.21825\n",
      "[48]\ttrain-auc:0.966696\ttrain-rmse:0.217859\n",
      "[49]\ttrain-auc:0.967206\ttrain-rmse:0.217274\n",
      "[50]\ttrain-auc:0.967352\ttrain-rmse:0.217157\n",
      "[51]\ttrain-auc:0.967627\ttrain-rmse:0.216806\n",
      "[52]\ttrain-auc:0.968901\ttrain-rmse:0.215483\n",
      "[53]\ttrain-auc:0.970312\ttrain-rmse:0.213786\n",
      "[54]\ttrain-auc:0.970776\ttrain-rmse:0.213218\n",
      "[55]\ttrain-auc:0.972044\ttrain-rmse:0.211691\n",
      "[56]\ttrain-auc:0.972526\ttrain-rmse:0.211138\n",
      "[57]\ttrain-auc:0.973125\ttrain-rmse:0.210338\n",
      "[58]\ttrain-auc:0.973475\ttrain-rmse:0.209854\n",
      "[59]\ttrain-auc:0.974478\ttrain-rmse:0.208634\n",
      "[60]\ttrain-auc:0.974755\ttrain-rmse:0.208186\n",
      "[61]\ttrain-auc:0.975017\ttrain-rmse:0.207724\n",
      "[62]\ttrain-auc:0.975716\ttrain-rmse:0.206794\n",
      "[63]\ttrain-auc:0.975926\ttrain-rmse:0.206538\n",
      "[64]\ttrain-auc:0.976056\ttrain-rmse:0.206352\n",
      "[65]\ttrain-auc:0.976212\ttrain-rmse:0.206105\n",
      "[66]\ttrain-auc:0.976948\ttrain-rmse:0.204896\n",
      "[67]\ttrain-auc:0.977262\ttrain-rmse:0.204474\n",
      "[68]\ttrain-auc:0.977352\ttrain-rmse:0.204278\n",
      "[69]\ttrain-auc:0.977715\ttrain-rmse:0.203707\n",
      "[70]\ttrain-auc:0.978049\ttrain-rmse:0.203189\n",
      "[71]\ttrain-auc:0.978383\ttrain-rmse:0.202801\n",
      "[72]\ttrain-auc:0.9794\ttrain-rmse:0.201066\n",
      "Working: 8\n",
      "[0]\ttrain-auc:0.5+0\ttest-auc:0.5+0\n",
      "[30]\ttrain-auc:0.999851+0.00018097\ttest-auc:0.884619+0.00828337\n",
      "[60]\ttrain-auc:1+0\ttest-auc:0.886711+0.0104219\n",
      "[90]\ttrain-auc:1+0\ttest-auc:0.887449+0.00433262\n",
      "[0]\ttrain-auc:0.5\ttrain-rmse:0.357863\n",
      "[1]\ttrain-auc:0.746786\ttrain-rmse:0.2634\n",
      "[2]\ttrain-auc:0.775023\ttrain-rmse:0.198085\n",
      "[3]\ttrain-auc:0.875474\ttrain-rmse:0.152748\n",
      "[4]\ttrain-auc:0.877042\ttrain-rmse:0.121782\n",
      "[5]\ttrain-auc:0.887789\ttrain-rmse:0.100932\n",
      "[6]\ttrain-auc:0.903996\ttrain-rmse:0.087465\n",
      "[7]\ttrain-auc:0.913809\ttrain-rmse:0.078863\n",
      "[8]\ttrain-auc:0.943765\ttrain-rmse:0.07357\n",
      "[9]\ttrain-auc:0.958664\ttrain-rmse:0.070389\n",
      "[10]\ttrain-auc:0.961277\ttrain-rmse:0.068376\n",
      "[11]\ttrain-auc:0.97238\ttrain-rmse:0.066583\n",
      "[12]\ttrain-auc:0.976066\ttrain-rmse:0.065344\n",
      "[13]\ttrain-auc:0.979693\ttrain-rmse:0.064229\n",
      "[14]\ttrain-auc:0.983444\ttrain-rmse:0.062695\n",
      "[15]\ttrain-auc:0.985319\ttrain-rmse:0.061875\n",
      "[16]\ttrain-auc:0.988181\ttrain-rmse:0.061481\n",
      "[17]\ttrain-auc:0.98928\ttrain-rmse:0.060842\n",
      "[18]\ttrain-auc:0.98977\ttrain-rmse:0.060164\n",
      "[19]\ttrain-auc:0.991579\ttrain-rmse:0.059112\n",
      "[20]\ttrain-auc:0.993968\ttrain-rmse:0.057478\n",
      "[21]\ttrain-auc:0.994557\ttrain-rmse:0.056949\n",
      "[22]\ttrain-auc:0.996203\ttrain-rmse:0.053768\n",
      "[23]\ttrain-auc:0.996921\ttrain-rmse:0.052279\n",
      "[24]\ttrain-auc:0.997342\ttrain-rmse:0.051406\n",
      "[25]\ttrain-auc:0.997711\ttrain-rmse:0.050461\n",
      "[26]\ttrain-auc:0.997837\ttrain-rmse:0.050189\n",
      "[27]\ttrain-auc:0.998169\ttrain-rmse:0.048858\n",
      "[28]\ttrain-auc:0.998418\ttrain-rmse:0.048289\n",
      "[29]\ttrain-auc:0.998621\ttrain-rmse:0.047024\n",
      "[30]\ttrain-auc:0.998704\ttrain-rmse:0.04647\n",
      "[31]\ttrain-auc:0.999\ttrain-rmse:0.045554\n",
      "[32]\ttrain-auc:0.999132\ttrain-rmse:0.044343\n",
      "[33]\ttrain-auc:0.99938\ttrain-rmse:0.042017\n",
      "[34]\ttrain-auc:0.999439\ttrain-rmse:0.041118\n",
      "[35]\ttrain-auc:0.999676\ttrain-rmse:0.039914\n",
      "[36]\ttrain-auc:0.999768\ttrain-rmse:0.038633\n",
      "[37]\ttrain-auc:0.999778\ttrain-rmse:0.038074\n",
      "[38]\ttrain-auc:0.999893\ttrain-rmse:0.036475\n",
      "[39]\ttrain-auc:0.999931\ttrain-rmse:0.034315\n",
      "[40]\ttrain-auc:0.999946\ttrain-rmse:0.033952\n",
      "[41]\ttrain-auc:0.999948\ttrain-rmse:0.033057\n",
      "[42]\ttrain-auc:0.999982\ttrain-rmse:0.032012\n",
      "[43]\ttrain-auc:0.999995\ttrain-rmse:0.030238\n",
      "[44]\ttrain-auc:0.999997\ttrain-rmse:0.02953\n",
      "[45]\ttrain-auc:0.999997\ttrain-rmse:0.029247\n",
      "[46]\ttrain-auc:0.999998\ttrain-rmse:0.028063\n",
      "[47]\ttrain-auc:0.999999\ttrain-rmse:0.027441\n",
      "[48]\ttrain-auc:0.999998\ttrain-rmse:0.026784\n",
      "[49]\ttrain-auc:0.999999\ttrain-rmse:0.025673\n",
      "[50]\ttrain-auc:1\ttrain-rmse:0.024942\n",
      "[51]\ttrain-auc:1\ttrain-rmse:0.024301\n",
      "[52]\ttrain-auc:1\ttrain-rmse:0.023307\n",
      "[53]\ttrain-auc:1\ttrain-rmse:0.022911\n",
      "[54]\ttrain-auc:1\ttrain-rmse:0.021979\n",
      "[55]\ttrain-auc:1\ttrain-rmse:0.021232\n",
      "[56]\ttrain-auc:1\ttrain-rmse:0.020695\n",
      "[57]\ttrain-auc:1\ttrain-rmse:0.019919\n",
      "[58]\ttrain-auc:1\ttrain-rmse:0.01877\n",
      "[59]\ttrain-auc:1\ttrain-rmse:0.018011\n",
      "[60]\ttrain-auc:1\ttrain-rmse:0.017208\n",
      "[61]\ttrain-auc:1\ttrain-rmse:0.016873\n",
      "[62]\ttrain-auc:1\ttrain-rmse:0.016539\n",
      "[63]\ttrain-auc:1\ttrain-rmse:0.015859\n",
      "[64]\ttrain-auc:1\ttrain-rmse:0.015551\n",
      "[65]\ttrain-auc:1\ttrain-rmse:0.015276\n",
      "[66]\ttrain-auc:1\ttrain-rmse:0.014932\n",
      "[67]\ttrain-auc:1\ttrain-rmse:0.014336\n",
      "[68]\ttrain-auc:1\ttrain-rmse:0.013715\n",
      "[69]\ttrain-auc:1\ttrain-rmse:0.013101\n",
      "[70]\ttrain-auc:1\ttrain-rmse:0.012597\n",
      "[71]\ttrain-auc:1\ttrain-rmse:0.012287\n",
      "[72]\ttrain-auc:1\ttrain-rmse:0.011759\n",
      "[73]\ttrain-auc:1\ttrain-rmse:0.011516\n",
      "[74]\ttrain-auc:1\ttrain-rmse:0.011308\n",
      "[75]\ttrain-auc:1\ttrain-rmse:0.011008\n",
      "[76]\ttrain-auc:1\ttrain-rmse:0.010462\n",
      "[77]\ttrain-auc:1\ttrain-rmse:0.010063\n",
      "[78]\ttrain-auc:1\ttrain-rmse:0.009714\n",
      "[79]\ttrain-auc:1\ttrain-rmse:0.009277\n",
      "[80]\ttrain-auc:1\ttrain-rmse:0.009009\n",
      "[81]\ttrain-auc:1\ttrain-rmse:0.00894\n",
      "[82]\ttrain-auc:1\ttrain-rmse:0.008664\n",
      "[83]\ttrain-auc:1\ttrain-rmse:0.008472\n",
      "[84]\ttrain-auc:1\ttrain-rmse:0.008298\n",
      "Working: 9\n",
      "[0]\ttrain-auc:0.948899+0.00472953\ttest-auc:0.937258+0.00831292\n",
      "[30]\ttrain-auc:0.999106+3.00111e-05\ttest-auc:0.989027+0.00144966\n",
      "[60]\ttrain-auc:0.999954+9.46338e-06\ttest-auc:0.989795+0.00137239\n",
      "[90]\ttrain-auc:1+4.71405e-07\ttest-auc:0.990154+0.00146169\n",
      "[120]\ttrain-auc:1+0\ttest-auc:0.990285+0.00138427\n",
      "[0]\ttrain-auc:0.944369\ttrain-rmse:0.367441\n",
      "[1]\ttrain-auc:0.967594\ttrain-rmse:0.281628\n",
      "[2]\ttrain-auc:0.978027\ttrain-rmse:0.223129\n",
      "[3]\ttrain-auc:0.978748\ttrain-rmse:0.184259\n",
      "[4]\ttrain-auc:0.982652\ttrain-rmse:0.158549\n",
      "[5]\ttrain-auc:0.983817\ttrain-rmse:0.141109\n",
      "[6]\ttrain-auc:0.98885\ttrain-rmse:0.129818\n",
      "[7]\ttrain-auc:0.989995\ttrain-rmse:0.122231\n",
      "[8]\ttrain-auc:0.992859\ttrain-rmse:0.11638\n",
      "[9]\ttrain-auc:0.99332\ttrain-rmse:0.112733\n",
      "[10]\ttrain-auc:0.99411\ttrain-rmse:0.108684\n",
      "[11]\ttrain-auc:0.995198\ttrain-rmse:0.106349\n",
      "[12]\ttrain-auc:0.995626\ttrain-rmse:0.104219\n",
      "[13]\ttrain-auc:0.996285\ttrain-rmse:0.101671\n",
      "[14]\ttrain-auc:0.996404\ttrain-rmse:0.100779\n",
      "[15]\ttrain-auc:0.996788\ttrain-rmse:0.099033\n",
      "[16]\ttrain-auc:0.996934\ttrain-rmse:0.098158\n",
      "[17]\ttrain-auc:0.997121\ttrain-rmse:0.096742\n",
      "[18]\ttrain-auc:0.997204\ttrain-rmse:0.09608\n",
      "[19]\ttrain-auc:0.997307\ttrain-rmse:0.095445\n",
      "[20]\ttrain-auc:0.997397\ttrain-rmse:0.094717\n",
      "[21]\ttrain-auc:0.997523\ttrain-rmse:0.093627\n",
      "[22]\ttrain-auc:0.997627\ttrain-rmse:0.092668\n",
      "[23]\ttrain-auc:0.997742\ttrain-rmse:0.091508\n",
      "[24]\ttrain-auc:0.997848\ttrain-rmse:0.090382\n",
      "[25]\ttrain-auc:0.997997\ttrain-rmse:0.088956\n",
      "[26]\ttrain-auc:0.998088\ttrain-rmse:0.088035\n",
      "[27]\ttrain-auc:0.998259\ttrain-rmse:0.086592\n",
      "[28]\ttrain-auc:0.998375\ttrain-rmse:0.085227\n",
      "[29]\ttrain-auc:0.998456\ttrain-rmse:0.084258\n",
      "[30]\ttrain-auc:0.99854\ttrain-rmse:0.083269\n",
      "[31]\ttrain-auc:0.998616\ttrain-rmse:0.082175\n",
      "[32]\ttrain-auc:0.998656\ttrain-rmse:0.081698\n",
      "[33]\ttrain-auc:0.998698\ttrain-rmse:0.081048\n",
      "[34]\ttrain-auc:0.998778\ttrain-rmse:0.080065\n",
      "[35]\ttrain-auc:0.998824\ttrain-rmse:0.079289\n",
      "[36]\ttrain-auc:0.998863\ttrain-rmse:0.078796\n",
      "[37]\ttrain-auc:0.998958\ttrain-rmse:0.077304\n",
      "[38]\ttrain-auc:0.999\ttrain-rmse:0.076746\n",
      "[39]\ttrain-auc:0.999061\ttrain-rmse:0.075822\n",
      "[40]\ttrain-auc:0.9991\ttrain-rmse:0.07528\n",
      "[41]\ttrain-auc:0.999131\ttrain-rmse:0.074647\n",
      "[42]\ttrain-auc:0.999195\ttrain-rmse:0.07354\n",
      "[43]\ttrain-auc:0.999233\ttrain-rmse:0.07279\n",
      "[44]\ttrain-auc:0.999263\ttrain-rmse:0.072073\n",
      "[45]\ttrain-auc:0.999308\ttrain-rmse:0.070989\n",
      "[46]\ttrain-auc:0.999362\ttrain-rmse:0.069915\n",
      "[47]\ttrain-auc:0.999396\ttrain-rmse:0.069172\n",
      "[48]\ttrain-auc:0.999427\ttrain-rmse:0.068454\n",
      "[49]\ttrain-auc:0.999464\ttrain-rmse:0.067958\n",
      "[50]\ttrain-auc:0.999476\ttrain-rmse:0.067678\n",
      "[51]\ttrain-auc:0.999505\ttrain-rmse:0.067156\n",
      "[52]\ttrain-auc:0.999529\ttrain-rmse:0.066541\n",
      "[53]\ttrain-auc:0.999545\ttrain-rmse:0.06608\n",
      "[54]\ttrain-auc:0.999578\ttrain-rmse:0.065365\n",
      "[55]\ttrain-auc:0.999593\ttrain-rmse:0.065049\n",
      "[56]\ttrain-auc:0.999615\ttrain-rmse:0.064298\n",
      "[57]\ttrain-auc:0.999649\ttrain-rmse:0.063361\n",
      "[58]\ttrain-auc:0.99966\ttrain-rmse:0.062974\n",
      "[59]\ttrain-auc:0.999672\ttrain-rmse:0.062653\n",
      "[60]\ttrain-auc:0.999711\ttrain-rmse:0.061529\n",
      "[61]\ttrain-auc:0.999729\ttrain-rmse:0.060821\n",
      "[62]\ttrain-auc:0.99975\ttrain-rmse:0.06015\n",
      "[63]\ttrain-auc:0.999764\ttrain-rmse:0.059508\n",
      "[64]\ttrain-auc:0.999781\ttrain-rmse:0.058904\n",
      "[65]\ttrain-auc:0.999792\ttrain-rmse:0.058433\n",
      "[66]\ttrain-auc:0.999814\ttrain-rmse:0.057515\n",
      "[67]\ttrain-auc:0.999832\ttrain-rmse:0.056692\n",
      "[68]\ttrain-auc:0.999848\ttrain-rmse:0.055961\n",
      "[69]\ttrain-auc:0.999871\ttrain-rmse:0.054527\n",
      "[70]\ttrain-auc:0.999877\ttrain-rmse:0.05427\n",
      "[71]\ttrain-auc:0.999895\ttrain-rmse:0.053101\n",
      "[72]\ttrain-auc:0.999906\ttrain-rmse:0.052398\n",
      "[73]\ttrain-auc:0.999911\ttrain-rmse:0.052069\n",
      "[74]\ttrain-auc:0.999915\ttrain-rmse:0.051737\n",
      "[75]\ttrain-auc:0.999921\ttrain-rmse:0.051296\n",
      "[76]\ttrain-auc:0.999926\ttrain-rmse:0.050737\n",
      "[77]\ttrain-auc:0.999934\ttrain-rmse:0.050061\n",
      "[78]\ttrain-auc:0.999938\ttrain-rmse:0.049643\n",
      "[79]\ttrain-auc:0.99994\ttrain-rmse:0.049464\n",
      "[80]\ttrain-auc:0.999941\ttrain-rmse:0.049337\n",
      "[81]\ttrain-auc:0.999946\ttrain-rmse:0.048935\n",
      "[82]\ttrain-auc:0.999949\ttrain-rmse:0.048526\n",
      "[83]\ttrain-auc:0.99995\ttrain-rmse:0.048249\n",
      "[84]\ttrain-auc:0.999957\ttrain-rmse:0.047359\n",
      "[85]\ttrain-auc:0.99996\ttrain-rmse:0.046765\n",
      "[86]\ttrain-auc:0.999962\ttrain-rmse:0.046399\n",
      "[87]\ttrain-auc:0.999967\ttrain-rmse:0.045602\n",
      "[88]\ttrain-auc:0.999969\ttrain-rmse:0.045306\n",
      "[89]\ttrain-auc:0.999971\ttrain-rmse:0.044996\n",
      "[90]\ttrain-auc:0.999974\ttrain-rmse:0.044768\n",
      "[91]\ttrain-auc:0.999976\ttrain-rmse:0.044341\n",
      "[92]\ttrain-auc:0.999977\ttrain-rmse:0.044188\n",
      "[93]\ttrain-auc:0.999977\ttrain-rmse:0.044054\n",
      "[94]\ttrain-auc:0.99998\ttrain-rmse:0.04366\n",
      "[95]\ttrain-auc:0.99998\ttrain-rmse:0.043357\n",
      "[96]\ttrain-auc:0.999983\ttrain-rmse:0.042843\n",
      "[97]\ttrain-auc:0.999983\ttrain-rmse:0.042462\n",
      "[98]\ttrain-auc:0.999987\ttrain-rmse:0.041685\n",
      "[99]\ttrain-auc:0.999988\ttrain-rmse:0.04144\n",
      "[100]\ttrain-auc:0.999989\ttrain-rmse:0.041092\n",
      "[101]\ttrain-auc:0.99999\ttrain-rmse:0.040647\n",
      "[102]\ttrain-auc:0.99999\ttrain-rmse:0.040501\n",
      "[103]\ttrain-auc:0.999991\ttrain-rmse:0.039955\n",
      "[104]\ttrain-auc:0.999992\ttrain-rmse:0.039407\n",
      "[105]\ttrain-auc:0.999993\ttrain-rmse:0.039226\n",
      "[106]\ttrain-auc:0.999994\ttrain-rmse:0.038935\n",
      "[107]\ttrain-auc:0.999994\ttrain-rmse:0.038606\n",
      "[108]\ttrain-auc:0.999995\ttrain-rmse:0.038324\n",
      "[109]\ttrain-auc:0.999995\ttrain-rmse:0.03821\n",
      "[110]\ttrain-auc:0.999996\ttrain-rmse:0.037674\n",
      "Working: 10\n",
      "[0]\ttrain-auc:0.954687+0.000785762\ttest-auc:0.940279+0.00369861\n",
      "[30]\ttrain-auc:0.996795+0.000267379\ttest-auc:0.977887+0.00128414\n",
      "[60]\ttrain-auc:0.999589+3.64265e-05\ttest-auc:0.978901+0.00135613\n",
      "[90]\ttrain-auc:0.999985+3.26599e-06\ttest-auc:0.979429+0.00168669\n",
      "[120]\ttrain-auc:1+0\ttest-auc:0.980012+0.00161657\n",
      "[150]\ttrain-auc:1+0\ttest-auc:0.980212+0.00151295\n",
      "[180]\ttrain-auc:1+0\ttest-auc:0.980559+0.00141508\n",
      "[210]\ttrain-auc:1+0\ttest-auc:0.980692+0.00128743\n",
      "[240]\ttrain-auc:1+0\ttest-auc:0.980822+0.00122301\n",
      "[270]\ttrain-auc:1+0\ttest-auc:0.981101+0.0012007\n",
      "[300]\ttrain-auc:1+0\ttest-auc:0.981197+0.0011768\n",
      "[330]\ttrain-auc:1+0\ttest-auc:0.981274+0.00114821\n",
      "[360]\ttrain-auc:1+0\ttest-auc:0.981298+0.00113269\n",
      "[0]\ttrain-auc:0.955563\ttrain-rmse:0.3897\n",
      "[1]\ttrain-auc:0.966356\ttrain-rmse:0.320541\n",
      "[2]\ttrain-auc:0.970364\ttrain-rmse:0.275341\n",
      "[3]\ttrain-auc:0.975356\ttrain-rmse:0.24528\n",
      "[4]\ttrain-auc:0.977925\ttrain-rmse:0.224347\n",
      "[5]\ttrain-auc:0.980109\ttrain-rmse:0.210254\n",
      "[6]\ttrain-auc:0.981771\ttrain-rmse:0.200376\n",
      "[7]\ttrain-auc:0.983014\ttrain-rmse:0.193452\n",
      "[8]\ttrain-auc:0.984245\ttrain-rmse:0.188232\n",
      "[9]\ttrain-auc:0.985309\ttrain-rmse:0.183519\n",
      "[10]\ttrain-auc:0.986042\ttrain-rmse:0.180292\n",
      "[11]\ttrain-auc:0.986775\ttrain-rmse:0.176651\n",
      "[12]\ttrain-auc:0.98757\ttrain-rmse:0.17257\n",
      "[13]\ttrain-auc:0.988479\ttrain-rmse:0.169318\n",
      "[14]\ttrain-auc:0.989119\ttrain-rmse:0.166631\n",
      "[15]\ttrain-auc:0.98987\ttrain-rmse:0.164168\n",
      "[16]\ttrain-auc:0.990529\ttrain-rmse:0.161851\n",
      "[17]\ttrain-auc:0.991001\ttrain-rmse:0.159923\n",
      "[18]\ttrain-auc:0.991713\ttrain-rmse:0.156708\n",
      "[19]\ttrain-auc:0.992185\ttrain-rmse:0.154197\n",
      "[20]\ttrain-auc:0.992835\ttrain-rmse:0.151724\n",
      "[21]\ttrain-auc:0.993023\ttrain-rmse:0.150633\n",
      "[22]\ttrain-auc:0.993439\ttrain-rmse:0.14893\n",
      "[23]\ttrain-auc:0.993802\ttrain-rmse:0.146843\n",
      "[24]\ttrain-auc:0.994039\ttrain-rmse:0.145727\n",
      "[25]\ttrain-auc:0.99419\ttrain-rmse:0.144931\n",
      "[26]\ttrain-auc:0.994397\ttrain-rmse:0.144129\n",
      "[27]\ttrain-auc:0.99477\ttrain-rmse:0.141762\n",
      "[28]\ttrain-auc:0.995082\ttrain-rmse:0.140293\n",
      "[29]\ttrain-auc:0.995244\ttrain-rmse:0.13914\n",
      "[30]\ttrain-auc:0.995445\ttrain-rmse:0.137856\n",
      "[31]\ttrain-auc:0.995504\ttrain-rmse:0.137406\n",
      "[32]\ttrain-auc:0.995802\ttrain-rmse:0.135523\n",
      "[33]\ttrain-auc:0.995977\ttrain-rmse:0.134302\n",
      "[34]\ttrain-auc:0.996122\ttrain-rmse:0.133227\n",
      "[35]\ttrain-auc:0.996384\ttrain-rmse:0.13148\n",
      "[36]\ttrain-auc:0.996491\ttrain-rmse:0.130696\n",
      "[37]\ttrain-auc:0.996557\ttrain-rmse:0.129958\n",
      "[38]\ttrain-auc:0.996649\ttrain-rmse:0.12891\n",
      "[39]\ttrain-auc:0.996734\ttrain-rmse:0.128344\n",
      "[40]\ttrain-auc:0.996966\ttrain-rmse:0.126406\n",
      "[41]\ttrain-auc:0.997044\ttrain-rmse:0.125776\n",
      "[42]\ttrain-auc:0.99708\ttrain-rmse:0.125345\n",
      "[43]\ttrain-auc:0.99711\ttrain-rmse:0.124995\n",
      "[44]\ttrain-auc:0.997232\ttrain-rmse:0.123998\n",
      "[45]\ttrain-auc:0.997452\ttrain-rmse:0.12192\n",
      "[46]\ttrain-auc:0.997585\ttrain-rmse:0.121044\n",
      "[47]\ttrain-auc:0.997737\ttrain-rmse:0.119319\n",
      "[48]\ttrain-auc:0.997844\ttrain-rmse:0.11778\n",
      "[49]\ttrain-auc:0.997918\ttrain-rmse:0.116777\n",
      "[50]\ttrain-auc:0.997979\ttrain-rmse:0.116052\n",
      "[51]\ttrain-auc:0.998038\ttrain-rmse:0.115182\n",
      "[52]\ttrain-auc:0.998101\ttrain-rmse:0.114651\n",
      "[53]\ttrain-auc:0.998155\ttrain-rmse:0.113784\n",
      "[54]\ttrain-auc:0.998213\ttrain-rmse:0.113146\n",
      "[55]\ttrain-auc:0.998247\ttrain-rmse:0.112698\n",
      "[56]\ttrain-auc:0.99835\ttrain-rmse:0.111628\n",
      "[57]\ttrain-auc:0.998456\ttrain-rmse:0.110075\n",
      "[58]\ttrain-auc:0.998482\ttrain-rmse:0.109659\n",
      "[59]\ttrain-auc:0.998503\ttrain-rmse:0.109284\n",
      "[60]\ttrain-auc:0.998571\ttrain-rmse:0.108134\n",
      "[61]\ttrain-auc:0.998604\ttrain-rmse:0.107677\n",
      "[62]\ttrain-auc:0.998631\ttrain-rmse:0.10721\n",
      "[63]\ttrain-auc:0.998679\ttrain-rmse:0.10647\n",
      "[64]\ttrain-auc:0.998744\ttrain-rmse:0.105661\n",
      "[65]\ttrain-auc:0.998835\ttrain-rmse:0.104444\n",
      "[66]\ttrain-auc:0.998898\ttrain-rmse:0.103054\n",
      "[67]\ttrain-auc:0.998963\ttrain-rmse:0.101863\n",
      "[68]\ttrain-auc:0.998977\ttrain-rmse:0.101364\n",
      "[69]\ttrain-auc:0.999088\ttrain-rmse:0.099372\n",
      "[70]\ttrain-auc:0.999126\ttrain-rmse:0.098447\n",
      "[71]\ttrain-auc:0.999146\ttrain-rmse:0.098012\n",
      "[72]\ttrain-auc:0.999159\ttrain-rmse:0.097651\n",
      "[73]\ttrain-auc:0.999179\ttrain-rmse:0.097177\n",
      "[74]\ttrain-auc:0.999207\ttrain-rmse:0.096568\n",
      "[75]\ttrain-auc:0.999233\ttrain-rmse:0.096066\n",
      "[76]\ttrain-auc:0.999242\ttrain-rmse:0.095716\n",
      "[77]\ttrain-auc:0.999261\ttrain-rmse:0.095161\n",
      "[78]\ttrain-auc:0.999291\ttrain-rmse:0.094132\n",
      "[79]\ttrain-auc:0.999357\ttrain-rmse:0.092957\n",
      "[80]\ttrain-auc:0.9994\ttrain-rmse:0.09199\n",
      "[81]\ttrain-auc:0.999418\ttrain-rmse:0.091557\n",
      "[82]\ttrain-auc:0.99942\ttrain-rmse:0.09139\n",
      "[83]\ttrain-auc:0.999454\ttrain-rmse:0.089981\n",
      "[84]\ttrain-auc:0.999497\ttrain-rmse:0.088818\n",
      "[85]\ttrain-auc:0.999538\ttrain-rmse:0.087731\n",
      "[86]\ttrain-auc:0.999595\ttrain-rmse:0.086223\n",
      "[87]\ttrain-auc:0.999627\ttrain-rmse:0.085219\n",
      "[88]\ttrain-auc:0.999669\ttrain-rmse:0.084044\n",
      "[89]\ttrain-auc:0.999689\ttrain-rmse:0.083012\n",
      "[90]\ttrain-auc:0.999691\ttrain-rmse:0.082834\n",
      "[91]\ttrain-auc:0.999691\ttrain-rmse:0.082572\n",
      "[92]\ttrain-auc:0.999722\ttrain-rmse:0.081319\n",
      "[93]\ttrain-auc:0.999743\ttrain-rmse:0.080673\n",
      "[94]\ttrain-auc:0.99977\ttrain-rmse:0.080025\n",
      "[95]\ttrain-auc:0.999784\ttrain-rmse:0.079248\n",
      "[96]\ttrain-auc:0.999789\ttrain-rmse:0.079009\n",
      "[97]\ttrain-auc:0.999803\ttrain-rmse:0.077842\n",
      "[98]\ttrain-auc:0.999821\ttrain-rmse:0.076452\n",
      "[99]\ttrain-auc:0.999837\ttrain-rmse:0.075567\n",
      "[100]\ttrain-auc:0.999849\ttrain-rmse:0.074633\n",
      "[101]\ttrain-auc:0.999861\ttrain-rmse:0.073554\n",
      "[102]\ttrain-auc:0.999867\ttrain-rmse:0.073102\n",
      "[103]\ttrain-auc:0.999878\ttrain-rmse:0.072659\n",
      "[104]\ttrain-auc:0.999882\ttrain-rmse:0.072259\n",
      "[105]\ttrain-auc:0.999885\ttrain-rmse:0.072073\n",
      "[106]\ttrain-auc:0.999891\ttrain-rmse:0.071531\n",
      "[107]\ttrain-auc:0.999892\ttrain-rmse:0.071329\n",
      "[108]\ttrain-auc:0.999894\ttrain-rmse:0.071021\n",
      "[109]\ttrain-auc:0.999907\ttrain-rmse:0.069863\n",
      "[110]\ttrain-auc:0.999913\ttrain-rmse:0.068945\n",
      "[111]\ttrain-auc:0.999923\ttrain-rmse:0.067909\n",
      "[112]\ttrain-auc:0.999931\ttrain-rmse:0.067252\n",
      "[113]\ttrain-auc:0.999932\ttrain-rmse:0.066713\n",
      "[114]\ttrain-auc:0.999938\ttrain-rmse:0.066085\n",
      "[115]\ttrain-auc:0.999941\ttrain-rmse:0.065621\n",
      "[116]\ttrain-auc:0.99995\ttrain-rmse:0.064474\n",
      "[117]\ttrain-auc:0.99995\ttrain-rmse:0.064354\n",
      "[118]\ttrain-auc:0.999954\ttrain-rmse:0.063703\n",
      "[119]\ttrain-auc:0.999958\ttrain-rmse:0.062915\n",
      "[120]\ttrain-auc:0.999966\ttrain-rmse:0.061791\n",
      "[121]\ttrain-auc:0.999968\ttrain-rmse:0.061482\n",
      "[122]\ttrain-auc:0.999969\ttrain-rmse:0.061275\n",
      "[123]\ttrain-auc:0.999971\ttrain-rmse:0.06025\n",
      "[124]\ttrain-auc:0.999972\ttrain-rmse:0.059871\n",
      "[125]\ttrain-auc:0.999976\ttrain-rmse:0.059011\n",
      "[126]\ttrain-auc:0.999979\ttrain-rmse:0.057884\n",
      "[127]\ttrain-auc:0.999982\ttrain-rmse:0.056942\n",
      "[128]\ttrain-auc:0.999983\ttrain-rmse:0.056464\n",
      "[129]\ttrain-auc:0.999985\ttrain-rmse:0.05587\n",
      "[130]\ttrain-auc:0.999988\ttrain-rmse:0.055062\n",
      "[131]\ttrain-auc:0.99999\ttrain-rmse:0.054604\n",
      "[132]\ttrain-auc:0.99999\ttrain-rmse:0.054044\n",
      "[133]\ttrain-auc:0.99999\ttrain-rmse:0.053654\n",
      "[134]\ttrain-auc:0.99999\ttrain-rmse:0.053499\n",
      "[135]\ttrain-auc:0.999991\ttrain-rmse:0.052885\n",
      "[136]\ttrain-auc:0.999993\ttrain-rmse:0.051884\n",
      "[137]\ttrain-auc:0.999994\ttrain-rmse:0.051378\n",
      "[138]\ttrain-auc:0.999994\ttrain-rmse:0.050792\n",
      "[139]\ttrain-auc:0.999994\ttrain-rmse:0.050613\n",
      "[140]\ttrain-auc:0.999995\ttrain-rmse:0.050365\n",
      "[141]\ttrain-auc:0.999995\ttrain-rmse:0.050088\n",
      "[142]\ttrain-auc:0.999995\ttrain-rmse:0.049577\n",
      "[143]\ttrain-auc:0.999996\ttrain-rmse:0.048934\n",
      "[144]\ttrain-auc:0.999997\ttrain-rmse:0.047721\n",
      "[145]\ttrain-auc:0.999997\ttrain-rmse:0.047607\n",
      "[146]\ttrain-auc:0.999997\ttrain-rmse:0.046922\n",
      "[147]\ttrain-auc:0.999998\ttrain-rmse:0.046517\n",
      "[148]\ttrain-auc:0.999998\ttrain-rmse:0.046037\n",
      "[149]\ttrain-auc:0.999998\ttrain-rmse:0.045779\n",
      "[150]\ttrain-auc:0.999998\ttrain-rmse:0.045531\n",
      "[151]\ttrain-auc:0.999998\ttrain-rmse:0.044975\n",
      "[152]\ttrain-auc:0.999998\ttrain-rmse:0.044393\n",
      "[153]\ttrain-auc:0.999999\ttrain-rmse:0.043836\n",
      "[154]\ttrain-auc:0.999999\ttrain-rmse:0.043206\n",
      "[155]\ttrain-auc:0.999999\ttrain-rmse:0.042746\n",
      "[156]\ttrain-auc:0.999999\ttrain-rmse:0.042515\n",
      "[157]\ttrain-auc:0.999999\ttrain-rmse:0.042238\n",
      "[158]\ttrain-auc:0.999999\ttrain-rmse:0.041625\n",
      "[159]\ttrain-auc:1\ttrain-rmse:0.041024\n",
      "[160]\ttrain-auc:1\ttrain-rmse:0.040343\n",
      "[161]\ttrain-auc:1\ttrain-rmse:0.040016\n",
      "[162]\ttrain-auc:1\ttrain-rmse:0.039681\n",
      "[163]\ttrain-auc:1\ttrain-rmse:0.039475\n",
      "[164]\ttrain-auc:1\ttrain-rmse:0.039258\n",
      "[165]\ttrain-auc:1\ttrain-rmse:0.038803\n",
      "[166]\ttrain-auc:1\ttrain-rmse:0.038525\n",
      "[167]\ttrain-auc:1\ttrain-rmse:0.038297\n",
      "[168]\ttrain-auc:1\ttrain-rmse:0.037757\n",
      "[169]\ttrain-auc:1\ttrain-rmse:0.037443\n",
      "[170]\ttrain-auc:1\ttrain-rmse:0.037167\n",
      "[171]\ttrain-auc:1\ttrain-rmse:0.03691\n",
      "[172]\ttrain-auc:1\ttrain-rmse:0.036363\n",
      "[173]\ttrain-auc:1\ttrain-rmse:0.036144\n",
      "[174]\ttrain-auc:1\ttrain-rmse:0.03597\n",
      "[175]\ttrain-auc:1\ttrain-rmse:0.035396\n",
      "[176]\ttrain-auc:1\ttrain-rmse:0.034915\n",
      "[177]\ttrain-auc:1\ttrain-rmse:0.034631\n",
      "[178]\ttrain-auc:1\ttrain-rmse:0.034331\n",
      "[179]\ttrain-auc:1\ttrain-rmse:0.033682\n",
      "[180]\ttrain-auc:1\ttrain-rmse:0.03351\n",
      "[181]\ttrain-auc:1\ttrain-rmse:0.033052\n",
      "[182]\ttrain-auc:1\ttrain-rmse:0.032893\n",
      "[183]\ttrain-auc:1\ttrain-rmse:0.032724\n",
      "[184]\ttrain-auc:1\ttrain-rmse:0.032428\n",
      "[185]\ttrain-auc:1\ttrain-rmse:0.032358\n",
      "[186]\ttrain-auc:1\ttrain-rmse:0.032163\n",
      "[187]\ttrain-auc:1\ttrain-rmse:0.031881\n",
      "[188]\ttrain-auc:1\ttrain-rmse:0.031682\n",
      "[189]\ttrain-auc:1\ttrain-rmse:0.031508\n",
      "[190]\ttrain-auc:1\ttrain-rmse:0.030928\n",
      "[191]\ttrain-auc:1\ttrain-rmse:0.030811\n",
      "[192]\ttrain-auc:1\ttrain-rmse:0.030765\n",
      "[193]\ttrain-auc:1\ttrain-rmse:0.030275\n",
      "[194]\ttrain-auc:1\ttrain-rmse:0.029919\n",
      "[195]\ttrain-auc:1\ttrain-rmse:0.029248\n",
      "[196]\ttrain-auc:1\ttrain-rmse:0.028805\n",
      "[197]\ttrain-auc:1\ttrain-rmse:0.028641\n",
      "[198]\ttrain-auc:1\ttrain-rmse:0.028613\n",
      "[199]\ttrain-auc:1\ttrain-rmse:0.028553\n",
      "[200]\ttrain-auc:1\ttrain-rmse:0.028413\n",
      "[201]\ttrain-auc:1\ttrain-rmse:0.028129\n",
      "[202]\ttrain-auc:1\ttrain-rmse:0.027888\n",
      "[203]\ttrain-auc:1\ttrain-rmse:0.027777\n",
      "[204]\ttrain-auc:1\ttrain-rmse:0.027409\n",
      "[205]\ttrain-auc:1\ttrain-rmse:0.027209\n",
      "[206]\ttrain-auc:1\ttrain-rmse:0.026985\n",
      "[207]\ttrain-auc:1\ttrain-rmse:0.026863\n",
      "[208]\ttrain-auc:1\ttrain-rmse:0.026412\n",
      "[209]\ttrain-auc:1\ttrain-rmse:0.026023\n",
      "[210]\ttrain-auc:1\ttrain-rmse:0.025842\n",
      "[211]\ttrain-auc:1\ttrain-rmse:0.025681\n",
      "[212]\ttrain-auc:1\ttrain-rmse:0.025529\n",
      "[213]\ttrain-auc:1\ttrain-rmse:0.02546\n",
      "[214]\ttrain-auc:1\ttrain-rmse:0.024997\n",
      "[215]\ttrain-auc:1\ttrain-rmse:0.024643\n",
      "[216]\ttrain-auc:1\ttrain-rmse:0.0242\n",
      "[217]\ttrain-auc:1\ttrain-rmse:0.024084\n",
      "[218]\ttrain-auc:1\ttrain-rmse:0.023934\n",
      "[219]\ttrain-auc:1\ttrain-rmse:0.023916\n",
      "[220]\ttrain-auc:1\ttrain-rmse:0.023524\n",
      "[221]\ttrain-auc:1\ttrain-rmse:0.023411\n",
      "[222]\ttrain-auc:1\ttrain-rmse:0.023222\n",
      "[223]\ttrain-auc:1\ttrain-rmse:0.022917\n",
      "[224]\ttrain-auc:1\ttrain-rmse:0.022742\n",
      "[225]\ttrain-auc:1\ttrain-rmse:0.022593\n",
      "[226]\ttrain-auc:1\ttrain-rmse:0.022187\n",
      "[227]\ttrain-auc:1\ttrain-rmse:0.021972\n",
      "[228]\ttrain-auc:1\ttrain-rmse:0.021854\n",
      "[229]\ttrain-auc:1\ttrain-rmse:0.021789\n",
      "[230]\ttrain-auc:1\ttrain-rmse:0.02151\n",
      "[231]\ttrain-auc:1\ttrain-rmse:0.021332\n",
      "[232]\ttrain-auc:1\ttrain-rmse:0.021194\n",
      "[233]\ttrain-auc:1\ttrain-rmse:0.021106\n",
      "[234]\ttrain-auc:1\ttrain-rmse:0.020911\n",
      "[235]\ttrain-auc:1\ttrain-rmse:0.0207\n",
      "[236]\ttrain-auc:1\ttrain-rmse:0.020491\n",
      "[237]\ttrain-auc:1\ttrain-rmse:0.020404\n",
      "[238]\ttrain-auc:1\ttrain-rmse:0.020362\n",
      "[239]\ttrain-auc:1\ttrain-rmse:0.020182\n",
      "[240]\ttrain-auc:1\ttrain-rmse:0.020157\n",
      "[241]\ttrain-auc:1\ttrain-rmse:0.019925\n",
      "[242]\ttrain-auc:1\ttrain-rmse:0.019757\n",
      "[243]\ttrain-auc:1\ttrain-rmse:0.019401\n",
      "[244]\ttrain-auc:1\ttrain-rmse:0.019345\n",
      "[245]\ttrain-auc:1\ttrain-rmse:0.019064\n",
      "[246]\ttrain-auc:1\ttrain-rmse:0.018775\n",
      "[247]\ttrain-auc:1\ttrain-rmse:0.018621\n",
      "[248]\ttrain-auc:1\ttrain-rmse:0.01836\n",
      "[249]\ttrain-auc:1\ttrain-rmse:0.018166\n",
      "[250]\ttrain-auc:1\ttrain-rmse:0.018115\n",
      "[251]\ttrain-auc:1\ttrain-rmse:0.018026\n",
      "[252]\ttrain-auc:1\ttrain-rmse:0.017839\n",
      "[253]\ttrain-auc:1\ttrain-rmse:0.017699\n",
      "[254]\ttrain-auc:1\ttrain-rmse:0.017581\n",
      "[255]\ttrain-auc:1\ttrain-rmse:0.017417\n",
      "[256]\ttrain-auc:1\ttrain-rmse:0.017225\n",
      "[257]\ttrain-auc:1\ttrain-rmse:0.017103\n",
      "[258]\ttrain-auc:1\ttrain-rmse:0.017014\n",
      "[259]\ttrain-auc:1\ttrain-rmse:0.016727\n",
      "[260]\ttrain-auc:1\ttrain-rmse:0.016662\n",
      "[261]\ttrain-auc:1\ttrain-rmse:0.016381\n",
      "[262]\ttrain-auc:1\ttrain-rmse:0.016361\n",
      "[263]\ttrain-auc:1\ttrain-rmse:0.016134\n",
      "[264]\ttrain-auc:1\ttrain-rmse:0.016114\n",
      "[265]\ttrain-auc:1\ttrain-rmse:0.016061\n",
      "[266]\ttrain-auc:1\ttrain-rmse:0.01598\n",
      "[267]\ttrain-auc:1\ttrain-rmse:0.01583\n",
      "[268]\ttrain-auc:1\ttrain-rmse:0.015705\n",
      "[269]\ttrain-auc:1\ttrain-rmse:0.015646\n",
      "[270]\ttrain-auc:1\ttrain-rmse:0.015503\n",
      "[271]\ttrain-auc:1\ttrain-rmse:0.015334\n",
      "[272]\ttrain-auc:1\ttrain-rmse:0.015289\n",
      "[273]\ttrain-auc:1\ttrain-rmse:0.01524\n",
      "[274]\ttrain-auc:1\ttrain-rmse:0.015193\n",
      "[275]\ttrain-auc:1\ttrain-rmse:0.015003\n",
      "[276]\ttrain-auc:1\ttrain-rmse:0.014962\n",
      "[277]\ttrain-auc:1\ttrain-rmse:0.014923\n",
      "[278]\ttrain-auc:1\ttrain-rmse:0.014816\n",
      "[279]\ttrain-auc:1\ttrain-rmse:0.014739\n",
      "[280]\ttrain-auc:1\ttrain-rmse:0.014514\n",
      "[281]\ttrain-auc:1\ttrain-rmse:0.014436\n",
      "[282]\ttrain-auc:1\ttrain-rmse:0.014192\n",
      "[283]\ttrain-auc:1\ttrain-rmse:0.014031\n",
      "[284]\ttrain-auc:1\ttrain-rmse:0.013899\n",
      "[285]\ttrain-auc:1\ttrain-rmse:0.013734\n",
      "[286]\ttrain-auc:1\ttrain-rmse:0.013643\n",
      "[287]\ttrain-auc:1\ttrain-rmse:0.013575\n",
      "[288]\ttrain-auc:1\ttrain-rmse:0.013437\n",
      "[289]\ttrain-auc:1\ttrain-rmse:0.01336\n",
      "[290]\ttrain-auc:1\ttrain-rmse:0.013311\n",
      "[291]\ttrain-auc:1\ttrain-rmse:0.013211\n",
      "[292]\ttrain-auc:1\ttrain-rmse:0.013143\n",
      "[293]\ttrain-auc:1\ttrain-rmse:0.013095\n",
      "[294]\ttrain-auc:1\ttrain-rmse:0.01308\n",
      "[295]\ttrain-auc:1\ttrain-rmse:0.013047\n",
      "[296]\ttrain-auc:1\ttrain-rmse:0.01296\n",
      "[297]\ttrain-auc:1\ttrain-rmse:0.012926\n",
      "[298]\ttrain-auc:1\ttrain-rmse:0.01282\n",
      "[299]\ttrain-auc:1\ttrain-rmse:0.012598\n",
      "[300]\ttrain-auc:1\ttrain-rmse:0.012525\n",
      "[301]\ttrain-auc:1\ttrain-rmse:0.012506\n",
      "[302]\ttrain-auc:1\ttrain-rmse:0.0124\n",
      "[303]\ttrain-auc:1\ttrain-rmse:0.012349\n",
      "[304]\ttrain-auc:1\ttrain-rmse:0.012193\n",
      "[305]\ttrain-auc:1\ttrain-rmse:0.012111\n",
      "[306]\ttrain-auc:1\ttrain-rmse:0.012076\n",
      "[307]\ttrain-auc:1\ttrain-rmse:0.011941\n",
      "[308]\ttrain-auc:1\ttrain-rmse:0.011824\n",
      "[309]\ttrain-auc:1\ttrain-rmse:0.011689\n",
      "[310]\ttrain-auc:1\ttrain-rmse:0.011509\n",
      "[311]\ttrain-auc:1\ttrain-rmse:0.011397\n",
      "[312]\ttrain-auc:1\ttrain-rmse:0.011332\n",
      "[313]\ttrain-auc:1\ttrain-rmse:0.011233\n",
      "[314]\ttrain-auc:1\ttrain-rmse:0.011182\n",
      "[315]\ttrain-auc:1\ttrain-rmse:0.011063\n",
      "[316]\ttrain-auc:1\ttrain-rmse:0.01103\n",
      "[317]\ttrain-auc:1\ttrain-rmse:0.01096\n",
      "[318]\ttrain-auc:1\ttrain-rmse:0.010889\n",
      "[319]\ttrain-auc:1\ttrain-rmse:0.010843\n",
      "[320]\ttrain-auc:1\ttrain-rmse:0.010738\n",
      "[321]\ttrain-auc:1\ttrain-rmse:0.01071\n",
      "[322]\ttrain-auc:1\ttrain-rmse:0.010643\n",
      "[323]\ttrain-auc:1\ttrain-rmse:0.01063\n",
      "[324]\ttrain-auc:1\ttrain-rmse:0.010529\n",
      "[325]\ttrain-auc:1\ttrain-rmse:0.010475\n",
      "[326]\ttrain-auc:1\ttrain-rmse:0.010427\n",
      "[327]\ttrain-auc:1\ttrain-rmse:0.010321\n",
      "[328]\ttrain-auc:1\ttrain-rmse:0.010286\n",
      "[329]\ttrain-auc:1\ttrain-rmse:0.010165\n",
      "[330]\ttrain-auc:1\ttrain-rmse:0.010078\n",
      "[331]\ttrain-auc:1\ttrain-rmse:0.009941\n",
      "[332]\ttrain-auc:1\ttrain-rmse:0.009859\n",
      "[333]\ttrain-auc:1\ttrain-rmse:0.009743\n",
      "[334]\ttrain-auc:1\ttrain-rmse:0.00972\n",
      "[335]\ttrain-auc:1\ttrain-rmse:0.009607\n",
      "[336]\ttrain-auc:1\ttrain-rmse:0.009604\n",
      "[337]\ttrain-auc:1\ttrain-rmse:0.009541\n",
      "[338]\ttrain-auc:1\ttrain-rmse:0.009452\n",
      "[339]\ttrain-auc:1\ttrain-rmse:0.009366\n",
      "[340]\ttrain-auc:1\ttrain-rmse:0.009315\n",
      "[341]\ttrain-auc:1\ttrain-rmse:0.009237\n",
      "[342]\ttrain-auc:1\ttrain-rmse:0.009178\n",
      "[343]\ttrain-auc:1\ttrain-rmse:0.009163\n",
      "[344]\ttrain-auc:1\ttrain-rmse:0.009124\n",
      "[345]\ttrain-auc:1\ttrain-rmse:0.009046\n",
      "[346]\ttrain-auc:1\ttrain-rmse:0.009009\n",
      "[347]\ttrain-auc:1\ttrain-rmse:0.008988\n",
      "[348]\ttrain-auc:1\ttrain-rmse:0.008956\n",
      "[349]\ttrain-auc:1\ttrain-rmse:0.008932\n",
      "[350]\ttrain-auc:1\ttrain-rmse:0.008904\n",
      "[351]\ttrain-auc:1\ttrain-rmse:0.008831\n",
      "[352]\ttrain-auc:1\ttrain-rmse:0.008804\n",
      "Working: 11\n",
      "[0]\ttrain-auc:0.5+0\ttest-auc:0.5+0\n",
      "[30]\ttrain-auc:1+0\ttest-auc:0.963043+0.0106371\n",
      "[60]\ttrain-auc:1+0\ttest-auc:0.967737+0.00596588\n",
      "[0]\ttrain-auc:0.5\ttrain-rmse:0.356043\n",
      "[1]\ttrain-auc:0.865044\ttrain-rmse:0.259586\n",
      "[2]\ttrain-auc:0.909387\ttrain-rmse:0.192202\n",
      "[3]\ttrain-auc:0.913387\ttrain-rmse:0.144216\n",
      "[4]\ttrain-auc:0.922046\ttrain-rmse:0.109942\n",
      "[5]\ttrain-auc:0.928246\ttrain-rmse:0.085907\n",
      "[6]\ttrain-auc:0.935641\ttrain-rmse:0.068727\n",
      "[7]\ttrain-auc:0.936815\ttrain-rmse:0.05668\n",
      "[8]\ttrain-auc:0.939239\ttrain-rmse:0.048399\n",
      "[9]\ttrain-auc:0.940161\ttrain-rmse:0.043005\n",
      "[10]\ttrain-auc:0.945138\ttrain-rmse:0.03887\n",
      "[11]\ttrain-auc:0.987374\ttrain-rmse:0.036077\n",
      "[12]\ttrain-auc:0.997997\ttrain-rmse:0.033514\n",
      "[13]\ttrain-auc:0.99845\ttrain-rmse:0.032364\n",
      "[14]\ttrain-auc:0.998868\ttrain-rmse:0.030603\n",
      "[15]\ttrain-auc:0.999315\ttrain-rmse:0.029387\n",
      "[16]\ttrain-auc:0.999555\ttrain-rmse:0.027456\n",
      "[17]\ttrain-auc:0.999832\ttrain-rmse:0.025716\n",
      "[18]\ttrain-auc:0.999917\ttrain-rmse:0.024356\n",
      "[19]\ttrain-auc:0.999974\ttrain-rmse:0.023016\n",
      "[20]\ttrain-auc:0.999984\ttrain-rmse:0.02179\n",
      "[21]\ttrain-auc:0.999994\ttrain-rmse:0.02038\n",
      "[22]\ttrain-auc:0.999996\ttrain-rmse:0.018932\n",
      "[23]\ttrain-auc:0.999999\ttrain-rmse:0.018233\n",
      "[24]\ttrain-auc:1\ttrain-rmse:0.017443\n",
      "[25]\ttrain-auc:1\ttrain-rmse:0.016262\n",
      "[26]\ttrain-auc:1\ttrain-rmse:0.015224\n",
      "[27]\ttrain-auc:1\ttrain-rmse:0.014431\n",
      "[28]\ttrain-auc:1\ttrain-rmse:0.013592\n",
      "[29]\ttrain-auc:1\ttrain-rmse:0.012726\n",
      "[30]\ttrain-auc:1\ttrain-rmse:0.011628\n",
      "[31]\ttrain-auc:1\ttrain-rmse:0.011018\n",
      "[32]\ttrain-auc:1\ttrain-rmse:0.010139\n",
      "[33]\ttrain-auc:1\ttrain-rmse:0.009727\n",
      "[34]\ttrain-auc:1\ttrain-rmse:0.009327\n",
      "[35]\ttrain-auc:1\ttrain-rmse:0.008761\n",
      "[36]\ttrain-auc:1\ttrain-rmse:0.008202\n",
      "[37]\ttrain-auc:1\ttrain-rmse:0.007652\n",
      "[38]\ttrain-auc:1\ttrain-rmse:0.007201\n",
      "[39]\ttrain-auc:1\ttrain-rmse:0.00677\n",
      "[40]\ttrain-auc:1\ttrain-rmse:0.006378\n",
      "[41]\ttrain-auc:1\ttrain-rmse:0.006049\n",
      "Working: 12\n",
      "[0]\ttrain-auc:0.797904+0.0103179\ttest-auc:0.761689+0.0111168\n",
      "[30]\ttrain-auc:0.994774+0.00101113\ttest-auc:0.874578+0.00225646\n",
      "[0]\ttrain-auc:0.806503\ttrain-rmse:0.366328\n",
      "[1]\ttrain-auc:0.847124\ttrain-rmse:0.279694\n",
      "[2]\ttrain-auc:0.85881\ttrain-rmse:0.222055\n",
      "[3]\ttrain-auc:0.878711\ttrain-rmse:0.183934\n",
      "[4]\ttrain-auc:0.886484\ttrain-rmse:0.159289\n",
      "[5]\ttrain-auc:0.894069\ttrain-rmse:0.144031\n",
      "[6]\ttrain-auc:0.908577\ttrain-rmse:0.134138\n",
      "[7]\ttrain-auc:0.921316\ttrain-rmse:0.128257\n",
      "[8]\ttrain-auc:0.929213\ttrain-rmse:0.12416\n",
      "[9]\ttrain-auc:0.935876\ttrain-rmse:0.121539\n",
      "[10]\ttrain-auc:0.942086\ttrain-rmse:0.120002\n",
      "[11]\ttrain-auc:0.945971\ttrain-rmse:0.11851\n",
      "[12]\ttrain-auc:0.952752\ttrain-rmse:0.117032\n",
      "[13]\ttrain-auc:0.957262\ttrain-rmse:0.11549\n",
      "[14]\ttrain-auc:0.959727\ttrain-rmse:0.114731\n",
      "[15]\ttrain-auc:0.96393\ttrain-rmse:0.11289\n",
      "[16]\ttrain-auc:0.966623\ttrain-rmse:0.112047\n",
      "[17]\ttrain-auc:0.970927\ttrain-rmse:0.11035\n",
      "[18]\ttrain-auc:0.971782\ttrain-rmse:0.109505\n",
      "[19]\ttrain-auc:0.973893\ttrain-rmse:0.108927\n",
      "[20]\ttrain-auc:0.975819\ttrain-rmse:0.10767\n",
      "[21]\ttrain-auc:0.97666\ttrain-rmse:0.10695\n",
      "[22]\ttrain-auc:0.979407\ttrain-rmse:0.106157\n",
      "[23]\ttrain-auc:0.98131\ttrain-rmse:0.105251\n",
      "[24]\ttrain-auc:0.982363\ttrain-rmse:0.104125\n",
      "[25]\ttrain-auc:0.98289\ttrain-rmse:0.103274\n",
      "[26]\ttrain-auc:0.983466\ttrain-rmse:0.102962\n",
      "[27]\ttrain-auc:0.985716\ttrain-rmse:0.10125\n",
      "[28]\ttrain-auc:0.986309\ttrain-rmse:0.10056\n",
      "[29]\ttrain-auc:0.98735\ttrain-rmse:0.099502\n",
      "[30]\ttrain-auc:0.987778\ttrain-rmse:0.098692\n",
      "[31]\ttrain-auc:0.988496\ttrain-rmse:0.098168\n",
      "[32]\ttrain-auc:0.990672\ttrain-rmse:0.095811\n",
      "[33]\ttrain-auc:0.991227\ttrain-rmse:0.095188\n",
      "[34]\ttrain-auc:0.991568\ttrain-rmse:0.09447\n",
      "Working: 13\n",
      "[0]\ttrain-auc:0.894579+0.00519401\ttest-auc:0.849512+0.0326233\n",
      "[30]\ttrain-auc:0.999994+3.85861e-06\ttest-auc:0.987947+0.00459212\n",
      "[60]\ttrain-auc:1+0\ttest-auc:0.989934+0.00362984\n",
      "[90]\ttrain-auc:1+0\ttest-auc:0.990363+0.00347668\n",
      "[0]\ttrain-auc:0.874514\ttrain-rmse:0.357279\n",
      "[1]\ttrain-auc:0.942198\ttrain-rmse:0.261723\n",
      "[2]\ttrain-auc:0.966392\ttrain-rmse:0.194557\n",
      "[3]\ttrain-auc:0.971477\ttrain-rmse:0.146728\n",
      "[4]\ttrain-auc:0.977552\ttrain-rmse:0.112826\n",
      "[5]\ttrain-auc:0.978395\ttrain-rmse:0.088666\n",
      "[6]\ttrain-auc:0.978583\ttrain-rmse:0.072527\n",
      "[7]\ttrain-auc:0.991699\ttrain-rmse:0.061308\n",
      "[8]\ttrain-auc:0.993322\ttrain-rmse:0.052919\n",
      "[9]\ttrain-auc:0.993493\ttrain-rmse:0.047084\n",
      "[10]\ttrain-auc:0.994292\ttrain-rmse:0.042556\n",
      "[11]\ttrain-auc:0.995294\ttrain-rmse:0.038899\n",
      "[12]\ttrain-auc:0.997425\ttrain-rmse:0.036448\n",
      "[13]\ttrain-auc:0.997568\ttrain-rmse:0.034866\n",
      "[14]\ttrain-auc:0.997719\ttrain-rmse:0.032866\n",
      "[15]\ttrain-auc:0.997774\ttrain-rmse:0.031914\n",
      "[16]\ttrain-auc:0.997792\ttrain-rmse:0.030858\n",
      "[17]\ttrain-auc:0.997799\ttrain-rmse:0.030042\n",
      "[18]\ttrain-auc:0.999236\ttrain-rmse:0.028999\n",
      "[19]\ttrain-auc:0.999216\ttrain-rmse:0.027026\n",
      "[20]\ttrain-auc:0.999419\ttrain-rmse:0.02645\n",
      "[21]\ttrain-auc:0.999497\ttrain-rmse:0.025731\n",
      "[22]\ttrain-auc:0.999592\ttrain-rmse:0.024761\n",
      "[23]\ttrain-auc:0.999667\ttrain-rmse:0.024026\n",
      "[24]\ttrain-auc:0.999714\ttrain-rmse:0.022829\n",
      "[25]\ttrain-auc:0.999843\ttrain-rmse:0.021386\n",
      "[26]\ttrain-auc:0.999886\ttrain-rmse:0.020809\n",
      "[27]\ttrain-auc:0.999919\ttrain-rmse:0.020582\n",
      "[28]\ttrain-auc:0.999947\ttrain-rmse:0.01919\n",
      "[29]\ttrain-auc:0.999965\ttrain-rmse:0.018489\n",
      "[30]\ttrain-auc:0.999972\ttrain-rmse:0.01778\n",
      "[31]\ttrain-auc:0.999978\ttrain-rmse:0.017331\n",
      "[32]\ttrain-auc:0.999986\ttrain-rmse:0.016652\n",
      "[33]\ttrain-auc:0.999989\ttrain-rmse:0.015541\n",
      "[34]\ttrain-auc:0.999992\ttrain-rmse:0.014521\n",
      "[35]\ttrain-auc:0.999994\ttrain-rmse:0.01346\n",
      "[36]\ttrain-auc:0.999996\ttrain-rmse:0.012621\n",
      "[37]\ttrain-auc:0.999997\ttrain-rmse:0.011981\n",
      "[38]\ttrain-auc:0.999998\ttrain-rmse:0.011174\n",
      "[39]\ttrain-auc:0.999999\ttrain-rmse:0.010797\n",
      "[40]\ttrain-auc:0.999999\ttrain-rmse:0.010104\n",
      "[41]\ttrain-auc:1\ttrain-rmse:0.009511\n",
      "[42]\ttrain-auc:1\ttrain-rmse:0.008919\n",
      "[43]\ttrain-auc:1\ttrain-rmse:0.008348\n",
      "[44]\ttrain-auc:1\ttrain-rmse:0.007864\n",
      "[45]\ttrain-auc:1\ttrain-rmse:0.007557\n",
      "[46]\ttrain-auc:1\ttrain-rmse:0.007299\n",
      "[47]\ttrain-auc:1\ttrain-rmse:0.006894\n",
      "[48]\ttrain-auc:1\ttrain-rmse:0.006544\n",
      "[49]\ttrain-auc:1\ttrain-rmse:0.006231\n",
      "[50]\ttrain-auc:1\ttrain-rmse:0.005913\n",
      "[51]\ttrain-auc:1\ttrain-rmse:0.005644\n",
      "[52]\ttrain-auc:1\ttrain-rmse:0.005375\n",
      "[53]\ttrain-auc:1\ttrain-rmse:0.005209\n",
      "[54]\ttrain-auc:1\ttrain-rmse:0.005114\n",
      "[55]\ttrain-auc:1\ttrain-rmse:0.004913\n",
      "[56]\ttrain-auc:1\ttrain-rmse:0.004672\n",
      "[57]\ttrain-auc:1\ttrain-rmse:0.004502\n",
      "[58]\ttrain-auc:1\ttrain-rmse:0.004326\n",
      "[59]\ttrain-auc:1\ttrain-rmse:0.004191\n",
      "[60]\ttrain-auc:1\ttrain-rmse:0.004101\n",
      "[61]\ttrain-auc:1\ttrain-rmse:0.004\n",
      "[62]\ttrain-auc:1\ttrain-rmse:0.003866\n",
      "[63]\ttrain-auc:1\ttrain-rmse:0.003753\n",
      "[64]\ttrain-auc:1\ttrain-rmse:0.003637\n",
      "[65]\ttrain-auc:1\ttrain-rmse:0.003557\n",
      "[66]\ttrain-auc:1\ttrain-rmse:0.003451\n",
      "[67]\ttrain-auc:1\ttrain-rmse:0.003383\n",
      "[68]\ttrain-auc:1\ttrain-rmse:0.003301\n",
      "[69]\ttrain-auc:1\ttrain-rmse:0.003223\n",
      "[70]\ttrain-auc:1\ttrain-rmse:0.003139\n",
      "[71]\ttrain-auc:1\ttrain-rmse:0.003088\n",
      "[72]\ttrain-auc:1\ttrain-rmse:0.003044\n",
      "[73]\ttrain-auc:1\ttrain-rmse:0.00301\n",
      "[74]\ttrain-auc:1\ttrain-rmse:0.002933\n",
      "[75]\ttrain-auc:1\ttrain-rmse:0.00287\n",
      "[76]\ttrain-auc:1\ttrain-rmse:0.002825\n",
      "[77]\ttrain-auc:1\ttrain-rmse:0.002771\n",
      "[78]\ttrain-auc:1\ttrain-rmse:0.002736\n",
      "[79]\ttrain-auc:1\ttrain-rmse:0.002691\n",
      "[80]\ttrain-auc:1\ttrain-rmse:0.002662\n",
      "[81]\ttrain-auc:1\ttrain-rmse:0.002621\n",
      "[82]\ttrain-auc:1\ttrain-rmse:0.002579\n",
      "[83]\ttrain-auc:1\ttrain-rmse:0.00254\n",
      "[84]\ttrain-auc:1\ttrain-rmse:0.002487\n",
      "[85]\ttrain-auc:1\ttrain-rmse:0.002466\n",
      "[86]\ttrain-auc:1\ttrain-rmse:0.002434\n",
      "[87]\ttrain-auc:1\ttrain-rmse:0.002405\n",
      "[88]\ttrain-auc:1\ttrain-rmse:0.002359\n",
      "[89]\ttrain-auc:1\ttrain-rmse:0.00234\n",
      "[90]\ttrain-auc:1\ttrain-rmse:0.002291\n",
      "[91]\ttrain-auc:1\ttrain-rmse:0.002286\n",
      "[92]\ttrain-auc:1\ttrain-rmse:0.002269\n",
      "[93]\ttrain-auc:1\ttrain-rmse:0.002224\n",
      "[94]\ttrain-auc:1\ttrain-rmse:0.002197\n",
      "[95]\ttrain-auc:1\ttrain-rmse:0.002167\n",
      "[96]\ttrain-auc:1\ttrain-rmse:0.00214\n",
      "Working: 14\n",
      "[0]\ttrain-auc:0.557174+0.00541967\ttest-auc:0.537658+0.0214814\n",
      "[30]\ttrain-auc:0.998694+0.000389309\ttest-auc:0.885892+0.0115903\n",
      "[0]\ttrain-auc:0.826724\ttrain-rmse:0.359528\n",
      "[1]\ttrain-auc:0.837645\ttrain-rmse:0.266606\n",
      "[2]\ttrain-auc:0.87358\ttrain-rmse:0.202966\n",
      "[3]\ttrain-auc:0.879937\ttrain-rmse:0.159473\n",
      "[4]\ttrain-auc:0.88772\ttrain-rmse:0.130136\n",
      "[5]\ttrain-auc:0.892333\ttrain-rmse:0.111032\n",
      "[6]\ttrain-auc:0.907072\ttrain-rmse:0.0986\n",
      "[7]\ttrain-auc:0.914801\ttrain-rmse:0.091048\n",
      "[8]\ttrain-auc:0.925601\ttrain-rmse:0.086478\n",
      "[9]\ttrain-auc:0.937219\ttrain-rmse:0.083419\n",
      "[10]\ttrain-auc:0.939795\ttrain-rmse:0.081507\n",
      "[11]\ttrain-auc:0.946362\ttrain-rmse:0.080468\n",
      "[12]\ttrain-auc:0.953009\ttrain-rmse:0.07953\n",
      "[13]\ttrain-auc:0.959075\ttrain-rmse:0.078703\n",
      "[14]\ttrain-auc:0.965189\ttrain-rmse:0.077854\n",
      "[15]\ttrain-auc:0.96674\ttrain-rmse:0.076994\n",
      "[16]\ttrain-auc:0.970901\ttrain-rmse:0.076195\n",
      "[17]\ttrain-auc:0.974354\ttrain-rmse:0.075628\n",
      "[18]\ttrain-auc:0.978409\ttrain-rmse:0.07493\n",
      "[19]\ttrain-auc:0.981488\ttrain-rmse:0.074173\n",
      "[20]\ttrain-auc:0.983483\ttrain-rmse:0.073792\n",
      "[21]\ttrain-auc:0.986629\ttrain-rmse:0.072179\n",
      "[22]\ttrain-auc:0.98794\ttrain-rmse:0.071432\n",
      "[23]\ttrain-auc:0.990591\ttrain-rmse:0.070165\n",
      "[24]\ttrain-auc:0.991468\ttrain-rmse:0.069652\n",
      "[25]\ttrain-auc:0.992156\ttrain-rmse:0.069103\n",
      "[26]\ttrain-auc:0.992575\ttrain-rmse:0.068582\n",
      "[27]\ttrain-auc:0.994462\ttrain-rmse:0.06691\n",
      "[28]\ttrain-auc:0.994949\ttrain-rmse:0.066197\n",
      "Working: 15\n",
      "[0]\ttrain-auc:0.505007+0.00262583\ttest-auc:0.501225+0.00205011\n",
      "[30]\ttrain-auc:0.999057+0.000268488\ttest-auc:0.888408+0.0112153\n",
      "[0]\ttrain-auc:0.786807\ttrain-rmse:0.359893\n",
      "[1]\ttrain-auc:0.871992\ttrain-rmse:0.267185\n",
      "[2]\ttrain-auc:0.8897\ttrain-rmse:0.203776\n",
      "[3]\ttrain-auc:0.899538\ttrain-rmse:0.16053\n",
      "[4]\ttrain-auc:0.905805\ttrain-rmse:0.131427\n",
      "[5]\ttrain-auc:0.911325\ttrain-rmse:0.11265\n",
      "[6]\ttrain-auc:0.914671\ttrain-rmse:0.101064\n",
      "[7]\ttrain-auc:0.920875\ttrain-rmse:0.093894\n",
      "[8]\ttrain-auc:0.927586\ttrain-rmse:0.08935\n",
      "[9]\ttrain-auc:0.936455\ttrain-rmse:0.086815\n",
      "[10]\ttrain-auc:0.953731\ttrain-rmse:0.085075\n",
      "[11]\ttrain-auc:0.959772\ttrain-rmse:0.083538\n",
      "[12]\ttrain-auc:0.965393\ttrain-rmse:0.082731\n",
      "[13]\ttrain-auc:0.971855\ttrain-rmse:0.081636\n",
      "[14]\ttrain-auc:0.974953\ttrain-rmse:0.080824\n",
      "[15]\ttrain-auc:0.978173\ttrain-rmse:0.079857\n",
      "[16]\ttrain-auc:0.981044\ttrain-rmse:0.078277\n",
      "[17]\ttrain-auc:0.982948\ttrain-rmse:0.07714\n",
      "[18]\ttrain-auc:0.985281\ttrain-rmse:0.076007\n",
      "[19]\ttrain-auc:0.986114\ttrain-rmse:0.075587\n",
      "[20]\ttrain-auc:0.987136\ttrain-rmse:0.075002\n",
      "[21]\ttrain-auc:0.988699\ttrain-rmse:0.074493\n",
      "[22]\ttrain-auc:0.989952\ttrain-rmse:0.073384\n",
      "[23]\ttrain-auc:0.991862\ttrain-rmse:0.072092\n",
      "[24]\ttrain-auc:0.992768\ttrain-rmse:0.071459\n",
      "[25]\ttrain-auc:0.993688\ttrain-rmse:0.069958\n",
      "[26]\ttrain-auc:0.993894\ttrain-rmse:0.069527\n",
      "[27]\ttrain-auc:0.99453\ttrain-rmse:0.068874\n",
      "[28]\ttrain-auc:0.99543\ttrain-rmse:0.067229\n",
      "[29]\ttrain-auc:0.995971\ttrain-rmse:0.066059\n",
      "[30]\ttrain-auc:0.996256\ttrain-rmse:0.065072\n",
      "Working: 16\n",
      "[0]\ttrain-auc:0.5+0\ttest-auc:0.5+0\n",
      "[30]\ttrain-auc:0.999997+2.86744e-06\ttest-auc:0.805071+0.0210673\n",
      "[60]\ttrain-auc:1+0\ttest-auc:0.822271+0.0300422\n",
      "[0]\ttrain-auc:0.5\ttrain-rmse:0.356009\n",
      "[1]\ttrain-auc:0.5\ttrain-rmse:0.259781\n",
      "[2]\ttrain-auc:0.5\ttrain-rmse:0.192554\n",
      "[3]\ttrain-auc:0.504978\ttrain-rmse:0.1451\n",
      "[4]\ttrain-auc:0.714363\ttrain-rmse:0.111361\n",
      "[5]\ttrain-auc:0.71844\ttrain-rmse:0.087854\n",
      "[6]\ttrain-auc:0.734564\ttrain-rmse:0.071599\n",
      "[7]\ttrain-auc:0.834754\ttrain-rmse:0.060835\n",
      "[8]\ttrain-auc:0.870365\ttrain-rmse:0.0537\n",
      "[9]\ttrain-auc:0.923198\ttrain-rmse:0.04917\n",
      "[10]\ttrain-auc:0.949942\ttrain-rmse:0.045733\n",
      "[11]\ttrain-auc:0.960872\ttrain-rmse:0.044291\n",
      "[12]\ttrain-auc:0.975841\ttrain-rmse:0.042061\n",
      "[13]\ttrain-auc:0.98011\ttrain-rmse:0.040871\n",
      "[14]\ttrain-auc:0.986394\ttrain-rmse:0.039908\n",
      "[15]\ttrain-auc:0.98905\ttrain-rmse:0.039111\n",
      "[16]\ttrain-auc:0.990701\ttrain-rmse:0.039145\n",
      "[17]\ttrain-auc:0.994154\ttrain-rmse:0.038089\n",
      "[18]\ttrain-auc:0.995726\ttrain-rmse:0.037263\n",
      "[19]\ttrain-auc:0.996269\ttrain-rmse:0.037057\n",
      "[20]\ttrain-auc:0.997024\ttrain-rmse:0.036033\n",
      "[21]\ttrain-auc:0.997355\ttrain-rmse:0.035368\n",
      "[22]\ttrain-auc:0.998266\ttrain-rmse:0.033707\n",
      "[23]\ttrain-auc:0.998491\ttrain-rmse:0.033221\n",
      "[24]\ttrain-auc:0.998766\ttrain-rmse:0.03242\n",
      "[25]\ttrain-auc:0.999439\ttrain-rmse:0.031071\n",
      "[26]\ttrain-auc:0.999667\ttrain-rmse:0.02963\n",
      "[27]\ttrain-auc:0.999743\ttrain-rmse:0.027953\n",
      "[28]\ttrain-auc:0.999756\ttrain-rmse:0.027579\n",
      "[29]\ttrain-auc:0.999848\ttrain-rmse:0.026226\n",
      "[30]\ttrain-auc:0.999923\ttrain-rmse:0.025543\n",
      "[31]\ttrain-auc:0.999945\ttrain-rmse:0.024116\n",
      "[32]\ttrain-auc:0.999966\ttrain-rmse:0.023093\n",
      "[33]\ttrain-auc:0.999981\ttrain-rmse:0.021876\n",
      "[34]\ttrain-auc:0.999987\ttrain-rmse:0.020695\n",
      "[35]\ttrain-auc:0.999994\ttrain-rmse:0.019477\n",
      "[36]\ttrain-auc:0.999997\ttrain-rmse:0.018106\n",
      "[37]\ttrain-auc:0.999999\ttrain-rmse:0.017649\n",
      "[38]\ttrain-auc:1\ttrain-rmse:0.016853\n",
      "[39]\ttrain-auc:1\ttrain-rmse:0.015685\n",
      "[40]\ttrain-auc:1\ttrain-rmse:0.014535\n",
      "[41]\ttrain-auc:1\ttrain-rmse:0.013956\n"
     ]
    }
   ],
   "source": [
    "# Считаем\n",
    "bstList = getListBST(param,trX,trY)"
   ]
  },
  {
   "cell_type": "code",
   "execution_count": null,
   "metadata": {
    "collapsed": false,
    "deletable": true,
    "editable": true
   },
   "outputs": [],
   "source": []
  },
  {
   "cell_type": "code",
   "execution_count": 175,
   "metadata": {
    "collapsed": true,
    "deletable": true,
    "editable": true
   },
   "outputs": [],
   "source": [
    "# Шаблоны имен файллов для сохранения моделей xgb\n",
    "fModel1 = '../Work/Models/model-'\n",
    "fModel2 = '-jpg-'+str(binsDataJPG)+'--tif-'+str(binsDataTIF)+'.xgb'"
   ]
  },
  {
   "cell_type": "code",
   "execution_count": 176,
   "metadata": {
    "collapsed": true,
    "deletable": true,
    "editable": true
   },
   "outputs": [],
   "source": [
    "# save xgb models into files\n",
    "for i in range(len(bstList)) :\n",
    "    bstList[i].save_model(fModel1+str(100+i)+'-JPG2'+fModel2)"
   ]
  },
  {
   "cell_type": "code",
   "execution_count": null,
   "metadata": {
    "collapsed": true,
    "deletable": true,
    "editable": true
   },
   "outputs": [],
   "source": []
  },
  {
   "cell_type": "code",
   "execution_count": 615,
   "metadata": {
    "collapsed": false,
    "deletable": true,
    "editable": true
   },
   "outputs": [
    {
     "data": {
      "text/plain": [
       "17"
      ]
     },
     "execution_count": 615,
     "metadata": {},
     "output_type": "execute_result"
    }
   ],
   "source": [
    "# load xgb models into files\n",
    "bstNull = xgb.train(param,dtrain,0)\n",
    "bstList0= []\n",
    "for i in range(trY.shape[1]) :\n",
    "    bstList0.append(bstNull.copy())\n",
    "    bstList0[-1].load_model(fModel1+str(100+i)+fModel2)\n",
    "bstList = bstList0\n",
    "del bstList0\n",
    "len(bstList)"
   ]
  },
  {
   "cell_type": "code",
   "execution_count": null,
   "metadata": {
    "collapsed": false,
    "deletable": true,
    "editable": true
   },
   "outputs": [],
   "source": []
  },
  {
   "cell_type": "code",
   "execution_count": 177,
   "metadata": {
    "collapsed": false,
    "deletable": true,
    "editable": true
   },
   "outputs": [
    {
     "name": "stdout",
     "output_type": "stream",
     "text": [
      "(40479, 17) \n",
      " [  7.79969871e-01   9.97929573e-01   7.15023978e-03   1.10026486e-02\n",
      "   1.49513399e-02   1.38273812e-03   5.87781053e-03   4.98477835e-03\n",
      "   3.02072567e-05   4.36046248e-04   1.73015418e-04   2.89217533e-05\n",
      "   5.07971644e-03   1.61501237e-06   2.22017220e-03   7.13975925e-04\n",
      "   6.16241523e-05] \n",
      " [ 1.  1.  0.  0.  0.  0.  0.  0.  0.  0.  0.  0.  0.  0.  0.  0.  0.]\n"
     ]
    }
   ],
   "source": [
    "trYP = buildPredict(dtrain,bstList)\n",
    "trYPP= trYP.copy() # вероятностный массив\n",
    "trYP[trYP<0.5] = 0 # массив 0/1\n",
    "trYP[trYP!=0]  = 1\n",
    "print (trYP.shape, '\\n', trYPP[0], '\\n', trYP[0])"
   ]
  },
  {
   "cell_type": "code",
   "execution_count": null,
   "metadata": {
    "collapsed": true,
    "deletable": true,
    "editable": true
   },
   "outputs": [],
   "source": []
  },
  {
   "cell_type": "code",
   "execution_count": 178,
   "metadata": {
    "collapsed": true,
    "deletable": true,
    "editable": true
   },
   "outputs": [],
   "source": [
    "accListOld = accList"
   ]
  },
  {
   "cell_type": "code",
   "execution_count": null,
   "metadata": {
    "collapsed": true,
    "deletable": true,
    "editable": true
   },
   "outputs": [],
   "source": []
  },
  {
   "cell_type": "code",
   "execution_count": 179,
   "metadata": {
    "collapsed": false,
    "deletable": true,
    "editable": true
   },
   "outputs": [
    {
     "name": "stdout",
     "output_type": "stream",
     "text": [
      "#0 accuracy=0.975616986586 precision=0.881016042781 recall=0.733036707453 ros_auc=0.86298492511 fbeta2=0.758517495396 not=987\n",
      "#1 accuracy=0.999160058302 precision=0.999600095977 recall=0.999493508917 ros_auc=0.997218096333 fbeta2=0.99951482451 not=34\n",
      "#2 accuracy=0.943131006201 precision=0.924459516744 recall=0.885424279334 ros_auc=0.926894074051 fbeta2=0.892965359102 not=2302\n",
      "#3 accuracy=0.994515674794 precision=0.994391671632 recall=0.99781928177 ros_auc=0.992269534643 fbeta2=0.997131870681 not=222\n",
      "#4 accuracy=0.925936905556 precision=0.89864498645 recall=0.671164485225 ros_auc=0.827099721746 fbeta2=0.706955854345 not=2998\n",
      "#5 accuracy=0.960572148521 precision=0.889433962264 recall=0.643989071038 ros_auc=0.818015611594 fbeta2=0.681607865818 not=1596\n",
      "#6 accuracy=0.941352306134 precision=0.896340614999 recall=0.798166274315 ros_auc=0.887589061621 fbeta2=0.816042157533 not=2374\n",
      "#7 accuracy=0.943847427061 precision=0.919969512195 recall=0.539200357382 ros_auc=0.766683674052 fbeta2=0.587862848237 not=2273\n",
      "#8 accuracy=1.0 precision=1.0 recall=1.0 ros_auc=1.0 fbeta2=1.0 not=0\n",
      "#9 accuracy=0.999580029151 precision=0.996168582375 recall=0.995691718526 ros_auc=0.997741665462 fbeta2=0.995787054768 not=17\n",
      "#10 accuracy=1.0 precision=1.0 recall=1.0 ros_auc=1.0 fbeta2=1.0 not=0\n",
      "#11 accuracy=1.0 precision=1.0 recall=1.0 ros_auc=1.0 fbeta2=1.0 not=0\n",
      "#12 accuracy=0.987697324539 precision=0.978947368421 recall=0.431554524362 ros_auc=0.715676295424 fbeta2=0.485893416928 not=498\n",
      "#13 accuracy=1.0 precision=1.0 recall=1.0 ros_auc=1.0 fbeta2=1.0 not=0\n",
      "#14 accuracy=0.993996887275 precision=1.0 recall=0.268072289157 ros_auc=0.634036144578 fbeta2=0.314043754411 not=243\n",
      "#15 accuracy=0.993922774772 precision=1.0 recall=0.276470588235 ros_auc=0.638235294118 fbeta2=0.323246217331 not=246\n",
      "#16 accuracy=0.999876479162 precision=1.0 recall=0.948979591837 ros_auc=0.974489795918 fbeta2=0.958762886598 not=5\n"
     ]
    }
   ],
   "source": [
    "# Оценка точности предсказания по train массиву по разным методикам\n",
    "accList = []\n",
    "for i in range(trYP.shape[1]) :\n",
    "    print ('#{} accuracy={} precision={} recall={} ros_auc={} fbeta2={} not={}'.format(i, \n",
    "                                           skm.accuracy_score(trY[:,i],trYP[:,i]), \n",
    "                                           skm.precision_score(trY[:,i],trYP[:,i]), \n",
    "                                           skm.recall_score(trY[:,i],trYP[:,i]), \n",
    "                                           skm.roc_auc_score(trY[:,i],trYP[:,i]), \n",
    "                                           skm.fbeta_score(trY[:,i],trYP[:,i],beta=2),\n",
    "                                           len(trYP[trYP[:,i]<>trY[:,i],i])))\n",
    "    accList.append((i, skm.roc_auc_score(trY[:,i],trYP[:,i]), skm.confusion_matrix(trY[:,i],trYP[:,i])))\n",
    "    #fpr,tpr,thr = skm.roc_curve(trY[:,i],trYP[:,i]); print (len(thr),len(fpr),len(trYP[:,i]))\n",
    "    #plt.plot(fpr,tpr); plt.show()"
   ]
  },
  {
   "cell_type": "code",
   "execution_count": 180,
   "metadata": {
    "collapsed": false,
    "deletable": true,
    "editable": true
   },
   "outputs": [
    {
     "data": {
      "text/plain": [
       "[(0, 987, 1048, -61),\n",
       " (1, 34, 188, -154),\n",
       " (2, 2302, 2345, -43),\n",
       " (3, 222, 574, -352),\n",
       " (4, 2998, 2953, 45),\n",
       " (5, 1596, 1546, 50),\n",
       " (6, 2374, 2509, -135),\n",
       " (7, 2273, 2324, -51),\n",
       " (8, 0, 0, 0),\n",
       " (9, 17, 15, 2),\n",
       " (10, 0, 0, 0),\n",
       " (11, 0, 0, 0),\n",
       " (12, 498, 496, 2),\n",
       " (13, 0, 0, 0),\n",
       " (14, 243, 243, 0),\n",
       " (15, 246, 247, -1),\n",
       " (16, 5, 5, 0)]"
      ]
     },
     "execution_count": 180,
     "metadata": {},
     "output_type": "execute_result"
    }
   ],
   "source": [
    "# сравнение текущего и предыдущего результата если есть\n",
    "#if accListOld is not None :\n",
    "[(i,cm[0,1]+cm[1,0],(accList[i][2][1,0]+accListOld[i][2][0,1]),\n",
    "  cm[0,1]+cm[1,0]-(accList[i][2][1,0]+accListOld[i][2][0,1])) for i,roc,cm in accList]"
   ]
  },
  {
   "cell_type": "code",
   "execution_count": 181,
   "metadata": {
    "collapsed": false,
    "deletable": true,
    "editable": true
   },
   "outputs": [
    {
     "name": "stdout",
     "output_type": "stream",
     "text": [
      "['haze', 'primary', 'agriculture', 'clear', 'water', 'habitation', 'road', 'cultivation', 'slash_burn', 'cloudy', 'partly_cloudy', 'conventional_mine', 'bare_ground', 'artisinal_mine', 'blooming', 'selective_logging', 'blow_down']\n"
     ]
    },
    {
     "data": {
      "text/plain": [
       "((352, 17), [3, 10, 0, 9], 0.9877027927994666, 0.9778255179396005)"
      ]
     },
     "execution_count": 181,
     "metadata": {},
     "output_type": "execute_result"
    }
   ],
   "source": [
    "wr = [labels.index(i) for i in weather_labels]; wr\n",
    "print(labels)\n",
    "trYPP[trYPP[:,wr].argmax(axis=1)<>trY[:,wr].argmax(axis=1)].shape, wr, (40497.0-498)/40497.0, (40497.0-898)/40497.0"
   ]
  },
  {
   "cell_type": "code",
   "execution_count": null,
   "metadata": {
    "collapsed": false,
    "deletable": true,
    "editable": true
   },
   "outputs": [],
   "source": []
  },
  {
   "cell_type": "code",
   "execution_count": 182,
   "metadata": {
    "collapsed": false,
    "deletable": true,
    "editable": true
   },
   "outputs": [],
   "source": [
    "# Построение значимости полей для разных признаков (importance)\n",
    "bstga   = np.zeros((trX.shape[1],trY.shape[1]))\n",
    "for i in range(len(bstList)) :\n",
    "    bstgfs = bstList[i].get_fscore()\n",
    "    bstgfs = [(int(n.split('f')[1]),bstgfs[n]) for n in bstgfs.keys()]\n",
    "    bstga1 = np.array(bstgfs)\n",
    "    bstga[bstga1[:,0],i] = bstga1[:,1]\n",
    "\n",
    "\n",
    "if False :\n",
    "    #bstgfs.sort(key=lambda x: -x[1])\n",
    "    #bstgfs[:20]\n",
    "    plt.hist([nn for n,nn in bstgfs],bins=11); plt.show()\n",
    "    bst_gfs_main = [(n,nn) for n,nn in bstgfs if nn>=20]\n",
    "    bst_gfs_main.sort(key=lambda x: x[0])\n",
    "    bst_gfs_main\n",
    "    bstga[:,6]"
   ]
  },
  {
   "cell_type": "code",
   "execution_count": 183,
   "metadata": {
    "collapsed": false,
    "deletable": true,
    "editable": true
   },
   "outputs": [
    {
     "data": {
      "image/png": "[encoded data removed]",
      "text/plain": [
       "<matplotlib.figure.Figure at 0x7f56dd9ef6d0>"
      ]
     },
     "metadata": {},
     "output_type": "display_data"
    },
    {
     "data": {
      "text/plain": [
       "['haze',\n",
       " 'agriculture',\n",
       " 'clear',\n",
       " 'water',\n",
       " 'habitation',\n",
       " 'road',\n",
       " 'cultivation',\n",
       " 'bare_ground']"
      ]
     },
     "execution_count": 183,
     "metadata": {},
     "output_type": "execute_result"
    }
   ],
   "source": [
    "xx = [0]+range(2,8)+[12] # плохие 600-4000\n",
    "plt.plot(bstga[:,xx]); \n",
    "#plt.legenda([labels[x] for x in xx])\n",
    "plt.show();\n",
    "[labels[x] for x in xx]\n"
   ]
  },
  {
   "cell_type": "code",
   "execution_count": 184,
   "metadata": {
    "collapsed": false,
    "deletable": true,
    "editable": true
   },
   "outputs": [
    {
     "data": {
      "image/png": "[encoded data removed]",
      "text/plain": [
       "<matplotlib.figure.Figure at 0x7f56dda4a5d0>"
      ]
     },
     "metadata": {},
     "output_type": "display_data"
    },
    {
     "data": {
      "text/plain": [
       "['slash_burn', 'partly_cloudy', 'blooming', 'selective_logging']"
      ]
     },
     "execution_count": 184,
     "metadata": {},
     "output_type": "execute_result"
    }
   ],
   "source": [
    "xx = [8,10,14,15] # среднии 100-400\n",
    "plt.plot(bstga[:,xx]); \n",
    "#plt.legenda([labels[x] for x in xx])\n",
    "plt.show();\n",
    "[labels[x] for x in xx]\n"
   ]
  },
  {
   "cell_type": "code",
   "execution_count": 185,
   "metadata": {
    "collapsed": false,
    "deletable": true,
    "editable": true
   },
   "outputs": [
    {
     "data": {
      "image/png": "[encoded data removed]",
      "text/plain": [
       "<matplotlib.figure.Figure at 0x7f56de4b5150>"
      ]
     },
     "metadata": {},
     "output_type": "display_data"
    },
    {
     "data": {
      "text/plain": [
       "['primary', 'cloudy', 'conventional_mine', 'artisinal_mine', 'blow_down']"
      ]
     },
     "execution_count": 185,
     "metadata": {},
     "output_type": "execute_result"
    }
   ],
   "source": [
    "xx = [1,9,11,13,16] # отличные 0-100\n",
    "plt.plot(bstga[:,xx]); plt.show();\n",
    "[labels[x] for x in xx]"
   ]
  },
  {
   "cell_type": "code",
   "execution_count": null,
   "metadata": {
    "collapsed": true,
    "deletable": true,
    "editable": true
   },
   "outputs": [],
   "source": []
  },
  {
   "cell_type": "code",
   "execution_count": 187,
   "metadata": {
    "collapsed": false,
    "deletable": true,
    "editable": true
   },
   "outputs": [],
   "source": [
    "# Посчитать уровень прохождения для каждого признака"
   ]
  },
  {
   "cell_type": "code",
   "execution_count": 188,
   "metadata": {
    "collapsed": false,
    "deletable": true,
    "editable": true
   },
   "outputs": [
    {
     "data": {
      "text/plain": [
       "[44.0,\n",
       " 48.0,\n",
       " 43.0,\n",
       " 57.0,\n",
       " 40.0,\n",
       " 41.0,\n",
       " 44.0,\n",
       " 34.0,\n",
       " 11.0,\n",
       " 44.0,\n",
       " 9.0,\n",
       " 8.0,\n",
       " 27.0,\n",
       " 5.0,\n",
       " 21.0,\n",
       " 23.0,\n",
       " 16.0]"
      ]
     },
     "execution_count": 188,
     "metadata": {},
     "output_type": "execute_result"
    }
   ],
   "source": [
    "ixx,iacc = [], []\n",
    "for i in range(trY.shape[1]) :\n",
    "    max, maxxx = 0.0, 0.0\n",
    "    for xx in range(0,101) :\n",
    "        tempYP = trYPP[:,i].copy(); #print(tempYP.mean())\n",
    "        tempYP[tempYP<float(xx/100.0)] = 0\n",
    "        tempYP[tempYP>0.0]   = 1\n",
    "        temp = skm.accuracy_score(trY[:,i],tempYP)\n",
    "        #print(float(xx/10.0),temp)\n",
    "        if (temp>max) : \n",
    "            max = temp; maxxx = float(xx)\n",
    "            temp = skm.confusion_matrix(trY[:,i],tempYP);\n",
    "            minloss = temp[0][1]+temp[1][0]\n",
    "    ixx.append(maxxx)\n",
    "    tempYP = trYPP[:,i].copy(); #print(tempYP.mean())\n",
    "    tempYP[tempYP<0.5]   = 0\n",
    "    tempYP[tempYP>0.0]   = 1\n",
    "    temp = skm.accuracy_score(trY[:,i],tempYP)\n",
    "    minloss05 = skm.confusion_matrix(trY[:,i],tempYP);\n",
    "    minloss05 = minloss05[0][1]+minloss05[1][0]\n",
    "    iacc.append((maxxx,max,temp,minloss,minloss05))\n",
    "ixx\n",
    "#[ixx[xx] for xx in wr]"
   ]
  },
  {
   "cell_type": "code",
   "execution_count": 190,
   "metadata": {
    "collapsed": false,
    "deletable": true,
    "editable": true,
    "scrolled": true
   },
   "outputs": [
    {
     "data": {
      "text/plain": [
       "[(44.0, 0.97667926579213915, 0.975616986585637, 944, 987),\n",
       " (48.0, 0.99928357913980093, 0.99916005830183552, 29, 34),\n",
       " (43.0, 0.9449097062674473, 0.94313100620074608, 2230, 2302),\n",
       " (57.0, 0.99493564564342007, 0.99451567479433778, 205, 222),\n",
       " (40.0, 0.92860495565601919, 0.9259369055559673, 2890, 2998),\n",
       " (41.0, 0.96321549445391441, 0.96057214852145556, 1489, 1596),\n",
       " (44.0, 0.94364979372020064, 0.94135230613404486, 2281, 2374),\n",
       " (34.0, 0.95582894834358556, 0.94384742706094515, 1788, 2273),\n",
       " (11.0, 1.0, 1.0, 0, 0),\n",
       " (44.0, 0.99958002915091781, 0.99958002915091781, 17, 17),\n",
       " (9.0, 1.0, 1.0, 0, 0),\n",
       " (8.0, 1.0, 1.0, 0, 0),\n",
       " (27.0, 0.99157587885076215, 0.98769732453864967, 341, 498),\n",
       " (5.0, 1.0, 1.0, 0, 0),\n",
       " (21.0, 0.99594851651473604, 0.99399688727488322, 164, 243),\n",
       " (23.0, 0.99614614985548067, 0.993922774772104, 156, 246),\n",
       " (16.0, 1.0, 0.99987647916203459, 0, 5)]"
      ]
     },
     "execution_count": 190,
     "metadata": {},
     "output_type": "execute_result"
    }
   ],
   "source": [
    "iacc"
   ]
  },
  {
   "cell_type": "code",
   "execution_count": null,
   "metadata": {
    "collapsed": true,
    "deletable": true,
    "editable": true
   },
   "outputs": [],
   "source": []
  },
  {
   "cell_type": "code",
   "execution_count": null,
   "metadata": {
    "collapsed": true,
    "deletable": true,
    "editable": true
   },
   "outputs": [],
   "source": []
  },
  {
   "cell_type": "code",
   "execution_count": 191,
   "metadata": {
    "collapsed": false,
    "deletable": true,
    "editable": true
   },
   "outputs": [],
   "source": [
    "# Forming output dataset for predicting --> trOX, trOY\n",
    "#del(trX)\n",
    "#del(trY)"
   ]
  },
  {
   "cell_type": "code",
   "execution_count": null,
   "metadata": {
    "collapsed": false,
    "deletable": true,
    "editable": true
   },
   "outputs": [],
   "source": []
  },
  {
   "cell_type": "code",
   "execution_count": 192,
   "metadata": {
    "collapsed": true,
    "deletable": true,
    "editable": true
   },
   "outputs": [],
   "source": [
    "# Данные для объединения от jpg\n",
    "trOX_TIF = np.load('../Work/test-data-XX'+str(binsDataTIF)+'.tif'+'.npy')\n",
    "trOX_JPG1 = np.load('../Work/test-data-XX'+str(binsDataJPG)+'.jpg'+'.npy')\n",
    "trOX_JPG2 = np.load('../Work/test-data-XX'+str(binsDataJPG2)+'.jpg'+'.npy')\n",
    "trOY_TIF = np.load('../Work/test-data-YY'+str(binsDataTIF)+'.tif'+'.npy')\n",
    "trOY_JPG1 = np.load('../Work/test-data-YY'+str(binsDataJPG)+'.jpg'+'.npy')\n",
    "trOY_JPG2 = np.load('../Work/test-data-YY'+str(binsDataJPG2)+'.jpg'+'.npy')"
   ]
  },
  {
   "cell_type": "code",
   "execution_count": 198,
   "metadata": {
    "collapsed": false
   },
   "outputs": [
    {
     "data": {
      "text/plain": [
       "((61191, 578), (61191, 255), (61191, 192), 1025)"
      ]
     },
     "execution_count": 198,
     "metadata": {},
     "output_type": "execute_result"
    }
   ],
   "source": [
    "trOX_TIF.shape, trOX_JPG.shape, trOX_JPG2.shape , 578+255+192"
   ]
  },
  {
   "cell_type": "code",
   "execution_count": 195,
   "metadata": {
    "collapsed": false
   },
   "outputs": [],
   "source": [
    "# Обрезка видимой части и использование только n, nvi, dwi\n",
    "##trOX_TIF = trOX_TIF[:,288:]\n",
    "##trOX_TIF.shape"
   ]
  },
  {
   "cell_type": "code",
   "execution_count": 199,
   "metadata": {
    "collapsed": false,
    "deletable": true,
    "editable": true
   },
   "outputs": [
    {
     "data": {
      "text/plain": [
       "(61191, 1025)"
      ]
     },
     "execution_count": 199,
     "metadata": {},
     "output_type": "execute_result"
    }
   ],
   "source": [
    "# Аккуратно объединяем через индексы = имена файлов\n",
    "dfOX_TIF  = pd.DataFrame(trOX_TIF,index=trOY_TIF)\n",
    "dfOX_JPG1 = pd.DataFrame(trOX_JPG,index=trOY_JPG1)\n",
    "dfOX_JPG2 = pd.DataFrame(trOX_JPG2,index=trOY_JPG2)\n",
    "\n",
    "dfOX_JPG  = dfOX_JPG1.join(dfOX_JPG2,lsuffix='_l',rsuffix='_r')\n",
    "\n",
    "dfOX = dfOX_JPG.join(dfOX_TIF,lsuffix='_l',rsuffix='_r')\n",
    "\n",
    "dfOX.shape #, dfOX.columns,dfOX.head()"
   ]
  },
  {
   "cell_type": "code",
   "execution_count": 200,
   "metadata": {
    "collapsed": false,
    "deletable": true,
    "editable": true
   },
   "outputs": [
    {
     "data": {
      "text/plain": [
       "((61191, 1025),\n",
       " (61191,),\n",
       " array(['test_10002', 'test_10003', 'test_10004', 'test_10005',\n",
       "        'test_10006', 'test_10007', 'test_10008', 'test_10009', 'test_1001',\n",
       "        'test_10010'], dtype=object))"
      ]
     },
     "execution_count": 200,
     "metadata": {},
     "output_type": "execute_result"
    }
   ],
   "source": [
    "trOX = dfOX.values\n",
    "trOY = dfOX.index.values\n",
    "trOX.shape,trOY.shape,trOY[0:10]"
   ]
  },
  {
   "cell_type": "code",
   "execution_count": 156,
   "metadata": {
    "collapsed": false,
    "deletable": true,
    "editable": true
   },
   "outputs": [],
   "source": [
    "# Формирование результата\n",
    "dtest  = xgb.DMatrix(trOX)"
   ]
  },
  {
   "cell_type": "code",
   "execution_count": 157,
   "metadata": {
    "collapsed": false,
    "deletable": true,
    "editable": true
   },
   "outputs": [
    {
     "data": {
      "text/plain": [
       "(numpy.ndarray, (61191, 17))"
      ]
     },
     "execution_count": 157,
     "metadata": {},
     "output_type": "execute_result"
    }
   ],
   "source": [
    "trP = []\n",
    "for bstI in bstList :\n",
    "    trP1 = bstI.predict(dtest);\n",
    "    trP.append(trP1)\n",
    "trP = np.array(trP).T\n",
    "type(trP),trP.shape    "
   ]
  },
  {
   "cell_type": "code",
   "execution_count": 158,
   "metadata": {
    "collapsed": true,
    "deletable": true,
    "editable": true
   },
   "outputs": [],
   "source": [
    "#np.save('../Work/test-data-RR'+str(binsData)+ttExt+'.npy',trP)"
   ]
  },
  {
   "cell_type": "code",
   "execution_count": 201,
   "metadata": {
    "collapsed": false,
    "deletable": true,
    "editable": true
   },
   "outputs": [],
   "source": [
    "#trP = np.load('../Work/test-data-RR'+str(binsData)+ttExt+'.npy')\n",
    "#trP.shape"
   ]
  },
  {
   "cell_type": "code",
   "execution_count": 202,
   "metadata": {
    "collapsed": false,
    "deletable": true,
    "editable": true
   },
   "outputs": [
    {
     "name": "stdout",
     "output_type": "stream",
     "text": [
      "[3, 10, 0, 9] \n",
      " ['haze', 'primary', 'agriculture', 'clear', 'water', 'habitation', 'road', 'cultivation', 'slash_burn', 'cloudy', 'partly_cloudy', 'conventional_mine', 'bare_ground', 'artisinal_mine', 'blooming', 'selective_logging', 'blow_down'] \n",
      " [2.0, 0.48, 0.43, 2.0, 0.4, 0.41, 0.44, 0.34, 0.11, 2.0, 2.0, 0.08, 0.27, 0.05, 0.21, 0.23, 0.16]\n"
     ]
    }
   ],
   "source": [
    "wr = [labels.index(i) for i in weather_labels];\n",
    "trM=np.array(ixx)/100.0 #np.array([0.5]*17);\n",
    "#### Коэффициенты работают +0.01 к счету trM=np.array([0.5]*17);\n",
    "trM[np.array(wr)] = 2.0\n",
    "print(wr,'\\n',labels,'\\n',trM.tolist())"
   ]
  },
  {
   "cell_type": "code",
   "execution_count": null,
   "metadata": {
    "collapsed": true,
    "deletable": true,
    "editable": true
   },
   "outputs": [],
   "source": []
  },
  {
   "cell_type": "code",
   "execution_count": 203,
   "metadata": {
    "collapsed": false,
    "deletable": true,
    "editable": true
   },
   "outputs": [
    {
     "name": "stdout",
     "output_type": "stream",
     "text": [
      "['test_0', 'clear primary'] \n",
      " ['file_20521', 'clear primary'] \n",
      " [ 2.    0.48  0.43  2.    0.4   0.41  0.44  0.34  0.11  2.    2.    0.08\n",
      "  0.27  0.05  0.21  0.23  0.16] [  6.24508783e-02   2.45814770e-01   4.45817411e-02   4.16464716e-01\n",
      "   5.03526151e-01   3.26644303e-03   1.00426078e-02   1.05248787e-03\n",
      "   2.95093923e-06   5.92517912e-01   3.07402515e-05   1.12990097e-06\n",
      "   1.18690729e-03   1.24388123e-06   1.84289253e-04   1.92705193e-04\n",
      "   2.77233212e-05]\n"
     ]
    }
   ],
   "source": [
    "#trP = model.predict(trX, batch_size=512); trP=K.get_value(trP)\n",
    "res = []\n",
    "\n",
    "for i in range(trP.shape[0]) :\n",
    "    trA1 = [weather_labels[trP[i,wr].argmax()]]\n",
    "    trA2 = [labels[ii] for ii in range(len(labels)) if (trP[i,ii]>trM[ii])]\n",
    "    trPP = trA1 + trA2;\n",
    "    pp   = ' '.join(trPP)\n",
    "    ##if (pp==\"\") : print(trY[i])\n",
    "    res.append([trOY[i],pp])\n",
    "\n",
    "res.sort(cmp=lambda x,y: cmp(int(x[0].partition('_')[2]),int(y[0].partition('_')[2])) if (x[0].partition('_')[0]==y[0].partition('_')[0]) else cmp(y[0].partition('_')[0],x[0].partition('_')[0]))\n",
    "#print(res[4:8],'\\n',res[-4:])\n",
    "print(res[0],'\\n',res[-1],'\\n',trM,trP[0])"
   ]
  },
  {
   "cell_type": "code",
   "execution_count": null,
   "metadata": {
    "collapsed": true,
    "deletable": true,
    "editable": true
   },
   "outputs": [],
   "source": []
  },
  {
   "cell_type": "code",
   "execution_count": 204,
   "metadata": {
    "collapsed": false,
    "deletable": true,
    "editable": true
   },
   "outputs": [
    {
     "name": "stdout",
     "output_type": "stream",
     "text": [
      "['haze', 'primary', 'agriculture', 'clear', 'water', 'habitation', 'road', 'cultivation', 'slash_burn', 'cloudy', 'partly_cloudy', 'conventional_mine', 'bare_ground', 'artisinal_mine', 'blooming', 'selective_logging', 'blow_down']\n",
      "[2.0, 0.48, 0.43, 2.0, 0.4, 0.41, 0.44, 0.34, 0.11, 2.0, 2.0, 0.08, 0.27, 0.05, 0.21, 0.23, 0.16]\n"
     ]
    }
   ],
   "source": [
    "print(labels)\n",
    "print(trM.tolist())\n",
    "#np.round(trP[4:11,:])"
   ]
  },
  {
   "cell_type": "code",
   "execution_count": 205,
   "metadata": {
    "collapsed": false,
    "deletable": true,
    "editable": true
   },
   "outputs": [
    {
     "name": "stdout",
     "output_type": "stream",
     "text": [
      "2017-07-03-06-36-02\n"
     ]
    }
   ],
   "source": [
    "rrr=pd.DataFrame(res,columns=['image_name','tags']); rrr.head(); \n",
    "suffixDT = (datetime.datetime.now()).strftime('%Y-%m-%d-%H-%M-%S'); print(suffixDT)\n",
    "rrr.to_csv('../Result/vss'+suffixDT+'.csv',index=False);"
   ]
  },
  {
   "cell_type": "code",
   "execution_count": null,
   "metadata": {
    "collapsed": true,
    "deletable": true,
    "editable": true
   },
   "outputs": [],
   "source": []
  },
  {
   "cell_type": "code",
   "execution_count": null,
   "metadata": {
    "collapsed": false,
    "deletable": true,
    "editable": true
   },
   "outputs": [],
   "source": []
  },
  {
   "cell_type": "code",
   "execution_count": null,
   "metadata": {
    "collapsed": true,
    "deletable": true,
    "editable": true
   },
   "outputs": [],
   "source": []
  }
 ],
 "metadata": {
  "kernelspec": {
   "display_name": "Python 2",
   "language": "python",
   "name": "python2"
  },
  "language_info": {
   "codemirror_mode": {
    "name": "ipython",
    "version": 2
   },
   "file_extension": ".py",
   "mimetype": "text/x-python",
   "name": "python",
   "nbconvert_exporter": "python",
   "pygments_lexer": "ipython2",
   "version": "2.7.13"
  }
 },
 "nbformat": 4,
 "nbformat_minor": 2
}
