{
 "cells": [
  {
   "cell_type": "code",
   "execution_count": 1,
   "metadata": {
    "collapsed": true,
    "deletable": true,
    "editable": true
   },
   "outputs": [],
   "source": [
    "# Проверка возможности использования xgbooster - объединение JPG & TIF (2017-07-03)"
   ]
  },
  {
   "cell_type": "code",
   "execution_count": 2,
   "metadata": {
    "collapsed": false,
    "deletable": true,
    "editable": true
   },
   "outputs": [],
   "source": [
    "import sys,os,datetime\n",
    "import numpy as np\n",
    "import pandas as pd\n",
    "import matplotlib.pyplot as plt\n",
    "import sklearn.metrics as skm\n",
    "from __future__ import print_function"
   ]
  },
  {
   "cell_type": "code",
   "execution_count": 3,
   "metadata": {
    "collapsed": false,
    "deletable": true,
    "editable": true
   },
   "outputs": [
    {
     "name": "stdout",
     "output_type": "stream",
     "text": [
      "1.12.1\n",
      "0.19.2\n"
     ]
    }
   ],
   "source": [
    "print(np.__version__);\n",
    "print(pd.__version__);"
   ]
  },
  {
   "cell_type": "code",
   "execution_count": 4,
   "metadata": {
    "collapsed": false,
    "deletable": true,
    "editable": true
   },
   "outputs": [
    {
     "data": {
      "text/plain": [
       "'3.2.0'"
      ]
     },
     "execution_count": 4,
     "metadata": {},
     "output_type": "execute_result"
    }
   ],
   "source": [
    "import  cv2 as cv\n",
    "cv.__version__"
   ]
  },
  {
   "cell_type": "code",
   "execution_count": 5,
   "metadata": {
    "collapsed": false,
    "deletable": true,
    "editable": true
   },
   "outputs": [
    {
     "name": "stderr",
     "output_type": "stream",
     "text": [
      "/home/boba/anaconda2/envs/tensorflow-gpu/lib/python2.7/site-packages/sklearn/cross_validation.py:44: DeprecationWarning: This module was deprecated in version 0.18 in favor of the model_selection module into which all the refactored classes and functions are moved. Also note that the interface of the new CV iterators are different from that of this module. This module will be removed in 0.20.\n",
      "  \"This module will be removed in 0.20.\", DeprecationWarning)\n"
     ]
    }
   ],
   "source": [
    "import xgboost as xgb"
   ]
  },
  {
   "cell_type": "code",
   "execution_count": 6,
   "metadata": {
    "collapsed": false,
    "deletable": true,
    "editable": true
   },
   "outputs": [],
   "source": [
    "sys.path.append('../Python')\n",
    "from helper import formFH, paths_input"
   ]
  },
  {
   "cell_type": "code",
   "execution_count": null,
   "metadata": {
    "collapsed": false,
    "deletable": true,
    "editable": true
   },
   "outputs": [],
   "source": []
  },
  {
   "cell_type": "code",
   "execution_count": 7,
   "metadata": {
    "collapsed": false,
    "deletable": true,
    "editable": true
   },
   "outputs": [
    {
     "name": "stdout",
     "output_type": "stream",
     "text": [
      "../Data/train-tif-v2 ../Data/test-tif-v2 ../Work/Train ../Work/Test\n",
      "../Data/train_v2.csv ../Data/train-tif-v2 ../Data/train-jpg ../Data/test-tif-v2 ../Data/test-jpg-v2\n"
     ]
    }
   ],
   "source": [
    "binsData = 96\n",
    "\n",
    "trLabels,trDirTIF,trDirJPG,teDirTIF,teDirJPG = paths_input()\n",
    "if False : # True :\n",
    "    trDirI = trDirJPG\n",
    "    teDirI = teDirJPG\n",
    "    ttExt  = '.jpg'\n",
    "else :\n",
    "    trDirI = trDirTIF\n",
    "    teDirI = teDirTIF\n",
    "    ttExt  = '.tif'\n",
    "trWork, teWork = '../Work/Train', '../Work/Test'\n",
    "print (trDirI,teDirI, trWork, teWork)\n",
    "print (trLabels,trDirTIF,trDirJPG,teDirTIF,teDirJPG)"
   ]
  },
  {
   "cell_type": "code",
   "execution_count": 8,
   "metadata": {
    "collapsed": true,
    "deletable": true,
    "editable": true
   },
   "outputs": [],
   "source": [
    "binsDataTIF = 96\n",
    "binsDataJPG = 96"
   ]
  },
  {
   "cell_type": "code",
   "execution_count": null,
   "metadata": {
    "collapsed": false,
    "deletable": true,
    "editable": true
   },
   "outputs": [],
   "source": []
  },
  {
   "cell_type": "code",
   "execution_count": 9,
   "metadata": {
    "collapsed": false,
    "deletable": true,
    "editable": true
   },
   "outputs": [
    {
     "data": {
      "text/html": [
       "<div>\n",
       "<table border=\"1\" class=\"dataframe\">\n",
       "  <thead>\n",
       "    <tr style=\"text-align: right;\">\n",
       "      <th></th>\n",
       "      <th>image_name</th>\n",
       "      <th>tags</th>\n",
       "    </tr>\n",
       "  </thead>\n",
       "  <tbody>\n",
       "    <tr>\n",
       "      <th>0</th>\n",
       "      <td>train_0</td>\n",
       "      <td>haze primary</td>\n",
       "    </tr>\n",
       "    <tr>\n",
       "      <th>1</th>\n",
       "      <td>train_1</td>\n",
       "      <td>agriculture clear primary water</td>\n",
       "    </tr>\n",
       "    <tr>\n",
       "      <th>2</th>\n",
       "      <td>train_2</td>\n",
       "      <td>clear primary</td>\n",
       "    </tr>\n",
       "    <tr>\n",
       "      <th>3</th>\n",
       "      <td>train_3</td>\n",
       "      <td>clear primary</td>\n",
       "    </tr>\n",
       "    <tr>\n",
       "      <th>4</th>\n",
       "      <td>train_4</td>\n",
       "      <td>agriculture clear habitation primary road</td>\n",
       "    </tr>\n",
       "  </tbody>\n",
       "</table>\n",
       "</div>"
      ],
      "text/plain": [
       "  image_name                                       tags\n",
       "0    train_0                               haze primary\n",
       "1    train_1            agriculture clear primary water\n",
       "2    train_2                              clear primary\n",
       "3    train_3                              clear primary\n",
       "4    train_4  agriculture clear habitation primary road"
      ]
     },
     "execution_count": 9,
     "metadata": {},
     "output_type": "execute_result"
    }
   ],
   "source": [
    "labels_df = pd.read_csv(trLabels)\n",
    "labels_df.head()"
   ]
  },
  {
   "cell_type": "code",
   "execution_count": 10,
   "metadata": {
    "collapsed": true,
    "deletable": true,
    "editable": true
   },
   "outputs": [],
   "source": [
    "# Build list with unique labels\n",
    "label_list = []\n",
    "for tag_str in labels_df.tags.values:\n",
    "    labels = tag_str.split(' ')\n",
    "    for label in labels:\n",
    "        if label not in label_list:\n",
    "            label_list.append(label)"
   ]
  },
  {
   "cell_type": "code",
   "execution_count": 11,
   "metadata": {
    "collapsed": false,
    "deletable": true,
    "editable": true
   },
   "outputs": [],
   "source": [
    "# Add features (0 or 1) for every label as dataframe field \n",
    "for label in label_list:\n",
    "    labels_df[label] = labels_df['tags'].apply(lambda x: 1 if label in x.split(' ') else 0)\n",
    "#labels_df.head()"
   ]
  },
  {
   "cell_type": "code",
   "execution_count": 12,
   "metadata": {
    "collapsed": false,
    "deletable": true,
    "editable": true
   },
   "outputs": [],
   "source": [
    "weather_labels = ['clear', 'partly_cloudy', 'haze', 'cloudy']\n",
    "land_labels = ['primary', 'agriculture', 'water', 'cultivation', 'habitation' ]\n",
    "rare_labels = [l for l in label_list if labels_df[label_list].sum()[l] < 2000]\n",
    "#rare_labels              "
   ]
  },
  {
   "cell_type": "code",
   "execution_count": null,
   "metadata": {
    "collapsed": false,
    "deletable": true,
    "editable": true
   },
   "outputs": [],
   "source": []
  },
  {
   "cell_type": "code",
   "execution_count": 13,
   "metadata": {
    "collapsed": false,
    "deletable": true,
    "editable": true
   },
   "outputs": [],
   "source": [
    "labels = label_list; #weather_labels;\n",
    "nameList =labels_df[labels_df[labels].sum(axis=1)>0].image_name.tolist(); len(nameList)\n",
    "labelList=labels_df[labels_df[labels].sum(axis=1)>0][labels].as_matrix();\n",
    "#labelList[:6,:]\n",
    "#labels_df.head()"
   ]
  },
  {
   "cell_type": "code",
   "execution_count": null,
   "metadata": {
    "collapsed": true,
    "deletable": true,
    "editable": true
   },
   "outputs": [],
   "source": []
  },
  {
   "cell_type": "code",
   "execution_count": 18,
   "metadata": {
    "collapsed": false,
    "deletable": true,
    "editable": true
   },
   "outputs": [
    {
     "data": {
      "text/plain": [
       "((40479, 578), (40479, 255))"
      ]
     },
     "execution_count": 18,
     "metadata": {},
     "output_type": "execute_result"
    }
   ],
   "source": [
    "# Данные для объединения от jpg\n",
    "binsDataJPG2 = 64\n",
    "trX_TIF  = np.load('../Work/train-data-XX'+str(binsDataTIF)+'.tif'+'.npy')\n",
    "trX_JPG  = np.load('../Work/train-data-XX'+str(binsDataJPG)+'.jpg'+'.npy')\n",
    "##trX_JPG2 = np.load('../Work/train-data-XX'+str(binsDataJPG2)+'.jpg'+'.npy')\n",
    "trY      = np.load('../Work/train-data-YY'+str(binsDataTIF)+'.tif'+'.npy')\n",
    "trX_TIF.shape, trX_JPG.shape"
   ]
  },
  {
   "cell_type": "code",
   "execution_count": 19,
   "metadata": {
    "collapsed": false,
    "deletable": true,
    "editable": true
   },
   "outputs": [
    {
     "data": {
      "text/plain": [
       "(96, 85, 288)"
      ]
     },
     "execution_count": 19,
     "metadata": {},
     "output_type": "execute_result"
    }
   ],
   "source": [
    "578/6, 255/3, 96+96+96"
   ]
  },
  {
   "cell_type": "code",
   "execution_count": 20,
   "metadata": {
    "collapsed": false,
    "deletable": true,
    "editable": true
   },
   "outputs": [],
   "source": [
    "## Обрезка видимой части и использование только n, nvi, dwi\n",
    "##trX_TIF = trX_TIF[:,288:]"
   ]
  },
  {
   "cell_type": "code",
   "execution_count": 21,
   "metadata": {
    "collapsed": false,
    "deletable": true,
    "editable": true
   },
   "outputs": [],
   "source": [
    "##trX_TIF.shape, 290/3"
   ]
  },
  {
   "cell_type": "code",
   "execution_count": 22,
   "metadata": {
    "collapsed": false,
    "deletable": true,
    "editable": true
   },
   "outputs": [
    {
     "name": "stdout",
     "output_type": "stream",
     "text": [
      "(40479, 833) (40479, 578) (40479, 255) (40479, 17)\n"
     ]
    }
   ],
   "source": [
    "##trXX = np.hstack([trX_JPG,trX_JPG2,trX_TIF])\n",
    "trXX = np.hstack([trX_JPG,trX_TIF])\n",
    "trX  = trXX\n",
    "print (trX.shape,trX_TIF.shape,trX_JPG.shape,trY.shape)\n",
    "##del trXX,trX_JPG,trX_TIF,trX_JPG2\n",
    "del trXX,trX_JPG,trX_TIF,trX_JPG2"
   ]
  },
  {
   "cell_type": "code",
   "execution_count": null,
   "metadata": {
    "collapsed": false,
    "deletable": true,
    "editable": true
   },
   "outputs": [],
   "source": []
  },
  {
   "cell_type": "code",
   "execution_count": 23,
   "metadata": {
    "collapsed": false,
    "deletable": true,
    "editable": true
   },
   "outputs": [],
   "source": [
    "# Строим основные массивы\n",
    "dtrain = xgb.DMatrix(trX,label=trY[:,0])"
   ]
  },
  {
   "cell_type": "code",
   "execution_count": null,
   "metadata": {
    "collapsed": false,
    "deletable": true,
    "editable": true
   },
   "outputs": [],
   "source": []
  },
  {
   "cell_type": "code",
   "execution_count": 24,
   "metadata": {
    "collapsed": true,
    "deletable": true,
    "editable": true
   },
   "outputs": [],
   "source": [
    "# Построение списка bst - моделей\n",
    "def getListBST (param, trX, trY, nfold=3, early_stop=20) :\n",
    "    dtrain = xgb.DMatrix(trX,label=trY[:,0])\n",
    "    results, bstList = [], []\n",
    "    for i in range(trY.shape[1]) :\n",
    "        print ('Working: {}'.format(i))\n",
    "        dtrain.set_label(trY[:,i])\n",
    "        history = xgb.cv(param, dtrain, metrics=['auc'], \n",
    "                         verbose_eval=30, num_boost_round=5000, nfold=nfold, \n",
    "                         early_stopping_rounds=early_stop)\n",
    "        results.append(history)\n",
    "        rvalidCV, watchlistCV = {}, [(dtrain,'train')]\n",
    "        bst = xgb.train(param, dtrain, history['test-auc-mean'].argmax()+1, watchlistCV) \n",
    "        bstList.append(bst)\n",
    "    return(bstList)\n",
    "\n",
    "# Построение решения по dmatrix и bst списку\n",
    "def buildPredict (dData, bstList) :\n",
    "    trYP = []\n",
    "    for bstI in bstList :\n",
    "        trYP1 = bstI.predict(dData); trYP.append(trYP1)\n",
    "    trYP = np.array(trYP).T\n",
    "    #type(trYP),trYP.shape\n",
    "    return(trYP)\n",
    "\n",
    "# Построение решения по np.array (DataFrame?) и bst списку\n",
    "def buildPredictX (Data, bstList) :\n",
    "    dData = xgb.DMatrix(Data);\n",
    "    return (buildPredict(dData,bstList))"
   ]
  },
  {
   "cell_type": "code",
   "execution_count": 25,
   "metadata": {
    "collapsed": true,
    "deletable": true,
    "editable": true
   },
   "outputs": [],
   "source": [
    "# Процедуры для оценки результативности\n",
    "\n",
    "def getConfusion (tGroundTrue, tPredict) :\n",
    "    cList = []\n",
    "    for i in range(tPredict.shape[1]) :\n",
    "        cList.append(skm.confusion_matrix(tGroundTrue[:,i],tPredict[:,i]))\n",
    "    return(np.array(cList))\n",
    "\n",
    "def getRocAUC (tGroundTrue, tPredict) :\n",
    "    rList = []\n",
    "    for i in range(tPredict.shape[1]) :\n",
    "        rList.append(skm.roc_auc_score(tGroundTrue[:,i],tPredict[:,i]))\n",
    "    return(np.array(rList))"
   ]
  },
  {
   "cell_type": "code",
   "execution_count": 54,
   "metadata": {
    "collapsed": false
   },
   "outputs": [
    {
     "data": {
      "text/plain": [
       "(array([ 0.39,  0.42,  0.46,  0.54,  0.4 ,  0.35,  0.44,  0.35,  0.19,\n",
       "         0.25,  0.08,  0.08,  0.24,  0.1 ,  0.19,  0.22,  0.14]),\n",
       " [(39.0, 0.97872971170236422, 0.97769213666345511, 861, 903),\n",
       "  (42.0, 0.99997529583240696, 0.99997529583240696, 1, 1),\n",
       "  (46.0, 0.94021591442476349, 0.93851132686084138, 2420, 2489),\n",
       "  (54.0, 0.97490056572543793, 0.974282961535611, 1016, 1041),\n",
       "  (40.0, 0.93611502260431334, 0.93260703080609697, 2586, 2728),\n",
       "  (35.0, 0.98085427011536841, 0.97643222411620845, 775, 954),\n",
       "  (44.0, 0.9399194644136466, 0.93653499345339564, 2432, 2569),\n",
       "  (35.0, 0.9494058647693866, 0.93962301440252971, 2048, 2444),\n",
       "  (19.0, 0.99945650831295241, 0.99752958324069274, 22, 100),\n",
       "  (25.0, 1.0, 1.0, 0, 0),\n",
       "  (8.0, 1.0, 1.0, 0, 0),\n",
       "  (8.0, 1.0, 1.0, 0, 0),\n",
       "  (24.0, 0.99041478297388774, 0.98715383285160208, 388, 520),\n",
       "  (10.0, 1.0, 1.0, 0, 0),\n",
       "  (19.0, 0.99622026235825989, 0.99407099977766245, 153, 240),\n",
       "  (22.0, 0.999332987474987, 0.99770251241384422, 27, 93),\n",
       "  (14.0, 0.99965414165369693, 0.99891301662590481, 14, 44)])"
      ]
     },
     "execution_count": 54,
     "metadata": {},
     "output_type": "execute_result"
    }
   ],
   "source": [
    "# Построение пределов прохождения для предсказанного\n",
    "def getTh (tGround,tPredict, prec=100 ) :\n",
    "    ixx,iacc = [], []\n",
    "    for i in range(tGround.shape[1]) :\n",
    "        max, maxxx = 0.0, 0.0\n",
    "        for xx in range(0,prec+1) :\n",
    "            tempYP = getProb01(tPredict[:,i],th=(float(xx)/prec)); #print(tPredict[:,1],tempYP[0])\n",
    "            temp = skm.accuracy_score(tGround[:,i],tempYP)\n",
    "            #print(float(xx/10.0),temp)\n",
    "            if (temp>max) : \n",
    "                max = temp; maxxx = float(xx)\n",
    "                temp = skm.confusion_matrix(tGround[:,i],tempYP);\n",
    "                minloss = temp[0][1]+temp[1][0]\n",
    "        ixx.append(maxxx)\n",
    "        tempYP = getProb01 (tPredict[:,i])\n",
    "        temp = skm.accuracy_score(tGround[:,i],tempYP)\n",
    "        minloss05 = skm.confusion_matrix(tGround[:,i],tempYP);\n",
    "        minloss05 = minloss05[0][1]+minloss05[1][0]\n",
    "        iacc.append((maxxx,max,temp,minloss,minloss05))\n",
    "    ixx = [float(xx/prec) for xx in ixx]\n",
    "    return (ixx,iacc)\n",
    "ixx, iacc = getTh(trY,trYPP, prec=100)\n",
    "np.array(ixx) , iacc"
   ]
  },
  {
   "cell_type": "code",
   "execution_count": 26,
   "metadata": {
    "collapsed": true,
    "deletable": true,
    "editable": true
   },
   "outputs": [],
   "source": [
    "# Оценка нескольких наборов\n",
    "def getProb01 (trYP, th=0.5) :\n",
    "    trYY = trYP.copy()\n",
    "    trYY[trYY<th] = 0\n",
    "    trYY[trYY>0]  = 1\n",
    "    return (trYY)\n",
    "\n",
    "def estimateTrain (estimateList, param) :\n",
    "    res = []\n",
    "    for jpgtif, bins in estimateList :\n",
    "        trX     = np.load('../Work/train-data-XX'+str(bins)+jpgtif+'.npy')\n",
    "        trY     = np.load('../Work/train-data-YY'+str(bins)+jpgtif+'.npy')\n",
    "        listBST = getListBST(param, trX, trY)\n",
    "        trYP    = buildPredictX(trX,listBST)\n",
    "        trYY    = getProb01(trYP)\n",
    "        res.append(np.array(getConfusion(trY,trYY)))\n",
    "    return(res)      "
   ]
  },
  {
   "cell_type": "code",
   "execution_count": 27,
   "metadata": {
    "collapsed": true,
    "deletable": true,
    "editable": true
   },
   "outputs": [],
   "source": [
    "param = {\n",
    "         'objective':'reg:logistic', \n",
    "         #'num_class':17,\n",
    "         #'eta':0.05, \n",
    "         #'max_depth':9, 'subsample':0.8, 'colsample_bytree':0.8, \n",
    "         #'metrics':'rmse'\n",
    "         'eval_metric':['auc','rmse']\n",
    "        }\n",
    "param['silent']=True"
   ]
  },
  {
   "cell_type": "code",
   "execution_count": null,
   "metadata": {
    "collapsed": true,
    "deletable": true,
    "editable": true
   },
   "outputs": [],
   "source": []
  },
  {
   "cell_type": "code",
   "execution_count": 71,
   "metadata": {
    "collapsed": false,
    "deletable": true,
    "editable": true
   },
   "outputs": [
    {
     "name": "stdout",
     "output_type": "stream",
     "text": [
      "CPU times: user 0 ns, sys: 0 ns, total: 0 ns\n",
      "Wall time: 14.1 µs\n"
     ]
    }
   ],
   "source": [
    "#xJPG = estimateTrain([('.jpg',32),('.jpg',64),('.jpg',96)],param)\n",
    "%time"
   ]
  },
  {
   "cell_type": "code",
   "execution_count": 64,
   "metadata": {
    "collapsed": false,
    "deletable": true,
    "editable": true
   },
   "outputs": [
    {
     "name": "stdout",
     "output_type": "stream",
     "text": [
      "19743 [1224  629 3295  576 4277 1799 2939 3338  206   13  408    0  433   13  234\n",
      "  324   35]\n",
      "18538 [1248   90 3625 1106 2927 1603 3518 2655  194   38  233    0  658    0  264\n",
      "  303   76]\n",
      "15592 [1338  470 2304  551 2569 1136 3111 2691  168  143   18   24  532    0  269\n",
      "  227   41]\n",
      "CPU times: user 0 ns, sys: 0 ns, total: 0 ns\n",
      "Wall time: 5.96 µs\n"
     ]
    }
   ],
   "source": [
    "#xJPG\n",
    "for cms in xJPG :\n",
    "    cm = cms[:,0,1]+cms[:,1,0]\n",
    "    print (cm.sum(),cms[:,0,1]+cms[:,1,0])\n",
    "%time"
   ]
  },
  {
   "cell_type": "code",
   "execution_count": null,
   "metadata": {
    "collapsed": true,
    "deletable": true,
    "editable": true
   },
   "outputs": [],
   "source": []
  },
  {
   "cell_type": "code",
   "execution_count": 72,
   "metadata": {
    "collapsed": false,
    "deletable": true,
    "editable": true
   },
   "outputs": [
    {
     "name": "stdout",
     "output_type": "stream",
     "text": [
      "CPU times: user 0 ns, sys: 0 ns, total: 0 ns\n",
      "Wall time: 14.1 µs\n"
     ]
    }
   ],
   "source": [
    "#xTIF = estimateTrain([('.tif',32),('.tif',64),('.tif',96)],param)\n",
    "%time"
   ]
  },
  {
   "cell_type": "code",
   "execution_count": 66,
   "metadata": {
    "collapsed": false,
    "deletable": true,
    "editable": true
   },
   "outputs": [
    {
     "name": "stdout",
     "output_type": "stream",
     "text": [
      "23842 [1438 1001 3107 1913 3395 1967 4088 3460  188  413 1761   17  492    6  197\n",
      "  301   98]\n",
      "21119 [1015  864 3257  846 3520 1771 3654 3382  149  369  994   54  654    9  198\n",
      "  304   79]\n",
      "17984 [ 874  783 2743  732 3002 1824 3533 3074   57   99  146    0  658   24  303\n",
      "   53   79]\n",
      "CPU times: user 0 ns, sys: 0 ns, total: 0 ns\n",
      "Wall time: 4.05 µs\n"
     ]
    }
   ],
   "source": [
    "for cms in xTIF :\n",
    "    cm = cms[:,0,1]+cms[:,1,0]\n",
    "    print (cm.sum(),cms[:,0,1]+cms[:,1,0])\n",
    "%time"
   ]
  },
  {
   "cell_type": "code",
   "execution_count": null,
   "metadata": {
    "collapsed": true,
    "deletable": true,
    "editable": true
   },
   "outputs": [],
   "source": []
  },
  {
   "cell_type": "code",
   "execution_count": 28,
   "metadata": {
    "collapsed": false,
    "deletable": true,
    "editable": true
   },
   "outputs": [
    {
     "name": "stdout",
     "output_type": "stream",
     "text": [
      "Working: 0\n",
      "[0]\ttrain-auc:0.944112+0.00472698\ttest-auc:0.927819+0.00282673\n",
      "[30]\ttrain-auc:0.991877+0.000420077\ttest-auc:0.962549+0.00190942\n",
      "[60]\ttrain-auc:0.997906+0.000273818\ttest-auc:0.962114+0.00203063\n",
      "[0]\ttrain-auc:0.949811\ttrain-rmse:0.377729\n",
      "[1]\ttrain-auc:0.958292\ttrain-rmse:0.30117\n",
      "[2]\ttrain-auc:0.962875\ttrain-rmse:0.250495\n",
      "[3]\ttrain-auc:0.9654\ttrain-rmse:0.218911\n",
      "[4]\ttrain-auc:0.968142\ttrain-rmse:0.198558\n",
      "[5]\ttrain-auc:0.969691\ttrain-rmse:0.186712\n",
      "[6]\ttrain-auc:0.97089\ttrain-rmse:0.179569\n",
      "[7]\ttrain-auc:0.972009\ttrain-rmse:0.174467\n",
      "[8]\ttrain-auc:0.974363\ttrain-rmse:0.170363\n",
      "[9]\ttrain-auc:0.975133\ttrain-rmse:0.168372\n",
      "[10]\ttrain-auc:0.976997\ttrain-rmse:0.166404\n",
      "[11]\ttrain-auc:0.978085\ttrain-rmse:0.164592\n",
      "[12]\ttrain-auc:0.978602\ttrain-rmse:0.163674\n",
      "[13]\ttrain-auc:0.979594\ttrain-rmse:0.162458\n",
      "[14]\ttrain-auc:0.980833\ttrain-rmse:0.161038\n",
      "[15]\ttrain-auc:0.982099\ttrain-rmse:0.159384\n",
      "[16]\ttrain-auc:0.983235\ttrain-rmse:0.15723\n",
      "[17]\ttrain-auc:0.983835\ttrain-rmse:0.155629\n",
      "[18]\ttrain-auc:0.984107\ttrain-rmse:0.155206\n",
      "[19]\ttrain-auc:0.984343\ttrain-rmse:0.154923\n",
      "[20]\ttrain-auc:0.984991\ttrain-rmse:0.153315\n",
      "[21]\ttrain-auc:0.985609\ttrain-rmse:0.151589\n",
      "[22]\ttrain-auc:0.985843\ttrain-rmse:0.150793\n",
      "[23]\ttrain-auc:0.986392\ttrain-rmse:0.149665\n",
      "[24]\ttrain-auc:0.98685\ttrain-rmse:0.148806\n",
      "[25]\ttrain-auc:0.987181\ttrain-rmse:0.14788\n",
      "[26]\ttrain-auc:0.987567\ttrain-rmse:0.147301\n",
      "[27]\ttrain-auc:0.987976\ttrain-rmse:0.146402\n",
      "[28]\ttrain-auc:0.988379\ttrain-rmse:0.144845\n",
      "[29]\ttrain-auc:0.988742\ttrain-rmse:0.1443\n",
      "[30]\ttrain-auc:0.98897\ttrain-rmse:0.143672\n",
      "[31]\ttrain-auc:0.989244\ttrain-rmse:0.142924\n",
      "[32]\ttrain-auc:0.989681\ttrain-rmse:0.141668\n",
      "[33]\ttrain-auc:0.989831\ttrain-rmse:0.141146\n",
      "[34]\ttrain-auc:0.990171\ttrain-rmse:0.139885\n",
      "[35]\ttrain-auc:0.990283\ttrain-rmse:0.139366\n",
      "[36]\ttrain-auc:0.990638\ttrain-rmse:0.138797\n",
      "[37]\ttrain-auc:0.990881\ttrain-rmse:0.137942\n",
      "[38]\ttrain-auc:0.991014\ttrain-rmse:0.137496\n",
      "[39]\ttrain-auc:0.991095\ttrain-rmse:0.137205\n",
      "[40]\ttrain-auc:0.991227\ttrain-rmse:0.13666\n",
      "[41]\ttrain-auc:0.991588\ttrain-rmse:0.135612\n",
      "[42]\ttrain-auc:0.991752\ttrain-rmse:0.135014\n",
      "[43]\ttrain-auc:0.992124\ttrain-rmse:0.133806\n",
      "[44]\ttrain-auc:0.99263\ttrain-rmse:0.132071\n",
      "[45]\ttrain-auc:0.992784\ttrain-rmse:0.131734\n",
      "[46]\ttrain-auc:0.992955\ttrain-rmse:0.130986\n",
      "[47]\ttrain-auc:0.99311\ttrain-rmse:0.130768\n",
      "Working: 1\n",
      "[0]\ttrain-auc:0.942427+0.00805313\ttest-auc:0.930001+0.00221779\n",
      "[30]\ttrain-auc:0.996375+0.000316108\ttest-auc:0.975487+0.00133803\n",
      "[60]\ttrain-auc:0.999465+5.42668e-05\ttest-auc:0.976022+0.00116839\n",
      "[90]\ttrain-auc:0.999938+4.89898e-06\ttest-auc:0.976498+0.000946301\n",
      "[120]\ttrain-auc:0.999997+9.42809e-07\ttest-auc:0.976731+0.000777702\n",
      "[150]\ttrain-auc:1+0\ttest-auc:0.976747+0.000807051\n",
      "[180]\ttrain-auc:1+0\ttest-auc:0.976808+0.000672135\n",
      "[210]\ttrain-auc:1+0\ttest-auc:0.976994+0.000649201\n",
      "[0]\ttrain-auc:0.937742\ttrain-rmse:0.375783\n",
      "[1]\ttrain-auc:0.96077\ttrain-rmse:0.296456\n",
      "[2]\ttrain-auc:0.966074\ttrain-rmse:0.244133\n",
      "[3]\ttrain-auc:0.969185\ttrain-rmse:0.209537\n",
      "[4]\ttrain-auc:0.971032\ttrain-rmse:0.186834\n",
      "[5]\ttrain-auc:0.976754\ttrain-rmse:0.173031\n",
      "[6]\ttrain-auc:0.98018\ttrain-rmse:0.163091\n",
      "[7]\ttrain-auc:0.982899\ttrain-rmse:0.15648\n",
      "[8]\ttrain-auc:0.984972\ttrain-rmse:0.15208\n",
      "[9]\ttrain-auc:0.986406\ttrain-rmse:0.14921\n",
      "[10]\ttrain-auc:0.987737\ttrain-rmse:0.146465\n",
      "[11]\ttrain-auc:0.988639\ttrain-rmse:0.144511\n",
      "[12]\ttrain-auc:0.989221\ttrain-rmse:0.143192\n",
      "[13]\ttrain-auc:0.98966\ttrain-rmse:0.14196\n",
      "[14]\ttrain-auc:0.989931\ttrain-rmse:0.141116\n",
      "[15]\ttrain-auc:0.990268\ttrain-rmse:0.140272\n",
      "[16]\ttrain-auc:0.990641\ttrain-rmse:0.138976\n",
      "[17]\ttrain-auc:0.990844\ttrain-rmse:0.138171\n",
      "[18]\ttrain-auc:0.991056\ttrain-rmse:0.137485\n",
      "[19]\ttrain-auc:0.991399\ttrain-rmse:0.135933\n",
      "[20]\ttrain-auc:0.99154\ttrain-rmse:0.13527\n",
      "[21]\ttrain-auc:0.991754\ttrain-rmse:0.13385\n",
      "[22]\ttrain-auc:0.992045\ttrain-rmse:0.132436\n",
      "[23]\ttrain-auc:0.992161\ttrain-rmse:0.132082\n",
      "[24]\ttrain-auc:0.992536\ttrain-rmse:0.130746\n",
      "[25]\ttrain-auc:0.992868\ttrain-rmse:0.129613\n",
      "[26]\ttrain-auc:0.993051\ttrain-rmse:0.128828\n",
      "[27]\ttrain-auc:0.993226\ttrain-rmse:0.127919\n",
      "[28]\ttrain-auc:0.993456\ttrain-rmse:0.126799\n",
      "[29]\ttrain-auc:0.993637\ttrain-rmse:0.126042\n",
      "[30]\ttrain-auc:0.993753\ttrain-rmse:0.125396\n",
      "[31]\ttrain-auc:0.993917\ttrain-rmse:0.124772\n",
      "[32]\ttrain-auc:0.994203\ttrain-rmse:0.123213\n",
      "[33]\ttrain-auc:0.994382\ttrain-rmse:0.122188\n",
      "[34]\ttrain-auc:0.994514\ttrain-rmse:0.121567\n",
      "[35]\ttrain-auc:0.994593\ttrain-rmse:0.12108\n",
      "[36]\ttrain-auc:0.994866\ttrain-rmse:0.119867\n",
      "[37]\ttrain-auc:0.994977\ttrain-rmse:0.119248\n",
      "[38]\ttrain-auc:0.995012\ttrain-rmse:0.119018\n",
      "[39]\ttrain-auc:0.99557\ttrain-rmse:0.116813\n",
      "[40]\ttrain-auc:0.995705\ttrain-rmse:0.115894\n",
      "[41]\ttrain-auc:0.995854\ttrain-rmse:0.114873\n",
      "[42]\ttrain-auc:0.995897\ttrain-rmse:0.114614\n",
      "[43]\ttrain-auc:0.996135\ttrain-rmse:0.113069\n",
      "[44]\ttrain-auc:0.996199\ttrain-rmse:0.112557\n",
      "[45]\ttrain-auc:0.996272\ttrain-rmse:0.111995\n",
      "[46]\ttrain-auc:0.996299\ttrain-rmse:0.11179\n",
      "[47]\ttrain-auc:0.996466\ttrain-rmse:0.110647\n",
      "[48]\ttrain-auc:0.996633\ttrain-rmse:0.109563\n",
      "[49]\ttrain-auc:0.996916\ttrain-rmse:0.10809\n",
      "[50]\ttrain-auc:0.996998\ttrain-rmse:0.107237\n",
      "[51]\ttrain-auc:0.997086\ttrain-rmse:0.106462\n",
      "[52]\ttrain-auc:0.997245\ttrain-rmse:0.105657\n",
      "[53]\ttrain-auc:0.997307\ttrain-rmse:0.104984\n",
      "[54]\ttrain-auc:0.997338\ttrain-rmse:0.104725\n",
      "[55]\ttrain-auc:0.997414\ttrain-rmse:0.104157\n",
      "[56]\ttrain-auc:0.997577\ttrain-rmse:0.10268\n",
      "[57]\ttrain-auc:0.997725\ttrain-rmse:0.101944\n",
      "[58]\ttrain-auc:0.997773\ttrain-rmse:0.101551\n",
      "[59]\ttrain-auc:0.997893\ttrain-rmse:0.100281\n",
      "[60]\ttrain-auc:0.997982\ttrain-rmse:0.099586\n",
      "[61]\ttrain-auc:0.998045\ttrain-rmse:0.099147\n",
      "[62]\ttrain-auc:0.998183\ttrain-rmse:0.097872\n",
      "[63]\ttrain-auc:0.998226\ttrain-rmse:0.097571\n",
      "[64]\ttrain-auc:0.998263\ttrain-rmse:0.09709\n",
      "[65]\ttrain-auc:0.998343\ttrain-rmse:0.09639\n",
      "[66]\ttrain-auc:0.99849\ttrain-rmse:0.095002\n",
      "[67]\ttrain-auc:0.998653\ttrain-rmse:0.093173\n",
      "[68]\ttrain-auc:0.998718\ttrain-rmse:0.092462\n",
      "[69]\ttrain-auc:0.998818\ttrain-rmse:0.091145\n",
      "[70]\ttrain-auc:0.998832\ttrain-rmse:0.090948\n",
      "[71]\ttrain-auc:0.998892\ttrain-rmse:0.089945\n",
      "[72]\ttrain-auc:0.998922\ttrain-rmse:0.089501\n",
      "[73]\ttrain-auc:0.998955\ttrain-rmse:0.089122\n",
      "[74]\ttrain-auc:0.999102\ttrain-rmse:0.08704\n",
      "[75]\ttrain-auc:0.999178\ttrain-rmse:0.085914\n",
      "[76]\ttrain-auc:0.999246\ttrain-rmse:0.084704\n",
      "[77]\ttrain-auc:0.999291\ttrain-rmse:0.083954\n",
      "[78]\ttrain-auc:0.999339\ttrain-rmse:0.082949\n",
      "[79]\ttrain-auc:0.999358\ttrain-rmse:0.082532\n",
      "[80]\ttrain-auc:0.999406\ttrain-rmse:0.081567\n",
      "[81]\ttrain-auc:0.999468\ttrain-rmse:0.080583\n",
      "[82]\ttrain-auc:0.999474\ttrain-rmse:0.080376\n",
      "[83]\ttrain-auc:0.999489\ttrain-rmse:0.079979\n",
      "[84]\ttrain-auc:0.999509\ttrain-rmse:0.079262\n",
      "[85]\ttrain-auc:0.999528\ttrain-rmse:0.078756\n",
      "[86]\ttrain-auc:0.999557\ttrain-rmse:0.077968\n",
      "[87]\ttrain-auc:0.999592\ttrain-rmse:0.077117\n",
      "[88]\ttrain-auc:0.999643\ttrain-rmse:0.075468\n",
      "[89]\ttrain-auc:0.999687\ttrain-rmse:0.074453\n",
      "[90]\ttrain-auc:0.999691\ttrain-rmse:0.074244\n",
      "[91]\ttrain-auc:0.9997\ttrain-rmse:0.074024\n",
      "[92]\ttrain-auc:0.999716\ttrain-rmse:0.073659\n",
      "[93]\ttrain-auc:0.999737\ttrain-rmse:0.072945\n",
      "[94]\ttrain-auc:0.999742\ttrain-rmse:0.072762\n",
      "[95]\ttrain-auc:0.999749\ttrain-rmse:0.072525\n",
      "[96]\ttrain-auc:0.999759\ttrain-rmse:0.072201\n",
      "[97]\ttrain-auc:0.999765\ttrain-rmse:0.071841\n",
      "[98]\ttrain-auc:0.999773\ttrain-rmse:0.071423\n",
      "[99]\ttrain-auc:0.999783\ttrain-rmse:0.07105\n",
      "[100]\ttrain-auc:0.999807\ttrain-rmse:0.069949\n",
      "[101]\ttrain-auc:0.999818\ttrain-rmse:0.06943\n",
      "[102]\ttrain-auc:0.999826\ttrain-rmse:0.069184\n",
      "[103]\ttrain-auc:0.999829\ttrain-rmse:0.068933\n",
      "[104]\ttrain-auc:0.999836\ttrain-rmse:0.068623\n",
      "[105]\ttrain-auc:0.999837\ttrain-rmse:0.068395\n",
      "[106]\ttrain-auc:0.999847\ttrain-rmse:0.068113\n",
      "[107]\ttrain-auc:0.999858\ttrain-rmse:0.067663\n",
      "[108]\ttrain-auc:0.999877\ttrain-rmse:0.066426\n",
      "[109]\ttrain-auc:0.999888\ttrain-rmse:0.065638\n",
      "[110]\ttrain-auc:0.999898\ttrain-rmse:0.064651\n",
      "[111]\ttrain-auc:0.999901\ttrain-rmse:0.064429\n",
      "[112]\ttrain-auc:0.999911\ttrain-rmse:0.063512\n",
      "[113]\ttrain-auc:0.999918\ttrain-rmse:0.062936\n",
      "[114]\ttrain-auc:0.999931\ttrain-rmse:0.06183\n",
      "[115]\ttrain-auc:0.999936\ttrain-rmse:0.061172\n",
      "[116]\ttrain-auc:0.999943\ttrain-rmse:0.060568\n",
      "[117]\ttrain-auc:0.999949\ttrain-rmse:0.059629\n",
      "[118]\ttrain-auc:0.99995\ttrain-rmse:0.059484\n",
      "[119]\ttrain-auc:0.999952\ttrain-rmse:0.059355\n",
      "[120]\ttrain-auc:0.999953\ttrain-rmse:0.059167\n",
      "[121]\ttrain-auc:0.999956\ttrain-rmse:0.058827\n",
      "[122]\ttrain-auc:0.999959\ttrain-rmse:0.058332\n",
      "[123]\ttrain-auc:0.999961\ttrain-rmse:0.05761\n",
      "[124]\ttrain-auc:0.999965\ttrain-rmse:0.057045\n",
      "[125]\ttrain-auc:0.999968\ttrain-rmse:0.056619\n",
      "[126]\ttrain-auc:0.999971\ttrain-rmse:0.05618\n",
      "[127]\ttrain-auc:0.999977\ttrain-rmse:0.055164\n",
      "[128]\ttrain-auc:0.999979\ttrain-rmse:0.054717\n",
      "[129]\ttrain-auc:0.999981\ttrain-rmse:0.054569\n",
      "[130]\ttrain-auc:0.999982\ttrain-rmse:0.054094\n",
      "[131]\ttrain-auc:0.999982\ttrain-rmse:0.053799\n",
      "[132]\ttrain-auc:0.999982\ttrain-rmse:0.053695\n",
      "[133]\ttrain-auc:0.999983\ttrain-rmse:0.053332\n",
      "[134]\ttrain-auc:0.999984\ttrain-rmse:0.053255\n",
      "[135]\ttrain-auc:0.999985\ttrain-rmse:0.05242\n",
      "[136]\ttrain-auc:0.999986\ttrain-rmse:0.052206\n",
      "[137]\ttrain-auc:0.999987\ttrain-rmse:0.051935\n",
      "[138]\ttrain-auc:0.999987\ttrain-rmse:0.051716\n",
      "[139]\ttrain-auc:0.999988\ttrain-rmse:0.051449\n",
      "[140]\ttrain-auc:0.99999\ttrain-rmse:0.050999\n",
      "[141]\ttrain-auc:0.999991\ttrain-rmse:0.050783\n",
      "[142]\ttrain-auc:0.999991\ttrain-rmse:0.050616\n",
      "[143]\ttrain-auc:0.999992\ttrain-rmse:0.05038\n",
      "[144]\ttrain-auc:0.999994\ttrain-rmse:0.049445\n",
      "[145]\ttrain-auc:0.999995\ttrain-rmse:0.048711\n",
      "[146]\ttrain-auc:0.999995\ttrain-rmse:0.048541\n",
      "[147]\ttrain-auc:0.999996\ttrain-rmse:0.047877\n",
      "[148]\ttrain-auc:0.999996\ttrain-rmse:0.047632\n",
      "[149]\ttrain-auc:0.999997\ttrain-rmse:0.047349\n",
      "[150]\ttrain-auc:0.999997\ttrain-rmse:0.046862\n",
      "[151]\ttrain-auc:0.999997\ttrain-rmse:0.046784\n",
      "[152]\ttrain-auc:0.999998\ttrain-rmse:0.046379\n",
      "[153]\ttrain-auc:0.999998\ttrain-rmse:0.045878\n",
      "[154]\ttrain-auc:0.999998\ttrain-rmse:0.045707\n",
      "[155]\ttrain-auc:0.999998\ttrain-rmse:0.045546\n",
      "[156]\ttrain-auc:0.999998\ttrain-rmse:0.044872\n",
      "[157]\ttrain-auc:0.999998\ttrain-rmse:0.044424\n",
      "[158]\ttrain-auc:0.999998\ttrain-rmse:0.044215\n",
      "[159]\ttrain-auc:0.999998\ttrain-rmse:0.044103\n",
      "[160]\ttrain-auc:0.999999\ttrain-rmse:0.043977\n",
      "[161]\ttrain-auc:0.999999\ttrain-rmse:0.043769\n",
      "[162]\ttrain-auc:0.999999\ttrain-rmse:0.043193\n",
      "[163]\ttrain-auc:0.999999\ttrain-rmse:0.04261\n",
      "[164]\ttrain-auc:0.999999\ttrain-rmse:0.04227\n",
      "[165]\ttrain-auc:0.999999\ttrain-rmse:0.042082\n",
      "[166]\ttrain-auc:0.999999\ttrain-rmse:0.041818\n",
      "[167]\ttrain-auc:1\ttrain-rmse:0.041642\n",
      "[168]\ttrain-auc:1\ttrain-rmse:0.041149\n",
      "[169]\ttrain-auc:1\ttrain-rmse:0.040654\n",
      "[170]\ttrain-auc:1\ttrain-rmse:0.040021\n",
      "[171]\ttrain-auc:1\ttrain-rmse:0.039842\n",
      "[172]\ttrain-auc:1\ttrain-rmse:0.039651\n",
      "[173]\ttrain-auc:1\ttrain-rmse:0.039376\n",
      "[174]\ttrain-auc:1\ttrain-rmse:0.03871\n",
      "[175]\ttrain-auc:1\ttrain-rmse:0.038454\n",
      "[176]\ttrain-auc:1\ttrain-rmse:0.038069\n",
      "[177]\ttrain-auc:1\ttrain-rmse:0.037589\n",
      "[178]\ttrain-auc:1\ttrain-rmse:0.037225\n",
      "[179]\ttrain-auc:1\ttrain-rmse:0.036864\n",
      "[180]\ttrain-auc:1\ttrain-rmse:0.03658\n",
      "[181]\ttrain-auc:1\ttrain-rmse:0.036271\n",
      "[182]\ttrain-auc:1\ttrain-rmse:0.036165\n",
      "[183]\ttrain-auc:1\ttrain-rmse:0.035784\n",
      "[184]\ttrain-auc:1\ttrain-rmse:0.035545\n",
      "[185]\ttrain-auc:1\ttrain-rmse:0.035315\n",
      "[186]\ttrain-auc:1\ttrain-rmse:0.035192\n",
      "[187]\ttrain-auc:1\ttrain-rmse:0.035061\n",
      "[188]\ttrain-auc:1\ttrain-rmse:0.03484\n",
      "[189]\ttrain-auc:1\ttrain-rmse:0.034652\n",
      "[190]\ttrain-auc:1\ttrain-rmse:0.034202\n",
      "[191]\ttrain-auc:1\ttrain-rmse:0.033702\n",
      "[192]\ttrain-auc:1\ttrain-rmse:0.033504\n",
      "[193]\ttrain-auc:1\ttrain-rmse:0.033196\n",
      "[194]\ttrain-auc:1\ttrain-rmse:0.032951\n",
      "[195]\ttrain-auc:1\ttrain-rmse:0.032791\n",
      "[196]\ttrain-auc:1\ttrain-rmse:0.032343\n",
      "[197]\ttrain-auc:1\ttrain-rmse:0.0321\n",
      "[198]\ttrain-auc:1\ttrain-rmse:0.031949\n",
      "[199]\ttrain-auc:1\ttrain-rmse:0.031715\n",
      "[200]\ttrain-auc:1\ttrain-rmse:0.031547\n",
      "[201]\ttrain-auc:1\ttrain-rmse:0.031215\n",
      "[202]\ttrain-auc:1\ttrain-rmse:0.031014\n",
      "[203]\ttrain-auc:1\ttrain-rmse:0.030904\n",
      "[204]\ttrain-auc:1\ttrain-rmse:0.030778\n",
      "[205]\ttrain-auc:1\ttrain-rmse:0.030646\n",
      "[206]\ttrain-auc:1\ttrain-rmse:0.030475\n",
      "[207]\ttrain-auc:1\ttrain-rmse:0.029994\n",
      "[208]\ttrain-auc:1\ttrain-rmse:0.029831\n",
      "[209]\ttrain-auc:1\ttrain-rmse:0.029661\n",
      "[210]\ttrain-auc:1\ttrain-rmse:0.029516\n",
      "[211]\ttrain-auc:1\ttrain-rmse:0.029279\n",
      "Working: 2\n",
      "[0]\ttrain-auc:0.903335+0.00205343\ttest-auc:0.887996+0.000489963\n",
      "[30]\ttrain-auc:0.972575+0.00170159\ttest-auc:0.931884+0.001976\n",
      "[60]\ttrain-auc:0.98568+0.00132355\ttest-auc:0.933843+0.0023235\n",
      "[90]\ttrain-auc:0.99287+0.00102448\ttest-auc:0.934089+0.00244709\n",
      "[0]\ttrain-auc:0.903675\ttrain-rmse:0.424951\n",
      "[1]\ttrain-auc:0.91856\ttrain-rmse:0.378716\n",
      "[2]\ttrain-auc:0.925305\ttrain-rmse:0.349234\n",
      "[3]\ttrain-auc:0.929935\ttrain-rmse:0.330596\n",
      "[4]\ttrain-auc:0.933286\ttrain-rmse:0.318612\n",
      "[5]\ttrain-auc:0.936642\ttrain-rmse:0.309226\n",
      "[6]\ttrain-auc:0.939369\ttrain-rmse:0.30291\n",
      "[7]\ttrain-auc:0.942065\ttrain-rmse:0.297831\n",
      "[8]\ttrain-auc:0.944379\ttrain-rmse:0.293421\n",
      "[9]\ttrain-auc:0.945934\ttrain-rmse:0.290378\n",
      "[10]\ttrain-auc:0.947869\ttrain-rmse:0.287242\n",
      "[11]\ttrain-auc:0.949871\ttrain-rmse:0.284278\n",
      "[12]\ttrain-auc:0.950973\ttrain-rmse:0.282493\n",
      "[13]\ttrain-auc:0.952348\ttrain-rmse:0.280472\n",
      "[14]\ttrain-auc:0.954086\ttrain-rmse:0.27767\n",
      "[15]\ttrain-auc:0.955161\ttrain-rmse:0.276079\n",
      "[16]\ttrain-auc:0.956051\ttrain-rmse:0.275\n",
      "[17]\ttrain-auc:0.957368\ttrain-rmse:0.272941\n",
      "[18]\ttrain-auc:0.957848\ttrain-rmse:0.272186\n",
      "[19]\ttrain-auc:0.958189\ttrain-rmse:0.271659\n",
      "[20]\ttrain-auc:0.959134\ttrain-rmse:0.270195\n",
      "[21]\ttrain-auc:0.959726\ttrain-rmse:0.26923\n",
      "[22]\ttrain-auc:0.960432\ttrain-rmse:0.267938\n",
      "[23]\ttrain-auc:0.960865\ttrain-rmse:0.267387\n",
      "[24]\ttrain-auc:0.961552\ttrain-rmse:0.266148\n",
      "[25]\ttrain-auc:0.962397\ttrain-rmse:0.264734\n",
      "[26]\ttrain-auc:0.962981\ttrain-rmse:0.264088\n",
      "[27]\ttrain-auc:0.963532\ttrain-rmse:0.263106\n",
      "[28]\ttrain-auc:0.963791\ttrain-rmse:0.262742\n",
      "[29]\ttrain-auc:0.964586\ttrain-rmse:0.261389\n",
      "[30]\ttrain-auc:0.96491\ttrain-rmse:0.260721\n",
      "[31]\ttrain-auc:0.966185\ttrain-rmse:0.258442\n",
      "[32]\ttrain-auc:0.967449\ttrain-rmse:0.256063\n",
      "[33]\ttrain-auc:0.967663\ttrain-rmse:0.255734\n",
      "[34]\ttrain-auc:0.967836\ttrain-rmse:0.255389\n",
      "[35]\ttrain-auc:0.968485\ttrain-rmse:0.254083\n",
      "[36]\ttrain-auc:0.969\ttrain-rmse:0.252863\n",
      "[37]\ttrain-auc:0.969201\ttrain-rmse:0.252459\n",
      "[38]\ttrain-auc:0.970321\ttrain-rmse:0.250561\n",
      "[39]\ttrain-auc:0.970852\ttrain-rmse:0.249329\n",
      "[40]\ttrain-auc:0.971563\ttrain-rmse:0.247923\n",
      "[41]\ttrain-auc:0.972296\ttrain-rmse:0.246534\n",
      "[42]\ttrain-auc:0.972965\ttrain-rmse:0.245257\n",
      "[43]\ttrain-auc:0.973121\ttrain-rmse:0.244898\n",
      "[44]\ttrain-auc:0.973342\ttrain-rmse:0.244469\n",
      "[45]\ttrain-auc:0.973597\ttrain-rmse:0.243931\n",
      "[46]\ttrain-auc:0.973968\ttrain-rmse:0.243037\n",
      "[47]\ttrain-auc:0.97456\ttrain-rmse:0.241666\n",
      "[48]\ttrain-auc:0.975289\ttrain-rmse:0.240021\n",
      "[49]\ttrain-auc:0.975586\ttrain-rmse:0.239427\n",
      "[50]\ttrain-auc:0.9761\ttrain-rmse:0.238436\n",
      "[51]\ttrain-auc:0.976333\ttrain-rmse:0.237937\n",
      "[52]\ttrain-auc:0.976511\ttrain-rmse:0.237506\n",
      "[53]\ttrain-auc:0.976988\ttrain-rmse:0.236296\n",
      "[54]\ttrain-auc:0.977387\ttrain-rmse:0.23529\n",
      "[55]\ttrain-auc:0.977974\ttrain-rmse:0.233849\n",
      "[56]\ttrain-auc:0.978371\ttrain-rmse:0.23289\n",
      "[57]\ttrain-auc:0.978843\ttrain-rmse:0.231961\n",
      "[58]\ttrain-auc:0.979167\ttrain-rmse:0.231108\n",
      "[59]\ttrain-auc:0.979589\ttrain-rmse:0.230389\n",
      "[60]\ttrain-auc:0.979959\ttrain-rmse:0.229475\n",
      "[61]\ttrain-auc:0.980025\ttrain-rmse:0.229277\n",
      "[62]\ttrain-auc:0.980168\ttrain-rmse:0.228977\n",
      "[63]\ttrain-auc:0.980286\ttrain-rmse:0.22863\n",
      "[64]\ttrain-auc:0.980473\ttrain-rmse:0.228197\n",
      "[65]\ttrain-auc:0.980722\ttrain-rmse:0.227614\n",
      "[66]\ttrain-auc:0.980959\ttrain-rmse:0.227041\n",
      "[67]\ttrain-auc:0.981524\ttrain-rmse:0.22551\n",
      "[68]\ttrain-auc:0.981765\ttrain-rmse:0.224649\n",
      "[69]\ttrain-auc:0.981919\ttrain-rmse:0.224164\n",
      "[70]\ttrain-auc:0.982181\ttrain-rmse:0.223323\n",
      "[71]\ttrain-auc:0.982449\ttrain-rmse:0.222396\n",
      "[72]\ttrain-auc:0.982716\ttrain-rmse:0.221581\n",
      "[73]\ttrain-auc:0.983083\ttrain-rmse:0.220594\n",
      "[74]\ttrain-auc:0.983151\ttrain-rmse:0.220425\n",
      "[75]\ttrain-auc:0.983421\ttrain-rmse:0.219698\n",
      "[76]\ttrain-auc:0.983563\ttrain-rmse:0.21914\n",
      "Working: 3\n",
      "[0]\ttrain-auc:0.957755+0.00126044\ttest-auc:0.948295+0.00109544\n",
      "[30]\ttrain-auc:0.994103+0.000514441\ttest-auc:0.976748+0.00081698\n",
      "[60]\ttrain-auc:0.998095+0.000410355\ttest-auc:0.977397+0.000626318\n",
      "[0]\ttrain-auc:0.956812\ttrain-rmse:0.398394\n",
      "[1]\ttrain-auc:0.964525\ttrain-rmse:0.336814\n",
      "[2]\ttrain-auc:0.969479\ttrain-rmse:0.29528\n",
      "[3]\ttrain-auc:0.971811\ttrain-rmse:0.268494\n",
      "[4]\ttrain-auc:0.973295\ttrain-rmse:0.251742\n",
      "[5]\ttrain-auc:0.974962\ttrain-rmse:0.239471\n",
      "[6]\ttrain-auc:0.977187\ttrain-rmse:0.231281\n",
      "[7]\ttrain-auc:0.978366\ttrain-rmse:0.224497\n",
      "[8]\ttrain-auc:0.979606\ttrain-rmse:0.219116\n",
      "[9]\ttrain-auc:0.981112\ttrain-rmse:0.214779\n",
      "[10]\ttrain-auc:0.982112\ttrain-rmse:0.210876\n",
      "[11]\ttrain-auc:0.983185\ttrain-rmse:0.207314\n",
      "[12]\ttrain-auc:0.984244\ttrain-rmse:0.203597\n",
      "[13]\ttrain-auc:0.985155\ttrain-rmse:0.201014\n",
      "[14]\ttrain-auc:0.985502\ttrain-rmse:0.199573\n",
      "[15]\ttrain-auc:0.986075\ttrain-rmse:0.197382\n",
      "[16]\ttrain-auc:0.986449\ttrain-rmse:0.195979\n",
      "[17]\ttrain-auc:0.987218\ttrain-rmse:0.193643\n",
      "[18]\ttrain-auc:0.98786\ttrain-rmse:0.191491\n",
      "[19]\ttrain-auc:0.988069\ttrain-rmse:0.190579\n",
      "[20]\ttrain-auc:0.988256\ttrain-rmse:0.189846\n",
      "[21]\ttrain-auc:0.988909\ttrain-rmse:0.187228\n",
      "[22]\ttrain-auc:0.989299\ttrain-rmse:0.185946\n",
      "[23]\ttrain-auc:0.98945\ttrain-rmse:0.185192\n",
      "[24]\ttrain-auc:0.990104\ttrain-rmse:0.182647\n",
      "[25]\ttrain-auc:0.990315\ttrain-rmse:0.181468\n",
      "[26]\ttrain-auc:0.990723\ttrain-rmse:0.179446\n",
      "[27]\ttrain-auc:0.990806\ttrain-rmse:0.179074\n",
      "[28]\ttrain-auc:0.991163\ttrain-rmse:0.177318\n",
      "[29]\ttrain-auc:0.991529\ttrain-rmse:0.175578\n",
      "[30]\ttrain-auc:0.991829\ttrain-rmse:0.1744\n",
      "[31]\ttrain-auc:0.991921\ttrain-rmse:0.173942\n",
      "[32]\ttrain-auc:0.992144\ttrain-rmse:0.172712\n",
      "[33]\ttrain-auc:0.992251\ttrain-rmse:0.172252\n",
      "[34]\ttrain-auc:0.99236\ttrain-rmse:0.171666\n",
      "[35]\ttrain-auc:0.992509\ttrain-rmse:0.170785\n",
      "[36]\ttrain-auc:0.992917\ttrain-rmse:0.169143\n",
      "[37]\ttrain-auc:0.99307\ttrain-rmse:0.168415\n",
      "[38]\ttrain-auc:0.993101\ttrain-rmse:0.168221\n",
      "[39]\ttrain-auc:0.993241\ttrain-rmse:0.167371\n",
      "[40]\ttrain-auc:0.993413\ttrain-rmse:0.166312\n",
      "[41]\ttrain-auc:0.993507\ttrain-rmse:0.165758\n",
      "[42]\ttrain-auc:0.993823\ttrain-rmse:0.163795\n",
      "[43]\ttrain-auc:0.99419\ttrain-rmse:0.162224\n",
      "[44]\ttrain-auc:0.994375\ttrain-rmse:0.160908\n",
      "[45]\ttrain-auc:0.994495\ttrain-rmse:0.159982\n",
      "[46]\ttrain-auc:0.99466\ttrain-rmse:0.159132\n",
      "[47]\ttrain-auc:0.994692\ttrain-rmse:0.158904\n",
      "[48]\ttrain-auc:0.994972\ttrain-rmse:0.15726\n",
      "[49]\ttrain-auc:0.995044\ttrain-rmse:0.156632\n",
      "[50]\ttrain-auc:0.995172\ttrain-rmse:0.155957\n",
      "[51]\ttrain-auc:0.995249\ttrain-rmse:0.155283\n",
      "[52]\ttrain-auc:0.995338\ttrain-rmse:0.154492\n",
      "[53]\ttrain-auc:0.995377\ttrain-rmse:0.154164\n",
      "[54]\ttrain-auc:0.99543\ttrain-rmse:0.153727\n",
      "[55]\ttrain-auc:0.995541\ttrain-rmse:0.152851\n",
      "[56]\ttrain-auc:0.995699\ttrain-rmse:0.151984\n",
      "[57]\ttrain-auc:0.995907\ttrain-rmse:0.150551\n",
      "[58]\ttrain-auc:0.995958\ttrain-rmse:0.150148\n",
      "[59]\ttrain-auc:0.996116\ttrain-rmse:0.148999\n",
      "[60]\ttrain-auc:0.996182\ttrain-rmse:0.148518\n",
      "[61]\ttrain-auc:0.996211\ttrain-rmse:0.148296\n",
      "[62]\ttrain-auc:0.996236\ttrain-rmse:0.148054\n",
      "[63]\ttrain-auc:0.99644\ttrain-rmse:0.146263\n",
      "Working: 4\n",
      "[0]\ttrain-auc:0.890151+0.00168618\ttest-auc:0.872193+0.00199424\n",
      "[30]\ttrain-auc:0.968308+0.0009972\ttest-auc:0.910378+0.000429391\n",
      "[0]\ttrain-auc:0.889049\ttrain-rmse:0.410505\n",
      "[1]\ttrain-auc:0.90172\ttrain-rmse:0.357534\n",
      "[2]\ttrain-auc:0.909344\ttrain-rmse:0.325019\n",
      "[3]\ttrain-auc:0.915323\ttrain-rmse:0.304673\n",
      "[4]\ttrain-auc:0.917721\ttrain-rmse:0.292803\n",
      "[5]\ttrain-auc:0.919521\ttrain-rmse:0.285863\n",
      "[6]\ttrain-auc:0.922311\ttrain-rmse:0.280006\n",
      "[7]\ttrain-auc:0.925792\ttrain-rmse:0.275334\n",
      "[8]\ttrain-auc:0.928529\ttrain-rmse:0.271938\n",
      "[9]\ttrain-auc:0.931539\ttrain-rmse:0.268591\n",
      "[10]\ttrain-auc:0.935284\ttrain-rmse:0.264386\n",
      "[11]\ttrain-auc:0.93789\ttrain-rmse:0.262075\n",
      "[12]\ttrain-auc:0.939497\ttrain-rmse:0.25951\n",
      "[13]\ttrain-auc:0.942187\ttrain-rmse:0.256456\n",
      "[14]\ttrain-auc:0.943982\ttrain-rmse:0.254684\n",
      "[15]\ttrain-auc:0.945664\ttrain-rmse:0.25271\n",
      "[16]\ttrain-auc:0.947351\ttrain-rmse:0.250784\n",
      "[17]\ttrain-auc:0.948978\ttrain-rmse:0.248748\n",
      "[18]\ttrain-auc:0.950218\ttrain-rmse:0.24728\n",
      "[19]\ttrain-auc:0.951236\ttrain-rmse:0.246232\n",
      "[20]\ttrain-auc:0.952694\ttrain-rmse:0.244584\n",
      "[21]\ttrain-auc:0.953943\ttrain-rmse:0.243107\n",
      "[22]\ttrain-auc:0.954907\ttrain-rmse:0.242033\n",
      "[23]\ttrain-auc:0.955332\ttrain-rmse:0.241459\n",
      "[24]\ttrain-auc:0.955963\ttrain-rmse:0.240747\n",
      "[25]\ttrain-auc:0.957662\ttrain-rmse:0.238989\n",
      "[26]\ttrain-auc:0.958921\ttrain-rmse:0.237076\n",
      "[27]\ttrain-auc:0.959229\ttrain-rmse:0.236723\n",
      "[28]\ttrain-auc:0.959698\ttrain-rmse:0.236187\n",
      "[29]\ttrain-auc:0.960762\ttrain-rmse:0.234761\n",
      "[30]\ttrain-auc:0.961045\ttrain-rmse:0.234371\n",
      "[31]\ttrain-auc:0.961552\ttrain-rmse:0.233835\n",
      "[32]\ttrain-auc:0.961997\ttrain-rmse:0.233262\n",
      "[33]\ttrain-auc:0.962578\ttrain-rmse:0.23235\n",
      "[34]\ttrain-auc:0.963038\ttrain-rmse:0.23155\n",
      "[35]\ttrain-auc:0.963715\ttrain-rmse:0.230671\n",
      "[36]\ttrain-auc:0.964735\ttrain-rmse:0.229535\n",
      "[37]\ttrain-auc:0.965676\ttrain-rmse:0.22848\n",
      "[38]\ttrain-auc:0.966441\ttrain-rmse:0.227288\n",
      "[39]\ttrain-auc:0.966996\ttrain-rmse:0.226642\n",
      "[40]\ttrain-auc:0.967252\ttrain-rmse:0.226284\n",
      "Working: 5\n",
      "[0]\ttrain-auc:0.904972+0.00163823\ttest-auc:0.882795+0.00414224\n",
      "[30]\ttrain-auc:0.987572+0.0008957\ttest-auc:0.93652+0.0028121\n",
      "[60]\ttrain-auc:0.997539+0.000554584\ttest-auc:0.937603+0.00261542\n",
      "[0]\ttrain-auc:0.902457\ttrain-rmse:0.390474\n",
      "[1]\ttrain-auc:0.922579\ttrain-rmse:0.322329\n",
      "[2]\ttrain-auc:0.933984\ttrain-rmse:0.278653\n",
      "[3]\ttrain-auc:0.938632\ttrain-rmse:0.251074\n",
      "[4]\ttrain-auc:0.942401\ttrain-rmse:0.234189\n",
      "[5]\ttrain-auc:0.94666\ttrain-rmse:0.223768\n",
      "[6]\ttrain-auc:0.949746\ttrain-rmse:0.216833\n",
      "[7]\ttrain-auc:0.952612\ttrain-rmse:0.211153\n",
      "[8]\ttrain-auc:0.954738\ttrain-rmse:0.208217\n",
      "[9]\ttrain-auc:0.957665\ttrain-rmse:0.204671\n",
      "[10]\ttrain-auc:0.959509\ttrain-rmse:0.201954\n",
      "[11]\ttrain-auc:0.961474\ttrain-rmse:0.199412\n",
      "[12]\ttrain-auc:0.963148\ttrain-rmse:0.197815\n",
      "[13]\ttrain-auc:0.964741\ttrain-rmse:0.195858\n",
      "[14]\ttrain-auc:0.966276\ttrain-rmse:0.193866\n",
      "[15]\ttrain-auc:0.967918\ttrain-rmse:0.192322\n",
      "[16]\ttrain-auc:0.969454\ttrain-rmse:0.190301\n",
      "[17]\ttrain-auc:0.970752\ttrain-rmse:0.188933\n",
      "[18]\ttrain-auc:0.972582\ttrain-rmse:0.186553\n",
      "[19]\ttrain-auc:0.973481\ttrain-rmse:0.185183\n",
      "[20]\ttrain-auc:0.975241\ttrain-rmse:0.182751\n",
      "[21]\ttrain-auc:0.976637\ttrain-rmse:0.180829\n",
      "[22]\ttrain-auc:0.977307\ttrain-rmse:0.179672\n",
      "[23]\ttrain-auc:0.978093\ttrain-rmse:0.178313\n",
      "[24]\ttrain-auc:0.97845\ttrain-rmse:0.177903\n",
      "[25]\ttrain-auc:0.978943\ttrain-rmse:0.176965\n",
      "[26]\ttrain-auc:0.980061\ttrain-rmse:0.175079\n",
      "[27]\ttrain-auc:0.980473\ttrain-rmse:0.174446\n",
      "[28]\ttrain-auc:0.981203\ttrain-rmse:0.173199\n",
      "[29]\ttrain-auc:0.981808\ttrain-rmse:0.171996\n",
      "[30]\ttrain-auc:0.982146\ttrain-rmse:0.171343\n",
      "[31]\ttrain-auc:0.982478\ttrain-rmse:0.170803\n",
      "[32]\ttrain-auc:0.983256\ttrain-rmse:0.169308\n",
      "[33]\ttrain-auc:0.984187\ttrain-rmse:0.167716\n",
      "[34]\ttrain-auc:0.985085\ttrain-rmse:0.165645\n",
      "[35]\ttrain-auc:0.985295\ttrain-rmse:0.16518\n",
      "[36]\ttrain-auc:0.985759\ttrain-rmse:0.163829\n",
      "[37]\ttrain-auc:0.986136\ttrain-rmse:0.16327\n",
      "[38]\ttrain-auc:0.98672\ttrain-rmse:0.161871\n",
      "[39]\ttrain-auc:0.987324\ttrain-rmse:0.160447\n",
      "[40]\ttrain-auc:0.987758\ttrain-rmse:0.159088\n",
      "[41]\ttrain-auc:0.988178\ttrain-rmse:0.158172\n",
      "[42]\ttrain-auc:0.988721\ttrain-rmse:0.156747\n",
      "[43]\ttrain-auc:0.988902\ttrain-rmse:0.156464\n",
      "[44]\ttrain-auc:0.989092\ttrain-rmse:0.155798\n",
      "[45]\ttrain-auc:0.989803\ttrain-rmse:0.153847\n",
      "[46]\ttrain-auc:0.990523\ttrain-rmse:0.152028\n",
      "[47]\ttrain-auc:0.990911\ttrain-rmse:0.150867\n",
      "[48]\ttrain-auc:0.991292\ttrain-rmse:0.14933\n",
      "[49]\ttrain-auc:0.991695\ttrain-rmse:0.148076\n",
      "[50]\ttrain-auc:0.992066\ttrain-rmse:0.14671\n",
      "[51]\ttrain-auc:0.992312\ttrain-rmse:0.145698\n",
      "[52]\ttrain-auc:0.992711\ttrain-rmse:0.14436\n",
      "[53]\ttrain-auc:0.993054\ttrain-rmse:0.142967\n",
      "[54]\ttrain-auc:0.993478\ttrain-rmse:0.141756\n",
      "[55]\ttrain-auc:0.993561\ttrain-rmse:0.141488\n",
      "[56]\ttrain-auc:0.993882\ttrain-rmse:0.140035\n",
      "[57]\ttrain-auc:0.994002\ttrain-rmse:0.139517\n",
      "[58]\ttrain-auc:0.994322\ttrain-rmse:0.138615\n",
      "[59]\ttrain-auc:0.994607\ttrain-rmse:0.137504\n",
      "[60]\ttrain-auc:0.99485\ttrain-rmse:0.136679\n",
      "Working: 6\n",
      "[0]\ttrain-auc:0.89532+0.00149424\ttest-auc:0.878579+0.00298047\n",
      "[30]\ttrain-auc:0.970371+0.000561817\ttest-auc:0.915975+0.00169897\n",
      "[60]\ttrain-auc:0.985544+0.00160167\ttest-auc:0.917037+0.000978003\n",
      "[0]\ttrain-auc:0.894626\ttrain-rmse:0.417573\n",
      "[1]\ttrain-auc:0.905903\ttrain-rmse:0.369013\n",
      "[2]\ttrain-auc:0.912746\ttrain-rmse:0.339368\n",
      "[3]\ttrain-auc:0.917112\ttrain-rmse:0.320929\n",
      "[4]\ttrain-auc:0.921418\ttrain-rmse:0.308979\n",
      "[5]\ttrain-auc:0.924276\ttrain-rmse:0.30088\n",
      "[6]\ttrain-auc:0.926947\ttrain-rmse:0.295054\n",
      "[7]\ttrain-auc:0.929346\ttrain-rmse:0.291373\n",
      "[8]\ttrain-auc:0.93222\ttrain-rmse:0.287312\n",
      "[9]\ttrain-auc:0.934235\ttrain-rmse:0.284483\n",
      "[10]\ttrain-auc:0.936571\ttrain-rmse:0.281619\n",
      "[11]\ttrain-auc:0.938276\ttrain-rmse:0.27979\n",
      "[12]\ttrain-auc:0.940228\ttrain-rmse:0.277262\n",
      "[13]\ttrain-auc:0.94195\ttrain-rmse:0.275357\n",
      "[14]\ttrain-auc:0.943739\ttrain-rmse:0.273234\n",
      "[15]\ttrain-auc:0.945247\ttrain-rmse:0.271113\n",
      "[16]\ttrain-auc:0.946187\ttrain-rmse:0.269892\n",
      "[17]\ttrain-auc:0.947565\ttrain-rmse:0.268136\n",
      "[18]\ttrain-auc:0.948787\ttrain-rmse:0.266644\n",
      "[19]\ttrain-auc:0.94946\ttrain-rmse:0.265857\n",
      "[20]\ttrain-auc:0.950893\ttrain-rmse:0.26432\n",
      "[21]\ttrain-auc:0.951977\ttrain-rmse:0.262983\n",
      "[22]\ttrain-auc:0.953377\ttrain-rmse:0.261222\n",
      "[23]\ttrain-auc:0.953759\ttrain-rmse:0.260769\n",
      "[24]\ttrain-auc:0.954256\ttrain-rmse:0.260142\n",
      "[25]\ttrain-auc:0.955064\ttrain-rmse:0.259276\n",
      "[26]\ttrain-auc:0.956308\ttrain-rmse:0.257432\n",
      "[27]\ttrain-auc:0.957657\ttrain-rmse:0.25528\n",
      "[28]\ttrain-auc:0.958148\ttrain-rmse:0.254694\n",
      "[29]\ttrain-auc:0.958376\ttrain-rmse:0.254366\n",
      "[30]\ttrain-auc:0.958737\ttrain-rmse:0.253923\n",
      "[31]\ttrain-auc:0.959798\ttrain-rmse:0.252534\n",
      "[32]\ttrain-auc:0.960899\ttrain-rmse:0.250771\n",
      "[33]\ttrain-auc:0.962089\ttrain-rmse:0.248795\n",
      "[34]\ttrain-auc:0.96312\ttrain-rmse:0.247373\n",
      "[35]\ttrain-auc:0.963707\ttrain-rmse:0.246555\n",
      "[36]\ttrain-auc:0.964281\ttrain-rmse:0.245534\n",
      "[37]\ttrain-auc:0.964524\ttrain-rmse:0.245243\n",
      "[38]\ttrain-auc:0.964771\ttrain-rmse:0.244986\n",
      "[39]\ttrain-auc:0.96546\ttrain-rmse:0.243821\n",
      "[40]\ttrain-auc:0.965651\ttrain-rmse:0.243508\n",
      "[41]\ttrain-auc:0.96632\ttrain-rmse:0.24257\n",
      "[42]\ttrain-auc:0.967477\ttrain-rmse:0.240437\n",
      "[43]\ttrain-auc:0.968532\ttrain-rmse:0.238667\n",
      "[44]\ttrain-auc:0.969028\ttrain-rmse:0.23795\n",
      "[45]\ttrain-auc:0.969435\ttrain-rmse:0.237199\n",
      "[46]\ttrain-auc:0.970047\ttrain-rmse:0.236184\n",
      "[47]\ttrain-auc:0.970139\ttrain-rmse:0.235931\n",
      "[48]\ttrain-auc:0.970371\ttrain-rmse:0.235535\n",
      "[49]\ttrain-auc:0.970644\ttrain-rmse:0.235169\n",
      "[50]\ttrain-auc:0.970857\ttrain-rmse:0.234773\n",
      "[51]\ttrain-auc:0.971039\ttrain-rmse:0.234418\n",
      "[52]\ttrain-auc:0.971492\ttrain-rmse:0.233543\n",
      "[53]\ttrain-auc:0.972128\ttrain-rmse:0.232317\n",
      "[54]\ttrain-auc:0.972535\ttrain-rmse:0.231524\n",
      "[55]\ttrain-auc:0.973011\ttrain-rmse:0.230814\n",
      "[56]\ttrain-auc:0.973605\ttrain-rmse:0.229513\n",
      "[57]\ttrain-auc:0.974341\ttrain-rmse:0.228135\n",
      "[58]\ttrain-auc:0.975534\ttrain-rmse:0.226075\n",
      "[59]\ttrain-auc:0.976553\ttrain-rmse:0.224176\n",
      "[60]\ttrain-auc:0.977546\ttrain-rmse:0.222399\n",
      "[61]\ttrain-auc:0.978184\ttrain-rmse:0.221249\n",
      "Working: 7\n",
      "[0]\ttrain-auc:0.834471+0.00234313\ttest-auc:0.803528+0.00443224\n",
      "[30]\ttrain-auc:0.962151+0.00178711\ttest-auc:0.85489+0.00319742\n",
      "[60]\ttrain-auc:0.986458+0.000954377\ttest-auc:0.855746+0.00276288\n",
      "[0]\ttrain-auc:0.832716\ttrain-rmse:0.406541\n",
      "[1]\ttrain-auc:0.853167\ttrain-rmse:0.351075\n",
      "[2]\ttrain-auc:0.862852\ttrain-rmse:0.317903\n",
      "[3]\ttrain-auc:0.872621\ttrain-rmse:0.297816\n",
      "[4]\ttrain-auc:0.877807\ttrain-rmse:0.286368\n",
      "[5]\ttrain-auc:0.881839\ttrain-rmse:0.279287\n",
      "[6]\ttrain-auc:0.884935\ttrain-rmse:0.274554\n",
      "[7]\ttrain-auc:0.890118\ttrain-rmse:0.270892\n",
      "[8]\ttrain-auc:0.894625\ttrain-rmse:0.267246\n",
      "[9]\ttrain-auc:0.898505\ttrain-rmse:0.265406\n",
      "[10]\ttrain-auc:0.902793\ttrain-rmse:0.263205\n",
      "[11]\ttrain-auc:0.907036\ttrain-rmse:0.260946\n",
      "[12]\ttrain-auc:0.911271\ttrain-rmse:0.258829\n",
      "[13]\ttrain-auc:0.914815\ttrain-rmse:0.256912\n",
      "[14]\ttrain-auc:0.91796\ttrain-rmse:0.255283\n",
      "[15]\ttrain-auc:0.919459\ttrain-rmse:0.254069\n",
      "[16]\ttrain-auc:0.922707\ttrain-rmse:0.251977\n",
      "[17]\ttrain-auc:0.925082\ttrain-rmse:0.250215\n",
      "[18]\ttrain-auc:0.926531\ttrain-rmse:0.249379\n",
      "[19]\ttrain-auc:0.928634\ttrain-rmse:0.248388\n",
      "[20]\ttrain-auc:0.930099\ttrain-rmse:0.247405\n",
      "[21]\ttrain-auc:0.93143\ttrain-rmse:0.24647\n",
      "[22]\ttrain-auc:0.933954\ttrain-rmse:0.244844\n",
      "[23]\ttrain-auc:0.93578\ttrain-rmse:0.243684\n",
      "[24]\ttrain-auc:0.937524\ttrain-rmse:0.242485\n",
      "[25]\ttrain-auc:0.939251\ttrain-rmse:0.240851\n",
      "[26]\ttrain-auc:0.940715\ttrain-rmse:0.239376\n",
      "[27]\ttrain-auc:0.942438\ttrain-rmse:0.238137\n",
      "[28]\ttrain-auc:0.943856\ttrain-rmse:0.236976\n",
      "[29]\ttrain-auc:0.946393\ttrain-rmse:0.235493\n",
      "[30]\ttrain-auc:0.947032\ttrain-rmse:0.235083\n",
      "[31]\ttrain-auc:0.94849\ttrain-rmse:0.233533\n",
      "[32]\ttrain-auc:0.949254\ttrain-rmse:0.232921\n",
      "[33]\ttrain-auc:0.95007\ttrain-rmse:0.232469\n",
      "[34]\ttrain-auc:0.950352\ttrain-rmse:0.232172\n",
      "[35]\ttrain-auc:0.951487\ttrain-rmse:0.231579\n",
      "[36]\ttrain-auc:0.95235\ttrain-rmse:0.230981\n",
      "[37]\ttrain-auc:0.953446\ttrain-rmse:0.229857\n",
      "[38]\ttrain-auc:0.953916\ttrain-rmse:0.229433\n",
      "[39]\ttrain-auc:0.955343\ttrain-rmse:0.227948\n",
      "[40]\ttrain-auc:0.955431\ttrain-rmse:0.227699\n",
      "[41]\ttrain-auc:0.95691\ttrain-rmse:0.226452\n",
      "[42]\ttrain-auc:0.957861\ttrain-rmse:0.225717\n",
      "[43]\ttrain-auc:0.958324\ttrain-rmse:0.225467\n",
      "[44]\ttrain-auc:0.960236\ttrain-rmse:0.223595\n",
      "[45]\ttrain-auc:0.960493\ttrain-rmse:0.223427\n",
      "[46]\ttrain-auc:0.961984\ttrain-rmse:0.221782\n",
      "[47]\ttrain-auc:0.963609\ttrain-rmse:0.220285\n",
      "[48]\ttrain-auc:0.964953\ttrain-rmse:0.218897\n",
      "[49]\ttrain-auc:0.965476\ttrain-rmse:0.218327\n",
      "[50]\ttrain-auc:0.965928\ttrain-rmse:0.217908\n",
      "[51]\ttrain-auc:0.966718\ttrain-rmse:0.217178\n",
      "[52]\ttrain-auc:0.967258\ttrain-rmse:0.216676\n",
      "[53]\ttrain-auc:0.968625\ttrain-rmse:0.214957\n",
      "[54]\ttrain-auc:0.969274\ttrain-rmse:0.214152\n",
      "[55]\ttrain-auc:0.970928\ttrain-rmse:0.212241\n",
      "[56]\ttrain-auc:0.972086\ttrain-rmse:0.210767\n",
      "[57]\ttrain-auc:0.972442\ttrain-rmse:0.210272\n",
      "[58]\ttrain-auc:0.972754\ttrain-rmse:0.209873\n",
      "[59]\ttrain-auc:0.972982\ttrain-rmse:0.209533\n",
      "[60]\ttrain-auc:0.97322\ttrain-rmse:0.209168\n",
      "[61]\ttrain-auc:0.97373\ttrain-rmse:0.208532\n",
      "[62]\ttrain-auc:0.973863\ttrain-rmse:0.20839\n",
      "[63]\ttrain-auc:0.974297\ttrain-rmse:0.207839\n",
      "Working: 8\n",
      "[0]\ttrain-auc:0.5+0\ttest-auc:0.5+0\n",
      "[30]\ttrain-auc:0.999804+0.000234386\ttest-auc:0.898575+0.0104645\n",
      "[0]\ttrain-auc:0.5\ttrain-rmse:0.357863\n",
      "[1]\ttrain-auc:0.746786\ttrain-rmse:0.2634\n",
      "[2]\ttrain-auc:0.775001\ttrain-rmse:0.198086\n",
      "[3]\ttrain-auc:0.875264\ttrain-rmse:0.15275\n",
      "[4]\ttrain-auc:0.877224\ttrain-rmse:0.121813\n",
      "[5]\ttrain-auc:0.88797\ttrain-rmse:0.100989\n",
      "[6]\ttrain-auc:0.903594\ttrain-rmse:0.087527\n",
      "[7]\ttrain-auc:0.916026\ttrain-rmse:0.078978\n",
      "[8]\ttrain-auc:0.92103\ttrain-rmse:0.073854\n",
      "[9]\ttrain-auc:0.954596\ttrain-rmse:0.069924\n",
      "[10]\ttrain-auc:0.95984\ttrain-rmse:0.0677\n",
      "[11]\ttrain-auc:0.966911\ttrain-rmse:0.066367\n",
      "[12]\ttrain-auc:0.9692\ttrain-rmse:0.06537\n",
      "[13]\ttrain-auc:0.979506\ttrain-rmse:0.063945\n",
      "[14]\ttrain-auc:0.981813\ttrain-rmse:0.06339\n",
      "[15]\ttrain-auc:0.984455\ttrain-rmse:0.062835\n",
      "[16]\ttrain-auc:0.988486\ttrain-rmse:0.062037\n",
      "[17]\ttrain-auc:0.989789\ttrain-rmse:0.06154\n",
      "[18]\ttrain-auc:0.991374\ttrain-rmse:0.060837\n",
      "[19]\ttrain-auc:0.992111\ttrain-rmse:0.059899\n",
      "[20]\ttrain-auc:0.993089\ttrain-rmse:0.058984\n",
      "[21]\ttrain-auc:0.995067\ttrain-rmse:0.057083\n",
      "[22]\ttrain-auc:0.996083\ttrain-rmse:0.056284\n",
      "[23]\ttrain-auc:0.996426\ttrain-rmse:0.054945\n",
      "[24]\ttrain-auc:0.996981\ttrain-rmse:0.054087\n",
      "[25]\ttrain-auc:0.997906\ttrain-rmse:0.052407\n",
      "[26]\ttrain-auc:0.998311\ttrain-rmse:0.049783\n",
      "[27]\ttrain-auc:0.99861\ttrain-rmse:0.04876\n",
      "[28]\ttrain-auc:0.998881\ttrain-rmse:0.04764\n",
      "[29]\ttrain-auc:0.999218\ttrain-rmse:0.045764\n",
      "[30]\ttrain-auc:0.999434\ttrain-rmse:0.043889\n",
      "[31]\ttrain-auc:0.999508\ttrain-rmse:0.043182\n",
      "[32]\ttrain-auc:0.999623\ttrain-rmse:0.042068\n",
      "[33]\ttrain-auc:0.999646\ttrain-rmse:0.041648\n",
      "[34]\ttrain-auc:0.999738\ttrain-rmse:0.040585\n",
      "[35]\ttrain-auc:0.999784\ttrain-rmse:0.040199\n",
      "[36]\ttrain-auc:0.99982\ttrain-rmse:0.039482\n",
      "Working: 9\n",
      "[0]\ttrain-auc:0.944723+0.00643588\ttest-auc:0.932411+0.0130417\n",
      "[30]\ttrain-auc:0.999125+8.53281e-05\ttest-auc:0.989194+0.00144562\n",
      "[60]\ttrain-auc:0.999937+2.14631e-05\ttest-auc:0.98982+0.00159416\n",
      "[90]\ttrain-auc:0.999998+1.69967e-06\ttest-auc:0.990148+0.00136531\n",
      "[120]\ttrain-auc:1+0\ttest-auc:0.990389+0.00134387\n",
      "[150]\ttrain-auc:1+0\ttest-auc:0.990679+0.00130708\n",
      "[180]\ttrain-auc:1+0\ttest-auc:0.990804+0.00138529\n",
      "[210]\ttrain-auc:1+0\ttest-auc:0.990909+0.00133623\n",
      "[240]\ttrain-auc:1+0\ttest-auc:0.990957+0.00133381\n",
      "[270]\ttrain-auc:1+0\ttest-auc:0.990955+0.00130134\n",
      "[0]\ttrain-auc:0.944398\ttrain-rmse:0.367457\n",
      "[1]\ttrain-auc:0.967525\ttrain-rmse:0.281808\n",
      "[2]\ttrain-auc:0.977936\ttrain-rmse:0.223432\n",
      "[3]\ttrain-auc:0.978752\ttrain-rmse:0.184374\n",
      "[4]\ttrain-auc:0.985726\ttrain-rmse:0.158416\n",
      "[5]\ttrain-auc:0.986842\ttrain-rmse:0.141248\n",
      "[6]\ttrain-auc:0.989008\ttrain-rmse:0.129408\n",
      "[7]\ttrain-auc:0.990508\ttrain-rmse:0.122287\n",
      "[8]\ttrain-auc:0.992215\ttrain-rmse:0.11659\n",
      "[9]\ttrain-auc:0.99261\ttrain-rmse:0.112772\n",
      "[10]\ttrain-auc:0.993164\ttrain-rmse:0.109081\n",
      "[11]\ttrain-auc:0.995241\ttrain-rmse:0.106085\n",
      "[12]\ttrain-auc:0.995877\ttrain-rmse:0.104046\n",
      "[13]\ttrain-auc:0.996369\ttrain-rmse:0.102857\n",
      "[14]\ttrain-auc:0.996461\ttrain-rmse:0.10205\n",
      "[15]\ttrain-auc:0.996673\ttrain-rmse:0.101224\n",
      "[16]\ttrain-auc:0.996815\ttrain-rmse:0.100318\n",
      "[17]\ttrain-auc:0.996988\ttrain-rmse:0.099134\n",
      "[18]\ttrain-auc:0.997192\ttrain-rmse:0.097911\n",
      "[19]\ttrain-auc:0.997312\ttrain-rmse:0.096857\n",
      "[20]\ttrain-auc:0.997458\ttrain-rmse:0.095818\n",
      "[21]\ttrain-auc:0.997494\ttrain-rmse:0.095444\n",
      "[22]\ttrain-auc:0.997628\ttrain-rmse:0.094119\n",
      "[23]\ttrain-auc:0.997735\ttrain-rmse:0.093007\n",
      "[24]\ttrain-auc:0.997884\ttrain-rmse:0.091291\n",
      "[25]\ttrain-auc:0.997959\ttrain-rmse:0.090503\n",
      "[26]\ttrain-auc:0.998119\ttrain-rmse:0.088907\n",
      "[27]\ttrain-auc:0.998204\ttrain-rmse:0.088\n",
      "[28]\ttrain-auc:0.998314\ttrain-rmse:0.086753\n",
      "[29]\ttrain-auc:0.998401\ttrain-rmse:0.085756\n",
      "[30]\ttrain-auc:0.99848\ttrain-rmse:0.084778\n",
      "[31]\ttrain-auc:0.998603\ttrain-rmse:0.083332\n",
      "[32]\ttrain-auc:0.99872\ttrain-rmse:0.081882\n",
      "[33]\ttrain-auc:0.998837\ttrain-rmse:0.0804\n",
      "[34]\ttrain-auc:0.998889\ttrain-rmse:0.079693\n",
      "[35]\ttrain-auc:0.998929\ttrain-rmse:0.079134\n",
      "[36]\ttrain-auc:0.999066\ttrain-rmse:0.077598\n",
      "[37]\ttrain-auc:0.999113\ttrain-rmse:0.076753\n",
      "[38]\ttrain-auc:0.999166\ttrain-rmse:0.075929\n",
      "[39]\ttrain-auc:0.999222\ttrain-rmse:0.074969\n",
      "[40]\ttrain-auc:0.999276\ttrain-rmse:0.0739\n",
      "[41]\ttrain-auc:0.999313\ttrain-rmse:0.072962\n",
      "[42]\ttrain-auc:0.999384\ttrain-rmse:0.071595\n",
      "[43]\ttrain-auc:0.99943\ttrain-rmse:0.070706\n",
      "[44]\ttrain-auc:0.999452\ttrain-rmse:0.070235\n",
      "[45]\ttrain-auc:0.999484\ttrain-rmse:0.069524\n",
      "[46]\ttrain-auc:0.99952\ttrain-rmse:0.068624\n",
      "[47]\ttrain-auc:0.999547\ttrain-rmse:0.068098\n",
      "[48]\ttrain-auc:0.999579\ttrain-rmse:0.067292\n",
      "[49]\ttrain-auc:0.999589\ttrain-rmse:0.066975\n",
      "[50]\ttrain-auc:0.999615\ttrain-rmse:0.066259\n",
      "[51]\ttrain-auc:0.999645\ttrain-rmse:0.065388\n",
      "[52]\ttrain-auc:0.999664\ttrain-rmse:0.064747\n",
      "[53]\ttrain-auc:0.999685\ttrain-rmse:0.064091\n",
      "[54]\ttrain-auc:0.999704\ttrain-rmse:0.063576\n",
      "[55]\ttrain-auc:0.999712\ttrain-rmse:0.06322\n",
      "[56]\ttrain-auc:0.999726\ttrain-rmse:0.06274\n",
      "[57]\ttrain-auc:0.999731\ttrain-rmse:0.062491\n",
      "[58]\ttrain-auc:0.999749\ttrain-rmse:0.061889\n",
      "[59]\ttrain-auc:0.999759\ttrain-rmse:0.061527\n",
      "[60]\ttrain-auc:0.999768\ttrain-rmse:0.061168\n",
      "[61]\ttrain-auc:0.999785\ttrain-rmse:0.060338\n",
      "[62]\ttrain-auc:0.9998\ttrain-rmse:0.059686\n",
      "[63]\ttrain-auc:0.99982\ttrain-rmse:0.058859\n",
      "[64]\ttrain-auc:0.999837\ttrain-rmse:0.058096\n",
      "[65]\ttrain-auc:0.99984\ttrain-rmse:0.057866\n",
      "[66]\ttrain-auc:0.999853\ttrain-rmse:0.057117\n",
      "[67]\ttrain-auc:0.999856\ttrain-rmse:0.056896\n",
      "[68]\ttrain-auc:0.99986\ttrain-rmse:0.056505\n",
      "[69]\ttrain-auc:0.999866\ttrain-rmse:0.056126\n",
      "[70]\ttrain-auc:0.999889\ttrain-rmse:0.054898\n",
      "[71]\ttrain-auc:0.999911\ttrain-rmse:0.053545\n",
      "[72]\ttrain-auc:0.999917\ttrain-rmse:0.053085\n",
      "[73]\ttrain-auc:0.99992\ttrain-rmse:0.052773\n",
      "[74]\ttrain-auc:0.999921\ttrain-rmse:0.052546\n",
      "[75]\ttrain-auc:0.999932\ttrain-rmse:0.051904\n",
      "[76]\ttrain-auc:0.999938\ttrain-rmse:0.05144\n",
      "[77]\ttrain-auc:0.999946\ttrain-rmse:0.050761\n",
      "[78]\ttrain-auc:0.999947\ttrain-rmse:0.050654\n",
      "[79]\ttrain-auc:0.999949\ttrain-rmse:0.050438\n",
      "[80]\ttrain-auc:0.999953\ttrain-rmse:0.049863\n",
      "[81]\ttrain-auc:0.999958\ttrain-rmse:0.049308\n",
      "[82]\ttrain-auc:0.999961\ttrain-rmse:0.049019\n",
      "[83]\ttrain-auc:0.999963\ttrain-rmse:0.048604\n",
      "[84]\ttrain-auc:0.999969\ttrain-rmse:0.047744\n",
      "[85]\ttrain-auc:0.999971\ttrain-rmse:0.047468\n",
      "[86]\ttrain-auc:0.999978\ttrain-rmse:0.046423\n",
      "[87]\ttrain-auc:0.99998\ttrain-rmse:0.045898\n",
      "[88]\ttrain-auc:0.999982\ttrain-rmse:0.045426\n",
      "[89]\ttrain-auc:0.999983\ttrain-rmse:0.045192\n",
      "[90]\ttrain-auc:0.999984\ttrain-rmse:0.045003\n",
      "[91]\ttrain-auc:0.999987\ttrain-rmse:0.043972\n",
      "[92]\ttrain-auc:0.999988\ttrain-rmse:0.043685\n",
      "[93]\ttrain-auc:0.999989\ttrain-rmse:0.043337\n",
      "[94]\ttrain-auc:0.99999\ttrain-rmse:0.04313\n",
      "[95]\ttrain-auc:0.999991\ttrain-rmse:0.042927\n",
      "[96]\ttrain-auc:0.999992\ttrain-rmse:0.042527\n",
      "[97]\ttrain-auc:0.999992\ttrain-rmse:0.042341\n",
      "[98]\ttrain-auc:0.999992\ttrain-rmse:0.042215\n",
      "[99]\ttrain-auc:0.999993\ttrain-rmse:0.041928\n",
      "[100]\ttrain-auc:0.999994\ttrain-rmse:0.04151\n",
      "[101]\ttrain-auc:0.999994\ttrain-rmse:0.041104\n",
      "[102]\ttrain-auc:0.999996\ttrain-rmse:0.040501\n",
      "[103]\ttrain-auc:0.999996\ttrain-rmse:0.040248\n",
      "[104]\ttrain-auc:0.999997\ttrain-rmse:0.039411\n",
      "[105]\ttrain-auc:0.999998\ttrain-rmse:0.038669\n",
      "[106]\ttrain-auc:0.999998\ttrain-rmse:0.038435\n",
      "[107]\ttrain-auc:0.999998\ttrain-rmse:0.038061\n",
      "[108]\ttrain-auc:0.999998\ttrain-rmse:0.037961\n",
      "[109]\ttrain-auc:0.999999\ttrain-rmse:0.03735\n",
      "[110]\ttrain-auc:0.999999\ttrain-rmse:0.036957\n",
      "[111]\ttrain-auc:0.999999\ttrain-rmse:0.036745\n",
      "[112]\ttrain-auc:0.999999\ttrain-rmse:0.036675\n",
      "[113]\ttrain-auc:0.999999\ttrain-rmse:0.036242\n",
      "[114]\ttrain-auc:0.999999\ttrain-rmse:0.035713\n",
      "[115]\ttrain-auc:1\ttrain-rmse:0.035354\n",
      "[116]\ttrain-auc:1\ttrain-rmse:0.034609\n",
      "[117]\ttrain-auc:1\ttrain-rmse:0.033919\n",
      "[118]\ttrain-auc:1\ttrain-rmse:0.033675\n",
      "[119]\ttrain-auc:1\ttrain-rmse:0.033364\n",
      "[120]\ttrain-auc:1\ttrain-rmse:0.0332\n",
      "[121]\ttrain-auc:1\ttrain-rmse:0.032783\n",
      "[122]\ttrain-auc:1\ttrain-rmse:0.032539\n",
      "[123]\ttrain-auc:1\ttrain-rmse:0.032187\n",
      "[124]\ttrain-auc:1\ttrain-rmse:0.031556\n",
      "[125]\ttrain-auc:1\ttrain-rmse:0.031274\n",
      "[126]\ttrain-auc:1\ttrain-rmse:0.03114\n",
      "[127]\ttrain-auc:1\ttrain-rmse:0.030413\n",
      "[128]\ttrain-auc:1\ttrain-rmse:0.030145\n",
      "[129]\ttrain-auc:1\ttrain-rmse:0.029835\n",
      "[130]\ttrain-auc:1\ttrain-rmse:0.029699\n",
      "[131]\ttrain-auc:1\ttrain-rmse:0.029572\n",
      "[132]\ttrain-auc:1\ttrain-rmse:0.029258\n",
      "[133]\ttrain-auc:1\ttrain-rmse:0.028959\n",
      "[134]\ttrain-auc:1\ttrain-rmse:0.028629\n",
      "[135]\ttrain-auc:1\ttrain-rmse:0.028496\n",
      "[136]\ttrain-auc:1\ttrain-rmse:0.028411\n",
      "[137]\ttrain-auc:1\ttrain-rmse:0.02807\n",
      "[138]\ttrain-auc:1\ttrain-rmse:0.027627\n",
      "[139]\ttrain-auc:1\ttrain-rmse:0.027485\n",
      "[140]\ttrain-auc:1\ttrain-rmse:0.027271\n",
      "[141]\ttrain-auc:1\ttrain-rmse:0.02688\n",
      "[142]\ttrain-auc:1\ttrain-rmse:0.026729\n",
      "[143]\ttrain-auc:1\ttrain-rmse:0.02636\n",
      "[144]\ttrain-auc:1\ttrain-rmse:0.026177\n",
      "[145]\ttrain-auc:1\ttrain-rmse:0.025944\n",
      "[146]\ttrain-auc:1\ttrain-rmse:0.025838\n",
      "[147]\ttrain-auc:1\ttrain-rmse:0.02563\n",
      "[148]\ttrain-auc:1\ttrain-rmse:0.025247\n",
      "[149]\ttrain-auc:1\ttrain-rmse:0.025175\n",
      "[150]\ttrain-auc:1\ttrain-rmse:0.025045\n",
      "[151]\ttrain-auc:1\ttrain-rmse:0.024891\n",
      "[152]\ttrain-auc:1\ttrain-rmse:0.024581\n",
      "[153]\ttrain-auc:1\ttrain-rmse:0.024473\n",
      "[154]\ttrain-auc:1\ttrain-rmse:0.024189\n",
      "[155]\ttrain-auc:1\ttrain-rmse:0.023907\n",
      "[156]\ttrain-auc:1\ttrain-rmse:0.023534\n",
      "[157]\ttrain-auc:1\ttrain-rmse:0.02318\n",
      "[158]\ttrain-auc:1\ttrain-rmse:0.022976\n",
      "[159]\ttrain-auc:1\ttrain-rmse:0.02274\n",
      "[160]\ttrain-auc:1\ttrain-rmse:0.022605\n",
      "[161]\ttrain-auc:1\ttrain-rmse:0.02247\n",
      "[162]\ttrain-auc:1\ttrain-rmse:0.022279\n",
      "[163]\ttrain-auc:1\ttrain-rmse:0.021951\n",
      "[164]\ttrain-auc:1\ttrain-rmse:0.021788\n",
      "[165]\ttrain-auc:1\ttrain-rmse:0.021748\n",
      "[166]\ttrain-auc:1\ttrain-rmse:0.021682\n",
      "[167]\ttrain-auc:1\ttrain-rmse:0.021598\n",
      "[168]\ttrain-auc:1\ttrain-rmse:0.02112\n",
      "[169]\ttrain-auc:1\ttrain-rmse:0.021009\n",
      "[170]\ttrain-auc:1\ttrain-rmse:0.020904\n",
      "[171]\ttrain-auc:1\ttrain-rmse:0.020769\n",
      "[172]\ttrain-auc:1\ttrain-rmse:0.020395\n",
      "[173]\ttrain-auc:1\ttrain-rmse:0.020159\n",
      "[174]\ttrain-auc:1\ttrain-rmse:0.020076\n",
      "[175]\ttrain-auc:1\ttrain-rmse:0.019765\n",
      "[176]\ttrain-auc:1\ttrain-rmse:0.019644\n",
      "[177]\ttrain-auc:1\ttrain-rmse:0.019414\n",
      "[178]\ttrain-auc:1\ttrain-rmse:0.019297\n",
      "[179]\ttrain-auc:1\ttrain-rmse:0.019176\n",
      "[180]\ttrain-auc:1\ttrain-rmse:0.019066\n",
      "[181]\ttrain-auc:1\ttrain-rmse:0.018836\n",
      "[182]\ttrain-auc:1\ttrain-rmse:0.018691\n",
      "[183]\ttrain-auc:1\ttrain-rmse:0.018553\n",
      "[184]\ttrain-auc:1\ttrain-rmse:0.01822\n",
      "[185]\ttrain-auc:1\ttrain-rmse:0.018159\n",
      "[186]\ttrain-auc:1\ttrain-rmse:0.017943\n",
      "[187]\ttrain-auc:1\ttrain-rmse:0.017769\n",
      "[188]\ttrain-auc:1\ttrain-rmse:0.01763\n",
      "[189]\ttrain-auc:1\ttrain-rmse:0.017457\n",
      "[190]\ttrain-auc:1\ttrain-rmse:0.017393\n",
      "[191]\ttrain-auc:1\ttrain-rmse:0.017303\n",
      "[192]\ttrain-auc:1\ttrain-rmse:0.017086\n",
      "[193]\ttrain-auc:1\ttrain-rmse:0.016956\n",
      "[194]\ttrain-auc:1\ttrain-rmse:0.016703\n",
      "[195]\ttrain-auc:1\ttrain-rmse:0.01663\n",
      "[196]\ttrain-auc:1\ttrain-rmse:0.016514\n",
      "[197]\ttrain-auc:1\ttrain-rmse:0.016436\n",
      "[198]\ttrain-auc:1\ttrain-rmse:0.016223\n",
      "[199]\ttrain-auc:1\ttrain-rmse:0.016148\n",
      "[200]\ttrain-auc:1\ttrain-rmse:0.016017\n",
      "[201]\ttrain-auc:1\ttrain-rmse:0.015798\n",
      "[202]\ttrain-auc:1\ttrain-rmse:0.015762\n",
      "[203]\ttrain-auc:1\ttrain-rmse:0.015632\n",
      "[204]\ttrain-auc:1\ttrain-rmse:0.015561\n",
      "[205]\ttrain-auc:1\ttrain-rmse:0.015315\n",
      "[206]\ttrain-auc:1\ttrain-rmse:0.015121\n",
      "[207]\ttrain-auc:1\ttrain-rmse:0.014926\n",
      "[208]\ttrain-auc:1\ttrain-rmse:0.014823\n",
      "[209]\ttrain-auc:1\ttrain-rmse:0.014714\n",
      "[210]\ttrain-auc:1\ttrain-rmse:0.014448\n",
      "[211]\ttrain-auc:1\ttrain-rmse:0.014421\n",
      "[212]\ttrain-auc:1\ttrain-rmse:0.01429\n",
      "[213]\ttrain-auc:1\ttrain-rmse:0.0141\n",
      "[214]\ttrain-auc:1\ttrain-rmse:0.014048\n",
      "[215]\ttrain-auc:1\ttrain-rmse:0.013959\n",
      "[216]\ttrain-auc:1\ttrain-rmse:0.013915\n",
      "[217]\ttrain-auc:1\ttrain-rmse:0.013852\n",
      "[218]\ttrain-auc:1\ttrain-rmse:0.013785\n",
      "[219]\ttrain-auc:1\ttrain-rmse:0.013699\n",
      "[220]\ttrain-auc:1\ttrain-rmse:0.013658\n",
      "[221]\ttrain-auc:1\ttrain-rmse:0.013487\n",
      "[222]\ttrain-auc:1\ttrain-rmse:0.013368\n",
      "[223]\ttrain-auc:1\ttrain-rmse:0.01321\n",
      "[224]\ttrain-auc:1\ttrain-rmse:0.013136\n",
      "[225]\ttrain-auc:1\ttrain-rmse:0.013083\n",
      "[226]\ttrain-auc:1\ttrain-rmse:0.012923\n",
      "[227]\ttrain-auc:1\ttrain-rmse:0.012883\n",
      "[228]\ttrain-auc:1\ttrain-rmse:0.012727\n",
      "[229]\ttrain-auc:1\ttrain-rmse:0.012619\n",
      "[230]\ttrain-auc:1\ttrain-rmse:0.01251\n",
      "[231]\ttrain-auc:1\ttrain-rmse:0.012482\n",
      "[232]\ttrain-auc:1\ttrain-rmse:0.012426\n",
      "[233]\ttrain-auc:1\ttrain-rmse:0.012364\n",
      "[234]\ttrain-auc:1\ttrain-rmse:0.012274\n",
      "[235]\ttrain-auc:1\ttrain-rmse:0.012101\n",
      "[236]\ttrain-auc:1\ttrain-rmse:0.011989\n",
      "[237]\ttrain-auc:1\ttrain-rmse:0.011975\n",
      "[238]\ttrain-auc:1\ttrain-rmse:0.011883\n",
      "[239]\ttrain-auc:1\ttrain-rmse:0.011831\n",
      "[240]\ttrain-auc:1\ttrain-rmse:0.011767\n",
      "[241]\ttrain-auc:1\ttrain-rmse:0.011704\n",
      "[242]\ttrain-auc:1\ttrain-rmse:0.011558\n",
      "[243]\ttrain-auc:1\ttrain-rmse:0.011517\n",
      "[244]\ttrain-auc:1\ttrain-rmse:0.011423\n",
      "[245]\ttrain-auc:1\ttrain-rmse:0.01136\n",
      "[246]\ttrain-auc:1\ttrain-rmse:0.01118\n",
      "[247]\ttrain-auc:1\ttrain-rmse:0.011131\n",
      "[248]\ttrain-auc:1\ttrain-rmse:0.011045\n",
      "[249]\ttrain-auc:1\ttrain-rmse:0.011009\n",
      "[250]\ttrain-auc:1\ttrain-rmse:0.010908\n",
      "[251]\ttrain-auc:1\ttrain-rmse:0.010857\n",
      "[252]\ttrain-auc:1\ttrain-rmse:0.010836\n",
      "[253]\ttrain-auc:1\ttrain-rmse:0.010807\n",
      "[254]\ttrain-auc:1\ttrain-rmse:0.010699\n",
      "[255]\ttrain-auc:1\ttrain-rmse:0.010666\n",
      "[256]\ttrain-auc:1\ttrain-rmse:0.010596\n",
      "[257]\ttrain-auc:1\ttrain-rmse:0.01049\n",
      "Working: 10\n",
      "[0]\ttrain-auc:0.95333+0.00215949\ttest-auc:0.940131+0.00206354\n",
      "[30]\ttrain-auc:0.996994+0.000320079\ttest-auc:0.977755+0.000926621\n",
      "[60]\ttrain-auc:0.999513+5.46321e-05\ttest-auc:0.979096+0.000934312\n",
      "[90]\ttrain-auc:0.999977+5.31246e-06\ttest-auc:0.979689+0.000761797\n",
      "[120]\ttrain-auc:1+0\ttest-auc:0.980228+0.000574467\n",
      "[150]\ttrain-auc:1+0\ttest-auc:0.980499+0.000460863\n",
      "[180]\ttrain-auc:1+0\ttest-auc:0.980769+0.000443015\n",
      "[210]\ttrain-auc:1+0\ttest-auc:0.981009+0.000390534\n",
      "[240]\ttrain-auc:1+0\ttest-auc:0.981101+0.000416018\n",
      "[270]\ttrain-auc:1+0\ttest-auc:0.981299+0.000486605\n",
      "[300]\ttrain-auc:1+0\ttest-auc:0.981421+0.000443208\n",
      "[330]\ttrain-auc:1+0\ttest-auc:0.981463+0.000425444\n",
      "[360]\ttrain-auc:1+0\ttest-auc:0.98157+0.000422123\n",
      "[390]\ttrain-auc:1+0\ttest-auc:0.98156+0.000396704\n",
      "[0]\ttrain-auc:0.954703\ttrain-rmse:0.390274\n",
      "[1]\ttrain-auc:0.965346\ttrain-rmse:0.320922\n",
      "[2]\ttrain-auc:0.970614\ttrain-rmse:0.2759\n",
      "[3]\ttrain-auc:0.973806\ttrain-rmse:0.246775\n",
      "[4]\ttrain-auc:0.977333\ttrain-rmse:0.226135\n",
      "[5]\ttrain-auc:0.97949\ttrain-rmse:0.211245\n",
      "[6]\ttrain-auc:0.980972\ttrain-rmse:0.201591\n",
      "[7]\ttrain-auc:0.982243\ttrain-rmse:0.193958\n",
      "[8]\ttrain-auc:0.983365\ttrain-rmse:0.188255\n",
      "[9]\ttrain-auc:0.984431\ttrain-rmse:0.184519\n",
      "[10]\ttrain-auc:0.985279\ttrain-rmse:0.180931\n",
      "[11]\ttrain-auc:0.986555\ttrain-rmse:0.177306\n",
      "[12]\ttrain-auc:0.987538\ttrain-rmse:0.174119\n",
      "[13]\ttrain-auc:0.988413\ttrain-rmse:0.170591\n",
      "[14]\ttrain-auc:0.989118\ttrain-rmse:0.167632\n",
      "[15]\ttrain-auc:0.989931\ttrain-rmse:0.164431\n",
      "[16]\ttrain-auc:0.99075\ttrain-rmse:0.162035\n",
      "[17]\ttrain-auc:0.991362\ttrain-rmse:0.16017\n",
      "[18]\ttrain-auc:0.991664\ttrain-rmse:0.15867\n",
      "[19]\ttrain-auc:0.991901\ttrain-rmse:0.157335\n",
      "[20]\ttrain-auc:0.992015\ttrain-rmse:0.156458\n",
      "[21]\ttrain-auc:0.992441\ttrain-rmse:0.154412\n",
      "[22]\ttrain-auc:0.992703\ttrain-rmse:0.153241\n",
      "[23]\ttrain-auc:0.992859\ttrain-rmse:0.152294\n",
      "[24]\ttrain-auc:0.993104\ttrain-rmse:0.150757\n",
      "[25]\ttrain-auc:0.993242\ttrain-rmse:0.15024\n",
      "[26]\ttrain-auc:0.993451\ttrain-rmse:0.149408\n",
      "[27]\ttrain-auc:0.993952\ttrain-rmse:0.147175\n",
      "[28]\ttrain-auc:0.994235\ttrain-rmse:0.145622\n",
      "[29]\ttrain-auc:0.994428\ttrain-rmse:0.144337\n",
      "[30]\ttrain-auc:0.994743\ttrain-rmse:0.14232\n",
      "[31]\ttrain-auc:0.995111\ttrain-rmse:0.140195\n",
      "[32]\ttrain-auc:0.995439\ttrain-rmse:0.138212\n",
      "[33]\ttrain-auc:0.995635\ttrain-rmse:0.136633\n",
      "[34]\ttrain-auc:0.995798\ttrain-rmse:0.135801\n",
      "[35]\ttrain-auc:0.995879\ttrain-rmse:0.135109\n",
      "[36]\ttrain-auc:0.996055\ttrain-rmse:0.133844\n",
      "[37]\ttrain-auc:0.996209\ttrain-rmse:0.132777\n",
      "[38]\ttrain-auc:0.996275\ttrain-rmse:0.132349\n",
      "[39]\ttrain-auc:0.996424\ttrain-rmse:0.131395\n",
      "[40]\ttrain-auc:0.996567\ttrain-rmse:0.13045\n",
      "[41]\ttrain-auc:0.996659\ttrain-rmse:0.129482\n",
      "[42]\ttrain-auc:0.99686\ttrain-rmse:0.12767\n",
      "[43]\ttrain-auc:0.996927\ttrain-rmse:0.127007\n",
      "[44]\ttrain-auc:0.997078\ttrain-rmse:0.125489\n",
      "[45]\ttrain-auc:0.997238\ttrain-rmse:0.124269\n",
      "[46]\ttrain-auc:0.99732\ttrain-rmse:0.123284\n",
      "[47]\ttrain-auc:0.997433\ttrain-rmse:0.122161\n",
      "[48]\ttrain-auc:0.997639\ttrain-rmse:0.120289\n",
      "[49]\ttrain-auc:0.997704\ttrain-rmse:0.11952\n",
      "[50]\ttrain-auc:0.997804\ttrain-rmse:0.118348\n",
      "[51]\ttrain-auc:0.997856\ttrain-rmse:0.117901\n",
      "[52]\ttrain-auc:0.997959\ttrain-rmse:0.117054\n",
      "[53]\ttrain-auc:0.99801\ttrain-rmse:0.116482\n",
      "[54]\ttrain-auc:0.998036\ttrain-rmse:0.115984\n",
      "[55]\ttrain-auc:0.998184\ttrain-rmse:0.114749\n",
      "[56]\ttrain-auc:0.998239\ttrain-rmse:0.11391\n",
      "[57]\ttrain-auc:0.998277\ttrain-rmse:0.113285\n",
      "[58]\ttrain-auc:0.998414\ttrain-rmse:0.1116\n",
      "[59]\ttrain-auc:0.998527\ttrain-rmse:0.110159\n",
      "[60]\ttrain-auc:0.998616\ttrain-rmse:0.108598\n",
      "[61]\ttrain-auc:0.998705\ttrain-rmse:0.107504\n",
      "[62]\ttrain-auc:0.998778\ttrain-rmse:0.106026\n",
      "[63]\ttrain-auc:0.998838\ttrain-rmse:0.104995\n",
      "[64]\ttrain-auc:0.998869\ttrain-rmse:0.104342\n",
      "[65]\ttrain-auc:0.998933\ttrain-rmse:0.103458\n",
      "[66]\ttrain-auc:0.998975\ttrain-rmse:0.102714\n",
      "[67]\ttrain-auc:0.99902\ttrain-rmse:0.101653\n",
      "[68]\ttrain-auc:0.999045\ttrain-rmse:0.101025\n",
      "[69]\ttrain-auc:0.999066\ttrain-rmse:0.100618\n",
      "[70]\ttrain-auc:0.999073\ttrain-rmse:0.100352\n",
      "[71]\ttrain-auc:0.999166\ttrain-rmse:0.098947\n",
      "[72]\ttrain-auc:0.999184\ttrain-rmse:0.098494\n",
      "[73]\ttrain-auc:0.999206\ttrain-rmse:0.097871\n",
      "[74]\ttrain-auc:0.999221\ttrain-rmse:0.097346\n",
      "[75]\ttrain-auc:0.999242\ttrain-rmse:0.09678\n",
      "[76]\ttrain-auc:0.999317\ttrain-rmse:0.09514\n",
      "[77]\ttrain-auc:0.999355\ttrain-rmse:0.094024\n",
      "[78]\ttrain-auc:0.999385\ttrain-rmse:0.093531\n",
      "[79]\ttrain-auc:0.999419\ttrain-rmse:0.092372\n",
      "[80]\ttrain-auc:0.999438\ttrain-rmse:0.091841\n",
      "[81]\ttrain-auc:0.999475\ttrain-rmse:0.090651\n",
      "[82]\ttrain-auc:0.999495\ttrain-rmse:0.08998\n",
      "[83]\ttrain-auc:0.999521\ttrain-rmse:0.089373\n",
      "[84]\ttrain-auc:0.999529\ttrain-rmse:0.08899\n",
      "[85]\ttrain-auc:0.999566\ttrain-rmse:0.087707\n",
      "[86]\ttrain-auc:0.999602\ttrain-rmse:0.086477\n",
      "[87]\ttrain-auc:0.99963\ttrain-rmse:0.085268\n",
      "[88]\ttrain-auc:0.999641\ttrain-rmse:0.084838\n",
      "[89]\ttrain-auc:0.99967\ttrain-rmse:0.083559\n",
      "[90]\ttrain-auc:0.999676\ttrain-rmse:0.083304\n",
      "[91]\ttrain-auc:0.999691\ttrain-rmse:0.082442\n",
      "[92]\ttrain-auc:0.99973\ttrain-rmse:0.080939\n",
      "[93]\ttrain-auc:0.999742\ttrain-rmse:0.080368\n",
      "[94]\ttrain-auc:0.999771\ttrain-rmse:0.078957\n",
      "[95]\ttrain-auc:0.999781\ttrain-rmse:0.07841\n",
      "[96]\ttrain-auc:0.999805\ttrain-rmse:0.077192\n",
      "[97]\ttrain-auc:0.999808\ttrain-rmse:0.076822\n",
      "[98]\ttrain-auc:0.999813\ttrain-rmse:0.076455\n",
      "[99]\ttrain-auc:0.999826\ttrain-rmse:0.075565\n",
      "[100]\ttrain-auc:0.999834\ttrain-rmse:0.07493\n",
      "[101]\ttrain-auc:0.999855\ttrain-rmse:0.073757\n",
      "[102]\ttrain-auc:0.99986\ttrain-rmse:0.073371\n",
      "[103]\ttrain-auc:0.999879\ttrain-rmse:0.072227\n",
      "[104]\ttrain-auc:0.999889\ttrain-rmse:0.071254\n",
      "[105]\ttrain-auc:0.999902\ttrain-rmse:0.070579\n",
      "[106]\ttrain-auc:0.999903\ttrain-rmse:0.070373\n",
      "[107]\ttrain-auc:0.999908\ttrain-rmse:0.069646\n",
      "[108]\ttrain-auc:0.999913\ttrain-rmse:0.069018\n",
      "[109]\ttrain-auc:0.999917\ttrain-rmse:0.068518\n",
      "[110]\ttrain-auc:0.999918\ttrain-rmse:0.06833\n",
      "[111]\ttrain-auc:0.999919\ttrain-rmse:0.068185\n",
      "[112]\ttrain-auc:0.999922\ttrain-rmse:0.067547\n",
      "[113]\ttrain-auc:0.999925\ttrain-rmse:0.067268\n",
      "[114]\ttrain-auc:0.999927\ttrain-rmse:0.066971\n",
      "[115]\ttrain-auc:0.999932\ttrain-rmse:0.06641\n",
      "[116]\ttrain-auc:0.999936\ttrain-rmse:0.065791\n",
      "[117]\ttrain-auc:0.999937\ttrain-rmse:0.065584\n",
      "[118]\ttrain-auc:0.999938\ttrain-rmse:0.065222\n",
      "[119]\ttrain-auc:0.999941\ttrain-rmse:0.064498\n",
      "[120]\ttrain-auc:0.99995\ttrain-rmse:0.063318\n",
      "[121]\ttrain-auc:0.999958\ttrain-rmse:0.06205\n",
      "[122]\ttrain-auc:0.999963\ttrain-rmse:0.060973\n",
      "[123]\ttrain-auc:0.999963\ttrain-rmse:0.060579\n",
      "[124]\ttrain-auc:0.999967\ttrain-rmse:0.059855\n",
      "[125]\ttrain-auc:0.999971\ttrain-rmse:0.059305\n",
      "[126]\ttrain-auc:0.999972\ttrain-rmse:0.059138\n",
      "[127]\ttrain-auc:0.999975\ttrain-rmse:0.05851\n",
      "[128]\ttrain-auc:0.999976\ttrain-rmse:0.058337\n",
      "[129]\ttrain-auc:0.999977\ttrain-rmse:0.057805\n",
      "[130]\ttrain-auc:0.999979\ttrain-rmse:0.057129\n",
      "[131]\ttrain-auc:0.999983\ttrain-rmse:0.055962\n",
      "[132]\ttrain-auc:0.999983\ttrain-rmse:0.055844\n",
      "[133]\ttrain-auc:0.999984\ttrain-rmse:0.055448\n",
      "[134]\ttrain-auc:0.999986\ttrain-rmse:0.05471\n",
      "[135]\ttrain-auc:0.999988\ttrain-rmse:0.05399\n",
      "[136]\ttrain-auc:0.99999\ttrain-rmse:0.052735\n",
      "[137]\ttrain-auc:0.999991\ttrain-rmse:0.05258\n",
      "[138]\ttrain-auc:0.999991\ttrain-rmse:0.052374\n",
      "[139]\ttrain-auc:0.999991\ttrain-rmse:0.052243\n",
      "[140]\ttrain-auc:0.999994\ttrain-rmse:0.05106\n",
      "[141]\ttrain-auc:0.999995\ttrain-rmse:0.050287\n",
      "[142]\ttrain-auc:0.999995\ttrain-rmse:0.049803\n",
      "[143]\ttrain-auc:0.999996\ttrain-rmse:0.049252\n",
      "[144]\ttrain-auc:0.999997\ttrain-rmse:0.048707\n",
      "[145]\ttrain-auc:0.999997\ttrain-rmse:0.048407\n",
      "[146]\ttrain-auc:0.999997\ttrain-rmse:0.048228\n",
      "[147]\ttrain-auc:0.999998\ttrain-rmse:0.047399\n",
      "[148]\ttrain-auc:0.999998\ttrain-rmse:0.046393\n",
      "[149]\ttrain-auc:0.999999\ttrain-rmse:0.045638\n",
      "[150]\ttrain-auc:0.999999\ttrain-rmse:0.045022\n",
      "[151]\ttrain-auc:0.999999\ttrain-rmse:0.044772\n",
      "[152]\ttrain-auc:0.999999\ttrain-rmse:0.044208\n",
      "[153]\ttrain-auc:0.999999\ttrain-rmse:0.043629\n",
      "[154]\ttrain-auc:0.999999\ttrain-rmse:0.043405\n",
      "[155]\ttrain-auc:0.999999\ttrain-rmse:0.043127\n",
      "[156]\ttrain-auc:1\ttrain-rmse:0.042255\n",
      "[157]\ttrain-auc:1\ttrain-rmse:0.041696\n",
      "[158]\ttrain-auc:1\ttrain-rmse:0.041438\n",
      "[159]\ttrain-auc:1\ttrain-rmse:0.041064\n",
      "[160]\ttrain-auc:1\ttrain-rmse:0.040807\n",
      "[161]\ttrain-auc:1\ttrain-rmse:0.040577\n",
      "[162]\ttrain-auc:1\ttrain-rmse:0.039924\n",
      "[163]\ttrain-auc:1\ttrain-rmse:0.039184\n",
      "[164]\ttrain-auc:1\ttrain-rmse:0.039113\n",
      "[165]\ttrain-auc:1\ttrain-rmse:0.038928\n",
      "[166]\ttrain-auc:1\ttrain-rmse:0.038739\n",
      "[167]\ttrain-auc:1\ttrain-rmse:0.038305\n",
      "[168]\ttrain-auc:1\ttrain-rmse:0.038113\n",
      "[169]\ttrain-auc:1\ttrain-rmse:0.0378\n",
      "[170]\ttrain-auc:1\ttrain-rmse:0.037115\n",
      "[171]\ttrain-auc:1\ttrain-rmse:0.036421\n",
      "[172]\ttrain-auc:1\ttrain-rmse:0.036336\n",
      "[173]\ttrain-auc:1\ttrain-rmse:0.036075\n",
      "[174]\ttrain-auc:1\ttrain-rmse:0.035591\n",
      "[175]\ttrain-auc:1\ttrain-rmse:0.035465\n",
      "[176]\ttrain-auc:1\ttrain-rmse:0.034931\n",
      "[177]\ttrain-auc:1\ttrain-rmse:0.034815\n",
      "[178]\ttrain-auc:1\ttrain-rmse:0.034721\n",
      "[179]\ttrain-auc:1\ttrain-rmse:0.034574\n",
      "[180]\ttrain-auc:1\ttrain-rmse:0.034272\n",
      "[181]\ttrain-auc:1\ttrain-rmse:0.033636\n",
      "[182]\ttrain-auc:1\ttrain-rmse:0.03344\n",
      "[183]\ttrain-auc:1\ttrain-rmse:0.033081\n",
      "[184]\ttrain-auc:1\ttrain-rmse:0.032464\n",
      "[185]\ttrain-auc:1\ttrain-rmse:0.031827\n",
      "[186]\ttrain-auc:1\ttrain-rmse:0.031302\n",
      "[187]\ttrain-auc:1\ttrain-rmse:0.031156\n",
      "[188]\ttrain-auc:1\ttrain-rmse:0.0309\n",
      "[189]\ttrain-auc:1\ttrain-rmse:0.03032\n",
      "[190]\ttrain-auc:1\ttrain-rmse:0.029766\n",
      "[191]\ttrain-auc:1\ttrain-rmse:0.029576\n",
      "[192]\ttrain-auc:1\ttrain-rmse:0.029413\n",
      "[193]\ttrain-auc:1\ttrain-rmse:0.029251\n",
      "[194]\ttrain-auc:1\ttrain-rmse:0.028988\n",
      "[195]\ttrain-auc:1\ttrain-rmse:0.028552\n",
      "[196]\ttrain-auc:1\ttrain-rmse:0.028316\n",
      "[197]\ttrain-auc:1\ttrain-rmse:0.028003\n",
      "[198]\ttrain-auc:1\ttrain-rmse:0.027706\n",
      "[199]\ttrain-auc:1\ttrain-rmse:0.027565\n",
      "[200]\ttrain-auc:1\ttrain-rmse:0.027455\n",
      "[201]\ttrain-auc:1\ttrain-rmse:0.027398\n",
      "[202]\ttrain-auc:1\ttrain-rmse:0.027267\n",
      "[203]\ttrain-auc:1\ttrain-rmse:0.026887\n",
      "[204]\ttrain-auc:1\ttrain-rmse:0.026652\n",
      "[205]\ttrain-auc:1\ttrain-rmse:0.026238\n",
      "[206]\ttrain-auc:1\ttrain-rmse:0.026127\n",
      "[207]\ttrain-auc:1\ttrain-rmse:0.026018\n",
      "[208]\ttrain-auc:1\ttrain-rmse:0.025563\n",
      "[209]\ttrain-auc:1\ttrain-rmse:0.025337\n",
      "[210]\ttrain-auc:1\ttrain-rmse:0.025015\n",
      "[211]\ttrain-auc:1\ttrain-rmse:0.024686\n",
      "[212]\ttrain-auc:1\ttrain-rmse:0.024455\n",
      "[213]\ttrain-auc:1\ttrain-rmse:0.024231\n",
      "[214]\ttrain-auc:1\ttrain-rmse:0.023992\n",
      "[215]\ttrain-auc:1\ttrain-rmse:0.02377\n",
      "[216]\ttrain-auc:1\ttrain-rmse:0.023546\n",
      "[217]\ttrain-auc:1\ttrain-rmse:0.02323\n",
      "[218]\ttrain-auc:1\ttrain-rmse:0.022866\n",
      "[219]\ttrain-auc:1\ttrain-rmse:0.022664\n",
      "[220]\ttrain-auc:1\ttrain-rmse:0.02249\n",
      "[221]\ttrain-auc:1\ttrain-rmse:0.022241\n",
      "[222]\ttrain-auc:1\ttrain-rmse:0.022026\n",
      "[223]\ttrain-auc:1\ttrain-rmse:0.021748\n",
      "[224]\ttrain-auc:1\ttrain-rmse:0.021653\n",
      "[225]\ttrain-auc:1\ttrain-rmse:0.021416\n",
      "[226]\ttrain-auc:1\ttrain-rmse:0.021209\n",
      "[227]\ttrain-auc:1\ttrain-rmse:0.020985\n",
      "[228]\ttrain-auc:1\ttrain-rmse:0.020588\n",
      "[229]\ttrain-auc:1\ttrain-rmse:0.020505\n",
      "[230]\ttrain-auc:1\ttrain-rmse:0.020316\n",
      "[231]\ttrain-auc:1\ttrain-rmse:0.019862\n",
      "[232]\ttrain-auc:1\ttrain-rmse:0.019781\n",
      "[233]\ttrain-auc:1\ttrain-rmse:0.019716\n",
      "[234]\ttrain-auc:1\ttrain-rmse:0.019461\n",
      "[235]\ttrain-auc:1\ttrain-rmse:0.019206\n",
      "[236]\ttrain-auc:1\ttrain-rmse:0.018983\n",
      "[237]\ttrain-auc:1\ttrain-rmse:0.01864\n",
      "[238]\ttrain-auc:1\ttrain-rmse:0.018555\n",
      "[239]\ttrain-auc:1\ttrain-rmse:0.018519\n",
      "[240]\ttrain-auc:1\ttrain-rmse:0.018344\n",
      "[241]\ttrain-auc:1\ttrain-rmse:0.018227\n",
      "[242]\ttrain-auc:1\ttrain-rmse:0.018166\n",
      "[243]\ttrain-auc:1\ttrain-rmse:0.017965\n",
      "[244]\ttrain-auc:1\ttrain-rmse:0.017759\n",
      "[245]\ttrain-auc:1\ttrain-rmse:0.017636\n",
      "[246]\ttrain-auc:1\ttrain-rmse:0.017577\n",
      "[247]\ttrain-auc:1\ttrain-rmse:0.017533\n",
      "[248]\ttrain-auc:1\ttrain-rmse:0.017517\n",
      "[249]\ttrain-auc:1\ttrain-rmse:0.017362\n",
      "[250]\ttrain-auc:1\ttrain-rmse:0.017172\n",
      "[251]\ttrain-auc:1\ttrain-rmse:0.016986\n",
      "[252]\ttrain-auc:1\ttrain-rmse:0.016946\n",
      "[253]\ttrain-auc:1\ttrain-rmse:0.01674\n",
      "[254]\ttrain-auc:1\ttrain-rmse:0.016709\n",
      "[255]\ttrain-auc:1\ttrain-rmse:0.016433\n",
      "[256]\ttrain-auc:1\ttrain-rmse:0.016231\n",
      "[257]\ttrain-auc:1\ttrain-rmse:0.016143\n",
      "[258]\ttrain-auc:1\ttrain-rmse:0.015907\n",
      "[259]\ttrain-auc:1\ttrain-rmse:0.015754\n",
      "[260]\ttrain-auc:1\ttrain-rmse:0.015564\n",
      "[261]\ttrain-auc:1\ttrain-rmse:0.015474\n",
      "[262]\ttrain-auc:1\ttrain-rmse:0.01544\n",
      "[263]\ttrain-auc:1\ttrain-rmse:0.015252\n",
      "[264]\ttrain-auc:1\ttrain-rmse:0.015196\n",
      "[265]\ttrain-auc:1\ttrain-rmse:0.015046\n",
      "[266]\ttrain-auc:1\ttrain-rmse:0.014994\n",
      "[267]\ttrain-auc:1\ttrain-rmse:0.014796\n",
      "[268]\ttrain-auc:1\ttrain-rmse:0.014584\n",
      "[269]\ttrain-auc:1\ttrain-rmse:0.014399\n",
      "[270]\ttrain-auc:1\ttrain-rmse:0.014265\n",
      "[271]\ttrain-auc:1\ttrain-rmse:0.01408\n",
      "[272]\ttrain-auc:1\ttrain-rmse:0.014026\n",
      "[273]\ttrain-auc:1\ttrain-rmse:0.013923\n",
      "[274]\ttrain-auc:1\ttrain-rmse:0.013763\n",
      "[275]\ttrain-auc:1\ttrain-rmse:0.01358\n",
      "[276]\ttrain-auc:1\ttrain-rmse:0.013557\n",
      "[277]\ttrain-auc:1\ttrain-rmse:0.013507\n",
      "[278]\ttrain-auc:1\ttrain-rmse:0.013438\n",
      "[279]\ttrain-auc:1\ttrain-rmse:0.013287\n",
      "[280]\ttrain-auc:1\ttrain-rmse:0.013154\n",
      "[281]\ttrain-auc:1\ttrain-rmse:0.013065\n",
      "[282]\ttrain-auc:1\ttrain-rmse:0.012842\n",
      "[283]\ttrain-auc:1\ttrain-rmse:0.012679\n",
      "[284]\ttrain-auc:1\ttrain-rmse:0.012632\n",
      "[285]\ttrain-auc:1\ttrain-rmse:0.01249\n",
      "[286]\ttrain-auc:1\ttrain-rmse:0.01247\n",
      "[287]\ttrain-auc:1\ttrain-rmse:0.012363\n",
      "[288]\ttrain-auc:1\ttrain-rmse:0.012308\n",
      "[289]\ttrain-auc:1\ttrain-rmse:0.012286\n",
      "[290]\ttrain-auc:1\ttrain-rmse:0.012198\n",
      "[291]\ttrain-auc:1\ttrain-rmse:0.012073\n",
      "[292]\ttrain-auc:1\ttrain-rmse:0.012036\n",
      "[293]\ttrain-auc:1\ttrain-rmse:0.011955\n",
      "[294]\ttrain-auc:1\ttrain-rmse:0.011894\n",
      "[295]\ttrain-auc:1\ttrain-rmse:0.011802\n",
      "[296]\ttrain-auc:1\ttrain-rmse:0.011696\n",
      "[297]\ttrain-auc:1\ttrain-rmse:0.011559\n",
      "[298]\ttrain-auc:1\ttrain-rmse:0.011483\n",
      "[299]\ttrain-auc:1\ttrain-rmse:0.011312\n",
      "[300]\ttrain-auc:1\ttrain-rmse:0.011281\n",
      "[301]\ttrain-auc:1\ttrain-rmse:0.011258\n",
      "[302]\ttrain-auc:1\ttrain-rmse:0.011176\n",
      "[303]\ttrain-auc:1\ttrain-rmse:0.0111\n",
      "[304]\ttrain-auc:1\ttrain-rmse:0.011\n",
      "[305]\ttrain-auc:1\ttrain-rmse:0.010979\n",
      "[306]\ttrain-auc:1\ttrain-rmse:0.010859\n",
      "[307]\ttrain-auc:1\ttrain-rmse:0.010727\n",
      "[308]\ttrain-auc:1\ttrain-rmse:0.010597\n",
      "[309]\ttrain-auc:1\ttrain-rmse:0.010547\n",
      "[310]\ttrain-auc:1\ttrain-rmse:0.01046\n",
      "[311]\ttrain-auc:1\ttrain-rmse:0.010364\n",
      "[312]\ttrain-auc:1\ttrain-rmse:0.010296\n",
      "[313]\ttrain-auc:1\ttrain-rmse:0.010216\n",
      "[314]\ttrain-auc:1\ttrain-rmse:0.010186\n",
      "[315]\ttrain-auc:1\ttrain-rmse:0.010144\n",
      "[316]\ttrain-auc:1\ttrain-rmse:0.010027\n",
      "[317]\ttrain-auc:1\ttrain-rmse:0.009974\n",
      "[318]\ttrain-auc:1\ttrain-rmse:0.009908\n",
      "[319]\ttrain-auc:1\ttrain-rmse:0.009825\n",
      "[320]\ttrain-auc:1\ttrain-rmse:0.009731\n",
      "[321]\ttrain-auc:1\ttrain-rmse:0.009696\n",
      "[322]\ttrain-auc:1\ttrain-rmse:0.009613\n",
      "[323]\ttrain-auc:1\ttrain-rmse:0.009567\n",
      "[324]\ttrain-auc:1\ttrain-rmse:0.009495\n",
      "[325]\ttrain-auc:1\ttrain-rmse:0.009428\n",
      "[326]\ttrain-auc:1\ttrain-rmse:0.009391\n",
      "[327]\ttrain-auc:1\ttrain-rmse:0.009293\n",
      "[328]\ttrain-auc:1\ttrain-rmse:0.009224\n",
      "[329]\ttrain-auc:1\ttrain-rmse:0.009118\n",
      "[330]\ttrain-auc:1\ttrain-rmse:0.009061\n",
      "[331]\ttrain-auc:1\ttrain-rmse:0.009054\n",
      "[332]\ttrain-auc:1\ttrain-rmse:0.009013\n",
      "[333]\ttrain-auc:1\ttrain-rmse:0.008958\n",
      "[334]\ttrain-auc:1\ttrain-rmse:0.00894\n",
      "[335]\ttrain-auc:1\ttrain-rmse:0.008882\n",
      "[336]\ttrain-auc:1\ttrain-rmse:0.008864\n",
      "[337]\ttrain-auc:1\ttrain-rmse:0.008794\n",
      "[338]\ttrain-auc:1\ttrain-rmse:0.008763\n",
      "[339]\ttrain-auc:1\ttrain-rmse:0.008748\n",
      "[340]\ttrain-auc:1\ttrain-rmse:0.008681\n",
      "[341]\ttrain-auc:1\ttrain-rmse:0.008661\n",
      "[342]\ttrain-auc:1\ttrain-rmse:0.008606\n",
      "[343]\ttrain-auc:1\ttrain-rmse:0.008544\n",
      "[344]\ttrain-auc:1\ttrain-rmse:0.008517\n",
      "[345]\ttrain-auc:1\ttrain-rmse:0.008455\n",
      "[346]\ttrain-auc:1\ttrain-rmse:0.008383\n",
      "[347]\ttrain-auc:1\ttrain-rmse:0.008351\n",
      "[348]\ttrain-auc:1\ttrain-rmse:0.008329\n",
      "[349]\ttrain-auc:1\ttrain-rmse:0.008296\n",
      "[350]\ttrain-auc:1\ttrain-rmse:0.008276\n",
      "[351]\ttrain-auc:1\ttrain-rmse:0.008191\n",
      "[352]\ttrain-auc:1\ttrain-rmse:0.008126\n",
      "[353]\ttrain-auc:1\ttrain-rmse:0.008088\n",
      "[354]\ttrain-auc:1\ttrain-rmse:0.007994\n",
      "[355]\ttrain-auc:1\ttrain-rmse:0.00793\n",
      "[356]\ttrain-auc:1\ttrain-rmse:0.007877\n",
      "[357]\ttrain-auc:1\ttrain-rmse:0.007827\n",
      "[358]\ttrain-auc:1\ttrain-rmse:0.007773\n",
      "[359]\ttrain-auc:1\ttrain-rmse:0.007678\n",
      "[360]\ttrain-auc:1\ttrain-rmse:0.007616\n",
      "[361]\ttrain-auc:1\ttrain-rmse:0.007598\n",
      "[362]\ttrain-auc:1\ttrain-rmse:0.007522\n",
      "[363]\ttrain-auc:1\ttrain-rmse:0.007481\n",
      "[364]\ttrain-auc:1\ttrain-rmse:0.007413\n",
      "[365]\ttrain-auc:1\ttrain-rmse:0.007385\n",
      "[366]\ttrain-auc:1\ttrain-rmse:0.007337\n",
      "[367]\ttrain-auc:1\ttrain-rmse:0.007302\n",
      "[368]\ttrain-auc:1\ttrain-rmse:0.00726\n",
      "[369]\ttrain-auc:1\ttrain-rmse:0.007254\n",
      "[370]\ttrain-auc:1\ttrain-rmse:0.007216\n",
      "[371]\ttrain-auc:1\ttrain-rmse:0.007199\n",
      "Working: 11\n",
      "[0]\ttrain-auc:0.5+0\ttest-auc:0.5+0\n",
      "[30]\ttrain-auc:1+0\ttest-auc:0.959858+0.00658782\n",
      "[0]\ttrain-auc:0.5\ttrain-rmse:0.356043\n",
      "[1]\ttrain-auc:0.865044\ttrain-rmse:0.259586\n",
      "[2]\ttrain-auc:0.909263\ttrain-rmse:0.192202\n",
      "[3]\ttrain-auc:0.912455\ttrain-rmse:0.144343\n",
      "[4]\ttrain-auc:0.921696\ttrain-rmse:0.109793\n",
      "[5]\ttrain-auc:0.931877\ttrain-rmse:0.085618\n",
      "[6]\ttrain-auc:0.936702\ttrain-rmse:0.068588\n",
      "[7]\ttrain-auc:0.937561\ttrain-rmse:0.056437\n",
      "[8]\ttrain-auc:0.939457\ttrain-rmse:0.048298\n",
      "[9]\ttrain-auc:0.939509\ttrain-rmse:0.042725\n",
      "[10]\ttrain-auc:0.957516\ttrain-rmse:0.038534\n",
      "[11]\ttrain-auc:0.989745\ttrain-rmse:0.035621\n",
      "[12]\ttrain-auc:0.990416\ttrain-rmse:0.033283\n",
      "[13]\ttrain-auc:0.991225\ttrain-rmse:0.031267\n",
      "[14]\ttrain-auc:0.991836\ttrain-rmse:0.029866\n",
      "[15]\ttrain-auc:0.998478\ttrain-rmse:0.028846\n",
      "[16]\ttrain-auc:0.999537\ttrain-rmse:0.027162\n",
      "[17]\ttrain-auc:0.999706\ttrain-rmse:0.025823\n",
      "[18]\ttrain-auc:0.999855\ttrain-rmse:0.024411\n",
      "[19]\ttrain-auc:0.9999\ttrain-rmse:0.023278\n",
      "[20]\ttrain-auc:0.999936\ttrain-rmse:0.021896\n",
      "[21]\ttrain-auc:0.999966\ttrain-rmse:0.020987\n",
      "[22]\ttrain-auc:0.999983\ttrain-rmse:0.019685\n",
      "[23]\ttrain-auc:0.999989\ttrain-rmse:0.018409\n",
      "[24]\ttrain-auc:0.999995\ttrain-rmse:0.017508\n",
      "[25]\ttrain-auc:0.999998\ttrain-rmse:0.016447\n",
      "[26]\ttrain-auc:0.999999\ttrain-rmse:0.015822\n",
      "[27]\ttrain-auc:1\ttrain-rmse:0.014559\n",
      "[28]\ttrain-auc:1\ttrain-rmse:0.013423\n",
      "[29]\ttrain-auc:1\ttrain-rmse:0.012564\n",
      "[30]\ttrain-auc:1\ttrain-rmse:0.011569\n",
      "[31]\ttrain-auc:1\ttrain-rmse:0.010833\n",
      "[32]\ttrain-auc:1\ttrain-rmse:0.010255\n",
      "[33]\ttrain-auc:1\ttrain-rmse:0.00969\n",
      "[34]\ttrain-auc:1\ttrain-rmse:0.009165\n",
      "[35]\ttrain-auc:1\ttrain-rmse:0.008469\n",
      "[36]\ttrain-auc:1\ttrain-rmse:0.00797\n",
      "[37]\ttrain-auc:1\ttrain-rmse:0.00745\n",
      "[38]\ttrain-auc:1\ttrain-rmse:0.00695\n",
      "[39]\ttrain-auc:1\ttrain-rmse:0.006547\n",
      "Working: 12\n",
      "[0]\ttrain-auc:0.797491+0.00960648\ttest-auc:0.762623+0.01114\n",
      "[30]\ttrain-auc:0.995264+0.000932618\ttest-auc:0.877297+0.00346635\n",
      "[0]\ttrain-auc:0.807208\ttrain-rmse:0.366236\n",
      "[1]\ttrain-auc:0.848633\ttrain-rmse:0.27963\n",
      "[2]\ttrain-auc:0.862243\ttrain-rmse:0.222148\n",
      "[3]\ttrain-auc:0.877785\ttrain-rmse:0.184053\n",
      "[4]\ttrain-auc:0.88622\ttrain-rmse:0.159631\n",
      "[5]\ttrain-auc:0.893442\ttrain-rmse:0.144003\n",
      "[6]\ttrain-auc:0.902019\ttrain-rmse:0.134334\n",
      "[7]\ttrain-auc:0.917537\ttrain-rmse:0.128344\n",
      "[8]\ttrain-auc:0.923965\ttrain-rmse:0.125\n",
      "[9]\ttrain-auc:0.92992\ttrain-rmse:0.12231\n",
      "[10]\ttrain-auc:0.938599\ttrain-rmse:0.120337\n",
      "[11]\ttrain-auc:0.945815\ttrain-rmse:0.118507\n",
      "[12]\ttrain-auc:0.950187\ttrain-rmse:0.117541\n",
      "[13]\ttrain-auc:0.958171\ttrain-rmse:0.115754\n",
      "[14]\ttrain-auc:0.961408\ttrain-rmse:0.114872\n",
      "[15]\ttrain-auc:0.962817\ttrain-rmse:0.113941\n",
      "[16]\ttrain-auc:0.9656\ttrain-rmse:0.112243\n",
      "[17]\ttrain-auc:0.968175\ttrain-rmse:0.111311\n",
      "[18]\ttrain-auc:0.97124\ttrain-rmse:0.110522\n",
      "[19]\ttrain-auc:0.973679\ttrain-rmse:0.1092\n",
      "[20]\ttrain-auc:0.976115\ttrain-rmse:0.108284\n",
      "[21]\ttrain-auc:0.978359\ttrain-rmse:0.10732\n",
      "[22]\ttrain-auc:0.979274\ttrain-rmse:0.106322\n",
      "[23]\ttrain-auc:0.9804\ttrain-rmse:0.105738\n",
      "[24]\ttrain-auc:0.982717\ttrain-rmse:0.104471\n",
      "[25]\ttrain-auc:0.98423\ttrain-rmse:0.102674\n",
      "[26]\ttrain-auc:0.985479\ttrain-rmse:0.101566\n",
      "[27]\ttrain-auc:0.986437\ttrain-rmse:0.100837\n",
      "[28]\ttrain-auc:0.988531\ttrain-rmse:0.09906\n",
      "[29]\ttrain-auc:0.990148\ttrain-rmse:0.097296\n",
      "Working: 13\n",
      "[0]\ttrain-auc:0.894299+0.00631521\ttest-auc:0.849961+0.0325427\n",
      "[30]\ttrain-auc:0.99999+8.16497e-06\ttest-auc:0.988312+0.00313906\n",
      "[60]\ttrain-auc:1+0\ttest-auc:0.990126+0.00464562\n",
      "[0]\ttrain-auc:0.874587\ttrain-rmse:0.357221\n",
      "[1]\ttrain-auc:0.948623\ttrain-rmse:0.261609\n",
      "[2]\ttrain-auc:0.970506\ttrain-rmse:0.194326\n",
      "[3]\ttrain-auc:0.974386\ttrain-rmse:0.146485\n",
      "[4]\ttrain-auc:0.976002\ttrain-rmse:0.112754\n",
      "[5]\ttrain-auc:0.978636\ttrain-rmse:0.0889\n",
      "[6]\ttrain-auc:0.991828\ttrain-rmse:0.071973\n",
      "[7]\ttrain-auc:0.993621\ttrain-rmse:0.060158\n",
      "[8]\ttrain-auc:0.993746\ttrain-rmse:0.05232\n",
      "[9]\ttrain-auc:0.99391\ttrain-rmse:0.045975\n",
      "[10]\ttrain-auc:0.995169\ttrain-rmse:0.042348\n",
      "[11]\ttrain-auc:0.99547\ttrain-rmse:0.038887\n",
      "[12]\ttrain-auc:0.995653\ttrain-rmse:0.03668\n",
      "[13]\ttrain-auc:0.997594\ttrain-rmse:0.034461\n",
      "[14]\ttrain-auc:0.997728\ttrain-rmse:0.033146\n",
      "[15]\ttrain-auc:0.997757\ttrain-rmse:0.032216\n",
      "[16]\ttrain-auc:0.997787\ttrain-rmse:0.031343\n",
      "[17]\ttrain-auc:0.997804\ttrain-rmse:0.030446\n",
      "[18]\ttrain-auc:0.997814\ttrain-rmse:0.029358\n",
      "[19]\ttrain-auc:0.999401\ttrain-rmse:0.027932\n",
      "[20]\ttrain-auc:0.999577\ttrain-rmse:0.027264\n",
      "[21]\ttrain-auc:0.999578\ttrain-rmse:0.026716\n",
      "[22]\ttrain-auc:0.999612\ttrain-rmse:0.025812\n",
      "[23]\ttrain-auc:0.999672\ttrain-rmse:0.024966\n",
      "[24]\ttrain-auc:0.999732\ttrain-rmse:0.02407\n",
      "[25]\ttrain-auc:0.999832\ttrain-rmse:0.022948\n",
      "[26]\ttrain-auc:0.999844\ttrain-rmse:0.02225\n",
      "[27]\ttrain-auc:0.999899\ttrain-rmse:0.021184\n",
      "[28]\ttrain-auc:0.999904\ttrain-rmse:0.020404\n",
      "[29]\ttrain-auc:0.999934\ttrain-rmse:0.019415\n",
      "[30]\ttrain-auc:0.999952\ttrain-rmse:0.018767\n",
      "[31]\ttrain-auc:0.999966\ttrain-rmse:0.017833\n",
      "[32]\ttrain-auc:0.999977\ttrain-rmse:0.016676\n",
      "[33]\ttrain-auc:0.999981\ttrain-rmse:0.016142\n",
      "[34]\ttrain-auc:0.999988\ttrain-rmse:0.014958\n",
      "[35]\ttrain-auc:0.999992\ttrain-rmse:0.014031\n",
      "[36]\ttrain-auc:0.999994\ttrain-rmse:0.013346\n",
      "[37]\ttrain-auc:0.999996\ttrain-rmse:0.012544\n",
      "[38]\ttrain-auc:0.999997\ttrain-rmse:0.011845\n",
      "[39]\ttrain-auc:0.999998\ttrain-rmse:0.011327\n",
      "[40]\ttrain-auc:0.999999\ttrain-rmse:0.010683\n",
      "[41]\ttrain-auc:0.999999\ttrain-rmse:0.010135\n",
      "[42]\ttrain-auc:0.999999\ttrain-rmse:0.009702\n",
      "[43]\ttrain-auc:1\ttrain-rmse:0.009188\n",
      "[44]\ttrain-auc:1\ttrain-rmse:0.008798\n",
      "[45]\ttrain-auc:1\ttrain-rmse:0.008414\n",
      "[46]\ttrain-auc:1\ttrain-rmse:0.008008\n",
      "[47]\ttrain-auc:1\ttrain-rmse:0.007701\n",
      "[48]\ttrain-auc:1\ttrain-rmse:0.007313\n",
      "[49]\ttrain-auc:1\ttrain-rmse:0.006949\n",
      "[50]\ttrain-auc:1\ttrain-rmse:0.006637\n",
      "[51]\ttrain-auc:1\ttrain-rmse:0.006301\n",
      "[52]\ttrain-auc:1\ttrain-rmse:0.006013\n",
      "[53]\ttrain-auc:1\ttrain-rmse:0.005758\n",
      "[54]\ttrain-auc:1\ttrain-rmse:0.005567\n",
      "[55]\ttrain-auc:1\ttrain-rmse:0.005337\n",
      "[56]\ttrain-auc:1\ttrain-rmse:0.005197\n",
      "[57]\ttrain-auc:1\ttrain-rmse:0.004951\n",
      "[58]\ttrain-auc:1\ttrain-rmse:0.00482\n",
      "[59]\ttrain-auc:1\ttrain-rmse:0.004673\n",
      "[60]\ttrain-auc:1\ttrain-rmse:0.004498\n",
      "[61]\ttrain-auc:1\ttrain-rmse:0.00438\n",
      "[62]\ttrain-auc:1\ttrain-rmse:0.00427\n",
      "[63]\ttrain-auc:1\ttrain-rmse:0.004169\n",
      "[64]\ttrain-auc:1\ttrain-rmse:0.004036\n",
      "Working: 14\n",
      "[0]\ttrain-auc:0.548146+0.00597151\ttest-auc:0.524068+0.0102232\n",
      "[30]\ttrain-auc:0.997916+0.000312491\ttest-auc:0.88359+0.015426\n",
      "[0]\ttrain-auc:0.826996\ttrain-rmse:0.359529\n",
      "[1]\ttrain-auc:0.841708\ttrain-rmse:0.266694\n",
      "[2]\ttrain-auc:0.869869\ttrain-rmse:0.20296\n",
      "[3]\ttrain-auc:0.875431\ttrain-rmse:0.159449\n",
      "[4]\ttrain-auc:0.883839\ttrain-rmse:0.129959\n",
      "[5]\ttrain-auc:0.903736\ttrain-rmse:0.110733\n",
      "[6]\ttrain-auc:0.908493\ttrain-rmse:0.098415\n",
      "[7]\ttrain-auc:0.917303\ttrain-rmse:0.090569\n",
      "[8]\ttrain-auc:0.92464\ttrain-rmse:0.086167\n",
      "[9]\ttrain-auc:0.93414\ttrain-rmse:0.083348\n",
      "[10]\ttrain-auc:0.939748\ttrain-rmse:0.081384\n",
      "[11]\ttrain-auc:0.950933\ttrain-rmse:0.079962\n",
      "[12]\ttrain-auc:0.954747\ttrain-rmse:0.078834\n",
      "[13]\ttrain-auc:0.961603\ttrain-rmse:0.078185\n",
      "[14]\ttrain-auc:0.966666\ttrain-rmse:0.077362\n",
      "[15]\ttrain-auc:0.969721\ttrain-rmse:0.076583\n",
      "[16]\ttrain-auc:0.973804\ttrain-rmse:0.075523\n",
      "[17]\ttrain-auc:0.976312\ttrain-rmse:0.0749\n",
      "[18]\ttrain-auc:0.980997\ttrain-rmse:0.073991\n",
      "[19]\ttrain-auc:0.983659\ttrain-rmse:0.073035\n",
      "[20]\ttrain-auc:0.984717\ttrain-rmse:0.072775\n",
      "[21]\ttrain-auc:0.985924\ttrain-rmse:0.072207\n",
      "[22]\ttrain-auc:0.988283\ttrain-rmse:0.071353\n",
      "[23]\ttrain-auc:0.988789\ttrain-rmse:0.070926\n",
      "[24]\ttrain-auc:0.990148\ttrain-rmse:0.069863\n",
      "[25]\ttrain-auc:0.991063\ttrain-rmse:0.068997\n",
      "[26]\ttrain-auc:0.992888\ttrain-rmse:0.067192\n",
      "[27]\ttrain-auc:0.993521\ttrain-rmse:0.066872\n",
      "[28]\ttrain-auc:0.994072\ttrain-rmse:0.066175\n",
      "[29]\ttrain-auc:0.994343\ttrain-rmse:0.065512\n",
      "[30]\ttrain-auc:0.99488\ttrain-rmse:0.065242\n",
      "Working: 15\n",
      "[0]\ttrain-auc:0.501425+0.00100751\ttest-auc:0.499875+0.000127018\n",
      "[30]\ttrain-auc:0.998881+0.000461711\ttest-auc:0.885515+0.0113486\n",
      "[60]\ttrain-auc:1+0\ttest-auc:0.886121+0.0104824\n",
      "[0]\ttrain-auc:0.772611\ttrain-rmse:0.359921\n",
      "[1]\ttrain-auc:0.862145\ttrain-rmse:0.267267\n",
      "[2]\ttrain-auc:0.880862\ttrain-rmse:0.203943\n",
      "[3]\ttrain-auc:0.893193\ttrain-rmse:0.160377\n",
      "[4]\ttrain-auc:0.905077\ttrain-rmse:0.131429\n",
      "[5]\ttrain-auc:0.912051\ttrain-rmse:0.112702\n",
      "[6]\ttrain-auc:0.919402\ttrain-rmse:0.100942\n",
      "[7]\ttrain-auc:0.920118\ttrain-rmse:0.093803\n",
      "[8]\ttrain-auc:0.933693\ttrain-rmse:0.089617\n",
      "[9]\ttrain-auc:0.942099\ttrain-rmse:0.087003\n",
      "[10]\ttrain-auc:0.951203\ttrain-rmse:0.085147\n",
      "[11]\ttrain-auc:0.957659\ttrain-rmse:0.083774\n",
      "[12]\ttrain-auc:0.962392\ttrain-rmse:0.082504\n",
      "[13]\ttrain-auc:0.968868\ttrain-rmse:0.081653\n",
      "[14]\ttrain-auc:0.97241\ttrain-rmse:0.081066\n",
      "[15]\ttrain-auc:0.974659\ttrain-rmse:0.080088\n",
      "[16]\ttrain-auc:0.977693\ttrain-rmse:0.079173\n",
      "[17]\ttrain-auc:0.981083\ttrain-rmse:0.078857\n",
      "[18]\ttrain-auc:0.982809\ttrain-rmse:0.078118\n",
      "[19]\ttrain-auc:0.984423\ttrain-rmse:0.077837\n",
      "[20]\ttrain-auc:0.985344\ttrain-rmse:0.077289\n",
      "[21]\ttrain-auc:0.986502\ttrain-rmse:0.076504\n",
      "[22]\ttrain-auc:0.987478\ttrain-rmse:0.07539\n",
      "[23]\ttrain-auc:0.991125\ttrain-rmse:0.072829\n",
      "[24]\ttrain-auc:0.992695\ttrain-rmse:0.07154\n",
      "[25]\ttrain-auc:0.994015\ttrain-rmse:0.070383\n",
      "[26]\ttrain-auc:0.994682\ttrain-rmse:0.06941\n",
      "[27]\ttrain-auc:0.995771\ttrain-rmse:0.067663\n",
      "[28]\ttrain-auc:0.996715\ttrain-rmse:0.065448\n",
      "[29]\ttrain-auc:0.997016\ttrain-rmse:0.064602\n",
      "[30]\ttrain-auc:0.997368\ttrain-rmse:0.064065\n",
      "[31]\ttrain-auc:0.997612\ttrain-rmse:0.062642\n",
      "[32]\ttrain-auc:0.998091\ttrain-rmse:0.06085\n",
      "[33]\ttrain-auc:0.998325\ttrain-rmse:0.059969\n",
      "[34]\ttrain-auc:0.998477\ttrain-rmse:0.0594\n",
      "[35]\ttrain-auc:0.99855\ttrain-rmse:0.059001\n",
      "[36]\ttrain-auc:0.998923\ttrain-rmse:0.056943\n",
      "[37]\ttrain-auc:0.99919\ttrain-rmse:0.056126\n",
      "[38]\ttrain-auc:0.999285\ttrain-rmse:0.055333\n",
      "[39]\ttrain-auc:0.999338\ttrain-rmse:0.054794\n",
      "[40]\ttrain-auc:0.999579\ttrain-rmse:0.052437\n",
      "[41]\ttrain-auc:0.999763\ttrain-rmse:0.049842\n",
      "[42]\ttrain-auc:0.99977\ttrain-rmse:0.049578\n",
      "[43]\ttrain-auc:0.999808\ttrain-rmse:0.048748\n",
      "[44]\ttrain-auc:0.999814\ttrain-rmse:0.048259\n",
      "[45]\ttrain-auc:0.999831\ttrain-rmse:0.047851\n",
      "[46]\ttrain-auc:0.999875\ttrain-rmse:0.046076\n",
      "[47]\ttrain-auc:0.999878\ttrain-rmse:0.045909\n",
      "[48]\ttrain-auc:0.99991\ttrain-rmse:0.045248\n",
      "[49]\ttrain-auc:0.999948\ttrain-rmse:0.043749\n",
      "[50]\ttrain-auc:0.999961\ttrain-rmse:0.042535\n",
      "Working: 16\n",
      "[0]\ttrain-auc:0.5+0\ttest-auc:0.5+0\n",
      "[30]\ttrain-auc:0.999995+5.09902e-06\ttest-auc:0.828102+0.0226527\n",
      "[0]\ttrain-auc:0.5\ttrain-rmse:0.356009\n",
      "[1]\ttrain-auc:0.5\ttrain-rmse:0.259781\n",
      "[2]\ttrain-auc:0.5\ttrain-rmse:0.192554\n",
      "[3]\ttrain-auc:0.504978\ttrain-rmse:0.1451\n",
      "[4]\ttrain-auc:0.714683\ttrain-rmse:0.111503\n",
      "[5]\ttrain-auc:0.721049\ttrain-rmse:0.088225\n",
      "[6]\ttrain-auc:0.736773\ttrain-rmse:0.071938\n",
      "[7]\ttrain-auc:0.737662\ttrain-rmse:0.061119\n",
      "[8]\ttrain-auc:0.844466\ttrain-rmse:0.054169\n",
      "[9]\ttrain-auc:0.886344\ttrain-rmse:0.049515\n",
      "[10]\ttrain-auc:0.927961\ttrain-rmse:0.046573\n",
      "[11]\ttrain-auc:0.968875\ttrain-rmse:0.043976\n",
      "[12]\ttrain-auc:0.975046\ttrain-rmse:0.042832\n",
      "[13]\ttrain-auc:0.972773\ttrain-rmse:0.041977\n",
      "[14]\ttrain-auc:0.973797\ttrain-rmse:0.040874\n",
      "[15]\ttrain-auc:0.985556\ttrain-rmse:0.039682\n",
      "[16]\ttrain-auc:0.990759\ttrain-rmse:0.038541\n",
      "[17]\ttrain-auc:0.993832\ttrain-rmse:0.037529\n",
      "[18]\ttrain-auc:0.996148\ttrain-rmse:0.036504\n",
      "[19]\ttrain-auc:0.996572\ttrain-rmse:0.035565\n",
      "[20]\ttrain-auc:0.997976\ttrain-rmse:0.034332\n",
      "[21]\ttrain-auc:0.998401\ttrain-rmse:0.033684\n",
      "[22]\ttrain-auc:0.998986\ttrain-rmse:0.032711\n",
      "[23]\ttrain-auc:0.999355\ttrain-rmse:0.031992\n",
      "[24]\ttrain-auc:0.999489\ttrain-rmse:0.031529\n",
      "[25]\ttrain-auc:0.999607\ttrain-rmse:0.030916\n",
      "[26]\ttrain-auc:0.999675\ttrain-rmse:0.030009\n",
      "[27]\ttrain-auc:0.999724\ttrain-rmse:0.029128\n",
      "[28]\ttrain-auc:0.999882\ttrain-rmse:0.027347\n"
     ]
    }
   ],
   "source": [
    "# Считаем\n",
    "bstList = getListBST(param,trX,trY)"
   ]
  },
  {
   "cell_type": "code",
   "execution_count": null,
   "metadata": {
    "collapsed": false,
    "deletable": true,
    "editable": true
   },
   "outputs": [],
   "source": []
  },
  {
   "cell_type": "code",
   "execution_count": 30,
   "metadata": {
    "collapsed": true,
    "deletable": true,
    "editable": true
   },
   "outputs": [],
   "source": [
    "# Шаблоны имен файллов для сохранения моделей xgb\n",
    "fModel1 = '../Work/Models/model-'\n",
    "fModel2 = '-jpg-'+str(binsDataJPG)+'--tif-'+str(binsDataTIF)+'.xgb'"
   ]
  },
  {
   "cell_type": "code",
   "execution_count": 31,
   "metadata": {
    "collapsed": true,
    "deletable": true,
    "editable": true
   },
   "outputs": [],
   "source": [
    "# save xgb models into files\n",
    "for i in range(len(bstList)) :\n",
    "    ##bstList[i].save_model(fModel1+str(100+i)+'-JPG2'+fModel2)\n",
    "    bstList[i].save_model(fModel1+str(100+i)+fModel2)"
   ]
  },
  {
   "cell_type": "code",
   "execution_count": null,
   "metadata": {
    "collapsed": true,
    "deletable": true,
    "editable": true
   },
   "outputs": [],
   "source": []
  },
  {
   "cell_type": "code",
   "execution_count": 615,
   "metadata": {
    "collapsed": false,
    "deletable": true,
    "editable": true
   },
   "outputs": [
    {
     "data": {
      "text/plain": [
       "17"
      ]
     },
     "execution_count": 615,
     "metadata": {},
     "output_type": "execute_result"
    }
   ],
   "source": [
    "# load xgb models into files\n",
    "bstNull = xgb.train(param,dtrain,0)\n",
    "bstList0= []\n",
    "for i in range(trY.shape[1]) :\n",
    "    bstList0.append(bstNull.copy())\n",
    "    bstList0[-1].load_model(fModel1+str(100+i)+fModel2)\n",
    "bstList = bstList0\n",
    "del bstList0\n",
    "len(bstList)"
   ]
  },
  {
   "cell_type": "code",
   "execution_count": null,
   "metadata": {
    "collapsed": false,
    "deletable": true,
    "editable": true
   },
   "outputs": [],
   "source": []
  },
  {
   "cell_type": "code",
   "execution_count": 32,
   "metadata": {
    "collapsed": false,
    "deletable": true,
    "editable": true
   },
   "outputs": [
    {
     "name": "stdout",
     "output_type": "stream",
     "text": [
      "(40479, 17) \n",
      " [  7.86607146e-01   9.95328665e-01   3.23474081e-03   2.50717103e-01\n",
      "   8.62778258e-03   5.10010694e-04   8.00886750e-03   2.68766433e-02\n",
      "   1.86917954e-04   7.54709836e-05   1.02391590e-04   1.48758018e-05\n",
      "   3.18312342e-03   3.17367289e-06   1.07351493e-03   1.61894000e-04\n",
      "   7.40291085e-04] \n",
      " [ 1.  1.  0.  0.  0.  0.  0.  0.  0.  0.  0.  0.  0.  0.  0.  0.  0.]\n"
     ]
    }
   ],
   "source": [
    "trYP  = buildPredict(dtrain,bstList)\n",
    "trYPP = trYP.copy() # вероятностный массив\n",
    "trYP  = getProb01(trYP)\n",
    "print (trYP.shape, '\\n', trYPP[0], '\\n', trYP[0])"
   ]
  },
  {
   "cell_type": "code",
   "execution_count": null,
   "metadata": {
    "collapsed": true,
    "deletable": true,
    "editable": true
   },
   "outputs": [],
   "source": []
  },
  {
   "cell_type": "code",
   "execution_count": 35,
   "metadata": {
    "collapsed": false,
    "deletable": true,
    "editable": true
   },
   "outputs": [],
   "source": [
    "#accListOld = accList"
   ]
  },
  {
   "cell_type": "code",
   "execution_count": null,
   "metadata": {
    "collapsed": true,
    "deletable": true,
    "editable": true
   },
   "outputs": [],
   "source": []
  },
  {
   "cell_type": "code",
   "execution_count": 36,
   "metadata": {
    "collapsed": false,
    "deletable": true,
    "editable": true
   },
   "outputs": [
    {
     "name": "stdout",
     "output_type": "stream",
     "text": [
      "#0 accuracy=0.977692136663 precision=0.881053525913 recall=0.769002595476 ros_auc=0.880795829526 fbeta2=0.789073200426 not=903\n",
      "#1 accuracy=0.999975295832 precision=1.0 recall=0.999973342575 ros_auc=0.999986671287 fbeta2=0.999978673946 not=1\n",
      "#2 accuracy=0.938511326861 precision=0.920345653662 recall=0.873487616728 ros_auc=0.920215616346 fbeta2=0.882473584039 not=2489\n",
      "#3 accuracy=0.974282961536 precision=0.975553857907 recall=0.988146741233 ros_auc=0.964856903153 fbeta2=0.985602222815 not=1041\n",
      "#4 accuracy=0.932607030806 precision=0.909998248993 recall=0.701254891378 ros_auc=0.842855581651 fbeta2=0.734973836798 not=2728\n",
      "#5 accuracy=0.976432224116 precision=0.945065789474 recall=0.784972677596 ros_auc=0.89021848796 fbeta2=0.8125 not=954\n",
      "#6 accuracy=0.936534993453 precision=0.886159460977 recall=0.782183124768 ros_auc=0.878579219752 fbeta2=0.800979496549 not=2569\n",
      "#7 accuracy=0.939623014403 precision=0.902255639098 recall=0.509269600179 ros_auc=0.75120443511 fbeta2=0.557866405677 not=2444\n",
      "#8 accuracy=0.997529583241 precision=1.0 recall=0.521531100478 ros_auc=0.760765550239 fbeta2=0.57671957672 not=100\n",
      "#9 accuracy=1.0 precision=1.0 recall=1.0 ros_auc=1.0 fbeta2=1.0 not=0\n",
      "#10 accuracy=1.0 precision=1.0 recall=1.0 ros_auc=1.0 fbeta2=1.0 not=0\n",
      "#11 accuracy=1.0 precision=1.0 recall=1.0 ros_auc=1.0 fbeta2=1.0 not=0\n",
      "#12 accuracy=0.987153832852 precision=0.977653631285 recall=0.406032482599 ros_auc=0.702915274543 fbeta2=0.459800315292 not=520\n",
      "#13 accuracy=1.0 precision=1.0 recall=1.0 ros_auc=1.0 fbeta2=1.0 not=0\n",
      "#14 accuracy=0.994070999778 precision=0.979166666667 recall=0.28313253012 ros_auc=0.641541356599 fbeta2=0.330056179775 not=240\n",
      "#15 accuracy=0.997702512414 precision=1.0 recall=0.726470588235 ros_auc=0.863235294118 fbeta2=0.768512756689 not=93\n",
      "#16 accuracy=0.998913016626 precision=1.0 recall=0.551020408163 ros_auc=0.775510204082 fbeta2=0.605381165919 not=44\n"
     ]
    }
   ],
   "source": [
    "# Оценка точности предсказания по train массиву по разным методикам\n",
    "accList = []\n",
    "for i in range(trYP.shape[1]) :\n",
    "    print ('#{} accuracy={} precision={} recall={} ros_auc={} fbeta2={} not={}'.format(i, \n",
    "                                           skm.accuracy_score(trY[:,i],trYP[:,i]), \n",
    "                                           skm.precision_score(trY[:,i],trYP[:,i]), \n",
    "                                           skm.recall_score(trY[:,i],trYP[:,i]), \n",
    "                                           skm.roc_auc_score(trY[:,i],trYP[:,i]), \n",
    "                                           skm.fbeta_score(trY[:,i],trYP[:,i],beta=2),\n",
    "                                           len(trYP[trYP[:,i]<>trY[:,i],i])))\n",
    "    accList.append((i, skm.roc_auc_score(trY[:,i],trYP[:,i]), skm.confusion_matrix(trY[:,i],trYP[:,i])))\n",
    "    #fpr,tpr,thr = skm.roc_curve(trY[:,i],trYP[:,i]); print (len(thr),len(fpr),len(trYP[:,i]))\n",
    "    #plt.plot(fpr,tpr); plt.show()"
   ]
  },
  {
   "cell_type": "code",
   "execution_count": 37,
   "metadata": {
    "collapsed": false,
    "deletable": true,
    "editable": true
   },
   "outputs": [
    {
     "ename": "NameError",
     "evalue": "name 'accListOld' is not defined",
     "output_type": "error",
     "traceback": [
      "\u001b[0;31m---------------------------------------------------------------------------\u001b[0m",
      "\u001b[0;31mNameError\u001b[0m                                 Traceback (most recent call last)",
      "\u001b[0;32m<ipython-input-37-9d0f361eaf65>\u001b[0m in \u001b[0;36m<module>\u001b[0;34m()\u001b[0m\n\u001b[1;32m      2\u001b[0m \u001b[0;31m#if accListOld is not None :\u001b[0m\u001b[0;34m\u001b[0m\u001b[0;34m\u001b[0m\u001b[0m\n\u001b[1;32m      3\u001b[0m [(i,cm[0,1]+cm[1,0],(accList[i][2][1,0]+accListOld[i][2][0,1]),\n\u001b[0;32m----> 4\u001b[0;31m   cm[0,1]+cm[1,0]-(accList[i][2][1,0]+accListOld[i][2][0,1])) for i,roc,cm in accList]\n\u001b[0m",
      "\u001b[0;31mNameError\u001b[0m: name 'accListOld' is not defined"
     ]
    }
   ],
   "source": [
    "# сравнение текущего и предыдущего результата если есть\n",
    "#if accListOld is not None :\n",
    "[(i,cm[0,1]+cm[1,0],(accList[i][2][1,0]+accListOld[i][2][0,1]),\n",
    "  cm[0,1]+cm[1,0]-(accList[i][2][1,0]+accListOld[i][2][0,1])) for i,roc,cm in accList]"
   ]
  },
  {
   "cell_type": "code",
   "execution_count": 38,
   "metadata": {
    "collapsed": false,
    "deletable": true,
    "editable": true
   },
   "outputs": [
    {
     "name": "stdout",
     "output_type": "stream",
     "text": [
      "['haze', 'primary', 'agriculture', 'clear', 'water', 'habitation', 'road', 'cultivation', 'slash_burn', 'cloudy', 'partly_cloudy', 'conventional_mine', 'bare_ground', 'artisinal_mine', 'blooming', 'selective_logging', 'blow_down']\n"
     ]
    },
    {
     "data": {
      "text/plain": [
       "((549, 17), [3, 10, 0, 9], 0.9877027927994666, 0.9778255179396005)"
      ]
     },
     "execution_count": 38,
     "metadata": {},
     "output_type": "execute_result"
    }
   ],
   "source": [
    "wr = [labels.index(i) for i in weather_labels]; wr\n",
    "print(labels)\n",
    "trYPP[trYPP[:,wr].argmax(axis=1)<>trY[:,wr].argmax(axis=1)].shape, wr, (40497.0-498)/40497.0, (40497.0-898)/40497.0"
   ]
  },
  {
   "cell_type": "code",
   "execution_count": null,
   "metadata": {
    "collapsed": false,
    "deletable": true,
    "editable": true
   },
   "outputs": [],
   "source": []
  },
  {
   "cell_type": "code",
   "execution_count": 39,
   "metadata": {
    "collapsed": false,
    "deletable": true,
    "editable": true
   },
   "outputs": [],
   "source": [
    "# Построение значимости полей для разных признаков (importance)\n",
    "bstga   = np.zeros((trX.shape[1],trY.shape[1]))\n",
    "for i in range(len(bstList)) :\n",
    "    bstgfs = bstList[i].get_fscore()\n",
    "    bstgfs = [(int(n.split('f')[1]),bstgfs[n]) for n in bstgfs.keys()]\n",
    "    bstga1 = np.array(bstgfs)\n",
    "    bstga[bstga1[:,0],i] = bstga1[:,1]\n",
    "\n",
    "\n",
    "if False :\n",
    "    #bstgfs.sort(key=lambda x: -x[1])\n",
    "    #bstgfs[:20]\n",
    "    plt.hist([nn for n,nn in bstgfs],bins=11); plt.show()\n",
    "    bst_gfs_main = [(n,nn) for n,nn in bstgfs if nn>=20]\n",
    "    bst_gfs_main.sort(key=lambda x: x[0])\n",
    "    bst_gfs_main\n",
    "    bstga[:,6]"
   ]
  },
  {
   "cell_type": "code",
   "execution_count": 40,
   "metadata": {
    "collapsed": false,
    "deletable": true,
    "editable": true
   },
   "outputs": [
    {
     "data": {
      "image/png": "[encoded data removed]",
      "text/plain": [
       "<matplotlib.figure.Figure at 0x7f4edbbbad50>"
      ]
     },
     "metadata": {},
     "output_type": "display_data"
    },
    {
     "data": {
      "text/plain": [
       "['haze',\n",
       " 'agriculture',\n",
       " 'clear',\n",
       " 'water',\n",
       " 'habitation',\n",
       " 'road',\n",
       " 'cultivation',\n",
       " 'bare_ground']"
      ]
     },
     "execution_count": 40,
     "metadata": {},
     "output_type": "execute_result"
    }
   ],
   "source": [
    "xx = [0]+range(2,8)+[12] # плохие 600-4000\n",
    "plt.plot(bstga[:,xx]); \n",
    "#plt.legenda([labels[x] for x in xx])\n",
    "plt.show();\n",
    "[labels[x] for x in xx]\n"
   ]
  },
  {
   "cell_type": "code",
   "execution_count": 41,
   "metadata": {
    "collapsed": false,
    "deletable": true,
    "editable": true
   },
   "outputs": [
    {
     "data": {
      "image/png": "[encoded data removed]",
      "text/plain": [
       "<matplotlib.figure.Figure at 0x7f4edbb66f10>"
      ]
     },
     "metadata": {},
     "output_type": "display_data"
    },
    {
     "data": {
      "text/plain": [
       "['slash_burn', 'partly_cloudy', 'blooming', 'selective_logging']"
      ]
     },
     "execution_count": 41,
     "metadata": {},
     "output_type": "execute_result"
    }
   ],
   "source": [
    "xx = [8,10,14,15] # среднии 100-400\n",
    "plt.plot(bstga[:,xx]); \n",
    "#plt.legenda([labels[x] for x in xx])\n",
    "plt.show();\n",
    "[labels[x] for x in xx]\n"
   ]
  },
  {
   "cell_type": "code",
   "execution_count": 55,
   "metadata": {
    "collapsed": false,
    "deletable": true,
    "editable": true
   },
   "outputs": [
    {
     "data": {
      "image/png": "[encoded data removed]",
      "text/plain": [
       "<matplotlib.figure.Figure at 0x7f4ed6a9d310>"
      ]
     },
     "metadata": {},
     "output_type": "display_data"
    },
    {
     "data": {
      "text/plain": [
       "['primary',\n",
       " 'cloudy',\n",
       " 'partly_cloudy',\n",
       " 'conventional_mine',\n",
       " 'artisinal_mine',\n",
       " 'selective_logging',\n",
       " 'blow_down']"
      ]
     },
     "execution_count": 55,
     "metadata": {},
     "output_type": "execute_result"
    }
   ],
   "source": [
    "xx = [1,9,10,11,13,15,16] # отличные 0-100\n",
    "plt.plot(bstga[:,xx]); plt.show();\n",
    "[labels[x] for x in xx]"
   ]
  },
  {
   "cell_type": "code",
   "execution_count": null,
   "metadata": {
    "collapsed": true,
    "deletable": true,
    "editable": true
   },
   "outputs": [],
   "source": []
  },
  {
   "cell_type": "code",
   "execution_count": 56,
   "metadata": {
    "collapsed": false,
    "deletable": true,
    "editable": true
   },
   "outputs": [
    {
     "data": {
      "text/plain": [
       "(array([ 0.39,  0.42,  0.46,  0.54,  0.4 ,  0.35,  0.44,  0.35,  0.19,\n",
       "         0.25,  0.08,  0.08,  0.24,  0.1 ,  0.19,  0.22,  0.14]),\n",
       " [(39.0, 0.97872971170236422, 0.97769213666345511, 861, 903),\n",
       "  (42.0, 0.99997529583240696, 0.99997529583240696, 1, 1),\n",
       "  (46.0, 0.94021591442476349, 0.93851132686084138, 2420, 2489),\n",
       "  (54.0, 0.97490056572543793, 0.974282961535611, 1016, 1041),\n",
       "  (40.0, 0.93611502260431334, 0.93260703080609697, 2586, 2728),\n",
       "  (35.0, 0.98085427011536841, 0.97643222411620845, 775, 954),\n",
       "  (44.0, 0.9399194644136466, 0.93653499345339564, 2432, 2569),\n",
       "  (35.0, 0.9494058647693866, 0.93962301440252971, 2048, 2444),\n",
       "  (19.0, 0.99945650831295241, 0.99752958324069274, 22, 100),\n",
       "  (25.0, 1.0, 1.0, 0, 0),\n",
       "  (8.0, 1.0, 1.0, 0, 0),\n",
       "  (8.0, 1.0, 1.0, 0, 0),\n",
       "  (24.0, 0.99041478297388774, 0.98715383285160208, 388, 520),\n",
       "  (10.0, 1.0, 1.0, 0, 0),\n",
       "  (19.0, 0.99622026235825989, 0.99407099977766245, 153, 240),\n",
       "  (22.0, 0.999332987474987, 0.99770251241384422, 27, 93),\n",
       "  (14.0, 0.99965414165369693, 0.99891301662590481, 14, 44)])"
      ]
     },
     "execution_count": 56,
     "metadata": {},
     "output_type": "execute_result"
    }
   ],
   "source": [
    "# Посчитать уровень прохождения для каждого признака\n",
    "ixx, iacc = getTh(trY,trYPP)\n",
    "np.array(ixx), iacc"
   ]
  },
  {
   "cell_type": "code",
   "execution_count": null,
   "metadata": {
    "collapsed": false,
    "deletable": true,
    "editable": true
   },
   "outputs": [],
   "source": []
  },
  {
   "cell_type": "code",
   "execution_count": null,
   "metadata": {
    "collapsed": true,
    "deletable": true,
    "editable": true
   },
   "outputs": [],
   "source": []
  },
  {
   "cell_type": "code",
   "execution_count": 57,
   "metadata": {
    "collapsed": false,
    "deletable": true,
    "editable": true
   },
   "outputs": [],
   "source": [
    "# Forming output dataset for predicting --> trOX, trOY\n",
    "#del(trX)\n",
    "#del(trY)"
   ]
  },
  {
   "cell_type": "code",
   "execution_count": null,
   "metadata": {
    "collapsed": false,
    "deletable": true,
    "editable": true
   },
   "outputs": [],
   "source": []
  },
  {
   "cell_type": "code",
   "execution_count": 58,
   "metadata": {
    "collapsed": true,
    "deletable": true,
    "editable": true
   },
   "outputs": [],
   "source": [
    "# Данные для объединения от jpg\n",
    "##trOX_JPG1 = np.load('../Work/test-data-XX'+str(binsDataJPG)+'.jpg'+'.npy')\n",
    "##trOX_JPG2 = np.load('../Work/test-data-XX'+str(binsDataJPG2)+'.jpg'+'.npy')\n",
    "trOX_JPG  = np.load('../Work/test-data-XX'+str(binsDataJPG)+'.jpg'+'.npy')\n",
    "trOX_TIF  = np.load('../Work/test-data-XX'+str(binsDataTIF)+'.tif'+'.npy')\n",
    "trOY_TIF  = np.load('../Work/test-data-YY'+str(binsDataTIF)+'.tif'+'.npy')\n",
    "#trOY_JPG1 = np.load('../Work/test-data-YY'+str(binsDataJPG)+'.jpg'+'.npy')\n",
    "#trOY_JPG2 = np.load('../Work/test-data-YY'+str(binsDataJPG2)+'.jpg'+'.npy')\n",
    "trOY_JPG = np.load('../Work/test-data-YY'+str(binsDataJPG)+'.jpg'+'.npy')"
   ]
  },
  {
   "cell_type": "code",
   "execution_count": 59,
   "metadata": {
    "collapsed": false,
    "deletable": true,
    "editable": true
   },
   "outputs": [
    {
     "data": {
      "text/plain": [
       "((61191, 578), (61191, 255), 1025)"
      ]
     },
     "execution_count": 59,
     "metadata": {},
     "output_type": "execute_result"
    }
   ],
   "source": [
    "#trOX_TIF.shape, trOX_JPG.shape, trOX_JPG2.shape , 578+255+192\n",
    "trOX_TIF.shape, trOX_JPG.shape , 578+255+192"
   ]
  },
  {
   "cell_type": "code",
   "execution_count": 60,
   "metadata": {
    "collapsed": false,
    "deletable": true,
    "editable": true
   },
   "outputs": [],
   "source": [
    "# Обрезка видимой части и использование только n, nvi, dwi\n",
    "##trOX_TIF = trOX_TIF[:,288:]\n",
    "##trOX_TIF.shape"
   ]
  },
  {
   "cell_type": "code",
   "execution_count": 61,
   "metadata": {
    "collapsed": false,
    "deletable": true,
    "editable": true
   },
   "outputs": [
    {
     "data": {
      "text/plain": [
       "(61191, 833)"
      ]
     },
     "execution_count": 61,
     "metadata": {},
     "output_type": "execute_result"
    }
   ],
   "source": [
    "# Аккуратно объединяем через индексы = имена файлов\n",
    "dfOX_TIF  = pd.DataFrame(trOX_TIF,index=trOY_TIF)\n",
    "##dfOX_JPG1 = pd.DataFrame(trOX_JPG,index=trOY_JPG1)\n",
    "##dfOX_JPG2 = pd.DataFrame(trOX_JPG2,index=trOY_JPG2)\n",
    "##dfOX_JPG  = dfOX_JPG1.join(dfOX_JPG2,lsuffix='_l',rsuffix='_r')\n",
    "\n",
    "dfOX_JPG = pd.DataFrame(trOX_JPG,index=trOY_JPG)\n",
    "dfOX     = dfOX_JPG.join(dfOX_TIF,lsuffix='_l',rsuffix='_r')\n",
    "\n",
    "dfOX.shape #, dfOX.columns,dfOX.head()"
   ]
  },
  {
   "cell_type": "code",
   "execution_count": 62,
   "metadata": {
    "collapsed": false,
    "deletable": true,
    "editable": true
   },
   "outputs": [
    {
     "data": {
      "text/plain": [
       "((61191, 833),\n",
       " (61191,),\n",
       " array(['test_10002', 'test_10003', 'test_10004', 'test_10005',\n",
       "        'test_10006', 'test_10007', 'test_10008', 'test_10009', 'test_1001',\n",
       "        'test_10010'], dtype=object))"
      ]
     },
     "execution_count": 62,
     "metadata": {},
     "output_type": "execute_result"
    }
   ],
   "source": [
    "trOX = dfOX.values\n",
    "trOY = dfOX.index.values\n",
    "trOX.shape,trOY.shape,trOY[0:10]"
   ]
  },
  {
   "cell_type": "code",
   "execution_count": 63,
   "metadata": {
    "collapsed": false,
    "deletable": true,
    "editable": true
   },
   "outputs": [],
   "source": [
    "# Формирование результата\n",
    "dtest  = xgb.DMatrix(trOX)"
   ]
  },
  {
   "cell_type": "code",
   "execution_count": 64,
   "metadata": {
    "collapsed": false,
    "deletable": true,
    "editable": true
   },
   "outputs": [
    {
     "data": {
      "text/plain": [
       "(numpy.ndarray, (61191, 17))"
      ]
     },
     "execution_count": 64,
     "metadata": {},
     "output_type": "execute_result"
    }
   ],
   "source": [
    "trP = []\n",
    "for bstI in bstList :\n",
    "    trP1 = bstI.predict(dtest);\n",
    "    trP.append(trP1)\n",
    "trP = np.array(trP).T\n",
    "type(trP),trP.shape    "
   ]
  },
  {
   "cell_type": "code",
   "execution_count": 65,
   "metadata": {
    "collapsed": true,
    "deletable": true,
    "editable": true
   },
   "outputs": [],
   "source": [
    "#np.save('../Work/test-data-RR'+str(binsData)+ttExt+'.npy',trP)"
   ]
  },
  {
   "cell_type": "code",
   "execution_count": 66,
   "metadata": {
    "collapsed": false,
    "deletable": true,
    "editable": true
   },
   "outputs": [],
   "source": [
    "#trP = np.load('../Work/test-data-RR'+str(binsData)+ttExt+'.npy')\n",
    "#trP.shape"
   ]
  },
  {
   "cell_type": "code",
   "execution_count": 67,
   "metadata": {
    "collapsed": false,
    "deletable": true,
    "editable": true
   },
   "outputs": [
    {
     "name": "stdout",
     "output_type": "stream",
     "text": [
      "[3, 10, 0, 9] \n",
      " ['haze', 'primary', 'agriculture', 'clear', 'water', 'habitation', 'road', 'cultivation', 'slash_burn', 'cloudy', 'partly_cloudy', 'conventional_mine', 'bare_ground', 'artisinal_mine', 'blooming', 'selective_logging', 'blow_down'] \n",
      " [2.0, 0.42, 0.46, 2.0, 0.4, 0.35, 0.44, 0.35, 0.19, 2.0, 2.0, 0.08, 0.24, 0.1, 0.19, 0.22, 0.14]\n"
     ]
    }
   ],
   "source": [
    "wr = [labels.index(i) for i in weather_labels];\n",
    "trM=np.array(ixx) #np.array([0.5]*17);\n",
    "#### Коэффициенты работают +0.01 к счету trM=np.array([0.5]*17);\n",
    "trM[np.array(wr)] = 2.0\n",
    "print(wr,'\\n',labels,'\\n',trM.tolist())"
   ]
  },
  {
   "cell_type": "code",
   "execution_count": null,
   "metadata": {
    "collapsed": true,
    "deletable": true,
    "editable": true
   },
   "outputs": [],
   "source": []
  },
  {
   "cell_type": "code",
   "execution_count": 68,
   "metadata": {
    "collapsed": false,
    "deletable": true,
    "editable": true
   },
   "outputs": [
    {
     "name": "stdout",
     "output_type": "stream",
     "text": [
      "['test_0', 'clear primary'] \n",
      " ['file_20521', 'clear primary'] \n",
      " [ 2.    0.42  0.46  2.    0.4   0.35  0.44  0.35  0.19  2.    2.    0.08\n",
      "  0.24  0.1   0.19  0.22  0.14] [  4.30692956e-02   3.47555101e-01   6.04333766e-02   2.93665826e-01\n",
      "   1.17301032e-01   2.01818300e-03   3.60038574e-03   1.09107210e-03\n",
      "   2.75305702e-05   8.66805375e-01   3.23356013e-04   2.19742469e-05\n",
      "   2.54213880e-03   2.35209177e-06   1.78975912e-04   2.23689625e-04\n",
      "   1.82826421e-04]\n"
     ]
    }
   ],
   "source": [
    "#trP = model.predict(trX, batch_size=512); trP=K.get_value(trP)\n",
    "res = []\n",
    "\n",
    "for i in range(trP.shape[0]) :\n",
    "    trA1 = [weather_labels[trP[i,wr].argmax()]]\n",
    "    trA2 = [labels[ii] for ii in range(len(labels)) if (trP[i,ii]>trM[ii])]\n",
    "    trPP = trA1 + trA2;\n",
    "    pp   = ' '.join(trPP)\n",
    "    ##if (pp==\"\") : print(trY[i])\n",
    "    res.append([trOY[i],pp])\n",
    "\n",
    "res.sort(cmp=lambda x,y: cmp(int(x[0].partition('_')[2]),int(y[0].partition('_')[2])) if (x[0].partition('_')[0]==y[0].partition('_')[0]) else cmp(y[0].partition('_')[0],x[0].partition('_')[0]))\n",
    "#print(res[4:8],'\\n',res[-4:])\n",
    "print(res[0],'\\n',res[-1],'\\n',trM,trP[0])"
   ]
  },
  {
   "cell_type": "code",
   "execution_count": null,
   "metadata": {
    "collapsed": true,
    "deletable": true,
    "editable": true
   },
   "outputs": [],
   "source": []
  },
  {
   "cell_type": "code",
   "execution_count": 69,
   "metadata": {
    "collapsed": false,
    "deletable": true,
    "editable": true
   },
   "outputs": [
    {
     "name": "stdout",
     "output_type": "stream",
     "text": [
      "['haze', 'primary', 'agriculture', 'clear', 'water', 'habitation', 'road', 'cultivation', 'slash_burn', 'cloudy', 'partly_cloudy', 'conventional_mine', 'bare_ground', 'artisinal_mine', 'blooming', 'selective_logging', 'blow_down']\n",
      "[2.0, 0.42, 0.46, 2.0, 0.4, 0.35, 0.44, 0.35, 0.19, 2.0, 2.0, 0.08, 0.24, 0.1, 0.19, 0.22, 0.14]\n"
     ]
    }
   ],
   "source": [
    "print(labels)\n",
    "print(trM.tolist())\n",
    "#np.round(trP[4:11,:])"
   ]
  },
  {
   "cell_type": "code",
   "execution_count": 70,
   "metadata": {
    "collapsed": false,
    "deletable": true,
    "editable": true
   },
   "outputs": [
    {
     "name": "stdout",
     "output_type": "stream",
     "text": [
      "2017-07-03-19-48-53\n"
     ]
    }
   ],
   "source": [
    "rrr=pd.DataFrame(res,columns=['image_name','tags']); rrr.head(); \n",
    "suffixDT = (datetime.datetime.now()).strftime('%Y-%m-%d-%H-%M-%S'); print(suffixDT)\n",
    "rrr.to_csv('../Result/vss'+suffixDT+'.csv',index=False);"
   ]
  },
  {
   "cell_type": "code",
   "execution_count": null,
   "metadata": {
    "collapsed": true,
    "deletable": true,
    "editable": true
   },
   "outputs": [],
   "source": []
  },
  {
   "cell_type": "code",
   "execution_count": null,
   "metadata": {
    "collapsed": false,
    "deletable": true,
    "editable": true
   },
   "outputs": [],
   "source": []
  },
  {
   "cell_type": "code",
   "execution_count": null,
   "metadata": {
    "collapsed": true,
    "deletable": true,
    "editable": true
   },
   "outputs": [],
   "source": []
  }
 ],
 "metadata": {
  "kernelspec": {
   "display_name": "Python 2",
   "language": "python",
   "name": "python2"
  },
  "language_info": {
   "codemirror_mode": {
    "name": "ipython",
    "version": 2
   },
   "file_extension": ".py",
   "mimetype": "text/x-python",
   "name": "python",
   "nbconvert_exporter": "python",
   "pygments_lexer": "ipython2",
   "version": "2.7.13"
  }
 },
 "nbformat": 4,
 "nbformat_minor": 2
}
