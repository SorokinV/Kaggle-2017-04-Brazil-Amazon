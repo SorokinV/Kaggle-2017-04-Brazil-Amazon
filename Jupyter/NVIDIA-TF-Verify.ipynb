{
 "cells": [
  {
   "cell_type": "code",
   "execution_count": 1,
   "metadata": {
    "collapsed": false,
    "deletable": true,
    "editable": true,
    "scrolled": true
   },
   "outputs": [
    {
     "name": "stdout",
     "output_type": "stream",
     "text": [
      "On branch IsCorrect\r\n",
      "Untracked files:\r\n",
      "  (use \"git add <file>...\" to include in what will be committed)\r\n",
      "\r\n",
      "\t\u001b[31mNVIDIA-TF-Verify.ipynb\u001b[m\r\n",
      "\r\n",
      "nothing added to commit but untracked files present (use \"git add\" to track)\r\n"
     ]
    }
   ],
   "source": [
    "!git status"
   ]
  },
  {
   "cell_type": "code",
   "execution_count": 2,
   "metadata": {
    "collapsed": true,
    "deletable": true,
    "editable": true
   },
   "outputs": [],
   "source": [
    "#CUDA verify http://docs.nvidia.com/cuda/cuda-installation-guide-linux/#axzz4VZnqTJ2A"
   ]
  },
  {
   "cell_type": "code",
   "execution_count": 3,
   "metadata": {
    "collapsed": false,
    "deletable": true,
    "editable": true
   },
   "outputs": [
    {
     "name": "stdout",
     "output_type": "stream",
     "text": [
      "01:00.0 VGA compatible controller: NVIDIA Corporation GM204M [GeForce GTX 970M] (rev a1)\r\n"
     ]
    }
   ],
   "source": [
    "!lspci | grep -i nvidia"
   ]
  },
  {
   "cell_type": "code",
   "execution_count": 4,
   "metadata": {
    "collapsed": false,
    "deletable": true,
    "editable": true
   },
   "outputs": [
    {
     "name": "stdout",
     "output_type": "stream",
     "text": [
      "x86_64\r\n",
      "DISTRIB_ID=Ubuntu\r\n",
      "DISTRIB_RELEASE=16.04\r\n",
      "DISTRIB_CODENAME=xenial\r\n",
      "DISTRIB_DESCRIPTION=\"Ubuntu 16.04.2 LTS\"\r\n",
      "NAME=\"Ubuntu\"\r\n",
      "VERSION=\"16.04.2 LTS (Xenial Xerus)\"\r\n",
      "ID=ubuntu\r\n",
      "ID_LIKE=debian\r\n",
      "PRETTY_NAME=\"Ubuntu 16.04.2 LTS\"\r\n",
      "VERSION_ID=\"16.04\"\r\n",
      "HOME_URL=\"http://www.ubuntu.com/\"\r\n",
      "SUPPORT_URL=\"http://help.ubuntu.com/\"\r\n",
      "BUG_REPORT_URL=\"http://bugs.launchpad.net/ubuntu/\"\r\n",
      "VERSION_CODENAME=xenial\r\n",
      "UBUNTU_CODENAME=xenial\r\n"
     ]
    }
   ],
   "source": [
    "!uname -m && cat /etc/*release"
   ]
  },
  {
   "cell_type": "code",
   "execution_count": 5,
   "metadata": {
    "collapsed": false,
    "deletable": true,
    "editable": true
   },
   "outputs": [
    {
     "name": "stdout",
     "output_type": "stream",
     "text": [
      "gcc (Ubuntu 5.4.0-6ubuntu1~16.04.4) 5.4.0 20160609\r\n",
      "Copyright (C) 2015 Free Software Foundation, Inc.\r\n",
      "This is free software; see the source for copying conditions.  There is NO\r\n",
      "warranty; not even for MERCHANTABILITY or FITNESS FOR A PARTICULAR PURPOSE.\r\n",
      "\r\n"
     ]
    }
   ],
   "source": [
    "!gcc --version"
   ]
  },
  {
   "cell_type": "code",
   "execution_count": 7,
   "metadata": {
    "collapsed": false
   },
   "outputs": [
    {
     "name": "stdout",
     "output_type": "stream",
     "text": [
      "4.10.0-27-generic\r\n"
     ]
    }
   ],
   "source": [
    "!uname -r"
   ]
  },
  {
   "cell_type": "markdown",
   "metadata": {},
   "source": [
    "#!sudo apt-get install linux-headers-$(uname -r)"
   ]
  },
  {
   "cell_type": "code",
   "execution_count": 10,
   "metadata": {
    "collapsed": false
   },
   "outputs": [],
   "source": [
    "#!sudo apt-get install cuda # installed latest 8.0.61-1"
   ]
  },
  {
   "cell_type": "code",
   "execution_count": 14,
   "metadata": {
    "collapsed": false
   },
   "outputs": [
    {
     "name": "stdout",
     "output_type": "stream",
     "text": [
      "/bin/sh: 1: LD_LIBRARY_PATH: not found\r\n"
     ]
    }
   ],
   "source": [
    "!$(LD_LIBRARY_PATH)"
   ]
  },
  {
   "cell_type": "code",
   "execution_count": 16,
   "metadata": {
    "collapsed": true
   },
   "outputs": [],
   "source": [
    "## Verify installation NVIDIA 6.2.2"
   ]
  },
  {
   "cell_type": "code",
   "execution_count": 17,
   "metadata": {
    "collapsed": false
   },
   "outputs": [
    {
     "name": "stdout",
     "output_type": "stream",
     "text": [
      "NVRM version: NVIDIA UNIX x86_64 Kernel Module  375.66  Mon May  1 15:29:16 PDT 2017\r\n",
      "GCC version:  gcc version 5.4.0 20160609 (Ubuntu 5.4.0-6ubuntu1~16.04.4) \r\n"
     ]
    }
   ],
   "source": [
    "!cat /proc/driver/nvidia/version"
   ]
  },
  {
   "cell_type": "code",
   "execution_count": 18,
   "metadata": {
    "collapsed": false
   },
   "outputs": [
    {
     "name": "stdout",
     "output_type": "stream",
     "text": [
      "nvcc: NVIDIA (R) Cuda compiler driver\r\n",
      "Copyright (c) 2005-2016 NVIDIA Corporation\r\n",
      "Built on Tue_Jan_10_13:22:03_CST_2017\r\n",
      "Cuda compilation tools, release 8.0, V8.0.61\r\n"
     ]
    }
   ],
   "source": [
    "!nvcc -V"
   ]
  },
  {
   "cell_type": "code",
   "execution_count": 20,
   "metadata": {
    "collapsed": false
   },
   "outputs": [
    {
     "name": "stdout",
     "output_type": "stream",
     "text": [
      "/usr/local/cuda-8.0/samples/bin/x86_64/linux/release/deviceQuery Starting...\r\n",
      "\r\n",
      " CUDA Device Query (Runtime API) version (CUDART static linking)\r\n",
      "\r\n",
      "Detected 1 CUDA Capable device(s)\r\n",
      "\r\n",
      "Device 0: \"GeForce GTX 970M\"\r\n",
      "  CUDA Driver Version / Runtime Version          8.0 / 8.0\r\n",
      "  CUDA Capability Major/Minor version number:    5.2\r\n",
      "  Total amount of global memory:                 6078 MBytes (6373638144 bytes)\r\n",
      "  (10) Multiprocessors, (128) CUDA Cores/MP:     1280 CUDA Cores\r\n",
      "  GPU Max Clock rate:                            1038 MHz (1.04 GHz)\r\n",
      "  Memory Clock rate:                             2505 Mhz\r\n",
      "  Memory Bus Width:                              192-bit\r\n",
      "  L2 Cache Size:                                 1572864 bytes\r\n",
      "  Maximum Texture Dimension Size (x,y,z)         1D=(65536), 2D=(65536, 65536), 3D=(4096, 4096, 4096)\r\n",
      "  Maximum Layered 1D Texture Size, (num) layers  1D=(16384), 2048 layers\r\n",
      "  Maximum Layered 2D Texture Size, (num) layers  2D=(16384, 16384), 2048 layers\r\n",
      "  Total amount of constant memory:               65536 bytes\r\n",
      "  Total amount of shared memory per block:       49152 bytes\r\n",
      "  Total number of registers available per block: 65536\r\n",
      "  Warp size:                                     32\r\n",
      "  Maximum number of threads per multiprocessor:  2048\r\n",
      "  Maximum number of threads per block:           1024\r\n",
      "  Max dimension size of a thread block (x,y,z): (1024, 1024, 64)\r\n",
      "  Max dimension size of a grid size    (x,y,z): (2147483647, 65535, 65535)\r\n",
      "  Maximum memory pitch:                          2147483647 bytes\r\n",
      "  Texture alignment:                             512 bytes\r\n",
      "  Concurrent copy and kernel execution:          Yes with 2 copy engine(s)\r\n",
      "  Run time limit on kernels:                     Yes\r\n",
      "  Integrated GPU sharing Host Memory:            No\r\n",
      "  Support host page-locked memory mapping:       Yes\r\n",
      "  Alignment requirement for Surfaces:            Yes\r\n",
      "  Device has ECC support:                        Disabled\r\n",
      "  Device supports Unified Addressing (UVA):      Yes\r\n",
      "  Device PCI Domain ID / Bus ID / location ID:   0 / 1 / 0\r\n",
      "  Compute Mode:\r\n",
      "     < Default (multiple host threads can use ::cudaSetDevice() with device simultaneously) >\r\n",
      "\r\n",
      "deviceQuery, CUDA Driver = CUDART, CUDA Driver Version = 8.0, CUDA Runtime Version = 8.0, NumDevs = 1, Device0 = GeForce GTX 970M\r\n",
      "Result = PASS\r\n"
     ]
    }
   ],
   "source": [
    "!/usr/local/cuda-8.0/samples/bin/x86_64/linux/release/deviceQuery"
   ]
  },
  {
   "cell_type": "code",
   "execution_count": 21,
   "metadata": {
    "collapsed": false
   },
   "outputs": [
    {
     "name": "stdout",
     "output_type": "stream",
     "text": [
      "[CUDA Bandwidth Test] - Starting...\n",
      "Running on...\n",
      "\n",
      " Device 0: GeForce GTX 970M\n",
      " Quick Mode\n",
      "\n",
      " Host to Device Bandwidth, 1 Device(s)\n",
      " PINNED Memory Transfers\n",
      "   Transfer Size (Bytes)\tBandwidth(MB/s)\n",
      "   33554432\t\t\t12807.8\n",
      "\n",
      " Device to Host Bandwidth, 1 Device(s)\n",
      " PINNED Memory Transfers\n",
      "   Transfer Size (Bytes)\tBandwidth(MB/s)\n",
      "   33554432\t\t\t12393.5\n",
      "\n",
      " Device to Device Bandwidth, 1 Device(s)\n",
      " PINNED Memory Transfers\n",
      "   Transfer Size (Bytes)\tBandwidth(MB/s)\n",
      "   33554432\t\t\t63620.7\n",
      "\n",
      "Result = PASS\n",
      "\n",
      "NOTE: The CUDA Samples are not meant for performance measurements. Results may vary when GPU Boost is enabled.\n"
     ]
    }
   ],
   "source": [
    " !/usr/local/cuda-8.0/samples/bin/x86_64/linux/release/bandwidthTest"
   ]
  },
  {
   "cell_type": "code",
   "execution_count": 30,
   "metadata": {
    "collapsed": false
   },
   "outputs": [
    {
     "name": "stdout",
     "output_type": "stream",
     "text": [
      "bandwidthTest  nbody\t\t oceanFFT_data_files   vectorAdd\r\n",
      "busGrind       nbody_data_files  randomFog\r\n",
      "deviceQuery    oceanFFT\t\t randomFog_data_files\r\n"
     ]
    }
   ],
   "source": [
    "!ls /usr/local/cuda-8.0/extras/demo_suite"
   ]
  },
  {
   "cell_type": "code",
   "execution_count": 28,
   "metadata": {
    "collapsed": false
   },
   "outputs": [
    {
     "name": "stdout",
     "output_type": "stream",
     "text": [
      "Device: 0, GeForce GTX 970M, pciBusID: 1, pciDeviceID: 0, pciDomainID:0\n",
      "P2P Cliques: \n",
      "Clique: 0 [0]\n",
      "*************************************************************************\n",
      "*************************************************************************\n",
      "Test Description: Bus bandwidth between the host and a single device\n",
      "*************************************************************************\n",
      "Host/Device Bandwidth Matrix (GB/s), memory=Pinned\n",
      "   Dir\\D       0\n",
      "   D2H     12.41\n",
      "   H2D     12.65\n",
      "   BiDir   19.42\n",
      "*************************************************************************\n",
      "*************************************************************************\n",
      "\n",
      "\n",
      "*************************************************************************\n",
      "*************************************************************************\n",
      "Test Description: Bus bandwidth between the host and multiple devices concurrently\n",
      "*************************************************************************\n",
      "Concurrent Host/Device Bandwidth Matrix (GB/s), memory=Pinned\n",
      "   Dir\\D       0  Total\n",
      "   H2D     12.80  12.80\n",
      "   D2H     12.38  12.38\n",
      "   BiDir   19.33  19.33\n",
      "*************************************************************************\n",
      "*************************************************************************\n",
      "\n",
      "\n",
      "*************************************************************************\n",
      "*************************************************************************\n",
      "Test Description: Bus latency between the host and a single device\n",
      "*************************************************************************\n",
      "Host/Device Latency Matrix (us), memory=Pinned\n",
      "   Dir\\D       0\n",
      "   D2H      1.51\n",
      "   H2D      1.80\n",
      "   BiDir    3.40\n",
      "*************************************************************************\n",
      "*************************************************************************\n",
      "\n",
      "\n",
      "*************************************************************************\n",
      "*************************************************************************\n",
      "Test Description: Bus latency between pairs of GPUs\n",
      "*************************************************************************\n",
      "P2P Latency Matrix - P2P=Enabled (us)\n",
      "   D\\D      0\n",
      "      0   0.06\n",
      "*************************************************************************\n",
      "*************************************************************************\n",
      "\n",
      "\n"
     ]
    }
   ],
   "source": [
    "!/usr/local/cuda-8.0/extras/demo_suite/busGrind"
   ]
  },
  {
   "cell_type": "code",
   "execution_count": 31,
   "metadata": {
    "collapsed": false
   },
   "outputs": [
    {
     "name": "stdout",
     "output_type": "stream",
     "text": [
      "[Vector addition of 50000 elements]\n",
      "Copy input data from the host memory to the CUDA device\n",
      "CUDA kernel launch with 196 blocks of 256 threads\n",
      "Copy output data from the CUDA device to the host memory\n",
      "Test PASSED\n",
      "Done\n"
     ]
    }
   ],
   "source": [
    "!/usr/local/cuda-8.0/extras/demo_suite/vectorAdd"
   ]
  },
  {
   "cell_type": "code",
   "execution_count": 32,
   "metadata": {
    "collapsed": false
   },
   "outputs": [
    {
     "name": "stdout",
     "output_type": "stream",
     "text": [
      "bin    extras\tlibnsight  nvml    samples  targets\r\n",
      "cudnn  include\tlibnvvp    nvvm    share    tools\r\n",
      "doc    lib64\tLICENSE    README  src\t    version.txt\r\n"
     ]
    }
   ],
   "source": [
    "!ls /usr/local/cuda-8.0"
   ]
  },
  {
   "cell_type": "code",
   "execution_count": 38,
   "metadata": {
    "collapsed": false
   },
   "outputs": [
    {
     "name": "stdout",
     "output_type": "stream",
     "text": [
      "libcudnn.so  libcudnn.so.5  libcudnn.so.5.1.10\tlibcudnn_static.a\n",
      "cudnn.h\n"
     ]
    }
   ],
   "source": [
    "!ls /usr/local/cuda-8.0/cudnn/lib64\n",
    "!ls /usr/local/cuda-8.0/cudnn/include"
   ]
  },
  {
   "cell_type": "code",
   "execution_count": 33,
   "metadata": {
    "collapsed": false
   },
   "outputs": [
    {
     "name": "stdout",
     "output_type": "stream",
     "text": [
      "bin    extras\tlibnsight  nvml    samples  targets\r\n",
      "cudnn  include\tlibnvvp    nvvm    share    tools\r\n",
      "doc    lib64\tLICENSE    README  src\t    version.txt\r\n"
     ]
    }
   ],
   "source": [
    "!ls /usr/local/cuda"
   ]
  },
  {
   "cell_type": "code",
   "execution_count": 39,
   "metadata": {
    "collapsed": false
   },
   "outputs": [
    {
     "name": "stdout",
     "output_type": "stream",
     "text": [
      "EULA.txt  html\tman  pdf\r\n"
     ]
    }
   ],
   "source": [
    "!ls /usr/local/cuda-8.0/doc"
   ]
  },
  {
   "cell_type": "code",
   "execution_count": 40,
   "metadata": {
    "collapsed": false
   },
   "outputs": [
    {
     "name": "stdout",
     "output_type": "stream",
     "text": [
      "2017-07-24 09:05:26.156716\n"
     ]
    }
   ],
   "source": [
    "import datetime\n",
    "print(datetime.datetime.now())"
   ]
  },
  {
   "cell_type": "code",
   "execution_count": 41,
   "metadata": {
    "collapsed": true
   },
   "outputs": [],
   "source": [
    "# Вроде все с CUDA норм"
   ]
  }
 ],
 "metadata": {
  "kernelspec": {
   "display_name": "Python 2",
   "language": "python",
   "name": "python2"
  },
  "language_info": {
   "codemirror_mode": {
    "name": "ipython",
    "version": 2
   },
   "file_extension": ".py",
   "mimetype": "text/x-python",
   "name": "python",
   "nbconvert_exporter": "python",
   "pygments_lexer": "ipython2",
   "version": "2.7.13"
  }
 },
 "nbformat": 4,
 "nbformat_minor": 2
}
