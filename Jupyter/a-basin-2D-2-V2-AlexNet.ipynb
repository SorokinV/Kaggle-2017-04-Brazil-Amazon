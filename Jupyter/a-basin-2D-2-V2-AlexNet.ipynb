{
 "cells": [
  {
   "cell_type": "code",
   "execution_count": null,
   "metadata": {
    "collapsed": true,
    "deletable": true,
    "editable": true
   },
   "outputs": [],
   "source": []
  },
  {
   "cell_type": "code",
   "execution_count": 1,
   "metadata": {
    "collapsed": false,
    "deletable": true,
    "editable": true
   },
   "outputs": [],
   "source": [
    "import sys,os,datetime\n",
    "import numpy as np\n",
    "import pandas as pd\n",
    "import matplotlib.pyplot as plt\n",
    "from sklearn.metrics import fbeta_score\n",
    "from __future__ import print_function"
   ]
  },
  {
   "cell_type": "code",
   "execution_count": 2,
   "metadata": {
    "collapsed": false,
    "deletable": true,
    "editable": true
   },
   "outputs": [
    {
     "name": "stdout",
     "output_type": "stream",
     "text": [
      "1.12.1\n",
      "0.19.2\n"
     ]
    }
   ],
   "source": [
    "print(np.__version__);\n",
    "print(pd.__version__);"
   ]
  },
  {
   "cell_type": "code",
   "execution_count": 3,
   "metadata": {
    "collapsed": false,
    "deletable": true,
    "editable": true
   },
   "outputs": [
    {
     "data": {
      "text/plain": [
       "'3.2.0'"
      ]
     },
     "execution_count": 3,
     "metadata": {},
     "output_type": "execute_result"
    }
   ],
   "source": [
    "import  cv2 as cv\n",
    "cv.__version__"
   ]
  },
  {
   "cell_type": "code",
   "execution_count": 4,
   "metadata": {
    "collapsed": false,
    "deletable": true,
    "editable": true
   },
   "outputs": [],
   "source": [
    "sys.path.append('../Python')\n",
    "from helper import formFH, paths_input"
   ]
  },
  {
   "cell_type": "code",
   "execution_count": 5,
   "metadata": {
    "collapsed": false,
    "deletable": true,
    "editable": true
   },
   "outputs": [
    {
     "name": "stderr",
     "output_type": "stream",
     "text": [
      "Using TensorFlow backend.\n"
     ]
    }
   ],
   "source": [
    "#from keras.preprocessing.image import ImageDataGenerator, array_to_img, img_to_array, load_img\n",
    "from keras.models import Sequential,save_model,load_model\n",
    "from keras.layers import Convolution2D, MaxPooling2D, Convolution1D, MaxPooling1D\n",
    "from keras.layers import Activation, Dropout, Flatten, Dense\n",
    "from keras.layers.normalization import BatchNormalization\n",
    "import keras.optimizers\n",
    "from keras.callbacks import EarlyStopping,ReduceLROnPlateau"
   ]
  },
  {
   "cell_type": "code",
   "execution_count": 6,
   "metadata": {
    "collapsed": false,
    "deletable": true,
    "editable": true
   },
   "outputs": [
    {
     "data": {
      "text/plain": [
       "'2.0.4'"
      ]
     },
     "execution_count": 6,
     "metadata": {},
     "output_type": "execute_result"
    }
   ],
   "source": [
    "keras.__version__"
   ]
  },
  {
   "cell_type": "code",
   "execution_count": 7,
   "metadata": {
    "collapsed": false,
    "deletable": true,
    "editable": true
   },
   "outputs": [
    {
     "data": {
      "text/plain": [
       "('../Data/train-tif-v2',\n",
       " '../Data/test-tif-v2',\n",
       " '../Data/test-jpg-v2',\n",
       " '../Work/Train',\n",
       " '../Work/Test')"
      ]
     },
     "execution_count": 7,
     "metadata": {},
     "output_type": "execute_result"
    }
   ],
   "source": [
    "trLabels,trDirTIF,trDirJPG,teDirTIF,teDirJPG = paths_input()\n",
    "trDirI = trDirTIF\n",
    "teDirI = teDirTIF\n",
    "trWork, teWork = '../Work/Train', '../Work/Test'\n",
    "trDirI,teDirI, teDirJPG, trWork, teWork"
   ]
  },
  {
   "cell_type": "code",
   "execution_count": null,
   "metadata": {
    "collapsed": true,
    "deletable": true,
    "editable": true
   },
   "outputs": [],
   "source": []
  },
  {
   "cell_type": "code",
   "execution_count": 8,
   "metadata": {
    "collapsed": false,
    "deletable": true,
    "editable": true
   },
   "outputs": [
    {
     "data": {
      "text/html": [
       "<div>\n",
       "<table border=\"1\" class=\"dataframe\">\n",
       "  <thead>\n",
       "    <tr style=\"text-align: right;\">\n",
       "      <th></th>\n",
       "      <th>image_name</th>\n",
       "      <th>tags</th>\n",
       "    </tr>\n",
       "  </thead>\n",
       "  <tbody>\n",
       "    <tr>\n",
       "      <th>0</th>\n",
       "      <td>train_0</td>\n",
       "      <td>haze primary</td>\n",
       "    </tr>\n",
       "    <tr>\n",
       "      <th>1</th>\n",
       "      <td>train_1</td>\n",
       "      <td>agriculture clear primary water</td>\n",
       "    </tr>\n",
       "    <tr>\n",
       "      <th>2</th>\n",
       "      <td>train_2</td>\n",
       "      <td>clear primary</td>\n",
       "    </tr>\n",
       "    <tr>\n",
       "      <th>3</th>\n",
       "      <td>train_3</td>\n",
       "      <td>clear primary</td>\n",
       "    </tr>\n",
       "    <tr>\n",
       "      <th>4</th>\n",
       "      <td>train_4</td>\n",
       "      <td>agriculture clear habitation primary road</td>\n",
       "    </tr>\n",
       "  </tbody>\n",
       "</table>\n",
       "</div>"
      ],
      "text/plain": [
       "  image_name                                       tags\n",
       "0    train_0                               haze primary\n",
       "1    train_1            agriculture clear primary water\n",
       "2    train_2                              clear primary\n",
       "3    train_3                              clear primary\n",
       "4    train_4  agriculture clear habitation primary road"
      ]
     },
     "execution_count": 8,
     "metadata": {},
     "output_type": "execute_result"
    }
   ],
   "source": [
    "labels_df = pd.read_csv(trLabels)\n",
    "labels_df.head()"
   ]
  },
  {
   "cell_type": "code",
   "execution_count": 9,
   "metadata": {
    "collapsed": true,
    "deletable": true,
    "editable": true
   },
   "outputs": [],
   "source": [
    "# Build list with unique labels\n",
    "label_list = []\n",
    "for tag_str in labels_df.tags.values:\n",
    "    labels = tag_str.split(' ')\n",
    "    for label in labels:\n",
    "        if label not in label_list:\n",
    "            label_list.append(label)"
   ]
  },
  {
   "cell_type": "code",
   "execution_count": 10,
   "metadata": {
    "collapsed": false,
    "deletable": true,
    "editable": true
   },
   "outputs": [],
   "source": [
    "# Add onehot features for every label\n",
    "for label in label_list:\n",
    "    labels_df[label] = labels_df['tags'].apply(lambda x: 1 if label in x.split(' ') else 0)\n",
    "    #labels_df[label].astype(np.int8)\n",
    "# Display head\n",
    "#labels_df.head()\n"
   ]
  },
  {
   "cell_type": "code",
   "execution_count": 11,
   "metadata": {
    "collapsed": false,
    "deletable": true,
    "editable": true
   },
   "outputs": [],
   "source": [
    "weather_labels = ['clear', 'partly_cloudy', 'haze', 'cloudy']\n",
    "land_labels = ['primary', 'agriculture', 'water', 'cultivation', 'habitation' ]\n",
    "rare_labels = [l for l in label_list if labels_df[label_list].sum()[l] < 2000]\n",
    "#rare_labels              "
   ]
  },
  {
   "cell_type": "code",
   "execution_count": null,
   "metadata": {
    "collapsed": false,
    "deletable": true,
    "editable": true
   },
   "outputs": [],
   "source": []
  },
  {
   "cell_type": "code",
   "execution_count": 12,
   "metadata": {
    "collapsed": false,
    "deletable": true,
    "editable": true
   },
   "outputs": [
    {
     "data": {
      "text/plain": [
       "array([[1, 1, 0, 0, 0, 0, 0, 0, 0, 0, 0, 0, 0, 0, 0, 0, 0],\n",
       "       [0, 1, 1, 1, 1, 0, 0, 0, 0, 0, 0, 0, 0, 0, 0, 0, 0],\n",
       "       [0, 1, 0, 1, 0, 0, 0, 0, 0, 0, 0, 0, 0, 0, 0, 0, 0],\n",
       "       [0, 1, 0, 1, 0, 0, 0, 0, 0, 0, 0, 0, 0, 0, 0, 0, 0],\n",
       "       [0, 1, 1, 1, 0, 1, 1, 0, 0, 0, 0, 0, 0, 0, 0, 0, 0],\n",
       "       [1, 1, 0, 0, 1, 0, 0, 0, 0, 0, 0, 0, 0, 0, 0, 0, 0]])"
      ]
     },
     "execution_count": 12,
     "metadata": {},
     "output_type": "execute_result"
    }
   ],
   "source": [
    "labels = label_list; #weather_labels;\n",
    "nameList =labels_df[labels_df[labels].sum(axis=1)>0].image_name.tolist(); len(nameList)\n",
    "labelList=labels_df[labels_df[labels].sum(axis=1)>0][labels].as_matrix();\n",
    "labelList[:6,:]\n",
    "#labels_df.head()"
   ]
  },
  {
   "cell_type": "code",
   "execution_count": null,
   "metadata": {
    "collapsed": true,
    "deletable": true,
    "editable": true
   },
   "outputs": [],
   "source": []
  },
  {
   "cell_type": "code",
   "execution_count": 13,
   "metadata": {
    "collapsed": false,
    "deletable": true,
    "editable": true
   },
   "outputs": [],
   "source": [
    "def formImExt (nf, resize=(32,32), printOK=False) :\n",
    "    nx = None\n",
    "    try : \n",
    "        ni = cv.imread(nf,-1); \n",
    "        if (ni is not None) :\n",
    "            #ni = cv.normalize\n",
    "            if not ((ni.shape[2]==3) or (ni.shape[2]==4)) and printOK : print('----- error ---- shape:',ni.shape,nf)\n",
    "            if (ni.shape[2]==3) :\n",
    "                nx = cv.resize(ni,resize)\n",
    "            if (ni.shape[2]==4) :\n",
    "                #r,g,b,n = ni[:,:,2],ni[:,:,1],ni[:,:,0],ni[:,:,3]\n",
    "                r,g,b,n = cv.resize(ni[:,:,2],resize),cv.resize(ni[:,:,1],resize),cv.resize(ni[:,:,0],resize),cv.resize(ni[:,:,3],resize)\n",
    "                dv,dw   = np.divide((r-n),(r+n+0.01)), np.divide((g-n),(g+n+0.01))\n",
    "                nx      = np.array([r,g,b,n,dv,dw]).T; \n",
    "    except BaseException as e :\n",
    "        print(nf,e); nx = None;\n",
    "    \n",
    "    if nx is None and printOK : \n",
    "        print('------ None:',nf); nx = None\n",
    "        \n",
    "    return(nx)"
   ]
  },
  {
   "cell_type": "code",
   "execution_count": 33,
   "metadata": {
    "collapsed": false,
    "deletable": true,
    "editable": true
   },
   "outputs": [
    {
     "name": "stdout",
     "output_type": "stream",
     "text": [
      "2017-05-18 16:09:51.030338 40479 40479\n",
      "2017-05-18 16:12:30.271675 \t 5000 \t train_4999\n",
      "2017-05-18 16:14:32.662155 \t 10000 \t train_9999\n",
      "2017-05-18 16:16:21.170086 \t 15000 \t train_14999\n",
      "2017-05-18 16:17:57.485082 \t 20000 \t train_19999\n",
      "2017-05-18 16:19:17.573212 \t 25000 \t train_24999\n",
      "2017-05-18 16:20:26.649529 \t 30000 \t train_29999\n",
      "2017-05-18 16:21:34.931734 \t 35000 \t train_34999\n",
      "2017-05-18 16:22:38.544159 \t 40000 \t train_39999\n",
      "2017-05-18 16:22:44.600525\n",
      "40479 (40479, 64, 64, 3) (40479, 17)\n"
     ]
    }
   ],
   "source": [
    "trX, trY, i, size = [],[], 0, len(nameList)\n",
    "print(datetime.datetime.now(),len(nameList),size)\n",
    "for nn in nameList[0:size] :\n",
    "    #nf = os.path.join(trDirTIF,nn+\".tif\");\n",
    "    nf = os.path.join(trDirJPG,nn+\".jpg\");\n",
    "    nx = formImExt(nf,resize=(64,64))\n",
    "    if (nx is not None) :\n",
    "        #rr=np.save(os.path.join(trWork,nn+\".npy\"),nx);\n",
    "        #trX.append(nn+\".npy\")\n",
    "        trX.append(nx)\n",
    "        trY.append(True)\n",
    "    else : \n",
    "        trY.append(False)\n",
    "    i += 1\n",
    "    if (i%5000==0) : print(datetime.datetime.now(),\"\\t\",i,\"\\t\",nn)\n",
    "    #print(nn.shape)\n",
    "\n",
    "print(datetime.datetime.now())\n",
    "trX = np.array(trX);\n",
    "trY = labelList[trY];\n",
    "print(len(nameList),trX.shape,trY.shape)\n",
    "#trXY=pd.DataFrame(trY); trXY['name']=trX; trXY.head()\n",
    "#trXY.to_pickle(os.path.join(trWork,\"listFiles.pkl\"))"
   ]
  },
  {
   "cell_type": "code",
   "execution_count": 34,
   "metadata": {
    "collapsed": false,
    "deletable": true,
    "editable": true
   },
   "outputs": [],
   "source": [
    "#np.save('../Data-Keras/train-model-2D-64x64x6-v2-XX.npy',trX)\n",
    "#np.save('../Data-Keras/train-model-2D-64x64x6-v2-YY.npy',trY)\n",
    "np.save('../Data-Keras/train-model-2D-64x64x3-v2-XX.npy',trX)\n",
    "np.save('../Data-Keras/train-model-2D-64x64x3-v2-YY.npy',trY)"
   ]
  },
  {
   "cell_type": "code",
   "execution_count": 160,
   "metadata": {
    "collapsed": false,
    "deletable": true,
    "editable": true
   },
   "outputs": [],
   "source": [
    "#del(trOX); del(trOY);"
   ]
  },
  {
   "cell_type": "code",
   "execution_count": 14,
   "metadata": {
    "collapsed": false,
    "deletable": true,
    "editable": true
   },
   "outputs": [
    {
     "name": "stdout",
     "output_type": "stream",
     "text": [
      "(40479, 64, 64, 3) (40479, 17)\n"
     ]
    }
   ],
   "source": [
    "#trX = np.load('../Data-Keras/train-model-2D-64x64x6-v2-XX.npy')\n",
    "#trY = np.load('../Data-Keras/train-model-2D-64x64x6-v2-YY.npy')\n",
    "trX = np.load('../Data-Keras/train-model-2D-64x64x3-v2-XX.npy')\n",
    "trY = np.load('../Data-Keras/train-model-2D-64x64x3-v2-YY.npy')\n",
    "print(trX.shape,trY.shape)"
   ]
  },
  {
   "cell_type": "code",
   "execution_count": 15,
   "metadata": {
    "collapsed": false,
    "deletable": true,
    "editable": true
   },
   "outputs": [],
   "source": [
    "trX=trX/255.0\n",
    "#trX=trX/65535.0\n",
    "#trX[0,:,:]\n",
    "#trX[:,:,:,5].max(),trX.min(),trX.shape"
   ]
  },
  {
   "cell_type": "code",
   "execution_count": 25,
   "metadata": {
    "collapsed": false,
    "deletable": true,
    "editable": true
   },
   "outputs": [],
   "source": [
    "import keras.backend as K\n",
    "def fbeta_pred(y_true, y_pred, beta=2.0, OK1=0.2, eps=0.000001, printOK=False):\n",
    "    beta2 = beta*beta\n",
    "    yy_true = K.round(y_true)\n",
    "    #yy_pred = K.round(y_pred+(0.5-OK1))\n",
    "    yy_pred = K.round(y_pred)\n",
    "    tp, tp_fp, fn = K.sum((yy_pred*yy_true)), K.sum(yy_true), K.sum((K.abs(yy_pred*(yy_true-1.0))))\n",
    "    precision, recall = tp/(tp_fp+eps), tp/(tp+fn+eps) \n",
    "    fbeta = (1+beta2)*(precision*recall)/(beta2*precision+recall+eps)\n",
    "    ##if fbeta>1.0 : fbeta = 1.0;\n",
    "    if printOK :\n",
    "        print('ten true ',K.get_value(yy_true))\n",
    "        #print('ten pred ',y_pred)\n",
    "        print('ten roun ',K.get_value(yy_pred))\n",
    "        print(' pre=',K.get_value(precision),' recall=',K.get_value(recall),' tp=',\n",
    "              K.get_value(tp),' fn=',K.get_value(fn),' tp+fp=',K.get_value(tp_fp))\n",
    "    return(fbeta)"
   ]
  },
  {
   "cell_type": "code",
   "execution_count": 17,
   "metadata": {
    "collapsed": false,
    "deletable": true,
    "editable": true
   },
   "outputs": [],
   "source": [
    "#\n",
    "# model Krizevsky 2012\n",
    "#\n",
    "#    input(224x224)\n",
    "#    c2d(96,(11,11),strides=(4,4))\n",
    "#    c2d(256,(5,5))\n",
    "#    c2d(384,(3,3))\n",
    "#    c2d(384,(3,3))\n",
    "#    c2d(256,(3,3))\n",
    "#    maxp(2,2)\n",
    "#    flaten()\n",
    "#    dense(4096)\n",
    "#    dense(4096)\n",
    "#    dense(output(1000))\n",
    "#\n",
    "#\n",
    "def Kriz2012 ( model, iSize, rSize ) :\n",
    "    i1,i2,i3 = iSize\n",
    "    model.add(BatchNormalization(input_shape=(i1,i2,i3)))\n",
    "    \n",
    "    model.add(Convolution2D(96,(11,11),strides=(4,4),activation='relu'))\n",
    "    model.add(Convolution2D(256,(5,5),activation='relu'))\n",
    "    model.add(Convolution2D(384,(3,3),activation='relu'))\n",
    "    model.add(Convolution2D(384,(3,3),activation='relu'))\n",
    "    model.add(Convolution2D(256,(3,3),activation='relu'))\n",
    "    model.add(MaxPooling2D(pool_size=(2,2)))\n",
    "    model.add(Flatten())\n",
    "    model.add(Dense(4096,activation='relu'))\n",
    "    model.add(Dropout(0.25))\n",
    "    model.add(Dense(4096,activation='relu'))\n",
    "    model.add(Dropout(0.25))\n",
    "    \n",
    "    model.add(Dense(rSize,activation='sigmoid'))\n",
    "\n",
    "    return(model)"
   ]
  },
  {
   "cell_type": "code",
   "execution_count": 18,
   "metadata": {
    "collapsed": true,
    "deletable": true,
    "editable": true
   },
   "outputs": [],
   "source": [
    "#\n",
    "# model Krizevsky 2012\n",
    "#\n",
    "#    input(224x224)\n",
    "#    c2d(96,(11,11),strides=(4,4))\n",
    "#    c2d(256,(5,5))\n",
    "#    c2d(384,(3,3))\n",
    "#    c2d(384,(3,3))\n",
    "#    c2d(256,(3,3))\n",
    "#    maxp(2,2)\n",
    "#    flaten()\n",
    "#    dense(4096)\n",
    "#    dense(4096)\n",
    "#    dense(output(1000))\n",
    "#\n",
    "# cut version\n",
    "#\n",
    "#\n",
    "def Kriz2012c ( model, iSize, rSize ) :\n",
    "    i1,i2,i3 = iSize\n",
    "    model.add(BatchNormalization(input_shape=(i1,i2,i3)))\n",
    "    \n",
    "    model.add(Convolution2D(96,(11,11),strides=(4,4),activation='relu'))\n",
    "    model.add(Convolution2D(256,(5,5),activation='relu'))\n",
    "    model.add(Dropout(0.25))\n",
    "    model.add(Convolution2D(384,(3,3),activation='relu'))\n",
    "    model.add(Dropout(0.25))\n",
    "    model.add(Convolution2D(384,(3,3),activation='relu'))\n",
    "    model.add(Dropout(0.25))\n",
    "    model.add(Convolution2D(256,(3,3),activation='relu'))\n",
    "    model.add(Dropout(0.25))\n",
    "    model.add(MaxPooling2D(pool_size=(2,2)))\n",
    "    model.add(Flatten())\n",
    "    model.add(Dense(2048,activation='relu'))\n",
    "    model.add(Dropout(0.5))\n",
    "    model.add(Dense(2048,activation='relu'))\n",
    "    model.add(Dropout(0.5))\n",
    "    ##model.add(Dense(2048,activation='relu'))\n",
    "    ##model.add(Dropout(0.25))\n",
    "    #model.add(Dense(4096,activation='relu'))\n",
    "    #model.add(Dropout(0.25))\n",
    "    \n",
    "    model.add(Dense(rSize,activation='sigmoid'))\n",
    "\n",
    "    return(model)"
   ]
  },
  {
   "cell_type": "code",
   "execution_count": 19,
   "metadata": {
    "collapsed": true,
    "deletable": true,
    "editable": true
   },
   "outputs": [],
   "source": [
    "#\n",
    "# model Krizevsky 2012\n",
    "#\n",
    "#    input(224x224)\n",
    "#    c2d(96,(11,11),strides=(4,4))\n",
    "#    c2d(256,(5,5))\n",
    "#    c2d(384,(3,3))\n",
    "#    c2d(384,(3,3))\n",
    "#    c2d(256,(3,3))\n",
    "#    maxp(2,2)\n",
    "#    flaten()\n",
    "#    dense(4096)\n",
    "#    dense(4096)\n",
    "#    dense(output(1000))\n",
    "#\n",
    "# cut version\n",
    "#\n",
    "#\n",
    "def Kriz2012e ( model, iSize, rSize ) :\n",
    "    i1,i2,i3 = iSize\n",
    "    model.add(BatchNormalization(input_shape=(i1,i2,i3)))\n",
    "    \n",
    "    model.add(Convolution2D(96,(11,11),strides=(4,4),activation='relu'))\n",
    "    model.add(Convolution2D(256,(5,5),activation='relu'))\n",
    "    model.add(Dropout(0.25))\n",
    "    #model.add(Convolution2D(384,(3,3),activation='relu'))\n",
    "    model.add(Convolution2D(192,(3,3),activation='relu'))\n",
    "    model.add(Dropout(0.25))\n",
    "    #model.add(Convolution2D(384,(3,3),activation='relu'))\n",
    "    #model.add(Dropout(0.25))\n",
    "    model.add(Convolution2D(256,(3,3),activation='relu'))\n",
    "    model.add(Dropout(0.25))\n",
    "    model.add(MaxPooling2D(pool_size=(2,2)))\n",
    "    model.add(Flatten())\n",
    "    model.add(Dense(4096,activation='relu'))\n",
    "    model.add(Dropout(0.5))\n",
    "    ##model.add(Dense(2048,activation='relu'))\n",
    "    ##model.add(Dropout(0.25))\n",
    "    #model.add(Dense(4096,activation='relu'))\n",
    "    #model.add(Dropout(0.25))\n",
    "    \n",
    "    model.add(Dense(rSize,activation='sigmoid'))\n",
    "\n",
    "    return(model)"
   ]
  },
  {
   "cell_type": "code",
   "execution_count": 20,
   "metadata": {
    "collapsed": true,
    "deletable": true,
    "editable": true
   },
   "outputs": [],
   "source": [
    "#\n",
    "# model Krizevsky 2012\n",
    "#\n",
    "#    input(224x224)\n",
    "#    c2d(96,(11,11),strides=(4,4))\n",
    "#    c2d(256,(5,5))\n",
    "#    c2d(384,(3,3))\n",
    "#    c2d(384,(3,3))\n",
    "#    c2d(256,(3,3))\n",
    "#    maxp(2,2)\n",
    "#    flaten()\n",
    "#    dense(4096)\n",
    "#    dense(4096)\n",
    "#    dense(output(1000))\n",
    "#\n",
    "# cut version\n",
    "#\n",
    "#\n",
    "def Kriz2012el ( model, iSize, rSize, pp=(96,256,384,384,256,4096,4096) ) :\n",
    "    i1,i2,i3 = iSize\n",
    "    model.add(BatchNormalization(input_shape=(i1,i2,i3)))\n",
    "\n",
    "    if (pp[0]>0) :\n",
    "        model.add(Convolution2D(pp[0],(11,11),strides=(4,4),activation='relu'))\n",
    "        model.add(Dropout(0.25))\n",
    "    \n",
    "    if (pp[1]>0) :\n",
    "        model.add(Convolution2D(pp[1],(5,5),activation='relu'))\n",
    "        model.add(Dropout(0.25))\n",
    "    if (pp[2]>0) :\n",
    "        model.add(Convolution2D(pp[2],(3,3),activation='relu'))\n",
    "        model.add(Dropout(0.25))\n",
    "    if (pp[3]>0) :\n",
    "        model.add(Convolution2D(pp[3],(3,3),activation='relu'))\n",
    "        model.add(Dropout(0.25))\n",
    "    if (pp[4]>0) :\n",
    "        model.add(Convolution2D(pp[4],(3,3),activation='relu'))\n",
    "        model.add(Dropout(0.25))\n",
    "        \n",
    "    model.add(MaxPooling2D(pool_size=(2,2)))\n",
    "    model.add(Flatten())\n",
    "    \n",
    "    if (pp[5]>0) :\n",
    "        model.add(Dense(pp[5],activation='relu'))\n",
    "        model.add(Dropout(0.5))\n",
    "    if (pp[6]>0) :\n",
    "        model.add(Dense(pp[6],activation='relu'))\n",
    "        model.add(Dropout(0.25))\n",
    "    \n",
    "    model.add(Dense(rSize,activation='sigmoid'))\n",
    "\n",
    "    return(model)"
   ]
  },
  {
   "cell_type": "code",
   "execution_count": 21,
   "metadata": {
    "collapsed": false,
    "deletable": true,
    "editable": true
   },
   "outputs": [],
   "source": [
    "#trX=trX/255.0\n",
    "#trX[0]"
   ]
  },
  {
   "cell_type": "code",
   "execution_count": 22,
   "metadata": {
    "collapsed": false,
    "deletable": true,
    "editable": true
   },
   "outputs": [],
   "source": [
    "#\n",
    "# model Krizevsky 2012\n",
    "#\n",
    "#    input(224x224)\n",
    "#    c2d(96,(11,11),strides=(4,4))\n",
    "#    c2d(256,(5,5))\n",
    "#    c2d(384,(3,3))\n",
    "#    c2d(384,(3,3))\n",
    "#    c2d(256,(3,3))\n",
    "#    maxp(2,2)\n",
    "#    flaten()\n",
    "#    dense(4096)\n",
    "#    dense(4096)\n",
    "#    dense(output(1000))\n",
    "#\n",
    "# cut version\n",
    "#\n",
    "#\n",
    "def Kriz2012x3x3 ( model, iSize, rSize, cv2d, dense ) :\n",
    "    i1,i2,i3 = iSize\n",
    "    model.add(BatchNormalization(axis=3,input_shape=(i1,i2,i3)))\n",
    "    \n",
    "    if not (cv2d is None) :\n",
    "        for cv in cv2d :\n",
    "            if (cv>0) :\n",
    "                model.add(Convolution2D(cv,(3,3)))\n",
    "                #model.add(BatchNormalization(axis=3))\n",
    "                model.add(Activation('relu'))\n",
    "                model.add(Dropout(0.25))\n",
    "                model.add(MaxPooling2D(pool_size=(2,2)))\n",
    "\n",
    "    model.add(Flatten())\n",
    "    \n",
    "    if not (dense is None) :\n",
    "        for de in dense :\n",
    "            if (de>0) :\n",
    "                model.add(Dense(pp[5],activation='relu'))\n",
    "                model.add(Dropout(0.5))\n",
    "    \n",
    "    model.add(Dense(rSize,activation='sigmoid'))\n",
    "\n",
    "    return(model)"
   ]
  },
  {
   "cell_type": "code",
   "execution_count": 23,
   "metadata": {
    "collapsed": false,
    "deletable": true,
    "editable": true
   },
   "outputs": [],
   "source": [
    "def buildModel (iSize,rSize,params=None,cv2d=None,dense=None) :\n",
    "    model = Sequential()\n",
    "    if (cv2d is None) and (dense is None) and not (params is None) : cv2d, dense = params[:-2], params[-2:]\n",
    "    model = Kriz2012x3x3(model,iSize,rSize,cv2d=cv2d,dense=dense)\n",
    "    sgd = keras.optimizers.SGD(lr=0.01, decay=1e-6, momentum=0.9, nesterov=True)\n",
    "    model.compile(loss='categorical_crossentropy',\n",
    "                  optimizer='adam', #sgd, #\"adam\", #'rmsprop',\n",
    "                  metrics=['accuracy']) #[fbeta_pred]) #['accuracy',fbeta_pred]) #['accuracy'])\n",
    "    return(model)"
   ]
  },
  {
   "cell_type": "code",
   "execution_count": 63,
   "metadata": {
    "collapsed": false,
    "deletable": true,
    "editable": true
   },
   "outputs": [],
   "source": [
    "#\n",
    "# try model Krizevsky 2012\n",
    "#\n",
    "#iSize = (trX.shape[1],trX.shape[2],trX.shape[3])\n",
    "iSize = (64,64,6)\n",
    "#rSize = trY.shape[1]\n",
    "rSize = 17\n",
    "model = Sequential()\n",
    "model = Kriz2012e(model,iSize,rSize)\n",
    "sgd = keras.optimizers.SGD(lr=0.01, decay=1e-6, momentum=0.9, nesterov=True)\n",
    "model.compile(loss='categorical_crossentropy',\n",
    "              optimizer='adam', #sgd, #\"adam\", #'rmsprop',\n",
    "              metrics=[fbeta_pred]) #['accuracy',fbeta_pred]) #['accuracy'])"
   ]
  },
  {
   "cell_type": "code",
   "execution_count": null,
   "metadata": {
    "collapsed": false,
    "deletable": true,
    "editable": true
   },
   "outputs": [],
   "source": []
  },
  {
   "cell_type": "code",
   "execution_count": 54,
   "metadata": {
    "collapsed": false,
    "deletable": true,
    "editable": true
   },
   "outputs": [],
   "source": [
    "# badly don't work: fail customs metric # model=load_model('../Data-Keras/basin02-loop-all.h5') ## verify load from v1 version\n",
    "#model.load_weights('../Data-Keras/train-model-020-1D-2-v2-loop-weights.h5') ## verify load weights from v1 version"
   ]
  },
  {
   "cell_type": "code",
   "execution_count": 64,
   "metadata": {
    "collapsed": false,
    "deletable": true,
    "editable": true
   },
   "outputs": [
    {
     "name": "stdout",
     "output_type": "stream",
     "text": [
      "_________________________________________________________________\n",
      "Layer (type)                 Output Shape              Param #   \n",
      "=================================================================\n",
      "batch_normalization_5 (Batch (None, 64, 64, 6)         24        \n",
      "_________________________________________________________________\n",
      "conv2d_19 (Conv2D)           (None, 14, 14, 96)        69792     \n",
      "_________________________________________________________________\n",
      "conv2d_20 (Conv2D)           (None, 10, 10, 256)       614656    \n",
      "_________________________________________________________________\n",
      "dropout_19 (Dropout)         (None, 10, 10, 256)       0         \n",
      "_________________________________________________________________\n",
      "conv2d_21 (Conv2D)           (None, 8, 8, 192)         442560    \n",
      "_________________________________________________________________\n",
      "dropout_20 (Dropout)         (None, 8, 8, 192)         0         \n",
      "_________________________________________________________________\n",
      "conv2d_22 (Conv2D)           (None, 6, 6, 256)         442624    \n",
      "_________________________________________________________________\n",
      "dropout_21 (Dropout)         (None, 6, 6, 256)         0         \n",
      "_________________________________________________________________\n",
      "max_pooling2d_5 (MaxPooling2 (None, 3, 3, 256)         0         \n",
      "_________________________________________________________________\n",
      "flatten_5 (Flatten)          (None, 2304)              0         \n",
      "_________________________________________________________________\n",
      "dense_12 (Dense)             (None, 4096)              9441280   \n",
      "_________________________________________________________________\n",
      "dropout_22 (Dropout)         (None, 4096)              0         \n",
      "_________________________________________________________________\n",
      "dense_13 (Dense)             (None, 17)                69649     \n",
      "=================================================================\n",
      "Total params: 11,080,585\n",
      "Trainable params: 11,080,573\n",
      "Non-trainable params: 12\n",
      "_________________________________________________________________\n"
     ]
    }
   ],
   "source": [
    "model.summary()"
   ]
  },
  {
   "cell_type": "code",
   "execution_count": 21,
   "metadata": {
    "collapsed": false,
    "deletable": true,
    "editable": true
   },
   "outputs": [
    {
     "ename": "NameError",
     "evalue": "name 'result' is not defined",
     "output_type": "error",
     "traceback": [
      "\u001b[0;31m---------------------------------------------------------------------------\u001b[0m",
      "\u001b[0;31mNameError\u001b[0m                                 Traceback (most recent call last)",
      "\u001b[0;32m<ipython-input-21-7a1dda63a2f2>\u001b[0m in \u001b[0;36m<module>\u001b[0;34m()\u001b[0m\n\u001b[1;32m      2\u001b[0m \u001b[0;31m#mm2=np.sum([K.count_params(p) for p in set(model.non_trainable_weights)])\u001b[0m\u001b[0;34m\u001b[0m\u001b[0;34m\u001b[0m\u001b[0m\n\u001b[1;32m      3\u001b[0m \u001b[0;31m#mm1,mm2,mm1+mm2\u001b[0m\u001b[0;34m\u001b[0m\u001b[0;34m\u001b[0m\u001b[0m\n\u001b[0;32m----> 4\u001b[0;31m \u001b[0mlen\u001b[0m\u001b[0;34m(\u001b[0m\u001b[0mresult\u001b[0m\u001b[0;34m)\u001b[0m\u001b[0;34m,\u001b[0m\u001b[0mlen\u001b[0m\u001b[0;34m(\u001b[0m\u001b[0mresAll\u001b[0m\u001b[0;34m)\u001b[0m\u001b[0;34m\u001b[0m\u001b[0m\n\u001b[0m",
      "\u001b[0;31mNameError\u001b[0m: name 'result' is not defined"
     ]
    }
   ],
   "source": [
    "#mm1=np.sum([K.count_params(p) for p in set(model.trainable_weights)])\n",
    "#mm2=np.sum([K.count_params(p) for p in set(model.non_trainable_weights)])\n",
    "#mm1,mm2,mm1+mm2\n",
    "len(result),len(resAll)"
   ]
  },
  {
   "cell_type": "code",
   "execution_count": 37,
   "metadata": {
    "collapsed": true,
    "deletable": true,
    "editable": true
   },
   "outputs": [],
   "source": [
    "resAll = []"
   ]
  },
  {
   "cell_type": "code",
   "execution_count": 29,
   "metadata": {
    "collapsed": false,
    "deletable": true,
    "editable": true
   },
   "outputs": [
    {
     "name": "stdout",
     "output_type": "stream",
     "text": [
      "(64, 64, 3) 17\n",
      "2017-05-20 04:04:15.411722 (8, 64, 256, 2048, 0, 1024, 0) 13280317\n",
      "Train on 32383 samples, validate on 8096 samples\n",
      "Epoch 1/100\n",
      "47s - loss: 5.1336 - acc: 0.8376 - val_loss: 4.9639 - val_acc: 0.8662\n",
      "Epoch 2/100\n",
      "47s - loss: 4.7658 - acc: 0.8594 - val_loss: 4.8261 - val_acc: 0.8662\n",
      "Epoch 3/100\n",
      "47s - loss: 4.6552 - acc: 0.8769 - val_loss: 4.7226 - val_acc: 0.8865\n",
      "Epoch 4/100\n",
      "47s - loss: 4.5903 - acc: 0.8715 - val_loss: 4.7085 - val_acc: 0.8466\n",
      "Epoch 5/100\n",
      "47s - loss: 4.5463 - acc: 0.8513 - val_loss: 4.6091 - val_acc: 0.8875\n",
      "Epoch 6/100\n",
      "47s - loss: 4.4922 - acc: 0.8475 - val_loss: 4.5690 - val_acc: 0.8765\n",
      "Epoch 7/100\n",
      "47s - loss: 4.4562 - acc: 0.8380 - val_loss: 4.5619 - val_acc: 0.8725\n",
      "Epoch 8/100\n",
      "47s - loss: 4.4100 - acc: 0.8397 - val_loss: 4.5438 - val_acc: 0.8668\n",
      "Epoch 9/100\n",
      "47s - loss: 4.3854 - acc: 0.8317 - val_loss: 4.5065 - val_acc: 0.8761\n",
      "Epoch 10/100\n",
      "47s - loss: 4.3423 - acc: 0.8274 - val_loss: 4.6061 - val_acc: 0.8694\n",
      "Epoch 11/100\n",
      "47s - loss: 4.3127 - acc: 0.8275 - val_loss: 4.5169 - val_acc: 0.8696\n",
      "Epoch 12/100\n",
      "47s - loss: 4.2875 - acc: 0.8255 - val_loss: 4.5643 - val_acc: 0.8743\n",
      "Epoch 13/100\n",
      "47s - loss: 4.2653 - acc: 0.8120 - val_loss: 4.5054 - val_acc: 0.8508\n",
      "Epoch 14/100\n",
      "47s - loss: 4.2229 - acc: 0.8123 - val_loss: 4.5070 - val_acc: 0.8371\n",
      "Epoch 15/100\n",
      "47s - loss: 4.1989 - acc: 0.7841 - val_loss: 4.5689 - val_acc: 0.8235\n",
      "Epoch 16/100\n",
      "47s - loss: 4.1799 - acc: 0.7707 - val_loss: 4.5283 - val_acc: 0.8136\n",
      "Epoch 17/100\n",
      "47s - loss: 4.1446 - acc: 0.7560 - val_loss: 4.5148 - val_acc: 0.7433\n",
      "Epoch 18/100\n",
      "47s - loss: 4.1296 - acc: 0.7300 - val_loss: 4.5912 - val_acc: 0.7519\n",
      "Epoch 19/100\n",
      "47s - loss: 4.1039 - acc: 0.6912 - val_loss: 4.6103 - val_acc: 0.7716\n",
      "Epoch 20/100\n",
      "47s - loss: 4.0880 - acc: 0.6919 - val_loss: 4.5974 - val_acc: 0.7651\n",
      "Epoch 21/100\n",
      "47s - loss: 4.0645 - acc: 0.6742 - val_loss: 4.5780 - val_acc: 0.7163\n",
      "Epoch 22/100\n",
      "47s - loss: 4.0399 - acc: 0.6859 - val_loss: 4.5654 - val_acc: 0.6696\n",
      "Epoch 23/100\n",
      "47s - loss: 4.0290 - acc: 0.6611 - val_loss: 4.5726 - val_acc: 0.7402\n",
      "Epoch 24/100\n",
      "47s - loss: 4.0189 - acc: 0.6630 - val_loss: 4.6174 - val_acc: 0.7463\n",
      "Epoch 25/100\n",
      "47s - loss: 3.9998 - acc: 0.6737 - val_loss: 4.6214 - val_acc: 0.7192\n",
      "Epoch 26/100\n",
      "47s - loss: 3.9842 - acc: 0.6254 - val_loss: 4.6286 - val_acc: 0.7469\n",
      "2017-05-20 04:24:56.797658 (8, 64, 256, 2048, 0, 1024, 0) fbeta2s= 0.931831068667 0.91315307567\n",
      "2017-05-20 04:24:56.934518 (8, 64, 256, 2048, 0, 512, 0) 9076797\n",
      "Train on 32383 samples, validate on 8096 samples\n",
      "Epoch 1/100\n",
      "43s - loss: 5.2048 - acc: 0.8339 - val_loss: 5.1046 - val_acc: 0.8662\n",
      "Epoch 2/100\n",
      "43s - loss: 4.7983 - acc: 0.8588 - val_loss: 4.7919 - val_acc: 0.8662\n",
      "Epoch 3/100\n",
      "43s - loss: 4.6872 - acc: 0.8575 - val_loss: 4.7118 - val_acc: 0.8662\n",
      "Epoch 4/100\n",
      "43s - loss: 4.6240 - acc: 0.8570 - val_loss: 4.6552 - val_acc: 0.8662\n",
      "Epoch 5/100\n",
      "43s - loss: 4.5768 - acc: 0.8578 - val_loss: 4.6119 - val_acc: 0.8662\n",
      "Epoch 6/100\n",
      "43s - loss: 4.5380 - acc: 0.8578 - val_loss: 4.6358 - val_acc: 0.8662\n",
      "Epoch 7/100\n",
      "43s - loss: 4.5010 - acc: 0.8574 - val_loss: 4.6171 - val_acc: 0.8662\n",
      "Epoch 8/100\n",
      "43s - loss: 4.4758 - acc: 0.8680 - val_loss: 4.5709 - val_acc: 0.8960\n",
      "Epoch 9/100\n",
      "43s - loss: 4.4354 - acc: 0.8401 - val_loss: 4.5404 - val_acc: 0.8908\n",
      "Epoch 10/100\n",
      "43s - loss: 4.4013 - acc: 0.8082 - val_loss: 4.5060 - val_acc: 0.8871\n",
      "Epoch 11/100\n",
      "43s - loss: 4.3748 - acc: 0.8271 - val_loss: 4.5321 - val_acc: 0.8822\n",
      "Epoch 12/100\n",
      "43s - loss: 4.3495 - acc: 0.8181 - val_loss: 4.5103 - val_acc: 0.8399\n",
      "Epoch 13/100\n",
      "43s - loss: 4.3168 - acc: 0.8025 - val_loss: 4.5112 - val_acc: 0.8455\n",
      "Epoch 14/100\n",
      "43s - loss: 4.2984 - acc: 0.7930 - val_loss: 4.5594 - val_acc: 0.8298\n",
      "Epoch 15/100\n",
      "43s - loss: 4.2686 - acc: 0.7669 - val_loss: 4.4927 - val_acc: 0.7838\n",
      "Epoch 16/100\n",
      "43s - loss: 4.2434 - acc: 0.7387 - val_loss: 4.4993 - val_acc: 0.7999\n",
      "Epoch 17/100\n",
      "43s - loss: 4.2193 - acc: 0.7107 - val_loss: 4.5294 - val_acc: 0.8095\n",
      "Epoch 18/100\n",
      "43s - loss: 4.1976 - acc: 0.7398 - val_loss: 4.5107 - val_acc: 0.8351\n",
      "Epoch 19/100\n",
      "43s - loss: 4.1760 - acc: 0.7339 - val_loss: 4.5331 - val_acc: 0.7889\n",
      "Epoch 20/100\n",
      "43s - loss: 4.1517 - acc: 0.6943 - val_loss: 4.6058 - val_acc: 0.7772\n",
      "Epoch 21/100\n",
      "43s - loss: 4.1322 - acc: 0.7028 - val_loss: 4.5737 - val_acc: 0.7758\n",
      "Epoch 22/100\n",
      "43s - loss: 4.1214 - acc: 0.6844 - val_loss: 4.6188 - val_acc: 0.7766\n",
      "Epoch 23/100\n",
      "43s - loss: 4.1071 - acc: 0.6864 - val_loss: 4.5753 - val_acc: 0.7452\n",
      "Epoch 24/100\n",
      "43s - loss: 4.0843 - acc: 0.6775 - val_loss: 4.6009 - val_acc: 0.7446\n",
      "Epoch 25/100\n",
      "43s - loss: 4.0702 - acc: 0.6781 - val_loss: 4.6534 - val_acc: 0.7008\n",
      "Epoch 26/100\n",
      "43s - loss: 4.0604 - acc: 0.6367 - val_loss: 4.7163 - val_acc: 0.7271\n",
      "Epoch 27/100\n",
      "43s - loss: 4.0434 - acc: 0.6439 - val_loss: 4.6329 - val_acc: 0.7038\n",
      "Epoch 28/100\n",
      "43s - loss: 4.0422 - acc: 0.6173 - val_loss: 4.6560 - val_acc: 0.6982\n",
      "2017-05-20 04:45:19.455696 (8, 64, 256, 2048, 0, 512, 0) fbeta2s= 0.929855718148 0.911571539051\n",
      "2017-05-20 04:45:19.599646 (8, 64, 256, 4096, 0, 256, 0) 13792829\n",
      "Train on 32383 samples, validate on 8096 samples\n",
      "Epoch 1/100\n",
      "65s - loss: 5.2796 - acc: 0.8275 - val_loss: 5.0494 - val_acc: 0.8613\n",
      "Epoch 2/100\n",
      "65s - loss: 4.8514 - acc: 0.8482 - val_loss: 4.8052 - val_acc: 0.8655\n",
      "Epoch 3/100\n",
      "65s - loss: 4.7365 - acc: 0.8483 - val_loss: 4.7668 - val_acc: 0.8662\n",
      "Epoch 4/100\n",
      "65s - loss: 4.6712 - acc: 0.8461 - val_loss: 4.6414 - val_acc: 0.8662\n",
      "Epoch 5/100\n",
      "65s - loss: 4.6254 - acc: 0.8450 - val_loss: 4.6494 - val_acc: 0.8649\n",
      "Epoch 6/100\n",
      "65s - loss: 4.5972 - acc: 0.8448 - val_loss: 4.6452 - val_acc: 0.8630\n",
      "Epoch 7/100\n",
      "65s - loss: 4.5551 - acc: 0.8464 - val_loss: 4.6468 - val_acc: 0.8783\n",
      "Epoch 8/100\n",
      "65s - loss: 4.5212 - acc: 0.8088 - val_loss: 4.6033 - val_acc: 0.8704\n",
      "Epoch 9/100\n",
      "65s - loss: 4.4961 - acc: 0.7748 - val_loss: 4.5725 - val_acc: 0.8586\n",
      "Epoch 10/100\n",
      "65s - loss: 4.4509 - acc: 0.7870 - val_loss: 4.5520 - val_acc: 0.8528\n",
      "Epoch 11/100\n",
      "65s - loss: 4.4355 - acc: 0.7899 - val_loss: 4.5492 - val_acc: 0.8003\n",
      "Epoch 12/100\n",
      "65s - loss: 4.4020 - acc: 0.7845 - val_loss: 4.5938 - val_acc: 0.8512\n",
      "Epoch 13/100\n",
      "65s - loss: 4.3779 - acc: 0.7610 - val_loss: 4.5640 - val_acc: 0.8463\n",
      "Epoch 14/100\n",
      "65s - loss: 4.3499 - acc: 0.7718 - val_loss: 4.5969 - val_acc: 0.8326\n",
      "Epoch 15/100\n",
      "65s - loss: 4.3276 - acc: 0.7703 - val_loss: 4.5148 - val_acc: 0.8473\n",
      "Epoch 16/100\n",
      "65s - loss: 4.2971 - acc: 0.7655 - val_loss: 4.5421 - val_acc: 0.8635\n",
      "Epoch 17/100\n",
      "65s - loss: 4.2706 - acc: 0.7685 - val_loss: 4.5589 - val_acc: 0.8218\n",
      "Epoch 18/100\n",
      "65s - loss: 4.2612 - acc: 0.7771 - val_loss: 4.5249 - val_acc: 0.8236\n",
      "Epoch 19/100\n",
      "65s - loss: 4.2294 - acc: 0.7650 - val_loss: 4.5583 - val_acc: 0.7982\n",
      "Epoch 20/100\n",
      "65s - loss: 4.2088 - acc: 0.7682 - val_loss: 4.4947 - val_acc: 0.8062\n",
      "Epoch 21/100\n",
      "65s - loss: 4.1954 - acc: 0.7512 - val_loss: 4.5997 - val_acc: 0.8097\n",
      "Epoch 22/100\n",
      "65s - loss: 4.1791 - acc: 0.7501 - val_loss: 4.5356 - val_acc: 0.7861\n",
      "Epoch 23/100\n",
      "65s - loss: 4.1595 - acc: 0.7118 - val_loss: 4.5366 - val_acc: 0.7880\n",
      "Epoch 24/100\n",
      "65s - loss: 4.1400 - acc: 0.7194 - val_loss: 4.6100 - val_acc: 0.7674\n",
      "Epoch 25/100\n",
      "65s - loss: 4.1225 - acc: 0.7181 - val_loss: 4.6009 - val_acc: 0.7753\n",
      "Epoch 26/100\n",
      "65s - loss: 4.1107 - acc: 0.7245 - val_loss: 4.6113 - val_acc: 0.7847\n",
      "Epoch 27/100\n",
      "65s - loss: 4.1011 - acc: 0.7039 - val_loss: 4.6284 - val_acc: 0.7526\n",
      "Epoch 28/100\n",
      "65s - loss: 4.0949 - acc: 0.7016 - val_loss: 4.7034 - val_acc: 0.7070\n",
      "Epoch 29/100\n",
      "65s - loss: 4.0908 - acc: 0.7170 - val_loss: 4.7126 - val_acc: 0.7643\n",
      "Epoch 30/100\n",
      "65s - loss: 4.0607 - acc: 0.7288 - val_loss: 4.7111 - val_acc: 0.7289\n",
      "Epoch 31/100\n",
      "65s - loss: 4.0527 - acc: 0.7214 - val_loss: 4.7706 - val_acc: 0.7733\n",
      "Epoch 32/100\n",
      "65s - loss: 4.0366 - acc: 0.7108 - val_loss: 4.7072 - val_acc: 0.7763\n",
      "Epoch 33/100\n",
      "65s - loss: 4.0311 - acc: 0.7088 - val_loss: 4.7550 - val_acc: 0.7879\n",
      "2017-05-20 05:21:28.643473 (8, 64, 256, 4096, 0, 256, 0) fbeta2s= 0.927481949423 0.911490828323\n"
     ]
    }
   ],
   "source": [
    "early_stopping = EarlyStopping(monitor='val_loss', patience=12,min_delta=0.0001)\n",
    "reduce_lr = ReduceLROnPlateau(monitor='val_loss', factor=0.2,patience=5, min_lr=0.001)\n",
    "\n",
    "params = [(32,64,32,0,0,256,0),(32,64,16,0,0,256,0),(32,64,32,0,0,256,0),(32,64,64,0,0,256,0),(32,64,128,0,0,256,0),(32,64,256,0,0,256,0),(32,64,512,0,0,256,0),(32,64,1024,0,0,256,0)]\n",
    "params = params+[(32,64,8,0,0,16,0),(32,64,16,0,0,256,0),(32,64,32,0,0,64,0),(32,64,64,0,0,128,0),(32,64,128,0,0,256,0),(32,64,256,0,0,512,0),(32,64,512,0,0,1024,0),(32,64,1024,0,0,2048,0)]\n",
    "params = params+[(32,64,8,0,0,16,128),(32,64,16,0,0,32,128),(32,64,32,0,0,64,128),(32,64,64,0,0,128,128),(32,64,128,0,0,256,128),(32,64,256,0,0,512,128),(32,64,512,0,0,1024,128),(32,64,1024,0,0,2048,128)]\n",
    "params = params+[(96,256,384,384,256,4096,4096),(96,256,384,384,256,4096,2048),(96,256,384,384,256,2048,4096),(96,256,384,384,256,2048,2048),\n",
    "          (96,256,384,384,0,4096,0),(96,256,384,0,256,4096,0),(96,256,0,0,256,4096,0),\n",
    "          (96,256,0,0,0,4096,0),(96,0,0,0,0,4096,0),(96,256,0,0,256,4096,0)]\n",
    "#         (96,256,384,197,256,4096,0),  bad unchausted memory ResourceExhaustedError: OOM when allocating tensor with shape[128,8,8,384]\n",
    "#         (96,128,0,0,0,4096,0),\n",
    "#\n",
    "#        [(96,256,197,0,0,4096,0), (96,256,384,384,256,4096,0)]\n",
    "#\n",
    "#       [(96,32,0,0,0,1024,0),(96,64,0,0,0,1024,0),(96,128,0,0,0,1024,0),(96,256,0,0,0,1024,0),\n",
    "#         (256,32,0,0,0,1024,0),(256,64,0,0,0,1024,0),(256,128,0,0,0,1024,0)]\n",
    "\n",
    "params = [(96,64,0,0,0,256,0),(96,64,0,0,0,512,0),(96,64,0,0,0,1024,0),(96,64,0,0,0,2048,0),(96,64,0,0,0,8192,0)]\n",
    "params = params+[(16,64,0,0,0,256,0),(32,64,0,0,0,256,0),(64,64,0,0,0,256,0),(128,64,0,0,0,256,0),(256,64,0,0,0,256,0)]\n",
    "\n",
    "params = [(32,64,16,0,0,256,0)] \n",
    "params = [(16,32,64,256,0,512,512),(8,64,256,1024,0,512,512),(8,64,256,1024,0,0,512),(8,64,256,2048,0,0,512),(8,64,256,2048,0,512,512),\n",
    "          (8,64,256,2048,0,1024,0),(8,64,256,2048,0,1024,1024)]\n",
    "##params = [(8,64,256,1024,0,512,512),(8,64,256,1024,0,512,0)]\n",
    "params = [(8,64,256,2048,0,2048,0)] # 0.87 0.87\n",
    "params = [(8,64,256,4096,0,1024,0)] # 0.8686 0.8724\n",
    "params = [(8,64,256,2048,0,1024,0),(8,64,256,2048,0,512,0),(8,64,256,4096,0,256,0)] # 0.875 0.8796\n",
    "\n",
    "#params = [(8,64,256,4096,0,256,0)]\n",
    "\n",
    "iSize, rSize, result = (trX.shape[1],trX.shape[2],trX.shape[3]), trY.shape[1], []\n",
    "print(iSize,rSize)\n",
    "epochs  = 100\n",
    "verbose = 2\n",
    "batch_size = 64 # 64 0.8633 0.8717 (68 secs/batch) # 32 0.8545 0.8653 (87 secs/batch) # 16 0.8483 0.8623 (137 secs/batch) # 32\n",
    "for pp in params :\n",
    "    model1 = buildModel(iSize,rSize,pp)\n",
    "    tr1=np.sum([K.count_params(p) for p in set(model1.trainable_weights)])\n",
    "    tr2=np.sum([K.count_params(p) for p in set(model1.non_trainable_weights)])\n",
    "    if (tr1+tr2)>14000000 : \n",
    "        print(datetime.datetime.now(),pp,tr1+tr2,'(badly)')\n",
    "        continue;\n",
    "    print(datetime.datetime.now(),pp,tr1+tr2)\n",
    "    hist1  = model1.fit(trX,trY,epochs=epochs, batch_size=batch_size, validation_split=0.20, \n",
    "                        callbacks=[early_stopping,reduce_lr],\n",
    "                        verbose=verbose)\n",
    "    \n",
    "    trP = model1.predict(trX, batch_size=128)\n",
    "    fbeta2score=fbeta_score(trY, np.array(trP) > 0.2, beta=2, average='samples')\n",
    "    fbeta2pred =K.get_value(fbeta_pred(trY.astype(np.float64),trP.astype(np.float64)))\n",
    "    #print(datetime.datetime.now(),pp,hist1.history['fbeta_pred'][-1],hist1.history['val_fbeta_pred'][-1],'fbeta2s=',fbeta2score,fbeta2pred)\n",
    "    print(datetime.datetime.now(),pp,'fbeta2s=',fbeta2score,fbeta2pred)\n",
    "    result.append([pp,hist1])\n"
   ]
  },
  {
   "cell_type": "code",
   "execution_count": 28,
   "metadata": {
    "collapsed": false,
    "deletable": true,
    "editable": true
   },
   "outputs": [
    {
     "name": "stdout",
     "output_type": "stream",
     "text": [
      "[4.0267106959752592, 0.66659255414769014]\n",
      "(40479, 17)\n",
      "(40479, 17)\n",
      "fbeta_score= 0.929668474348\n",
      "fbeta_pred = 0.915435888818\n"
     ]
    }
   ],
   "source": [
    "print(model1.evaluate(trX,trY,verbose=2))\n",
    "trP = model1.predict(trX, batch_size=512)\n",
    "print(trY.shape)\n",
    "print(trP.shape)\n",
    "print('fbeta_score=',fbeta_score(trY, np.array(trP) > 0.2, beta=2, average='samples'))\n",
    "print('fbeta_pred =',K.get_value(fbeta_pred(trY.astype(np.float64),trP.astype(np.float64))))"
   ]
  },
  {
   "cell_type": "code",
   "execution_count": null,
   "metadata": {
    "collapsed": false,
    "deletable": true,
    "editable": true
   },
   "outputs": [],
   "source": []
  },
  {
   "cell_type": "code",
   "execution_count": 75,
   "metadata": {
    "collapsed": false,
    "deletable": true,
    "editable": true
   },
   "outputs": [],
   "source": [
    "resAll = resAll+result"
   ]
  },
  {
   "cell_type": "code",
   "execution_count": 40,
   "metadata": {
    "collapsed": false,
    "deletable": true,
    "editable": true
   },
   "outputs": [],
   "source": [
    "#512*64*58*58\n",
    "#model1.summary()"
   ]
  },
  {
   "cell_type": "code",
   "execution_count": 132,
   "metadata": {
    "collapsed": false,
    "deletable": true,
    "editable": true
   },
   "outputs": [
    {
     "data": {
      "image/png": "[encoded data removed]",
      "text/plain": [
       "<matplotlib.figure.Figure at 0x7f0c11762f10>"
      ]
     },
     "metadata": {},
     "output_type": "display_data"
    },
    {
     "data": {
      "image/png": "[encoded data removed]",
      "text/plain": [
       "<matplotlib.figure.Figure at 0x7f082aeca9d0>"
      ]
     },
     "metadata": {},
     "output_type": "display_data"
    },
    {
     "data": {
      "image/png": "[encoded data removed]",
      "text/plain": [
       "<matplotlib.figure.Figure at 0x7f082ae05a90>"
      ]
     },
     "metadata": {},
     "output_type": "display_data"
    },
    {
     "data": {
      "text/plain": [
       "array([['0.886688977254', '0.870056623762', '8 64 256 4096 0 256 0'],\n",
       "       ['0.886688977254', '0.870056623762', '8 64 256 4096 0 256 0']], \n",
       "      dtype='|S32')"
      ]
     },
     "execution_count": 132,
     "metadata": {},
     "output_type": "execute_result"
    }
   ],
   "source": [
    "legenda = []\n",
    "temp1, temp2 = [], []\n",
    "fig = plt.figure()\n",
    "fig.set_size_inches(15, 4)\n",
    "for ii in result :\n",
    "    plt.plot(ii[1].history['fbeta_pred']);\n",
    "    #plt.plot(ii[1].history['val_fbeta_pred']);\n",
    "    legenda.append(' '.join([str(iii) for iii in ii[0]]))\n",
    "    #temp1.append(max(ii[1].history['fbeta_pred']))\n",
    "    #temp2.append(max(ii[1].history['val_fbeta_pred']))\n",
    "    temp1.append(ii[1].history['fbeta_pred'][-1])\n",
    "    temp2.append(ii[1].history['val_fbeta_pred'][-1])\n",
    "#plt.legend(legenda)\n",
    "plt.show()\n",
    "fig = plt.figure()\n",
    "fig.set_size_inches(15, 4)\n",
    "for ii in result :\n",
    "    #plt.plot(ii[1].history['fbeta_pred']);\n",
    "    plt.plot(ii[1].history['val_fbeta_pred']);\n",
    "    legenda.append(' '.join([str(iii) for iii in ii[0]]))\n",
    "    #temp1.append(max(ii[1].history['fbeta_pred']))\n",
    "    #temp2.append(max(ii[1].history['val_fbeta_pred']))\n",
    "    temp1.append(ii[1].history['fbeta_pred'][-1])\n",
    "    temp2.append(ii[1].history['val_fbeta_pred'][-1])\n",
    "#plt.legend(legenda)\n",
    "plt.show()\n",
    "fig = plt.figure()\n",
    "fig.set_size_inches(15, 4)\n",
    "plt.plot(np.array([temp1,temp2]).T)\n",
    "plt.show()\n",
    "\n",
    "np.array([temp1,temp2,legenda]).T"
   ]
  },
  {
   "cell_type": "code",
   "execution_count": 66,
   "metadata": {
    "collapsed": false,
    "deletable": true,
    "editable": true
   },
   "outputs": [
    {
     "name": "stdout",
     "output_type": "stream",
     "text": [
      "time.begin : 2017-05-17 05:14:18.750447\n",
      "Train on 32383 samples, validate on 8096 samples\n",
      "Epoch 1/100\n",
      "24s - loss: 5.5929 - fbeta_pred: 0.6408 - val_loss: 5.4431 - val_fbeta_pred: 0.7480\n",
      "Epoch 2/100\n",
      "24s - loss: 5.2194 - fbeta_pred: 0.7692 - val_loss: 5.3803 - val_fbeta_pred: 0.7833\n",
      "Epoch 3/100\n",
      "24s - loss: 5.0939 - fbeta_pred: 0.7881 - val_loss: 5.2377 - val_fbeta_pred: 0.7989\n",
      "Epoch 4/100\n",
      "24s - loss: 5.0156 - fbeta_pred: 0.7980 - val_loss: 5.1082 - val_fbeta_pred: 0.7989\n",
      "Epoch 5/100\n",
      "24s - loss: 4.9826 - fbeta_pred: 0.7998 - val_loss: 5.0409 - val_fbeta_pred: 0.8102\n",
      "Epoch 6/100\n",
      "24s - loss: 4.8825 - fbeta_pred: 0.8118 - val_loss: 4.9103 - val_fbeta_pred: 0.8306\n",
      "Epoch 7/100\n",
      "24s - loss: 4.8288 - fbeta_pred: 0.8173 - val_loss: 4.8410 - val_fbeta_pred: 0.8255\n",
      "Epoch 8/100\n",
      "24s - loss: 4.8034 - fbeta_pred: 0.8163 - val_loss: 4.8116 - val_fbeta_pred: 0.8364\n",
      "Epoch 9/100\n",
      "24s - loss: 4.7672 - fbeta_pred: 0.8225 - val_loss: 4.8060 - val_fbeta_pred: 0.8298\n",
      "Epoch 10/100\n",
      "24s - loss: 4.7304 - fbeta_pred: 0.8262 - val_loss: 4.7441 - val_fbeta_pred: 0.8438\n",
      "Epoch 11/100\n",
      "24s - loss: 4.7176 - fbeta_pred: 0.8303 - val_loss: 4.7971 - val_fbeta_pred: 0.8351\n",
      "Epoch 12/100\n",
      "24s - loss: 4.7006 - fbeta_pred: 0.8333 - val_loss: 4.7293 - val_fbeta_pred: 0.8433\n",
      "Epoch 13/100\n",
      "24s - loss: 4.6742 - fbeta_pred: 0.8349 - val_loss: 4.7384 - val_fbeta_pred: 0.8442\n",
      "Epoch 14/100\n",
      "24s - loss: 4.6822 - fbeta_pred: 0.8343 - val_loss: 4.7841 - val_fbeta_pred: 0.8446\n",
      "Epoch 15/100\n",
      "24s - loss: 4.6473 - fbeta_pred: 0.8388 - val_loss: 4.7214 - val_fbeta_pred: 0.8441\n",
      "Epoch 16/100\n",
      "24s - loss: 4.6268 - fbeta_pred: 0.8391 - val_loss: 4.7034 - val_fbeta_pred: 0.8488\n",
      "Epoch 17/100\n",
      "24s - loss: 4.6169 - fbeta_pred: 0.8390 - val_loss: 4.7056 - val_fbeta_pred: 0.8487\n",
      "Epoch 18/100\n",
      "24s - loss: 4.6155 - fbeta_pred: 0.8377 - val_loss: 4.6836 - val_fbeta_pred: 0.8534\n",
      "Epoch 19/100\n",
      "24s - loss: 4.5887 - fbeta_pred: 0.8416 - val_loss: 4.6989 - val_fbeta_pred: 0.8454\n",
      "Epoch 20/100\n",
      "24s - loss: 4.5841 - fbeta_pred: 0.8422 - val_loss: 4.6887 - val_fbeta_pred: 0.8508\n",
      "Epoch 21/100\n",
      "24s - loss: 4.5653 - fbeta_pred: 0.8426 - val_loss: 4.7021 - val_fbeta_pred: 0.8405\n",
      "Epoch 22/100\n",
      "24s - loss: 4.5566 - fbeta_pred: 0.8416 - val_loss: 4.7024 - val_fbeta_pred: 0.8422\n",
      "Epoch 23/100\n",
      "24s - loss: 4.5434 - fbeta_pred: 0.8430 - val_loss: 4.7027 - val_fbeta_pred: 0.8455\n",
      "Epoch 24/100\n",
      "24s - loss: 4.5292 - fbeta_pred: 0.8443 - val_loss: 4.7095 - val_fbeta_pred: 0.8481\n",
      "Epoch 25/100\n",
      "24s - loss: 4.5120 - fbeta_pred: 0.8447 - val_loss: 4.6724 - val_fbeta_pred: 0.8473\n",
      "Epoch 26/100\n",
      "24s - loss: 4.4981 - fbeta_pred: 0.8455 - val_loss: 4.7103 - val_fbeta_pred: 0.8564\n",
      "Epoch 27/100\n",
      "24s - loss: 4.4693 - fbeta_pred: 0.8485 - val_loss: 4.7113 - val_fbeta_pred: 0.8500\n",
      "Epoch 28/100\n",
      "24s - loss: 4.4817 - fbeta_pred: 0.8462 - val_loss: 4.7559 - val_fbeta_pred: 0.8393\n",
      "Epoch 29/100\n",
      "24s - loss: 4.4689 - fbeta_pred: 0.8467 - val_loss: 4.7197 - val_fbeta_pred: 0.8451\n",
      "Epoch 30/100\n",
      "24s - loss: 4.4475 - fbeta_pred: 0.8479 - val_loss: 4.7357 - val_fbeta_pred: 0.8395\n",
      "Epoch 31/100\n",
      "24s - loss: 4.4285 - fbeta_pred: 0.8485 - val_loss: 4.7483 - val_fbeta_pred: 0.8310\n",
      "Epoch 32/100\n",
      "24s - loss: 4.4318 - fbeta_pred: 0.8463 - val_loss: 4.7434 - val_fbeta_pred: 0.8366\n",
      "Epoch 33/100\n",
      "24s - loss: 4.4127 - fbeta_pred: 0.8487 - val_loss: 4.7196 - val_fbeta_pred: 0.8430\n",
      "time.end   : 2017-05-17 05:27:54.386031\n"
     ]
    }
   ],
   "source": [
    "print('time.begin :',datetime.datetime.now())\n",
    "#hist_old=hist.history\n",
    "early_stopping = EarlyStopping(monitor='val_loss', patience=7)\n",
    "hist = model.fit(trX,trY,\n",
    "         epochs=100, #10,\n",
    "         batch_size=256,\n",
    "         validation_split=0.20,\n",
    "         callbacks=[early_stopping],\n",
    "         #class_weight=rrd,\n",
    "         verbose=2\n",
    "         )\n",
    "        #samples_per_epoch=200)\n",
    "        #validation_data=validation_generator,\n",
    "        #initial_epoch=start,\n",
    "        #nb_val_samples=2048\n",
    "         #)\n",
    "print('time.end   :',datetime.datetime.now())"
   ]
  },
  {
   "cell_type": "code",
   "execution_count": 30,
   "metadata": {
    "collapsed": true,
    "deletable": true,
    "editable": true
   },
   "outputs": [],
   "source": [
    "model = model1"
   ]
  },
  {
   "cell_type": "code",
   "execution_count": 79,
   "metadata": {
    "collapsed": false,
    "deletable": true,
    "editable": true
   },
   "outputs": [],
   "source": [
    "save_model(model,'../Data-Keras/train-model-2D-2-v2-all.h5')\n",
    "model.save_weights('../Data-Keras/train-model-2D-2-v2-weights.h5')  # save weights after training"
   ]
  },
  {
   "cell_type": "code",
   "execution_count": 51,
   "metadata": {
    "collapsed": false,
    "deletable": true,
    "editable": true
   },
   "outputs": [
    {
     "name": "stdout",
     "output_type": "stream",
     "text": [
      "[4.6118634846927931, 0.86373419225261561]\n",
      "(40479, 17)\n",
      "(40479, 17)\n",
      "fbeta_score= 0.869308013872\n",
      "fbeta_pred = 0.863331963306\n"
     ]
    }
   ],
   "source": [
    "print(model.evaluate(trX,trY,verbose=2))\n",
    "trP = model.predict(trX, batch_size=128)\n",
    "print(trY.shape)\n",
    "print(trP.shape)\n",
    "print('fbeta_score=',fbeta_score(trY, np.array(trP) > 0.2, beta=2, average='samples'))\n",
    "print('fbeta_pred =',K.get_value(fbeta_pred(trY.astype(np.float64),trP.astype(np.float64))))"
   ]
  },
  {
   "cell_type": "code",
   "execution_count": 45,
   "metadata": {
    "collapsed": false,
    "deletable": true,
    "editable": true
   },
   "outputs": [
    {
     "name": "stdout",
     "output_type": "stream",
     "text": [
      "[4.5661148273054595, 0.85369781466228234]\n",
      "(40479, 17)\n",
      "(40479, 17)\n",
      "fbeta_score= 0.868993583256\n",
      "fbeta_pred = 0.853273634755\n"
     ]
    }
   ],
   "source": [
    "print(model.evaluate(trX,trY,verbose=2))\n",
    "trP = model.predict(trX, batch_size=512)\n",
    "print(trY.shape)\n",
    "print(trP.shape)\n",
    "print('fbeta_score=',fbeta_score(trY, np.array(trP) > 0.2, beta=2, average='samples'))\n",
    "print('fbeta_pred =',K.get_value(fbeta_pred(trY.astype(np.float64),trP.astype(np.float64))))"
   ]
  },
  {
   "cell_type": "code",
   "execution_count": 286,
   "metadata": {
    "collapsed": false,
    "deletable": true,
    "editable": true
   },
   "outputs": [],
   "source": [
    "#hist_old=hist.history"
   ]
  },
  {
   "cell_type": "code",
   "execution_count": null,
   "metadata": {
    "collapsed": true,
    "deletable": true,
    "editable": true
   },
   "outputs": [],
   "source": []
  },
  {
   "cell_type": "code",
   "execution_count": null,
   "metadata": {
    "collapsed": false,
    "deletable": true,
    "editable": true
   },
   "outputs": [],
   "source": []
  },
  {
   "cell_type": "code",
   "execution_count": null,
   "metadata": {
    "collapsed": false,
    "deletable": true,
    "editable": true
   },
   "outputs": [],
   "source": []
  },
  {
   "cell_type": "code",
   "execution_count": 31,
   "metadata": {
    "collapsed": false,
    "deletable": true,
    "editable": true
   },
   "outputs": [
    {
     "name": "stdout",
     "output_type": "stream",
     "text": [
      "2017-05-20 05:22:01.009723 0 --> 70 0.758419290079 [0.75741733368803943, 0.75841929007857778, 0.75785138394714635]\n",
      "2017-05-20 05:22:23.972821 1 --> 78 0.982638483662 [0.98262473453994426, 0.98263848366246676, 0.98259679666709321]\n",
      "2017-05-20 05:22:52.632376 2 --> 58 0.847226297632 [0.8469111862002846, 0.84722629763157453, 0.84682213028656683]\n",
      "2017-05-20 05:23:27.033547 3 --> 78 0.97604678248 [0.97585536488705449, 0.97604678247993626, 0.97586138532621902]\n",
      "2017-05-20 05:24:07.288213 4 --> 39 0.78729476795 [0.78664609854346335, 0.78729476795032916, 0.78707371492899492]\n",
      "2017-05-20 05:24:52.980975 5 --> 42 0.789568102568 [0.78871126051941221, 0.78956810256787635, 0.78669767415698355]\n",
      "2017-05-20 05:25:44.022237 6 --> 47 0.830831644043 [0.8305167161398419, 0.83083164404299403, 0.83015444819651052]\n",
      "2017-05-20 05:26:40.712293 7 --> 45 0.738016164169 [0.73686966073098015, 0.73801616416924898, 0.73773213859960107]\n",
      "2017-05-20 05:27:43.679293 8 --> 26 0.676190170231 [0.6690774577597115, 0.6761901702314258, 0.65439641541326066]\n",
      "2017-05-20 05:28:52.203737 9 --> 99 0.860687873635 [0.84540789671187133, 0.86068787363532673]\n",
      "2017-05-20 05:30:06.360727 10 --> 53 0.964034283738 [0.96339687009527564, 0.96403428373772715, 0.96364205060652686]\n",
      "2017-05-20 05:31:26.352144 11 --> 30 0.900537376612 [0.89285689393748568, 0.90053737661152566, 0.90053737661152566]\n",
      "2017-05-20 05:32:51.552201 12 --> 27 0.652844152686 [0.64595635259618922, 0.6528441526860862, 0.65053736636295179]\n",
      "2017-05-20 05:34:22.405562 13 --> 24 0.863599425241 [0.86179482608466784, 0.86359942524081812, 0.85725979475579062]\n",
      "2017-05-20 05:35:59.177670 14 --> 14 0.370370055203 [0.3600540358709392, 0.37037005520335736, 0.35595995253798635]\n",
      "2017-05-20 05:37:41.803909 15 --> 22 0.683823292523 [0.67335220282476826, 0.68382329252278806, 0.67567543551442677]\n",
      "2017-05-20 05:39:29.432537 16 --> 14 0.589171696773 [0.56748439106677917, 0.58917169677281178, 0.5851060891681884]\n"
     ]
    }
   ],
   "source": [
    "rr, rrx = [], []; trP = model.predict(trX, batch_size=128)\n",
    "for i in range(trP.shape[1]) :\n",
    "    xx = [];\n",
    "    trYY = trY[:,i].astype(np.float64)\n",
    "    trPY = trP[:,i]\n",
    "    for ii in range(100) :\n",
    "        trPP = (trPY>0.01*ii).astype(np.float64)\n",
    "        #x = fbeta_score(trY[:,0], np.array(trP[:,0] > 0.1*ii), beta=2, average='samples')\n",
    "        x = K.get_value(fbeta_pred(trYY,trPP))\n",
    "        xx.append(x)\n",
    "    rrr = np.array(xx).argmax();\n",
    "    rr.append(rrr)\n",
    "    rrx.append(xx[rrr])\n",
    "    print(datetime.datetime.now(),i,'-->',rrr,xx[rrr],xx[(rrr-1):(rrr+2)])\n",
    "    #print(xx);\n",
    "    #plt.plot(np.array(xx)); plt.show()\n",
    "trM = np.array(rr)/100.0;"
   ]
  },
  {
   "cell_type": "code",
   "execution_count": null,
   "metadata": {
    "collapsed": false,
    "deletable": true,
    "editable": true
   },
   "outputs": [],
   "source": []
  },
  {
   "cell_type": "code",
   "execution_count": null,
   "metadata": {
    "collapsed": false,
    "deletable": true,
    "editable": true
   },
   "outputs": [],
   "source": []
  },
  {
   "cell_type": "code",
   "execution_count": 32,
   "metadata": {
    "collapsed": false,
    "deletable": true,
    "editable": true
   },
   "outputs": [],
   "source": [
    "save_model(model,  '../Data-Keras/train-model-2D-2-v2-loop-all.h5')\n",
    "model.save_weights('../Data-Keras/train-model-2D-2-v2-loop-weights.h5')  # save weights after training"
   ]
  },
  {
   "cell_type": "code",
   "execution_count": 26,
   "metadata": {
    "collapsed": false,
    "deletable": true,
    "editable": true
   },
   "outputs": [],
   "source": [
    "model.load_weights('../Data-Keras/train-model-2D-2-v2-loop-weights.h5') ## verify load weights from v1 version"
   ]
  },
  {
   "cell_type": "code",
   "execution_count": 27,
   "metadata": {
    "collapsed": false,
    "deletable": true,
    "editable": true
   },
   "outputs": [],
   "source": [
    "# Forming output dataset for predicting --> trOX, trOY\n",
    "del(trX)\n",
    "del(trY)"
   ]
  },
  {
   "cell_type": "code",
   "execution_count": null,
   "metadata": {
    "collapsed": false,
    "deletable": true,
    "editable": true
   },
   "outputs": [],
   "source": []
  },
  {
   "cell_type": "code",
   "execution_count": 34,
   "metadata": {
    "collapsed": false,
    "deletable": true,
    "editable": true
   },
   "outputs": [
    {
     "name": "stdout",
     "output_type": "stream",
     "text": [
      "61191\n",
      "2017-05-20 05:46:19.287685 61191 61191\n",
      "2017-05-20 05:46:38.218814 \t 0 \t 5000 \t test_14523.jpg \t \n",
      "2017-05-20 05:46:51.023731 \t 1 \t 10000 \t test_19029.jpg \t (10000, 17)\n",
      "2017-05-20 05:46:58.884016 \t 1 \t 15000 \t test_23524.jpg \t (10000, 17)\n",
      "2017-05-20 05:47:09.507695 \t 2 \t 20000 \t test_28015.jpg \t (20000, 17)\n",
      "2017-05-20 05:47:16.475888 \t 2 \t 25000 \t test_32520.jpg \t (20000, 17)\n",
      "2017-05-20 05:47:26.837760 \t 3 \t 30000 \t test_37026.jpg \t (30000, 17)\n",
      "2017-05-20 05:47:33.858034 \t 3 \t 35000 \t test_4908.jpg \t (30000, 17)\n",
      "2017-05-20 05:47:44.019579 \t 4 \t 40000 \t test_9402.jpg \t (40000, 17)\n",
      "2017-05-20 05:47:51.298769 \t 4 \t 45000 \t file_13913.jpg \t (40000, 17)\n",
      "2017-05-20 05:48:01.555641 \t 5 \t 50000 \t file_18419.jpg \t (50000, 17)\n",
      "2017-05-20 05:48:24.538867 \t 5 \t 55000 \t file_4564.jpg \t (50000, 17)\n",
      "2017-05-20 05:48:40.785101 \t 6 \t 60000 \t file_892.jpg \t (60000, 17)\n",
      "2017-05-20 05:48:43.863555\n"
     ]
    }
   ],
   "source": [
    "#nameAsk = os.listdir(teDirI); print(len(nameAsk))\n",
    "nameAsk = os.listdir(teDirJPG); print(len(nameAsk))\n",
    "trOX, trOY, i, ii, size = [], [], 0, 0, len(nameAsk)\n",
    "print(datetime.datetime.now(),len(nameAsk),size)\n",
    "for nn in nameAsk[0:size] :\n",
    "    #nf = os.path.join(teDirTIF,nn);\n",
    "    nf = os.path.join(teDirJPG,nn);\n",
    "    nx = formImExt(nf,resize=(64,64))\n",
    "    if (nx is not None) :\n",
    "        trOX.append(nx)\n",
    "        trOY.append(nn)\n",
    "    i += 1\n",
    "    if (i%10000==0) and (i>1) :\n",
    "        if (ii==0) :\n",
    "            trOX = np.array(trOX); trOX = trOX / 255.0\n",
    "            trP = model.predict(trOX, batch_size=512); \n",
    "        else :\n",
    "            trOX = np.array(trOX);  trOX = trOX / 255.0\n",
    "            trP = np.vstack([trP,model.predict(trOX, batch_size=512)]); \n",
    "        trOX,ii = [],ii+1;\n",
    "    if (i%5000==0) : print(datetime.datetime.now(),\"\\t\",ii,'\\t',i,\"\\t\",nn,'\\t',(trP.shape if ii>0 else \"\"))\n",
    "\n",
    "if (len(trOX)>0) :\n",
    "    if (ii==0) :\n",
    "        trOX = np.array(trOX); trOX = trOX / 255.0\n",
    "        trP = model.predict(trOX, batch_size=512); \n",
    "    else :\n",
    "        trOX = np.array(trOX); trOX = trOX / 255.0\n",
    "        trP = np.vstack([trP,model.predict(trOX, batch_size=512)]); \n",
    "    trOX,ii = [],ii+1;\n",
    "    \n",
    "print(datetime.datetime.now())\n",
    "\n",
    "#assert (size!=len(trOY)), \"Wrong files {} != {}\".format(size,len(trOY))"
   ]
  },
  {
   "cell_type": "code",
   "execution_count": 36,
   "metadata": {
    "collapsed": false,
    "deletable": true,
    "editable": true
   },
   "outputs": [
    {
     "name": "stdout",
     "output_type": "stream",
     "text": [
      "61191 (61191, 17) (61191,)\n"
     ]
    }
   ],
   "source": [
    "#trOX = np.array(trOX);\n",
    "trOY = np.array([os.path.splitext(x)[0] for x in trOY]);\n",
    "print(len(nameAsk),trP.shape,trOY.shape)"
   ]
  },
  {
   "cell_type": "code",
   "execution_count": null,
   "metadata": {
    "collapsed": true,
    "deletable": true,
    "editable": true
   },
   "outputs": [],
   "source": []
  },
  {
   "cell_type": "code",
   "execution_count": null,
   "metadata": {
    "collapsed": true,
    "deletable": true,
    "editable": true
   },
   "outputs": [],
   "source": [
    "# Saving & Loading"
   ]
  },
  {
   "cell_type": "code",
   "execution_count": 26,
   "metadata": {
    "collapsed": false,
    "deletable": true,
    "editable": true
   },
   "outputs": [],
   "source": [
    "np.save('../Data-Keras/test-basin-2D-64x64-OX-tif-v2.npy',trOX)\n",
    "np.save('../Data-Keras/test-basin-2D-64x64-OY-tif-v2.npy',trOY)"
   ]
  },
  {
   "cell_type": "code",
   "execution_count": 27,
   "metadata": {
    "collapsed": false,
    "deletable": true,
    "editable": true
   },
   "outputs": [
    {
     "name": "stdout",
     "output_type": "stream",
     "text": [
      "(61191, 32, 32, 6) (61191,)\n"
     ]
    }
   ],
   "source": [
    "trOX = np.load('../Data-Keras/test-basin-2D-64x64-OX-tif-v2.npy')\n",
    "trOY = np.load('../Data-Keras/test-basin-2D-64x64-OY-tif-v2.npy')\n",
    "print(trOX.shape,trOY.shape)"
   ]
  },
  {
   "cell_type": "code",
   "execution_count": 37,
   "metadata": {
    "collapsed": false,
    "deletable": true,
    "editable": true
   },
   "outputs": [
    {
     "data": {
      "text/plain": [
       "{0: 0.75841929007857778,\n",
       " 1: 0.98263848366246676,\n",
       " 2: 0.84722629763157453,\n",
       " 3: 0.97604678247993626,\n",
       " 4: 0.78729476795032916,\n",
       " 5: 0.78956810256787635,\n",
       " 6: 0.83083164404299403,\n",
       " 7: 0.73801616416924898,\n",
       " 8: 0.6761901702314258,\n",
       " 9: 0.86068787363532673,\n",
       " 10: 0.96403428373772715,\n",
       " 11: 0.90053737661152566,\n",
       " 12: 0.6528441526860862,\n",
       " 13: 0.86359942524081812,\n",
       " 14: 0.37037005520335736,\n",
       " 15: 0.68382329252278806,\n",
       " 16: 0.58917169677281178}"
      ]
     },
     "execution_count": 37,
     "metadata": {},
     "output_type": "execute_result"
    }
   ],
   "source": [
    "rrx\n",
    "rrd=dict()\n",
    "for i in range(len(rrx)) :\n",
    "    rrd[i]=rrx[i]\n",
    "rrd"
   ]
  },
  {
   "cell_type": "code",
   "execution_count": 258,
   "metadata": {
    "collapsed": true,
    "deletable": true,
    "editable": true
   },
   "outputs": [],
   "source": [
    "#Forming result"
   ]
  },
  {
   "cell_type": "code",
   "execution_count": 30,
   "metadata": {
    "collapsed": false,
    "deletable": true,
    "editable": true
   },
   "outputs": [
    {
     "data": {
      "text/plain": [
       "((61191, 17), array([  6.56801313e-02,   7.46541142e-01,   2.32726157e-01,\n",
       "          9.55386758e-01,   1.95543230e-01,   9.11955476e-01,\n",
       "          8.89197826e-01,   2.53069662e-02,   1.54045611e-05,\n",
       "          7.43342913e-04,   6.54759035e-02,   6.17289741e-04,\n",
       "          8.51887614e-02,   2.95602629e-04,   2.64362683e-07,\n",
       "          1.03749386e-04,   2.92145728e-07], dtype=float32))"
      ]
     },
     "execution_count": 30,
     "metadata": {},
     "output_type": "execute_result"
    }
   ],
   "source": [
    "#trP = model.predict(trOX, batch_size=512); \n",
    "trP.shape, trP[-1]"
   ]
  },
  {
   "cell_type": "code",
   "execution_count": 38,
   "metadata": {
    "collapsed": false,
    "deletable": true,
    "editable": true
   },
   "outputs": [
    {
     "name": "stdout",
     "output_type": "stream",
     "text": [
      "(17,)\n",
      "[3, 10, 0, 9] \n",
      " ['haze', 'primary', 'agriculture', 'clear', 'water', 'habitation', 'road', 'cultivation', 'slash_burn', 'cloudy', 'partly_cloudy', 'conventional_mine', 'bare_ground', 'artisinal_mine', 'blooming', 'selective_logging', 'blow_down'] \n",
      " [2.0, 0.5, 0.5, 2.0, 0.5, 0.5, 0.5, 0.5, 0.5, 2.0, 2.0, 0.5, 0.5, 0.5, 0.5, 0.5, 0.5]\n"
     ]
    }
   ],
   "source": [
    "trM=np.array([0.0]*len(labels)); print(trM.shape)\n",
    "wr = [labels.index(i) for i in weather_labels];\n",
    "tt=trM; trM[:]=0.5\n",
    "trM[np.array(wr)] = 2.0\n",
    "print(wr,'\\n',labels,'\\n',trM.tolist())"
   ]
  },
  {
   "cell_type": "code",
   "execution_count": null,
   "metadata": {
    "collapsed": true,
    "deletable": true,
    "editable": true
   },
   "outputs": [],
   "source": []
  },
  {
   "cell_type": "code",
   "execution_count": 39,
   "metadata": {
    "collapsed": false,
    "deletable": true,
    "editable": true
   },
   "outputs": [
    {
     "name": "stdout",
     "output_type": "stream",
     "text": [
      "['test_0', 'clear primary'] \n",
      " ['file_20521', 'clear primary'] \n",
      " [ 2.   0.5  0.5  2.   0.5  0.5  0.5  0.5  0.5  2.   2.   0.5  0.5  0.5  0.5\n",
      "  0.5  0.5] [  1.63650557e-01   3.91220033e-01   1.36160061e-01   9.47374701e-01\n",
      "   9.09343541e-01   1.55211976e-02   3.13203782e-02   1.42206885e-02\n",
      "   8.06170846e-08   9.10553038e-01   7.85041321e-03   4.12757437e-08\n",
      "   6.71853591e-03   1.33155788e-06   7.46736941e-06   9.65268737e-06\n",
      "   7.95199711e-08]\n"
     ]
    }
   ],
   "source": [
    "#trP = model.predict(trX, batch_size=512); trP=K.get_value(trP)\n",
    "res = []\n",
    "\n",
    "for i in range(trP.shape[0]) :\n",
    "    trPP = [weather_labels[trP[i,wr].argmax()]] + [labels[ii] for ii in range(len(labels)) if (trP[i,ii]>trM[ii])];\n",
    "    pp   = ' '.join(trPP)\n",
    "    ##if (pp==\"\") : print(trY[i])\n",
    "    res.append([trOY[i],pp])\n",
    "\n",
    "res.sort(cmp=lambda x,y: cmp(int(x[0].partition('_')[2]),int(y[0].partition('_')[2])) if (x[0].partition('_')[0]==y[0].partition('_')[0]) else cmp(y[0].partition('_')[0],x[0].partition('_')[0]))\n",
    "#print(res[4:8],'\\n',res[-4:])\n",
    "print(res[0],'\\n',res[-1],'\\n',trM,trP[0])"
   ]
  },
  {
   "cell_type": "code",
   "execution_count": null,
   "metadata": {
    "collapsed": true,
    "deletable": true,
    "editable": true
   },
   "outputs": [],
   "source": []
  },
  {
   "cell_type": "code",
   "execution_count": 40,
   "metadata": {
    "collapsed": false,
    "deletable": true,
    "editable": true
   },
   "outputs": [
    {
     "name": "stdout",
     "output_type": "stream",
     "text": [
      "['haze', 'primary', 'agriculture', 'clear', 'water', 'habitation', 'road', 'cultivation', 'slash_burn', 'cloudy', 'partly_cloudy', 'conventional_mine', 'bare_ground', 'artisinal_mine', 'blooming', 'selective_logging', 'blow_down']\n"
     ]
    }
   ],
   "source": [
    "print(labels)\n",
    "#print(trM.tolist())\n",
    "#np.round(trP[4:11,:])"
   ]
  },
  {
   "cell_type": "code",
   "execution_count": 41,
   "metadata": {
    "collapsed": false,
    "deletable": true,
    "editable": true
   },
   "outputs": [
    {
     "name": "stdout",
     "output_type": "stream",
     "text": [
      "2017-05-20-05-51-18\n"
     ]
    }
   ],
   "source": [
    "rrr=pd.DataFrame(res,columns=['image_name','tags']); rrr.head(); \n",
    "suffixDT = (datetime.datetime.now()).strftime('%Y-%m-%d-%H-%M-%S'); print(suffixDT)\n",
    "rrr.to_csv('../Result/vss'+suffixDT+'.csv',index=False);"
   ]
  },
  {
   "cell_type": "code",
   "execution_count": null,
   "metadata": {
    "collapsed": true,
    "deletable": true,
    "editable": true
   },
   "outputs": [],
   "source": []
  },
  {
   "cell_type": "code",
   "execution_count": null,
   "metadata": {
    "collapsed": true,
    "deletable": true,
    "editable": true
   },
   "outputs": [],
   "source": []
  },
  {
   "cell_type": "code",
   "execution_count": null,
   "metadata": {
    "collapsed": true,
    "deletable": true,
    "editable": true
   },
   "outputs": [],
   "source": []
  },
  {
   "cell_type": "code",
   "execution_count": null,
   "metadata": {
    "collapsed": true,
    "deletable": true,
    "editable": true
   },
   "outputs": [],
   "source": []
  },
  {
   "cell_type": "code",
   "execution_count": null,
   "metadata": {
    "collapsed": true,
    "deletable": true,
    "editable": true
   },
   "outputs": [],
   "source": []
  },
  {
   "cell_type": "code",
   "execution_count": null,
   "metadata": {
    "collapsed": true,
    "deletable": true,
    "editable": true
   },
   "outputs": [],
   "source": [
    "#Garbages"
   ]
  },
  {
   "cell_type": "code",
   "execution_count": null,
   "metadata": {
    "collapsed": true,
    "deletable": true,
    "editable": true
   },
   "outputs": [],
   "source": [
    "#import pickle\n",
    "#type(resAll[0][1].epoch)\n",
    "#resAll[0][1].__dict__\n",
    "print(type(resAll))\n",
    "\n",
    "#resPic = [[aa[0],aa[1]['fbeta_pred'],aa[1].history['loss'],aa[1].history['val_fbeta_pred'],aa[1]['val_loss']] for aa in resAll]\n",
    "resPic = [[aa[0],aa[1].history['fbeta_pred'],aa[1].history['loss'],aa[1].history['val_fbeta_pred'],aa[1].history['val_loss']] for aa in resAll]; \n",
    "len(resPic); #resPic[0]\n",
    "\n",
    "xfile=open('../Data-Keras/resAll.pcl','wb')\n",
    "pickle.dump(resPic,xfile); xfile.close()\n",
    "xx=[]\n",
    "xfile=open('../Data-Keras/resAll.pcl','rb')\n",
    "xx=pickle.load(xfile);  xfile.close()\n",
    "len(resAll),len(xx) #, xx[0]"
   ]
  }
 ],
 "metadata": {
  "kernelspec": {
   "display_name": "Python 2",
   "language": "python",
   "name": "python2"
  },
  "language_info": {
   "codemirror_mode": {
    "name": "ipython",
    "version": 2
   },
   "file_extension": ".py",
   "mimetype": "text/x-python",
   "name": "python",
   "nbconvert_exporter": "python",
   "pygments_lexer": "ipython2",
   "version": "2.7.13"
  }
 },
 "nbformat": 4,
 "nbformat_minor": 2
}
