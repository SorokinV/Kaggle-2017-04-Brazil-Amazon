{
 "cells": [
  {
   "cell_type": "code",
   "execution_count": 1,
   "metadata": {
    "collapsed": true,
    "deletable": true,
    "editable": true
   },
   "outputs": [],
   "source": [
    "##\n",
    "## VGG16 и VGG19 проверка результативности (реализации взяты с github keras/application):\n",
    "##                  https://github.com/fchollet/keras/tree/master/keras/applications\n",
    "##\n",
    "## 2017-07-22\n",
    "##\n",
    "##  Подбор loss function и попытка выяснения: Почему у меня не шло обучение + плохо шло обучение.\n",
    "##\n",
    "##\n",
    "##\n",
    "##"
   ]
  },
  {
   "cell_type": "code",
   "execution_count": 2,
   "metadata": {
    "collapsed": false,
    "deletable": true,
    "editable": true
   },
   "outputs": [],
   "source": [
    "import sys,os,datetime,random\n",
    "import numpy as np\n",
    "import pandas as pd\n",
    "import matplotlib.pyplot as plt\n",
    "from sklearn.metrics import fbeta_score\n",
    "import sklearn.metrics as skm\n",
    "\n",
    "from __future__ import print_function"
   ]
  },
  {
   "cell_type": "code",
   "execution_count": 3,
   "metadata": {
    "collapsed": false,
    "deletable": true,
    "editable": true
   },
   "outputs": [
    {
     "name": "stdout",
     "output_type": "stream",
     "text": [
      "1.13.1\n",
      "0.19.2\n"
     ]
    }
   ],
   "source": [
    "print(np.__version__);\n",
    "print(pd.__version__);"
   ]
  },
  {
   "cell_type": "code",
   "execution_count": 4,
   "metadata": {
    "collapsed": false,
    "deletable": true,
    "editable": true
   },
   "outputs": [
    {
     "data": {
      "text/plain": [
       "'3.2.0'"
      ]
     },
     "execution_count": 4,
     "metadata": {},
     "output_type": "execute_result"
    }
   ],
   "source": [
    "import  cv2 as cv\n",
    "cv.__version__"
   ]
  },
  {
   "cell_type": "code",
   "execution_count": 5,
   "metadata": {
    "collapsed": false,
    "deletable": true,
    "editable": true
   },
   "outputs": [],
   "source": [
    "sys.path.append('../Python')\n",
    "from helper import paths_input, formImExt, formImHist\n",
    "from estimate import confusion_matrix, getConfusion, getRocAUC, getProb01, getProbX01, getTh, estimateResult"
   ]
  },
  {
   "cell_type": "code",
   "execution_count": 6,
   "metadata": {
    "collapsed": false,
    "deletable": true,
    "editable": true
   },
   "outputs": [
    {
     "name": "stderr",
     "output_type": "stream",
     "text": [
      "Using TensorFlow backend.\n"
     ]
    }
   ],
   "source": [
    "from keras.preprocessing.image import ImageDataGenerator, array_to_img, img_to_array, load_img\n",
    "from keras.models import Sequential,save_model,load_model, Model, Input\n",
    "from keras.layers import Convolution2D, MaxPooling2D, Convolution1D, MaxPooling1D\n",
    "from keras.layers import Activation, Dropout, Flatten, Dense, GlobalAveragePooling2D, GlobalMaxPooling2D\n",
    "from keras.layers import Conv2D\n",
    "\n",
    "from keras.applications.vgg19 import VGG19, preprocess_input\n",
    "\n",
    "from keras.layers.normalization import BatchNormalization\n",
    "import keras.optimizers\n",
    "from keras.callbacks import EarlyStopping,ReduceLROnPlateau,ModelCheckpoint\n",
    "import keras.backend as K"
   ]
  },
  {
   "cell_type": "code",
   "execution_count": 7,
   "metadata": {
    "collapsed": false,
    "deletable": true,
    "editable": true
   },
   "outputs": [
    {
     "data": {
      "text/plain": [
       "'2.0.6'"
      ]
     },
     "execution_count": 7,
     "metadata": {},
     "output_type": "execute_result"
    }
   ],
   "source": [
    "keras.__version__"
   ]
  },
  {
   "cell_type": "code",
   "execution_count": 8,
   "metadata": {
    "collapsed": true,
    "deletable": true,
    "editable": true
   },
   "outputs": [],
   "source": [
    "import keras.losses"
   ]
  },
  {
   "cell_type": "code",
   "execution_count": 9,
   "metadata": {
    "collapsed": false,
    "deletable": true,
    "editable": true
   },
   "outputs": [
    {
     "data": {
      "text/plain": [
       "('../Data/train-tif-v2',\n",
       " '../Data/test-tif-v2',\n",
       " '../Data/test-jpg-v2',\n",
       " '../Work/Train',\n",
       " '../Work/Test')"
      ]
     },
     "execution_count": 9,
     "metadata": {},
     "output_type": "execute_result"
    }
   ],
   "source": [
    "trLabels,trDirTIF,trDirJPG,teDirTIF,teDirJPG = paths_input()\n",
    "trDirI = trDirTIF\n",
    "teDirI = teDirTIF\n",
    "trWork, teWork = '../Work/Train', '../Work/Test'\n",
    "trDirI,teDirI, teDirJPG, trWork, teWork"
   ]
  },
  {
   "cell_type": "code",
   "execution_count": null,
   "metadata": {
    "collapsed": true,
    "deletable": true,
    "editable": true
   },
   "outputs": [],
   "source": []
  },
  {
   "cell_type": "code",
   "execution_count": 10,
   "metadata": {
    "collapsed": false,
    "deletable": true,
    "editable": true
   },
   "outputs": [
    {
     "data": {
      "text/html": [
       "<div>\n",
       "<table border=\"1\" class=\"dataframe\">\n",
       "  <thead>\n",
       "    <tr style=\"text-align: right;\">\n",
       "      <th></th>\n",
       "      <th>image_name</th>\n",
       "      <th>tags</th>\n",
       "    </tr>\n",
       "  </thead>\n",
       "  <tbody>\n",
       "    <tr>\n",
       "      <th>0</th>\n",
       "      <td>train_0</td>\n",
       "      <td>haze primary</td>\n",
       "    </tr>\n",
       "    <tr>\n",
       "      <th>1</th>\n",
       "      <td>train_1</td>\n",
       "      <td>agriculture clear primary water</td>\n",
       "    </tr>\n",
       "    <tr>\n",
       "      <th>2</th>\n",
       "      <td>train_2</td>\n",
       "      <td>clear primary</td>\n",
       "    </tr>\n",
       "    <tr>\n",
       "      <th>3</th>\n",
       "      <td>train_3</td>\n",
       "      <td>clear primary</td>\n",
       "    </tr>\n",
       "    <tr>\n",
       "      <th>4</th>\n",
       "      <td>train_4</td>\n",
       "      <td>agriculture clear habitation primary road</td>\n",
       "    </tr>\n",
       "  </tbody>\n",
       "</table>\n",
       "</div>"
      ],
      "text/plain": [
       "  image_name                                       tags\n",
       "0    train_0                               haze primary\n",
       "1    train_1            agriculture clear primary water\n",
       "2    train_2                              clear primary\n",
       "3    train_3                              clear primary\n",
       "4    train_4  agriculture clear habitation primary road"
      ]
     },
     "execution_count": 10,
     "metadata": {},
     "output_type": "execute_result"
    }
   ],
   "source": [
    "labels_df = pd.read_csv(trLabels)\n",
    "labels_df.head()"
   ]
  },
  {
   "cell_type": "code",
   "execution_count": 11,
   "metadata": {
    "collapsed": true,
    "deletable": true,
    "editable": true
   },
   "outputs": [],
   "source": [
    "# Build list with unique labels\n",
    "label_list = []\n",
    "for tag_str in labels_df.tags.values:\n",
    "    labels = tag_str.split(' ')\n",
    "    for label in labels:\n",
    "        if label not in label_list:\n",
    "            label_list.append(label)"
   ]
  },
  {
   "cell_type": "code",
   "execution_count": 12,
   "metadata": {
    "collapsed": false,
    "deletable": true,
    "editable": true
   },
   "outputs": [],
   "source": [
    "# Add onehot features for every label\n",
    "for label in label_list:\n",
    "    labels_df[label] = labels_df['tags'].apply(lambda x: 1 if label in x.split(' ') else 0)\n",
    "    #labels_df[label].astype(np.int8)\n",
    "# Display head\n",
    "#labels_df.head()\n"
   ]
  },
  {
   "cell_type": "code",
   "execution_count": 13,
   "metadata": {
    "collapsed": false,
    "deletable": true,
    "editable": true
   },
   "outputs": [],
   "source": [
    "weather_labels = ['clear', 'partly_cloudy', 'haze', 'cloudy']\n",
    "land_labels = ['primary', 'agriculture', 'water', 'cultivation', 'habitation' ]\n",
    "rare_labels = [l for l in label_list if labels_df[label_list].sum()[l] < 2000]\n",
    "#rare_labels              "
   ]
  },
  {
   "cell_type": "code",
   "execution_count": null,
   "metadata": {
    "collapsed": false,
    "deletable": true,
    "editable": true
   },
   "outputs": [],
   "source": []
  },
  {
   "cell_type": "code",
   "execution_count": 14,
   "metadata": {
    "collapsed": false,
    "deletable": true,
    "editable": true
   },
   "outputs": [
    {
     "data": {
      "text/plain": [
       "array([[1, 1, 0, 0, 0, 0, 0, 0, 0, 0, 0, 0, 0, 0, 0, 0, 0],\n",
       "       [0, 1, 1, 1, 1, 0, 0, 0, 0, 0, 0, 0, 0, 0, 0, 0, 0],\n",
       "       [0, 1, 0, 1, 0, 0, 0, 0, 0, 0, 0, 0, 0, 0, 0, 0, 0],\n",
       "       [0, 1, 0, 1, 0, 0, 0, 0, 0, 0, 0, 0, 0, 0, 0, 0, 0],\n",
       "       [0, 1, 1, 1, 0, 1, 1, 0, 0, 0, 0, 0, 0, 0, 0, 0, 0],\n",
       "       [1, 1, 0, 0, 1, 0, 0, 0, 0, 0, 0, 0, 0, 0, 0, 0, 0]])"
      ]
     },
     "execution_count": 14,
     "metadata": {},
     "output_type": "execute_result"
    }
   ],
   "source": [
    "labels = label_list; #weather_labels;\n",
    "nameList =labels_df[labels_df[labels].sum(axis=1)>0].image_name.tolist(); len(nameList)\n",
    "labelList=labels_df[labels_df[labels].sum(axis=1)>0][labels].as_matrix();\n",
    "labelList[:6,:]\n",
    "#labels_df.head()"
   ]
  },
  {
   "cell_type": "code",
   "execution_count": null,
   "metadata": {
    "collapsed": true,
    "deletable": true,
    "editable": true
   },
   "outputs": [],
   "source": []
  },
  {
   "cell_type": "code",
   "execution_count": 15,
   "metadata": {
    "collapsed": false,
    "deletable": true,
    "editable": true
   },
   "outputs": [
    {
     "data": {
      "text/plain": [
       "449"
      ]
     },
     "execution_count": 15,
     "metadata": {},
     "output_type": "execute_result"
    }
   ],
   "source": [
    "len(labels_df.tags.unique())"
   ]
  },
  {
   "cell_type": "code",
   "execution_count": null,
   "metadata": {
    "collapsed": true,
    "deletable": true,
    "editable": true
   },
   "outputs": [],
   "source": []
  },
  {
   "cell_type": "code",
   "execution_count": null,
   "metadata": {
    "collapsed": true,
    "deletable": true,
    "editable": true
   },
   "outputs": [],
   "source": []
  },
  {
   "cell_type": "code",
   "execution_count": 16,
   "metadata": {
    "collapsed": false,
    "deletable": true,
    "editable": true
   },
   "outputs": [],
   "source": [
    "#!rm ../Temp/Batch/*.npy"
   ]
  },
  {
   "cell_type": "code",
   "execution_count": 17,
   "metadata": {
    "collapsed": false,
    "deletable": true,
    "editable": true
   },
   "outputs": [
    {
     "ename": "NameError",
     "evalue": "name 'trX' is not defined",
     "output_type": "error",
     "traceback": [
      "\u001b[0;31m---------------------------------------------------------------------------\u001b[0m",
      "\u001b[0;31mNameError\u001b[0m                                 Traceback (most recent call last)",
      "\u001b[0;32m<ipython-input-17-b1756ed455a4>\u001b[0m in \u001b[0;36m<module>\u001b[0;34m()\u001b[0m\n\u001b[0;32m----> 1\u001b[0;31m \u001b[0;32mdel\u001b[0m \u001b[0mtrX\u001b[0m\u001b[0;34m,\u001b[0m \u001b[0mtrY\u001b[0m\u001b[0;34m\u001b[0m\u001b[0m\n\u001b[0m",
      "\u001b[0;31mNameError\u001b[0m: name 'trX' is not defined"
     ]
    }
   ],
   "source": [
    "del trX, trY"
   ]
  },
  {
   "cell_type": "code",
   "execution_count": 18,
   "metadata": {
    "collapsed": false,
    "deletable": true,
    "editable": true
   },
   "outputs": [
    {
     "name": "stdout",
     "output_type": "stream",
     "text": [
      "(40479, 128, 128, 3) (40479, 17)\n"
     ]
    }
   ],
   "source": [
    "if False :\n",
    "    ###trXX = np.load('../Data-Keras/Datas/train-model-2D-64x64x6-XX.npy')\n",
    "    ###trYY = np.load('../Data-Keras/Datas/train-model-2D-64x64x6-YY.npy')\n",
    "    ######trXX  = np.load('../Data-Keras/Datas/train-model-2D-64x64x3-XX.npy')\n",
    "    ######trYY  = np.load('../Data-Keras/Datas/train-model-2D-64x64x3-YY.npy')\n",
    "    trXX  = np.load('../Data-Keras/Datas/train-model-2D-128x128x3-XX.npy')\n",
    "    trYY  = np.load('../Data-Keras/Datas/train-model-2D-128x128x3-YY.npy')\n",
    "    ######trXX  = np.load('../Data-Keras/Datas/train-model-2D-224x224x3-XX.npy')\n",
    "    ######trYY  = np.load('../Data-Keras/Datas/train-model-2D-224x224x3-YY.npy')\n",
    "\n",
    "    trX, trY = trXX[trYY[:,9]==0], trYY[trYY[:,9]==0] # not cloudy == 9 feature\n",
    "    trY=trY[:,range(0,9)+range(10,17)] # --cloudy <> 9\n",
    "    del trXX,trYY\n",
    "    #print(trXX.shape,trYY.shape)\n",
    "    print(trX.shape,trY.shape)\n",
    "if False :\n",
    "    trX  = np.load('../Data-Keras/Datas/train-model-2D-224x224x3-XX-short.npy')\n",
    "    trY  = np.load('../Data-Keras/Datas/train-model-2D-224x224x3-YY-short.npy')\n",
    "    print(trX.shape,trY.shape)\n",
    "if False :\n",
    "    trX  = np.load('../Data-Keras/Datas/train-model-2D-128x128x3-XX-not-cloudy.npy')\n",
    "    trY  = np.load('../Data-Keras/Datas/train-model-2D-128x128x3-YY-not-cloudy.npy')\n",
    "    print(trX.shape,trY.shape)\n",
    "    \n",
    "if False :\n",
    "    trX  = np.load('../Data-Keras/Datas/train-model-2D-64x64x8-XX-tif.npy')\n",
    "    trY  = np.load('../Data-Keras/Datas/train-model-2D-64x64x8-YY-tif.npy')\n",
    "    \n",
    "if False : # VGG16-19\n",
    "    trX  = np.load('../Data-Keras/Datas/train-model-2D-224x224x3-XX.npy')\n",
    "    trY  = np.load('../Data-Keras/Datas/train-model-2D-224x224x3-YY.npy')\n",
    "    \n",
    "if False :\n",
    "    trX  = np.load('../Data-Keras/Datas/train-model-2D-64x64x3-XX.npy').astype(np.float32)\n",
    "    trY  = np.load('../Data-Keras/Datas/train-model-2D-64x64x3-YY.npy')\n",
    "    trX  = preprocess_input(trX) # по умному\n",
    "\n",
    "    \n",
    "if True :\n",
    "    trX  = np.load('../Data-Keras/Datas/train-model-2D-128x128x3-XX.npy').astype(np.float32)\n",
    "    trY  = np.load('../Data-Keras/Datas/train-model-2D-128x128x3-YY.npy')\n",
    "    trX  = preprocess_input(trX) # по умному\n",
    "    \n",
    "    \n",
    "if False :\n",
    "    trY  = np.load('../Data-Keras/Datas/train-model-2D-64x64x8-YY-tif.npy')\n",
    "    trX0 = np.load('../Data-Keras/Datas/train-model-2D-128x128x3-XX-tif.npy')\n",
    "    trX1 = np.load('../Data-Keras/Datas/train-model-2D-128x128x8-XX-tif.npy')\n",
    "    #trX1 = trX1[:,:,:,3:]\n",
    "    trX  = np.zeros((trX0.shape[0],trX0.shape[1],trX0.shape[2],trX0.shape[3]+trX1.shape[3]),dtype=np.uint8)\n",
    "    print (trX0.shape,trX1.shape,trX.shape)\n",
    "    trX[:,:,:,0:3] = trX0; del trX0\n",
    "    trX[:,:,:,3:]  = trX1; del trX1\n",
    "    \n",
    "if False :\n",
    "    trY  = np.load('../Data-Keras/Datas/train-model-2D-64x64x8-YY-tif.npy')\n",
    "    trX0 = np.load('../Data-Keras/Datas/train-model-2D-64x64x3-XX-tif.npy')\n",
    "    trX1 = np.load('../Data-Keras/Datas/train-model-2D-64x64x8-XX-tif.npy')\n",
    "    #trX1 = trX1[:,:,:,3:]\n",
    "    trX  = np.zeros((trX0.shape[0],trX0.shape[1],trX0.shape[2],trX0.shape[3]+trX1.shape[3]),dtype=np.uint8)\n",
    "    print (trX0.shape,trX1.shape,trX.shape)\n",
    "    trX[:,:,:,0:3] = trX0\n",
    "    trX[:,:,:,3:]  = trX1\n",
    "    #del trX0,trX1\n",
    "    \n",
    "if 0 :\n",
    "    trX  = np.load('../Data-Keras/Datas/train-model-2D-128x128x3-XX-tif.npy').astype(np.float32)\n",
    "    trY  = np.load('../Data-Keras/Datas/train-model-2D-128x128x3-YY-tif.npy')\n",
    "    \n",
    "    trX  = preprocess_input(trX) # по умному\n",
    "    \n",
    "    ##trX  = trX[:, :, :, ::-1] # RGB --> BGR\n",
    "    \n",
    "    ##trX  = np.array(trX,dtype=np.float16)\n",
    "    ##trX[:, :, :, 0] -= 103.939\n",
    "    ##trX[:, :, :, 1] -= 116.779\n",
    "    ##trX[:, :, :, 2] -= 123.68\n",
    "    \n",
    "print(trX.shape,trY.shape)"
   ]
  },
  {
   "cell_type": "code",
   "execution_count": null,
   "metadata": {
    "collapsed": true,
    "deletable": true,
    "editable": true
   },
   "outputs": [],
   "source": []
  },
  {
   "cell_type": "code",
   "execution_count": 19,
   "metadata": {
    "collapsed": false,
    "deletable": true,
    "editable": true
   },
   "outputs": [],
   "source": [
    "def generate_batches ( names_tags_df_, dirIn, output_shape, classes=17, ext='.jpg', size=5000, preprocess=True) :\n",
    "    xx = np.zeros((size,output_shape[0],output_shape[1],output_shape[2]),dtype=np.float32);\n",
    "    yy = np.zeros((size,classes),dtype=np.uint8);\n",
    "    \n",
    "    iijj = 0;\n",
    "    \n",
    "    names_tags_df = names_tags_df_\n",
    "    \n",
    "    if len(names_tags_df)/size*size<len(names_tags_df) : # выравниваем на размер size добитием len(df)>>size\n",
    "        len_app = ((len(names_tags_df)/size)+1)*size-len(names_tags_df);\n",
    "        names_tags_df = names_tags_df.append(names_tags_df_[0:len_app],ignore_index=True);\n",
    "        print((len(names_tags_df_)/size+1)*size,len(names_tags_df))\n",
    "        assert((len(names_tags_df)/size)*size==len(names_tags_df))\n",
    "    \n",
    "    for ii in range(0,len(names_tags_df),size) :\n",
    "        yy    = names_tags_df[ii:min(ii+size,len(names_tags_df))].values[:,2:].astype(np.uint8);\n",
    "        files = names_tags_df[ii:min(ii+size,len(names_tags_df))].image_name.tolist()\n",
    "        files = [x+ext for x in files]\n",
    "        if len(files)<size :\n",
    "            xx = np.zeros((len(files),output_shape[0],output_shape[1],output_shape[2]),dtype=np.float32);\n",
    "        for i in range(len(files)) :\n",
    "            nf    = os.path.join(dirIn,files[i])\n",
    "            xx[i] = formImExt(nf,EqualizeOK=False,resize=(output_shape[0],output_shape[1]))\n",
    "            iijj += 1\n",
    "            if (iijj%5000)==0 : print (datetime.datetime.now(),'-->',iijj)\n",
    "                \n",
    "        if preprocess : xx    = preprocess_input(xx)\n",
    "        \n",
    "        filexx= '../Temp/BatchN/batch-{}-{}x{}x{}-XX.npy'.format(ii,output_shape[0],output_shape[1],output_shape[2])\n",
    "        fileyy= '../Temp/BatchN/batch-{}-{}x{}x{}-YY.npy'.format(ii,output_shape[0],output_shape[1],output_shape[2])\n",
    "        np.save(filexx,xx)\n",
    "        np.save(fileyy,yy)"
   ]
  },
  {
   "cell_type": "code",
   "execution_count": null,
   "metadata": {
    "collapsed": false,
    "deletable": true,
    "editable": true
   },
   "outputs": [],
   "source": []
  },
  {
   "cell_type": "code",
   "execution_count": 20,
   "metadata": {
    "collapsed": false,
    "deletable": true,
    "editable": true
   },
   "outputs": [
    {
     "name": "stdout",
     "output_type": "stream",
     "text": [
      "2017-07-24 19:36:49.857138\n",
      "2017-07-24 19:36:49.857552\n"
     ]
    }
   ],
   "source": [
    "# Препростройка для быстрой подачи batches\n",
    "print(datetime.datetime.now())\n",
    "##generate_batches(labels_df,trDirJPG,(224,224,3))\n",
    "print(datetime.datetime.now())"
   ]
  },
  {
   "cell_type": "code",
   "execution_count": null,
   "metadata": {
    "collapsed": false,
    "deletable": true,
    "editable": true
   },
   "outputs": [],
   "source": []
  },
  {
   "cell_type": "code",
   "execution_count": 21,
   "metadata": {
    "collapsed": false,
    "deletable": true,
    "editable": true
   },
   "outputs": [],
   "source": [
    "def get_train (batch_size, n0, ns, dirIn='../Temp/BatchN', size=5000, output_shape=(224,224,3), flip=False, max_fi=40000, debugOK=False):\n",
    "    \n",
    "    def get_new_fi (fi, bi, gi) :\n",
    "        fi_old = fi\n",
    "        while ((bi+batch_size)>size) or ((gi+1)>=n0+ns) : \n",
    "            fi  = (fi + size) if ((gi<(n0+ns))and ((fi+size)<=max_fi)) else (n0/size)*size;\n",
    "            bi  = (n0-fi) if fi<=n0 else 0\n",
    "            gi  = fi+bi\n",
    "        return (fi,bi,gi)\n",
    "        \n",
    "    \n",
    "    assert (batch_size<=size)\n",
    "    assert ((max_fi/size)>1) or ((n0+batch_size)<=size)\n",
    "        \n",
    "    if flip : random.seed()\n",
    "\n",
    "    while 1:\n",
    "        \n",
    "        fi       = (n0/size)*size\n",
    "        bi       = (n0-fi) if fi<=n0 else 0\n",
    "        gi       = fi+bi\n",
    "        \n",
    "        fi,bi,gi = get_new_fi (fi,bi,gi)\n",
    "        \n",
    "        if debugOK : print(datetime.datetime.now(),'g read fi={} bi={} gi={} batch_size={} n0={} ns={} dirIn={}'.\n",
    "                           format(fi,bi,gi,batch_size,n0,ns,dirIn))\n",
    "            \n",
    "        fx = 'batch-{}-{}x{}x{}-XX.npy'\n",
    "        fy = 'batch-{}-{}x{}x{}-YY.npy'\n",
    "        xx = np.load(os.path.join(dirIn,fx.format(fi,output_shape[0],output_shape[1],output_shape[2])));\n",
    "        yy = np.load(os.path.join(dirIn,fy.format(fi,output_shape[0],output_shape[1],output_shape[2])));\n",
    "        old_fi = fi\n",
    "    \n",
    "        while True :\n",
    "            if ((bi+batch_size)>yy.shape[0]) or ((gi+1)>=n0+ns) :\n",
    "                fi,bi,gi = get_new_fi (fi,bi,gi)\n",
    "    \n",
    "                if debugOK : print(datetime.datetime.now(),'get_train read fi={} bi={} gi={}'.format(fi,bi,gi))\n",
    "            \n",
    "                if (fi<>old_fi) :\n",
    "                    xx = np.load(os.path.join(dirIn,fx.format(fi,output_shape[0],output_shape[1],output_shape[2])));\n",
    "                    yy = np.load(os.path.join(dirIn,fy.format(fi,output_shape[0],output_shape[1],output_shape[2])));\n",
    "                    old_fi = fi\n",
    "                    \n",
    "                if flip :\n",
    "                    for i in range(xx.shape[0]) :\n",
    "                        if random.random()<=flip :\n",
    "                            for c in range(xx.shape[3]) : xx[i,:,:,c] = cv.flip(xx[i,:,:,c],0);\n",
    "\n",
    "                if debugOK : print(datetime.datetime.now(),'get_train xx={} yy={} fx={}'.\n",
    "                                   format(xx.shape,yy.shape,\n",
    "                                          os.path.join(dirIn,fx.format(fi,output_shape[0],output_shape[1],output_shape[2]))))\n",
    "                \n",
    "            \n",
    "            xxx, yyy, bi, gi = xx[bi:(bi+batch_size)], yy[bi:(bi+batch_size)], bi+batch_size, gi+batch_size\n",
    "            #if debugOK : print(datetime.datetime.now(),\n",
    "            #                   'get_train get  fi={} bi={} gi={} xxx={} yyy={}'.format(fi,bi,gi,xxx.shape,yyy.shape))\n",
    "            \n",
    "            yield (xxx, yyy)"
   ]
  },
  {
   "cell_type": "code",
   "execution_count": 22,
   "metadata": {
    "collapsed": false,
    "deletable": true,
    "editable": true
   },
   "outputs": [],
   "source": [
    "#xx = get_train(128,4873,2000,debugOK=True)\n",
    "#xx = get_train(batch_size,split,len(validate),debugOK=True)\n",
    "#for ii in range(4) : xx.next()\n",
    "\n"
   ]
  },
  {
   "cell_type": "code",
   "execution_count": null,
   "metadata": {
    "collapsed": false,
    "deletable": true,
    "editable": true
   },
   "outputs": [],
   "source": []
  },
  {
   "cell_type": "code",
   "execution_count": 23,
   "metadata": {
    "collapsed": false,
    "deletable": true,
    "editable": true
   },
   "outputs": [],
   "source": [
    "if False :\n",
    "    print(datetime.datetime.now())\n",
    "    output_shape=(224,224,3)\n",
    "    for fi in range(0,40497,5000) :\n",
    "            fx = '../Temp/Batch/batch-{}-{}x{}x{}-XX.npy'\n",
    "            fy = '../Temp/Batch/batch-{}-{}x{}x{}-YY.npy'\n",
    "            xx = np.load(fx.format(fi,output_shape[0],output_shape[1],output_shape[2]));\n",
    "            yy = np.load(fy.format(fi,output_shape[0],output_shape[1],output_shape[2]));\n",
    "            print (fi,xx.shape,yy.shape)\n",
    "    print(datetime.datetime.now())"
   ]
  },
  {
   "cell_type": "code",
   "execution_count": null,
   "metadata": {
    "collapsed": false,
    "deletable": true,
    "editable": true
   },
   "outputs": [],
   "source": []
  },
  {
   "cell_type": "code",
   "execution_count": null,
   "metadata": {
    "collapsed": false,
    "deletable": true,
    "editable": true
   },
   "outputs": [],
   "source": []
  },
  {
   "cell_type": "code",
   "execution_count": 24,
   "metadata": {
    "collapsed": false,
    "deletable": true,
    "editable": true
   },
   "outputs": [],
   "source": [
    "if False :\n",
    "    for i in range(3) :\n",
    "        x000 = x00[:,i]\n",
    "        print(x000.mean(), x000.std(), len(x000[x000<0.1]),x000.argmin())\n",
    "        #plt.hist(x000[x000<0.0001].ravel(),bins=150); \n",
    "        plt.hist(x000.ravel(),bins=150); \n",
    "        plt.show(); plt.close()"
   ]
  },
  {
   "cell_type": "code",
   "execution_count": null,
   "metadata": {
    "collapsed": false,
    "deletable": true,
    "editable": true
   },
   "outputs": [],
   "source": []
  },
  {
   "cell_type": "code",
   "execution_count": null,
   "metadata": {
    "collapsed": false,
    "deletable": true,
    "editable": true
   },
   "outputs": [],
   "source": []
  },
  {
   "cell_type": "code",
   "execution_count": 25,
   "metadata": {
    "collapsed": false,
    "deletable": true,
    "editable": true
   },
   "outputs": [],
   "source": [
    "def fbeta_pred(y_true, y_pred, beta=2.0, OK1=0.2, eps=0.000001, printOK=False):\n",
    "    beta2 = beta*beta\n",
    "    yy_true = K.round(y_true)\n",
    "    #yy_pred = K.round(y_pred+(0.5-OK1))\n",
    "    yy_pred = K.round(y_pred)\n",
    "    tp, tp_fp, fn = K.sum((yy_pred*yy_true)), K.sum(yy_true), K.sum((K.abs(yy_pred*(yy_true-1.0))))\n",
    "    precision, recall = tp/(tp_fp+eps), tp/(tp+fn+eps) \n",
    "    fbeta = (1+beta2)*(precision*recall)/(beta2*precision+recall+eps)\n",
    "    ##if fbeta>1.0 : fbeta = 1.0;\n",
    "    if printOK :\n",
    "        print('ten true ',K.get_value(yy_true))\n",
    "        #print('ten pred ',y_pred)\n",
    "        print('ten roun ',K.get_value(yy_pred))\n",
    "        print(' pre=',K.get_value(precision),' recall=',K.get_value(recall),' tp=',\n",
    "              K.get_value(tp),' fn=',K.get_value(fn),' tp+fp=',K.get_value(tp_fp))\n",
    "    return(fbeta)"
   ]
  },
  {
   "cell_type": "code",
   "execution_count": 26,
   "metadata": {
    "collapsed": true,
    "deletable": true,
    "editable": true
   },
   "outputs": [],
   "source": [
    "def loss_beta(y_true, y_pred):\n",
    "    tp, tp_fp, fn = K.sum((y_pred*y_true)), K.sum(y_pred), K.sum((K.abs(y_pred*(y_true-1.0))))\n",
    "    precision, recall = tp/(tp_fp+K.epsilon()), tp/(tp+fn+K.epsilon()) \n",
    "    result = 5*precision*recall/(4*precision+recall+K.epsilon())\n",
    "    #pos = K.sum(y_true * y_pred, axis=-1)\n",
    "    #neg = K.max((1. - y_true) * y_pred, axis=-1)\n",
    "    #return K.maximum(0., neg - pos + 1.)\n",
    "    return 1.0-result"
   ]
  },
  {
   "cell_type": "code",
   "execution_count": 27,
   "metadata": {
    "collapsed": false,
    "deletable": true,
    "editable": true
   },
   "outputs": [
    {
     "data": {
      "text/plain": [
       "'float32'"
      ]
     },
     "execution_count": 27,
     "metadata": {},
     "output_type": "execute_result"
    }
   ],
   "source": [
    "#K.set_floatx('float32')\n",
    "K.floatx()"
   ]
  },
  {
   "cell_type": "code",
   "execution_count": 28,
   "metadata": {
    "collapsed": false,
    "deletable": true,
    "editable": true
   },
   "outputs": [
    {
     "name": "stdout",
     "output_type": "stream",
     "text": [
      "(128, 128, 3) 17\n"
     ]
    }
   ],
   "source": [
    "#sizing = (224,224,3)\n",
    "#sizing = (64,64,3)\n",
    "sizing = (128,128,3)\n",
    "\n",
    "input_shape, output_classes, metric = sizing, 17, 'acc'\n",
    "print(input_shape,output_classes)"
   ]
  },
  {
   "cell_type": "code",
   "execution_count": null,
   "metadata": {
    "collapsed": true,
    "deletable": true,
    "editable": true
   },
   "outputs": [],
   "source": []
  },
  {
   "cell_type": "code",
   "execution_count": 53,
   "metadata": {
    "collapsed": false,
    "deletable": true,
    "editable": true
   },
   "outputs": [],
   "source": [
    "def xModel (input_shape) :\n",
    "\n",
    "    base_model = VGG19(weights='imagenet', include_top=False, pooling=None, input_shape=input_shape)\n",
    "\n",
    "    x = Flatten()(base_model.output)\n",
    "\n",
    "    initiaze = 'he_normal'\n",
    "    if (input_shape==(64,64,3)) :\n",
    "        x = Dense(1024, activation='relu',kernel_initializer=initiaze, name='ffcc1')(x)\n",
    "        x = Dropout(0.50)(x)\n",
    "    else :\n",
    "        x = Dense(4096, activation='relu', name='ffcc1')(x)\n",
    "        x = Dropout(0.30)(x)\n",
    "        x = Dense(4096, activation='relu', name='ffcc2')(x)\n",
    "        x = Dropout(0.30)(x)\n",
    "    #predictions = Dense(output_classes, activation='softmax',name='predictions')(x)\n",
    "    predictions = Dense(output_classes, activation='sigmoid',name='predictions')(x)\n",
    "\n",
    "    model10 = Model(inputs=base_model.input, outputs=predictions)\n",
    "    \n",
    "    #for l in base_model.layers : l.trainable = False\n",
    "    \n",
    "    return(model10)"
   ]
  },
  {
   "cell_type": "code",
   "execution_count": 54,
   "metadata": {
    "collapsed": false,
    "deletable": true,
    "editable": true
   },
   "outputs": [],
   "source": [
    "#[x.shape for x in fc1], [x.shape for x in fc2]"
   ]
  },
  {
   "cell_type": "code",
   "execution_count": 55,
   "metadata": {
    "collapsed": false,
    "deletable": true,
    "editable": true
   },
   "outputs": [
    {
     "name": "stdout",
     "output_type": "stream",
     "text": [
      "_________________________________________________________________\n",
      "Layer (type)                 Output Shape              Param #   \n",
      "=================================================================\n",
      "input_1 (InputLayer)         (None, 128, 128, 3)       0         \n",
      "_________________________________________________________________\n",
      "block1_conv1 (Conv2D)        (None, 128, 128, 64)      1792      \n",
      "_________________________________________________________________\n",
      "block1_conv2 (Conv2D)        (None, 128, 128, 64)      36928     \n",
      "_________________________________________________________________\n",
      "block1_pool (MaxPooling2D)   (None, 64, 64, 64)        0         \n",
      "_________________________________________________________________\n",
      "block2_conv1 (Conv2D)        (None, 64, 64, 128)       73856     \n",
      "_________________________________________________________________\n",
      "block2_conv2 (Conv2D)        (None, 64, 64, 128)       147584    \n",
      "_________________________________________________________________\n",
      "block2_pool (MaxPooling2D)   (None, 32, 32, 128)       0         \n",
      "_________________________________________________________________\n",
      "block3_conv1 (Conv2D)        (None, 32, 32, 256)       295168    \n",
      "_________________________________________________________________\n",
      "block3_conv2 (Conv2D)        (None, 32, 32, 256)       590080    \n",
      "_________________________________________________________________\n",
      "block3_conv3 (Conv2D)        (None, 32, 32, 256)       590080    \n",
      "_________________________________________________________________\n",
      "block3_conv4 (Conv2D)        (None, 32, 32, 256)       590080    \n",
      "_________________________________________________________________\n",
      "block3_pool (MaxPooling2D)   (None, 16, 16, 256)       0         \n",
      "_________________________________________________________________\n",
      "block4_conv1 (Conv2D)        (None, 16, 16, 512)       1180160   \n",
      "_________________________________________________________________\n",
      "block4_conv2 (Conv2D)        (None, 16, 16, 512)       2359808   \n",
      "_________________________________________________________________\n",
      "block4_conv3 (Conv2D)        (None, 16, 16, 512)       2359808   \n",
      "_________________________________________________________________\n",
      "block4_conv4 (Conv2D)        (None, 16, 16, 512)       2359808   \n",
      "_________________________________________________________________\n",
      "block4_pool (MaxPooling2D)   (None, 8, 8, 512)         0         \n",
      "_________________________________________________________________\n",
      "block5_conv1 (Conv2D)        (None, 8, 8, 512)         2359808   \n",
      "_________________________________________________________________\n",
      "block5_conv2 (Conv2D)        (None, 8, 8, 512)         2359808   \n",
      "_________________________________________________________________\n",
      "block5_conv3 (Conv2D)        (None, 8, 8, 512)         2359808   \n",
      "_________________________________________________________________\n",
      "block5_conv4 (Conv2D)        (None, 8, 8, 512)         2359808   \n",
      "_________________________________________________________________\n",
      "block5_pool (MaxPooling2D)   (None, 4, 4, 512)         0         \n",
      "_________________________________________________________________\n",
      "flatten_1 (Flatten)          (None, 8192)              0         \n",
      "_________________________________________________________________\n",
      "ffcc1 (Dense)                (None, 4096)              33558528  \n",
      "_________________________________________________________________\n",
      "dropout_1 (Dropout)          (None, 4096)              0         \n",
      "_________________________________________________________________\n",
      "ffcc2 (Dense)                (None, 4096)              16781312  \n",
      "_________________________________________________________________\n",
      "dropout_2 (Dropout)          (None, 4096)              0         \n",
      "_________________________________________________________________\n",
      "predictions (Dense)          (None, 17)                69649     \n",
      "=================================================================\n",
      "Total params: 70,433,873\n",
      "Trainable params: 70,433,873\n",
      "Non-trainable params: 0\n",
      "_________________________________________________________________\n"
     ]
    }
   ],
   "source": [
    "K.clear_session()\n",
    "model10 = xModel(input_shape)\n",
    "\n",
    "sgd  = keras.optimizers.SGD(nesterov=True,momentum=0.9,lr=0.01)\n",
    "adam = keras.optimizers.adam(lr=0.01)\n",
    "model10.compile(loss='binary_crossentropy', #'categorical_crossentropy', #'binary_crossentropy', # 'mean_absolute_error'\n",
    "              optimizer=sgd, # adam, #sgd, #\"nadam\", #sgd, #\"adam\", #'rmsprop',\n",
    "              metrics=['acc']) #['binary_accuracy']) #[fbeta_pred]) #['accuracy',fbeta_pred]) #['accuracy'])\n",
    "\n",
    "model10.summary()"
   ]
  },
  {
   "cell_type": "code",
   "execution_count": null,
   "metadata": {
    "collapsed": true,
    "deletable": true,
    "editable": true
   },
   "outputs": [],
   "source": []
  },
  {
   "cell_type": "code",
   "execution_count": 56,
   "metadata": {
    "collapsed": true,
    "deletable": true,
    "editable": true
   },
   "outputs": [],
   "source": [
    "def loss_beta1(y_true, y_pred):\n",
    "    tp, tp_fp, fn = K.sum((y_pred*y_true)), K.sum(y_pred), K.sum((K.abs(y_pred*(y_true-1.0))))\n",
    "    precision, recall = tp/(tp_fp+K.epsilon()), tp/(tp+fn+K.epsilon()) \n",
    "    result = 5*precision*recall/(4*precision+recall+K.epsilon())\n",
    "    #pos = K.sum(y_true * y_pred, axis=-1)\n",
    "    #neg = K.max((1. - y_true) * y_pred, axis=-1)\n",
    "    #return K.maximum(0., neg - pos + 1.)\n",
    "    return 1.0-result"
   ]
  },
  {
   "cell_type": "code",
   "execution_count": 57,
   "metadata": {
    "collapsed": true,
    "deletable": true,
    "editable": true
   },
   "outputs": [],
   "source": [
    "def loss_beta(y_true, y_pred):\n",
    "    tp, tp_fp, fn = K.sum((y_pred*y_true)), K.sum(y_pred), K.sum((K.abs(y_pred*(y_true-1.0))))\n",
    "    precision, recall = tp/(tp_fp+K.epsilon()), tp/(tp+fn+K.epsilon()) \n",
    "    result = 5-(4*precision+recall+K.epsilon())\n",
    "    #pos = K.sum(y_true * y_pred, axis=-1)\n",
    "    #neg = K.max((1. - y_true) * y_pred, axis=-1)\n",
    "    #return K.maximum(0., neg - pos + 1.)\n",
    "    return result"
   ]
  },
  {
   "cell_type": "code",
   "execution_count": null,
   "metadata": {
    "collapsed": false,
    "deletable": true,
    "editable": true
   },
   "outputs": [],
   "source": []
  },
  {
   "cell_type": "code",
   "execution_count": 58,
   "metadata": {
    "collapsed": true,
    "deletable": true,
    "editable": true
   },
   "outputs": [],
   "source": [
    "step = 4800\n",
    "low  = 5000\n",
    "high = low+step\n",
    "\n",
    "lb_df = labels_df\n",
    "lb_df = labels_df[low:high]\n",
    "split = len(lb_df)-int(len(lb_df)/5.0)\n",
    "generate, validate = lb_df[:split], lb_df[split:]\n",
    "\n",
    "batch_size = 32\n",
    "##batch_size = 128 # for adam\n",
    "##batch_size = 16  # for adam"
   ]
  },
  {
   "cell_type": "code",
   "execution_count": null,
   "metadata": {
    "collapsed": false,
    "deletable": true,
    "editable": true
   },
   "outputs": [],
   "source": []
  },
  {
   "cell_type": "code",
   "execution_count": null,
   "metadata": {
    "collapsed": true,
    "deletable": true,
    "editable": true
   },
   "outputs": [],
   "source": []
  },
  {
   "cell_type": "code",
   "execution_count": 66,
   "metadata": {
    "collapsed": false,
    "deletable": true,
    "editable": true
   },
   "outputs": [],
   "source": [
    "def model1step2 (bq, steps, nn=1) :\n",
    "    \n",
    "    print(datetime.datetime.now(),'Begin')\n",
    "    \n",
    "    prefixTemp = 'vgg19-jpg-128x128x3' \n",
    "    filepath=\"../Temp/\"+prefixTemp+\"-full-datas-best-results.hdf5\"\n",
    "    checkpoint     = ModelCheckpoint(filepath, monitor='val_acc', verbose=1, save_best_only=True, mode='max')\n",
    "    early_stopping = EarlyStopping(monitor='val_loss', patience=5,min_delta=0.0001)\n",
    "    reduce_lr      = ReduceLROnPlateau (monitor='val_loss', factor=0.4,patience=2, min_lr=0.00001,verbose=1)\n",
    "        \n",
    "    # строим набор batch-ей\n",
    "    xxyyzz = []\n",
    "    for i in range(bq) :\n",
    "        xx,yy = trX[i*batch_size:(i+1)*batch_size], trY[i*batch_size:(i+1)*batch_size]\n",
    "        xxyyzz.append((xx,yy))\n",
    "    print('xx={} yy={} len={}'.format(xx.shape, yy.shape,len(xxyyzz)))\n",
    "    \n",
    "    # начинаем коллекционировать\n",
    "    \n",
    "    res = []\n",
    "    \n",
    "    if 1 :\n",
    "        # строим решение для batch\n",
    "        xyzz = []\n",
    "        for xx,yy in xxyyzz :\n",
    "            zz = model10.train_on_batch(xx,yy);\n",
    "            xyzz.append(((xx,yy),zz))\n",
    "        res.append(xyzz)\n",
    "\n",
    "    for i in range(nn) : # range(steps) :\n",
    "        print(datetime.datetime.now(),'step #:',i)\n",
    "        \n",
    "        # делаем шаг обучения\n",
    "        hist1  = model10.fit( trX, trY,\n",
    "                    epochs=(i+1)*steps, \n",
    "                    initial_epoch = i*steps, #i,\n",
    "                    validation_split=0.25,\n",
    "                    callbacks=[reduce_lr,early_stopping,checkpoint],\n",
    "                    verbose=2)\n",
    "\n",
    "        print(hist1.history['lr'])\n",
    "        # получаем loss для batch\n",
    "        xyzz = []\n",
    "        for xx,yy in xxyyzz :\n",
    "            zz = model10.train_on_batch(xx,yy);\n",
    "            xyzz.append(((xx,yy),zz))\n",
    "        res.append(xyzz)\n",
    "        \n",
    "    print(datetime.datetime.now(),'Ending')\n",
    "    \n",
    "    return(res)"
   ]
  },
  {
   "cell_type": "code",
   "execution_count": 67,
   "metadata": {
    "collapsed": false,
    "deletable": true,
    "editable": true
   },
   "outputs": [],
   "source": [
    "def model1step (bq, steps, nn=1) :\n",
    "    \n",
    "    print(datetime.datetime.now(),'Begin')\n",
    "\n",
    "    # строим набор batch-ей\n",
    "    xxyy = get_train(batch_size,0,len(generate),debugOK=False,flip=False)\n",
    "    xx,yy = xxyy.next()\n",
    "    xxyyzz = [(xx,yy)]\n",
    "    for i in range(bq-1) :\n",
    "        xx,yy = xxyy.next()\n",
    "        xxyyzz.append((xx,yy))\n",
    "    xxyy.close()\n",
    "    print('xx={} yy={} len={}'.format(xx.shape, yy.shape,len(xxyyzz)))\n",
    "    \n",
    "    # начинаем коллекционировать\n",
    "    \n",
    "    res = []\n",
    "    \n",
    "    if 0 :\n",
    "        # строим решение для batch\n",
    "        xyzz = []\n",
    "        for xx,yy in xxyyzz :\n",
    "            zz = model10.train_on_batch(xx,yy);\n",
    "            xyzz.append(((xx,yy),zz))\n",
    "        res.append(xyzz)\n",
    "\n",
    "    for i in range(nn) : # range(steps) :\n",
    "        print(datetime.datetime.now(),'step #:',i)\n",
    "        \n",
    "        reduce_lr = ReduceLROnPlateau(monitor='loss', factor=0.2,patience=2, min_lr=0.000001,verbose=2)\n",
    "        \n",
    "        # делаем шаг обучения\n",
    "        hist1  = model10.fit_generator( get_train(batch_size,low,high-low,debugOK=False,flip=False),\n",
    "                    steps_per_epoch=int((high-low)/batch_size),\n",
    "                    epochs=(i+1)*steps, \n",
    "                    initial_epoch = i*steps, #i,\n",
    "                    callbacks=[reduce_lr],\n",
    "                    verbose=2)\n",
    "\n",
    "        print(hist1.history['lr'])\n",
    "        # получаем loss для batch\n",
    "        xyzz = []\n",
    "        for xx,yy in xxyyzz :\n",
    "            zz = model10.train_on_batch(xx,yy);\n",
    "            xyzz.append(((xx,yy),zz))\n",
    "        res.append(xyzz)\n",
    "        \n",
    "    print(datetime.datetime.now(),'Ending')\n",
    "    \n",
    "    return(res)"
   ]
  },
  {
   "cell_type": "code",
   "execution_count": 68,
   "metadata": {
    "collapsed": false,
    "deletable": true,
    "editable": true
   },
   "outputs": [
    {
     "data": {
      "text/plain": [
       "{'decay': 0.0,\n",
       " 'lr': 0.0015999998431652784,\n",
       " 'momentum': 0.8999999761581421,\n",
       " 'nesterov': True}"
      ]
     },
     "execution_count": 68,
     "metadata": {},
     "output_type": "execute_result"
    }
   ],
   "source": [
    "model10.optimizer.get_config()"
   ]
  },
  {
   "cell_type": "code",
   "execution_count": 62,
   "metadata": {
    "collapsed": false,
    "deletable": true,
    "editable": true
   },
   "outputs": [
    {
     "name": "stdout",
     "output_type": "stream",
     "text": [
      "_________________________________________________________________\n",
      "Layer (type)                 Output Shape              Param #   \n",
      "=================================================================\n",
      "input_1 (InputLayer)         (None, 128, 128, 3)       0         \n",
      "_________________________________________________________________\n",
      "block1_conv1 (Conv2D)        (None, 128, 128, 64)      1792      \n",
      "_________________________________________________________________\n",
      "block1_conv2 (Conv2D)        (None, 128, 128, 64)      36928     \n",
      "_________________________________________________________________\n",
      "block1_pool (MaxPooling2D)   (None, 64, 64, 64)        0         \n",
      "_________________________________________________________________\n",
      "block2_conv1 (Conv2D)        (None, 64, 64, 128)       73856     \n",
      "_________________________________________________________________\n",
      "block2_conv2 (Conv2D)        (None, 64, 64, 128)       147584    \n",
      "_________________________________________________________________\n",
      "block2_pool (MaxPooling2D)   (None, 32, 32, 128)       0         \n",
      "_________________________________________________________________\n",
      "block3_conv1 (Conv2D)        (None, 32, 32, 256)       295168    \n",
      "_________________________________________________________________\n",
      "block3_conv2 (Conv2D)        (None, 32, 32, 256)       590080    \n",
      "_________________________________________________________________\n",
      "block3_conv3 (Conv2D)        (None, 32, 32, 256)       590080    \n",
      "_________________________________________________________________\n",
      "block3_conv4 (Conv2D)        (None, 32, 32, 256)       590080    \n",
      "_________________________________________________________________\n",
      "block3_pool (MaxPooling2D)   (None, 16, 16, 256)       0         \n",
      "_________________________________________________________________\n",
      "block4_conv1 (Conv2D)        (None, 16, 16, 512)       1180160   \n",
      "_________________________________________________________________\n",
      "block4_conv2 (Conv2D)        (None, 16, 16, 512)       2359808   \n",
      "_________________________________________________________________\n",
      "block4_conv3 (Conv2D)        (None, 16, 16, 512)       2359808   \n",
      "_________________________________________________________________\n",
      "block4_conv4 (Conv2D)        (None, 16, 16, 512)       2359808   \n",
      "_________________________________________________________________\n",
      "block4_pool (MaxPooling2D)   (None, 8, 8, 512)         0         \n",
      "_________________________________________________________________\n",
      "block5_conv1 (Conv2D)        (None, 8, 8, 512)         2359808   \n",
      "_________________________________________________________________\n",
      "block5_conv2 (Conv2D)        (None, 8, 8, 512)         2359808   \n",
      "_________________________________________________________________\n",
      "block5_conv3 (Conv2D)        (None, 8, 8, 512)         2359808   \n",
      "_________________________________________________________________\n",
      "block5_conv4 (Conv2D)        (None, 8, 8, 512)         2359808   \n",
      "_________________________________________________________________\n",
      "block5_pool (MaxPooling2D)   (None, 4, 4, 512)         0         \n",
      "_________________________________________________________________\n",
      "flatten_1 (Flatten)          (None, 8192)              0         \n",
      "_________________________________________________________________\n",
      "ffcc1 (Dense)                (None, 4096)              33558528  \n",
      "_________________________________________________________________\n",
      "dropout_1 (Dropout)          (None, 4096)              0         \n",
      "_________________________________________________________________\n",
      "ffcc2 (Dense)                (None, 4096)              16781312  \n",
      "_________________________________________________________________\n",
      "dropout_2 (Dropout)          (None, 4096)              0         \n",
      "_________________________________________________________________\n",
      "predictions (Dense)          (None, 17)                69649     \n",
      "=================================================================\n",
      "Total params: 70,433,873\n",
      "Trainable params: 70,433,873\n",
      "Non-trainable params: 0\n",
      "_________________________________________________________________\n"
     ]
    }
   ],
   "source": [
    "model10.summary()"
   ]
  },
  {
   "cell_type": "code",
   "execution_count": 69,
   "metadata": {
    "collapsed": false,
    "deletable": true,
    "editable": true
   },
   "outputs": [
    {
     "name": "stdout",
     "output_type": "stream",
     "text": [
      "2017-07-25 06:36:19.128683 Begin\n",
      "xx=(32, 128, 128, 3) yy=(32, 17) len=100\n",
      "2017-07-25 06:37:25.275432 step #: 0\n",
      "Train on 30359 samples, validate on 10120 samples\n",
      "Epoch 1/30\n",
      "Epoch 00000: val_acc improved from -inf to 0.90541, saving model to ../Temp/vgg19-jpg-128x128x3-full-datas-best-results.hdf5\n",
      "698s - loss: 1.5265 - acc: 0.9051 - val_loss: 1.5209 - val_acc: 0.9054\n",
      "Epoch 2/30\n",
      "Epoch 00001: val_acc did not improve\n",
      "692s - loss: 1.5265 - acc: 0.9051 - val_loss: 1.5209 - val_acc: 0.9054\n",
      "Epoch 3/30\n",
      "Epoch 00002: val_acc did not improve\n",
      "692s - loss: 1.5265 - acc: 0.9051 - val_loss: 1.5209 - val_acc: 0.9054\n",
      "Epoch 4/30\n",
      "\n",
      "Epoch 00003: reducing learning rate to 0.000639999937266.\n",
      "Epoch 00003: val_acc did not improve\n",
      "692s - loss: 1.5265 - acc: 0.9051 - val_loss: 1.5209 - val_acc: 0.9054\n",
      "Epoch 5/30\n",
      "Epoch 00004: val_acc did not improve\n",
      "692s - loss: 1.5265 - acc: 0.9051 - val_loss: 1.5209 - val_acc: 0.9054\n",
      "Epoch 6/30\n",
      "\n",
      "Epoch 00005: reducing learning rate to 0.00025599997025.\n",
      "Epoch 00005: val_acc did not improve\n",
      "692s - loss: 1.5264 - acc: 0.9051 - val_loss: 1.5209 - val_acc: 0.9054\n",
      "Epoch 7/30\n",
      "Epoch 00006: val_acc did not improve\n",
      "692s - loss: 1.5265 - acc: 0.9051 - val_loss: 1.5209 - val_acc: 0.9054\n",
      "[0.0015999998, 0.0015999998, 0.0015999998, 0.0015999998, 0.00063999993, 0.00063999993, 0.00025599997]\n",
      "2017-07-25 07:59:25.743784 Ending\n"
     ]
    }
   ],
   "source": [
    "res = model1step2 (100,30,nn=1)"
   ]
  },
  {
   "cell_type": "code",
   "execution_count": 224,
   "metadata": {
    "collapsed": true,
    "deletable": true,
    "editable": true
   },
   "outputs": [],
   "source": [
    "if 0 : save_model(model10,'../Temp/verify-VGG19-sgd=64x64x3-acc=0x9664-batch=32-sigmoid.mdl')\n",
    "if 0 : save_model(model10,'../Temp/verify-VGG19-sgd=64x64x3-acc=0x8524-batch=32-softmax.mdl')\n",
    "if 0 : save_model(model10,'../Temp/verify-VGG19-sgd=64x64x3-acc=0x9609-batch=32-sigmoid-full-data.mdl')\n",
    "if 0 : save_model(model10,'../Temp/verify-VGG19-adam=64x64x3-acc=0x9052.mdl')\n",
    "if 0 : save_model(model10,'../Temp/verify-VGG19-adam=64x64x3-acc=0x9008-batch=16.mdl')"
   ]
  },
  {
   "cell_type": "code",
   "execution_count": 70,
   "metadata": {
    "collapsed": false,
    "deletable": true,
    "editable": true,
    "scrolled": true
   },
   "outputs": [
    {
     "data": {
      "text/plain": [
       "(array([[ 1.65469384,  1.36034322,  1.62506497,  1.50622654,  1.50687253,\n",
       "          1.6843226 ,  1.56677628,  1.68561471,  1.59511304,  1.56709909],\n",
       "        [ 1.65469384,  1.36034322,  1.62506497,  1.50622654,  1.50687253,\n",
       "          1.6843226 ,  1.56677628,  1.68561471,  1.59511304,  1.56709909]], dtype=float32),\n",
       " array([ 1.53620291,  1.53620291], dtype=float32))"
      ]
     },
     "execution_count": 70,
     "metadata": {},
     "output_type": "execute_result"
    }
   ],
   "source": [
    "#res[0][9][1],res[1][9][1]\n",
    "len(res[0][0][1])\n",
    "xx = []\n",
    "for res0 in res :\n",
    "    xr0 = []\n",
    "    for res1 in res0 : xr0.append(res1[1][0])\n",
    "    xx.append(xr0)\n",
    "xx = np.array(xx); xx[:,0:10], xx.mean(axis=1)"
   ]
  },
  {
   "cell_type": "code",
   "execution_count": 71,
   "metadata": {
    "collapsed": false,
    "deletable": true,
    "editable": true
   },
   "outputs": [
    {
     "data": {
      "image/png": "[encoded data removed]",
      "text/plain": [
       "<matplotlib.figure.Figure at 0x7fe58bfb57d0>"
      ]
     },
     "metadata": {},
     "output_type": "display_data"
    },
    {
     "data": {
      "image/png": "[encoded data removed]",
      "text/plain": [
       "<matplotlib.figure.Figure at 0x7fe57c052f90>"
      ]
     },
     "metadata": {},
     "output_type": "display_data"
    }
   ],
   "source": [
    "if 0 :\n",
    "    plt.figure(figsize=(15,5))\n",
    "    plt.subplot(131);plt.hist(np.array([zz[0] for xxyy,zz in xyzz]),bins=20); plt.title('loss'); \n",
    "    plt.subplot(132);plt.hist(np.array([zz[1] for xxyy,zz in xyzz]),bins=20); plt.title('acc'); \n",
    "    plt.subplot(133);plt.hist(np.array([zz[2] for xxyy,zz in xyzz]),bins=30); plt.title('f2beta'); \n",
    "    plt.show();\n",
    "\n",
    "for xyzz in res :\n",
    "        plt.figure(figsize=(15,5))\n",
    "        plt.subplot(131);plt.plot(np.array([zz[0] for xxyy,zz in xyzz])); plt.title('loss');\n",
    "        for i in range(1,len(xyzz[0][1])) :\n",
    "            plt.subplot(130+i+1);plt.plot(np.array([zz[1] for xxyy,zz in xyzz])); plt.title(str(i));\n",
    "        ##plt.subplot(144);plt.scatter(np.array([zz[1] for xxyy,zz in xyzz]),np.array([zz[2] for xxyy,zz in xyzz])); \n",
    "        ##plt.title('acc-fbeta'); \n",
    "        plt.show()\n",
    "plt.close()"
   ]
  },
  {
   "cell_type": "code",
   "execution_count": null,
   "metadata": {
    "collapsed": true,
    "deletable": true,
    "editable": true
   },
   "outputs": [],
   "source": []
  },
  {
   "cell_type": "code",
   "execution_count": null,
   "metadata": {
    "collapsed": true,
    "deletable": true,
    "editable": true
   },
   "outputs": [],
   "source": []
  },
  {
   "cell_type": "code",
   "execution_count": null,
   "metadata": {
    "collapsed": true,
    "deletable": true,
    "editable": true
   },
   "outputs": [],
   "source": []
  },
  {
   "cell_type": "code",
   "execution_count": 42,
   "metadata": {
    "collapsed": false,
    "deletable": true,
    "editable": true
   },
   "outputs": [],
   "source": [
    "#!ls -la ../Temp/TempVGG"
   ]
  },
  {
   "cell_type": "code",
   "execution_count": 31,
   "metadata": {
    "collapsed": false,
    "deletable": true,
    "editable": true
   },
   "outputs": [],
   "source": [
    "if False :\n",
    "    model10 = load_model('../Data-Keras/Models/model-VGG19-224x224x3-d2048xd2048.h5')\n",
    "if 0 :\n",
    "    model10 = load_model('../Temp/TempVGG/vgg19G-jpg-tif-224x224x3-weights.01-acc=0.8812-val_acc=0.8816-.hdf5')\n",
    "if 0 :\n",
    "    model10.load_weights('../Data-Keras/Models/model-VGG19-224x224x3-d2048xd2048-weights.h5',by_name=True)"
   ]
  },
  {
   "cell_type": "code",
   "execution_count": 33,
   "metadata": {
    "collapsed": false,
    "deletable": true,
    "editable": true,
    "scrolled": true
   },
   "outputs": [
    {
     "name": "stdout",
     "output_type": "stream",
     "text": [
      "_________________________________________________________________\n",
      "Layer (type)                 Output Shape              Param #   \n",
      "=================================================================\n",
      "batch_normalization_1 (Batch (None, 224, 224, 3)       12        \n",
      "_________________________________________________________________\n",
      "vgg19 (Model)                multiple                  20024384  \n",
      "_________________________________________________________________\n",
      "flatten_1 (Flatten)          (None, 25088)             0         \n",
      "_________________________________________________________________\n",
      "predictions (Dense)          (None, 17)                426513    \n",
      "=================================================================\n",
      "Total params: 20,450,909\n",
      "Trainable params: 20,450,903\n",
      "Non-trainable params: 6\n",
      "_________________________________________________________________\n"
     ]
    }
   ],
   "source": [
    "model10.summary()"
   ]
  },
  {
   "cell_type": "code",
   "execution_count": 34,
   "metadata": {
    "collapsed": false,
    "deletable": true,
    "editable": true
   },
   "outputs": [],
   "source": [
    "if False : \n",
    "    sweight  = np.zeros(trY.shape[0],dtype=np.float32);\n",
    "    sweight[:]  = 1.0\n",
    "    sweight[trY[:,0]==1] = 0.35\n",
    "    sweight[trY[:,1]==1] = 0.25\n",
    "    sweight[trY[:,2]==1] = 0.15\n",
    "    sweight[trY[:,3]==1] = 0.05"
   ]
  },
  {
   "cell_type": "code",
   "execution_count": 46,
   "metadata": {
    "collapsed": false,
    "deletable": true,
    "editable": true
   },
   "outputs": [
    {
     "name": "stdout",
     "output_type": "stream",
     "text": [
      "2017-07-20 14:40:13.832813\n",
      "Epoch 4/10\n",
      "Epoch 00003: acc improved from -inf to 0.01226, saving model to ../Temp/TempVGG/vgg190-jpg-tif-224x224x3-weights.03-acc=0.0123-val_acc=0.0107-.hdf5\n",
      "2294s - loss: 0.2977 - acc: 0.0123 - fbeta_pred: 0.5113 - val_loss: 0.2979 - val_acc: 0.0107 - val_fbeta_pred: 0.5110\n",
      "Epoch 5/10\n",
      "Epoch 00004: acc did not improve\n",
      "2259s - loss: 0.2976 - acc: 0.0123 - fbeta_pred: 0.5114 - val_loss: 0.2979 - val_acc: 0.0107 - val_fbeta_pred: 0.5110\n",
      "Epoch 6/10\n",
      "Epoch 00005: acc did not improve\n",
      "2262s - loss: 0.2977 - acc: 0.0123 - fbeta_pred: 0.5113 - val_loss: 0.2979 - val_acc: 0.0107 - val_fbeta_pred: 0.5110\n",
      "Epoch 7/10\n",
      "Epoch 00006: acc improved from 0.01226 to 0.01229, saving model to ../Temp/TempVGG/vgg190-jpg-tif-224x224x3-weights.06-acc=0.0123-val_acc=0.0107-.hdf5\n",
      "2259s - loss: 0.2976 - acc: 0.0123 - fbeta_pred: 0.5114 - val_loss: 0.2979 - val_acc: 0.0107 - val_fbeta_pred: 0.5110\n",
      "Epoch 8/10\n",
      "Epoch 00007: acc did not improve\n",
      "2259s - loss: 0.2977 - acc: 0.0123 - fbeta_pred: 0.5113 - val_loss: 0.2979 - val_acc: 0.0107 - val_fbeta_pred: 0.5110\n",
      "Epoch 9/10\n",
      "Epoch 00008: acc did not improve\n",
      "2259s - loss: 0.2977 - acc: 0.0123 - fbeta_pred: 0.5113 - val_loss: 0.2979 - val_acc: 0.0107 - val_fbeta_pred: 0.5110\n",
      "Epoch 10/10\n",
      "Epoch 00009: acc did not improve\n",
      "2266s - loss: 0.2976 - acc: 0.0123 - fbeta_pred: 0.5113 - val_loss: 0.2979 - val_acc: 0.0107 - val_fbeta_pred: 0.5110\n",
      "2017-07-20 19:04:36.958106\n"
     ]
    }
   ],
   "source": [
    "epochs     = 10\n",
    "verbose    = 2\n",
    "batch_size = 32\n",
    "stopping   = 10\n",
    "\n",
    "prefixTemp = 'vgg190-jpg-tif-{}x{}x{}'.format(sizing[0],sizing[1],sizing[2])     \n",
    "\n",
    "early_stopping = EarlyStopping(monitor='val_loss', patience=stopping,min_delta=0.00001)\n",
    "reduce_lr = ReduceLROnPlateau(monitor='val_loss', factor=0.2,patience=5, min_lr=0.0001)\n",
    "\n",
    "filepath=\"../Temp/TempVGG/\"+prefixTemp+\"-weights.{epoch:02d}-acc={\"+metric+\":.4f}-val_acc={val_\"+metric+\":.4f}-.hdf5\"\n",
    "checkpoint = ModelCheckpoint(filepath, monitor=metric, verbose=1, save_best_only=True, mode='max')\n",
    "\n",
    "step = 10000\n",
    "low  = 5000\n",
    "high = low+step\n",
    "\n",
    "lb_df = labels_df\n",
    "##lb_df = labels_df[low:high]\n",
    "split = len(lb_df)-int(len(lb_df)/5.0)\n",
    "generate, validate = lb_df[:split], lb_df[split:]\n",
    "\n",
    "print(datetime.datetime.now())\n",
    "#hist1  = model10.fit(trX[low:high],trY[low:high],\n",
    "#hist1  = model10.fit(trX[low:high],trY[low:high],\n",
    "hist1  = model10.fit_generator( get_train(batch_size,0,len(generate),debugOK=False,flip=0.1),\n",
    "                    epochs=epochs, \n",
    "                    steps_per_epoch=int(len(generate)/batch_size),\n",
    "                    validation_data=get_train(batch_size,split,len(validate),debugOK=False),\n",
    "                    validation_steps=int(len(validate)/batch_size),\n",
    "                    initial_epoch = 3,\n",
    "                    #### ???? max_queue_size=100,\n",
    "                    callbacks=[early_stopping,checkpoint, reduce_lr],\n",
    "                    verbose=verbose)\n",
    "\n",
    "print(datetime.datetime.now()) #,pp,'fbeta2s=',fbeta2score,fbeta2pred)"
   ]
  },
  {
   "cell_type": "code",
   "execution_count": 113,
   "metadata": {
    "collapsed": false,
    "deletable": true,
    "editable": true,
    "scrolled": true
   },
   "outputs": [
    {
     "data": {
      "text/plain": [
       "'float64'"
      ]
     },
     "execution_count": 113,
     "metadata": {},
     "output_type": "execute_result"
    }
   ],
   "source": [
    "#fc1[1].shape, fc1[1][:10], fc2[0][:10], fc2[1][:10], ffcc[0][:10], ffcc[1][:10]\n",
    "K.floatx(); K.set_floatx('float64')\n",
    "K.floatx()"
   ]
  },
  {
   "cell_type": "code",
   "execution_count": 36,
   "metadata": {
    "collapsed": false,
    "deletable": true,
    "editable": true
   },
   "outputs": [
    {
     "data": {
      "image/png": "[encoded data removed]",
      "text/plain": [
       "<matplotlib.figure.Figure at 0x7fe30e2af350>"
      ]
     },
     "metadata": {},
     "output_type": "display_data"
    },
    {
     "data": {
      "image/png": "[encoded data removed]",
      "text/plain": [
       "<matplotlib.figure.Figure at 0x7fe2ef68ac90>"
      ]
     },
     "metadata": {},
     "output_type": "display_data"
    }
   ],
   "source": [
    "plt.plot(hist1.history['acc']); plt.plot(hist1.history['val_acc']); plt.show()\n",
    "plt.plot(hist1.history['loss']); plt.plot(hist1.history['val_loss']); plt.show()\n",
    "plt.close()\n",
    "#hist1.history"
   ]
  },
  {
   "cell_type": "code",
   "execution_count": 37,
   "metadata": {
    "collapsed": false,
    "deletable": true,
    "editable": true
   },
   "outputs": [
    {
     "data": {
      "text/plain": [
       "{'acc': [0.012259140316205534, 0.012259140316205534, 0.012259140316205534],\n",
       " 'fbeta_pred': [0.510830499408509, 0.51140914100549906, 0.51132682634318771],\n",
       " 'loss': [0.48906727211748657, 0.4885906072355542, 0.48867292189786554],\n",
       " 'lr': [0.0099999998, 0.0099999998, 0.0099999998],\n",
       " 'val_acc': [0.01066468253968254, 0.01066468253968254, 0.01066468253968254],\n",
       " 'val_fbeta_pred': [0.51096921674315887,\n",
       "  0.51096921674315887,\n",
       "  0.51096921674315887],\n",
       " 'val_loss': [0.48903053171104854, 0.48903053171104854, 0.48903053171104854]}"
      ]
     },
     "execution_count": 37,
     "metadata": {},
     "output_type": "execute_result"
    }
   ],
   "source": [
    "hist1.history"
   ]
  },
  {
   "cell_type": "code",
   "execution_count": null,
   "metadata": {
    "collapsed": false,
    "deletable": true,
    "editable": true
   },
   "outputs": [],
   "source": []
  },
  {
   "cell_type": "code",
   "execution_count": 47,
   "metadata": {
    "collapsed": false,
    "deletable": true,
    "editable": true
   },
   "outputs": [
    {
     "name": "stdout",
     "output_type": "stream",
     "text": [
      "2017-07-20 19:05:03.306304 load   :  1 5000 (5000, 224, 224, 3) (5000, 17)\n",
      "2017-07-20 19:06:38.332206 predict:  1 (5000, 17) (5000, 17) True\n",
      "2017-07-20 19:07:04.366055 load   :  2 10000 (5000, 224, 224, 3) (5000, 17)\n",
      "2017-07-20 19:08:39.270390 predict:  2 (10000, 17) (10000, 17) True\n",
      "2017-07-20 19:09:06.190638 load   :  3 15000 (5000, 224, 224, 3) (5000, 17)\n",
      "2017-07-20 19:10:41.272226 predict:  3 (15000, 17) (15000, 17) True\n",
      "2017-07-20 19:11:07.049758 load   :  4 20000 (5000, 224, 224, 3) (5000, 17)\n",
      "2017-07-20 19:12:42.130874 predict:  4 (20000, 17) (20000, 17) True\n",
      "2017-07-20 19:13:08.822218 load   :  5 25000 (5000, 224, 224, 3) (5000, 17)\n",
      "2017-07-20 19:14:43.810355 predict:  5 (25000, 17) (25000, 17) True\n",
      "2017-07-20 19:15:11.310134 load   :  6 30000 (5000, 224, 224, 3) (5000, 17)\n",
      "2017-07-20 19:16:46.248116 predict:  6 (30000, 17) (30000, 17) True\n",
      "2017-07-20 19:17:14.396144 load   :  7 35000 (5000, 224, 224, 3) (5000, 17)\n",
      "2017-07-20 19:18:49.351150 predict:  7 (35000, 17) (35000, 17) True\n",
      "2017-07-20 19:19:16.834521 load   :  8 40000 (5000, 224, 224, 3) (5000, 17)\n",
      "2017-07-20 19:20:51.793593 predict:  8 (40000, 17) (40000, 17) True\n",
      "2017-07-20 19:21:19.207013 load   :  9 45000 (5000, 224, 224, 3) (5000, 17)\n",
      "2017-07-20 19:22:54.106101 predict:  9 (45000, 17) (45000, 17) False\n"
     ]
    }
   ],
   "source": [
    "#\n",
    "#  Построение решения для train массива\n",
    "#\n",
    "\n",
    "# train\n",
    "\n",
    "train = get_train(5000,0,len(labels_df),debugOK=False);\n",
    "\n",
    "Flag, i, load_size = True, 0, 0;\n",
    "try : \n",
    "    while Flag :\n",
    "            xx,yy = train.next();\n",
    "            i, load_size = i+1, load_size+yy.shape[0];\n",
    "            print(datetime.datetime.now(),'load   : ',i,load_size,xx.shape,yy.shape) #,yy[0],yy[-1])\n",
    "            assert (xx.shape[0]==yy.shape[0])\n",
    "\n",
    "            pp   = model10.predict(xx, batch_size=batch_size)\n",
    "            if (i==1) :\n",
    "                trP = pp\n",
    "                trY = yy\n",
    "            else :\n",
    "                trP = np.vstack([trP,pp])\n",
    "                trY = np.vstack([trY,yy])\n",
    "\n",
    "            if trY.shape[0]>=len(labels_df) : Flag = False;\n",
    "            print(datetime.datetime.now(),'predict: ',i,trP.shape,trY.shape,Flag) #,trY[0],trY[-1])\n",
    "\n",
    "except StopIteration as e : Flag = False;\n",
    "        \n",
    "finally : train.close();\n"
   ]
  },
  {
   "cell_type": "code",
   "execution_count": 48,
   "metadata": {
    "collapsed": false,
    "deletable": true,
    "editable": true
   },
   "outputs": [],
   "source": [
    "##%time trP = model10.predict(trX, batch_size=batch_size)\n",
    "trP01       = getProb01(trP)\n",
    "th, _       = getTh(trY,trP)\n",
    "trP01x      = getProbX01(trP,th)"
   ]
  },
  {
   "cell_type": "code",
   "execution_count": null,
   "metadata": {
    "collapsed": true,
    "deletable": true,
    "editable": true
   },
   "outputs": [],
   "source": []
  },
  {
   "cell_type": "code",
   "execution_count": 49,
   "metadata": {
    "collapsed": false,
    "deletable": true,
    "editable": true
   },
   "outputs": [
    {
     "name": "stdout",
     "output_type": "stream",
     "text": [
      "(45000, 17)\n",
      "(45000, 17)\n",
      "fbeta_score= 0.301470344981\n",
      "fbeta_pred = 0.510213680134\n",
      "fbeta_score= 0.642528673494\n",
      "fbeta_pred = 0.748739879978\n"
     ]
    }
   ],
   "source": [
    "#print(model10.evaluate(trX,trY,verbose=2,batch_size=batch_size))\n",
    "print(trY.shape)\n",
    "print(trP.shape)\n",
    "#print('fbeta_score=',fbeta_score(trY, np.array(trP) > 0.2, beta=2, average='samples'))\n",
    "#print('fbeta_score=',fbeta_score(trY, np.array(trP) > 0.5, beta=2, average='samples'))\n",
    "##-------------\n",
    "print('fbeta_score=',fbeta_score(trY,trP01, beta=2, average='samples'))\n",
    "print('fbeta_pred =',K.get_value(fbeta_pred(trY.astype(np.float64),trP01.astype(np.float64))))\n",
    "##-------------\n",
    "if trY.shape[1]==17 :\n",
    "    print('fbeta_score=',fbeta_score(trY,trP01x, beta=2, average='samples'))\n",
    "    print('fbeta_pred =',K.get_value(fbeta_pred(trY.astype(np.float64),trP01x.astype(np.float64))))"
   ]
  },
  {
   "cell_type": "code",
   "execution_count": null,
   "metadata": {
    "collapsed": false,
    "deletable": true,
    "editable": true
   },
   "outputs": [],
   "source": []
  },
  {
   "cell_type": "code",
   "execution_count": 33,
   "metadata": {
    "collapsed": false,
    "deletable": true,
    "editable": true
   },
   "outputs": [],
   "source": [
    "if False :\n",
    "    freeze  = ('fc1','fc2','dropout_1','dropout_2','flatten')\n",
    "    trainOK = ('input_1','predictions')\n",
    "    for layer in model10.layers :\n",
    "        #if (layer.name=='fc1') : layer.trainable = False\n",
    "        #if (layer.name=='fc2') : layer.trainable = False\n",
    "        if (layer.name in freeze) : layer.trainable = False\n",
    "        else : layer.trainable = True\n",
    "        if (layer.name in trainOK) : layer.trainable = True\n",
    "        layer.trainable = True\n",
    "        print(layer.name,layer.trainable)      "
   ]
  },
  {
   "cell_type": "code",
   "execution_count": null,
   "metadata": {
    "collapsed": true,
    "deletable": true,
    "editable": true
   },
   "outputs": [],
   "source": []
  },
  {
   "cell_type": "code",
   "execution_count": null,
   "metadata": {
    "collapsed": true,
    "deletable": true,
    "editable": true
   },
   "outputs": [],
   "source": []
  },
  {
   "cell_type": "code",
   "execution_count": null,
   "metadata": {
    "collapsed": true,
    "deletable": true,
    "editable": true
   },
   "outputs": [],
   "source": []
  },
  {
   "cell_type": "code",
   "execution_count": 34,
   "metadata": {
    "collapsed": false,
    "deletable": true,
    "editable": true
   },
   "outputs": [],
   "source": [
    "if True :\n",
    "    save_model(model10,'../Data-Keras/Models/model-VGG19-224x224x3-d2048xd2048.h5')\n",
    "    model10.save_weights('../Data-Keras/Models/model-VGG19-224x224x3-d2048xd2048-weights.h5')\n",
    "    if False : # best 0x90004\n",
    "        save_model(model10,'../Work/Join-XGB-NET/VGG19-LB=0x90004/model-VGG19-128x128x3-d4096xd4096.h5')\n",
    "        model10.save_weights('../Work/Join-XGB-NET/VGG19-LB=0x90004/model-VGG19-128x128x3-d4096xd4096-weights.h5')\n",
    "        np.save('../Work/Join-XGB-NET/VGG19-LB=0x90004/trIP01-XX.npy',trP01)\n",
    "        np.save('../Work/Join-XGB-NET/VGG19-LB=0x90004/trIP-XX.npy', trP)\n",
    "        np.save('../Work/Join-XGB-NET/VGG19-LB=0x90004/trIY-YY.npy',trY)"
   ]
  },
  {
   "cell_type": "code",
   "execution_count": 35,
   "metadata": {
    "collapsed": false,
    "deletable": true,
    "editable": true
   },
   "outputs": [
    {
     "name": "stdout",
     "output_type": "stream",
     "text": [
      "_________________________________________________________________\n",
      "Layer (type)                 Output Shape              Param #   \n",
      "=================================================================\n",
      "input_1 (InputLayer)         (None, 224, 224, 3)       0         \n",
      "_________________________________________________________________\n",
      "block1_conv1 (Conv2D)        (None, 224, 224, 64)      1792      \n",
      "_________________________________________________________________\n",
      "block1_conv2 (Conv2D)        (None, 224, 224, 64)      36928     \n",
      "_________________________________________________________________\n",
      "block1_pool (MaxPooling2D)   (None, 112, 112, 64)      0         \n",
      "_________________________________________________________________\n",
      "block2_conv1 (Conv2D)        (None, 112, 112, 128)     73856     \n",
      "_________________________________________________________________\n",
      "block2_conv2 (Conv2D)        (None, 112, 112, 128)     147584    \n",
      "_________________________________________________________________\n",
      "block2_pool (MaxPooling2D)   (None, 56, 56, 128)       0         \n",
      "_________________________________________________________________\n",
      "block3_conv1 (Conv2D)        (None, 56, 56, 256)       295168    \n",
      "_________________________________________________________________\n",
      "block3_conv2 (Conv2D)        (None, 56, 56, 256)       590080    \n",
      "_________________________________________________________________\n",
      "block3_conv3 (Conv2D)        (None, 56, 56, 256)       590080    \n",
      "_________________________________________________________________\n",
      "block3_conv4 (Conv2D)        (None, 56, 56, 256)       590080    \n",
      "_________________________________________________________________\n",
      "block3_pool (MaxPooling2D)   (None, 28, 28, 256)       0         \n",
      "_________________________________________________________________\n",
      "block4_conv1 (Conv2D)        (None, 28, 28, 512)       1180160   \n",
      "_________________________________________________________________\n",
      "block4_conv2 (Conv2D)        (None, 28, 28, 512)       2359808   \n",
      "_________________________________________________________________\n",
      "block4_conv3 (Conv2D)        (None, 28, 28, 512)       2359808   \n",
      "_________________________________________________________________\n",
      "block4_conv4 (Conv2D)        (None, 28, 28, 512)       2359808   \n",
      "_________________________________________________________________\n",
      "block4_pool (MaxPooling2D)   (None, 14, 14, 512)       0         \n",
      "_________________________________________________________________\n",
      "block5_conv1 (Conv2D)        (None, 14, 14, 512)       2359808   \n",
      "_________________________________________________________________\n",
      "block5_conv2 (Conv2D)        (None, 14, 14, 512)       2359808   \n",
      "_________________________________________________________________\n",
      "block5_conv3 (Conv2D)        (None, 14, 14, 512)       2359808   \n",
      "_________________________________________________________________\n",
      "block5_conv4 (Conv2D)        (None, 14, 14, 512)       2359808   \n",
      "_________________________________________________________________\n",
      "block5_pool (MaxPooling2D)   (None, 7, 7, 512)         0         \n",
      "_________________________________________________________________\n",
      "flatten_1 (Flatten)          (None, 25088)             0         \n",
      "_________________________________________________________________\n",
      "ffcc1 (Dense)                (None, 2048)              51382272  \n",
      "_________________________________________________________________\n",
      "dropout_1 (Dropout)          (None, 2048)              0         \n",
      "_________________________________________________________________\n",
      "ffcc2 (Dense)                (None, 2048)              4196352   \n",
      "_________________________________________________________________\n",
      "dropout_2 (Dropout)          (None, 2048)              0         \n",
      "_________________________________________________________________\n",
      "dense_1 (Dense)              (None, 17)                34833     \n",
      "=================================================================\n",
      "Total params: 75,637,841\n",
      "Trainable params: 75,637,841\n",
      "Non-trainable params: 0\n",
      "_________________________________________________________________\n"
     ]
    }
   ],
   "source": [
    "model10.summary()"
   ]
  },
  {
   "cell_type": "code",
   "execution_count": null,
   "metadata": {
    "collapsed": true,
    "deletable": true,
    "editable": true
   },
   "outputs": [],
   "source": []
  },
  {
   "cell_type": "code",
   "execution_count": 36,
   "metadata": {
    "collapsed": false,
    "deletable": true,
    "editable": true
   },
   "outputs": [
    {
     "data": {
      "text/plain": [
       "(array([  4.56366807e-01,   4.52337533e-01,   6.06064685e-04,\n",
       "          8.98498148e-02,   5.49582473e-04,   3.85837993e-05,\n",
       "          8.01223650e-05,   6.23793603e-05,   1.65109020e-06,\n",
       "          2.15219679e-05,   3.97033364e-05,   1.96343976e-07,\n",
       "          1.58212206e-05,   1.37065740e-07,   1.98517318e-05,\n",
       "          1.81703604e-06,   8.39346467e-06], dtype=float32),\n",
       " array([1, 1, 0, 0, 0, 0, 0, 0, 0, 0, 0, 0, 0, 0, 0, 0, 0], dtype=uint8),\n",
       " array([ 0.,  0.,  0.,  0.,  0.,  0.,  0.,  0.,  0.,  0.,  0.,  0.,  0.,\n",
       "         0.,  0.,  0.,  0.], dtype=float32),\n",
       " array([1, 1, 0, 0, 0, 0, 0, 0, 0, 0, 0, 0, 0, 0, 0, 0, 0], dtype=uint8))"
      ]
     },
     "execution_count": 36,
     "metadata": {},
     "output_type": "execute_result"
    }
   ],
   "source": [
    "trP[0], trY[0], trP01[0], trP01x[0]"
   ]
  },
  {
   "cell_type": "code",
   "execution_count": null,
   "metadata": {
    "collapsed": true,
    "deletable": true,
    "editable": true
   },
   "outputs": [],
   "source": []
  },
  {
   "cell_type": "code",
   "execution_count": 139,
   "metadata": {
    "collapsed": true,
    "deletable": true,
    "editable": true
   },
   "outputs": [],
   "source": [
    "# Результативность"
   ]
  },
  {
   "cell_type": "code",
   "execution_count": 50,
   "metadata": {
    "collapsed": false,
    "deletable": true,
    "editable": true
   },
   "outputs": [
    {
     "name": "stdout",
     "output_type": "stream",
     "text": [
      "0 acc=0.932711111111 roc=0.5 not=3028 yes=0 no=41972 true=41972 all-1-0=(0.0000-1.0000)\n",
      "1 acc=0.926711111111 roc=0.5 not=3298 yes=41702 no=0 true=41702 all-1-0=(1.0000-0.0000)\n",
      "2 acc=0.696333333333 roc=0.5 not=13665 yes=0 no=31335 true=31335 all-1-0=(0.0000-1.0000)\n",
      "3 acc=0.701 roc=0.5 not=13455 yes=31545 no=0 true=31545 all-1-0=(1.0000-0.0000)\n",
      "4 acc=0.8166 roc=0.5 not=8253 yes=0 no=36747 true=36747 all-1-0=(0.0000-1.0000)\n",
      "5 acc=0.909755555556 roc=0.5 not=4061 yes=0 no=40939 true=40939 all-1-0=(0.0000-1.0000)\n",
      "6 acc=0.800488888889 roc=0.5 not=8978 yes=0 no=36022 true=36022 all-1-0=(0.0000-1.0000)\n",
      "7 acc=0.89 roc=0.5 not=4950 yes=0 no=40050 true=40050 all-1-0=(0.0000-1.0000)\n",
      "8 acc=0.994755555556 roc=0.5 not=236 yes=0 no=44764 true=44764 all-1-0=(0.0000-1.0000)\n",
      "9 acc=0.948044444444 roc=0.5 not=2338 yes=0 no=42662 true=42662 all-1-0=(0.0000-1.0000)\n",
      "10 acc=0.820266666667 roc=0.5 not=8088 yes=0 no=36912 true=36912 all-1-0=(0.0000-1.0000)\n",
      "11 acc=0.997711111111 roc=0.5 not=103 yes=0 no=44897 true=44897 all-1-0=(0.0000-1.0000)\n",
      "12 acc=0.978866666667 roc=0.5 not=951 yes=0 no=44049 true=44049 all-1-0=(0.0000-1.0000)\n",
      "13 acc=0.991622222222 roc=0.5 not=377 yes=0 no=44623 true=44623 all-1-0=(0.0000-1.0000)\n",
      "14 acc=0.991644444444 roc=0.5 not=376 yes=0 no=44624 true=44624 all-1-0=(0.0000-1.0000)\n",
      "15 acc=0.991688888889 roc=0.5 not=374 yes=0 no=44626 true=44626 all-1-0=(0.0000-1.0000)\n",
      "16 acc=0.997555555556 roc=0.5 not=110 yes=0 no=44890 true=44890 all-1-0=(0.0000-1.0000)\n"
     ]
    }
   ],
   "source": [
    "temp = estimateResult(trY,trP01x,printOK=True) # 40000 jpg128 (epoch=40,features=17) VGG19 d4096+d4096 +weights+imnet"
   ]
  },
  {
   "cell_type": "code",
   "execution_count": 312,
   "metadata": {
    "collapsed": false,
    "deletable": true,
    "editable": true
   },
   "outputs": [
    {
     "name": "stdout",
     "output_type": "stream",
     "text": [
      "0 acc=0.970824378073 roc=0.827535509167 not=1181 yes=1786 no=37512 true=39298 all-1-0=(0.6622-0.9929)\n",
      "1 acc=0.976555744954 roc=0.877590365212 not=949 yes=37271 no=2259 true=39530 all-1-0=(0.9935-0.7616)\n",
      "2 acc=0.917611601077 roc=0.909720294098 not=3335 yes=10955 no=26189 true=37144 all-1-0=(0.8896-0.9299)\n",
      "3 acc=0.964376590331 roc=0.949960875432 not=1442 yes=28021 no=11016 true=39037 all-1-0=(0.9856-0.9143)\n",
      "4 acc=0.937943131006 roc=0.87391779368 not=2512 yes=5728 no=32239 true=37967 all-1-0=(0.7729-0.9749)\n",
      "5 acc=0.954074952444 roc=0.807677321803 not=1859 yes=2302 no=36318 true=38620 all-1-0=(0.6290-0.9864)\n",
      "6 acc=0.942711035352 roc=0.901277662688 not=2319 yes=6718 no=31442 true=38160 all-1-0=(0.8324-0.9702)\n",
      "7 acc=0.928012055634 roc=0.768147534975 not=2914 yes=2520 no=35045 true=37565 all-1-0=(0.5629-0.9734)\n",
      "8 acc=0.994861533141 roc=0.507152201111 not=208 yes=3 no=40268 true=40271 all-1-0=(0.0144-1.0000)\n",
      "9 acc=0.990464191309 roc=0.950839323708 not=386 yes=1894 no=38199 true=40093 all-1-0=(0.9067-0.9950)\n",
      "10 acc=0.982410632674 roc=0.970772637269 not=712 yes=6917 no=32850 true=39767 all-1-0=(0.9526-0.9889)\n",
      "11 acc=0.998443637442 roc=0.759814259888 not=63 yes=52 no=40364 true=40416 all-1-0=(0.5200-0.9996)\n",
      "12 acc=0.981447170138 roc=0.627369387875 not=751 yes=222 no=39506 true=39728 all-1-0=(0.2575-0.9972)\n",
      "13 acc=0.99743076657 roc=0.910956343065 not=104 yes=279 no=40096 true=40375 all-1-0=(0.8230-0.9989)\n",
      "14 acc=0.991946441365 roc=0.543388251489 not=326 yes=29 no=40124 true=40153 all-1-0=(0.0873-0.9994)\n",
      "15 acc=0.992909903901 roc=0.647931489544 not=287 yes=101 no=40091 true=40192 all-1-0=(0.2971-0.9988)\n",
      "16 acc=0.997702512414 roc=0.545868839103 not=93 yes=9 no=40377 true=40386 all-1-0=(0.0918-0.9999)\n"
     ]
    }
   ],
   "source": [
    "temp = estimateResult(trY,trP01x,printOK=True) # 40000 jpg128 (epoch=40,features=17) VGG19 d4096+d4096 +weights+imnet LB=0.90004"
   ]
  },
  {
   "cell_type": "code",
   "execution_count": null,
   "metadata": {
    "collapsed": false,
    "deletable": true,
    "editable": true
   },
   "outputs": [],
   "source": []
  },
  {
   "cell_type": "code",
   "execution_count": null,
   "metadata": {
    "collapsed": false,
    "deletable": true,
    "editable": true
   },
   "outputs": [],
   "source": []
  },
  {
   "cell_type": "code",
   "execution_count": 50,
   "metadata": {
    "collapsed": false,
    "deletable": true,
    "editable": true
   },
   "outputs": [],
   "source": [
    "#model.load_weights('../Data-Keras/train-model-2D-2-v2-loop-weights.h5') ## verify load weights from v1 version"
   ]
  },
  {
   "cell_type": "code",
   "execution_count": 86,
   "metadata": {
    "collapsed": false,
    "deletable": true,
    "editable": true
   },
   "outputs": [],
   "source": []
  },
  {
   "cell_type": "code",
   "execution_count": 62,
   "metadata": {
    "collapsed": true,
    "deletable": true,
    "editable": true
   },
   "outputs": [],
   "source": [
    "def generate_test ( dirIn, output_shape, size=5000, preprocess=True, debugOK=False) :\n",
    "    \n",
    "    xx = np.zeros((size,output_shape[0],output_shape[1],output_shape[2]),dtype=np.float32);\n",
    "    yy = np.array((size,output_shape[0],output_shape[1],output_shape[2]));\n",
    "    \n",
    "    iijj = 0;\n",
    "    \n",
    "    names_files = np.array(os.listdir(dirIn));\n",
    "    if debugOK : \n",
    "        print('generate_test: names_files={} size={} dirIn={}'.format(len(names_files),size,dirIn))\n",
    "        names_files = names_files[:1000]\n",
    "        print(names_files.shape)\n",
    "    \n",
    "    for ii in range(0,names_files.shape[0],size) :\n",
    "        ###if debugOK : print('generate_test: ii={}'.format(ii))\n",
    "        yy    = names_files[ii:min(ii+size,names_files.shape[0])];\n",
    "        files = names_files[ii:min(ii+size,names_files.shape[0])].tolist()\n",
    "        #################files = [x+ext for x in files]\n",
    "        if len(files)<size :\n",
    "            xx = np.zeros((len(files),output_shape[0],output_shape[1],output_shape[2]),dtype=np.float32);\n",
    "        for i in range(len(files)) :\n",
    "            nf    = os.path.join(dirIn,files[i])\n",
    "            xx[i] = formImExt(nf,EqualizeOK=False,resize=(output_shape[0],output_shape[1]))\n",
    "            iijj += 1\n",
    "            ##if (iijj%5000)==0 : print (datetime.datetime.now(),'-->',iijj)\n",
    "        if preprocess : xx    = preprocess_input(xx)\n",
    "        yield xx,yy"
   ]
  },
  {
   "cell_type": "code",
   "execution_count": null,
   "metadata": {
    "collapsed": true,
    "deletable": true,
    "editable": true
   },
   "outputs": [],
   "source": []
  },
  {
   "cell_type": "code",
   "execution_count": 63,
   "metadata": {
    "collapsed": false,
    "deletable": true,
    "editable": true
   },
   "outputs": [
    {
     "name": "stdout",
     "output_type": "stream",
     "text": [
      "2017-07-20 02:15:21.288719 load   :  1 10000 (10000, 224, 224, 3) (10000,) test_10002.jpg test_19029.jpg\n",
      "2017-07-20 02:18:30.646932 predict:  1 (10000, 17) (10000,) test_10002.jpg test_19029.jpg\n",
      "2017-07-20 02:18:56.510001 load   :  2 20000 (10000, 224, 224, 3) (10000,) test_1903.jpg test_28015.jpg\n",
      "2017-07-20 02:22:02.253519 predict:  2 (20000, 17) (20000,) test_10002.jpg test_28015.jpg\n",
      "2017-07-20 02:22:26.479803 load   :  3 30000 (10000, 224, 224, 3) (10000,) test_28016.jpg test_37026.jpg\n",
      "2017-07-20 02:25:35.815766 predict:  3 (30000, 17) (30000,) test_10002.jpg test_37026.jpg\n",
      "2017-07-20 02:26:00.469369 load   :  4 40000 (10000, 224, 224, 3) (10000,) test_37027.jpg test_9402.jpg\n",
      "2017-07-20 02:29:05.889105 predict:  4 (40000, 17) (40000,) test_10002.jpg test_9402.jpg\n",
      "2017-07-20 02:29:30.731536 load   :  5 50000 (10000, 224, 224, 3) (10000,) test_9403.jpg file_18419.jpg\n",
      "2017-07-20 02:32:40.369371 predict:  5 (50000, 17) (50000,) test_10002.jpg file_18419.jpg\n",
      "2017-07-20 02:33:24.057833 load   :  6 60000 (10000, 224, 224, 3) (10000,) file_1842.jpg file_892.jpg\n",
      "2017-07-20 02:36:29.921109 predict:  6 (60000, 17) (60000,) test_10002.jpg file_892.jpg\n",
      "2017-07-20 02:36:33.702021 load   :  7 61191 (1191, 224, 224, 3) (1191,) file_8920.jpg file_9999.jpg\n",
      "2017-07-20 02:36:56.214632 predict:  7 (61191, 17) (61191,) test_10002.jpg file_9999.jpg\n"
     ]
    }
   ],
   "source": [
    "#\n",
    "#  Построение решения для test массива на основе уровней прохождения (эффект почему-то дают)\n",
    "#    Построенное решение 01 полное с учетом погодных критериев [0,3,9,10]\n",
    "#        и особенности критерия cloudy (посмотреть и сменить можно в getProbX01)\n",
    "#        Построение критериев прохождения в getTh\n",
    "#\n",
    "\n",
    "# test\n",
    "\n",
    "test = generate_test(teDirJPG,sizing,size=10000,debugOK=False);\n",
    "Flag, i, load_size = True, 0, 0;\n",
    "try : \n",
    "    while True :\n",
    "            xx,yy = test.next();\n",
    "            i, load_size = i+1, load_size+yy.shape[0];\n",
    "            print(datetime.datetime.now(),'load   : ',i,load_size,xx.shape,yy.shape,yy[0],yy[-1])\n",
    "            assert (xx.shape[0]==yy.shape[0])\n",
    "\n",
    "            pp   = model10.predict(xx, batch_size=batch_size)\n",
    "            if (i==1) :\n",
    "                trOP = pp\n",
    "                trOY = yy\n",
    "            else :\n",
    "                trOP = np.vstack([trOP,pp])\n",
    "                trOY = np.hstack([trOY,yy])\n",
    "\n",
    "            print(datetime.datetime.now(),'predict: ',i,trOP.shape,trOY.shape,trOY[0],trOY[-1])\n",
    "\n",
    "except StopIteration as e : Flag = False;\n",
    "        \n",
    "finally : test.close();\n",
    "\n",
    "# Уровни прохождения & решение\n",
    "trO01   = getProbX01(trOP,th)\n",
    "######trO01   = getProb01(trOP,th=0.2)\n",
    "\n"
   ]
  },
  {
   "cell_type": "code",
   "execution_count": null,
   "metadata": {
    "collapsed": true,
    "deletable": true,
    "editable": true
   },
   "outputs": [],
   "source": []
  },
  {
   "cell_type": "code",
   "execution_count": 64,
   "metadata": {
    "collapsed": true,
    "deletable": true,
    "editable": true
   },
   "outputs": [],
   "source": [
    "# Строим результат"
   ]
  },
  {
   "cell_type": "code",
   "execution_count": 65,
   "metadata": {
    "collapsed": false,
    "deletable": true,
    "editable": true
   },
   "outputs": [
    {
     "data": {
      "text/plain": [
       "'test_10002.jpg'"
      ]
     },
     "execution_count": 65,
     "metadata": {},
     "output_type": "execute_result"
    }
   ],
   "source": [
    "trZ = trO01\n",
    "trOY_old = trOY\n",
    "trOY_old[0]"
   ]
  },
  {
   "cell_type": "code",
   "execution_count": null,
   "metadata": {
    "collapsed": true,
    "deletable": true,
    "editable": true
   },
   "outputs": [],
   "source": []
  },
  {
   "cell_type": "code",
   "execution_count": 66,
   "metadata": {
    "collapsed": false,
    "deletable": true,
    "editable": true
   },
   "outputs": [
    {
     "data": {
      "text/plain": [
       "'test_10002'"
      ]
     },
     "execution_count": 66,
     "metadata": {},
     "output_type": "execute_result"
    }
   ],
   "source": [
    "trOY = trOY_old.tolist(); type(trOY), len(trOY)\n",
    "trOY = [os.path.splitext(xx)[0] for xx in trOY]; trOY[0]"
   ]
  },
  {
   "cell_type": "code",
   "execution_count": 67,
   "metadata": {
    "collapsed": true,
    "deletable": true,
    "editable": true
   },
   "outputs": [],
   "source": [
    "temp_list = []\n",
    "for i in range(trZ.shape[0]) :\n",
    "    temp = [labels[ii] for ii in range(trZ.shape[1]) if trZ[i,ii]==1];\n",
    "    temp = ' '.join(temp)\n",
    "    temp_list.append([trOY[i],temp])\n",
    "temp_list.sort(cmp=lambda x,y: cmp(int(x[0].partition('_')[2]),int(y[0].partition('_')[2])) if (x[0].partition('_')[0]==y[0].partition('_')[0]) else cmp(y[0].partition('_')[0],x[0].partition('_')[0]))\n"
   ]
  },
  {
   "cell_type": "code",
   "execution_count": 68,
   "metadata": {
    "collapsed": false,
    "deletable": true,
    "editable": true
   },
   "outputs": [
    {
     "data": {
      "text/plain": [
       "[['test_0', 'haze primary'],\n",
       " ['test_1', 'haze primary'],\n",
       " ['test_2', 'haze primary'],\n",
       " ['test_3', 'haze primary'],\n",
       " ['test_4', 'haze primary']]"
      ]
     },
     "execution_count": 68,
     "metadata": {},
     "output_type": "execute_result"
    }
   ],
   "source": [
    "temp_list[0:5]"
   ]
  },
  {
   "cell_type": "code",
   "execution_count": null,
   "metadata": {
    "collapsed": true,
    "deletable": true,
    "editable": true
   },
   "outputs": [],
   "source": []
  },
  {
   "cell_type": "code",
   "execution_count": 69,
   "metadata": {
    "collapsed": false,
    "deletable": true,
    "editable": true
   },
   "outputs": [
    {
     "name": "stdout",
     "output_type": "stream",
     "text": [
      "2017-07-20-02-37-08\n"
     ]
    }
   ],
   "source": [
    "rrr=pd.DataFrame(temp_list,columns=['image_name','tags']); rrr.head(); \n",
    "suffixDT = (datetime.datetime.now()).strftime('%Y-%m-%d-%H-%M-%S'); print(suffixDT)\n",
    "rrr.to_csv('../Result/vss'+suffixDT+'.csv',index=False);"
   ]
  },
  {
   "cell_type": "code",
   "execution_count": 70,
   "metadata": {
    "collapsed": false,
    "deletable": true,
    "editable": true
   },
   "outputs": [
    {
     "data": {
      "text/html": [
       "<div>\n",
       "<table border=\"1\" class=\"dataframe\">\n",
       "  <thead>\n",
       "    <tr style=\"text-align: right;\">\n",
       "      <th></th>\n",
       "      <th>image_name</th>\n",
       "      <th>tags</th>\n",
       "    </tr>\n",
       "  </thead>\n",
       "  <tbody>\n",
       "    <tr>\n",
       "      <th>0</th>\n",
       "      <td>test_0</td>\n",
       "      <td>haze primary</td>\n",
       "    </tr>\n",
       "    <tr>\n",
       "      <th>1</th>\n",
       "      <td>test_1</td>\n",
       "      <td>haze primary</td>\n",
       "    </tr>\n",
       "    <tr>\n",
       "      <th>2</th>\n",
       "      <td>test_2</td>\n",
       "      <td>haze primary</td>\n",
       "    </tr>\n",
       "    <tr>\n",
       "      <th>3</th>\n",
       "      <td>test_3</td>\n",
       "      <td>haze primary</td>\n",
       "    </tr>\n",
       "    <tr>\n",
       "      <th>4</th>\n",
       "      <td>test_4</td>\n",
       "      <td>haze primary</td>\n",
       "    </tr>\n",
       "  </tbody>\n",
       "</table>\n",
       "</div>"
      ],
      "text/plain": [
       "  image_name          tags\n",
       "0     test_0  haze primary\n",
       "1     test_1  haze primary\n",
       "2     test_2  haze primary\n",
       "3     test_3  haze primary\n",
       "4     test_4  haze primary"
      ]
     },
     "execution_count": 70,
     "metadata": {},
     "output_type": "execute_result"
    }
   ],
   "source": [
    "rrr.head()"
   ]
  },
  {
   "cell_type": "code",
   "execution_count": null,
   "metadata": {
    "collapsed": true,
    "deletable": true,
    "editable": true
   },
   "outputs": [],
   "source": []
  }
 ],
 "metadata": {
  "kernelspec": {
   "display_name": "Python 2",
   "language": "python",
   "name": "python2"
  },
  "language_info": {
   "codemirror_mode": {
    "name": "ipython",
    "version": 2
   },
   "file_extension": ".py",
   "mimetype": "text/x-python",
   "name": "python",
   "nbconvert_exporter": "python",
   "pygments_lexer": "ipython2",
   "version": "2.7.13"
  }
 },
 "nbformat": 4,
 "nbformat_minor": 2
}
