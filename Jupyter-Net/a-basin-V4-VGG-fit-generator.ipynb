{
 "cells": [
  {
   "cell_type": "code",
   "execution_count": 1,
   "metadata": {
    "collapsed": true,
    "deletable": true,
    "editable": true
   },
   "outputs": [],
   "source": [
    "##\n",
    "## VGG16 и VGG19 проверка результативности (реализации взяты с github keras/application):\n",
    "##                  https://github.com/fchollet/keras/tree/master/keras/applications\n",
    "##\n",
    "## 2017-05-20\n",
    "## maximum on LB => 0.84500\n",
    "##\n",
    "## TIF - (,,6) (,,3)\n",
    "##\n",
    "## 2017-07-06\n",
    "##  TIF (64,64,6) - полная схема без выемки 09(cloudy) - то есть 17 признаков\n",
    "##  \n",
    "## 2017-07-09\n",
    "##  TIF (64,64,6) - полная схема по признакам 4,5,6,7\n",
    "##\n",
    "## 2017-07-12\n",
    "##  JPG+TIF (64x64x)==(128x128x) по результатам\n",
    "##  BatchNarmalizstion не  поднимает результат\n",
    "##  Наиболее быстрый и адекватный вариант классификационной части dense1024+dense1024\n",
    "##  Ввод новых вегетационных признаков типа CCCI не приводит к улучшению. Либо также либо чуть хуже\n",
    "##\n",
    "## 2017-07-12\n",
    "##  Проверяю полный прогон на VGG19 (для очистки совести и перехожу на другое)\n",
    "##\n",
    "## 2017-07-12\n",
    "##  Проверил! LB=0.90004. Вставил VGG19 на наборе jpg128 + подставил насильственно веса от imagenet. Работает на train 9 часов.\n",
    "##  Необходима специализированная препроцессорная обработка для imagenet (RGB-->BGR; минус спец среднее из изображений)\n",
    "##\n",
    "## 2017-07-15\n",
    "##  Вернулся после неудач с другим сетями\n",
    "##\n",
    "## 2017-07-15\n",
    "##\n",
    "##  Попытка увеличить качество входного материала (resize+equalize) через fit-generator\n",
    "##\n",
    "## 2017-07-19\n",
    "##  Реанимация попытки\n",
    "##"
   ]
  },
  {
   "cell_type": "code",
   "execution_count": 53,
   "metadata": {
    "collapsed": false,
    "deletable": true,
    "editable": true
   },
   "outputs": [],
   "source": [
    "import sys,os,datetime,random\n",
    "import numpy as np\n",
    "import pandas as pd\n",
    "import matplotlib.pyplot as plt\n",
    "from sklearn.metrics import fbeta_score\n",
    "import sklearn.metrics as skm\n",
    "\n",
    "from __future__ import print_function"
   ]
  },
  {
   "cell_type": "code",
   "execution_count": 3,
   "metadata": {
    "collapsed": false,
    "deletable": true,
    "editable": true
   },
   "outputs": [
    {
     "name": "stdout",
     "output_type": "stream",
     "text": [
      "1.12.1\n",
      "0.19.2\n"
     ]
    }
   ],
   "source": [
    "print(np.__version__);\n",
    "print(pd.__version__);"
   ]
  },
  {
   "cell_type": "code",
   "execution_count": 4,
   "metadata": {
    "collapsed": false,
    "deletable": true,
    "editable": true
   },
   "outputs": [
    {
     "data": {
      "text/plain": [
       "'3.2.0'"
      ]
     },
     "execution_count": 4,
     "metadata": {},
     "output_type": "execute_result"
    }
   ],
   "source": [
    "import  cv2 as cv\n",
    "cv.__version__"
   ]
  },
  {
   "cell_type": "code",
   "execution_count": 5,
   "metadata": {
    "collapsed": false,
    "deletable": true,
    "editable": true
   },
   "outputs": [],
   "source": [
    "sys.path.append('../Python')\n",
    "from helper import paths_input, formImExt, formImHist\n",
    "from estimate import confusion_matrix, getConfusion, getRocAUC, getProb01, getProbX01, getTh, estimateResult"
   ]
  },
  {
   "cell_type": "code",
   "execution_count": 6,
   "metadata": {
    "collapsed": false,
    "deletable": true,
    "editable": true
   },
   "outputs": [
    {
     "name": "stderr",
     "output_type": "stream",
     "text": [
      "Using TensorFlow backend.\n"
     ]
    }
   ],
   "source": [
    "from keras.preprocessing.image import ImageDataGenerator, array_to_img, img_to_array, load_img\n",
    "from keras.models import Sequential,save_model,load_model, Model, Input\n",
    "from keras.layers import Convolution2D, MaxPooling2D, Convolution1D, MaxPooling1D\n",
    "from keras.layers import Activation, Dropout, Flatten, Dense, GlobalAveragePooling2D, GlobalMaxPooling2D\n",
    "from keras.layers import Conv2D\n",
    "\n",
    "from keras.applications.vgg19 import VGG19, preprocess_input\n",
    "\n",
    "from keras.layers.normalization import BatchNormalization\n",
    "import keras.optimizers\n",
    "from keras.callbacks import EarlyStopping,ReduceLROnPlateau,ModelCheckpoint\n",
    "import keras.backend as K"
   ]
  },
  {
   "cell_type": "code",
   "execution_count": 7,
   "metadata": {
    "collapsed": false,
    "deletable": true,
    "editable": true
   },
   "outputs": [
    {
     "data": {
      "text/plain": [
       "'2.0.4'"
      ]
     },
     "execution_count": 7,
     "metadata": {},
     "output_type": "execute_result"
    }
   ],
   "source": [
    "keras.__version__"
   ]
  },
  {
   "cell_type": "code",
   "execution_count": 8,
   "metadata": {
    "collapsed": false,
    "deletable": true,
    "editable": true
   },
   "outputs": [
    {
     "data": {
      "text/plain": [
       "('../Data/train-tif-v2',\n",
       " '../Data/test-tif-v2',\n",
       " '../Data/test-jpg-v2',\n",
       " '../Work/Train',\n",
       " '../Work/Test')"
      ]
     },
     "execution_count": 8,
     "metadata": {},
     "output_type": "execute_result"
    }
   ],
   "source": [
    "trLabels,trDirTIF,trDirJPG,teDirTIF,teDirJPG = paths_input()\n",
    "trDirI = trDirTIF\n",
    "teDirI = teDirTIF\n",
    "trWork, teWork = '../Work/Train', '../Work/Test'\n",
    "trDirI,teDirI, teDirJPG, trWork, teWork"
   ]
  },
  {
   "cell_type": "code",
   "execution_count": null,
   "metadata": {
    "collapsed": true,
    "deletable": true,
    "editable": true
   },
   "outputs": [],
   "source": []
  },
  {
   "cell_type": "code",
   "execution_count": 9,
   "metadata": {
    "collapsed": false,
    "deletable": true,
    "editable": true
   },
   "outputs": [
    {
     "data": {
      "text/html": [
       "<div>\n",
       "<table border=\"1\" class=\"dataframe\">\n",
       "  <thead>\n",
       "    <tr style=\"text-align: right;\">\n",
       "      <th></th>\n",
       "      <th>image_name</th>\n",
       "      <th>tags</th>\n",
       "    </tr>\n",
       "  </thead>\n",
       "  <tbody>\n",
       "    <tr>\n",
       "      <th>0</th>\n",
       "      <td>train_0</td>\n",
       "      <td>haze primary</td>\n",
       "    </tr>\n",
       "    <tr>\n",
       "      <th>1</th>\n",
       "      <td>train_1</td>\n",
       "      <td>agriculture clear primary water</td>\n",
       "    </tr>\n",
       "    <tr>\n",
       "      <th>2</th>\n",
       "      <td>train_2</td>\n",
       "      <td>clear primary</td>\n",
       "    </tr>\n",
       "    <tr>\n",
       "      <th>3</th>\n",
       "      <td>train_3</td>\n",
       "      <td>clear primary</td>\n",
       "    </tr>\n",
       "    <tr>\n",
       "      <th>4</th>\n",
       "      <td>train_4</td>\n",
       "      <td>agriculture clear habitation primary road</td>\n",
       "    </tr>\n",
       "  </tbody>\n",
       "</table>\n",
       "</div>"
      ],
      "text/plain": [
       "  image_name                                       tags\n",
       "0    train_0                               haze primary\n",
       "1    train_1            agriculture clear primary water\n",
       "2    train_2                              clear primary\n",
       "3    train_3                              clear primary\n",
       "4    train_4  agriculture clear habitation primary road"
      ]
     },
     "execution_count": 9,
     "metadata": {},
     "output_type": "execute_result"
    }
   ],
   "source": [
    "labels_df = pd.read_csv(trLabels)\n",
    "labels_df.head()"
   ]
  },
  {
   "cell_type": "code",
   "execution_count": 10,
   "metadata": {
    "collapsed": true,
    "deletable": true,
    "editable": true
   },
   "outputs": [],
   "source": [
    "# Build list with unique labels\n",
    "label_list = []\n",
    "for tag_str in labels_df.tags.values:\n",
    "    labels = tag_str.split(' ')\n",
    "    for label in labels:\n",
    "        if label not in label_list:\n",
    "            label_list.append(label)"
   ]
  },
  {
   "cell_type": "code",
   "execution_count": 11,
   "metadata": {
    "collapsed": false,
    "deletable": true,
    "editable": true
   },
   "outputs": [],
   "source": [
    "# Add onehot features for every label\n",
    "for label in label_list:\n",
    "    labels_df[label] = labels_df['tags'].apply(lambda x: 1 if label in x.split(' ') else 0)\n",
    "    #labels_df[label].astype(np.int8)\n",
    "# Display head\n",
    "#labels_df.head()\n"
   ]
  },
  {
   "cell_type": "code",
   "execution_count": 12,
   "metadata": {
    "collapsed": false,
    "deletable": true,
    "editable": true
   },
   "outputs": [],
   "source": [
    "weather_labels = ['clear', 'partly_cloudy', 'haze', 'cloudy']\n",
    "land_labels = ['primary', 'agriculture', 'water', 'cultivation', 'habitation' ]\n",
    "rare_labels = [l for l in label_list if labels_df[label_list].sum()[l] < 2000]\n",
    "#rare_labels              "
   ]
  },
  {
   "cell_type": "code",
   "execution_count": null,
   "metadata": {
    "collapsed": false,
    "deletable": true,
    "editable": true
   },
   "outputs": [],
   "source": []
  },
  {
   "cell_type": "code",
   "execution_count": 13,
   "metadata": {
    "collapsed": false,
    "deletable": true,
    "editable": true
   },
   "outputs": [
    {
     "data": {
      "text/plain": [
       "array([[1, 1, 0, 0, 0, 0, 0, 0, 0, 0, 0, 0, 0, 0, 0, 0, 0],\n",
       "       [0, 1, 1, 1, 1, 0, 0, 0, 0, 0, 0, 0, 0, 0, 0, 0, 0],\n",
       "       [0, 1, 0, 1, 0, 0, 0, 0, 0, 0, 0, 0, 0, 0, 0, 0, 0],\n",
       "       [0, 1, 0, 1, 0, 0, 0, 0, 0, 0, 0, 0, 0, 0, 0, 0, 0],\n",
       "       [0, 1, 1, 1, 0, 1, 1, 0, 0, 0, 0, 0, 0, 0, 0, 0, 0],\n",
       "       [1, 1, 0, 0, 1, 0, 0, 0, 0, 0, 0, 0, 0, 0, 0, 0, 0]])"
      ]
     },
     "execution_count": 13,
     "metadata": {},
     "output_type": "execute_result"
    }
   ],
   "source": [
    "labels = label_list; #weather_labels;\n",
    "nameList =labels_df[labels_df[labels].sum(axis=1)>0].image_name.tolist(); len(nameList)\n",
    "labelList=labels_df[labels_df[labels].sum(axis=1)>0][labels].as_matrix();\n",
    "labelList[:6,:]\n",
    "#labels_df.head()"
   ]
  },
  {
   "cell_type": "code",
   "execution_count": null,
   "metadata": {
    "collapsed": true,
    "deletable": true,
    "editable": true
   },
   "outputs": [],
   "source": []
  },
  {
   "cell_type": "code",
   "execution_count": 14,
   "metadata": {
    "collapsed": false,
    "deletable": true,
    "editable": true
   },
   "outputs": [
    {
     "data": {
      "text/plain": [
       "449"
      ]
     },
     "execution_count": 14,
     "metadata": {},
     "output_type": "execute_result"
    }
   ],
   "source": [
    "len(labels_df.tags.unique())"
   ]
  },
  {
   "cell_type": "code",
   "execution_count": 15,
   "metadata": {
    "collapsed": false,
    "deletable": true,
    "editable": true
   },
   "outputs": [],
   "source": [
    "#!rm ../Temp/Batch/*.npy"
   ]
  },
  {
   "cell_type": "code",
   "execution_count": 39,
   "metadata": {
    "collapsed": false,
    "deletable": true,
    "editable": true
   },
   "outputs": [],
   "source": [
    "# TODO: сделать все файлы одинаковыми, размера size. Касается последнего, связано с краевыми круговой эффектами выборки в конце.\n",
    "\n",
    "def generate_batches ( names_tags_df_, dirIn, output_shape, classes=17, ext='.jpg', size=5000, preprocess=True) :\n",
    "    xx = np.zeros((size,output_shape[0],output_shape[1],output_shape[2]),dtype=np.float32);\n",
    "    yy = np.zeros((size,classes),dtype=np.uint8);\n",
    "    \n",
    "    iijj = 0;\n",
    "    \n",
    "    names_tags_df = names_tags_df_\n",
    "    \n",
    "    if len(names_tags_df)/size*size<len(names_tags_df) : # выравниваем на размер size добитием len(df)>>size\n",
    "        len_app = ((len(names_tags_df)/size)+1)*size-len(names_tags_df);\n",
    "        names_tags_df = names_tags_df.append(names_tags_df_[0:len_app],ignore_index=True);\n",
    "        print((len(names_tags_df_)/size+1)*size,len(names_tags_df))\n",
    "        assert((len(names_tags_df)/size)*size==len(names_tags_df))\n",
    "    \n",
    "    for ii in range(0,len(names_tags_df),size) :\n",
    "        yy    = names_tags_df[ii:min(ii+size,len(names_tags_df))].values[:,2:].astype(np.uint8);\n",
    "        files = names_tags_df[ii:min(ii+size,len(names_tags_df))].image_name.tolist()\n",
    "        files = [x+ext for x in files]\n",
    "        if len(files)<size :\n",
    "            xx = np.zeros((len(files),output_shape[0],output_shape[1],output_shape[2]),dtype=np.float32);\n",
    "        for i in range(len(files)) :\n",
    "            nf    = os.path.join(dirIn,files[i])\n",
    "            xx[i] = formImExt(nf,EqualizeOK=False,resize=(output_shape[0],output_shape[1]))\n",
    "            iijj += 1\n",
    "            if (iijj%5000)==0 : print (datetime.datetime.now(),'-->',iijj)\n",
    "                \n",
    "        if preprocess : xx    = preprocess_input(xx)\n",
    "        \n",
    "        filexx= '../Temp/BatchN/batch-{}-{}x{}x{}-XX.npy'.format(ii,output_shape[0],output_shape[1],output_shape[2])\n",
    "        fileyy= '../Temp/BatchN/batch-{}-{}x{}x{}-YY.npy'.format(ii,output_shape[0],output_shape[1],output_shape[2])\n",
    "        np.save(filexx,xx)\n",
    "        np.save(fileyy,yy)"
   ]
  },
  {
   "cell_type": "code",
   "execution_count": null,
   "metadata": {
    "collapsed": false
   },
   "outputs": [],
   "source": []
  },
  {
   "cell_type": "code",
   "execution_count": 40,
   "metadata": {
    "collapsed": false,
    "deletable": true,
    "editable": true
   },
   "outputs": [
    {
     "name": "stdout",
     "output_type": "stream",
     "text": [
      "2017-07-19 06:07:44.646652\n",
      "50000 45000\n",
      "2017-07-19 06:10:32.752978 --> 5000\n",
      "2017-07-19 06:13:39.324424 --> 10000\n",
      "2017-07-19 06:16:15.812602 --> 15000\n",
      "2017-07-19 06:19:05.681046 --> 20000\n",
      "2017-07-19 06:21:33.605854 --> 25000\n",
      "2017-07-19 06:24:13.912043 --> 30000\n",
      "2017-07-19 06:26:41.630105 --> 35000\n",
      "2017-07-19 06:29:15.615335 --> 40000\n",
      "2017-07-19 06:31:31.732606 --> 45000\n",
      "2017-07-19 06:32:09.184060\n"
     ]
    }
   ],
   "source": [
    "# Препростройка для быстрой подачи batches\n",
    "print(datetime.datetime.now())\n",
    "##generate_batches(labels_df,trDirJPG,(224,224,3))\n",
    "print(datetime.datetime.now())"
   ]
  },
  {
   "cell_type": "code",
   "execution_count": null,
   "metadata": {
    "collapsed": false,
    "deletable": true,
    "editable": true
   },
   "outputs": [],
   "source": []
  },
  {
   "cell_type": "code",
   "execution_count": 54,
   "metadata": {
    "collapsed": false,
    "deletable": true,
    "editable": true
   },
   "outputs": [],
   "source": [
    "def get_train (batch_size, n0, ns, dirIn='../Temp/BatchN', size=5000, output_shape=(224,224,3), flip=False, max_fi=40000, debugOK=False):\n",
    "    \n",
    "    def get_new_fi (fi, bi, gi) :\n",
    "        fi_old = fi\n",
    "        while ((bi+batch_size)>size) or ((gi+1)>=n0+ns) : \n",
    "            fi  = (fi + size) if ((gi<(n0+ns))and ((fi+size)<=max_fi)) else (n0/size)*size;\n",
    "            bi  = (n0-fi) if fi<=n0 else 0\n",
    "            gi  = fi+bi\n",
    "        return (fi,bi,gi)\n",
    "        \n",
    "    \n",
    "    assert (batch_size<=size)\n",
    "    assert ((max_fi/size)>1) or ((n0+batch_size)<=size)\n",
    "        \n",
    "    if flip : random.seed()\n",
    "\n",
    "    while 1:\n",
    "        \n",
    "        fi       = (n0/size)*size\n",
    "        bi       = (n0-fi) if fi<=n0 else 0\n",
    "        gi       = fi+bi\n",
    "        \n",
    "        fi,bi,gi = get_new_fi (fi,bi,gi)\n",
    "        \n",
    "        if debugOK : print(datetime.datetime.now(),'g read fi={} bi={} gi={} batch_size={} n0={} ns={} dirIn={}'.\n",
    "                           format(fi,bi,gi,batch_size,n0,ns,dirIn))\n",
    "            \n",
    "        fx = 'batch-{}-{}x{}x{}-XX.npy'\n",
    "        fy = 'batch-{}-{}x{}x{}-YY.npy'\n",
    "        xx = np.load(os.path.join(dirIn,fx.format(fi,output_shape[0],output_shape[1],output_shape[2])));\n",
    "        yy = np.load(os.path.join(dirIn,fy.format(fi,output_shape[0],output_shape[1],output_shape[2])));\n",
    "        old_fi = fi\n",
    "    \n",
    "        while True :\n",
    "            if ((bi+batch_size)>yy.shape[0]) or ((gi+1)>=n0+ns) :\n",
    "                fi,bi,gi = get_new_fi (fi,bi,gi)\n",
    "    \n",
    "                if debugOK : print(datetime.datetime.now(),'get_train read fi={} bi={} gi={}'.format(fi,bi,gi))\n",
    "            \n",
    "                if (fi<>old_fi) :\n",
    "                    xx = np.load(os.path.join(dirIn,fx.format(fi,output_shape[0],output_shape[1],output_shape[2])));\n",
    "                    yy = np.load(os.path.join(dirIn,fy.format(fi,output_shape[0],output_shape[1],output_shape[2])));\n",
    "                    old_fi = fi\n",
    "                    \n",
    "                if flip :\n",
    "                    for i in range(xx.shape[0]) :\n",
    "                        if random.random()<=flip :\n",
    "                            for c in range(xx.shape[3]) : xx[i,:,:,c] = cv.flip(xx[i,:,:,c],0);\n",
    "\n",
    "                if debugOK : print(datetime.datetime.now(),'get_train xx={} yy={} fx={}'.\n",
    "                                   format(xx.shape,yy.shape,\n",
    "                                          os.path.join(dirIn,fx.format(fi,output_shape[0],output_shape[1],output_shape[2]))))\n",
    "                \n",
    "            \n",
    "            xxx, yyy, bi, gi = xx[bi:bi+batch_size], yy[bi:bi+batch_size], bi+batch_size, gi+batch_size\n",
    "            #if debugOK : print(datetime.datetime.now(),\n",
    "            #                   'get_train get  fi={} bi={} gi={} xxx={} yyy={}'.format(fi,bi,gi,xxx.shape,yyy.shape))\n",
    "            \n",
    "            yield (xxx, yyy)"
   ]
  },
  {
   "cell_type": "code",
   "execution_count": 67,
   "metadata": {
    "collapsed": false,
    "deletable": true,
    "editable": true
   },
   "outputs": [
    {
     "name": "stdout",
     "output_type": "stream",
     "text": [
      "2017-07-19 07:24:53.422191 g read fi=30000 bi=2384 gi=32384 batch_size=32 n0=32384 ns=1099 dirIn=../Temp/BatchN\n"
     ]
    }
   ],
   "source": [
    "#xx = get_train(128,4873,2000,debugOK=True)\n",
    "#xx = get_train(batch_size,split,len(validate),debugOK=True)\n",
    "#for ii in range(4) : xx.next()\n",
    "\n"
   ]
  },
  {
   "cell_type": "code",
   "execution_count": null,
   "metadata": {
    "collapsed": false
   },
   "outputs": [],
   "source": []
  },
  {
   "cell_type": "code",
   "execution_count": 43,
   "metadata": {
    "collapsed": false,
    "deletable": true,
    "editable": true
   },
   "outputs": [],
   "source": [
    "if False :\n",
    "    print(datetime.datetime.now())\n",
    "    output_shape=(224,224,3)\n",
    "    for fi in range(0,40497,5000) :\n",
    "            fx = '../Temp/Batch/batch-{}-{}x{}x{}-XX.npy'\n",
    "            fy = '../Temp/Batch/batch-{}-{}x{}x{}-YY.npy'\n",
    "            xx = np.load(fx.format(fi,output_shape[0],output_shape[1],output_shape[2]));\n",
    "            yy = np.load(fy.format(fi,output_shape[0],output_shape[1],output_shape[2]));\n",
    "            print (fi,xx.shape,yy.shape)\n",
    "    print(datetime.datetime.now())"
   ]
  },
  {
   "cell_type": "code",
   "execution_count": null,
   "metadata": {
    "collapsed": false,
    "deletable": true,
    "editable": true
   },
   "outputs": [],
   "source": []
  },
  {
   "cell_type": "code",
   "execution_count": null,
   "metadata": {
    "collapsed": false,
    "deletable": true,
    "editable": true
   },
   "outputs": [],
   "source": []
  },
  {
   "cell_type": "code",
   "execution_count": 44,
   "metadata": {
    "collapsed": false,
    "deletable": true,
    "editable": true
   },
   "outputs": [],
   "source": [
    "if False :\n",
    "    for i in range(3) :\n",
    "        x000 = x00[:,i]\n",
    "        print(x000.mean(), x000.std(), len(x000[x000<0.1]),x000.argmin())\n",
    "        #plt.hist(x000[x000<0.0001].ravel(),bins=150); \n",
    "        plt.hist(x000.ravel(),bins=150); \n",
    "        plt.show(); plt.close()"
   ]
  },
  {
   "cell_type": "code",
   "execution_count": null,
   "metadata": {
    "collapsed": false,
    "deletable": true,
    "editable": true
   },
   "outputs": [],
   "source": []
  },
  {
   "cell_type": "code",
   "execution_count": null,
   "metadata": {
    "collapsed": false,
    "deletable": true,
    "editable": true
   },
   "outputs": [],
   "source": []
  },
  {
   "cell_type": "code",
   "execution_count": 45,
   "metadata": {
    "collapsed": false,
    "deletable": true,
    "editable": true
   },
   "outputs": [],
   "source": [
    "def fbeta_pred(y_true, y_pred, beta=2.0, OK1=0.2, eps=0.000001, printOK=False):\n",
    "    beta2 = beta*beta\n",
    "    yy_true = K.round(y_true)\n",
    "    #yy_pred = K.round(y_pred+(0.5-OK1))\n",
    "    yy_pred = K.round(y_pred)\n",
    "    tp, tp_fp, fn = K.sum((yy_pred*yy_true)), K.sum(yy_true), K.sum((K.abs(yy_pred*(yy_true-1.0))))\n",
    "    precision, recall = tp/(tp_fp+eps), tp/(tp+fn+eps) \n",
    "    fbeta = (1+beta2)*(precision*recall)/(beta2*precision+recall+eps)\n",
    "    ##if fbeta>1.0 : fbeta = 1.0;\n",
    "    if printOK :\n",
    "        print('ten true ',K.get_value(yy_true))\n",
    "        #print('ten pred ',y_pred)\n",
    "        print('ten roun ',K.get_value(yy_pred))\n",
    "        print(' pre=',K.get_value(precision),' recall=',K.get_value(recall),' tp=',\n",
    "              K.get_value(tp),' fn=',K.get_value(fn),' tp+fp=',K.get_value(tp_fp))\n",
    "    return(fbeta)"
   ]
  },
  {
   "cell_type": "code",
   "execution_count": null,
   "metadata": {
    "collapsed": true,
    "deletable": true,
    "editable": true
   },
   "outputs": [],
   "source": []
  },
  {
   "cell_type": "code",
   "execution_count": 46,
   "metadata": {
    "collapsed": false,
    "deletable": true,
    "editable": true
   },
   "outputs": [
    {
     "name": "stdout",
     "output_type": "stream",
     "text": [
      "(224, 224, 3) 17\n"
     ]
    }
   ],
   "source": [
    "sizing = (224,224,3)\n",
    "input_shape, output_classes, metric = sizing, 17, 'acc'\n",
    "print(input_shape,output_classes)"
   ]
  },
  {
   "cell_type": "code",
   "execution_count": 47,
   "metadata": {
    "collapsed": false,
    "deletable": true,
    "editable": true
   },
   "outputs": [],
   "source": [
    "model00 = VGG19(weights='imagenet', include_top=True)\n",
    "for layer in model00.layers :\n",
    "    if layer.name=='fc1' : fc1 = layer.get_weights()\n",
    "    if layer.name=='fc2' : fc2 = layer.get_weights()\n",
    "#model00.summary()\n",
    "del model00"
   ]
  },
  {
   "cell_type": "code",
   "execution_count": 48,
   "metadata": {
    "collapsed": false,
    "deletable": true,
    "editable": true
   },
   "outputs": [
    {
     "data": {
      "text/plain": [
       "([(25088, 4096), (4096,)], [(4096, 4096), (4096,)])"
      ]
     },
     "execution_count": 48,
     "metadata": {},
     "output_type": "execute_result"
    }
   ],
   "source": [
    "[x.shape for x in fc1], [x.shape for x in fc2]"
   ]
  },
  {
   "cell_type": "code",
   "execution_count": 58,
   "metadata": {
    "collapsed": false,
    "deletable": true,
    "editable": true
   },
   "outputs": [
    {
     "name": "stdout",
     "output_type": "stream",
     "text": [
      " fc1 [(25088, 2048), (2048,)]\n",
      " fc1 fc2\n",
      "sgd = {'nesterov': True, 'lr': 0.009999999776482582, 'momentum': 0.8999999761581421, 'decay': 9.999999747378752e-06}\n"
     ]
    }
   ],
   "source": [
    "K.clear_session()\n",
    "base_model = VGG19(weights='imagenet', include_top=False, pooling=None, input_shape=input_shape)\n",
    "\n",
    "x = base_model.output\n",
    "\n",
    "##print(base_model.summary())\n",
    "\n",
    "##x = GlobalMaxPooling2D()(x) \n",
    "x = Flatten()(x)\n",
    "initiaze = 'he_normal'\n",
    "'''\n",
    "x = Dense(4096, activation='relu',kernel_initializer=initiaze, name='ffcc1')(x)\n",
    "x = Dropout(0.25)(x)\n",
    "x = Dense(4096, activation='relu',kernel_initializer=initiaze, name='ffcc2')(x)\n",
    "x = Dropout(0.25)(x)\n",
    "'''\n",
    "x = Dense(2048, activation='relu',kernel_initializer=initiaze, name='ffcc1')(x)\n",
    "x = Dropout(0.20)(x)\n",
    "x = Dense(2048, activation='relu',kernel_initializer=initiaze, name='ffcc2')(x)\n",
    "x = Dropout(0.20)(x)\n",
    "\n",
    "\n",
    "# and a logistic layer -- let's say we have 200 classes\n",
    "predictions = Dense(output_classes, activation='softmax')(x)\n",
    "\n",
    "# this is the model we will train\n",
    "model10 = Model(inputs=base_model.input, outputs=predictions)\n",
    "\n",
    "\n",
    "for layer in base_model.layers : layer.Tranable = False\n",
    "\n",
    "flag = ''\n",
    "for layer in model10.layers :\n",
    "    if layer.name=='ffcc1' : \n",
    "        ffcc = layer.get_weights(); flag+=' fc1'; print(flag,[x.shape for x in ffcc])\n",
    "        if (ffcc[0].shape==fc1[0].shape) : ffcc[0]+=fc1[0]; flag+=' fc1-0'\n",
    "        if (ffcc[1].shape==fc1[1].shape) : ffcc[1]+=fc1[1]; flag+=' fc1-1'\n",
    "        layer.set_weights(ffcc)\n",
    "    if layer.name=='ffcc2' :\n",
    "        ffcc = layer.get_weights(); flag+=' fc2'\n",
    "        if (ffcc[0].shape==fc2[0].shape) : ffcc[0]+=fc2[0]; flag+=' fc2-0'\n",
    "        if (ffcc[1].shape==fc2[1].shape) : ffcc[1]+=fc2[1]; flag+=' fc2-1'\n",
    "        layer.set_weights(ffcc)\n",
    "        \n",
    "print(flag)\n",
    "\n",
    "sgd = keras.optimizers.SGD(nesterov=True,decay=1e-5,momentum=0.9)\n",
    "model10.compile(loss='binary_crossentropy', # 'mean_absolute_error'\n",
    "              optimizer=sgd, #\"nadam\", #sgd, #\"adam\", #'rmsprop',\n",
    "              metrics=['acc']) #['binary_accuracy']) #[fbeta_pred]) #['accuracy',fbeta_pred]) #['accuracy'])\n",
    "\n",
    "#model10.summary()\n",
    "print('sgd = {}'.format(sgd.get_config()))"
   ]
  },
  {
   "cell_type": "code",
   "execution_count": 59,
   "metadata": {
    "collapsed": true,
    "deletable": true,
    "editable": true
   },
   "outputs": [],
   "source": [
    "if False :\n",
    "    model10 = load_model('../Data-Keras/Models/model-VGG19-224x224x3-d4096xd4096.h5')"
   ]
  },
  {
   "cell_type": "code",
   "execution_count": null,
   "metadata": {
    "collapsed": true,
    "deletable": true,
    "editable": true
   },
   "outputs": [],
   "source": []
  },
  {
   "cell_type": "code",
   "execution_count": 60,
   "metadata": {
    "collapsed": false,
    "deletable": true,
    "editable": true
   },
   "outputs": [],
   "source": [
    "if False : \n",
    "    sweight  = np.zeros(trY.shape[0],dtype=np.float32);\n",
    "    sweight[:]  = 1.0\n",
    "    sweight[trY[:,0]==1] = 0.35\n",
    "    sweight[trY[:,1]==1] = 0.25\n",
    "    sweight[trY[:,2]==1] = 0.15\n",
    "    sweight[trY[:,3]==1] = 0.05"
   ]
  },
  {
   "cell_type": "code",
   "execution_count": 68,
   "metadata": {
    "collapsed": false,
    "deletable": true,
    "editable": true
   },
   "outputs": [
    {
     "name": "stdout",
     "output_type": "stream",
     "text": [
      "2017-07-19 07:26:55.341681\n",
      "Epoch 4/15\n",
      "Epoch 00003: acc improved from -inf to 0.85163, saving model to ../Temp/TempVGG/vgg19G-jpg-tif-224x224x3-weights.03-acc=0.8516-val_acc=0.8557-.hdf5\n",
      "2476s - loss: 0.2869 - acc: 0.8516 - val_loss: 0.2747 - val_acc: 0.8557\n",
      "Epoch 5/15\n",
      "Epoch 00004: acc improved from 0.85163 to 0.85355, saving model to ../Temp/TempVGG/vgg19G-jpg-tif-224x224x3-weights.04-acc=0.8536-val_acc=0.8539-.hdf5\n",
      "2309s - loss: 0.2714 - acc: 0.8536 - val_loss: 0.2638 - val_acc: 0.8539\n",
      "Epoch 6/15\n",
      "Epoch 00005: acc improved from 0.85355 to 0.85420, saving model to ../Temp/TempVGG/vgg19G-jpg-tif-224x224x3-weights.05-acc=0.8542-val_acc=0.8541-.hdf5\n",
      "2292s - loss: 0.2629 - acc: 0.8542 - val_loss: 0.2586 - val_acc: 0.8541\n",
      "Epoch 7/15\n",
      "Epoch 00006: acc improved from 0.85420 to 0.85454, saving model to ../Temp/TempVGG/vgg19G-jpg-tif-224x224x3-weights.06-acc=0.8545-val_acc=0.8560-.hdf5\n",
      "2307s - loss: 0.2574 - acc: 0.8545 - val_loss: 0.2568 - val_acc: 0.8560\n",
      "Epoch 8/15\n",
      "Epoch 00007: acc improved from 0.85454 to 0.85459, saving model to ../Temp/TempVGG/vgg19G-jpg-tif-224x224x3-weights.07-acc=0.8546-val_acc=0.8499-.hdf5\n",
      "2299s - loss: 0.2537 - acc: 0.8546 - val_loss: 0.2543 - val_acc: 0.8499\n",
      "Epoch 9/15\n",
      "Epoch 00008: acc improved from 0.85459 to 0.85463, saving model to ../Temp/TempVGG/vgg19G-jpg-tif-224x224x3-weights.08-acc=0.8546-val_acc=0.8536-.hdf5\n",
      "2289s - loss: 0.2508 - acc: 0.8546 - val_loss: 0.2550 - val_acc: 0.8536\n",
      "Epoch 10/15\n",
      "Epoch 00009: acc improved from 0.85463 to 0.85470, saving model to ../Temp/TempVGG/vgg19G-jpg-tif-224x224x3-weights.09-acc=0.8547-val_acc=0.8516-.hdf5\n",
      "2290s - loss: 0.2483 - acc: 0.8547 - val_loss: 0.2549 - val_acc: 0.8516\n",
      "Epoch 11/15\n",
      "Epoch 00010: acc improved from 0.85470 to 0.85475, saving model to ../Temp/TempVGG/vgg19G-jpg-tif-224x224x3-weights.10-acc=0.8548-val_acc=0.8545-.hdf5\n",
      "2291s - loss: 0.2458 - acc: 0.8548 - val_loss: 0.2562 - val_acc: 0.8545\n",
      "Epoch 12/15\n",
      "Epoch 00011: acc improved from 0.85475 to 0.85501, saving model to ../Temp/TempVGG/vgg19G-jpg-tif-224x224x3-weights.11-acc=0.8550-val_acc=0.8512-.hdf5\n",
      "2290s - loss: 0.2435 - acc: 0.8550 - val_loss: 0.2578 - val_acc: 0.8512\n",
      "Epoch 13/15\n",
      "Epoch 00012: acc improved from 0.85501 to 0.85516, saving model to ../Temp/TempVGG/vgg19G-jpg-tif-224x224x3-weights.12-acc=0.8552-val_acc=0.8518-.hdf5\n",
      "2318s - loss: 0.2414 - acc: 0.8552 - val_loss: 0.2607 - val_acc: 0.8518\n",
      "Epoch 14/15\n",
      "Epoch 00013: acc improved from 0.85516 to 0.85540, saving model to ../Temp/TempVGG/vgg19G-jpg-tif-224x224x3-weights.13-acc=0.8554-val_acc=0.8540-.hdf5\n",
      "2293s - loss: 0.2394 - acc: 0.8554 - val_loss: 0.2586 - val_acc: 0.8540\n",
      "Epoch 15/15\n",
      "Epoch 00014: acc improved from 0.85540 to 0.85597, saving model to ../Temp/TempVGG/vgg19G-jpg-tif-224x224x3-weights.14-acc=0.8560-val_acc=0.8525-.hdf5\n",
      "2290s - loss: 0.2348 - acc: 0.8560 - val_loss: 0.2528 - val_acc: 0.8525\n",
      "2017-07-19 15:09:28.942111\n"
     ]
    }
   ],
   "source": [
    "epochs     = 15\n",
    "verbose    = 2\n",
    "batch_size = 32\n",
    "stopping   = 10\n",
    "\n",
    "prefixTemp = 'vgg19G-jpg-tif-{}x{}x{}'.format(sizing[0],sizing[1],sizing[2])     \n",
    "\n",
    "early_stopping = EarlyStopping(monitor='val_loss', patience=stopping,min_delta=0.0001)\n",
    "reduce_lr = ReduceLROnPlateau(monitor='val_loss', factor=0.2,patience=5, min_lr=0.001)\n",
    "\n",
    "filepath=\"../Temp/TempVGG/\"+prefixTemp+\"-weights.{epoch:02d}-acc={\"+metric+\":.4f}-val_acc={val_\"+metric+\":.4f}-.hdf5\"\n",
    "checkpoint = ModelCheckpoint(filepath, monitor=metric, verbose=1, save_best_only=True, mode='max')\n",
    "\n",
    "step = 5497\n",
    "low  = 0\n",
    "high = low+step\n",
    "\n",
    "lb_df = labels_df\n",
    "##lb_df = labels_df[low:high]\n",
    "split = len(lb_df)-int(len(lb_df)/5.0)\n",
    "generate, validate = lb_df[:split], lb_df[split:]\n",
    "\n",
    "print(datetime.datetime.now())\n",
    "#hist1  = model10.fit(trX[low:high],trY[low:high],\n",
    "#hist1  = model10.fit(trX[low:high],trY[low:high],\n",
    "hist1  = model10.fit_generator( get_train(batch_size,0,len(generate),debugOK=False,flip=0.1),\n",
    "                    epochs=epochs, \n",
    "                    steps_per_epoch=int(len(generate)/batch_size),\n",
    "                    validation_data=get_train(batch_size,split,len(validate),debugOK=False),\n",
    "                    validation_steps=int(len(validate)/batch_size),\n",
    "                    initial_epoch = 3,\n",
    "                    #### ???? max_queue_size=100,\n",
    "                    callbacks=[early_stopping,checkpoint, reduce_lr],\n",
    "                    verbose=verbose)\n",
    "\n",
    "print(datetime.datetime.now()) #,pp,'fbeta2s=',fbeta2score,fbeta2pred)"
   ]
  },
  {
   "cell_type": "code",
   "execution_count": 1,
   "metadata": {
    "collapsed": false,
    "deletable": true,
    "editable": true
   },
   "outputs": [],
   "source": [
    "#fc1[1].shape, fc1[1][:10], fc2[0][:10], fc2[1][:10], ffcc[0][:10], ffcc[1][:10]"
   ]
  },
  {
   "cell_type": "code",
   "execution_count": 69,
   "metadata": {
    "collapsed": false,
    "deletable": true,
    "editable": true
   },
   "outputs": [
    {
     "data": {
      "image/png": "[encoded data removed]",
      "text/plain": [
       "<matplotlib.figure.Figure at 0x7f60e2ab71d0>"
      ]
     },
     "metadata": {},
     "output_type": "display_data"
    },
    {
     "data": {
      "image/png": "[encoded data removed]",
      "text/plain": [
       "<matplotlib.figure.Figure at 0x7f60e2aabad0>"
      ]
     },
     "metadata": {},
     "output_type": "display_data"
    }
   ],
   "source": [
    "plt.plot(hist1.history['acc']); plt.plot(hist1.history['val_acc']); plt.show()\n",
    "plt.plot(hist1.history['loss']); plt.plot(hist1.history['val_loss']); plt.show()\n",
    "plt.close()\n",
    "#hist1.history"
   ]
  },
  {
   "cell_type": "code",
   "execution_count": 70,
   "metadata": {
    "collapsed": false
   },
   "outputs": [
    {
     "data": {
      "text/plain": [
       "{'acc': [0.8516278964846502,\n",
       "  0.85355331993150141,\n",
       "  0.85419633849100629,\n",
       "  0.85454327757415094,\n",
       "  0.85458687477903406,\n",
       "  0.85462864991940057,\n",
       "  0.85470131133856042,\n",
       "  0.85475035394604493,\n",
       "  0.85501191826912726,\n",
       "  0.85515541863064526,\n",
       "  0.85539518879807519,\n",
       "  0.8559673661182049],\n",
       " 'loss': [0.28687852693228383,\n",
       "  0.27143404143954453,\n",
       "  0.26288447003414039,\n",
       "  0.25741969819066551,\n",
       "  0.25373479204156651,\n",
       "  0.25084501309062651,\n",
       "  0.24826937177671274,\n",
       "  0.24583689011486151,\n",
       "  0.24351315362297971,\n",
       "  0.24137060550361755,\n",
       "  0.2393932804877579,\n",
       "  0.2348209884709756],\n",
       " 'lr': [0.0099999998,\n",
       "  0.0099999998,\n",
       "  0.0099999998,\n",
       "  0.0099999998,\n",
       "  0.0099999998,\n",
       "  0.0099999998,\n",
       "  0.0099999998,\n",
       "  0.0099999998,\n",
       "  0.0099999998,\n",
       "  0.0099999998,\n",
       "  0.0099999998,\n",
       "  0.0019999999],\n",
       " 'val_acc': [0.85569853442055843,\n",
       "  0.85391135797614148,\n",
       "  0.85410831253679975,\n",
       "  0.85603408444495432,\n",
       "  0.84987745303956286,\n",
       "  0.85356851513423615,\n",
       "  0.85162086169871076,\n",
       "  0.85451680894881965,\n",
       "  0.85123424634100897,\n",
       "  0.85178133845329285,\n",
       "  0.8540499555686164,\n",
       "  0.85249621196398662],\n",
       " 'val_loss': [0.2746563002112366,\n",
       "  0.26383547650443184,\n",
       "  0.25858791379464996,\n",
       "  0.25677960951413425,\n",
       "  0.25427039192309453,\n",
       "  0.25499242496868918,\n",
       "  0.25485613977625254,\n",
       "  0.2562386811016098,\n",
       "  0.25777735371911337,\n",
       "  0.26067899504587766,\n",
       "  0.2585608728584789,\n",
       "  0.25276779974736863]}"
      ]
     },
     "execution_count": 70,
     "metadata": {},
     "output_type": "execute_result"
    }
   ],
   "source": [
    "hist1.history"
   ]
  },
  {
   "cell_type": "code",
   "execution_count": null,
   "metadata": {
    "collapsed": true
   },
   "outputs": [],
   "source": []
  },
  {
   "cell_type": "code",
   "execution_count": 71,
   "metadata": {
    "collapsed": false,
    "deletable": true,
    "editable": true
   },
   "outputs": [
    {
     "name": "stdout",
     "output_type": "stream",
     "text": [
      "2017-07-19 15:13:17.503312 load   :  1 5000 (5000, 224, 224, 3) (5000, 17)\n",
      "2017-07-19 15:14:53.622270 predict:  1 (5000, 17) (5000, 17) True\n",
      "2017-07-19 15:15:19.759700 load   :  2 10000 (5000, 224, 224, 3) (5000, 17)\n",
      "2017-07-19 15:16:53.986871 predict:  2 (10000, 17) (10000, 17) True\n",
      "2017-07-19 15:17:21.698503 load   :  3 15000 (5000, 224, 224, 3) (5000, 17)\n",
      "2017-07-19 15:18:55.749249 predict:  3 (15000, 17) (15000, 17) True\n",
      "2017-07-19 15:19:21.397446 load   :  4 20000 (5000, 224, 224, 3) (5000, 17)\n",
      "2017-07-19 15:20:55.484422 predict:  4 (20000, 17) (20000, 17) True\n",
      "2017-07-19 15:21:22.353609 load   :  5 25000 (5000, 224, 224, 3) (5000, 17)\n",
      "2017-07-19 15:22:56.538950 predict:  5 (25000, 17) (25000, 17) True\n",
      "2017-07-19 15:23:24.477392 load   :  6 30000 (5000, 224, 224, 3) (5000, 17)\n",
      "2017-07-19 15:24:58.649669 predict:  6 (30000, 17) (30000, 17) True\n",
      "2017-07-19 15:25:25.989511 load   :  7 35000 (5000, 224, 224, 3) (5000, 17)\n",
      "2017-07-19 15:27:00.108940 predict:  7 (35000, 17) (35000, 17) True\n",
      "2017-07-19 15:27:27.597643 load   :  8 40000 (5000, 224, 224, 3) (5000, 17)\n",
      "2017-07-19 15:29:01.669756 predict:  8 (40000, 17) (40000, 17) True\n",
      "2017-07-19 15:29:29.185891 load   :  9 45000 (5000, 224, 224, 3) (5000, 17)\n",
      "2017-07-19 15:31:03.361033 predict:  9 (45000, 17) (45000, 17) False\n"
     ]
    }
   ],
   "source": [
    "#\n",
    "#  Построение решения для train массива\n",
    "#\n",
    "\n",
    "# train\n",
    "\n",
    "train = get_train(5000,0,len(labels_df),debugOK=False);\n",
    "\n",
    "Flag, i, load_size = True, 0, 0;\n",
    "try : \n",
    "    while Flag :\n",
    "            xx,yy = train.next();\n",
    "            i, load_size = i+1, load_size+yy.shape[0];\n",
    "            print(datetime.datetime.now(),'load   : ',i,load_size,xx.shape,yy.shape) #,yy[0],yy[-1])\n",
    "            assert (xx.shape[0]==yy.shape[0])\n",
    "\n",
    "            pp   = model10.predict(xx, batch_size=batch_size)\n",
    "            if (i==1) :\n",
    "                trP = pp\n",
    "                trY = yy\n",
    "            else :\n",
    "                trP = np.vstack([trP,pp])\n",
    "                trY = np.vstack([trY,yy])\n",
    "\n",
    "            if trY.shape[0]>=len(labels_df) : Flag = False;\n",
    "            print(datetime.datetime.now(),'predict: ',i,trP.shape,trY.shape,Flag) #,trY[0],trY[-1])\n",
    "\n",
    "except StopIteration as e : Flag = False;\n",
    "        \n",
    "finally : train.close();\n",
    "\n",
    "# Уровни прохождения & решение\n",
    "###trO01   = getProbX01(trOP,th)\n"
   ]
  },
  {
   "cell_type": "code",
   "execution_count": 72,
   "metadata": {
    "collapsed": false,
    "deletable": true,
    "editable": true
   },
   "outputs": [],
   "source": [
    "##%time trP = model10.predict(trX, batch_size=batch_size)\n",
    "trP01       = getProb01(trP)\n",
    "th, _       = getTh(trY,trP)\n",
    "trP01x      = getProbX01(trP,th)"
   ]
  },
  {
   "cell_type": "code",
   "execution_count": null,
   "metadata": {
    "collapsed": true,
    "deletable": true,
    "editable": true
   },
   "outputs": [],
   "source": []
  },
  {
   "cell_type": "code",
   "execution_count": 74,
   "metadata": {
    "collapsed": false,
    "deletable": true,
    "editable": true
   },
   "outputs": [
    {
     "name": "stdout",
     "output_type": "stream",
     "text": [
      "(45000, 17)\n",
      "(45000, 17)\n",
      "fbeta_score= 0.234381962061\n",
      "fbeta_pred = 0.436090278078\n",
      "fbeta_score= 0.932193565907\n",
      "fbeta_pred = 0.932356887611\n"
     ]
    }
   ],
   "source": [
    "#print(model10.evaluate(trX,trY,verbose=2,batch_size=batch_size))\n",
    "print(trY.shape)\n",
    "print(trP.shape)\n",
    "#print('fbeta_score=',fbeta_score(trY, np.array(trP) > 0.2, beta=2, average='samples'))\n",
    "#print('fbeta_score=',fbeta_score(trY, np.array(trP) > 0.5, beta=2, average='samples'))\n",
    "##-------------\n",
    "print('fbeta_score=',fbeta_score(trY,trP01, beta=2, average='samples'))\n",
    "print('fbeta_pred =',K.get_value(fbeta_pred(trY.astype(np.float64),trP01.astype(np.float64))))\n",
    "##-------------\n",
    "if trY.shape[1]==17 :\n",
    "    print('fbeta_score=',fbeta_score(trY,trP01x, beta=2, average='samples'))\n",
    "    print('fbeta_pred =',K.get_value(fbeta_pred(trY.astype(np.float64),trP01x.astype(np.float64))))"
   ]
  },
  {
   "cell_type": "code",
   "execution_count": null,
   "metadata": {
    "collapsed": false,
    "deletable": true,
    "editable": true
   },
   "outputs": [],
   "source": []
  },
  {
   "cell_type": "code",
   "execution_count": 75,
   "metadata": {
    "collapsed": false,
    "deletable": true,
    "editable": true
   },
   "outputs": [],
   "source": [
    "if False :\n",
    "    freeze  = ('fc1','fc2','dropout_1','dropout_2','flatten')\n",
    "    trainOK = ('input_1','predictions')\n",
    "    for layer in model10.layers :\n",
    "        #if (layer.name=='fc1') : layer.trainable = False\n",
    "        #if (layer.name=='fc2') : layer.trainable = False\n",
    "        if (layer.name in freeze) : layer.trainable = False\n",
    "        else : layer.trainable = True\n",
    "        if (layer.name in trainOK) : layer.trainable = True\n",
    "        layer.trainable = True\n",
    "        print(layer.name,layer.trainable)      "
   ]
  },
  {
   "cell_type": "code",
   "execution_count": null,
   "metadata": {
    "collapsed": true,
    "deletable": true,
    "editable": true
   },
   "outputs": [],
   "source": []
  },
  {
   "cell_type": "code",
   "execution_count": null,
   "metadata": {
    "collapsed": true,
    "deletable": true,
    "editable": true
   },
   "outputs": [],
   "source": []
  },
  {
   "cell_type": "code",
   "execution_count": null,
   "metadata": {
    "collapsed": true,
    "deletable": true,
    "editable": true
   },
   "outputs": [],
   "source": []
  },
  {
   "cell_type": "code",
   "execution_count": 76,
   "metadata": {
    "collapsed": false,
    "deletable": true,
    "editable": true
   },
   "outputs": [],
   "source": [
    "if True :\n",
    "    save_model(model10,'../Data-Keras/Models/model-VGG19-224x224x3-d2048xd2048.h5')\n",
    "    model10.save_weights('../Data-Keras/Models/model-VGG19-224x224x3-d2048xd2048-weights.h5')\n",
    "    if False : # best 0x90004\n",
    "        save_model(model10,'../Work/Join-XGB-NET/VGG19-LB=0x90004/model-VGG19-128x128x3-d4096xd4096.h5')\n",
    "        model10.save_weights('../Work/Join-XGB-NET/VGG19-LB=0x90004/model-VGG19-128x128x3-d4096xd4096-weights.h5')\n",
    "        np.save('../Work/Join-XGB-NET/VGG19-LB=0x90004/trIP01-XX.npy',trP01)\n",
    "        np.save('../Work/Join-XGB-NET/VGG19-LB=0x90004/trIP-XX.npy', trP)\n",
    "        np.save('../Work/Join-XGB-NET/VGG19-LB=0x90004/trIY-YY.npy',trY)"
   ]
  },
  {
   "cell_type": "code",
   "execution_count": 77,
   "metadata": {
    "collapsed": false,
    "deletable": true,
    "editable": true
   },
   "outputs": [
    {
     "name": "stdout",
     "output_type": "stream",
     "text": [
      "_________________________________________________________________\n",
      "Layer (type)                 Output Shape              Param #   \n",
      "=================================================================\n",
      "input_1 (InputLayer)         (None, 224, 224, 3)       0         \n",
      "_________________________________________________________________\n",
      "block1_conv1 (Conv2D)        (None, 224, 224, 64)      1792      \n",
      "_________________________________________________________________\n",
      "block1_conv2 (Conv2D)        (None, 224, 224, 64)      36928     \n",
      "_________________________________________________________________\n",
      "block1_pool (MaxPooling2D)   (None, 112, 112, 64)      0         \n",
      "_________________________________________________________________\n",
      "block2_conv1 (Conv2D)        (None, 112, 112, 128)     73856     \n",
      "_________________________________________________________________\n",
      "block2_conv2 (Conv2D)        (None, 112, 112, 128)     147584    \n",
      "_________________________________________________________________\n",
      "block2_pool (MaxPooling2D)   (None, 56, 56, 128)       0         \n",
      "_________________________________________________________________\n",
      "block3_conv1 (Conv2D)        (None, 56, 56, 256)       295168    \n",
      "_________________________________________________________________\n",
      "block3_conv2 (Conv2D)        (None, 56, 56, 256)       590080    \n",
      "_________________________________________________________________\n",
      "block3_conv3 (Conv2D)        (None, 56, 56, 256)       590080    \n",
      "_________________________________________________________________\n",
      "block3_conv4 (Conv2D)        (None, 56, 56, 256)       590080    \n",
      "_________________________________________________________________\n",
      "block3_pool (MaxPooling2D)   (None, 28, 28, 256)       0         \n",
      "_________________________________________________________________\n",
      "block4_conv1 (Conv2D)        (None, 28, 28, 512)       1180160   \n",
      "_________________________________________________________________\n",
      "block4_conv2 (Conv2D)        (None, 28, 28, 512)       2359808   \n",
      "_________________________________________________________________\n",
      "block4_conv3 (Conv2D)        (None, 28, 28, 512)       2359808   \n",
      "_________________________________________________________________\n",
      "block4_conv4 (Conv2D)        (None, 28, 28, 512)       2359808   \n",
      "_________________________________________________________________\n",
      "block4_pool (MaxPooling2D)   (None, 14, 14, 512)       0         \n",
      "_________________________________________________________________\n",
      "block5_conv1 (Conv2D)        (None, 14, 14, 512)       2359808   \n",
      "_________________________________________________________________\n",
      "block5_conv2 (Conv2D)        (None, 14, 14, 512)       2359808   \n",
      "_________________________________________________________________\n",
      "block5_conv3 (Conv2D)        (None, 14, 14, 512)       2359808   \n",
      "_________________________________________________________________\n",
      "block5_conv4 (Conv2D)        (None, 14, 14, 512)       2359808   \n",
      "_________________________________________________________________\n",
      "block5_pool (MaxPooling2D)   (None, 7, 7, 512)         0         \n",
      "_________________________________________________________________\n",
      "flatten_1 (Flatten)          (None, 25088)             0         \n",
      "_________________________________________________________________\n",
      "ffcc1 (Dense)                (None, 2048)              51382272  \n",
      "_________________________________________________________________\n",
      "dropout_1 (Dropout)          (None, 2048)              0         \n",
      "_________________________________________________________________\n",
      "ffcc2 (Dense)                (None, 2048)              4196352   \n",
      "_________________________________________________________________\n",
      "dropout_2 (Dropout)          (None, 2048)              0         \n",
      "_________________________________________________________________\n",
      "dense_1 (Dense)              (None, 17)                34833     \n",
      "=================================================================\n",
      "Total params: 75,637,841\n",
      "Trainable params: 75,637,841\n",
      "Non-trainable params: 0\n",
      "_________________________________________________________________\n"
     ]
    }
   ],
   "source": [
    "model10.summary()"
   ]
  },
  {
   "cell_type": "code",
   "execution_count": null,
   "metadata": {
    "collapsed": true,
    "deletable": true,
    "editable": true
   },
   "outputs": [],
   "source": []
  },
  {
   "cell_type": "code",
   "execution_count": 310,
   "metadata": {
    "collapsed": false,
    "deletable": true,
    "editable": true
   },
   "outputs": [
    {
     "data": {
      "text/plain": [
       "(array([  3.70237350e-01,   4.93190736e-01,   1.06996112e-03,\n",
       "          1.33314744e-01,   6.74560608e-04,   9.84107974e-05,\n",
       "          2.12351413e-04,   4.83186363e-04,   4.88138940e-05,\n",
       "          1.42483710e-04,   7.10203385e-05,   1.37875631e-05,\n",
       "          4.31219232e-05,   1.01183177e-05,   1.92909007e-04,\n",
       "          5.11052203e-05,   1.45314596e-04], dtype=float32),\n",
       " array([1, 1, 0, 0, 0, 0, 0, 0, 0, 0, 0, 0, 0, 0, 0, 0, 0]),\n",
       " array([ 0.,  0.,  0.,  0.,  0.,  0.,  0.,  0.,  0.,  0.,  0.,  0.,  0.,\n",
       "         0.,  0.,  0.,  0.], dtype=float32),\n",
       " array([1, 1, 0, 0, 0, 0, 0, 0, 0, 0, 0, 0, 0, 0, 0, 0, 0], dtype=uint8))"
      ]
     },
     "execution_count": 310,
     "metadata": {},
     "output_type": "execute_result"
    }
   ],
   "source": [
    "trP[0], trY[0], trP01[0], trP01x[0]"
   ]
  },
  {
   "cell_type": "code",
   "execution_count": null,
   "metadata": {
    "collapsed": true,
    "deletable": true,
    "editable": true
   },
   "outputs": [],
   "source": []
  },
  {
   "cell_type": "code",
   "execution_count": 139,
   "metadata": {
    "collapsed": true,
    "deletable": true,
    "editable": true
   },
   "outputs": [],
   "source": [
    "# Результативность"
   ]
  },
  {
   "cell_type": "code",
   "execution_count": 78,
   "metadata": {
    "collapsed": false,
    "deletable": true,
    "editable": true
   },
   "outputs": [
    {
     "name": "stdout",
     "output_type": "stream",
     "text": [
      "0 acc=0.972355555556 roc=0.846063381753 not=1244 yes=2120 no=41636 true=43756 all-1-0=(0.7001-0.9920)\n",
      "1 acc=0.974222222222 roc=0.882635447518 not=1160 yes=41283 no=2557 true=43840 all-1-0=(0.9900-0.7753)\n",
      "2 acc=0.924955555556 roc=0.914298127753 not=3377 yes=12123 no=29500 true=41623 all-1-0=(0.8872-0.9414)\n",
      "3 acc=0.971044444444 roc=0.962405089931 not=1303 yes=31037 no=12660 true=43697 all-1-0=(0.9839-0.9409)\n",
      "4 acc=0.9478 roc=0.895974757277 not=2349 yes=6719 no=35932 true=42651 all-1-0=(0.8141-0.9778)\n",
      "5 acc=0.967533333333 roc=0.884334561004 not=1461 yes=3179 no=40360 true=43539 all-1-0=(0.7828-0.9859)\n",
      "6 acc=0.9534 roc=0.919799398227 not=2097 yes=7756 no=35147 true=42903 all-1-0=(0.8639-0.9757)\n",
      "7 acc=0.933355555556 roc=0.783560322324 not=2999 yes=2928 no=39073 true=42001 all-1-0=(0.5915-0.9756)\n",
      "8 acc=0.994977777778 roc=0.540153710079 not=226 yes=19 no=44755 true=44774 all-1-0=(0.0805-0.9998)\n",
      "9 acc=0.988711111111 roc=0.95948063155 not=508 yes=2167 no=42325 true=44492 all-1-0=(0.9269-0.9921)\n",
      "10 acc=0.986977777778 roc=0.980814301783 not=586 yes=7855 no=36559 true=44414 all-1-0=(0.9712-0.9904)\n",
      "11 acc=0.998422222222 roc=0.781263846418 not=71 yes=58 no=44871 true=44929 all-1-0=(0.5631-0.9994)\n",
      "12 acc=0.981755555556 roc=0.630592880756 not=821 yes=251 no=43928 true=44179 all-1-0=(0.2639-0.9973)\n",
      "13 acc=0.998111111111 roc=0.943815267917 not=85 yes=335 no=44580 true=44915 all-1-0=(0.8886-0.9990)\n",
      "14 acc=0.992044444444 roc=0.552944985238 not=358 yes=40 no=44602 true=44642 all-1-0=(0.1064-0.9995)\n",
      "15 acc=0.993822222222 roc=0.711860978385 not=278 yes=159 no=44563 true=44722 all-1-0=(0.4251-0.9986)\n",
      "16 acc=0.997577777778 roc=0.509079770753 not=109 yes=2 no=44889 true=44891 all-1-0=(0.0182-1.0000)\n"
     ]
    }
   ],
   "source": [
    "temp = estimateResult(trY,trP01x,printOK=True) # 40000 jpg128 (epoch=40,features=17) VGG19 d4096+d4096 +weights+imnet"
   ]
  },
  {
   "cell_type": "code",
   "execution_count": 312,
   "metadata": {
    "collapsed": false,
    "deletable": true,
    "editable": true
   },
   "outputs": [
    {
     "name": "stdout",
     "output_type": "stream",
     "text": [
      "0 acc=0.970824378073 roc=0.827535509167 not=1181 yes=1786 no=37512 true=39298 all-1-0=(0.6622-0.9929)\n",
      "1 acc=0.976555744954 roc=0.877590365212 not=949 yes=37271 no=2259 true=39530 all-1-0=(0.9935-0.7616)\n",
      "2 acc=0.917611601077 roc=0.909720294098 not=3335 yes=10955 no=26189 true=37144 all-1-0=(0.8896-0.9299)\n",
      "3 acc=0.964376590331 roc=0.949960875432 not=1442 yes=28021 no=11016 true=39037 all-1-0=(0.9856-0.9143)\n",
      "4 acc=0.937943131006 roc=0.87391779368 not=2512 yes=5728 no=32239 true=37967 all-1-0=(0.7729-0.9749)\n",
      "5 acc=0.954074952444 roc=0.807677321803 not=1859 yes=2302 no=36318 true=38620 all-1-0=(0.6290-0.9864)\n",
      "6 acc=0.942711035352 roc=0.901277662688 not=2319 yes=6718 no=31442 true=38160 all-1-0=(0.8324-0.9702)\n",
      "7 acc=0.928012055634 roc=0.768147534975 not=2914 yes=2520 no=35045 true=37565 all-1-0=(0.5629-0.9734)\n",
      "8 acc=0.994861533141 roc=0.507152201111 not=208 yes=3 no=40268 true=40271 all-1-0=(0.0144-1.0000)\n",
      "9 acc=0.990464191309 roc=0.950839323708 not=386 yes=1894 no=38199 true=40093 all-1-0=(0.9067-0.9950)\n",
      "10 acc=0.982410632674 roc=0.970772637269 not=712 yes=6917 no=32850 true=39767 all-1-0=(0.9526-0.9889)\n",
      "11 acc=0.998443637442 roc=0.759814259888 not=63 yes=52 no=40364 true=40416 all-1-0=(0.5200-0.9996)\n",
      "12 acc=0.981447170138 roc=0.627369387875 not=751 yes=222 no=39506 true=39728 all-1-0=(0.2575-0.9972)\n",
      "13 acc=0.99743076657 roc=0.910956343065 not=104 yes=279 no=40096 true=40375 all-1-0=(0.8230-0.9989)\n",
      "14 acc=0.991946441365 roc=0.543388251489 not=326 yes=29 no=40124 true=40153 all-1-0=(0.0873-0.9994)\n",
      "15 acc=0.992909903901 roc=0.647931489544 not=287 yes=101 no=40091 true=40192 all-1-0=(0.2971-0.9988)\n",
      "16 acc=0.997702512414 roc=0.545868839103 not=93 yes=9 no=40377 true=40386 all-1-0=(0.0918-0.9999)\n"
     ]
    }
   ],
   "source": [
    "temp = estimateResult(trY,trP01x,printOK=True) # 40000 jpg128 (epoch=40,features=17) VGG19 d4096+d4096 +weights+imnet LB=0.90004"
   ]
  },
  {
   "cell_type": "code",
   "execution_count": null,
   "metadata": {
    "collapsed": false,
    "deletable": true,
    "editable": true
   },
   "outputs": [],
   "source": []
  },
  {
   "cell_type": "code",
   "execution_count": null,
   "metadata": {
    "collapsed": false,
    "deletable": true,
    "editable": true
   },
   "outputs": [],
   "source": []
  },
  {
   "cell_type": "code",
   "execution_count": 50,
   "metadata": {
    "collapsed": false,
    "deletable": true,
    "editable": true
   },
   "outputs": [],
   "source": [
    "#model.load_weights('../Data-Keras/train-model-2D-2-v2-loop-weights.h5') ## verify load weights from v1 version"
   ]
  },
  {
   "cell_type": "code",
   "execution_count": 86,
   "metadata": {
    "collapsed": false,
    "deletable": true,
    "editable": true
   },
   "outputs": [],
   "source": []
  },
  {
   "cell_type": "code",
   "execution_count": 79,
   "metadata": {
    "collapsed": true
   },
   "outputs": [],
   "source": [
    "def generate_test ( dirIn, output_shape, size=5000, preprocess=True, debugOK=False) :\n",
    "    \n",
    "    xx = np.zeros((size,output_shape[0],output_shape[1],output_shape[2]),dtype=np.float32);\n",
    "    yy = np.array((size,output_shape[0],output_shape[1],output_shape[2]));\n",
    "    \n",
    "    iijj = 0;\n",
    "    \n",
    "    names_files = np.array(os.listdir(dirIn));\n",
    "    if debugOK : \n",
    "        print('generate_test: names_files={} size={} dirIn={}'.format(len(names_files),size,dirIn))\n",
    "        names_files = names_files[:1000]\n",
    "        print(names_files.shape)\n",
    "    \n",
    "    for ii in range(0,names_files.shape[0],size) :\n",
    "        ###if debugOK : print('generate_test: ii={}'.format(ii))\n",
    "        yy    = names_files[ii:min(ii+size,names_files.shape[0])];\n",
    "        files = names_files[ii:min(ii+size,names_files.shape[0])].tolist()\n",
    "        #################files = [x+ext for x in files]\n",
    "        if len(files)<size :\n",
    "            xx = np.zeros((len(files),output_shape[0],output_shape[1],output_shape[2]),dtype=np.float32);\n",
    "        for i in range(len(files)) :\n",
    "            nf    = os.path.join(dirIn,files[i])\n",
    "            xx[i] = formImExt(nf,EqualizeOK=False,resize=(output_shape[0],output_shape[1]))\n",
    "            iijj += 1\n",
    "            ##if (iijj%5000)==0 : print (datetime.datetime.now(),'-->',iijj)\n",
    "        if preprocess : xx    = preprocess_input(xx)\n",
    "        yield xx,yy"
   ]
  },
  {
   "cell_type": "code",
   "execution_count": null,
   "metadata": {
    "collapsed": true
   },
   "outputs": [],
   "source": []
  },
  {
   "cell_type": "code",
   "execution_count": 80,
   "metadata": {
    "collapsed": false
   },
   "outputs": [
    {
     "name": "stdout",
     "output_type": "stream",
     "text": [
      "2017-07-19 15:36:21.602397 load   :  1 10000 (10000, 224, 224, 3) (10000,) test_10002.jpg test_19029.jpg\n",
      "2017-07-19 15:39:34.107325 predict:  1 (10000, 17) (10000,) test_10002.jpg test_19029.jpg\n",
      "2017-07-19 15:40:00.338377 load   :  2 20000 (10000, 224, 224, 3) (10000,) test_1903.jpg test_28015.jpg\n",
      "2017-07-19 15:43:08.294895 predict:  2 (20000, 17) (20000,) test_10002.jpg test_28015.jpg\n",
      "2017-07-19 15:43:32.579722 load   :  3 30000 (10000, 224, 224, 3) (10000,) test_28016.jpg test_37026.jpg\n",
      "2017-07-19 15:46:43.179951 predict:  3 (30000, 17) (30000,) test_10002.jpg test_37026.jpg\n",
      "2017-07-19 15:47:08.220964 load   :  4 40000 (10000, 224, 224, 3) (10000,) test_37027.jpg test_9402.jpg\n",
      "2017-07-19 15:50:16.197654 predict:  4 (40000, 17) (40000,) test_10002.jpg test_9402.jpg\n",
      "2017-07-19 15:50:39.908150 load   :  5 50000 (10000, 224, 224, 3) (10000,) test_9403.jpg file_18419.jpg\n",
      "2017-07-19 15:53:49.669547 predict:  5 (50000, 17) (50000,) test_10002.jpg file_18419.jpg\n",
      "2017-07-19 15:54:33.876365 load   :  6 60000 (10000, 224, 224, 3) (10000,) file_1842.jpg file_892.jpg\n",
      "2017-07-19 15:57:41.915125 predict:  6 (60000, 17) (60000,) test_10002.jpg file_892.jpg\n",
      "2017-07-19 15:57:45.705406 load   :  7 61191 (1191, 224, 224, 3) (1191,) file_8920.jpg file_9999.jpg\n",
      "2017-07-19 15:58:09.710096 predict:  7 (61191, 17) (61191,) test_10002.jpg file_9999.jpg\n"
     ]
    }
   ],
   "source": [
    "#\n",
    "#  Построение решения для test массива на основе уровней прохождения (эффект почему-то дают)\n",
    "#    Построенное решение 01 полное с учетом погодных критериев [0,3,9,10]\n",
    "#        и особенности критерия cloudy (посмотреть и сменить можно в getProbX01)\n",
    "#        Построение критериев прохождения в getTh\n",
    "#\n",
    "\n",
    "# test\n",
    "\n",
    "test = generate_test(teDirJPG,sizing,size=10000,debugOK=False);\n",
    "Flag, i, load_size = True, 0, 0;\n",
    "try : \n",
    "    while True :\n",
    "            xx,yy = test.next();\n",
    "            i, load_size = i+1, load_size+yy.shape[0];\n",
    "            print(datetime.datetime.now(),'load   : ',i,load_size,xx.shape,yy.shape,yy[0],yy[-1])\n",
    "            assert (xx.shape[0]==yy.shape[0])\n",
    "\n",
    "            pp   = model10.predict(xx, batch_size=batch_size)\n",
    "            if (i==1) :\n",
    "                trOP = pp\n",
    "                trOY = yy\n",
    "            else :\n",
    "                trOP = np.vstack([trOP,pp])\n",
    "                trOY = np.hstack([trOY,yy])\n",
    "\n",
    "            print(datetime.datetime.now(),'predict: ',i,trOP.shape,trOY.shape,trOY[0],trOY[-1])\n",
    "\n",
    "except StopIteration as e : Flag = False;\n",
    "        \n",
    "finally : test.close();\n",
    "\n",
    "# Уровни прохождения & решение\n",
    "trO01   = getProbX01(trOP,th)\n",
    "######trO01   = getProb01(trOP,th=0.2)\n",
    "\n"
   ]
  },
  {
   "cell_type": "code",
   "execution_count": null,
   "metadata": {
    "collapsed": true
   },
   "outputs": [],
   "source": []
  },
  {
   "cell_type": "code",
   "execution_count": 81,
   "metadata": {
    "collapsed": true
   },
   "outputs": [],
   "source": [
    "# Строим результат"
   ]
  },
  {
   "cell_type": "code",
   "execution_count": 82,
   "metadata": {
    "collapsed": false
   },
   "outputs": [
    {
     "data": {
      "text/plain": [
       "'test_10002.jpg'"
      ]
     },
     "execution_count": 82,
     "metadata": {},
     "output_type": "execute_result"
    }
   ],
   "source": [
    "trZ = trO01\n",
    "trOY_old = trOY\n",
    "trOY_old[0]"
   ]
  },
  {
   "cell_type": "code",
   "execution_count": null,
   "metadata": {
    "collapsed": true
   },
   "outputs": [],
   "source": []
  },
  {
   "cell_type": "code",
   "execution_count": 83,
   "metadata": {
    "collapsed": false
   },
   "outputs": [
    {
     "data": {
      "text/plain": [
       "'test_10002'"
      ]
     },
     "execution_count": 83,
     "metadata": {},
     "output_type": "execute_result"
    }
   ],
   "source": [
    "trOY = trOY_old.tolist(); type(trOY), len(trOY)\n",
    "trOY = [os.path.splitext(xx)[0] for xx in trOY]; trOY[0]"
   ]
  },
  {
   "cell_type": "code",
   "execution_count": 84,
   "metadata": {
    "collapsed": true
   },
   "outputs": [],
   "source": [
    "temp_list = []\n",
    "for i in range(trZ.shape[0]) :\n",
    "    temp = [labels[ii] for ii in range(trZ.shape[1]) if trZ[i,ii]==1];\n",
    "    temp = ' '.join(temp)\n",
    "    temp_list.append([trOY[i],temp])\n",
    "temp_list.sort(cmp=lambda x,y: cmp(int(x[0].partition('_')[2]),int(y[0].partition('_')[2])) if (x[0].partition('_')[0]==y[0].partition('_')[0]) else cmp(y[0].partition('_')[0],x[0].partition('_')[0]))\n"
   ]
  },
  {
   "cell_type": "code",
   "execution_count": 85,
   "metadata": {
    "collapsed": false
   },
   "outputs": [
    {
     "data": {
      "text/plain": [
       "[['test_0', 'primary clear'],\n",
       " ['test_1', 'primary clear'],\n",
       " ['test_2', 'primary partly_cloudy'],\n",
       " ['test_3', 'primary agriculture clear'],\n",
       " ['test_4', 'cloudy']]"
      ]
     },
     "execution_count": 85,
     "metadata": {},
     "output_type": "execute_result"
    }
   ],
   "source": [
    "temp_list[0:5]"
   ]
  },
  {
   "cell_type": "code",
   "execution_count": null,
   "metadata": {
    "collapsed": true
   },
   "outputs": [],
   "source": []
  },
  {
   "cell_type": "code",
   "execution_count": 86,
   "metadata": {
    "collapsed": false
   },
   "outputs": [
    {
     "name": "stdout",
     "output_type": "stream",
     "text": [
      "2017-07-19-15-58-51\n"
     ]
    }
   ],
   "source": [
    "rrr=pd.DataFrame(temp_list,columns=['image_name','tags']); rrr.head(); \n",
    "suffixDT = (datetime.datetime.now()).strftime('%Y-%m-%d-%H-%M-%S'); print(suffixDT)\n",
    "rrr.to_csv('../Result/vss'+suffixDT+'.csv',index=False);"
   ]
  },
  {
   "cell_type": "code",
   "execution_count": 87,
   "metadata": {
    "collapsed": false
   },
   "outputs": [
    {
     "data": {
      "text/html": [
       "<div>\n",
       "<table border=\"1\" class=\"dataframe\">\n",
       "  <thead>\n",
       "    <tr style=\"text-align: right;\">\n",
       "      <th></th>\n",
       "      <th>image_name</th>\n",
       "      <th>tags</th>\n",
       "    </tr>\n",
       "  </thead>\n",
       "  <tbody>\n",
       "    <tr>\n",
       "      <th>0</th>\n",
       "      <td>test_0</td>\n",
       "      <td>primary clear</td>\n",
       "    </tr>\n",
       "    <tr>\n",
       "      <th>1</th>\n",
       "      <td>test_1</td>\n",
       "      <td>primary clear</td>\n",
       "    </tr>\n",
       "    <tr>\n",
       "      <th>2</th>\n",
       "      <td>test_2</td>\n",
       "      <td>primary partly_cloudy</td>\n",
       "    </tr>\n",
       "    <tr>\n",
       "      <th>3</th>\n",
       "      <td>test_3</td>\n",
       "      <td>primary agriculture clear</td>\n",
       "    </tr>\n",
       "    <tr>\n",
       "      <th>4</th>\n",
       "      <td>test_4</td>\n",
       "      <td>cloudy</td>\n",
       "    </tr>\n",
       "  </tbody>\n",
       "</table>\n",
       "</div>"
      ],
      "text/plain": [
       "  image_name                       tags\n",
       "0     test_0              primary clear\n",
       "1     test_1              primary clear\n",
       "2     test_2      primary partly_cloudy\n",
       "3     test_3  primary agriculture clear\n",
       "4     test_4                     cloudy"
      ]
     },
     "execution_count": 87,
     "metadata": {},
     "output_type": "execute_result"
    }
   ],
   "source": [
    "rrr.head()"
   ]
  },
  {
   "cell_type": "code",
   "execution_count": null,
   "metadata": {
    "collapsed": true
   },
   "outputs": [],
   "source": []
  }
 ],
 "metadata": {
  "kernelspec": {
   "display_name": "Python 2",
   "language": "python",
   "name": "python2"
  },
  "language_info": {
   "codemirror_mode": {
    "name": "ipython",
    "version": 2
   },
   "file_extension": ".py",
   "mimetype": "text/x-python",
   "name": "python",
   "nbconvert_exporter": "python",
   "pygments_lexer": "ipython2",
   "version": "2.7.13"
  }
 },
 "nbformat": 4,
 "nbformat_minor": 2
}
