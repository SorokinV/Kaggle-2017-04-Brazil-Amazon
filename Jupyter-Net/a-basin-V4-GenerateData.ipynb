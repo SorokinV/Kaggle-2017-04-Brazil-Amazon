{
 "cells": [
  {
   "cell_type": "code",
   "execution_count": 2,
   "metadata": {
    "collapsed": true,
    "deletable": true,
    "editable": true
   },
   "outputs": [],
   "source": [
    "##\n",
    "## Generator data from files (jpg, tiff) train&test\n",
    "##\n"
   ]
  },
  {
   "cell_type": "code",
   "execution_count": 3,
   "metadata": {
    "collapsed": false,
    "deletable": true,
    "editable": true
   },
   "outputs": [],
   "source": [
    "import sys,os,datetime\n",
    "import numpy as np\n",
    "import pandas as pd\n",
    "import matplotlib.pyplot as plt\n",
    "from sklearn.metrics import fbeta_score\n",
    "from __future__ import print_function"
   ]
  },
  {
   "cell_type": "code",
   "execution_count": 4,
   "metadata": {
    "collapsed": false,
    "deletable": true,
    "editable": true
   },
   "outputs": [
    {
     "name": "stdout",
     "output_type": "stream",
     "text": [
      "1.12.1\n",
      "0.19.2\n"
     ]
    }
   ],
   "source": [
    "print(np.__version__);\n",
    "print(pd.__version__);"
   ]
  },
  {
   "cell_type": "code",
   "execution_count": 5,
   "metadata": {
    "collapsed": false,
    "deletable": true,
    "editable": true
   },
   "outputs": [
    {
     "data": {
      "text/plain": [
       "'3.2.0'"
      ]
     },
     "execution_count": 5,
     "metadata": {},
     "output_type": "execute_result"
    }
   ],
   "source": [
    "import  cv2 as cv\n",
    "cv.__version__"
   ]
  },
  {
   "cell_type": "code",
   "execution_count": 6,
   "metadata": {
    "collapsed": false,
    "deletable": true,
    "editable": true
   },
   "outputs": [],
   "source": [
    "sys.path.append('../Python')\n",
    "from helper import paths_input, formImExt, formImHist\n",
    "from estimate import confusion_matrix, getConfusion, getRocAUC, getProb01, estimateResult"
   ]
  },
  {
   "cell_type": "code",
   "execution_count": null,
   "metadata": {
    "collapsed": false,
    "deletable": true,
    "editable": true
   },
   "outputs": [],
   "source": []
  },
  {
   "cell_type": "code",
   "execution_count": null,
   "metadata": {
    "collapsed": false,
    "deletable": true,
    "editable": true
   },
   "outputs": [],
   "source": []
  },
  {
   "cell_type": "code",
   "execution_count": 7,
   "metadata": {
    "collapsed": false,
    "deletable": true,
    "editable": true
   },
   "outputs": [
    {
     "data": {
      "text/plain": [
       "('../Data/train-tif-v2',\n",
       " '../Data/test-tif-v2',\n",
       " '../Data/test-jpg-v2',\n",
       " '../Work/Train',\n",
       " '../Work/Test')"
      ]
     },
     "execution_count": 7,
     "metadata": {},
     "output_type": "execute_result"
    }
   ],
   "source": [
    "trLabels,trDirTIF,trDirJPG,teDirTIF,teDirJPG = paths_input()\n",
    "trDirI = trDirTIF\n",
    "teDirI = teDirTIF\n",
    "trWork, teWork = '../Work/Train', '../Work/Test'\n",
    "trDirI,teDirI, teDirJPG, trWork, teWork"
   ]
  },
  {
   "cell_type": "code",
   "execution_count": null,
   "metadata": {
    "collapsed": true,
    "deletable": true,
    "editable": true
   },
   "outputs": [],
   "source": []
  },
  {
   "cell_type": "code",
   "execution_count": 8,
   "metadata": {
    "collapsed": false,
    "deletable": true,
    "editable": true
   },
   "outputs": [
    {
     "data": {
      "text/html": [
       "<div>\n",
       "<table border=\"1\" class=\"dataframe\">\n",
       "  <thead>\n",
       "    <tr style=\"text-align: right;\">\n",
       "      <th></th>\n",
       "      <th>image_name</th>\n",
       "      <th>tags</th>\n",
       "    </tr>\n",
       "  </thead>\n",
       "  <tbody>\n",
       "    <tr>\n",
       "      <th>0</th>\n",
       "      <td>train_0</td>\n",
       "      <td>haze primary</td>\n",
       "    </tr>\n",
       "    <tr>\n",
       "      <th>1</th>\n",
       "      <td>train_1</td>\n",
       "      <td>agriculture clear primary water</td>\n",
       "    </tr>\n",
       "    <tr>\n",
       "      <th>2</th>\n",
       "      <td>train_2</td>\n",
       "      <td>clear primary</td>\n",
       "    </tr>\n",
       "    <tr>\n",
       "      <th>3</th>\n",
       "      <td>train_3</td>\n",
       "      <td>clear primary</td>\n",
       "    </tr>\n",
       "    <tr>\n",
       "      <th>4</th>\n",
       "      <td>train_4</td>\n",
       "      <td>agriculture clear habitation primary road</td>\n",
       "    </tr>\n",
       "  </tbody>\n",
       "</table>\n",
       "</div>"
      ],
      "text/plain": [
       "  image_name                                       tags\n",
       "0    train_0                               haze primary\n",
       "1    train_1            agriculture clear primary water\n",
       "2    train_2                              clear primary\n",
       "3    train_3                              clear primary\n",
       "4    train_4  agriculture clear habitation primary road"
      ]
     },
     "execution_count": 8,
     "metadata": {},
     "output_type": "execute_result"
    }
   ],
   "source": [
    "labels_df = pd.read_csv(trLabels)\n",
    "labels_df.head()"
   ]
  },
  {
   "cell_type": "code",
   "execution_count": 9,
   "metadata": {
    "collapsed": true,
    "deletable": true,
    "editable": true
   },
   "outputs": [],
   "source": [
    "# Build list with unique labels\n",
    "label_list = []\n",
    "for tag_str in labels_df.tags.values:\n",
    "    labels = tag_str.split(' ')\n",
    "    for label in labels:\n",
    "        if label not in label_list:\n",
    "            label_list.append(label)"
   ]
  },
  {
   "cell_type": "code",
   "execution_count": 10,
   "metadata": {
    "collapsed": false,
    "deletable": true,
    "editable": true
   },
   "outputs": [],
   "source": [
    "# Add onehot features for every label\n",
    "for label in label_list:\n",
    "    labels_df[label] = labels_df['tags'].apply(lambda x: 1 if label in x.split(' ') else 0)\n",
    "    #labels_df[label].astype(np.int8)\n",
    "# Display head\n",
    "#labels_df.head()\n"
   ]
  },
  {
   "cell_type": "code",
   "execution_count": 11,
   "metadata": {
    "collapsed": false,
    "deletable": true,
    "editable": true
   },
   "outputs": [],
   "source": [
    "weather_labels = ['clear', 'partly_cloudy', 'haze', 'cloudy']\n",
    "land_labels = ['primary', 'agriculture', 'water', 'cultivation', 'habitation' ]\n",
    "rare_labels = [l for l in label_list if labels_df[label_list].sum()[l] < 2000]\n",
    "#rare_labels              "
   ]
  },
  {
   "cell_type": "code",
   "execution_count": null,
   "metadata": {
    "collapsed": false,
    "deletable": true,
    "editable": true
   },
   "outputs": [],
   "source": []
  },
  {
   "cell_type": "code",
   "execution_count": 12,
   "metadata": {
    "collapsed": false,
    "deletable": true,
    "editable": true
   },
   "outputs": [
    {
     "data": {
      "text/plain": [
       "array([[1, 1, 0, 0, 0, 0, 0, 0, 0, 0, 0, 0, 0, 0, 0, 0, 0],\n",
       "       [0, 1, 1, 1, 1, 0, 0, 0, 0, 0, 0, 0, 0, 0, 0, 0, 0],\n",
       "       [0, 1, 0, 1, 0, 0, 0, 0, 0, 0, 0, 0, 0, 0, 0, 0, 0],\n",
       "       [0, 1, 0, 1, 0, 0, 0, 0, 0, 0, 0, 0, 0, 0, 0, 0, 0],\n",
       "       [0, 1, 1, 1, 0, 1, 1, 0, 0, 0, 0, 0, 0, 0, 0, 0, 0],\n",
       "       [1, 1, 0, 0, 1, 0, 0, 0, 0, 0, 0, 0, 0, 0, 0, 0, 0]])"
      ]
     },
     "execution_count": 12,
     "metadata": {},
     "output_type": "execute_result"
    }
   ],
   "source": [
    "labels = label_list; #weather_labels;\n",
    "nameList =labels_df[labels_df[labels].sum(axis=1)>0].image_name.tolist(); len(nameList)\n",
    "labelList=labels_df[labels_df[labels].sum(axis=1)>0][labels].as_matrix();\n",
    "labelList[:6,:]\n",
    "#labels_df.head()"
   ]
  },
  {
   "cell_type": "code",
   "execution_count": null,
   "metadata": {
    "collapsed": true,
    "deletable": true,
    "editable": true
   },
   "outputs": [],
   "source": []
  },
  {
   "cell_type": "code",
   "execution_count": null,
   "metadata": {
    "collapsed": false,
    "deletable": true,
    "editable": true
   },
   "outputs": [],
   "source": []
  },
  {
   "cell_type": "code",
   "execution_count": null,
   "metadata": {
    "collapsed": true,
    "deletable": true,
    "editable": true
   },
   "outputs": [],
   "source": []
  },
  {
   "cell_type": "code",
   "execution_count": 37,
   "metadata": {
    "collapsed": true,
    "deletable": true,
    "editable": true
   },
   "outputs": [],
   "source": [
    "#\n",
    "# Генерация train - ноборов\n",
    "#"
   ]
  },
  {
   "cell_type": "code",
   "execution_count": 38,
   "metadata": {
    "collapsed": false,
    "deletable": true,
    "editable": true
   },
   "outputs": [],
   "source": [
    "resize = (64,64)\n",
    "jpgtif = '.jpg'\n",
    "\n",
    "dirI     = trDirJPG if jpgtif=='.jpg' else trDirTIF\n",
    "forSaveFile = 'train-model-2D-{}x{}x{}'.format(resize[0],resize[1],('3' if jpgtif=='.jpg' else 'X'))\n",
    "\n",
    "Only3TIF    = False \n"
   ]
  },
  {
   "cell_type": "code",
   "execution_count": 39,
   "metadata": {
    "collapsed": false,
    "deletable": true,
    "editable": true
   },
   "outputs": [],
   "source": [
    "del trX, trY"
   ]
  },
  {
   "cell_type": "code",
   "execution_count": 40,
   "metadata": {
    "collapsed": false,
    "deletable": true,
    "editable": true
   },
   "outputs": [
    {
     "name": "stdout",
     "output_type": "stream",
     "text": [
      "2017-07-09 20:06:08.068386 40479 40479 .jpg\n",
      "2017-07-09 20:07:31.816300 \t 5000 \t train_4999\n",
      "2017-07-09 20:09:00.856640 \t 10000 \t train_9999\n",
      "2017-07-09 20:10:26.638933 \t 15000 \t train_14999\n",
      "2017-07-09 20:11:48.805107 \t 20000 \t train_19999\n",
      "2017-07-09 20:13:09.057931 \t 25000 \t train_24999\n",
      "2017-07-09 20:14:22.670277 \t 30000 \t train_29999\n",
      "2017-07-09 20:15:32.250250 \t 35000 \t train_34999\n",
      "2017-07-09 20:16:37.113362 \t 40000 \t train_39999\n",
      "2017-07-09 20:16:43.475369\n",
      "40479 (40479, 64, 64, 3) (40479, 17)\n"
     ]
    }
   ],
   "source": [
    "i, size = 0, len(nameList)\n",
    "trX, trY = np.zeros((size,resize[0],resize[1],(3 if (Only3TIF or jpgtif=='.jpg') else 8)),dtype=np.uint8),[]\n",
    "print(datetime.datetime.now(),len(nameList),size,jpgtif)\n",
    "for nn in nameList[0:size] :\n",
    "    \n",
    "    nf = os.path.join(dirI,nn+jpgtif); #print(nf)\n",
    "    nx = formImExt(nf,resize=resize, OnlyNI=Only3TIF); \n",
    "    if (nx is not None) :\n",
    "        trX[i] = nx\n",
    "        trY.append(True)\n",
    "    else : \n",
    "        trY.append(False)\n",
    "    i += 1\n",
    "    if (i%5000==0) : print(datetime.datetime.now(),\"\\t\",i,\"\\t\",nn)\n",
    "    #print(nn.shape)\n",
    "\n",
    "print(datetime.datetime.now())\n",
    "#trX = np.array(trX);\n",
    "trY  = labelList[trY];\n",
    "print(len(nameList),trX.shape,trY.shape)"
   ]
  },
  {
   "cell_type": "code",
   "execution_count": 41,
   "metadata": {
    "collapsed": false,
    "deletable": true,
    "editable": true
   },
   "outputs": [
    {
     "data": {
      "text/plain": [
       "((40479, 64, 64, 3), (40479, 17))"
      ]
     },
     "execution_count": 41,
     "metadata": {},
     "output_type": "execute_result"
    }
   ],
   "source": [
    "trX.shape,trY.shape"
   ]
  },
  {
   "cell_type": "code",
   "execution_count": null,
   "metadata": {
    "collapsed": false,
    "deletable": true,
    "editable": true
   },
   "outputs": [],
   "source": []
  },
  {
   "cell_type": "code",
   "execution_count": 42,
   "metadata": {
    "collapsed": false,
    "deletable": true,
    "editable": true
   },
   "outputs": [],
   "source": [
    "np.save('../Data-Keras/Datas/train-model-2D-64x64x3-XX-tif.npy',trX)\n",
    "np.save('../Data-Keras/Datas/train-model-2D-64x64x3-YY-tif.npy',trY)\n",
    "###np.save('../Data-Keras/Datas/train-model-2D-32x32x3-XX.npy',trX)\n",
    "###np.save('../Data-Keras/Datas/train-model-2D-32x32x3-YY.npy',trY)\n",
    "##np.save('../Data-Keras/Datas/train-model-2D-128x128x3-XX.npy',trX)\n",
    "##np.save('../Data-Keras/Datas/train-model-2D-128x128x3-YY.npy',trY)\n",
    "#np.save('../Data-Keras/Datas/train-model-2D-128x128xX3-XX.npy',trX)\n",
    "#np.save('../Data-Keras/Datas/train-model-2D-128x128xX3-YY.npy',trY)\n",
    "#np.save('../Data-Keras/Datas/train-model-2D-224x224x3-XX.npy',trX)\n",
    "#np.save('../Data-Keras/Datas/train-model-2D-224x224x3-YY.npy',trY)\n",
    "#np.save(os.path.join('../Data-Keras/Datas/',forFileSave'-XX.npy',trX)\n",
    "#np.save(os.path.join('../Data-Keras/Datas/',forFileSave'-YY.npy',trY)"
   ]
  },
  {
   "cell_type": "code",
   "execution_count": 30,
   "metadata": {
    "collapsed": false,
    "deletable": true,
    "editable": true
   },
   "outputs": [],
   "source": [
    "del(trX); del(trY);"
   ]
  },
  {
   "cell_type": "code",
   "execution_count": 1,
   "metadata": {
    "collapsed": false,
    "deletable": true,
    "editable": true
   },
   "outputs": [],
   "source": [
    "#trX.shape\n",
    "#plt.imshow(trX[1,:,:,5],'gray'); plt.show()\n",
    "#plt.imshow(trX[0]); plt.show()"
   ]
  },
  {
   "cell_type": "code",
   "execution_count": 43,
   "metadata": {
    "collapsed": false,
    "deletable": true,
    "editable": true
   },
   "outputs": [
    {
     "name": "stdout",
     "output_type": "stream",
     "text": [
      "(12048, 64, 64, 3) (12048, 16)\n"
     ]
    }
   ],
   "source": [
    "##trXX = np.load('../Data-Keras/Datas/train-model-2D-64x64x6-XX.npy')\n",
    "##trYY = np.load('../Data-Keras/Datas/train-model-2D-64x64x6-YY.npy')\n",
    "trXX  = np.load('../Data-Keras/Datas/train-model-2D-64x64x3-XX.npy')\n",
    "trYY  = np.load('../Data-Keras/Datas/train-model-2D-64x64x3-YY.npy')\n",
    "trX, trY = trXX[trYY[:,9]==0], trYY[trYY[:,9]==0] # not cloudy\n",
    "trY=trY[:,range(0,9)+range(10,17)] # --cloudy\n",
    "del trXX,trYY\n",
    "print(trX.shape,trY.shape)"
   ]
  },
  {
   "cell_type": "code",
   "execution_count": null,
   "metadata": {
    "collapsed": false,
    "deletable": true,
    "editable": true
   },
   "outputs": [],
   "source": []
  },
  {
   "cell_type": "code",
   "execution_count": 27,
   "metadata": {
    "collapsed": false,
    "deletable": true,
    "editable": true
   },
   "outputs": [],
   "source": [
    "# Forming output dataset for predicting --> trOX, trOY\n",
    "del(trX)\n",
    "del(trY)"
   ]
  },
  {
   "cell_type": "code",
   "execution_count": null,
   "metadata": {
    "collapsed": false,
    "deletable": true,
    "editable": true
   },
   "outputs": [],
   "source": []
  },
  {
   "cell_type": "code",
   "execution_count": 27,
   "metadata": {
    "collapsed": true,
    "deletable": true,
    "editable": true
   },
   "outputs": [],
   "source": [
    "def generateArrays( dirIn, nameAsk, binsData, debugOK=False) :\n",
    "    #nameAsk = os.listdir(dirIn); print(len(nameAsk))\n",
    "    trOX, trOY, i, size = [], [], 0, len(nameAsk)\n",
    "    if debugOK : size = 10\n",
    "    print(datetime.datetime.now(),len(nameAsk),size)\n",
    "    for nn in nameAsk[0:size] :\n",
    "        nf = os.path.join(dirIn,nn);\n",
    "        nx = formImExt(nf, resize=(binsData,binsData), printOK=debugOK, ExtIndex=True)\n",
    "        if (i==0) : trOX = np.zeros((size,nx.shape[0],nx.shape[1],nx.shape[2]),dtype=np.uint8) ## расчет на максимальный массив 256x256=65536=np.uint16\n",
    "        if (nx is not None) :\n",
    "            trOX[i] = nx\n",
    "            trOY.append(nn)\n",
    "        i += 1\n",
    "        if (i%5000==0) : print(datetime.datetime.now(),\"\\t\",i,\"\\t\",nn)\n",
    "            \n",
    "    ##trOX = np.array(trOX);\n",
    "    trOY = np.array([os.path.splitext(x)[0] for x in trOY]);\n",
    "\n",
    "    print(datetime.datetime.now())\n",
    "    return (trOX, trOY)\n",
    "\n",
    "def generateTest ( dirIn, binsData, debugOK=False) :\n",
    "    nameAsk = os.listdir(dirIn); #print(len(nameAsk))\n",
    "    return(generateArrays(dirIn,nameAsk,binsData,debugOK=debugOK))\n",
    "\n",
    "def generateTrain( dirIn, binsData, nameList, debugOK=False) :\n",
    "    ##nameAsk = os.listdir(dirIn); #print(len(nameAsk))\n",
    "    return(generateArrays(dirIn,nameList,binsData,debugOK=debugOK))\n"
   ]
  },
  {
   "cell_type": "code",
   "execution_count": null,
   "metadata": {
    "collapsed": true
   },
   "outputs": [],
   "source": []
  },
  {
   "cell_type": "code",
   "execution_count": 28,
   "metadata": {
    "collapsed": true
   },
   "outputs": [],
   "source": [
    "# Генерация для TIF\n",
    "binsList = [64,128,256]\n",
    "#binsList = [256,96,128] \n",
    "#binsList = [32,64,80]\n",
    "ttExt    = '.tif'\n",
    "debug = False\n",
    "tDirs = (trDirTIF,teDirTIF)"
   ]
  },
  {
   "cell_type": "code",
   "execution_count": 31,
   "metadata": {
    "collapsed": true
   },
   "outputs": [],
   "source": [
    "binsList = [64,128,256]\n",
    "pairList = [(64,'jpg',teDirJPG),(128,'jpg',teDirJPG),(64,'tif',teDirTIF),(128,'tif',teDirTIF)]\n",
    "debug = False"
   ]
  },
  {
   "cell_type": "code",
   "execution_count": null,
   "metadata": {
    "collapsed": true
   },
   "outputs": [],
   "source": []
  },
  {
   "cell_type": "code",
   "execution_count": 32,
   "metadata": {
    "collapsed": false
   },
   "outputs": [
    {
     "name": "stdout",
     "output_type": "stream",
     "text": [
      "-------->: bins=64 Ext=jpg input-dir=../Data/test-jpg-v2\n",
      "2017-07-11 15:13:22.153300 61191 61191\n",
      "2017-07-11 15:13:37.138338 \t 5000 \t test_14523.jpg\n",
      "2017-07-11 15:13:48.716871 \t 10000 \t test_19029.jpg\n",
      "2017-07-11 15:13:59.394121 \t 15000 \t test_23524.jpg\n",
      "2017-07-11 15:14:09.251188 \t 20000 \t test_28015.jpg\n",
      "2017-07-11 15:14:18.895194 \t 25000 \t test_32520.jpg\n",
      "2017-07-11 15:14:28.979803 \t 30000 \t test_37026.jpg\n",
      "2017-07-11 15:14:38.642784 \t 35000 \t test_4908.jpg\n",
      "2017-07-11 15:14:48.669762 \t 40000 \t test_9402.jpg\n",
      "2017-07-11 15:14:58.822375 \t 45000 \t file_13913.jpg\n",
      "2017-07-11 15:15:08.885016 \t 50000 \t file_18419.jpg\n",
      "2017-07-11 15:15:29.749036 \t 55000 \t file_4564.jpg\n",
      "2017-07-11 15:15:44.133844 \t 60000 \t file_892.jpg\n",
      "2017-07-11 15:15:47.074503\n",
      "XX -> ../Data-Keras/Datas/test-model-2D-64x64x3-jpg-XX.npy\n",
      "YY -> ../Data-Keras/Datas/test-model-2D-64x64x3-jpg-YY.npy\n",
      "-------->: bins=128 Ext=jpg input-dir=../Data/test-jpg-v2\n",
      "2017-07-11 15:15:50.162489 61191 61191\n",
      "2017-07-11 15:15:59.651357 \t 5000 \t test_14523.jpg\n",
      "2017-07-11 15:16:08.793411 \t 10000 \t test_19029.jpg\n",
      "2017-07-11 15:16:17.938816 \t 15000 \t test_23524.jpg\n",
      "2017-07-11 15:16:27.437417 \t 20000 \t test_28015.jpg\n",
      "2017-07-11 15:16:36.728031 \t 25000 \t test_32520.jpg\n",
      "2017-07-11 15:16:45.954210 \t 30000 \t test_37026.jpg\n",
      "2017-07-11 15:16:55.368506 \t 35000 \t test_4908.jpg\n",
      "2017-07-11 15:17:04.981162 \t 40000 \t test_9402.jpg\n",
      "2017-07-11 15:17:14.342948 \t 45000 \t file_13913.jpg\n",
      "2017-07-11 15:17:23.523430 \t 50000 \t file_18419.jpg\n",
      "2017-07-11 15:17:32.872023 \t 55000 \t file_4564.jpg\n",
      "2017-07-11 15:17:42.277262 \t 60000 \t file_892.jpg\n",
      "2017-07-11 15:17:44.570177\n",
      "XX -> ../Data-Keras/Datas/test-model-2D-128x128x3-jpg-XX.npy\n",
      "YY -> ../Data-Keras/Datas/test-model-2D-128x128x3-jpg-YY.npy\n",
      "-------->: bins=64 Ext=tif input-dir=../Data/test-tif-v2\n",
      "2017-07-11 15:18:06.277534 61191 61191\n",
      "2017-07-11 15:22:19.637965 \t 5000 \t test_15645.tif\n",
      "2017-07-11 15:25:58.480018 \t 10000 \t test_2615.tif\n",
      "2017-07-11 15:29:31.160924 \t 15000 \t test_6054.tif\n",
      "2017-07-11 15:32:54.795443 \t 20000 \t test_22406.tif\n",
      "2017-07-11 15:36:09.721259 \t 25000 \t test_37025.tif\n",
      "2017-07-11 15:39:26.921067 \t 30000 \t test_8910.tif\n",
      "2017-07-11 15:42:19.270551 \t 35000 \t test_39596.tif\n",
      "2017-07-11 15:45:27.011681 \t 40000 \t test_7740.tif\n",
      "2017-07-11 15:48:31.782157 \t 45000 \t test_35456.tif\n",
      "2017-07-11 15:51:22.444875 \t 50000 \t file_17548.tif\n",
      "2017-07-11 15:54:13.894932 \t 55000 \t test_19494.tif\n",
      "2017-07-11 15:57:06.960641 \t 60000 \t test_2939.tif\n",
      "2017-07-11 15:57:45.860976\n",
      "XX -> ../Data-Keras/Datas/test-model-2D-64x64x8-tif-XX.npy\n",
      "YY -> ../Data-Keras/Datas/test-model-2D-64x64x8-tif-YY.npy\n",
      "-------->: bins=128 Ext=tif input-dir=../Data/test-tif-v2\n",
      "2017-07-11 15:57:55.371168 61191 61191\n",
      "2017-07-11 16:00:59.890492 \t 5000 \t test_15645.tif\n",
      "2017-07-11 16:03:43.745453 \t 10000 \t test_2615.tif\n",
      "2017-07-11 16:06:27.628761 \t 15000 \t test_6054.tif\n",
      "2017-07-11 16:09:11.223069 \t 20000 \t test_22406.tif\n",
      "2017-07-11 16:11:59.655418 \t 25000 \t test_37025.tif\n",
      "2017-07-11 16:14:46.924480 \t 30000 \t test_8910.tif\n",
      "2017-07-11 16:17:28.871092 \t 35000 \t test_39596.tif\n",
      "2017-07-11 16:20:13.388819 \t 40000 \t test_7740.tif\n",
      "2017-07-11 16:22:58.620303 \t 45000 \t test_35456.tif\n",
      "2017-07-11 16:25:43.578064 \t 50000 \t file_17548.tif\n",
      "2017-07-11 16:28:34.801264 \t 55000 \t test_19494.tif\n",
      "2017-07-11 16:31:19.642497 \t 60000 \t test_2939.tif\n",
      "2017-07-11 16:31:56.890135\n",
      "XX -> ../Data-Keras/Datas/test-model-2D-128x128x8-tif-XX.npy\n",
      "YY -> ../Data-Keras/Datas/test-model-2D-128x128x8-tif-YY.npy\n"
     ]
    }
   ],
   "source": [
    "dirIn    = tDirs[1]\n",
    "for bds,ttExt,dirIn in pairList :\n",
    "    print ('-------->: bins={} Ext={} input-dir={}'.format(bds,ttExt,dirIn))\n",
    "    trOX, trOY = generateTest(dirIn,bds,debugOK=debug)\n",
    "    saveXX = '../Data-Keras/Datas/test-model-2D-{}x{}x{}-{}-XX.npy'.format(trOX.shape[1],trOX.shape[2],trOX.shape[3],ttExt)\n",
    "    saveYY = '../Data-Keras/Datas/test-model-2D-{}x{}x{}-{}-YY.npy'.format(trOX.shape[1],trOX.shape[2],trOX.shape[3],ttExt) \n",
    "    np.save(saveXX,trOX)\n",
    "    np.save(saveYY,trOY)\n",
    "    print ('XX ->',saveXX)\n",
    "    print ('YY ->',saveYY)\n",
    "    #print (bds,trOX.shape,trOY.shape, (trOX.shape[1]/bds)*bds, trOX.shape[1]/3)"
   ]
  },
  {
   "cell_type": "code",
   "execution_count": null,
   "metadata": {
    "collapsed": true
   },
   "outputs": [],
   "source": []
  },
  {
   "cell_type": "code",
   "execution_count": null,
   "metadata": {
    "collapsed": true
   },
   "outputs": [],
   "source": []
  },
  {
   "cell_type": "code",
   "execution_count": 19,
   "metadata": {
    "collapsed": true,
    "deletable": true,
    "editable": true
   },
   "outputs": [],
   "source": [
    "#\n",
    "# Генерация test - наборов\n",
    "#"
   ]
  },
  {
   "cell_type": "code",
   "execution_count": 20,
   "metadata": {
    "collapsed": false,
    "deletable": true,
    "editable": true
   },
   "outputs": [
    {
     "ename": "NameError",
     "evalue": "name 'trX' is not defined",
     "output_type": "error",
     "traceback": [
      "\u001b[0;31m---------------------------------------------------------------------------\u001b[0m",
      "\u001b[0;31mNameError\u001b[0m                                 Traceback (most recent call last)",
      "\u001b[0;32m<ipython-input-20-b1756ed455a4>\u001b[0m in \u001b[0;36m<module>\u001b[0;34m()\u001b[0m\n\u001b[0;32m----> 1\u001b[0;31m \u001b[0;32mdel\u001b[0m \u001b[0mtrX\u001b[0m\u001b[0;34m,\u001b[0m \u001b[0mtrY\u001b[0m\u001b[0;34m\u001b[0m\u001b[0m\n\u001b[0m",
      "\u001b[0;31mNameError\u001b[0m: name 'trX' is not defined"
     ]
    }
   ],
   "source": [
    "del trX, trY"
   ]
  },
  {
   "cell_type": "code",
   "execution_count": 21,
   "metadata": {
    "collapsed": false,
    "deletable": true,
    "editable": true
   },
   "outputs": [],
   "source": [
    "del trOX, trOY"
   ]
  },
  {
   "cell_type": "code",
   "execution_count": 22,
   "metadata": {
    "collapsed": false,
    "deletable": true,
    "editable": true
   },
   "outputs": [],
   "source": [
    "resize = (64,64)\n",
    "jpgtif = '.jpg' # ???? for test .ext get from directory\n",
    "\n",
    "dirI     = teDirJPG if jpgtif=='.jpg' else teDirTIF\n",
    "forSaveFile = 'train-model-2D-{}x{}x{}'.format(resize[0],resize[1],('3' if jpgtif=='.jpg' else 'X'))\n",
    "\n",
    "Only3TIF    = False"
   ]
  },
  {
   "cell_type": "code",
   "execution_count": null,
   "metadata": {
    "collapsed": true,
    "deletable": true,
    "editable": true
   },
   "outputs": [],
   "source": []
  },
  {
   "cell_type": "code",
   "execution_count": 23,
   "metadata": {
    "collapsed": false,
    "deletable": true,
    "editable": true
   },
   "outputs": [
    {
     "name": "stdout",
     "output_type": "stream",
     "text": [
      "61191\n",
      "2017-07-07 05:24:03.817609 61191 5\n",
      "../Data/test-jpg-v2/test_10002.jpg local variable 'ni' referenced before assignment\n",
      "../Data/test-jpg-v2/test_10003.jpg local variable 'ni' referenced before assignment\n",
      "../Data/test-jpg-v2/test_10004.jpg local variable 'ni' referenced before assignment\n",
      "../Data/test-jpg-v2/test_10005.jpg local variable 'ni' referenced before assignment\n",
      "../Data/test-jpg-v2/test_10006.jpg local variable 'ni' referenced before assignment\n",
      "2017-07-07 05:24:03.828635\n",
      "61191 (5, 64, 64, 3) (5,)\n"
     ]
    }
   ],
   "source": [
    "testFiles = os.listdir(dirI); print(len(testFiles))\n",
    "\n",
    "i, size = 0, 5 #len(testFiles)\n",
    "trOX = np.zeros((size,resize[0],resize[1],(3 if (Only3TIF or jpgtif=='.jpg') else 6)),dtype=np.uint8)\n",
    "trOY = []\n",
    "print(datetime.datetime.now(),len(testFiles),size)\n",
    "for nn in testFiles[0:size] :\n",
    "    \n",
    "    nf = os.path.join(dirI,nn); #print(nf)\n",
    "    nx = formImExt(nf,resize=resize, OnlyNI=Only3TIF); \n",
    "    if (nx is not None) :\n",
    "        trOX[i] = nx\n",
    "        trOY.append(nn)\n",
    "    else : \n",
    "        trOY.append(\"??????.???\")\n",
    "    i += 1\n",
    "    if (i%5000==0) : print(datetime.datetime.now(),\"\\t\",i,\"\\t\",nn)\n",
    "    #print(nn.shape)\n",
    "\n",
    "print(datetime.datetime.now())\n",
    "trOY  = np.array(trOY);\n",
    "print(len(testFiles),trOX.shape,trOY.shape)"
   ]
  },
  {
   "cell_type": "code",
   "execution_count": 18,
   "metadata": {
    "collapsed": false,
    "deletable": true,
    "editable": true
   },
   "outputs": [
    {
     "name": "stdout",
     "output_type": "stream",
     "text": [
      "61191 (61191, 64, 64, 6) (61191,)\n"
     ]
    }
   ],
   "source": [
    "print(len(testFiles),trOX.shape,trOY.shape)"
   ]
  },
  {
   "cell_type": "code",
   "execution_count": 19,
   "metadata": {
    "collapsed": true,
    "deletable": true,
    "editable": true
   },
   "outputs": [],
   "source": [
    "np.save('../Data-Keras/Datas/test-model-2D-64x64x6-XX-tif.npy',trOX)\n",
    "np.save('../Data-Keras/Datas/test-model-2D-64x64x6-YY-tif.npy',trOY)"
   ]
  },
  {
   "cell_type": "code",
   "execution_count": 20,
   "metadata": {
    "collapsed": false,
    "deletable": true,
    "editable": true
   },
   "outputs": [
    {
     "name": "stdout",
     "output_type": "stream",
     "text": [
      "total 8395320\r\n",
      "drwxrwxrwx 1 boba boba       4096 июл  9 12:28 .\r\n",
      "drwxrwxrwx 1 boba boba      12288 июл  6 11:47 ..\r\n",
      "drwxrwxrwx 1 boba boba          0 июл  6 11:45 .ipynb_checkpoints\r\n",
      "-rwxrwxrwx 1 boba boba 1989623904 июл  5 06:45 train-model-2D-128x128x3-XX.npy\r\n",
      "-rwxrwxrwx 1 boba boba    5505224 июл  5 06:45 train-model-2D-128x128x3-YY.npy\r\n",
      "-rwxrwxrwx 1 boba boba 6093223008 июл  5 07:24 train-model-2D-224x224x3-XX.npy\r\n",
      "-rwxrwxrwx 1 boba boba    5505224 июл  5 07:24 train-model-2D-224x224x3-YY.npy\r\n",
      "-rwxrwxrwx 1 boba boba  497406048 июл  5 01:58 train-model-2D-64x64x3-XX.npy\r\n",
      "-rwxrwxrwx 1 boba boba    5505224 июл  5 01:58 train-model-2D-64x64x3-YY.npy\r\n"
     ]
    }
   ],
   "source": [
    "!ls ../Data-Keras/Datas -la"
   ]
  },
  {
   "cell_type": "code",
   "execution_count": null,
   "metadata": {
    "collapsed": true,
    "deletable": true,
    "editable": true
   },
   "outputs": [],
   "source": []
  },
  {
   "cell_type": "code",
   "execution_count": null,
   "metadata": {
    "collapsed": true,
    "deletable": true,
    "editable": true
   },
   "outputs": [],
   "source": []
  },
  {
   "cell_type": "code",
   "execution_count": null,
   "metadata": {
    "collapsed": true,
    "deletable": true,
    "editable": true
   },
   "outputs": [],
   "source": []
  },
  {
   "cell_type": "code",
   "execution_count": null,
   "metadata": {
    "collapsed": true,
    "deletable": true,
    "editable": true
   },
   "outputs": [],
   "source": []
  },
  {
   "cell_type": "code",
   "execution_count": 34,
   "metadata": {
    "collapsed": false,
    "deletable": true,
    "editable": true
   },
   "outputs": [
    {
     "name": "stdout",
     "output_type": "stream",
     "text": [
      "61191\n",
      "2017-05-20 05:46:19.287685 61191 61191\n",
      "2017-05-20 05:46:38.218814 \t 0 \t 5000 \t test_14523.jpg \t \n",
      "2017-05-20 05:46:51.023731 \t 1 \t 10000 \t test_19029.jpg \t (10000, 17)\n",
      "2017-05-20 05:46:58.884016 \t 1 \t 15000 \t test_23524.jpg \t (10000, 17)\n",
      "2017-05-20 05:47:09.507695 \t 2 \t 20000 \t test_28015.jpg \t (20000, 17)\n",
      "2017-05-20 05:47:16.475888 \t 2 \t 25000 \t test_32520.jpg \t (20000, 17)\n",
      "2017-05-20 05:47:26.837760 \t 3 \t 30000 \t test_37026.jpg \t (30000, 17)\n",
      "2017-05-20 05:47:33.858034 \t 3 \t 35000 \t test_4908.jpg \t (30000, 17)\n",
      "2017-05-20 05:47:44.019579 \t 4 \t 40000 \t test_9402.jpg \t (40000, 17)\n",
      "2017-05-20 05:47:51.298769 \t 4 \t 45000 \t file_13913.jpg \t (40000, 17)\n",
      "2017-05-20 05:48:01.555641 \t 5 \t 50000 \t file_18419.jpg \t (50000, 17)\n",
      "2017-05-20 05:48:24.538867 \t 5 \t 55000 \t file_4564.jpg \t (50000, 17)\n",
      "2017-05-20 05:48:40.785101 \t 6 \t 60000 \t file_892.jpg \t (60000, 17)\n",
      "2017-05-20 05:48:43.863555\n"
     ]
    }
   ],
   "source": [
    "#nameAsk = os.listdir(teDirI); print(len(nameAsk))\n",
    "nameAsk = os.listdir(teDirJPG); print(len(nameAsk))\n",
    "trOX, trOY, i, ii, size = [], [], 0, 0, len(nameAsk)\n",
    "print(datetime.datetime.now(),len(nameAsk),size)\n",
    "for nn in nameAsk[0:size] :\n",
    "    #nf = os.path.join(teDirTIF,nn);\n",
    "    nf = os.path.join(teDirJPG,nn);\n",
    "    nx = formImExt(nf,resize=(64,64))\n",
    "    if (nx is not None) :\n",
    "        trOX.append(nx)\n",
    "        trOY.append(nn)\n",
    "    i += 1\n",
    "    if (i%10000==0) and (i>1) :\n",
    "        if (ii==0) :\n",
    "            trOX = np.array(trOX); trOX = trOX / 255.0\n",
    "            trP = model.predict(trOX, batch_size=512); \n",
    "        else :\n",
    "            trOX = np.array(trOX);  trOX = trOX / 255.0\n",
    "            trP = np.vstack([trP,model.predict(trOX, batch_size=512)]); \n",
    "        trOX,ii = [],ii+1;\n",
    "    if (i%5000==0) : print(datetime.datetime.now(),\"\\t\",ii,'\\t',i,\"\\t\",nn,'\\t',(trP.shape if ii>0 else \"\"))\n",
    "\n",
    "if (len(trOX)>0) :\n",
    "    if (ii==0) :\n",
    "        trOX = np.array(trOX); trOX = trOX / 255.0\n",
    "        trP = model.predict(trOX, batch_size=512); \n",
    "    else :\n",
    "        trOX = np.array(trOX); trOX = trOX / 255.0\n",
    "        trP = np.vstack([trP,model.predict(trOX, batch_size=512)]); \n",
    "    trOX,ii = [],ii+1;\n",
    "    \n",
    "print(datetime.datetime.now())\n",
    "\n",
    "#assert (size!=len(trOY)), \"Wrong files {} != {}\".format(size,len(trOY))"
   ]
  },
  {
   "cell_type": "code",
   "execution_count": 36,
   "metadata": {
    "collapsed": false,
    "deletable": true,
    "editable": true
   },
   "outputs": [
    {
     "name": "stdout",
     "output_type": "stream",
     "text": [
      "61191 (61191, 17) (61191,)\n"
     ]
    }
   ],
   "source": [
    "#trOX = np.array(trOX);\n",
    "trOY = np.array([os.path.splitext(x)[0] for x in trOY]);\n",
    "print(len(nameAsk),trP.shape,trOY.shape)"
   ]
  },
  {
   "cell_type": "code",
   "execution_count": null,
   "metadata": {
    "collapsed": true,
    "deletable": true,
    "editable": true
   },
   "outputs": [],
   "source": []
  },
  {
   "cell_type": "code",
   "execution_count": null,
   "metadata": {
    "collapsed": true,
    "deletable": true,
    "editable": true
   },
   "outputs": [],
   "source": [
    "# Saving & Loading"
   ]
  },
  {
   "cell_type": "code",
   "execution_count": 26,
   "metadata": {
    "collapsed": false,
    "deletable": true,
    "editable": true
   },
   "outputs": [],
   "source": [
    "np.save('../Data-Keras/test-basin-2D-64x64-OX-tif-v2.npy',trOX)\n",
    "np.save('../Data-Keras/test-basin-2D-64x64-OY-tif-v2.npy',trOY)"
   ]
  },
  {
   "cell_type": "code",
   "execution_count": 27,
   "metadata": {
    "collapsed": false,
    "deletable": true,
    "editable": true
   },
   "outputs": [
    {
     "name": "stdout",
     "output_type": "stream",
     "text": [
      "(61191, 32, 32, 6) (61191,)\n"
     ]
    }
   ],
   "source": [
    "trOX = np.load('../Data-Keras/test-basin-2D-64x64-OX-tif-v2.npy')\n",
    "trOY = np.load('../Data-Keras/test-basin-2D-64x64-OY-tif-v2.npy')\n",
    "print(trOX.shape,trOY.shape)"
   ]
  },
  {
   "cell_type": "code",
   "execution_count": 37,
   "metadata": {
    "collapsed": false,
    "deletable": true,
    "editable": true
   },
   "outputs": [
    {
     "data": {
      "text/plain": [
       "{0: 0.75841929007857778,\n",
       " 1: 0.98263848366246676,\n",
       " 2: 0.84722629763157453,\n",
       " 3: 0.97604678247993626,\n",
       " 4: 0.78729476795032916,\n",
       " 5: 0.78956810256787635,\n",
       " 6: 0.83083164404299403,\n",
       " 7: 0.73801616416924898,\n",
       " 8: 0.6761901702314258,\n",
       " 9: 0.86068787363532673,\n",
       " 10: 0.96403428373772715,\n",
       " 11: 0.90053737661152566,\n",
       " 12: 0.6528441526860862,\n",
       " 13: 0.86359942524081812,\n",
       " 14: 0.37037005520335736,\n",
       " 15: 0.68382329252278806,\n",
       " 16: 0.58917169677281178}"
      ]
     },
     "execution_count": 37,
     "metadata": {},
     "output_type": "execute_result"
    }
   ],
   "source": [
    "rrx\n",
    "rrd=dict()\n",
    "for i in range(len(rrx)) :\n",
    "    rrd[i]=rrx[i]\n",
    "rrd"
   ]
  },
  {
   "cell_type": "code",
   "execution_count": 258,
   "metadata": {
    "collapsed": true,
    "deletable": true,
    "editable": true
   },
   "outputs": [],
   "source": [
    "#Forming result"
   ]
  },
  {
   "cell_type": "code",
   "execution_count": 30,
   "metadata": {
    "collapsed": false,
    "deletable": true,
    "editable": true
   },
   "outputs": [
    {
     "data": {
      "text/plain": [
       "((61191, 17), array([  6.56801313e-02,   7.46541142e-01,   2.32726157e-01,\n",
       "          9.55386758e-01,   1.95543230e-01,   9.11955476e-01,\n",
       "          8.89197826e-01,   2.53069662e-02,   1.54045611e-05,\n",
       "          7.43342913e-04,   6.54759035e-02,   6.17289741e-04,\n",
       "          8.51887614e-02,   2.95602629e-04,   2.64362683e-07,\n",
       "          1.03749386e-04,   2.92145728e-07], dtype=float32))"
      ]
     },
     "execution_count": 30,
     "metadata": {},
     "output_type": "execute_result"
    }
   ],
   "source": [
    "#trP = model.predict(trOX, batch_size=512); \n",
    "trP.shape, trP[-1]"
   ]
  },
  {
   "cell_type": "code",
   "execution_count": 38,
   "metadata": {
    "collapsed": false,
    "deletable": true,
    "editable": true
   },
   "outputs": [
    {
     "name": "stdout",
     "output_type": "stream",
     "text": [
      "(17,)\n",
      "[3, 10, 0, 9] \n",
      " ['haze', 'primary', 'agriculture', 'clear', 'water', 'habitation', 'road', 'cultivation', 'slash_burn', 'cloudy', 'partly_cloudy', 'conventional_mine', 'bare_ground', 'artisinal_mine', 'blooming', 'selective_logging', 'blow_down'] \n",
      " [2.0, 0.5, 0.5, 2.0, 0.5, 0.5, 0.5, 0.5, 0.5, 2.0, 2.0, 0.5, 0.5, 0.5, 0.5, 0.5, 0.5]\n"
     ]
    }
   ],
   "source": [
    "trM=np.array([0.0]*len(labels)); print(trM.shape)\n",
    "wr = [labels.index(i) for i in weather_labels];\n",
    "tt=trM; trM[:]=0.5\n",
    "trM[np.array(wr)] = 2.0\n",
    "print(wr,'\\n',labels,'\\n',trM.tolist())"
   ]
  },
  {
   "cell_type": "code",
   "execution_count": null,
   "metadata": {
    "collapsed": true,
    "deletable": true,
    "editable": true
   },
   "outputs": [],
   "source": []
  },
  {
   "cell_type": "code",
   "execution_count": 39,
   "metadata": {
    "collapsed": false,
    "deletable": true,
    "editable": true
   },
   "outputs": [
    {
     "name": "stdout",
     "output_type": "stream",
     "text": [
      "['test_0', 'clear primary'] \n",
      " ['file_20521', 'clear primary'] \n",
      " [ 2.   0.5  0.5  2.   0.5  0.5  0.5  0.5  0.5  2.   2.   0.5  0.5  0.5  0.5\n",
      "  0.5  0.5] [  1.63650557e-01   3.91220033e-01   1.36160061e-01   9.47374701e-01\n",
      "   9.09343541e-01   1.55211976e-02   3.13203782e-02   1.42206885e-02\n",
      "   8.06170846e-08   9.10553038e-01   7.85041321e-03   4.12757437e-08\n",
      "   6.71853591e-03   1.33155788e-06   7.46736941e-06   9.65268737e-06\n",
      "   7.95199711e-08]\n"
     ]
    }
   ],
   "source": [
    "#trP = model.predict(trX, batch_size=512); trP=K.get_value(trP)\n",
    "res = []\n",
    "\n",
    "for i in range(trP.shape[0]) :\n",
    "    trPP = [weather_labels[trP[i,wr].argmax()]] + [labels[ii] for ii in range(len(labels)) if (trP[i,ii]>trM[ii])];\n",
    "    pp   = ' '.join(trPP)\n",
    "    ##if (pp==\"\") : print(trY[i])\n",
    "    res.append([trOY[i],pp])\n",
    "\n",
    "res.sort(cmp=lambda x,y: cmp(int(x[0].partition('_')[2]),int(y[0].partition('_')[2])) if (x[0].partition('_')[0]==y[0].partition('_')[0]) else cmp(y[0].partition('_')[0],x[0].partition('_')[0]))\n",
    "#print(res[4:8],'\\n',res[-4:])\n",
    "print(res[0],'\\n',res[-1],'\\n',trM,trP[0])"
   ]
  },
  {
   "cell_type": "code",
   "execution_count": null,
   "metadata": {
    "collapsed": true,
    "deletable": true,
    "editable": true
   },
   "outputs": [],
   "source": []
  },
  {
   "cell_type": "code",
   "execution_count": 40,
   "metadata": {
    "collapsed": false,
    "deletable": true,
    "editable": true
   },
   "outputs": [
    {
     "name": "stdout",
     "output_type": "stream",
     "text": [
      "['haze', 'primary', 'agriculture', 'clear', 'water', 'habitation', 'road', 'cultivation', 'slash_burn', 'cloudy', 'partly_cloudy', 'conventional_mine', 'bare_ground', 'artisinal_mine', 'blooming', 'selective_logging', 'blow_down']\n"
     ]
    }
   ],
   "source": [
    "print(labels)\n",
    "#print(trM.tolist())\n",
    "#np.round(trP[4:11,:])"
   ]
  },
  {
   "cell_type": "code",
   "execution_count": 41,
   "metadata": {
    "collapsed": false,
    "deletable": true,
    "editable": true
   },
   "outputs": [
    {
     "name": "stdout",
     "output_type": "stream",
     "text": [
      "2017-05-20-05-51-18\n"
     ]
    }
   ],
   "source": [
    "rrr=pd.DataFrame(res,columns=['image_name','tags']); rrr.head(); \n",
    "suffixDT = (datetime.datetime.now()).strftime('%Y-%m-%d-%H-%M-%S'); print(suffixDT)\n",
    "rrr.to_csv('../Result/vss'+suffixDT+'.csv',index=False);"
   ]
  },
  {
   "cell_type": "code",
   "execution_count": null,
   "metadata": {
    "collapsed": true,
    "deletable": true,
    "editable": true
   },
   "outputs": [],
   "source": []
  }
 ],
 "metadata": {
  "kernelspec": {
   "display_name": "Python 2",
   "language": "python",
   "name": "python2"
  },
  "language_info": {
   "codemirror_mode": {
    "name": "ipython",
    "version": 2
   },
   "file_extension": ".py",
   "mimetype": "text/x-python",
   "name": "python",
   "nbconvert_exporter": "python",
   "pygments_lexer": "ipython2",
   "version": "2.7.13"
  }
 },
 "nbformat": 4,
 "nbformat_minor": 2
}
