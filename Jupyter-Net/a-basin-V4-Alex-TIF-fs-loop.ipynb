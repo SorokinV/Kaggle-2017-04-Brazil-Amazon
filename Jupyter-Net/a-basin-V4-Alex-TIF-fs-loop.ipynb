{
 "cells": [
  {
   "cell_type": "code",
   "execution_count": 1,
   "metadata": {
    "collapsed": true,
    "deletable": true,
    "editable": true
   },
   "outputs": [],
   "source": [
    "##\n",
    "## AlexNet analog (Krizhevsky 2012)\n",
    "##\n",
    "## 2017-05-20\n",
    "## maximum on LB => 0.84500\n",
    "##\n",
    "## TIF - (,,6) (,,3)\n",
    "##\n",
    "## 2017-07-06\n",
    "##  TIF (64,64,6) - полная схема без выемки 09(cloudy) - то есть 17 признаков\n",
    "##  \n",
    "## 2017-07-06\n",
    "##  общая оценка не дает выше fpred на train 0.81-0.84\n",
    "##  Поэтому проверяется идея раздельного подсчета для признаков (пачками), например 0-4, 5-9, 10-14, 15-16. \n",
    "##  Полученные результаты будут склеены и обработаны для результата.\n",
    "##  Предварительная оценка fpred = 0.9 на подмножестве 0-4, существенное улучшение попаданий для набора 64x64x6.\n",
    "##\n",
    "##"
   ]
  },
  {
   "cell_type": "code",
   "execution_count": 2,
   "metadata": {
    "collapsed": false,
    "deletable": true,
    "editable": true
   },
   "outputs": [],
   "source": [
    "import sys,os,datetime\n",
    "import numpy as np\n",
    "import pandas as pd\n",
    "import matplotlib.pyplot as plt\n",
    "from sklearn.metrics import fbeta_score\n",
    "import sklearn.metrics as skm\n",
    "\n",
    "from __future__ import print_function"
   ]
  },
  {
   "cell_type": "code",
   "execution_count": 3,
   "metadata": {
    "collapsed": false,
    "deletable": true,
    "editable": true
   },
   "outputs": [
    {
     "name": "stdout",
     "output_type": "stream",
     "text": [
      "1.12.1\n",
      "0.19.2\n"
     ]
    }
   ],
   "source": [
    "print(np.__version__);\n",
    "print(pd.__version__);"
   ]
  },
  {
   "cell_type": "code",
   "execution_count": 4,
   "metadata": {
    "collapsed": false,
    "deletable": true,
    "editable": true
   },
   "outputs": [
    {
     "data": {
      "text/plain": [
       "'3.2.0'"
      ]
     },
     "execution_count": 4,
     "metadata": {},
     "output_type": "execute_result"
    }
   ],
   "source": [
    "import  cv2 as cv\n",
    "cv.__version__"
   ]
  },
  {
   "cell_type": "code",
   "execution_count": 5,
   "metadata": {
    "collapsed": false,
    "deletable": true,
    "editable": true
   },
   "outputs": [],
   "source": [
    "sys.path.append('../Python')\n",
    "from helper import formFH, paths_input"
   ]
  },
  {
   "cell_type": "code",
   "execution_count": 6,
   "metadata": {
    "collapsed": false,
    "deletable": true,
    "editable": true
   },
   "outputs": [
    {
     "name": "stderr",
     "output_type": "stream",
     "text": [
      "Using TensorFlow backend.\n"
     ]
    }
   ],
   "source": [
    "#from keras.preprocessing.image import ImageDataGenerator, array_to_img, img_to_array, load_img\n",
    "from keras.models import Sequential,save_model,load_model\n",
    "from keras.layers import Convolution2D, MaxPooling2D, Convolution1D, MaxPooling1D\n",
    "from keras.layers import Activation, Dropout, Flatten, Dense\n",
    "from keras.layers.normalization import BatchNormalization\n",
    "import keras.optimizers\n",
    "from keras.callbacks import EarlyStopping,ReduceLROnPlateau,ModelCheckpoint\n",
    "import keras.backend as K"
   ]
  },
  {
   "cell_type": "code",
   "execution_count": 7,
   "metadata": {
    "collapsed": false,
    "deletable": true,
    "editable": true
   },
   "outputs": [
    {
     "data": {
      "text/plain": [
       "'2.0.4'"
      ]
     },
     "execution_count": 7,
     "metadata": {},
     "output_type": "execute_result"
    }
   ],
   "source": [
    "keras.__version__"
   ]
  },
  {
   "cell_type": "code",
   "execution_count": 8,
   "metadata": {
    "collapsed": false,
    "deletable": true,
    "editable": true
   },
   "outputs": [
    {
     "data": {
      "text/plain": [
       "('../Data/train-tif-v2',\n",
       " '../Data/test-tif-v2',\n",
       " '../Data/test-jpg-v2',\n",
       " '../Work/Train',\n",
       " '../Work/Test')"
      ]
     },
     "execution_count": 8,
     "metadata": {},
     "output_type": "execute_result"
    }
   ],
   "source": [
    "trLabels,trDirTIF,trDirJPG,teDirTIF,teDirJPG = paths_input()\n",
    "trDirI = trDirTIF\n",
    "teDirI = teDirTIF\n",
    "trWork, teWork = '../Work/Train', '../Work/Test'\n",
    "trDirI,teDirI, teDirJPG, trWork, teWork"
   ]
  },
  {
   "cell_type": "code",
   "execution_count": null,
   "metadata": {
    "collapsed": true,
    "deletable": true,
    "editable": true
   },
   "outputs": [],
   "source": []
  },
  {
   "cell_type": "code",
   "execution_count": 9,
   "metadata": {
    "collapsed": false,
    "deletable": true,
    "editable": true
   },
   "outputs": [
    {
     "data": {
      "text/html": [
       "<div>\n",
       "<table border=\"1\" class=\"dataframe\">\n",
       "  <thead>\n",
       "    <tr style=\"text-align: right;\">\n",
       "      <th></th>\n",
       "      <th>image_name</th>\n",
       "      <th>tags</th>\n",
       "    </tr>\n",
       "  </thead>\n",
       "  <tbody>\n",
       "    <tr>\n",
       "      <th>0</th>\n",
       "      <td>train_0</td>\n",
       "      <td>haze primary</td>\n",
       "    </tr>\n",
       "    <tr>\n",
       "      <th>1</th>\n",
       "      <td>train_1</td>\n",
       "      <td>agriculture clear primary water</td>\n",
       "    </tr>\n",
       "    <tr>\n",
       "      <th>2</th>\n",
       "      <td>train_2</td>\n",
       "      <td>clear primary</td>\n",
       "    </tr>\n",
       "    <tr>\n",
       "      <th>3</th>\n",
       "      <td>train_3</td>\n",
       "      <td>clear primary</td>\n",
       "    </tr>\n",
       "    <tr>\n",
       "      <th>4</th>\n",
       "      <td>train_4</td>\n",
       "      <td>agriculture clear habitation primary road</td>\n",
       "    </tr>\n",
       "  </tbody>\n",
       "</table>\n",
       "</div>"
      ],
      "text/plain": [
       "  image_name                                       tags\n",
       "0    train_0                               haze primary\n",
       "1    train_1            agriculture clear primary water\n",
       "2    train_2                              clear primary\n",
       "3    train_3                              clear primary\n",
       "4    train_4  agriculture clear habitation primary road"
      ]
     },
     "execution_count": 9,
     "metadata": {},
     "output_type": "execute_result"
    }
   ],
   "source": [
    "labels_df = pd.read_csv(trLabels)\n",
    "labels_df.head()"
   ]
  },
  {
   "cell_type": "code",
   "execution_count": 10,
   "metadata": {
    "collapsed": true,
    "deletable": true,
    "editable": true
   },
   "outputs": [],
   "source": [
    "# Build list with unique labels\n",
    "label_list = []\n",
    "for tag_str in labels_df.tags.values:\n",
    "    labels = tag_str.split(' ')\n",
    "    for label in labels:\n",
    "        if label not in label_list:\n",
    "            label_list.append(label)"
   ]
  },
  {
   "cell_type": "code",
   "execution_count": 11,
   "metadata": {
    "collapsed": false,
    "deletable": true,
    "editable": true
   },
   "outputs": [],
   "source": [
    "# Add onehot features for every label\n",
    "for label in label_list:\n",
    "    labels_df[label] = labels_df['tags'].apply(lambda x: 1 if label in x.split(' ') else 0)\n",
    "    #labels_df[label].astype(np.int8)\n",
    "# Display head\n",
    "#labels_df.head()\n"
   ]
  },
  {
   "cell_type": "code",
   "execution_count": 12,
   "metadata": {
    "collapsed": false,
    "deletable": true,
    "editable": true
   },
   "outputs": [],
   "source": [
    "weather_labels = ['clear', 'partly_cloudy', 'haze', 'cloudy']\n",
    "land_labels = ['primary', 'agriculture', 'water', 'cultivation', 'habitation' ]\n",
    "rare_labels = [l for l in label_list if labels_df[label_list].sum()[l] < 2000]\n",
    "#rare_labels              "
   ]
  },
  {
   "cell_type": "code",
   "execution_count": null,
   "metadata": {
    "collapsed": false,
    "deletable": true,
    "editable": true
   },
   "outputs": [],
   "source": []
  },
  {
   "cell_type": "code",
   "execution_count": 13,
   "metadata": {
    "collapsed": false,
    "deletable": true,
    "editable": true
   },
   "outputs": [
    {
     "data": {
      "text/plain": [
       "array([[1, 1, 0, 0, 0, 0, 0, 0, 0, 0, 0, 0, 0, 0, 0, 0, 0],\n",
       "       [0, 1, 1, 1, 1, 0, 0, 0, 0, 0, 0, 0, 0, 0, 0, 0, 0],\n",
       "       [0, 1, 0, 1, 0, 0, 0, 0, 0, 0, 0, 0, 0, 0, 0, 0, 0],\n",
       "       [0, 1, 0, 1, 0, 0, 0, 0, 0, 0, 0, 0, 0, 0, 0, 0, 0],\n",
       "       [0, 1, 1, 1, 0, 1, 1, 0, 0, 0, 0, 0, 0, 0, 0, 0, 0],\n",
       "       [1, 1, 0, 0, 1, 0, 0, 0, 0, 0, 0, 0, 0, 0, 0, 0, 0]])"
      ]
     },
     "execution_count": 13,
     "metadata": {},
     "output_type": "execute_result"
    }
   ],
   "source": [
    "labels = label_list; #weather_labels;\n",
    "nameList =labels_df[labels_df[labels].sum(axis=1)>0].image_name.tolist(); len(nameList)\n",
    "labelList=labels_df[labels_df[labels].sum(axis=1)>0][labels].as_matrix();\n",
    "labelList[:6,:]\n",
    "#labels_df.head()"
   ]
  },
  {
   "cell_type": "code",
   "execution_count": null,
   "metadata": {
    "collapsed": true,
    "deletable": true,
    "editable": true
   },
   "outputs": [],
   "source": []
  },
  {
   "cell_type": "code",
   "execution_count": 14,
   "metadata": {
    "collapsed": false,
    "deletable": true,
    "editable": true
   },
   "outputs": [],
   "source": [
    "#del(trOX); del(trOY);"
   ]
  },
  {
   "cell_type": "code",
   "execution_count": 15,
   "metadata": {
    "collapsed": false,
    "deletable": true,
    "editable": true
   },
   "outputs": [],
   "source": [
    "##np.save('../Data-Keras/Datas/train-model-2D-128x128x3-XX-not-cloudy.npy',trX)\n",
    "##np.save('../Data-Keras/Datas/train-model-2D-128x128x3-YY-not-cloudy.npy',trY)"
   ]
  },
  {
   "cell_type": "code",
   "execution_count": 16,
   "metadata": {
    "collapsed": false,
    "deletable": true,
    "editable": true
   },
   "outputs": [
    {
     "name": "stdout",
     "output_type": "stream",
     "text": [
      "(40479, 64, 64, 6) (40479, 17)\n"
     ]
    }
   ],
   "source": [
    "if False :\n",
    "    ###trXX = np.load('../Data-Keras/Datas/train-model-2D-64x64x6-XX.npy')\n",
    "    ###trYY = np.load('../Data-Keras/Datas/train-model-2D-64x64x6-YY.npy')\n",
    "    ######trXX  = np.load('../Data-Keras/Datas/train-model-2D-64x64x3-XX.npy')\n",
    "    ######trYY  = np.load('../Data-Keras/Datas/train-model-2D-64x64x3-YY.npy')\n",
    "    trXX  = np.load('../Data-Keras/Datas/train-model-2D-128x128x3-XX.npy')\n",
    "    trYY  = np.load('../Data-Keras/Datas/train-model-2D-128x128x3-YY.npy')\n",
    "    ######trXX  = np.load('../Data-Keras/Datas/train-model-2D-224x224x3-XX.npy')\n",
    "    ######trYY  = np.load('../Data-Keras/Datas/train-model-2D-224x224x3-YY.npy')\n",
    "\n",
    "    trX, trY = trXX[trYY[:,9]==0], trYY[trYY[:,9]==0] # not cloudy == 9 feature\n",
    "    trY=trY[:,range(0,9)+range(10,17)] # --cloudy <> 9\n",
    "    del trXX,trYY\n",
    "    #print(trXX.shape,trYY.shape)\n",
    "    print(trX.shape,trY.shape)\n",
    "if False :\n",
    "    trX  = np.load('../Data-Keras/Datas/train-model-2D-224x224x3-XX-short.npy')\n",
    "    trY  = np.load('../Data-Keras/Datas/train-model-2D-224x224x3-YY-short.npy')\n",
    "    print(trX.shape,trY.shape)\n",
    "if False :\n",
    "    trX  = np.load('../Data-Keras/Datas/train-model-2D-128x128x3-XX-not-cloudy.npy')\n",
    "    trY  = np.load('../Data-Keras/Datas/train-model-2D-128x128x3-YY-not-cloudy.npy')\n",
    "    print(trX.shape,trY.shape)\n",
    "    \n",
    "if True :\n",
    "    trX  = np.load('../Data-Keras/Datas/train-model-2D-64x64x6-XX-tif.npy')\n",
    "    trY  = np.load('../Data-Keras/Datas/train-model-2D-64x64x6-YY-tif.npy')\n",
    "    print(trX.shape,trY.shape)"
   ]
  },
  {
   "cell_type": "code",
   "execution_count": 17,
   "metadata": {
    "collapsed": false,
    "deletable": true,
    "editable": true
   },
   "outputs": [
    {
     "name": "stdout",
     "output_type": "stream",
     "text": [
      "(40479, 64, 64, 6) (40479, 17)\n"
     ]
    }
   ],
   "source": [
    "print(trX.shape,trY.shape)\n",
    "###del trX, trY"
   ]
  },
  {
   "cell_type": "code",
   "execution_count": null,
   "metadata": {
    "collapsed": false,
    "deletable": true,
    "editable": true
   },
   "outputs": [],
   "source": []
  },
  {
   "cell_type": "code",
   "execution_count": null,
   "metadata": {
    "collapsed": false,
    "deletable": true,
    "editable": true
   },
   "outputs": [],
   "source": []
  },
  {
   "cell_type": "code",
   "execution_count": 18,
   "metadata": {
    "collapsed": false,
    "deletable": true,
    "editable": true
   },
   "outputs": [],
   "source": [
    "def fbeta_pred(y_true, y_pred, beta=2.0, OK1=0.2, eps=0.000001, printOK=False):\n",
    "    beta2 = beta*beta\n",
    "    yy_true = K.round(y_true)\n",
    "    #yy_pred = K.round(y_pred+(0.5-OK1))\n",
    "    yy_pred = K.round(y_pred)\n",
    "    tp, tp_fp, fn = K.sum((yy_pred*yy_true)), K.sum(yy_true), K.sum((K.abs(yy_pred*(yy_true-1.0))))\n",
    "    precision, recall = tp/(tp_fp+eps), tp/(tp+fn+eps) \n",
    "    fbeta = (1+beta2)*(precision*recall)/(beta2*precision+recall+eps)\n",
    "    ##if fbeta>1.0 : fbeta = 1.0;\n",
    "    if printOK :\n",
    "        print('ten true ',K.get_value(yy_true))\n",
    "        #print('ten pred ',y_pred)\n",
    "        print('ten roun ',K.get_value(yy_pred))\n",
    "        print(' pre=',K.get_value(precision),' recall=',K.get_value(recall),' tp=',\n",
    "              K.get_value(tp),' fn=',K.get_value(fn),' tp+fp=',K.get_value(tp_fp))\n",
    "    return(fbeta)"
   ]
  },
  {
   "cell_type": "code",
   "execution_count": 19,
   "metadata": {
    "collapsed": false,
    "deletable": true,
    "editable": true
   },
   "outputs": [],
   "source": [
    "#\n",
    "# model Krizevsky 2012\n",
    "#\n",
    "#    input(224x224)\n",
    "#    c2d(96,(11,11),strides=(4,4))\n",
    "#    c2d(256,(5,5))\n",
    "#    c2d(384,(3,3))\n",
    "#    c2d(384,(3,3))\n",
    "#    c2d(256,(3,3))\n",
    "#    maxp(2,2)\n",
    "#    flaten()\n",
    "#    dense(4096)\n",
    "#    dense(4096)\n",
    "#    dense(output(1000))\n",
    "#\n",
    "#\n",
    "def Kriz2012 ( model, iSize, rSize ) :\n",
    "    i1,i2,i3 = iSize\n",
    "    model.add(BatchNormalization(input_shape=(i1,i2,i3)))\n",
    "    \n",
    "    model.add(Convolution2D(96,(11,11),strides=(4,4),activation='relu'))\n",
    "    model.add(Convolution2D(256,(5,5),activation='relu'))\n",
    "    model.add(Convolution2D(384,(3,3),activation='relu'))\n",
    "    model.add(Convolution2D(384,(3,3),activation='relu'))\n",
    "    model.add(Convolution2D(256,(3,3),activation='relu'))\n",
    "    model.add(MaxPooling2D(pool_size=(2,2)))\n",
    "    model.add(Flatten())\n",
    "    model.add(Dense(4096,activation='relu'))\n",
    "    model.add(Dropout(0.25))\n",
    "    model.add(Dense(4096,activation='relu'))\n",
    "    model.add(Dropout(0.25))\n",
    "    \n",
    "    model.add(Dense(rSize,activation='sigmoid'))\n",
    "\n",
    "    return(model)\n",
    "\n",
    "#\n",
    "# model Krizevsky 2012\n",
    "#\n",
    "#    input(224x224)\n",
    "#    c2d(96,(11,11),strides=(4,4))\n",
    "#    c2d(256,(5,5))\n",
    "#    c2d(384,(3,3))\n",
    "#    c2d(384,(3,3))\n",
    "#    c2d(256,(3,3))\n",
    "#    maxp(2,2)\n",
    "#    flaten()\n",
    "#    dense(4096)\n",
    "#    dense(4096)\n",
    "#    dense(output(1000))\n",
    "#\n",
    "#\n",
    "def Kriz2012X ( model, iSize, rSize ) :\n",
    "    i1,i2,i3 = iSize\n",
    "    model.add(BatchNormalization(input_shape=(i1,i2,i3)))\n",
    "    \n",
    "    model.add(Convolution2D(96,(11,11),strides=(4,4),activation='relu'))\n",
    "    model.add(Convolution2D(256,(5,5),activation='relu'))\n",
    "    model.add(Convolution2D(384,(3,3),activation='relu'))\n",
    "    model.add(Convolution2D(384,(3,3),activation='relu'))\n",
    "    #model.add(Convolution2D(256,(3,3),activation='relu'))\n",
    "    model.add(Convolution2D(128,(3,3),activation='relu'))\n",
    "    model.add(MaxPooling2D(pool_size=(2,2)))\n",
    "    model.add(Flatten())\n",
    "    #model.add(Dense(4096,activation='relu'))\n",
    "    model.add(Dense(1024,activation='relu'))\n",
    "    model.add(Dropout(0.25))\n",
    "    #model.add(Dense(4096,activation='relu'))\n",
    "    #model.add(Dropout(0.25))\n",
    "    \n",
    "    model.add(Dense(rSize,activation='sigmoid'))\n",
    "\n",
    "    return(model)"
   ]
  },
  {
   "cell_type": "code",
   "execution_count": null,
   "metadata": {
    "collapsed": true,
    "deletable": true,
    "editable": true
   },
   "outputs": [],
   "source": []
  },
  {
   "cell_type": "code",
   "execution_count": 20,
   "metadata": {
    "collapsed": false,
    "deletable": true,
    "editable": true
   },
   "outputs": [],
   "source": [
    "#\n",
    "# model Krizevsky 2012\n",
    "#\n",
    "#    input(224x224)\n",
    "#    c2d(96,(11,11),strides=(4,4))\n",
    "#    c2d(256,(5,5))\n",
    "#    c2d(384,(3,3))\n",
    "#    c2d(384,(3,3))\n",
    "#    c2d(256,(3,3))\n",
    "#    maxp(2,2)\n",
    "#    flaten()\n",
    "#    dense(4096)\n",
    "#    dense(4096)\n",
    "#    dense(output(1000))\n",
    "#\n",
    "# cut version\n",
    "#\n",
    "#\n",
    "def Kriz2012x3x3 ( model, iSize, rSize, cv2d, dense, pp ) :\n",
    "    i1,i2,i3 = iSize\n",
    "    model.add(BatchNormalization(axis=3,input_shape=(i1,i2,i3)))\n",
    "    \n",
    "    if not (cv2d is None) :\n",
    "        for cv in cv2d :\n",
    "            if (cv>0) :\n",
    "                model.add(Convolution2D(cv,(2,2)))\n",
    "                #model.add(BatchNormalization(axis=3))\n",
    "                model.add(Activation('relu'))\n",
    "                model.add(MaxPooling2D(pool_size=(2,2)))\n",
    "                model.add(Dropout(0.25))\n",
    "\n",
    "    model.add(Flatten())\n",
    "    \n",
    "    if not (dense is None) :\n",
    "        for de in dense :\n",
    "            if (de>0) :\n",
    "                model.add(Dense(pp[5],activation='relu'))\n",
    "                model.add(Dropout(0.5))\n",
    "    \n",
    "    model.add(Dense(rSize,activation='sigmoid'))\n",
    "\n",
    "    return(model)"
   ]
  },
  {
   "cell_type": "code",
   "execution_count": 21,
   "metadata": {
    "collapsed": false,
    "deletable": true,
    "editable": true
   },
   "outputs": [],
   "source": [
    "def buildModel (iSize,rSize,params=None,cv2d=None,dense=None) :\n",
    "    model = Sequential()\n",
    "    if (cv2d is None) and (dense is None) and not (params is None) : cv2d, dense = params[:-2], params[-2:]\n",
    "    model = Kriz2012x3x3(model,iSize,rSize,cv2d=cv2d,dense=dense,pp=params)\n",
    "    sgd = keras.optimizers.SGD(lr=0.01, decay=1e-6, momentum=0.99, nesterov=True)\n",
    "    model.compile(loss='mean_absolute_error',  #'binary_crossentropy',\n",
    "                  optimizer=\"adam\", #sgd, #\"adam\", #'rmsprop',\n",
    "                  metrics=[fbeta_pred,'acc']) #['binary_accuracy']) #[fbeta_pred]) #['accuracy',fbeta_pred]) #['accuracy'])\n",
    "    #sgd = keras.optimizers.SGD(lr=0.01, decay=1e-6, momentum=0.9, nesterov=True)\n",
    "    #model.compile(loss='categorical_crossentropy',\n",
    "    #              optimizer='adam', #'adam', #sgd, #\"adam\", #'rmsprop',\n",
    "    #              metrics=['accuracy']) #[fbeta_pred]) #['accuracy',fbeta_pred]) #['accuracy'])\n",
    "    return(model)\n",
    "\n",
    "def buildModelKriz (iSize,rSize) :\n",
    "    model = Sequential()\n",
    "    model = Kriz2012(model,iSize,rSize)\n",
    "    \n",
    "    #sgd = keras.optimizers.SGD(lr=0.01, decay=1e-6, momentum=0.99, nesterov=True)\n",
    "    sgd = keras.optimizers.SGD(nesterov=True)\n",
    "    \n",
    "    #model.compile(loss='binary_crossentropy', # 'mean_absolute_error'\n",
    "    #              optimizer=\"sgd\", #sgd, #\"adam\", #'rmsprop',\n",
    "    #              metrics=[fbeta_pred,'acc']) #['binary_accuracy']) #[fbeta_pred]) #['accuracy',fbeta_pred]) #['accuracy'])\n",
    "    \n",
    "    model.compile(loss='binary_crossentropy', # 'mean_absolute_error'\n",
    "                  optimizer=\"sgd\", #sgd, #\"adam\", #'rmsprop',\n",
    "                  metrics=['acc']) #['binary_accuracy']) #[fbeta_pred]) #['accuracy',fbeta_pred]) #['accuracy'])\n",
    "    \n",
    "    #sgd = keras.optimizers.SGD(lr=0.01, decay=1e-6, momentum=0.9, nesterov=True)\n",
    "    #model.compile(loss='categorical_crossentropy',\n",
    "    #              optimizer='adam', #'adam', #sgd, #\"adam\", #'rmsprop',\n",
    "    #              metrics=['accuracy']) #[fbeta_pred]) #['accuracy',fbeta_pred]) #['accuracy'])\n",
    "    return(model)"
   ]
  },
  {
   "cell_type": "code",
   "execution_count": null,
   "metadata": {
    "collapsed": true,
    "deletable": true,
    "editable": true
   },
   "outputs": [],
   "source": []
  },
  {
   "cell_type": "code",
   "execution_count": 22,
   "metadata": {
    "collapsed": true,
    "deletable": true,
    "editable": true
   },
   "outputs": [],
   "source": [
    "def gpu_memory():\n",
    "    out = os.popen(\"nvidia-smi\").read()\n",
    "    ret = '0MiB'\n",
    "    for item in out.split(\"\\n\"):\n",
    "        if str(os.getpid()) in item and 'python' in item:\n",
    "            ret = item.strip().split(' ')[-2]\n",
    "    return float(ret[:-3])\n",
    "\n",
    "gpu_mem = []\n",
    "gpu_mem.append(gpu_memory())"
   ]
  },
  {
   "cell_type": "code",
   "execution_count": null,
   "metadata": {
    "collapsed": false,
    "deletable": true,
    "editable": true
   },
   "outputs": [],
   "source": []
  },
  {
   "cell_type": "code",
   "execution_count": 23,
   "metadata": {
    "collapsed": true,
    "deletable": true,
    "editable": true
   },
   "outputs": [],
   "source": [
    "modelFiles = ['../Data-Keras/Models/AlexTIFLoop/model-Alex-fs=0-64x64x6-tif.h5',\n",
    "              '../Data-Keras/Models/AlexTIFLoop/model-Alex-fs=1-64x64x6-tif.h5',\n",
    "              '../Data-Keras/Models/AlexTIFLoop/model-Alex-fs=2-64x64x6-tif.h5',\n",
    "              '../Data-Keras/Models/AlexTIFLoop/model-Alex-fs=3-64x64x6-tif.h5',\n",
    "              '../Data-Keras/Models/AlexTIFLoop/model-Alex-fs=4-64x64x6-tif.h5',\n",
    "              '../Data-Keras/Models/AlexTIFLoop/model-Alex-fs=5-64x64x6-tif.h5',\n",
    "              '../Data-Keras/Models/AlexTIFLoop/model-Alex-fs=6-64x64x6-tif.h5',\n",
    "              '../Data-Keras/Models/AlexTIFLoop/model-Alex-fs=7-64x64x6-tif.h5',\n",
    "              '../Data-Keras/Models/AlexTIFLoop/model-Alex-fs=8-64x64x6-tif.h5',\n",
    "              '../Data-Keras/Models/AlexTIFLoop/model-Alex-fs=9-64x64x6-tif.h5',\n",
    "              '../Data-Keras/Models/AlexTIFLoop/model-Alex-fs=10-64x64x6-tif.h5',\n",
    "              '../Data-Keras/Models/AlexTIFLoop/model-Alex-fs=11-64x64x6-tif.h5',\n",
    "              '../Data-Keras/Models/AlexTIFLoop/model-Alex-fs=12-64x64x6-tif.h5',\n",
    "              '../Data-Keras/Models/AlexTIFLoop/model-Alex-fs=13-64x64x6-tif.h5',\n",
    "              '../Data-Keras/Models/AlexTIFLoop/model-Alex-fs=14-64x64x6-tif.h5',\n",
    "              '../Data-Keras/Models/AlexTIFLoop/model-Alex-fs=15-64x64x6-tif.h5',\n",
    "              '../Data-Keras/Models/AlexTIFLoop/model-Alex-fs=16-64x64x6-tif.h5',\n",
    "             ]"
   ]
  },
  {
   "cell_type": "code",
   "execution_count": 77,
   "metadata": {
    "collapsed": true,
    "deletable": true,
    "editable": true
   },
   "outputs": [],
   "source": [
    "#\n",
    "# Общие параметры\n",
    "#\n",
    "epochs     = 100\n",
    "verbose    = 2\n",
    "batch_size = 64\n",
    "stopping   = 10\n",
    "\n",
    "prefixTemp = 'tif-64x64x6'     \n",
    "metric = 'acc'\n",
    "\n",
    "\n",
    "early_stopping = EarlyStopping(monitor='val_loss', patience=stopping,min_delta=0.0001)\n",
    "reduce_lr = ReduceLROnPlateau(monitor='val_loss', factor=0.2,patience=5, min_lr=0.00001)"
   ]
  },
  {
   "cell_type": "code",
   "execution_count": 78,
   "metadata": {
    "collapsed": false,
    "deletable": true,
    "editable": true
   },
   "outputs": [
    {
     "name": "stdout",
     "output_type": "stream",
     "text": [
      "2017-07-07 05:46:22.682227\n",
      "[7] 5681.0 ../Data-Keras/Models/AlexTIFLoop/model-Alex-fs=7-64x64x6-tif.h5\n",
      "2017-07-07 05:46:22.740869   re-train model\n",
      "Train on 30359 samples, validate on 10120 samples\n",
      "Epoch 1/100\n",
      "Epoch 00000: acc improved from -inf to 0.91742, saving model to ../Temp/Temp/tif-64x64x6-fs-7-ep=00-acc=0.9174-val_acc=0.8916.hdf5\n",
      "44s - loss: 0.2030 - acc: 0.9174 - val_loss: 0.3589 - val_acc: 0.8916\n",
      "Epoch 2/100\n",
      "Epoch 00001: acc improved from 0.91742 to 0.92243, saving model to ../Temp/Temp/tif-64x64x6-fs-7-ep=01-acc=0.9224-val_acc=0.8518.hdf5\n",
      "43s - loss: 0.1913 - acc: 0.9224 - val_loss: 0.3430 - val_acc: 0.8518\n",
      "Epoch 3/100\n",
      "Epoch 00002: acc improved from 0.92243 to 0.92869, saving model to ../Temp/Temp/tif-64x64x6-fs-7-ep=02-acc=0.9287-val_acc=0.8886.hdf5\n",
      "43s - loss: 0.1762 - acc: 0.9287 - val_loss: 0.3478 - val_acc: 0.8886\n",
      "Epoch 4/100\n",
      "Epoch 00003: acc improved from 0.92869 to 0.93844, saving model to ../Temp/Temp/tif-64x64x6-fs-7-ep=03-acc=0.9384-val_acc=0.8765.hdf5\n",
      "44s - loss: 0.1543 - acc: 0.9384 - val_loss: 0.3653 - val_acc: 0.8765\n",
      "Epoch 5/100\n",
      "Epoch 00004: acc improved from 0.93844 to 0.94463, saving model to ../Temp/Temp/tif-64x64x6-fs-7-ep=04-acc=0.9446-val_acc=0.8819.hdf5\n",
      "43s - loss: 0.1387 - acc: 0.9446 - val_loss: 0.4517 - val_acc: 0.8819\n",
      "Epoch 6/100\n",
      "Epoch 00005: acc improved from 0.94463 to 0.95204, saving model to ../Temp/Temp/tif-64x64x6-fs-7-ep=05-acc=0.9520-val_acc=0.8827.hdf5\n",
      "43s - loss: 0.1253 - acc: 0.9520 - val_loss: 0.4240 - val_acc: 0.8827\n",
      "Epoch 7/100\n",
      "Epoch 00006: acc improved from 0.95204 to 0.96456, saving model to ../Temp/Temp/tif-64x64x6-fs-7-ep=06-acc=0.9646-val_acc=0.8689.hdf5\n",
      "44s - loss: 0.0975 - acc: 0.9646 - val_loss: 0.4395 - val_acc: 0.8689\n",
      "Epoch 8/100\n",
      "Epoch 00007: acc improved from 0.96456 to 0.96993, saving model to ../Temp/Temp/tif-64x64x6-fs-7-ep=07-acc=0.9699-val_acc=0.8685.hdf5\n",
      "43s - loss: 0.0837 - acc: 0.9699 - val_loss: 0.4903 - val_acc: 0.8685\n",
      "Epoch 9/100\n",
      "Epoch 00008: acc improved from 0.96993 to 0.97497, saving model to ../Temp/Temp/tif-64x64x6-fs-7-ep=08-acc=0.9750-val_acc=0.8821.hdf5\n",
      "44s - loss: 0.0698 - acc: 0.9750 - val_loss: 0.5763 - val_acc: 0.8821\n",
      "Epoch 10/100\n",
      "Epoch 00009: acc improved from 0.97497 to 0.98017, saving model to ../Temp/Temp/tif-64x64x6-fs-7-ep=09-acc=0.9802-val_acc=0.8835.hdf5\n",
      "44s - loss: 0.0606 - acc: 0.9802 - val_loss: 0.6257 - val_acc: 0.8835\n",
      "Epoch 11/100\n",
      "Epoch 00010: acc improved from 0.98017 to 0.98600, saving model to ../Temp/Temp/tif-64x64x6-fs-7-ep=10-acc=0.9860-val_acc=0.8564.hdf5\n",
      "43s - loss: 0.0418 - acc: 0.9860 - val_loss: 0.5949 - val_acc: 0.8564\n",
      "Epoch 12/100\n",
      "Epoch 00011: acc improved from 0.98600 to 0.98781, saving model to ../Temp/Temp/tif-64x64x6-fs-7-ep=11-acc=0.9878-val_acc=0.8613.hdf5\n",
      "43s - loss: 0.0391 - acc: 0.9878 - val_loss: 0.5887 - val_acc: 0.8613\n",
      "Epoch 13/100\n",
      "Epoch 00012: acc improved from 0.98781 to 0.99051, saving model to ../Temp/Temp/tif-64x64x6-fs-7-ep=12-acc=0.9905-val_acc=0.8755.hdf5\n",
      "44s - loss: 0.0313 - acc: 0.9905 - val_loss: 0.6425 - val_acc: 0.8755\n",
      "2017-07-07 05:55:56.767868 7\n",
      "[0] 5681.0 ../Data-Keras/Models/AlexTIFLoop/model-Alex-fs=0-64x64x6-tif.h5\n",
      "2017-07-07 05:55:56.834084   re-train model\n",
      "Train on 30359 samples, validate on 10120 samples\n",
      "Epoch 1/100\n",
      "Epoch 00000: acc improved from -inf to 0.95889, saving model to ../Temp/Temp/tif-64x64x6-fs-0-ep=00-acc=0.9589-val_acc=0.9504.hdf5\n",
      "44s - loss: 0.1059 - acc: 0.9589 - val_loss: 0.1310 - val_acc: 0.9504\n",
      "Epoch 2/100\n",
      "Epoch 00001: acc did not improve\n",
      "43s - loss: 0.1060 - acc: 0.9571 - val_loss: 0.1450 - val_acc: 0.9482\n",
      "Epoch 3/100\n",
      "Epoch 00002: acc improved from 0.95889 to 0.95892, saving model to ../Temp/Temp/tif-64x64x6-fs-0-ep=02-acc=0.9589-val_acc=0.7926.hdf5\n",
      "44s - loss: 0.1013 - acc: 0.9589 - val_loss: 0.4333 - val_acc: 0.7926\n",
      "Epoch 4/100\n",
      "Epoch 00003: acc improved from 0.95892 to 0.95929, saving model to ../Temp/Temp/tif-64x64x6-fs-0-ep=03-acc=0.9593-val_acc=0.9467.hdf5\n",
      "44s - loss: 0.0994 - acc: 0.9593 - val_loss: 0.1468 - val_acc: 0.9467\n",
      "Epoch 5/100\n",
      "Epoch 00004: acc improved from 0.95929 to 0.96093, saving model to ../Temp/Temp/tif-64x64x6-fs-0-ep=04-acc=0.9609-val_acc=0.9357.hdf5\n",
      "44s - loss: 0.0958 - acc: 0.9609 - val_loss: 0.1585 - val_acc: 0.9357\n",
      "Epoch 6/100\n",
      "Epoch 00005: acc improved from 0.96093 to 0.96396, saving model to ../Temp/Temp/tif-64x64x6-fs-0-ep=05-acc=0.9640-val_acc=0.9401.hdf5\n",
      "44s - loss: 0.0912 - acc: 0.9640 - val_loss: 0.1524 - val_acc: 0.9401\n",
      "Epoch 7/100\n",
      "Epoch 00006: acc did not improve\n",
      "43s - loss: 0.0894 - acc: 0.9635 - val_loss: 0.1470 - val_acc: 0.9405\n",
      "Epoch 8/100\n",
      "Epoch 00007: acc improved from 0.96396 to 0.96601, saving model to ../Temp/Temp/tif-64x64x6-fs-0-ep=07-acc=0.9660-val_acc=0.9426.hdf5\n",
      "44s - loss: 0.0846 - acc: 0.9660 - val_loss: 0.1723 - val_acc: 0.9426\n",
      "Epoch 9/100\n",
      "Epoch 00008: acc improved from 0.96601 to 0.96848, saving model to ../Temp/Temp/tif-64x64x6-fs-0-ep=08-acc=0.9685-val_acc=0.9442.hdf5\n",
      "44s - loss: 0.0798 - acc: 0.9685 - val_loss: 0.1906 - val_acc: 0.9442\n",
      "Epoch 10/100\n",
      "Epoch 00009: acc improved from 0.96848 to 0.97055, saving model to ../Temp/Temp/tif-64x64x6-fs-0-ep=09-acc=0.9706-val_acc=0.9390.hdf5\n",
      "44s - loss: 0.0759 - acc: 0.9706 - val_loss: 0.1635 - val_acc: 0.9390\n",
      "Epoch 11/100\n",
      "Epoch 00010: acc improved from 0.97055 to 0.97259, saving model to ../Temp/Temp/tif-64x64x6-fs-0-ep=10-acc=0.9726-val_acc=0.9488.hdf5\n",
      "44s - loss: 0.0699 - acc: 0.9726 - val_loss: 0.1770 - val_acc: 0.9488\n",
      "Epoch 12/100\n",
      "Epoch 00011: acc improved from 0.97259 to 0.97444, saving model to ../Temp/Temp/tif-64x64x6-fs-0-ep=11-acc=0.9744-val_acc=0.9425.hdf5\n",
      "44s - loss: 0.0650 - acc: 0.9744 - val_loss: 0.1905 - val_acc: 0.9425\n",
      "2017-07-07 06:04:47.501963 0\n",
      "[5] 5681.0 ../Data-Keras/Models/AlexTIFLoop/model-Alex-fs=5-64x64x6-tif.h5\n",
      "2017-07-07 06:04:47.570109   re-train model\n",
      "Train on 30359 samples, validate on 10120 samples\n",
      "Epoch 1/100\n",
      "Epoch 00000: acc improved from -inf to 0.95817, saving model to ../Temp/Temp/tif-64x64x6-fs-5-ep=00-acc=0.9582-val_acc=0.8676.hdf5\n",
      "44s - loss: 0.1085 - acc: 0.9582 - val_loss: 0.2957 - val_acc: 0.8676\n",
      "Epoch 2/100\n",
      "Epoch 00001: acc improved from 0.95817 to 0.96495, saving model to ../Temp/Temp/tif-64x64x6-fs-5-ep=01-acc=0.9650-val_acc=0.9175.hdf5\n",
      "44s - loss: 0.0922 - acc: 0.9650 - val_loss: 0.3393 - val_acc: 0.9175\n",
      "Epoch 3/100\n",
      "Epoch 00002: acc improved from 0.96495 to 0.97194, saving model to ../Temp/Temp/tif-64x64x6-fs-5-ep=02-acc=0.9719-val_acc=0.9162.hdf5\n",
      "44s - loss: 0.0772 - acc: 0.9719 - val_loss: 0.2597 - val_acc: 0.9162\n",
      "Epoch 4/100\n",
      "Epoch 00003: acc improved from 0.97194 to 0.97721, saving model to ../Temp/Temp/tif-64x64x6-fs-5-ep=03-acc=0.9772-val_acc=0.9096.hdf5\n",
      "44s - loss: 0.0654 - acc: 0.9772 - val_loss: 0.2798 - val_acc: 0.9096\n",
      "Epoch 5/100\n",
      "Epoch 00004: acc improved from 0.97721 to 0.98402, saving model to ../Temp/Temp/tif-64x64x6-fs-5-ep=04-acc=0.9840-val_acc=0.8684.hdf5\n",
      "44s - loss: 0.0481 - acc: 0.9840 - val_loss: 0.3719 - val_acc: 0.8684\n",
      "Epoch 6/100\n",
      "Epoch 00005: acc improved from 0.98402 to 0.98498, saving model to ../Temp/Temp/tif-64x64x6-fs-5-ep=05-acc=0.9850-val_acc=0.9123.hdf5\n",
      "44s - loss: 0.0442 - acc: 0.9850 - val_loss: 0.3321 - val_acc: 0.9123\n",
      "Epoch 7/100\n",
      "Epoch 00006: acc improved from 0.98498 to 0.98847, saving model to ../Temp/Temp/tif-64x64x6-fs-5-ep=06-acc=0.9885-val_acc=0.9125.hdf5\n",
      "44s - loss: 0.0351 - acc: 0.9885 - val_loss: 0.3865 - val_acc: 0.9125\n",
      "Epoch 8/100\n",
      "Epoch 00007: acc improved from 0.98847 to 0.98900, saving model to ../Temp/Temp/tif-64x64x6-fs-5-ep=07-acc=0.9890-val_acc=0.9129.hdf5\n",
      "44s - loss: 0.0333 - acc: 0.9890 - val_loss: 0.3486 - val_acc: 0.9129\n",
      "Epoch 9/100\n",
      "Epoch 00008: acc improved from 0.98900 to 0.99598, saving model to ../Temp/Temp/tif-64x64x6-fs-5-ep=08-acc=0.9960-val_acc=0.8897.hdf5\n",
      "43s - loss: 0.0156 - acc: 0.9960 - val_loss: 0.3965 - val_acc: 0.8897\n",
      "Epoch 10/100\n",
      "Epoch 00009: acc improved from 0.99598 to 0.99674, saving model to ../Temp/Temp/tif-64x64x6-fs-5-ep=09-acc=0.9967-val_acc=0.9056.hdf5\n",
      "43s - loss: 0.0136 - acc: 0.9967 - val_loss: 0.5154 - val_acc: 0.9056\n",
      "Epoch 11/100\n",
      "Epoch 00010: acc did not improve\n",
      "42s - loss: 0.0212 - acc: 0.9935 - val_loss: 0.3903 - val_acc: 0.9045\n",
      "Epoch 12/100\n",
      "Epoch 00011: acc improved from 0.99674 to 0.99792, saving model to ../Temp/Temp/tif-64x64x6-fs-5-ep=11-acc=0.9979-val_acc=0.9090.hdf5\n",
      "44s - loss: 0.0081 - acc: 0.9979 - val_loss: 0.4741 - val_acc: 0.9090\n",
      "Epoch 13/100\n",
      "Epoch 00012: acc did not improve\n",
      "42s - loss: 0.0096 - acc: 0.9974 - val_loss: 0.4439 - val_acc: 0.9071\n",
      "Epoch 14/100\n",
      "Epoch 00013: acc improved from 0.99792 to 0.99957, saving model to ../Temp/Temp/tif-64x64x6-fs-5-ep=13-acc=0.9996-val_acc=0.9134.hdf5\n",
      "43s - loss: 0.0034 - acc: 0.9996 - val_loss: 0.5317 - val_acc: 0.9134\n",
      "2017-07-07 06:15:06.262100 5\n",
      "[1] 5681.0 ../Data-Keras/Models/AlexTIFLoop/model-Alex-fs=1-64x64x6-tif.h5\n",
      "2017-07-07 06:15:06.327523   re-train model\n",
      "Train on 30359 samples, validate on 10120 samples\n",
      "Epoch 1/100\n",
      "Epoch 00000: acc improved from -inf to 0.96581, saving model to ../Temp/Temp/tif-64x64x6-fs-1-ep=00-acc=0.9658-val_acc=0.9556.hdf5\n",
      "44s - loss: 0.0828 - acc: 0.9658 - val_loss: 0.1088 - val_acc: 0.9556\n",
      "Epoch 2/100\n",
      "Epoch 00001: acc improved from 0.96581 to 0.96709, saving model to ../Temp/Temp/tif-64x64x6-fs-1-ep=01-acc=0.9671-val_acc=0.9524.hdf5\n",
      "44s - loss: 0.0802 - acc: 0.9671 - val_loss: 0.1149 - val_acc: 0.9524\n",
      "Epoch 3/100\n",
      "Epoch 00002: acc did not improve\n",
      "43s - loss: 0.0793 - acc: 0.9660 - val_loss: 0.1172 - val_acc: 0.9562\n",
      "Epoch 4/100\n",
      "Epoch 00003: acc improved from 0.96709 to 0.96828, saving model to ../Temp/Temp/tif-64x64x6-fs-1-ep=03-acc=0.9683-val_acc=0.9542.hdf5\n",
      "44s - loss: 0.0740 - acc: 0.9683 - val_loss: 0.1103 - val_acc: 0.9542\n",
      "Epoch 5/100\n",
      "Epoch 00004: acc improved from 0.96828 to 0.97012, saving model to ../Temp/Temp/tif-64x64x6-fs-1-ep=04-acc=0.9701-val_acc=0.9512.hdf5\n",
      "44s - loss: 0.0720 - acc: 0.9701 - val_loss: 0.1355 - val_acc: 0.9512\n",
      "Epoch 6/100\n",
      "Epoch 00005: acc improved from 0.97012 to 0.97230, saving model to ../Temp/Temp/tif-64x64x6-fs-1-ep=05-acc=0.9723-val_acc=0.9566.hdf5\n",
      "44s - loss: 0.0676 - acc: 0.9723 - val_loss: 0.1148 - val_acc: 0.9566\n",
      "Epoch 7/100\n",
      "Epoch 00006: acc improved from 0.97230 to 0.97339, saving model to ../Temp/Temp/tif-64x64x6-fs-1-ep=06-acc=0.9734-val_acc=0.9479.hdf5\n",
      "44s - loss: 0.0654 - acc: 0.9734 - val_loss: 0.1232 - val_acc: 0.9479\n",
      "Epoch 8/100\n",
      "Epoch 00007: acc improved from 0.97339 to 0.97507, saving model to ../Temp/Temp/tif-64x64x6-fs-1-ep=07-acc=0.9751-val_acc=0.9543.hdf5\n",
      "44s - loss: 0.0629 - acc: 0.9751 - val_loss: 0.1149 - val_acc: 0.9543\n",
      "Epoch 9/100\n",
      "Epoch 00008: acc improved from 0.97507 to 0.97615, saving model to ../Temp/Temp/tif-64x64x6-fs-1-ep=08-acc=0.9762-val_acc=0.9543.hdf5\n",
      "44s - loss: 0.0581 - acc: 0.9762 - val_loss: 0.1331 - val_acc: 0.9543\n",
      "Epoch 10/100\n",
      "Epoch 00009: acc improved from 0.97615 to 0.97727, saving model to ../Temp/Temp/tif-64x64x6-fs-1-ep=09-acc=0.9773-val_acc=0.9528.hdf5\n",
      "44s - loss: 0.0559 - acc: 0.9773 - val_loss: 0.1314 - val_acc: 0.9528\n",
      "Epoch 11/100\n",
      "Epoch 00010: acc improved from 0.97727 to 0.97948, saving model to ../Temp/Temp/tif-64x64x6-fs-1-ep=10-acc=0.9795-val_acc=0.9533.hdf5\n",
      "44s - loss: 0.0507 - acc: 0.9795 - val_loss: 0.1267 - val_acc: 0.9533\n",
      "Epoch 12/100\n",
      "Epoch 00011: acc improved from 0.97948 to 0.98053, saving model to ../Temp/Temp/tif-64x64x6-fs-1-ep=11-acc=0.9805-val_acc=0.9517.hdf5\n",
      "44s - loss: 0.0467 - acc: 0.9805 - val_loss: 0.1360 - val_acc: 0.9517\n",
      "2017-07-07 06:24:00.041614 1\n",
      "[2] 5681.0 ../Data-Keras/Models/AlexTIFLoop/model-Alex-fs=2-64x64x6-tif.h5\n",
      "2017-07-07 06:24:00.122067   re-train model\n",
      "Train on 30359 samples, validate on 10120 samples\n",
      "Epoch 1/100\n",
      "Epoch 00000: acc improved from -inf to 0.99088, saving model to ../Temp/Temp/tif-64x64x6-fs-2-ep=00-acc=0.9909-val_acc=0.9029.hdf5\n",
      "44s - loss: 0.0269 - acc: 0.9909 - val_loss: 0.4535 - val_acc: 0.9029\n",
      "Epoch 2/100\n",
      "Epoch 00001: acc improved from 0.99088 to 0.99279, saving model to ../Temp/Temp/tif-64x64x6-fs-2-ep=01-acc=0.9928-val_acc=0.8865.hdf5\n",
      "44s - loss: 0.0218 - acc: 0.9928 - val_loss: 0.4917 - val_acc: 0.8865\n",
      "Epoch 3/100\n",
      "Epoch 00002: acc did not improve\n",
      "42s - loss: 0.0228 - acc: 0.9922 - val_loss: 0.4799 - val_acc: 0.9065\n",
      "Epoch 4/100\n",
      "Epoch 00003: acc improved from 0.99279 to 0.99404, saving model to ../Temp/Temp/tif-64x64x6-fs-2-ep=03-acc=0.9940-val_acc=0.9028.hdf5\n",
      "44s - loss: 0.0186 - acc: 0.9940 - val_loss: 0.5000 - val_acc: 0.9028\n",
      "Epoch 5/100\n",
      "Epoch 00004: acc did not improve\n",
      "43s - loss: 0.0213 - acc: 0.9924 - val_loss: 0.9359 - val_acc: 0.8433\n",
      "Epoch 6/100\n",
      "Epoch 00005: acc did not improve\n",
      "42s - loss: 0.0212 - acc: 0.9928 - val_loss: 0.4874 - val_acc: 0.8948\n",
      "Epoch 7/100\n",
      "Epoch 00006: acc improved from 0.99404 to 0.99483, saving model to ../Temp/Temp/tif-64x64x6-fs-2-ep=06-acc=0.9948-val_acc=0.8865.hdf5\n",
      "43s - loss: 0.0159 - acc: 0.9948 - val_loss: 0.6487 - val_acc: 0.8865\n",
      "Epoch 8/100\n",
      "Epoch 00007: acc improved from 0.99483 to 0.99750, saving model to ../Temp/Temp/tif-64x64x6-fs-2-ep=07-acc=0.9975-val_acc=0.8988.hdf5\n",
      "44s - loss: 0.0090 - acc: 0.9975 - val_loss: 0.5385 - val_acc: 0.8988\n",
      "Epoch 9/100\n",
      "Epoch 00008: acc did not improve\n",
      "43s - loss: 0.0099 - acc: 0.9968 - val_loss: 0.5562 - val_acc: 0.8994\n",
      "Epoch 10/100\n",
      "Epoch 00009: acc did not improve\n",
      "42s - loss: 0.0181 - acc: 0.9938 - val_loss: 0.5225 - val_acc: 0.8986\n",
      "Epoch 11/100\n",
      "Epoch 00010: acc did not improve\n",
      "43s - loss: 0.0100 - acc: 0.9972 - val_loss: 0.5318 - val_acc: 0.9005\n",
      "Epoch 12/100\n",
      "Epoch 00011: acc improved from 0.99750 to 0.99812, saving model to ../Temp/Temp/tif-64x64x6-fs-2-ep=11-acc=0.9981-val_acc=0.8590.hdf5\n",
      "44s - loss: 0.0068 - acc: 0.9981 - val_loss: 0.8276 - val_acc: 0.8590\n",
      "2017-07-07 06:32:46.873597 2\n",
      "[4] 5681.0 ../Data-Keras/Models/AlexTIFLoop/model-Alex-fs=4-64x64x6-tif.h5\n",
      "2017-07-07 06:32:46.946037   re-train model\n",
      "Train on 30359 samples, validate on 10120 samples\n",
      "Epoch 1/100\n",
      "Epoch 00000: acc improved from -inf to 0.99246, saving model to ../Temp/Temp/tif-64x64x6-fs-4-ep=00-acc=0.9925-val_acc=0.9185.hdf5\n",
      "44s - loss: 0.0214 - acc: 0.9925 - val_loss: 0.4023 - val_acc: 0.9185\n",
      "Epoch 2/100\n",
      "Epoch 00001: acc did not improve\n",
      "43s - loss: 0.0222 - acc: 0.9916 - val_loss: 0.4422 - val_acc: 0.9153\n",
      "Epoch 3/100\n",
      "Epoch 00002: acc did not improve\n",
      "43s - loss: 0.0244 - acc: 0.9913 - val_loss: 0.4166 - val_acc: 0.9198\n",
      "Epoch 4/100\n",
      "Epoch 00003: acc improved from 0.99246 to 0.99331, saving model to ../Temp/Temp/tif-64x64x6-fs-4-ep=03-acc=0.9933-val_acc=0.9198.hdf5\n",
      "44s - loss: 0.0194 - acc: 0.9933 - val_loss: 0.4358 - val_acc: 0.9198\n",
      "Epoch 5/100\n",
      "Epoch 00004: acc improved from 0.99331 to 0.99377, saving model to ../Temp/Temp/tif-64x64x6-fs-4-ep=04-acc=0.9938-val_acc=0.9105.hdf5\n",
      "44s - loss: 0.0174 - acc: 0.9938 - val_loss: 0.4308 - val_acc: 0.9105\n",
      "Epoch 6/100\n",
      "Epoch 00005: acc improved from 0.99377 to 0.99615, saving model to ../Temp/Temp/tif-64x64x6-fs-4-ep=05-acc=0.9961-val_acc=0.9232.hdf5\n",
      "44s - loss: 0.0115 - acc: 0.9961 - val_loss: 0.4271 - val_acc: 0.9232\n",
      "Epoch 7/100\n",
      "Epoch 00006: acc did not improve\n",
      "43s - loss: 0.0134 - acc: 0.9958 - val_loss: 0.4555 - val_acc: 0.9206\n",
      "Epoch 8/100\n",
      "Epoch 00007: acc improved from 0.99615 to 0.99628, saving model to ../Temp/Temp/tif-64x64x6-fs-4-ep=07-acc=0.9963-val_acc=0.9095.hdf5\n",
      "44s - loss: 0.0115 - acc: 0.9963 - val_loss: 0.5302 - val_acc: 0.9095\n",
      "Epoch 9/100\n",
      "Epoch 00008: acc did not improve\n",
      "43s - loss: 0.0164 - acc: 0.9945 - val_loss: 0.8868 - val_acc: 0.8807\n",
      "Epoch 10/100\n",
      "Epoch 00009: acc did not improve\n",
      "43s - loss: 0.0156 - acc: 0.9949 - val_loss: 0.4469 - val_acc: 0.9172\n",
      "Epoch 11/100\n",
      "Epoch 00010: acc improved from 0.99628 to 0.99671, saving model to ../Temp/Temp/tif-64x64x6-fs-4-ep=10-acc=0.9967-val_acc=0.7420.hdf5\n",
      "44s - loss: 0.0104 - acc: 0.9967 - val_loss: 1.1853 - val_acc: 0.7420\n",
      "Epoch 12/100\n",
      "Epoch 00011: acc did not improve\n",
      "43s - loss: 0.0168 - acc: 0.9943 - val_loss: 0.5093 - val_acc: 0.9186\n",
      "2017-07-07 06:41:35.163843 4\n",
      "[10] 5681.0 ../Data-Keras/Models/AlexTIFLoop/model-Alex-fs=10-64x64x6-tif.h5\n",
      "2017-07-07 06:41:35.248457   re-train model\n",
      "Train on 30359 samples, validate on 10120 samples\n",
      "Epoch 1/100\n",
      "Epoch 00000: acc improved from -inf to 0.98775, saving model to ../Temp/Temp/tif-64x64x6-fs-10-ep=00-acc=0.9877-val_acc=0.9445.hdf5\n",
      "44s - loss: 0.0334 - acc: 0.9877 - val_loss: 0.2783 - val_acc: 0.9445\n",
      "Epoch 2/100\n",
      "Epoch 00001: acc improved from 0.98775 to 0.99203, saving model to ../Temp/Temp/tif-64x64x6-fs-10-ep=01-acc=0.9920-val_acc=0.9448.hdf5\n",
      "44s - loss: 0.0265 - acc: 0.9920 - val_loss: 0.2527 - val_acc: 0.9448\n",
      "Epoch 3/100\n",
      "Epoch 00002: acc improved from 0.99203 to 0.99615, saving model to ../Temp/Temp/tif-64x64x6-fs-10-ep=02-acc=0.9961-val_acc=0.9501.hdf5\n",
      "43s - loss: 0.0118 - acc: 0.9961 - val_loss: 0.2890 - val_acc: 0.9501\n",
      "Epoch 4/100\n",
      "Epoch 00003: acc did not improve\n",
      "43s - loss: 0.0170 - acc: 0.9941 - val_loss: 0.2685 - val_acc: 0.9399\n",
      "Epoch 5/100\n",
      "Epoch 00004: acc did not improve\n",
      "43s - loss: 0.0157 - acc: 0.9945 - val_loss: 0.3061 - val_acc: 0.9442\n",
      "Epoch 6/100\n",
      "Epoch 00005: acc did not improve\n",
      "43s - loss: 0.0150 - acc: 0.9952 - val_loss: 0.3431 - val_acc: 0.9436\n",
      "Epoch 7/100\n",
      "Epoch 00006: acc improved from 0.99615 to 0.99618, saving model to ../Temp/Temp/tif-64x64x6-fs-10-ep=06-acc=0.9962-val_acc=0.9457.hdf5\n",
      "44s - loss: 0.0113 - acc: 0.9962 - val_loss: 0.2991 - val_acc: 0.9457\n",
      "Epoch 8/100\n",
      "Epoch 00007: acc did not improve\n",
      "43s - loss: 0.0178 - acc: 0.9940 - val_loss: 0.3400 - val_acc: 0.9402\n",
      "Epoch 9/100\n",
      "Epoch 00008: acc improved from 0.99618 to 0.99700, saving model to ../Temp/Temp/tif-64x64x6-fs-10-ep=08-acc=0.9970-val_acc=0.9449.hdf5\n",
      "44s - loss: 0.0093 - acc: 0.9970 - val_loss: 0.2766 - val_acc: 0.9449\n",
      "Epoch 10/100\n",
      "Epoch 00009: acc improved from 0.99700 to 0.99862, saving model to ../Temp/Temp/tif-64x64x6-fs-10-ep=09-acc=0.9986-val_acc=0.9453.hdf5\n",
      "44s - loss: 0.0050 - acc: 0.9986 - val_loss: 0.3077 - val_acc: 0.9453\n",
      "Epoch 11/100\n",
      "Epoch 00010: acc did not improve\n",
      "43s - loss: 0.0089 - acc: 0.9971 - val_loss: 0.3251 - val_acc: 0.9458\n",
      "Epoch 12/100\n",
      "Epoch 00011: acc did not improve\n",
      "43s - loss: 0.0065 - acc: 0.9978 - val_loss: 0.3184 - val_acc: 0.9454\n",
      "Epoch 13/100\n",
      "Epoch 00012: acc improved from 0.99862 to 0.99908, saving model to ../Temp/Temp/tif-64x64x6-fs-10-ep=12-acc=0.9991-val_acc=0.9413.hdf5\n",
      "44s - loss: 0.0033 - acc: 0.9991 - val_loss: 0.3262 - val_acc: 0.9413\n",
      "2017-07-07 06:51:07.773754 10\n",
      "2017-07-07 06:51:07.786015\n"
     ]
    }
   ],
   "source": [
    "#\n",
    "# Первичное построение, тренировка и сохрание моделей по признакам в цикле\n",
    "#\n",
    "\n",
    "##epochs     = 10\n",
    "\n",
    "print(datetime.datetime.now())\n",
    "\n",
    "##for fs in [range(0,5),range(5,11),range(11,17)] :\n",
    "##for fs in [range(5,8),range(8,9),range(9,11),range(11,17)] :\n",
    "##for fs in [range(5,8)] :\n",
    "#for fs in [range(8,9)] :\n",
    "#for fs in [range(6,7),range(2,3),range(3,4),range(10,11),range(4,5)] :\n",
    "for fs in [[xx] for xx in [7,0,5,1,2,4,10]] :\n",
    "    \n",
    "    trYY = trY[:,fs]\n",
    "    mf   = modelFiles[fs[0]];\n",
    "    print(fs,gpu_memory(),mf)\n",
    "    \n",
    "    gpu_mem.append(gpu_memory())\n",
    "    \n",
    "    K.clear_session()\n",
    "    \n",
    "    if not os.path.exists(mf) :\n",
    "        iSize, rSize, result = (trX.shape[1],trX.shape[2],trX.shape[3]), trYY.shape[1], []\n",
    "        print(datetime.datetime.now(), '  create model',iSize,rSize)\n",
    "        model10 = buildModelKriz(iSize,rSize)\n",
    "    else :\n",
    "        print(datetime.datetime.now(), '  re-train model')\n",
    "        model10 = load_model(mf);\n",
    "        \n",
    "    gpu_mem.append(gpu_memory())\n",
    "    \n",
    "    \n",
    "    #filepath=\"../Temp/Temp/\"+prefixTemp+\"-fs-\"+str(fs[0])+\".{epoch:02d}-acc={\"+metric+\":.4f}-val_acc={val_\"+metric+\":.4f}-val_fbeta_pred={val_fbeta_pred:.4f}.hdf5\"\n",
    "    filepath=\"../Temp/Temp/\"+prefixTemp+\"-fs-\"+str(fs[0])+\"-ep={epoch:02d}-acc={\"+metric+\":.4f}-val_acc={val_\"+metric+\":.4f}.hdf5\"\n",
    "    ##checkpoint = ModelCheckpoint(filepath, monitor='val_acc', verbose=1, save_best_only=True, mode='max')\n",
    "    #checkpoint = ModelCheckpoint(filepath, monitor='val_'+metric, verbose=1, save_best_only=True, mode='max')\n",
    "    checkpoint = ModelCheckpoint(filepath, monitor=metric, verbose=1, save_best_only=True, mode='max')\n",
    "\n",
    "    hist1  = model10.fit(trX,trYY,\n",
    "                        epochs=epochs, batch_size=batch_size, \n",
    "                        validation_split=0.25, \n",
    "                        callbacks=[early_stopping,checkpoint], #,reduce_lr],\n",
    "                        verbose=verbose)\n",
    "    if True : #False :\n",
    "        #save_model(model10,'../Data-Keras/Models/AlexTIFLoop/model-Alex-fs='+str(fs[0])+'-64x64x6-tif.h5')\n",
    "        save_model(model10,'../Data-Keras/Models/AlexTIFLoop/model-Alex-fs='+str(fs[0])+'-64x64x6-tif.h5')\n",
    "        model10.save_weights('../Data-Keras/Models/AlexTIFLoop/model-Alex-weights-fs='+str(fs[0])+'-64x64x6-tif.h5')\n",
    "    print(datetime.datetime.now(), fs[0])\n",
    "    del model10\n",
    "    K.clear_session()\n",
    "\n",
    "print(datetime.datetime.now())"
   ]
  },
  {
   "cell_type": "code",
   "execution_count": 79,
   "metadata": {
    "collapsed": false,
    "deletable": true,
    "editable": true
   },
   "outputs": [
    {
     "name": "stdout",
     "output_type": "stream",
     "text": [
      "5681.0\n",
      "5681.0\n"
     ]
    }
   ],
   "source": [
    "print(gpu_memory())\n",
    "#del model10\n",
    "K.clear_session()\n",
    "print(gpu_memory())\n"
   ]
  },
  {
   "cell_type": "code",
   "execution_count": 25,
   "metadata": {
    "collapsed": false,
    "deletable": true,
    "editable": true
   },
   "outputs": [
    {
     "data": {
      "text/plain": [
       "((40479, 64, 64, 6), (40479, 17))"
      ]
     },
     "execution_count": 25,
     "metadata": {},
     "output_type": "execute_result"
    }
   ],
   "source": [
    "trX.shape, trY.shape"
   ]
  },
  {
   "cell_type": "code",
   "execution_count": null,
   "metadata": {
    "collapsed": false,
    "deletable": true,
    "editable": true
   },
   "outputs": [],
   "source": []
  },
  {
   "cell_type": "code",
   "execution_count": 63,
   "metadata": {
    "collapsed": false,
    "deletable": true,
    "editable": true
   },
   "outputs": [],
   "source": [
    "# Процедуры для оценки результативности\n",
    "\n",
    "def confusion_matrix (tTruth, tPredict) :\n",
    "    tp  = (tTruth==tPredict)&(tTruth==1); tp=len(tp[tp])\n",
    "    fn  = (tTruth==tPredict)&(tTruth==0); fn=len(fn[fn])\n",
    "    tn  = (tTruth<>tPredict)&(tTruth==1); tn=len(tn[tn])\n",
    "    fp  = (tTruth<>tPredict)&(tTruth==0); fp=len(fp[fp])\n",
    "    return(np.array([[tp,tn],[fp,fn]]))\n",
    "\n",
    "def getConfusion (tGroundTrue, tPredict) :\n",
    "    cList = []\n",
    "    for i in range(tPredict.shape[1]) :\n",
    "        #cList.append(skm.confusion_matrix(tGroundTrue[:,i],tPredict[:,i]))\n",
    "        cList.append(confusion_matrix(tGroundTrue[:,i],tPredict[:,i]))\n",
    "    return(np.array(cList))\n",
    "\n",
    "def getRocAUC (tGroundTrue, tPredict) :\n",
    "    rList = []\n",
    "    for i in range(tPredict.shape[1]) :\n",
    "        rList.append(skm.roc_auc_score(tGroundTrue[:,i],tPredict[:,i]))\n",
    "    return(np.array(rList))"
   ]
  },
  {
   "cell_type": "code",
   "execution_count": 64,
   "metadata": {
    "collapsed": false,
    "deletable": true,
    "editable": true
   },
   "outputs": [
    {
     "name": "stdout",
     "output_type": "stream",
     "text": [
      "[[0, 0], [1, 1]] [[1, 1], [0, 0]] [[2, 0], [0, 0]] [[1, 0], [0, 1]] [[0, 1], [1, 0]]\n"
     ]
    }
   ],
   "source": [
    "print(confusion_matrix(np.array([0,0]),np.array([1,0])).tolist(),\n",
    "      confusion_matrix(np.array([1,1]),np.array([1,0])).tolist(),\n",
    "      confusion_matrix(np.array([1,1]),np.array([1,1])).tolist(),\n",
    "      confusion_matrix(np.array([1,0]),np.array([1,0])).tolist(),\n",
    "      confusion_matrix(np.array([1,0]),np.array([0,1])).tolist()\n",
    "      )"
   ]
  },
  {
   "cell_type": "code",
   "execution_count": 65,
   "metadata": {
    "collapsed": true,
    "deletable": true,
    "editable": true
   },
   "outputs": [],
   "source": [
    "def getProb01 (trYP, th=0.5) :\n",
    "    trYY = trYP.copy()\n",
    "    trYY[trYY<th] = 0\n",
    "    trYY[trYY>0]  = 1\n",
    "    return (trYY)"
   ]
  },
  {
   "cell_type": "code",
   "execution_count": 66,
   "metadata": {
    "collapsed": true,
    "deletable": true,
    "editable": true
   },
   "outputs": [],
   "source": [
    "# Построение пределов прохождения для предсказанного\n",
    "def getTh (tGround,tPredict, prec=100 ) :\n",
    "    ixx,iacc = [], []\n",
    "    for i in range(tGround.shape[1]) :\n",
    "        max, maxxx = 0.0, 0.0\n",
    "        for xx in range(0,prec+1) :\n",
    "            tempYP = getProb01(tPredict[:,i],th=(float(xx)/prec)); #print(tPredict[:,1],tempYP[0])\n",
    "            temp = skm.accuracy_score(tGround[:,i],tempYP)\n",
    "            #print(float(xx/10.0),temp)\n",
    "            if (temp>max) : \n",
    "                max = temp; maxxx = float(xx)\n",
    "                temp = skm.confusion_matrix(tGround[:,i],tempYP);\n",
    "                minloss = temp[0][1]+temp[1][0]\n",
    "        ixx.append(maxxx)\n",
    "        tempYP = getProb01 (tPredict[:,i])\n",
    "        temp = skm.accuracy_score(tGround[:,i],tempYP)\n",
    "        minloss05 = skm.confusion_matrix(tGround[:,i],tempYP);\n",
    "        minloss05 = minloss05[0][1]+minloss05[1][0]\n",
    "        iacc.append((maxxx,max,temp,minloss,minloss05))\n",
    "    ixx = [float(xx/prec) for xx in ixx]\n",
    "    return (ixx,iacc)\n",
    "##ixx, iacc = getTh(trY,trP, prec=100)\n",
    "#np.array(ixx) , iacc"
   ]
  },
  {
   "cell_type": "code",
   "execution_count": 67,
   "metadata": {
    "collapsed": false,
    "deletable": true,
    "editable": true
   },
   "outputs": [],
   "source": [
    "# Посчитать уровень прохождения для каждого признака\n",
    "#ixx, iacc = getTh(trY,trPr)\n",
    "#np.array(ixx), iacc"
   ]
  },
  {
   "cell_type": "code",
   "execution_count": 68,
   "metadata": {
    "collapsed": true,
    "deletable": true,
    "editable": true
   },
   "outputs": [],
   "source": [
    "#\n",
    "# Оценка результативности предсказания\n",
    "#\n",
    "# Выдача массива:\n",
    "#   номер поля\n",
    "#   accuracy\n",
    "#   roc_auc\n",
    "#   tt, nn        <-- должно быть\n",
    "#   tp,fn,(fp+tn) <-- получили\n",
    "#\n",
    "#\n",
    "def estimateResult (tThruth, tPredict) :\n",
    "    res = [];\n",
    "    for i in range(tThruth.shape[1]) :\n",
    "        cm = confusion_matrix(tThruth[:,i],tPredict[:,i])\n",
    "        print('{} acc={} roc={} not={} yes={} no={} true={} all-1-0=({:.4f}-{:.4f})'.format(i,\n",
    "                  skm.accuracy_score(tThruth[:,i],tPredict[:,i]),\n",
    "                  skm.roc_auc_score(tThruth[:,i],tPredict[:,i]),\n",
    "                  cm[0,1]+cm[1,0],\n",
    "                  cm[0,0],cm[1,1],\n",
    "                  cm[0,0]+cm[1,1],\n",
    "                  float(cm[0,0])/len(tThruth[tThruth[:,i]==1,i]),\n",
    "                  float(cm[1,1])/len(tThruth[tThruth[:,i]==0,i]),\n",
    "                 ));\n",
    "        res.append ((i,tThruth.shape[0],\n",
    "                    skm.accuracy_score(tThruth[:,i],tPredict[:,i]),\n",
    "                    #skm.accuracy_score(tThruth[:,i],tPredict[:,i]),\n",
    "                    skm.roc_auc_score(tThruth[:,i],tPredict[:,i]),\n",
    "                    len(tThruth[tThruth[:,i]==1]), len(tThruth[tThruth[:,i]==0]),\n",
    "                    cm[0,0], cm[1,1],cm[0,1]+cm[1,0]))\n",
    "    return(np.array(res))"
   ]
  },
  {
   "cell_type": "code",
   "execution_count": 69,
   "metadata": {
    "collapsed": false,
    "deletable": true,
    "editable": true
   },
   "outputs": [],
   "source": [
    "def buildResult( trX, modelFileNames, batch_size=batch_size, debugOK=False ) :\n",
    "    i, tResult = 0, np.zeros((trX.shape[0],len(modelFileNames)))\n",
    "    if debugOK : print(tResult.shape)\n",
    "    K.clear_session()\n",
    "    for mf in modelFileNames :\n",
    "        gpu_mem.append(gpu_memory())\n",
    "        #model11  = Sequential();\n",
    "        model11  = load_model(mf);\n",
    "        gpu_mem.append(gpu_memory())\n",
    "        tPredict = model11.predict(trX, batch_size=batch_size)\n",
    "        if debugOK : print(i,tPredict.shape,tPredict[0:2].tolist())\n",
    "        tResult[:,i] = tPredict[:,0]; i+=1;\n",
    "        gpu_mem.append(gpu_memory())\n",
    "        del model11\n",
    "        K.clear_session()\n",
    "    return(tResult)"
   ]
  },
  {
   "cell_type": "code",
   "execution_count": null,
   "metadata": {
    "collapsed": true,
    "deletable": true,
    "editable": true
   },
   "outputs": [],
   "source": []
  },
  {
   "cell_type": "code",
   "execution_count": 70,
   "metadata": {
    "collapsed": false,
    "deletable": true,
    "editable": true
   },
   "outputs": [],
   "source": [
    "#modelFiles[6]\n",
    "#os.listdir('../Data-Keras/Models/AlexTIFLoop')"
   ]
  },
  {
   "cell_type": "code",
   "execution_count": 53,
   "metadata": {
    "collapsed": false,
    "deletable": true,
    "editable": true
   },
   "outputs": [
    {
     "name": "stdout",
     "output_type": "stream",
     "text": [
      "(40479, 5)\n",
      "0 (40479, 1) [[4.296179523244348e-10], [1.3060812307230663e-06]]\n",
      "1 (40479, 1) [[8.165154213202186e-06], [0.9984956979751587]]\n",
      "2 (40479, 1) [[0.028990022838115692], [0.9996730089187622]]\n",
      "3 (40479, 1) [[4.5401813508760824e-07], [0.0010756268166005611]]\n",
      "4 (40479, 1) [[5.0729740905808285e-05], [0.2007431834936142]]\n"
     ]
    }
   ],
   "source": [
    "trPr6 = buildResult(trX,[modelFiles[x] for x in [6,2,3,10,4]],debugOK=True)"
   ]
  },
  {
   "cell_type": "code",
   "execution_count": 80,
   "metadata": {
    "collapsed": false,
    "deletable": true,
    "editable": true
   },
   "outputs": [
    {
     "name": "stdout",
     "output_type": "stream",
     "text": [
      "(40479, 17)\n",
      "0 (40479, 1) [[0.9536657333374023], [6.853271372619929e-08]]\n",
      "1 (40479, 1) [[0.9999128580093384], [0.999998927116394]]\n",
      "2 (40479, 1) [[6.3901838430935245e-15], [0.999923825263977]]\n",
      "3 (40479, 1) [[0.00030799079104326665], [0.9999995231628418]]\n",
      "4 (40479, 1) [[4.9221453302106255e-11], [1.0]]\n",
      "5 (40479, 1) [[7.625135451187985e-19], [1.2284261856621015e-06]]\n",
      "6 (40479, 1) [[4.296179523244348e-10], [1.3060812307230663e-06]]\n",
      "7 (40479, 1) [[3.312323144655238e-07], [0.06876268982887268]]\n",
      "8 (40479, 1) [[0.002893867902457714], [0.002404022729024291]]\n",
      "9 (40479, 1) [[2.2930373688723193e-06], [3.9519648664665397e-10]]\n",
      "10 (40479, 1) [[5.0150147923311295e-11], [1.3324468284281465e-07]]\n",
      "11 (40479, 1) [[0.0009171902202069759], [0.0003365739539731294]]\n",
      "12 (40479, 1) [[0.009089146740734577], [0.011230383068323135]]\n",
      "13 (40479, 1) [[0.0006949389935471117], [0.00035291718086227775]]\n",
      "14 (40479, 1) [[0.00403339508920908], [8.396008342970163e-05]]\n",
      "15 (40479, 1) [[0.003592813853174448], [0.0041126529686152935]]\n",
      "16 (40479, 1) [[0.0013530401047319174], [0.001426075934432447]]\n"
     ]
    }
   ],
   "source": [
    "gpu_mem = []\n",
    "#trPr0 = buildResult(trX,modelFiles[:11],debugOK=True)\n",
    "#trPr1 = buildResult(trX,modelFiles[11:],debugOK=True)\n",
    "trPr   = buildResult(trX,modelFiles,debugOK=True)"
   ]
  },
  {
   "cell_type": "code",
   "execution_count": 81,
   "metadata": {
    "collapsed": false,
    "deletable": true,
    "editable": true
   },
   "outputs": [],
   "source": [
    "#gpu_mem"
   ]
  },
  {
   "cell_type": "code",
   "execution_count": 82,
   "metadata": {
    "collapsed": false,
    "deletable": true,
    "editable": true
   },
   "outputs": [
    {
     "data": {
      "text/plain": [
       "(40479, 17)"
      ]
     },
     "execution_count": 82,
     "metadata": {},
     "output_type": "execute_result"
    }
   ],
   "source": [
    "#gpu_mem\n",
    "#trPr = np.hstack([trPr0,trPr1])\n",
    "np.save('../Data-Keras/Datas/train-model-2D-64x64x6-PP-tif.npy',trPr)\n",
    "trPr.shape"
   ]
  },
  {
   "cell_type": "code",
   "execution_count": 73,
   "metadata": {
    "collapsed": false,
    "deletable": true,
    "editable": true
   },
   "outputs": [],
   "source": [
    "#getProb01(trPr[0:10]),trY[0:10]\n",
    "#del model10"
   ]
  },
  {
   "cell_type": "code",
   "execution_count": 83,
   "metadata": {
    "collapsed": false,
    "deletable": true,
    "editable": true
   },
   "outputs": [
    {
     "data": {
      "text/plain": [
       "(array([[ 1.,  1.,  0.,  0.,  0.,  0.,  0.,  0.,  0.,  0.,  0.,  0.,  0.,\n",
       "          0.,  0.,  0.,  0.],\n",
       "        [ 0.,  1.,  1.,  1.,  1.,  0.,  0.,  0.,  0.,  0.,  0.,  0.,  0.,\n",
       "          0.,  0.,  0.,  0.]]),\n",
       " array([[1, 1, 0, 0, 0, 0, 0, 0, 0, 0, 0, 0, 0, 0, 0, 0, 0],\n",
       "        [0, 1, 1, 1, 1, 0, 0, 0, 0, 0, 0, 0, 0, 0, 0, 0, 0]]))"
      ]
     },
     "execution_count": 83,
     "metadata": {},
     "output_type": "execute_result"
    }
   ],
   "source": [
    "getProb01(trPr[0:2]), trY[0:2]"
   ]
  },
  {
   "cell_type": "code",
   "execution_count": 84,
   "metadata": {
    "collapsed": false,
    "deletable": true,
    "editable": true
   },
   "outputs": [
    {
     "name": "stdout",
     "output_type": "stream",
     "text": [
      "0 acc=0.969144494676 roc=0.813035178277 not=1249 yes=1707 no=37523 true=39230 all-1-0=(0.6329-0.9931)\n",
      "1 acc=0.977123940809 roc=0.930370917134 not=926 yes=36956 no=2597 true=39553 all-1-0=(0.9852-0.8756)\n",
      "2 acc=0.942068726994 roc=0.909428995231 not=2345 yes=10173 no=27961 true=38134 all-1-0=(0.8261-0.9928)\n",
      "3 acc=0.979594357568 roc=0.970742439128 not=826 yes=28221 no=11432 true=39653 all-1-0=(0.9926-0.9489)\n",
      "4 acc=0.979347315892 roc=0.954328473948 not=836 yes=6780 no=32863 true=39643 all-1-0=(0.9149-0.9938)\n",
      "5 acc=0.977963882507 roc=0.902133331463 not=892 yes=2963 no=36624 true=39587 all-1-0=(0.8096-0.9947)\n",
      "6 acc=0.97875441587 roc=0.96286593509 not=860 yes=7558 no=32061 true=39619 all-1-0=(0.9364-0.9893)\n",
      "7 acc=0.963511944465 roc=0.868295685854 not=1477 yes=3340 no=35662 true=39002 all-1-0=(0.7460-0.9906)\n",
      "8 acc=0.994836828973 roc=0.5 not=209 yes=0 no=40270 true=40270 all-1-0=(0.0000-1.0000)\n",
      "9 acc=0.98080486178 roc=0.890523613749 not=777 yes=1650 no=38052 true=39702 all-1-0=(0.7899-0.9912)\n",
      "10 acc=0.984312853578 roc=0.97510637598 not=635 yes=6976 no=32868 true=39844 all-1-0=(0.9607-0.9895)\n",
      "11 acc=0.997529583241 roc=0.5 not=100 yes=0 no=40379 true=40379 all-1-0=(0.0000-1.0000)\n",
      "12 acc=0.978705007535 roc=0.5 not=862 yes=0 no=39617 true=39617 all-1-0=(0.0000-1.0000)\n",
      "13 acc=0.991625287186 roc=0.5 not=339 yes=0 no=40140 true=40140 all-1-0=(0.0000-1.0000)\n",
      "14 acc=0.991798216359 roc=0.5 not=332 yes=0 no=40147 true=40147 all-1-0=(0.0000-1.0000)\n",
      "15 acc=0.991600583018 roc=0.5 not=340 yes=0 no=40139 true=40139 all-1-0=(0.0000-1.0000)\n",
      "16 acc=0.997578991576 roc=0.5 not=98 yes=0 no=40381 true=40381 all-1-0=(0.0000-1.0000)\n"
     ]
    }
   ],
   "source": [
    "fres = estimateResult(trY,getProb01(trPr))"
   ]
  },
  {
   "cell_type": "code",
   "execution_count": 43,
   "metadata": {
    "collapsed": false,
    "deletable": true,
    "editable": true
   },
   "outputs": [
    {
     "name": "stdout",
     "output_type": "stream",
     "text": [
      "(40479, 17)\n",
      "0 acc=0.940685293609 roc=0.634240331027 not=2401 yes=757 no=37321 true=38078 all-1-0=(0.2807-0.9878)\n",
      "1 acc=0.946737814669 roc=0.818654024168 not=2156 yes=36340 no=1983 true=38323 all-1-0=(0.9687-0.6686)\n",
      "2 acc=0.84932928185 roc=0.812670320055 not=6099 yes=8855 no=25525 true=34380 all-1-0=(0.7190-0.9063)\n",
      "3 acc=0.859680328071 roc=0.784364178823 not=5680 yes=27591 no=7208 true=34799 all-1-0=(0.9705-0.5983)\n",
      "4 acc=0.885669112379 roc=0.732046930294 not=4628 yes=3629 no=32222 true=35851 all-1-0=(0.4897-0.9744)\n",
      "5 acc=0.909582746609 roc=0.5 not=3660 yes=0 no=36819 true=36819 all-1-0=(0.0000-1.0000)\n",
      "6 acc=0.836779564713 roc=0.68997282159 not=6607 yes=3598 no=30274 true=33872 all-1-0=(0.4458-0.9342)\n",
      "7 acc=0.889399441686 roc=0.5 not=4477 yes=0 no=36002 true=36002 all-1-0=(0.0000-1.0000)\n",
      "8 acc=0.994836828973 roc=0.5 not=209 yes=0 no=40270 true=40270 all-1-0=(0.0000-1.0000)\n",
      "9 acc=0.965364757035 roc=0.752925718524 not=1402 yes=1078 no=37999 true=39077 all-1-0=(0.5160-0.9898)\n",
      "10 acc=0.873564070259 roc=0.655586740119 not=5118 yes=2292 no=33069 true=35361 all-1-0=(0.3157-0.9955)\n",
      "11 acc=0.997529583241 roc=0.5 not=100 yes=0 no=40379 true=40379 all-1-0=(0.0000-1.0000)\n",
      "12 acc=0.978705007535 roc=0.5 not=862 yes=0 no=39617 true=39617 all-1-0=(0.0000-1.0000)\n",
      "13 acc=0.991625287186 roc=0.5 not=339 yes=0 no=40140 true=40140 all-1-0=(0.0000-1.0000)\n",
      "14 acc=0.991798216359 roc=0.5 not=332 yes=0 no=40147 true=40147 all-1-0=(0.0000-1.0000)\n",
      "15 acc=0.991600583018 roc=0.5 not=340 yes=0 no=40139 true=40139 all-1-0=(0.0000-1.0000)\n",
      "16 acc=0.997578991576 roc=0.5 not=98 yes=0 no=40381 true=40381 all-1-0=(0.0000-1.0000)\n"
     ]
    }
   ],
   "source": [
    "print(trY.shape)\n",
    "#fres = estimateResult(trYY,getProb01(trP))\n",
    "fres = estimateResult(trY,getProb01(trPr))\n",
    "#fresList.append(fres)\n",
    "#fres.tolist()"
   ]
  },
  {
   "cell_type": "code",
   "execution_count": 45,
   "metadata": {
    "collapsed": false,
    "deletable": true,
    "editable": true
   },
   "outputs": [],
   "source": [
    "#fres = estimateResult(trY[:,[6,2,3,10,4]],getProb01(trPr6)); fres.tolist()"
   ]
  },
  {
   "cell_type": "code",
   "execution_count": 85,
   "metadata": {
    "collapsed": false,
    "deletable": true,
    "editable": true
   },
   "outputs": [
    {
     "data": {
      "image/png": "[encoded data removed]",
      "text/plain": [
       "<matplotlib.figure.Figure at 0x7f2dc3f1d050>"
      ]
     },
     "metadata": {},
     "output_type": "display_data"
    },
    {
     "data": {
      "image/png": "[encoded data removed]",
      "text/plain": [
       "<matplotlib.figure.Figure at 0x7f2dc67a1150>"
      ]
     },
     "metadata": {},
     "output_type": "display_data"
    },
    {
     "data": {
      "image/png": "[encoded data removed]",
      "text/plain": [
       "<matplotlib.figure.Figure at 0x7f2df47059d0>"
      ]
     },
     "metadata": {},
     "output_type": "display_data"
    }
   ],
   "source": [
    "plt.plot([x[4] for x in fres]); \n",
    "plt.plot([x[6] for x in fres]); \n",
    "plt.title('truth,tp=cm=[0,0]')\n",
    "plt.show()\n",
    "plt.title('false,fn=cm[1,1]')\n",
    "plt.plot([x[5] for x in fres]); \n",
    "plt.plot([x[7] for x in fres]); \n",
    "plt.show()\n",
    "plt.title('accuracy')\n",
    "plt.plot([x[2] for x in fres]); \n",
    "plt.show()"
   ]
  },
  {
   "cell_type": "code",
   "execution_count": 88,
   "metadata": {
    "collapsed": false
   },
   "outputs": [
    {
     "ename": "ValueError",
     "evalue": "Can't handle mix of multilabel-indicator and continuous-multioutput",
     "output_type": "error",
     "traceback": [
      "\u001b[0;31m---------------------------------------------------------------------------\u001b[0m",
      "\u001b[0;31mValueError\u001b[0m                                Traceback (most recent call last)",
      "\u001b[0;32m<ipython-input-88-52ae92ce8767>\u001b[0m in \u001b[0;36m<module>\u001b[0;34m()\u001b[0m\n\u001b[1;32m      1\u001b[0m \u001b[0;31m#fbeta_pred(trPr,trY)\u001b[0m\u001b[0;34m\u001b[0m\u001b[0;34m\u001b[0m\u001b[0m\n\u001b[0;32m----> 2\u001b[0;31m \u001b[0mfbeta_score\u001b[0m\u001b[0;34m(\u001b[0m\u001b[0mtrY\u001b[0m\u001b[0;34m,\u001b[0m\u001b[0mtrPr\u001b[0m\u001b[0;34m,\u001b[0m\u001b[0mbeta\u001b[0m\u001b[0;34m=\u001b[0m\u001b[0;36m2\u001b[0m\u001b[0;34m)\u001b[0m\u001b[0;34m\u001b[0m\u001b[0m\n\u001b[0m",
      "\u001b[0;32m/home/boba/anaconda2/envs/tensorflow-gpu/lib/python2.7/site-packages/sklearn/metrics/classification.pyc\u001b[0m in \u001b[0;36mfbeta_score\u001b[0;34m(y_true, y_pred, beta, labels, pos_label, average, sample_weight)\u001b[0m\n\u001b[1;32m    804\u001b[0m                                                  \u001b[0maverage\u001b[0m\u001b[0;34m=\u001b[0m\u001b[0maverage\u001b[0m\u001b[0;34m,\u001b[0m\u001b[0;34m\u001b[0m\u001b[0m\n\u001b[1;32m    805\u001b[0m                                                  \u001b[0mwarn_for\u001b[0m\u001b[0;34m=\u001b[0m\u001b[0;34m(\u001b[0m\u001b[0;34m'f-score'\u001b[0m\u001b[0;34m,\u001b[0m\u001b[0;34m)\u001b[0m\u001b[0;34m,\u001b[0m\u001b[0;34m\u001b[0m\u001b[0m\n\u001b[0;32m--> 806\u001b[0;31m                                                  sample_weight=sample_weight)\n\u001b[0m\u001b[1;32m    807\u001b[0m     \u001b[0;32mreturn\u001b[0m \u001b[0mf\u001b[0m\u001b[0;34m\u001b[0m\u001b[0m\n\u001b[1;32m    808\u001b[0m \u001b[0;34m\u001b[0m\u001b[0m\n",
      "\u001b[0;32m/home/boba/anaconda2/envs/tensorflow-gpu/lib/python2.7/site-packages/sklearn/metrics/classification.pyc\u001b[0m in \u001b[0;36mprecision_recall_fscore_support\u001b[0;34m(y_true, y_pred, beta, labels, pos_label, average, warn_for, sample_weight)\u001b[0m\n\u001b[1;32m   1001\u001b[0m         \u001b[0;32mraise\u001b[0m \u001b[0mValueError\u001b[0m\u001b[0;34m(\u001b[0m\u001b[0;34m\"beta should be >0 in the F-beta score\"\u001b[0m\u001b[0;34m)\u001b[0m\u001b[0;34m\u001b[0m\u001b[0m\n\u001b[1;32m   1002\u001b[0m \u001b[0;34m\u001b[0m\u001b[0m\n\u001b[0;32m-> 1003\u001b[0;31m     \u001b[0my_type\u001b[0m\u001b[0;34m,\u001b[0m \u001b[0my_true\u001b[0m\u001b[0;34m,\u001b[0m \u001b[0my_pred\u001b[0m \u001b[0;34m=\u001b[0m \u001b[0m_check_targets\u001b[0m\u001b[0;34m(\u001b[0m\u001b[0my_true\u001b[0m\u001b[0;34m,\u001b[0m \u001b[0my_pred\u001b[0m\u001b[0;34m)\u001b[0m\u001b[0;34m\u001b[0m\u001b[0m\n\u001b[0m\u001b[1;32m   1004\u001b[0m     \u001b[0mpresent_labels\u001b[0m \u001b[0;34m=\u001b[0m \u001b[0munique_labels\u001b[0m\u001b[0;34m(\u001b[0m\u001b[0my_true\u001b[0m\u001b[0;34m,\u001b[0m \u001b[0my_pred\u001b[0m\u001b[0;34m)\u001b[0m\u001b[0;34m\u001b[0m\u001b[0m\n\u001b[1;32m   1005\u001b[0m \u001b[0;34m\u001b[0m\u001b[0m\n",
      "\u001b[0;32m/home/boba/anaconda2/envs/tensorflow-gpu/lib/python2.7/site-packages/sklearn/metrics/classification.pyc\u001b[0m in \u001b[0;36m_check_targets\u001b[0;34m(y_true, y_pred)\u001b[0m\n\u001b[1;32m     80\u001b[0m     \u001b[0;32mif\u001b[0m \u001b[0mlen\u001b[0m\u001b[0;34m(\u001b[0m\u001b[0my_type\u001b[0m\u001b[0;34m)\u001b[0m \u001b[0;34m>\u001b[0m \u001b[0;36m1\u001b[0m\u001b[0;34m:\u001b[0m\u001b[0;34m\u001b[0m\u001b[0m\n\u001b[1;32m     81\u001b[0m         raise ValueError(\"Can't handle mix of {0} and {1}\"\n\u001b[0;32m---> 82\u001b[0;31m                          \"\".format(type_true, type_pred))\n\u001b[0m\u001b[1;32m     83\u001b[0m \u001b[0;34m\u001b[0m\u001b[0m\n\u001b[1;32m     84\u001b[0m     \u001b[0;31m# We can't have more than one value on y_type => The set is no more needed\u001b[0m\u001b[0;34m\u001b[0m\u001b[0;34m\u001b[0m\u001b[0m\n",
      "\u001b[0;31mValueError\u001b[0m: Can't handle mix of multilabel-indicator and continuous-multioutput"
     ]
    }
   ],
   "source": [
    "#fbeta_pred(trPr,trY)\n",
    "fbeta_score(trY,trPr,beta=2)"
   ]
  },
  {
   "cell_type": "code",
   "execution_count": null,
   "metadata": {
    "collapsed": false,
    "deletable": true,
    "editable": true
   },
   "outputs": [],
   "source": []
  },
  {
   "cell_type": "code",
   "execution_count": null,
   "metadata": {
    "collapsed": false,
    "deletable": true,
    "editable": true
   },
   "outputs": [],
   "source": []
  },
  {
   "cell_type": "code",
   "execution_count": 89,
   "metadata": {
    "collapsed": false,
    "deletable": true,
    "editable": true
   },
   "outputs": [],
   "source": [
    "# Forming output dataset for predicting --> trOX, trOY\n",
    "del(trX)\n",
    "del(trY)"
   ]
  },
  {
   "cell_type": "code",
   "execution_count": 90,
   "metadata": {
    "collapsed": false
   },
   "outputs": [
    {
     "name": "stdout",
     "output_type": "stream",
     "text": [
      "(61191, 64, 64, 6) (61191,)\n"
     ]
    }
   ],
   "source": [
    "if True :\n",
    "    trOX  = np.load('../Data-Keras/Datas/test-model-2D-64x64x6-XX-tif.npy')\n",
    "    trOY  = np.load('../Data-Keras/Datas/test-model-2D-64x64x6-YY-tif.npy')\n",
    "    print(trOX.shape,trOY.shape)"
   ]
  },
  {
   "cell_type": "code",
   "execution_count": null,
   "metadata": {
    "collapsed": true
   },
   "outputs": [],
   "source": []
  },
  {
   "cell_type": "code",
   "execution_count": 91,
   "metadata": {
    "collapsed": false
   },
   "outputs": [
    {
     "name": "stdout",
     "output_type": "stream",
     "text": [
      "(61191, 17)\n",
      "0 (61191, 1) [[6.361494087059327e-08], [0.006143784616142511]]\n",
      "1 (61191, 1) [[1.0], [0.7227336168289185]]\n",
      "2 (61191, 1) [[8.711943384580312e-13], [0.17629054188728333]]\n",
      "3 (61191, 1) [[0.9999009370803833], [0.5230134725570679]]\n",
      "4 (61191, 1) [[5.681400125467917e-06], [1.9985258404631168e-05]]\n",
      "5 (61191, 1) [[8.288881191663433e-13], [0.004121803212910891]]\n",
      "6 (61191, 1) [[7.222433100802922e-15], [0.2490975707769394]]\n",
      "7 (61191, 1) [[5.145397454463241e-13], [2.4276479848595045e-07]]\n",
      "8 (61191, 1) [[0.0013391522224992514], [0.0020790277048945427]]\n",
      "9 (61191, 1) [[3.6290209948219854e-08], [0.0016475493321195245]]\n",
      "10 (61191, 1) [[8.222192926510274e-10], [7.433099824538658e-08]]\n",
      "11 (61191, 1) [[2.8465527066146024e-05], [0.01673213019967079]]\n",
      "12 (61191, 1) [[0.0019435539143159986], [0.07603754848241806]]\n",
      "13 (61191, 1) [[1.7223452459802502e-06], [0.05496807023882866]]\n",
      "14 (61191, 1) [[0.0015949165681377053], [0.0005303684738464653]]\n",
      "15 (61191, 1) [[0.0018990500830113888], [0.001644582487642765]]\n",
      "16 (61191, 1) [[0.0012510014930739999], [7.696115790167823e-05]]\n"
     ]
    }
   ],
   "source": [
    "trOR = buildResult(trOX,modelFiles,debugOK=True)"
   ]
  },
  {
   "cell_type": "code",
   "execution_count": null,
   "metadata": {
    "collapsed": true
   },
   "outputs": [],
   "source": []
  },
  {
   "cell_type": "code",
   "execution_count": 92,
   "metadata": {
    "collapsed": false,
    "deletable": true,
    "editable": true
   },
   "outputs": [],
   "source": [
    "np.save('../Data-Keras/Datas/test-model-2D-64x64x6-RR-tif.npy',trOR)"
   ]
  },
  {
   "cell_type": "code",
   "execution_count": null,
   "metadata": {
    "collapsed": false,
    "deletable": true,
    "editable": true
   },
   "outputs": [],
   "source": []
  },
  {
   "cell_type": "code",
   "execution_count": 95,
   "metadata": {
    "collapsed": false,
    "deletable": true,
    "editable": true
   },
   "outputs": [
    {
     "name": "stdout",
     "output_type": "stream",
     "text": [
      "(61191, 17) (61191,) ['file_19947', 'file_19948', 'file_19949', 'file_1995', 'file_19950']\n"
     ]
    }
   ],
   "source": [
    "#trOY = trOY.tolist()\n",
    "#trOY = np.array([os.path.splitext(x)[0] for x in trOY]);\n",
    "print(trOR.shape,trOY.shape,trOY[0:5].tolist())"
   ]
  },
  {
   "cell_type": "code",
   "execution_count": null,
   "metadata": {
    "collapsed": true,
    "deletable": true,
    "editable": true
   },
   "outputs": [],
   "source": []
  },
  {
   "cell_type": "code",
   "execution_count": null,
   "metadata": {
    "collapsed": true,
    "deletable": true,
    "editable": true
   },
   "outputs": [],
   "source": []
  },
  {
   "cell_type": "code",
   "execution_count": null,
   "metadata": {
    "collapsed": false,
    "deletable": true,
    "editable": true
   },
   "outputs": [],
   "source": []
  },
  {
   "cell_type": "code",
   "execution_count": null,
   "metadata": {
    "collapsed": false,
    "deletable": true,
    "editable": true
   },
   "outputs": [],
   "source": []
  },
  {
   "cell_type": "code",
   "execution_count": null,
   "metadata": {
    "collapsed": false,
    "deletable": true,
    "editable": true
   },
   "outputs": [],
   "source": []
  },
  {
   "cell_type": "code",
   "execution_count": 258,
   "metadata": {
    "collapsed": true,
    "deletable": true,
    "editable": true
   },
   "outputs": [],
   "source": [
    "#Forming result"
   ]
  },
  {
   "cell_type": "code",
   "execution_count": null,
   "metadata": {
    "collapsed": false,
    "deletable": true,
    "editable": true
   },
   "outputs": [],
   "source": []
  },
  {
   "cell_type": "code",
   "execution_count": null,
   "metadata": {
    "collapsed": false,
    "deletable": true,
    "editable": true
   },
   "outputs": [],
   "source": []
  },
  {
   "cell_type": "code",
   "execution_count": 98,
   "metadata": {
    "collapsed": true,
    "deletable": true,
    "editable": true
   },
   "outputs": [],
   "source": [
    "wr = [labels.index(i) for i in weather_labels];\n",
    "\n",
    "trPZ = trOR\n",
    "trM  = np.array([0.5]*trPZ.shape[1]);\n",
    "#### Пока без коэффициентов. Коэффициенты работают +0.01 к счету trM=np.array([0.5]*17);\n",
    "trM[np.array(wr)] = 2.0\n",
    "\n",
    "res = []\n",
    "\n",
    "for i in range(trPZ.shape[0]) :\n",
    "    trA1 = [weather_labels[trPZ[i,wr].argmax()]]\n",
    "    trA2 = [labels[ii] for ii in range(len(labels)) if (trPZ[i,ii]>trM[ii])]\n",
    "    if trA1[0]=='cloudy' : trA2 = []\n",
    "    ##trPP = trA1 + trA2;\n",
    "    pp   = ' '.join(trA1+trA2)\n",
    "    ##if (pp==\"\") : print(trY[i])\n",
    "    res.append([trOY[i],pp])\n",
    "\n",
    "res.sort(cmp=lambda x,y: cmp(int(x[0].partition('_')[2]),int(y[0].partition('_')[2])) if (x[0].partition('_')[0]==y[0].partition('_')[0]) else cmp(y[0].partition('_')[0],x[0].partition('_')[0]))\n",
    "#print(res[4:8],'\\n',res[-4:])"
   ]
  },
  {
   "cell_type": "code",
   "execution_count": 101,
   "metadata": {
    "collapsed": false,
    "deletable": true,
    "editable": true
   },
   "outputs": [
    {
     "name": "stdout",
     "output_type": "stream",
     "text": [
      "['test_0', 'clear primary'] \n",
      " ['file_20521', 'clear primary'] \n",
      " [ 2.   0.5  0.5  2.   0.5  0.5  0.5  0.5  0.5  2.   2.   0.5  0.5  0.5  0.5\n",
      "  0.5  0.5] [  6.36149409e-08   1.00000000e+00   8.71194338e-13   9.99900937e-01\n",
      "   5.68140013e-06   8.28888119e-13   7.22243310e-15   5.14539745e-13\n",
      "   1.33915222e-03   3.62902099e-08   8.22219293e-10   2.84655271e-05\n",
      "   1.94355391e-03   1.72234525e-06   1.59491657e-03   1.89905008e-03\n",
      "   1.25100149e-03]\n"
     ]
    }
   ],
   "source": [
    "print(res[0],'\\n',res[-1],'\\n',trM,trPZ[0])"
   ]
  },
  {
   "cell_type": "code",
   "execution_count": null,
   "metadata": {
    "collapsed": true,
    "deletable": true,
    "editable": true
   },
   "outputs": [],
   "source": []
  },
  {
   "cell_type": "code",
   "execution_count": 102,
   "metadata": {
    "collapsed": false,
    "deletable": true,
    "editable": true
   },
   "outputs": [
    {
     "name": "stdout",
     "output_type": "stream",
     "text": [
      "['haze', 'primary', 'agriculture', 'clear', 'water', 'habitation', 'road', 'cultivation', 'slash_burn', 'cloudy', 'partly_cloudy', 'conventional_mine', 'bare_ground', 'artisinal_mine', 'blooming', 'selective_logging', 'blow_down']\n"
     ]
    }
   ],
   "source": [
    "print(labels)\n",
    "#print(trM.tolist())\n",
    "#np.round(trP[4:11,:])"
   ]
  },
  {
   "cell_type": "code",
   "execution_count": 103,
   "metadata": {
    "collapsed": false,
    "deletable": true,
    "editable": true
   },
   "outputs": [
    {
     "name": "stdout",
     "output_type": "stream",
     "text": [
      "2017-07-07-07-32-07\n"
     ]
    }
   ],
   "source": [
    "rrr=pd.DataFrame(res,columns=['image_name','tags']); rrr.head(); \n",
    "suffixDT = (datetime.datetime.now()).strftime('%Y-%m-%d-%H-%M-%S'); print(suffixDT)\n",
    "rrr.to_csv('../Result/vss'+suffixDT+'.csv',index=False);"
   ]
  },
  {
   "cell_type": "code",
   "execution_count": null,
   "metadata": {
    "collapsed": true,
    "deletable": true,
    "editable": true
   },
   "outputs": [],
   "source": []
  }
 ],
 "metadata": {
  "kernelspec": {
   "display_name": "Python 2",
   "language": "python",
   "name": "python2"
  },
  "language_info": {
   "codemirror_mode": {
    "name": "ipython",
    "version": 2
   },
   "file_extension": ".py",
   "mimetype": "text/x-python",
   "name": "python",
   "nbconvert_exporter": "python",
   "pygments_lexer": "ipython2",
   "version": "2.7.13"
  }
 },
 "nbformat": 4,
 "nbformat_minor": 2
}
