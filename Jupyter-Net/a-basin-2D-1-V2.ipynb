{
 "cells": [
  {
   "cell_type": "code",
   "execution_count": null,
   "metadata": {
    "collapsed": true,
    "deletable": true,
    "editable": true
   },
   "outputs": [],
   "source": []
  },
  {
   "cell_type": "code",
   "execution_count": 1,
   "metadata": {
    "collapsed": false,
    "deletable": true,
    "editable": true
   },
   "outputs": [],
   "source": [
    "import sys,os,datetime\n",
    "import numpy as np\n",
    "import pandas as pd\n",
    "import matplotlib.pyplot as plt\n",
    "from sklearn.metrics import fbeta_score\n",
    "from __future__ import print_function"
   ]
  },
  {
   "cell_type": "code",
   "execution_count": 2,
   "metadata": {
    "collapsed": false,
    "deletable": true,
    "editable": true
   },
   "outputs": [
    {
     "name": "stdout",
     "output_type": "stream",
     "text": [
      "1.12.1\n",
      "0.19.2\n"
     ]
    }
   ],
   "source": [
    "print(np.__version__);\n",
    "print(pd.__version__);"
   ]
  },
  {
   "cell_type": "code",
   "execution_count": 3,
   "metadata": {
    "collapsed": false,
    "deletable": true,
    "editable": true
   },
   "outputs": [
    {
     "data": {
      "text/plain": [
       "'3.2.0'"
      ]
     },
     "execution_count": 3,
     "metadata": {},
     "output_type": "execute_result"
    }
   ],
   "source": [
    "import  cv2 as cv\n",
    "cv.__version__"
   ]
  },
  {
   "cell_type": "code",
   "execution_count": 4,
   "metadata": {
    "collapsed": false,
    "deletable": true,
    "editable": true
   },
   "outputs": [],
   "source": [
    "sys.path.append('../Python')\n",
    "from helper import formFH, paths_input"
   ]
  },
  {
   "cell_type": "code",
   "execution_count": 138,
   "metadata": {
    "collapsed": false,
    "deletable": true,
    "editable": true
   },
   "outputs": [],
   "source": [
    "#from keras.preprocessing.image import ImageDataGenerator, array_to_img, img_to_array, load_img\n",
    "from keras.models import Sequential,save_model,load_model\n",
    "from keras.layers import Convolution2D, MaxPooling2D, Convolution1D, MaxPooling1D\n",
    "from keras.layers import Activation, Dropout, Flatten, Dense\n",
    "from keras.layers.normalization import BatchNormalization\n",
    "import keras.optimizers\n",
    "from keras.callbacks import EarlyStopping"
   ]
  },
  {
   "cell_type": "code",
   "execution_count": 6,
   "metadata": {
    "collapsed": false,
    "deletable": true,
    "editable": true
   },
   "outputs": [
    {
     "data": {
      "text/plain": [
       "'2.0.4'"
      ]
     },
     "execution_count": 6,
     "metadata": {},
     "output_type": "execute_result"
    }
   ],
   "source": [
    "keras.__version__"
   ]
  },
  {
   "cell_type": "code",
   "execution_count": 7,
   "metadata": {
    "collapsed": false,
    "deletable": true,
    "editable": true
   },
   "outputs": [
    {
     "data": {
      "text/plain": [
       "('../Data/train-tif-v2',\n",
       " '../Data/test-tif-v2',\n",
       " '../Work/Train',\n",
       " '../Work/Test')"
      ]
     },
     "execution_count": 7,
     "metadata": {},
     "output_type": "execute_result"
    }
   ],
   "source": [
    "trLabels,trDirTIF,trDirJPG,teDirTIF,teDirJPG = paths_input()\n",
    "trDirI = trDirTIF\n",
    "teDirI = teDirTIF\n",
    "trWork, teWork = '../Work/Train', '../Work/Test'\n",
    "trDirI,teDirI, trWork, teWork"
   ]
  },
  {
   "cell_type": "code",
   "execution_count": null,
   "metadata": {
    "collapsed": true,
    "deletable": true,
    "editable": true
   },
   "outputs": [],
   "source": []
  },
  {
   "cell_type": "code",
   "execution_count": 8,
   "metadata": {
    "collapsed": false,
    "deletable": true,
    "editable": true
   },
   "outputs": [
    {
     "data": {
      "text/html": [
       "<div>\n",
       "<table border=\"1\" class=\"dataframe\">\n",
       "  <thead>\n",
       "    <tr style=\"text-align: right;\">\n",
       "      <th></th>\n",
       "      <th>image_name</th>\n",
       "      <th>tags</th>\n",
       "    </tr>\n",
       "  </thead>\n",
       "  <tbody>\n",
       "    <tr>\n",
       "      <th>0</th>\n",
       "      <td>train_0</td>\n",
       "      <td>haze primary</td>\n",
       "    </tr>\n",
       "    <tr>\n",
       "      <th>1</th>\n",
       "      <td>train_1</td>\n",
       "      <td>agriculture clear primary water</td>\n",
       "    </tr>\n",
       "    <tr>\n",
       "      <th>2</th>\n",
       "      <td>train_2</td>\n",
       "      <td>clear primary</td>\n",
       "    </tr>\n",
       "    <tr>\n",
       "      <th>3</th>\n",
       "      <td>train_3</td>\n",
       "      <td>clear primary</td>\n",
       "    </tr>\n",
       "    <tr>\n",
       "      <th>4</th>\n",
       "      <td>train_4</td>\n",
       "      <td>agriculture clear habitation primary road</td>\n",
       "    </tr>\n",
       "  </tbody>\n",
       "</table>\n",
       "</div>"
      ],
      "text/plain": [
       "  image_name                                       tags\n",
       "0    train_0                               haze primary\n",
       "1    train_1            agriculture clear primary water\n",
       "2    train_2                              clear primary\n",
       "3    train_3                              clear primary\n",
       "4    train_4  agriculture clear habitation primary road"
      ]
     },
     "execution_count": 8,
     "metadata": {},
     "output_type": "execute_result"
    }
   ],
   "source": [
    "labels_df = pd.read_csv(trLabels)\n",
    "labels_df.head()"
   ]
  },
  {
   "cell_type": "code",
   "execution_count": 9,
   "metadata": {
    "collapsed": true,
    "deletable": true,
    "editable": true
   },
   "outputs": [],
   "source": [
    "# Build list with unique labels\n",
    "label_list = []\n",
    "for tag_str in labels_df.tags.values:\n",
    "    labels = tag_str.split(' ')\n",
    "    for label in labels:\n",
    "        if label not in label_list:\n",
    "            label_list.append(label)"
   ]
  },
  {
   "cell_type": "code",
   "execution_count": 10,
   "metadata": {
    "collapsed": false,
    "deletable": true,
    "editable": true
   },
   "outputs": [],
   "source": [
    "# Add onehot features for every label\n",
    "for label in label_list:\n",
    "    labels_df[label] = labels_df['tags'].apply(lambda x: 1 if label in x.split(' ') else 0)\n",
    "    #labels_df[label].astype(np.int8)\n",
    "# Display head\n",
    "#labels_df.head()\n"
   ]
  },
  {
   "cell_type": "code",
   "execution_count": 11,
   "metadata": {
    "collapsed": false,
    "deletable": true,
    "editable": true
   },
   "outputs": [],
   "source": [
    "weather_labels = ['clear', 'partly_cloudy', 'haze', 'cloudy']\n",
    "land_labels = ['primary', 'agriculture', 'water', 'cultivation', 'habitation' ]\n",
    "rare_labels = [l for l in label_list if labels_df[label_list].sum()[l] < 2000]\n",
    "#rare_labels              "
   ]
  },
  {
   "cell_type": "code",
   "execution_count": null,
   "metadata": {
    "collapsed": false,
    "deletable": true,
    "editable": true
   },
   "outputs": [],
   "source": []
  },
  {
   "cell_type": "code",
   "execution_count": 12,
   "metadata": {
    "collapsed": false,
    "deletable": true,
    "editable": true
   },
   "outputs": [
    {
     "data": {
      "text/plain": [
       "array([[1, 1, 0, 0, 0, 0, 0, 0, 0, 0, 0, 0, 0, 0, 0, 0, 0],\n",
       "       [0, 1, 1, 1, 1, 0, 0, 0, 0, 0, 0, 0, 0, 0, 0, 0, 0],\n",
       "       [0, 1, 0, 1, 0, 0, 0, 0, 0, 0, 0, 0, 0, 0, 0, 0, 0],\n",
       "       [0, 1, 0, 1, 0, 0, 0, 0, 0, 0, 0, 0, 0, 0, 0, 0, 0],\n",
       "       [0, 1, 1, 1, 0, 1, 1, 0, 0, 0, 0, 0, 0, 0, 0, 0, 0],\n",
       "       [1, 1, 0, 0, 1, 0, 0, 0, 0, 0, 0, 0, 0, 0, 0, 0, 0]])"
      ]
     },
     "execution_count": 12,
     "metadata": {},
     "output_type": "execute_result"
    }
   ],
   "source": [
    "labels = label_list; #weather_labels;\n",
    "nameList =labels_df[labels_df[labels].sum(axis=1)>0].image_name.tolist(); len(nameList)\n",
    "labelList=labels_df[labels_df[labels].sum(axis=1)>0][labels].as_matrix();\n",
    "labelList[:6,:]\n",
    "#labels_df.head()"
   ]
  },
  {
   "cell_type": "code",
   "execution_count": null,
   "metadata": {
    "collapsed": true,
    "deletable": true,
    "editable": true
   },
   "outputs": [],
   "source": []
  },
  {
   "cell_type": "code",
   "execution_count": 13,
   "metadata": {
    "collapsed": false,
    "deletable": true,
    "editable": true
   },
   "outputs": [],
   "source": [
    "def formImExt (nf, resize=(32,32), printOK=False) :\n",
    "    nx = None\n",
    "    try : \n",
    "        ni = cv.imread(nf,-1); \n",
    "        if (ni is not None) :\n",
    "            if not ((ni.shape[2]==3) or (ni.shape[2]==4)) and printOK : print('----- error ---- shape:',ni.shape,nf)\n",
    "            if (ni.shape[2]==3) :\n",
    "                nx = cv.resize(ni,resize)\n",
    "            if (ni.shape[2]==4) :\n",
    "                #r,g,b,n = ni[:,:,2],ni[:,:,1],ni[:,:,0],ni[:,:,3]\n",
    "                r,g,b,n = cv.resize(ni[:,:,2],resize),cv.resize(ni[:,:,1],resize),cv.resize(ni[:,:,0],resize),cv.resize(ni[:,:,3],resize)\n",
    "                dv,dw   = np.divide((r-n),(r+n+0.01)), np.divide((g-n),(g+n+0.01))\n",
    "                nx      = np.array([r,g,b,n,dv,dw]).T; \n",
    "    except BaseException as e :\n",
    "        print(nf,e); nx = None;\n",
    "    \n",
    "    if nx is None and printOK : \n",
    "        print('------ None:',nf); nx = None\n",
    "        \n",
    "    return(nx)"
   ]
  },
  {
   "cell_type": "code",
   "execution_count": 36,
   "metadata": {
    "collapsed": false,
    "deletable": true,
    "editable": true
   },
   "outputs": [
    {
     "name": "stdout",
     "output_type": "stream",
     "text": [
      "2017-05-15 01:24:39.256551 40479 40479\n",
      "2017-05-15 01:25:33.407633 \t 5000 \t train_4999\n",
      "2017-05-15 01:27:48.406526 \t 10000 \t train_9999\n",
      "2017-05-15 01:30:05.273415 \t 15000 \t train_14999\n",
      "2017-05-15 01:32:21.207122 \t 20000 \t train_19999\n",
      "2017-05-15 01:34:37.987198 \t 25000 \t train_24999\n",
      "2017-05-15 01:36:55.296700 \t 30000 \t train_29999\n",
      "2017-05-15 01:39:12.678141 \t 35000 \t train_34999\n",
      "2017-05-15 01:41:33.065293 \t 40000 \t train_39999\n",
      "2017-05-15 01:41:45.582977\n",
      "40479 (40479, 32, 32, 6) (40479, 17)\n"
     ]
    }
   ],
   "source": [
    "trX, trY, i, size = [],[], 0, len(nameList)\n",
    "print(datetime.datetime.now(),len(nameList),size)\n",
    "for nn in nameList[0:size] :\n",
    "    nf = os.path.join(trDirTIF,nn+\".tif\");\n",
    "    nx = formImExt(nf)\n",
    "    if (nx is not None) :\n",
    "        #rr=np.save(os.path.join(trWork,nn+\".npy\"),nx);\n",
    "        #trX.append(nn+\".npy\")\n",
    "        trX.append(nx)\n",
    "        trY.append(True)\n",
    "    else : \n",
    "        trY.append(False)\n",
    "    i += 1\n",
    "    if (i%5000==0) : print(datetime.datetime.now(),\"\\t\",i,\"\\t\",nn)\n",
    "    #print(nn.shape)\n",
    "\n",
    "print(datetime.datetime.now())\n",
    "trX = np.array(trX);\n",
    "trY = labelList[trY];\n",
    "print(len(nameList),trX.shape,trY.shape)\n",
    "#trXY=pd.DataFrame(trY); trXY['name']=trX; trXY.head()\n",
    "#trXY.to_pickle(os.path.join(trWork,\"listFiles.pkl\"))"
   ]
  },
  {
   "cell_type": "code",
   "execution_count": 133,
   "metadata": {
    "collapsed": false,
    "deletable": true,
    "editable": true
   },
   "outputs": [],
   "source": [
    "np.save('../Data-Keras/train-model-2D-1-v2-XX.npy',trX)\n",
    "np.save('../Data-Keras/train-model-2D-1-v2-YY.npy',trY)"
   ]
  },
  {
   "cell_type": "code",
   "execution_count": 271,
   "metadata": {
    "collapsed": false
   },
   "outputs": [],
   "source": [
    "del(trOX); del(trOY);"
   ]
  },
  {
   "cell_type": "code",
   "execution_count": 272,
   "metadata": {
    "collapsed": false,
    "deletable": true,
    "editable": true
   },
   "outputs": [
    {
     "name": "stdout",
     "output_type": "stream",
     "text": [
      "(40479, 32, 32, 6) (40479, 17)\n"
     ]
    }
   ],
   "source": [
    "trX = np.load('../Data-Keras/train-model-2D-1-v2-XX.npy')\n",
    "trY = np.load('../Data-Keras/train-model-2D-1-v2-YY.npy')\n",
    "print(trX.shape,trY.shape)"
   ]
  },
  {
   "cell_type": "code",
   "execution_count": 136,
   "metadata": {
    "collapsed": false,
    "deletable": true,
    "editable": true
   },
   "outputs": [],
   "source": [
    "import keras.backend as K\n",
    "def fbeta_pred(y_true, y_pred, beta=2.0, OK1=0.2, eps=0.000001, printOK=False):\n",
    "    beta2 = beta*beta\n",
    "    yy_true = K.round(y_true)\n",
    "    #yy_pred = K.round(y_pred+(0.5-OK1))\n",
    "    yy_pred = K.round(y_pred)\n",
    "    tp, tp_fp, fn = K.sum((yy_pred*yy_true)), K.sum(yy_true), K.sum((K.abs(yy_pred*(yy_true-1.0))))\n",
    "    precision, recall = tp/(tp_fp+eps), tp/(tp+fn+eps) \n",
    "    fbeta = (1+beta2)*(precision*recall)/(beta2*precision+recall+eps)\n",
    "    ##if fbeta>1.0 : fbeta = 1.0;\n",
    "    if printOK :\n",
    "        print('ten true ',K.get_value(yy_true))\n",
    "        #print('ten pred ',y_pred)\n",
    "        print('ten roun ',K.get_value(yy_pred))\n",
    "        print(' pre=',K.get_value(precision),' recall=',K.get_value(recall),' tp=',\n",
    "              K.get_value(tp),' fn=',K.get_value(fn),' tp+fp=',K.get_value(tp_fp))\n",
    "    return(fbeta)"
   ]
  },
  {
   "cell_type": "code",
   "execution_count": null,
   "metadata": {
    "collapsed": false,
    "deletable": true,
    "editable": true
   },
   "outputs": [],
   "source": []
  },
  {
   "cell_type": "code",
   "execution_count": 378,
   "metadata": {
    "collapsed": false,
    "deletable": true,
    "editable": true
   },
   "outputs": [],
   "source": [
    "#\n",
    "#\n",
    "#\n",
    "\n",
    "f1 = 16 #128\n",
    "\n",
    "i0,i1,i2,i3 = trX.shape\n",
    "rr = trY.shape[1]\n",
    "\n",
    "model = Sequential()\n",
    "model.add(BatchNormalization(input_shape=(i1,i2,i3)))\n",
    "\n",
    "model.add(Convolution2D(f1*2,(3,3)))\n",
    "model.add(Activation('relu'))\n",
    "model.add(MaxPooling2D(pool_size=(2,2)))\n",
    "model.add(Dropout(0.5))\n",
    "\n",
    "model.add(Convolution2D(f1*4,(3,3),activation='relu'))\n",
    "model.add(MaxPooling2D(pool_size=(2,2)))\n",
    "model.add(Dropout(0.5))\n",
    "\n",
    "model.add(Convolution2D(f1*1,(2,2),activation='relu'))\n",
    "model.add(MaxPooling2D(pool_size=(2,2)))\n",
    "model.add(Dropout(0.5))\n",
    "\n",
    "model.add(Flatten())\n",
    "\n",
    "model.add(Dense(f1*16,activation='relu'))\n",
    "model.add(Dropout(0.5))\n",
    "\n",
    "model.add(Dense(f1*32,activation='relu'))\n",
    "model.add(Dropout(0.5))\n",
    "\n",
    "#model.add(Dense(1024,activation='relu'))\n",
    "#model.add(Dropout(0.5))\n",
    "\n",
    "model.add(Dense(rr,activation='sigmoid'))\n",
    "\n",
    "sgd = keras.optimizers.SGD(lr=0.01, decay=1e-6, momentum=0.9, nesterov=True)\n",
    "model.compile(loss='categorical_crossentropy',\n",
    "              optimizer='adam', #sgd, #\"adam\", #'rmsprop',\n",
    "              metrics=['accuracy',fbeta_pred]) #['accuracy'])"
   ]
  },
  {
   "cell_type": "code",
   "execution_count": 379,
   "metadata": {
    "collapsed": false,
    "deletable": true,
    "editable": true
   },
   "outputs": [],
   "source": [
    "# badly don't work: fail customs metric # model=load_model('../Data-Keras/basin02-loop-all.h5') ## verify load from v1 version\n",
    "#model.load_weights('../Data-Keras/train-model-020-1D-2-v2-loop-weights.h5') ## verify load weights from v1 version"
   ]
  },
  {
   "cell_type": "code",
   "execution_count": 380,
   "metadata": {
    "collapsed": false,
    "deletable": true,
    "editable": true
   },
   "outputs": [
    {
     "name": "stdout",
     "output_type": "stream",
     "text": [
      "_________________________________________________________________\n",
      "Layer (type)                 Output Shape              Param #   \n",
      "=================================================================\n",
      "batch_normalization_82 (Batc (None, 32, 32, 6)         24        \n",
      "_________________________________________________________________\n",
      "conv2d_235 (Conv2D)          (None, 30, 30, 32)        1760      \n",
      "_________________________________________________________________\n",
      "activation_80 (Activation)   (None, 30, 30, 32)        0         \n",
      "_________________________________________________________________\n",
      "max_pooling2d_214 (MaxPoolin (None, 15, 15, 32)        0         \n",
      "_________________________________________________________________\n",
      "dropout_313 (Dropout)        (None, 15, 15, 32)        0         \n",
      "_________________________________________________________________\n",
      "conv2d_236 (Conv2D)          (None, 13, 13, 64)        18496     \n",
      "_________________________________________________________________\n",
      "max_pooling2d_215 (MaxPoolin (None, 6, 6, 64)          0         \n",
      "_________________________________________________________________\n",
      "dropout_314 (Dropout)        (None, 6, 6, 64)          0         \n",
      "_________________________________________________________________\n",
      "conv2d_237 (Conv2D)          (None, 5, 5, 16)          4112      \n",
      "_________________________________________________________________\n",
      "max_pooling2d_216 (MaxPoolin (None, 2, 2, 16)          0         \n",
      "_________________________________________________________________\n",
      "dropout_315 (Dropout)        (None, 2, 2, 16)          0         \n",
      "_________________________________________________________________\n",
      "flatten_49 (Flatten)         (None, 64)                0         \n",
      "_________________________________________________________________\n",
      "dense_159 (Dense)            (None, 256)               16640     \n",
      "_________________________________________________________________\n",
      "dropout_316 (Dropout)        (None, 256)               0         \n",
      "_________________________________________________________________\n",
      "dense_160 (Dense)            (None, 512)               131584    \n",
      "_________________________________________________________________\n",
      "dropout_317 (Dropout)        (None, 512)               0         \n",
      "_________________________________________________________________\n",
      "dense_161 (Dense)            (None, 17)                8721      \n",
      "=================================================================\n",
      "Total params: 181,337\n",
      "Trainable params: 181,325\n",
      "Non-trainable params: 12\n",
      "_________________________________________________________________\n"
     ]
    }
   ],
   "source": [
    "model.summary()"
   ]
  },
  {
   "cell_type": "code",
   "execution_count": 383,
   "metadata": {
    "collapsed": false,
    "deletable": true,
    "editable": true
   },
   "outputs": [
    {
     "name": "stdout",
     "output_type": "stream",
     "text": [
      "time.begin : 2017-05-15 11:57:01.168556\n",
      "Train on 32383 samples, validate on 8096 samples\n",
      "Epoch 1/70\n",
      "5s - loss: 4.7396 - acc: 0.8169 - fbeta_pred: 0.8408 - val_loss: 4.7182 - val_acc: 0.8441 - val_fbeta_pred: 0.8528\n",
      "Epoch 2/70\n",
      "5s - loss: 4.7440 - acc: 0.8093 - fbeta_pred: 0.8401 - val_loss: 4.7071 - val_acc: 0.8560 - val_fbeta_pred: 0.8580\n",
      "Epoch 3/70\n",
      "5s - loss: 4.7439 - acc: 0.8086 - fbeta_pred: 0.8400 - val_loss: 4.6914 - val_acc: 0.8488 - val_fbeta_pred: 0.8575\n",
      "Epoch 4/70\n",
      "5s - loss: 4.7403 - acc: 0.8135 - fbeta_pred: 0.8395 - val_loss: 4.6608 - val_acc: 0.8617 - val_fbeta_pred: 0.8576\n",
      "Epoch 5/70\n",
      "5s - loss: 4.7336 - acc: 0.8143 - fbeta_pred: 0.8393 - val_loss: 4.7031 - val_acc: 0.8391 - val_fbeta_pred: 0.8582\n",
      "Epoch 6/70\n",
      "5s - loss: 4.7277 - acc: 0.8116 - fbeta_pred: 0.8397 - val_loss: 4.6784 - val_acc: 0.8486 - val_fbeta_pred: 0.8568\n",
      "Epoch 7/70\n",
      "5s - loss: 4.7243 - acc: 0.8160 - fbeta_pred: 0.8413 - val_loss: 4.6880 - val_acc: 0.8256 - val_fbeta_pred: 0.8574\n",
      "Epoch 8/70\n",
      "5s - loss: 4.7373 - acc: 0.8037 - fbeta_pred: 0.8386 - val_loss: 4.6600 - val_acc: 0.8384 - val_fbeta_pred: 0.8563\n",
      "Epoch 9/70\n",
      "5s - loss: 4.7253 - acc: 0.8066 - fbeta_pred: 0.8426 - val_loss: 4.6738 - val_acc: 0.8342 - val_fbeta_pred: 0.8552\n",
      "Epoch 10/70\n",
      "5s - loss: 4.7297 - acc: 0.8132 - fbeta_pred: 0.8408 - val_loss: 4.6838 - val_acc: 0.8394 - val_fbeta_pred: 0.8643\n",
      "Epoch 11/70\n",
      "5s - loss: 4.7174 - acc: 0.8110 - fbeta_pred: 0.8415 - val_loss: 4.6636 - val_acc: 0.8483 - val_fbeta_pred: 0.8627\n",
      "Epoch 12/70\n",
      "4s - loss: 4.7190 - acc: 0.8105 - fbeta_pred: 0.8405 - val_loss: 4.6784 - val_acc: 0.8396 - val_fbeta_pred: 0.8643\n",
      "Epoch 13/70\n",
      "4s - loss: 4.7203 - acc: 0.8101 - fbeta_pred: 0.8419 - val_loss: 4.6545 - val_acc: 0.8371 - val_fbeta_pred: 0.8578\n",
      "Epoch 14/70\n",
      "5s - loss: 4.7139 - acc: 0.8065 - fbeta_pred: 0.8419 - val_loss: 4.6766 - val_acc: 0.8449 - val_fbeta_pred: 0.8597\n",
      "Epoch 15/70\n",
      "5s - loss: 4.7176 - acc: 0.8089 - fbeta_pred: 0.8420 - val_loss: 4.6722 - val_acc: 0.8382 - val_fbeta_pred: 0.8602\n",
      "Epoch 16/70\n",
      "5s - loss: 4.7145 - acc: 0.8070 - fbeta_pred: 0.8425 - val_loss: 4.6943 - val_acc: 0.8340 - val_fbeta_pred: 0.8618\n",
      "Epoch 17/70\n",
      "5s - loss: 4.7264 - acc: 0.8072 - fbeta_pred: 0.8405 - val_loss: 4.6950 - val_acc: 0.8402 - val_fbeta_pred: 0.8609\n",
      "Epoch 18/70\n",
      "5s - loss: 4.7176 - acc: 0.8139 - fbeta_pred: 0.8422 - val_loss: 4.6730 - val_acc: 0.8315 - val_fbeta_pred: 0.8634\n",
      "Epoch 19/70\n",
      "5s - loss: 4.7184 - acc: 0.8105 - fbeta_pred: 0.8424 - val_loss: 4.6716 - val_acc: 0.8373 - val_fbeta_pred: 0.8622\n",
      "Epoch 20/70\n",
      "5s - loss: 4.7111 - acc: 0.8168 - fbeta_pred: 0.8433 - val_loss: 4.6609 - val_acc: 0.8273 - val_fbeta_pred: 0.8548\n",
      "time.end   : 2017-05-15 11:58:43.979460\n"
     ]
    }
   ],
   "source": [
    "print('time.begin :',datetime.datetime.now())\n",
    "#hist_old=hist.history\n",
    "early_stopping = EarlyStopping(monitor='val_loss', patience=6)\n",
    "hist = model.fit(trX,trY,\n",
    "         epochs=70, #10,\n",
    "         batch_size=256,\n",
    "         validation_split=0.20,\n",
    "         callbacks=[early_stopping],\n",
    "         #class_weight=rrd,\n",
    "         verbose=2\n",
    "         )\n",
    "        #samples_per_epoch=200)\n",
    "        #validation_data=validation_generator,\n",
    "        #initial_epoch=start,\n",
    "        #nb_val_samples=2048\n",
    "         #)\n",
    "print('time.end   :',datetime.datetime.now())"
   ]
  },
  {
   "cell_type": "code",
   "execution_count": null,
   "metadata": {
    "collapsed": true,
    "deletable": true,
    "editable": true
   },
   "outputs": [],
   "source": []
  },
  {
   "cell_type": "code",
   "execution_count": 251,
   "metadata": {
    "collapsed": false,
    "deletable": true,
    "editable": true
   },
   "outputs": [],
   "source": [
    "save_model(model,'../Data-Keras/train-model-2D-1-v2-all.h5')\n",
    "model.save_weights('../Data-Keras/train-model-2D-1-v2-weights.h5')  # save weights after training"
   ]
  },
  {
   "cell_type": "code",
   "execution_count": 384,
   "metadata": {
    "collapsed": false,
    "deletable": true,
    "editable": true
   },
   "outputs": [
    {
     "name": "stdout",
     "output_type": "stream",
     "text": [
      "[4.6345633085856761, 0.82366165167941574, 0.85700816924123357]\n",
      "(40479, 17)\n",
      "(40479, 17)\n",
      "fbeta_score= 0.867975221141\n",
      "fbeta_pred = 0.856531116561\n"
     ]
    }
   ],
   "source": [
    "print(model.evaluate(trX,trY,verbose=2))\n",
    "trP = model.predict(trX, batch_size=128)\n",
    "print(trY.shape)\n",
    "print(trP.shape)\n",
    "print('fbeta_score=',fbeta_score(trY, np.array(trP) > 0.2, beta=2, average='samples'))\n",
    "print('fbeta_pred =',K.get_value(fbeta_pred(trY.astype(np.float64),trP.astype(np.float64))))"
   ]
  },
  {
   "cell_type": "code",
   "execution_count": 382,
   "metadata": {
    "collapsed": false
   },
   "outputs": [
    {
     "name": "stdout",
     "output_type": "stream",
     "text": [
      "[4.6742108902525636, 0.85839571131527637, 0.85908137140056351]\n",
      "(40479, 17)\n",
      "(40479, 17)\n",
      "fbeta_score= 0.863887622019\n",
      "fbeta_pred = 0.858697291989\n"
     ]
    }
   ],
   "source": [
    "print(model.evaluate(trX,trY,verbose=2))\n",
    "trP = model.predict(trX, batch_size=512)\n",
    "print(trY.shape)\n",
    "print(trP.shape)\n",
    "print('fbeta_score=',fbeta_score(trY, np.array(trP) > 0.2, beta=2, average='samples'))\n",
    "print('fbeta_pred =',K.get_value(fbeta_pred(trY.astype(np.float64),trP.astype(np.float64))))"
   ]
  },
  {
   "cell_type": "code",
   "execution_count": 286,
   "metadata": {
    "collapsed": false,
    "deletable": true,
    "editable": true
   },
   "outputs": [],
   "source": [
    "#hist_old=hist.history"
   ]
  },
  {
   "cell_type": "code",
   "execution_count": null,
   "metadata": {
    "collapsed": true,
    "deletable": true,
    "editable": true
   },
   "outputs": [],
   "source": []
  },
  {
   "cell_type": "code",
   "execution_count": 48,
   "metadata": {
    "collapsed": false,
    "deletable": true,
    "editable": true
   },
   "outputs": [
    {
     "name": "stdout",
     "output_type": "stream",
     "text": [
      "time.begin : 2017-05-15 01:58:40.818427\n",
      "2017-05-15 01:58:43.986029 0 0.868059261389 [4.6235675547191812, 0.85972495279769423]\n",
      "2017-05-15 01:59:55.872659 0 0.867757843378 ( 0.868059261389 ) [4.634846947510554, 0.85930002745810685]\n",
      "2017-05-15 02:01:07.827121 1 0.865095514463 ( 0.868059261389 ) [4.6301586407264432, 0.86307829108238576]\n",
      "2017-05-15 02:02:20.435411 2 0.872059892074 ( 0.868059261389 ) [4.5869103705371481, 0.86574812870481044]\n",
      "2017-05-15 02:03:32.269407 3 0.87089557615 ( 0.872059892074 ) [4.592559225000457, 0.86118734666265084]\n",
      "2017-05-15 02:04:44.437900 4 0.865811295641 ( 0.872059892074 ) [4.6107854238361377, 0.86119799125206031]\n",
      "2017-05-15 02:05:56.442050 5 0.874604359252 ( 0.872059892074 ) [4.5657333543629939, 0.86629773470431837]\n",
      "2017-05-15 02:07:08.406273 6 0.874211744714 ( 0.872059892074 ) [4.5562372201987262, 0.86594739223163253]\n",
      "2017-05-15 02:08:19.845920 7 0.86667917166 ( 0.872059892074 ) [4.580335893008769, 0.86347966977631663]\n",
      "2017-05-15 02:09:32.147029 8 0.86713749703 ( 0.872059892074 ) [4.5918868822278576, 0.86619631708685785]\n",
      "2017-05-15 02:10:44.621367 9 0.870717573779 ( 0.872059892074 ) [4.5937136134339394, 0.8655040447836635]\n",
      "time.end   : 2017-05-15 02:10:48.417118\n"
     ]
    }
   ],
   "source": [
    "print('time.begin :',datetime.datetime.now())\n",
    "beta_old = 0.0\n",
    "trP = model.predict(trX, batch_size=512)\n",
    "beta_old = fbeta_score(trY, np.array(trP) > 0.2, beta=2, average='samples')\n",
    "print(datetime.datetime.now(),0,beta_old,model.evaluate(trX,trY,verbose=2))\n",
    "for i in range(10) :\n",
    "    model.fit(trX,trY,\n",
    "             nb_epoch=10,\n",
    "             batch_size=128,\n",
    "             validation_split=0.20,\n",
    "             verbose=0\n",
    "             )\n",
    "    trP = model.predict(trX, batch_size=512)\n",
    "    beta_new = fbeta_score(trY, np.array(trP) > 0.2, beta=2, average='samples')\n",
    "    print(datetime.datetime.now(),i,beta_new,\"(\",beta_old,\")\",model.evaluate(trX,trY,verbose=2))\n",
    "    if ((beta_old+0.003)<beta_new) :\n",
    "        save_model(model,'../Data-Keras/train-model-2D-1-v2-loop-all.h5')\n",
    "        model.save_weights('../Data-Keras/train-model-2D-1-v2-loop-weights.h5')  # save weights after training\n",
    "        beta_old = beta_new\n",
    "print('time.end   :',datetime.datetime.now())"
   ]
  },
  {
   "cell_type": "code",
   "execution_count": null,
   "metadata": {
    "collapsed": false,
    "deletable": true,
    "editable": true
   },
   "outputs": [],
   "source": []
  },
  {
   "cell_type": "code",
   "execution_count": 252,
   "metadata": {
    "collapsed": false,
    "deletable": true,
    "editable": true
   },
   "outputs": [
    {
     "name": "stdout",
     "output_type": "stream",
     "text": [
      "2017-05-15 07:45:16.245791 0 --> 67 0.703723037192 [0.70136893207458639, 0.70372303719187324, 0.70255697093345204]\n",
      "2017-05-15 07:48:05.845385 1 --> 74 0.980069323901 [0.97993962183479821, 0.98006932390084267, 0.97997932676465371]\n",
      "2017-05-15 07:51:03.555375 2 --> 60 0.830832805721 [0.83066919227432678, 0.83083280572116081, 0.83012642884749333]\n",
      "2017-05-15 07:54:07.692849 3 --> 73 0.95596621068 [0.95530247952573877, 0.9559662106804423, 0.95587193006934856]\n",
      "2017-05-15 07:57:17.654396 4 --> 37 0.771627389839 [0.77128836874582085, 0.77162738983933221, 0.77157084802598352]\n",
      "2017-05-15 08:00:35.571387 5 --> 28 0.612647945213 [0.6089740900094327, 0.61264794521337496, 0.60631829415658134]\n",
      "2017-05-15 08:04:02.404595 6 --> 40 0.711618933993 [0.70809511238058165, 0.71161893399277543, 0.71149522396880938]\n",
      "2017-05-15 08:07:36.162990 7 --> 38 0.549023191429 [0.54805400909065172, 0.54902319142904643, 0.54874345592600848]\n",
      "2017-05-15 08:11:16.278601 8 --> 20 0.24951985087 [0.24604540154654581, 0.24951985087034834, 0.23326541244809568]\n",
      "2017-05-15 08:15:03.688871 9 --> 75 0.807659543767 [0.80664200796933339, 0.80765954376652815, 0.80544293900478359]\n",
      "2017-05-15 08:18:54.332631 10 --> 39 0.89400227749 [0.89367143664096893, 0.89400227748987626, 0.89355103407464842]\n",
      "2017-05-15 08:22:48.890322 11 --> 23 0.353260549829 [0.33163233223165617, 0.35326054982895766, 0.33333301543238353]\n",
      "2017-05-15 08:26:51.878065 12 --> 19 0.305239533004 [0.30279133950534243, 0.30523953300436946, 0.30437165965154667]\n",
      "2017-05-15 08:31:04.785543 13 --> 36 0.794424858804 [0.79381420688000048, 0.79442485880374014, 0.79151920410799548]\n",
      "2017-05-15 08:35:25.473228 14 --> 8 0.154155279206 [0.14412979899974701, 0.15415527920611241, 0.1355929670214423]\n",
      "2017-05-15 08:39:54.478940 15 --> 30 0.266322764441 [0.25244274544714956, 0.26632276444121183, 0.26433665157607383]\n",
      "2017-05-15 08:44:30.492999 16 --> 5 0.0826443251838 [0.054200397691350675, 0.082644325183804948, 0.045454421901120562]\n"
     ]
    }
   ],
   "source": [
    "rr, rrx = [], []; trP = model.predict(trX, batch_size=512)\n",
    "for i in range(trP.shape[1]) :\n",
    "    xx = [];\n",
    "    trYY = trY[:,i].astype(np.float64)\n",
    "    trPY = trP[:,i]\n",
    "    for ii in range(100) :\n",
    "        trPP = (trPY>0.01*ii).astype(np.float64)\n",
    "        #x = fbeta_score(trY[:,0], np.array(trP[:,0] > 0.1*ii), beta=2, average='samples')\n",
    "        x = K.get_value(fbeta_pred(trYY,trPP))\n",
    "        xx.append(x)\n",
    "    rrr = np.array(xx).argmax();\n",
    "    rr.append(rrr)\n",
    "    rrx.append(xx[rrr])\n",
    "    print(datetime.datetime.now(),i,'-->',rrr,xx[rrr],xx[(rrr-1):(rrr+2)])\n",
    "    #print(xx);\n",
    "    #plt.plot(np.array(xx)); plt.show()\n",
    "trM = np.array(rr)/100.0;"
   ]
  },
  {
   "cell_type": "code",
   "execution_count": 253,
   "metadata": {
    "collapsed": false,
    "deletable": true,
    "editable": true
   },
   "outputs": [
    {
     "name": "stdout",
     "output_type": "stream",
     "text": [
      "[ 0.67  0.74  0.6   0.73  0.37  0.28  0.4   0.38  0.2   0.75  0.39  0.23\n",
      "  0.19  0.36  0.08  0.3   0.05] \n",
      " ['haze' 'primary' 'agriculture' 'clear' 'water' 'habitation' 'road'\n",
      " 'cultivation' 'slash_burn' 'cloudy' 'partly_cloudy' 'conventional_mine'\n",
      " 'bare_ground' 'artisinal_mine' 'blooming' 'selective_logging' 'blow_down'] \n",
      " [0.70372303719187324, 0.98006932390084267, 0.83083280572116081, 0.9559662106804423, 0.77162738983933221, 0.61264794521337496, 0.71161893399277543, 0.54902319142904643, 0.24951985087034834, 0.80765954376652815, 0.89400227748987626, 0.35326054982895766, 0.30523953300436946, 0.79442485880374014, 0.15415527920611241, 0.26632276444121183, 0.082644325183804948] \n",
      " 0.589572812974\n"
     ]
    }
   ],
   "source": [
    "print(trM,'\\n',np.array(labels),'\\n',rrx,'\\n',(np.array(rrx)).mean())"
   ]
  },
  {
   "cell_type": "code",
   "execution_count": 69,
   "metadata": {
    "collapsed": false,
    "deletable": true,
    "editable": true
   },
   "outputs": [
    {
     "name": "stdout",
     "output_type": "stream",
     "text": [
      "[ 0.64  0.84  0.67  0.92  0.47  0.42  0.57  0.45  0.21  0.98  0.6   0.15\n",
      "  0.33  0.46  0.05  0.18  0.05] \n",
      " ['haze' 'primary' 'agriculture' 'clear' 'water' 'habitation' 'road'\n",
      " 'cultivation' 'slash_burn' 'cloudy' 'partly_cloudy' 'conventional_mine'\n",
      " 'bare_ground' 'artisinal_mine' 'blooming' 'selective_logging' 'blow_down'] \n",
      " [0.69066801422279211, 0.98119478181654729, 0.81726124420066348, 0.95900718919257255, 0.78940066739193948, 0.5789222121703973, 0.70371154814742987, 0.56662533268054449, 0.25948073141178507, 0.78421972946080287, 0.91042787787543189, 0.25862037752711825, 0.29865100169393016, 0.75683228670815861, 0.10067083166393269, 0.23247956280989218, 0.176990839533778] \n",
      " 0.580303778148\n"
     ]
    }
   ],
   "source": [
    "print(trM,'\\n',np.array(labels),'\\n',rrx,'\\n',(np.array(rrx)).mean())"
   ]
  },
  {
   "cell_type": "code",
   "execution_count": 254,
   "metadata": {
    "collapsed": false,
    "deletable": true,
    "editable": true
   },
   "outputs": [],
   "source": [
    "save_model(model,  '../Data-Keras/train-model-020-1D-2-v2-loop-all.h5')\n",
    "model.save_weights('../Data-Keras/train-model-020-1D-2-v2-loop-weights.h5')  # save weights after training"
   ]
  },
  {
   "cell_type": "code",
   "execution_count": null,
   "metadata": {
    "collapsed": false,
    "deletable": true,
    "editable": true
   },
   "outputs": [],
   "source": []
  },
  {
   "cell_type": "code",
   "execution_count": 255,
   "metadata": {
    "collapsed": false
   },
   "outputs": [],
   "source": [
    "# Forming output dataset for predicting --> trOX, trOY\n",
    "del(trX)\n",
    "del(trY)"
   ]
  },
  {
   "cell_type": "code",
   "execution_count": 116,
   "metadata": {
    "collapsed": false,
    "deletable": true,
    "editable": true
   },
   "outputs": [
    {
     "name": "stdout",
     "output_type": "stream",
     "text": [
      "61191\n",
      "2017-05-15 03:41:31.480157 40479 61191\n",
      "2017-05-15 03:44:42.278867 \t 5000 \t test_15649.tif\n",
      "2017-05-15 03:47:38.148162 \t 10000 \t test_32423.tif\n",
      "2017-05-15 03:50:30.404013 \t 15000 \t test_36264.tif\n",
      "2017-05-15 03:53:15.246494 \t 20000 \t test_10894.tif\n",
      "2017-05-15 03:56:02.300335 \t 25000 \t file_9502.tif\n",
      "2017-05-15 03:58:41.448958 \t 30000 \t file_14128.tif\n",
      "2017-05-15 04:01:16.200243 \t 35000 \t file_17389.tif\n",
      "2017-05-15 04:03:46.526075 \t 40000 \t test_19356.tif\n",
      "2017-05-15 04:06:14.270358 \t 45000 \t test_10134.tif\n",
      "2017-05-15 04:08:39.599717 \t 50000 \t test_24243.tif\n",
      "2017-05-15 04:11:03.067190 \t 55000 \t test_7049.tif\n",
      "2017-05-15 04:13:24.769720 \t 60000 \t file_10482.tif\n",
      "2017-05-15 04:13:56.596995\n"
     ]
    }
   ],
   "source": [
    "nameAsk = os.listdir(teDirI); print(len(nameAsk))\n",
    "trOX, trOY, i, size = [], [], 0, len(nameAsk)\n",
    "print(datetime.datetime.now(),len(nameList),size)\n",
    "for nn in nameAsk[0:size] :\n",
    "    nf = os.path.join(teDirTIF,nn);\n",
    "    nx = formImExt(nf)\n",
    "    if (nx is not None) :\n",
    "        trOX.append(nx)\n",
    "        trOY.append(nn)\n",
    "    i += 1\n",
    "    if (i%5000==0) : print(datetime.datetime.now(),\"\\t\",i,\"\\t\",nn)\n",
    "\n",
    "print(datetime.datetime.now())\n",
    "\n",
    "#assert (size!=len(trOY)), \"Wrong files {} != {}\".format(size,len(trOY))"
   ]
  },
  {
   "cell_type": "code",
   "execution_count": 117,
   "metadata": {
    "collapsed": false,
    "deletable": true,
    "editable": true
   },
   "outputs": [
    {
     "name": "stdout",
     "output_type": "stream",
     "text": [
      "61191 (61191, 32, 32, 6) (61191,)\n"
     ]
    }
   ],
   "source": [
    "trOX = np.array(trOX);\n",
    "trOY = np.array([os.path.splitext(x)[0] for x in trOY]);\n",
    "print(len(nameAsk),trOX.shape,trOY.shape)"
   ]
  },
  {
   "cell_type": "code",
   "execution_count": null,
   "metadata": {
    "collapsed": true
   },
   "outputs": [],
   "source": []
  },
  {
   "cell_type": "code",
   "execution_count": null,
   "metadata": {
    "collapsed": true
   },
   "outputs": [],
   "source": [
    "# Saving & Loading"
   ]
  },
  {
   "cell_type": "code",
   "execution_count": 118,
   "metadata": {
    "collapsed": false,
    "deletable": true,
    "editable": true
   },
   "outputs": [],
   "source": [
    "np.save('../Data-Keras/test-basin-2D-1-OX-tif-v2.npy',trOX)\n",
    "np.save('../Data-Keras/test-basin-2D-1-OY-tif-v2.npy',trOY)"
   ]
  },
  {
   "cell_type": "code",
   "execution_count": 256,
   "metadata": {
    "collapsed": false,
    "deletable": true,
    "editable": true
   },
   "outputs": [
    {
     "name": "stdout",
     "output_type": "stream",
     "text": [
      "(61191, 32, 32, 6) (61191,)\n"
     ]
    }
   ],
   "source": [
    "trOX = np.load('../Data-Keras/test-basin-2D-1-OX-tif-v2.npy')\n",
    "trOY = np.load('../Data-Keras/test-basin-2D-1-OY-tif-v2.npy')\n",
    "print(trOX.shape,trOY.shape)"
   ]
  },
  {
   "cell_type": "code",
   "execution_count": 299,
   "metadata": {
    "collapsed": false
   },
   "outputs": [
    {
     "data": {
      "text/plain": [
       "{0: 0.70372303719187324,\n",
       " 1: 0.98006932390084267,\n",
       " 2: 0.83083280572116081,\n",
       " 3: 0.9559662106804423,\n",
       " 4: 0.77162738983933221,\n",
       " 5: 0.61264794521337496,\n",
       " 6: 0.71161893399277543,\n",
       " 7: 0.54902319142904643,\n",
       " 8: 0.24951985087034834,\n",
       " 9: 0.80765954376652815,\n",
       " 10: 0.89400227748987626,\n",
       " 11: 0.35326054982895766,\n",
       " 12: 0.30523953300436946,\n",
       " 13: 0.79442485880374014,\n",
       " 14: 0.15415527920611241,\n",
       " 15: 0.26632276444121183,\n",
       " 16: 0.082644325183804948}"
      ]
     },
     "execution_count": 299,
     "metadata": {},
     "output_type": "execute_result"
    }
   ],
   "source": [
    "rrx\n",
    "rrd=dict()\n",
    "for i in range(len(rrx)) :\n",
    "    rrd[i]=rrx[i]\n",
    "rrd"
   ]
  },
  {
   "cell_type": "code",
   "execution_count": 258,
   "metadata": {
    "collapsed": true
   },
   "outputs": [],
   "source": [
    "#Forming result"
   ]
  },
  {
   "cell_type": "code",
   "execution_count": 259,
   "metadata": {
    "collapsed": false,
    "deletable": true,
    "editable": true
   },
   "outputs": [
    {
     "data": {
      "text/plain": [
       "((61191, 17), array([  1.46869652e-03,   9.64985669e-01,   7.70781562e-02,\n",
       "          9.77790236e-01,   2.70418115e-02,   1.69180930e-02,\n",
       "          5.05456179e-02,   5.71896248e-02,   1.83331454e-03,\n",
       "          3.65140040e-05,   1.05813965e-02,   1.99320290e-04,\n",
       "          4.12476948e-03,   1.75126974e-04,   5.55149131e-02,\n",
       "          3.70361358e-02,   1.88797619e-02], dtype=float32))"
      ]
     },
     "execution_count": 259,
     "metadata": {},
     "output_type": "execute_result"
    }
   ],
   "source": [
    "trP = model.predict(trOX, batch_size=512); \n",
    "trP.shape, trP[-1]"
   ]
  },
  {
   "cell_type": "code",
   "execution_count": 264,
   "metadata": {
    "collapsed": false,
    "deletable": true,
    "editable": true
   },
   "outputs": [
    {
     "name": "stdout",
     "output_type": "stream",
     "text": [
      "[3, 10, 0, 9] \n",
      " ['haze', 'primary', 'agriculture', 'clear', 'water', 'habitation', 'road', 'cultivation', 'slash_burn', 'cloudy', 'partly_cloudy', 'conventional_mine', 'bare_ground', 'artisinal_mine', 'blooming', 'selective_logging', 'blow_down'] \n",
      " [2.0, 0.5, 0.5, 2.0, 0.5, 0.5, 0.5, 0.5, 0.5, 2.0, 2.0, 0.5, 0.5, 0.5, 0.5, 0.5, 0.5]\n"
     ]
    }
   ],
   "source": [
    "wr = [labels.index(i) for i in weather_labels];\n",
    "tt=trM; trM[:]=0.5\n",
    "trM[np.array(wr)] = 2.0\n",
    "print(wr,'\\n',labels,'\\n',trM.tolist())"
   ]
  },
  {
   "cell_type": "code",
   "execution_count": null,
   "metadata": {
    "collapsed": true,
    "deletable": true,
    "editable": true
   },
   "outputs": [],
   "source": []
  },
  {
   "cell_type": "code",
   "execution_count": 265,
   "metadata": {
    "collapsed": false
   },
   "outputs": [
    {
     "name": "stdout",
     "output_type": "stream",
     "text": [
      "['test_0', 'clear primary'] \n",
      " ['file_20521', 'clear primary agriculture road'] \n",
      " [ 2.   0.5  0.5  2.   0.5  0.5  0.5  0.5  0.5  2.   2.   0.5  0.5  0.5  0.5\n",
      "  0.5  0.5] [  2.30056117e-03   9.73957717e-01   8.39306936e-02   9.71860170e-01\n",
      "   2.08349116e-02   9.18622222e-03   1.85964033e-02   7.12633952e-02\n",
      "   1.22199464e-03   2.84445232e-05   1.36020519e-02   6.96538264e-05\n",
      "   2.33253231e-03   4.05052924e-05   1.38023859e-02   7.90917687e-03\n",
      "   8.49764794e-03]\n"
     ]
    }
   ],
   "source": [
    "#trP = model.predict(trX, batch_size=512); trP=K.get_value(trP)\n",
    "res = []\n",
    "\n",
    "for i in range(trP.shape[0]) :\n",
    "    trPP = [weather_labels[trP[i,wr].argmax()]] + [labels[ii] for ii in range(len(labels)) if (trP[i,ii]>trM[ii])];\n",
    "    pp   = ' '.join(trPP)\n",
    "    ##if (pp==\"\") : print(trY[i])\n",
    "    res.append([trOY[i],pp])\n",
    "\n",
    "res.sort(cmp=lambda x,y: cmp(int(x[0].partition('_')[2]),int(y[0].partition('_')[2])) if (x[0].partition('_')[0]==y[0].partition('_')[0]) else cmp(y[0].partition('_')[0],x[0].partition('_')[0]))\n",
    "#print(res[4:8],'\\n',res[-4:])\n",
    "print(res[0],'\\n',res[-1],'\\n',trM,trP[0])"
   ]
  },
  {
   "cell_type": "code",
   "execution_count": null,
   "metadata": {
    "collapsed": true
   },
   "outputs": [],
   "source": []
  },
  {
   "cell_type": "code",
   "execution_count": 266,
   "metadata": {
    "collapsed": false,
    "deletable": true,
    "editable": true
   },
   "outputs": [
    {
     "name": "stdout",
     "output_type": "stream",
     "text": [
      "['haze', 'primary', 'agriculture', 'clear', 'water', 'habitation', 'road', 'cultivation', 'slash_burn', 'cloudy', 'partly_cloudy', 'conventional_mine', 'bare_ground', 'artisinal_mine', 'blooming', 'selective_logging', 'blow_down']\n",
      "[2.0, 0.5, 0.5, 2.0, 0.5, 0.5, 0.5, 0.5, 0.5, 2.0, 2.0, 0.5, 0.5, 0.5, 0.5, 0.5, 0.5]\n"
     ]
    },
    {
     "data": {
      "text/plain": [
       "array([[ 0.,  1.,  0.,  0.,  0.,  0.,  0.,  0.,  0.,  0.,  1.,  0.,  0.,\n",
       "         0.,  0.,  0.,  0.],\n",
       "       [ 0.,  1.,  1.,  1.,  0.,  0.,  0.,  0.,  0.,  0.,  0.,  0.,  0.,\n",
       "         0.,  0.,  0.,  0.],\n",
       "       [ 0.,  1.,  1.,  1.,  0.,  0.,  0.,  0.,  0.,  0.,  0.,  0.,  0.,\n",
       "         0.,  0.,  0.,  0.],\n",
       "       [ 0.,  1.,  0.,  1.,  0.,  0.,  0.,  0.,  0.,  0.,  0.,  0.,  0.,\n",
       "         0.,  0.,  0.,  0.],\n",
       "       [ 0.,  1.,  0.,  1.,  0.,  0.,  0.,  0.,  0.,  0.,  0.,  0.,  0.,\n",
       "         0.,  0.,  0.,  0.],\n",
       "       [ 0.,  1.,  0.,  1.,  0.,  0.,  0.,  0.,  0.,  0.,  0.,  0.,  0.,\n",
       "         0.,  0.,  0.,  0.],\n",
       "       [ 0.,  1.,  1.,  1.,  0.,  0.,  1.,  0.,  0.,  0.,  0.,  0.,  0.,\n",
       "         0.,  0.,  0.,  0.]], dtype=float32)"
      ]
     },
     "execution_count": 266,
     "metadata": {},
     "output_type": "execute_result"
    }
   ],
   "source": [
    "print(labels)\n",
    "print(trM.tolist())\n",
    "np.round(trP[4:11,:])"
   ]
  },
  {
   "cell_type": "code",
   "execution_count": 267,
   "metadata": {
    "collapsed": false
   },
   "outputs": [
    {
     "name": "stdout",
     "output_type": "stream",
     "text": [
      "2017-05-15-08-57-44\n"
     ]
    }
   ],
   "source": [
    "rrr=pd.DataFrame(res,columns=['image_name','tags']); rrr.head(); \n",
    "suffixDT = (datetime.datetime.now()).strftime('%Y-%m-%d-%H-%M-%S'); print(suffixDT)\n",
    "rrr.to_csv('../Result/vss'+suffixDT+'.csv',index=False);"
   ]
  },
  {
   "cell_type": "code",
   "execution_count": null,
   "metadata": {
    "collapsed": true
   },
   "outputs": [],
   "source": []
  }
 ],
 "metadata": {
  "kernelspec": {
   "display_name": "Python 2",
   "language": "python",
   "name": "python2"
  },
  "language_info": {
   "codemirror_mode": {
    "name": "ipython",
    "version": 2
   },
   "file_extension": ".py",
   "mimetype": "text/x-python",
   "name": "python",
   "nbconvert_exporter": "python",
   "pygments_lexer": "ipython2",
   "version": "2.7.13"
  }
 },
 "nbformat": 4,
 "nbformat_minor": 2
}
